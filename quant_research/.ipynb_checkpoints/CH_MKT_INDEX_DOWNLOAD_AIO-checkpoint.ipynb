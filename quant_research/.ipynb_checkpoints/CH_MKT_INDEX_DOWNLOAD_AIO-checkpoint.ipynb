{
 "cells": [
  {
   "cell_type": "code",
   "execution_count": 1,
   "metadata": {},
   "outputs": [],
   "source": [
    "import pandas as pd, numpy as np\n",
    "from datetime import datetime\n",
    "pd.set_option('max_colwidth',200)\n",
    "# import yfinance as yf\n",
    "import tushare as ts\n",
    "ts.set_token('2f31c3932ead9fcc3830879132cc3ec8df3566550f711889d4a30f67')\n",
    "import time, urllib\n",
    "import glob\n",
    "import os"
   ]
  },
  {
   "cell_type": "markdown",
   "metadata": {},
   "source": [
    "https://tushare.pro/document/2?doc_id=95"
   ]
  },
  {
   "cell_type": "code",
   "execution_count": 3,
   "metadata": {},
   "outputs": [],
   "source": [
    "# df = pro.index_daily(ts_code='399300.SZ', start_date='20180101', end_date='20181010')\n",
    "data_folder = \"/Users/miaoyuesun/Code_Workspace/brad_public_workspace_mac/data/CH_database/\""
   ]
  },
  {
   "cell_type": "markdown",
   "metadata": {},
   "source": [
    "# 上证指数"
   ]
  },
  {
   "cell_type": "code",
   "execution_count": 2,
   "metadata": {},
   "outputs": [],
   "source": [
    "def get_page(url):  #获取页面数据\n",
    "    req=urllib.request.Request(url,headers={\n",
    "        'Connection': 'Keep-Alive',\n",
    "        'Accept': 'text/html, application/xhtml+xml, */*',\n",
    "        'Accept-Language':'zh-CN,zh;q=0.8',\n",
    "        'User-Agent': 'Mozilla/5.0 (Windows NT 6.3; WOW64; Trident/7.0; rv:11.0) like Gecko'\n",
    "    })\n",
    "    opener=urllib.request.urlopen(req)\n",
    "    page=opener.read()\n",
    "    return page\n",
    "\n",
    "def get_index_history_byNetease(index_temp):\n",
    "    \"\"\"\n",
    "    :param index_temp: for example, 'sh000001' 上证指数\n",
    "    :return:\n",
    "    \"\"\"\n",
    "    index_type=index_temp[0:2]\n",
    "    index_id=index_temp[2:]\n",
    "    if index_type=='sh':\n",
    "        index_id='0'+index_id\n",
    "    if index_type==\"sz\":\n",
    "        index_id='1'+index_id\n",
    "    url='http://quotes.money.163.com/service/chddata.html?code=%s&start=19900101&end=%s&fields=TCLOSE;HIGH;LOW;TOPEN;LCLOSE;CHG;PCHG;VOTURNOVER;VATURNOVER'%(index_id,time.strftime(\"%Y%m%d\"))\n",
    "\n",
    "    page=get_page(url).decode('gb2312') #该段获取原始数据\n",
    "    page=page.split('\\r\\n')\n",
    "    col_info=page[0].split(',')   #各列的含义\n",
    "    index_data=page[1:]     #真正的数据\n",
    "\n",
    "    #为了与现有的数据库对应，这里我还修改了列名，大家不改也没关系\n",
    "    col_info[col_info.index('日期')]='交易日期'   #该段更改列名称\n",
    "    col_info[col_info.index('股票代码')]='指数代码'\n",
    "    col_info[col_info.index('名称')]='指数名称'\n",
    "    col_info[col_info.index('成交金额')]='成交额'\n",
    "\n",
    "    index_data=[x.replace(\"'\",'') for x in index_data]  #去掉指数编号前的“'”\n",
    "    index_data=[x.split(',') for x in index_data]\n",
    "\n",
    "    index_data=index_data[0:index_data.__len__()-1]   #最后一行为空，需要去掉\n",
    "    pos1=col_info.index('涨跌幅')\n",
    "    pos2=col_info.index('涨跌额')\n",
    "    posclose=col_info.index('收盘价')\n",
    "    index_data[index_data.__len__()-1][pos1]=0      #最下面行涨跌额和涨跌幅为None改为0\n",
    "    index_data[index_data.__len__()-1][pos2]=0\n",
    "    for i in range(0,index_data.__len__()-1):       #这两列中有些值莫名其妙为None 现在补全\n",
    "        if index_data[i][pos2]=='None':\n",
    "            index_data[i][pos2]=float(index_data[i][posclose])-float(index_data[i+1][posclose])\n",
    "        if index_data[i][pos1]=='None':\n",
    "            index_data[i][pos1]=(float(index_data[i][posclose])-float(index_data[i+1][posclose]))/float(index_data[i+1][posclose])\n",
    "\n",
    "    # print(col_info)\n",
    "    return [index_data,col_info]\n",
    "# --------------------- \n",
    "# 版权声明：本文为CSDN博主「multiangle」的原创文章，遵循CC 4.0 by-sa版权协议，转载请附上原文出处链接及本声明。\n",
    "# 原文链接：https://blog.csdn.net/u014595019/article/details/48445223\n",
    "\n",
    "sh = get_index_history_byNetease(\"sh000001\") \n",
    "df_ne = pd.DataFrame()\n",
    "df_ne['columns_to_split'] = pd.DataFrame(sh).T[0]\n",
    "col_list = list(pd.DataFrame(sh).T[1])[:12]\n",
    "df_ne['columns_to_split'] = df_ne['columns_to_split'].apply(lambda x: str(x))\n",
    "df_ne['columns_to_split'] = df_ne['columns_to_split'].apply(lambda x: x.replace(\"[\", \"\"))\n",
    "df_ne['columns_to_split'] = df_ne['columns_to_split'].apply(lambda x: x.replace(\"]\", \"\"))\n",
    "\n",
    "df_ne = df_ne['columns_to_split'].str.split(\",\", 12, expand = True)\n",
    "df_ne.columns = col_list\n",
    "df_ne.sort_values(\"交易日期\", inplace = True)\n",
    "df_ne.reset_index(inplace = True)\n",
    "del df_ne['index']\n",
    "df_ne.tail()"
   ]
  },
  {
   "cell_type": "code",
   "execution_count": 4,
   "metadata": {},
   "outputs": [],
   "source": [
    "df_ne = df_ne[['交易日期', '开盘价', '最高价', '最低价', '收盘价', '成交量']]\n",
    "df_ne = df_ne.iloc[1:, :]\n",
    "df_ne['交易日期'] = df_ne['交易日期'].apply(lambda x: x[1:-1])\n",
    "df_ne['收盘价'] = df_ne['收盘价'].apply(lambda x: x[2:-1])\n",
    "df_ne['收盘价'] = df_ne['收盘价'] = df_ne['收盘价'].apply(lambda x: float(x))\n",
    "df_ne['最高价'] = df_ne['最高价'].apply(lambda x: x[2:-1])\n",
    "df_ne['最高价'] = df_ne['最高价'] = df_ne['最高价'].apply(lambda x: float(x))\n",
    "df_ne['最低价'] = df_ne['最低价'].apply(lambda x: x[2:-1])\n",
    "df_ne['最低价'] = df_ne['最低价'] = df_ne['最低价'].apply(lambda x: float(x))\n",
    "df_ne['开盘价'] = df_ne['开盘价'].apply(lambda x: x[2:-1])\n",
    "df_ne['开盘价'] = df_ne['开盘价'] = df_ne['开盘价'].apply(lambda x: float(x))\n",
    "df_ne['成交量'] = df_ne['成交量'].apply(lambda x: x[2:-1])\n",
    "df_ne['成交量'] = df_ne['成交量'] = df_ne['成交量'].apply(lambda x: float(x))\n",
    "df_ne.columns = ['date','open','high','low','close','volume']\n",
    "df_ne['code'] = 'sh000001'\n",
    "df_ne.to_csv(data_folder+'sh000001.csv', index = False)"
   ]
  },
  {
   "cell_type": "code",
   "execution_count": 9,
   "metadata": {},
   "outputs": [],
   "source": []
  },
  {
   "cell_type": "code",
   "execution_count": null,
   "metadata": {},
   "outputs": [],
   "source": []
  }
 ],
 "metadata": {
  "kernelspec": {
   "display_name": "Python 3",
   "language": "python",
   "name": "python3"
  },
  "language_info": {
   "codemirror_mode": {
    "name": "ipython",
    "version": 3
   },
   "file_extension": ".py",
   "mimetype": "text/x-python",
   "name": "python",
   "nbconvert_exporter": "python",
   "pygments_lexer": "ipython3",
   "version": "3.6.10"
  }
 },
 "nbformat": 4,
 "nbformat_minor": 2
}
