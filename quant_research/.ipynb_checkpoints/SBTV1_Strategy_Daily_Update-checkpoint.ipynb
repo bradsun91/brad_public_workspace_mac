{
 "cells": [
  {
   "cell_type": "code",
   "execution_count": 1,
   "metadata": {},
   "outputs": [],
   "source": [
    "import pandas as pd, numpy as np\n",
    "import glob\n",
    "import os\n",
    "import csv\n",
    "# 一次性merge多个pct_chg\n",
    "from functools import reduce\n",
    "from datetime import datetime, timedelta\n",
    "\n",
    "# import yfinance as yf\n",
    "import tushare as ts\n",
    "import time, urllib\n",
    "ts.set_token('2f31c3932ead9fcc3830879132cc3ec8df3566550f711889d4a30f67')\n",
    "\n",
    "import matplotlib.pyplot as plt\n",
    "import seaborn as sns\n",
    "%matplotlib inline\n",
    "sns.set(context='notebook', style='darkgrid', palette='deep', font='sans-serif', font_scale=1, color_codes=False, rc=None)"
   ]
  },
  {
   "cell_type": "markdown",
   "metadata": {},
   "source": [
    "1. Download ETFs' most recent data\n",
    "2. Use market cap to filter out the largest ETFs by market cap\n",
    "3. Use correlation to filter out the most uncorrelated ETFs\n",
    "4. Generate selected 40 tickers as pool\n",
    "5. Calculate the positions' weights"
   ]
  },
  {
   "cell_type": "markdown",
   "metadata": {},
   "source": [
    "# Calculate Correlations as Filters"
   ]
  },
  {
   "cell_type": "code",
   "execution_count": null,
   "metadata": {},
   "outputs": [],
   "source": [
    "def handle_data_files_return_tickers(file_path):\n",
    "    ch_etfs_df = pd.read_csv(file_path)\n",
    "    ch_etfs_df.dropna(inplace = True)\n",
    "    ch_etfs_df['基金规模\\n[单位] 元'] = ch_etfs_df['基金规模\\n[单位] 元'].apply(lambda x: float(x.replace(\",\",\"\")))\n",
    "    ch_etfs_df['机构投资者持有份额\\n[报告期] 2019中报\\n[单位] 份'] = ch_etfs_df['机构投资者持有份额\\n[报告期] 2019中报\\n[单位] 份'].apply(lambda x: float(x.replace(\",\",\"\")))\n",
    "    ch_etfs_df.sort_values(\"基金规模\\n[单位] 元\", ascending=False, inplace =True)\n",
    "    ch_etfs_df = ch_etfs_df\n",
    "    ch_etfs = ch_etfs_df.copy()\n",
    "    ch_etfs['code'] =ch_etfs['证券代码'].apply(lambda x: str(x)[:6])\n",
    "    ch_etfs_ticker = list(ch_etfs['code'].unique())\n",
    "    return ch_etfs_ticker\n",
    "    "
   ]
  },
  {
   "cell_type": "code",
   "execution_count": 3,
   "metadata": {},
   "outputs": [],
   "source": [
    "def select_df_from_db_by_tickers(path, ticker_list):\n",
    "    # e.g. ch_db_path = \"/Users/miaoyuesun/Code_Workspace/brad_public_workspace_mac/data/CH_database/\"\n",
    "    csv_path = path+\"*.csv\"\n",
    "    files = glob.glob(csv_path)\n",
    "    \n",
    "    tickers_data = []\n",
    "    if len(ticker_list)!=1:\n",
    "        for ticker in ticker_list:\n",
    "            print(\"Reading: \", ticker)\n",
    "            df = pd.read_csv(path+ticker+\".csv\")\n",
    "            tickers_data.append(df)\n",
    "        tickers_data_concated = pd.concat(tickers_data)\n",
    "        tickers_data_concated.reset_index(inplace=True)\n",
    "        del tickers_data_concated['index']\n",
    "    else:\n",
    "        df = pd.read_csv(path+ticker_list[0]+\".csv\")\n",
    "        tickers_data_concated = df\n",
    "    return tickers_data_concated\n",
    "\n",
    "\n",
    "def get_df_date_price_code(path, ticker_list, date_col, price_col, code_col):\n",
    "    # for etf data cols are 'date', 'close', 'code'\n",
    "    ticker_df_list = []\n",
    "    for ticker in ticker_list:\n",
    "        print(\"Reading Assets: \", ticker)\n",
    "        try:\n",
    "            ticker_df = pd.read_csv(path+ticker+\".csv\")\n",
    "            ticker_df = ticker_df.sort_values(date_col)\n",
    "            ticker_df = ticker_df[[date_col, price_col, code_col]]\n",
    "            ticker_df['pct_chg'] = ticker_df[price_col].pct_change()\n",
    "            ticker_df = ticker_df[[date_col, 'pct_chg']].dropna()\n",
    "            ticker_df.columns = [date_col,ticker]\n",
    "            ticker_df[date_col] = pd.to_datetime(ticker_df[date_col])\n",
    "            ticker_df_list.append(ticker_df)\n",
    "        except:\n",
    "            pass\n",
    "    return ticker_df_list\n",
    "\n",
    "\n",
    "def get_df_date_price_code_returns(path, ticker_list, date_col, price_col, code_col):\n",
    "    # for etf data cols are 'date', 'close', 'code'\n",
    "    ticker_df_list = []\n",
    "    for ticker in ticker_list:\n",
    "        print(\"Reading Assets: \", ticker)\n",
    "        try:\n",
    "            ticker_df = pd.read_csv(path+ticker+\".csv\")\n",
    "            ticker_df = ticker_df.sort_values(date_col)\n",
    "            ticker_df = ticker_df[[date_col, price_col, code_col]]\n",
    "            ticker_df['pct_chg'] = ticker_df[price_col].pct_change()\n",
    "            ticker_df['cum_returns'] = ticker_df['pct_chg'].cumsum()\n",
    "            ticker_df = ticker_df[[date_col, 'cum_returns']].dropna()\n",
    "            ticker_df.columns = [date_col,ticker]\n",
    "            ticker_df[date_col] = pd.to_datetime(ticker_df[date_col])\n",
    "            ticker_df_list.append(ticker_df)\n",
    "        except:\n",
    "            pass\n",
    "    return ticker_df_list\n",
    "\n",
    "\n",
    "# 先为之后使用reduce铺路：创造一个merge的函数，这里的目的是为了将多资产数据基于date_col进行merge：\n",
    "def merge_df(df1, df2, date_col=\"date\"):\n",
    "    # By default the etf's date_col goes by 'date'\n",
    "    merged = df1.merge(df2, on = date_col, how = 'outer')\n",
    "    merged.sort_values(date_col, inplace = True)\n",
    "    return merged\n",
    "\n",
    "def merge_df_for_corr(ticker_df_list, date_col):\n",
    "    # Here below merge_df is a function instead of a variable\n",
    "    \n",
    "    merged_all = reduce(merge_df, ticker_df_list)\n",
    "    # For etf data the date col is 'date'\n",
    "    merged_all.set_index(date_col, inplace=True)\n",
    "    merged_all.dropna(how=\"all\", axis = 1, inplace = True)\n",
    "    return merged_all"
   ]
  },
  {
   "cell_type": "code",
   "execution_count": null,
   "metadata": {},
   "outputs": [],
   "source": []
  }
 ],
 "metadata": {
  "kernelspec": {
   "display_name": "Python 3",
   "language": "python",
   "name": "python3"
  },
  "language_info": {
   "codemirror_mode": {
    "name": "ipython",
    "version": 3
   },
   "file_extension": ".py",
   "mimetype": "text/x-python",
   "name": "python",
   "nbconvert_exporter": "python",
   "pygments_lexer": "ipython3",
   "version": "3.5.6"
  }
 },
 "nbformat": 4,
 "nbformat_minor": 2
}
