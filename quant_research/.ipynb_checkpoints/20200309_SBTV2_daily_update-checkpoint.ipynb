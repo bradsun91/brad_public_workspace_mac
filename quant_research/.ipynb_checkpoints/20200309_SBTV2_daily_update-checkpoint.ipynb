{
 "cells": [
  {
   "cell_type": "code",
   "execution_count": 3,
   "metadata": {},
   "outputs": [
    {
     "ename": "ImportError",
     "evalue": "cannot import name 'StringIO'",
     "output_type": "error",
     "traceback": [
      "\u001b[0;31m---------------------------------------------------------------------------\u001b[0m",
      "\u001b[0;31mImportError\u001b[0m                               Traceback (most recent call last)",
      "\u001b[0;32m<ipython-input-3-c1d76c098e7a>\u001b[0m in \u001b[0;36m<module>\u001b[0;34m\u001b[0m\n\u001b[1;32m     35\u001b[0m \u001b[0;31m# plotly.offline.init_notebook_mode(connected=True)\u001b[0m\u001b[0;34m\u001b[0m\u001b[0;34m\u001b[0m\u001b[0;34m\u001b[0m\u001b[0m\n\u001b[1;32m     36\u001b[0m \u001b[0;34m\u001b[0m\u001b[0m\n\u001b[0;32m---> 37\u001b[0;31m \u001b[0;32mfrom\u001b[0m \u001b[0mresearch_toolbox_all_in_one\u001b[0m \u001b[0;32mimport\u001b[0m \u001b[0;34m*\u001b[0m\u001b[0;34m\u001b[0m\u001b[0;34m\u001b[0m\u001b[0m\n\u001b[0m\u001b[1;32m     38\u001b[0m \u001b[0;31m# from research_toolbox_all_in_one import calc_macd_signals\u001b[0m\u001b[0;34m\u001b[0m\u001b[0;34m\u001b[0m\u001b[0;34m\u001b[0m\u001b[0m\n",
      "\u001b[0;32m~/Code_Workspace/brad_public_workspace_mac/quant_research/research_toolbox_all_in_one.py\u001b[0m in \u001b[0;36m<module>\u001b[0;34m\u001b[0m\n\u001b[1;32m     11\u001b[0m \u001b[0;32mimport\u001b[0m \u001b[0mmatplotlib\u001b[0m\u001b[0;34m.\u001b[0m\u001b[0mpyplot\u001b[0m \u001b[0;32mas\u001b[0m \u001b[0mplt\u001b[0m\u001b[0;34m\u001b[0m\u001b[0;34m\u001b[0m\u001b[0m\n\u001b[1;32m     12\u001b[0m \u001b[0;31m# import yfinance as yf\u001b[0m\u001b[0;34m\u001b[0m\u001b[0;34m\u001b[0m\u001b[0;34m\u001b[0m\u001b[0m\n\u001b[0;32m---> 13\u001b[0;31m \u001b[0;32mimport\u001b[0m \u001b[0mtushare\u001b[0m \u001b[0;32mas\u001b[0m \u001b[0mts\u001b[0m\u001b[0;34m\u001b[0m\u001b[0;34m\u001b[0m\u001b[0m\n\u001b[0m\u001b[1;32m     14\u001b[0m \u001b[0;32mimport\u001b[0m \u001b[0mtime\u001b[0m\u001b[0;34m,\u001b[0m \u001b[0murllib\u001b[0m\u001b[0;34m\u001b[0m\u001b[0;34m\u001b[0m\u001b[0m\n\u001b[1;32m     15\u001b[0m \u001b[0;34m\u001b[0m\u001b[0m\n",
      "\u001b[0;32m~/anaconda3/envs/py36/lib/python3.6/site-packages/tushare/__init__.py\u001b[0m in \u001b[0;36m<module>\u001b[0;34m\u001b[0m\n\u001b[1;32m      9\u001b[0m \u001b[0;32mfor\u001b[0m \u001b[0mtrading\u001b[0m \u001b[0mdata\u001b[0m\u001b[0;34m\u001b[0m\u001b[0;34m\u001b[0m\u001b[0m\n\u001b[1;32m     10\u001b[0m \"\"\"\n\u001b[0;32m---> 11\u001b[0;31m from tushare.stock.trading import (get_hist_data, get_tick_data,\n\u001b[0m\u001b[1;32m     12\u001b[0m                                    \u001b[0mget_today_all\u001b[0m\u001b[0;34m,\u001b[0m \u001b[0mget_realtime_quotes\u001b[0m\u001b[0;34m,\u001b[0m\u001b[0;34m\u001b[0m\u001b[0;34m\u001b[0m\u001b[0m\n\u001b[1;32m     13\u001b[0m                                    \u001b[0mget_h_data\u001b[0m\u001b[0;34m,\u001b[0m \u001b[0mget_today_ticks\u001b[0m\u001b[0;34m,\u001b[0m\u001b[0;34m\u001b[0m\u001b[0;34m\u001b[0m\u001b[0m\n",
      "\u001b[0;32m~/anaconda3/envs/py36/lib/python3.6/site-packages/tushare/stock/trading.py\u001b[0m in \u001b[0;36m<module>\u001b[0;34m\u001b[0m\n\u001b[1;32m     22\u001b[0m \u001b[0;32mimport\u001b[0m \u001b[0mos\u001b[0m\u001b[0;34m\u001b[0m\u001b[0;34m\u001b[0m\u001b[0m\n\u001b[1;32m     23\u001b[0m \u001b[0;32mfrom\u001b[0m \u001b[0mtushare\u001b[0m\u001b[0;34m.\u001b[0m\u001b[0mutil\u001b[0m\u001b[0;34m.\u001b[0m\u001b[0mconns\u001b[0m \u001b[0;32mimport\u001b[0m \u001b[0mget_apis\u001b[0m\u001b[0;34m,\u001b[0m \u001b[0mclose_apis\u001b[0m\u001b[0;34m\u001b[0m\u001b[0;34m\u001b[0m\u001b[0m\n\u001b[0;32m---> 24\u001b[0;31m \u001b[0;32mfrom\u001b[0m \u001b[0mtushare\u001b[0m\u001b[0;34m.\u001b[0m\u001b[0mstock\u001b[0m\u001b[0;34m.\u001b[0m\u001b[0mfundamental\u001b[0m \u001b[0;32mimport\u001b[0m \u001b[0mget_stock_basics\u001b[0m\u001b[0;34m\u001b[0m\u001b[0;34m\u001b[0m\u001b[0m\n\u001b[0m\u001b[1;32m     25\u001b[0m \u001b[0;32mtry\u001b[0m\u001b[0;34m:\u001b[0m\u001b[0;34m\u001b[0m\u001b[0;34m\u001b[0m\u001b[0m\n\u001b[1;32m     26\u001b[0m     \u001b[0;32mfrom\u001b[0m \u001b[0murllib\u001b[0m\u001b[0;34m.\u001b[0m\u001b[0mrequest\u001b[0m \u001b[0;32mimport\u001b[0m \u001b[0murlopen\u001b[0m\u001b[0;34m,\u001b[0m \u001b[0mRequest\u001b[0m\u001b[0;34m\u001b[0m\u001b[0;34m\u001b[0m\u001b[0m\n",
      "\u001b[0;32m~/anaconda3/envs/py36/lib/python3.6/site-packages/tushare/stock/fundamental.py\u001b[0m in \u001b[0;36m<module>\u001b[0;34m\u001b[0m\n\u001b[1;32m     17\u001b[0m     \u001b[0;32mfrom\u001b[0m \u001b[0mio\u001b[0m \u001b[0;32mimport\u001b[0m \u001b[0mStringIO\u001b[0m\u001b[0;34m\u001b[0m\u001b[0;34m\u001b[0m\u001b[0m\n\u001b[1;32m     18\u001b[0m \u001b[0;32melse\u001b[0m\u001b[0;34m:\u001b[0m\u001b[0;34m\u001b[0m\u001b[0;34m\u001b[0m\u001b[0m\n\u001b[0;32m---> 19\u001b[0;31m     \u001b[0;32mfrom\u001b[0m \u001b[0mpandas\u001b[0m\u001b[0;34m.\u001b[0m\u001b[0mcompat\u001b[0m \u001b[0;32mimport\u001b[0m \u001b[0mStringIO\u001b[0m\u001b[0;34m\u001b[0m\u001b[0;34m\u001b[0m\u001b[0m\n\u001b[0m\u001b[1;32m     20\u001b[0m \u001b[0;32mfrom\u001b[0m \u001b[0mtushare\u001b[0m\u001b[0;34m.\u001b[0m\u001b[0mutil\u001b[0m \u001b[0;32mimport\u001b[0m \u001b[0mdateu\u001b[0m \u001b[0;32mas\u001b[0m \u001b[0mdu\u001b[0m\u001b[0;34m\u001b[0m\u001b[0;34m\u001b[0m\u001b[0m\n\u001b[1;32m     21\u001b[0m \u001b[0;32mtry\u001b[0m\u001b[0;34m:\u001b[0m\u001b[0;34m\u001b[0m\u001b[0;34m\u001b[0m\u001b[0m\n",
      "\u001b[0;31mImportError\u001b[0m: cannot import name 'StringIO'"
     ]
    }
   ],
   "source": [
    "import pandas as pd, numpy as np\n",
    "np.set_printoptions(suppress=True)# 关掉科学计数法\n",
    "import glob\n",
    "import os\n",
    "import csv\n",
    "# 一次性merge多个pct_chg\n",
    "from functools import reduce\n",
    "from datetime import datetime, timedelta\n",
    "import statsmodels.api as sm\n",
    "from statsmodels import regression\n",
    "\n",
    "# import yfinance as yf\n",
    "import tushare as ts\n",
    "import time, urllib\n",
    "ts.set_token('8ef5ec61cdd848715c57c11d58dd71da1271f76b2420d2bac8aef123')\n",
    "pro = ts.pro_api('8ef5ec61cdd848715c57c11d58dd71da1271f76b2420d2bac8aef123')\n",
    "\n",
    "import matplotlib\n",
    "import matplotlib.pyplot as plt\n",
    "# plt.rcParams['font.sans-serif']=['KaiTi']\n",
    "# plt.rcParams['axes.unicode_minus'] = False\n",
    "\n",
    "import seaborn as sns\n",
    "%matplotlib inline\n",
    "sns.set(context='notebook', style='darkgrid', palette='deep', font='sans-serif', font_scale=1, color_codes=False, rc=None)\n",
    "\n",
    "\n",
    "from plotly.graph_objs import Scatter,Layout\n",
    "import plotly\n",
    "import plotly.offline as py\n",
    "import numpy as np\n",
    "import plotly.graph_objs as go\n",
    "\n",
    "#setting offilne\n",
    "plotly.offline.init_notebook_mode(connected=True)\n",
    "\n",
    "from research_toolbox_all_in_one import *\n",
    "# from research_toolbox_all_in_one import calc_macd_signals"
   ]
  },
  {
   "cell_type": "code",
   "execution_count": null,
   "metadata": {},
   "outputs": [],
   "source": [
    "# 得到行业龙头的tickers信息\n",
    "\n",
    "ch_db_path = \"/Users/miaoyuesun/Code_Workspace/brad_public_workspace_mac/data/CH_database/\"\n",
    "leaders_tickers_df = pd.read_csv(\"20200309_110_A_shares_industry_leaders.csv\")\n",
    "leaders_tickers = list(leaders_tickers_df['tickers'])\n",
    "\n",
    "# 得到行业龙头的全市场数据\n",
    "industry_leaders_mkt_df = get_mkt_data_df(ch_db_path, leaders_tickers, 'trade_date')"
   ]
  },
  {
   "cell_type": "code",
   "execution_count": null,
   "metadata": {},
   "outputs": [],
   "source": [
    "# 利用全市场数据得到MACD信号数据\n",
    "tgt_stocks_macd_signals = calc_macd_signals(industry_leaders_mkt_df, leaders_tickers, 'ts_code', 'string','close')\n",
    "# 只提取最近一天的MACD信号数据\n",
    "tgt_most_recent_stocks_macd_signals = get_last_signals_macd(tgt_stocks_macd_signals, 'trade_date','ts_code')\n",
    "# This could be different from our current position holdings\n",
    "tgt_most_recent_stocks_macd_signals['TYPE'] = 'TARGET'\n",
    "tgt_most_recent_stocks_macd_signals.sort_values(\"ts_code\", inplace=True)\n",
    "# If there are empty positions then don't use this function:\n",
    "# signal_df = merge_current_pos_with_target_pos(ch_db_path, cur_positions, tgt_most_recent_stocks_macd_signals, \\\n",
    "#                                               'ts_code','trade_date','string','close')"
   ]
  },
  {
   "cell_type": "code",
   "execution_count": null,
   "metadata": {},
   "outputs": [],
   "source": [
    "# 提取当天需要操作的数据\n",
    "df_actions = tgt_most_recent_stocks_macd_signals[(tgt_most_recent_stocks_macd_signals['SIGNAL_ACTION']==\"LONG\")|\\\n",
    "                                                (tgt_most_recent_stocks_macd_signals['SIGNAL_ACTION']==\"SHORT\")]\n",
    "\n",
    "# 得到price_pct数据：\n",
    "tgt_returns = get_date_price_code_return_list(ch_db_path, leaders_tickers, 'trade_date', 'close', 'ts_code')\n",
    "tgt_merged_returns = merge_dfs_by_ticker(tgt_returns, \"trade_date\")\n",
    "# 计算仓位比重：\n",
    "df_wts, stocks, weights = get_df_wts(tgt_merged_returns)\n",
    "# draw_risk_parity_pie(weights, stocks)\n",
    "df_wts.columns = ['ts_code','weights']\n",
    "# df_wts.sort_values(\"weights\", ascending=False)\n",
    "\n",
    "# 合并仓位数据和信号数据\n",
    "df_actions_with_weights = df_wts.merge(df_actions, on ='ts_code')\n",
    "# 仓位太小，创建2倍仓位信息\n",
    "df_actions_with_weights['weights_enlarged'] = df_actions_with_weights['weights']*2\n",
    "# 提取下一日要操作的tickers\n",
    "tickers_to_trade = list(df_actions_with_weights['ts_code'])\n",
    "# 得到这些tickers的收盘价数据\n",
    "tickers_to_trade_closes = get_date_price_code_df(ch_db_path, tickers_to_trade, 'trade_date', 'close', 'ts_code')\n",
    "# 创建今日date信息\n",
    "last_date = str(datetime.now().date())\n",
    "# 提取最近一天的tickers的收盘价数据\n",
    "tickers_to_trade_closes_last_date = tickers_to_trade_closes[tickers_to_trade_closes['trade_date'] == last_date]\n",
    "\n",
    "# 创建最终的信号-仓位指示信息\n",
    "df_actions_with_weights = df_actions_with_weights.merge(tickers_to_trade_closes_last_date, on = ['trade_date','ts_code'])\n",
    "account_values = 70000\n",
    "df_actions_with_weights['tgt_shares'] = account_values*\\\n",
    "                                        df_actions_with_weights['weights_enlarged']/\\\n",
    "                                        df_actions_with_weights['close']\n",
    "# 展示信号-仓位结果\n",
    "df_actions_with_weights"
   ]
  },
  {
   "cell_type": "code",
   "execution_count": null,
   "metadata": {},
   "outputs": [],
   "source": [
    "df_actions"
   ]
  },
  {
   "cell_type": "code",
   "execution_count": null,
   "metadata": {},
   "outputs": [],
   "source": []
  },
  {
   "cell_type": "code",
   "execution_count": null,
   "metadata": {},
   "outputs": [],
   "source": []
  },
  {
   "cell_type": "markdown",
   "metadata": {},
   "source": [
    "# 写成Class"
   ]
  },
  {
   "cell_type": "code",
   "execution_count": null,
   "metadata": {},
   "outputs": [],
   "source": []
  },
  {
   "cell_type": "code",
   "execution_count": null,
   "metadata": {},
   "outputs": [],
   "source": []
  },
  {
   "cell_type": "code",
   "execution_count": null,
   "metadata": {},
   "outputs": [],
   "source": []
  }
 ],
 "metadata": {
  "kernelspec": {
   "display_name": "Python 3",
   "language": "python",
   "name": "python3"
  },
  "language_info": {
   "codemirror_mode": {
    "name": "ipython",
    "version": 3
   },
   "file_extension": ".py",
   "mimetype": "text/x-python",
   "name": "python",
   "nbconvert_exporter": "python",
   "pygments_lexer": "ipython3",
   "version": "3.6.10"
  }
 },
 "nbformat": 4,
 "nbformat_minor": 2
}
