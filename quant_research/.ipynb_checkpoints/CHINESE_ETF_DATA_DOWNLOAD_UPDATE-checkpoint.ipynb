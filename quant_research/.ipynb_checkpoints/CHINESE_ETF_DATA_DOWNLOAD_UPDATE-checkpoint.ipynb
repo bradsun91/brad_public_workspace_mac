{
 "cells": [
  {
   "cell_type": "code",
   "execution_count": 1,
   "metadata": {},
   "outputs": [],
   "source": [
    "import pandas as pd, numpy as np\n",
    "from datetime import datetime\n",
    "# import yfinance as yf\n",
    "import tushare as ts\n",
    "import time, urllib\n",
    "ts.set_token('2f31c3932ead9fcc3830879132cc3ec8df3566550f711889d4a30f67')\n",
    "import glob\n",
    "import os\n",
    "\n",
    "import matplotlib.pyplot as plt\n",
    "import seaborn as sns\n",
    "%matplotlib inline\n",
    "sns.set(context='notebook', style='darkgrid', palette='deep', font='sans-serif', font_scale=1, color_codes=False, rc=None)"
   ]
  },
  {
   "cell_type": "code",
   "execution_count": 2,
   "metadata": {},
   "outputs": [],
   "source": [
    "ch_etfs_df = pd.read_csv(\"/Users/miaoyuesun/Code_Workspace/brad_public_workspace_mac/data/\"+\"CH_ETFs.csv\")\n",
    "ch_etfs_df.dropna(inplace = True)\n",
    "ch_etfs_df['基金规模\\n[单位] 元'] = ch_etfs_df['基金规模\\n[单位] 元'].apply(lambda x: float(x.replace(\",\",\"\")))\n",
    "ch_etfs_df['机构投资者持有份额\\n[报告期] 2019中报\\n[单位] 份'] = ch_etfs_df['机构投资者持有份额\\n[报告期] 2019中报\\n[单位] 份'].apply(lambda x: float(x.replace(\",\",\"\")))\n",
    "ch_etfs_df.sort_values(\"基金规模\\n[单位] 元\", ascending=False, inplace =True)\n",
    "ch_etfs_df = ch_etfs_df"
   ]
  },
  {
   "cell_type": "code",
   "execution_count": 3,
   "metadata": {},
   "outputs": [
    {
     "data": {
      "text/html": [
       "<div>\n",
       "<style scoped>\n",
       "    .dataframe tbody tr th:only-of-type {\n",
       "        vertical-align: middle;\n",
       "    }\n",
       "\n",
       "    .dataframe tbody tr th {\n",
       "        vertical-align: top;\n",
       "    }\n",
       "\n",
       "    .dataframe thead th {\n",
       "        text-align: right;\n",
       "    }\n",
       "</style>\n",
       "<table border=\"1\" class=\"dataframe\">\n",
       "  <thead>\n",
       "    <tr style=\"text-align: right;\">\n",
       "      <th></th>\n",
       "      <th>证券代码</th>\n",
       "      <th>证券简称</th>\n",
       "      <th>投资类型(一级分类)</th>\n",
       "      <th>投资类型(二级分类)</th>\n",
       "      <th>基金规模\\n[单位] 元</th>\n",
       "      <th>机构投资者持有份额\\n[报告期] 2019中报\\n[单位] 份</th>\n",
       "      <th>机构投资者持有比例\\n[报告期] 2019中报\\n[单位] %</th>\n",
       "      <th>管理费率\\n[单位] %</th>\n",
       "      <th>托管费率\\n[单位] %</th>\n",
       "      <th>认购费率\\n[收费类型] 前端</th>\n",
       "    </tr>\n",
       "  </thead>\n",
       "  <tbody>\n",
       "    <tr>\n",
       "      <th>152</th>\n",
       "      <td>510500.OF</td>\n",
       "      <td>南方中证500ETF</td>\n",
       "      <td>股票型基金</td>\n",
       "      <td>被动指数型基金</td>\n",
       "      <td>4.349555e+10</td>\n",
       "      <td>6.869517e+09</td>\n",
       "      <td>76.03</td>\n",
       "      <td>0.5</td>\n",
       "      <td>0.1</td>\n",
       "      <td>500万份以上 1000元/笔\\n100万份以下 1%\\n100~300万份 0.6%\\n3...</td>\n",
       "    </tr>\n",
       "    <tr>\n",
       "      <th>180</th>\n",
       "      <td>510050.OF</td>\n",
       "      <td>华夏上证50ETF</td>\n",
       "      <td>股票型基金</td>\n",
       "      <td>被动指数型基金</td>\n",
       "      <td>4.166154e+10</td>\n",
       "      <td>1.220778e+10</td>\n",
       "      <td>73.10</td>\n",
       "      <td>0.5</td>\n",
       "      <td>0.1</td>\n",
       "      <td>100万份以下 1%\\n100~1000万份 0.8%\\n1000万份以上 0.5%\\n</td>\n",
       "    </tr>\n",
       "    <tr>\n",
       "      <th>162</th>\n",
       "      <td>510300.OF</td>\n",
       "      <td>华泰柏瑞沪深300ETF</td>\n",
       "      <td>股票型基金</td>\n",
       "      <td>被动指数型基金</td>\n",
       "      <td>3.451196e+10</td>\n",
       "      <td>6.917064e+09</td>\n",
       "      <td>73.10</td>\n",
       "      <td>0.5</td>\n",
       "      <td>0.1</td>\n",
       "      <td>100万份以上 1000元/笔\\n50万份以下 1%\\n50~100万份 0.5%\\n</td>\n",
       "    </tr>\n",
       "  </tbody>\n",
       "</table>\n",
       "</div>"
      ],
      "text/plain": [
       "          证券代码          证券简称 投资类型(一级分类) 投资类型(二级分类)  基金规模\\n[单位] 元  \\\n",
       "152  510500.OF    南方中证500ETF      股票型基金    被动指数型基金  4.349555e+10   \n",
       "180  510050.OF     华夏上证50ETF      股票型基金    被动指数型基金  4.166154e+10   \n",
       "162  510300.OF  华泰柏瑞沪深300ETF      股票型基金    被动指数型基金  3.451196e+10   \n",
       "\n",
       "     机构投资者持有份额\\n[报告期] 2019中报\\n[单位] 份  机构投资者持有比例\\n[报告期] 2019中报\\n[单位] %  \\\n",
       "152                     6.869517e+09                            76.03   \n",
       "180                     1.220778e+10                            73.10   \n",
       "162                     6.917064e+09                            73.10   \n",
       "\n",
       "     管理费率\\n[单位] %  托管费率\\n[单位] %  \\\n",
       "152           0.5           0.1   \n",
       "180           0.5           0.1   \n",
       "162           0.5           0.1   \n",
       "\n",
       "                                       认购费率\\n[收费类型] 前端  \n",
       "152  500万份以上 1000元/笔\\n100万份以下 1%\\n100~300万份 0.6%\\n3...  \n",
       "180       100万份以下 1%\\n100~1000万份 0.8%\\n1000万份以上 0.5%\\n  \n",
       "162        100万份以上 1000元/笔\\n50万份以下 1%\\n50~100万份 0.5%\\n  "
      ]
     },
     "execution_count": 3,
     "metadata": {},
     "output_type": "execute_result"
    }
   ],
   "source": [
    "ch_etfs_df.head(3)"
   ]
  },
  {
   "cell_type": "code",
   "execution_count": 4,
   "metadata": {},
   "outputs": [],
   "source": [
    "ch_etfs = ch_etfs_df.copy()\n",
    "ch_etfs['code'] =ch_etfs['证券代码'].apply(lambda x: str(x)[:6])\n",
    "ch_etfs_ticker = list(ch_etfs['code'].unique())\n",
    "# Add the sp500 etf\n",
    "etf_tickers = ['513500']+ch_etfs_ticker"
   ]
  },
  {
   "cell_type": "code",
   "execution_count": 2,
   "metadata": {},
   "outputs": [],
   "source": [
    "def GetHistoryData(Code, BeginTime, EndTime):\n",
    "    df = ts.get_k_data(Code, index = False,  start = BeginTime, end = EndTime)\n",
    "    return df"
   ]
  },
  {
   "cell_type": "code",
   "execution_count": 8,
   "metadata": {},
   "outputs": [
    {
     "data": {
      "text/plain": [
       "['513500', '510500', '510050', '510300', '510330']"
      ]
     },
     "execution_count": 8,
     "metadata": {},
     "output_type": "execute_result"
    }
   ],
   "source": [
    "etf_tickers[:5]"
   ]
  },
  {
   "cell_type": "code",
   "execution_count": 5,
   "metadata": {},
   "outputs": [
    {
     "name": "stderr",
     "output_type": "stream",
     "text": [
      "Traceback (most recent call last):\n",
      "  File \"/Users/miaoyuesun/anaconda3/lib/python3.5/site-packages/eventlet/hubs/hub.py\", line 461, in fire_timers\n",
      "    timer()\n",
      "  File \"/Users/miaoyuesun/anaconda3/lib/python3.5/site-packages/eventlet/hubs/timer.py\", line 59, in __call__\n",
      "    cb(*args, **kw)\n",
      "  File \"/Users/miaoyuesun/anaconda3/lib/python3.5/site-packages/eventlet/semaphore.py\", line 147, in _do_acquire\n",
      "    waiter.switch()\n",
      "greenlet.error: cannot switch to a different thread\n"
     ]
    },
    {
     "name": "stdout",
     "output_type": "stream",
     "text": [
      "Already have data csv for 511020\n",
      "Needs to update, start updating new data for 511020 now...\n",
      "Cannot switch to MAINLOOP from MAINLOOP\n",
      "=======================Executed: 1=======================\n",
      "【Updated Finished for today!】\n"
     ]
    }
   ],
   "source": [
    "import eventlet\n",
    "eventlet.monkey_patch()\n",
    "\n",
    "ch_db_path = \"/Users/miaoyuesun/Code_Workspace/brad_public_workspace_mac/data/CH_database/\"\n",
    "# ticker_list = etf_tickers\n",
    "ticker_list = ['511020']\n",
    "# ticker_list = ['513500',#标普500\n",
    "#                '501021',#香港中小\n",
    "#                # 目前黄金ETF基金主要有四只，易方达黄金ETF(159934)、博时黄金159937、国泰黄金ETF（518800）、华安黄金ETF（518880）。\n",
    "#                '159934','159937','518800','518880'\n",
    "#                # 300ETF（510300）、创业板ETF（159915）、500ETF（510500）都是指数ETF基金。\n",
    "#                # 除了这些宽基指数基金外，还有跟踪行业指数的指数ETF，比如金融ETF(510230)、银行ETF（512800）、\n",
    "#                # 军工ETF（512660）、广发医药（159938）等。\n",
    "#                '510300','159915','510500','510230','512800','512660','159938']\n",
    "today = str(datetime.now().date())\n",
    "start = '2010-01-01'\n",
    "end = today\n",
    "count = 1\n",
    "for ticker in ticker_list:\n",
    "    if count%200==0:\n",
    "        print(\"=======================Sleeping======================\")\n",
    "        time.sleep(60)\n",
    "    else:\n",
    "        if not os.path.exists(ch_db_path+ticker+\".csv\"):\n",
    "            print(\"{} is new, start downloading now...\".format(ticker))\n",
    "            try:\n",
    "                ############ replace get_data with other customized functions #############\n",
    "                data = GetHistoryData(ticker, start, today)\n",
    "                ############ replace get_data with other customized functions #############\n",
    "#                 print(data)\n",
    "                data['date'] = data['date'].astype(str)\n",
    "                data['date'] = data['date'].apply(lambda x:x[:4]+\"-\"+x[4:6]+\"-\"+x[6:] if len(x)!=10 else x)\n",
    "                data.sort_values(\"date\", inplace = True)\n",
    "                data.to_csv(ch_db_path+ticker+\".csv\", index = False)\n",
    "                print(\"{} data file created: {}\".format(ticker, end))\n",
    "            except Exception as e:\n",
    "                print(e)\n",
    "\n",
    "        else:\n",
    "            print(\"Already have data csv for {}\".format(ticker))\n",
    "            hist_data = pd.read_csv(ch_db_path+ticker+\".csv\")   \n",
    "            hist_data['date'] = hist_data['date'].astype(str)\n",
    "            hist_data['date'] = hist_data['date'].apply(lambda x:x[:4]+\"-\"+x[4:6]+\"-\"+x[6:] if len(x)!=10 else x)\n",
    "            hist_data.to_csv(ch_db_path+ticker+\".csv\", index = False)\n",
    "            hist_data = pd.read_csv(ch_db_path+ticker+\".csv\")\n",
    "            try:\n",
    "                hist_data_last_date = hist_data['date'].values[-1]        \n",
    "                if today > hist_data_last_date:\n",
    "                    print(\"Needs to update, start updating new data for {} now...\".format(ticker))\n",
    "                    update_start = hist_data_last_date\n",
    "                    update_end = today\n",
    "                    with eventlet.Timeout(60,False):\n",
    "                        try:\n",
    "                            ############ replace get_data with other customized functions #############\n",
    "                            new_data = GetHistoryData(ticker, update_start, update_end)\n",
    "                            ############ replace get_data with other customized functions #############\n",
    "                            \n",
    "                            new_data['date'] = new_data['date'].astype(str)\n",
    "                            new_data['date'] = new_data['date'].apply(lambda x:x[:4]+\"-\"+x[4:6]+\"-\"+x[6:])\n",
    "                            new_data.to_csv(ch_db_path+ticker+\".csv\", mode='a', header=False, index = False)\n",
    "                            updated_duplicated_df = pd.read_csv(ch_db_path+ticker+\".csv\")\n",
    "                            updated_df = updated_duplicated_df.drop_duplicates(\"date\")\n",
    "                            updated_df.sort_values(\"date\", inplace = True)\n",
    "                            updated_df.to_csv(ch_db_path+ticker+\".csv\", index = False)\n",
    "                            print(\"New data updated till today for {}!\".format(ticker))\n",
    "                        except Exception as e:\n",
    "                            print(e)\n",
    "        #             print(\"Timed Out: Update Failed!\")\n",
    "                else:\n",
    "                    print(\"There's no new data to update for {}.\".format(ticker))\n",
    "            except Exception as e:\n",
    "                print(e)\n",
    "\n",
    "    #     print(\"Data Download/Update for {} is Finished.\".format(ticker))\n",
    "        print(\"=======================Executed: {}=======================\".format(count))\n",
    "    count+=1\n",
    "print(\"【Updated Finished for today!】\")"
   ]
  },
  {
   "cell_type": "code",
   "execution_count": null,
   "metadata": {},
   "outputs": [],
   "source": []
  }
 ],
 "metadata": {
  "kernelspec": {
   "display_name": "Python 3",
   "language": "python",
   "name": "python3"
  },
  "language_info": {
   "codemirror_mode": {
    "name": "ipython",
    "version": 3
   },
   "file_extension": ".py",
   "mimetype": "text/x-python",
   "name": "python",
   "nbconvert_exporter": "python",
   "pygments_lexer": "ipython3",
   "version": "3.5.6"
  }
 },
 "nbformat": 4,
 "nbformat_minor": 2
}
