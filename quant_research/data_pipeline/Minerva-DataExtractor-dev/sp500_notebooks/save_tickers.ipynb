{
 "cells": [
  {
   "cell_type": "code",
   "execution_count": null,
   "metadata": {},
   "outputs": [],
   "source": [
    "import bs4 as bs\n",
    "import pickle\n",
    "import requests\n",
    "#import pandas as pd \n",
    "\n",
    "def save_sp500_tickers(sector=False):\n",
    "    # make request on SP500 wiki page and find the stock table\n",
    "    resp = requests.get('https://en.wikipedia.org/wiki/List_of_S%26P_500_companies')\n",
    "    soup = bs.BeautifulSoup(resp.text,'lxml')\n",
    "    table = soup.find('table', {'class':'wikitable sortable'})\n",
    "\n",
    "    # if sector is true, fetch industry sector with tickers\n",
    "    if sector:\n",
    "        # create ticker_sector set\n",
    "        ticker_sector = set()\n",
    "        for row in table.findAll('tr')[1:]:\n",
    "            ticker = row.findAll('td')[0].text.strip('\\n')\n",
    "            sector = row.findAll('td')[3].text.lower().replace(' ','_')\n",
    "                \n",
    "            # add tuple to ticker_sector set\n",
    "            ticker_sector.add((ticker,sector))\n",
    "\n",
    "        return ticker_sector\n",
    "\n",
    "    # fetch tickers\n",
    "    tickers = []\n",
    "    for row in table.findAll('tr')[1:]:\n",
    "        ticker = row.findAll('td')[0].text.strip('\\n')\n",
    "        tickers.append(ticker)\n",
    "    #with open('sp500tickers.pickle','wb') as f:\n",
    "        #pickle.dump(tickers,f)\n",
    "\n",
    "    return tickers \n",
    "\n",
    "if __name__ == '__main__':\n",
    "    '''ticker_sector = save_sp500_tickers(sector=True)\n",
    "    ticker_sector = pd.DataFrame(ticker_sector, columns=['tickers','sectors'])\n",
    "    ticker_sector.to_csv('ticker_sector.csv')\n",
    "    print (ticker_sector)'''"
   ]
  }
 ],
 "metadata": {
  "kernelspec": {
   "display_name": "Python 3",
   "language": "python",
   "name": "python3"
  },
  "language_info": {
   "codemirror_mode": {
    "name": "ipython",
    "version": 3
   },
   "file_extension": ".py",
   "mimetype": "text/x-python",
   "name": "python",
   "nbconvert_exporter": "python",
   "pygments_lexer": "ipython3",
   "version": "3.7.1"
  }
 },
 "nbformat": 4,
 "nbformat_minor": 4
}
