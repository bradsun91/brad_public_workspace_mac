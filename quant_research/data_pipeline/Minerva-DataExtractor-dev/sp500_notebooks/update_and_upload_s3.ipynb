{
 "cells": [
  {
   "cell_type": "code",
   "execution_count": null,
   "metadata": {},
   "outputs": [
    {
     "name": "stdout",
     "output_type": "stream",
     "text": [
      "importing Jupyter notebook from aws_boto3.ipynb\n",
      "importing Jupyter notebook from Databases_Design_JSON.ipynb\n",
      "importing Jupyter notebook from save_tickers.ipynb\n",
      "importing Jupyter notebook from fetch_options.ipynb\n",
      "\n",
      "# Start Fetching balance annual for 505 stocks\n",
      "Wrote: MMM\n",
      "Failed: ABT\n",
      "Wrote: ABBV\n",
      "Wrote: ABMD\n"
     ]
    }
   ],
   "source": [
    "import import_ipynb\n",
    "from aws_boto3 import upload_to_aws\n",
    "from Databases_Design_JSON import sp500_financial\n",
    "from fetch_options import get_options\n",
    "import datetime as dt \n",
    "\n",
    "# get financial statements and upload to S3\n",
    "balance_annual = sp500_financial('balance',frequency='annual')\n",
    "cash_annual = sp500_financial('cash',frequency='annual')\n",
    "income_annual = sp500_financial('income',frequency='annual')\n",
    "balance_quarter = sp500_financial('balance',frequency='quarterly')\n",
    "cash_quarter = sp500_financial('cash',frequency='quarterly')\n",
    "income_quarter = sp500_financial('income',frequency='quarterly')\n",
    "key = sp500_financial('key_statistics')\n",
    "\n",
    "balance_annual.get_stmts_df()\n",
    "cash_annual.get_stmts_df()\n",
    "income_annual.get_stmts_df()\n",
    "balance_quarter.get_stmts_df()\n",
    "cash_quarter.get_stmts_df()\n",
    "income_quarter.get_stmts_df()\n",
    "\n",
    "for name in ('balance','cash','income'):\n",
    "        if name == 'cash':\n",
    "                uploaded_annual = upload_to_aws('sp500_fundamentals_dfs/{}_{}_annual.json'.format(str(str(dt.date.today())), name), 'moyi-minerva', 'sp500_{}_annual/{}_{}_annual.json'.format('cashflow', str(dt.date.today()), name))\n",
    "                uploaded_quarterly = upload_to_aws('sp500_fundamentals_dfs/{}_{}_quarterly.json'.format(str(dt.date.today()), name), 'moyi-minerva', 'sp500_{}_quarterly/{}_{}_quarterly.json'.format('cashflow', str(dt.date.today()), name)) \n",
    "        else:\n",
    "                uploaded_annual = upload_to_aws('sp500_fundamentals_dfs/{}_{}_annual.json'.format(str(dt.date.today()), name), 'moyi-minerva', 'sp500_{}_annual/{}_{}_annual.json'.format(name, str(dt.date.today()), name))\n",
    "                uploaded_quarterly = upload_to_aws('sp500_fundamentals_dfs/{}_{}_quarterly.json'.format(str(dt.date.today()), name), 'moyi-minerva', 'sp500_{}_quarterly/{}_{}_quarterly.json'.format(name, str(dt.date.today()), name))\n",
    "print ('\\nsuccessfully uploaded all financial statements!!\\n')\n",
    "\n",
    "# get key statistics and upload to s3\n",
    "key.get_key_stats_df()\n",
    "\n",
    "uploaded_key_stats = upload_to_aws('sp500_key_statistics_dfs/{}_key_statistics.json'.format(str(dt.date.today())), 'moyi-minerva', 'sp500_key_statistics_dfs/{}_key_statistics.json'.format(str(dt.date.today())))\n",
    "print ('\\nsuccessfully uploaded all key statistics!!\\n')\n",
    "\n",
    "# get market cap and upload\n",
    "market_cap = sp500_financial('market_cap')\n",
    "market_cap_df = market_cap.get_market_cap_df()\n",
    "\n",
    "uploaded_market_cap = upload_to_aws('sp500_market_cap_dfs/{}_market_cap.csv'.format(str(dt.date.today())), 'moyi-minerva', 'sp500_market_cap_dfs/{}_market_cap.csv'.format(str(dt.date.today())))\n",
    "print ('\\nsuccessfully uploaded all market capitalizations!!\\n')\n",
    "\n",
    "# get options and upload \n",
    "puts = get_options(option_type='put')\n",
    "calls = get_options(option_type='call')\n",
    "\n",
    "upload_puts = upload_to_aws('sp500_put/{}_put.csv'.format(str(dt.date.today())), 'moyi-minerva', 'sp500_put/{}_put.csv'.format(str(dt.date.today())))\n",
    "upload_calls = upload_to_aws('sp500_call/{}_call.csv'.format(str(dt.date.today())), 'moyi-minerva', 'sp500_call/{}_call.csv'.format(str(dt.date.today())))\n",
    "\n",
    "\n",
    "\n",
    "'''uploaded_ticker_secotr = upload_to_aws('sp500_tickers_sectors.csv', 'moyi-minerva', 'sp500_tickers_sectors.csv')\n",
    "print ('\\nsuccessfully uploaded all company industry!!\\n')'''"
   ]
  },
  {
   "cell_type": "code",
   "execution_count": null,
   "metadata": {},
   "outputs": [],
   "source": []
  }
 ],
 "metadata": {
  "kernelspec": {
   "display_name": "Python 3",
   "language": "python",
   "name": "python3"
  },
  "language_info": {
   "codemirror_mode": {
    "name": "ipython",
    "version": 3
   },
   "file_extension": ".py",
   "mimetype": "text/x-python",
   "name": "python",
   "nbconvert_exporter": "python",
   "pygments_lexer": "ipython3",
   "version": "3.7.1"
  }
 },
 "nbformat": 4,
 "nbformat_minor": 4
}
