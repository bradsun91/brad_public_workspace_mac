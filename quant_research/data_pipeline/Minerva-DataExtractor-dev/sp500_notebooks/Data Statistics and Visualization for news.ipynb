{
 "cells": [
  {
   "cell_type": "code",
   "execution_count": 1,
   "metadata": {},
   "outputs": [],
   "source": [
    "import pandas as pd\n",
    "%matplotlib inline"
   ]
  },
  {
   "cell_type": "code",
   "execution_count": 2,
   "metadata": {},
   "outputs": [],
   "source": [
    "news = pd.read_csv('Nasdaq_news_summary.csv')\n",
    "sector = pd.read_csv('sp500_tickers_sectors.csv')"
   ]
  },
  {
   "cell_type": "code",
   "execution_count": 3,
   "metadata": {},
   "outputs": [],
   "source": [
    "news = news.drop('symbol.1',axis = 1)"
   ]
  },
  {
   "cell_type": "code",
   "execution_count": 4,
   "metadata": {},
   "outputs": [],
   "source": [
    "news['publish_date'] = pd.to_datetime(news['publish_date'],format ='%Y-%m-%d %H:%M:%S')"
   ]
  },
  {
   "cell_type": "code",
   "execution_count": 5,
   "metadata": {},
   "outputs": [
    {
     "data": {
      "text/html": [
       "<div>\n",
       "<style scoped>\n",
       "    .dataframe tbody tr th:only-of-type {\n",
       "        vertical-align: middle;\n",
       "    }\n",
       "\n",
       "    .dataframe tbody tr th {\n",
       "        vertical-align: top;\n",
       "    }\n",
       "\n",
       "    .dataframe thead th {\n",
       "        text-align: right;\n",
       "    }\n",
       "</style>\n",
       "<table border=\"1\" class=\"dataframe\">\n",
       "  <thead>\n",
       "    <tr style=\"text-align: right;\">\n",
       "      <th></th>\n",
       "      <th>symbol</th>\n",
       "      <th>title</th>\n",
       "      <th>publish_date</th>\n",
       "      <th>url</th>\n",
       "      <th>body</th>\n",
       "    </tr>\n",
       "    <tr>\n",
       "      <th>publish_date</th>\n",
       "      <th></th>\n",
       "      <th></th>\n",
       "      <th></th>\n",
       "      <th></th>\n",
       "      <th></th>\n",
       "    </tr>\n",
       "  </thead>\n",
       "  <tbody>\n",
       "    <tr>\n",
       "      <th>2017</th>\n",
       "      <td>3</td>\n",
       "      <td>3</td>\n",
       "      <td>3</td>\n",
       "      <td>3</td>\n",
       "      <td>3</td>\n",
       "    </tr>\n",
       "    <tr>\n",
       "      <th>2018</th>\n",
       "      <td>79</td>\n",
       "      <td>79</td>\n",
       "      <td>79</td>\n",
       "      <td>79</td>\n",
       "      <td>79</td>\n",
       "    </tr>\n",
       "    <tr>\n",
       "      <th>2019</th>\n",
       "      <td>6259</td>\n",
       "      <td>6259</td>\n",
       "      <td>6259</td>\n",
       "      <td>6259</td>\n",
       "      <td>6259</td>\n",
       "    </tr>\n",
       "    <tr>\n",
       "      <th>2020</th>\n",
       "      <td>3531</td>\n",
       "      <td>3531</td>\n",
       "      <td>3531</td>\n",
       "      <td>3531</td>\n",
       "      <td>3531</td>\n",
       "    </tr>\n",
       "  </tbody>\n",
       "</table>\n",
       "</div>"
      ],
      "text/plain": [
       "              symbol  title  publish_date   url  body\n",
       "publish_date                                         \n",
       "2017               3      3             3     3     3\n",
       "2018              79     79            79    79    79\n",
       "2019            6259   6259          6259  6259  6259\n",
       "2020            3531   3531          3531  3531  3531"
      ]
     },
     "execution_count": 5,
     "metadata": {},
     "output_type": "execute_result"
    }
   ],
   "source": [
    "news.groupby(news.publish_date.dt.year).count()"
   ]
  },
  {
   "cell_type": "markdown",
   "metadata": {},
   "source": [
    "# No. of news by year"
   ]
  },
  {
   "cell_type": "code",
   "execution_count": 22,
   "metadata": {},
   "outputs": [
    {
     "data": {
      "image/png": "[encoded data removed]",
      "text/plain": [
       "<Figure size 432x288 with 1 Axes>"
      ]
     },
     "metadata": {
      "needs_background": "light"
     },
     "output_type": "display_data"
    }
   ],
   "source": [
    "ax = news.groupby(news.publish_date.dt.year).url.count().plot(kind = 'bar',title = 'No. of News by year',color = ['C0', 'C1', 'C2','C3'])\n",
    "ax.set_xlabel(\"year\")\n",
    "ax.set_ylabel(\"count\")\n",
    "for p in ax.patches:\n",
    "    ax.annotate(str(p.get_height()), (p.get_x() * 1.005, p.get_height() * 1.005))"
   ]
  },
  {
   "cell_type": "markdown",
   "metadata": {},
   "source": [
    "# No. of news by month"
   ]
  },
  {
   "cell_type": "code",
   "execution_count": 23,
   "metadata": {},
   "outputs": [
    {
     "data": {
      "image/png": "[encoded data removed]",
      "text/plain": [
       "<Figure size 432x288 with 1 Axes>"
      ]
     },
     "metadata": {
      "needs_background": "light"
     },
     "output_type": "display_data"
    }
   ],
   "source": [
    "ax2 = news.groupby(news.publish_date.dt.month).url.count().plot(kind = 'bar',title = 'No. of News by Month',color = ['C0', 'C1', 'C2','C3','C4','C5','C6','C7','C8','C9','C10','C11','C12'])\n",
    "ax2.set_xlabel(\"Month\")\n",
    "ax2.set_ylabel(\"count\")\n",
    "for p in ax2.patches:\n",
    "    ax2.annotate(str(p.get_height()), (p.get_x() * 1.005, p.get_height() * 1.005))"
   ]
  },
  {
   "cell_type": "markdown",
   "metadata": {},
   "source": [
    "# No. of news by day"
   ]
  },
  {
   "cell_type": "code",
   "execution_count": 24,
   "metadata": {},
   "outputs": [
    {
     "data": {
      "image/png": "[encoded data removed]",
      "text/plain": [
       "<Figure size 432x288 with 1 Axes>"
      ]
     },
     "metadata": {
      "needs_background": "light"
     },
     "output_type": "display_data"
    }
   ],
   "source": [
    "ax3 = news.groupby(news.publish_date.dt.day).url.count().plot(kind = 'bar',title = 'No. of News by day',colormap = 'Paired')\n",
    "ax3.set_xlabel(\"Day\")\n",
    "ax3.set_ylabel(\"count\")\n",
    "for p in ax3.patches:\n",
    "    ax3.annotate(str(p.get_height()), (p.get_x() * 1.005, p.get_height() * 1.005))"
   ]
  },
  {
   "cell_type": "markdown",
   "metadata": {},
   "source": [
    "# Extraction of IT sector"
   ]
  },
  {
   "cell_type": "code",
   "execution_count": 10,
   "metadata": {},
   "outputs": [
    {
     "data": {
      "text/html": [
       "<div>\n",
       "<style scoped>\n",
       "    .dataframe tbody tr th:only-of-type {\n",
       "        vertical-align: middle;\n",
       "    }\n",
       "\n",
       "    .dataframe tbody tr th {\n",
       "        vertical-align: top;\n",
       "    }\n",
       "\n",
       "    .dataframe thead th {\n",
       "        text-align: right;\n",
       "    }\n",
       "</style>\n",
       "<table border=\"1\" class=\"dataframe\">\n",
       "  <thead>\n",
       "    <tr style=\"text-align: right;\">\n",
       "      <th></th>\n",
       "      <th>symbol</th>\n",
       "      <th>sectors</th>\n",
       "    </tr>\n",
       "  </thead>\n",
       "  <tbody>\n",
       "    <tr>\n",
       "      <th>0</th>\n",
       "      <td>BKNG</td>\n",
       "      <td>consumer_discretionary</td>\n",
       "    </tr>\n",
       "    <tr>\n",
       "      <th>1</th>\n",
       "      <td>COO</td>\n",
       "      <td>health_care</td>\n",
       "    </tr>\n",
       "    <tr>\n",
       "      <th>2</th>\n",
       "      <td>AAL</td>\n",
       "      <td>industrials</td>\n",
       "    </tr>\n",
       "    <tr>\n",
       "      <th>3</th>\n",
       "      <td>GD</td>\n",
       "      <td>industrials</td>\n",
       "    </tr>\n",
       "    <tr>\n",
       "      <th>4</th>\n",
       "      <td>KR</td>\n",
       "      <td>consumer_staples</td>\n",
       "    </tr>\n",
       "    <tr>\n",
       "      <th>...</th>\n",
       "      <td>...</td>\n",
       "      <td>...</td>\n",
       "    </tr>\n",
       "    <tr>\n",
       "      <th>500</th>\n",
       "      <td>MSFT</td>\n",
       "      <td>information_technology</td>\n",
       "    </tr>\n",
       "    <tr>\n",
       "      <th>501</th>\n",
       "      <td>LIN</td>\n",
       "      <td>materials</td>\n",
       "    </tr>\n",
       "    <tr>\n",
       "      <th>502</th>\n",
       "      <td>DVA</td>\n",
       "      <td>health_care</td>\n",
       "    </tr>\n",
       "    <tr>\n",
       "      <th>503</th>\n",
       "      <td>STE</td>\n",
       "      <td>health_care</td>\n",
       "    </tr>\n",
       "    <tr>\n",
       "      <th>504</th>\n",
       "      <td>AIV</td>\n",
       "      <td>real_estate</td>\n",
       "    </tr>\n",
       "  </tbody>\n",
       "</table>\n",
       "<p>505 rows × 2 columns</p>\n",
       "</div>"
      ],
      "text/plain": [
       "    symbol                 sectors\n",
       "0     BKNG  consumer_discretionary\n",
       "1      COO             health_care\n",
       "2      AAL             industrials\n",
       "3       GD             industrials\n",
       "4       KR        consumer_staples\n",
       "..     ...                     ...\n",
       "500   MSFT  information_technology\n",
       "501    LIN               materials\n",
       "502    DVA             health_care\n",
       "503    STE             health_care\n",
       "504    AIV             real_estate\n",
       "\n",
       "[505 rows x 2 columns]"
      ]
     },
     "execution_count": 10,
     "metadata": {},
     "output_type": "execute_result"
    }
   ],
   "source": [
    "sector = sector.rename(columns={'tickers': 'symbol'})\n",
    "sector"
   ]
  },
  {
   "cell_type": "code",
   "execution_count": 11,
   "metadata": {},
   "outputs": [],
   "source": [
    "pd = pd.merge(sector,news,on = 'symbol', how = 'left')"
   ]
  },
  {
   "cell_type": "code",
   "execution_count": 12,
   "metadata": {},
   "outputs": [],
   "source": [
    "it = pd[pd.sectors == 'information_technology']"
   ]
  },
  {
   "cell_type": "code",
   "execution_count": 13,
   "metadata": {},
   "outputs": [
    {
     "data": {
      "text/plain": [
       "array(['consumer_discretionary', 'health_care', 'industrials',\n",
       "       'consumer_staples', 'materials', 'real_estate', 'utilities',\n",
       "       'information_technology', 'financials', 'communication_services',\n",
       "       'energy', 'communication_services\\n'], dtype=object)"
      ]
     },
     "execution_count": 13,
     "metadata": {},
     "output_type": "execute_result"
    }
   ],
   "source": [
    "pd.sectors.unique()"
   ]
  },
  {
   "cell_type": "code",
   "execution_count": 20,
   "metadata": {},
   "outputs": [],
   "source": [
    "it.to_csv('IT.csv')"
   ]
  },
  {
   "cell_type": "code",
   "execution_count": 14,
   "metadata": {},
   "outputs": [
    {
     "data": {
      "text/html": [
       "<div>\n",
       "<style scoped>\n",
       "    .dataframe tbody tr th:only-of-type {\n",
       "        vertical-align: middle;\n",
       "    }\n",
       "\n",
       "    .dataframe tbody tr th {\n",
       "        vertical-align: top;\n",
       "    }\n",
       "\n",
       "    .dataframe thead th {\n",
       "        text-align: right;\n",
       "    }\n",
       "</style>\n",
       "<table border=\"1\" class=\"dataframe\">\n",
       "  <thead>\n",
       "    <tr style=\"text-align: right;\">\n",
       "      <th></th>\n",
       "      <th>symbol</th>\n",
       "      <th>sectors</th>\n",
       "      <th>title</th>\n",
       "      <th>publish_date</th>\n",
       "      <th>url</th>\n",
       "      <th>body</th>\n",
       "    </tr>\n",
       "  </thead>\n",
       "  <tbody>\n",
       "    <tr>\n",
       "      <th>261</th>\n",
       "      <td>LRCX</td>\n",
       "      <td>information_technology</td>\n",
       "      <td>SOXX  LRCX  NXPI  AMAT: ETF Inflow Alert</td>\n",
       "      <td>2020-01-27 10:55:00</td>\n",
       "      <td>https://www.nasdaq.com/articles/soxx-lrcx-nxpi...</td>\n",
       "      <td>Looking today at week-over-week shares outstan...</td>\n",
       "    </tr>\n",
       "    <tr>\n",
       "      <th>262</th>\n",
       "      <td>LRCX</td>\n",
       "      <td>information_technology</td>\n",
       "      <td>Notable Friday Option Activity: ATGE  LRCX  LULU</td>\n",
       "      <td>2020-01-24 15:23:00</td>\n",
       "      <td>https://www.nasdaq.com/articles/notable-friday...</td>\n",
       "      <td>Looking at options trading activity among comp...</td>\n",
       "    </tr>\n",
       "    <tr>\n",
       "      <th>263</th>\n",
       "      <td>LRCX</td>\n",
       "      <td>information_technology</td>\n",
       "      <td>Why MKS Instruments Surged 70% in 2019</td>\n",
       "      <td>2020-01-10 17:43:00</td>\n",
       "      <td>https://www.nasdaq.com/articles/why-mks-instru...</td>\n",
       "      <td>What happenedShares in electronic test and mea...</td>\n",
       "    </tr>\n",
       "    <tr>\n",
       "      <th>264</th>\n",
       "      <td>LRCX</td>\n",
       "      <td>information_technology</td>\n",
       "      <td>Monday Sector Laggards: Industrial  Consumer P...</td>\n",
       "      <td>2020-01-06 15:16:00</td>\n",
       "      <td>https://www.nasdaq.com/articles/monday-sector-...</td>\n",
       "      <td>In afternoon trading on Monday  Industrial sto...</td>\n",
       "    </tr>\n",
       "    <tr>\n",
       "      <th>265</th>\n",
       "      <td>LRCX</td>\n",
       "      <td>information_technology</td>\n",
       "      <td>SOXX  AMD  MU  LRCX: Large Outflows Detected a...</td>\n",
       "      <td>2020-01-06 10:57:00</td>\n",
       "      <td>https://www.nasdaq.com/articles/soxx-amd-mu-lr...</td>\n",
       "      <td>Looking today at week-over-week shares outstan...</td>\n",
       "    </tr>\n",
       "    <tr>\n",
       "      <th>...</th>\n",
       "      <td>...</td>\n",
       "      <td>...</td>\n",
       "      <td>...</td>\n",
       "      <td>...</td>\n",
       "      <td>...</td>\n",
       "      <td>...</td>\n",
       "    </tr>\n",
       "    <tr>\n",
       "      <th>9797</th>\n",
       "      <td>MSFT</td>\n",
       "      <td>information_technology</td>\n",
       "      <td>These 4 U.S. Stocks Have Reached a $1 Trillion...</td>\n",
       "      <td>2020-01-27 07:33:00</td>\n",
       "      <td>https://www.nasdaq.com/articles/these-4-u.s.-s...</td>\n",
       "      <td>Over the past two years  Apple (NASDAQ: AAPL) ...</td>\n",
       "    </tr>\n",
       "    <tr>\n",
       "      <th>9798</th>\n",
       "      <td>MSFT</td>\n",
       "      <td>information_technology</td>\n",
       "      <td>The 9 Biggest Virtual Reality Stocks</td>\n",
       "      <td>2020-01-26 12:17:00</td>\n",
       "      <td>https://www.nasdaq.com/articles/the-9-biggest-...</td>\n",
       "      <td>Virtual reality (VR) was once thought to be so...</td>\n",
       "    </tr>\n",
       "    <tr>\n",
       "      <th>9799</th>\n",
       "      <td>MSFT</td>\n",
       "      <td>information_technology</td>\n",
       "      <td>The 9 Biggest Virtual Reality Stocks</td>\n",
       "      <td>2020-01-26 12:17:00</td>\n",
       "      <td>https://www.nasdaq.com/articles/the-9-biggest-...</td>\n",
       "      <td>Virtual reality (VR) was once thought to be so...</td>\n",
       "    </tr>\n",
       "    <tr>\n",
       "      <th>9800</th>\n",
       "      <td>MSFT</td>\n",
       "      <td>information_technology</td>\n",
       "      <td>2 Stocks That Turned $500 Into $1 Million</td>\n",
       "      <td>2020-01-26 08:15:00</td>\n",
       "      <td>https://www.nasdaq.com/articles/2-stocks-that-...</td>\n",
       "      <td>Some people may be marveling at how cloud soft...</td>\n",
       "    </tr>\n",
       "    <tr>\n",
       "      <th>9801</th>\n",
       "      <td>MSFT</td>\n",
       "      <td>information_technology</td>\n",
       "      <td>Tech Fourth Quarter Earnings In The Spotlight ...</td>\n",
       "      <td>2020-01-26 08:07:00</td>\n",
       "      <td>https://www.nasdaq.com/articles/tech-fourth-qu...</td>\n",
       "      <td>Despite worries about global economic growth  ...</td>\n",
       "    </tr>\n",
       "  </tbody>\n",
       "</table>\n",
       "<p>1400 rows × 6 columns</p>\n",
       "</div>"
      ],
      "text/plain": [
       "     symbol                 sectors  \\\n",
       "261    LRCX  information_technology   \n",
       "262    LRCX  information_technology   \n",
       "263    LRCX  information_technology   \n",
       "264    LRCX  information_technology   \n",
       "265    LRCX  information_technology   \n",
       "...     ...                     ...   \n",
       "9797   MSFT  information_technology   \n",
       "9798   MSFT  information_technology   \n",
       "9799   MSFT  information_technology   \n",
       "9800   MSFT  information_technology   \n",
       "9801   MSFT  information_technology   \n",
       "\n",
       "                                                  title        publish_date  \\\n",
       "261            SOXX  LRCX  NXPI  AMAT: ETF Inflow Alert 2020-01-27 10:55:00   \n",
       "262    Notable Friday Option Activity: ATGE  LRCX  LULU 2020-01-24 15:23:00   \n",
       "263              Why MKS Instruments Surged 70% in 2019 2020-01-10 17:43:00   \n",
       "264   Monday Sector Laggards: Industrial  Consumer P... 2020-01-06 15:16:00   \n",
       "265   SOXX  AMD  MU  LRCX: Large Outflows Detected a... 2020-01-06 10:57:00   \n",
       "...                                                 ...                 ...   \n",
       "9797  These 4 U.S. Stocks Have Reached a $1 Trillion... 2020-01-27 07:33:00   \n",
       "9798               The 9 Biggest Virtual Reality Stocks 2020-01-26 12:17:00   \n",
       "9799               The 9 Biggest Virtual Reality Stocks 2020-01-26 12:17:00   \n",
       "9800          2 Stocks That Turned $500 Into $1 Million 2020-01-26 08:15:00   \n",
       "9801  Tech Fourth Quarter Earnings In The Spotlight ... 2020-01-26 08:07:00   \n",
       "\n",
       "                                                    url  \\\n",
       "261   https://www.nasdaq.com/articles/soxx-lrcx-nxpi...   \n",
       "262   https://www.nasdaq.com/articles/notable-friday...   \n",
       "263   https://www.nasdaq.com/articles/why-mks-instru...   \n",
       "264   https://www.nasdaq.com/articles/monday-sector-...   \n",
       "265   https://www.nasdaq.com/articles/soxx-amd-mu-lr...   \n",
       "...                                                 ...   \n",
       "9797  https://www.nasdaq.com/articles/these-4-u.s.-s...   \n",
       "9798  https://www.nasdaq.com/articles/the-9-biggest-...   \n",
       "9799  https://www.nasdaq.com/articles/the-9-biggest-...   \n",
       "9800  https://www.nasdaq.com/articles/2-stocks-that-...   \n",
       "9801  https://www.nasdaq.com/articles/tech-fourth-qu...   \n",
       "\n",
       "                                                   body  \n",
       "261   Looking today at week-over-week shares outstan...  \n",
       "262   Looking at options trading activity among comp...  \n",
       "263   What happenedShares in electronic test and mea...  \n",
       "264   In afternoon trading on Monday  Industrial sto...  \n",
       "265   Looking today at week-over-week shares outstan...  \n",
       "...                                                 ...  \n",
       "9797  Over the past two years  Apple (NASDAQ: AAPL) ...  \n",
       "9798  Virtual reality (VR) was once thought to be so...  \n",
       "9799  Virtual reality (VR) was once thought to be so...  \n",
       "9800  Some people may be marveling at how cloud soft...  \n",
       "9801  Despite worries about global economic growth  ...  \n",
       "\n",
       "[1400 rows x 6 columns]"
      ]
     },
     "execution_count": 14,
     "metadata": {},
     "output_type": "execute_result"
    }
   ],
   "source": [
    "it"
   ]
  },
  {
   "cell_type": "markdown",
   "metadata": {},
   "source": [
    "No. of News By companies"
   ]
  },
  {
   "cell_type": "code",
   "execution_count": 56,
   "metadata": {},
   "outputs": [
    {
     "data": {
      "image/png": "[encoded data removed]",
      "text/plain": [
       "<Figure size 432x288 with 1 Axes>"
      ]
     },
     "metadata": {
      "needs_background": "light"
     },
     "output_type": "display_data"
    }
   ],
   "source": [
    "ax4 = it.groupby(it.symbol).url.count().plot(kind = 'line',title = 'No. of News by day',colormap = 'Paired')\n",
    "ax4.set_xlabel(\"Company\")\n",
    "ax4.set_ylabel(\"count\")\n",
    "for p in ax4.patches:\n",
    "    ax4.annotate(str(p.get_height()), (p.get_x() * 1.005, p.get_height() * 1.005))"
   ]
  },
  {
   "cell_type": "code",
   "execution_count": null,
   "metadata": {},
   "outputs": [],
   "source": []
  }
 ],
 "metadata": {
  "kernelspec": {
   "display_name": "Python 3",
   "language": "python",
   "name": "python3"
  },
  "language_info": {
   "codemirror_mode": {
    "name": "ipython",
    "version": 3
   },
   "file_extension": ".py",
   "mimetype": "text/x-python",
   "name": "python",
   "nbconvert_exporter": "python",
   "pygments_lexer": "ipython3",
   "version": "3.7.4"
  }
 },
 "nbformat": 4,
 "nbformat_minor": 2
}
