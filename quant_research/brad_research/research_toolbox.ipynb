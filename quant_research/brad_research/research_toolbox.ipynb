{
 "cells": [
  {
   "cell_type": "code",
   "execution_count": 43,
   "metadata": {},
   "outputs": [],
   "source": [
    "import random\n",
    "import pandas as pd, numpy as np\n",
    "import matplotlib.pyplot as plt\n",
    "import seaborn as sns\n",
    "sns.set(style=\"darkgrid\")\n",
    "%matplotlib inline"
   ]
  },
  {
   "cell_type": "code",
   "execution_count": 48,
   "metadata": {},
   "outputs": [],
   "source": [
    "data_folder = \"/Users/miaoyuesun/Code_Workspace/brad_public_workspace_mac/data/CH_database/\"\n",
    "data = pd.read_csv(data_folder+\"sh000001.csv\")"
   ]
  },
  {
   "cell_type": "markdown",
   "metadata": {},
   "source": [
    "# Page 192 - 概率分布\n",
    "\n",
    "- stats.kde.gaussian_kde() 高斯核概率分布\n",
    "- stats.norm.ppf() 正态分布（高斯分布Gaussian Distribution/钟形曲线）应用:VaR"
   ]
  },
  {
   "cell_type": "code",
   "execution_count": 8,
   "metadata": {},
   "outputs": [],
   "source": [
    "from scipy import stats"
   ]
  },
  {
   "cell_type": "markdown",
   "metadata": {},
   "source": [
    "## stats.kde.gaussian_kde() 高斯核概率分布"
   ]
  },
  {
   "cell_type": "code",
   "execution_count": 49,
   "metadata": {},
   "outputs": [],
   "source": [
    "data['returns'] = data['close'].pct_change()\n",
    "data.dropna(inplace=True)"
   ]
  },
  {
   "cell_type": "code",
   "execution_count": 50,
   "metadata": {},
   "outputs": [
    {
     "data": {
      "text/html": [
       "<div>\n",
       "<style scoped>\n",
       "    .dataframe tbody tr th:only-of-type {\n",
       "        vertical-align: middle;\n",
       "    }\n",
       "\n",
       "    .dataframe tbody tr th {\n",
       "        vertical-align: top;\n",
       "    }\n",
       "\n",
       "    .dataframe thead th {\n",
       "        text-align: right;\n",
       "    }\n",
       "</style>\n",
       "<table border=\"1\" class=\"dataframe\">\n",
       "  <thead>\n",
       "    <tr style=\"text-align: right;\">\n",
       "      <th></th>\n",
       "      <th>date</th>\n",
       "      <th>open</th>\n",
       "      <th>high</th>\n",
       "      <th>low</th>\n",
       "      <th>close</th>\n",
       "      <th>volume</th>\n",
       "      <th>code</th>\n",
       "      <th>returns</th>\n",
       "    </tr>\n",
       "  </thead>\n",
       "  <tbody>\n",
       "    <tr>\n",
       "      <th>1</th>\n",
       "      <td>1990-12-21</td>\n",
       "      <td>109.0700</td>\n",
       "      <td>109.1300</td>\n",
       "      <td>103.7300</td>\n",
       "      <td>109.1300</td>\n",
       "      <td>28.0</td>\n",
       "      <td>sh000001</td>\n",
       "      <td>0.045407</td>\n",
       "    </tr>\n",
       "    <tr>\n",
       "      <th>2</th>\n",
       "      <td>1990-12-24</td>\n",
       "      <td>113.5700</td>\n",
       "      <td>114.5500</td>\n",
       "      <td>109.1300</td>\n",
       "      <td>114.5500</td>\n",
       "      <td>32.0</td>\n",
       "      <td>sh000001</td>\n",
       "      <td>0.049666</td>\n",
       "    </tr>\n",
       "    <tr>\n",
       "      <th>3</th>\n",
       "      <td>1990-12-25</td>\n",
       "      <td>120.0900</td>\n",
       "      <td>120.2500</td>\n",
       "      <td>114.5500</td>\n",
       "      <td>120.2500</td>\n",
       "      <td>15.0</td>\n",
       "      <td>sh000001</td>\n",
       "      <td>0.049760</td>\n",
       "    </tr>\n",
       "    <tr>\n",
       "      <th>4</th>\n",
       "      <td>1990-12-26</td>\n",
       "      <td>125.2700</td>\n",
       "      <td>125.2700</td>\n",
       "      <td>120.2500</td>\n",
       "      <td>125.2700</td>\n",
       "      <td>100.0</td>\n",
       "      <td>sh000001</td>\n",
       "      <td>0.041746</td>\n",
       "    </tr>\n",
       "    <tr>\n",
       "      <th>5</th>\n",
       "      <td>1990-12-27</td>\n",
       "      <td>125.2700</td>\n",
       "      <td>125.2800</td>\n",
       "      <td>125.2700</td>\n",
       "      <td>125.2800</td>\n",
       "      <td>66.0</td>\n",
       "      <td>sh000001</td>\n",
       "      <td>0.000080</td>\n",
       "    </tr>\n",
       "    <tr>\n",
       "      <th>...</th>\n",
       "      <td>...</td>\n",
       "      <td>...</td>\n",
       "      <td>...</td>\n",
       "      <td>...</td>\n",
       "      <td>...</td>\n",
       "      <td>...</td>\n",
       "      <td>...</td>\n",
       "      <td>...</td>\n",
       "    </tr>\n",
       "    <tr>\n",
       "      <th>7110</th>\n",
       "      <td>2020-01-17</td>\n",
       "      <td>3081.4641</td>\n",
       "      <td>3091.9516</td>\n",
       "      <td>3067.2525</td>\n",
       "      <td>3075.4955</td>\n",
       "      <td>190304299.0</td>\n",
       "      <td>sh000001</td>\n",
       "      <td>0.000460</td>\n",
       "    </tr>\n",
       "    <tr>\n",
       "      <th>7111</th>\n",
       "      <td>2020-01-20</td>\n",
       "      <td>3082.1134</td>\n",
       "      <td>3096.3105</td>\n",
       "      <td>3070.4801</td>\n",
       "      <td>3095.7873</td>\n",
       "      <td>210493341.0</td>\n",
       "      <td>sh000001</td>\n",
       "      <td>0.006598</td>\n",
       "    </tr>\n",
       "    <tr>\n",
       "      <th>7112</th>\n",
       "      <td>2020-01-21</td>\n",
       "      <td>3085.7895</td>\n",
       "      <td>3085.7895</td>\n",
       "      <td>3051.2301</td>\n",
       "      <td>3052.1419</td>\n",
       "      <td>234830739.0</td>\n",
       "      <td>sh000001</td>\n",
       "      <td>-0.014098</td>\n",
       "    </tr>\n",
       "    <tr>\n",
       "      <th>7113</th>\n",
       "      <td>2020-01-22</td>\n",
       "      <td>3038.4868</td>\n",
       "      <td>3069.2527</td>\n",
       "      <td>3006.2677</td>\n",
       "      <td>3060.7545</td>\n",
       "      <td>223852865.0</td>\n",
       "      <td>sh000001</td>\n",
       "      <td>0.002822</td>\n",
       "    </tr>\n",
       "    <tr>\n",
       "      <th>7114</th>\n",
       "      <td>2020-01-23</td>\n",
       "      <td>3037.9524</td>\n",
       "      <td>3045.0406</td>\n",
       "      <td>2955.3460</td>\n",
       "      <td>2976.5281</td>\n",
       "      <td>272763234.0</td>\n",
       "      <td>sh000001</td>\n",
       "      <td>-0.027518</td>\n",
       "    </tr>\n",
       "  </tbody>\n",
       "</table>\n",
       "<p>7114 rows × 8 columns</p>\n",
       "</div>"
      ],
      "text/plain": [
       "            date       open       high        low      close       volume  \\\n",
       "1     1990-12-21   109.0700   109.1300   103.7300   109.1300         28.0   \n",
       "2     1990-12-24   113.5700   114.5500   109.1300   114.5500         32.0   \n",
       "3     1990-12-25   120.0900   120.2500   114.5500   120.2500         15.0   \n",
       "4     1990-12-26   125.2700   125.2700   120.2500   125.2700        100.0   \n",
       "5     1990-12-27   125.2700   125.2800   125.2700   125.2800         66.0   \n",
       "...          ...        ...        ...        ...        ...          ...   \n",
       "7110  2020-01-17  3081.4641  3091.9516  3067.2525  3075.4955  190304299.0   \n",
       "7111  2020-01-20  3082.1134  3096.3105  3070.4801  3095.7873  210493341.0   \n",
       "7112  2020-01-21  3085.7895  3085.7895  3051.2301  3052.1419  234830739.0   \n",
       "7113  2020-01-22  3038.4868  3069.2527  3006.2677  3060.7545  223852865.0   \n",
       "7114  2020-01-23  3037.9524  3045.0406  2955.3460  2976.5281  272763234.0   \n",
       "\n",
       "          code   returns  \n",
       "1     sh000001  0.045407  \n",
       "2     sh000001  0.049666  \n",
       "3     sh000001  0.049760  \n",
       "4     sh000001  0.041746  \n",
       "5     sh000001  0.000080  \n",
       "...        ...       ...  \n",
       "7110  sh000001  0.000460  \n",
       "7111  sh000001  0.006598  \n",
       "7112  sh000001 -0.014098  \n",
       "7113  sh000001  0.002822  \n",
       "7114  sh000001 -0.027518  \n",
       "\n",
       "[7114 rows x 8 columns]"
      ]
     },
     "execution_count": 50,
     "metadata": {},
     "output_type": "execute_result"
    }
   ],
   "source": [
    "data"
   ]
  },
  {
   "cell_type": "code",
   "execution_count": 51,
   "metadata": {},
   "outputs": [],
   "source": [
    "density=stats.kde.gaussian_kde(data['returns']) \n",
    "bins = np.arange(-0.1,0.1,0.0002)"
   ]
  },
  {
   "cell_type": "code",
   "execution_count": 52,
   "metadata": {},
   "outputs": [
    {
     "data": {
      "text/plain": [
       "Text(0.5, 1.0, 'PDF on Shanghai Composite Index Daily Returns')"
      ]
     },
     "execution_count": 52,
     "metadata": {},
     "output_type": "execute_result"
    },
    {
     "data": {
      "image/png": "[encoded data removed]",
      "text/plain": [
       "<Figure size 1008x576 with 1 Axes>"
      ]
     },
     "metadata": {
      "needs_background": "light"
     },
     "output_type": "display_data"
    }
   ],
   "source": [
    "plt.figure(figsize=(14,8))\n",
    "plt.subplot(211)\n",
    "plt.plot(bins, density(bins))\n",
    "plt.title('PDF on Shanghai Composite Index Daily Returns')"
   ]
  },
  {
   "cell_type": "code",
   "execution_count": 53,
   "metadata": {},
   "outputs": [
    {
     "data": {
      "text/plain": [
       "Text(0.5, 1.0, 'PDF on Shanghai Composite Index Cumulative Daily Returns')"
      ]
     },
     "execution_count": 53,
     "metadata": {},
     "output_type": "execute_result"
    },
    {
     "data": {
      "image/png": "[encoded data removed]",
      "text/plain": [
       "<Figure size 1008x576 with 1 Axes>"
      ]
     },
     "metadata": {
      "needs_background": "light"
     },
     "output_type": "display_data"
    }
   ],
   "source": [
    "plt.figure(figsize=(14,8))\n",
    "plt.subplot(211)\n",
    "plt.plot(bins, density(bins).cumsum())\n",
    "plt.title('PDF on Shanghai Composite Index Cumulative Daily Returns')"
   ]
  },
  {
   "cell_type": "markdown",
   "metadata": {},
   "source": [
    "## 正态分布 stats.norm.ppf() 应用在VaR上"
   ]
  },
  {
   "cell_type": "code",
   "execution_count": 56,
   "metadata": {},
   "outputs": [],
   "source": [
    "returns = data['returns']\n",
    "returns_means = returns.mean()\n",
    "returns_variance = returns.var()"
   ]
  },
  {
   "cell_type": "code",
   "execution_count": 58,
   "metadata": {},
   "outputs": [
    {
     "name": "stdout",
     "output_type": "stream",
     "text": [
      "0.0007393614556032737\n",
      "0.0006076815341998795\n"
     ]
    }
   ],
   "source": [
    "print(returns_means)\n",
    "print(returns_variance)"
   ]
  },
  {
   "cell_type": "code",
   "execution_count": 60,
   "metadata": {},
   "outputs": [
    {
     "data": {
      "text/plain": [
       "-0.03980825002804818"
      ]
     },
     "execution_count": 60,
     "metadata": {},
     "output_type": "execute_result"
    }
   ],
   "source": [
    "# 查询累积密度值为0.05的分位数\n",
    "stats.norm.ppf(0.05,returns_means, returns_variance**0.5) #有95%的概率日损失不会超过3.98%"
   ]
  }
 ],
 "metadata": {
  "kernelspec": {
   "display_name": "Python 3",
   "language": "python",
   "name": "python3"
  },
  "language_info": {
   "codemirror_mode": {
    "name": "ipython",
    "version": 3
   },
   "file_extension": ".py",
   "mimetype": "text/x-python",
   "name": "python",
   "nbconvert_exporter": "python",
   "pygments_lexer": "ipython3",
   "version": "3.6.10"
  }
 },
 "nbformat": 4,
 "nbformat_minor": 2
}
