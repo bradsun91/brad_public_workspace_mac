{
 "cells": [
  {
   "cell_type": "code",
   "execution_count": 43,
   "metadata": {},
   "outputs": [],
   "source": [
    "import random\n",
    "import pandas as pd, numpy as np\n",
    "import matplotlib.pyplot as plt\n",
    "import seaborn as sns\n",
    "sns.set(style=\"darkgrid\")\n",
    "%matplotlib inline"
   ]
  },
  {
   "cell_type": "code",
   "execution_count": 67,
   "metadata": {},
   "outputs": [],
   "source": [
    "data_folder = \"/Users/miaoyuesun/Code_Workspace/brad_public_workspace_mac/data/CH_database/\"\n",
    "data = pd.read_csv(data_folder+\"sh000001.csv\")"
   ]
  },
  {
   "cell_type": "markdown",
   "metadata": {},
   "source": [
    "# 第十四章 - 随机变量简介\n",
    "- np.random.binomial() 二项式分布 binomial distribution - 离散型分布\n",
    "- stats.kde.gaussian_kde() 高斯核概率分布\n",
    "- stats.norm.ppf() 正态分布/高斯分布/Normal Distribution/Gaussian Distribution/钟形曲线）应用:VaR - 连续形分布\n",
    "- 卡方分布\n",
    "- t分布\n",
    "- F分布"
   ]
  },
  {
   "cell_type": "code",
   "execution_count": 8,
   "metadata": {},
   "outputs": [],
   "source": [
    "from scipy import stats"
   ]
  },
  {
   "cell_type": "markdown",
   "metadata": {},
   "source": [
    "## stats.kde.gaussian_kde() 高斯核概率分布"
   ]
  },
  {
   "cell_type": "code",
   "execution_count": 88,
   "metadata": {},
   "outputs": [],
   "source": [
    "data['returns'] = data['close'].pct_change()\n",
    "data.dropna(inplace=True)"
   ]
  },
  {
   "cell_type": "code",
   "execution_count": 89,
   "metadata": {},
   "outputs": [
    {
     "data": {
      "text/html": [
       "<div>\n",
       "<style scoped>\n",
       "    .dataframe tbody tr th:only-of-type {\n",
       "        vertical-align: middle;\n",
       "    }\n",
       "\n",
       "    .dataframe tbody tr th {\n",
       "        vertical-align: top;\n",
       "    }\n",
       "\n",
       "    .dataframe thead th {\n",
       "        text-align: right;\n",
       "    }\n",
       "</style>\n",
       "<table border=\"1\" class=\"dataframe\">\n",
       "  <thead>\n",
       "    <tr style=\"text-align: right;\">\n",
       "      <th></th>\n",
       "      <th>trade_date</th>\n",
       "      <th>open</th>\n",
       "      <th>high</th>\n",
       "      <th>low</th>\n",
       "      <th>close</th>\n",
       "      <th>volume</th>\n",
       "      <th>ts_code</th>\n",
       "      <th>returns</th>\n",
       "    </tr>\n",
       "  </thead>\n",
       "  <tbody>\n",
       "    <tr>\n",
       "      <th>1</th>\n",
       "      <td>1990-12-21</td>\n",
       "      <td>109.0700</td>\n",
       "      <td>109.1300</td>\n",
       "      <td>103.7300</td>\n",
       "      <td>109.1300</td>\n",
       "      <td>28.0</td>\n",
       "      <td>sh000001</td>\n",
       "      <td>0.045407</td>\n",
       "    </tr>\n",
       "    <tr>\n",
       "      <th>2</th>\n",
       "      <td>1990-12-24</td>\n",
       "      <td>113.5700</td>\n",
       "      <td>114.5500</td>\n",
       "      <td>109.1300</td>\n",
       "      <td>114.5500</td>\n",
       "      <td>32.0</td>\n",
       "      <td>sh000001</td>\n",
       "      <td>0.049666</td>\n",
       "    </tr>\n",
       "    <tr>\n",
       "      <th>3</th>\n",
       "      <td>1990-12-25</td>\n",
       "      <td>120.0900</td>\n",
       "      <td>120.2500</td>\n",
       "      <td>114.5500</td>\n",
       "      <td>120.2500</td>\n",
       "      <td>15.0</td>\n",
       "      <td>sh000001</td>\n",
       "      <td>0.049760</td>\n",
       "    </tr>\n",
       "    <tr>\n",
       "      <th>4</th>\n",
       "      <td>1990-12-26</td>\n",
       "      <td>125.2700</td>\n",
       "      <td>125.2700</td>\n",
       "      <td>120.2500</td>\n",
       "      <td>125.2700</td>\n",
       "      <td>100.0</td>\n",
       "      <td>sh000001</td>\n",
       "      <td>0.041746</td>\n",
       "    </tr>\n",
       "    <tr>\n",
       "      <th>5</th>\n",
       "      <td>1990-12-27</td>\n",
       "      <td>125.2700</td>\n",
       "      <td>125.2800</td>\n",
       "      <td>125.2700</td>\n",
       "      <td>125.2800</td>\n",
       "      <td>66.0</td>\n",
       "      <td>sh000001</td>\n",
       "      <td>0.000080</td>\n",
       "    </tr>\n",
       "    <tr>\n",
       "      <th>...</th>\n",
       "      <td>...</td>\n",
       "      <td>...</td>\n",
       "      <td>...</td>\n",
       "      <td>...</td>\n",
       "      <td>...</td>\n",
       "      <td>...</td>\n",
       "      <td>...</td>\n",
       "      <td>...</td>\n",
       "    </tr>\n",
       "    <tr>\n",
       "      <th>7110</th>\n",
       "      <td>2020-01-17</td>\n",
       "      <td>3081.4641</td>\n",
       "      <td>3091.9516</td>\n",
       "      <td>3067.2525</td>\n",
       "      <td>3075.4955</td>\n",
       "      <td>190304299.0</td>\n",
       "      <td>sh000001</td>\n",
       "      <td>0.000460</td>\n",
       "    </tr>\n",
       "    <tr>\n",
       "      <th>7111</th>\n",
       "      <td>2020-01-20</td>\n",
       "      <td>3082.1134</td>\n",
       "      <td>3096.3105</td>\n",
       "      <td>3070.4801</td>\n",
       "      <td>3095.7873</td>\n",
       "      <td>210493341.0</td>\n",
       "      <td>sh000001</td>\n",
       "      <td>0.006598</td>\n",
       "    </tr>\n",
       "    <tr>\n",
       "      <th>7112</th>\n",
       "      <td>2020-01-21</td>\n",
       "      <td>3085.7895</td>\n",
       "      <td>3085.7895</td>\n",
       "      <td>3051.2301</td>\n",
       "      <td>3052.1419</td>\n",
       "      <td>234830739.0</td>\n",
       "      <td>sh000001</td>\n",
       "      <td>-0.014098</td>\n",
       "    </tr>\n",
       "    <tr>\n",
       "      <th>7113</th>\n",
       "      <td>2020-01-22</td>\n",
       "      <td>3038.4868</td>\n",
       "      <td>3069.2527</td>\n",
       "      <td>3006.2677</td>\n",
       "      <td>3060.7545</td>\n",
       "      <td>223852865.0</td>\n",
       "      <td>sh000001</td>\n",
       "      <td>0.002822</td>\n",
       "    </tr>\n",
       "    <tr>\n",
       "      <th>7114</th>\n",
       "      <td>2020-01-23</td>\n",
       "      <td>3037.9524</td>\n",
       "      <td>3045.0406</td>\n",
       "      <td>2955.3460</td>\n",
       "      <td>2976.5281</td>\n",
       "      <td>272763234.0</td>\n",
       "      <td>sh000001</td>\n",
       "      <td>-0.027518</td>\n",
       "    </tr>\n",
       "  </tbody>\n",
       "</table>\n",
       "<p>7114 rows × 8 columns</p>\n",
       "</div>"
      ],
      "text/plain": [
       "      trade_date       open       high        low      close       volume  \\\n",
       "1     1990-12-21   109.0700   109.1300   103.7300   109.1300         28.0   \n",
       "2     1990-12-24   113.5700   114.5500   109.1300   114.5500         32.0   \n",
       "3     1990-12-25   120.0900   120.2500   114.5500   120.2500         15.0   \n",
       "4     1990-12-26   125.2700   125.2700   120.2500   125.2700        100.0   \n",
       "5     1990-12-27   125.2700   125.2800   125.2700   125.2800         66.0   \n",
       "...          ...        ...        ...        ...        ...          ...   \n",
       "7110  2020-01-17  3081.4641  3091.9516  3067.2525  3075.4955  190304299.0   \n",
       "7111  2020-01-20  3082.1134  3096.3105  3070.4801  3095.7873  210493341.0   \n",
       "7112  2020-01-21  3085.7895  3085.7895  3051.2301  3052.1419  234830739.0   \n",
       "7113  2020-01-22  3038.4868  3069.2527  3006.2677  3060.7545  223852865.0   \n",
       "7114  2020-01-23  3037.9524  3045.0406  2955.3460  2976.5281  272763234.0   \n",
       "\n",
       "       ts_code   returns  \n",
       "1     sh000001  0.045407  \n",
       "2     sh000001  0.049666  \n",
       "3     sh000001  0.049760  \n",
       "4     sh000001  0.041746  \n",
       "5     sh000001  0.000080  \n",
       "...        ...       ...  \n",
       "7110  sh000001  0.000460  \n",
       "7111  sh000001  0.006598  \n",
       "7112  sh000001 -0.014098  \n",
       "7113  sh000001  0.002822  \n",
       "7114  sh000001 -0.027518  \n",
       "\n",
       "[7114 rows x 8 columns]"
      ]
     },
     "execution_count": 89,
     "metadata": {},
     "output_type": "execute_result"
    }
   ],
   "source": [
    "data"
   ]
  },
  {
   "cell_type": "code",
   "execution_count": 90,
   "metadata": {},
   "outputs": [],
   "source": [
    "density=stats.kde.gaussian_kde(data['returns']) \n",
    "bins = np.arange(-0.1,0.1,0.0002)"
   ]
  },
  {
   "cell_type": "code",
   "execution_count": 91,
   "metadata": {},
   "outputs": [
    {
     "data": {
      "text/plain": [
       "Text(0.5, 1.0, 'PDF on Shanghai Composite Index Daily Returns')"
      ]
     },
     "execution_count": 91,
     "metadata": {},
     "output_type": "execute_result"
    },
    {
     "data": {
      "image/png": "[encoded data removed]",
      "text/plain": [
       "<Figure size 1008x576 with 1 Axes>"
      ]
     },
     "metadata": {
      "needs_background": "light"
     },
     "output_type": "display_data"
    }
   ],
   "source": [
    "plt.figure(figsize=(14,8))\n",
    "plt.subplot(211)\n",
    "plt.plot(bins, density(bins))\n",
    "plt.title('PDF on Shanghai Composite Index Daily Returns')"
   ]
  },
  {
   "cell_type": "code",
   "execution_count": 92,
   "metadata": {},
   "outputs": [
    {
     "data": {
      "text/plain": [
       "Text(0.5, 1.0, 'PDF on Shanghai Composite Index Cumulative Daily Returns')"
      ]
     },
     "execution_count": 92,
     "metadata": {},
     "output_type": "execute_result"
    },
    {
     "data": {
      "image/png": "[encoded data removed]",
      "text/plain": [
       "<Figure size 1008x576 with 1 Axes>"
      ]
     },
     "metadata": {
      "needs_background": "light"
     },
     "output_type": "display_data"
    }
   ],
   "source": [
    "plt.figure(figsize=(14,8))\n",
    "plt.subplot(211)\n",
    "plt.plot(bins, density(bins).cumsum())\n",
    "plt.title('PDF on Shanghai Composite Index Cumulative Daily Returns')"
   ]
  },
  {
   "cell_type": "markdown",
   "metadata": {},
   "source": [
    "## 正态分布 stats.norm.ppf() 应用在VaR上"
   ]
  },
  {
   "cell_type": "code",
   "execution_count": 93,
   "metadata": {},
   "outputs": [],
   "source": [
    "returns = data['returns']\n",
    "returns_means = returns.mean()\n",
    "returns_variance = returns.var()"
   ]
  },
  {
   "cell_type": "code",
   "execution_count": 94,
   "metadata": {},
   "outputs": [
    {
     "name": "stdout",
     "output_type": "stream",
     "text": [
      "0.0007393614556032737\n",
      "0.0006076815341998795\n"
     ]
    }
   ],
   "source": [
    "print(returns_means)\n",
    "print(returns_variance)"
   ]
  },
  {
   "cell_type": "code",
   "execution_count": 95,
   "metadata": {},
   "outputs": [
    {
     "data": {
      "text/plain": [
       "-0.03980825002804818"
      ]
     },
     "execution_count": 95,
     "metadata": {},
     "output_type": "execute_result"
    }
   ],
   "source": [
    "# 查询累积密度值为0.05的分位数\n",
    "stats.norm.ppf(0.05,returns_means, returns_variance**0.5) #有95%的概率日损失不会超过3.98%"
   ]
  },
  {
   "cell_type": "markdown",
   "metadata": {},
   "source": [
    "## 二项分布的应用"
   ]
  },
  {
   "cell_type": "code",
   "execution_count": 96,
   "metadata": {},
   "outputs": [
    {
     "data": {
      "text/plain": [
       "0.5272701714928311"
      ]
     },
     "execution_count": 96,
     "metadata": {},
     "output_type": "execute_result"
    }
   ],
   "source": [
    "# The pct of days that are up\n",
    "p = len(returns[returns>0])/len(returns)\n",
    "p"
   ]
  },
  {
   "cell_type": "code",
   "execution_count": 97,
   "metadata": {},
   "outputs": [
    {
     "data": {
      "text/plain": [
       "0.22535673421919755"
      ]
     },
     "execution_count": 97,
     "metadata": {},
     "output_type": "execute_result"
    }
   ],
   "source": [
    "# 十个交易日中有6个交易日上涨的概率\n",
    "prob = stats.binom.pmf(6,10,p)\n",
    "prob"
   ]
  },
  {
   "cell_type": "markdown",
   "metadata": {},
   "source": [
    "## 相关性分析 - 000001和上证指数"
   ]
  },
  {
   "cell_type": "code",
   "execution_count": 98,
   "metadata": {},
   "outputs": [],
   "source": [
    "data1 = pd.read_csv(data_folder+\"000001.SZ.csv\")"
   ]
  },
  {
   "cell_type": "code",
   "execution_count": 99,
   "metadata": {},
   "outputs": [
    {
     "data": {
      "text/html": [
       "<div>\n",
       "<style scoped>\n",
       "    .dataframe tbody tr th:only-of-type {\n",
       "        vertical-align: middle;\n",
       "    }\n",
       "\n",
       "    .dataframe tbody tr th {\n",
       "        vertical-align: top;\n",
       "    }\n",
       "\n",
       "    .dataframe thead th {\n",
       "        text-align: right;\n",
       "    }\n",
       "</style>\n",
       "<table border=\"1\" class=\"dataframe\">\n",
       "  <thead>\n",
       "    <tr style=\"text-align: right;\">\n",
       "      <th></th>\n",
       "      <th>ts_code</th>\n",
       "      <th>trade_date</th>\n",
       "      <th>open</th>\n",
       "      <th>high</th>\n",
       "      <th>low</th>\n",
       "      <th>close</th>\n",
       "      <th>pre_close</th>\n",
       "      <th>change</th>\n",
       "      <th>pct_chg</th>\n",
       "      <th>vol</th>\n",
       "      <th>amount</th>\n",
       "    </tr>\n",
       "  </thead>\n",
       "  <tbody>\n",
       "    <tr>\n",
       "      <th>0</th>\n",
       "      <td>000001.SZ</td>\n",
       "      <td>2010-01-04</td>\n",
       "      <td>8.0647</td>\n",
       "      <td>8.0844</td>\n",
       "      <td>7.7884</td>\n",
       "      <td>7.7983</td>\n",
       "      <td>8.0154</td>\n",
       "      <td>-0.2171</td>\n",
       "      <td>-2.7085</td>\n",
       "      <td>241922.76</td>\n",
       "      <td>5.802495e+05</td>\n",
       "    </tr>\n",
       "    <tr>\n",
       "      <th>1</th>\n",
       "      <td>000001.SZ</td>\n",
       "      <td>2010-01-05</td>\n",
       "      <td>7.8114</td>\n",
       "      <td>7.8608</td>\n",
       "      <td>7.4825</td>\n",
       "      <td>7.6634</td>\n",
       "      <td>7.7983</td>\n",
       "      <td>-0.1349</td>\n",
       "      <td>-1.7299</td>\n",
       "      <td>556499.82</td>\n",
       "      <td>1.293477e+06</td>\n",
       "    </tr>\n",
       "    <tr>\n",
       "      <th>2</th>\n",
       "      <td>000001.SZ</td>\n",
       "      <td>2010-01-06</td>\n",
       "      <td>7.6470</td>\n",
       "      <td>7.6470</td>\n",
       "      <td>7.4727</td>\n",
       "      <td>7.5319</td>\n",
       "      <td>7.6634</td>\n",
       "      <td>-0.1315</td>\n",
       "      <td>-1.7159</td>\n",
       "      <td>412143.13</td>\n",
       "      <td>9.444537e+05</td>\n",
       "    </tr>\n",
       "    <tr>\n",
       "      <th>3</th>\n",
       "      <td>000001.SZ</td>\n",
       "      <td>2010-01-07</td>\n",
       "      <td>7.5319</td>\n",
       "      <td>7.5812</td>\n",
       "      <td>7.3674</td>\n",
       "      <td>7.4497</td>\n",
       "      <td>7.5319</td>\n",
       "      <td>-0.0822</td>\n",
       "      <td>-1.0914</td>\n",
       "      <td>355336.85</td>\n",
       "      <td>8.041663e+05</td>\n",
       "    </tr>\n",
       "    <tr>\n",
       "      <th>4</th>\n",
       "      <td>000001.SZ</td>\n",
       "      <td>2010-01-08</td>\n",
       "      <td>7.4003</td>\n",
       "      <td>7.4825</td>\n",
       "      <td>7.3510</td>\n",
       "      <td>7.4332</td>\n",
       "      <td>7.4497</td>\n",
       "      <td>-0.0165</td>\n",
       "      <td>-0.2215</td>\n",
       "      <td>288543.06</td>\n",
       "      <td>6.506674e+05</td>\n",
       "    </tr>\n",
       "    <tr>\n",
       "      <th>...</th>\n",
       "      <td>...</td>\n",
       "      <td>...</td>\n",
       "      <td>...</td>\n",
       "      <td>...</td>\n",
       "      <td>...</td>\n",
       "      <td>...</td>\n",
       "      <td>...</td>\n",
       "      <td>...</td>\n",
       "      <td>...</td>\n",
       "      <td>...</td>\n",
       "      <td>...</td>\n",
       "    </tr>\n",
       "    <tr>\n",
       "      <th>2370</th>\n",
       "      <td>000001.SZ</td>\n",
       "      <td>2020-01-15</td>\n",
       "      <td>16.7900</td>\n",
       "      <td>16.8600</td>\n",
       "      <td>16.4500</td>\n",
       "      <td>16.5200</td>\n",
       "      <td>16.7600</td>\n",
       "      <td>-0.2400</td>\n",
       "      <td>-1.4320</td>\n",
       "      <td>859439.12</td>\n",
       "      <td>1.424889e+06</td>\n",
       "    </tr>\n",
       "    <tr>\n",
       "      <th>2371</th>\n",
       "      <td>000001.SZ</td>\n",
       "      <td>2020-01-16</td>\n",
       "      <td>16.5200</td>\n",
       "      <td>16.5700</td>\n",
       "      <td>16.2000</td>\n",
       "      <td>16.3300</td>\n",
       "      <td>16.5200</td>\n",
       "      <td>-0.1900</td>\n",
       "      <td>-1.1501</td>\n",
       "      <td>1028104.67</td>\n",
       "      <td>1.678889e+06</td>\n",
       "    </tr>\n",
       "    <tr>\n",
       "      <th>2372</th>\n",
       "      <td>000001.SZ</td>\n",
       "      <td>2020-01-17</td>\n",
       "      <td>16.3800</td>\n",
       "      <td>16.5500</td>\n",
       "      <td>16.3500</td>\n",
       "      <td>16.3900</td>\n",
       "      <td>16.3300</td>\n",
       "      <td>0.0600</td>\n",
       "      <td>0.3674</td>\n",
       "      <td>605436.69</td>\n",
       "      <td>9.959090e+05</td>\n",
       "    </tr>\n",
       "    <tr>\n",
       "      <th>2373</th>\n",
       "      <td>000001.SZ</td>\n",
       "      <td>2020-01-20</td>\n",
       "      <td>16.4300</td>\n",
       "      <td>16.6100</td>\n",
       "      <td>16.3500</td>\n",
       "      <td>16.4500</td>\n",
       "      <td>16.3900</td>\n",
       "      <td>0.0600</td>\n",
       "      <td>0.3661</td>\n",
       "      <td>746074.75</td>\n",
       "      <td>1.226465e+06</td>\n",
       "    </tr>\n",
       "    <tr>\n",
       "      <th>2374</th>\n",
       "      <td>000001.SZ</td>\n",
       "      <td>2020-01-21</td>\n",
       "      <td>16.3400</td>\n",
       "      <td>16.3400</td>\n",
       "      <td>15.9300</td>\n",
       "      <td>16.0000</td>\n",
       "      <td>16.4500</td>\n",
       "      <td>-0.4500</td>\n",
       "      <td>-2.7356</td>\n",
       "      <td>896603.10</td>\n",
       "      <td>1.442171e+06</td>\n",
       "    </tr>\n",
       "  </tbody>\n",
       "</table>\n",
       "<p>2375 rows × 11 columns</p>\n",
       "</div>"
      ],
      "text/plain": [
       "        ts_code  trade_date     open     high      low    close  pre_close  \\\n",
       "0     000001.SZ  2010-01-04   8.0647   8.0844   7.7884   7.7983     8.0154   \n",
       "1     000001.SZ  2010-01-05   7.8114   7.8608   7.4825   7.6634     7.7983   \n",
       "2     000001.SZ  2010-01-06   7.6470   7.6470   7.4727   7.5319     7.6634   \n",
       "3     000001.SZ  2010-01-07   7.5319   7.5812   7.3674   7.4497     7.5319   \n",
       "4     000001.SZ  2010-01-08   7.4003   7.4825   7.3510   7.4332     7.4497   \n",
       "...         ...         ...      ...      ...      ...      ...        ...   \n",
       "2370  000001.SZ  2020-01-15  16.7900  16.8600  16.4500  16.5200    16.7600   \n",
       "2371  000001.SZ  2020-01-16  16.5200  16.5700  16.2000  16.3300    16.5200   \n",
       "2372  000001.SZ  2020-01-17  16.3800  16.5500  16.3500  16.3900    16.3300   \n",
       "2373  000001.SZ  2020-01-20  16.4300  16.6100  16.3500  16.4500    16.3900   \n",
       "2374  000001.SZ  2020-01-21  16.3400  16.3400  15.9300  16.0000    16.4500   \n",
       "\n",
       "      change  pct_chg         vol        amount  \n",
       "0    -0.2171  -2.7085   241922.76  5.802495e+05  \n",
       "1    -0.1349  -1.7299   556499.82  1.293477e+06  \n",
       "2    -0.1315  -1.7159   412143.13  9.444537e+05  \n",
       "3    -0.0822  -1.0914   355336.85  8.041663e+05  \n",
       "4    -0.0165  -0.2215   288543.06  6.506674e+05  \n",
       "...      ...      ...         ...           ...  \n",
       "2370 -0.2400  -1.4320   859439.12  1.424889e+06  \n",
       "2371 -0.1900  -1.1501  1028104.67  1.678889e+06  \n",
       "2372  0.0600   0.3674   605436.69  9.959090e+05  \n",
       "2373  0.0600   0.3661   746074.75  1.226465e+06  \n",
       "2374 -0.4500  -2.7356   896603.10  1.442171e+06  \n",
       "\n",
       "[2375 rows x 11 columns]"
      ]
     },
     "execution_count": 99,
     "metadata": {},
     "output_type": "execute_result"
    }
   ],
   "source": [
    "data1"
   ]
  },
  {
   "cell_type": "code",
   "execution_count": 100,
   "metadata": {},
   "outputs": [
    {
     "data": {
      "text/html": [
       "<div>\n",
       "<style scoped>\n",
       "    .dataframe tbody tr th:only-of-type {\n",
       "        vertical-align: middle;\n",
       "    }\n",
       "\n",
       "    .dataframe tbody tr th {\n",
       "        vertical-align: top;\n",
       "    }\n",
       "\n",
       "    .dataframe thead th {\n",
       "        text-align: right;\n",
       "    }\n",
       "</style>\n",
       "<table border=\"1\" class=\"dataframe\">\n",
       "  <thead>\n",
       "    <tr style=\"text-align: right;\">\n",
       "      <th></th>\n",
       "      <th>trade_date</th>\n",
       "      <th>open</th>\n",
       "      <th>high</th>\n",
       "      <th>low</th>\n",
       "      <th>close</th>\n",
       "      <th>volume</th>\n",
       "      <th>ts_code</th>\n",
       "      <th>returns</th>\n",
       "    </tr>\n",
       "  </thead>\n",
       "  <tbody>\n",
       "    <tr>\n",
       "      <th>1</th>\n",
       "      <td>1990-12-21</td>\n",
       "      <td>109.0700</td>\n",
       "      <td>109.1300</td>\n",
       "      <td>103.7300</td>\n",
       "      <td>109.1300</td>\n",
       "      <td>28.0</td>\n",
       "      <td>sh000001</td>\n",
       "      <td>0.045407</td>\n",
       "    </tr>\n",
       "    <tr>\n",
       "      <th>2</th>\n",
       "      <td>1990-12-24</td>\n",
       "      <td>113.5700</td>\n",
       "      <td>114.5500</td>\n",
       "      <td>109.1300</td>\n",
       "      <td>114.5500</td>\n",
       "      <td>32.0</td>\n",
       "      <td>sh000001</td>\n",
       "      <td>0.049666</td>\n",
       "    </tr>\n",
       "    <tr>\n",
       "      <th>3</th>\n",
       "      <td>1990-12-25</td>\n",
       "      <td>120.0900</td>\n",
       "      <td>120.2500</td>\n",
       "      <td>114.5500</td>\n",
       "      <td>120.2500</td>\n",
       "      <td>15.0</td>\n",
       "      <td>sh000001</td>\n",
       "      <td>0.049760</td>\n",
       "    </tr>\n",
       "    <tr>\n",
       "      <th>4</th>\n",
       "      <td>1990-12-26</td>\n",
       "      <td>125.2700</td>\n",
       "      <td>125.2700</td>\n",
       "      <td>120.2500</td>\n",
       "      <td>125.2700</td>\n",
       "      <td>100.0</td>\n",
       "      <td>sh000001</td>\n",
       "      <td>0.041746</td>\n",
       "    </tr>\n",
       "    <tr>\n",
       "      <th>5</th>\n",
       "      <td>1990-12-27</td>\n",
       "      <td>125.2700</td>\n",
       "      <td>125.2800</td>\n",
       "      <td>125.2700</td>\n",
       "      <td>125.2800</td>\n",
       "      <td>66.0</td>\n",
       "      <td>sh000001</td>\n",
       "      <td>0.000080</td>\n",
       "    </tr>\n",
       "    <tr>\n",
       "      <th>...</th>\n",
       "      <td>...</td>\n",
       "      <td>...</td>\n",
       "      <td>...</td>\n",
       "      <td>...</td>\n",
       "      <td>...</td>\n",
       "      <td>...</td>\n",
       "      <td>...</td>\n",
       "      <td>...</td>\n",
       "    </tr>\n",
       "    <tr>\n",
       "      <th>7110</th>\n",
       "      <td>2020-01-17</td>\n",
       "      <td>3081.4641</td>\n",
       "      <td>3091.9516</td>\n",
       "      <td>3067.2525</td>\n",
       "      <td>3075.4955</td>\n",
       "      <td>190304299.0</td>\n",
       "      <td>sh000001</td>\n",
       "      <td>0.000460</td>\n",
       "    </tr>\n",
       "    <tr>\n",
       "      <th>7111</th>\n",
       "      <td>2020-01-20</td>\n",
       "      <td>3082.1134</td>\n",
       "      <td>3096.3105</td>\n",
       "      <td>3070.4801</td>\n",
       "      <td>3095.7873</td>\n",
       "      <td>210493341.0</td>\n",
       "      <td>sh000001</td>\n",
       "      <td>0.006598</td>\n",
       "    </tr>\n",
       "    <tr>\n",
       "      <th>7112</th>\n",
       "      <td>2020-01-21</td>\n",
       "      <td>3085.7895</td>\n",
       "      <td>3085.7895</td>\n",
       "      <td>3051.2301</td>\n",
       "      <td>3052.1419</td>\n",
       "      <td>234830739.0</td>\n",
       "      <td>sh000001</td>\n",
       "      <td>-0.014098</td>\n",
       "    </tr>\n",
       "    <tr>\n",
       "      <th>7113</th>\n",
       "      <td>2020-01-22</td>\n",
       "      <td>3038.4868</td>\n",
       "      <td>3069.2527</td>\n",
       "      <td>3006.2677</td>\n",
       "      <td>3060.7545</td>\n",
       "      <td>223852865.0</td>\n",
       "      <td>sh000001</td>\n",
       "      <td>0.002822</td>\n",
       "    </tr>\n",
       "    <tr>\n",
       "      <th>7114</th>\n",
       "      <td>2020-01-23</td>\n",
       "      <td>3037.9524</td>\n",
       "      <td>3045.0406</td>\n",
       "      <td>2955.3460</td>\n",
       "      <td>2976.5281</td>\n",
       "      <td>272763234.0</td>\n",
       "      <td>sh000001</td>\n",
       "      <td>-0.027518</td>\n",
       "    </tr>\n",
       "  </tbody>\n",
       "</table>\n",
       "<p>7114 rows × 8 columns</p>\n",
       "</div>"
      ],
      "text/plain": [
       "      trade_date       open       high        low      close       volume  \\\n",
       "1     1990-12-21   109.0700   109.1300   103.7300   109.1300         28.0   \n",
       "2     1990-12-24   113.5700   114.5500   109.1300   114.5500         32.0   \n",
       "3     1990-12-25   120.0900   120.2500   114.5500   120.2500         15.0   \n",
       "4     1990-12-26   125.2700   125.2700   120.2500   125.2700        100.0   \n",
       "5     1990-12-27   125.2700   125.2800   125.2700   125.2800         66.0   \n",
       "...          ...        ...        ...        ...        ...          ...   \n",
       "7110  2020-01-17  3081.4641  3091.9516  3067.2525  3075.4955  190304299.0   \n",
       "7111  2020-01-20  3082.1134  3096.3105  3070.4801  3095.7873  210493341.0   \n",
       "7112  2020-01-21  3085.7895  3085.7895  3051.2301  3052.1419  234830739.0   \n",
       "7113  2020-01-22  3038.4868  3069.2527  3006.2677  3060.7545  223852865.0   \n",
       "7114  2020-01-23  3037.9524  3045.0406  2955.3460  2976.5281  272763234.0   \n",
       "\n",
       "       ts_code   returns  \n",
       "1     sh000001  0.045407  \n",
       "2     sh000001  0.049666  \n",
       "3     sh000001  0.049760  \n",
       "4     sh000001  0.041746  \n",
       "5     sh000001  0.000080  \n",
       "...        ...       ...  \n",
       "7110  sh000001  0.000460  \n",
       "7111  sh000001  0.006598  \n",
       "7112  sh000001 -0.014098  \n",
       "7113  sh000001  0.002822  \n",
       "7114  sh000001 -0.027518  \n",
       "\n",
       "[7114 rows x 8 columns]"
      ]
     },
     "execution_count": 100,
     "metadata": {},
     "output_type": "execute_result"
    }
   ],
   "source": [
    "data"
   ]
  },
  {
   "cell_type": "code",
   "execution_count": 101,
   "metadata": {},
   "outputs": [
    {
     "name": "stderr",
     "output_type": "stream",
     "text": [
      "/Users/miaoyuesun/anaconda3/envs/py36/lib/python3.6/site-packages/pandas/core/series.py:1146: FutureWarning: \n",
      "Passing list-likes to .loc or [] with any missing label will raise\n",
      "KeyError in the future, you can use .reindex() as an alternative.\n",
      "\n",
      "See the documentation here:\n",
      "https://pandas.pydata.org/pandas-docs/stable/user_guide/indexing.html#deprecate-loc-reindex-listlike\n",
      "  return self.loc[key]\n"
     ]
    }
   ],
   "source": [
    "returns1 = data1['pct_chg']/100\n",
    "returns0 = returns[returns1.index]\n",
    "returns0.dropna(inplace=True)"
   ]
  },
  {
   "cell_type": "code",
   "execution_count": 147,
   "metadata": {},
   "outputs": [
    {
     "data": {
      "text/plain": [
       "1    0.045407\n",
       "2    0.049666\n",
       "3    0.049760\n",
       "4    0.041746\n",
       "5    0.000080\n",
       "Name: returns, dtype: float64"
      ]
     },
     "execution_count": 147,
     "metadata": {},
     "output_type": "execute_result"
    }
   ],
   "source": [
    "returns0.head()"
   ]
  },
  {
   "cell_type": "code",
   "execution_count": 103,
   "metadata": {},
   "outputs": [
    {
     "data": {
      "text/plain": [
       "0   -0.027085\n",
       "1   -0.017299\n",
       "2   -0.017159\n",
       "3   -0.010914\n",
       "4   -0.002215\n",
       "Name: pct_chg, dtype: float64"
      ]
     },
     "execution_count": 103,
     "metadata": {},
     "output_type": "execute_result"
    }
   ],
   "source": [
    "returns1.head()"
   ]
  },
  {
   "cell_type": "code",
   "execution_count": 104,
   "metadata": {},
   "outputs": [
    {
     "data": {
      "text/plain": [
       "Text(0.5, 1.0, 'Scatter Plot on Relationship of Two Returns')"
      ]
     },
     "execution_count": 104,
     "metadata": {},
     "output_type": "execute_result"
    },
    {
     "data": {
      "image/png": "[encoded data removed]",
      "text/plain": [
       "<Figure size 432x288 with 1 Axes>"
      ]
     },
     "metadata": {
      "needs_background": "light"
     },
     "output_type": "display_data"
    }
   ],
   "source": [
    "plt.scatter(returns0, returns1)\n",
    "plt.title(\"Scatter Plot on Relationship of Two Returns\")"
   ]
  },
  {
   "cell_type": "code",
   "execution_count": 82,
   "metadata": {
    "scrolled": true
   },
   "outputs": [
    {
     "data": {
      "text/plain": [
       "-0.006034736124082952"
      ]
     },
     "execution_count": 82,
     "metadata": {},
     "output_type": "execute_result"
    }
   ],
   "source": [
    "returns0.corr(returns1)"
   ]
  },
  {
   "cell_type": "markdown",
   "metadata": {},
   "source": [
    "# 第十五章 - 推断统计\n",
    "\n",
    "- Parameter Estimation 参数估计：均值、标准差\n",
    "- Hypothesis Testing 假设检验"
   ]
  },
  {
   "cell_type": "code",
   "execution_count": 131,
   "metadata": {},
   "outputs": [
    {
     "data": {
      "text/plain": [
       "0.0018020925963146135"
      ]
     },
     "execution_count": 131,
     "metadata": {},
     "output_type": "execute_result"
    }
   ],
   "source": [
    "returns0.mean()"
   ]
  },
  {
   "cell_type": "code",
   "execution_count": 132,
   "metadata": {},
   "outputs": [],
   "source": [
    "returns0_mean = returns0.std()\n",
    "returns0_stddev = returns0.std()"
   ]
  },
  {
   "cell_type": "code",
   "execution_count": 133,
   "metadata": {},
   "outputs": [
    {
     "data": {
      "text/plain": [
       "<matplotlib.axes._subplots.AxesSubplot at 0x126c626a0>"
      ]
     },
     "execution_count": 133,
     "metadata": {},
     "output_type": "execute_result"
    },
    {
     "data": {
      "image/png": "[encoded data removed]",
      "text/plain": [
       "<Figure size 864x432 with 1 Axes>"
      ]
     },
     "metadata": {
      "needs_background": "light"
     },
     "output_type": "display_data"
    }
   ],
   "source": [
    "# 先从图像的角度看一下服从什么概率分布：\n",
    "returns0.hist(bins = 300, figsize=(12,6))"
   ]
  },
  {
   "cell_type": "code",
   "execution_count": 134,
   "metadata": {},
   "outputs": [
    {
     "data": {
      "text/plain": [
       "1.0526912915930566"
      ]
     },
     "execution_count": 134,
     "metadata": {},
     "output_type": "execute_result"
    }
   ],
   "source": [
    "returns0.max()"
   ]
  },
  {
   "cell_type": "code",
   "execution_count": 135,
   "metadata": {},
   "outputs": [
    {
     "data": {
      "text/plain": [
       "-0.16393661830580997"
      ]
     },
     "execution_count": 135,
     "metadata": {},
     "output_type": "execute_result"
    }
   ],
   "source": [
    "returns0.min()"
   ]
  },
  {
   "cell_type": "code",
   "execution_count": 138,
   "metadata": {},
   "outputs": [
    {
     "data": {
      "text/plain": [
       "359    1.052691\n",
       "Name: returns, dtype: float64"
      ]
     },
     "execution_count": 138,
     "metadata": {},
     "output_type": "execute_result"
    }
   ],
   "source": [
    "returns0[returns0==returns0.max()]"
   ]
  },
  {
   "cell_type": "code",
   "execution_count": 141,
   "metadata": {},
   "outputs": [
    {
     "data": {
      "text/plain": [
       "[<matplotlib.lines.Line2D at 0x127684ba8>]"
      ]
     },
     "execution_count": 141,
     "metadata": {},
     "output_type": "execute_result"
    },
    {
     "data": {
      "image/png": "[encoded data removed]",
      "text/plain": [
       "<Figure size 1008x288 with 1 Axes>"
      ]
     },
     "metadata": {
      "needs_background": "light"
     },
     "output_type": "display_data"
    }
   ],
   "source": [
    "plt.figure(figsize=(14,4))\n",
    "# plt.hist(returns)\n",
    "plt.plot(np.arange(-0.1, 0.2, 0.002),\\\n",
    "        stats.norm.pdf(np.arange(-0.1, 0.2, 0.002),\\\n",
    "                      returns0_mean, returns0_stddev))"
   ]
  },
  {
   "cell_type": "code",
   "execution_count": 143,
   "metadata": {},
   "outputs": [
    {
     "data": {
      "text/plain": [
       "(nan, nan)"
      ]
     },
     "execution_count": 143,
     "metadata": {},
     "output_type": "execute_result"
    }
   ],
   "source": [
    "stats.t.interval(0.95, len(returns0)-1,\\\n",
    "                returns0_mean, stats.sem(returns0))"
   ]
  },
  {
   "cell_type": "code",
   "execution_count": 145,
   "metadata": {},
   "outputs": [
    {
     "data": {
      "text/plain": [
       "1       0.045407\n",
       "2       0.049666\n",
       "3       0.049760\n",
       "4       0.041746\n",
       "5       0.000080\n",
       "          ...   \n",
       "2370   -0.003475\n",
       "2371    0.015894\n",
       "2372    0.007879\n",
       "2373    0.006427\n",
       "2374    0.006546\n",
       "Name: returns, Length: 2374, dtype: float64"
      ]
     },
     "execution_count": 145,
     "metadata": {},
     "output_type": "execute_result"
    }
   ],
   "source": []
  }
 ],
 "metadata": {
  "kernelspec": {
   "display_name": "Python 3",
   "language": "python",
   "name": "python3"
  },
  "language_info": {
   "codemirror_mode": {
    "name": "ipython",
    "version": 3
   },
   "file_extension": ".py",
   "mimetype": "text/x-python",
   "name": "python",
   "nbconvert_exporter": "python",
   "pygments_lexer": "ipython3",
   "version": "3.6.10"
  }
 },
 "nbformat": 4,
 "nbformat_minor": 2
}
