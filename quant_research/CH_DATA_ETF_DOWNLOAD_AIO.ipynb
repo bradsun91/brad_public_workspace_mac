{
 "cells": [
  {
   "cell_type": "code",
   "execution_count": 1,
   "metadata": {},
   "outputs": [],
   "source": [
    "import pandas as pd, numpy as np\n",
    "from datetime import datetime\n",
    "# import yfinance as yf\n",
    "import tushare as ts\n",
    "import time, urllib\n",
    "ts.set_token('2f31c3932ead9fcc3830879132cc3ec8df3566550f711889d4a30f67')\n",
    "import glob\n",
    "import os"
   ]
  },
  {
   "cell_type": "code",
   "execution_count": null,
   "metadata": {},
   "outputs": [],
   "source": [
    "def handle_data_files_return_tickers(file_path):\n",
    "    ch_etfs_df = pd.read_csv(file_path)\n",
    "    ch_etfs_df.dropna(inplace = True)\n",
    "    ch_etfs_df['基金规模\\n[单位] 元'] = ch_etfs_df['基金规模\\n[单位] 元'].apply(lambda x: float(x.replace(\",\",\"\")))\n",
    "    ch_etfs_df['机构投资者持有份额\\n[报告期] 2019中报\\n[单位] 份'] = ch_etfs_df['机构投资者持有份额\\n[报告期] 2019中报\\n[单位] 份'].apply(lambda x: float(x.replace(\",\",\"\")))\n",
    "    ch_etfs_df.sort_values(\"基金规模\\n[单位] 元\", ascending=False, inplace =True)\n",
    "    ch_etfs_df = ch_etfs_df\n",
    "    return ch_etfs_df\n",
    "    \n",
    "etf_path = \"/Users/miaoyuesun/Code_Workspace/brad_public_workspace_mac/data/CH_ETFs.csv\"\n"
   ]
  },
  {
   "cell_type": "code",
   "execution_count": null,
   "metadata": {},
   "outputs": [],
   "source": [
    "def download_tushare_etf_data(start, end, ch_db_path, ticker_list):\n",
    "\n"
   ]
  },
  {
   "cell_type": "code",
   "execution_count": null,
   "metadata": {},
   "outputs": [],
   "source": []
  },
  {
   "cell_type": "code",
   "execution_count": null,
   "metadata": {},
   "outputs": [],
   "source": []
  }
 ],
 "metadata": {
  "kernelspec": {
   "display_name": "Python 3",
   "language": "python",
   "name": "python3"
  },
  "language_info": {
   "codemirror_mode": {
    "name": "ipython",
    "version": 3
   },
   "file_extension": ".py",
   "mimetype": "text/x-python",
   "name": "python",
   "nbconvert_exporter": "python",
   "pygments_lexer": "ipython3",
   "version": "3.5.6"
  }
 },
 "nbformat": 4,
 "nbformat_minor": 2
}
