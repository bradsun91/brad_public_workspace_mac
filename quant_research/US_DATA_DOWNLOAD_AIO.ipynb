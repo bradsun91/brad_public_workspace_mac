{
 "cells": [
  {
   "cell_type": "code",
   "execution_count": null,
   "metadata": {},
   "outputs": [],
   "source": [
    "import pandas as pd, numpy as np\n",
    "from datetime import datetime\n",
    "pd.set_option('max_colwidth',200)\n",
    "import yfinance as yf\n",
    "import time, urllib\n",
    "import glob\n",
    "import os"
   ]
  },
  {
   "cell_type": "markdown",
   "metadata": {},
   "source": [
    "# US Data"
   ]
  },
  {
   "cell_type": "code",
   "execution_count": 3,
   "metadata": {},
   "outputs": [],
   "source": [
    "import eventlet\n",
    "eventlet.monkey_patch()\n",
    "\n",
    "def sp500():\n",
    "    sp500_list = ['MMM', 'ABT', 'ABBV', 'ACN', 'ATVI', 'AYI', 'ADBE', 'AMD', 'HII', 'AAP', 'AES', 'AET', 'AMG', 'AFL', 'A', 'APD', 'AKAM', 'ALK', 'ALB', 'ARE', 'ALXN', 'ALGN', 'ALLE', 'AGN', 'ADS', 'LNT', 'ALL', 'GOOGL', 'GOOG', 'MO', 'AMZN', 'AEE', 'AAL', 'AEP', 'AXP', 'AIG', 'AMT', 'AWK', 'AMP', 'ABC', 'AME', 'AMGN', 'APH', 'APC', 'ADI', 'ANDV', 'ANSS', 'ANTM', 'AON', 'AOS', 'APA', 'AIV', 'AAPL', 'AMAT', 'APTV', 'ADM', 'ARNC', 'AJG', 'AIZ', 'T', 'ADSK', 'ADP', 'AZO', 'AVB', 'AVY', 'BHGE', 'BLL', 'BAC', 'BK', 'BAX', 'BBT', 'BDX', 'BRK.B', 'BBY', 'BIIB', 'BLK', 'HRB', 'BA', 'BWA', 'BXP', 'BSX', 'BHF', 'BMY', 'AVGO', 'BF.B', 'CHRW', 'CA', 'COG', 'CDNS', 'CPB', 'COF', 'CAH', 'CBOE', 'KMX', 'CCL', 'CAT', 'CBG', 'CBS', 'CELG', 'CNC', 'CNP', 'CTL', 'CERN', 'CF', 'SCHW', 'CHTR', 'CHK', 'CVX', 'CMG', 'CB', 'CHD', 'CI', 'XEC', 'CINF', 'CTAS', 'CSCO', 'C', 'CFG', 'CTXS', 'CLX', 'CME', 'CMS', 'KO', 'CTSH', 'CL', 'CMCSA', 'CMA', 'CAG', 'CXO', 'COP', 'ED', 'STZ', 'COO', 'GLW', 'COST', 'COTY', 'CCI', 'CSRA', 'CSX', 'CMI', 'CVS', 'DHI', 'DHR', 'DRI', 'DVA', 'DE', 'DAL', 'XRAY', 'DVN', 'DLR', 'DFS', 'DISCA', 'DISCK', 'DISH', 'DG', 'DLTR', 'D', 'DOV', 'DWDP', 'DPS', 'DTE', 'DRE', 'DUK', 'DXC', 'ETFC', 'EMN', 'ETN', 'EBAY', 'ECL', 'EIX', 'EW', 'EA', 'EMR', 'ETR', 'EVHC', 'EOG', 'EQT', 'EFX', 'EQIX', 'EQR', 'ESS', 'EL', 'ES', 'RE', 'EXC', 'EXPE', 'EXPD', 'ESRX', 'EXR', 'XOM', 'FFIV', 'FB', 'FAST', 'FRT', 'FDX', 'FIS', 'FITB', 'FE', 'FISV', 'FLIR', 'FLS', 'FLR', 'FMC', 'FL', 'F', 'FTV', 'FBHS', 'BEN', 'FCX', 'GPS', 'GRMN', 'IT', 'GD', 'GE', 'GGP', 'GIS', 'GM', 'GPC', 'GILD', 'GPN', 'GS', 'GT', 'GWW', 'HAL', 'HBI', 'HOG', 'HRS', 'HIG', 'HAS', 'HCA', 'HCP', 'HP', 'HSIC', 'HSY', 'HES', 'HPE', 'HLT', 'HOLX', 'HD', 'HON', 'HRL', 'HST', 'HPQ', 'HUM', 'HBAN', 'IDXX', 'INFO', 'ITW', 'ILMN', 'IR', 'INTC', 'ICE', 'IBM', 'INCY', 'IP', 'IPG', 'IFF', 'INTU', 'ISRG', 'IVZ', 'IQV', 'IRM', 'JEC', 'JBHT', 'SJM', 'JNJ', 'JCI', 'JPM', 'JNPR', 'KSU', 'K', 'KEY', 'KMB', 'KIM', 'KMI', 'KLAC', 'KSS', 'KHC', 'KR', 'LB', 'LLL', 'LH', 'LRCX', 'LEG', 'LEN', 'LUK', 'LLY', 'LNC', 'LKQ', 'LMT', 'L', 'LOW', 'LYB', 'MTB', 'MAC', 'M', 'MRO', 'MPC', 'MAR', 'MMC', 'MLM', 'MAS', 'MA', 'MAT', 'MKC', 'MCD', 'MCK', 'MDT', 'MRK', 'MET', 'MTD', 'MGM', 'KORS', 'MCHP', 'MU', 'MSFT', 'MAA', 'MHK', 'TAP', 'MDLZ', 'MON', 'MNST', 'MCO', 'MS', 'MOS', 'MSI', 'MYL', 'NDAQ', 'NOV', 'NAVI', 'NTAP', 'NFLX', 'NWL', 'NFX', 'NEM', 'NWSA', 'NWS', 'NEE', 'NLSN', 'NKE', 'NI', 'NBL', 'JWN', 'NSC', 'NTRS', 'NOC', 'NCLH', 'NRG', 'NUE', 'NVDA', 'ORLY', 'OXY', 'OMC', 'OKE', 'ORCL', 'PCAR', 'PKG', 'PH', 'PDCO', 'PAYX', 'PYPL', 'PNR', 'PBCT', 'PEP', 'PKI', 'PRGO', 'PFE', 'PCG', 'PM', 'PSX', 'PNW', 'PXD', 'PNC', 'RL', 'PPG', 'PPL', 'PX', 'PCLN', 'PFG', 'PG', 'PGR', 'PLD', 'PRU', 'PEG', 'PSA', 'PHM', 'PVH', 'QRVO', 'PWR', 'QCOM', 'DGX', 'RRC', 'RJF', 'RTN', 'O', 'RHT', 'REG', 'REGN', 'RF', 'RSG', 'RMD', 'RHI', 'ROK', 'COL', 'ROP', 'ROST', 'RCL', 'CRM', 'SBAC', 'SCG', 'SLB', 'SNI', 'STX', 'SEE', 'SRE', 'SHW', 'SIG', 'SPG', 'SWKS', 'SLG', 'SNA', 'SO', 'LUV', 'SPGI', 'SWK', 'SBUX', 'STT', 'SRCL', 'SYK', 'STI', 'SYMC', 'SYF', 'SNPS', 'SYY', 'TROW', 'TPR', 'TGT', 'TEL', 'FTI', 'TXN', 'TXT', 'TMO', 'TIF', 'TWX', 'TJX', 'TMK', 'TSS', 'TSCO', 'TDG', 'TRV', 'TRIP', 'FOXA', 'FOX', 'TSN', 'UDR', 'ULTA', 'USB', 'UA', 'UAA', 'UNP', 'UAL', 'UNH', 'UPS', 'URI', 'UTX', 'UHS', 'UNM', 'VFC', 'VLO', 'VAR', 'VTR', 'VRSN', 'VRSK', 'VZ', 'VRTX', 'VIAB', 'V', 'VNO', 'VMC', 'WMT', 'WBA', 'DIS', 'WM', 'WAT', 'WEC', 'WFC', 'HCN', 'WDC', 'WU', 'WRK', 'WY', 'WHR', 'WMB', 'WLTW', 'WYN', 'WYNN', 'XEL', 'XRX', 'XLNX', 'XL', 'XYL', 'YUM', 'ZBH', 'ZION', 'ZTS']\n",
    "    return sp500_list\n",
    "\n",
    "def all_weather():\n",
    "    all_weather_portfolio = [\"VTI\",\"TLT\",\"IEF\",\"GLD\",\"DBC\"]\n",
    "    return all_weather_portfolio\n",
    "\n",
    "def us_sectors_etf():\n",
    "    us_sectors = [\"IYM\",\"IYZ\",\"FCL\",\"FCD\",\"IYE\",\"IYG\",\"IYH\",\"IYJ\",\"IYR\",\"IYW\",\"IDU\"]\n",
    "    return us_sectors\n",
    "    \n",
    "def today_dt():\n",
    "    today = str(datetime.now().date())\n",
    "    return today\n",
    "\n",
    "def download_yf_data(start, end, us_db_path, ticker_list):\n",
    "    for ticker in ticker_list:\n",
    "    #     print(\"testing\")\n",
    "        # Initial downloading:\n",
    "        if not os.path.exists(us_db_path+ticker+\".csv\"):\n",
    "            print(\"{} is new, start downloading now...\".format(ticker))\n",
    "            with eventlet.Timeout(60,False):\n",
    "                try:\n",
    "                    data = yf.download(ticker, start=start, end=end)\n",
    "                    data.reset_index(inplace = True)\n",
    "                    data['Ticker'] = ticker\n",
    "                    data.to_csv(us_db_path+ticker+\".csv\", index = False)\n",
    "                    print(\"{} data file created: {}\".format(ticker, end))\n",
    "                except Exception as e:\n",
    "                    print(e)\n",
    "\n",
    "    #         print(\"Timed Out: Download Failed!\")\n",
    "        # Check for updates:\n",
    "        else:\n",
    "            print(\"Already have data csv for {}\".format(ticker))\n",
    "            hist_data = pd.read_csv(us_db_path+ticker+\".csv\")\n",
    "            try:\n",
    "                hist_data_first_date = hist_data['Date'].values[0]\n",
    "                if start >= hist_data_first_date:\n",
    "                    hist_data_last_date = hist_data['Date'].values[-1]\n",
    "                    if today > hist_data_last_date:\n",
    "                        print(\"Needs to update, start updating new data for {} now...\".format(ticker))\n",
    "                        update_start = hist_data_last_date\n",
    "                        update_end = today\n",
    "                        with eventlet.Timeout(60,False):\n",
    "                            try:\n",
    "                                new_data = yf.download(ticker, start=update_start, end=update_end)\n",
    "                                new_data.reset_index(inplace = True)\n",
    "                                new_data['Ticker'] = ticker\n",
    "                                new_data.to_csv(us_db_path+ticker+\".csv\", mode='a', header=False, index = False)\n",
    "                                updated_duplicated_df = pd.read_csv(us_db_path+ticker+\".csv\")\n",
    "                                updated_df = updated_duplicated_df.drop_duplicates(\"Date\")\n",
    "                                updated_df.sort_values(\"Date\", inplace = True)\n",
    "                                updated_df.to_csv(us_db_path+ticker+\".csv\", index = False)\n",
    "                                print(\"New data updated till today for {}!\".format(ticker))\n",
    "                            except Exception as e:\n",
    "                                print(e)\n",
    "            #             print(\"Timed Out: Update Failed!\")\n",
    "                    else:\n",
    "                        print(\"There's no new data to update for {}.\".format(ticker))\n",
    "\n",
    "                else:\n",
    "                    print(\"Setup start date earlier than existing data's, trying to pull data from before...\")\n",
    "                    hist_data_last_date = hist_data['Date'].values[-1]\n",
    "                    if today > hist_data_last_date:\n",
    "                        print(\"Needs to update, start updating new data for {} now...\".format(ticker))\n",
    "                        update_start = start\n",
    "                        update_end = today\n",
    "                        with eventlet.Timeout(60,False):\n",
    "                            try:\n",
    "                                new_data = yf.download(ticker, start=update_start, end=update_end)\n",
    "                                new_data.reset_index(inplace = True)\n",
    "                                new_date = new_data['Date'].values[0]\n",
    "                                print(\"New data's first pulled date is {}\".format(new_date))\n",
    "                                new_data['Ticker'] = ticker\n",
    "\n",
    "                                new_data.to_csv(us_db_path+ticker+\".csv\", mode='a', header=False, index = False)\n",
    "                                updated_duplicated_df = pd.read_csv(us_db_path+ticker+\".csv\")\n",
    "                                updated_df = updated_duplicated_df.drop_duplicates(\"Date\")\n",
    "                                updated_df.sort_values(\"Date\", inplace = True)\n",
    "                                updated_df.to_csv(us_db_path+ticker+\".csv\", index = False)\n",
    "                                print(\"New data updated till today for {}!\".format(ticker))\n",
    "                            except Exception as e:\n",
    "                                print(e)\n",
    "                    else:\n",
    "                        print(\"There's no new data to update for {}.\".format(ticker))\n",
    "            except Exception as e:\n",
    "                print(e)\n",
    "\n",
    "    #     print(\"Data Download/Update for {} is Finished.\".format(ticker))\n",
    "        print(\"===============================================\")\n",
    "    print(\"【Updated Finished for today!】\")\n",
    "\n",
    "\n",
    "start = \"2005-01-01\"\n",
    "today = today_dt()\n",
    "end = today\n",
    "us_db_path = \"/Users/miaoyuesun/Code_Workspace/brad_public_workspace_mac/data/US_database/\"\n",
    "mkt_etf = [\"SPY\",\"VXXB\",\"QQQ\"]\n",
    "other_tickers = [\"YELP\",'UBER','TSLA']\n",
    "us_sectors = us_sectors_etf()\n",
    "all_weather = all_weather()\n",
    "sp500_stocks = sp500()\n",
    "ticker_list = sp500_stocks+all_weather+us_sectors+mkt_etf"
   ]
  },
  {
   "cell_type": "code",
   "execution_count": null,
   "metadata": {},
   "outputs": [
    {
     "name": "stderr",
     "output_type": "stream",
     "text": [
      "Traceback (most recent call last):\n",
      "  File \"/Users/miaoyuesun/anaconda3/lib/python3.5/site-packages/eventlet/hubs/hub.py\", line 461, in fire_timers\n",
      "    timer()\n",
      "  File \"/Users/miaoyuesun/anaconda3/lib/python3.5/site-packages/eventlet/hubs/timer.py\", line 59, in __call__\n",
      "    cb(*args, **kw)\n",
      "  File \"/Users/miaoyuesun/anaconda3/lib/python3.5/site-packages/eventlet/semaphore.py\", line 147, in _do_acquire\n",
      "    waiter.switch()\n",
      "greenlet.error: cannot switch to a different thread\n"
     ]
    },
    {
     "name": "stdout",
     "output_type": "stream",
     "text": [
      "Already have data csv for MMM\n",
      "Needs to update, start updating new data for MMM now...\n",
      "Cannot switch to MAINLOOP from MAINLOOP\n",
      "===============================================\n",
      "Already have data csv for ABT\n",
      "Needs to update, start updating new data for ABT now...\n",
      "[*********************100%***********************]  1 of 1 completed\n",
      "'ABT'\n",
      "===============================================\n",
      "Already have data csv for ABBV\n",
      "Setup start date earlier than existing data's, trying to pull data from before...\n",
      "Needs to update, start updating new data for ABBV now...\n",
      "[*********************100%***********************]  1 of 1 completed\n",
      "New data's first pulled date is 2013-01-02T00:00:00.000000000\n",
      "New data updated till today for ABBV!\n",
      "===============================================\n",
      "Already have data csv for ACN\n",
      "Needs to update, start updating new data for ACN now...\n"
     ]
    },
    {
     "name": "stderr",
     "output_type": "stream",
     "text": [
      "/Users/miaoyuesun/anaconda3/lib/python3.5/site-packages/ipykernel_launcher.py:81: SettingWithCopyWarning:\n",
      "\n",
      "\n",
      "A value is trying to be set on a copy of a slice from a DataFrame\n",
      "\n",
      "See the caveats in the documentation: http://pandas.pydata.org/pandas-docs/stable/user_guide/indexing.html#returning-a-view-versus-a-copy\n",
      "\n"
     ]
    },
    {
     "name": "stdout",
     "output_type": "stream",
     "text": [
      "[*********************100%***********************]  1 of 1 completed\n",
      "'ACN'\n",
      "===============================================\n",
      "Already have data csv for ATVI\n",
      "Needs to update, start updating new data for ATVI now...\n",
      "[*********************100%***********************]  1 of 1 completed"
     ]
    },
    {
     "name": "stderr",
     "output_type": "stream",
     "text": [
      "\n",
      "KeyboardInterrupt\n",
      "\n"
     ]
    }
   ],
   "source": [
    "download_yf_data(start, end, us_db_path, ticker_list)"
   ]
  },
  {
   "cell_type": "code",
   "execution_count": null,
   "metadata": {},
   "outputs": [],
   "source": []
  }
 ],
 "metadata": {
  "kernelspec": {
   "display_name": "Python 3",
   "language": "python",
   "name": "python3"
  },
  "language_info": {
   "codemirror_mode": {
    "name": "ipython",
    "version": 3
   },
   "file_extension": ".py",
   "mimetype": "text/x-python",
   "name": "python",
   "nbconvert_exporter": "python",
   "pygments_lexer": "ipython3",
   "version": "3.5.6"
  }
 },
 "nbformat": 4,
 "nbformat_minor": 2
}
