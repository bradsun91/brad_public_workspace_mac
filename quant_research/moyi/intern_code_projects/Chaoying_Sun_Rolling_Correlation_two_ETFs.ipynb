{
 "cells": [
  {
   "cell_type": "code",
   "execution_count": 1,
   "metadata": {
    "colab": {},
    "colab_type": "code",
    "id": "JAoqZoF9rMzn"
   },
   "outputs": [
    {
     "name": "stderr",
     "output_type": "stream",
     "text": [
      "/Users/miaoyuesun/anaconda3/envs/py36/lib/python3.6/site-packages/pandas_datareader/compat/__init__.py:7: FutureWarning: pandas.util.testing is deprecated. Use the functions in the public API at pandas.testing instead.\n",
      "  from pandas.util.testing import assert_frame_equal\n"
     ]
    }
   ],
   "source": [
    "import pandas as pd\n",
    "import numpy as np\n",
    "import datetime \n",
    "import pandas_datareader as pdr\n",
    "import matplotlib.pyplot as plt"
   ]
  },
  {
   "cell_type": "code",
   "execution_count": 2,
   "metadata": {
    "colab": {},
    "colab_type": "code",
    "id": "HGs2iTnrNWVI"
   },
   "outputs": [],
   "source": [
    "# 导入apple公司股票数据\n",
    "ticker_list=['SGOL','HUC.TO']\n",
    "SGOL = pdr.get_data_yahoo('SGOL', \n",
    "                          start=datetime.datetime(2009, 10, 31), \n",
    "                          end=datetime.datetime(2012, 1, 1))"
   ]
  },
  {
   "cell_type": "code",
   "execution_count": 3,
   "metadata": {
    "colab": {
     "base_uri": "https://localhost:8080/",
     "height": 450
    },
    "colab_type": "code",
    "id": "92KIROavcXsj",
    "outputId": "911a3bc2-6863-4133-886b-3960c0935ac3"
   },
   "outputs": [
    {
     "data": {
      "text/html": [
       "<div>\n",
       "<style scoped>\n",
       "    .dataframe tbody tr th:only-of-type {\n",
       "        vertical-align: middle;\n",
       "    }\n",
       "\n",
       "    .dataframe tbody tr th {\n",
       "        vertical-align: top;\n",
       "    }\n",
       "\n",
       "    .dataframe thead th {\n",
       "        text-align: right;\n",
       "    }\n",
       "</style>\n",
       "<table border=\"1\" class=\"dataframe\">\n",
       "  <thead>\n",
       "    <tr style=\"text-align: right;\">\n",
       "      <th></th>\n",
       "      <th>High</th>\n",
       "      <th>Low</th>\n",
       "      <th>Open</th>\n",
       "      <th>Close</th>\n",
       "      <th>Volume</th>\n",
       "      <th>Adj Close</th>\n",
       "    </tr>\n",
       "    <tr>\n",
       "      <th>Date</th>\n",
       "      <th></th>\n",
       "      <th></th>\n",
       "      <th></th>\n",
       "      <th></th>\n",
       "      <th></th>\n",
       "      <th></th>\n",
       "    </tr>\n",
       "  </thead>\n",
       "  <tbody>\n",
       "    <tr>\n",
       "      <th>2009-10-30</th>\n",
       "      <td>10.466</td>\n",
       "      <td>10.351</td>\n",
       "      <td>10.434</td>\n",
       "      <td>10.455</td>\n",
       "      <td>423000</td>\n",
       "      <td>10.455</td>\n",
       "    </tr>\n",
       "    <tr>\n",
       "      <th>2009-11-02</th>\n",
       "      <td>10.628</td>\n",
       "      <td>10.537</td>\n",
       "      <td>10.553</td>\n",
       "      <td>10.596</td>\n",
       "      <td>434000</td>\n",
       "      <td>10.596</td>\n",
       "    </tr>\n",
       "    <tr>\n",
       "      <th>2009-11-03</th>\n",
       "      <td>10.876</td>\n",
       "      <td>10.578</td>\n",
       "      <td>10.579</td>\n",
       "      <td>10.855</td>\n",
       "      <td>1395000</td>\n",
       "      <td>10.855</td>\n",
       "    </tr>\n",
       "    <tr>\n",
       "      <th>2009-11-04</th>\n",
       "      <td>10.970</td>\n",
       "      <td>10.865</td>\n",
       "      <td>10.923</td>\n",
       "      <td>10.916</td>\n",
       "      <td>1076000</td>\n",
       "      <td>10.916</td>\n",
       "    </tr>\n",
       "    <tr>\n",
       "      <th>2009-11-05</th>\n",
       "      <td>10.929</td>\n",
       "      <td>10.871</td>\n",
       "      <td>10.892</td>\n",
       "      <td>10.908</td>\n",
       "      <td>787000</td>\n",
       "      <td>10.908</td>\n",
       "    </tr>\n",
       "    <tr>\n",
       "      <th>...</th>\n",
       "      <td>...</td>\n",
       "      <td>...</td>\n",
       "      <td>...</td>\n",
       "      <td>...</td>\n",
       "      <td>...</td>\n",
       "      <td>...</td>\n",
       "    </tr>\n",
       "    <tr>\n",
       "      <th>2011-12-23</th>\n",
       "      <td>15.948</td>\n",
       "      <td>15.884</td>\n",
       "      <td>15.930</td>\n",
       "      <td>15.934</td>\n",
       "      <td>391000</td>\n",
       "      <td>15.934</td>\n",
       "    </tr>\n",
       "    <tr>\n",
       "      <th>2011-12-27</th>\n",
       "      <td>15.852</td>\n",
       "      <td>15.756</td>\n",
       "      <td>15.801</td>\n",
       "      <td>15.788</td>\n",
       "      <td>830000</td>\n",
       "      <td>15.788</td>\n",
       "    </tr>\n",
       "    <tr>\n",
       "      <th>2011-12-28</th>\n",
       "      <td>15.722</td>\n",
       "      <td>15.365</td>\n",
       "      <td>15.698</td>\n",
       "      <td>15.396</td>\n",
       "      <td>1285000</td>\n",
       "      <td>15.396</td>\n",
       "    </tr>\n",
       "    <tr>\n",
       "      <th>2011-12-29</th>\n",
       "      <td>15.358</td>\n",
       "      <td>15.128</td>\n",
       "      <td>15.189</td>\n",
       "      <td>15.319</td>\n",
       "      <td>2638000</td>\n",
       "      <td>15.319</td>\n",
       "    </tr>\n",
       "    <tr>\n",
       "      <th>2011-12-30</th>\n",
       "      <td>15.662</td>\n",
       "      <td>15.479</td>\n",
       "      <td>15.508</td>\n",
       "      <td>15.493</td>\n",
       "      <td>1015000</td>\n",
       "      <td>15.493</td>\n",
       "    </tr>\n",
       "  </tbody>\n",
       "</table>\n",
       "<p>547 rows × 6 columns</p>\n",
       "</div>"
      ],
      "text/plain": [
       "              High     Low    Open   Close   Volume  Adj Close\n",
       "Date                                                          \n",
       "2009-10-30  10.466  10.351  10.434  10.455   423000     10.455\n",
       "2009-11-02  10.628  10.537  10.553  10.596   434000     10.596\n",
       "2009-11-03  10.876  10.578  10.579  10.855  1395000     10.855\n",
       "2009-11-04  10.970  10.865  10.923  10.916  1076000     10.916\n",
       "2009-11-05  10.929  10.871  10.892  10.908   787000     10.908\n",
       "...            ...     ...     ...     ...      ...        ...\n",
       "2011-12-23  15.948  15.884  15.930  15.934   391000     15.934\n",
       "2011-12-27  15.852  15.756  15.801  15.788   830000     15.788\n",
       "2011-12-28  15.722  15.365  15.698  15.396  1285000     15.396\n",
       "2011-12-29  15.358  15.128  15.189  15.319  2638000     15.319\n",
       "2011-12-30  15.662  15.479  15.508  15.493  1015000     15.493\n",
       "\n",
       "[547 rows x 6 columns]"
      ]
     },
     "execution_count": 3,
     "metadata": {},
     "output_type": "execute_result"
    }
   ],
   "source": [
    "SGOL"
   ]
  },
  {
   "cell_type": "code",
   "execution_count": 4,
   "metadata": {
    "colab": {},
    "colab_type": "code",
    "id": "RyZ1t2TGdRfq"
   },
   "outputs": [],
   "source": [
    "HUCTO = pdr.get_data_yahoo('HUC.TO', \n",
    "                          start=datetime.datetime(2009, 11, 1), \n",
    "                          end=datetime.datetime(2012, 1, 1))"
   ]
  },
  {
   "cell_type": "code",
   "execution_count": 5,
   "metadata": {
    "colab": {
     "base_uri": "https://localhost:8080/",
     "height": 450
    },
    "colab_type": "code",
    "id": "l5CbJ88addpr",
    "outputId": "6b646809-2530-4b6d-bf2b-f48919081c81"
   },
   "outputs": [
    {
     "data": {
      "text/html": [
       "<div>\n",
       "<style scoped>\n",
       "    .dataframe tbody tr th:only-of-type {\n",
       "        vertical-align: middle;\n",
       "    }\n",
       "\n",
       "    .dataframe tbody tr th {\n",
       "        vertical-align: top;\n",
       "    }\n",
       "\n",
       "    .dataframe thead th {\n",
       "        text-align: right;\n",
       "    }\n",
       "</style>\n",
       "<table border=\"1\" class=\"dataframe\">\n",
       "  <thead>\n",
       "    <tr style=\"text-align: right;\">\n",
       "      <th></th>\n",
       "      <th>High</th>\n",
       "      <th>Low</th>\n",
       "      <th>Open</th>\n",
       "      <th>Close</th>\n",
       "      <th>Volume</th>\n",
       "      <th>Adj Close</th>\n",
       "    </tr>\n",
       "    <tr>\n",
       "      <th>Date</th>\n",
       "      <th></th>\n",
       "      <th></th>\n",
       "      <th></th>\n",
       "      <th></th>\n",
       "      <th></th>\n",
       "      <th></th>\n",
       "    </tr>\n",
       "  </thead>\n",
       "  <tbody>\n",
       "    <tr>\n",
       "      <th>2009-11-02</th>\n",
       "      <td>21.440001</td>\n",
       "      <td>21.440001</td>\n",
       "      <td>21.440001</td>\n",
       "      <td>21.440001</td>\n",
       "      <td>0</td>\n",
       "      <td>21.440001</td>\n",
       "    </tr>\n",
       "    <tr>\n",
       "      <th>2009-11-03</th>\n",
       "      <td>21.440001</td>\n",
       "      <td>21.440001</td>\n",
       "      <td>21.440001</td>\n",
       "      <td>21.440001</td>\n",
       "      <td>0</td>\n",
       "      <td>21.440001</td>\n",
       "    </tr>\n",
       "    <tr>\n",
       "      <th>2009-11-04</th>\n",
       "      <td>22.299999</td>\n",
       "      <td>22.299999</td>\n",
       "      <td>22.299999</td>\n",
       "      <td>22.299999</td>\n",
       "      <td>100</td>\n",
       "      <td>22.299999</td>\n",
       "    </tr>\n",
       "    <tr>\n",
       "      <th>2009-11-05</th>\n",
       "      <td>23.299999</td>\n",
       "      <td>22.120001</td>\n",
       "      <td>23.299999</td>\n",
       "      <td>22.139999</td>\n",
       "      <td>5600</td>\n",
       "      <td>22.139999</td>\n",
       "    </tr>\n",
       "    <tr>\n",
       "      <th>2009-11-06</th>\n",
       "      <td>21.500000</td>\n",
       "      <td>21.440001</td>\n",
       "      <td>21.440001</td>\n",
       "      <td>21.500000</td>\n",
       "      <td>200</td>\n",
       "      <td>21.500000</td>\n",
       "    </tr>\n",
       "    <tr>\n",
       "      <th>...</th>\n",
       "      <td>...</td>\n",
       "      <td>...</td>\n",
       "      <td>...</td>\n",
       "      <td>...</td>\n",
       "      <td>...</td>\n",
       "      <td>...</td>\n",
       "    </tr>\n",
       "    <tr>\n",
       "      <th>2011-12-22</th>\n",
       "      <td>22.580000</td>\n",
       "      <td>22.440001</td>\n",
       "      <td>22.440001</td>\n",
       "      <td>22.459999</td>\n",
       "      <td>7400</td>\n",
       "      <td>22.459999</td>\n",
       "    </tr>\n",
       "    <tr>\n",
       "      <th>2011-12-23</th>\n",
       "      <td>22.600000</td>\n",
       "      <td>22.500000</td>\n",
       "      <td>22.500000</td>\n",
       "      <td>22.600000</td>\n",
       "      <td>300</td>\n",
       "      <td>22.600000</td>\n",
       "    </tr>\n",
       "    <tr>\n",
       "      <th>2011-12-28</th>\n",
       "      <td>22.719999</td>\n",
       "      <td>22.420000</td>\n",
       "      <td>22.719999</td>\n",
       "      <td>22.420000</td>\n",
       "      <td>3200</td>\n",
       "      <td>22.420000</td>\n",
       "    </tr>\n",
       "    <tr>\n",
       "      <th>2011-12-29</th>\n",
       "      <td>22.440001</td>\n",
       "      <td>22.440001</td>\n",
       "      <td>22.440001</td>\n",
       "      <td>22.440001</td>\n",
       "      <td>200</td>\n",
       "      <td>22.440001</td>\n",
       "    </tr>\n",
       "    <tr>\n",
       "      <th>2011-12-30</th>\n",
       "      <td>22.559999</td>\n",
       "      <td>22.559999</td>\n",
       "      <td>22.559999</td>\n",
       "      <td>22.559999</td>\n",
       "      <td>100</td>\n",
       "      <td>22.559999</td>\n",
       "    </tr>\n",
       "  </tbody>\n",
       "</table>\n",
       "<p>543 rows × 6 columns</p>\n",
       "</div>"
      ],
      "text/plain": [
       "                 High        Low       Open      Close  Volume  Adj Close\n",
       "Date                                                                     \n",
       "2009-11-02  21.440001  21.440001  21.440001  21.440001       0  21.440001\n",
       "2009-11-03  21.440001  21.440001  21.440001  21.440001       0  21.440001\n",
       "2009-11-04  22.299999  22.299999  22.299999  22.299999     100  22.299999\n",
       "2009-11-05  23.299999  22.120001  23.299999  22.139999    5600  22.139999\n",
       "2009-11-06  21.500000  21.440001  21.440001  21.500000     200  21.500000\n",
       "...               ...        ...        ...        ...     ...        ...\n",
       "2011-12-22  22.580000  22.440001  22.440001  22.459999    7400  22.459999\n",
       "2011-12-23  22.600000  22.500000  22.500000  22.600000     300  22.600000\n",
       "2011-12-28  22.719999  22.420000  22.719999  22.420000    3200  22.420000\n",
       "2011-12-29  22.440001  22.440001  22.440001  22.440001     200  22.440001\n",
       "2011-12-30  22.559999  22.559999  22.559999  22.559999     100  22.559999\n",
       "\n",
       "[543 rows x 6 columns]"
      ]
     },
     "execution_count": 5,
     "metadata": {},
     "output_type": "execute_result"
    }
   ],
   "source": [
    "HUCTO"
   ]
  },
  {
   "cell_type": "code",
   "execution_count": 7,
   "metadata": {
    "colab": {},
    "colab_type": "code",
    "id": "gZa0maLIOgxa"
   },
   "outputs": [],
   "source": [
    "daily_close1 = SGOL[['Adj Close']]\n",
    "daily_close2 = HUCTO[['Adj Close']]"
   ]
  },
  {
   "cell_type": "code",
   "execution_count": 8,
   "metadata": {
    "colab": {
     "base_uri": "https://localhost:8080/",
     "height": 450
    },
    "colab_type": "code",
    "id": "DpEQfppMOkB-",
    "outputId": "a522c497-2e80-40fc-f9ad-f21b2dcd8289"
   },
   "outputs": [
    {
     "data": {
      "text/html": [
       "<div>\n",
       "<style scoped>\n",
       "    .dataframe tbody tr th:only-of-type {\n",
       "        vertical-align: middle;\n",
       "    }\n",
       "\n",
       "    .dataframe tbody tr th {\n",
       "        vertical-align: top;\n",
       "    }\n",
       "\n",
       "    .dataframe thead th {\n",
       "        text-align: right;\n",
       "    }\n",
       "</style>\n",
       "<table border=\"1\" class=\"dataframe\">\n",
       "  <thead>\n",
       "    <tr style=\"text-align: right;\">\n",
       "      <th></th>\n",
       "      <th>Adj Close</th>\n",
       "    </tr>\n",
       "    <tr>\n",
       "      <th>Date</th>\n",
       "      <th></th>\n",
       "    </tr>\n",
       "  </thead>\n",
       "  <tbody>\n",
       "    <tr>\n",
       "      <th>2009-10-30</th>\n",
       "      <td>10.455</td>\n",
       "    </tr>\n",
       "    <tr>\n",
       "      <th>2009-11-02</th>\n",
       "      <td>10.596</td>\n",
       "    </tr>\n",
       "    <tr>\n",
       "      <th>2009-11-03</th>\n",
       "      <td>10.855</td>\n",
       "    </tr>\n",
       "    <tr>\n",
       "      <th>2009-11-04</th>\n",
       "      <td>10.916</td>\n",
       "    </tr>\n",
       "    <tr>\n",
       "      <th>2009-11-05</th>\n",
       "      <td>10.908</td>\n",
       "    </tr>\n",
       "    <tr>\n",
       "      <th>...</th>\n",
       "      <td>...</td>\n",
       "    </tr>\n",
       "    <tr>\n",
       "      <th>2011-12-23</th>\n",
       "      <td>15.934</td>\n",
       "    </tr>\n",
       "    <tr>\n",
       "      <th>2011-12-27</th>\n",
       "      <td>15.788</td>\n",
       "    </tr>\n",
       "    <tr>\n",
       "      <th>2011-12-28</th>\n",
       "      <td>15.396</td>\n",
       "    </tr>\n",
       "    <tr>\n",
       "      <th>2011-12-29</th>\n",
       "      <td>15.319</td>\n",
       "    </tr>\n",
       "    <tr>\n",
       "      <th>2011-12-30</th>\n",
       "      <td>15.493</td>\n",
       "    </tr>\n",
       "  </tbody>\n",
       "</table>\n",
       "<p>547 rows × 1 columns</p>\n",
       "</div>"
      ],
      "text/plain": [
       "            Adj Close\n",
       "Date                 \n",
       "2009-10-30     10.455\n",
       "2009-11-02     10.596\n",
       "2009-11-03     10.855\n",
       "2009-11-04     10.916\n",
       "2009-11-05     10.908\n",
       "...               ...\n",
       "2011-12-23     15.934\n",
       "2011-12-27     15.788\n",
       "2011-12-28     15.396\n",
       "2011-12-29     15.319\n",
       "2011-12-30     15.493\n",
       "\n",
       "[547 rows x 1 columns]"
      ]
     },
     "execution_count": 8,
     "metadata": {},
     "output_type": "execute_result"
    }
   ],
   "source": [
    "daily_close1"
   ]
  },
  {
   "cell_type": "code",
   "execution_count": 9,
   "metadata": {
    "colab": {
     "base_uri": "https://localhost:8080/",
     "height": 450
    },
    "colab_type": "code",
    "id": "ehwMuWQzdrjk",
    "outputId": "a4e695a8-c483-4b47-a132-99efc98d7c1b"
   },
   "outputs": [
    {
     "data": {
      "text/html": [
       "<div>\n",
       "<style scoped>\n",
       "    .dataframe tbody tr th:only-of-type {\n",
       "        vertical-align: middle;\n",
       "    }\n",
       "\n",
       "    .dataframe tbody tr th {\n",
       "        vertical-align: top;\n",
       "    }\n",
       "\n",
       "    .dataframe thead th {\n",
       "        text-align: right;\n",
       "    }\n",
       "</style>\n",
       "<table border=\"1\" class=\"dataframe\">\n",
       "  <thead>\n",
       "    <tr style=\"text-align: right;\">\n",
       "      <th></th>\n",
       "      <th>Adj Close</th>\n",
       "    </tr>\n",
       "    <tr>\n",
       "      <th>Date</th>\n",
       "      <th></th>\n",
       "    </tr>\n",
       "  </thead>\n",
       "  <tbody>\n",
       "    <tr>\n",
       "      <th>2009-11-02</th>\n",
       "      <td>21.440001</td>\n",
       "    </tr>\n",
       "    <tr>\n",
       "      <th>2009-11-03</th>\n",
       "      <td>21.440001</td>\n",
       "    </tr>\n",
       "    <tr>\n",
       "      <th>2009-11-04</th>\n",
       "      <td>22.299999</td>\n",
       "    </tr>\n",
       "    <tr>\n",
       "      <th>2009-11-05</th>\n",
       "      <td>22.139999</td>\n",
       "    </tr>\n",
       "    <tr>\n",
       "      <th>2009-11-06</th>\n",
       "      <td>21.500000</td>\n",
       "    </tr>\n",
       "    <tr>\n",
       "      <th>...</th>\n",
       "      <td>...</td>\n",
       "    </tr>\n",
       "    <tr>\n",
       "      <th>2011-12-22</th>\n",
       "      <td>22.459999</td>\n",
       "    </tr>\n",
       "    <tr>\n",
       "      <th>2011-12-23</th>\n",
       "      <td>22.600000</td>\n",
       "    </tr>\n",
       "    <tr>\n",
       "      <th>2011-12-28</th>\n",
       "      <td>22.420000</td>\n",
       "    </tr>\n",
       "    <tr>\n",
       "      <th>2011-12-29</th>\n",
       "      <td>22.440001</td>\n",
       "    </tr>\n",
       "    <tr>\n",
       "      <th>2011-12-30</th>\n",
       "      <td>22.559999</td>\n",
       "    </tr>\n",
       "  </tbody>\n",
       "</table>\n",
       "<p>543 rows × 1 columns</p>\n",
       "</div>"
      ],
      "text/plain": [
       "            Adj Close\n",
       "Date                 \n",
       "2009-11-02  21.440001\n",
       "2009-11-03  21.440001\n",
       "2009-11-04  22.299999\n",
       "2009-11-05  22.139999\n",
       "2009-11-06  21.500000\n",
       "...               ...\n",
       "2011-12-22  22.459999\n",
       "2011-12-23  22.600000\n",
       "2011-12-28  22.420000\n",
       "2011-12-29  22.440001\n",
       "2011-12-30  22.559999\n",
       "\n",
       "[543 rows x 1 columns]"
      ]
     },
     "execution_count": 9,
     "metadata": {},
     "output_type": "execute_result"
    }
   ],
   "source": [
    "daily_close2"
   ]
  },
  {
   "cell_type": "code",
   "execution_count": 10,
   "metadata": {
    "colab": {},
    "colab_type": "code",
    "id": "ezyCPFnAff3Y"
   },
   "outputs": [],
   "source": [
    "result = pd.concat([daily_close1, daily_close2], axis=1, sort=False)"
   ]
  },
  {
   "cell_type": "code",
   "execution_count": 15,
   "metadata": {
    "colab": {
     "base_uri": "https://localhost:8080/",
     "height": 450
    },
    "colab_type": "code",
    "id": "nhTDw1VbfmV-",
    "outputId": "57d921f8-c306-47c5-e4f6-3c231f898d28"
   },
   "outputs": [],
   "source": [
    "# 问题出在了你之前没有drop掉NaN值\n",
    "\n",
    "result.dropna(inplace =True)"
   ]
  },
  {
   "cell_type": "code",
   "execution_count": 33,
   "metadata": {},
   "outputs": [],
   "source": [
    "result1, result2 = result.iloc[:,0], result.iloc[:, 1]"
   ]
  },
  {
   "cell_type": "code",
   "execution_count": 18,
   "metadata": {
    "colab": {
     "base_uri": "https://localhost:8080/",
     "height": 450
    },
    "colab_type": "code",
    "id": "IrbOfMfjd_yN",
    "outputId": "9cea4868-becd-42cf-db10-2d4ead1eeefd"
   },
   "outputs": [],
   "source": [
    "result_corr = result.rolling(window=252).corr(pairwise=True)"
   ]
  },
  {
   "cell_type": "code",
   "execution_count": 39,
   "metadata": {
    "colab": {
     "base_uri": "https://localhost:8080/",
     "height": 450
    },
    "colab_type": "code",
    "id": "zVpxe5KYYue3",
    "outputId": "fa581175-fa75-4171-b9c5-e606ac142f9e"
   },
   "outputs": [
    {
     "data": {
      "text/plain": [
       "<matplotlib.axes._subplots.AxesSubplot at 0x119cd3dd8>"
      ]
     },
     "execution_count": 39,
     "metadata": {},
     "output_type": "execute_result"
    },
    {
     "data": {
      "image/png": "[encoded data removed]",
      "text/plain": [
       "<Figure size 1296x432 with 1 Axes>"
      ]
     },
     "metadata": {
      "needs_background": "light"
     },
     "output_type": "display_data"
    }
   ],
   "source": [
    "result1.rolling(window=252).corr(result2).plot(figsize = (18,6))"
   ]
  }
 ],
 "metadata": {
  "colab": {
   "collapsed_sections": [],
   "name": "RC_two ETFs.ipynb",
   "provenance": []
  },
  "kernelspec": {
   "display_name": "Python 3",
   "language": "python",
   "name": "python3"
  },
  "language_info": {
   "codemirror_mode": {
    "name": "ipython",
    "version": 3
   },
   "file_extension": ".py",
   "mimetype": "text/x-python",
   "name": "python",
   "nbconvert_exporter": "python",
   "pygments_lexer": "ipython3",
   "version": "3.6.10"
  }
 },
 "nbformat": 4,
 "nbformat_minor": 1
}
