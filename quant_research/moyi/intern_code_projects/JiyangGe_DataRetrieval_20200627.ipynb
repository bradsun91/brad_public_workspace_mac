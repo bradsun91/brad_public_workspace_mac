{
 "cells": [
  {
   "cell_type": "code",
   "execution_count": null,
   "metadata": {},
   "outputs": [],
   "source": [
    "pip install pandas-datareader"
   ]
  },
  {
   "cell_type": "code",
   "execution_count": null,
   "metadata": {},
   "outputs": [],
   "source": [
    "pip install yfinance"
   ]
  },
  {
   "cell_type": "code",
   "execution_count": 1,
   "metadata": {},
   "outputs": [
    {
     "name": "stdout",
     "output_type": "stream",
     "text": [
      "{'zip': '98052', 'sector': 'Technology', 'fullTimeEmployees': 144000, 'longBusinessSummary': 'Microsoft Corporation develops, licenses, and supports software, services, devices, and solutions worldwide. Its Productivity and Business Processes segment offers Office, Exchange, SharePoint, Microsoft Teams, Office 365 Security and Compliance, and Skype for Business, as well as related Client Access Licenses (CAL); Skype, Outlook.com, and OneDrive; LinkedIn that includes Talent and marketing solutions, and subscriptions; and Dynamics 365, a set of cloud-based and on-premises business solutions for small and medium businesses, large organizations, and divisions of enterprises. Its Intelligent Cloud segment licenses SQL and Windows Servers, Visual Studio, System Center, and related CALs; GitHub that provides a collaboration platform and code hosting service for developers; and Azure, a cloud platform. It also provides support services and Microsoft consulting services to assist customers in developing, deploying, and managing Microsoft server and desktop solutions; and training and certification to developers and IT professionals on various Microsoft products. Its More Personal Computing segment offers Windows OEM licensing and other non-volume licensing of the Windows operating system; Windows Commercial, such as volume licensing of the Windows operating system, Windows cloud services, and other Windows commercial offerings; patent licensing; Windows Internet of Things; and MSN advertising. It also provides Microsoft Surface, PC accessories, and other intelligent devices; Gaming, including Xbox hardware, and Xbox software and services; video games and third-party video game royalties; and Search, including Bing and Microsoft advertising. It sells its products through distributors and resellers; and directly through digital marketplaces, online stores, and retail stores. It has strategic partnerships with Humana Inc., Nokia, Telkomsel, Swiss Re, Kubota Corporation, and FedEx Corp. The company was founded in 1975 and is headquartered in Redmond, Washington.', 'city': 'Redmond', 'phone': '425-882-8080', 'state': 'WA', 'country': 'United States', 'companyOfficers': [], 'website': 'http://www.microsoft.com', 'maxAge': 1, 'address1': 'One Microsoft Way', 'fax': '425-706-7329', 'industry': 'Software—Infrastructure', 'previousClose': 200.57, 'regularMarketOpen': 202.09, 'twoHundredDayAverage': 169.652, 'trailingAnnualDividendYield': 0.009921723, 'payoutRatio': 0.32330000000000003, 'volume24Hr': None, 'regularMarketDayHigh': 203.95, 'navPrice': None, 'averageDailyVolume10Day': 33539283, 'totalAssets': None, 'regularMarketPreviousClose': 200.57, 'fiftyDayAverage': 186.09428, 'trailingAnnualDividendRate': 1.99, 'open': 202.09, 'toCurrency': None, 'averageVolume10days': 33539283, 'expireDate': None, 'yield': None, 'algorithm': None, 'dividendRate': 2.04, 'exDividendDate': 1597795200, 'beta': 0.9255369999999999, 'circulatingSupply': None, 'startDate': None, 'regularMarketDayLow': 201.425, 'priceHint': 2, 'currency': 'USD', 'trailingPE': 33.640453, 'regularMarketVolume': 30321491, 'lastMarket': None, 'maxSupply': None, 'openInterest': None, 'marketCap': 1531172356096, 'volumeAllCurrencies': None, 'strikePrice': None, 'averageVolume': 42612912, 'priceToSalesTrailing12Months': 11.039535, 'dayLow': 201.425, 'ask': 201.6, 'ytdReturn': None, 'askSize': 800, 'volume': 30321491, 'fiftyTwoWeekHigh': 203.95, 'forwardPE': 32.46142, 'fromCurrency': None, 'fiveYearAvgDividendYield': 1.92, 'fiftyTwoWeekLow': 130.78, 'bid': 201.5, 'tradeable': False, 'dividendYield': 0.010199999000000001, 'bidSize': 900, 'dayHigh': 203.95, 'exchange': 'NMS', 'shortName': 'Microsoft Corporation', 'longName': 'Microsoft Corporation', 'exchangeTimezoneName': 'America/New_York', 'exchangeTimezoneShortName': 'EDT', 'isEsgPopulated': False, 'gmtOffSetMilliseconds': '-14400000', 'quoteType': 'EQUITY', 'symbol': 'MSFT', 'messageBoardId': 'finmb_21835', 'market': 'us_market', 'annualHoldingsTurnover': None, 'enterpriseToRevenue': 10.58, 'beta3Year': None, 'profitMargins': 0.33356997, 'enterpriseToEbitda': 22.895, '52WeekChange': 0.5031853, 'morningStarRiskRating': None, 'forwardEps': 6.22, 'revenueQuarterlyGrowth': None, 'sharesOutstanding': 7583439872, 'fundInceptionDate': None, 'annualReportExpenseRatio': None, 'bookValue': 15.086, 'sharesShort': 40829581, 'sharesPercentSharesOut': 0.0054, 'fundFamily': None, 'lastFiscalYearEnd': 1561852800, 'heldPercentInstitutions': 0.7409300000000001, 'netIncomeToCommon': 46265999360, 'trailingEps': 6.002, 'lastDividendValue': None, 'SandP52WeekChange': 0.06871927, 'priceToBook': 13.383932, 'heldPercentInsiders': 0.014249999000000001, 'nextFiscalYearEnd': 1625011200, 'mostRecentQuarter': 1585612800, 'shortRatio': 1.13, 'sharesShortPreviousMonthDate': 1588204800, 'floatShares': 7472267013, 'enterpriseValue': 1467393638400, 'threeYearAverageReturn': None, 'lastSplitDate': 1045526400, 'lastSplitFactor': '2:1', 'legalType': None, 'morningStarOverallRating': None, 'earningsQuarterlyGrowth': 0.221, 'dateShortInterest': 1590710400, 'pegRatio': 2.25, 'lastCapGain': None, 'shortPercentOfFloat': 0.0055000000000000005, 'sharesShortPriorMonth': 47763253, 'category': None, 'fiveYearAverageReturn': None, 'regularMarketPrice': 202.09, 'logo_url': 'https://logo.clearbit.com/microsoft.com'}\n"
     ]
    }
   ],
   "source": [
    "import yfinance as yf\n",
    "# use MSFT as an example\n",
    "msft = yf.Ticker(\"MSFT\")\n",
    "\n",
    "# get stock info\n",
    "print(msft.info)\n",
    "\n",
    "# get historical market data\n",
    "hist = msft.history(period=\"5d\")"
   ]
  },
  {
   "cell_type": "code",
   "execution_count": 2,
   "metadata": {},
   "outputs": [],
   "source": [
    "# more params you can set for history()\n",
    "#Arguments,Scenarios,Example value\n",
    "#period,date period to download,\"1d, 5d, 1mo, 3mo, 6mo, 1y, 2y, 5y, 10y, ytd, max\"\n",
    "#interval,\"data interval. If it’s intraday data, the interval needs to be set within 60 days\",\"1m, 2m, 5m, 15m, 30m, 60m, 90m, 1h, 1d, 5d, 1wk, 1mo, 3mo\"\n",
    "#start,If period is not set- Download start date string (YYYY-MM-DD) or datetime,\"2020-03-18\"\n",
    "#end,If period is not set - Download end date string (YYYY-MM-DD) or datetime,\"2020-03-19\"\n",
    "#prepost, Boolean value to include Pre and Post market data,Default is False\n",
    "#auto_adjust,Boolean value to adjust all OHLC,Default is True\n",
    "#actions, Boolean value download stock dividends and stock splits events,Default is True"
   ]
  },
  {
   "cell_type": "code",
   "execution_count": 5,
   "metadata": {},
   "outputs": [
    {
     "name": "stdout",
     "output_type": "stream",
     "text": [
      "[*********************100%***********************]  1 of 1 completed\n",
      "[*********************100%***********************]  1 of 1 completed\n",
      "[*********************100%***********************]  1 of 1 completed\n",
      "[*********************100%***********************]  1 of 1 completed\n",
      "[*********************100%***********************]  1 of 1 completed\n",
      "[*********************100%***********************]  1 of 1 completed\n",
      "[*********************100%***********************]  1 of 1 completed\n",
      "[*********************100%***********************]  1 of 1 completed\n",
      "\n",
      "1 Failed download:\n",
      "- JEC: No data found for this date range, symbol may be delisted\n",
      "[*********************100%***********************]  1 of 1 completed\n",
      "[*********************100%***********************]  1 of 1 completed\n"
     ]
    }
   ],
   "source": [
    "# Download 10 stock data then export as CSV\n",
    "ticker_list=['DJIA', 'DOW', 'LB', 'EXPE', 'PXD', 'MCHP', 'CRM', 'JEC' , 'NRG', 'HFC']\n",
    "for stock in ticker_list:\n",
    "    data_df = yf.download(stock, start=\"2020-02-01\", end=\"2020-03-20\")\n",
    "    data_df.to_csv(stock+'.csv')"
   ]
  },
  {
   "cell_type": "code",
   "execution_count": null,
   "metadata": {},
   "outputs": [],
   "source": []
  },
  {
   "cell_type": "code",
   "execution_count": null,
   "metadata": {},
   "outputs": [],
   "source": [
    "from pandas_datareader import data as pdr\n",
    "from datetime import date\n",
    "import yfinance as yf\n",
    "yf.pdr_override() \n",
    "import pandas as pd"
   ]
  },
  {
   "cell_type": "code",
   "execution_count": null,
   "metadata": {},
   "outputs": [],
   "source": [
    "# Tickers list\n",
    "# We can add and delete any ticker from the list to get desired ticker live data\n",
    "ticker_list=['DJIA', 'DOW', 'LB', 'EXPE', 'PXD', 'MCHP', 'CRM', 'JEC' , 'NRG', 'HFC', 'NOW']\n",
    "today = date.today()\n",
    "# We can get data by our choice by giving days bracket\n",
    "start_date='2017–01–01'\n",
    "end_date=\"2019–11–30\"\n",
    "files=[]\n",
    "def getData(ticker):\n",
    "    print(ticker)\n",
    "    data = pdr.get_data_yahoo(ticker, start=start_date, end=end_date)\n",
    "    dataname= ticker+'_'+str(end_date)\n",
    "    files.append(dataname)\n",
    "    SaveData(data, dataname)"
   ]
  },
  {
   "cell_type": "code",
   "execution_count": null,
   "metadata": {},
   "outputs": [],
   "source": [
    "# Create a data folder in your current dir.\n",
    "def SaveData(df, filename):\n",
    "    df.to_csv('./data/'+filename+'.csv')\n",
    "#This loop will iterate over ticker list, will pass one ticker to get data, and save that data as file.\n",
    "for tik in ticker_list:\n",
    "    getData(tik)"
   ]
  },
  {
   "cell_type": "code",
   "execution_count": null,
   "metadata": {},
   "outputs": [],
   "source": [
    "for i in range(0,11):\n",
    "    df1= pd.read_csv('./data/'+ str(files[i])+'.csv')\n",
    "    print (df1.head())"
   ]
  },
  {
   "cell_type": "code",
   "execution_count": null,
   "metadata": {},
   "outputs": [],
   "source": []
  }
 ],
 "metadata": {
  "kernelspec": {
   "display_name": "Python 3",
   "language": "python",
   "name": "python3"
  },
  "language_info": {
   "codemirror_mode": {
    "name": "ipython",
    "version": 3
   },
   "file_extension": ".py",
   "mimetype": "text/x-python",
   "name": "python",
   "nbconvert_exporter": "python",
   "pygments_lexer": "ipython3",
   "version": "3.6.10"
  }
 },
 "nbformat": 4,
 "nbformat_minor": 4
}
