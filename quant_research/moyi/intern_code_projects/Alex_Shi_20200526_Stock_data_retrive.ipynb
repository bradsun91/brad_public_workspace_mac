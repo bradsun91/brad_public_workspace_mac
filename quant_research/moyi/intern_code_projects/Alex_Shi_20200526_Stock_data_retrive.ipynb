{
 "cells": [
  {
   "cell_type": "markdown",
   "metadata": {
    "colab_type": "text",
    "id": "SJyBhTBc0zul"
   },
   "source": [
    "# **Yahoo Finance**"
   ]
  },
  {
   "cell_type": "code",
   "execution_count": 0,
   "metadata": {
    "colab": {},
    "colab_type": "code",
    "id": "P-vdbh8OwCa0"
   },
   "outputs": [],
   "source": [
    "import yfinance as yf\n",
    "import time"
   ]
  },
  {
   "cell_type": "code",
   "execution_count": 0,
   "metadata": {
    "colab": {},
    "colab_type": "code",
    "id": "4mDy30MrtNQO"
   },
   "outputs": [],
   "source": [
    "def retrive_data(share_code):\n",
    "  msft = yf.Ticker(share_code)\n",
    "  hist = msft.history(period=\"max\")\n",
    "  return hist\n",
    "\n",
    "def data_show(share_list):\n",
    "  for share_code in share_list:\n",
    "    hist = retrive_data(share_code)\n",
    "    print('\\n',share_code,\"'s historical data \\n\")\n",
    "    print(hist.tail())\n",
    "    time.sleep(1)"
   ]
  },
  {
   "cell_type": "code",
   "execution_count": 212,
   "metadata": {
    "colab": {
     "base_uri": "https://localhost:8080/",
     "height": 1000
    },
    "colab_type": "code",
    "id": "C17XCWYAweqn",
    "outputId": "8e524707-d212-45b7-c5f3-40e6c53e0f33"
   },
   "outputs": [
    {
     "name": "stdout",
     "output_type": "stream",
     "text": [
      "\n",
      " MRNA 's historical data \n",
      "\n",
      "             Open   High    Low  Close    Volume  Dividends  Stock Splits\n",
      "Date                                                                     \n",
      "2020-05-12  65.99  68.49  62.02  62.35  25934500          0             0\n",
      "2020-05-13  63.80  66.97  60.29  65.18  22126000          0             0\n",
      "2020-05-14  64.79  65.39  61.44  64.56  12198200          0             0\n",
      "2020-05-15  63.79  67.67  63.01  66.69  16341900          0             0\n",
      "2020-05-18  86.14  87.00  75.66  80.00  80813300          0             0\n",
      "\n",
      " DIS 's historical data \n",
      "\n",
      "              Open    High     Low   Close    Volume  Dividends  Stock Splits\n",
      "Date                                                                         \n",
      "2020-05-12  109.06  109.44  104.49  104.56  17049700        0.0           0.0\n",
      "2020-05-13  104.50  104.54  101.60  102.92  21085800        0.0           0.0\n",
      "2020-05-14  101.98  105.92   99.66  105.91  22002200        0.0           0.0\n",
      "2020-05-15  104.98  109.38  104.27  109.05  29766000        0.0           0.0\n",
      "2020-05-18  114.47  119.78  114.47  116.85  40044600        0.0           0.0\n",
      "\n",
      " NVAX 's historical data \n",
      "\n",
      "             Open   High    Low  Close    Volume  Dividends  Stock Splits\n",
      "Date                                                                     \n",
      "2020-05-12  39.02  44.94  36.08  39.82  74649600          0           0.0\n",
      "2020-05-13  39.32  42.80  37.40  40.67  24237100          0           0.0\n",
      "2020-05-14  39.23  40.35  37.37  38.30   7832800          0           0.0\n",
      "2020-05-15  38.18  46.00  38.05  43.63  21892500          0           0.0\n",
      "2020-05-18  49.28  61.50  48.30  56.96  24580300          0           0.0\n",
      "\n",
      " VIR 's historical data \n",
      "\n",
      "             Open   High    Low  Close   Volume  Dividends  Stock Splits\n",
      "Date                                                                    \n",
      "2020-05-12  32.18  32.27  29.91  30.26  1089500          0             0\n",
      "2020-05-13  30.81  31.30  29.05  30.71  1106000          0             0\n",
      "2020-05-14  30.01  31.38  29.17  31.15  1146500          0             0\n",
      "2020-05-15  30.21  31.70  29.72  30.35   684900          0             0\n",
      "2020-05-18  33.45  42.40  33.02  40.10  5560600          0             0\n",
      "\n",
      " UBER 's historical data \n",
      "\n",
      "             Open   High    Low  Close    Volume  Dividends  Stock Splits\n",
      "Date                                                                     \n",
      "2020-05-12  31.42  34.45  30.41  32.40  89586000          0             0\n",
      "2020-05-13  32.30  33.06  30.83  33.02  47279500          0             0\n",
      "2020-05-14  32.53  33.04  31.24  32.79  32912600          0             0\n",
      "2020-05-15  32.26  32.89  31.59  32.47  25950000          0             0\n",
      "2020-05-18  33.70  36.00  32.99  33.62  47534600          0             0\n",
      "\n",
      " BABA 's historical data \n",
      "\n",
      "              Open    High     Low   Close    Volume  Dividends  Stock Splits\n",
      "Date                                                                         \n",
      "2020-05-12  206.95  208.05  200.02  200.31  17826800          0             0\n",
      "2020-05-13  203.62  204.68  197.98  199.46  22429700          0             0\n",
      "2020-05-14  195.50  201.77  194.03  201.30  20025900          0             0\n",
      "2020-05-15  200.70  204.49  200.10  203.68  17209500          0             0\n",
      "2020-05-18  212.50  215.47  210.37  215.28  23556600          0             0\n",
      "\n",
      " IBIO 's historical data \n",
      "\n",
      "            Open  High   Low  Close    Volume  Dividends  Stock Splits\n",
      "Date                                                                  \n",
      "2020-05-12  1.19  1.19  1.07   1.09   8454500          0           0.0\n",
      "2020-05-13  1.07  1.10  1.01   1.09   5542200          0           0.0\n",
      "2020-05-14  1.12  1.29  1.11   1.19  23958300          0           0.0\n",
      "2020-05-15  1.26  1.48  1.16   1.48  25654700          0           0.0\n",
      "2020-05-18  1.60  1.97  1.56   1.75  54044000          0           0.0\n",
      "\n",
      " HEXO 's historical data \n",
      "\n",
      "            Open   High    Low  Close    Volume  Dividends  Stock Splits\n",
      "Date                                                                    \n",
      "2020-05-12  0.49  0.504  0.480  0.481   2853300          0             0\n",
      "2020-05-13  0.48  0.482  0.430  0.448   4488700          0             0\n",
      "2020-05-14  0.43  0.450  0.400  0.437   3729300          0             0\n",
      "2020-05-15  0.46  0.539  0.455  0.531  13980900          0             0\n",
      "2020-05-18  0.63  0.890  0.571  0.750  49683400          0             0\n",
      "\n",
      " GE 's historical data \n",
      "\n",
      "            Open  High   Low  Close     Volume  Dividends  Stock Splits\n",
      "Date                                                                   \n",
      "2020-05-12  6.22  6.28  6.00   6.00   95652200        0.0           0.0\n",
      "2020-05-13  6.00  6.02  5.48   5.79  235745300        0.0           0.0\n",
      "2020-05-14  5.62  5.90  5.48   5.70  140205400        0.0           0.0\n",
      "2020-05-15  5.61  5.66  5.48   5.49  128486200        0.0           0.0\n",
      "2020-05-18  5.74  6.49  5.74   6.27  254558400        0.0           0.0\n",
      "\n",
      " RCL 's historical data \n",
      "\n",
      "             Open   High    Low  Close      Volume  Dividends  Stock Splits\n",
      "Date                                                                       \n",
      "2020-05-12  38.95  39.22  36.32  36.34  10499900.0        0.0           0.0\n",
      "2020-05-13  36.98  37.01  33.40  34.53  22563500.0        0.0           0.0\n",
      "2020-05-14  33.00  35.87  31.41  35.15  22829500.0        0.0           0.0\n",
      "2020-05-15  34.40  38.27  34.37  37.45  18249400.0        0.0           0.0\n",
      "2020-05-18  41.20  44.98  41.20  43.70  29372600.0        0.0           0.0\n"
     ]
    }
   ],
   "source": [
    "share_list = ['MRNA','DIS','NVAX','VIR','UBER','BABA','IBIO','HEXO','GE','RCL']\n",
    "data_show(share_list)"
   ]
  },
  {
   "cell_type": "markdown",
   "metadata": {
    "colab_type": "text",
    "id": "K7cTg8sR5aue"
   },
   "source": [
    "# **Quandl**"
   ]
  },
  {
   "cell_type": "code",
   "execution_count": 0,
   "metadata": {
    "colab": {},
    "colab_type": "code",
    "id": "OjGzFDAg6uXU"
   },
   "outputs": [],
   "source": [
    "quandl.ApiConfig.api_key = 'jhrYxtqyqrLrqZd-YKYx'"
   ]
  },
  {
   "cell_type": "code",
   "execution_count": 0,
   "metadata": {
    "colab": {},
    "colab_type": "code",
    "id": "EbTL5T4K-gx_"
   },
   "outputs": [],
   "source": [
    "def get_quandl_data(code_list):\n",
    "  for code,name in code_list:\n",
    "    data = quandl.get(code)\n",
    "    print('\\n---------',name,' historical data------------- \\n')\n",
    "    print(data.tail())\n",
    "    time.sleep(1)"
   ]
  },
  {
   "cell_type": "markdown",
   "metadata": {
    "colab_type": "text",
    "id": "OGcZIqu_vzhV"
   },
   "source": [
    "## 5 Macroeconomic Indicators"
   ]
  },
  {
   "cell_type": "code",
   "execution_count": 0,
   "metadata": {
    "colab": {},
    "colab_type": "code",
    "id": "l_kAvadj-lEv"
   },
   "outputs": [],
   "source": [
    "macroeco_index_list = [(\"RATEINF/CPI_USA\",\"CPI of USA\"),\n",
    "             (\"FRED/GDPC1\",\"Real GDP of USA\"),\n",
    "             (\"FRED/NROUST\",\"Natural Rate of Unemployment (Short-Term)\"),\n",
    "             (\"FRED/BOPSTB\",\"Trade Balance: Services, Balance of Payments Basis\"),\n",
    "             (\"ISM/MAN_PMI\",\"PMI Composite Index\")]"
   ]
  },
  {
   "cell_type": "code",
   "execution_count": 216,
   "metadata": {
    "colab": {
     "base_uri": "https://localhost:8080/",
     "height": 867
    },
    "colab_type": "code",
    "id": "NU7I7sG8-muN",
    "outputId": "39351fea-df87-47f5-bde2-2f21830524da"
   },
   "outputs": [
    {
     "name": "stdout",
     "output_type": "stream",
     "text": [
      "\n",
      "--------- CPI of USA  historical data------------- \n",
      "\n",
      "              Value\n",
      "Date               \n",
      "2019-12-31  256.974\n",
      "2020-01-31  257.971\n",
      "2020-02-29  258.678\n",
      "2020-03-31  258.115\n",
      "2020-04-30  256.389\n",
      "\n",
      "--------- Real GDP of USA  historical data------------- \n",
      "\n",
      "                Value\n",
      "Date                 \n",
      "2019-01-01  18927.281\n",
      "2019-04-01  19021.860\n",
      "2019-07-01  19121.112\n",
      "2019-10-01  19221.970\n",
      "2020-01-01  18987.877\n",
      "\n",
      "--------- Natural Rate of Unemployment (Short-Term)  historical data------------- \n",
      "\n",
      "               Value\n",
      "Date                \n",
      "2029-10-01  4.210983\n",
      "2030-01-01  4.203966\n",
      "2030-04-01  4.196964\n",
      "2030-07-01  4.189984\n",
      "2030-10-01  4.183028\n",
      "\n",
      "--------- Trade Balance: Services, Balance of Payments Basis  historical data------------- \n",
      "\n",
      "              Value\n",
      "Date               \n",
      "2019-11-01  21001.0\n",
      "2019-12-01  21038.0\n",
      "2020-01-01  21640.0\n",
      "2020-02-01  21235.0\n",
      "2020-03-01  21184.0\n",
      "\n",
      "--------- PMI Composite Index  historical data------------- \n",
      "\n",
      "             PMI\n",
      "Date            \n",
      "2019-12-01  47.8\n",
      "2020-01-01  50.9\n",
      "2020-02-01  50.1\n",
      "2020-03-01  49.1\n",
      "2020-04-01  41.5\n"
     ]
    }
   ],
   "source": [
    "get_quandl_data(macroeco_index_list)"
   ]
  },
  {
   "cell_type": "markdown",
   "metadata": {
    "colab_type": "text",
    "id": "uhA5FYskwODI"
   },
   "source": [
    "## 5 Stocks’ Historical Data"
   ]
  },
  {
   "cell_type": "code",
   "execution_count": 0,
   "metadata": {
    "colab": {},
    "colab_type": "code",
    "id": "o_0wNrMUwrIj"
   },
   "outputs": [],
   "source": [
    "stock_list = [(\"EOD/HD\",\"Home Depot Inc\"),\n",
    "              (\"EOD/DIS\",\"The Walt Disney Company\"),\n",
    "              (\"EOD/MSFT\",\"Microsoft Corporation\"),\n",
    "              (\"EOD/BA\",\"The Boeing Company\"),\n",
    "              (\"EOD/MMM\",\"3M Company\")]"
   ]
  },
  {
   "cell_type": "code",
   "execution_count": 218,
   "metadata": {
    "colab": {
     "base_uri": "https://localhost:8080/",
     "height": 1000
    },
    "colab_type": "code",
    "id": "5MdBIzgC6Uao",
    "outputId": "9ac1abc6-2f2f-4bf0-e5e0-2940f3d22664"
   },
   "outputs": [
    {
     "name": "stdout",
     "output_type": "stream",
     "text": [
      "\n",
      "--------- Home Depot Inc  historical data------------- \n",
      "\n",
      "              Open    High     Low  ...     Adj_Low   Adj_Close  Adj_Volume\n",
      "Date                                ...                                    \n",
      "2017-12-21  187.70  188.84  187.44  ...  177.250156  177.855363   5859058.0\n",
      "2017-12-22  188.20  188.46  187.27  ...  177.089397  177.902645   3256519.0\n",
      "2017-12-26  188.53  190.42  188.34  ...  178.101229  180.011415   2969182.0\n",
      "2017-12-27  190.60  191.49  190.01  ...  179.680442  179.850657   5912613.0\n",
      "2017-12-28  190.91  190.98  189.64  ...  179.330556  179.462946   3175631.0\n",
      "\n",
      "[5 rows x 12 columns]\n",
      "\n",
      "--------- The Walt Disney Company  historical data------------- \n",
      "\n",
      "              Open     High       Low  ...     Adj_Low   Adj_Close  Adj_Volume\n",
      "Date                                   ...                                    \n",
      "2017-12-21  109.52  111.090  109.1892  ...  106.178022  106.548321   9366706.0\n",
      "2017-12-22  109.40  109.685  108.4500  ...  105.459208  105.673141   7377990.0\n",
      "2017-12-26  108.49  109.370  107.8900  ...  104.914651  105.138308   3982398.0\n",
      "2017-12-27  108.42  108.550  107.4550  ...  104.491647  104.671545   5624037.0\n",
      "2017-12-28  108.00  108.050  107.0600  ...  104.107541  104.797960   3477599.0\n",
      "\n",
      "[5 rows x 12 columns]\n",
      "\n",
      "--------- Microsoft Corporation  historical data------------- \n",
      "\n",
      "             Open     High     Low  ...    Adj_Low  Adj_Close  Adj_Volume\n",
      "Date                                ...                                  \n",
      "2017-12-21  86.05  86.1000  85.400  ...  82.772995  82.869919  17990745.0\n",
      "2017-12-22  85.40  85.6300  84.920  ...  82.307760  82.879611  14145841.0\n",
      "2017-12-26  85.31  85.5346  85.030  ...  82.414376  82.772995   9891237.0\n",
      "2017-12-27  85.65  85.9800  85.215  ...  82.593686  83.073459  14678025.0\n",
      "2017-12-28  85.90  85.9300  85.550  ...  82.918381  83.083151  10594344.0\n",
      "\n",
      "[5 rows x 12 columns]\n",
      "\n",
      "--------- The Boeing Company  historical data------------- \n",
      "\n",
      "               Open      High       Low  ...     Adj_Low   Adj_Close  Adj_Volume\n",
      "Date                                     ...                                    \n",
      "2017-12-21  298.040  298.3852  294.1301  ...  280.249140  281.106570   5395193.0\n",
      "2017-12-22  295.135  296.5200  293.0100  ...  279.181901  281.173267   2257000.0\n",
      "2017-12-26  295.540  297.4400  294.6500  ...  280.744504  281.420997   1394737.0\n",
      "2017-12-27  296.410  296.8000  294.8000  ...  280.887425  281.668726   1447837.0\n",
      "2017-12-28  295.810  296.9900  294.7400  ...  280.830256  282.364275   1436543.0\n",
      "\n",
      "[5 rows x 12 columns]\n",
      "\n",
      "--------- 3M Company  historical data------------- \n",
      "\n",
      "              Open    High     Low  ...     Adj_Low   Adj_Close  Adj_Volume\n",
      "Date                                ...                                    \n",
      "2017-12-21  236.95  237.25  234.41  ...  218.852778  219.198222   2240586.0\n",
      "2017-12-22  234.57  236.08  234.28  ...  218.731406  219.151541   1280557.0\n",
      "2017-12-26  235.08  236.28  235.03  ...  219.431630  219.823756    789090.0\n",
      "2017-12-27  235.52  236.54  234.84  ...  219.254240  220.523980    970508.0\n",
      "2017-12-28  236.94  237.08  235.28  ...  219.665038  220.075837   1189738.0\n",
      "\n",
      "[5 rows x 12 columns]\n"
     ]
    }
   ],
   "source": [
    "get_quandl_data(stock_list)"
   ]
  },
  {
   "cell_type": "markdown",
   "metadata": {
    "colab_type": "text",
    "id": "FqsKpbMqDX5N"
   },
   "source": [
    "# **Tushare**"
   ]
  },
  {
   "cell_type": "code",
   "execution_count": 219,
   "metadata": {
    "colab": {
     "base_uri": "https://localhost:8080/",
     "height": 34
    },
    "colab_type": "code",
    "id": "Tm1M1LjaE2fJ",
    "outputId": "11d75951-a0d3-4a95-df7d-dcc24f3b7ad9"
   },
   "outputs": [
    {
     "data": {
      "text/plain": [
       "'1.2.59'"
      ]
     },
     "execution_count": 219,
     "metadata": {
      "tags": []
     },
     "output_type": "execute_result"
    }
   ],
   "source": [
    "import tushare as ts\n",
    "ts.__version__"
   ]
  },
  {
   "cell_type": "code",
   "execution_count": 0,
   "metadata": {
    "colab": {},
    "colab_type": "code",
    "id": "i_GXfvc5CH8n"
   },
   "outputs": [],
   "source": [
    "ts.set_token('6e9278f06e1cfc3c2383e7646a5c374f1ca5718a9d3ededfd49a6d06')"
   ]
  },
  {
   "cell_type": "code",
   "execution_count": 0,
   "metadata": {
    "colab": {},
    "colab_type": "code",
    "id": "KWEgexsuFFxq"
   },
   "outputs": [],
   "source": [
    "pro = ts.pro_api()"
   ]
  },
  {
   "cell_type": "code",
   "execution_count": 0,
   "metadata": {
    "colab": {},
    "colab_type": "code",
    "id": "o4q-BDioFulv"
   },
   "outputs": [],
   "source": [
    "def get_tushare_stock(code_list):\n",
    "  for (code,name) in code_list:\n",
    "    df = pro.daily(ts_code=code)\n",
    "    print('\\n---------',name,' historical data------------- \\n')\n",
    "    print(df.head())\n",
    "    time.sleep(1)\n",
    "\n",
    "def get_tushare_future(code_list):\n",
    "  for code in code_list:\n",
    "    df = pro.fut_daily(ts_code= code )\n",
    "    print('\\n---------',code,' historical data------------- \\n')\n",
    "    print(df.head())\n",
    "    time.sleep(1)\n"
   ]
  },
  {
   "cell_type": "markdown",
   "metadata": {
    "colab_type": "text",
    "id": "RxRt0p-1VoGG"
   },
   "source": [
    "## 5 Futures' Historical Data"
   ]
  },
  {
   "cell_type": "code",
   "execution_count": 0,
   "metadata": {
    "colab": {},
    "colab_type": "code",
    "id": "Y_7EuBXpVnjI"
   },
   "outputs": [],
   "source": [
    "future_list = ['CU2006.SHF','CU2007.SHF','CU2008.SHF','CU2009.SHF','CU2010.SHF']"
   ]
  },
  {
   "cell_type": "code",
   "execution_count": 224,
   "metadata": {
    "colab": {
     "base_uri": "https://localhost:8080/",
     "height": 952
    },
    "colab_type": "code",
    "id": "sqGn73Mudwjw",
    "outputId": "c7c7bbcd-304d-4215-9b7b-707fc2aea6ef"
   },
   "outputs": [
    {
     "name": "stdout",
     "output_type": "stream",
     "text": [
      "\n",
      "--------- CU2006.SHF  historical data------------- \n",
      "\n",
      "      ts_code trade_date  pre_close  ...       amount        oi  oi_chg\n",
      "0  CU2006.SHF   20200518    43130.0  ...  1456643.885  106766.0 -4401.0\n",
      "1  CU2006.SHF   20200515    42910.0  ...  1620959.440  111167.0 -1658.0\n",
      "2  CU2006.SHF   20200514    43060.0  ...  1308019.540  112825.0 -2358.0\n",
      "3  CU2006.SHF   20200513    43040.0  ...  1676264.860  115183.0    -8.0\n",
      "4  CU2006.SHF   20200512    43500.0  ...  1735694.955  115191.0 -1258.0\n",
      "\n",
      "[5 rows x 15 columns]\n",
      "\n",
      "--------- CU2007.SHF  historical data------------- \n",
      "\n",
      "      ts_code trade_date  pre_close  ...       amount        oi  oi_chg\n",
      "0  CU2007.SHF   20200518    42940.0  ...  1707748.115  102419.0  2013.0\n",
      "1  CU2007.SHF   20200515    42730.0  ...  1829547.765  100406.0 -1067.0\n",
      "2  CU2007.SHF   20200514    42860.0  ...  1183222.010  101473.0  -734.0\n",
      "3  CU2007.SHF   20200513    42850.0  ...  1621689.240  102207.0  2278.0\n",
      "4  CU2007.SHF   20200512    43350.0  ...  1677770.750   99929.0  7790.0\n",
      "\n",
      "[5 rows x 15 columns]\n",
      "\n",
      "--------- CU2008.SHF  historical data------------- \n",
      "\n",
      "      ts_code trade_date  pre_close  ...      amount       oi  oi_chg\n",
      "0  CU2008.SHF   20200518    42910.0  ...  544269.055  54198.0  2252.0\n",
      "1  CU2008.SHF   20200515    42670.0  ...  637801.025  51946.0  -588.0\n",
      "2  CU2008.SHF   20200514    42810.0  ...  342455.195  52534.0  1390.0\n",
      "3  CU2008.SHF   20200513    42820.0  ...  486080.090  51144.0  2538.0\n",
      "4  CU2008.SHF   20200512    43280.0  ...  433024.715  48606.0  2150.0\n",
      "\n",
      "[5 rows x 15 columns]\n",
      "\n",
      "--------- CU2009.SHF  historical data------------- \n",
      "\n",
      "      ts_code trade_date  pre_close  ...      amount       oi  oi_chg\n",
      "0  CU2009.SHF   20200518    42920.0  ...  258997.225  37937.0  1646.0\n",
      "1  CU2009.SHF   20200515    42660.0  ...  265638.310  36291.0  1247.0\n",
      "2  CU2009.SHF   20200514    42810.0  ...  193396.005  35044.0  1179.0\n",
      "3  CU2009.SHF   20200513    42800.0  ...  245084.425  33865.0  1543.0\n",
      "4  CU2009.SHF   20200512    43280.0  ...  187282.935  32322.0   925.0\n",
      "\n",
      "[5 rows x 15 columns]\n",
      "\n",
      "--------- CU2010.SHF  historical data------------- \n",
      "\n",
      "      ts_code trade_date  pre_close  ...      amount       oi  oi_chg\n",
      "0  CU2010.SHF   20200518    42920.0  ...   50743.185  19012.0   211.0\n",
      "1  CU2010.SHF   20200515    42660.0  ...  107872.555  18801.0  -124.0\n",
      "2  CU2010.SHF   20200514    42780.0  ...   56693.695  18925.0   142.0\n",
      "3  CU2010.SHF   20200513    42810.0  ...   51257.440  18783.0   359.0\n",
      "4  CU2010.SHF   20200512    43300.0  ...   50805.340  18424.0   510.0\n",
      "\n",
      "[5 rows x 15 columns]\n"
     ]
    }
   ],
   "source": [
    "get_tushare_future(future_list)"
   ]
  },
  {
   "cell_type": "markdown",
   "metadata": {
    "colab_type": "text",
    "id": "8OtdaVypVRGA"
   },
   "source": [
    "## 5 Stocks' Historical Data\n",
    "\n"
   ]
  },
  {
   "cell_type": "code",
   "execution_count": 0,
   "metadata": {
    "colab": {},
    "colab_type": "code",
    "id": "2fYmc2wYIZT6"
   },
   "outputs": [],
   "source": [
    "tushare_list = [(\"600519.SH\",\"贵州茅台\"),(\"600276.SH\",\"恒瑞药业\"),(\"600547.SH\",\"山东黄金\"),(\"603501.SH\",\"韦尔股份\"),(\"603986.SH\",\"兆易创新\")]"
   ]
  },
  {
   "cell_type": "code",
   "execution_count": 226,
   "metadata": {
    "colab": {
     "base_uri": "https://localhost:8080/",
     "height": 952
    },
    "colab_type": "code",
    "id": "NCATMi6wIfxg",
    "outputId": "cbaa7219-bdc2-48b5-cab0-60a9c3c07a3b"
   },
   "outputs": [
    {
     "name": "stdout",
     "output_type": "stream",
     "text": [
      "\n",
      "--------- 贵州茅台  historical data------------- \n",
      "\n",
      "     ts_code trade_date    open  ...  pct_chg       vol       amount\n",
      "0  600519.SH   20200518  1306.0  ...   2.5293  34362.11  4587989.708\n",
      "1  600519.SH   20200515  1329.0  ...  -1.0244  26398.08  3469736.812\n",
      "2  600519.SH   20200514  1330.0  ...  -0.7006  18574.92  2467976.357\n",
      "3  600519.SH   20200513  1333.0  ...   0.2213  22014.31  2931464.950\n",
      "4  600519.SH   20200512  1318.0  ...   0.7551  19721.81  2621824.685\n",
      "\n",
      "[5 rows x 11 columns]\n",
      "\n",
      "--------- 恒瑞药业  historical data------------- \n",
      "\n",
      "     ts_code trade_date   open   high  ...  change  pct_chg        vol       amount\n",
      "0  600276.SH   20200518  94.95  98.20  ...    2.37   2.4992  301163.21  2909787.600\n",
      "1  600276.SH   20200515  97.80  98.15  ...   -2.37  -2.4383  253660.60  2426297.766\n",
      "2  600276.SH   20200514  95.46  98.00  ...    1.50   1.5674  222616.79  2155706.452\n",
      "3  600276.SH   20200513  95.44  97.00  ...    0.26   0.2724  224920.09  2144887.797\n",
      "4  600276.SH   20200512  93.68  95.53  ...    1.76   1.8787  182856.28  1732154.239\n",
      "\n",
      "[5 rows x 11 columns]\n",
      "\n",
      "--------- 山东黄金  historical data------------- \n",
      "\n",
      "     ts_code trade_date   open   high  ...  change  pct_chg        vol       amount\n",
      "0  600547.SH   20200518  37.88  40.35  ...    2.99   8.1008  858377.76  3362637.346\n",
      "1  600547.SH   20200515  36.40  37.15  ...    0.89   2.4708  521440.22  1919658.071\n",
      "2  600547.SH   20200514  35.88  36.06  ...    0.33   0.9246  255855.72   917625.019\n",
      "3  600547.SH   20200513  35.75  35.96  ...   -0.02  -0.0560  156588.75   558770.234\n",
      "4  600547.SH   20200512  35.63  35.86  ...   -0.20  -0.5569  225162.64   800408.318\n",
      "\n",
      "[5 rows x 11 columns]\n",
      "\n",
      "--------- 韦尔股份  historical data------------- \n",
      "\n",
      "     ts_code trade_date    open  ...  pct_chg        vol       amount\n",
      "0  603501.SH   20200518  214.88  ...  -9.6789  127295.68  2555924.660\n",
      "1  603501.SH   20200515  209.00  ...   3.8064   67182.68  1437517.016\n",
      "2  603501.SH   20200514  209.00  ...  -0.6955   49989.74  1049555.186\n",
      "3  603501.SH   20200513  204.45  ...   0.6858   45614.85   945742.978\n",
      "4  603501.SH   20200512  208.00  ...   0.1742   42847.83   879893.128\n",
      "\n",
      "[5 rows x 11 columns]\n",
      "\n",
      "--------- 兆易创新  historical data------------- \n",
      "\n",
      "     ts_code trade_date    open  ...  pct_chg        vol       amount\n",
      "0  603986.SH   20200518  231.93  ...  -6.0870  265333.68  5984449.922\n",
      "1  603986.SH   20200515  216.20  ...   7.1113  245053.76  5596530.516\n",
      "2  603986.SH   20200514  217.50  ...  -1.9498  109815.36  2378616.816\n",
      "3  603986.SH   20200513  214.21  ...   0.5094  109535.82  2376469.639\n",
      "4  603986.SH   20200512  221.00  ...  -1.1299  154692.17  3327076.011\n",
      "\n",
      "[5 rows x 11 columns]\n"
     ]
    }
   ],
   "source": [
    "get_tushare_data(tushare_list)"
   ]
  },
  {
   "cell_type": "markdown",
   "metadata": {
    "colab_type": "text",
    "id": "MM-vqTz8cXZO"
   },
   "source": [
    "## 5 Macroeconomic Indicator(offline)"
   ]
  },
  {
   "cell_type": "code",
   "execution_count": 0,
   "metadata": {
    "colab": {},
    "colab_type": "code",
    "id": "-bCV8drDhaIZ"
   },
   "outputs": [],
   "source": [
    "ts.get_cpi()"
   ]
  },
  {
   "cell_type": "markdown",
   "metadata": {
    "colab_type": "text",
    "id": "i0ktKrBCljtk"
   },
   "source": [
    "# **FRED**"
   ]
  },
  {
   "cell_type": "code",
   "execution_count": 0,
   "metadata": {
    "colab": {},
    "colab_type": "code",
    "id": "10iQgUStvJ-l"
   },
   "outputs": [],
   "source": [
    "fr = Fred(api_key='fc5cd632b5e73e63216eb092b1d4f445')"
   ]
  },
  {
   "cell_type": "code",
   "execution_count": 0,
   "metadata": {
    "colab": {},
    "colab_type": "code",
    "id": "sx5yuOVVyrm0"
   },
   "outputs": [],
   "source": [
    "import datapungi_fed as dpf\n",
    "data = dpf.data('fc5cd632b5e73e63216eb092b1d4f445')"
   ]
  },
  {
   "cell_type": "markdown",
   "metadata": {
    "colab_type": "text",
    "id": "sh5UoRTQDJhU"
   },
   "source": [
    "1. GDP"
   ]
  },
  {
   "cell_type": "code",
   "execution_count": 230,
   "metadata": {
    "colab": {
     "base_uri": "https://localhost:8080/",
     "height": 235
    },
    "colab_type": "code",
    "id": "OIwMj93J_GaD",
    "outputId": "58067997-f3c9-48a2-8e7a-6b7e1e9ccc32"
   },
   "outputs": [
    {
     "data": {
      "text/html": [
       "<div>\n",
       "<style scoped>\n",
       "    .dataframe tbody tr th:only-of-type {\n",
       "        vertical-align: middle;\n",
       "    }\n",
       "\n",
       "    .dataframe tbody tr th {\n",
       "        vertical-align: top;\n",
       "    }\n",
       "\n",
       "    .dataframe thead th {\n",
       "        text-align: right;\n",
       "    }\n",
       "</style>\n",
       "<table border=\"1\" class=\"dataframe\">\n",
       "  <thead>\n",
       "    <tr style=\"text-align: right;\">\n",
       "      <th></th>\n",
       "      <th>gdp</th>\n",
       "    </tr>\n",
       "    <tr>\n",
       "      <th>date</th>\n",
       "      <th></th>\n",
       "    </tr>\n",
       "  </thead>\n",
       "  <tbody>\n",
       "    <tr>\n",
       "      <th>2019-01-01</th>\n",
       "      <td>21098.827</td>\n",
       "    </tr>\n",
       "    <tr>\n",
       "      <th>2019-04-01</th>\n",
       "      <td>21340.267</td>\n",
       "    </tr>\n",
       "    <tr>\n",
       "      <th>2019-07-01</th>\n",
       "      <td>21542.540</td>\n",
       "    </tr>\n",
       "    <tr>\n",
       "      <th>2019-10-01</th>\n",
       "      <td>21729.124</td>\n",
       "    </tr>\n",
       "    <tr>\n",
       "      <th>2020-01-01</th>\n",
       "      <td>21537.940</td>\n",
       "    </tr>\n",
       "  </tbody>\n",
       "</table>\n",
       "</div>"
      ],
      "text/plain": [
       "                  gdp\n",
       "date                 \n",
       "2019-01-01  21098.827\n",
       "2019-04-01  21340.267\n",
       "2019-07-01  21542.540\n",
       "2019-10-01  21729.124\n",
       "2020-01-01  21537.940"
      ]
     },
     "execution_count": 230,
     "metadata": {
      "tags": []
     },
     "output_type": "execute_result"
    }
   ],
   "source": [
    "data.series('gdp').tail()"
   ]
  },
  {
   "cell_type": "markdown",
   "metadata": {
    "colab_type": "text",
    "id": "L1PONLyxDLyO"
   },
   "source": [
    "2. Real GDP"
   ]
  },
  {
   "cell_type": "code",
   "execution_count": 231,
   "metadata": {
    "colab": {
     "base_uri": "https://localhost:8080/",
     "height": 235
    },
    "colab_type": "code",
    "id": "_cKEyjDoBZ7-",
    "outputId": "e4d92aa6-9179-4a62-e312-113221ef5492"
   },
   "outputs": [
    {
     "data": {
      "text/html": [
       "<div>\n",
       "<style scoped>\n",
       "    .dataframe tbody tr th:only-of-type {\n",
       "        vertical-align: middle;\n",
       "    }\n",
       "\n",
       "    .dataframe tbody tr th {\n",
       "        vertical-align: top;\n",
       "    }\n",
       "\n",
       "    .dataframe thead th {\n",
       "        text-align: right;\n",
       "    }\n",
       "</style>\n",
       "<table border=\"1\" class=\"dataframe\">\n",
       "  <thead>\n",
       "    <tr style=\"text-align: right;\">\n",
       "      <th></th>\n",
       "      <th>GDPC1</th>\n",
       "    </tr>\n",
       "    <tr>\n",
       "      <th>date</th>\n",
       "      <th></th>\n",
       "    </tr>\n",
       "  </thead>\n",
       "  <tbody>\n",
       "    <tr>\n",
       "      <th>2019-01-01</th>\n",
       "      <td>18927.281</td>\n",
       "    </tr>\n",
       "    <tr>\n",
       "      <th>2019-04-01</th>\n",
       "      <td>19021.860</td>\n",
       "    </tr>\n",
       "    <tr>\n",
       "      <th>2019-07-01</th>\n",
       "      <td>19121.112</td>\n",
       "    </tr>\n",
       "    <tr>\n",
       "      <th>2019-10-01</th>\n",
       "      <td>19221.970</td>\n",
       "    </tr>\n",
       "    <tr>\n",
       "      <th>2020-01-01</th>\n",
       "      <td>18987.877</td>\n",
       "    </tr>\n",
       "  </tbody>\n",
       "</table>\n",
       "</div>"
      ],
      "text/plain": [
       "                GDPC1\n",
       "date                 \n",
       "2019-01-01  18927.281\n",
       "2019-04-01  19021.860\n",
       "2019-07-01  19121.112\n",
       "2019-10-01  19221.970\n",
       "2020-01-01  18987.877"
      ]
     },
     "execution_count": 231,
     "metadata": {
      "tags": []
     },
     "output_type": "execute_result"
    }
   ],
   "source": [
    "data.series('GDPC1').tail()"
   ]
  },
  {
   "cell_type": "markdown",
   "metadata": {
    "colab_type": "text",
    "id": "Oqs2x88FDPBW"
   },
   "source": [
    "3. Unemployment Rate"
   ]
  },
  {
   "cell_type": "code",
   "execution_count": 232,
   "metadata": {
    "colab": {
     "base_uri": "https://localhost:8080/",
     "height": 235
    },
    "colab_type": "code",
    "id": "B0l9r92ZBbRO",
    "outputId": "41b0eb74-2f14-413e-9df4-2a99b2b68245"
   },
   "outputs": [
    {
     "data": {
      "text/html": [
       "<div>\n",
       "<style scoped>\n",
       "    .dataframe tbody tr th:only-of-type {\n",
       "        vertical-align: middle;\n",
       "    }\n",
       "\n",
       "    .dataframe tbody tr th {\n",
       "        vertical-align: top;\n",
       "    }\n",
       "\n",
       "    .dataframe thead th {\n",
       "        text-align: right;\n",
       "    }\n",
       "</style>\n",
       "<table border=\"1\" class=\"dataframe\">\n",
       "  <thead>\n",
       "    <tr style=\"text-align: right;\">\n",
       "      <th></th>\n",
       "      <th>UNRATE</th>\n",
       "    </tr>\n",
       "    <tr>\n",
       "      <th>date</th>\n",
       "      <th></th>\n",
       "    </tr>\n",
       "  </thead>\n",
       "  <tbody>\n",
       "    <tr>\n",
       "      <th>2019-12-01</th>\n",
       "      <td>3.5</td>\n",
       "    </tr>\n",
       "    <tr>\n",
       "      <th>2020-01-01</th>\n",
       "      <td>3.6</td>\n",
       "    </tr>\n",
       "    <tr>\n",
       "      <th>2020-02-01</th>\n",
       "      <td>3.5</td>\n",
       "    </tr>\n",
       "    <tr>\n",
       "      <th>2020-03-01</th>\n",
       "      <td>4.4</td>\n",
       "    </tr>\n",
       "    <tr>\n",
       "      <th>2020-04-01</th>\n",
       "      <td>14.7</td>\n",
       "    </tr>\n",
       "  </tbody>\n",
       "</table>\n",
       "</div>"
      ],
      "text/plain": [
       "            UNRATE\n",
       "date              \n",
       "2019-12-01     3.5\n",
       "2020-01-01     3.6\n",
       "2020-02-01     3.5\n",
       "2020-03-01     4.4\n",
       "2020-04-01    14.7"
      ]
     },
     "execution_count": 232,
     "metadata": {
      "tags": []
     },
     "output_type": "execute_result"
    }
   ],
   "source": [
    "data.series('UNRATE').tail()"
   ]
  },
  {
   "cell_type": "markdown",
   "metadata": {
    "colab_type": "text",
    "id": "kFaeX0LpDtdK"
   },
   "source": [
    "4. Natural Rate of Unemployment (Long-Term)"
   ]
  },
  {
   "cell_type": "code",
   "execution_count": 233,
   "metadata": {
    "colab": {
     "base_uri": "https://localhost:8080/",
     "height": 235
    },
    "colab_type": "code",
    "id": "vi_Qul3WDU4U",
    "outputId": "e69a88e8-33a3-4e60-8c58-3f12d45a7197"
   },
   "outputs": [
    {
     "data": {
      "text/html": [
       "<div>\n",
       "<style scoped>\n",
       "    .dataframe tbody tr th:only-of-type {\n",
       "        vertical-align: middle;\n",
       "    }\n",
       "\n",
       "    .dataframe tbody tr th {\n",
       "        vertical-align: top;\n",
       "    }\n",
       "\n",
       "    .dataframe thead th {\n",
       "        text-align: right;\n",
       "    }\n",
       "</style>\n",
       "<table border=\"1\" class=\"dataframe\">\n",
       "  <thead>\n",
       "    <tr style=\"text-align: right;\">\n",
       "      <th></th>\n",
       "      <th>NROU</th>\n",
       "    </tr>\n",
       "    <tr>\n",
       "      <th>date</th>\n",
       "      <th></th>\n",
       "    </tr>\n",
       "  </thead>\n",
       "  <tbody>\n",
       "    <tr>\n",
       "      <th>2029-10-01</th>\n",
       "      <td>4.210983</td>\n",
       "    </tr>\n",
       "    <tr>\n",
       "      <th>2030-01-01</th>\n",
       "      <td>4.203966</td>\n",
       "    </tr>\n",
       "    <tr>\n",
       "      <th>2030-04-01</th>\n",
       "      <td>4.196964</td>\n",
       "    </tr>\n",
       "    <tr>\n",
       "      <th>2030-07-01</th>\n",
       "      <td>4.189984</td>\n",
       "    </tr>\n",
       "    <tr>\n",
       "      <th>2030-10-01</th>\n",
       "      <td>4.183028</td>\n",
       "    </tr>\n",
       "  </tbody>\n",
       "</table>\n",
       "</div>"
      ],
      "text/plain": [
       "                NROU\n",
       "date                \n",
       "2029-10-01  4.210983\n",
       "2030-01-01  4.203966\n",
       "2030-04-01  4.196964\n",
       "2030-07-01  4.189984\n",
       "2030-10-01  4.183028"
      ]
     },
     "execution_count": 233,
     "metadata": {
      "tags": []
     },
     "output_type": "execute_result"
    }
   ],
   "source": [
    "data.series('NROU').tail()"
   ]
  },
  {
   "cell_type": "markdown",
   "metadata": {
    "colab_type": "text",
    "id": "CHhOu9htFJqc"
   },
   "source": [
    "5. Unemployment Level "
   ]
  },
  {
   "cell_type": "code",
   "execution_count": 234,
   "metadata": {
    "colab": {
     "base_uri": "https://localhost:8080/",
     "height": 235
    },
    "colab_type": "code",
    "id": "X-iGdGwqFNC8",
    "outputId": "0942133a-2eb1-424f-f58a-4a5cfec08808"
   },
   "outputs": [
    {
     "data": {
      "text/html": [
       "<div>\n",
       "<style scoped>\n",
       "    .dataframe tbody tr th:only-of-type {\n",
       "        vertical-align: middle;\n",
       "    }\n",
       "\n",
       "    .dataframe tbody tr th {\n",
       "        vertical-align: top;\n",
       "    }\n",
       "\n",
       "    .dataframe thead th {\n",
       "        text-align: right;\n",
       "    }\n",
       "</style>\n",
       "<table border=\"1\" class=\"dataframe\">\n",
       "  <thead>\n",
       "    <tr style=\"text-align: right;\">\n",
       "      <th></th>\n",
       "      <th>UNEMPLOY</th>\n",
       "    </tr>\n",
       "    <tr>\n",
       "      <th>date</th>\n",
       "      <th></th>\n",
       "    </tr>\n",
       "  </thead>\n",
       "  <tbody>\n",
       "    <tr>\n",
       "      <th>2019-12-01</th>\n",
       "      <td>5753.0</td>\n",
       "    </tr>\n",
       "    <tr>\n",
       "      <th>2020-01-01</th>\n",
       "      <td>5892.0</td>\n",
       "    </tr>\n",
       "    <tr>\n",
       "      <th>2020-02-01</th>\n",
       "      <td>5787.0</td>\n",
       "    </tr>\n",
       "    <tr>\n",
       "      <th>2020-03-01</th>\n",
       "      <td>7140.0</td>\n",
       "    </tr>\n",
       "    <tr>\n",
       "      <th>2020-04-01</th>\n",
       "      <td>23078.0</td>\n",
       "    </tr>\n",
       "  </tbody>\n",
       "</table>\n",
       "</div>"
      ],
      "text/plain": [
       "            UNEMPLOY\n",
       "date                \n",
       "2019-12-01    5753.0\n",
       "2020-01-01    5892.0\n",
       "2020-02-01    5787.0\n",
       "2020-03-01    7140.0\n",
       "2020-04-01   23078.0"
      ]
     },
     "execution_count": 234,
     "metadata": {
      "tags": []
     },
     "output_type": "execute_result"
    }
   ],
   "source": [
    "data.series('UNEMPLOY').tail()"
   ]
  },
  {
   "cell_type": "markdown",
   "metadata": {
    "colab_type": "text",
    "id": "T04CBqivEdAZ"
   },
   "source": [
    "6. Crude Oil Prices: West Texas Intermediate (WTI)"
   ]
  },
  {
   "cell_type": "code",
   "execution_count": 235,
   "metadata": {
    "colab": {
     "base_uri": "https://localhost:8080/",
     "height": 235
    },
    "colab_type": "code",
    "id": "8A2tJOgNDy72",
    "outputId": "a9ec78bd-e590-4f24-8a8d-f4090161d0e7"
   },
   "outputs": [
    {
     "data": {
      "text/html": [
       "<div>\n",
       "<style scoped>\n",
       "    .dataframe tbody tr th:only-of-type {\n",
       "        vertical-align: middle;\n",
       "    }\n",
       "\n",
       "    .dataframe tbody tr th {\n",
       "        vertical-align: top;\n",
       "    }\n",
       "\n",
       "    .dataframe thead th {\n",
       "        text-align: right;\n",
       "    }\n",
       "</style>\n",
       "<table border=\"1\" class=\"dataframe\">\n",
       "  <thead>\n",
       "    <tr style=\"text-align: right;\">\n",
       "      <th></th>\n",
       "      <th>DCOILWTICO</th>\n",
       "    </tr>\n",
       "    <tr>\n",
       "      <th>date</th>\n",
       "      <th></th>\n",
       "    </tr>\n",
       "  </thead>\n",
       "  <tbody>\n",
       "    <tr>\n",
       "      <th>2020-05-05</th>\n",
       "      <td>24.56</td>\n",
       "    </tr>\n",
       "    <tr>\n",
       "      <th>2020-05-06</th>\n",
       "      <td>23.88</td>\n",
       "    </tr>\n",
       "    <tr>\n",
       "      <th>2020-05-07</th>\n",
       "      <td>23.68</td>\n",
       "    </tr>\n",
       "    <tr>\n",
       "      <th>2020-05-08</th>\n",
       "      <td>24.73</td>\n",
       "    </tr>\n",
       "    <tr>\n",
       "      <th>2020-05-11</th>\n",
       "      <td>24.02</td>\n",
       "    </tr>\n",
       "  </tbody>\n",
       "</table>\n",
       "</div>"
      ],
      "text/plain": [
       "            DCOILWTICO\n",
       "date                  \n",
       "2020-05-05       24.56\n",
       "2020-05-06       23.88\n",
       "2020-05-07       23.68\n",
       "2020-05-08       24.73\n",
       "2020-05-11       24.02"
      ]
     },
     "execution_count": 235,
     "metadata": {
      "tags": []
     },
     "output_type": "execute_result"
    }
   ],
   "source": [
    "data.series('DCOILWTICO').tail()"
   ]
  },
  {
   "cell_type": "markdown",
   "metadata": {
    "colab_type": "text",
    "id": "XTzJ9CX3Fu5S"
   },
   "source": [
    "7. National Rate on Non-Jumbo Deposits (less than $100,000): Savings"
   ]
  },
  {
   "cell_type": "code",
   "execution_count": 236,
   "metadata": {
    "colab": {
     "base_uri": "https://localhost:8080/",
     "height": 235
    },
    "colab_type": "code",
    "id": "ppBpd6v3EmTA",
    "outputId": "fee33817-0cee-4a90-cc6f-96746432afce"
   },
   "outputs": [
    {
     "data": {
      "text/html": [
       "<div>\n",
       "<style scoped>\n",
       "    .dataframe tbody tr th:only-of-type {\n",
       "        vertical-align: middle;\n",
       "    }\n",
       "\n",
       "    .dataframe tbody tr th {\n",
       "        vertical-align: top;\n",
       "    }\n",
       "\n",
       "    .dataframe thead th {\n",
       "        text-align: right;\n",
       "    }\n",
       "</style>\n",
       "<table border=\"1\" class=\"dataframe\">\n",
       "  <thead>\n",
       "    <tr style=\"text-align: right;\">\n",
       "      <th></th>\n",
       "      <th>SAVNRNJ</th>\n",
       "    </tr>\n",
       "    <tr>\n",
       "      <th>date</th>\n",
       "      <th></th>\n",
       "    </tr>\n",
       "  </thead>\n",
       "  <tbody>\n",
       "    <tr>\n",
       "      <th>2020-04-20</th>\n",
       "      <td>0.07</td>\n",
       "    </tr>\n",
       "    <tr>\n",
       "      <th>2020-04-27</th>\n",
       "      <td>0.07</td>\n",
       "    </tr>\n",
       "    <tr>\n",
       "      <th>2020-05-04</th>\n",
       "      <td>0.07</td>\n",
       "    </tr>\n",
       "    <tr>\n",
       "      <th>2020-05-11</th>\n",
       "      <td>0.06</td>\n",
       "    </tr>\n",
       "    <tr>\n",
       "      <th>2020-05-18</th>\n",
       "      <td>0.06</td>\n",
       "    </tr>\n",
       "  </tbody>\n",
       "</table>\n",
       "</div>"
      ],
      "text/plain": [
       "            SAVNRNJ\n",
       "date               \n",
       "2020-04-20     0.07\n",
       "2020-04-27     0.07\n",
       "2020-05-04     0.07\n",
       "2020-05-11     0.06\n",
       "2020-05-18     0.06"
      ]
     },
     "execution_count": 236,
     "metadata": {
      "tags": []
     },
     "output_type": "execute_result"
    }
   ],
   "source": [
    "data.series('SAVNRNJ').tail()"
   ]
  },
  {
   "cell_type": "markdown",
   "metadata": {
    "colab_type": "text",
    "id": "fEnGF3kTF8fy"
   },
   "source": [
    "8. National Rate on Non-Jumbo Deposits (less than $100,000): 12 Month CD "
   ]
  },
  {
   "cell_type": "code",
   "execution_count": 237,
   "metadata": {
    "colab": {
     "base_uri": "https://localhost:8080/",
     "height": 235
    },
    "colab_type": "code",
    "id": "YNmHDWX5F7L5",
    "outputId": "c708bfaf-6831-4307-ddab-8538aa53ea04"
   },
   "outputs": [
    {
     "data": {
      "text/html": [
       "<div>\n",
       "<style scoped>\n",
       "    .dataframe tbody tr th:only-of-type {\n",
       "        vertical-align: middle;\n",
       "    }\n",
       "\n",
       "    .dataframe tbody tr th {\n",
       "        vertical-align: top;\n",
       "    }\n",
       "\n",
       "    .dataframe thead th {\n",
       "        text-align: right;\n",
       "    }\n",
       "</style>\n",
       "<table border=\"1\" class=\"dataframe\">\n",
       "  <thead>\n",
       "    <tr style=\"text-align: right;\">\n",
       "      <th></th>\n",
       "      <th>CD12NRNJ</th>\n",
       "    </tr>\n",
       "    <tr>\n",
       "      <th>date</th>\n",
       "      <th></th>\n",
       "    </tr>\n",
       "  </thead>\n",
       "  <tbody>\n",
       "    <tr>\n",
       "      <th>2020-04-20</th>\n",
       "      <td>0.29</td>\n",
       "    </tr>\n",
       "    <tr>\n",
       "      <th>2020-04-27</th>\n",
       "      <td>0.29</td>\n",
       "    </tr>\n",
       "    <tr>\n",
       "      <th>2020-05-04</th>\n",
       "      <td>0.28</td>\n",
       "    </tr>\n",
       "    <tr>\n",
       "      <th>2020-05-11</th>\n",
       "      <td>0.28</td>\n",
       "    </tr>\n",
       "    <tr>\n",
       "      <th>2020-05-18</th>\n",
       "      <td>0.27</td>\n",
       "    </tr>\n",
       "  </tbody>\n",
       "</table>\n",
       "</div>"
      ],
      "text/plain": [
       "            CD12NRNJ\n",
       "date                \n",
       "2020-04-20      0.29\n",
       "2020-04-27      0.29\n",
       "2020-05-04      0.28\n",
       "2020-05-11      0.28\n",
       "2020-05-18      0.27"
      ]
     },
     "execution_count": 237,
     "metadata": {
      "tags": []
     },
     "output_type": "execute_result"
    }
   ],
   "source": [
    "data.series('CD12NRNJ').tail()"
   ]
  },
  {
   "cell_type": "markdown",
   "metadata": {
    "colab_type": "text",
    "id": "rNTWlxOvGSUg"
   },
   "source": [
    "9.Bank Prime Loan Rate"
   ]
  },
  {
   "cell_type": "code",
   "execution_count": 238,
   "metadata": {
    "colab": {
     "base_uri": "https://localhost:8080/",
     "height": 235
    },
    "colab_type": "code",
    "id": "7pjA8jwoGRGh",
    "outputId": "431410f4-dcd7-4a2c-ca67-d176a5045ebc"
   },
   "outputs": [
    {
     "data": {
      "text/html": [
       "<div>\n",
       "<style scoped>\n",
       "    .dataframe tbody tr th:only-of-type {\n",
       "        vertical-align: middle;\n",
       "    }\n",
       "\n",
       "    .dataframe tbody tr th {\n",
       "        vertical-align: top;\n",
       "    }\n",
       "\n",
       "    .dataframe thead th {\n",
       "        text-align: right;\n",
       "    }\n",
       "</style>\n",
       "<table border=\"1\" class=\"dataframe\">\n",
       "  <thead>\n",
       "    <tr style=\"text-align: right;\">\n",
       "      <th></th>\n",
       "      <th>DPRIME</th>\n",
       "    </tr>\n",
       "    <tr>\n",
       "      <th>date</th>\n",
       "      <th></th>\n",
       "    </tr>\n",
       "  </thead>\n",
       "  <tbody>\n",
       "    <tr>\n",
       "      <th>2020-05-11</th>\n",
       "      <td>3.25</td>\n",
       "    </tr>\n",
       "    <tr>\n",
       "      <th>2020-05-12</th>\n",
       "      <td>3.25</td>\n",
       "    </tr>\n",
       "    <tr>\n",
       "      <th>2020-05-13</th>\n",
       "      <td>3.25</td>\n",
       "    </tr>\n",
       "    <tr>\n",
       "      <th>2020-05-14</th>\n",
       "      <td>3.25</td>\n",
       "    </tr>\n",
       "    <tr>\n",
       "      <th>2020-05-15</th>\n",
       "      <td>3.25</td>\n",
       "    </tr>\n",
       "  </tbody>\n",
       "</table>\n",
       "</div>"
      ],
      "text/plain": [
       "            DPRIME\n",
       "date              \n",
       "2020-05-11    3.25\n",
       "2020-05-12    3.25\n",
       "2020-05-13    3.25\n",
       "2020-05-14    3.25\n",
       "2020-05-15    3.25"
      ]
     },
     "execution_count": 238,
     "metadata": {
      "tags": []
     },
     "output_type": "execute_result"
    }
   ],
   "source": [
    "data.series('DPRIME').tail()"
   ]
  },
  {
   "cell_type": "markdown",
   "metadata": {
    "colab_type": "text",
    "id": "gcehGkryGhfO"
   },
   "source": [
    "10. Producer Price Index for All Commodities "
   ]
  },
  {
   "cell_type": "code",
   "execution_count": 239,
   "metadata": {
    "colab": {
     "base_uri": "https://localhost:8080/",
     "height": 235
    },
    "colab_type": "code",
    "id": "22GsNIXvGOc1",
    "outputId": "f252922f-be6b-4266-eb43-8543d8118e9a"
   },
   "outputs": [
    {
     "data": {
      "text/html": [
       "<div>\n",
       "<style scoped>\n",
       "    .dataframe tbody tr th:only-of-type {\n",
       "        vertical-align: middle;\n",
       "    }\n",
       "\n",
       "    .dataframe tbody tr th {\n",
       "        vertical-align: top;\n",
       "    }\n",
       "\n",
       "    .dataframe thead th {\n",
       "        text-align: right;\n",
       "    }\n",
       "</style>\n",
       "<table border=\"1\" class=\"dataframe\">\n",
       "  <thead>\n",
       "    <tr style=\"text-align: right;\">\n",
       "      <th></th>\n",
       "      <th>PPIACO</th>\n",
       "    </tr>\n",
       "    <tr>\n",
       "      <th>date</th>\n",
       "      <th></th>\n",
       "    </tr>\n",
       "  </thead>\n",
       "  <tbody>\n",
       "    <tr>\n",
       "      <th>2019-12-01</th>\n",
       "      <td>199.0</td>\n",
       "    </tr>\n",
       "    <tr>\n",
       "      <th>2020-01-01</th>\n",
       "      <td>199.4</td>\n",
       "    </tr>\n",
       "    <tr>\n",
       "      <th>2020-02-01</th>\n",
       "      <td>196.5</td>\n",
       "    </tr>\n",
       "    <tr>\n",
       "      <th>2020-03-01</th>\n",
       "      <td>193.8</td>\n",
       "    </tr>\n",
       "    <tr>\n",
       "      <th>2020-04-01</th>\n",
       "      <td>186.0</td>\n",
       "    </tr>\n",
       "  </tbody>\n",
       "</table>\n",
       "</div>"
      ],
      "text/plain": [
       "            PPIACO\n",
       "date              \n",
       "2019-12-01   199.0\n",
       "2020-01-01   199.4\n",
       "2020-02-01   196.5\n",
       "2020-03-01   193.8\n",
       "2020-04-01   186.0"
      ]
     },
     "execution_count": 239,
     "metadata": {
      "tags": []
     },
     "output_type": "execute_result"
    }
   ],
   "source": [
    "data.series('PPIACO').tail()"
   ]
  },
  {
   "cell_type": "code",
   "execution_count": 0,
   "metadata": {
    "colab": {},
    "colab_type": "code",
    "id": "cyzuRe-SHKH7"
   },
   "outputs": [],
   "source": []
  }
 ],
 "metadata": {
  "colab": {
   "name": "Stock_data_retrive.ipynb",
   "provenance": []
  },
  "kernelspec": {
   "display_name": "Python 3",
   "language": "python",
   "name": "python3"
  },
  "language_info": {
   "codemirror_mode": {
    "name": "ipython",
    "version": 3
   },
   "file_extension": ".py",
   "mimetype": "text/x-python",
   "name": "python",
   "nbconvert_exporter": "python",
   "pygments_lexer": "ipython3",
   "version": "3.6.10"
  }
 },
 "nbformat": 4,
 "nbformat_minor": 1
}
