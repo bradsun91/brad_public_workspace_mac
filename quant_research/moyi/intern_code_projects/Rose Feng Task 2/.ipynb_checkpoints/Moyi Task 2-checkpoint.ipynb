{
 "cells": [
  {
   "cell_type": "code",
   "execution_count": null,
   "metadata": {},
   "outputs": [],
   "source": [
    "#Yahoo Finance: 10 Stock's data"
   ]
  },
  {
   "cell_type": "code",
   "execution_count": 77,
   "metadata": {
    "scrolled": true
   },
   "outputs": [
    {
     "name": "stdout",
     "output_type": "stream",
     "text": [
      "Requirement already satisfied: yfinance in /Users/rosefeng/anaconda3/lib/python3.7/site-packages (0.1.54)\n",
      "Requirement already satisfied: requests>=2.20 in /Users/rosefeng/anaconda3/lib/python3.7/site-packages (from yfinance) (2.22.0)\n",
      "Requirement already satisfied: pandas>=0.24 in /Users/rosefeng/anaconda3/lib/python3.7/site-packages (from yfinance) (0.24.2)\n",
      "Requirement already satisfied: numpy>=1.15 in /Users/rosefeng/anaconda3/lib/python3.7/site-packages (from yfinance) (1.16.4)\n",
      "Requirement already satisfied: multitasking>=0.0.7 in /Users/rosefeng/anaconda3/lib/python3.7/site-packages (from yfinance) (0.0.9)\n",
      "Requirement already satisfied: certifi>=2017.4.17 in /Users/rosefeng/anaconda3/lib/python3.7/site-packages (from requests>=2.20->yfinance) (2019.6.16)\n",
      "Requirement already satisfied: urllib3!=1.25.0,!=1.25.1,<1.26,>=1.21.1 in /Users/rosefeng/anaconda3/lib/python3.7/site-packages (from requests>=2.20->yfinance) (1.24.2)\n",
      "Requirement already satisfied: idna<2.9,>=2.5 in /Users/rosefeng/anaconda3/lib/python3.7/site-packages (from requests>=2.20->yfinance) (2.8)\n",
      "Requirement already satisfied: chardet<3.1.0,>=3.0.2 in /Users/rosefeng/anaconda3/lib/python3.7/site-packages (from requests>=2.20->yfinance) (3.0.4)\n",
      "Requirement already satisfied: python-dateutil>=2.5.0 in /Users/rosefeng/anaconda3/lib/python3.7/site-packages (from pandas>=0.24->yfinance) (2.8.0)\n",
      "Requirement already satisfied: pytz>=2011k in /Users/rosefeng/anaconda3/lib/python3.7/site-packages (from pandas>=0.24->yfinance) (2019.1)\n",
      "Requirement already satisfied: six>=1.5 in /Users/rosefeng/anaconda3/lib/python3.7/site-packages (from python-dateutil>=2.5.0->pandas>=0.24->yfinance) (1.12.0)\n",
      "Note: you may need to restart the kernel to use updated packages.\n"
     ]
    }
   ],
   "source": [
    "pip install yfinance"
   ]
  },
  {
   "cell_type": "code",
   "execution_count": 6,
   "metadata": {},
   "outputs": [],
   "source": [
    "import os\n",
    "os.getcwd()\n",
    "os.chdir(\"/Users/rosefeng/Desktop/Yahoo-Finance\")"
   ]
  },
  {
   "cell_type": "code",
   "execution_count": 6,
   "metadata": {
    "scrolled": true
   },
   "outputs": [],
   "source": [
    "import yfinance as yf"
   ]
  },
  {
   "cell_type": "code",
   "execution_count": 7,
   "metadata": {},
   "outputs": [
    {
     "name": "stdout",
     "output_type": "stream",
     "text": [
      "[*********************100%***********************]  1 of 1 completed\n"
     ]
    }
   ],
   "source": [
    "data_df = yf.download(\"AAPL\")\n",
    "data_df.to_csv ('Apple.csv')"
   ]
  },
  {
   "cell_type": "code",
   "execution_count": 8,
   "metadata": {
    "scrolled": true
   },
   "outputs": [
    {
     "name": "stdout",
     "output_type": "stream",
     "text": [
      "[*********************100%***********************]  1 of 1 completed\n"
     ]
    }
   ],
   "source": [
    "data_df = yf.download(\"MSFT\")\n",
    "data_df.to_csv ('Microsoft.csv')"
   ]
  },
  {
   "cell_type": "code",
   "execution_count": 9,
   "metadata": {
    "scrolled": true
   },
   "outputs": [
    {
     "name": "stdout",
     "output_type": "stream",
     "text": [
      "[*********************100%***********************]  1 of 1 completed\n"
     ]
    }
   ],
   "source": [
    "data_df = yf.download(\"TSLA\")\n",
    "data_df.to_csv ('Tesla.csv')"
   ]
  },
  {
   "cell_type": "code",
   "execution_count": 10,
   "metadata": {},
   "outputs": [
    {
     "name": "stdout",
     "output_type": "stream",
     "text": [
      "[*********************100%***********************]  1 of 1 completed\n"
     ]
    }
   ],
   "source": [
    "data_df = yf.download(\"BABA\")\n",
    "data_df.to_csv ('Alibaba.csv')"
   ]
  },
  {
   "cell_type": "code",
   "execution_count": 11,
   "metadata": {},
   "outputs": [
    {
     "name": "stdout",
     "output_type": "stream",
     "text": [
      "[*********************100%***********************]  1 of 1 completed\n"
     ]
    }
   ],
   "source": [
    "data_df = yf.download(\"HD\")\n",
    "data_df.to_csv ('Home-depot.csv')"
   ]
  },
  {
   "cell_type": "code",
   "execution_count": 12,
   "metadata": {},
   "outputs": [
    {
     "name": "stdout",
     "output_type": "stream",
     "text": [
      "[*********************100%***********************]  1 of 1 completed\n"
     ]
    }
   ],
   "source": [
    "data_df = yf.download(\"LK\")\n",
    "data_df.to_csv ('Luckin-coffee.csv')"
   ]
  },
  {
   "cell_type": "code",
   "execution_count": 13,
   "metadata": {},
   "outputs": [
    {
     "name": "stdout",
     "output_type": "stream",
     "text": [
      "[*********************100%***********************]  1 of 1 completed\n"
     ]
    }
   ],
   "source": [
    "data_df = yf.download(\"PHUN\")\n",
    "data_df.to_csv ('Phunware.csv')"
   ]
  },
  {
   "cell_type": "code",
   "execution_count": 14,
   "metadata": {},
   "outputs": [
    {
     "name": "stdout",
     "output_type": "stream",
     "text": [
      "[*********************100%***********************]  1 of 1 completed\n"
     ]
    }
   ],
   "source": [
    "data_df = yf.download(\"DIS\")\n",
    "data_df.to_csv ('Disney.csv')"
   ]
  },
  {
   "cell_type": "code",
   "execution_count": 15,
   "metadata": {},
   "outputs": [
    {
     "name": "stdout",
     "output_type": "stream",
     "text": [
      "[*********************100%***********************]  1 of 1 completed\n"
     ]
    }
   ],
   "source": [
    "data_df = yf.download(\"CIDM\")\n",
    "data_df.to_csv ('Cinedigm.csv')"
   ]
  },
  {
   "cell_type": "code",
   "execution_count": 16,
   "metadata": {},
   "outputs": [
    {
     "name": "stdout",
     "output_type": "stream",
     "text": [
      "[*********************100%***********************]  1 of 1 completed\n"
     ]
    }
   ],
   "source": [
    "data_df = yf.download(\"WUBA\")\n",
    "data_df.to_csv ('58.csv')"
   ]
  },
  {
   "cell_type": "code",
   "execution_count": null,
   "metadata": {},
   "outputs": [],
   "source": [
    "# Quandl: 5 macroeconomic indicator's data & 5 stock's data"
   ]
  },
  {
   "cell_type": "code",
   "execution_count": 34,
   "metadata": {
    "scrolled": true
   },
   "outputs": [
    {
     "name": "stdout",
     "output_type": "stream",
     "text": [
      "Collecting package metadata (current_repodata.json): done\n",
      "Solving environment: failed with current_repodata.json, will retry with next repodata source.\n",
      "Collecting package metadata (repodata.json): done\n",
      "Solving environment: failed\n",
      "\n",
      "PackagesNotFoundError: The following packages are not available from current channels:\n",
      "\n",
      "  - quandl=3.0.1\n",
      "\n",
      "Current channels:\n",
      "\n",
      "  - https://conda.anaconda.org/dhirschfeld/osx-64\n",
      "  - https://conda.anaconda.org/dhirschfeld/noarch\n",
      "  - https://repo.anaconda.com/pkgs/main/osx-64\n",
      "  - https://repo.anaconda.com/pkgs/main/noarch\n",
      "  - https://repo.anaconda.com/pkgs/r/osx-64\n",
      "  - https://repo.anaconda.com/pkgs/r/noarch\n",
      "\n",
      "To search for alternate channels that may provide the conda package you're\n",
      "looking for, navigate to\n",
      "\n",
      "    https://anaconda.org\n",
      "\n",
      "and use the search bar at the top of the page.\n",
      "\n",
      "\n",
      "\n",
      "Note: you may need to restart the kernel to use updated packages.\n"
     ]
    }
   ],
   "source": [
    "conda install -c dhirschfeld quandl=3.0.1"
   ]
  },
  {
   "cell_type": "code",
   "execution_count": 37,
   "metadata": {
    "scrolled": true
   },
   "outputs": [
    {
     "name": "stdout",
     "output_type": "stream",
     "text": [
      "Collecting quandl\n",
      "  Downloading https://files.pythonhosted.org/packages/07/ab/8cd479fba8a9b197a43a0d55dd534b066fb8e5a0a04b5c0384cbc5d663aa/Quandl-3.5.0-py2.py3-none-any.whl\n",
      "Requirement already satisfied: pandas>=0.14 in /Users/rosefeng/anaconda3/lib/python3.7/site-packages (from quandl) (0.24.2)\n",
      "Requirement already satisfied: six in /Users/rosefeng/anaconda3/lib/python3.7/site-packages (from quandl) (1.12.0)\n",
      "Requirement already satisfied: python-dateutil in /Users/rosefeng/anaconda3/lib/python3.7/site-packages (from quandl) (2.8.0)\n",
      "Requirement already satisfied: more-itertools in /Users/rosefeng/anaconda3/lib/python3.7/site-packages (from quandl) (7.0.0)\n",
      "Requirement already satisfied: numpy>=1.8 in /Users/rosefeng/anaconda3/lib/python3.7/site-packages (from quandl) (1.16.4)\n",
      "Requirement already satisfied: requests>=2.7.0 in /Users/rosefeng/anaconda3/lib/python3.7/site-packages (from quandl) (2.22.0)\n",
      "Collecting inflection>=0.3.1 (from quandl)\n",
      "  Downloading https://files.pythonhosted.org/packages/52/c1/36be286d85dbd76527fb613527222a795d7c071da195fa916e7bf3cb03cb/inflection-0.4.0-py2.py3-none-any.whl\n",
      "Requirement already satisfied: pytz>=2011k in /Users/rosefeng/anaconda3/lib/python3.7/site-packages (from pandas>=0.14->quandl) (2019.1)\n",
      "Requirement already satisfied: chardet<3.1.0,>=3.0.2 in /Users/rosefeng/anaconda3/lib/python3.7/site-packages (from requests>=2.7.0->quandl) (3.0.4)\n",
      "Requirement already satisfied: idna<2.9,>=2.5 in /Users/rosefeng/anaconda3/lib/python3.7/site-packages (from requests>=2.7.0->quandl) (2.8)\n",
      "Requirement already satisfied: urllib3!=1.25.0,!=1.25.1,<1.26,>=1.21.1 in /Users/rosefeng/anaconda3/lib/python3.7/site-packages (from requests>=2.7.0->quandl) (1.24.2)\n",
      "Requirement already satisfied: certifi>=2017.4.17 in /Users/rosefeng/anaconda3/lib/python3.7/site-packages (from requests>=2.7.0->quandl) (2019.6.16)\n",
      "Installing collected packages: inflection, quandl\n",
      "Successfully installed inflection-0.4.0 quandl-3.5.0\n",
      "Note: you may need to restart the kernel to use updated packages.\n"
     ]
    }
   ],
   "source": [
    "pip install quandl"
   ]
  },
  {
   "cell_type": "code",
   "execution_count": 18,
   "metadata": {},
   "outputs": [],
   "source": [
    "import quandl as ql"
   ]
  },
  {
   "cell_type": "code",
   "execution_count": 19,
   "metadata": {
    "scrolled": true
   },
   "outputs": [],
   "source": [
    " ql.ApiConfig.api_key = \"sbD2s1CpKd32RDT-Y8jy\""
   ]
  },
  {
   "cell_type": "code",
   "execution_count": 22,
   "metadata": {},
   "outputs": [],
   "source": [
    "os.chdir(\"/Users/rosefeng/Desktop/Quandl \")"
   ]
  },
  {
   "cell_type": "code",
   "execution_count": 23,
   "metadata": {
    "scrolled": false
   },
   "outputs": [],
   "source": [
    "#5 macroeconomic indicator's data\n",
    "data_df = ql.get(\"FRED/GDP\")\n",
    "data_df.to_csv ('US-GDP')"
   ]
  },
  {
   "cell_type": "code",
   "execution_count": 24,
   "metadata": {},
   "outputs": [],
   "source": [
    "data_df = ql.get(\"RATEINF/CPI_USA\")\n",
    "data_df.to_csv ('US-CPI')"
   ]
  },
  {
   "cell_type": "code",
   "execution_count": 25,
   "metadata": {},
   "outputs": [],
   "source": [
    "data_df = ql.get(\"FED/FL072052006_Q\")\n",
    "data_df.to_csv ('US-interest-rate')"
   ]
  },
  {
   "cell_type": "code",
   "execution_count": 26,
   "metadata": {},
   "outputs": [],
   "source": [
    "data_df = ql.get(\"RATEINF/INFLATION_USA\")\n",
    "data_df.to_csv ('US-inflation')"
   ]
  },
  {
   "cell_type": "code",
   "execution_count": 28,
   "metadata": {},
   "outputs": [],
   "source": [
    "data_df = ql.get(\"BLSE/CES0600000001\")\n",
    "data_df.to_csv ('US-employment-rate')"
   ]
  },
  {
   "cell_type": "code",
   "execution_count": 29,
   "metadata": {},
   "outputs": [],
   "source": [
    "#5 stock's data\n",
    "data_df = ql.get(\"EOD/BA\")\n",
    "data_df.to_csv ('Boeing.csv')"
   ]
  },
  {
   "cell_type": "code",
   "execution_count": 30,
   "metadata": {},
   "outputs": [],
   "source": [
    "data_df = ql.get(\"EOD/MMM\")\n",
    "data_df.to_csv ('3M.csv')"
   ]
  },
  {
   "cell_type": "code",
   "execution_count": 31,
   "metadata": {},
   "outputs": [],
   "source": [
    "data_df = ql.get(\"EOD/NKE\")\n",
    "data_df.to_csv ('Nike.csv')"
   ]
  },
  {
   "cell_type": "code",
   "execution_count": 32,
   "metadata": {},
   "outputs": [],
   "source": [
    "data_df = ql.get(\"EOD/PFE\")\n",
    "data_df.to_csv ('Pfizer.csv')"
   ]
  },
  {
   "cell_type": "code",
   "execution_count": 33,
   "metadata": {},
   "outputs": [],
   "source": [
    "data_df = ql.get(\"EOD/JNJ\")\n",
    "data_df.to_csv ('Johnson&Johnson.csv')"
   ]
  },
  {
   "cell_type": "code",
   "execution_count": null,
   "metadata": {},
   "outputs": [],
   "source": [
    "# Tushare: 5 futures' data, 5 macroeconomic indicators' data, 5 stocks' data"
   ]
  },
  {
   "cell_type": "code",
   "execution_count": 62,
   "metadata": {},
   "outputs": [
    {
     "name": "stdout",
     "output_type": "stream",
     "text": [
      "Collecting tushare\n",
      "\u001b[?25l  Downloading https://files.pythonhosted.org/packages/39/93/0fd7e9442c5cd5d2e2210ddb0ce7ae360156cb5e85587528511813084eac/tushare-1.2.59-py3-none-any.whl (213kB)\n",
      "\u001b[K     |████████████████████████████████| 215kB 2.2MB/s eta 0:00:01\n",
      "\u001b[?25hRequirement already satisfied: lxml>=3.8.0 in /Users/rosefeng/anaconda3/lib/python3.7/site-packages (from tushare) (4.3.4)\n",
      "Collecting websocket-client>=0.57.0 (from tushare)\n",
      "\u001b[?25l  Downloading https://files.pythonhosted.org/packages/4c/5f/f61b420143ed1c8dc69f9eaec5ff1ac36109d52c80de49d66e0c36c3dfdf/websocket_client-0.57.0-py2.py3-none-any.whl (200kB)\n",
      "\u001b[K     |████████████████████████████████| 204kB 6.7MB/s eta 0:00:01\n",
      "\u001b[?25hCollecting bs4>=0.0.1 (from tushare)\n",
      "  Downloading https://files.pythonhosted.org/packages/10/ed/7e8b97591f6f456174139ec089c769f89a94a1a4025fe967691de971f314/bs4-0.0.1.tar.gz\n",
      "Requirement already satisfied: requests>=2.0.0 in /Users/rosefeng/anaconda3/lib/python3.7/site-packages (from tushare) (2.22.0)\n",
      "Collecting simplejson>=3.16.0 (from tushare)\n",
      "\u001b[?25l  Downloading https://files.pythonhosted.org/packages/9b/f9/34c419bd2e00071d8899b8580c0a91970271c11e0f4a4e8a628a2ddc58ea/simplejson-3.17.0-cp37-cp37m-macosx_10_14_x86_64.whl (73kB)\n",
      "\u001b[K     |████████████████████████████████| 81kB 498kB/s eta 0:00:01\n",
      "\u001b[?25hRequirement already satisfied: six in /Users/rosefeng/anaconda3/lib/python3.7/site-packages (from websocket-client>=0.57.0->tushare) (1.12.0)\n",
      "Requirement already satisfied: beautifulsoup4 in /Users/rosefeng/anaconda3/lib/python3.7/site-packages (from bs4>=0.0.1->tushare) (4.7.1)\n",
      "Requirement already satisfied: certifi>=2017.4.17 in /Users/rosefeng/anaconda3/lib/python3.7/site-packages (from requests>=2.0.0->tushare) (2019.6.16)\n",
      "Requirement already satisfied: urllib3!=1.25.0,!=1.25.1,<1.26,>=1.21.1 in /Users/rosefeng/anaconda3/lib/python3.7/site-packages (from requests>=2.0.0->tushare) (1.24.2)\n",
      "Requirement already satisfied: chardet<3.1.0,>=3.0.2 in /Users/rosefeng/anaconda3/lib/python3.7/site-packages (from requests>=2.0.0->tushare) (3.0.4)\n",
      "Requirement already satisfied: idna<2.9,>=2.5 in /Users/rosefeng/anaconda3/lib/python3.7/site-packages (from requests>=2.0.0->tushare) (2.8)\n",
      "Requirement already satisfied: soupsieve>=1.2 in /Users/rosefeng/anaconda3/lib/python3.7/site-packages (from beautifulsoup4->bs4>=0.0.1->tushare) (1.8)\n",
      "Building wheels for collected packages: bs4\n",
      "  Building wheel for bs4 (setup.py) ... \u001b[?25ldone\n",
      "\u001b[?25h  Stored in directory: /Users/rosefeng/Library/Caches/pip/wheels/a0/b0/b2/4f80b9456b87abedbc0bf2d52235414c3467d8889be38dd472\n",
      "Successfully built bs4\n",
      "Installing collected packages: websocket-client, bs4, simplejson, tushare\n",
      "Successfully installed bs4-0.0.1 simplejson-3.17.0 tushare-1.2.59 websocket-client-0.57.0\n",
      "Note: you may need to restart the kernel to use updated packages.\n"
     ]
    }
   ],
   "source": [
    "pip install tushare"
   ]
  },
  {
   "cell_type": "code",
   "execution_count": 69,
   "metadata": {
    "scrolled": true
   },
   "outputs": [
    {
     "name": "stdout",
     "output_type": "stream",
     "text": [
      "Requirement already up-to-date: tushare in /Users/rosefeng/anaconda3/lib/python3.7/site-packages (1.2.59)\n",
      "Requirement already satisfied, skipping upgrade: websocket-client>=0.57.0 in /Users/rosefeng/anaconda3/lib/python3.7/site-packages (from tushare) (0.57.0)\n",
      "Requirement already satisfied, skipping upgrade: lxml>=3.8.0 in /Users/rosefeng/anaconda3/lib/python3.7/site-packages (from tushare) (4.3.4)\n",
      "Requirement already satisfied, skipping upgrade: requests>=2.0.0 in /Users/rosefeng/anaconda3/lib/python3.7/site-packages (from tushare) (2.22.0)\n",
      "Requirement already satisfied, skipping upgrade: bs4>=0.0.1 in /Users/rosefeng/anaconda3/lib/python3.7/site-packages (from tushare) (0.0.1)\n",
      "Requirement already satisfied, skipping upgrade: simplejson>=3.16.0 in /Users/rosefeng/anaconda3/lib/python3.7/site-packages (from tushare) (3.17.0)\n",
      "Requirement already satisfied, skipping upgrade: six in /Users/rosefeng/anaconda3/lib/python3.7/site-packages (from websocket-client>=0.57.0->tushare) (1.12.0)\n",
      "Requirement already satisfied, skipping upgrade: certifi>=2017.4.17 in /Users/rosefeng/anaconda3/lib/python3.7/site-packages (from requests>=2.0.0->tushare) (2019.6.16)\n",
      "Requirement already satisfied, skipping upgrade: idna<2.9,>=2.5 in /Users/rosefeng/anaconda3/lib/python3.7/site-packages (from requests>=2.0.0->tushare) (2.8)\n",
      "Requirement already satisfied, skipping upgrade: chardet<3.1.0,>=3.0.2 in /Users/rosefeng/anaconda3/lib/python3.7/site-packages (from requests>=2.0.0->tushare) (3.0.4)\n",
      "Requirement already satisfied, skipping upgrade: urllib3!=1.25.0,!=1.25.1,<1.26,>=1.21.1 in /Users/rosefeng/anaconda3/lib/python3.7/site-packages (from requests>=2.0.0->tushare) (1.24.2)\n",
      "Requirement already satisfied, skipping upgrade: beautifulsoup4 in /Users/rosefeng/anaconda3/lib/python3.7/site-packages (from bs4>=0.0.1->tushare) (4.7.1)\n",
      "Requirement already satisfied, skipping upgrade: soupsieve>=1.2 in /Users/rosefeng/anaconda3/lib/python3.7/site-packages (from beautifulsoup4->bs4>=0.0.1->tushare) (1.8)\n",
      "Note: you may need to restart the kernel to use updated packages.\n"
     ]
    }
   ],
   "source": [
    "pip install tushare --upgrade"
   ]
  },
  {
   "cell_type": "code",
   "execution_count": 18,
   "metadata": {},
   "outputs": [],
   "source": [
    "import tushare as ts\n",
    "ts.set_token('f47e99ea5dbd49d8eec0c1913b4627675938fd81ed987037e670bcd1')\n",
    "pro = ts.pro_api('f47e99ea5dbd49d8eec0c1913b4627675938fd81ed987037e670bcd1')"
   ]
  },
  {
   "cell_type": "code",
   "execution_count": 16,
   "metadata": {},
   "outputs": [],
   "source": [
    "import os\n",
    "os.chdir(\"/Users/rosefeng/Desktop/Tushare\")"
   ]
  },
  {
   "cell_type": "code",
   "execution_count": 36,
   "metadata": {
    "scrolled": true
   },
   "outputs": [],
   "source": [
    "pro=ts.pro_api()\n",
    "#5 Future's data\n",
    "data_df = pro.trade_cal(exchange='DCE')\n",
    "data_df.to_csv ('DCE')"
   ]
  },
  {
   "cell_type": "code",
   "execution_count": 38,
   "metadata": {},
   "outputs": [],
   "source": [
    "data_df = pro.trade_cal(exchange='DCE')\n",
    "data_df.to_csv ('CFFEX')"
   ]
  },
  {
   "cell_type": "code",
   "execution_count": 39,
   "metadata": {},
   "outputs": [],
   "source": [
    "data_df = pro.trade_cal(exchange='DCE')\n",
    "data_df.to_csv ('CZCE')"
   ]
  },
  {
   "cell_type": "code",
   "execution_count": 40,
   "metadata": {},
   "outputs": [],
   "source": [
    "data_df = pro.trade_cal(exchange='DCE')\n",
    "data_df.to_csv ('SHFE')"
   ]
  },
  {
   "cell_type": "code",
   "execution_count": 41,
   "metadata": {},
   "outputs": [],
   "source": [
    "data_df = pro.trade_cal(exchange='DCE')\n",
    "data_df.to_csv ('INE')"
   ]
  },
  {
   "cell_type": "code",
   "execution_count": 46,
   "metadata": {},
   "outputs": [],
   "source": [
    "#5 Stocks' data\n",
    "data_df = pro.stock_basic(exchange='SSE', list_status='L', fields='ts_code,symbol,name,area,industry,list_date')\n",
    "data_df.to_csv ('SSE-Basic-stock')"
   ]
  },
  {
   "cell_type": "code",
   "execution_count": 48,
   "metadata": {},
   "outputs": [],
   "source": [
    "data_df = pro.stock_basic(exchange='SZSE', list_status='L', fields='ts_code,symbol,name,area,industry,list_date')\n",
    "data_df.to_csv ('SZSE-Basic-stock-L')"
   ]
  },
  {
   "cell_type": "code",
   "execution_count": 49,
   "metadata": {},
   "outputs": [],
   "source": [
    "data_df = pro.stock_basic(exchange='SSE', list_status='L', fields='ts_code,symbol,name,area,industry,list_date')\n",
    "data_df.to_csv ('SSE-Basic-stock-L')"
   ]
  },
  {
   "cell_type": "code",
   "execution_count": 54,
   "metadata": {},
   "outputs": [],
   "source": [
    "data_df = pro.stock_basic(exchange='SSE', list_status='D', fields='ts_code,symbol,name,area,industry,list_date')\n",
    "data_df.to_csv ('SSE-Basic-stock-D')"
   ]
  },
  {
   "cell_type": "code",
   "execution_count": 53,
   "metadata": {},
   "outputs": [],
   "source": [
    "data_df = pro.stock_basic(exchange='SZSE', list_status='D', fields='ts_code,symbol,name,area,industry,list_date')\n",
    "data_df.to_csv ('SZSE-Basic-stock-D')"
   ]
  },
  {
   "cell_type": "code",
   "execution_count": 52,
   "metadata": {},
   "outputs": [],
   "source": [
    "data_df = pro.stock_basic(exchange='SSE', list_status='P', fields='ts_code,symbol,name,area,industry,list_date')\n",
    "data_df.to_csv ('SSE-Basic-stock-P')"
   ]
  },
  {
   "cell_type": "code",
   "execution_count": null,
   "metadata": {},
   "outputs": [],
   "source": [
    "#5 daily options' data"
   ]
  },
  {
   "cell_type": "code",
   "execution_count": 36,
   "metadata": {},
   "outputs": [],
   "source": [
    "pro = ts.pro_api('f47e99ea5dbd49d8eec0c1913b4627675938fd81ed987037e670bcd1')\n",
    "data_df = pro.opt_daily(trade_date = '20181212',exchange = 'DCE')\n",
    "data_df.to_csv('option-daily-181212-DCE')"
   ]
  },
  {
   "cell_type": "code",
   "execution_count": 35,
   "metadata": {},
   "outputs": [],
   "source": [
    "pro = ts.pro_api('f47e99ea5dbd49d8eec0c1913b4627675938fd81ed987037e670bcd1')\n",
    "data_df = pro.opt_daily(trade_date = '20181212',exchange = 'SSE')\n",
    "data_df.to_csv('option-daily-181212-SSE')"
   ]
  },
  {
   "cell_type": "code",
   "execution_count": 37,
   "metadata": {},
   "outputs": [],
   "source": [
    "pro = ts.pro_api('f47e99ea5dbd49d8eec0c1913b4627675938fd81ed987037e670bcd1')\n",
    "data_df = pro.opt_daily(trade_date = '20181212',exchange = 'SHFE')\n",
    "data_df.to_csv('option-daily-181212-SHFE')"
   ]
  },
  {
   "cell_type": "code",
   "execution_count": 38,
   "metadata": {},
   "outputs": [],
   "source": [
    "pro = ts.pro_api('f47e99ea5dbd49d8eec0c1913b4627675938fd81ed987037e670bcd1')\n",
    "data_df = pro.opt_daily(trade_date = '20181212',exchange = 'CZCE')\n",
    "data_df.to_csv('option-daily-181212-CZCE')"
   ]
  },
  {
   "cell_type": "code",
   "execution_count": 39,
   "metadata": {},
   "outputs": [],
   "source": [
    "pro = ts.pro_api('f47e99ea5dbd49d8eec0c1913b4627675938fd81ed987037e670bcd1')\n",
    "data_df = pro.opt_daily(trade_date = '20181212')\n",
    "data_df.to_csv('option-daily-181212')"
   ]
  },
  {
   "cell_type": "code",
   "execution_count": null,
   "metadata": {},
   "outputs": [],
   "source": [
    "#FRED: 10 macroeconomic indicators' data"
   ]
  },
  {
   "cell_type": "code",
   "execution_count": 2,
   "metadata": {
    "scrolled": false
   },
   "outputs": [
    {
     "name": "stdout",
     "output_type": "stream",
     "text": [
      "Requirement already satisfied: fredapi in ./anaconda3/lib/python3.7/site-packages (0.4.2)\n",
      "Requirement already satisfied: pandas in ./anaconda3/lib/python3.7/site-packages (from fredapi) (0.24.2)\n",
      "Requirement already satisfied: python-dateutil>=2.5.0 in ./anaconda3/lib/python3.7/site-packages (from pandas->fredapi) (2.8.0)\n",
      "Requirement already satisfied: numpy>=1.12.0 in ./anaconda3/lib/python3.7/site-packages (from pandas->fredapi) (1.16.4)\n",
      "Requirement already satisfied: pytz>=2011k in ./anaconda3/lib/python3.7/site-packages (from pandas->fredapi) (2019.1)\n",
      "Requirement already satisfied: six>=1.5 in ./anaconda3/lib/python3.7/site-packages (from python-dateutil>=2.5.0->pandas->fredapi) (1.12.0)\n",
      "Note: you may need to restart the kernel to use updated packages.\n"
     ]
    }
   ],
   "source": [
    "pip install fredapi"
   ]
  },
  {
   "cell_type": "code",
   "execution_count": 5,
   "metadata": {},
   "outputs": [
    {
     "ename": "NameError",
     "evalue": "name 'os' is not defined",
     "output_type": "error",
     "traceback": [
      "\u001b[0;31m---------------------------------------------------------------------------\u001b[0m",
      "\u001b[0;31mNameError\u001b[0m                                 Traceback (most recent call last)",
      "\u001b[0;32m<ipython-input-5-a25efb789a97>\u001b[0m in \u001b[0;36m<module>\u001b[0;34m\u001b[0m\n\u001b[0;32m----> 1\u001b[0;31m \u001b[0mos\u001b[0m\u001b[0;34m.\u001b[0m\u001b[0mchdir\u001b[0m\u001b[0;34m(\u001b[0m\u001b[0;34m\"/Users/rosefeng/Desktop/FRED\"\u001b[0m\u001b[0;34m)\u001b[0m\u001b[0;34m\u001b[0m\u001b[0;34m\u001b[0m\u001b[0m\n\u001b[0m",
      "\u001b[0;31mNameError\u001b[0m: name 'os' is not defined"
     ]
    }
   ],
   "source": [
    "os.chdir(\"/Users/rosefeng/Desktop/FRED\")"
   ]
  },
  {
   "cell_type": "code",
   "execution_count": 15,
   "metadata": {
    "scrolled": true
   },
   "outputs": [
    {
     "name": "stderr",
     "output_type": "stream",
     "text": [
      "/Users/rosefeng/anaconda3/lib/python3.7/site-packages/ipykernel_launcher.py:4: FutureWarning: The signature of `Series.to_csv` was aligned to that of `DataFrame.to_csv`, and argument 'header' will change its default value from False to True: please pass an explicit value to suppress this warning.\n",
      "  after removing the cwd from sys.path.\n"
     ]
    }
   ],
   "source": [
    "from fredapi import Fred\n",
    "fred = Fred(api_key='be83c4d6e5f831fb817538195fac91b0')\n",
    "data_df = fred.get_series('CPIAUCSL')\n",
    "data_df.to_csv ('US-CPI')"
   ]
  },
  {
   "cell_type": "code",
   "execution_count": 22,
   "metadata": {
    "scrolled": true
   },
   "outputs": [
    {
     "name": "stderr",
     "output_type": "stream",
     "text": [
      "/Users/rosefeng/anaconda3/lib/python3.7/site-packages/ipykernel_launcher.py:4: FutureWarning: The signature of `Series.to_csv` was aligned to that of `DataFrame.to_csv`, and argument 'header' will change its default value from False to True: please pass an explicit value to suppress this warning.\n",
      "  after removing the cwd from sys.path.\n"
     ]
    }
   ],
   "source": [
    "from fredapi import Fred\n",
    "fred = Fred(api_key='be83c4d6e5f831fb817538195fac91b0')\n",
    "data_df = fred.get_series('A191RL1Q225SBEA')\n",
    "data_df.to_csv ('US-GDP')"
   ]
  },
  {
   "cell_type": "code",
   "execution_count": 17,
   "metadata": {},
   "outputs": [
    {
     "name": "stderr",
     "output_type": "stream",
     "text": [
      "/Users/rosefeng/anaconda3/lib/python3.7/site-packages/ipykernel_launcher.py:4: FutureWarning: The signature of `Series.to_csv` was aligned to that of `DataFrame.to_csv`, and argument 'header' will change its default value from False to True: please pass an explicit value to suppress this warning.\n",
      "  after removing the cwd from sys.path.\n"
     ]
    }
   ],
   "source": [
    "from fredapi import Fred\n",
    "fred = Fred(api_key='be83c4d6e5f831fb817538195fac91b0')\n",
    "data_df = fred.get_series('UNRATE')\n",
    "data_df.to_csv ('US-Unemployment')"
   ]
  },
  {
   "cell_type": "code",
   "execution_count": null,
   "metadata": {},
   "outputs": [],
   "source": [
    "from fredapi import Fred\n",
    "fred = Fred(api_key='be83c4d6e5f831fb817538195fac91b0')\n",
    "data_df = fred.get_series('UNRATE')\n",
    "data_df.to_csv ('US-Unemployment')"
   ]
  },
  {
   "cell_type": "code",
   "execution_count": 18,
   "metadata": {},
   "outputs": [
    {
     "name": "stderr",
     "output_type": "stream",
     "text": [
      "/Users/rosefeng/anaconda3/lib/python3.7/site-packages/ipykernel_launcher.py:4: FutureWarning: The signature of `Series.to_csv` was aligned to that of `DataFrame.to_csv`, and argument 'header' will change its default value from False to True: please pass an explicit value to suppress this warning.\n",
      "  after removing the cwd from sys.path.\n"
     ]
    }
   ],
   "source": [
    "from fredapi import Fred\n",
    "fred = Fred(api_key='be83c4d6e5f831fb817538195fac91b0')\n",
    "data_df = fred.get_series('DEXUSEU')\n",
    "data_df.to_csv ('US-Foreign-exchange')"
   ]
  },
  {
   "cell_type": "code",
   "execution_count": 23,
   "metadata": {},
   "outputs": [
    {
     "name": "stderr",
     "output_type": "stream",
     "text": [
      "/Users/rosefeng/anaconda3/lib/python3.7/site-packages/ipykernel_launcher.py:4: FutureWarning: The signature of `Series.to_csv` was aligned to that of `DataFrame.to_csv`, and argument 'header' will change its default value from False to True: please pass an explicit value to suppress this warning.\n",
      "  after removing the cwd from sys.path.\n"
     ]
    }
   ],
   "source": [
    "from fredapi import Fred\n",
    "fred = Fred(api_key='be83c4d6e5f831fb817538195fac91b0')\n",
    "data_df = fred.get_series('INDPRO')\n",
    "data_df.to_csv ('US-industrial-production')"
   ]
  },
  {
   "cell_type": "code",
   "execution_count": 24,
   "metadata": {},
   "outputs": [
    {
     "name": "stderr",
     "output_type": "stream",
     "text": [
      "/Users/rosefeng/anaconda3/lib/python3.7/site-packages/ipykernel_launcher.py:4: FutureWarning: The signature of `Series.to_csv` was aligned to that of `DataFrame.to_csv`, and argument 'header' will change its default value from False to True: please pass an explicit value to suppress this warning.\n",
      "  after removing the cwd from sys.path.\n"
     ]
    }
   ],
   "source": [
    "from fredapi import Fred\n",
    "fred = Fred(api_key='be83c4d6e5f831fb817538195fac91b0')\n",
    "data_df = fred.get_series('PAYEMS')\n",
    "data_df.to_csv ('US-NFP')"
   ]
  },
  {
   "cell_type": "code",
   "execution_count": 7,
   "metadata": {
    "scrolled": true
   },
   "outputs": [],
   "source": [
    "# from fredapi import Fred\n",
    "fred = Fred(api_key='be83c4d6e5f831fb817538195fac91b0')\n",
    "data_df = fred.get_series('DGS10')\n",
    "# data_df.to_csv ('US-tresury')"
   ]
  },
  {
   "cell_type": "code",
   "execution_count": 10,
   "metadata": {},
   "outputs": [
    {
     "data": {
      "text/plain": [
       "<matplotlib.axes._subplots.AxesSubplot at 0x115257550>"
      ]
     },
     "execution_count": 10,
     "metadata": {},
     "output_type": "execute_result"
    },
    {
     "data": {
      "image/png": "[encoded data removed]",
      "text/plain": [
       "<Figure size 432x288 with 1 Axes>"
      ]
     },
     "metadata": {
      "needs_background": "light"
     },
     "output_type": "display_data"
    }
   ],
   "source": [
    "data_df[-252:].plot()"
   ]
  },
  {
   "cell_type": "code",
   "execution_count": 27,
   "metadata": {},
   "outputs": [
    {
     "name": "stderr",
     "output_type": "stream",
     "text": [
      "/Users/rosefeng/anaconda3/lib/python3.7/site-packages/ipykernel_launcher.py:4: FutureWarning: The signature of `Series.to_csv` was aligned to that of `DataFrame.to_csv`, and argument 'header' will change its default value from False to True: please pass an explicit value to suppress this warning.\n",
      "  after removing the cwd from sys.path.\n"
     ]
    }
   ],
   "source": [
    "from fredapi import Fred\n",
    "fred = Fred(api_key='be83c4d6e5f831fb817538195fac91b0')\n",
    "data_df = fred.get_series('ICSA')\n",
    "data_df.to_csv ('US-initial-claims')"
   ]
  },
  {
   "cell_type": "code",
   "execution_count": 3,
   "metadata": {},
   "outputs": [],
   "source": [
    "from fredapi import Fred\n",
    "fred = Fred(api_key='be83c4d6e5f831fb817538195fac91b0')\n",
    "data_df = fred.get_series('MEPAINUSA672N')\n",
    "# data_df.to_csv ('US-personal-income')"
   ]
  },
  {
   "cell_type": "code",
   "execution_count": 4,
   "metadata": {},
   "outputs": [
    {
     "data": {
      "text/plain": [
       "1974-01-01    24569.0\n",
       "1975-01-01    24103.0\n",
       "1976-01-01    24152.0\n",
       "1977-01-01    24334.0\n",
       "1978-01-01    24133.0\n",
       "1979-01-01    23469.0\n",
       "1980-01-01    23113.0\n",
       "1981-01-01    22682.0\n",
       "1982-01-01    22923.0\n",
       "1983-01-01    23371.0\n",
       "1984-01-01    24046.0\n",
       "1985-01-01    24567.0\n",
       "1986-01-01    25325.0\n",
       "1987-01-01    25663.0\n",
       "1988-01-01    26471.0\n",
       "1989-01-01    27168.0\n",
       "1990-01-01    26876.0\n",
       "1991-01-01    26483.0\n",
       "1992-01-01    26217.0\n",
       "1993-01-01    26473.0\n",
       "1994-01-01    26799.0\n",
       "1995-01-01    27534.0\n",
       "1996-01-01    28118.0\n",
       "1997-01-01    29352.0\n",
       "1998-01-01    30808.0\n",
       "1999-01-01    31120.0\n",
       "2000-01-01    31462.0\n",
       "2001-01-01    31185.0\n",
       "2002-01-01    30959.0\n",
       "2003-01-01    31029.0\n",
       "2004-01-01    30935.0\n",
       "2005-01-01    31354.0\n",
       "2006-01-01    32205.0\n",
       "2007-01-01    32324.0\n",
       "2008-01-01    30997.0\n",
       "2009-01-01    30661.0\n",
       "2010-01-01    30211.0\n",
       "2011-01-01    29750.0\n",
       "2012-01-01    29572.0\n",
       "2013-01-01    29883.0\n",
       "2014-01-01    30532.0\n",
       "2015-01-01    32051.0\n",
       "2016-01-01    32542.0\n",
       "2017-01-01    32741.0\n",
       "2018-01-01    33706.0\n",
       "dtype: float64"
      ]
     },
     "execution_count": 4,
     "metadata": {},
     "output_type": "execute_result"
    }
   ],
   "source": [
    "data_df"
   ]
  },
  {
   "cell_type": "code",
   "execution_count": 2,
   "metadata": {},
   "outputs": [
    {
     "name": "stdout",
     "output_type": "stream",
     "text": [
      "Collecting fredapi\n",
      "  Downloading fredapi-0.4.2-py3-none-any.whl (11 kB)\n",
      "Requirement already satisfied: pandas in /Users/miaoyuesun/anaconda3/envs/py36/lib/python3.6/site-packages (from fredapi) (1.0.0)\n",
      "Requirement already satisfied: numpy>=1.13.3 in /Users/miaoyuesun/anaconda3/envs/py36/lib/python3.6/site-packages (from pandas->fredapi) (1.17.0)\n",
      "Requirement already satisfied: pytz>=2017.2 in /Users/miaoyuesun/anaconda3/envs/py36/lib/python3.6/site-packages (from pandas->fredapi) (2019.3)\n",
      "Requirement already satisfied: python-dateutil>=2.6.1 in /Users/miaoyuesun/anaconda3/envs/py36/lib/python3.6/site-packages (from pandas->fredapi) (2.8.1)\n",
      "Requirement already satisfied: six>=1.5 in /Users/miaoyuesun/anaconda3/envs/py36/lib/python3.6/site-packages (from python-dateutil>=2.6.1->pandas->fredapi) (1.14.0)\n",
      "Installing collected packages: fredapi\n",
      "Successfully installed fredapi-0.4.2\n",
      "Note: you may need to restart the kernel to use updated packages.\n"
     ]
    }
   ],
   "source": [
    "pip install fredapi"
   ]
  },
  {
   "cell_type": "code",
   "execution_count": 5,
   "metadata": {},
   "outputs": [],
   "source": [
    "fred = Fred(api_key='be83c4d6e5f831fb817538195fac91b0')\n",
    "data_df = fred.get_series('MKTGDPCNA646NWDB')\n",
    "# data_df.to_csv ('China-GDP')"
   ]
  },
  {
   "cell_type": "code",
   "execution_count": 6,
   "metadata": {},
   "outputs": [
    {
     "data": {
      "text/plain": [
       "1960-01-01    5.971647e+10\n",
       "1961-01-01    5.005687e+10\n",
       "1962-01-01    4.720936e+10\n",
       "1963-01-01    5.070680e+10\n",
       "1964-01-01    5.970834e+10\n",
       "1965-01-01    7.043627e+10\n",
       "1966-01-01    7.672029e+10\n",
       "1967-01-01    7.288163e+10\n",
       "1968-01-01    7.084654e+10\n",
       "1969-01-01    7.970591e+10\n",
       "1970-01-01    9.260297e+10\n",
       "1971-01-01    9.980096e+10\n",
       "1972-01-01    1.136876e+11\n",
       "1973-01-01    1.385443e+11\n",
       "1974-01-01    1.441821e+11\n",
       "1975-01-01    1.634316e+11\n",
       "1976-01-01    1.539405e+11\n",
       "1977-01-01    1.749381e+11\n",
       "1978-01-01    1.495408e+11\n",
       "1979-01-01    1.782806e+11\n",
       "1980-01-01    1.911492e+11\n",
       "1981-01-01    1.958664e+11\n",
       "1982-01-01    2.050897e+11\n",
       "1983-01-01    2.306867e+11\n",
       "1984-01-01    2.599465e+11\n",
       "1985-01-01    3.094880e+11\n",
       "1986-01-01    3.007581e+11\n",
       "1987-01-01    2.729730e+11\n",
       "1988-01-01    3.123536e+11\n",
       "1989-01-01    3.477681e+11\n",
       "1990-01-01    3.608579e+11\n",
       "1991-01-01    3.833733e+11\n",
       "1992-01-01    4.269157e+11\n",
       "1993-01-01    4.447313e+11\n",
       "1994-01-01    5.643247e+11\n",
       "1995-01-01    7.345479e+11\n",
       "1996-01-01    8.637467e+11\n",
       "1997-01-01    9.616040e+11\n",
       "1998-01-01    1.029043e+12\n",
       "1999-01-01    1.093997e+12\n",
       "2000-01-01    1.211347e+12\n",
       "2001-01-01    1.339396e+12\n",
       "2002-01-01    1.470550e+12\n",
       "2003-01-01    1.660288e+12\n",
       "2004-01-01    1.955347e+12\n",
       "2005-01-01    2.285966e+12\n",
       "2006-01-01    2.752132e+12\n",
       "2007-01-01    3.550342e+12\n",
       "2008-01-01    4.594307e+12\n",
       "2009-01-01    5.101702e+12\n",
       "2010-01-01    6.087165e+12\n",
       "2011-01-01    7.551500e+12\n",
       "2012-01-01    8.532231e+12\n",
       "2013-01-01    9.570406e+12\n",
       "2014-01-01    1.043853e+13\n",
       "2015-01-01    1.101554e+13\n",
       "2016-01-01    1.113795e+13\n",
       "2017-01-01    1.214349e+13\n",
       "2018-01-01    1.360815e+13\n",
       "dtype: float64"
      ]
     },
     "execution_count": 6,
     "metadata": {},
     "output_type": "execute_result"
    }
   ],
   "source": [
    "data_df"
   ]
  },
  {
   "cell_type": "code",
   "execution_count": 4,
   "metadata": {},
   "outputs": [
    {
     "name": "stderr",
     "output_type": "stream",
     "text": [
      "/Users/rosefeng/anaconda3/lib/python3.7/site-packages/ipykernel_launcher.py:3: FutureWarning: The signature of `Series.to_csv` was aligned to that of `DataFrame.to_csv`, and argument 'header' will change its default value from False to True: please pass an explicit value to suppress this warning.\n",
      "  This is separate from the ipykernel package so we can avoid doing imports until\n"
     ]
    }
   ],
   "source": [
    "fred = Fred(api_key='be83c4d6e5f831fb817538195fac91b0')\n",
    "data_df = fred.get_series('INTDSRCNM193N')\n",
    "data_df.to_csv ('China-interest-rate')"
   ]
  },
  {
   "cell_type": "code",
   "execution_count": null,
   "metadata": {},
   "outputs": [],
   "source": []
  }
 ],
 "metadata": {
  "kernelspec": {
   "display_name": "Python 3",
   "language": "python",
   "name": "python3"
  },
  "language_info": {
   "codemirror_mode": {
    "name": "ipython",
    "version": 3
   },
   "file_extension": ".py",
   "mimetype": "text/x-python",
   "name": "python",
   "nbconvert_exporter": "python",
   "pygments_lexer": "ipython3",
   "version": "3.6.10"
  }
 },
 "nbformat": 4,
 "nbformat_minor": 2
}
