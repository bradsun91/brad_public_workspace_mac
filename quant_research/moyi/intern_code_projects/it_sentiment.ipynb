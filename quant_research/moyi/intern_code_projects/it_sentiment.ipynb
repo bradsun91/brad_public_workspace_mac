{
 "cells": [
  {
   "cell_type": "markdown",
   "metadata": {},
   "source": [
    "# Import packages\n",
    "## Installation:\n",
    "pip install textblob\n",
    "python -m textblob.download_corpora"
   ]
  },
  {
   "cell_type": "code",
   "execution_count": 1,
   "metadata": {},
   "outputs": [
    {
     "name": "stdout",
     "output_type": "stream",
     "text": [
      "[nltk_data] Downloading package opinion_lexicon to\n",
      "[nltk_data]     /Users/apple/nltk_data...\n",
      "[nltk_data]   Package opinion_lexicon is already up-to-date!\n"
     ]
    }
   ],
   "source": [
    "import nltk\n",
    "import pandas as pd\n",
    "nltk.download('opinion_lexicon')\n",
    "from nltk.corpus import opinion_lexicon\n",
    "from textblob import TextBlob \n",
    "import re\n",
    "from nltk.corpus import stopwords\n",
    "from nltk.stem.wordnet import WordNetLemmatizer"
   ]
  },
  {
   "cell_type": "markdown",
   "metadata": {},
   "source": [
    "# Import Nasdap_news data "
   ]
  },
  {
   "cell_type": "code",
   "execution_count": 2,
   "metadata": {},
   "outputs": [],
   "source": [
    "dataset=pd.read_csv('IT.csv')"
   ]
  },
  {
   "cell_type": "markdown",
   "metadata": {},
   "source": [
    "# Text preprocessing\n",
    "## Removal of punctuations"
   ]
  },
  {
   "cell_type": "code",
   "execution_count": 3,
   "metadata": {},
   "outputs": [],
   "source": [
    "def form_sentence(text):\n",
    "    text_blob = TextBlob(text)\n",
    "    return ' '.join(text_blob.words)\n",
    "\n",
    "dataset['body']=dataset['body'].apply(form_sentence)"
   ]
  },
  {
   "cell_type": "markdown",
   "metadata": {},
   "source": [
    "# Text preprocessing\n",
    "## Removal of commonly used words (stopwords)"
   ]
  },
  {
   "cell_type": "code",
   "execution_count": 4,
   "metadata": {},
   "outputs": [],
   "source": [
    "def no_user_alpha(text):\n",
    "    text_list = [ele for ele in text.split() if ele != 'user']\n",
    "    clean_tokens = [t for t in text_list if re.match(r'[^\\W\\d]*$', t)]\n",
    "    clean_s = ' '.join(clean_tokens)\n",
    "    clean_mess = [word for word in clean_s.split() if word.lower() not in stopwords.words('english')]\n",
    "    return clean_mess\n",
    "\n",
    "dataset['body']=dataset['body'].apply(no_user_alpha)"
   ]
  },
  {
   "cell_type": "markdown",
   "metadata": {},
   "source": [
    "# Text preprocessing\n",
    "## Normalization of words"
   ]
  },
  {
   "cell_type": "code",
   "execution_count": 5,
   "metadata": {},
   "outputs": [],
   "source": [
    "def normalization(text_list):\n",
    "        lem = WordNetLemmatizer()\n",
    "        normalized_text_list = []\n",
    "        for word in text_list:\n",
    "            normalized_text = lem.lemmatize(word,'v')\n",
    "            normalized_text_list.append(normalized_text)\n",
    "        return normalized_text_list\n",
    "    \n",
    "dataset['body']=dataset['body'].apply(normalization)"
   ]
  },
  {
   "cell_type": "markdown",
   "metadata": {},
   "source": [
    "# Generate a list of positive words and a list of negative words"
   ]
  },
  {
   "cell_type": "code",
   "execution_count": 6,
   "metadata": {},
   "outputs": [],
   "source": [
    "pos_list=set(opinion_lexicon.positive())\n",
    "neg_list=set(opinion_lexicon.negative())"
   ]
  },
  {
   "cell_type": "markdown",
   "metadata": {},
   "source": [
    "# Rule-based Approach \n",
    "## Define a function to calculate the sentiment and apply it to every body text"
   ]
  },
  {
   "cell_type": "code",
   "execution_count": 7,
   "metadata": {},
   "outputs": [],
   "source": [
    "def sentiment(sentence):\n",
    "  senti=0\n",
    "  words = [word.lower() for word in sentence]\n",
    "  for word in words:\n",
    "    if word in pos_list:\n",
    "      senti += 1\n",
    "    elif word in neg_list:\n",
    "      senti -= 1\n",
    "  return senti\n",
    "\n",
    "#apply 'sentiment' function to every document\n",
    "dataset['sentiment']=dataset['body'].apply(sentiment)"
   ]
  },
  {
   "cell_type": "markdown",
   "metadata": {},
   "source": [
    "# Sentiment scores"
   ]
  },
  {
   "cell_type": "code",
   "execution_count": 8,
   "metadata": {},
   "outputs": [
    {
     "name": "stdout",
     "output_type": "stream",
     "text": [
      "0        4\n",
      "1       -5\n",
      "2       21\n",
      "3       -6\n",
      "4        4\n",
      "5       37\n",
      "6        0\n",
      "7       15\n",
      "8       98\n",
      "9       -4\n",
      "10      -6\n",
      "11       4\n",
      "12      -5\n",
      "13       2\n",
      "14       8\n",
      "15       3\n",
      "16      14\n",
      "17      16\n",
      "18       8\n",
      "19       2\n",
      "20       6\n",
      "21       4\n",
      "22     -10\n",
      "23       0\n",
      "24       1\n",
      "25       2\n",
      "26       1\n",
      "27       0\n",
      "28      -6\n",
      "29       3\n",
      "        ..\n",
      "1370     4\n",
      "1371   -11\n",
      "1372     0\n",
      "1373    18\n",
      "1374    13\n",
      "1375     3\n",
      "1376     4\n",
      "1377     4\n",
      "1378     6\n",
      "1379     6\n",
      "1380    -1\n",
      "1381    24\n",
      "1382    25\n",
      "1383     1\n",
      "1384     3\n",
      "1385     1\n",
      "1386    -4\n",
      "1387   -10\n",
      "1388     7\n",
      "1389     6\n",
      "1390     2\n",
      "1391     5\n",
      "1392    19\n",
      "1393     9\n",
      "1394    -1\n",
      "1395     8\n",
      "1396    68\n",
      "1397    78\n",
      "1398    19\n",
      "1399    13\n",
      "Name: sentiment, Length: 1400, dtype: int64\n"
     ]
    }
   ],
   "source": [
    "print(dataset['sentiment'])"
   ]
  },
  {
   "cell_type": "code",
   "execution_count": null,
   "metadata": {},
   "outputs": [],
   "source": []
  }
 ],
 "metadata": {
  "kernelspec": {
   "display_name": "Python 3",
   "language": "python",
   "name": "python3"
  },
  "language_info": {
   "codemirror_mode": {
    "name": "ipython",
    "version": 3
   },
   "file_extension": ".py",
   "mimetype": "text/x-python",
   "name": "python",
   "nbconvert_exporter": "python",
   "pygments_lexer": "ipython3",
   "version": "3.6.4"
  }
 },
 "nbformat": 4,
 "nbformat_minor": 2
}
