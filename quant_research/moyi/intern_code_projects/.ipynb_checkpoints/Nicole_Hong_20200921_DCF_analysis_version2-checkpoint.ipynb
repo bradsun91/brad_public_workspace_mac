{
 "cells": [
  {
   "cell_type": "code",
   "execution_count": 1,
   "metadata": {
    "ExecuteTime": {
     "end_time": "2020-09-18T13:15:26.529580Z",
     "start_time": "2020-09-18T13:15:25.809589Z"
    }
   },
   "outputs": [],
   "source": [
    "import numpy as np\n",
    "import pandas as pd\n",
    "import matplotlib.pyplot as plt\n",
    "%matplotlib inline"
   ]
  },
  {
   "cell_type": "markdown",
   "metadata": {},
   "source": [
    "https://www.toptal.com/finance/financial-modeling/python-and-finance"
   ]
  },
  {
   "cell_type": "code",
   "execution_count": 2,
   "metadata": {
    "ExecuteTime": {
     "end_time": "2020-09-18T13:15:28.486036Z",
     "start_time": "2020-09-18T13:15:28.475066Z"
    }
   },
   "outputs": [
    {
     "name": "stderr",
     "output_type": "stream",
     "text": [
      "D:\\ProgramData\\Anaconda3\\lib\\site-packages\\ipykernel_launcher.py:2: DeprecationWarning: The default dtype for empty Series will be 'object' instead of 'float64' in a future version. Specify a dtype explicitly to silence this warning.\n",
      "  \n"
     ]
    },
    {
     "data": {
      "text/plain": [
       "2018A    31.0\n",
       "2019B     NaN\n",
       "2020P     NaN\n",
       "2021P     NaN\n",
       "2022P     NaN\n",
       "2023P     NaN\n",
       "dtype: float64"
      ]
     },
     "execution_count": 2,
     "metadata": {},
     "output_type": "execute_result"
    }
   ],
   "source": [
    "years = ['2018A', '2019B', '2020P', '2021P', '2022P', '2023P']\n",
    "sales = pd.Series(index=years)\n",
    "sales['2018A'] = 31.0  \n",
    "sales"
   ]
  },
  {
   "cell_type": "code",
   "execution_count": 3,
   "metadata": {
    "ExecuteTime": {
     "end_time": "2020-09-18T13:15:31.639634Z",
     "start_time": "2020-09-18T13:15:31.630697Z"
    }
   },
   "outputs": [
    {
     "data": {
      "text/plain": [
       "2018A    31.00000\n",
       "2019B    34.10000\n",
       "2020P    37.51000\n",
       "2021P    41.26100\n",
       "2022P    45.38710\n",
       "2023P    49.92581\n",
       "dtype: float64"
      ]
     },
     "execution_count": 3,
     "metadata": {},
     "output_type": "execute_result"
    }
   ],
   "source": [
    "growth_rate = 0.1\n",
    "for year in range(1, 6):\n",
    "    sales[year] = sales[year - 1] * (1 + growth_rate)\n",
    "    \n",
    "sales"
   ]
  },
  {
   "cell_type": "code",
   "execution_count": 4,
   "metadata": {
    "ExecuteTime": {
     "end_time": "2020-09-18T13:15:34.221174Z",
     "start_time": "2020-09-18T13:15:34.216186Z"
    }
   },
   "outputs": [
    {
     "data": {
      "text/plain": [
       "pandas.core.series.Series"
      ]
     },
     "execution_count": 4,
     "metadata": {},
     "output_type": "execute_result"
    }
   ],
   "source": [
    "type(sales)"
   ]
  },
  {
   "cell_type": "code",
   "execution_count": 5,
   "metadata": {
    "ExecuteTime": {
     "end_time": "2020-09-18T13:15:40.648428Z",
     "start_time": "2020-09-18T13:15:40.643439Z"
    }
   },
   "outputs": [],
   "source": [
    "ebitda_margin = 0.14\n",
    "depr_percent = 0.032"
   ]
  },
  {
   "cell_type": "code",
   "execution_count": 6,
   "metadata": {
    "ExecuteTime": {
     "end_time": "2020-09-18T13:15:41.755592Z",
     "start_time": "2020-09-18T13:15:41.743657Z"
    }
   },
   "outputs": [
    {
     "data": {
      "text/plain": [
       "2018A    4.340000\n",
       "2019B    4.774000\n",
       "2020P    5.251400\n",
       "2021P    5.776540\n",
       "2022P    6.354194\n",
       "2023P    6.989613\n",
       "dtype: float64"
      ]
     },
     "execution_count": 6,
     "metadata": {},
     "output_type": "execute_result"
    }
   ],
   "source": [
    "ebitda = sales * ebitda_margin\n",
    "ebitda "
   ]
  },
  {
   "cell_type": "code",
   "execution_count": 7,
   "metadata": {
    "ExecuteTime": {
     "end_time": "2020-09-18T13:15:45.391663Z",
     "start_time": "2020-09-18T13:15:45.385680Z"
    }
   },
   "outputs": [
    {
     "data": {
      "text/plain": [
       "2018A    0.992000\n",
       "2019B    1.091200\n",
       "2020P    1.200320\n",
       "2021P    1.320352\n",
       "2022P    1.452387\n",
       "2023P    1.597626\n",
       "dtype: float64"
      ]
     },
     "execution_count": 7,
     "metadata": {},
     "output_type": "execute_result"
    }
   ],
   "source": [
    "depreciation = sales * depr_percent \n",
    "depreciation "
   ]
  },
  {
   "cell_type": "code",
   "execution_count": 8,
   "metadata": {
    "ExecuteTime": {
     "end_time": "2020-09-18T13:15:54.440594Z",
     "start_time": "2020-09-18T13:15:54.433580Z"
    }
   },
   "outputs": [
    {
     "data": {
      "text/plain": [
       "2018A    3.348000\n",
       "2019B    3.682800\n",
       "2020P    4.051080\n",
       "2021P    4.456188\n",
       "2022P    4.901807\n",
       "2023P    5.391987\n",
       "dtype: float64"
      ]
     },
     "execution_count": 8,
     "metadata": {},
     "output_type": "execute_result"
    }
   ],
   "source": [
    "ebit = ebitda - depreciation \n",
    "ebit "
   ]
  },
  {
   "cell_type": "code",
   "execution_count": 9,
   "metadata": {
    "ExecuteTime": {
     "end_time": "2020-09-18T13:16:03.856796Z",
     "start_time": "2020-09-18T13:16:03.849815Z"
    }
   },
   "outputs": [
    {
     "data": {
      "text/plain": [
       "2018A     7.440000\n",
       "2019B     8.184000\n",
       "2020P     9.002400\n",
       "2021P     9.902640\n",
       "2022P    10.892904\n",
       "2023P    11.982194\n",
       "dtype: float64"
      ]
     },
     "execution_count": 9,
     "metadata": {},
     "output_type": "execute_result"
    }
   ],
   "source": [
    "nwc_percent = 0.24\n",
    "nwc = sales * nwc_percent\n",
    "nwc "
   ]
  },
  {
   "cell_type": "code",
   "execution_count": 10,
   "metadata": {
    "ExecuteTime": {
     "end_time": "2020-09-18T13:16:43.240401Z",
     "start_time": "2020-09-18T13:16:43.233389Z"
    }
   },
   "outputs": [
    {
     "data": {
      "text/plain": [
       "2018A         NaN\n",
       "2019B   -0.744000\n",
       "2020P   -0.818400\n",
       "2021P   -0.900240\n",
       "2022P   -0.990264\n",
       "2023P   -1.089290\n",
       "dtype: float64"
      ]
     },
     "execution_count": 10,
     "metadata": {},
     "output_type": "execute_result"
    }
   ],
   "source": [
    "change_in_nwc = nwc.shift(1) - nwc \n",
    "change_in_nwc"
   ]
  },
  {
   "cell_type": "code",
   "execution_count": 11,
   "metadata": {
    "ExecuteTime": {
     "end_time": "2020-09-18T13:17:58.399007Z",
     "start_time": "2020-09-18T13:17:58.393025Z"
    }
   },
   "outputs": [
    {
     "data": {
      "text/plain": [
       "2018A   -0.992000\n",
       "2019B   -1.091200\n",
       "2020P   -1.200320\n",
       "2021P   -1.320352\n",
       "2022P   -1.452387\n",
       "2023P   -1.597626\n",
       "dtype: float64"
      ]
     },
     "execution_count": 11,
     "metadata": {},
     "output_type": "execute_result"
    }
   ],
   "source": [
    "capex_percent = depr_percent\n",
    "capex = -(sales * capex_percent)\n",
    "capex "
   ]
  },
  {
   "cell_type": "code",
   "execution_count": 12,
   "metadata": {
    "ExecuteTime": {
     "end_time": "2020-09-18T13:18:51.527627Z",
     "start_time": "2020-09-18T13:18:51.519688Z"
    }
   },
   "outputs": [
    {
     "data": {
      "text/plain": [
       "2018A   -0.837000\n",
       "2019B   -0.920700\n",
       "2020P   -1.012770\n",
       "2021P   -1.114047\n",
       "2022P   -1.225452\n",
       "2023P   -1.347997\n",
       "dtype: float64"
      ]
     },
     "execution_count": 12,
     "metadata": {},
     "output_type": "execute_result"
    }
   ],
   "source": [
    "tax_rate = 0.25\n",
    "tax_payment = -ebit * tax_rate\n",
    "tax_payment "
   ]
  },
  {
   "cell_type": "code",
   "execution_count": 13,
   "metadata": {
    "ExecuteTime": {
     "end_time": "2020-09-18T13:19:42.432657Z",
     "start_time": "2020-09-18T13:19:42.424678Z"
    }
   },
   "outputs": [
    {
     "data": {
      "text/plain": [
       "2018A         NaN\n",
       "2019B    2.018100\n",
       "2020P    2.219910\n",
       "2021P    2.441901\n",
       "2022P    2.686091\n",
       "2023P    2.954700\n",
       "dtype: float64"
      ]
     },
     "execution_count": 13,
     "metadata": {},
     "output_type": "execute_result"
    }
   ],
   "source": [
    "tax_payment = tax_payment.apply(lambda x: min(x, 0))\n",
    "free_cash_flow = ebit + depreciation + tax_payment + capex + change_in_nwc\n",
    "free_cash_flow"
   ]
  },
  {
   "cell_type": "code",
   "execution_count": 14,
   "metadata": {
    "ExecuteTime": {
     "end_time": "2020-09-18T13:20:01.019705Z",
     "start_time": "2020-09-18T13:20:01.015682Z"
    }
   },
   "outputs": [
    {
     "data": {
      "text/plain": [
       "pandas.core.series.Series"
      ]
     },
     "execution_count": 14,
     "metadata": {},
     "output_type": "execute_result"
    }
   ],
   "source": [
    "type(free_cash_flow)"
   ]
  },
  {
   "cell_type": "code",
   "execution_count": 15,
   "metadata": {
    "ExecuteTime": {
     "end_time": "2020-09-18T13:21:24.740516Z",
     "start_time": "2020-09-18T13:21:24.700623Z"
    }
   },
   "outputs": [
    {
     "data": {
      "text/plain": [
       "30.137942141999986"
      ]
     },
     "execution_count": 15,
     "metadata": {},
     "output_type": "execute_result"
    }
   ],
   "source": [
    "#Performing the DCF Valuation\n",
    "cost_of_capital = 0.12\n",
    "terminal_growth = 0.02\n",
    "terminal_value = ((free_cash_flow[-1] * (1 + terminal_growth)) / \n",
    "                 (cost_of_capital - terminal_growth))\n",
    "terminal_value "
   ]
  },
  {
   "cell_type": "code",
   "execution_count": 16,
   "metadata": {
    "ExecuteTime": {
     "end_time": "2020-09-18T13:21:43.157838Z",
     "start_time": "2020-09-18T13:21:43.152851Z"
    }
   },
   "outputs": [
    {
     "data": {
      "text/plain": [
       "[0.8928571428571428,\n",
       " 0.7971938775510203,\n",
       " 0.711780247813411,\n",
       " 0.6355180784048311,\n",
       " 0.5674268557185992]"
      ]
     },
     "execution_count": 16,
     "metadata": {},
     "output_type": "execute_result"
    }
   ],
   "source": [
    "discount_factors = [(1 / (1 + cost_of_capital)) ** i for i in range (1,6)]\n",
    "discount_factors "
   ]
  },
  {
   "cell_type": "code",
   "execution_count": 5,
   "metadata": {},
   "outputs": [
    {
     "data": {
      "text/plain": [
       "25.79438401113792"
      ]
     },
     "execution_count": 5,
     "metadata": {},
     "output_type": "execute_result"
    }
   ],
   "source": [
    "dcf_value = (sum(free_cash_flow[1:] * discount_factors) +\n",
    "            terminal_value * discount_factors[-1])\n",
    "dcf_value"
   ]
  },
  {
   "cell_type": "code",
   "execution_count": 6,
   "metadata": {},
   "outputs": [
    {
     "data": {
      "text/html": [
       "<div>\n",
       "<style scoped>\n",
       "    .dataframe tbody tr th:only-of-type {\n",
       "        vertical-align: middle;\n",
       "    }\n",
       "\n",
       "    .dataframe tbody tr th {\n",
       "        vertical-align: top;\n",
       "    }\n",
       "\n",
       "    .dataframe thead th {\n",
       "        text-align: right;\n",
       "    }\n",
       "</style>\n",
       "<table border=\"1\" class=\"dataframe\">\n",
       "  <thead>\n",
       "    <tr style=\"text-align: right;\">\n",
       "      <th></th>\n",
       "      <th>2018A</th>\n",
       "      <th>2019B</th>\n",
       "      <th>2020P</th>\n",
       "      <th>2021P</th>\n",
       "      <th>2022P</th>\n",
       "      <th>2023P</th>\n",
       "    </tr>\n",
       "  </thead>\n",
       "  <tbody>\n",
       "    <tr>\n",
       "      <th>Sales</th>\n",
       "      <td>31.0</td>\n",
       "      <td>34.1</td>\n",
       "      <td>37.5</td>\n",
       "      <td>41.3</td>\n",
       "      <td>45.4</td>\n",
       "      <td>49.9</td>\n",
       "    </tr>\n",
       "    <tr>\n",
       "      <th>EBIT</th>\n",
       "      <td>3.3</td>\n",
       "      <td>3.7</td>\n",
       "      <td>4.1</td>\n",
       "      <td>4.5</td>\n",
       "      <td>4.9</td>\n",
       "      <td>5.4</td>\n",
       "    </tr>\n",
       "    <tr>\n",
       "      <th>Free Cash Flow</th>\n",
       "      <td>NaN</td>\n",
       "      <td>2.0</td>\n",
       "      <td>2.2</td>\n",
       "      <td>2.4</td>\n",
       "      <td>2.7</td>\n",
       "      <td>3.0</td>\n",
       "    </tr>\n",
       "  </tbody>\n",
       "</table>\n",
       "</div>"
      ],
      "text/plain": [
       "                2018A  2019B  2020P  2021P  2022P  2023P\n",
       "Sales            31.0   34.1   37.5   41.3   45.4   49.9\n",
       "EBIT              3.3    3.7    4.1    4.5    4.9    5.4\n",
       "Free Cash Flow    NaN    2.0    2.2    2.4    2.7    3.0"
      ]
     },
     "execution_count": 6,
     "metadata": {},
     "output_type": "execute_result"
    }
   ],
   "source": [
    "output = pd.DataFrame([sales, ebit, free_cash_flow],\n",
    "                     index=['Sales', 'EBIT', 'Free Cash Flow']).round(1)\n",
    "output.to_excel('Python DCF Model Output.xlsx')\n",
    "output"
   ]
  },
  {
   "cell_type": "code",
   "execution_count": 7,
   "metadata": {},
   "outputs": [
    {
     "data": {
      "image/png": "[encoded data removed]",
      "text/plain": [
       "<Figure size 432x288 with 1 Axes>"
      ]
     },
     "metadata": {},
     "output_type": "display_data"
    }
   ],
   "source": [
    "iterations = 1000\n",
    "sales_growth_dist = np.random.normal(loc=0.1, scale=0.01, size=iterations)\n",
    "ebitda_margin_dist = np.random.normal(loc=0.14, scale=0.02, size=iterations)\n",
    "nwc_percent_dist = np.random.normal(loc=0.24, scale=0.01, size=iterations)\n",
    "plt.hist(sales_growth_dist, bins=20)\n",
    "plt.show()"
   ]
  },
  {
   "cell_type": "code",
   "execution_count": 8,
   "metadata": {},
   "outputs": [],
   "source": [
    "def run_mcs():\n",
    "    \n",
    "    # Create probability distributions\n",
    "    sales_growth_dist = np.random.normal(loc=0.1, scale=0.01, size=iterations)\n",
    "    ebitda_margin_dist = np.random.normal(loc=0.14, scale=0.02, size=iterations)\n",
    "    nwc_percent_dist = np.random.normal(loc=0.24, scale=0.01, size=iterations)\n",
    "    \n",
    "    # Calculate DCF value for each set of random inputs\n",
    "    output_distribution = []\n",
    "    for i in range(iterations):\n",
    "        for year in range(1, 6):\n",
    "            sales[year] = sales[year - 1] * (1 + sales_growth_dist[0])\n",
    "        ebitda = sales * ebitda_margin_dist[i]\n",
    "        depreciation = (sales * depr_percent)\n",
    "        ebit = ebitda - depreciation\n",
    "        nwc = sales * nwc_percent_dist[i]\n",
    "        change_in_nwc = nwc.shift(1) - nwc \n",
    "        capex = -(sales * capex_percent)\n",
    "        tax_payment = -ebit * tax_rate\n",
    "        tax_payment = tax_payment.apply(lambda x: min(x, 0))\n",
    "        free_cash_flow = ebit + depreciation + tax_payment + capex + change_in_nwc\n",
    "        \n",
    "        # DCF valuation\n",
    "        terminal_value = (free_cash_flow[-1] * 1.02) / (cost_of_capital - 0.02)\n",
    "        free_cash_flow[-1] += terminal_value\n",
    "        discount_factors = [(1 / (1 + cost_of_capital)) ** i for i in range (1,6)]\n",
    "        dcf_value = sum(free_cash_flow[1:] * discount_factors )\n",
    "        output_distribution.append(dcf_value)\n",
    "    \n",
    "    return output_distribution"
   ]
  },
  {
   "cell_type": "code",
   "execution_count": 9,
   "metadata": {},
   "outputs": [
    {
     "name": "stdout",
     "output_type": "stream",
     "text": [
      "Wall time: 1.65 s\n"
     ]
    },
    {
     "data": {
      "image/png": "[encoded data removed]",
      "text/plain": [
       "<Figure size 432x288 with 1 Axes>"
      ]
     },
     "metadata": {},
     "output_type": "display_data"
    }
   ],
   "source": [
    "%time plt.hist(run_mcs(), bins=20, color='r')\n",
    "plt.show()"
   ]
  },
  {
   "cell_type": "code",
   "execution_count": 17,
   "metadata": {
    "ExecuteTime": {
     "end_time": "2020-09-18T13:52:58.655531Z",
     "start_time": "2020-09-18T13:52:58.623618Z"
    }
   },
   "outputs": [],
   "source": [
    "# Key inputs from DCF model\n",
    "years = 5\n",
    "starting_sales = 31.0\n",
    "capex_percent = depr_percent = 0.032\n",
    "sales_growth = 0.1\n",
    "ebitda_margin = 0.14\n",
    "nwc_percent = 0.24\n",
    "tax_rate = 0.25\n",
    "# DCF assumptions\n",
    "r = 0.12\n",
    "g = 0.02\n",
    "# For MCS model\n",
    "iterations = 1000\n",
    "sales_std_dev = 0.01\n",
    "ebitda_std_dev = 0.02\n",
    "nwc_std_dev = 0.01"
   ]
  },
  {
   "cell_type": "code",
   "execution_count": 19,
   "metadata": {
    "ExecuteTime": {
     "end_time": "2020-09-18T13:53:46.377077Z",
     "start_time": "2020-09-18T13:53:46.282327Z"
    }
   },
   "outputs": [
    {
     "data": {
      "text/plain": [
       "array([[0.10358899, 0.10182374, 0.11289222, ..., 0.08415678, 0.10154128,\n",
       "        0.10130296],\n",
       "       [0.11041246, 0.10486604, 0.10028479, ..., 0.0983448 , 0.09458828,\n",
       "        0.10553426],\n",
       "       [0.11031339, 0.1023964 , 0.09608681, ..., 0.09530558, 0.10108603,\n",
       "        0.0956256 ],\n",
       "       [0.10931637, 0.08266877, 0.11028023, ..., 0.09525077, 0.1028994 ,\n",
       "        0.08598642],\n",
       "       [0.09204557, 0.09630116, 0.0933597 , ..., 0.1116319 , 0.09168009,\n",
       "        0.10594126]])"
      ]
     },
     "execution_count": 19,
     "metadata": {},
     "output_type": "execute_result"
    }
   ],
   "source": [
    "sales_growth_dist = np.random.normal(loc=sales_growth, \n",
    "                                     scale=sales_std_dev, \n",
    "                                     size=(years, iterations))\n",
    "sales_growth_dist "
   ]
  },
  {
   "cell_type": "code",
   "execution_count": 20,
   "metadata": {
    "ExecuteTime": {
     "end_time": "2020-09-18T13:55:00.628718Z",
     "start_time": "2020-09-18T13:55:00.623731Z"
    }
   },
   "outputs": [
    {
     "data": {
      "text/plain": [
       "array([[1.10358899, 1.10182374, 1.11289222, ..., 1.08415678, 1.10154128,\n",
       "        1.10130296],\n",
       "       [1.11041246, 1.10486604, 1.10028479, ..., 1.0983448 , 1.09458828,\n",
       "        1.10553426],\n",
       "       [1.11031339, 1.1023964 , 1.09608681, ..., 1.09530558, 1.10108603,\n",
       "        1.0956256 ],\n",
       "       [1.10931637, 1.08266877, 1.11028023, ..., 1.09525077, 1.1028994 ,\n",
       "        1.08598642],\n",
       "       [1.09204557, 1.09630116, 1.0933597 , ..., 1.1116319 , 1.09168009,\n",
       "        1.10594126]])"
      ]
     },
     "execution_count": 20,
     "metadata": {},
     "output_type": "execute_result"
    }
   ],
   "source": [
    "sales_growth_dist += 1 \n",
    "sales_growth_dist "
   ]
  },
  {
   "cell_type": "code",
   "execution_count": 23,
   "metadata": {
    "ExecuteTime": {
     "end_time": "2020-09-18T13:55:41.872083Z",
     "start_time": "2020-09-18T13:55:41.857089Z"
    }
   },
   "outputs": [
    {
     "data": {
      "text/plain": [
       "array([1.11041246, 1.10486604, 1.10028479, 1.0855728 , 1.10262359,\n",
       "       1.11931191, 1.09213087, 1.11088557, 1.0904122 , 1.09486412,\n",
       "       1.08616781, 1.09998409, 1.0996251 , 1.09339995, 1.08006413,\n",
       "       1.10234731, 1.10647975, 1.09127831, 1.08805832, 1.09961788,\n",
       "       1.10712525, 1.10899479, 1.08693411, 1.09268845, 1.09528637,\n",
       "       1.10749918, 1.09683319, 1.11074257, 1.09731105, 1.08936975,\n",
       "       1.11106217, 1.08754246, 1.09598283, 1.11904896, 1.09794028,\n",
       "       1.10331223, 1.08579026, 1.08339123, 1.10001137, 1.10096628,\n",
       "       1.08634745, 1.08959383, 1.08824841, 1.09340349, 1.09616996,\n",
       "       1.10841224, 1.1089018 , 1.09932833, 1.1131544 , 1.09111326,\n",
       "       1.09194066, 1.09689851, 1.11220035, 1.11137684, 1.10696979,\n",
       "       1.10688546, 1.09533977, 1.11066198, 1.11422735, 1.10991961,\n",
       "       1.08308759, 1.11628679, 1.1027943 , 1.08928239, 1.09691325,\n",
       "       1.10267336, 1.09919995, 1.08933484, 1.09866401, 1.09412444,\n",
       "       1.10100104, 1.10849085, 1.10709803, 1.09062613, 1.08824328,\n",
       "       1.11986958, 1.1059434 , 1.10722891, 1.10460396, 1.09334525,\n",
       "       1.08894161, 1.08338591, 1.10404875, 1.09645672, 1.0777982 ,\n",
       "       1.11111629, 1.09755568, 1.09637177, 1.10064969, 1.09938657,\n",
       "       1.09707656, 1.11859163, 1.09769102, 1.12141297, 1.09197657,\n",
       "       1.10083858, 1.09159608, 1.09397231, 1.0853721 , 1.09431959,\n",
       "       1.11052427, 1.08444187, 1.09663735, 1.10242664, 1.12012835,\n",
       "       1.08729206, 1.10685715, 1.10334043, 1.09458674, 1.09332725,\n",
       "       1.08219049, 1.10437279, 1.07548016, 1.10594525, 1.09975808,\n",
       "       1.10065763, 1.11979174, 1.10156698, 1.10004261, 1.11498483,\n",
       "       1.08995837, 1.11631219, 1.08670392, 1.10718278, 1.10506429,\n",
       "       1.11475269, 1.09742267, 1.08921389, 1.10634388, 1.09166301,\n",
       "       1.11562897, 1.10255401, 1.10667791, 1.08904652, 1.08978593,\n",
       "       1.10884214, 1.10460112, 1.09354098, 1.11931901, 1.10304858,\n",
       "       1.09898741, 1.0881223 , 1.08748459, 1.09985087, 1.09364032,\n",
       "       1.10314174, 1.09439412, 1.10645915, 1.09408439, 1.11505835,\n",
       "       1.10385093, 1.10147901, 1.10721912, 1.09934576, 1.09639989,\n",
       "       1.08981145, 1.10886434, 1.09596536, 1.08676282, 1.09146539,\n",
       "       1.09815331, 1.08397746, 1.08883832, 1.10127827, 1.09752765,\n",
       "       1.08069789, 1.10018662, 1.10693194, 1.09065825, 1.10936919,\n",
       "       1.10588734, 1.12324206, 1.10026824, 1.10790427, 1.10111284,\n",
       "       1.11459327, 1.10487283, 1.09437795, 1.09594663, 1.08839034,\n",
       "       1.09540602, 1.09901465, 1.09440048, 1.10235945, 1.10592938,\n",
       "       1.09541674, 1.10331278, 1.09723558, 1.08739538, 1.09158544,\n",
       "       1.09288937, 1.0994684 , 1.11644355, 1.1049164 , 1.09511135,\n",
       "       1.08613022, 1.11464597, 1.09555397, 1.08678827, 1.10655849,\n",
       "       1.11229447, 1.10337058, 1.10752514, 1.09832228, 1.10081606,\n",
       "       1.1031607 , 1.10231345, 1.07275416, 1.11098764, 1.10198828,\n",
       "       1.08944025, 1.05867317, 1.09755994, 1.10796158, 1.11452541,\n",
       "       1.1035398 , 1.09913181, 1.09539576, 1.10646203, 1.1132821 ,\n",
       "       1.08626342, 1.11185412, 1.12057108, 1.07527675, 1.09422374,\n",
       "       1.09193889, 1.10255903, 1.09656708, 1.09246058, 1.09581375,\n",
       "       1.10464187, 1.09388687, 1.09034939, 1.09318061, 1.09823502,\n",
       "       1.09101393, 1.09246635, 1.10962954, 1.11199419, 1.08349578,\n",
       "       1.08684833, 1.08514396, 1.11076817, 1.08213082, 1.11093636,\n",
       "       1.07622285, 1.0887056 , 1.1194789 , 1.0800768 , 1.081624  ,\n",
       "       1.09546612, 1.10885551, 1.09838818, 1.09348144, 1.10577037,\n",
       "       1.10073166, 1.11055738, 1.09486757, 1.09018623, 1.11858883,\n",
       "       1.11058406, 1.10045325, 1.09291162, 1.0926077 , 1.10427664,\n",
       "       1.10468698, 1.09873308, 1.10955233, 1.11429581, 1.10405873,\n",
       "       1.10594163, 1.0997454 , 1.10267138, 1.1021398 , 1.07994977,\n",
       "       1.09529568, 1.09528328, 1.08597337, 1.10186996, 1.11483906,\n",
       "       1.10028753, 1.09932815, 1.1057234 , 1.09777661, 1.09647453,\n",
       "       1.09709605, 1.10997204, 1.09187582, 1.1025206 , 1.09998928,\n",
       "       1.10356089, 1.09161023, 1.10028883, 1.09624935, 1.0950749 ,\n",
       "       1.08677052, 1.08899703, 1.1091802 , 1.0901606 , 1.10616929,\n",
       "       1.10213378, 1.09638632, 1.09451201, 1.09643587, 1.1023426 ,\n",
       "       1.11747815, 1.09442566, 1.09784153, 1.09700834, 1.10740546,\n",
       "       1.10479682, 1.07524655, 1.0953474 , 1.08433684, 1.10040924,\n",
       "       1.1081459 , 1.09865857, 1.0877514 , 1.11758596, 1.09758478,\n",
       "       1.10654585, 1.0914    , 1.11508381, 1.09164736, 1.1075791 ,\n",
       "       1.10088803, 1.09220458, 1.09446963, 1.08783089, 1.1244695 ,\n",
       "       1.11248258, 1.10059891, 1.09980476, 1.09551843, 1.10870921,\n",
       "       1.10534678, 1.10265034, 1.09911412, 1.09514845, 1.08117346,\n",
       "       1.10698994, 1.10244809, 1.10482077, 1.11159999, 1.08330232,\n",
       "       1.10997333, 1.09848736, 1.10303711, 1.07651035, 1.09414644,\n",
       "       1.10950691, 1.11563524, 1.09657958, 1.10841188, 1.09517863,\n",
       "       1.06969468, 1.09796839, 1.09519045, 1.07904524, 1.10214155,\n",
       "       1.09524682, 1.09732934, 1.10224341, 1.0927922 , 1.10366494,\n",
       "       1.10809848, 1.0987153 , 1.1107346 , 1.10866756, 1.09394629,\n",
       "       1.0935036 , 1.1173523 , 1.11347337, 1.08912879, 1.09266412,\n",
       "       1.09814569, 1.08156339, 1.09821248, 1.115866  , 1.09210066,\n",
       "       1.10179082, 1.10013773, 1.09503555, 1.09442618, 1.09640352,\n",
       "       1.12551633, 1.10649905, 1.10475052, 1.07619855, 1.10053791,\n",
       "       1.10579888, 1.10342226, 1.09511972, 1.10205741, 1.09960201,\n",
       "       1.09095544, 1.11606167, 1.1085604 , 1.08836051, 1.097921  ,\n",
       "       1.09301958, 1.11312027, 1.09301923, 1.09514336, 1.09875332,\n",
       "       1.09238229, 1.10349156, 1.088314  , 1.10836657, 1.10845553,\n",
       "       1.09917803, 1.10747919, 1.102257  , 1.10531512, 1.09944575,\n",
       "       1.10429236, 1.10175843, 1.09777225, 1.08161218, 1.1051097 ,\n",
       "       1.10354658, 1.10021617, 1.10457644, 1.11193563, 1.10776447,\n",
       "       1.09862265, 1.10835125, 1.09804939, 1.11439057, 1.08750534,\n",
       "       1.10576678, 1.10752769, 1.08878625, 1.10885131, 1.09881801,\n",
       "       1.09484271, 1.09621064, 1.10191062, 1.11142405, 1.10908623,\n",
       "       1.0987843 , 1.10229542, 1.10131795, 1.09054968, 1.10390022,\n",
       "       1.08988902, 1.09757097, 1.08686116, 1.1141131 , 1.09995929,\n",
       "       1.0950906 , 1.11201671, 1.10230148, 1.11401708, 1.09267914,\n",
       "       1.11050245, 1.09709897, 1.10335947, 1.09652202, 1.09844359,\n",
       "       1.0935928 , 1.07099171, 1.08652985, 1.09447239, 1.09944527,\n",
       "       1.1196198 , 1.09781306, 1.0852984 , 1.08670422, 1.10451301,\n",
       "       1.10824165, 1.11485494, 1.09748746, 1.10442265, 1.10033311,\n",
       "       1.10058707, 1.11188759, 1.09377457, 1.0838865 , 1.11296349,\n",
       "       1.10453079, 1.11887273, 1.08512871, 1.09913005, 1.10000394,\n",
       "       1.11472366, 1.11074324, 1.08850048, 1.10580773, 1.1101839 ,\n",
       "       1.08985961, 1.08562488, 1.10402396, 1.09621779, 1.11184906,\n",
       "       1.07965757, 1.11348179, 1.0771168 , 1.09603197, 1.1065832 ,\n",
       "       1.11247975, 1.11642483, 1.08711067, 1.09390479, 1.08791521,\n",
       "       1.08658742, 1.1223495 , 1.11157289, 1.09498331, 1.09260803,\n",
       "       1.11123838, 1.09501933, 1.08887043, 1.10878267, 1.11998903,\n",
       "       1.10597435, 1.11363859, 1.08430793, 1.1022493 , 1.09066831,\n",
       "       1.09996518, 1.09685733, 1.07637917, 1.11050323, 1.10008794,\n",
       "       1.08914859, 1.11070023, 1.10413397, 1.10864294, 1.07082193,\n",
       "       1.09722063, 1.11154919, 1.11973264, 1.09810841, 1.0825897 ,\n",
       "       1.10093495, 1.09132741, 1.07359644, 1.09849707, 1.1093948 ,\n",
       "       1.0826157 , 1.10058323, 1.09431829, 1.08663375, 1.11244014,\n",
       "       1.09519832, 1.09769315, 1.09734884, 1.10808235, 1.10604016,\n",
       "       1.10161305, 1.1048631 , 1.10119098, 1.09384009, 1.10895598,\n",
       "       1.09541234, 1.1041204 , 1.09911001, 1.09933834, 1.09340927,\n",
       "       1.09232073, 1.09442968, 1.09520278, 1.09656028, 1.10181091,\n",
       "       1.09452881, 1.0971407 , 1.08493532, 1.09249917, 1.10655856,\n",
       "       1.11227337, 1.08600693, 1.11771471, 1.09917241, 1.10191419,\n",
       "       1.09599284, 1.09210478, 1.09539711, 1.09229602, 1.09483864,\n",
       "       1.08694448, 1.10395194, 1.08466743, 1.09553438, 1.09709804,\n",
       "       1.1080469 , 1.11609633, 1.1052782 , 1.11306489, 1.10466989,\n",
       "       1.10079767, 1.09859651, 1.11818612, 1.10667636, 1.10791671,\n",
       "       1.09371395, 1.08426962, 1.09721842, 1.09446205, 1.1026037 ,\n",
       "       1.08804531, 1.10041951, 1.09059884, 1.10441323, 1.09339338,\n",
       "       1.08065008, 1.10819849, 1.11634739, 1.11116837, 1.11621983,\n",
       "       1.08539605, 1.10338623, 1.10748608, 1.10786936, 1.11610007,\n",
       "       1.1004049 , 1.09671789, 1.09625904, 1.09185177, 1.10009237,\n",
       "       1.10660442, 1.09696688, 1.10553101, 1.09550189, 1.09618719,\n",
       "       1.08856119, 1.10359568, 1.08863771, 1.11205034, 1.10555076,\n",
       "       1.10466978, 1.10093691, 1.09441675, 1.08856523, 1.09767627,\n",
       "       1.10225691, 1.11321208, 1.12022953, 1.11018846, 1.09727434,\n",
       "       1.11180426, 1.11183672, 1.09442885, 1.09556469, 1.10542203,\n",
       "       1.09549733, 1.09852322, 1.10917096, 1.10532684, 1.09112094,\n",
       "       1.11288982, 1.11012903, 1.10901086, 1.088738  , 1.09270724,\n",
       "       1.10734077, 1.08634416, 1.10964281, 1.10569909, 1.10083169,\n",
       "       1.11592988, 1.1025487 , 1.09236098, 1.10604017, 1.09565432,\n",
       "       1.11234118, 1.10707423, 1.09347503, 1.08494422, 1.09633469,\n",
       "       1.08383169, 1.08628166, 1.09895868, 1.09250782, 1.09463836,\n",
       "       1.08653501, 1.12181673, 1.10464734, 1.10301277, 1.09052185,\n",
       "       1.108765  , 1.11360835, 1.10603602, 1.08833951, 1.09837682,\n",
       "       1.10257839, 1.09884272, 1.09393249, 1.10238818, 1.10322443,\n",
       "       1.07862533, 1.09965419, 1.10307938, 1.0957099 , 1.11465221,\n",
       "       1.1034198 , 1.10241763, 1.08239417, 1.12134243, 1.11024315,\n",
       "       1.10267314, 1.09680157, 1.07982156, 1.0840989 , 1.10081889,\n",
       "       1.10306979, 1.0893052 , 1.11252951, 1.10930213, 1.11622814,\n",
       "       1.09727928, 1.11114387, 1.10617209, 1.11207432, 1.09864612,\n",
       "       1.10551069, 1.1001019 , 1.11007919, 1.11737658, 1.09713874,\n",
       "       1.1050701 , 1.08504858, 1.09597533, 1.10272469, 1.08670104,\n",
       "       1.10704203, 1.09878678, 1.09808413, 1.1021091 , 1.11052149,\n",
       "       1.09461527, 1.08988051, 1.08249877, 1.13245163, 1.10811684,\n",
       "       1.08819374, 1.10623165, 1.09921818, 1.09207527, 1.07817481,\n",
       "       1.11569003, 1.09296968, 1.1035481 , 1.10731663, 1.10708945,\n",
       "       1.10669073, 1.09644888, 1.1156485 , 1.09875074, 1.07990229,\n",
       "       1.10584968, 1.0978037 , 1.08341524, 1.10815528, 1.09124716,\n",
       "       1.09793793, 1.10472339, 1.0761661 , 1.11729052, 1.10830017,\n",
       "       1.11126544, 1.10417373, 1.09604877, 1.09498497, 1.08700109,\n",
       "       1.09242043, 1.1094402 , 1.08338324, 1.11398924, 1.08617511,\n",
       "       1.10371421, 1.10813507, 1.1020317 , 1.07805249, 1.10353879,\n",
       "       1.10650204, 1.12202952, 1.10551231, 1.10106449, 1.10604469,\n",
       "       1.11486231, 1.08930643, 1.11621832, 1.09066168, 1.11198192,\n",
       "       1.09327316, 1.09915523, 1.10649111, 1.10073486, 1.0983889 ,\n",
       "       1.11729381, 1.1007525 , 1.10956267, 1.08393783, 1.09902187,\n",
       "       1.09230805, 1.09003143, 1.10656975, 1.09643481, 1.11945179,\n",
       "       1.08162775, 1.11035211, 1.10819976, 1.11391825, 1.10655326,\n",
       "       1.09265774, 1.08938462, 1.09696478, 1.1206433 , 1.09996223,\n",
       "       1.09575303, 1.11261223, 1.13215248, 1.10807278, 1.1046525 ,\n",
       "       1.10892788, 1.09439216, 1.11720558, 1.09971995, 1.12000761,\n",
       "       1.09465652, 1.09945265, 1.09645759, 1.11209751, 1.08650946,\n",
       "       1.09686583, 1.09827575, 1.10063357, 1.09830881, 1.10602229,\n",
       "       1.08842726, 1.09591677, 1.10024593, 1.11750257, 1.09281774,\n",
       "       1.09563574, 1.10552136, 1.1068934 , 1.09392659, 1.11434231,\n",
       "       1.10510639, 1.1008735 , 1.11064786, 1.10791185, 1.09735598,\n",
       "       1.09183821, 1.12919577, 1.10447825, 1.11075328, 1.08228821,\n",
       "       1.09961279, 1.09718083, 1.09639283, 1.08164016, 1.10806952,\n",
       "       1.10043243, 1.10164411, 1.10049416, 1.08602766, 1.08962513,\n",
       "       1.09160847, 1.10196622, 1.11294714, 1.11357219, 1.09890702,\n",
       "       1.08772784, 1.10905286, 1.11974964, 1.09089403, 1.10776454,\n",
       "       1.11216603, 1.09045804, 1.07984987, 1.1006338 , 1.10932674,\n",
       "       1.10600422, 1.10370842, 1.12663489, 1.09842248, 1.09956481,\n",
       "       1.09723262, 1.08577304, 1.10324762, 1.10359002, 1.10884732,\n",
       "       1.08727008, 1.10399182, 1.09887842, 1.10878923, 1.08550314,\n",
       "       1.10848588, 1.11349681, 1.10553522, 1.09701119, 1.10037163,\n",
       "       1.10142925, 1.09618745, 1.10459275, 1.10864015, 1.0944159 ,\n",
       "       1.0932445 , 1.09458533, 1.10634858, 1.11262551, 1.09226012,\n",
       "       1.09949655, 1.09073327, 1.0963597 , 1.09275276, 1.08913453,\n",
       "       1.09765041, 1.0867647 , 1.11738487, 1.09419413, 1.10198418,\n",
       "       1.09559456, 1.09569473, 1.11268028, 1.09396508, 1.10139726,\n",
       "       1.1099829 , 1.11378308, 1.10312032, 1.0860574 , 1.09684416,\n",
       "       1.11844021, 1.08426091, 1.10637398, 1.10133644, 1.09887201,\n",
       "       1.09323632, 1.08763354, 1.10298446, 1.09896775, 1.07742211,\n",
       "       1.09273936, 1.07078216, 1.11645803, 1.10597862, 1.09342978,\n",
       "       1.10296424, 1.10414835, 1.11025893, 1.09705933, 1.08555824,\n",
       "       1.10248272, 1.09702249, 1.10778656, 1.10779328, 1.10716749,\n",
       "       1.11916741, 1.09974491, 1.09906757, 1.08394261, 1.07914912,\n",
       "       1.11517006, 1.09791335, 1.10770509, 1.10666709, 1.09162497,\n",
       "       1.12101822, 1.09584369, 1.09559322, 1.09033527, 1.09518657,\n",
       "       1.10998963, 1.10241033, 1.0974619 , 1.10095314, 1.095676  ,\n",
       "       1.10473964, 1.09537739, 1.12650005, 1.09352681, 1.10567158,\n",
       "       1.10676995, 1.08373094, 1.0925536 , 1.08928254, 1.11040025,\n",
       "       1.08805358, 1.10310907, 1.10567909, 1.10213107, 1.10200215,\n",
       "       1.1095853 , 1.09381088, 1.08843642, 1.10547876, 1.10717127,\n",
       "       1.12509231, 1.08994888, 1.09737981, 1.09541394, 1.09495531,\n",
       "       1.11726734, 1.11304697, 1.0983448 , 1.09458828, 1.10553426])"
      ]
     },
     "execution_count": 23,
     "metadata": {},
     "output_type": "execute_result"
    }
   ],
   "source": [
    "sales_growth_dist[1] "
   ]
  },
  {
   "cell_type": "code",
   "execution_count": 21,
   "metadata": {
    "ExecuteTime": {
     "end_time": "2020-09-18T13:55:00.700501Z",
     "start_time": "2020-09-18T13:55:00.687536Z"
    }
   },
   "outputs": [],
   "source": [
    "def run_mcs():\n",
    "    \n",
    "    # Generate probability distributions\n",
    "    sales_growth_dist = np.random.normal(loc=sales_growth, \n",
    "                                         scale=sales_std_dev, \n",
    "                                         size=(years, iterations))\n",
    "    ebitda_margin_dist = np.random.normal(loc=ebitda_margin, \n",
    "                                          scale=ebitda_std_dev, \n",
    "                                          size=(years, iterations))\n",
    "    nwc_percent_dist = np.random.normal(loc=nwc_percent, \n",
    "                                        scale=nwc_std_dev, \n",
    "                                        size=(years, iterations))\n",
    "    \n",
    "    # Calculate free cash flow\n",
    "    sales_growth_dist += 1\n",
    "    for i in range(1, len(sales_growth_dist)):\n",
    "        sales_growth_dist[i] *= sales_growth_dist[i-1]\n",
    "    sales = sales_growth_dist * starting_sales\n",
    "    ebitda = sales * ebitda_margin_dist\n",
    "    ebit = ebitda - (sales * depr_percent)\n",
    "    tax = -(ebit * tax_rate)\n",
    "    np.clip(tax, a_min=None, a_max=0)\n",
    "    nwc = nwc_percent_dist * sales\n",
    "    starting_nwc = starting_sales * nwc_percent\n",
    "    prev_year_nwc = np.roll(nwc, 1, axis=0)\n",
    "    prev_year_nwc[0] = starting_nwc\n",
    "    delta_nwc = prev_year_nwc - nwc\n",
    "    capex = -(sales * capex_percent)\n",
    "    free_cash_flow = ebitda + tax + delta_nwc + capex\n",
    "    # Discount cash flows to get DCF value\n",
    "    terminal_value = free_cash_flow[-1] * (1 + g) / (r - g)\n",
    "    discount_rates = [(1 / (1 + r)) ** i for i in range (1,6)]\n",
    "    dcf_value = sum((free_cash_flow.T * discount_rates).T) \n",
    "    dcf_value += terminal_value * discount_rates[-1]\n",
    "    return dcf_value"
   ]
  },
  {
   "cell_type": "code",
   "execution_count": 12,
   "metadata": {},
   "outputs": [
    {
     "name": "stdout",
     "output_type": "stream",
     "text": [
      "Wall time: 36 ms\n"
     ]
    },
    {
     "data": {
      "image/png": "[encoded data removed]",
      "text/plain": [
       "<Figure size 432x288 with 1 Axes>"
      ]
     },
     "metadata": {},
     "output_type": "display_data"
    }
   ],
   "source": [
    "%time plt.hist(run_mcs(), bins=20, density=True, color=\"r\")\n",
    "plt.show()"
   ]
  },
  {
   "cell_type": "code",
   "execution_count": null,
   "metadata": {},
   "outputs": [],
   "source": [
    "def run_mcs():\n",
    "    \n",
    "    # Generate probability distributions\n",
    "    sales_growth_dist = np.random.normal(loc=sales_growth, \n",
    "                                         scale=sales_std_dev, \n",
    "                                         size=(years, iterations))\n",
    "    ebitda_margin_dist = np.random.normal(loc=ebitda_margin, \n",
    "                                          scale=ebitda_std_dev, \n",
    "                                          size=(years, iterations))\n",
    "    nwc_percent_dist = np.random.normal(loc=nwc_percent, \n",
    "                                        scale=nwc_std_dev, \n",
    "                                        size=(years, iterations))\n",
    "    \n",
    "    # Calculate free cash flow\n",
    "    sales_growth_dist += 1\n",
    "    for i in range(1, len(sales_growth_dist)):\n",
    "        sales_growth_dist[i] *= sales_growth_dist[i-1]\n",
    "    sales = sales_growth_dist * starting_sales\n",
    "    ebitda = sales * ebitda_margin_dist\n",
    "    ebit = ebitda - (sales * depr_percent)\n",
    "    tax = -(ebit * tax_rate)\n",
    "    np.clip(tax, a_min=None, a_max=0)\n",
    "    nwc = nwc_percent_dist * sales\n",
    "    starting_nwc = starting_sales * nwc_percent\n",
    "    prev_year_nwc = np.roll(nwc, 1, axis=0)\n",
    "    prev_year_nwc[0] = starting_nwc\n",
    "    delta_nwc = prev_year_nwc - nwc\n",
    "    capex = -(sales * capex_percent)\n",
    "    free_cash_flow = ebitda + tax + delta_nwc + capex\n",
    "    # Discount cash flows to get DCF value\n",
    "    terminal_value = free_cash_flow[-1] * (1 + g) / (r - g)\n",
    "    discount_rates = [(1 / (1 + r)) ** i for i in range (1,6)]\n",
    "    dcf_value = sum((free_cash_flow.T * discount_rates).T) \n",
    "    dcf_value += terminal_value * discount_rates[-1]\n",
    "    return dcf_value"
   ]
  },
  {
   "cell_type": "code",
   "execution_count": 27,
   "metadata": {
    "ExecuteTime": {
     "end_time": "2020-09-18T14:05:08.534896Z",
     "start_time": "2020-09-18T14:05:08.518937Z"
    }
   },
   "outputs": [],
   "source": [
    "from argparse import Namespace\n",
    "# All you need to do is 3 steps:\n",
    "# step 1: just modify the parameters(args)\n",
    "# step 2: and then Instantiate the class DCFModel and pass the args like this: obj = DCFModel(args)\n",
    "# step 3: call obj.predict()\n",
    "args = Namespace(\n",
    "    years=5,\n",
    "    starting_sales=31.0,\n",
    "    capex_percent=0.032,\n",
    "    depr_percent=0.032,\n",
    "    sales_growth = 0.1,\n",
    "    ebitda_margin = 0.14,\n",
    "    nwc_percent = 0.24,\n",
    "    tax_rate = 0.25,\n",
    "    # DCF assumptions\n",
    "    r = 0.12,\n",
    "    g = 0.02,\n",
    "    # For MCS model\n",
    "    iterations = 1,\n",
    "    sales_std_dev = 0.01,\n",
    "    ebitda_std_dev = 0.02,\n",
    "    nwc_std_dev = 0.01\n",
    ")\n",
    "class DCFModel(object):\n",
    "    def __init__(self,args):\n",
    "        self.args = args \n",
    "    def predict(self):\n",
    "\n",
    "        # Generate samples\n",
    "        sales_growth_dist = np.random.normal(loc=self.args.sales_growth, \n",
    "                                             scale=self.args.sales_std_dev, \n",
    "                                             size=(self.args.years, self.args.iterations))\n",
    "        ebitda_margin_dist = np.random.normal(loc=self.args.ebitda_margin, \n",
    "                                              scale=self.args.ebitda_std_dev, \n",
    "                                              size=(self.args.years, self.args.iterations))\n",
    "        nwc_percent_dist = np.random.normal(loc=self.args.nwc_percent, \n",
    "                                            scale=self.args.nwc_std_dev, \n",
    "                                            size=(self.args.years, self.args.iterations))\n",
    "\n",
    "        # Calculate free cash flow\n",
    "        sales_growth_dist += 1\n",
    "        for i in range(1, len(sales_growth_dist)):\n",
    "            sales_growth_dist[i] *= sales_growth_dist[i-1]\n",
    "        sales = sales_growth_dist * self.args.starting_sales\n",
    "        ebitda = sales * ebitda_margin_dist\n",
    "        ebit = ebitda - (sales * self.args.depr_percent)\n",
    "        tax = -(ebit * self.args.tax_rate)\n",
    "        np.clip(tax, a_min=None, a_max=0)\n",
    "        nwc = nwc_percent_dist * sales\n",
    "        starting_nwc = self.args.starting_sales * self.args.nwc_percent\n",
    "        prev_year_nwc = np.roll(nwc, 1, axis=0)\n",
    "        prev_year_nwc[0] = starting_nwc\n",
    "        delta_nwc = prev_year_nwc - nwc\n",
    "        capex = -(sales * self.args.capex_percent)\n",
    "        free_cash_flow = ebitda + tax + delta_nwc + capex\n",
    "        \n",
    "        # Discount cash flows to get DCF value\n",
    "        terminal_value = free_cash_flow[-1] * (1 + self.args.g) / (self.args.r - self.args.g)\n",
    "        discount_rates = [(1 / (1 + self.args.r)) ** i for i in range (1,6)]\n",
    "        dcf_value = sum((free_cash_flow.T * discount_rates).T) \n",
    "        dcf_value += terminal_value * discount_rates[-1]\n",
    "        return dcf_value\n",
    "    \n",
    "obj = DCFModel(args)\n",
    "obj.predict()"
   ]
  },
  {
   "cell_type": "code",
   "execution_count": 31,
   "metadata": {
    "ExecuteTime": {
     "end_time": "2020-09-18T14:06:35.909075Z",
     "start_time": "2020-09-18T14:06:35.902093Z"
    }
   },
   "outputs": [
    {
     "data": {
      "text/plain": [
       "array([16.55239732])"
      ]
     },
     "execution_count": 31,
     "metadata": {},
     "output_type": "execute_result"
    }
   ],
   "source": [
    "obj = DCFModel(args)\n",
    "obj.predict()"
   ]
  }
 ],
 "metadata": {
  "hide_input": false,
  "kernelspec": {
   "display_name": "Python 3",
   "language": "python",
   "name": "python3"
  },
  "language_info": {
   "codemirror_mode": {
    "name": "ipython",
    "version": 3
   },
   "file_extension": ".py",
   "mimetype": "text/x-python",
   "name": "python",
   "nbconvert_exporter": "python",
   "pygments_lexer": "ipython3",
   "version": "3.6.10"
  },
  "toc": {
   "base_numbering": 1,
   "nav_menu": {},
   "number_sections": true,
   "sideBar": true,
   "skip_h1_title": false,
   "title_cell": "Table of Contents",
   "title_sidebar": "Contents",
   "toc_cell": false,
   "toc_position": {},
   "toc_section_display": true,
   "toc_window_display": false
  },
  "varInspector": {
   "cols": {
    "lenName": 16,
    "lenType": 16,
    "lenVar": 40
   },
   "kernels_config": {
    "python": {
     "delete_cmd_postfix": "",
     "delete_cmd_prefix": "del ",
     "library": "var_list.py",
     "varRefreshCmd": "print(var_dic_list())"
    },
    "r": {
     "delete_cmd_postfix": ") ",
     "delete_cmd_prefix": "rm(",
     "library": "var_list.r",
     "varRefreshCmd": "cat(var_dic_list()) "
    }
   },
   "types_to_exclude": [
    "module",
    "function",
    "builtin_function_or_method",
    "instance",
    "_Feature"
   ],
   "window_display": false
  }
 },
 "nbformat": 4,
 "nbformat_minor": 2
}
