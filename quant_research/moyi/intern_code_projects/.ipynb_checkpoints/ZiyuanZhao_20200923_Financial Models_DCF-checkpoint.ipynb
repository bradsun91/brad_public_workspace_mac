{
 "cells": [
  {
   "cell_type": "code",
   "execution_count": 194,
   "metadata": {},
   "outputs": [],
   "source": [
    "import tushare as ts\n",
    "from datetime import date\n",
    "from datetime import timedelta \n",
    "import numpy as np\n",
    "import pandas as pd\n",
    "from scipy import stats\n",
    "import numpy_financial as npf\n",
    "import pandas_datareader.data as web"
   ]
  },
  {
   "cell_type": "code",
   "execution_count": 195,
   "metadata": {},
   "outputs": [],
   "source": [
    "pro = ts.pro_api('41cbc98ddd6c55a141cf281d0636c4ef25c13ff69e38bc400f3f4ebd')"
   ]
  },
  {
   "cell_type": "raw",
   "metadata": {},
   "source": [
    "1. DCF Model"
   ]
  },
  {
   "cell_type": "code",
   "execution_count": 67,
   "metadata": {},
   "outputs": [],
   "source": [
    "company = '600519.SH' # Kweichow Moutai Co Ltd (replaceable)\n",
    "start_date = '20181231' # (replaceable)\n",
    "end_date = '20191231' # (replaceable)"
   ]
  },
  {
   "cell_type": "markdown",
   "metadata": {},
   "source": [
    "Estimate Future Revenue Growth:"
   ]
  },
  {
   "cell_type": "code",
   "execution_count": 196,
   "metadata": {},
   "outputs": [
    {
     "name": "stdout",
     "output_type": "stream",
     "text": [
      "0.16011517690127722\n"
     ]
    }
   ],
   "source": [
    "revenue_1 = pro.income(ts_code=company, period=end_date, fields='revenue')['revenue'][0]\n",
    "revenue_2 = pro.income(ts_code=company, period=start_date, fields='revenue')['revenue'][0]\n",
    "revenue_g = (revenue_1 - revenue_2) /revenue_2\n",
    "print(revenue_g)"
   ]
  },
  {
   "cell_type": "markdown",
   "metadata": {},
   "source": [
    "Estimate Future FCFF:"
   ]
  },
  {
   "cell_type": "code",
   "execution_count": 100,
   "metadata": {},
   "outputs": [
    {
     "name": "stdout",
     "output_type": "stream",
     "text": [
      "0    48922953432\n",
      "1    56756260775\n",
      "2    65843799509\n",
      "3    76386391115\n",
      "4    88617011641\n",
      "dtype: int64\n"
     ]
    }
   ],
   "source": [
    "# FCFF = Operating Cash Flow - Capital Expenditure + Interest Expense * (1 - tax)\n",
    "oper_cashflow = pro.cashflow(ts_code=company, period=end_date, fields='n_cashflow_act')['n_cashflow_act'][0]\n",
    "cap_ex =pro.cashflow(ts_code=company, period=end_date, fields='c_pay_acq_const_fiolta')['c_pay_acq_const_fiolta'][0]\n",
    "int_ex = pro.income(ts_code=company, period=end_date, fields='int_exp')['int_exp'][0]\n",
    "gross_pro = pro.income(ts_code=company, period=end_date, fields='total_profit')['total_profit'][0]\n",
    "net_pro = pro.income(ts_code=company, period=end_date, fields='n_income')['n_income'][0]\n",
    "taxt_rate = net_pro / gross_pro\n",
    "fcff = oper_cashflow - cap_ex + int_ex * taxt_rate\n",
    "# Future FCFF = Current FCFF * Revenue Growth (Can be estimated in more SPECIFIC way)\n",
    "future_fcff = pd.Series(0, index = [0, 1, 2, 3, 4])\n",
    "future_fcff[0] = fcff * (1 + revenue_g)\n",
    "for i in range(1, 5):\n",
    "    future_fcff[i] = future_fcff[i - 1] * (1 + revenue_g)\n",
    "print(future_fcff)"
   ]
  },
  {
   "cell_type": "markdown",
   "metadata": {},
   "source": [
    "Calculate Cost of Debt"
   ]
  },
  {
   "cell_type": "code",
   "execution_count": 197,
   "metadata": {},
   "outputs": [
    {
     "name": "stdout",
     "output_type": "stream",
     "text": [
      "0.1363\n"
     ]
    }
   ],
   "source": [
    "ebit = pro.income(ts_code=company, period=end_date, fields='ebit')['ebit'][0]\n",
    "interest_expense = pro.income(ts_code=company, period=end_date, fields='int_exp')['int_exp'][0]\n",
    "interest_coverage_ratio = ebit / interest_expense\n",
    "\n",
    "yesterday = date.today()- timedelta(days = 60)\n",
    "today = date.today()\n",
    "start = yesterday.strftime('%Y-%m-%d')\n",
    "end = today.strftime('%Y-%m-%d')\n",
    "Treasury = web.DataReader(['TB1YR'], 'fred', start, end)\n",
    "rf = float(Treasury.iloc[-1]) \n",
    "\n",
    "if interest_coverage_ratio > 8.5:\n",
    "    #Rating is AAA\n",
    "    credit_spread = 0.0063\n",
    "if (interest_coverage_ratio > 6.5) & (interest_coverage_ratio <= 8.5):\n",
    "    #Rating is AA\n",
    "    credit_spread = 0.0078\n",
    "if (interest_coverage_ratio > 5.5) & (interest_coverage_ratio <=  6.5):\n",
    "    #Rating is A+\n",
    "    credit_spread = 0.0098\n",
    "if (interest_coverage_ratio > 4.25) & (interest_coverage_ratio <=  5.49):\n",
    "    #Rating is A\n",
    "    credit_spread = 0.0108\n",
    "if (interest_coverage_ratio > 3) & (interest_coverage_ratio <=  4.25):\n",
    "    #Rating is A-\n",
    "    credit_spread = 0.0122\n",
    "if (interest_coverage_ratio > 2.5) & (interest_coverage_ratio <=  3):\n",
    "    #Rating is BBB\n",
    "    credit_spread = 0.0156\n",
    "if (interest_coverage_ratio > 2.25) & (interest_coverage_ratio <=  2.5):\n",
    "    #Rating is BB+\n",
    "    credit_spread = 0.02\n",
    "if (interest_coverage_ratio > 2) & (interest_coverage_ratio <=  2.25):\n",
    "    #Rating is BB\n",
    "    credit_spread = 0.0240\n",
    "if (interest_coverage_ratio > 1.75) & (interest_coverage_ratio <=  2):\n",
    "    #Rating is B+\n",
    "    credit_spread = 0.0351\n",
    "if (interest_coverage_ratio > 1.5) & (interest_coverage_ratio <=  1.75):\n",
    "    #Rating is B\n",
    "    credit_spread = 0.0421\n",
    "if (interest_coverage_ratio > 1.25) & (interest_coverage_ratio <=  1.5):\n",
    "    #Rating is B-\n",
    "    credit_spread = 0.0515\n",
    "if (interest_coverage_ratio > 0.8) & (interest_coverage_ratio <=  1.25):\n",
    "    #Rating is CCC\n",
    "    credit_spread = 0.0820\n",
    "if (interest_coverage_ratio > 0.65) & (interest_coverage_ratio <=  0.8):\n",
    "    #Rating is CC\n",
    "    credit_spread = 0.0864\n",
    "if (interest_coverage_ratio > 0.2) & (interest_coverage_ratio <=  0.65):\n",
    "    #Rating is C\n",
    "    credit_spread = 0.1134\n",
    "if interest_coverage_ratio <=  0.2:\n",
    "    #Rating is D\n",
    "    credit_spread = 0.1512\n",
    "    \n",
    "cost_of_debt = rf + credit_spread\n",
    "print(cost_of_debt)"
   ]
  },
  {
   "cell_type": "markdown",
   "metadata": {},
   "source": [
    "Calculate Cost of Equity (CAPM)"
   ]
  },
  {
   "cell_type": "code",
   "execution_count": 198,
   "metadata": {},
   "outputs": [
    {
     "name": "stdout",
     "output_type": "stream",
     "text": [
      "0.3846287462068252\n"
     ]
    }
   ],
   "source": [
    "# estimate beta with 399300.SZ\n",
    "price = pro.daily(ts_code=company, start_date=start_date, end_date=end_date)['close']\n",
    "stock_return = price.pct_change()[1:]\n",
    "benchmark = pro.index_daily(ts_code='399300.SZ', start_date=start_date, end_date=end_date)['close']\n",
    "market_return = benchmark.pct_change()[1:]\n",
    "beta = stats.linregress(market_return, stock_return)[0]\n",
    "benchmark_past = pro.index_daily(ts_code='399300.SZ', start_date=start_date, end_date=end_date)['close'][243]\n",
    "benchmark_current = pro.index_daily(ts_code='399300.SZ', start_date=start_date, end_date=end_date)['close'][0]\n",
    "market_year_return = benchmark_current / benchmark_past - 1\n",
    "cost_of_equity = rf +( beta * ( market_year_return - rf))\n",
    "print(cost_of_equity)"
   ]
  },
  {
   "cell_type": "markdown",
   "metadata": {},
   "source": [
    "Calculate WACC"
   ]
  },
  {
   "cell_type": "code",
   "execution_count": 199,
   "metadata": {},
   "outputs": [
    {
     "name": "stdout",
     "output_type": "stream",
     "text": [
      "0.3058506311955349\n"
     ]
    }
   ],
   "source": [
    "debt = pro.balancesheet(ts_code=company, period=end_date,fields='total_liab')['total_liab'][0]\n",
    "equity = pro.balancesheet(ts_code=company, period=end_date,fields='total_hldr_eqy_inc_min_int')['total_hldr_eqy_inc_min_int'][0]\n",
    "debt_percent = debt / (debt + equity)\n",
    "equity_percent = equity / (debt + equity)\n",
    "wacc = (cost_of_debt * (1 - taxt_rate) * debt_percent) + (cost_of_equity * equity_percent)\n",
    "print(wacc)"
   ]
  },
  {
   "cell_type": "markdown",
   "metadata": {},
   "source": [
    " Get the Net Present Value of the FCFF"
   ]
  },
  {
   "cell_type": "code",
   "execution_count": 200,
   "metadata": {},
   "outputs": [
    {
     "name": "stdout",
     "output_type": "stream",
     "text": [
      "195776729681.80984\n"
     ]
    }
   ],
   "source": [
    "future_fcff_List = future_fcff.tolist()\n",
    "NPV = npf.npv(wacc,future_fcff_List)\n",
    "print(NPV)"
   ]
  },
  {
   "cell_type": "markdown",
   "metadata": {},
   "source": [
    "Calculate the Terminal Value"
   ]
  },
  {
   "cell_type": "code",
   "execution_count": 201,
   "metadata": {},
   "outputs": [
    {
     "name": "stdout",
     "output_type": "stream",
     "text": [
      "185774231446.16635\n"
     ]
    }
   ],
   "source": [
    "Terminal_Value = (future_fcff[4] * (1 + revenue_g)) /(wacc  - revenue_g)\n",
    "Terminal_Value_Discounted = Terminal_Value /(1 + wacc ) ** 5\n",
    "print(Terminal_Value_Discounted)"
   ]
  },
  {
   "cell_type": "markdown",
   "metadata": {},
   "source": [
    "Get the Company Valuation"
   ]
  },
  {
   "cell_type": "code",
   "execution_count": 204,
   "metadata": {},
   "outputs": [
    {
     "name": "stdout",
     "output_type": "stream",
     "text": [
      "270.96446858458614\n"
     ]
    }
   ],
   "source": [
    "total_value = NPV + Terminal_Value_Discounted\n",
    "equity_value = total_value - debt\n",
    "total_share = pro.daily_basic(ts_code=company, trade_date=end_date, fields='total_share')['total_share'][0] * 10000\n",
    "estimate_price = equity_value / total_share\n",
    "print(estimate_price)"
   ]
  },
  {
   "cell_type": "markdown",
   "metadata": {},
   "source": [
    "Compare with Real Price"
   ]
  },
  {
   "cell_type": "code",
   "execution_count": 206,
   "metadata": {},
   "outputs": [
    {
     "name": "stdout",
     "output_type": "stream",
     "text": [
      "The company is overestimated at  1183.0\n"
     ]
    }
   ],
   "source": [
    "real_price = pro.daily_basic(ts_code=company, trade_date=end_date, fields='close')['close'][0]\n",
    "if (estimate_price < real_price):\n",
    "    print(\"The company is overestimated at \" , real_price)\n",
    "else:\n",
    "    print(\"The company is underestimated at \" , real_price)"
   ]
  },
  {
   "cell_type": "markdown",
   "metadata": {},
   "source": [
    "2. comparable analysis"
   ]
  },
  {
   "cell_type": "markdown",
   "metadata": {},
   "source": [
    "Select comparable companies by industry, size, location, etc."
   ]
  },
  {
   "cell_type": "code",
   "execution_count": 168,
   "metadata": {},
   "outputs": [],
   "source": [
    "company = '600519.SH' # Kweichow Moutai Co Ltd (replaceable)\n",
    "compare1 = \"000858.SZ\" # Wuliangye Yibin Co Ltd (replaceable)\n",
    "compare2 = \"000568.SZ\" # Luzhou Laojiao Co Ltd (replaceable)\n",
    "compare3 = \"002304.SZ\" # Jiangsu Yanghe Brewery Joint-Stock Co Ltd (replaceable)\n",
    "compare4 = \"600809.SH\" # Shanxi Xinghuacun Fen Wine Factory Co Ltd (replaceable)\n",
    "compare5 = \"603589.SH\" # Anhui Kouzi Distillery Co Ltd (replaceable)\n",
    "compare = pd.Series([compare1, compare2, compare3, compare4, compare5], index = [0, 1, 2, 3, 4])\n",
    "trade_date = '20200918' # (replaceable)"
   ]
  },
  {
   "cell_type": "markdown",
   "metadata": {},
   "source": [
    "Calculate Median and Average of EV/EBITDA, PE and PS"
   ]
  },
  {
   "cell_type": "code",
   "execution_count": 189,
   "metadata": {},
   "outputs": [
    {
     "name": "stdout",
     "output_type": "stream",
     "text": [
      "The median of EV/EBITDA is  22.42403790085872  and the average of EV/EBITDA is  19.808012633619573\n",
      "The median of PE is  40.0  and the average of PE is  37.2\n",
      "The median of PE is  13.0  and the average of PE is  10.2\n"
     ]
    }
   ],
   "source": [
    "evEbitda = pd.Series(0, index = [0, 1, 2, 3, 4])\n",
    "pe = pd.Series(0, index = [0, 1, 2, 3, 4])\n",
    "ps = pd.Series(0, index = [0, 1, 2, 3, 4])\n",
    "for i in range(0, 4):\n",
    "    mv = pro.daily_basic(ts_code=compare[i], trade_date=trade_date, fields='total_mv')['total_mv'][0] * 10000 \n",
    "    debt = pro.balancesheet(ts_code=compare[i], period=end_date,fields='total_liab')['total_liab'][0]\n",
    "    cash = pro.cashflow(ts_code=compare[i], trade_date=end_date, fields='c_cash_equ_end_period')['c_cash_equ_end_period'][0]\n",
    "    ebitda = pro.income(ts_code=compare[i], period=end_date,fields='ebitda')['ebitda'][0]\n",
    "    ev = mv + debt - cash\n",
    "    evEbitda[i] = ev / ebitda \n",
    "    pe[i] = pro.daily_basic(ts_code=compare[i], trade_date=trade_date, fields='pe_ttm')['pe_ttm'][0]\n",
    "    ps[i] = pro.daily_basic(ts_code=compare[i], trade_date=trade_date, fields='ps_ttm')['ps_ttm'][0]\n",
    "print(\"The median of EV/EBITDA is \", evEbitda.median(),\" and the average of EV/EBITDA is \", evEbitda.mean())\n",
    "print(\"The median of PE is \", pe.median(),\" and the average of PE is \", pe.mean())\n",
    "print(\"The median of PS is \", ps.median(),\" and the average of PS is \", ps.mean())"
   ]
  },
  {
   "cell_type": "markdown",
   "metadata": {},
   "source": [
    "Compare with the metrics of the target company"
   ]
  },
  {
   "cell_type": "code",
   "execution_count": 192,
   "metadata": {},
   "outputs": [
    {
     "name": "stdout",
     "output_type": "stream",
     "text": [
      "The EV/EBITDA of the company is  34.18077065097994\n",
      "The PE of the company is  48.5498\n",
      "The PS of the company is  23.6861\n"
     ]
    }
   ],
   "source": [
    "company_mv = pro.daily_basic(ts_code=company, trade_date=trade_date, fields='total_mv')['total_mv'][0] * 10000 \n",
    "company_debt = pro.balancesheet(ts_code=company, period=end_date,fields='total_liab')['total_liab'][0]\n",
    "company_cash = pro.cashflow(ts_code=company, trade_date=end_date, fields='c_cash_equ_end_period')['c_cash_equ_end_period'][0]\n",
    "company_ebitda = pro.income(ts_code=company, period=end_date,fields='ebitda')['ebitda'][0]\n",
    "company_ev = company_mv + company_debt - company_cash\n",
    "company_evEbitda = company_ev / company_ebitda \n",
    "company_pe = pro.daily_basic(ts_code=company, trade_date=trade_date, fields='pe_ttm')['pe_ttm'][0]\n",
    "company_ps = pro.daily_basic(ts_code=company, trade_date=trade_date, fields='ps_ttm')['ps_ttm'][0]\n",
    "print(\"The EV/EBITDA of the company is \", company_evEbitda)\n",
    "print(\"The PE of the company is \", company_pe)\n",
    "print(\"The PS of the company is \", company_ps)"
   ]
  },
  {
   "cell_type": "markdown",
   "metadata": {},
   "source": [
    "The metrics of target company is noticeably higher than the median and average, which indicates it may be overestimated."
   ]
  },
  {
   "cell_type": "markdown",
   "metadata": {},
   "source": [
    "Reference:\n",
    "https://codingandfun.com/calculating-weighted-average-cost-of-capital-wacc-with-python/\n",
    "https://www.codingfinance.com/post/2018-04-25-portfolio-beta-py/\n",
    "https://corporatefinanceinstitute.com/resources/knowledge/valuation/comparable-company-analysis/"
   ]
  }
 ],
 "metadata": {
  "kernelspec": {
   "display_name": "Python 3",
   "language": "python",
   "name": "python3"
  },
  "language_info": {
   "codemirror_mode": {
    "name": "ipython",
    "version": 3
   },
   "file_extension": ".py",
   "mimetype": "text/x-python",
   "name": "python",
   "nbconvert_exporter": "python",
   "pygments_lexer": "ipython3",
   "version": "3.6.10"
  }
 },
 "nbformat": 4,
 "nbformat_minor": 4
}
