{
 "cells": [
  {
   "cell_type": "code",
   "execution_count": null,
   "metadata": {},
   "outputs": [],
   "source": [
    "import yfinance as yf\n",
    "import plotly\n",
    "from plotly.graph_objs import Scatter, Layout\n",
    "\n",
    "\n",
    "Tickers= [\"MSFT\",\"NFLX\",\"DIS\",\"WORK\",\"ZM\",\"WHR\",\"ADP\",\"DADA\",\"ADS\",\"GDAT\"]\n",
    "data=[]\n",
    "for i in range(len(Tickers)):\n",
    "    temp= yf.Ticker(Tickers[i])\n",
    "    data.append(temp.info[\"previousClose\"])\n",
    "plotly.offline.plot({\n",
    "    \"data\":[Scatter (x=Tickers,y=data)],\n",
    "    \"layout\": Layout(title =\"YahooFinance\")\n",
    "    \n",
    "    \n",
    "})\n"
   ]
  },
  {
   "cell_type": "code",
   "execution_count": 44,
   "metadata": {},
   "outputs": [
    {
     "data": {
      "text/plain": [
       "'temp-plot.html'"
      ]
     },
     "execution_count": 44,
     "metadata": {},
     "output_type": "execute_result"
    }
   ],
   "source": [
    "import tushare as ts;\n",
    "import plotly\n",
    "from plotly.graph_objs import Scatter, Layout\n",
    "\n",
    "pro= ts.pro_api(\"e7f3b15a0008846942e8a41853f392f2b50b3a71440021790a9e1eb6\")\n",
    "\n",
    "#print 5 futures\n",
    "df = ts.get_realtime_quotes(['000581','002738','300410','002736','300412']) \n",
    "\n",
    "plotly.offline.plot({\n",
    "    \"data\":[Scatter (x=df['code'],y=df['amount'])],\n",
    "    \"layout\": Layout(title =\"Tushare Futures\")\n",
    "    \n",
    "})\n",
    "\n",
    "\n",
    "#print 5 stocks\n",
    "names =['CU1811.SHF','FB1508.DCE','M1508.DCE','Y1508.DCE','BB1508.DCE']\n",
    "data=[]\n",
    "df = pro.fut_daily(ts_code='BB1508.DCE')\n",
    "data.append(df['pre_close'][0])\n",
    "df = pro.fut_daily(ts_code='CU1811.SHF')\n",
    "data.append(df['pre_close'][0])\n",
    "df = pro.fut_daily(ts_code='FB1508.DCE')\n",
    "data.append(df['pre_close'][0])\n",
    "df = pro.fut_daily(ts_code='M1508.DCE')\n",
    "data.append(df['pre_close'][0])\n",
    "df = pro.fut_daily(ts_code='Y1508.DCE')\n",
    "data.append(df['pre_close'][0])\n",
    "plotly.offline.plot({\n",
    "    \"data\": [Scatter(x=names, y=data)],\n",
    "    \"layout\": Layout(title=\"Tushar Stocks\")\n",
    "})"
   ]
  },
  {
   "cell_type": "code",
   "execution_count": 78,
   "metadata": {},
   "outputs": [
    {
     "name": "stdout",
     "output_type": "stream",
     "text": [
      "1985-01-01    0.64594\n",
      "1985-02-01    0.40435\n",
      "1985-03-01    0.24807\n",
      "1985-04-01    0.35644\n",
      "1985-05-01    0.39609\n",
      "               ...   \n",
      "2020-02-01    0.16742\n",
      "2020-03-01    1.80104\n",
      "2020-04-01    2.28500\n",
      "2020-05-01    1.04465\n",
      "2020-06-01    0.37548\n",
      "Length: 426, dtype: float64\n"
     ]
    }
   ],
   "source": [
    "from fredapi import Fred\n",
    "import plotly\n",
    "from plotly.graph_objs import Scatter, Layout\n",
    "\n",
    "\n",
    "fred = Fred(api_key='0ac8f54ceab67f55a07985a54dea90b2')\n",
    "data = fred.search('Macroeconomic News and Outlook: Other Financial Indicators')\n",
    "\n",
    "data = fred.get_series_latest_release('EMVMACROFININD')\n",
    "\n",
    "plotly.offline.plot({\n",
    "    \"data\": [Scatter(y=data)],\n",
    "    \"layout\": Layout(title=\"FRED\")\n",
    "})\n"
   ]
  },
  {
   "cell_type": "code",
   "execution_count": null,
   "metadata": {},
   "outputs": [],
   "source": []
  }
 ],
 "metadata": {
  "kernelspec": {
   "display_name": "Python 3",
   "language": "python",
   "name": "python3"
  },
  "language_info": {
   "codemirror_mode": {
    "name": "ipython",
    "version": 3
   },
   "file_extension": ".py",
   "mimetype": "text/x-python",
   "name": "python",
   "nbconvert_exporter": "python",
   "pygments_lexer": "ipython3",
   "version": "3.6.10"
  }
 },
 "nbformat": 4,
 "nbformat_minor": 4
}
