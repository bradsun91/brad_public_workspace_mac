{
 "cells": [
  {
   "cell_type": "code",
   "execution_count": 1,
   "metadata": {},
   "outputs": [
    {
     "name": "stderr",
     "output_type": "stream",
     "text": [
      "/Users/miaoyuesun/anaconda3/envs/py36/lib/python3.6/site-packages/pandas_datareader/compat/__init__.py:7: FutureWarning: pandas.util.testing is deprecated. Use the functions in the public API at pandas.testing instead.\n",
      "  from pandas.util.testing import assert_frame_equal\n"
     ]
    }
   ],
   "source": [
    "import matplotlib.pyplot as plt\n",
    "import pandas_datareader as web"
   ]
  },
  {
   "cell_type": "code",
   "execution_count": 2,
   "metadata": {},
   "outputs": [],
   "source": [
    "symbols = ['SPY', 'TLT', 'DBC', 'SHY', 'GLD']\n",
    "w = [0.3, 0.4, 0.075, 0.15, 0.075]\n",
    "base_fund = 1000000"
   ]
  },
  {
   "cell_type": "code",
   "execution_count": 3,
   "metadata": {},
   "outputs": [],
   "source": [
    "price_data = web.get_data_yahoo(symbols, start='2006-02-06', end='2020-04-28')\n",
    "price_data = price_data['Adj Close']"
   ]
  },
  {
   "cell_type": "code",
   "execution_count": 6,
   "metadata": {},
   "outputs": [
    {
     "data": {
      "text/html": [
       "<div>\n",
       "<style scoped>\n",
       "    .dataframe tbody tr th:only-of-type {\n",
       "        vertical-align: middle;\n",
       "    }\n",
       "\n",
       "    .dataframe tbody tr th {\n",
       "        vertical-align: top;\n",
       "    }\n",
       "\n",
       "    .dataframe thead th {\n",
       "        text-align: right;\n",
       "    }\n",
       "</style>\n",
       "<table border=\"1\" class=\"dataframe\">\n",
       "  <thead>\n",
       "    <tr style=\"text-align: right;\">\n",
       "      <th>Symbols</th>\n",
       "      <th>SPY</th>\n",
       "      <th>TLT</th>\n",
       "      <th>DBC</th>\n",
       "      <th>SHY</th>\n",
       "      <th>GLD</th>\n",
       "    </tr>\n",
       "    <tr>\n",
       "      <th>Date</th>\n",
       "      <th></th>\n",
       "      <th></th>\n",
       "      <th></th>\n",
       "      <th></th>\n",
       "      <th></th>\n",
       "    </tr>\n",
       "  </thead>\n",
       "  <tbody>\n",
       "    <tr>\n",
       "      <th>2006-02-06</th>\n",
       "      <td>94.813202</td>\n",
       "      <td>57.268314</td>\n",
       "      <td>22.048342</td>\n",
       "      <td>63.332626</td>\n",
       "      <td>56.720001</td>\n",
       "    </tr>\n",
       "    <tr>\n",
       "      <th>2006-02-07</th>\n",
       "      <td>93.974388</td>\n",
       "      <td>56.997826</td>\n",
       "      <td>21.410578</td>\n",
       "      <td>63.340485</td>\n",
       "      <td>54.599998</td>\n",
       "    </tr>\n",
       "    <tr>\n",
       "      <th>2006-02-08</th>\n",
       "      <td>94.828171</td>\n",
       "      <td>56.865723</td>\n",
       "      <td>21.319469</td>\n",
       "      <td>63.316761</td>\n",
       "      <td>54.830002</td>\n",
       "    </tr>\n",
       "    <tr>\n",
       "      <th>2006-02-09</th>\n",
       "      <td>94.670898</td>\n",
       "      <td>57.123650</td>\n",
       "      <td>21.519909</td>\n",
       "      <td>63.300953</td>\n",
       "      <td>56.180000</td>\n",
       "    </tr>\n",
       "    <tr>\n",
       "      <th>2006-02-10</th>\n",
       "      <td>94.843140</td>\n",
       "      <td>56.809093</td>\n",
       "      <td>21.128141</td>\n",
       "      <td>63.253464</td>\n",
       "      <td>54.790001</td>\n",
       "    </tr>\n",
       "    <tr>\n",
       "      <th>...</th>\n",
       "      <td>...</td>\n",
       "      <td>...</td>\n",
       "      <td>...</td>\n",
       "      <td>...</td>\n",
       "      <td>...</td>\n",
       "    </tr>\n",
       "    <tr>\n",
       "      <th>2020-04-22</th>\n",
       "      <td>279.100006</td>\n",
       "      <td>169.320358</td>\n",
       "      <td>10.870000</td>\n",
       "      <td>86.568130</td>\n",
       "      <td>161.729996</td>\n",
       "    </tr>\n",
       "    <tr>\n",
       "      <th>2020-04-23</th>\n",
       "      <td>279.079987</td>\n",
       "      <td>170.219208</td>\n",
       "      <td>10.840000</td>\n",
       "      <td>86.558136</td>\n",
       "      <td>163.339996</td>\n",
       "    </tr>\n",
       "    <tr>\n",
       "      <th>2020-04-24</th>\n",
       "      <td>282.970001</td>\n",
       "      <td>170.618683</td>\n",
       "      <td>10.700000</td>\n",
       "      <td>86.558136</td>\n",
       "      <td>162.639999</td>\n",
       "    </tr>\n",
       "    <tr>\n",
       "      <th>2020-04-27</th>\n",
       "      <td>287.049988</td>\n",
       "      <td>167.442810</td>\n",
       "      <td>10.500000</td>\n",
       "      <td>86.558136</td>\n",
       "      <td>161.559998</td>\n",
       "    </tr>\n",
       "    <tr>\n",
       "      <th>2020-04-28</th>\n",
       "      <td>285.730011</td>\n",
       "      <td>169.370300</td>\n",
       "      <td>10.510000</td>\n",
       "      <td>86.588120</td>\n",
       "      <td>160.839996</td>\n",
       "    </tr>\n",
       "  </tbody>\n",
       "</table>\n",
       "<p>3581 rows × 5 columns</p>\n",
       "</div>"
      ],
      "text/plain": [
       "Symbols            SPY         TLT        DBC        SHY         GLD\n",
       "Date                                                                \n",
       "2006-02-06   94.813202   57.268314  22.048342  63.332626   56.720001\n",
       "2006-02-07   93.974388   56.997826  21.410578  63.340485   54.599998\n",
       "2006-02-08   94.828171   56.865723  21.319469  63.316761   54.830002\n",
       "2006-02-09   94.670898   57.123650  21.519909  63.300953   56.180000\n",
       "2006-02-10   94.843140   56.809093  21.128141  63.253464   54.790001\n",
       "...                ...         ...        ...        ...         ...\n",
       "2020-04-22  279.100006  169.320358  10.870000  86.568130  161.729996\n",
       "2020-04-23  279.079987  170.219208  10.840000  86.558136  163.339996\n",
       "2020-04-24  282.970001  170.618683  10.700000  86.558136  162.639999\n",
       "2020-04-27  287.049988  167.442810  10.500000  86.558136  161.559998\n",
       "2020-04-28  285.730011  169.370300  10.510000  86.588120  160.839996\n",
       "\n",
       "[3581 rows x 5 columns]"
      ]
     },
     "execution_count": 6,
     "metadata": {},
     "output_type": "execute_result"
    }
   ],
   "source": [
    "price_data"
   ]
  },
  {
   "cell_type": "code",
   "execution_count": 7,
   "metadata": {},
   "outputs": [],
   "source": [
    "returns_data = price_data.pct_change()[1:]"
   ]
  },
  {
   "cell_type": "code",
   "execution_count": 8,
   "metadata": {},
   "outputs": [
    {
     "data": {
      "text/html": [
       "<div>\n",
       "<style scoped>\n",
       "    .dataframe tbody tr th:only-of-type {\n",
       "        vertical-align: middle;\n",
       "    }\n",
       "\n",
       "    .dataframe tbody tr th {\n",
       "        vertical-align: top;\n",
       "    }\n",
       "\n",
       "    .dataframe thead th {\n",
       "        text-align: right;\n",
       "    }\n",
       "</style>\n",
       "<table border=\"1\" class=\"dataframe\">\n",
       "  <thead>\n",
       "    <tr style=\"text-align: right;\">\n",
       "      <th>Symbols</th>\n",
       "      <th>SPY</th>\n",
       "      <th>TLT</th>\n",
       "      <th>DBC</th>\n",
       "      <th>SHY</th>\n",
       "      <th>GLD</th>\n",
       "    </tr>\n",
       "    <tr>\n",
       "      <th>Date</th>\n",
       "      <th></th>\n",
       "      <th></th>\n",
       "      <th></th>\n",
       "      <th></th>\n",
       "      <th></th>\n",
       "    </tr>\n",
       "  </thead>\n",
       "  <tbody>\n",
       "    <tr>\n",
       "      <th>2006-02-07</th>\n",
       "      <td>-0.008847</td>\n",
       "      <td>-0.004723</td>\n",
       "      <td>-0.028926</td>\n",
       "      <td>0.000124</td>\n",
       "      <td>-0.037377</td>\n",
       "    </tr>\n",
       "    <tr>\n",
       "      <th>2006-02-08</th>\n",
       "      <td>0.009085</td>\n",
       "      <td>-0.002318</td>\n",
       "      <td>-0.004255</td>\n",
       "      <td>-0.000375</td>\n",
       "      <td>0.004213</td>\n",
       "    </tr>\n",
       "    <tr>\n",
       "      <th>2006-02-09</th>\n",
       "      <td>-0.001658</td>\n",
       "      <td>0.004536</td>\n",
       "      <td>0.009402</td>\n",
       "      <td>-0.000250</td>\n",
       "      <td>0.024622</td>\n",
       "    </tr>\n",
       "    <tr>\n",
       "      <th>2006-02-10</th>\n",
       "      <td>0.001819</td>\n",
       "      <td>-0.005507</td>\n",
       "      <td>-0.018205</td>\n",
       "      <td>-0.000750</td>\n",
       "      <td>-0.024742</td>\n",
       "    </tr>\n",
       "    <tr>\n",
       "      <th>2006-02-13</th>\n",
       "      <td>-0.001816</td>\n",
       "      <td>0.000111</td>\n",
       "      <td>-0.015524</td>\n",
       "      <td>0.000751</td>\n",
       "      <td>-0.019529</td>\n",
       "    </tr>\n",
       "    <tr>\n",
       "      <th>...</th>\n",
       "      <td>...</td>\n",
       "      <td>...</td>\n",
       "      <td>...</td>\n",
       "      <td>...</td>\n",
       "      <td>...</td>\n",
       "    </tr>\n",
       "    <tr>\n",
       "      <th>2020-04-22</th>\n",
       "      <td>0.022195</td>\n",
       "      <td>-0.010217</td>\n",
       "      <td>0.013993</td>\n",
       "      <td>-0.000346</td>\n",
       "      <td>0.019671</td>\n",
       "    </tr>\n",
       "    <tr>\n",
       "      <th>2020-04-23</th>\n",
       "      <td>-0.000072</td>\n",
       "      <td>0.005309</td>\n",
       "      <td>-0.002760</td>\n",
       "      <td>-0.000115</td>\n",
       "      <td>0.009955</td>\n",
       "    </tr>\n",
       "    <tr>\n",
       "      <th>2020-04-24</th>\n",
       "      <td>0.013939</td>\n",
       "      <td>0.002347</td>\n",
       "      <td>-0.012915</td>\n",
       "      <td>0.000000</td>\n",
       "      <td>-0.004286</td>\n",
       "    </tr>\n",
       "    <tr>\n",
       "      <th>2020-04-27</th>\n",
       "      <td>0.014418</td>\n",
       "      <td>-0.018614</td>\n",
       "      <td>-0.018692</td>\n",
       "      <td>0.000000</td>\n",
       "      <td>-0.006640</td>\n",
       "    </tr>\n",
       "    <tr>\n",
       "      <th>2020-04-28</th>\n",
       "      <td>-0.004598</td>\n",
       "      <td>0.011511</td>\n",
       "      <td>0.000952</td>\n",
       "      <td>0.000346</td>\n",
       "      <td>-0.004457</td>\n",
       "    </tr>\n",
       "  </tbody>\n",
       "</table>\n",
       "<p>3580 rows × 5 columns</p>\n",
       "</div>"
      ],
      "text/plain": [
       "Symbols          SPY       TLT       DBC       SHY       GLD\n",
       "Date                                                        \n",
       "2006-02-07 -0.008847 -0.004723 -0.028926  0.000124 -0.037377\n",
       "2006-02-08  0.009085 -0.002318 -0.004255 -0.000375  0.004213\n",
       "2006-02-09 -0.001658  0.004536  0.009402 -0.000250  0.024622\n",
       "2006-02-10  0.001819 -0.005507 -0.018205 -0.000750 -0.024742\n",
       "2006-02-13 -0.001816  0.000111 -0.015524  0.000751 -0.019529\n",
       "...              ...       ...       ...       ...       ...\n",
       "2020-04-22  0.022195 -0.010217  0.013993 -0.000346  0.019671\n",
       "2020-04-23 -0.000072  0.005309 -0.002760 -0.000115  0.009955\n",
       "2020-04-24  0.013939  0.002347 -0.012915  0.000000 -0.004286\n",
       "2020-04-27  0.014418 -0.018614 -0.018692  0.000000 -0.006640\n",
       "2020-04-28 -0.004598  0.011511  0.000952  0.000346 -0.004457\n",
       "\n",
       "[3580 rows x 5 columns]"
      ]
     },
     "execution_count": 8,
     "metadata": {},
     "output_type": "execute_result"
    }
   ],
   "source": [
    "returns_data"
   ]
  },
  {
   "cell_type": "code",
   "execution_count": 9,
   "metadata": {},
   "outputs": [],
   "source": [
    "weighted_return = (w * returns_data)"
   ]
  },
  {
   "cell_type": "code",
   "execution_count": 12,
   "metadata": {},
   "outputs": [
    {
     "data": {
      "text/html": [
       "<div>\n",
       "<style scoped>\n",
       "    .dataframe tbody tr th:only-of-type {\n",
       "        vertical-align: middle;\n",
       "    }\n",
       "\n",
       "    .dataframe tbody tr th {\n",
       "        vertical-align: top;\n",
       "    }\n",
       "\n",
       "    .dataframe thead th {\n",
       "        text-align: right;\n",
       "    }\n",
       "</style>\n",
       "<table border=\"1\" class=\"dataframe\">\n",
       "  <thead>\n",
       "    <tr style=\"text-align: right;\">\n",
       "      <th>Symbols</th>\n",
       "      <th>SPY</th>\n",
       "      <th>TLT</th>\n",
       "      <th>DBC</th>\n",
       "      <th>SHY</th>\n",
       "      <th>GLD</th>\n",
       "    </tr>\n",
       "    <tr>\n",
       "      <th>Date</th>\n",
       "      <th></th>\n",
       "      <th></th>\n",
       "      <th></th>\n",
       "      <th></th>\n",
       "      <th></th>\n",
       "    </tr>\n",
       "  </thead>\n",
       "  <tbody>\n",
       "    <tr>\n",
       "      <th>2006-02-07</th>\n",
       "      <td>-0.002654</td>\n",
       "      <td>-0.001889</td>\n",
       "      <td>-0.002169</td>\n",
       "      <td>0.000019</td>\n",
       "      <td>-0.002803</td>\n",
       "    </tr>\n",
       "    <tr>\n",
       "      <th>2006-02-08</th>\n",
       "      <td>0.002726</td>\n",
       "      <td>-0.000927</td>\n",
       "      <td>-0.000319</td>\n",
       "      <td>-0.000056</td>\n",
       "      <td>0.000316</td>\n",
       "    </tr>\n",
       "    <tr>\n",
       "      <th>2006-02-09</th>\n",
       "      <td>-0.000498</td>\n",
       "      <td>0.001814</td>\n",
       "      <td>0.000705</td>\n",
       "      <td>-0.000037</td>\n",
       "      <td>0.001847</td>\n",
       "    </tr>\n",
       "    <tr>\n",
       "      <th>2006-02-10</th>\n",
       "      <td>0.000546</td>\n",
       "      <td>-0.002203</td>\n",
       "      <td>-0.001365</td>\n",
       "      <td>-0.000113</td>\n",
       "      <td>-0.001856</td>\n",
       "    </tr>\n",
       "    <tr>\n",
       "      <th>2006-02-13</th>\n",
       "      <td>-0.000545</td>\n",
       "      <td>0.000045</td>\n",
       "      <td>-0.001164</td>\n",
       "      <td>0.000113</td>\n",
       "      <td>-0.001465</td>\n",
       "    </tr>\n",
       "    <tr>\n",
       "      <th>...</th>\n",
       "      <td>...</td>\n",
       "      <td>...</td>\n",
       "      <td>...</td>\n",
       "      <td>...</td>\n",
       "      <td>...</td>\n",
       "    </tr>\n",
       "    <tr>\n",
       "      <th>2020-04-22</th>\n",
       "      <td>0.006658</td>\n",
       "      <td>-0.004087</td>\n",
       "      <td>0.001049</td>\n",
       "      <td>-0.000052</td>\n",
       "      <td>0.001475</td>\n",
       "    </tr>\n",
       "    <tr>\n",
       "      <th>2020-04-23</th>\n",
       "      <td>-0.000022</td>\n",
       "      <td>0.002123</td>\n",
       "      <td>-0.000207</td>\n",
       "      <td>-0.000017</td>\n",
       "      <td>0.000747</td>\n",
       "    </tr>\n",
       "    <tr>\n",
       "      <th>2020-04-24</th>\n",
       "      <td>0.004182</td>\n",
       "      <td>0.000939</td>\n",
       "      <td>-0.000969</td>\n",
       "      <td>0.000000</td>\n",
       "      <td>-0.000321</td>\n",
       "    </tr>\n",
       "    <tr>\n",
       "      <th>2020-04-27</th>\n",
       "      <td>0.004326</td>\n",
       "      <td>-0.007446</td>\n",
       "      <td>-0.001402</td>\n",
       "      <td>0.000000</td>\n",
       "      <td>-0.000498</td>\n",
       "    </tr>\n",
       "    <tr>\n",
       "      <th>2020-04-28</th>\n",
       "      <td>-0.001380</td>\n",
       "      <td>0.004605</td>\n",
       "      <td>0.000071</td>\n",
       "      <td>0.000052</td>\n",
       "      <td>-0.000334</td>\n",
       "    </tr>\n",
       "  </tbody>\n",
       "</table>\n",
       "<p>3580 rows × 5 columns</p>\n",
       "</div>"
      ],
      "text/plain": [
       "Symbols          SPY       TLT       DBC       SHY       GLD\n",
       "Date                                                        \n",
       "2006-02-07 -0.002654 -0.001889 -0.002169  0.000019 -0.002803\n",
       "2006-02-08  0.002726 -0.000927 -0.000319 -0.000056  0.000316\n",
       "2006-02-09 -0.000498  0.001814  0.000705 -0.000037  0.001847\n",
       "2006-02-10  0.000546 -0.002203 -0.001365 -0.000113 -0.001856\n",
       "2006-02-13 -0.000545  0.000045 -0.001164  0.000113 -0.001465\n",
       "...              ...       ...       ...       ...       ...\n",
       "2020-04-22  0.006658 -0.004087  0.001049 -0.000052  0.001475\n",
       "2020-04-23 -0.000022  0.002123 -0.000207 -0.000017  0.000747\n",
       "2020-04-24  0.004182  0.000939 -0.000969  0.000000 -0.000321\n",
       "2020-04-27  0.004326 -0.007446 -0.001402  0.000000 -0.000498\n",
       "2020-04-28 -0.001380  0.004605  0.000071  0.000052 -0.000334\n",
       "\n",
       "[3580 rows x 5 columns]"
      ]
     },
     "execution_count": 12,
     "metadata": {},
     "output_type": "execute_result"
    }
   ],
   "source": [
    "weighted_return"
   ]
  },
  {
   "cell_type": "code",
   "execution_count": 13,
   "metadata": {},
   "outputs": [],
   "source": [
    "port_returns = weighted_return.sum(axis=1)\n",
    "cumulative_returns = (port_returns+1).cumprod()"
   ]
  },
  {
   "cell_type": "code",
   "execution_count": 16,
   "metadata": {},
   "outputs": [],
   "source": [
    "returns = (cumulative_returns * base_fund)"
   ]
  },
  {
   "cell_type": "code",
   "execution_count": 18,
   "metadata": {},
   "outputs": [
    {
     "data": {
      "text/plain": [
       "Text(0.5, 1.0, 'Simple Backtest')"
      ]
     },
     "execution_count": 18,
     "metadata": {},
     "output_type": "execute_result"
    },
    {
     "data": {
      "image/png": "[encoded data removed]",
      "text/plain": [
       "<Figure size 1296x360 with 1 Axes>"
      ]
     },
     "metadata": {
      "needs_background": "light"
     },
     "output_type": "display_data"
    }
   ],
   "source": [
    "returns.plot(figsize = (18,5))\n",
    "plt.xlabel('Date')\n",
    "plt.ylabel('Returns')\n",
    "plt.title('Simple Backtest')"
   ]
  },
  {
   "cell_type": "code",
   "execution_count": 22,
   "metadata": {},
   "outputs": [],
   "source": [
    "spy_returns = returns_data['SPY']\n",
    "cumulative_returns_spy = (spy_returns+1).cumprod()\n",
    "returns_spy_fund = cumulative_returns_spy*base_fund"
   ]
  },
  {
   "cell_type": "code",
   "execution_count": 27,
   "metadata": {},
   "outputs": [
    {
     "data": {
      "text/plain": [
       "<matplotlib.axes._subplots.AxesSubplot at 0x11ed949e8>"
      ]
     },
     "execution_count": 27,
     "metadata": {},
     "output_type": "execute_result"
    },
    {
     "data": {
      "image/png": "[encoded data removed]",
      "text/plain": [
       "<Figure size 1296x360 with 1 Axes>"
      ]
     },
     "metadata": {
      "needs_background": "light"
     },
     "output_type": "display_data"
    }
   ],
   "source": [
    "returns.plot(figsize = (18,5))\n",
    "returns_spy_fund.plot(figsize = (18,5))"
   ]
  },
  {
   "cell_type": "code",
   "execution_count": null,
   "metadata": {},
   "outputs": [],
   "source": []
  }
 ],
 "metadata": {
  "kernelspec": {
   "display_name": "Python 3",
   "language": "python",
   "name": "python3"
  },
  "language_info": {
   "codemirror_mode": {
    "name": "ipython",
    "version": 3
   },
   "file_extension": ".py",
   "mimetype": "text/x-python",
   "name": "python",
   "nbconvert_exporter": "python",
   "pygments_lexer": "ipython3",
   "version": "3.6.10"
  }
 },
 "nbformat": 4,
 "nbformat_minor": 4
}
