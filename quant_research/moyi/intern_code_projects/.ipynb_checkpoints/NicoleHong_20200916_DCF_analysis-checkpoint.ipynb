{
 "cells": [
  {
   "cell_type": "code",
   "execution_count": 1,
   "metadata": {},
   "outputs": [],
   "source": [
    "import numpy as np\n",
    "import pandas as pd\n",
    "import matplotlib.pyplot as plt\n",
    "%matplotlib inline"
   ]
  },
  {
   "cell_type": "code",
   "execution_count": 2,
   "metadata": {},
   "outputs": [
    {
     "data": {
      "text/plain": [
       "2018A    31.0\n",
       "2019B     NaN\n",
       "2020P     NaN\n",
       "2021P     NaN\n",
       "2022P     NaN\n",
       "2023P     NaN\n",
       "dtype: float64"
      ]
     },
     "execution_count": 2,
     "metadata": {},
     "output_type": "execute_result"
    }
   ],
   "source": [
    "years = ['2018A', '2019B', '2020P', '2021P', '2022P', '2023P']\n",
    "sales = pd.Series(index=years)\n",
    "sales['2018A'] = 31.0  \n",
    "sales"
   ]
  },
  {
   "cell_type": "code",
   "execution_count": 3,
   "metadata": {},
   "outputs": [
    {
     "data": {
      "text/plain": [
       "2018A    31.00000\n",
       "2019B    34.10000\n",
       "2020P    37.51000\n",
       "2021P    41.26100\n",
       "2022P    45.38710\n",
       "2023P    49.92581\n",
       "dtype: float64"
      ]
     },
     "execution_count": 3,
     "metadata": {},
     "output_type": "execute_result"
    }
   ],
   "source": [
    "growth_rate = 0.1\n",
    "for year in range(1, 6):\n",
    "    sales[year] = sales[year - 1] * (1 + growth_rate)\n",
    "sales"
   ]
  },
  {
   "cell_type": "code",
   "execution_count": 4,
   "metadata": {},
   "outputs": [
    {
     "data": {
      "text/plain": [
       "2018A         NaN\n",
       "2019B    2.018100\n",
       "2020P    2.219910\n",
       "2021P    2.441901\n",
       "2022P    2.686091\n",
       "2023P    2.954700\n",
       "dtype: float64"
      ]
     },
     "execution_count": 4,
     "metadata": {},
     "output_type": "execute_result"
    }
   ],
   "source": [
    "ebitda_margin = 0.14\n",
    "depr_percent = 0.032\n",
    "ebitda = sales * ebitda_margin\n",
    "depreciation = sales * depr_percent\n",
    "ebit = ebitda - depreciation\n",
    "nwc_percent = 0.24\n",
    "nwc = sales * nwc_percent\n",
    "change_in_nwc = nwc.shift(1) - nwc \n",
    "capex_percent = depr_percent\n",
    "capex = -(sales * capex_percent)\n",
    "tax_rate = 0.25\n",
    "tax_payment = -ebit * tax_rate\n",
    "tax_payment = tax_payment.apply(lambda x: min(x, 0))\n",
    "free_cash_flow = ebit + depreciation + tax_payment + capex + change_in_nwc\n",
    "free_cash_flow"
   ]
  },
  {
   "cell_type": "code",
   "execution_count": 5,
   "metadata": {},
   "outputs": [
    {
     "data": {
      "text/plain": [
       "25.79438401113792"
      ]
     },
     "execution_count": 5,
     "metadata": {},
     "output_type": "execute_result"
    }
   ],
   "source": [
    "#Performing the DCF Valuation\n",
    "cost_of_capital = 0.12\n",
    "terminal_growth = 0.02\n",
    "terminal_value = ((free_cash_flow[-1] * (1 + terminal_growth)) / \n",
    "                 (cost_of_capital - terminal_growth))\n",
    "discount_factors = [(1 / (1 + cost_of_capital)) ** i for i in range (1,6)]\n",
    "dcf_value = (sum(free_cash_flow[1:] * discount_factors) +\n",
    "            terminal_value * discount_factors[-1])\n",
    "dcf_value"
   ]
  },
  {
   "cell_type": "code",
   "execution_count": 6,
   "metadata": {},
   "outputs": [
    {
     "data": {
      "text/html": [
       "<div>\n",
       "<style scoped>\n",
       "    .dataframe tbody tr th:only-of-type {\n",
       "        vertical-align: middle;\n",
       "    }\n",
       "\n",
       "    .dataframe tbody tr th {\n",
       "        vertical-align: top;\n",
       "    }\n",
       "\n",
       "    .dataframe thead th {\n",
       "        text-align: right;\n",
       "    }\n",
       "</style>\n",
       "<table border=\"1\" class=\"dataframe\">\n",
       "  <thead>\n",
       "    <tr style=\"text-align: right;\">\n",
       "      <th></th>\n",
       "      <th>2018A</th>\n",
       "      <th>2019B</th>\n",
       "      <th>2020P</th>\n",
       "      <th>2021P</th>\n",
       "      <th>2022P</th>\n",
       "      <th>2023P</th>\n",
       "    </tr>\n",
       "  </thead>\n",
       "  <tbody>\n",
       "    <tr>\n",
       "      <th>Sales</th>\n",
       "      <td>31.0</td>\n",
       "      <td>34.1</td>\n",
       "      <td>37.5</td>\n",
       "      <td>41.3</td>\n",
       "      <td>45.4</td>\n",
       "      <td>49.9</td>\n",
       "    </tr>\n",
       "    <tr>\n",
       "      <th>EBIT</th>\n",
       "      <td>3.3</td>\n",
       "      <td>3.7</td>\n",
       "      <td>4.1</td>\n",
       "      <td>4.5</td>\n",
       "      <td>4.9</td>\n",
       "      <td>5.4</td>\n",
       "    </tr>\n",
       "    <tr>\n",
       "      <th>Free Cash Flow</th>\n",
       "      <td>NaN</td>\n",
       "      <td>2.0</td>\n",
       "      <td>2.2</td>\n",
       "      <td>2.4</td>\n",
       "      <td>2.7</td>\n",
       "      <td>3.0</td>\n",
       "    </tr>\n",
       "  </tbody>\n",
       "</table>\n",
       "</div>"
      ],
      "text/plain": [
       "                2018A  2019B  2020P  2021P  2022P  2023P\n",
       "Sales            31.0   34.1   37.5   41.3   45.4   49.9\n",
       "EBIT              3.3    3.7    4.1    4.5    4.9    5.4\n",
       "Free Cash Flow    NaN    2.0    2.2    2.4    2.7    3.0"
      ]
     },
     "execution_count": 6,
     "metadata": {},
     "output_type": "execute_result"
    }
   ],
   "source": [
    "output = pd.DataFrame([sales, ebit, free_cash_flow],\n",
    "                     index=['Sales', 'EBIT', 'Free Cash Flow']).round(1)\n",
    "output.to_excel('Python DCF Model Output.xlsx')\n",
    "output"
   ]
  },
  {
   "cell_type": "code",
   "execution_count": 7,
   "metadata": {},
   "outputs": [
    {
     "data": {
      "image/png": "[encoded data removed]",
      "text/plain": [
       "<Figure size 432x288 with 1 Axes>"
      ]
     },
     "metadata": {},
     "output_type": "display_data"
    }
   ],
   "source": [
    "iterations = 1000\n",
    "sales_growth_dist = np.random.normal(loc=0.1, scale=0.01, size=iterations)\n",
    "ebitda_margin_dist = np.random.normal(loc=0.14, scale=0.02, size=iterations)\n",
    "nwc_percent_dist = np.random.normal(loc=0.24, scale=0.01, size=iterations)\n",
    "plt.hist(sales_growth_dist, bins=20)\n",
    "plt.show()"
   ]
  },
  {
   "cell_type": "code",
   "execution_count": 8,
   "metadata": {},
   "outputs": [],
   "source": [
    "def run_mcs():\n",
    "    \n",
    "    # Create probability distributions\n",
    "    sales_growth_dist = np.random.normal(loc=0.1, scale=0.01, size=iterations)\n",
    "    ebitda_margin_dist = np.random.normal(loc=0.14, scale=0.02, size=iterations)\n",
    "    nwc_percent_dist = np.random.normal(loc=0.24, scale=0.01, size=iterations)\n",
    "    \n",
    "    # Calculate DCF value for each set of random inputs\n",
    "    output_distribution = []\n",
    "    for i in range(iterations):\n",
    "        for year in range(1, 6):\n",
    "            sales[year] = sales[year - 1] * (1 + sales_growth_dist[0])\n",
    "        ebitda = sales * ebitda_margin_dist[i]\n",
    "        depreciation = (sales * depr_percent)\n",
    "        ebit = ebitda - depreciation\n",
    "        nwc = sales * nwc_percent_dist[i]\n",
    "        change_in_nwc = nwc.shift(1) - nwc \n",
    "        capex = -(sales * capex_percent)\n",
    "        tax_payment = -ebit * tax_rate\n",
    "        tax_payment = tax_payment.apply(lambda x: min(x, 0))\n",
    "        free_cash_flow = ebit + depreciation + tax_payment + capex + change_in_nwc\n",
    "        \n",
    "        # DCF valuation\n",
    "        terminal_value = (free_cash_flow[-1] * 1.02) / (cost_of_capital - 0.02)\n",
    "        free_cash_flow[-1] += terminal_value\n",
    "        discount_factors = [(1 / (1 + cost_of_capital)) ** i for i in range (1,6)]\n",
    "        dcf_value = sum(free_cash_flow[1:] * discount_factors )\n",
    "        output_distribution.append(dcf_value)\n",
    "    \n",
    "    return output_distribution"
   ]
  },
  {
   "cell_type": "code",
   "execution_count": 9,
   "metadata": {},
   "outputs": [
    {
     "name": "stdout",
     "output_type": "stream",
     "text": [
      "Wall time: 1.65 s\n"
     ]
    },
    {
     "data": {
      "image/png": "[encoded data removed]",
      "text/plain": [
       "<Figure size 432x288 with 1 Axes>"
      ]
     },
     "metadata": {},
     "output_type": "display_data"
    }
   ],
   "source": [
    "%time plt.hist(run_mcs(), bins=20, color='r')\n",
    "plt.show()"
   ]
  },
  {
   "cell_type": "code",
   "execution_count": 10,
   "metadata": {},
   "outputs": [],
   "source": [
    "# Key inputs from DCF model\n",
    "years = 5\n",
    "starting_sales = 31.0\n",
    "capex_percent = depr_percent = 0.032\n",
    "sales_growth = 0.1\n",
    "ebitda_margin = 0.14\n",
    "nwc_percent = 0.24\n",
    "tax_rate = 0.25\n",
    "# DCF assumptions\n",
    "r = 0.12\n",
    "g = 0.02\n",
    "# For MCS model\n",
    "iterations = 1000\n",
    "sales_std_dev = 0.01\n",
    "ebitda_std_dev = 0.02\n",
    "nwc_std_dev = 0.01"
   ]
  },
  {
   "cell_type": "code",
   "execution_count": 11,
   "metadata": {},
   "outputs": [],
   "source": [
    "def run_mcs():\n",
    "    \n",
    "    # Generate probability distributions\n",
    "    sales_growth_dist = np.random.normal(loc=sales_growth, \n",
    "                                         scale=sales_std_dev, \n",
    "                                         size=(years, iterations))\n",
    "    ebitda_margin_dist = np.random.normal(loc=ebitda_margin, \n",
    "                                          scale=ebitda_std_dev, \n",
    "                                          size=(years, iterations))\n",
    "    nwc_percent_dist = np.random.normal(loc=nwc_percent, \n",
    "                                        scale=nwc_std_dev, \n",
    "                                        size=(years, iterations))\n",
    "    \n",
    "    # Calculate free cash flow\n",
    "    sales_growth_dist += 1\n",
    "    for i in range(1, len(sales_growth_dist)):\n",
    "        sales_growth_dist[i] *= sales_growth_dist[i-1]\n",
    "    sales = sales_growth_dist * starting_sales\n",
    "    ebitda = sales * ebitda_margin_dist\n",
    "    ebit = ebitda - (sales * depr_percent)\n",
    "    tax = -(ebit * tax_rate)\n",
    "    np.clip(tax, a_min=None, a_max=0)\n",
    "    nwc = nwc_percent_dist * sales\n",
    "    starting_nwc = starting_sales * nwc_percent\n",
    "    prev_year_nwc = np.roll(nwc, 1, axis=0)\n",
    "    prev_year_nwc[0] = starting_nwc\n",
    "    delta_nwc = prev_year_nwc - nwc\n",
    "    capex = -(sales * capex_percent)\n",
    "    free_cash_flow = ebitda + tax + delta_nwc + capex\n",
    "    # Discount cash flows to get DCF value\n",
    "    terminal_value = free_cash_flow[-1] * (1 + g) / (r - g)\n",
    "    discount_rates = [(1 / (1 + r)) ** i for i in range (1,6)]\n",
    "    dcf_value = sum((free_cash_flow.T * discount_rates).T) \n",
    "    dcf_value += terminal_value * discount_rates[-1]\n",
    "    return dcf_value"
   ]
  },
  {
   "cell_type": "code",
   "execution_count": 12,
   "metadata": {},
   "outputs": [
    {
     "name": "stdout",
     "output_type": "stream",
     "text": [
      "Wall time: 36 ms\n"
     ]
    },
    {
     "data": {
      "image/png": "[encoded data removed]",
      "text/plain": [
       "<Figure size 432x288 with 1 Axes>"
      ]
     },
     "metadata": {},
     "output_type": "display_data"
    }
   ],
   "source": [
    "%time plt.hist(run_mcs(), bins=20, density=True, color=\"r\")\n",
    "plt.show()"
   ]
  },
  {
   "cell_type": "code",
   "execution_count": null,
   "metadata": {},
   "outputs": [],
   "source": []
  }
 ],
 "metadata": {
  "kernelspec": {
   "display_name": "Python 3",
   "language": "python",
   "name": "python3"
  },
  "language_info": {
   "codemirror_mode": {
    "name": "ipython",
    "version": 3
   },
   "file_extension": ".py",
   "mimetype": "text/x-python",
   "name": "python",
   "nbconvert_exporter": "python",
   "pygments_lexer": "ipython3",
   "version": "3.6.10"
  }
 },
 "nbformat": 4,
 "nbformat_minor": 2
}
