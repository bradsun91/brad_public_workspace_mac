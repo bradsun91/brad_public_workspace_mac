{
 "cells": [
  {
   "cell_type": "code",
   "execution_count": 12,
   "metadata": {},
   "outputs": [],
   "source": [
    "import yfinance as yf\n",
    "import pandas as pd\n",
    "import requests\n",
    "from tqdm import tqdm\n",
    "\n",
    "url = 'https://www.slickcharts.com/sp500'\n",
    "headers = {\"User-Agent\" : 'Mozilla/5.0 (Windows NT 10.0; Win64; x64) AppleWebKit/537.36 (KHTML, like Gecko) Chrome/83.0.4103.116 Safari/537.36'}\n",
    "request = requests.get(url, headers = headers)\n",
    "data = pd.read_html(request.text)[0]\n",
    "stk_list = data.Symbol\n",
    "stk_list = data.Symbol.apply(lambda x: x.replace('.', '-'))\n",
    "# S&P 500 companies"
   ]
  },
  {
   "cell_type": "code",
   "execution_count": 2,
   "metadata": {},
   "outputs": [],
   "source": [
    "# stk_list = list(stk_list)"
   ]
  },
  {
   "cell_type": "code",
   "execution_count": 14,
   "metadata": {
    "scrolled": true
   },
   "outputs": [
    {
     "name": "stderr",
     "output_type": "stream",
     "text": [
      "\r",
      "  0%|          | 0/505 [00:00<?, ?it/s]"
     ]
    },
    {
     "name": "stdout",
     "output_type": "stream",
     "text": [
      "-----------------\n",
      "AAPL\n"
     ]
    },
    {
     "name": "stderr",
     "output_type": "stream",
     "text": [
      "\r",
      "  0%|          | 1/505 [00:06<58:46,  7.00s/it]"
     ]
    },
    {
     "name": "stdout",
     "output_type": "stream",
     "text": [
      "info assigned\n",
      "sector assigned\n",
      "mkt cap assigned\n",
      "sector appended\n",
      "mkt cap appended\n",
      "ticker list appended\n",
      "-----------------\n",
      "MSFT\n"
     ]
    },
    {
     "name": "stderr",
     "output_type": "stream",
     "text": [
      "\r",
      "  0%|          | 2/505 [00:26<1:30:26, 10.79s/it]"
     ]
    },
    {
     "name": "stdout",
     "output_type": "stream",
     "text": [
      "info assigned\n",
      "sector assigned\n",
      "mkt cap assigned\n",
      "sector appended\n",
      "mkt cap appended\n",
      "ticker list appended\n",
      "-----------------\n",
      "AMZN\n"
     ]
    },
    {
     "name": "stderr",
     "output_type": "stream",
     "text": [
      "\r",
      "  1%|          | 3/505 [00:56<2:17:26, 16.43s/it]"
     ]
    },
    {
     "name": "stdout",
     "output_type": "stream",
     "text": [
      "info assigned\n",
      "sector assigned\n",
      "mkt cap assigned\n",
      "sector appended\n",
      "mkt cap appended\n",
      "ticker list appended\n",
      "-----------------\n",
      "FB\n"
     ]
    },
    {
     "name": "stderr",
     "output_type": "stream",
     "text": [
      "\r",
      "  1%|          | 4/505 [01:28<2:56:07, 21.09s/it]"
     ]
    },
    {
     "name": "stdout",
     "output_type": "stream",
     "text": [
      "info assigned\n",
      "sector assigned\n",
      "mkt cap assigned\n",
      "sector appended\n",
      "mkt cap appended\n",
      "ticker list appended\n",
      "-----------------\n",
      "GOOGL\n"
     ]
    },
    {
     "name": "stderr",
     "output_type": "stream",
     "text": [
      "\r",
      "  1%|          | 5/505 [01:41<2:37:06, 18.85s/it]"
     ]
    },
    {
     "name": "stdout",
     "output_type": "stream",
     "text": [
      "info assigned\n",
      "sector assigned\n",
      "mkt cap assigned\n",
      "sector appended\n",
      "mkt cap appended\n",
      "ticker list appended\n",
      "-----------------\n",
      "GOOG\n"
     ]
    },
    {
     "name": "stderr",
     "output_type": "stream",
     "text": [
      "\r",
      "  1%|          | 6/505 [02:15<3:14:55, 23.44s/it]"
     ]
    },
    {
     "name": "stdout",
     "output_type": "stream",
     "text": [
      "info assigned\n",
      "sector assigned\n",
      "mkt cap assigned\n",
      "sector appended\n",
      "mkt cap appended\n",
      "ticker list appended\n",
      "-----------------\n",
      "BRK-B\n",
      "-----------------\n",
      "JNJ\n"
     ]
    },
    {
     "name": "stderr",
     "output_type": "stream",
     "text": [
      "\r",
      "  2%|▏         | 8/505 [02:22<2:24:23, 17.43s/it]"
     ]
    },
    {
     "name": "stdout",
     "output_type": "stream",
     "text": [
      "info assigned\n",
      "sector assigned\n",
      "mkt cap assigned\n",
      "sector appended\n",
      "mkt cap appended\n",
      "ticker list appended\n",
      "-----------------\n",
      "V\n"
     ]
    },
    {
     "name": "stderr",
     "output_type": "stream",
     "text": [
      "\r",
      "  2%|▏         | 9/505 [02:57<3:06:10, 22.52s/it]"
     ]
    },
    {
     "name": "stdout",
     "output_type": "stream",
     "text": [
      "info assigned\n",
      "sector assigned\n",
      "mkt cap assigned\n",
      "sector appended\n",
      "mkt cap appended\n",
      "ticker list appended\n",
      "-----------------\n",
      "PG\n"
     ]
    },
    {
     "name": "stderr",
     "output_type": "stream",
     "text": [
      "\r",
      "  2%|▏         | 10/505 [03:23<3:16:10, 23.78s/it]"
     ]
    },
    {
     "name": "stdout",
     "output_type": "stream",
     "text": [
      "info assigned\n",
      "sector assigned\n",
      "mkt cap assigned\n",
      "sector appended\n",
      "mkt cap appended\n",
      "ticker list appended\n",
      "-----------------\n",
      "NVDA\n"
     ]
    },
    {
     "name": "stderr",
     "output_type": "stream",
     "text": [
      "\r",
      "  2%|▏         | 11/505 [03:49<3:20:09, 24.31s/it]"
     ]
    },
    {
     "name": "stdout",
     "output_type": "stream",
     "text": [
      "info assigned\n",
      "sector assigned\n",
      "mkt cap assigned\n",
      "sector appended\n",
      "mkt cap appended\n",
      "ticker list appended\n",
      "-----------------\n",
      "HD\n"
     ]
    },
    {
     "name": "stderr",
     "output_type": "stream",
     "text": [
      "\r",
      "  2%|▏         | 12/505 [04:22<3:40:26, 26.83s/it]"
     ]
    },
    {
     "name": "stdout",
     "output_type": "stream",
     "text": [
      "info assigned\n",
      "sector assigned\n",
      "mkt cap assigned\n",
      "sector appended\n",
      "mkt cap appended\n",
      "ticker list appended\n",
      "-----------------\n",
      "MA\n"
     ]
    },
    {
     "name": "stderr",
     "output_type": "stream",
     "text": [
      "\r",
      "  3%|▎         | 13/505 [04:43<3:26:00, 25.12s/it]"
     ]
    },
    {
     "name": "stdout",
     "output_type": "stream",
     "text": [
      "info assigned\n",
      "sector assigned\n",
      "mkt cap assigned\n",
      "sector appended\n",
      "mkt cap appended\n",
      "ticker list appended\n",
      "-----------------\n",
      "JPM\n"
     ]
    },
    {
     "name": "stderr",
     "output_type": "stream",
     "text": [
      "\r",
      "  3%|▎         | 14/505 [05:08<3:25:52, 25.16s/it]"
     ]
    },
    {
     "name": "stdout",
     "output_type": "stream",
     "text": [
      "-----------------\n",
      "UNH\n"
     ]
    },
    {
     "name": "stderr",
     "output_type": "stream",
     "text": [
      "\r",
      "  3%|▎         | 15/505 [05:26<3:06:46, 22.87s/it]"
     ]
    },
    {
     "name": "stdout",
     "output_type": "stream",
     "text": [
      "-----------------\n",
      "VZ\n"
     ]
    },
    {
     "name": "stderr",
     "output_type": "stream",
     "text": [
      "\r",
      "  3%|▎         | 16/505 [06:00<3:35:18, 26.42s/it]"
     ]
    },
    {
     "name": "stdout",
     "output_type": "stream",
     "text": [
      "-----------------\n",
      "PYPL\n"
     ]
    },
    {
     "name": "stderr",
     "output_type": "stream",
     "text": [
      "\r",
      "  3%|▎         | 17/505 [06:19<3:14:59, 23.98s/it]"
     ]
    },
    {
     "name": "stdout",
     "output_type": "stream",
     "text": [
      "info assigned\n",
      "sector assigned\n",
      "mkt cap assigned\n",
      "sector appended\n",
      "mkt cap appended\n",
      "ticker list appended\n",
      "-----------------\n",
      "DIS\n"
     ]
    },
    {
     "name": "stderr",
     "output_type": "stream",
     "text": [
      "\r",
      "  4%|▎         | 18/505 [06:42<3:13:55, 23.89s/it]"
     ]
    },
    {
     "name": "stdout",
     "output_type": "stream",
     "text": [
      "info assigned\n",
      "sector assigned\n",
      "mkt cap assigned\n",
      "sector appended\n",
      "mkt cap appended\n",
      "ticker list appended\n",
      "-----------------\n",
      "ADBE\n"
     ]
    },
    {
     "name": "stderr",
     "output_type": "stream",
     "text": [
      "\r",
      "  4%|▍         | 19/505 [07:10<3:23:38, 25.14s/it]"
     ]
    },
    {
     "name": "stdout",
     "output_type": "stream",
     "text": [
      "info assigned\n",
      "sector assigned\n",
      "mkt cap assigned\n",
      "sector appended\n",
      "mkt cap appended\n",
      "ticker list appended\n",
      "-----------------\n",
      "MRK\n"
     ]
    },
    {
     "name": "stderr",
     "output_type": "stream",
     "text": [
      "\r",
      "  4%|▍         | 20/505 [07:31<3:11:37, 23.71s/it]"
     ]
    },
    {
     "name": "stdout",
     "output_type": "stream",
     "text": [
      "-----------------\n",
      "NFLX\n"
     ]
    },
    {
     "name": "stderr",
     "output_type": "stream",
     "text": [
      "\r",
      "  4%|▍         | 21/505 [07:53<3:06:56, 23.18s/it]"
     ]
    },
    {
     "name": "stdout",
     "output_type": "stream",
     "text": [
      "info assigned\n",
      "sector assigned\n",
      "mkt cap assigned\n",
      "sector appended\n",
      "mkt cap appended\n",
      "ticker list appended\n",
      "-----------------\n",
      "PFE\n"
     ]
    },
    {
     "name": "stderr",
     "output_type": "stream",
     "text": [
      "\r",
      "  4%|▍         | 22/505 [07:57<2:20:02, 17.40s/it]"
     ]
    },
    {
     "name": "stdout",
     "output_type": "stream",
     "text": [
      "-----------------\n",
      "T\n"
     ]
    },
    {
     "name": "stderr",
     "output_type": "stream",
     "text": [
      "\r",
      "  5%|▍         | 23/505 [08:31<3:02:03, 22.66s/it]"
     ]
    },
    {
     "name": "stdout",
     "output_type": "stream",
     "text": [
      "info assigned\n",
      "sector assigned\n",
      "mkt cap assigned\n",
      "sector appended\n",
      "mkt cap appended\n",
      "ticker list appended\n",
      "-----------------\n",
      "INTC\n"
     ]
    },
    {
     "name": "stderr",
     "output_type": "stream",
     "text": [
      "\r",
      "  5%|▍         | 24/505 [08:45<2:40:38, 20.04s/it]"
     ]
    },
    {
     "name": "stdout",
     "output_type": "stream",
     "text": [
      "info assigned\n",
      "sector assigned\n",
      "mkt cap assigned\n",
      "sector appended\n",
      "mkt cap appended\n",
      "ticker list appended\n",
      "-----------------\n",
      "BAC\n"
     ]
    },
    {
     "name": "stderr",
     "output_type": "stream",
     "text": [
      "\r",
      "  5%|▍         | 25/505 [09:05<2:38:55, 19.87s/it]"
     ]
    },
    {
     "name": "stdout",
     "output_type": "stream",
     "text": [
      "info assigned\n",
      "sector assigned\n",
      "mkt cap assigned\n",
      "sector appended\n",
      "mkt cap appended\n",
      "ticker list appended\n",
      "-----------------\n",
      "CMCSA\n"
     ]
    },
    {
     "name": "stderr",
     "output_type": "stream",
     "text": [
      "\r",
      "  5%|▌         | 26/505 [09:18<2:23:38, 17.99s/it]"
     ]
    },
    {
     "name": "stdout",
     "output_type": "stream",
     "text": [
      "-----------------\n",
      "CRM\n"
     ]
    },
    {
     "name": "stderr",
     "output_type": "stream",
     "text": [
      "\r",
      "  5%|▌         | 27/505 [09:40<2:31:29, 19.02s/it]"
     ]
    },
    {
     "name": "stdout",
     "output_type": "stream",
     "text": [
      "-----------------\n",
      "PEP\n"
     ]
    },
    {
     "name": "stderr",
     "output_type": "stream",
     "text": [
      "\r",
      "  6%|▌         | 28/505 [09:57<2:25:36, 18.31s/it]"
     ]
    },
    {
     "name": "stdout",
     "output_type": "stream",
     "text": [
      "info assigned\n",
      "sector assigned\n",
      "mkt cap assigned\n",
      "sector appended\n",
      "mkt cap appended\n",
      "ticker list appended\n",
      "-----------------\n",
      "KO\n"
     ]
    },
    {
     "name": "stderr",
     "output_type": "stream",
     "text": [
      "\r",
      "  6%|▌         | 29/505 [10:12<2:18:27, 17.45s/it]"
     ]
    },
    {
     "name": "stdout",
     "output_type": "stream",
     "text": [
      "info assigned\n",
      "sector assigned\n",
      "mkt cap assigned\n",
      "sector appended\n",
      "mkt cap appended\n",
      "ticker list appended\n",
      "-----------------\n",
      "WMT\n"
     ]
    },
    {
     "name": "stderr",
     "output_type": "stream",
     "text": [
      "\r",
      "  6%|▌         | 30/505 [10:31<2:22:29, 18.00s/it]"
     ]
    },
    {
     "name": "stdout",
     "output_type": "stream",
     "text": [
      "info assigned\n",
      "sector assigned\n",
      "mkt cap assigned\n",
      "sector appended\n",
      "mkt cap appended\n",
      "ticker list appended\n",
      "-----------------\n",
      "ABT\n"
     ]
    },
    {
     "name": "stderr",
     "output_type": "stream",
     "text": [
      "\r",
      "  6%|▌         | 31/505 [10:57<2:40:02, 20.26s/it]"
     ]
    },
    {
     "name": "stdout",
     "output_type": "stream",
     "text": [
      "info assigned\n",
      "sector assigned\n",
      "mkt cap assigned\n",
      "sector appended\n",
      "mkt cap appended\n",
      "ticker list appended\n",
      "-----------------\n",
      "CSCO\n"
     ]
    },
    {
     "name": "stderr",
     "output_type": "stream",
     "text": [
      "\r",
      "  6%|▋         | 32/505 [11:11<2:25:19, 18.43s/it]"
     ]
    },
    {
     "name": "stdout",
     "output_type": "stream",
     "text": [
      "info assigned\n",
      "sector assigned\n",
      "mkt cap assigned\n",
      "sector appended\n",
      "mkt cap appended\n",
      "ticker list appended\n",
      "-----------------\n",
      "XOM\n"
     ]
    },
    {
     "name": "stderr",
     "output_type": "stream",
     "text": [
      "\r",
      "  7%|▋         | 33/505 [11:22<2:06:55, 16.14s/it]"
     ]
    },
    {
     "name": "stdout",
     "output_type": "stream",
     "text": [
      "-----------------\n",
      "TMO\n"
     ]
    },
    {
     "name": "stderr",
     "output_type": "stream",
     "text": [
      "\r",
      "  7%|▋         | 34/505 [11:34<1:58:04, 15.04s/it]"
     ]
    },
    {
     "name": "stdout",
     "output_type": "stream",
     "text": [
      "info assigned\n",
      "sector assigned\n",
      "mkt cap assigned\n",
      "sector appended\n",
      "mkt cap appended\n",
      "ticker list appended\n",
      "-----------------\n",
      "ABBV\n"
     ]
    },
    {
     "name": "stderr",
     "output_type": "stream",
     "text": [
      "\r",
      "  7%|▋         | 35/505 [11:48<1:53:51, 14.54s/it]"
     ]
    },
    {
     "name": "stdout",
     "output_type": "stream",
     "text": [
      "info assigned\n",
      "sector assigned\n",
      "mkt cap assigned\n",
      "sector appended\n",
      "mkt cap appended\n",
      "ticker list appended\n",
      "-----------------\n",
      "CVX\n"
     ]
    },
    {
     "name": "stderr",
     "output_type": "stream",
     "text": [
      "\r",
      "  7%|▋         | 36/505 [11:56<1:40:03, 12.80s/it]"
     ]
    },
    {
     "name": "stdout",
     "output_type": "stream",
     "text": [
      "-----------------\n",
      "MCD\n"
     ]
    },
    {
     "name": "stderr",
     "output_type": "stream",
     "text": [
      "\r",
      "  7%|▋         | 37/505 [12:15<1:54:24, 14.67s/it]"
     ]
    },
    {
     "name": "stdout",
     "output_type": "stream",
     "text": [
      "info assigned\n",
      "sector assigned\n",
      "mkt cap assigned\n",
      "sector appended\n",
      "mkt cap appended\n",
      "ticker list appended\n",
      "-----------------\n",
      "COST\n"
     ]
    },
    {
     "name": "stderr",
     "output_type": "stream",
     "text": [
      "\r",
      "  8%|▊         | 38/505 [12:30<1:53:11, 14.54s/it]"
     ]
    },
    {
     "name": "stdout",
     "output_type": "stream",
     "text": [
      "info assigned\n",
      "sector assigned\n",
      "mkt cap assigned\n",
      "sector appended\n",
      "mkt cap appended\n",
      "ticker list appended\n",
      "-----------------\n",
      "ACN\n"
     ]
    },
    {
     "name": "stderr",
     "output_type": "stream",
     "text": [
      "\r",
      "  8%|▊         | 39/505 [12:46<1:58:11, 15.22s/it]"
     ]
    },
    {
     "name": "stdout",
     "output_type": "stream",
     "text": [
      "-----------------\n",
      "AMGN\n"
     ]
    },
    {
     "name": "stderr",
     "output_type": "stream",
     "text": [
      "\r",
      "  8%|▊         | 40/505 [13:00<1:54:28, 14.77s/it]"
     ]
    },
    {
     "name": "stdout",
     "output_type": "stream",
     "text": [
      "info assigned\n",
      "sector assigned\n",
      "mkt cap assigned\n",
      "sector appended\n",
      "mkt cap appended\n",
      "ticker list appended\n",
      "-----------------\n",
      "BMY\n"
     ]
    },
    {
     "name": "stderr",
     "output_type": "stream",
     "text": [
      "\r",
      "  8%|▊         | 41/505 [13:18<2:00:50, 15.63s/it]"
     ]
    },
    {
     "name": "stdout",
     "output_type": "stream",
     "text": [
      "-----------------\n",
      "NKE\n"
     ]
    },
    {
     "name": "stderr",
     "output_type": "stream",
     "text": [
      "\r",
      "  8%|▊         | 42/505 [13:31<1:54:18, 14.81s/it]"
     ]
    },
    {
     "name": "stdout",
     "output_type": "stream",
     "text": [
      "info assigned\n",
      "sector assigned\n",
      "mkt cap assigned\n",
      "sector appended\n",
      "mkt cap appended\n",
      "ticker list appended\n",
      "-----------------\n",
      "NEE\n"
     ]
    },
    {
     "name": "stderr",
     "output_type": "stream",
     "text": [
      "\r",
      "  9%|▊         | 43/505 [13:47<1:56:50, 15.18s/it]"
     ]
    },
    {
     "name": "stdout",
     "output_type": "stream",
     "text": [
      "-----------------\n",
      "MDT\n"
     ]
    },
    {
     "name": "stderr",
     "output_type": "stream",
     "text": [
      "\r",
      "  9%|▊         | 44/505 [14:03<2:00:04, 15.63s/it]"
     ]
    },
    {
     "name": "stdout",
     "output_type": "stream",
     "text": [
      "info assigned\n",
      "sector assigned\n",
      "mkt cap assigned\n",
      "sector appended\n",
      "mkt cap appended\n",
      "ticker list appended\n",
      "-----------------\n",
      "AVGO\n"
     ]
    },
    {
     "name": "stderr",
     "output_type": "stream",
     "text": [
      "\r",
      "  9%|▉         | 45/505 [14:24<2:10:12, 16.98s/it]"
     ]
    },
    {
     "name": "stdout",
     "output_type": "stream",
     "text": [
      "info assigned\n",
      "sector assigned\n",
      "mkt cap assigned\n",
      "sector appended\n",
      "mkt cap appended\n",
      "ticker list appended\n",
      "-----------------\n",
      "UNP\n"
     ]
    },
    {
     "name": "stderr",
     "output_type": "stream",
     "text": [
      "\r",
      "  9%|▉         | 46/505 [14:36<1:59:45, 15.65s/it]"
     ]
    },
    {
     "name": "stdout",
     "output_type": "stream",
     "text": [
      "info assigned\n",
      "sector assigned\n",
      "mkt cap assigned\n",
      "sector appended\n",
      "mkt cap appended\n",
      "ticker list appended\n",
      "-----------------\n",
      "LIN\n"
     ]
    },
    {
     "name": "stderr",
     "output_type": "stream",
     "text": [
      "\r",
      "  9%|▉         | 47/505 [14:46<1:45:48, 13.86s/it]"
     ]
    },
    {
     "name": "stdout",
     "output_type": "stream",
     "text": [
      "info assigned\n",
      "sector assigned\n",
      "mkt cap assigned\n",
      "sector appended\n",
      "mkt cap appended\n",
      "ticker list appended\n",
      "-----------------\n",
      "DHR\n"
     ]
    },
    {
     "name": "stderr",
     "output_type": "stream",
     "text": [
      "\r",
      " 10%|▉         | 48/505 [14:57<1:39:52, 13.11s/it]"
     ]
    },
    {
     "name": "stdout",
     "output_type": "stream",
     "text": [
      "-----------------\n",
      "QCOM\n"
     ]
    },
    {
     "name": "stderr",
     "output_type": "stream",
     "text": [
      "\r",
      " 10%|▉         | 49/505 [15:12<1:42:52, 13.54s/it]"
     ]
    },
    {
     "name": "stdout",
     "output_type": "stream",
     "text": [
      "info assigned\n",
      "sector assigned\n",
      "mkt cap assigned\n",
      "sector appended\n",
      "mkt cap appended\n",
      "ticker list appended\n",
      "-----------------\n",
      "TXN\n"
     ]
    },
    {
     "name": "stderr",
     "output_type": "stream",
     "text": [
      "\r",
      " 10%|▉         | 50/505 [15:32<1:58:07, 15.58s/it]"
     ]
    },
    {
     "name": "stdout",
     "output_type": "stream",
     "text": [
      "info assigned\n",
      "sector assigned\n",
      "mkt cap assigned\n",
      "sector appended\n",
      "mkt cap appended\n",
      "ticker list appended\n",
      "-----------------\n",
      "LLY\n"
     ]
    },
    {
     "name": "stderr",
     "output_type": "stream",
     "text": [
      "\r",
      " 10%|█         | 51/505 [15:44<1:49:45, 14.51s/it]"
     ]
    },
    {
     "name": "stdout",
     "output_type": "stream",
     "text": [
      "info assigned\n",
      "sector assigned\n",
      "mkt cap assigned\n",
      "sector appended\n",
      "mkt cap appended\n",
      "ticker list appended\n",
      "-----------------\n",
      "LOW\n"
     ]
    },
    {
     "name": "stderr",
     "output_type": "stream",
     "text": [
      "\r",
      " 10%|█         | 52/505 [15:56<1:43:28, 13.71s/it]"
     ]
    },
    {
     "name": "stdout",
     "output_type": "stream",
     "text": [
      "info assigned\n",
      "sector assigned\n",
      "mkt cap assigned\n",
      "sector appended\n",
      "mkt cap appended\n",
      "ticker list appended\n",
      "-----------------\n",
      "PM\n"
     ]
    },
    {
     "name": "stderr",
     "output_type": "stream",
     "text": [
      "\r",
      " 10%|█         | 53/505 [16:11<1:47:00, 14.20s/it]"
     ]
    },
    {
     "name": "stdout",
     "output_type": "stream",
     "text": [
      "info assigned\n",
      "sector assigned\n",
      "mkt cap assigned\n",
      "sector appended\n",
      "mkt cap appended\n",
      "ticker list appended\n",
      "-----------------\n",
      "ORCL\n"
     ]
    },
    {
     "name": "stderr",
     "output_type": "stream",
     "text": [
      "\r",
      " 11%|█         | 54/505 [16:27<1:51:26, 14.82s/it]"
     ]
    },
    {
     "name": "stdout",
     "output_type": "stream",
     "text": [
      "info assigned\n",
      "sector assigned\n",
      "mkt cap assigned\n",
      "sector appended\n",
      "mkt cap appended\n",
      "ticker list appended\n",
      "-----------------\n",
      "HON\n"
     ]
    },
    {
     "name": "stderr",
     "output_type": "stream",
     "text": [
      "\r",
      " 11%|█         | 55/505 [16:51<2:11:38, 17.55s/it]"
     ]
    },
    {
     "name": "stdout",
     "output_type": "stream",
     "text": [
      "-----------------\n",
      "UPS\n"
     ]
    },
    {
     "name": "stderr",
     "output_type": "stream",
     "text": [
      "\r",
      " 11%|█         | 56/505 [17:06<2:05:44, 16.80s/it]"
     ]
    },
    {
     "name": "stdout",
     "output_type": "stream",
     "text": [
      "info assigned\n",
      "sector assigned\n",
      "mkt cap assigned\n",
      "sector appended\n",
      "mkt cap appended\n",
      "ticker list appended\n",
      "-----------------\n",
      "IBM\n"
     ]
    },
    {
     "name": "stderr",
     "output_type": "stream",
     "text": [
      "\r",
      " 11%|█▏        | 57/505 [17:16<1:48:58, 14.59s/it]"
     ]
    },
    {
     "name": "stdout",
     "output_type": "stream",
     "text": [
      "info assigned\n",
      "sector assigned\n",
      "mkt cap assigned\n",
      "sector appended\n",
      "mkt cap appended\n",
      "ticker list appended\n",
      "-----------------\n",
      "AMT\n"
     ]
    },
    {
     "name": "stderr",
     "output_type": "stream",
     "text": [
      "\r",
      " 11%|█▏        | 58/505 [17:29<1:44:32, 14.03s/it]"
     ]
    },
    {
     "name": "stdout",
     "output_type": "stream",
     "text": [
      "info assigned\n",
      "sector assigned\n",
      "mkt cap assigned\n",
      "sector appended\n",
      "mkt cap appended\n",
      "ticker list appended\n",
      "-----------------\n",
      "C\n"
     ]
    },
    {
     "name": "stderr",
     "output_type": "stream",
     "text": [
      "\r",
      " 12%|█▏        | 59/505 [17:45<1:50:24, 14.85s/it]"
     ]
    },
    {
     "name": "stdout",
     "output_type": "stream",
     "text": [
      "-----------------\n",
      "AMD\n"
     ]
    },
    {
     "name": "stderr",
     "output_type": "stream",
     "text": [
      "\r",
      " 12%|█▏        | 60/505 [17:56<1:40:19, 13.53s/it]"
     ]
    },
    {
     "name": "stdout",
     "output_type": "stream",
     "text": [
      "info assigned\n",
      "sector assigned\n",
      "mkt cap assigned\n",
      "sector appended\n",
      "mkt cap appended\n",
      "ticker list appended\n",
      "-----------------\n",
      "LMT\n"
     ]
    },
    {
     "name": "stderr",
     "output_type": "stream",
     "text": [
      "\r",
      " 12%|█▏        | 61/505 [18:07<1:35:02, 12.84s/it]"
     ]
    },
    {
     "name": "stdout",
     "output_type": "stream",
     "text": [
      "info assigned\n",
      "sector assigned\n",
      "mkt cap assigned\n",
      "sector appended\n",
      "mkt cap appended\n",
      "ticker list appended\n",
      "-----------------\n",
      "SBUX\n"
     ]
    },
    {
     "name": "stderr",
     "output_type": "stream",
     "text": [
      "\r",
      " 12%|█▏        | 62/505 [18:19<1:33:27, 12.66s/it]"
     ]
    },
    {
     "name": "stdout",
     "output_type": "stream",
     "text": [
      "info assigned\n",
      "sector assigned\n",
      "mkt cap assigned\n",
      "sector appended\n",
      "mkt cap appended\n",
      "ticker list appended\n",
      "-----------------\n",
      "MMM\n"
     ]
    },
    {
     "name": "stderr",
     "output_type": "stream",
     "text": [
      "\r",
      " 12%|█▏        | 63/505 [18:30<1:29:53, 12.20s/it]"
     ]
    },
    {
     "name": "stdout",
     "output_type": "stream",
     "text": [
      "-----------------\n",
      "BA\n"
     ]
    },
    {
     "name": "stderr",
     "output_type": "stream",
     "text": [
      "\r",
      " 13%|█▎        | 64/505 [18:45<1:35:26, 12.98s/it]"
     ]
    },
    {
     "name": "stdout",
     "output_type": "stream",
     "text": [
      "info assigned\n",
      "sector assigned\n",
      "mkt cap assigned\n",
      "sector appended\n",
      "mkt cap appended\n",
      "ticker list appended\n",
      "-----------------\n",
      "CHTR\n"
     ]
    },
    {
     "name": "stderr",
     "output_type": "stream",
     "text": [
      "\r",
      " 13%|█▎        | 65/505 [18:54<1:26:26, 11.79s/it]"
     ]
    },
    {
     "name": "stdout",
     "output_type": "stream",
     "text": [
      "info assigned\n",
      "sector assigned\n",
      "mkt cap assigned\n",
      "sector appended\n",
      "mkt cap appended\n",
      "ticker list appended\n",
      "-----------------\n",
      "WFC\n"
     ]
    },
    {
     "name": "stderr",
     "output_type": "stream",
     "text": [
      "\r",
      " 13%|█▎        | 66/505 [19:03<1:20:15, 10.97s/it]"
     ]
    },
    {
     "name": "stdout",
     "output_type": "stream",
     "text": [
      "-----------------\n",
      "BLK\n"
     ]
    },
    {
     "name": "stderr",
     "output_type": "stream",
     "text": [
      "\r",
      " 13%|█▎        | 67/505 [19:22<1:36:04, 13.16s/it]"
     ]
    },
    {
     "name": "stdout",
     "output_type": "stream",
     "text": [
      "info assigned\n",
      "sector assigned\n",
      "mkt cap assigned\n",
      "sector appended\n",
      "mkt cap appended\n",
      "ticker list appended\n",
      "-----------------\n",
      "FIS\n"
     ]
    },
    {
     "name": "stderr",
     "output_type": "stream",
     "text": [
      "\r",
      " 13%|█▎        | 68/505 [19:34<1:33:22, 12.82s/it]"
     ]
    },
    {
     "name": "stdout",
     "output_type": "stream",
     "text": [
      "info assigned\n",
      "sector assigned\n",
      "mkt cap assigned\n",
      "sector appended\n",
      "mkt cap appended\n",
      "ticker list appended\n",
      "-----------------\n",
      "RTX\n"
     ]
    },
    {
     "name": "stderr",
     "output_type": "stream",
     "text": [
      "\r",
      " 14%|█▎        | 69/505 [19:49<1:39:11, 13.65s/it]"
     ]
    },
    {
     "name": "stdout",
     "output_type": "stream",
     "text": [
      "info assigned\n",
      "sector assigned\n",
      "mkt cap assigned\n",
      "sector appended\n",
      "mkt cap appended\n",
      "ticker list appended\n",
      "-----------------\n",
      "INTU\n"
     ]
    },
    {
     "name": "stderr",
     "output_type": "stream",
     "text": [
      "\r",
      " 14%|█▍        | 70/505 [20:02<1:37:55, 13.51s/it]"
     ]
    },
    {
     "name": "stdout",
     "output_type": "stream",
     "text": [
      "info assigned\n",
      "sector assigned\n",
      "mkt cap assigned\n",
      "sector appended\n",
      "mkt cap appended\n",
      "ticker list appended\n",
      "-----------------\n",
      "NOW\n"
     ]
    },
    {
     "name": "stderr",
     "output_type": "stream",
     "text": [
      "\r",
      " 14%|█▍        | 71/505 [20:17<1:41:10, 13.99s/it]"
     ]
    },
    {
     "name": "stdout",
     "output_type": "stream",
     "text": [
      "info assigned\n",
      "sector assigned\n",
      "mkt cap assigned\n",
      "sector appended\n",
      "mkt cap appended\n",
      "ticker list appended\n",
      "-----------------\n",
      "SPGI\n"
     ]
    },
    {
     "name": "stderr",
     "output_type": "stream",
     "text": [
      "\r",
      " 14%|█▍        | 72/505 [20:33<1:45:22, 14.60s/it]"
     ]
    },
    {
     "name": "stdout",
     "output_type": "stream",
     "text": [
      "-----------------\n",
      "GILD\n"
     ]
    },
    {
     "name": "stderr",
     "output_type": "stream",
     "text": [
      "\r",
      " 14%|█▍        | 73/505 [20:50<1:49:05, 15.15s/it]"
     ]
    },
    {
     "name": "stdout",
     "output_type": "stream",
     "text": [
      "info assigned\n",
      "sector assigned\n",
      "mkt cap assigned\n",
      "sector appended\n",
      "mkt cap appended\n",
      "ticker list appended\n",
      "-----------------\n",
      "CVS\n"
     ]
    },
    {
     "name": "stderr",
     "output_type": "stream",
     "text": [
      "\r",
      " 15%|█▍        | 74/505 [21:12<2:04:23, 17.32s/it]"
     ]
    },
    {
     "name": "stdout",
     "output_type": "stream",
     "text": [
      "info assigned\n",
      "sector assigned\n",
      "mkt cap assigned\n",
      "sector appended\n",
      "mkt cap appended\n",
      "ticker list appended\n",
      "-----------------\n",
      "MDLZ\n"
     ]
    },
    {
     "name": "stderr",
     "output_type": "stream",
     "text": [
      "\r",
      " 15%|█▍        | 75/505 [21:22<1:46:42, 14.89s/it]"
     ]
    },
    {
     "name": "stdout",
     "output_type": "stream",
     "text": [
      "-----------------\n",
      "ISRG\n"
     ]
    },
    {
     "name": "stderr",
     "output_type": "stream",
     "text": [
      "\r",
      " 15%|█▌        | 76/505 [21:30<1:31:45, 12.83s/it]"
     ]
    },
    {
     "name": "stdout",
     "output_type": "stream",
     "text": [
      "-----------------\n",
      "MO\n"
     ]
    },
    {
     "name": "stderr",
     "output_type": "stream",
     "text": [
      "\r",
      " 15%|█▌        | 77/505 [21:40<1:25:37, 12.00s/it]"
     ]
    },
    {
     "name": "stdout",
     "output_type": "stream",
     "text": [
      "info assigned\n",
      "sector assigned\n",
      "mkt cap assigned\n",
      "sector appended\n",
      "mkt cap appended\n",
      "ticker list appended\n",
      "-----------------\n",
      "TGT\n"
     ]
    },
    {
     "name": "stderr",
     "output_type": "stream",
     "text": [
      "\r",
      " 15%|█▌        | 78/505 [21:51<1:24:19, 11.85s/it]"
     ]
    },
    {
     "name": "stdout",
     "output_type": "stream",
     "text": [
      "-----------------\n",
      "CAT\n"
     ]
    },
    {
     "name": "stderr",
     "output_type": "stream",
     "text": [
      "\r",
      " 16%|█▌        | 79/505 [22:06<1:31:13, 12.85s/it]"
     ]
    },
    {
     "name": "stdout",
     "output_type": "stream",
     "text": [
      "info assigned\n",
      "sector assigned\n",
      "mkt cap assigned\n",
      "sector appended\n",
      "mkt cap appended\n",
      "ticker list appended\n",
      "-----------------\n",
      "BKNG\n"
     ]
    },
    {
     "name": "stderr",
     "output_type": "stream",
     "text": [
      "\r",
      " 16%|█▌        | 80/505 [22:18<1:29:38, 12.66s/it]"
     ]
    },
    {
     "name": "stdout",
     "output_type": "stream",
     "text": [
      "info assigned\n",
      "sector assigned\n",
      "mkt cap assigned\n",
      "sector appended\n",
      "mkt cap appended\n",
      "ticker list appended\n",
      "-----------------\n",
      "ZTS\n"
     ]
    },
    {
     "name": "stderr",
     "output_type": "stream",
     "text": [
      "\r",
      " 16%|█▌        | 81/505 [22:28<1:22:41, 11.70s/it]"
     ]
    },
    {
     "name": "stdout",
     "output_type": "stream",
     "text": [
      "info assigned\n",
      "sector assigned\n",
      "mkt cap assigned\n",
      "sector appended\n",
      "mkt cap appended\n",
      "ticker list appended\n",
      "-----------------\n",
      "BDX\n"
     ]
    },
    {
     "name": "stderr",
     "output_type": "stream",
     "text": [
      "\r",
      " 16%|█▌        | 82/505 [22:38<1:19:24, 11.26s/it]"
     ]
    },
    {
     "name": "stdout",
     "output_type": "stream",
     "text": [
      "info assigned\n",
      "sector assigned\n",
      "mkt cap assigned\n",
      "sector appended\n",
      "mkt cap appended\n",
      "ticker list appended\n",
      "-----------------\n",
      "PLD\n"
     ]
    },
    {
     "name": "stderr",
     "output_type": "stream",
     "text": [
      "\r",
      " 16%|█▋        | 83/505 [22:51<1:22:13, 11.69s/it]"
     ]
    },
    {
     "name": "stdout",
     "output_type": "stream",
     "text": [
      "info assigned\n",
      "sector assigned\n",
      "mkt cap assigned\n",
      "sector appended\n",
      "mkt cap appended\n",
      "ticker list appended\n",
      "-----------------\n",
      "VRTX\n"
     ]
    },
    {
     "name": "stderr",
     "output_type": "stream",
     "text": [
      "\r",
      " 17%|█▋        | 84/505 [23:02<1:20:37, 11.49s/it]"
     ]
    },
    {
     "name": "stdout",
     "output_type": "stream",
     "text": [
      "info assigned\n",
      "sector assigned\n",
      "mkt cap assigned\n",
      "sector appended\n",
      "mkt cap appended\n",
      "ticker list appended\n",
      "-----------------\n",
      "ANTM\n"
     ]
    },
    {
     "name": "stderr",
     "output_type": "stream",
     "text": [
      "\r",
      " 17%|█▋        | 85/505 [23:37<2:10:06, 18.59s/it]"
     ]
    },
    {
     "name": "stdout",
     "output_type": "stream",
     "text": [
      "-----------------\n",
      "EQIX\n"
     ]
    },
    {
     "name": "stderr",
     "output_type": "stream",
     "text": [
      "\r",
      " 17%|█▋        | 86/505 [23:48<1:53:49, 16.30s/it]"
     ]
    },
    {
     "name": "stdout",
     "output_type": "stream",
     "text": [
      "info assigned\n",
      "sector assigned\n",
      "mkt cap assigned\n",
      "sector appended\n",
      "mkt cap appended\n",
      "ticker list appended\n",
      "-----------------\n",
      "TMUS\n"
     ]
    },
    {
     "name": "stderr",
     "output_type": "stream",
     "text": [
      "\r",
      " 17%|█▋        | 87/505 [23:51<1:26:10, 12.37s/it]"
     ]
    },
    {
     "name": "stdout",
     "output_type": "stream",
     "text": [
      "-----------------\n",
      "CCI\n"
     ]
    },
    {
     "name": "stderr",
     "output_type": "stream",
     "text": [
      "\r",
      " 17%|█▋        | 88/505 [23:59<1:17:10, 11.10s/it]"
     ]
    },
    {
     "name": "stdout",
     "output_type": "stream",
     "text": [
      "info assigned\n",
      "sector assigned\n",
      "mkt cap assigned\n",
      "sector appended\n",
      "mkt cap appended\n",
      "ticker list appended\n",
      "-----------------\n",
      "CL\n"
     ]
    },
    {
     "name": "stderr",
     "output_type": "stream",
     "text": [
      "\r",
      " 18%|█▊        | 89/505 [24:09<1:13:55, 10.66s/it]"
     ]
    },
    {
     "name": "stdout",
     "output_type": "stream",
     "text": [
      "info assigned\n",
      "sector assigned\n",
      "mkt cap assigned\n",
      "sector appended\n",
      "mkt cap appended\n",
      "ticker list appended\n",
      "-----------------\n",
      "D\n"
     ]
    },
    {
     "name": "stderr",
     "output_type": "stream",
     "text": [
      "\r",
      " 18%|█▊        | 90/505 [24:17<1:08:19,  9.88s/it]"
     ]
    },
    {
     "name": "stdout",
     "output_type": "stream",
     "text": [
      "info assigned\n",
      "sector assigned\n",
      "mkt cap assigned\n",
      "sector appended\n",
      "mkt cap appended\n",
      "ticker list appended\n",
      "-----------------\n",
      "CI\n"
     ]
    },
    {
     "name": "stderr",
     "output_type": "stream",
     "text": [
      "\r",
      " 18%|█▊        | 91/505 [24:31<1:17:03, 11.17s/it]"
     ]
    },
    {
     "name": "stdout",
     "output_type": "stream",
     "text": [
      "info assigned\n",
      "sector assigned\n",
      "mkt cap assigned\n",
      "sector appended\n",
      "mkt cap appended\n",
      "ticker list appended\n",
      "-----------------\n",
      "AXP\n"
     ]
    },
    {
     "name": "stderr",
     "output_type": "stream",
     "text": [
      "\r",
      " 18%|█▊        | 92/505 [24:53<1:38:47, 14.35s/it]"
     ]
    },
    {
     "name": "stdout",
     "output_type": "stream",
     "text": [
      "info assigned\n",
      "sector assigned\n",
      "mkt cap assigned\n",
      "sector appended\n",
      "mkt cap appended\n",
      "ticker list appended\n",
      "-----------------\n",
      "ATVI\n"
     ]
    },
    {
     "name": "stderr",
     "output_type": "stream",
     "text": [
      "\r",
      " 18%|█▊        | 93/505 [25:02<1:26:48, 12.64s/it]"
     ]
    },
    {
     "name": "stdout",
     "output_type": "stream",
     "text": [
      "info assigned\n",
      "sector assigned\n",
      "mkt cap assigned\n",
      "sector appended\n",
      "mkt cap appended\n",
      "ticker list appended\n",
      "-----------------\n",
      "DE\n"
     ]
    },
    {
     "name": "stderr",
     "output_type": "stream",
     "text": [
      "\r",
      " 19%|█▊        | 94/505 [25:13<1:23:14, 12.15s/it]"
     ]
    },
    {
     "name": "stdout",
     "output_type": "stream",
     "text": [
      "info assigned\n",
      "sector assigned\n",
      "mkt cap assigned\n",
      "sector appended\n",
      "mkt cap appended\n",
      "ticker list appended\n",
      "-----------------\n",
      "GS\n"
     ]
    },
    {
     "name": "stderr",
     "output_type": "stream",
     "text": [
      "\r",
      " 19%|█▉        | 95/505 [25:24<1:22:09, 12.02s/it]"
     ]
    },
    {
     "name": "stdout",
     "output_type": "stream",
     "text": [
      "info assigned\n",
      "sector assigned\n",
      "mkt cap assigned\n",
      "sector appended\n",
      "mkt cap appended\n",
      "ticker list appended\n",
      "-----------------\n",
      "TJX\n"
     ]
    },
    {
     "name": "stderr",
     "output_type": "stream",
     "text": [
      "\r",
      " 19%|█▉        | 96/505 [25:35<1:18:30, 11.52s/it]"
     ]
    },
    {
     "name": "stdout",
     "output_type": "stream",
     "text": [
      "info assigned\n",
      "sector assigned\n",
      "mkt cap assigned\n",
      "sector appended\n",
      "mkt cap appended\n",
      "ticker list appended\n",
      "-----------------\n",
      "APD\n"
     ]
    },
    {
     "name": "stderr",
     "output_type": "stream",
     "text": [
      "\r",
      " 19%|█▉        | 97/505 [25:47<1:19:36, 11.71s/it]"
     ]
    },
    {
     "name": "stdout",
     "output_type": "stream",
     "text": [
      "info assigned\n",
      "sector assigned\n",
      "mkt cap assigned\n",
      "sector appended\n",
      "mkt cap appended\n",
      "ticker list appended\n",
      "-----------------\n",
      "CME\n"
     ]
    },
    {
     "name": "stderr",
     "output_type": "stream",
     "text": [
      "\r",
      " 19%|█▉        | 98/505 [26:11<1:45:36, 15.57s/it]"
     ]
    },
    {
     "name": "stdout",
     "output_type": "stream",
     "text": [
      "info assigned\n",
      "sector assigned\n",
      "mkt cap assigned\n",
      "sector appended\n",
      "mkt cap appended\n",
      "ticker list appended\n",
      "-----------------\n",
      "MS\n"
     ]
    },
    {
     "name": "stderr",
     "output_type": "stream",
     "text": [
      "\r",
      " 20%|█▉        | 99/505 [26:32<1:56:26, 17.21s/it]"
     ]
    },
    {
     "name": "stdout",
     "output_type": "stream",
     "text": [
      "-----------------\n",
      "REGN\n"
     ]
    },
    {
     "name": "stderr",
     "output_type": "stream",
     "text": [
      "\r",
      " 20%|█▉        | 100/505 [26:49<1:54:05, 16.90s/it]"
     ]
    },
    {
     "name": "stdout",
     "output_type": "stream",
     "text": [
      "info assigned\n",
      "sector assigned\n",
      "mkt cap assigned\n",
      "sector appended\n",
      "mkt cap appended\n",
      "ticker list appended\n",
      "-----------------\n",
      "ADP\n"
     ]
    },
    {
     "name": "stderr",
     "output_type": "stream",
     "text": [
      "\r",
      " 20%|██        | 101/505 [27:01<1:43:59, 15.44s/it]"
     ]
    },
    {
     "name": "stdout",
     "output_type": "stream",
     "text": [
      "info assigned\n",
      "sector assigned\n",
      "mkt cap assigned\n",
      "sector appended\n",
      "mkt cap appended\n",
      "ticker list appended\n",
      "-----------------\n",
      "SYK\n"
     ]
    },
    {
     "name": "stderr",
     "output_type": "stream",
     "text": [
      "\r",
      " 20%|██        | 102/505 [27:09<1:30:13, 13.43s/it]"
     ]
    },
    {
     "name": "stdout",
     "output_type": "stream",
     "text": [
      "info assigned\n",
      "sector assigned\n",
      "mkt cap assigned\n",
      "sector appended\n",
      "mkt cap appended\n",
      "ticker list appended\n",
      "-----------------\n",
      "DUK\n"
     ]
    },
    {
     "name": "stderr",
     "output_type": "stream",
     "text": [
      "\r",
      " 20%|██        | 103/505 [27:23<1:29:39, 13.38s/it]"
     ]
    },
    {
     "name": "stdout",
     "output_type": "stream",
     "text": [
      "-----------------\n",
      "AMAT\n"
     ]
    },
    {
     "name": "stderr",
     "output_type": "stream",
     "text": [
      "\r",
      " 21%|██        | 104/505 [27:33<1:22:57, 12.41s/it]"
     ]
    },
    {
     "name": "stdout",
     "output_type": "stream",
     "text": [
      "info assigned\n",
      "sector assigned\n",
      "mkt cap assigned\n",
      "sector appended\n",
      "mkt cap appended\n",
      "ticker list appended\n",
      "-----------------\n",
      "CSX\n"
     ]
    },
    {
     "name": "stderr",
     "output_type": "stream",
     "text": [
      "\r",
      " 21%|██        | 105/505 [27:48<1:27:29, 13.12s/it]"
     ]
    },
    {
     "name": "stdout",
     "output_type": "stream",
     "text": [
      "info assigned\n",
      "sector assigned\n",
      "mkt cap assigned\n",
      "sector appended\n",
      "mkt cap appended\n",
      "ticker list appended\n",
      "-----------------\n",
      "MMC\n"
     ]
    },
    {
     "name": "stderr",
     "output_type": "stream",
     "text": [
      "\r",
      " 21%|██        | 106/505 [28:07<1:39:55, 15.03s/it]"
     ]
    },
    {
     "name": "stdout",
     "output_type": "stream",
     "text": [
      "info assigned\n",
      "sector assigned\n",
      "mkt cap assigned\n",
      "sector appended\n",
      "mkt cap appended\n",
      "ticker list appended\n",
      "-----------------\n",
      "GE\n"
     ]
    },
    {
     "name": "stderr",
     "output_type": "stream",
     "text": [
      "\r",
      " 21%|██        | 107/505 [28:24<1:42:54, 15.51s/it]"
     ]
    },
    {
     "name": "stdout",
     "output_type": "stream",
     "text": [
      "info assigned\n",
      "sector assigned\n",
      "mkt cap assigned\n",
      "sector appended\n",
      "mkt cap appended\n",
      "ticker list appended\n",
      "-----------------\n",
      "ICE\n"
     ]
    },
    {
     "name": "stderr",
     "output_type": "stream",
     "text": [
      "\r",
      " 21%|██▏       | 108/505 [28:38<1:39:07, 14.98s/it]"
     ]
    },
    {
     "name": "stdout",
     "output_type": "stream",
     "text": [
      "info assigned\n",
      "sector assigned\n",
      "mkt cap assigned\n",
      "sector appended\n",
      "mkt cap appended\n",
      "ticker list appended\n",
      "-----------------\n",
      "CB\n"
     ]
    },
    {
     "name": "stderr",
     "output_type": "stream",
     "text": [
      "\r",
      " 22%|██▏       | 109/505 [28:47<1:27:42, 13.29s/it]"
     ]
    },
    {
     "name": "stdout",
     "output_type": "stream",
     "text": [
      "-----------------\n",
      "ITW\n"
     ]
    },
    {
     "name": "stderr",
     "output_type": "stream",
     "text": [
      "\r",
      " 22%|██▏       | 110/505 [29:04<1:35:59, 14.58s/it]"
     ]
    },
    {
     "name": "stdout",
     "output_type": "stream",
     "text": [
      "info assigned\n",
      "sector assigned\n",
      "mkt cap assigned\n",
      "sector appended\n",
      "mkt cap appended\n",
      "ticker list appended\n",
      "-----------------\n",
      "BSX\n"
     ]
    },
    {
     "name": "stderr",
     "output_type": "stream",
     "text": [
      "\r",
      " 22%|██▏       | 111/505 [29:11<1:19:12, 12.06s/it]"
     ]
    },
    {
     "name": "stdout",
     "output_type": "stream",
     "text": [
      "info assigned\n",
      "sector assigned\n",
      "mkt cap assigned\n",
      "sector appended\n",
      "mkt cap appended\n",
      "ticker list appended\n",
      "-----------------\n",
      "SO\n"
     ]
    },
    {
     "name": "stderr",
     "output_type": "stream",
     "text": [
      "\r",
      " 22%|██▏       | 112/505 [29:24<1:20:35, 12.30s/it]"
     ]
    },
    {
     "name": "stdout",
     "output_type": "stream",
     "text": [
      "info assigned\n",
      "sector assigned\n",
      "mkt cap assigned\n",
      "sector appended\n",
      "mkt cap appended\n",
      "ticker list appended\n",
      "-----------------\n",
      "FISV\n"
     ]
    },
    {
     "name": "stderr",
     "output_type": "stream",
     "text": [
      "\r",
      " 22%|██▏       | 113/505 [29:33<1:14:00, 11.33s/it]"
     ]
    },
    {
     "name": "stdout",
     "output_type": "stream",
     "text": [
      "info assigned\n",
      "sector assigned\n",
      "mkt cap assigned\n",
      "sector appended\n",
      "mkt cap appended\n",
      "ticker list appended\n",
      "-----------------\n",
      "ADSK\n"
     ]
    },
    {
     "name": "stderr",
     "output_type": "stream",
     "text": [
      "\r",
      " 23%|██▎       | 114/505 [29:41<1:09:04, 10.60s/it]"
     ]
    },
    {
     "name": "stdout",
     "output_type": "stream",
     "text": [
      "info assigned\n",
      "sector assigned\n",
      "mkt cap assigned\n",
      "sector appended\n",
      "mkt cap appended\n",
      "ticker list appended\n",
      "-----------------\n",
      "NSC\n"
     ]
    },
    {
     "name": "stderr",
     "output_type": "stream",
     "text": [
      "\r",
      " 23%|██▎       | 115/505 [29:49<1:02:54,  9.68s/it]"
     ]
    },
    {
     "name": "stdout",
     "output_type": "stream",
     "text": [
      "info assigned\n",
      "sector assigned\n",
      "mkt cap assigned\n",
      "sector appended\n",
      "mkt cap appended\n",
      "ticker list appended\n",
      "-----------------\n",
      "SHW\n"
     ]
    },
    {
     "name": "stderr",
     "output_type": "stream",
     "text": [
      "\r",
      " 23%|██▎       | 116/505 [29:59<1:02:59,  9.72s/it]"
     ]
    },
    {
     "name": "stdout",
     "output_type": "stream",
     "text": [
      "info assigned\n",
      "sector assigned\n",
      "mkt cap assigned\n",
      "sector appended\n",
      "mkt cap appended\n",
      "ticker list appended\n",
      "-----------------\n",
      "PGR\n"
     ]
    },
    {
     "name": "stderr",
     "output_type": "stream",
     "text": [
      "\r",
      " 23%|██▎       | 117/505 [30:07<59:21,  9.18s/it]  "
     ]
    },
    {
     "name": "stdout",
     "output_type": "stream",
     "text": [
      "info assigned\n",
      "sector assigned\n",
      "mkt cap assigned\n",
      "sector appended\n",
      "mkt cap appended\n",
      "ticker list appended\n",
      "-----------------\n",
      "NOC\n"
     ]
    },
    {
     "name": "stderr",
     "output_type": "stream",
     "text": [
      "\r",
      " 23%|██▎       | 118/505 [30:14<55:45,  8.64s/it]"
     ]
    },
    {
     "name": "stdout",
     "output_type": "stream",
     "text": [
      "info assigned\n",
      "sector assigned\n",
      "mkt cap assigned\n",
      "sector appended\n",
      "mkt cap appended\n",
      "ticker list appended\n",
      "-----------------\n",
      "HUM\n"
     ]
    },
    {
     "name": "stderr",
     "output_type": "stream",
     "text": [
      "\r",
      " 24%|██▎       | 119/505 [30:28<1:05:30, 10.18s/it]"
     ]
    },
    {
     "name": "stdout",
     "output_type": "stream",
     "text": [
      "info assigned\n",
      "sector assigned\n",
      "mkt cap assigned\n",
      "sector appended\n",
      "mkt cap appended\n",
      "ticker list appended\n",
      "-----------------\n",
      "KMB\n"
     ]
    },
    {
     "name": "stderr",
     "output_type": "stream",
     "text": [
      "\r",
      " 24%|██▍       | 120/505 [30:40<1:09:45, 10.87s/it]"
     ]
    },
    {
     "name": "stdout",
     "output_type": "stream",
     "text": [
      "info assigned\n",
      "sector assigned\n",
      "mkt cap assigned\n",
      "sector appended\n",
      "mkt cap appended\n",
      "ticker list appended\n",
      "-----------------\n",
      "TFC\n"
     ]
    },
    {
     "name": "stderr",
     "output_type": "stream",
     "text": [
      "\r",
      " 24%|██▍       | 121/505 [30:53<1:13:54, 11.55s/it]"
     ]
    },
    {
     "name": "stdout",
     "output_type": "stream",
     "text": [
      "-----------------\n",
      "NEM\n"
     ]
    },
    {
     "name": "stderr",
     "output_type": "stream",
     "text": [
      "\r",
      " 24%|██▍       | 122/505 [31:05<1:14:34, 11.68s/it]"
     ]
    },
    {
     "name": "stdout",
     "output_type": "stream",
     "text": [
      "info assigned\n",
      "sector assigned\n",
      "mkt cap assigned\n",
      "sector appended\n",
      "mkt cap appended\n",
      "ticker list appended\n",
      "-----------------\n",
      "GPN\n"
     ]
    },
    {
     "name": "stderr",
     "output_type": "stream",
     "text": [
      "\r",
      " 24%|██▍       | 123/505 [31:25<1:29:18, 14.03s/it]"
     ]
    },
    {
     "name": "stdout",
     "output_type": "stream",
     "text": [
      "info assigned\n",
      "sector assigned\n",
      "mkt cap assigned\n",
      "sector appended\n",
      "mkt cap appended\n",
      "ticker list appended\n",
      "-----------------\n",
      "ILMN\n"
     ]
    },
    {
     "name": "stderr",
     "output_type": "stream",
     "text": [
      "\r",
      " 25%|██▍       | 124/505 [31:32<1:16:07, 11.99s/it]"
     ]
    },
    {
     "name": "stdout",
     "output_type": "stream",
     "text": [
      "info assigned\n",
      "sector assigned\n",
      "mkt cap assigned\n",
      "sector appended\n",
      "mkt cap appended\n",
      "ticker list appended\n",
      "-----------------\n",
      "FDX\n"
     ]
    },
    {
     "name": "stderr",
     "output_type": "stream",
     "text": [
      "\r",
      " 25%|██▍       | 125/505 [31:39<1:06:35, 10.51s/it]"
     ]
    },
    {
     "name": "stdout",
     "output_type": "stream",
     "text": [
      "-----------------\n",
      "LRCX\n"
     ]
    },
    {
     "name": "stderr",
     "output_type": "stream",
     "text": [
      "\r",
      " 25%|██▍       | 126/505 [32:01<1:27:01, 13.78s/it]"
     ]
    },
    {
     "name": "stdout",
     "output_type": "stream",
     "text": [
      "info assigned\n",
      "sector assigned\n",
      "mkt cap assigned\n",
      "sector appended\n",
      "mkt cap appended\n",
      "ticker list appended\n",
      "-----------------\n",
      "DG\n"
     ]
    },
    {
     "name": "stderr",
     "output_type": "stream",
     "text": [
      "\r",
      " 25%|██▌       | 127/505 [32:16<1:29:08, 14.15s/it]"
     ]
    },
    {
     "name": "stdout",
     "output_type": "stream",
     "text": [
      "info assigned\n",
      "sector assigned\n",
      "mkt cap assigned\n",
      "sector appended\n",
      "mkt cap appended\n",
      "ticker list appended\n",
      "-----------------\n",
      "USB\n"
     ]
    },
    {
     "name": "stderr",
     "output_type": "stream",
     "text": [
      "\r",
      " 25%|██▌       | 128/505 [32:21<1:11:53, 11.44s/it]"
     ]
    },
    {
     "name": "stdout",
     "output_type": "stream",
     "text": [
      "-----------------\n",
      "MU\n"
     ]
    },
    {
     "name": "stderr",
     "output_type": "stream",
     "text": [
      "\r",
      " 26%|██▌       | 129/505 [32:31<1:09:56, 11.16s/it]"
     ]
    },
    {
     "name": "stdout",
     "output_type": "stream",
     "text": [
      "info assigned\n",
      "-----------------\n",
      "EW\n"
     ]
    },
    {
     "name": "stderr",
     "output_type": "stream",
     "text": [
      "\r",
      " 26%|██▌       | 130/505 [32:39<1:02:28, 10.00s/it]"
     ]
    },
    {
     "name": "stdout",
     "output_type": "stream",
     "text": [
      "info assigned\n",
      "sector assigned\n",
      "mkt cap assigned\n",
      "sector appended\n",
      "mkt cap appended\n",
      "ticker list appended\n",
      "-----------------\n",
      "ECL\n"
     ]
    },
    {
     "name": "stderr",
     "output_type": "stream",
     "text": [
      "\r",
      " 26%|██▌       | 131/505 [32:46<56:45,  9.11s/it]  "
     ]
    },
    {
     "name": "stdout",
     "output_type": "stream",
     "text": [
      "info assigned\n",
      "sector assigned\n",
      "mkt cap assigned\n",
      "sector appended\n",
      "mkt cap appended\n",
      "ticker list appended\n",
      "-----------------\n",
      "EL\n"
     ]
    },
    {
     "name": "stderr",
     "output_type": "stream",
     "text": [
      "\r",
      " 26%|██▌       | 132/505 [33:07<1:19:34, 12.80s/it]"
     ]
    },
    {
     "name": "stdout",
     "output_type": "stream",
     "text": [
      "info assigned\n",
      "sector assigned\n",
      "mkt cap assigned\n",
      "sector appended\n",
      "mkt cap appended\n",
      "ticker list appended\n",
      "-----------------\n",
      "PNC\n"
     ]
    },
    {
     "name": "stderr",
     "output_type": "stream",
     "text": [
      "\r",
      " 26%|██▋       | 133/505 [33:16<1:11:55, 11.60s/it]"
     ]
    },
    {
     "name": "stdout",
     "output_type": "stream",
     "text": [
      "info assigned\n",
      "sector assigned\n",
      "mkt cap assigned\n",
      "sector appended\n",
      "mkt cap appended\n",
      "ticker list appended\n",
      "-----------------\n",
      "MCO\n"
     ]
    },
    {
     "name": "stderr",
     "output_type": "stream",
     "text": [
      "\r",
      " 27%|██▋       | 134/505 [33:27<1:11:13, 11.52s/it]"
     ]
    },
    {
     "name": "stdout",
     "output_type": "stream",
     "text": [
      "-----------------\n",
      "BIIB\n"
     ]
    },
    {
     "name": "stderr",
     "output_type": "stream",
     "text": [
      "\r",
      " 27%|██▋       | 135/505 [33:36<1:05:42, 10.65s/it]"
     ]
    },
    {
     "name": "stdout",
     "output_type": "stream",
     "text": [
      "info assigned\n",
      "sector assigned\n",
      "mkt cap assigned\n",
      "sector appended\n",
      "mkt cap appended\n",
      "ticker list appended\n",
      "-----------------\n",
      "AON\n"
     ]
    },
    {
     "name": "stderr",
     "output_type": "stream",
     "text": [
      "\r",
      " 27%|██▋       | 136/505 [33:42<56:43,  9.22s/it]  "
     ]
    },
    {
     "name": "stdout",
     "output_type": "stream",
     "text": [
      "info assigned\n",
      "sector assigned\n",
      "mkt cap assigned\n",
      "sector appended\n",
      "mkt cap appended\n",
      "ticker list appended\n",
      "-----------------\n",
      "ROP\n"
     ]
    },
    {
     "name": "stderr",
     "output_type": "stream",
     "text": [
      "\r",
      " 27%|██▋       | 137/505 [34:02<1:16:41, 12.51s/it]"
     ]
    },
    {
     "name": "stdout",
     "output_type": "stream",
     "text": [
      "info assigned\n",
      "sector assigned\n",
      "mkt cap assigned\n",
      "sector appended\n",
      "mkt cap appended\n",
      "ticker list appended\n",
      "-----------------\n",
      "ADI\n"
     ]
    },
    {
     "name": "stderr",
     "output_type": "stream",
     "text": [
      "\r",
      " 27%|██▋       | 138/505 [34:24<1:33:59, 15.37s/it]"
     ]
    },
    {
     "name": "stdout",
     "output_type": "stream",
     "text": [
      "info assigned\n",
      "sector assigned\n",
      "mkt cap assigned\n",
      "sector appended\n",
      "mkt cap appended\n",
      "ticker list appended\n",
      "-----------------\n",
      "WM\n"
     ]
    },
    {
     "name": "stderr",
     "output_type": "stream",
     "text": [
      "\r",
      " 28%|██▊       | 139/505 [34:31<1:17:59, 12.78s/it]"
     ]
    },
    {
     "name": "stdout",
     "output_type": "stream",
     "text": [
      "-----------------\n",
      "BAX\n"
     ]
    },
    {
     "name": "stderr",
     "output_type": "stream",
     "text": [
      "\r",
      " 28%|██▊       | 140/505 [34:41<1:13:03, 12.01s/it]"
     ]
    },
    {
     "name": "stdout",
     "output_type": "stream",
     "text": [
      "info assigned\n",
      "sector assigned\n",
      "mkt cap assigned\n",
      "sector appended\n",
      "mkt cap appended\n",
      "ticker list appended\n",
      "-----------------\n",
      "EMR\n"
     ]
    },
    {
     "name": "stderr",
     "output_type": "stream",
     "text": [
      "\r",
      " 28%|██▊       | 141/505 [34:52<1:11:00, 11.71s/it]"
     ]
    },
    {
     "name": "stdout",
     "output_type": "stream",
     "text": [
      "info assigned\n",
      "sector assigned\n",
      "mkt cap assigned\n",
      "sector appended\n",
      "mkt cap appended\n",
      "ticker list appended\n",
      "-----------------\n",
      "COP\n"
     ]
    },
    {
     "name": "stderr",
     "output_type": "stream",
     "text": [
      "\r",
      " 28%|██▊       | 142/505 [35:03<1:09:07, 11.43s/it]"
     ]
    },
    {
     "name": "stdout",
     "output_type": "stream",
     "text": [
      "info assigned\n",
      "sector assigned\n",
      "mkt cap assigned\n",
      "sector appended\n",
      "mkt cap appended\n",
      "ticker list appended\n",
      "-----------------\n",
      "DLR\n"
     ]
    },
    {
     "name": "stderr",
     "output_type": "stream",
     "text": [
      "\r",
      " 28%|██▊       | 143/505 [35:13<1:06:51, 11.08s/it]"
     ]
    },
    {
     "name": "stdout",
     "output_type": "stream",
     "text": [
      "info assigned\n",
      "sector assigned\n",
      "mkt cap assigned\n",
      "sector appended\n",
      "mkt cap appended\n",
      "ticker list appended\n",
      "-----------------\n",
      "DD\n"
     ]
    },
    {
     "name": "stderr",
     "output_type": "stream",
     "text": [
      "\r",
      " 29%|██▊       | 144/505 [35:19<57:06,  9.49s/it]  "
     ]
    },
    {
     "name": "stdout",
     "output_type": "stream",
     "text": [
      "-----------------\n",
      "EA\n"
     ]
    },
    {
     "name": "stderr",
     "output_type": "stream",
     "text": [
      "\r",
      " 29%|██▊       | 145/505 [35:27<54:25,  9.07s/it]"
     ]
    },
    {
     "name": "stdout",
     "output_type": "stream",
     "text": [
      "info assigned\n",
      "sector assigned\n",
      "mkt cap assigned\n",
      "sector appended\n",
      "mkt cap appended\n",
      "ticker list appended\n",
      "-----------------\n",
      "ETN\n"
     ]
    },
    {
     "name": "stderr",
     "output_type": "stream",
     "text": [
      "\r",
      " 29%|██▉       | 146/505 [35:32<47:10,  7.89s/it]"
     ]
    },
    {
     "name": "stdout",
     "output_type": "stream",
     "text": [
      "-----------------\n",
      "SCHW\n"
     ]
    },
    {
     "name": "stderr",
     "output_type": "stream",
     "text": [
      "\r",
      " 29%|██▉       | 147/505 [35:40<48:03,  8.06s/it]"
     ]
    },
    {
     "name": "stdout",
     "output_type": "stream",
     "text": [
      "info assigned\n",
      "sector assigned\n",
      "mkt cap assigned\n",
      "sector appended\n",
      "mkt cap appended\n",
      "ticker list appended\n",
      "-----------------\n",
      "DXCM\n"
     ]
    },
    {
     "name": "stderr",
     "output_type": "stream",
     "text": [
      "\r",
      " 29%|██▉       | 148/505 [35:54<58:22,  9.81s/it]"
     ]
    },
    {
     "name": "stdout",
     "output_type": "stream",
     "text": [
      "info assigned\n",
      "sector assigned\n",
      "mkt cap assigned\n",
      "sector appended\n",
      "mkt cap appended\n",
      "ticker list appended\n",
      "-----------------\n",
      "AEP\n"
     ]
    },
    {
     "name": "stderr",
     "output_type": "stream",
     "text": [
      "\r",
      " 30%|██▉       | 149/505 [36:03<56:35,  9.54s/it]"
     ]
    },
    {
     "name": "stdout",
     "output_type": "stream",
     "text": [
      "info assigned\n",
      "sector assigned\n",
      "mkt cap assigned\n",
      "sector appended\n",
      "mkt cap appended\n",
      "ticker list appended\n",
      "-----------------\n",
      "LHX\n"
     ]
    },
    {
     "name": "stderr",
     "output_type": "stream",
     "text": [
      "\r",
      " 30%|██▉       | 150/505 [36:11<52:42,  8.91s/it]"
     ]
    },
    {
     "name": "stdout",
     "output_type": "stream",
     "text": [
      "-----------------\n",
      "GIS\n"
     ]
    },
    {
     "name": "stderr",
     "output_type": "stream",
     "text": [
      "\r",
      " 30%|██▉       | 151/505 [36:17<48:10,  8.16s/it]"
     ]
    },
    {
     "name": "stdout",
     "output_type": "stream",
     "text": [
      "info assigned\n",
      "sector assigned\n",
      "mkt cap assigned\n",
      "sector appended\n",
      "mkt cap appended\n",
      "ticker list appended\n",
      "-----------------\n",
      "EBAY\n"
     ]
    },
    {
     "name": "stderr",
     "output_type": "stream",
     "text": [
      "\r",
      " 30%|███       | 152/505 [36:30<56:19,  9.57s/it]"
     ]
    },
    {
     "name": "stdout",
     "output_type": "stream",
     "text": [
      "info assigned\n",
      "sector assigned\n",
      "mkt cap assigned\n",
      "sector appended\n",
      "mkt cap appended\n",
      "ticker list appended\n",
      "-----------------\n",
      "GM\n"
     ]
    },
    {
     "name": "stderr",
     "output_type": "stream",
     "text": [
      "\r",
      " 30%|███       | 153/505 [36:37<52:39,  8.98s/it]"
     ]
    },
    {
     "name": "stdout",
     "output_type": "stream",
     "text": [
      "info assigned\n",
      "sector assigned\n",
      "mkt cap assigned\n",
      "sector appended\n",
      "mkt cap appended\n",
      "ticker list appended\n",
      "-----------------\n",
      "SRE\n"
     ]
    },
    {
     "name": "stderr",
     "output_type": "stream",
     "text": [
      "\r",
      " 30%|███       | 154/505 [36:47<53:26,  9.14s/it]"
     ]
    },
    {
     "name": "stdout",
     "output_type": "stream",
     "text": [
      "info assigned\n",
      "sector assigned\n",
      "mkt cap assigned\n",
      "sector appended\n",
      "mkt cap appended\n",
      "ticker list appended\n",
      "-----------------\n",
      "CTSH\n"
     ]
    },
    {
     "name": "stderr",
     "output_type": "stream",
     "text": [
      "\r",
      " 31%|███       | 155/505 [36:59<58:53, 10.10s/it]"
     ]
    },
    {
     "name": "stdout",
     "output_type": "stream",
     "text": [
      "info assigned\n",
      "sector assigned\n",
      "mkt cap assigned\n",
      "sector appended\n",
      "mkt cap appended\n",
      "ticker list appended\n",
      "-----------------\n",
      "XEL\n"
     ]
    },
    {
     "name": "stderr",
     "output_type": "stream",
     "text": [
      "\r",
      " 31%|███       | 156/505 [37:10<59:25, 10.22s/it]"
     ]
    },
    {
     "name": "stdout",
     "output_type": "stream",
     "text": [
      "-----------------\n",
      "EXC\n"
     ]
    },
    {
     "name": "stderr",
     "output_type": "stream",
     "text": [
      "\r",
      " 31%|███       | 157/505 [37:20<58:34, 10.10s/it]"
     ]
    },
    {
     "name": "stdout",
     "output_type": "stream",
     "text": [
      "info assigned\n",
      "sector assigned\n",
      "mkt cap assigned\n",
      "sector appended\n",
      "mkt cap appended\n",
      "ticker list appended\n",
      "-----------------\n",
      "GD\n"
     ]
    },
    {
     "name": "stderr",
     "output_type": "stream",
     "text": [
      "\r",
      " 31%|███▏      | 158/505 [37:29<56:45,  9.82s/it]"
     ]
    },
    {
     "name": "stdout",
     "output_type": "stream",
     "text": [
      "info assigned\n",
      "-----------------\n",
      "HCA\n"
     ]
    },
    {
     "name": "stderr",
     "output_type": "stream",
     "text": [
      "\r",
      " 31%|███▏      | 159/505 [37:41<1:01:12, 10.61s/it]"
     ]
    },
    {
     "name": "stdout",
     "output_type": "stream",
     "text": [
      "info assigned\n",
      "sector assigned\n",
      "mkt cap assigned\n",
      "sector appended\n",
      "mkt cap appended\n",
      "ticker list appended\n",
      "-----------------\n",
      "CNC\n"
     ]
    },
    {
     "name": "stderr",
     "output_type": "stream",
     "text": [
      "\r",
      " 32%|███▏      | 160/505 [37:55<1:06:41, 11.60s/it]"
     ]
    },
    {
     "name": "stdout",
     "output_type": "stream",
     "text": [
      "info assigned\n",
      "sector assigned\n",
      "mkt cap assigned\n",
      "sector appended\n",
      "mkt cap appended\n",
      "ticker list appended\n",
      "-----------------\n",
      "ORLY\n"
     ]
    },
    {
     "name": "stderr",
     "output_type": "stream",
     "text": [
      "\r",
      " 32%|███▏      | 161/505 [38:02<58:02, 10.12s/it]  "
     ]
    },
    {
     "name": "stdout",
     "output_type": "stream",
     "text": [
      "info assigned\n",
      "sector assigned\n",
      "mkt cap assigned\n",
      "sector appended\n",
      "mkt cap appended\n",
      "ticker list appended\n",
      "-----------------\n",
      "SBAC\n"
     ]
    },
    {
     "name": "stderr",
     "output_type": "stream",
     "text": [
      "\r",
      " 32%|███▏      | 162/505 [38:08<51:29,  9.01s/it]"
     ]
    },
    {
     "name": "stdout",
     "output_type": "stream",
     "text": [
      "info assigned\n",
      "sector assigned\n",
      "mkt cap assigned\n",
      "sector appended\n",
      "mkt cap appended\n",
      "ticker list appended\n",
      "-----------------\n",
      "DOW\n"
     ]
    },
    {
     "name": "stderr",
     "output_type": "stream",
     "text": [
      "\r",
      " 32%|███▏      | 163/505 [38:17<51:34,  9.05s/it]"
     ]
    },
    {
     "name": "stdout",
     "output_type": "stream",
     "text": [
      "info assigned\n",
      "sector assigned\n",
      "mkt cap assigned\n",
      "sector appended\n",
      "mkt cap appended\n",
      "ticker list appended\n",
      "-----------------\n",
      "KLAC\n"
     ]
    },
    {
     "name": "stderr",
     "output_type": "stream",
     "text": [
      "\r",
      " 32%|███▏      | 164/505 [38:26<50:31,  8.89s/it]"
     ]
    },
    {
     "name": "stdout",
     "output_type": "stream",
     "text": [
      "info assigned\n",
      "sector assigned\n",
      "mkt cap assigned\n",
      "sector appended\n",
      "mkt cap appended\n",
      "ticker list appended\n",
      "-----------------\n",
      "IDXX\n"
     ]
    },
    {
     "name": "stderr",
     "output_type": "stream",
     "text": [
      "\r",
      " 33%|███▎      | 165/505 [38:37<53:23,  9.42s/it]"
     ]
    },
    {
     "name": "stdout",
     "output_type": "stream",
     "text": [
      "info assigned\n",
      "sector assigned\n",
      "mkt cap assigned\n",
      "sector appended\n",
      "mkt cap appended\n",
      "ticker list appended\n",
      "-----------------\n",
      "SNPS\n"
     ]
    },
    {
     "name": "stderr",
     "output_type": "stream",
     "text": [
      "\r",
      " 33%|███▎      | 166/505 [38:43<47:24,  8.39s/it]"
     ]
    },
    {
     "name": "stdout",
     "output_type": "stream",
     "text": [
      "info assigned\n",
      "sector assigned\n",
      "mkt cap assigned\n",
      "sector appended\n",
      "mkt cap appended\n",
      "ticker list appended\n",
      "-----------------\n",
      "ROST\n"
     ]
    },
    {
     "name": "stderr",
     "output_type": "stream",
     "text": [
      "\r",
      " 33%|███▎      | 167/505 [38:52<48:27,  8.60s/it]"
     ]
    },
    {
     "name": "stdout",
     "output_type": "stream",
     "text": [
      "info assigned\n",
      "sector assigned\n",
      "mkt cap assigned\n",
      "sector appended\n",
      "mkt cap appended\n",
      "ticker list appended\n",
      "-----------------\n",
      "CMG\n"
     ]
    },
    {
     "name": "stderr",
     "output_type": "stream",
     "text": [
      "\r",
      " 33%|███▎      | 168/505 [38:58<45:17,  8.06s/it]"
     ]
    },
    {
     "name": "stdout",
     "output_type": "stream",
     "text": [
      "-----------------\n",
      "INFO\n"
     ]
    },
    {
     "name": "stderr",
     "output_type": "stream",
     "text": [
      "\r",
      " 33%|███▎      | 169/505 [39:06<44:14,  7.90s/it]"
     ]
    },
    {
     "name": "stdout",
     "output_type": "stream",
     "text": [
      "info assigned\n",
      "sector assigned\n",
      "mkt cap assigned\n",
      "sector appended\n",
      "mkt cap appended\n",
      "ticker list appended\n",
      "-----------------\n",
      "APH\n"
     ]
    },
    {
     "name": "stderr",
     "output_type": "stream",
     "text": [
      "\r",
      " 34%|███▎      | 170/505 [39:12<41:04,  7.36s/it]"
     ]
    },
    {
     "name": "stdout",
     "output_type": "stream",
     "text": [
      "-----------------\n",
      "TWTR\n"
     ]
    },
    {
     "name": "stderr",
     "output_type": "stream",
     "text": [
      "\r",
      " 34%|███▍      | 171/505 [39:24<49:19,  8.86s/it]"
     ]
    },
    {
     "name": "stdout",
     "output_type": "stream",
     "text": [
      "info assigned\n",
      "sector assigned\n",
      "mkt cap assigned\n",
      "sector appended\n",
      "mkt cap appended\n",
      "ticker list appended\n",
      "-----------------\n",
      "TEL\n"
     ]
    },
    {
     "name": "stderr",
     "output_type": "stream",
     "text": [
      "\r",
      " 34%|███▍      | 172/505 [39:31<44:46,  8.07s/it]"
     ]
    },
    {
     "name": "stdout",
     "output_type": "stream",
     "text": [
      "-----------------\n",
      "MNST\n"
     ]
    },
    {
     "name": "stderr",
     "output_type": "stream",
     "text": [
      "\r",
      " 34%|███▍      | 173/505 [39:39<44:53,  8.11s/it]"
     ]
    },
    {
     "name": "stdout",
     "output_type": "stream",
     "text": [
      "-----------------\n",
      "CDNS\n"
     ]
    },
    {
     "name": "stderr",
     "output_type": "stream",
     "text": [
      "\r",
      " 34%|███▍      | 174/505 [39:51<50:46,  9.20s/it]"
     ]
    },
    {
     "name": "stdout",
     "output_type": "stream",
     "text": [
      "info assigned\n",
      "sector assigned\n",
      "mkt cap assigned\n",
      "sector appended\n",
      "mkt cap appended\n",
      "ticker list appended\n",
      "-----------------\n",
      "CMI\n"
     ]
    },
    {
     "name": "stderr",
     "output_type": "stream",
     "text": [
      "\r",
      " 35%|███▍      | 175/505 [39:56<44:01,  8.01s/it]"
     ]
    },
    {
     "name": "stdout",
     "output_type": "stream",
     "text": [
      "info assigned\n",
      "sector assigned\n",
      "mkt cap assigned\n",
      "sector appended\n",
      "mkt cap appended\n",
      "ticker list appended\n",
      "-----------------\n",
      "TROW\n"
     ]
    },
    {
     "name": "stderr",
     "output_type": "stream",
     "text": [
      "\r",
      " 35%|███▍      | 176/505 [40:07<48:42,  8.88s/it]"
     ]
    },
    {
     "name": "stdout",
     "output_type": "stream",
     "text": [
      "info assigned\n",
      "sector assigned\n",
      "mkt cap assigned\n",
      "sector appended\n",
      "mkt cap appended\n",
      "ticker list appended\n",
      "-----------------\n",
      "MSCI\n"
     ]
    },
    {
     "name": "stderr",
     "output_type": "stream",
     "text": [
      "\r",
      " 35%|███▌      | 177/505 [40:13<43:30,  7.96s/it]"
     ]
    },
    {
     "name": "stdout",
     "output_type": "stream",
     "text": [
      "info assigned\n",
      "sector assigned\n",
      "mkt cap assigned\n",
      "sector appended\n",
      "mkt cap appended\n",
      "ticker list appended\n",
      "-----------------\n",
      "PSA\n"
     ]
    },
    {
     "name": "stderr",
     "output_type": "stream",
     "text": [
      "\r",
      " 35%|███▌      | 178/505 [40:20<43:00,  7.89s/it]"
     ]
    },
    {
     "name": "stdout",
     "output_type": "stream",
     "text": [
      "info assigned\n",
      "sector assigned\n",
      "mkt cap assigned\n",
      "sector appended\n",
      "mkt cap appended\n",
      "ticker list appended\n",
      "-----------------\n",
      "JCI\n"
     ]
    },
    {
     "name": "stderr",
     "output_type": "stream",
     "text": [
      "\r",
      " 35%|███▌      | 179/505 [40:26<39:57,  7.35s/it]"
     ]
    },
    {
     "name": "stdout",
     "output_type": "stream",
     "text": [
      "info assigned\n",
      "sector assigned\n",
      "mkt cap assigned\n",
      "sector appended\n",
      "mkt cap appended\n",
      "ticker list appended\n",
      "-----------------\n",
      "COF\n"
     ]
    },
    {
     "name": "stderr",
     "output_type": "stream",
     "text": [
      "\r",
      " 36%|███▌      | 180/505 [40:36<43:54,  8.11s/it]"
     ]
    },
    {
     "name": "stdout",
     "output_type": "stream",
     "text": [
      "info assigned\n",
      "sector assigned\n",
      "mkt cap assigned\n",
      "sector appended\n",
      "mkt cap appended\n",
      "ticker list appended\n",
      "-----------------\n",
      "A\n"
     ]
    },
    {
     "name": "stderr",
     "output_type": "stream",
     "text": [
      "\r",
      " 36%|███▌      | 181/505 [40:42<39:56,  7.40s/it]"
     ]
    },
    {
     "name": "stdout",
     "output_type": "stream",
     "text": [
      "info assigned\n",
      "sector assigned\n",
      "mkt cap assigned\n",
      "sector appended\n",
      "mkt cap appended\n",
      "ticker list appended\n",
      "-----------------\n",
      "VRSK\n"
     ]
    },
    {
     "name": "stderr",
     "output_type": "stream",
     "text": [
      "\r",
      " 36%|███▌      | 182/505 [40:48<36:49,  6.84s/it]"
     ]
    },
    {
     "name": "stdout",
     "output_type": "stream",
     "text": [
      "info assigned\n",
      "sector assigned\n",
      "mkt cap assigned\n",
      "sector appended\n",
      "mkt cap appended\n",
      "ticker list appended\n",
      "-----------------\n",
      "MET\n"
     ]
    },
    {
     "name": "stderr",
     "output_type": "stream",
     "text": [
      "\r",
      " 36%|███▌      | 183/505 [40:54<35:21,  6.59s/it]"
     ]
    },
    {
     "name": "stdout",
     "output_type": "stream",
     "text": [
      "info assigned\n",
      "sector assigned\n",
      "mkt cap assigned\n",
      "sector appended\n",
      "mkt cap appended\n",
      "ticker list appended\n",
      "-----------------\n",
      "STZ\n"
     ]
    },
    {
     "name": "stderr",
     "output_type": "stream",
     "text": [
      "\r",
      " 36%|███▋      | 184/505 [41:00<34:41,  6.49s/it]"
     ]
    },
    {
     "name": "stdout",
     "output_type": "stream",
     "text": [
      "-----------------\n",
      "PCAR\n"
     ]
    },
    {
     "name": "stderr",
     "output_type": "stream",
     "text": [
      "\r",
      " 37%|███▋      | 185/505 [41:08<38:00,  7.13s/it]"
     ]
    },
    {
     "name": "stdout",
     "output_type": "stream",
     "text": [
      "info assigned\n",
      "sector assigned\n",
      "mkt cap assigned\n",
      "sector appended\n",
      "mkt cap appended\n",
      "ticker list appended\n",
      "-----------------\n",
      "BK\n"
     ]
    },
    {
     "name": "stderr",
     "output_type": "stream",
     "text": [
      "\r",
      " 37%|███▋      | 186/505 [41:12<32:50,  6.18s/it]"
     ]
    },
    {
     "name": "stdout",
     "output_type": "stream",
     "text": [
      "-----------------\n",
      "SYY\n"
     ]
    },
    {
     "name": "stderr",
     "output_type": "stream",
     "text": [
      "\r",
      " 37%|███▋      | 187/505 [41:20<35:10,  6.64s/it]"
     ]
    },
    {
     "name": "stdout",
     "output_type": "stream",
     "text": [
      "info assigned\n",
      "sector assigned\n",
      "mkt cap assigned\n",
      "sector appended\n",
      "mkt cap appended\n",
      "ticker list appended\n",
      "-----------------\n",
      "ALL\n"
     ]
    },
    {
     "name": "stderr",
     "output_type": "stream",
     "text": [
      "\r",
      " 37%|███▋      | 188/505 [41:26<34:17,  6.49s/it]"
     ]
    },
    {
     "name": "stdout",
     "output_type": "stream",
     "text": [
      "info assigned\n",
      "sector assigned\n",
      "mkt cap assigned\n",
      "sector appended\n",
      "mkt cap appended\n",
      "ticker list appended\n",
      "-----------------\n",
      "TRV\n"
     ]
    },
    {
     "name": "stderr",
     "output_type": "stream",
     "text": [
      "\r",
      " 37%|███▋      | 189/505 [41:42<48:13,  9.16s/it]"
     ]
    },
    {
     "name": "stdout",
     "output_type": "stream",
     "text": [
      "-----------------\n",
      "WBA\n"
     ]
    },
    {
     "name": "stderr",
     "output_type": "stream",
     "text": [
      "\r",
      " 38%|███▊      | 190/505 [42:22<1:37:13, 18.52s/it]"
     ]
    },
    {
     "name": "stdout",
     "output_type": "stream",
     "text": [
      "info assigned\n",
      "sector assigned\n",
      "mkt cap assigned\n",
      "sector appended\n",
      "mkt cap appended\n",
      "ticker list appended\n",
      "-----------------\n",
      "YUM\n"
     ]
    },
    {
     "name": "stderr",
     "output_type": "stream",
     "text": [
      "\r",
      " 38%|███▊      | 191/505 [42:56<2:01:12, 23.16s/it]"
     ]
    },
    {
     "name": "stdout",
     "output_type": "stream",
     "text": [
      "-----------------\n",
      "WEC\n"
     ]
    },
    {
     "name": "stderr",
     "output_type": "stream",
     "text": [
      "\r",
      " 38%|███▊      | 192/505 [43:02<1:33:56, 18.01s/it]"
     ]
    },
    {
     "name": "stdout",
     "output_type": "stream",
     "text": [
      "info assigned\n",
      "sector assigned\n",
      "mkt cap assigned\n",
      "sector appended\n",
      "mkt cap appended\n",
      "ticker list appended\n",
      "-----------------\n",
      "KR\n"
     ]
    },
    {
     "name": "stderr",
     "output_type": "stream",
     "text": [
      "\r",
      " 38%|███▊      | 193/505 [43:09<1:16:53, 14.79s/it]"
     ]
    },
    {
     "name": "stdout",
     "output_type": "stream",
     "text": [
      "info assigned\n",
      "sector assigned\n",
      "mkt cap assigned\n",
      "sector appended\n",
      "mkt cap appended\n",
      "ticker list appended\n",
      "-----------------\n",
      "ES\n"
     ]
    },
    {
     "name": "stderr",
     "output_type": "stream",
     "text": [
      "\r",
      " 38%|███▊      | 194/505 [43:15<1:02:29, 12.06s/it]"
     ]
    },
    {
     "name": "stdout",
     "output_type": "stream",
     "text": [
      "info assigned\n",
      "sector assigned\n",
      "mkt cap assigned\n",
      "sector appended\n",
      "mkt cap appended\n",
      "ticker list appended\n",
      "-----------------\n",
      "TT\n"
     ]
    },
    {
     "name": "stderr",
     "output_type": "stream",
     "text": [
      "\r",
      " 39%|███▊      | 195/505 [43:20<51:12,  9.91s/it]  "
     ]
    },
    {
     "name": "stdout",
     "output_type": "stream",
     "text": [
      "-----------------\n",
      "PPG\n"
     ]
    },
    {
     "name": "stderr",
     "output_type": "stream",
     "text": [
      "\r",
      " 39%|███▉      | 196/505 [43:26<45:14,  8.79s/it]"
     ]
    },
    {
     "name": "stdout",
     "output_type": "stream",
     "text": [
      "info assigned\n",
      "sector assigned\n",
      "mkt cap assigned\n",
      "sector appended\n",
      "mkt cap appended\n",
      "ticker list appended\n",
      "-----------------\n",
      "IQV\n"
     ]
    },
    {
     "name": "stderr",
     "output_type": "stream",
     "text": [
      "\r",
      " 39%|███▉      | 197/505 [43:33<42:56,  8.37s/it]"
     ]
    },
    {
     "name": "stdout",
     "output_type": "stream",
     "text": [
      "info assigned\n",
      "sector assigned\n",
      "mkt cap assigned\n",
      "sector appended\n",
      "mkt cap appended\n",
      "ticker list appended\n",
      "-----------------\n",
      "ZBH\n"
     ]
    },
    {
     "name": "stderr",
     "output_type": "stream",
     "text": [
      "\r",
      " 39%|███▉      | 198/505 [43:39<38:46,  7.58s/it]"
     ]
    },
    {
     "name": "stdout",
     "output_type": "stream",
     "text": [
      "info assigned\n",
      "sector assigned\n",
      "mkt cap assigned\n",
      "sector appended\n",
      "mkt cap appended\n",
      "ticker list appended\n",
      "-----------------\n",
      "AZO\n"
     ]
    },
    {
     "name": "stderr",
     "output_type": "stream",
     "text": [
      "\r",
      " 39%|███▉      | 199/505 [43:45<36:21,  7.13s/it]"
     ]
    },
    {
     "name": "stdout",
     "output_type": "stream",
     "text": [
      "info assigned\n",
      "sector assigned\n",
      "mkt cap assigned\n",
      "sector appended\n",
      "mkt cap appended\n",
      "ticker list appended\n",
      "-----------------\n",
      "ANSS\n"
     ]
    },
    {
     "name": "stderr",
     "output_type": "stream",
     "text": [
      "\r",
      " 40%|███▉      | 200/505 [43:52<35:15,  6.94s/it]"
     ]
    },
    {
     "name": "stdout",
     "output_type": "stream",
     "text": [
      "info assigned\n",
      "sector assigned\n",
      "mkt cap assigned\n",
      "sector appended\n",
      "mkt cap appended\n",
      "ticker list appended\n",
      "-----------------\n",
      "PRU\n"
     ]
    },
    {
     "name": "stderr",
     "output_type": "stream",
     "text": [
      "\r",
      " 40%|███▉      | 201/505 [43:59<35:11,  6.95s/it]"
     ]
    },
    {
     "name": "stdout",
     "output_type": "stream",
     "text": [
      "info assigned\n",
      "sector assigned\n",
      "mkt cap assigned\n",
      "sector appended\n",
      "mkt cap appended\n",
      "ticker list appended\n",
      "-----------------\n",
      "CLX\n"
     ]
    },
    {
     "name": "stderr",
     "output_type": "stream",
     "text": [
      "\r",
      " 40%|████      | 202/505 [44:04<33:12,  6.58s/it]"
     ]
    },
    {
     "name": "stdout",
     "output_type": "stream",
     "text": [
      "info assigned\n",
      "sector assigned\n",
      "mkt cap assigned\n",
      "sector appended\n",
      "mkt cap appended\n",
      "ticker list appended\n",
      "-----------------\n",
      "FAST\n"
     ]
    },
    {
     "name": "stderr",
     "output_type": "stream",
     "text": [
      "\r",
      " 40%|████      | 203/505 [44:11<32:36,  6.48s/it]"
     ]
    },
    {
     "name": "stdout",
     "output_type": "stream",
     "text": [
      "info assigned\n",
      "sector assigned\n",
      "mkt cap assigned\n",
      "sector appended\n",
      "mkt cap appended\n",
      "ticker list appended\n",
      "-----------------\n",
      "F\n"
     ]
    },
    {
     "name": "stderr",
     "output_type": "stream",
     "text": [
      "\r",
      " 40%|████      | 204/505 [44:15<29:49,  5.94s/it]"
     ]
    },
    {
     "name": "stdout",
     "output_type": "stream",
     "text": [
      "-----------------\n",
      "KMI\n"
     ]
    },
    {
     "name": "stderr",
     "output_type": "stream",
     "text": [
      "\r",
      " 41%|████      | 205/505 [44:22<30:52,  6.18s/it]"
     ]
    },
    {
     "name": "stdout",
     "output_type": "stream",
     "text": [
      "info assigned\n",
      "sector assigned\n",
      "mkt cap assigned\n",
      "sector appended\n",
      "mkt cap appended\n",
      "ticker list appended\n",
      "-----------------\n",
      "PSX\n"
     ]
    },
    {
     "name": "stderr",
     "output_type": "stream",
     "text": [
      "\r",
      " 41%|████      | 206/505 [44:29<31:49,  6.39s/it]"
     ]
    },
    {
     "name": "stdout",
     "output_type": "stream",
     "text": [
      "info assigned\n",
      "sector assigned\n",
      "mkt cap assigned\n",
      "sector appended\n",
      "mkt cap appended\n",
      "ticker list appended\n",
      "-----------------\n",
      "CTAS\n"
     ]
    },
    {
     "name": "stderr",
     "output_type": "stream",
     "text": [
      "\r",
      " 41%|████      | 207/505 [44:35<31:09,  6.27s/it]"
     ]
    },
    {
     "name": "stdout",
     "output_type": "stream",
     "text": [
      "info assigned\n",
      "sector assigned\n",
      "mkt cap assigned\n",
      "sector appended\n",
      "mkt cap appended\n",
      "ticker list appended\n",
      "-----------------\n",
      "PEG\n"
     ]
    },
    {
     "name": "stderr",
     "output_type": "stream",
     "text": [
      "\r",
      " 41%|████      | 208/505 [44:41<30:21,  6.13s/it]"
     ]
    },
    {
     "name": "stdout",
     "output_type": "stream",
     "text": [
      "-----------------\n",
      "PH\n"
     ]
    },
    {
     "name": "stderr",
     "output_type": "stream",
     "text": [
      "\r",
      " 41%|████▏     | 209/505 [44:47<30:24,  6.16s/it]"
     ]
    },
    {
     "name": "stdout",
     "output_type": "stream",
     "text": [
      "info assigned\n",
      "sector assigned\n",
      "mkt cap assigned\n",
      "sector appended\n",
      "mkt cap appended\n",
      "ticker list appended\n",
      "-----------------\n",
      "MCHP\n"
     ]
    },
    {
     "name": "stderr",
     "output_type": "stream",
     "text": [
      "\r",
      " 42%|████▏     | 210/505 [44:54<32:19,  6.57s/it]"
     ]
    },
    {
     "name": "stdout",
     "output_type": "stream",
     "text": [
      "info assigned\n",
      "sector assigned\n",
      "mkt cap assigned\n",
      "sector appended\n",
      "mkt cap appended\n",
      "ticker list appended\n",
      "-----------------\n",
      "MAR\n"
     ]
    },
    {
     "name": "stderr",
     "output_type": "stream",
     "text": [
      "\r",
      " 42%|████▏     | 211/505 [45:00<30:43,  6.27s/it]"
     ]
    },
    {
     "name": "stdout",
     "output_type": "stream",
     "text": [
      "info assigned\n",
      "sector assigned\n",
      "mkt cap assigned\n",
      "sector appended\n",
      "mkt cap appended\n",
      "ticker list appended\n",
      "-----------------\n",
      "AFL\n"
     ]
    },
    {
     "name": "stderr",
     "output_type": "stream",
     "text": [
      "\r",
      " 42%|████▏     | 212/505 [45:06<30:05,  6.16s/it]"
     ]
    },
    {
     "name": "stdout",
     "output_type": "stream",
     "text": [
      "info assigned\n",
      "sector assigned\n",
      "mkt cap assigned\n",
      "sector appended\n",
      "mkt cap appended\n",
      "ticker list appended\n",
      "-----------------\n",
      "SLB\n"
     ]
    },
    {
     "name": "stderr",
     "output_type": "stream",
     "text": [
      "\r",
      " 42%|████▏     | 213/505 [45:14<32:18,  6.64s/it]"
     ]
    },
    {
     "name": "stdout",
     "output_type": "stream",
     "text": [
      "info assigned\n",
      "sector assigned\n",
      "mkt cap assigned\n",
      "sector appended\n",
      "mkt cap appended\n",
      "ticker list appended\n",
      "-----------------\n",
      "ROK\n"
     ]
    },
    {
     "name": "stderr",
     "output_type": "stream",
     "text": [
      "\r",
      " 42%|████▏     | 214/505 [45:32<49:42, 10.25s/it]"
     ]
    },
    {
     "name": "stdout",
     "output_type": "stream",
     "text": [
      "info assigned\n",
      "sector assigned\n",
      "mkt cap assigned\n",
      "sector appended\n",
      "mkt cap appended\n",
      "ticker list appended\n",
      "-----------------\n",
      "MSI\n"
     ]
    },
    {
     "name": "stderr",
     "output_type": "stream",
     "text": [
      "\r",
      " 43%|████▎     | 215/505 [45:56<1:08:58, 14.27s/it]"
     ]
    },
    {
     "name": "stdout",
     "output_type": "stream",
     "text": [
      "-----------------\n",
      "HPQ\n"
     ]
    },
    {
     "name": "stderr",
     "output_type": "stream",
     "text": [
      "\r",
      " 43%|████▎     | 216/505 [46:34<1:43:39, 21.52s/it]"
     ]
    },
    {
     "name": "stdout",
     "output_type": "stream",
     "text": [
      "info assigned\n",
      "sector assigned\n",
      "mkt cap assigned\n",
      "sector appended\n",
      "mkt cap appended\n",
      "ticker list appended\n",
      "-----------------\n",
      "OTIS\n"
     ]
    },
    {
     "name": "stderr",
     "output_type": "stream",
     "text": [
      "\r",
      " 43%|████▎     | 217/505 [46:58<1:46:04, 22.10s/it]"
     ]
    },
    {
     "name": "stdout",
     "output_type": "stream",
     "text": [
      "info assigned\n",
      "sector assigned\n",
      "mkt cap assigned\n",
      "sector appended\n",
      "mkt cap appended\n",
      "ticker list appended\n",
      "-----------------\n",
      "AWK\n"
     ]
    },
    {
     "name": "stderr",
     "output_type": "stream",
     "text": [
      "\r",
      " 43%|████▎     | 218/505 [47:12<1:33:59, 19.65s/it]"
     ]
    },
    {
     "name": "stdout",
     "output_type": "stream",
     "text": [
      "info assigned\n",
      "sector assigned\n",
      "mkt cap assigned\n",
      "sector appended\n",
      "mkt cap appended\n",
      "ticker list appended\n",
      "-----------------\n",
      "EOG\n"
     ]
    },
    {
     "name": "stderr",
     "output_type": "stream",
     "text": [
      "\r",
      " 43%|████▎     | 219/505 [47:27<1:27:51, 18.43s/it]"
     ]
    },
    {
     "name": "stdout",
     "output_type": "stream",
     "text": [
      "info assigned\n",
      "sector assigned\n",
      "mkt cap assigned\n",
      "sector appended\n",
      "mkt cap appended\n",
      "ticker list appended\n",
      "-----------------\n",
      "WMB\n"
     ]
    },
    {
     "name": "stderr",
     "output_type": "stream",
     "text": [
      "\r",
      " 44%|████▎     | 220/505 [47:49<1:31:33, 19.28s/it]"
     ]
    },
    {
     "name": "stdout",
     "output_type": "stream",
     "text": [
      "info assigned\n",
      "sector assigned\n",
      "mkt cap assigned\n",
      "sector appended\n",
      "mkt cap appended\n",
      "ticker list appended\n",
      "-----------------\n",
      "BBY\n"
     ]
    },
    {
     "name": "stderr",
     "output_type": "stream",
     "text": [
      "\r",
      " 44%|████▍     | 221/505 [48:23<1:52:25, 23.75s/it]"
     ]
    },
    {
     "name": "stdout",
     "output_type": "stream",
     "text": [
      "info assigned\n",
      "sector assigned\n",
      "mkt cap assigned\n",
      "sector appended\n",
      "mkt cap appended\n",
      "ticker list appended\n",
      "-----------------\n",
      "AIG\n"
     ]
    },
    {
     "name": "stderr",
     "output_type": "stream",
     "text": [
      "\r",
      " 44%|████▍     | 222/505 [48:34<1:34:26, 20.02s/it]"
     ]
    },
    {
     "name": "stdout",
     "output_type": "stream",
     "text": [
      "-----------------\n",
      "RMD\n"
     ]
    },
    {
     "name": "stderr",
     "output_type": "stream",
     "text": [
      "\r",
      " 44%|████▍     | 223/505 [48:47<1:23:37, 17.79s/it]"
     ]
    },
    {
     "name": "stdout",
     "output_type": "stream",
     "text": [
      "info assigned\n",
      "sector assigned\n",
      "mkt cap assigned\n",
      "sector appended\n",
      "mkt cap appended\n",
      "ticker list appended\n",
      "-----------------\n",
      "BLL\n"
     ]
    },
    {
     "name": "stderr",
     "output_type": "stream",
     "text": [
      "\r",
      " 44%|████▍     | 224/505 [48:58<1:13:30, 15.70s/it]"
     ]
    },
    {
     "name": "stdout",
     "output_type": "stream",
     "text": [
      "info assigned\n",
      "sector assigned\n",
      "mkt cap assigned\n",
      "sector appended\n",
      "mkt cap appended\n",
      "ticker list appended\n",
      "-----------------\n",
      "DHI\n"
     ]
    },
    {
     "name": "stderr",
     "output_type": "stream",
     "text": [
      "\r",
      " 45%|████▍     | 225/505 [49:19<1:21:53, 17.55s/it]"
     ]
    },
    {
     "name": "stdout",
     "output_type": "stream",
     "text": [
      "info assigned\n",
      "sector assigned\n",
      "mkt cap assigned\n",
      "sector appended\n",
      "mkt cap appended\n",
      "ticker list appended\n",
      "-----------------\n",
      "GLW\n"
     ]
    },
    {
     "name": "stderr",
     "output_type": "stream",
     "text": [
      "\r",
      " 45%|████▍     | 226/505 [49:30<1:11:07, 15.30s/it]"
     ]
    },
    {
     "name": "stdout",
     "output_type": "stream",
     "text": [
      "info assigned\n",
      "sector assigned\n",
      "mkt cap assigned\n",
      "sector appended\n",
      "mkt cap appended\n",
      "ticker list appended\n",
      "-----------------\n",
      "WLTW\n"
     ]
    },
    {
     "name": "stderr",
     "output_type": "stream",
     "text": [
      "\r",
      " 45%|████▍     | 227/505 [49:39<1:02:35, 13.51s/it]"
     ]
    },
    {
     "name": "stdout",
     "output_type": "stream",
     "text": [
      "info assigned\n",
      "sector assigned\n",
      "mkt cap assigned\n",
      "sector appended\n",
      "mkt cap appended\n",
      "ticker list appended\n",
      "-----------------\n",
      "XLNX\n"
     ]
    },
    {
     "name": "stderr",
     "output_type": "stream",
     "text": [
      "\r",
      " 45%|████▌     | 228/505 [49:51<1:00:59, 13.21s/it]"
     ]
    },
    {
     "name": "stdout",
     "output_type": "stream",
     "text": [
      "info assigned\n",
      "sector assigned\n",
      "mkt cap assigned\n",
      "sector appended\n",
      "mkt cap appended\n",
      "ticker list appended\n",
      "-----------------\n",
      "HLT\n"
     ]
    },
    {
     "name": "stderr",
     "output_type": "stream",
     "text": [
      "\r",
      " 45%|████▌     | 229/505 [50:04<1:00:13, 13.09s/it]"
     ]
    },
    {
     "name": "stdout",
     "output_type": "stream",
     "text": [
      "-----------------\n",
      "CARR\n"
     ]
    },
    {
     "name": "stderr",
     "output_type": "stream",
     "text": [
      "\r",
      " 46%|████▌     | 230/505 [50:17<59:47, 13.05s/it]  "
     ]
    },
    {
     "name": "stdout",
     "output_type": "stream",
     "text": [
      "info assigned\n",
      "sector assigned\n",
      "mkt cap assigned\n",
      "sector appended\n",
      "mkt cap appended\n",
      "ticker list appended\n",
      "-----------------\n",
      "MKC\n"
     ]
    },
    {
     "name": "stderr",
     "output_type": "stream",
     "text": [
      "\r",
      " 46%|████▌     | 231/505 [50:27<54:32, 11.94s/it]"
     ]
    },
    {
     "name": "stdout",
     "output_type": "stream",
     "text": [
      "info assigned\n",
      "sector assigned\n",
      "mkt cap assigned\n",
      "sector appended\n",
      "mkt cap appended\n",
      "ticker list appended\n",
      "-----------------\n",
      "SWK\n"
     ]
    },
    {
     "name": "stderr",
     "output_type": "stream",
     "text": [
      "\r",
      " 46%|████▌     | 232/505 [50:40<57:03, 12.54s/it]"
     ]
    },
    {
     "name": "stdout",
     "output_type": "stream",
     "text": [
      "info assigned\n",
      "sector assigned\n",
      "mkt cap assigned\n",
      "sector appended\n",
      "mkt cap appended\n",
      "ticker list appended\n",
      "-----------------\n",
      "ADM\n"
     ]
    },
    {
     "name": "stderr",
     "output_type": "stream",
     "text": [
      "\r",
      " 46%|████▌     | 233/505 [50:50<53:24, 11.78s/it]"
     ]
    },
    {
     "name": "stdout",
     "output_type": "stream",
     "text": [
      "info assigned\n",
      "sector assigned\n",
      "mkt cap assigned\n",
      "sector appended\n",
      "mkt cap appended\n",
      "ticker list appended\n",
      "-----------------\n",
      "MCK\n"
     ]
    },
    {
     "name": "stderr",
     "output_type": "stream",
     "text": [
      "\r",
      " 46%|████▋     | 234/505 [51:04<55:34, 12.31s/it]"
     ]
    },
    {
     "name": "stdout",
     "output_type": "stream",
     "text": [
      "-----------------\n",
      "STT\n"
     ]
    },
    {
     "name": "stderr",
     "output_type": "stream",
     "text": [
      "\r",
      " 47%|████▋     | 235/505 [51:10<46:57, 10.43s/it]"
     ]
    },
    {
     "name": "stdout",
     "output_type": "stream",
     "text": [
      "-----------------\n",
      "DLTR\n"
     ]
    },
    {
     "name": "stderr",
     "output_type": "stream",
     "text": [
      "\r",
      " 47%|████▋     | 236/505 [51:18<43:03,  9.60s/it]"
     ]
    },
    {
     "name": "stdout",
     "output_type": "stream",
     "text": [
      "info assigned\n",
      "sector assigned\n",
      "mkt cap assigned\n",
      "sector appended\n",
      "mkt cap appended\n",
      "ticker list appended\n",
      "-----------------\n",
      "ED\n"
     ]
    },
    {
     "name": "stderr",
     "output_type": "stream",
     "text": [
      "\r",
      " 47%|████▋     | 237/505 [51:29<44:58, 10.07s/it]"
     ]
    },
    {
     "name": "stdout",
     "output_type": "stream",
     "text": [
      "info assigned\n",
      "sector assigned\n",
      "mkt cap assigned\n",
      "sector appended\n",
      "mkt cap appended\n",
      "ticker list appended\n",
      "-----------------\n",
      "WELL\n"
     ]
    },
    {
     "name": "stderr",
     "output_type": "stream",
     "text": [
      "\r",
      " 47%|████▋     | 238/505 [51:38<43:47,  9.84s/it]"
     ]
    },
    {
     "name": "stdout",
     "output_type": "stream",
     "text": [
      "-----------------\n",
      "PAYX\n"
     ]
    },
    {
     "name": "stderr",
     "output_type": "stream",
     "text": [
      "\r",
      " 47%|████▋     | 239/505 [51:58<57:15, 12.91s/it]"
     ]
    },
    {
     "name": "stdout",
     "output_type": "stream",
     "text": [
      "info assigned\n",
      "sector assigned\n",
      "mkt cap assigned\n",
      "sector appended\n",
      "mkt cap appended\n",
      "ticker list appended\n",
      "-----------------\n",
      "TDG\n"
     ]
    },
    {
     "name": "stderr",
     "output_type": "stream",
     "text": [
      "\r",
      " 48%|████▊     | 240/505 [52:16<1:03:15, 14.32s/it]"
     ]
    },
    {
     "name": "stdout",
     "output_type": "stream",
     "text": [
      "info assigned\n",
      "sector assigned\n",
      "mkt cap assigned\n",
      "sector appended\n",
      "mkt cap appended\n",
      "ticker list appended\n",
      "-----------------\n",
      "SWKS\n"
     ]
    },
    {
     "name": "stderr",
     "output_type": "stream",
     "text": [
      "\r",
      " 48%|████▊     | 241/505 [52:23<53:57, 12.26s/it]  "
     ]
    },
    {
     "name": "stdout",
     "output_type": "stream",
     "text": [
      "info assigned\n",
      "sector assigned\n",
      "mkt cap assigned\n",
      "sector appended\n",
      "mkt cap appended\n",
      "ticker list appended\n",
      "-----------------\n",
      "MPC\n"
     ]
    },
    {
     "name": "stderr",
     "output_type": "stream",
     "text": [
      "\r",
      " 48%|████▊     | 242/505 [52:33<50:15, 11.47s/it]"
     ]
    },
    {
     "name": "stdout",
     "output_type": "stream",
     "text": [
      "info assigned\n",
      "sector assigned\n",
      "mkt cap assigned\n",
      "sector appended\n",
      "mkt cap appended\n",
      "ticker list appended\n",
      "-----------------\n",
      "MTD\n"
     ]
    },
    {
     "name": "stderr",
     "output_type": "stream",
     "text": [
      "\r",
      " 48%|████▊     | 243/505 [52:54<1:02:43, 14.37s/it]"
     ]
    },
    {
     "name": "stdout",
     "output_type": "stream",
     "text": [
      "info assigned\n",
      "sector assigned\n",
      "mkt cap assigned\n",
      "sector appended\n",
      "mkt cap appended\n",
      "ticker list appended\n",
      "-----------------\n",
      "CHD\n"
     ]
    },
    {
     "name": "stderr",
     "output_type": "stream",
     "text": [
      "\r",
      " 48%|████▊     | 244/505 [53:07<1:00:31, 13.91s/it]"
     ]
    },
    {
     "name": "stdout",
     "output_type": "stream",
     "text": [
      "info assigned\n",
      "sector assigned\n",
      "mkt cap assigned\n",
      "sector appended\n",
      "mkt cap appended\n",
      "ticker list appended\n",
      "-----------------\n",
      "ALXN\n"
     ]
    },
    {
     "name": "stderr",
     "output_type": "stream",
     "text": [
      "\r",
      " 49%|████▊     | 245/505 [53:18<56:53, 13.13s/it]  "
     ]
    },
    {
     "name": "stdout",
     "output_type": "stream",
     "text": [
      "info assigned\n",
      "sector assigned\n",
      "mkt cap assigned\n",
      "sector appended\n",
      "mkt cap appended\n",
      "ticker list appended\n",
      "-----------------\n",
      "AME\n"
     ]
    },
    {
     "name": "stderr",
     "output_type": "stream",
     "text": [
      "\r",
      " 49%|████▊     | 246/505 [53:33<58:36, 13.58s/it]"
     ]
    },
    {
     "name": "stdout",
     "output_type": "stream",
     "text": [
      "info assigned\n",
      "sector assigned\n",
      "mkt cap assigned\n",
      "sector appended\n",
      "mkt cap appended\n",
      "ticker list appended\n",
      "-----------------\n",
      "DTE\n"
     ]
    },
    {
     "name": "stderr",
     "output_type": "stream",
     "text": [
      "\r",
      " 49%|████▉     | 247/505 [53:51<1:04:07, 14.91s/it]"
     ]
    },
    {
     "name": "stdout",
     "output_type": "stream",
     "text": [
      "info assigned\n",
      "sector assigned\n",
      "mkt cap assigned\n",
      "sector appended\n",
      "mkt cap appended\n",
      "ticker list appended\n",
      "-----------------\n",
      "VLO\n"
     ]
    },
    {
     "name": "stderr",
     "output_type": "stream",
     "text": [
      "\r",
      " 49%|████▉     | 248/505 [53:59<55:08, 12.87s/it]  "
     ]
    },
    {
     "name": "stdout",
     "output_type": "stream",
     "text": [
      "-----------------\n",
      "HSY\n"
     ]
    },
    {
     "name": "stderr",
     "output_type": "stream",
     "text": [
      "\r",
      " 49%|████▉     | 249/505 [54:28<1:15:51, 17.78s/it]"
     ]
    },
    {
     "name": "stdout",
     "output_type": "stream",
     "text": [
      "info assigned\n",
      "sector assigned\n",
      "mkt cap assigned\n",
      "sector appended\n",
      "mkt cap appended\n",
      "ticker list appended\n",
      "-----------------\n",
      "CERN\n"
     ]
    },
    {
     "name": "stderr",
     "output_type": "stream",
     "text": [
      "\r",
      " 50%|████▉     | 250/505 [54:39<1:06:25, 15.63s/it]"
     ]
    },
    {
     "name": "stdout",
     "output_type": "stream",
     "text": [
      "info assigned\n",
      "sector assigned\n",
      "mkt cap assigned\n",
      "sector appended\n",
      "mkt cap appended\n",
      "ticker list appended\n",
      "-----------------\n",
      "KHC\n"
     ]
    },
    {
     "name": "stderr",
     "output_type": "stream",
     "text": [
      "\r",
      " 50%|████▉     | 251/505 [54:54<1:05:12, 15.40s/it]"
     ]
    },
    {
     "name": "stdout",
     "output_type": "stream",
     "text": [
      "info assigned\n",
      "sector assigned\n",
      "mkt cap assigned\n",
      "sector appended\n",
      "mkt cap appended\n",
      "ticker list appended\n",
      "-----------------\n",
      "LEN\n"
     ]
    },
    {
     "name": "stderr",
     "output_type": "stream",
     "text": [
      "\r",
      " 50%|████▉     | 252/505 [55:07<1:02:13, 14.76s/it]"
     ]
    },
    {
     "name": "stdout",
     "output_type": "stream",
     "text": [
      "info assigned\n",
      "sector assigned\n",
      "mkt cap assigned\n",
      "sector appended\n",
      "mkt cap appended\n",
      "ticker list appended\n",
      "-----------------\n",
      "APTV\n"
     ]
    },
    {
     "name": "stderr",
     "output_type": "stream",
     "text": [
      "\r",
      " 50%|█████     | 253/505 [55:50<1:38:01, 23.34s/it]"
     ]
    },
    {
     "name": "stdout",
     "output_type": "stream",
     "text": [
      "-----------------\n",
      "AVB\n"
     ]
    },
    {
     "name": "stderr",
     "output_type": "stream",
     "text": [
      "\r",
      " 50%|█████     | 254/505 [56:08<1:30:23, 21.61s/it]"
     ]
    },
    {
     "name": "stdout",
     "output_type": "stream",
     "text": [
      "-----------------\n",
      "ARE\n"
     ]
    },
    {
     "name": "stderr",
     "output_type": "stream",
     "text": [
      "\r",
      " 50%|█████     | 255/505 [56:20<1:17:52, 18.69s/it]"
     ]
    },
    {
     "name": "stdout",
     "output_type": "stream",
     "text": [
      "info assigned\n",
      "sector assigned\n",
      "mkt cap assigned\n",
      "sector appended\n",
      "mkt cap appended\n",
      "ticker list appended\n",
      "-----------------\n",
      "WY\n"
     ]
    },
    {
     "name": "stderr",
     "output_type": "stream",
     "text": [
      "\r",
      " 51%|█████     | 256/505 [56:30<1:06:49, 16.10s/it]"
     ]
    },
    {
     "name": "stdout",
     "output_type": "stream",
     "text": [
      "info assigned\n",
      "sector assigned\n",
      "mkt cap assigned\n",
      "sector appended\n",
      "mkt cap appended\n",
      "ticker list appended\n",
      "-----------------\n",
      "O\n"
     ]
    },
    {
     "name": "stderr",
     "output_type": "stream",
     "text": [
      "\r",
      " 51%|█████     | 257/505 [56:50<1:12:03, 17.43s/it]"
     ]
    },
    {
     "name": "stdout",
     "output_type": "stream",
     "text": [
      "info assigned\n",
      "sector assigned\n",
      "mkt cap assigned\n",
      "sector appended\n",
      "mkt cap appended\n",
      "ticker list appended\n",
      "-----------------\n",
      "PPL\n"
     ]
    },
    {
     "name": "stderr",
     "output_type": "stream",
     "text": [
      "\r",
      " 51%|█████     | 258/505 [56:58<59:12, 14.38s/it]  "
     ]
    },
    {
     "name": "stdout",
     "output_type": "stream",
     "text": [
      "-----------------\n",
      "CTVA\n"
     ]
    },
    {
     "name": "stderr",
     "output_type": "stream",
     "text": [
      "\r",
      " 51%|█████▏    | 259/505 [57:21<1:10:02, 17.08s/it]"
     ]
    },
    {
     "name": "stdout",
     "output_type": "stream",
     "text": [
      "info assigned\n",
      "sector assigned\n",
      "mkt cap assigned\n",
      "sector appended\n",
      "mkt cap appended\n",
      "ticker list appended\n",
      "-----------------\n",
      "ALGN\n"
     ]
    },
    {
     "name": "stderr",
     "output_type": "stream",
     "text": [
      "\r",
      " 51%|█████▏    | 260/505 [57:28<57:26, 14.07s/it]  "
     ]
    },
    {
     "name": "stdout",
     "output_type": "stream",
     "text": [
      "-----------------\n",
      "VRSN\n"
     ]
    },
    {
     "name": "stderr",
     "output_type": "stream",
     "text": [
      "\r",
      " 52%|█████▏    | 261/505 [57:48<1:04:50, 15.94s/it]"
     ]
    },
    {
     "name": "stdout",
     "output_type": "stream",
     "text": [
      "info assigned\n",
      "sector assigned\n",
      "mkt cap assigned\n",
      "sector appended\n",
      "mkt cap appended\n",
      "ticker list appended\n",
      "-----------------\n",
      "SPG\n"
     ]
    },
    {
     "name": "stderr",
     "output_type": "stream",
     "text": [
      "\r",
      " 52%|█████▏    | 262/505 [58:01<1:00:33, 14.95s/it]"
     ]
    },
    {
     "name": "stdout",
     "output_type": "stream",
     "text": [
      "-----------------\n",
      "FCX\n"
     ]
    },
    {
     "name": "stderr",
     "output_type": "stream",
     "text": [
      "\r",
      " 52%|█████▏    | 263/505 [58:14<57:38, 14.29s/it]  "
     ]
    },
    {
     "name": "stdout",
     "output_type": "stream",
     "text": [
      "info assigned\n",
      "sector assigned\n",
      "mkt cap assigned\n",
      "sector appended\n",
      "mkt cap appended\n",
      "ticker list appended\n",
      "-----------------\n",
      "CPRT\n"
     ]
    },
    {
     "name": "stderr",
     "output_type": "stream",
     "text": [
      "\r",
      " 52%|█████▏    | 264/505 [58:32<1:02:06, 15.46s/it]"
     ]
    },
    {
     "name": "stdout",
     "output_type": "stream",
     "text": [
      "info assigned\n",
      "sector assigned\n",
      "mkt cap assigned\n",
      "sector appended\n",
      "mkt cap appended\n",
      "ticker list appended\n",
      "-----------------\n",
      "FTV\n"
     ]
    },
    {
     "name": "stderr",
     "output_type": "stream",
     "text": [
      "\r",
      " 52%|█████▏    | 265/505 [58:42<55:09, 13.79s/it]  "
     ]
    },
    {
     "name": "stdout",
     "output_type": "stream",
     "text": [
      "info assigned\n",
      "sector assigned\n",
      "mkt cap assigned\n",
      "sector appended\n",
      "mkt cap appended\n",
      "ticker list appended\n",
      "-----------------\n",
      "VFC\n"
     ]
    },
    {
     "name": "stderr",
     "output_type": "stream",
     "text": [
      "\r",
      " 53%|█████▎    | 266/505 [58:55<53:46, 13.50s/it]"
     ]
    },
    {
     "name": "stdout",
     "output_type": "stream",
     "text": [
      "info assigned\n",
      "sector assigned\n",
      "mkt cap assigned\n",
      "sector appended\n",
      "mkt cap appended\n",
      "ticker list appended\n",
      "-----------------\n",
      "FLT\n"
     ]
    },
    {
     "name": "stderr",
     "output_type": "stream",
     "text": [
      "\r",
      " 53%|█████▎    | 267/505 [59:09<54:33, 13.76s/it]"
     ]
    },
    {
     "name": "stdout",
     "output_type": "stream",
     "text": [
      "info assigned\n",
      "sector assigned\n",
      "mkt cap assigned\n",
      "sector appended\n",
      "mkt cap appended\n",
      "ticker list appended\n",
      "-----------------\n",
      "WST\n"
     ]
    },
    {
     "name": "stderr",
     "output_type": "stream",
     "text": [
      "\r",
      " 53%|█████▎    | 268/505 [59:18<48:37, 12.31s/it]"
     ]
    },
    {
     "name": "stdout",
     "output_type": "stream",
     "text": [
      "-----------------\n",
      "AJG\n"
     ]
    },
    {
     "name": "stderr",
     "output_type": "stream",
     "text": [
      "\r",
      " 53%|█████▎    | 269/505 [59:40<1:00:04, 15.27s/it]"
     ]
    },
    {
     "name": "stdout",
     "output_type": "stream",
     "text": [
      "info assigned\n",
      "sector assigned\n",
      "mkt cap assigned\n",
      "sector appended\n",
      "mkt cap appended\n",
      "ticker list appended\n",
      "-----------------\n",
      "EIX\n"
     ]
    },
    {
     "name": "stderr",
     "output_type": "stream",
     "text": [
      "\r",
      " 53%|█████▎    | 270/505 [59:50<53:54, 13.76s/it]  "
     ]
    },
    {
     "name": "stdout",
     "output_type": "stream",
     "text": [
      "info assigned\n",
      "sector assigned\n",
      "mkt cap assigned\n",
      "sector appended\n",
      "mkt cap appended\n",
      "ticker list appended\n",
      "-----------------\n",
      "EQR\n"
     ]
    },
    {
     "name": "stderr",
     "output_type": "stream",
     "text": [
      "\r",
      " 54%|█████▎    | 271/505 [1:00:06<55:58, 14.35s/it]"
     ]
    },
    {
     "name": "stdout",
     "output_type": "stream",
     "text": [
      "info assigned\n",
      "sector assigned\n",
      "mkt cap assigned\n",
      "sector appended\n",
      "mkt cap appended\n",
      "ticker list appended\n",
      "-----------------\n",
      "LUV\n"
     ]
    },
    {
     "name": "stderr",
     "output_type": "stream",
     "text": [
      "\r",
      " 54%|█████▍    | 272/505 [1:00:16<50:17, 12.95s/it]"
     ]
    },
    {
     "name": "stdout",
     "output_type": "stream",
     "text": [
      "info assigned\n",
      "sector assigned\n",
      "mkt cap assigned\n",
      "sector appended\n",
      "mkt cap appended\n",
      "ticker list appended\n",
      "-----------------\n",
      "FRC\n"
     ]
    },
    {
     "name": "stderr",
     "output_type": "stream",
     "text": [
      "\r",
      " 54%|█████▍    | 273/505 [1:00:25<45:57, 11.89s/it]"
     ]
    },
    {
     "name": "stdout",
     "output_type": "stream",
     "text": [
      "info assigned\n",
      "sector assigned\n",
      "mkt cap assigned\n",
      "sector appended\n",
      "mkt cap appended\n",
      "ticker list appended\n",
      "-----------------\n",
      "ETR\n"
     ]
    },
    {
     "name": "stderr",
     "output_type": "stream",
     "text": [
      "\r",
      " 54%|█████▍    | 274/505 [1:00:37<45:59, 11.95s/it]"
     ]
    },
    {
     "name": "stdout",
     "output_type": "stream",
     "text": [
      "-----------------\n",
      "AEE\n"
     ]
    },
    {
     "name": "stderr",
     "output_type": "stream",
     "text": [
      "\r",
      " 54%|█████▍    | 275/505 [1:00:50<46:48, 12.21s/it]"
     ]
    },
    {
     "name": "stdout",
     "output_type": "stream",
     "text": [
      "info assigned\n",
      "sector assigned\n",
      "mkt cap assigned\n",
      "sector appended\n",
      "mkt cap appended\n",
      "ticker list appended\n",
      "-----------------\n",
      "TTWO\n"
     ]
    },
    {
     "name": "stderr",
     "output_type": "stream",
     "text": [
      "\r",
      " 55%|█████▍    | 276/505 [1:00:58<41:23, 10.84s/it]"
     ]
    },
    {
     "name": "stdout",
     "output_type": "stream",
     "text": [
      "info assigned\n",
      "sector assigned\n",
      "mkt cap assigned\n",
      "sector appended\n",
      "mkt cap appended\n",
      "ticker list appended\n",
      "-----------------\n",
      "AMP\n"
     ]
    },
    {
     "name": "stderr",
     "output_type": "stream",
     "text": [
      "\r",
      " 55%|█████▍    | 277/505 [1:01:10<42:30, 11.18s/it]"
     ]
    },
    {
     "name": "stdout",
     "output_type": "stream",
     "text": [
      "info assigned\n",
      "sector assigned\n",
      "mkt cap assigned\n",
      "sector appended\n",
      "mkt cap appended\n",
      "ticker list appended\n",
      "-----------------\n",
      "RSG\n"
     ]
    },
    {
     "name": "stderr",
     "output_type": "stream",
     "text": [
      "\r",
      " 55%|█████▌    | 278/505 [1:01:19<40:35, 10.73s/it]"
     ]
    },
    {
     "name": "stdout",
     "output_type": "stream",
     "text": [
      "info assigned\n",
      "sector assigned\n",
      "mkt cap assigned\n",
      "sector appended\n",
      "mkt cap appended\n",
      "ticker list appended\n",
      "-----------------\n",
      "EFX\n"
     ]
    },
    {
     "name": "stderr",
     "output_type": "stream",
     "text": [
      "\r",
      " 55%|█████▌    | 279/505 [1:01:33<43:11, 11.47s/it]"
     ]
    },
    {
     "name": "stdout",
     "output_type": "stream",
     "text": [
      "info assigned\n",
      "sector assigned\n",
      "mkt cap assigned\n",
      "sector appended\n",
      "mkt cap appended\n",
      "ticker list appended\n",
      "-----------------\n",
      "MXIM\n"
     ]
    },
    {
     "name": "stderr",
     "output_type": "stream",
     "text": [
      "\r",
      " 55%|█████▌    | 280/505 [1:01:44<43:29, 11.60s/it]"
     ]
    },
    {
     "name": "stdout",
     "output_type": "stream",
     "text": [
      "info assigned\n",
      "sector assigned\n",
      "mkt cap assigned\n",
      "sector appended\n",
      "mkt cap appended\n",
      "ticker list appended\n",
      "-----------------\n",
      "ODFL\n"
     ]
    },
    {
     "name": "stderr",
     "output_type": "stream",
     "text": [
      "\r",
      " 56%|█████▌    | 281/505 [1:01:56<42:40, 11.43s/it]"
     ]
    },
    {
     "name": "stdout",
     "output_type": "stream",
     "text": [
      "info assigned\n",
      "sector assigned\n",
      "mkt cap assigned\n",
      "sector appended\n",
      "mkt cap appended\n",
      "ticker list appended\n",
      "-----------------\n",
      "CAG\n"
     ]
    },
    {
     "name": "stderr",
     "output_type": "stream",
     "text": [
      "\r",
      " 56%|█████▌    | 282/505 [1:02:12<48:01, 12.92s/it]"
     ]
    },
    {
     "name": "stdout",
     "output_type": "stream",
     "text": [
      "info assigned\n",
      "sector assigned\n",
      "mkt cap assigned\n",
      "sector appended\n",
      "mkt cap appended\n",
      "ticker list appended\n",
      "-----------------\n",
      "TSN\n"
     ]
    },
    {
     "name": "stderr",
     "output_type": "stream",
     "text": [
      "\r",
      " 56%|█████▌    | 283/505 [1:02:19<41:51, 11.31s/it]"
     ]
    },
    {
     "name": "stdout",
     "output_type": "stream",
     "text": [
      "info assigned\n",
      "sector assigned\n",
      "mkt cap assigned\n",
      "sector appended\n",
      "mkt cap appended\n",
      "ticker list appended\n",
      "-----------------\n",
      "KEYS\n"
     ]
    },
    {
     "name": "stderr",
     "output_type": "stream",
     "text": [
      "\r",
      " 56%|█████▌    | 284/505 [1:02:36<47:01, 12.77s/it]"
     ]
    },
    {
     "name": "stdout",
     "output_type": "stream",
     "text": [
      "info assigned\n",
      "sector assigned\n",
      "mkt cap assigned\n",
      "sector appended\n",
      "mkt cap appended\n",
      "ticker list appended\n",
      "-----------------\n",
      "MKTX\n"
     ]
    },
    {
     "name": "stderr",
     "output_type": "stream",
     "text": [
      "\r",
      " 56%|█████▋    | 285/505 [1:02:46<43:37, 11.90s/it]"
     ]
    },
    {
     "name": "stdout",
     "output_type": "stream",
     "text": [
      "info assigned\n",
      "sector assigned\n",
      "mkt cap assigned\n",
      "sector appended\n",
      "mkt cap appended\n",
      "ticker list appended\n",
      "-----------------\n",
      "TSCO\n"
     ]
    },
    {
     "name": "stderr",
     "output_type": "stream",
     "text": [
      "\r",
      " 57%|█████▋    | 286/505 [1:02:54<39:41, 10.87s/it]"
     ]
    },
    {
     "name": "stdout",
     "output_type": "stream",
     "text": [
      "info assigned\n",
      "sector assigned\n",
      "mkt cap assigned\n",
      "sector appended\n",
      "mkt cap appended\n",
      "ticker list appended\n",
      "-----------------\n",
      "FTNT\n"
     ]
    },
    {
     "name": "stderr",
     "output_type": "stream",
     "text": [
      "\r",
      " 57%|█████▋    | 287/505 [1:03:03<37:21, 10.28s/it]"
     ]
    },
    {
     "name": "stdout",
     "output_type": "stream",
     "text": [
      "info assigned\n",
      "sector assigned\n",
      "mkt cap assigned\n",
      "sector appended\n",
      "mkt cap appended\n",
      "ticker list appended\n",
      "-----------------\n",
      "AKAM\n"
     ]
    },
    {
     "name": "stderr",
     "output_type": "stream",
     "text": [
      "\r",
      " 57%|█████▋    | 288/505 [1:03:11<34:39,  9.58s/it]"
     ]
    },
    {
     "name": "stdout",
     "output_type": "stream",
     "text": [
      "info assigned\n",
      "sector assigned\n",
      "mkt cap assigned\n",
      "sector appended\n",
      "mkt cap appended\n",
      "ticker list appended\n",
      "-----------------\n",
      "NTRS\n"
     ]
    },
    {
     "name": "stderr",
     "output_type": "stream",
     "text": [
      "\r",
      " 57%|█████▋    | 289/505 [1:03:20<33:30,  9.31s/it]"
     ]
    },
    {
     "name": "stdout",
     "output_type": "stream",
     "text": [
      "info assigned\n",
      "sector assigned\n",
      "mkt cap assigned\n",
      "sector appended\n",
      "mkt cap appended\n",
      "ticker list appended\n",
      "-----------------\n",
      "PXD\n"
     ]
    },
    {
     "name": "stderr",
     "output_type": "stream",
     "text": [
      "\r",
      " 57%|█████▋    | 290/505 [1:03:26<30:20,  8.47s/it]"
     ]
    },
    {
     "name": "stdout",
     "output_type": "stream",
     "text": [
      "-----------------\n",
      "LYB\n"
     ]
    },
    {
     "name": "stderr",
     "output_type": "stream",
     "text": [
      "\r",
      " 58%|█████▊    | 291/505 [1:03:54<51:03, 14.31s/it]"
     ]
    },
    {
     "name": "stdout",
     "output_type": "stream",
     "text": [
      "info assigned\n",
      "sector assigned\n",
      "mkt cap assigned\n",
      "sector appended\n",
      "mkt cap appended\n",
      "ticker list appended\n",
      "-----------------\n",
      "KMX\n"
     ]
    },
    {
     "name": "stderr",
     "output_type": "stream",
     "text": [
      "\r",
      " 58%|█████▊    | 292/505 [1:04:07<49:31, 13.95s/it]"
     ]
    },
    {
     "name": "stdout",
     "output_type": "stream",
     "text": [
      "info assigned\n",
      "sector assigned\n",
      "mkt cap assigned\n",
      "sector appended\n",
      "mkt cap appended\n",
      "ticker list appended\n",
      "-----------------\n",
      "KSU\n"
     ]
    },
    {
     "name": "stderr",
     "output_type": "stream",
     "text": [
      "\r",
      " 58%|█████▊    | 293/505 [1:04:14<41:34, 11.76s/it]"
     ]
    },
    {
     "name": "stdout",
     "output_type": "stream",
     "text": [
      "-----------------\n",
      "LH\n"
     ]
    },
    {
     "name": "stderr",
     "output_type": "stream",
     "text": [
      "\r",
      " 58%|█████▊    | 294/505 [1:04:16<31:32,  8.97s/it]"
     ]
    },
    {
     "name": "stdout",
     "output_type": "stream",
     "text": [
      "-----------------\n",
      "TFX\n"
     ]
    },
    {
     "name": "stderr",
     "output_type": "stream",
     "text": [
      "\r",
      " 58%|█████▊    | 295/505 [1:04:27<33:44,  9.64s/it]"
     ]
    },
    {
     "name": "stdout",
     "output_type": "stream",
     "text": [
      "info assigned\n",
      "sector assigned\n",
      "mkt cap assigned\n",
      "sector appended\n",
      "mkt cap appended\n",
      "ticker list appended\n",
      "-----------------\n",
      "DAL\n"
     ]
    },
    {
     "name": "stderr",
     "output_type": "stream",
     "text": [
      "\r",
      " 59%|█████▊    | 296/505 [1:04:37<33:51,  9.72s/it]"
     ]
    },
    {
     "name": "stdout",
     "output_type": "stream",
     "text": [
      "info assigned\n",
      "sector assigned\n",
      "mkt cap assigned\n",
      "sector appended\n",
      "mkt cap appended\n",
      "ticker list appended\n",
      "-----------------\n",
      "K\n"
     ]
    },
    {
     "name": "stderr",
     "output_type": "stream",
     "text": [
      "\r",
      " 59%|█████▉    | 297/505 [1:04:45<31:34,  9.11s/it]"
     ]
    },
    {
     "name": "stdout",
     "output_type": "stream",
     "text": [
      "info assigned\n",
      "sector assigned\n",
      "mkt cap assigned\n",
      "sector appended\n",
      "mkt cap appended\n",
      "ticker list appended\n",
      "-----------------\n",
      "AMCR\n"
     ]
    },
    {
     "name": "stderr",
     "output_type": "stream",
     "text": [
      "\r",
      " 59%|█████▉    | 298/505 [1:04:57<34:31, 10.01s/it]"
     ]
    },
    {
     "name": "stdout",
     "output_type": "stream",
     "text": [
      "info assigned\n",
      "sector assigned\n",
      "mkt cap assigned\n",
      "sector appended\n",
      "mkt cap appended\n",
      "ticker list appended\n",
      "-----------------\n",
      "HOLX\n"
     ]
    },
    {
     "name": "stderr",
     "output_type": "stream",
     "text": [
      "\r",
      " 59%|█████▉    | 299/505 [1:05:10<37:30, 10.93s/it]"
     ]
    },
    {
     "name": "stdout",
     "output_type": "stream",
     "text": [
      "info assigned\n",
      "sector assigned\n",
      "mkt cap assigned\n",
      "sector appended\n",
      "mkt cap appended\n",
      "ticker list appended\n",
      "-----------------\n",
      "CMS\n"
     ]
    },
    {
     "name": "stderr",
     "output_type": "stream",
     "text": [
      "\r",
      " 59%|█████▉    | 300/505 [1:05:20<36:33, 10.70s/it]"
     ]
    },
    {
     "name": "stdout",
     "output_type": "stream",
     "text": [
      "info assigned\n",
      "sector assigned\n",
      "mkt cap assigned\n",
      "sector appended\n",
      "mkt cap appended\n",
      "ticker list appended\n",
      "-----------------\n",
      "LVS\n"
     ]
    },
    {
     "name": "stderr",
     "output_type": "stream",
     "text": [
      "\r",
      " 60%|█████▉    | 301/505 [1:05:40<45:29, 13.38s/it]"
     ]
    },
    {
     "name": "stdout",
     "output_type": "stream",
     "text": [
      "info assigned\n",
      "sector assigned\n",
      "mkt cap assigned\n",
      "sector appended\n",
      "mkt cap appended\n",
      "ticker list appended\n",
      "-----------------\n",
      "INCY\n"
     ]
    },
    {
     "name": "stderr",
     "output_type": "stream",
     "text": [
      "\r",
      " 60%|█████▉    | 302/505 [1:05:51<43:01, 12.72s/it]"
     ]
    },
    {
     "name": "stdout",
     "output_type": "stream",
     "text": [
      "info assigned\n",
      "sector assigned\n",
      "mkt cap assigned\n",
      "sector appended\n",
      "mkt cap appended\n",
      "ticker list appended\n",
      "-----------------\n",
      "CTXS\n"
     ]
    },
    {
     "name": "stderr",
     "output_type": "stream",
     "text": [
      "\r",
      " 60%|██████    | 303/505 [1:05:59<37:32, 11.15s/it]"
     ]
    },
    {
     "name": "stdout",
     "output_type": "stream",
     "text": [
      "info assigned\n",
      "sector assigned\n",
      "mkt cap assigned\n",
      "sector appended\n",
      "mkt cap appended\n",
      "ticker list appended\n",
      "-----------------\n",
      "VMC\n"
     ]
    },
    {
     "name": "stderr",
     "output_type": "stream",
     "text": [
      "\r",
      " 60%|██████    | 304/505 [1:06:07<35:00, 10.45s/it]"
     ]
    },
    {
     "name": "stdout",
     "output_type": "stream",
     "text": [
      "info assigned\n",
      "sector assigned\n",
      "mkt cap assigned\n",
      "sector appended\n",
      "mkt cap appended\n",
      "ticker list appended\n",
      "-----------------\n",
      "DFS\n"
     ]
    },
    {
     "name": "stderr",
     "output_type": "stream",
     "text": [
      "\r",
      " 60%|██████    | 305/505 [1:06:16<32:46,  9.83s/it]"
     ]
    },
    {
     "name": "stdout",
     "output_type": "stream",
     "text": [
      "info assigned\n",
      "sector assigned\n",
      "mkt cap assigned\n",
      "sector appended\n",
      "mkt cap appended\n",
      "ticker list appended\n",
      "-----------------\n",
      "DPZ\n"
     ]
    },
    {
     "name": "stderr",
     "output_type": "stream",
     "text": [
      "\r",
      " 61%|██████    | 306/505 [1:06:28<35:12, 10.62s/it]"
     ]
    },
    {
     "name": "stdout",
     "output_type": "stream",
     "text": [
      "info assigned\n",
      "sector assigned\n",
      "mkt cap assigned\n",
      "sector appended\n",
      "mkt cap appended\n",
      "ticker list appended\n",
      "-----------------\n",
      "DOV\n"
     ]
    },
    {
     "name": "stderr",
     "output_type": "stream",
     "text": [
      "\r",
      " 61%|██████    | 307/505 [1:06:42<37:57, 11.50s/it]"
     ]
    },
    {
     "name": "stdout",
     "output_type": "stream",
     "text": [
      "info assigned\n",
      "sector assigned\n",
      "mkt cap assigned\n",
      "sector appended\n",
      "mkt cap appended\n",
      "ticker list appended\n",
      "-----------------\n",
      "CDW\n"
     ]
    },
    {
     "name": "stderr",
     "output_type": "stream",
     "text": [
      "\r",
      " 61%|██████    | 308/505 [1:06:52<36:19, 11.06s/it]"
     ]
    },
    {
     "name": "stdout",
     "output_type": "stream",
     "text": [
      "info assigned\n",
      "sector assigned\n",
      "mkt cap assigned\n",
      "sector appended\n",
      "mkt cap appended\n",
      "ticker list appended\n",
      "-----------------\n",
      "CBRE\n"
     ]
    },
    {
     "name": "stderr",
     "output_type": "stream",
     "text": [
      "\r",
      " 61%|██████    | 309/505 [1:07:04<37:10, 11.38s/it]"
     ]
    },
    {
     "name": "stdout",
     "output_type": "stream",
     "text": [
      "-----------------\n",
      "BR\n"
     ]
    },
    {
     "name": "stderr",
     "output_type": "stream",
     "text": [
      "\r",
      " 61%|██████▏   | 310/505 [1:07:20<41:34, 12.79s/it]"
     ]
    },
    {
     "name": "stdout",
     "output_type": "stream",
     "text": [
      "info assigned\n",
      "sector assigned\n",
      "mkt cap assigned\n",
      "sector appended\n",
      "mkt cap appended\n",
      "ticker list appended\n",
      "-----------------\n",
      "MAS\n"
     ]
    },
    {
     "name": "stderr",
     "output_type": "stream",
     "text": [
      "\r",
      " 62%|██████▏   | 311/505 [1:07:33<41:35, 12.87s/it]"
     ]
    },
    {
     "name": "stdout",
     "output_type": "stream",
     "text": [
      "info assigned\n",
      "sector assigned\n",
      "mkt cap assigned\n",
      "sector appended\n",
      "mkt cap appended\n",
      "ticker list appended\n",
      "-----------------\n",
      "DGX\n"
     ]
    },
    {
     "name": "stderr",
     "output_type": "stream",
     "text": [
      "\r",
      " 62%|██████▏   | 312/505 [1:07:43<38:45, 12.05s/it]"
     ]
    },
    {
     "name": "stdout",
     "output_type": "stream",
     "text": [
      "info assigned\n",
      "sector assigned\n",
      "mkt cap assigned\n",
      "sector appended\n",
      "mkt cap appended\n",
      "ticker list appended\n",
      "-----------------\n",
      "VAR\n"
     ]
    },
    {
     "name": "stderr",
     "output_type": "stream",
     "text": [
      "\r",
      " 62%|██████▏   | 313/505 [1:07:52<34:55, 10.91s/it]"
     ]
    },
    {
     "name": "stdout",
     "output_type": "stream",
     "text": [
      "-----------------\n",
      "GWW\n"
     ]
    },
    {
     "name": "stderr",
     "output_type": "stream",
     "text": [
      "\r",
      " 62%|██████▏   | 314/505 [1:07:59<31:16,  9.83s/it]"
     ]
    },
    {
     "name": "stdout",
     "output_type": "stream",
     "text": [
      "info assigned\n",
      "sector assigned\n",
      "mkt cap assigned\n",
      "sector appended\n",
      "mkt cap appended\n",
      "ticker list appended\n",
      "-----------------\n",
      "QRVO\n"
     ]
    },
    {
     "name": "stderr",
     "output_type": "stream",
     "text": [
      "\r",
      " 62%|██████▏   | 315/505 [1:08:08<30:32,  9.65s/it]"
     ]
    },
    {
     "name": "stdout",
     "output_type": "stream",
     "text": [
      "info assigned\n",
      "sector assigned\n",
      "mkt cap assigned\n",
      "sector appended\n",
      "mkt cap appended\n",
      "ticker list appended\n",
      "-----------------\n",
      "VTR\n"
     ]
    },
    {
     "name": "stderr",
     "output_type": "stream",
     "text": [
      "\r",
      " 63%|██████▎   | 316/505 [1:08:23<35:42, 11.34s/it]"
     ]
    },
    {
     "name": "stdout",
     "output_type": "stream",
     "text": [
      "-----------------\n",
      "FE\n"
     ]
    },
    {
     "name": "stderr",
     "output_type": "stream",
     "text": [
      "\r",
      " 63%|██████▎   | 317/505 [1:08:32<32:52, 10.49s/it]"
     ]
    },
    {
     "name": "stdout",
     "output_type": "stream",
     "text": [
      "info assigned\n",
      "sector assigned\n",
      "mkt cap assigned\n",
      "sector appended\n",
      "mkt cap appended\n",
      "ticker list appended\n",
      "-----------------\n",
      "ZBRA\n"
     ]
    },
    {
     "name": "stderr",
     "output_type": "stream",
     "text": [
      "\r",
      " 63%|██████▎   | 318/505 [1:08:40<30:24,  9.76s/it]"
     ]
    },
    {
     "name": "stdout",
     "output_type": "stream",
     "text": [
      "info assigned\n",
      "sector assigned\n",
      "mkt cap assigned\n",
      "sector appended\n",
      "mkt cap appended\n",
      "ticker list appended\n",
      "-----------------\n",
      "PEAK\n"
     ]
    },
    {
     "name": "stderr",
     "output_type": "stream",
     "text": [
      "\r",
      " 63%|██████▎   | 319/505 [1:09:06<45:49, 14.78s/it]"
     ]
    },
    {
     "name": "stdout",
     "output_type": "stream",
     "text": [
      "-----------------\n",
      "GRMN\n"
     ]
    },
    {
     "name": "stderr",
     "output_type": "stream",
     "text": [
      "\r",
      " 63%|██████▎   | 320/505 [1:09:14<38:57, 12.63s/it]"
     ]
    },
    {
     "name": "stdout",
     "output_type": "stream",
     "text": [
      "-----------------\n",
      "HIG\n"
     ]
    },
    {
     "name": "stderr",
     "output_type": "stream",
     "text": [
      "\r",
      " 64%|██████▎   | 321/505 [1:09:24<36:37, 11.94s/it]"
     ]
    },
    {
     "name": "stdout",
     "output_type": "stream",
     "text": [
      "info assigned\n",
      "sector assigned\n",
      "mkt cap assigned\n",
      "sector appended\n",
      "mkt cap appended\n",
      "ticker list appended\n",
      "-----------------\n",
      "COO\n"
     ]
    },
    {
     "name": "stderr",
     "output_type": "stream",
     "text": [
      "\r",
      " 64%|██████▍   | 322/505 [1:09:31<31:30, 10.33s/it]"
     ]
    },
    {
     "name": "stdout",
     "output_type": "stream",
     "text": [
      "-----------------\n",
      "NDAQ\n"
     ]
    },
    {
     "name": "stderr",
     "output_type": "stream",
     "text": [
      "\r",
      " 64%|██████▍   | 323/505 [1:09:40<29:48,  9.83s/it]"
     ]
    },
    {
     "name": "stdout",
     "output_type": "stream",
     "text": [
      "info assigned\n",
      "sector assigned\n",
      "mkt cap assigned\n",
      "sector appended\n",
      "mkt cap appended\n",
      "ticker list appended\n",
      "-----------------\n",
      "EXPD\n"
     ]
    },
    {
     "name": "stderr",
     "output_type": "stream",
     "text": [
      "\r",
      " 64%|██████▍   | 324/505 [1:09:48<28:31,  9.46s/it]"
     ]
    },
    {
     "name": "stdout",
     "output_type": "stream",
     "text": [
      "info assigned\n",
      "sector assigned\n",
      "mkt cap assigned\n",
      "sector appended\n",
      "mkt cap appended\n",
      "ticker list appended\n",
      "-----------------\n",
      "VIAC\n"
     ]
    },
    {
     "name": "stderr",
     "output_type": "stream",
     "text": [
      "\r",
      " 64%|██████▍   | 325/505 [1:09:55<25:51,  8.62s/it]"
     ]
    },
    {
     "name": "stdout",
     "output_type": "stream",
     "text": [
      "-----------------\n",
      "CAH\n"
     ]
    },
    {
     "name": "stderr",
     "output_type": "stream",
     "text": [
      "\r",
      " 65%|██████▍   | 326/505 [1:10:02<24:50,  8.33s/it]"
     ]
    },
    {
     "name": "stdout",
     "output_type": "stream",
     "text": [
      "-----------------\n",
      "ABC\n"
     ]
    },
    {
     "name": "stderr",
     "output_type": "stream",
     "text": [
      "\r",
      " 65%|██████▍   | 327/505 [1:10:09<23:21,  7.87s/it]"
     ]
    },
    {
     "name": "stdout",
     "output_type": "stream",
     "text": [
      "-----------------\n",
      "NVR\n"
     ]
    },
    {
     "name": "stderr",
     "output_type": "stream",
     "text": [
      "\r",
      " 65%|██████▍   | 328/505 [1:10:17<22:41,  7.69s/it]"
     ]
    },
    {
     "name": "stdout",
     "output_type": "stream",
     "text": [
      "info assigned\n",
      "sector assigned\n",
      "mkt cap assigned\n",
      "sector appended\n",
      "mkt cap appended\n",
      "ticker list appended\n",
      "-----------------\n",
      "FITB\n"
     ]
    },
    {
     "name": "stderr",
     "output_type": "stream",
     "text": [
      "\r",
      " 65%|██████▌   | 329/505 [1:10:25<23:33,  8.03s/it]"
     ]
    },
    {
     "name": "stdout",
     "output_type": "stream",
     "text": [
      "info assigned\n",
      "sector assigned\n",
      "mkt cap assigned\n",
      "sector appended\n",
      "mkt cap appended\n",
      "ticker list appended\n",
      "-----------------\n",
      "XYL\n"
     ]
    },
    {
     "name": "stderr",
     "output_type": "stream",
     "text": [
      "\r",
      " 65%|██████▌   | 330/505 [1:10:33<22:51,  7.84s/it]"
     ]
    },
    {
     "name": "stdout",
     "output_type": "stream",
     "text": [
      "info assigned\n",
      "sector assigned\n",
      "mkt cap assigned\n",
      "sector appended\n",
      "mkt cap appended\n",
      "ticker list appended\n",
      "-----------------\n",
      "HRL\n"
     ]
    },
    {
     "name": "stderr",
     "output_type": "stream",
     "text": [
      "\r",
      " 66%|██████▌   | 331/505 [1:10:39<21:35,  7.44s/it]"
     ]
    },
    {
     "name": "stdout",
     "output_type": "stream",
     "text": [
      "info assigned\n",
      "sector assigned\n",
      "mkt cap assigned\n",
      "sector appended\n",
      "mkt cap appended\n",
      "ticker list appended\n",
      "-----------------\n",
      "IP\n"
     ]
    },
    {
     "name": "stderr",
     "output_type": "stream",
     "text": [
      "\r",
      " 66%|██████▌   | 332/505 [1:10:51<25:13,  8.75s/it]"
     ]
    },
    {
     "name": "stdout",
     "output_type": "stream",
     "text": [
      "info assigned\n",
      "sector assigned\n",
      "mkt cap assigned\n",
      "sector appended\n",
      "mkt cap appended\n",
      "ticker list appended\n",
      "-----------------\n",
      "HAL\n"
     ]
    },
    {
     "name": "stderr",
     "output_type": "stream",
     "text": [
      "\r",
      " 66%|██████▌   | 333/505 [1:11:00<24:57,  8.70s/it]"
     ]
    },
    {
     "name": "stdout",
     "output_type": "stream",
     "text": [
      "info assigned\n",
      "sector assigned\n",
      "mkt cap assigned\n",
      "sector appended\n",
      "mkt cap appended\n",
      "ticker list appended\n",
      "-----------------\n",
      "DRE\n"
     ]
    },
    {
     "name": "stderr",
     "output_type": "stream",
     "text": [
      "\r",
      " 66%|██████▌   | 334/505 [1:11:06<22:50,  8.02s/it]"
     ]
    },
    {
     "name": "stdout",
     "output_type": "stream",
     "text": [
      "-----------------\n",
      "ESS\n"
     ]
    },
    {
     "name": "stderr",
     "output_type": "stream",
     "text": [
      "\r",
      " 66%|██████▋   | 335/505 [1:11:15<23:03,  8.14s/it]"
     ]
    },
    {
     "name": "stdout",
     "output_type": "stream",
     "text": [
      "info assigned\n",
      "sector assigned\n",
      "mkt cap assigned\n",
      "sector appended\n",
      "mkt cap appended\n",
      "ticker list appended\n",
      "-----------------\n",
      "FMC\n"
     ]
    },
    {
     "name": "stderr",
     "output_type": "stream",
     "text": [
      "\r",
      " 67%|██████▋   | 336/505 [1:11:21<21:31,  7.64s/it]"
     ]
    },
    {
     "name": "stdout",
     "output_type": "stream",
     "text": [
      "-----------------\n",
      "PAYC\n"
     ]
    },
    {
     "name": "stderr",
     "output_type": "stream",
     "text": [
      "\r",
      " 67%|██████▋   | 337/505 [1:11:29<21:19,  7.62s/it]"
     ]
    },
    {
     "name": "stdout",
     "output_type": "stream",
     "text": [
      "info assigned\n",
      "sector assigned\n",
      "mkt cap assigned\n",
      "sector appended\n",
      "mkt cap appended\n",
      "ticker list appended\n",
      "-----------------\n",
      "MTB\n"
     ]
    },
    {
     "name": "stderr",
     "output_type": "stream",
     "text": [
      "\r",
      " 67%|██████▋   | 338/505 [1:11:38<22:32,  8.10s/it]"
     ]
    },
    {
     "name": "stdout",
     "output_type": "stream",
     "text": [
      "-----------------\n",
      "ABMD\n"
     ]
    },
    {
     "name": "stderr",
     "output_type": "stream",
     "text": [
      "\r",
      " 67%|██████▋   | 339/505 [1:11:45<22:01,  7.96s/it]"
     ]
    },
    {
     "name": "stdout",
     "output_type": "stream",
     "text": [
      "info assigned\n",
      "sector assigned\n",
      "mkt cap assigned\n",
      "sector appended\n",
      "mkt cap appended\n",
      "ticker list appended\n",
      "-----------------\n",
      "NUE\n"
     ]
    },
    {
     "name": "stderr",
     "output_type": "stream",
     "text": [
      "\r",
      " 67%|██████▋   | 340/505 [1:11:53<21:14,  7.73s/it]"
     ]
    },
    {
     "name": "stdout",
     "output_type": "stream",
     "text": [
      "info assigned\n",
      "sector assigned\n",
      "mkt cap assigned\n",
      "sector appended\n",
      "mkt cap appended\n",
      "ticker list appended\n",
      "-----------------\n",
      "EXR\n"
     ]
    },
    {
     "name": "stderr",
     "output_type": "stream",
     "text": [
      "\r",
      " 68%|██████▊   | 341/505 [1:12:01<21:58,  8.04s/it]"
     ]
    },
    {
     "name": "stdout",
     "output_type": "stream",
     "text": [
      "info assigned\n",
      "sector assigned\n",
      "mkt cap assigned\n",
      "sector appended\n",
      "mkt cap appended\n",
      "ticker list appended\n",
      "-----------------\n",
      "GPC\n"
     ]
    },
    {
     "name": "stderr",
     "output_type": "stream",
     "text": [
      "\r",
      " 68%|██████▊   | 342/505 [1:12:10<22:23,  8.24s/it]"
     ]
    },
    {
     "name": "stdout",
     "output_type": "stream",
     "text": [
      "info assigned\n",
      "sector assigned\n",
      "mkt cap assigned\n",
      "sector appended\n",
      "mkt cap appended\n",
      "ticker list appended\n",
      "-----------------\n",
      "SJM\n"
     ]
    },
    {
     "name": "stderr",
     "output_type": "stream",
     "text": [
      "\r",
      " 68%|██████▊   | 343/505 [1:12:18<21:51,  8.10s/it]"
     ]
    },
    {
     "name": "stdout",
     "output_type": "stream",
     "text": [
      "-----------------\n",
      "TYL\n"
     ]
    },
    {
     "name": "stderr",
     "output_type": "stream",
     "text": [
      "\r",
      " 68%|██████▊   | 344/505 [1:12:30<24:48,  9.24s/it]"
     ]
    },
    {
     "name": "stdout",
     "output_type": "stream",
     "text": [
      "-----------------\n",
      "WAT\n"
     ]
    },
    {
     "name": "stderr",
     "output_type": "stream",
     "text": [
      "\r",
      " 68%|██████▊   | 345/505 [1:12:40<25:21,  9.51s/it]"
     ]
    },
    {
     "name": "stdout",
     "output_type": "stream",
     "text": [
      "info assigned\n",
      "sector assigned\n",
      "mkt cap assigned\n",
      "sector appended\n",
      "mkt cap appended\n",
      "ticker list appended\n",
      "-----------------\n",
      "SYF\n"
     ]
    },
    {
     "name": "stderr",
     "output_type": "stream",
     "text": [
      "\r",
      " 69%|██████▊   | 346/505 [1:12:47<23:32,  8.88s/it]"
     ]
    },
    {
     "name": "stdout",
     "output_type": "stream",
     "text": [
      "info assigned\n",
      "sector assigned\n",
      "mkt cap assigned\n",
      "sector appended\n",
      "mkt cap appended\n",
      "ticker list appended\n",
      "-----------------\n",
      "IEX\n"
     ]
    },
    {
     "name": "stderr",
     "output_type": "stream",
     "text": [
      "\r",
      " 69%|██████▊   | 347/505 [1:12:56<23:22,  8.88s/it]"
     ]
    },
    {
     "name": "stdout",
     "output_type": "stream",
     "text": [
      "info assigned\n",
      "sector assigned\n",
      "mkt cap assigned\n",
      "sector appended\n",
      "mkt cap appended\n",
      "ticker list appended\n",
      "-----------------\n",
      "EXPE\n"
     ]
    },
    {
     "name": "stderr",
     "output_type": "stream",
     "text": [
      "\r",
      " 69%|██████▉   | 348/505 [1:13:05<23:07,  8.84s/it]"
     ]
    },
    {
     "name": "stdout",
     "output_type": "stream",
     "text": [
      "-----------------\n",
      "BF-B\n",
      "-----------------\n",
      "MAA\n"
     ]
    },
    {
     "name": "stderr",
     "output_type": "stream",
     "text": [
      "\r",
      " 69%|██████▉   | 350/505 [1:13:15<20:04,  7.77s/it]"
     ]
    },
    {
     "name": "stdout",
     "output_type": "stream",
     "text": [
      "info assigned\n",
      "sector assigned\n",
      "mkt cap assigned\n",
      "sector appended\n",
      "mkt cap appended\n",
      "ticker list appended\n",
      "-----------------\n",
      "SIVB\n"
     ]
    },
    {
     "name": "stderr",
     "output_type": "stream",
     "text": [
      "\r",
      " 70%|██████▉   | 351/505 [1:13:25<21:00,  8.18s/it]"
     ]
    },
    {
     "name": "stdout",
     "output_type": "stream",
     "text": [
      "info assigned\n",
      "sector assigned\n",
      "mkt cap assigned\n",
      "sector appended\n",
      "mkt cap appended\n",
      "ticker list appended\n",
      "-----------------\n",
      "MLM\n"
     ]
    },
    {
     "name": "stderr",
     "output_type": "stream",
     "text": [
      "\r",
      " 70%|██████▉   | 352/505 [1:13:32<19:54,  7.81s/it]"
     ]
    },
    {
     "name": "stdout",
     "output_type": "stream",
     "text": [
      "info assigned\n",
      "sector assigned\n",
      "mkt cap assigned\n",
      "sector appended\n",
      "mkt cap appended\n",
      "ticker list appended\n",
      "-----------------\n",
      "STE\n"
     ]
    },
    {
     "name": "stderr",
     "output_type": "stream",
     "text": [
      "\r",
      " 70%|██████▉   | 353/505 [1:13:41<20:46,  8.20s/it]"
     ]
    },
    {
     "name": "stdout",
     "output_type": "stream",
     "text": [
      "-----------------\n",
      "IFF\n"
     ]
    },
    {
     "name": "stderr",
     "output_type": "stream",
     "text": [
      "\r",
      " 70%|███████   | 354/505 [1:13:54<24:24,  9.70s/it]"
     ]
    },
    {
     "name": "stdout",
     "output_type": "stream",
     "text": [
      "info assigned\n",
      "sector assigned\n",
      "mkt cap assigned\n",
      "sector appended\n",
      "mkt cap appended\n",
      "ticker list appended\n",
      "-----------------\n",
      "TIF\n"
     ]
    },
    {
     "name": "stderr",
     "output_type": "stream",
     "text": [
      "\r",
      " 70%|███████   | 355/505 [1:14:07<26:56, 10.78s/it]"
     ]
    },
    {
     "name": "stdout",
     "output_type": "stream",
     "text": [
      "info assigned\n",
      "sector assigned\n",
      "mkt cap assigned\n",
      "sector appended\n",
      "mkt cap appended\n",
      "ticker list appended\n",
      "-----------------\n",
      "LNT\n"
     ]
    },
    {
     "name": "stderr",
     "output_type": "stream",
     "text": [
      "\r",
      " 70%|███████   | 356/505 [1:14:22<29:58, 12.07s/it]"
     ]
    },
    {
     "name": "stdout",
     "output_type": "stream",
     "text": [
      "info assigned\n",
      "sector assigned\n",
      "mkt cap assigned\n",
      "sector appended\n",
      "mkt cap appended\n",
      "ticker list appended\n",
      "-----------------\n",
      "CHRW\n"
     ]
    },
    {
     "name": "stderr",
     "output_type": "stream",
     "text": [
      "\r",
      " 71%|███████   | 357/505 [1:14:31<27:15, 11.05s/it]"
     ]
    },
    {
     "name": "stdout",
     "output_type": "stream",
     "text": [
      "-----------------\n",
      "PKI\n"
     ]
    },
    {
     "name": "stderr",
     "output_type": "stream",
     "text": [
      "\r",
      " 71%|███████   | 358/505 [1:14:35<21:53,  8.94s/it]"
     ]
    },
    {
     "name": "stdout",
     "output_type": "stream",
     "text": [
      "-----------------\n",
      "URI\n"
     ]
    },
    {
     "name": "stderr",
     "output_type": "stream",
     "text": [
      "\r",
      " 71%|███████   | 359/505 [1:14:41<19:56,  8.19s/it]"
     ]
    },
    {
     "name": "stdout",
     "output_type": "stream",
     "text": [
      "info assigned\n",
      "sector assigned\n",
      "mkt cap assigned\n",
      "sector appended\n",
      "mkt cap appended\n",
      "ticker list appended\n",
      "-----------------\n",
      "NLOK\n"
     ]
    },
    {
     "name": "stderr",
     "output_type": "stream",
     "text": [
      "\r",
      " 71%|███████▏  | 360/505 [1:14:49<19:04,  7.89s/it]"
     ]
    },
    {
     "name": "stdout",
     "output_type": "stream",
     "text": [
      "info assigned\n",
      "sector assigned\n",
      "mkt cap assigned\n",
      "sector appended\n",
      "mkt cap appended\n",
      "ticker list appended\n",
      "-----------------\n",
      "BXP\n"
     ]
    },
    {
     "name": "stderr",
     "output_type": "stream",
     "text": [
      "\r",
      " 71%|███████▏  | 361/505 [1:14:55<18:09,  7.57s/it]"
     ]
    },
    {
     "name": "stdout",
     "output_type": "stream",
     "text": [
      "info assigned\n",
      "sector assigned\n",
      "mkt cap assigned\n",
      "sector appended\n",
      "mkt cap appended\n",
      "ticker list appended\n",
      "-----------------\n",
      "JKHY\n"
     ]
    },
    {
     "name": "stderr",
     "output_type": "stream",
     "text": [
      "\r",
      " 72%|███████▏  | 362/505 [1:15:03<18:07,  7.60s/it]"
     ]
    },
    {
     "name": "stdout",
     "output_type": "stream",
     "text": [
      "info assigned\n",
      "sector assigned\n",
      "mkt cap assigned\n",
      "sector appended\n",
      "mkt cap appended\n",
      "ticker list appended\n",
      "-----------------\n",
      "ULTA\n"
     ]
    },
    {
     "name": "stderr",
     "output_type": "stream",
     "text": [
      "\r",
      " 72%|███████▏  | 363/505 [1:15:13<19:43,  8.33s/it]"
     ]
    },
    {
     "name": "stdout",
     "output_type": "stream",
     "text": [
      "info assigned\n",
      "sector assigned\n",
      "mkt cap assigned\n",
      "sector appended\n",
      "mkt cap appended\n",
      "ticker list appended\n",
      "-----------------\n",
      "HES\n"
     ]
    },
    {
     "name": "stderr",
     "output_type": "stream",
     "text": [
      "\r",
      " 72%|███████▏  | 364/505 [1:15:26<23:06,  9.83s/it]"
     ]
    },
    {
     "name": "stdout",
     "output_type": "stream",
     "text": [
      "-----------------\n",
      "CE\n"
     ]
    },
    {
     "name": "stderr",
     "output_type": "stream",
     "text": [
      "\r",
      " 72%|███████▏  | 365/505 [1:15:36<22:41,  9.73s/it]"
     ]
    },
    {
     "name": "stdout",
     "output_type": "stream",
     "text": [
      "info assigned\n",
      "sector assigned\n",
      "mkt cap assigned\n",
      "sector appended\n",
      "mkt cap appended\n",
      "ticker list appended\n",
      "-----------------\n",
      "KEY\n"
     ]
    },
    {
     "name": "stderr",
     "output_type": "stream",
     "text": [
      "\r",
      " 72%|███████▏  | 366/505 [1:15:50<25:27, 10.99s/it]"
     ]
    },
    {
     "name": "stdout",
     "output_type": "stream",
     "text": [
      "info assigned\n",
      "sector assigned\n",
      "mkt cap assigned\n",
      "sector appended\n",
      "mkt cap appended\n",
      "ticker list appended\n",
      "-----------------\n",
      "ETFC\n"
     ]
    },
    {
     "name": "stderr",
     "output_type": "stream",
     "text": [
      "\r",
      " 73%|███████▎  | 367/505 [1:16:01<25:24, 11.05s/it]"
     ]
    },
    {
     "name": "stdout",
     "output_type": "stream",
     "text": [
      "-----------------\n",
      "IR\n"
     ]
    },
    {
     "name": "stderr",
     "output_type": "stream",
     "text": [
      "\r",
      " 73%|███████▎  | 368/505 [1:16:13<25:39, 11.24s/it]"
     ]
    },
    {
     "name": "stdout",
     "output_type": "stream",
     "text": [
      "-----------------\n",
      "HPE\n"
     ]
    },
    {
     "name": "stderr",
     "output_type": "stream",
     "text": [
      "\r",
      " 73%|███████▎  | 369/505 [1:16:23<24:34, 10.84s/it]"
     ]
    },
    {
     "name": "stdout",
     "output_type": "stream",
     "text": [
      "info assigned\n",
      "sector assigned\n",
      "mkt cap assigned\n",
      "sector appended\n",
      "mkt cap appended\n",
      "ticker list appended\n",
      "-----------------\n",
      "LDOS\n"
     ]
    },
    {
     "name": "stderr",
     "output_type": "stream",
     "text": [
      "\r",
      " 73%|███████▎  | 370/505 [1:16:32<23:35, 10.48s/it]"
     ]
    },
    {
     "name": "stdout",
     "output_type": "stream",
     "text": [
      "info assigned\n",
      "sector assigned\n",
      "mkt cap assigned\n",
      "sector appended\n",
      "mkt cap appended\n",
      "ticker list appended\n",
      "-----------------\n",
      "OXY\n"
     ]
    },
    {
     "name": "stderr",
     "output_type": "stream",
     "text": [
      "\r",
      " 73%|███████▎  | 371/505 [1:16:41<22:20, 10.00s/it]"
     ]
    },
    {
     "name": "stdout",
     "output_type": "stream",
     "text": [
      "info assigned\n",
      "sector assigned\n",
      "mkt cap assigned\n",
      "sector appended\n",
      "mkt cap appended\n",
      "ticker list appended\n",
      "-----------------\n",
      "JBHT\n"
     ]
    },
    {
     "name": "stderr",
     "output_type": "stream",
     "text": [
      "\r",
      " 74%|███████▎  | 372/505 [1:16:51<22:19, 10.07s/it]"
     ]
    },
    {
     "name": "stdout",
     "output_type": "stream",
     "text": [
      "info assigned\n",
      "sector assigned\n",
      "mkt cap assigned\n",
      "sector appended\n",
      "mkt cap appended\n",
      "ticker list appended\n",
      "-----------------\n",
      "CINF\n"
     ]
    },
    {
     "name": "stderr",
     "output_type": "stream",
     "text": [
      "\r",
      " 74%|███████▍  | 373/505 [1:17:01<22:05, 10.04s/it]"
     ]
    },
    {
     "name": "stdout",
     "output_type": "stream",
     "text": [
      "info assigned\n",
      "sector assigned\n",
      "mkt cap assigned\n",
      "sector appended\n",
      "mkt cap appended\n",
      "ticker list appended\n",
      "-----------------\n",
      "ATO\n"
     ]
    },
    {
     "name": "stderr",
     "output_type": "stream",
     "text": [
      "\r",
      " 74%|███████▍  | 374/505 [1:17:12<22:03, 10.10s/it]"
     ]
    },
    {
     "name": "stdout",
     "output_type": "stream",
     "text": [
      "info assigned\n",
      "sector assigned\n",
      "mkt cap assigned\n",
      "sector appended\n",
      "mkt cap appended\n",
      "ticker list appended\n",
      "-----------------\n",
      "PHM\n"
     ]
    },
    {
     "name": "stderr",
     "output_type": "stream",
     "text": [
      "\r",
      " 74%|███████▍  | 375/505 [1:17:18<19:13,  8.87s/it]"
     ]
    },
    {
     "name": "stdout",
     "output_type": "stream",
     "text": [
      "-----------------\n",
      "WAB\n"
     ]
    },
    {
     "name": "stderr",
     "output_type": "stream",
     "text": [
      "\r",
      " 74%|███████▍  | 376/505 [1:17:25<18:06,  8.42s/it]"
     ]
    },
    {
     "name": "stdout",
     "output_type": "stream",
     "text": [
      "info assigned\n",
      "sector assigned\n",
      "mkt cap assigned\n",
      "sector appended\n",
      "mkt cap appended\n",
      "ticker list appended\n",
      "-----------------\n",
      "FBHS\n"
     ]
    },
    {
     "name": "stderr",
     "output_type": "stream",
     "text": [
      "\r",
      " 75%|███████▍  | 377/505 [1:17:30<16:02,  7.52s/it]"
     ]
    },
    {
     "name": "stdout",
     "output_type": "stream",
     "text": [
      "info assigned\n",
      "sector assigned\n",
      "mkt cap assigned\n",
      "sector appended\n",
      "mkt cap appended\n",
      "ticker list appended\n",
      "-----------------\n",
      "ANET\n"
     ]
    },
    {
     "name": "stderr",
     "output_type": "stream",
     "text": [
      "\r",
      " 75%|███████▍  | 378/505 [1:17:41<17:56,  8.47s/it]"
     ]
    },
    {
     "name": "stdout",
     "output_type": "stream",
     "text": [
      "info assigned\n",
      "sector assigned\n",
      "mkt cap assigned\n",
      "sector appended\n",
      "mkt cap appended\n",
      "ticker list appended\n",
      "-----------------\n",
      "AES\n"
     ]
    },
    {
     "name": "stderr",
     "output_type": "stream",
     "text": [
      "\r",
      " 75%|███████▌  | 379/505 [1:17:51<18:43,  8.91s/it]"
     ]
    },
    {
     "name": "stdout",
     "output_type": "stream",
     "text": [
      "info assigned\n",
      "sector assigned\n",
      "mkt cap assigned\n",
      "sector appended\n",
      "mkt cap appended\n",
      "ticker list appended\n",
      "-----------------\n",
      "TDY\n"
     ]
    },
    {
     "name": "stderr",
     "output_type": "stream",
     "text": [
      "\r",
      " 75%|███████▌  | 380/505 [1:17:59<17:55,  8.60s/it]"
     ]
    },
    {
     "name": "stdout",
     "output_type": "stream",
     "text": [
      "info assigned\n",
      "sector assigned\n",
      "mkt cap assigned\n",
      "sector appended\n",
      "mkt cap appended\n",
      "ticker list appended\n",
      "-----------------\n",
      "IT\n"
     ]
    },
    {
     "name": "stderr",
     "output_type": "stream",
     "text": [
      "\r",
      " 75%|███████▌  | 381/505 [1:18:05<15:54,  7.70s/it]"
     ]
    },
    {
     "name": "stdout",
     "output_type": "stream",
     "text": [
      "-----------------\n",
      "OMC\n"
     ]
    },
    {
     "name": "stderr",
     "output_type": "stream",
     "text": [
      "\r",
      " 76%|███████▌  | 382/505 [1:18:10<14:38,  7.14s/it]"
     ]
    },
    {
     "name": "stdout",
     "output_type": "stream",
     "text": [
      "-----------------\n",
      "EVRG\n"
     ]
    },
    {
     "name": "stderr",
     "output_type": "stream",
     "text": [
      "\r",
      " 76%|███████▌  | 383/505 [1:18:17<14:11,  6.98s/it]"
     ]
    },
    {
     "name": "stdout",
     "output_type": "stream",
     "text": [
      "info assigned\n",
      "sector assigned\n",
      "mkt cap assigned\n",
      "sector appended\n",
      "mkt cap appended\n",
      "ticker list appended\n",
      "-----------------\n",
      "J\n"
     ]
    },
    {
     "name": "stderr",
     "output_type": "stream",
     "text": [
      "\r",
      " 76%|███████▌  | 384/505 [1:18:26<15:18,  7.59s/it]"
     ]
    },
    {
     "name": "stdout",
     "output_type": "stream",
     "text": [
      "info assigned\n",
      "sector assigned\n",
      "mkt cap assigned\n",
      "sector appended\n",
      "mkt cap appended\n",
      "ticker list appended\n",
      "-----------------\n",
      "PFG\n"
     ]
    },
    {
     "name": "stderr",
     "output_type": "stream",
     "text": [
      "\r",
      " 76%|███████▌  | 385/505 [1:18:32<14:02,  7.02s/it]"
     ]
    },
    {
     "name": "stdout",
     "output_type": "stream",
     "text": [
      "info assigned\n",
      "sector assigned\n",
      "mkt cap assigned\n",
      "sector appended\n",
      "mkt cap appended\n",
      "ticker list appended\n",
      "-----------------\n",
      "MGM\n"
     ]
    },
    {
     "name": "stderr",
     "output_type": "stream",
     "text": [
      "\r",
      " 76%|███████▋  | 386/505 [1:18:40<14:26,  7.28s/it]"
     ]
    },
    {
     "name": "stdout",
     "output_type": "stream",
     "text": [
      "info assigned\n",
      "sector assigned\n",
      "mkt cap assigned\n",
      "sector appended\n",
      "mkt cap appended\n",
      "ticker list appended\n",
      "-----------------\n",
      "WHR\n"
     ]
    },
    {
     "name": "stderr",
     "output_type": "stream",
     "text": [
      "\r",
      " 77%|███████▋  | 387/505 [1:18:47<14:12,  7.23s/it]"
     ]
    },
    {
     "name": "stdout",
     "output_type": "stream",
     "text": [
      "info assigned\n",
      "sector assigned\n",
      "mkt cap assigned\n",
      "sector appended\n",
      "mkt cap appended\n",
      "ticker list appended\n",
      "-----------------\n",
      "RF\n"
     ]
    },
    {
     "name": "stderr",
     "output_type": "stream",
     "text": [
      "\r",
      " 77%|███████▋  | 388/505 [1:18:54<14:13,  7.30s/it]"
     ]
    },
    {
     "name": "stdout",
     "output_type": "stream",
     "text": [
      "info assigned\n",
      "sector assigned\n",
      "mkt cap assigned\n",
      "sector appended\n",
      "mkt cap appended\n",
      "ticker list appended\n",
      "-----------------\n",
      "OKE\n"
     ]
    },
    {
     "name": "stderr",
     "output_type": "stream",
     "text": [
      "\r",
      " 77%|███████▋  | 389/505 [1:19:00<13:13,  6.84s/it]"
     ]
    },
    {
     "name": "stdout",
     "output_type": "stream",
     "text": [
      "-----------------\n",
      "CFG\n"
     ]
    },
    {
     "name": "stderr",
     "output_type": "stream",
     "text": [
      "\r",
      " 77%|███████▋  | 390/505 [1:19:07<13:15,  6.92s/it]"
     ]
    },
    {
     "name": "stdout",
     "output_type": "stream",
     "text": [
      "info assigned\n",
      "sector assigned\n",
      "mkt cap assigned\n",
      "sector appended\n",
      "mkt cap appended\n",
      "ticker list appended\n",
      "-----------------\n",
      "BIO\n"
     ]
    },
    {
     "name": "stderr",
     "output_type": "stream",
     "text": [
      "\r",
      " 77%|███████▋  | 391/505 [1:19:13<12:25,  6.54s/it]"
     ]
    },
    {
     "name": "stdout",
     "output_type": "stream",
     "text": [
      "info assigned\n",
      "sector assigned\n",
      "mkt cap assigned\n",
      "sector appended\n",
      "mkt cap appended\n",
      "ticker list appended\n",
      "-----------------\n",
      "CNP\n"
     ]
    },
    {
     "name": "stderr",
     "output_type": "stream",
     "text": [
      "\r",
      " 78%|███████▊  | 392/505 [1:19:21<13:15,  7.04s/it]"
     ]
    },
    {
     "name": "stdout",
     "output_type": "stream",
     "text": [
      "info assigned\n",
      "sector assigned\n",
      "mkt cap assigned\n",
      "sector appended\n",
      "mkt cap appended\n",
      "ticker list appended\n",
      "-----------------\n",
      "RCL\n"
     ]
    },
    {
     "name": "stderr",
     "output_type": "stream",
     "text": [
      "\r",
      " 78%|███████▊  | 393/505 [1:19:29<13:38,  7.31s/it]"
     ]
    },
    {
     "name": "stdout",
     "output_type": "stream",
     "text": [
      "info assigned\n",
      "sector assigned\n",
      "mkt cap assigned\n",
      "sector appended\n",
      "mkt cap appended\n",
      "ticker list appended\n",
      "-----------------\n",
      "AAP\n"
     ]
    },
    {
     "name": "stderr",
     "output_type": "stream",
     "text": [
      "\r",
      " 78%|███████▊  | 394/505 [1:19:37<14:10,  7.66s/it]"
     ]
    },
    {
     "name": "stdout",
     "output_type": "stream",
     "text": [
      "info assigned\n",
      "sector assigned\n",
      "mkt cap assigned\n",
      "sector appended\n",
      "mkt cap appended\n",
      "ticker list appended\n",
      "-----------------\n",
      "DRI\n"
     ]
    },
    {
     "name": "stderr",
     "output_type": "stream",
     "text": [
      "\r",
      " 78%|███████▊  | 395/505 [1:19:43<12:48,  6.98s/it]"
     ]
    },
    {
     "name": "stdout",
     "output_type": "stream",
     "text": [
      "info assigned\n",
      "sector assigned\n",
      "mkt cap assigned\n",
      "sector appended\n",
      "mkt cap appended\n",
      "ticker list appended\n",
      "-----------------\n",
      "CTL\n"
     ]
    },
    {
     "name": "stderr",
     "output_type": "stream",
     "text": [
      "\r",
      " 78%|███████▊  | 396/505 [1:19:48<11:35,  6.39s/it]"
     ]
    },
    {
     "name": "stdout",
     "output_type": "stream",
     "text": [
      "-----------------\n",
      "STX\n"
     ]
    },
    {
     "name": "stderr",
     "output_type": "stream",
     "text": [
      "\r",
      " 79%|███████▊  | 397/505 [1:19:52<10:23,  5.77s/it]"
     ]
    },
    {
     "name": "stdout",
     "output_type": "stream",
     "text": [
      "-----------------\n",
      "CXO\n"
     ]
    },
    {
     "name": "stderr",
     "output_type": "stream",
     "text": [
      "\r",
      " 79%|███████▉  | 398/505 [1:19:58<10:11,  5.72s/it]"
     ]
    },
    {
     "name": "stdout",
     "output_type": "stream",
     "text": [
      "info assigned\n",
      "sector assigned\n",
      "mkt cap assigned\n",
      "sector appended\n",
      "mkt cap appended\n",
      "ticker list appended\n",
      "-----------------\n",
      "BKR\n"
     ]
    },
    {
     "name": "stderr",
     "output_type": "stream",
     "text": [
      "\r",
      " 79%|███████▉  | 399/505 [1:20:06<11:27,  6.49s/it]"
     ]
    },
    {
     "name": "stdout",
     "output_type": "stream",
     "text": [
      "info assigned\n",
      "sector assigned\n",
      "mkt cap assigned\n",
      "sector appended\n",
      "mkt cap appended\n",
      "ticker list appended\n",
      "-----------------\n",
      "UDR\n"
     ]
    },
    {
     "name": "stderr",
     "output_type": "stream",
     "text": [
      "\r",
      " 79%|███████▉  | 400/505 [1:20:13<11:54,  6.81s/it]"
     ]
    },
    {
     "name": "stdout",
     "output_type": "stream",
     "text": [
      "info assigned\n",
      "sector assigned\n",
      "mkt cap assigned\n",
      "sector appended\n",
      "mkt cap appended\n",
      "ticker list appended\n",
      "-----------------\n",
      "HAS\n"
     ]
    },
    {
     "name": "stderr",
     "output_type": "stream",
     "text": [
      "\r",
      " 79%|███████▉  | 401/505 [1:20:20<11:31,  6.65s/it]"
     ]
    },
    {
     "name": "stdout",
     "output_type": "stream",
     "text": [
      "info assigned\n",
      "sector assigned\n",
      "mkt cap assigned\n",
      "sector appended\n",
      "mkt cap appended\n",
      "ticker list appended\n",
      "-----------------\n",
      "CBOE\n"
     ]
    },
    {
     "name": "stderr",
     "output_type": "stream",
     "text": [
      "\r",
      " 80%|███████▉  | 402/505 [1:20:27<11:40,  6.80s/it]"
     ]
    },
    {
     "name": "stdout",
     "output_type": "stream",
     "text": [
      "info assigned\n",
      "sector assigned\n",
      "mkt cap assigned\n",
      "sector appended\n",
      "mkt cap appended\n",
      "ticker list appended\n",
      "-----------------\n",
      "EMN\n"
     ]
    },
    {
     "name": "stderr",
     "output_type": "stream",
     "text": [
      "\r",
      " 80%|███████▉  | 403/505 [1:20:34<11:36,  6.82s/it]"
     ]
    },
    {
     "name": "stdout",
     "output_type": "stream",
     "text": [
      "info assigned\n",
      "sector assigned\n",
      "mkt cap assigned\n",
      "sector appended\n",
      "mkt cap appended\n",
      "ticker list appended\n",
      "-----------------\n",
      "WDC\n"
     ]
    },
    {
     "name": "stderr",
     "output_type": "stream",
     "text": [
      "\r",
      " 80%|████████  | 404/505 [1:20:40<10:57,  6.51s/it]"
     ]
    },
    {
     "name": "stdout",
     "output_type": "stream",
     "text": [
      "info assigned\n",
      "sector assigned\n",
      "mkt cap assigned\n",
      "sector appended\n",
      "mkt cap appended\n",
      "ticker list appended\n",
      "-----------------\n",
      "WU\n"
     ]
    },
    {
     "name": "stderr",
     "output_type": "stream",
     "text": [
      "\r",
      " 80%|████████  | 405/505 [1:20:47<11:09,  6.69s/it]"
     ]
    },
    {
     "name": "stdout",
     "output_type": "stream",
     "text": [
      "info assigned\n",
      "sector assigned\n",
      "mkt cap assigned\n",
      "sector appended\n",
      "mkt cap appended\n",
      "ticker list appended\n",
      "-----------------\n",
      "HBAN\n"
     ]
    },
    {
     "name": "stderr",
     "output_type": "stream",
     "text": [
      "\r",
      " 80%|████████  | 406/505 [1:20:54<11:19,  6.87s/it]"
     ]
    },
    {
     "name": "stdout",
     "output_type": "stream",
     "text": [
      "info assigned\n",
      "sector assigned\n",
      "mkt cap assigned\n",
      "sector appended\n",
      "mkt cap appended\n",
      "ticker list appended\n",
      "-----------------\n",
      "LKQ\n"
     ]
    },
    {
     "name": "stderr",
     "output_type": "stream",
     "text": [
      "\r",
      " 81%|████████  | 407/505 [1:21:03<12:15,  7.51s/it]"
     ]
    },
    {
     "name": "stdout",
     "output_type": "stream",
     "text": [
      "info assigned\n",
      "sector assigned\n",
      "mkt cap assigned\n",
      "sector appended\n",
      "mkt cap appended\n",
      "ticker list appended\n",
      "-----------------\n",
      "ALB\n"
     ]
    },
    {
     "name": "stderr",
     "output_type": "stream",
     "text": [
      "\r",
      " 81%|████████  | 408/505 [1:21:11<12:30,  7.74s/it]"
     ]
    },
    {
     "name": "stdout",
     "output_type": "stream",
     "text": [
      "info assigned\n",
      "sector assigned\n",
      "mkt cap assigned\n",
      "sector appended\n",
      "mkt cap appended\n",
      "ticker list appended\n",
      "-----------------\n",
      "XRAY\n"
     ]
    },
    {
     "name": "stderr",
     "output_type": "stream",
     "text": [
      "\r",
      " 81%|████████  | 409/505 [1:21:18<12:03,  7.53s/it]"
     ]
    },
    {
     "name": "stdout",
     "output_type": "stream",
     "text": [
      "-----------------\n",
      "AVY\n"
     ]
    },
    {
     "name": "stderr",
     "output_type": "stream",
     "text": [
      "\r",
      " 81%|████████  | 410/505 [1:21:26<12:07,  7.66s/it]"
     ]
    },
    {
     "name": "stdout",
     "output_type": "stream",
     "text": [
      "info assigned\n",
      "sector assigned\n",
      "mkt cap assigned\n",
      "sector appended\n",
      "mkt cap appended\n",
      "ticker list appended\n",
      "-----------------\n",
      "HSIC\n"
     ]
    },
    {
     "name": "stderr",
     "output_type": "stream",
     "text": [
      "\r",
      " 81%|████████▏ | 411/505 [1:21:33<11:32,  7.37s/it]"
     ]
    },
    {
     "name": "stdout",
     "output_type": "stream",
     "text": [
      "info assigned\n",
      "sector assigned\n",
      "mkt cap assigned\n",
      "sector appended\n",
      "mkt cap appended\n",
      "ticker list appended\n",
      "-----------------\n",
      "NTAP\n"
     ]
    },
    {
     "name": "stderr",
     "output_type": "stream",
     "text": [
      "\r",
      " 82%|████████▏ | 412/505 [1:21:40<11:10,  7.21s/it]"
     ]
    },
    {
     "name": "stdout",
     "output_type": "stream",
     "text": [
      "info assigned\n",
      "sector assigned\n",
      "mkt cap assigned\n",
      "sector appended\n",
      "mkt cap appended\n",
      "ticker list appended\n",
      "-----------------\n",
      "ALLE\n"
     ]
    },
    {
     "name": "stderr",
     "output_type": "stream",
     "text": [
      "\r",
      " 82%|████████▏ | 413/505 [1:21:47<11:00,  7.18s/it]"
     ]
    },
    {
     "name": "stdout",
     "output_type": "stream",
     "text": [
      "info assigned\n",
      "sector assigned\n",
      "mkt cap assigned\n",
      "sector appended\n",
      "mkt cap appended\n",
      "ticker list appended\n",
      "-----------------\n",
      "RJF\n"
     ]
    },
    {
     "name": "stderr",
     "output_type": "stream",
     "text": [
      "\r",
      " 82%|████████▏ | 414/505 [1:21:52<09:57,  6.56s/it]"
     ]
    },
    {
     "name": "stdout",
     "output_type": "stream",
     "text": [
      "-----------------\n",
      "FOXA\n"
     ]
    },
    {
     "name": "stderr",
     "output_type": "stream",
     "text": [
      "\r",
      " 82%|████████▏ | 415/505 [1:21:59<10:09,  6.78s/it]"
     ]
    },
    {
     "name": "stdout",
     "output_type": "stream",
     "text": [
      "info assigned\n",
      "sector assigned\n",
      "mkt cap assigned\n",
      "sector appended\n",
      "mkt cap appended\n",
      "ticker list appended\n",
      "-----------------\n",
      "PKG\n"
     ]
    },
    {
     "name": "stderr",
     "output_type": "stream",
     "text": [
      "\r",
      " 82%|████████▏ | 416/505 [1:22:06<09:58,  6.72s/it]"
     ]
    },
    {
     "name": "stdout",
     "output_type": "stream",
     "text": [
      "info assigned\n",
      "sector assigned\n",
      "mkt cap assigned\n",
      "sector appended\n",
      "mkt cap appended\n",
      "ticker list appended\n",
      "-----------------\n",
      "LW\n"
     ]
    },
    {
     "name": "stderr",
     "output_type": "stream",
     "text": [
      "\r",
      " 83%|████████▎ | 417/505 [1:22:14<10:17,  7.02s/it]"
     ]
    },
    {
     "name": "stdout",
     "output_type": "stream",
     "text": [
      "info assigned\n",
      "sector assigned\n",
      "mkt cap assigned\n",
      "sector appended\n",
      "mkt cap appended\n",
      "ticker list appended\n",
      "-----------------\n",
      "CPB\n"
     ]
    },
    {
     "name": "stderr",
     "output_type": "stream",
     "text": [
      "\r",
      " 83%|████████▎ | 418/505 [1:22:21<10:31,  7.26s/it]"
     ]
    },
    {
     "name": "stdout",
     "output_type": "stream",
     "text": [
      "info assigned\n",
      "sector assigned\n",
      "mkt cap assigned\n",
      "sector appended\n",
      "mkt cap appended\n",
      "ticker list appended\n",
      "-----------------\n",
      "UAL\n"
     ]
    },
    {
     "name": "stderr",
     "output_type": "stream",
     "text": [
      "\r",
      " 83%|████████▎ | 419/505 [1:22:28<09:55,  6.92s/it]"
     ]
    },
    {
     "name": "stdout",
     "output_type": "stream",
     "text": [
      "-----------------\n",
      "WRB\n"
     ]
    },
    {
     "name": "stderr",
     "output_type": "stream",
     "text": [
      "\r",
      " 83%|████████▎ | 420/505 [1:22:34<09:30,  6.71s/it]"
     ]
    },
    {
     "name": "stdout",
     "output_type": "stream",
     "text": [
      "info assigned\n",
      "sector assigned\n",
      "mkt cap assigned\n",
      "sector appended\n",
      "mkt cap appended\n",
      "ticker list appended\n",
      "-----------------\n",
      "TXT\n"
     ]
    },
    {
     "name": "stderr",
     "output_type": "stream",
     "text": [
      "\r",
      " 83%|████████▎ | 421/505 [1:22:41<09:35,  6.85s/it]"
     ]
    },
    {
     "name": "stdout",
     "output_type": "stream",
     "text": [
      "info assigned\n",
      "sector assigned\n",
      "mkt cap assigned\n",
      "sector appended\n",
      "mkt cap appended\n",
      "ticker list appended\n",
      "-----------------\n",
      "L\n"
     ]
    },
    {
     "name": "stderr",
     "output_type": "stream",
     "text": [
      "\r",
      " 84%|████████▎ | 422/505 [1:22:49<09:58,  7.21s/it]"
     ]
    },
    {
     "name": "stdout",
     "output_type": "stream",
     "text": [
      "info assigned\n",
      "sector assigned\n",
      "mkt cap assigned\n",
      "sector appended\n",
      "mkt cap appended\n",
      "ticker list appended\n",
      "-----------------\n",
      "UHS\n"
     ]
    },
    {
     "name": "stderr",
     "output_type": "stream",
     "text": [
      "\r",
      " 84%|████████▍ | 423/505 [1:22:56<09:49,  7.18s/it]"
     ]
    },
    {
     "name": "stdout",
     "output_type": "stream",
     "text": [
      "info assigned\n",
      "sector assigned\n",
      "mkt cap assigned\n",
      "sector appended\n",
      "mkt cap appended\n",
      "ticker list appended\n",
      "-----------------\n",
      "RE\n"
     ]
    },
    {
     "name": "stderr",
     "output_type": "stream",
     "text": [
      "\r",
      " 84%|████████▍ | 424/505 [1:23:02<09:15,  6.86s/it]"
     ]
    },
    {
     "name": "stdout",
     "output_type": "stream",
     "text": [
      "-----------------\n",
      "NRG\n"
     ]
    },
    {
     "name": "stderr",
     "output_type": "stream",
     "text": [
      "\r",
      " 84%|████████▍ | 425/505 [1:23:09<09:07,  6.85s/it]"
     ]
    },
    {
     "name": "stdout",
     "output_type": "stream",
     "text": [
      "info assigned\n",
      "sector assigned\n",
      "mkt cap assigned\n",
      "sector appended\n",
      "mkt cap appended\n",
      "ticker list appended\n",
      "-----------------\n",
      "DISH\n"
     ]
    },
    {
     "name": "stderr",
     "output_type": "stream",
     "text": [
      "\r",
      " 84%|████████▍ | 426/505 [1:23:16<08:57,  6.80s/it]"
     ]
    },
    {
     "name": "stdout",
     "output_type": "stream",
     "text": [
      "info assigned\n",
      "sector assigned\n",
      "mkt cap assigned\n",
      "sector appended\n",
      "mkt cap appended\n",
      "ticker list appended\n",
      "-----------------\n",
      "IRM\n"
     ]
    },
    {
     "name": "stderr",
     "output_type": "stream",
     "text": [
      "\r",
      " 85%|████████▍ | 427/505 [1:23:24<09:17,  7.15s/it]"
     ]
    },
    {
     "name": "stdout",
     "output_type": "stream",
     "text": [
      "info assigned\n",
      "sector assigned\n",
      "mkt cap assigned\n",
      "sector appended\n",
      "mkt cap appended\n",
      "ticker list appended\n",
      "-----------------\n",
      "GL\n"
     ]
    },
    {
     "name": "stderr",
     "output_type": "stream",
     "text": [
      "\r",
      " 85%|████████▍ | 428/505 [1:23:31<09:20,  7.27s/it]"
     ]
    },
    {
     "name": "stdout",
     "output_type": "stream",
     "text": [
      "info assigned\n",
      "sector assigned\n",
      "mkt cap assigned\n",
      "sector appended\n",
      "mkt cap appended\n",
      "ticker list appended\n",
      "-----------------\n",
      "BWA\n"
     ]
    },
    {
     "name": "stderr",
     "output_type": "stream",
     "text": [
      "\r",
      " 85%|████████▍ | 429/505 [1:23:38<09:07,  7.20s/it]"
     ]
    },
    {
     "name": "stdout",
     "output_type": "stream",
     "text": [
      "info assigned\n",
      "sector assigned\n",
      "mkt cap assigned\n",
      "sector appended\n",
      "mkt cap appended\n",
      "ticker list appended\n",
      "-----------------\n",
      "NI\n"
     ]
    },
    {
     "name": "stderr",
     "output_type": "stream",
     "text": [
      "\r",
      " 85%|████████▌ | 430/505 [1:23:43<08:12,  6.57s/it]"
     ]
    },
    {
     "name": "stdout",
     "output_type": "stream",
     "text": [
      "-----------------\n",
      "PNW\n"
     ]
    },
    {
     "name": "stderr",
     "output_type": "stream",
     "text": [
      "\r",
      " 85%|████████▌ | 431/505 [1:23:48<07:33,  6.13s/it]"
     ]
    },
    {
     "name": "stdout",
     "output_type": "stream",
     "text": [
      "-----------------\n",
      "WYNN\n"
     ]
    },
    {
     "name": "stderr",
     "output_type": "stream",
     "text": [
      "\r",
      " 86%|████████▌ | 432/505 [1:23:58<08:31,  7.01s/it]"
     ]
    },
    {
     "name": "stdout",
     "output_type": "stream",
     "text": [
      "info assigned\n",
      "sector assigned\n",
      "mkt cap assigned\n",
      "sector appended\n",
      "mkt cap appended\n",
      "ticker list appended\n",
      "-----------------\n",
      "MYL\n"
     ]
    },
    {
     "name": "stderr",
     "output_type": "stream",
     "text": [
      "\r",
      " 86%|████████▌ | 433/505 [1:24:13<11:33,  9.64s/it]"
     ]
    },
    {
     "name": "stdout",
     "output_type": "stream",
     "text": [
      "info assigned\n",
      "sector assigned\n",
      "mkt cap assigned\n",
      "sector appended\n",
      "mkt cap appended\n",
      "ticker list appended\n",
      "-----------------\n",
      "HST\n"
     ]
    },
    {
     "name": "stderr",
     "output_type": "stream",
     "text": [
      "\r",
      " 86%|████████▌ | 434/505 [1:24:19<09:52,  8.35s/it]"
     ]
    },
    {
     "name": "stdout",
     "output_type": "stream",
     "text": [
      "-----------------\n",
      "SNA\n"
     ]
    },
    {
     "name": "stderr",
     "output_type": "stream",
     "text": [
      "\r",
      " 86%|████████▌ | 435/505 [1:24:26<09:13,  7.91s/it]"
     ]
    },
    {
     "name": "stdout",
     "output_type": "stream",
     "text": [
      "info assigned\n",
      "sector assigned\n",
      "mkt cap assigned\n",
      "sector appended\n",
      "mkt cap appended\n",
      "ticker list appended\n",
      "-----------------\n",
      "JNPR\n"
     ]
    },
    {
     "name": "stderr",
     "output_type": "stream",
     "text": [
      "\r",
      " 86%|████████▋ | 436/505 [1:24:34<09:15,  8.04s/it]"
     ]
    },
    {
     "name": "stdout",
     "output_type": "stream",
     "text": [
      "info assigned\n",
      "sector assigned\n",
      "mkt cap assigned\n",
      "sector appended\n",
      "mkt cap appended\n",
      "ticker list appended\n",
      "-----------------\n",
      "FFIV\n"
     ]
    },
    {
     "name": "stderr",
     "output_type": "stream",
     "text": [
      "\r",
      " 87%|████████▋ | 437/505 [1:24:41<08:41,  7.67s/it]"
     ]
    },
    {
     "name": "stdout",
     "output_type": "stream",
     "text": [
      "info assigned\n",
      "sector assigned\n",
      "mkt cap assigned\n",
      "sector appended\n",
      "mkt cap appended\n",
      "ticker list appended\n",
      "-----------------\n",
      "COG\n"
     ]
    },
    {
     "name": "stderr",
     "output_type": "stream",
     "text": [
      "\r",
      " 87%|████████▋ | 438/505 [1:24:48<08:30,  7.62s/it]"
     ]
    },
    {
     "name": "stdout",
     "output_type": "stream",
     "text": [
      "info assigned\n",
      "sector assigned\n",
      "mkt cap assigned\n",
      "sector appended\n",
      "mkt cap appended\n",
      "ticker list appended\n",
      "-----------------\n",
      "DVA\n"
     ]
    },
    {
     "name": "stderr",
     "output_type": "stream",
     "text": [
      "\r",
      " 87%|████████▋ | 439/505 [1:24:58<08:57,  8.14s/it]"
     ]
    },
    {
     "name": "stdout",
     "output_type": "stream",
     "text": [
      "info assigned\n",
      "sector assigned\n",
      "mkt cap assigned\n",
      "sector appended\n",
      "mkt cap appended\n",
      "ticker list appended\n",
      "-----------------\n",
      "WRK\n"
     ]
    },
    {
     "name": "stderr",
     "output_type": "stream",
     "text": [
      "\r",
      " 87%|████████▋ | 440/505 [1:25:04<08:22,  7.73s/it]"
     ]
    },
    {
     "name": "stdout",
     "output_type": "stream",
     "text": [
      "info assigned\n",
      "sector assigned\n",
      "mkt cap assigned\n",
      "sector appended\n",
      "mkt cap appended\n",
      "ticker list appended\n",
      "-----------------\n",
      "PNR\n"
     ]
    },
    {
     "name": "stderr",
     "output_type": "stream",
     "text": [
      "\r",
      " 87%|████████▋ | 441/505 [1:25:11<07:47,  7.30s/it]"
     ]
    },
    {
     "name": "stdout",
     "output_type": "stream",
     "text": [
      "-----------------\n",
      "ROL\n"
     ]
    },
    {
     "name": "stderr",
     "output_type": "stream",
     "text": [
      "\r",
      " 88%|████████▊ | 442/505 [1:25:18<07:45,  7.39s/it]"
     ]
    },
    {
     "name": "stdout",
     "output_type": "stream",
     "text": [
      "info assigned\n",
      "sector assigned\n",
      "mkt cap assigned\n",
      "sector appended\n",
      "mkt cap appended\n",
      "ticker list appended\n",
      "-----------------\n",
      "LYV\n"
     ]
    },
    {
     "name": "stderr",
     "output_type": "stream",
     "text": [
      "\r",
      " 88%|████████▊ | 443/505 [1:25:26<07:39,  7.40s/it]"
     ]
    },
    {
     "name": "stdout",
     "output_type": "stream",
     "text": [
      "-----------------\n",
      "CCL\n"
     ]
    },
    {
     "name": "stderr",
     "output_type": "stream",
     "text": [
      "\r",
      " 88%|████████▊ | 444/505 [1:25:31<06:56,  6.83s/it]"
     ]
    },
    {
     "name": "stdout",
     "output_type": "stream",
     "text": [
      "-----------------\n",
      "AIZ\n"
     ]
    },
    {
     "name": "stderr",
     "output_type": "stream",
     "text": [
      "\r",
      " 88%|████████▊ | 445/505 [1:25:40<07:35,  7.59s/it]"
     ]
    },
    {
     "name": "stdout",
     "output_type": "stream",
     "text": [
      "info assigned\n",
      "sector assigned\n",
      "mkt cap assigned\n",
      "sector appended\n",
      "mkt cap appended\n",
      "ticker list appended\n",
      "-----------------\n",
      "CF\n"
     ]
    },
    {
     "name": "stderr",
     "output_type": "stream",
     "text": [
      "\r",
      " 88%|████████▊ | 446/505 [1:25:48<07:28,  7.60s/it]"
     ]
    },
    {
     "name": "stdout",
     "output_type": "stream",
     "text": [
      "info assigned\n",
      "sector assigned\n",
      "mkt cap assigned\n",
      "sector appended\n",
      "mkt cap appended\n",
      "ticker list appended\n",
      "-----------------\n",
      "PWR\n"
     ]
    },
    {
     "name": "stderr",
     "output_type": "stream",
     "text": [
      "\r",
      " 89%|████████▊ | 447/505 [1:25:58<07:52,  8.14s/it]"
     ]
    },
    {
     "name": "stdout",
     "output_type": "stream",
     "text": [
      "info assigned\n",
      "sector assigned\n",
      "mkt cap assigned\n",
      "sector appended\n",
      "mkt cap appended\n",
      "ticker list appended\n",
      "-----------------\n",
      "LNC\n"
     ]
    },
    {
     "name": "stderr",
     "output_type": "stream",
     "text": [
      "\r",
      " 89%|████████▊ | 448/505 [1:26:07<08:05,  8.53s/it]"
     ]
    },
    {
     "name": "stdout",
     "output_type": "stream",
     "text": [
      "info assigned\n",
      "sector assigned\n",
      "mkt cap assigned\n",
      "sector appended\n",
      "mkt cap appended\n",
      "ticker list appended\n",
      "-----------------\n",
      "PRGO\n"
     ]
    },
    {
     "name": "stderr",
     "output_type": "stream",
     "text": [
      "\r",
      " 89%|████████▉ | 449/505 [1:26:16<08:02,  8.61s/it]"
     ]
    },
    {
     "name": "stdout",
     "output_type": "stream",
     "text": [
      "info assigned\n",
      "sector assigned\n",
      "mkt cap assigned\n",
      "sector appended\n",
      "mkt cap appended\n",
      "ticker list appended\n",
      "-----------------\n",
      "TAP\n"
     ]
    },
    {
     "name": "stderr",
     "output_type": "stream",
     "text": [
      "\r",
      " 89%|████████▉ | 450/505 [1:26:22<07:19,  7.99s/it]"
     ]
    },
    {
     "name": "stdout",
     "output_type": "stream",
     "text": [
      "-----------------\n",
      "IPG\n"
     ]
    },
    {
     "name": "stderr",
     "output_type": "stream",
     "text": [
      "\r",
      " 89%|████████▉ | 451/505 [1:26:31<07:19,  8.15s/it]"
     ]
    },
    {
     "name": "stdout",
     "output_type": "stream",
     "text": [
      "info assigned\n",
      "sector assigned\n",
      "mkt cap assigned\n",
      "sector appended\n",
      "mkt cap appended\n",
      "ticker list appended\n",
      "-----------------\n",
      "LB\n"
     ]
    },
    {
     "name": "stderr",
     "output_type": "stream",
     "text": [
      "\r",
      " 90%|████████▉ | 452/505 [1:26:39<07:06,  8.04s/it]"
     ]
    },
    {
     "name": "stdout",
     "output_type": "stream",
     "text": [
      "info assigned\n",
      "sector assigned\n",
      "mkt cap assigned\n",
      "sector appended\n",
      "mkt cap appended\n",
      "ticker list appended\n",
      "-----------------\n",
      "AOS\n"
     ]
    },
    {
     "name": "stderr",
     "output_type": "stream",
     "text": [
      "\r",
      " 90%|████████▉ | 453/505 [1:26:44<06:18,  7.28s/it]"
     ]
    },
    {
     "name": "stdout",
     "output_type": "stream",
     "text": [
      "info assigned\n",
      "sector assigned\n",
      "mkt cap assigned\n",
      "sector appended\n",
      "mkt cap appended\n",
      "ticker list appended\n",
      "-----------------\n",
      "REG\n"
     ]
    },
    {
     "name": "stderr",
     "output_type": "stream",
     "text": [
      "\r",
      " 90%|████████▉ | 454/505 [1:26:51<06:03,  7.13s/it]"
     ]
    },
    {
     "name": "stdout",
     "output_type": "stream",
     "text": [
      "info assigned\n",
      "sector assigned\n",
      "mkt cap assigned\n",
      "sector appended\n",
      "mkt cap appended\n",
      "ticker list appended\n",
      "-----------------\n",
      "HWM\n"
     ]
    },
    {
     "name": "stderr",
     "output_type": "stream",
     "text": [
      "\r",
      " 90%|█████████ | 455/505 [1:26:56<05:25,  6.50s/it]"
     ]
    },
    {
     "name": "stdout",
     "output_type": "stream",
     "text": [
      "-----------------\n",
      "FANG\n"
     ]
    },
    {
     "name": "stderr",
     "output_type": "stream",
     "text": [
      "\r",
      " 90%|█████████ | 456/505 [1:27:02<05:16,  6.46s/it]"
     ]
    },
    {
     "name": "stdout",
     "output_type": "stream",
     "text": [
      "info assigned\n",
      "sector assigned\n",
      "mkt cap assigned\n",
      "sector appended\n",
      "mkt cap appended\n",
      "ticker list appended\n",
      "-----------------\n",
      "DISCK\n"
     ]
    },
    {
     "name": "stderr",
     "output_type": "stream",
     "text": [
      "\r",
      " 90%|█████████ | 457/505 [1:27:08<04:58,  6.23s/it]"
     ]
    },
    {
     "name": "stdout",
     "output_type": "stream",
     "text": [
      "info assigned\n",
      "sector assigned\n",
      "mkt cap assigned\n",
      "sector appended\n",
      "mkt cap appended\n",
      "ticker list appended\n",
      "-----------------\n",
      "AAL\n"
     ]
    },
    {
     "name": "stderr",
     "output_type": "stream",
     "text": [
      "\r",
      " 91%|█████████ | 458/505 [1:27:17<05:36,  7.16s/it]"
     ]
    },
    {
     "name": "stdout",
     "output_type": "stream",
     "text": [
      "info assigned\n",
      "sector assigned\n",
      "mkt cap assigned\n",
      "sector appended\n",
      "mkt cap appended\n",
      "ticker list appended\n",
      "-----------------\n",
      "HII\n"
     ]
    },
    {
     "name": "stderr",
     "output_type": "stream",
     "text": [
      "\r",
      " 91%|█████████ | 459/505 [1:27:24<05:16,  6.88s/it]"
     ]
    },
    {
     "name": "stdout",
     "output_type": "stream",
     "text": [
      "info assigned\n",
      "sector assigned\n",
      "mkt cap assigned\n",
      "sector appended\n",
      "mkt cap appended\n",
      "ticker list appended\n",
      "-----------------\n",
      "RHI\n"
     ]
    },
    {
     "name": "stderr",
     "output_type": "stream",
     "text": [
      "\r",
      " 91%|█████████ | 460/505 [1:27:28<04:39,  6.22s/it]"
     ]
    },
    {
     "name": "stdout",
     "output_type": "stream",
     "text": [
      "-----------------\n",
      "MOS\n"
     ]
    },
    {
     "name": "stderr",
     "output_type": "stream",
     "text": [
      "\r",
      " 91%|█████████▏| 461/505 [1:27:36<04:50,  6.60s/it]"
     ]
    },
    {
     "name": "stdout",
     "output_type": "stream",
     "text": [
      "info assigned\n",
      "sector assigned\n",
      "mkt cap assigned\n",
      "sector appended\n",
      "mkt cap appended\n",
      "ticker list appended\n",
      "-----------------\n",
      "SEE\n"
     ]
    },
    {
     "name": "stderr",
     "output_type": "stream",
     "text": [
      "\r",
      " 91%|█████████▏| 462/505 [1:27:43<04:48,  6.72s/it]"
     ]
    },
    {
     "name": "stdout",
     "output_type": "stream",
     "text": [
      "-----------------\n",
      "NWL\n"
     ]
    },
    {
     "name": "stderr",
     "output_type": "stream",
     "text": [
      "\r",
      " 92%|█████████▏| 463/505 [1:27:48<04:30,  6.44s/it]"
     ]
    },
    {
     "name": "stdout",
     "output_type": "stream",
     "text": [
      "-----------------\n",
      "BEN\n"
     ]
    },
    {
     "name": "stderr",
     "output_type": "stream",
     "text": [
      "\r",
      " 92%|█████████▏| 464/505 [1:27:57<04:44,  6.95s/it]"
     ]
    },
    {
     "name": "stdout",
     "output_type": "stream",
     "text": [
      "info assigned\n",
      "sector assigned\n",
      "mkt cap assigned\n",
      "sector appended\n",
      "mkt cap appended\n",
      "ticker list appended\n",
      "-----------------\n",
      "VNO\n"
     ]
    },
    {
     "name": "stderr",
     "output_type": "stream",
     "text": [
      "\r",
      " 92%|█████████▏| 465/505 [1:28:02<04:18,  6.46s/it]"
     ]
    },
    {
     "name": "stdout",
     "output_type": "stream",
     "text": [
      "-----------------\n",
      "CMA\n"
     ]
    },
    {
     "name": "stderr",
     "output_type": "stream",
     "text": [
      "\r",
      " 92%|█████████▏| 466/505 [1:28:09<04:17,  6.60s/it]"
     ]
    },
    {
     "name": "stdout",
     "output_type": "stream",
     "text": [
      "info assigned\n",
      "sector assigned\n",
      "mkt cap assigned\n",
      "sector appended\n",
      "mkt cap appended\n",
      "ticker list appended\n",
      "-----------------\n",
      "HBI\n"
     ]
    },
    {
     "name": "stderr",
     "output_type": "stream",
     "text": [
      "\r",
      " 92%|█████████▏| 467/505 [1:28:17<04:26,  7.02s/it]"
     ]
    },
    {
     "name": "stdout",
     "output_type": "stream",
     "text": [
      "info assigned\n",
      "sector assigned\n",
      "mkt cap assigned\n",
      "sector appended\n",
      "mkt cap appended\n",
      "ticker list appended\n",
      "-----------------\n",
      "FRT\n"
     ]
    },
    {
     "name": "stderr",
     "output_type": "stream",
     "text": [
      "\r",
      " 93%|█████████▎| 468/505 [1:28:23<04:08,  6.70s/it]"
     ]
    },
    {
     "name": "stdout",
     "output_type": "stream",
     "text": [
      "info assigned\n",
      "sector assigned\n",
      "mkt cap assigned\n",
      "sector appended\n",
      "mkt cap appended\n",
      "ticker list appended\n",
      "-----------------\n",
      "ZION\n"
     ]
    },
    {
     "name": "stderr",
     "output_type": "stream",
     "text": [
      "\r",
      " 93%|█████████▎| 469/505 [1:28:30<04:05,  6.83s/it]"
     ]
    },
    {
     "name": "stdout",
     "output_type": "stream",
     "text": [
      "info assigned\n",
      "sector assigned\n",
      "mkt cap assigned\n",
      "sector appended\n",
      "mkt cap appended\n",
      "ticker list appended\n",
      "-----------------\n",
      "NWSA\n"
     ]
    },
    {
     "name": "stderr",
     "output_type": "stream",
     "text": [
      "\r",
      " 93%|█████████▎| 470/505 [1:28:36<03:48,  6.52s/it]"
     ]
    },
    {
     "name": "stdout",
     "output_type": "stream",
     "text": [
      "info assigned\n",
      "sector assigned\n",
      "mkt cap assigned\n",
      "sector appended\n",
      "mkt cap appended\n",
      "ticker list appended\n",
      "-----------------\n",
      "MHK\n"
     ]
    },
    {
     "name": "stderr",
     "output_type": "stream",
     "text": [
      "\r",
      " 93%|█████████▎| 471/505 [1:28:43<03:46,  6.65s/it]"
     ]
    },
    {
     "name": "stdout",
     "output_type": "stream",
     "text": [
      "info assigned\n",
      "sector assigned\n",
      "mkt cap assigned\n",
      "sector appended\n",
      "mkt cap appended\n",
      "ticker list appended\n",
      "-----------------\n",
      "APA\n"
     ]
    },
    {
     "name": "stderr",
     "output_type": "stream",
     "text": [
      "\r",
      " 93%|█████████▎| 472/505 [1:28:50<03:43,  6.78s/it]"
     ]
    },
    {
     "name": "stdout",
     "output_type": "stream",
     "text": [
      "info assigned\n",
      "sector assigned\n",
      "mkt cap assigned\n",
      "sector appended\n",
      "mkt cap appended\n",
      "ticker list appended\n",
      "-----------------\n",
      "IPGP\n"
     ]
    },
    {
     "name": "stderr",
     "output_type": "stream",
     "text": [
      "\r",
      " 94%|█████████▎| 473/505 [1:28:56<03:31,  6.61s/it]"
     ]
    },
    {
     "name": "stdout",
     "output_type": "stream",
     "text": [
      "info assigned\n",
      "sector assigned\n",
      "mkt cap assigned\n",
      "sector appended\n",
      "mkt cap appended\n",
      "ticker list appended\n",
      "-----------------\n",
      "NLSN\n"
     ]
    },
    {
     "name": "stderr",
     "output_type": "stream",
     "text": [
      "\r",
      " 94%|█████████▍| 474/505 [1:29:02<03:17,  6.36s/it]"
     ]
    },
    {
     "name": "stdout",
     "output_type": "stream",
     "text": [
      "info assigned\n",
      "sector assigned\n",
      "mkt cap assigned\n",
      "sector appended\n",
      "mkt cap appended\n",
      "ticker list appended\n",
      "-----------------\n",
      "AIV\n"
     ]
    },
    {
     "name": "stderr",
     "output_type": "stream",
     "text": [
      "\r",
      " 94%|█████████▍| 475/505 [1:29:08<03:09,  6.32s/it]"
     ]
    },
    {
     "name": "stdout",
     "output_type": "stream",
     "text": [
      "-----------------\n",
      "LEG\n"
     ]
    },
    {
     "name": "stderr",
     "output_type": "stream",
     "text": [
      "\r",
      " 94%|█████████▍| 476/505 [1:29:15<03:06,  6.42s/it]"
     ]
    },
    {
     "name": "stdout",
     "output_type": "stream",
     "text": [
      "info assigned\n",
      "sector assigned\n",
      "mkt cap assigned\n",
      "sector appended\n",
      "mkt cap appended\n",
      "ticker list appended\n",
      "-----------------\n",
      "NBL\n"
     ]
    },
    {
     "name": "stderr",
     "output_type": "stream",
     "text": [
      "\r",
      " 94%|█████████▍| 477/505 [1:29:21<02:59,  6.40s/it]"
     ]
    },
    {
     "name": "stdout",
     "output_type": "stream",
     "text": [
      "-----------------\n",
      "DXC\n"
     ]
    },
    {
     "name": "stderr",
     "output_type": "stream",
     "text": [
      "\r",
      " 95%|█████████▍| 478/505 [1:29:28<02:55,  6.51s/it]"
     ]
    },
    {
     "name": "stdout",
     "output_type": "stream",
     "text": [
      "info assigned\n",
      "sector assigned\n",
      "mkt cap assigned\n",
      "sector appended\n",
      "mkt cap appended\n",
      "ticker list appended\n",
      "-----------------\n",
      "KIM\n"
     ]
    },
    {
     "name": "stderr",
     "output_type": "stream",
     "text": [
      "\r",
      " 95%|█████████▍| 479/505 [1:29:34<02:45,  6.38s/it]"
     ]
    },
    {
     "name": "stdout",
     "output_type": "stream",
     "text": [
      "info assigned\n",
      "sector assigned\n",
      "mkt cap assigned\n",
      "sector appended\n",
      "mkt cap appended\n",
      "ticker list appended\n",
      "-----------------\n",
      "PBCT\n"
     ]
    },
    {
     "name": "stderr",
     "output_type": "stream",
     "text": [
      "\r",
      " 95%|█████████▌| 480/505 [1:29:41<02:44,  6.57s/it]"
     ]
    },
    {
     "name": "stdout",
     "output_type": "stream",
     "text": [
      "info assigned\n",
      "sector assigned\n",
      "mkt cap assigned\n",
      "sector appended\n",
      "mkt cap appended\n",
      "ticker list appended\n",
      "-----------------\n",
      "FLIR\n"
     ]
    },
    {
     "name": "stderr",
     "output_type": "stream",
     "text": [
      "\r",
      " 95%|█████████▌| 481/505 [1:29:48<02:38,  6.61s/it]"
     ]
    },
    {
     "name": "stdout",
     "output_type": "stream",
     "text": [
      "info assigned\n",
      "sector assigned\n",
      "mkt cap assigned\n",
      "sector appended\n",
      "mkt cap appended\n",
      "ticker list appended\n",
      "-----------------\n",
      "ALK\n"
     ]
    },
    {
     "name": "stderr",
     "output_type": "stream",
     "text": [
      "\r",
      " 95%|█████████▌| 482/505 [1:29:54<02:28,  6.45s/it]"
     ]
    },
    {
     "name": "stdout",
     "output_type": "stream",
     "text": [
      "info assigned\n",
      "sector assigned\n",
      "mkt cap assigned\n",
      "sector appended\n",
      "mkt cap appended\n",
      "ticker list appended\n",
      "-----------------\n",
      "NOV\n"
     ]
    },
    {
     "name": "stderr",
     "output_type": "stream",
     "text": [
      "\r",
      " 96%|█████████▌| 483/505 [1:30:00<02:20,  6.39s/it]"
     ]
    },
    {
     "name": "stdout",
     "output_type": "stream",
     "text": [
      "info assigned\n",
      "sector assigned\n",
      "mkt cap assigned\n",
      "sector appended\n",
      "mkt cap appended\n",
      "ticker list appended\n",
      "-----------------\n",
      "MRO\n"
     ]
    },
    {
     "name": "stderr",
     "output_type": "stream",
     "text": [
      "\r",
      " 96%|█████████▌| 484/505 [1:30:07<02:21,  6.74s/it]"
     ]
    },
    {
     "name": "stdout",
     "output_type": "stream",
     "text": [
      "info assigned\n",
      "sector assigned\n",
      "mkt cap assigned\n",
      "sector appended\n",
      "mkt cap appended\n",
      "ticker list appended\n",
      "-----------------\n",
      "NCLH\n"
     ]
    },
    {
     "name": "stderr",
     "output_type": "stream",
     "text": [
      "\r",
      " 96%|█████████▌| 485/505 [1:30:14<02:16,  6.82s/it]"
     ]
    },
    {
     "name": "stdout",
     "output_type": "stream",
     "text": [
      "info assigned\n",
      "sector assigned\n",
      "mkt cap assigned\n",
      "sector appended\n",
      "mkt cap appended\n",
      "ticker list appended\n",
      "-----------------\n",
      "FOX\n"
     ]
    },
    {
     "name": "stderr",
     "output_type": "stream",
     "text": [
      "\r",
      " 96%|█████████▌| 486/505 [1:30:17<01:46,  5.62s/it]"
     ]
    },
    {
     "name": "stdout",
     "output_type": "stream",
     "text": [
      "-----------------\n",
      "DVN\n"
     ]
    },
    {
     "name": "stderr",
     "output_type": "stream",
     "text": [
      "\r",
      " 96%|█████████▋| 487/505 [1:30:23<01:41,  5.62s/it]"
     ]
    },
    {
     "name": "stdout",
     "output_type": "stream",
     "text": [
      "-----------------\n",
      "TPR\n"
     ]
    },
    {
     "name": "stderr",
     "output_type": "stream",
     "text": [
      "\r",
      " 97%|█████████▋| 488/505 [1:30:28<01:32,  5.43s/it]"
     ]
    },
    {
     "name": "stdout",
     "output_type": "stream",
     "text": [
      "-----------------\n",
      "SLG\n"
     ]
    },
    {
     "name": "stderr",
     "output_type": "stream",
     "text": [
      "\r",
      " 97%|█████████▋| 489/505 [1:30:34<01:28,  5.50s/it]"
     ]
    },
    {
     "name": "stdout",
     "output_type": "stream",
     "text": [
      "info assigned\n",
      "sector assigned\n",
      "mkt cap assigned\n",
      "sector appended\n",
      "mkt cap appended\n",
      "ticker list appended\n",
      "-----------------\n",
      "PVH\n"
     ]
    },
    {
     "name": "stderr",
     "output_type": "stream",
     "text": [
      "\r",
      " 97%|█████████▋| 490/505 [1:30:40<01:26,  5.73s/it]"
     ]
    },
    {
     "name": "stdout",
     "output_type": "stream",
     "text": [
      "info assigned\n",
      "sector assigned\n",
      "mkt cap assigned\n",
      "sector appended\n",
      "mkt cap appended\n",
      "ticker list appended\n",
      "-----------------\n",
      "IVZ\n"
     ]
    },
    {
     "name": "stderr",
     "output_type": "stream",
     "text": [
      "\r",
      " 97%|█████████▋| 491/505 [1:30:48<01:28,  6.36s/it]"
     ]
    },
    {
     "name": "stdout",
     "output_type": "stream",
     "text": [
      "info assigned\n",
      "sector assigned\n",
      "mkt cap assigned\n",
      "sector appended\n",
      "mkt cap appended\n",
      "ticker list appended\n",
      "-----------------\n",
      "UNM\n"
     ]
    },
    {
     "name": "stderr",
     "output_type": "stream",
     "text": [
      "\r",
      " 97%|█████████▋| 492/505 [1:30:54<01:24,  6.47s/it]"
     ]
    },
    {
     "name": "stdout",
     "output_type": "stream",
     "text": [
      "info assigned\n",
      "sector assigned\n",
      "mkt cap assigned\n",
      "sector appended\n",
      "mkt cap appended\n",
      "ticker list appended\n",
      "-----------------\n",
      "HFC\n"
     ]
    },
    {
     "name": "stderr",
     "output_type": "stream",
     "text": [
      "\r",
      " 98%|█████████▊| 493/505 [1:30:58<01:08,  5.73s/it]"
     ]
    },
    {
     "name": "stdout",
     "output_type": "stream",
     "text": [
      "-----------------\n",
      "FLS\n"
     ]
    },
    {
     "name": "stderr",
     "output_type": "stream",
     "text": [
      "\r",
      " 98%|█████████▊| 494/505 [1:31:03<00:58,  5.33s/it]"
     ]
    },
    {
     "name": "stdout",
     "output_type": "stream",
     "text": [
      "-----------------\n",
      "GPS\n"
     ]
    },
    {
     "name": "stderr",
     "output_type": "stream",
     "text": [
      "\r",
      " 98%|█████████▊| 495/505 [1:31:09<00:56,  5.70s/it]"
     ]
    },
    {
     "name": "stdout",
     "output_type": "stream",
     "text": [
      "info assigned\n",
      "sector assigned\n",
      "mkt cap assigned\n",
      "sector appended\n",
      "mkt cap appended\n",
      "ticker list appended\n",
      "-----------------\n",
      "DISCA\n"
     ]
    },
    {
     "name": "stderr",
     "output_type": "stream",
     "text": [
      "\r",
      " 98%|█████████▊| 496/505 [1:31:16<00:53,  5.91s/it]"
     ]
    },
    {
     "name": "stdout",
     "output_type": "stream",
     "text": [
      "info assigned\n",
      "sector assigned\n",
      "mkt cap assigned\n",
      "sector appended\n",
      "mkt cap appended\n",
      "ticker list appended\n",
      "-----------------\n",
      "XRX\n"
     ]
    },
    {
     "name": "stderr",
     "output_type": "stream",
     "text": [
      "\r",
      " 98%|█████████▊| 497/505 [1:31:22<00:48,  6.05s/it]"
     ]
    },
    {
     "name": "stdout",
     "output_type": "stream",
     "text": [
      "info assigned\n",
      "sector assigned\n",
      "mkt cap assigned\n",
      "sector appended\n",
      "mkt cap appended\n",
      "ticker list appended\n",
      "-----------------\n",
      "RL\n"
     ]
    },
    {
     "name": "stderr",
     "output_type": "stream",
     "text": [
      "\r",
      " 99%|█████████▊| 498/505 [1:31:27<00:40,  5.84s/it]"
     ]
    },
    {
     "name": "stdout",
     "output_type": "stream",
     "text": [
      "-----------------\n",
      "KSS\n"
     ]
    },
    {
     "name": "stderr",
     "output_type": "stream",
     "text": [
      "\r",
      " 99%|█████████▉| 499/505 [1:31:35<00:38,  6.45s/it]"
     ]
    },
    {
     "name": "stdout",
     "output_type": "stream",
     "text": [
      "info assigned\n",
      "sector assigned\n",
      "mkt cap assigned\n",
      "sector appended\n",
      "mkt cap appended\n",
      "ticker list appended\n",
      "-----------------\n",
      "FTI\n"
     ]
    },
    {
     "name": "stderr",
     "output_type": "stream",
     "text": [
      "\r",
      " 99%|█████████▉| 500/505 [1:31:42<00:32,  6.44s/it]"
     ]
    },
    {
     "name": "stdout",
     "output_type": "stream",
     "text": [
      "info assigned\n",
      "sector assigned\n",
      "mkt cap assigned\n",
      "sector appended\n",
      "mkt cap appended\n",
      "ticker list appended\n",
      "-----------------\n",
      "HRB\n"
     ]
    },
    {
     "name": "stderr",
     "output_type": "stream",
     "text": [
      "\r",
      " 99%|█████████▉| 501/505 [1:31:51<00:28,  7.13s/it]"
     ]
    },
    {
     "name": "stdout",
     "output_type": "stream",
     "text": [
      "info assigned\n",
      "sector assigned\n",
      "mkt cap assigned\n",
      "sector appended\n",
      "mkt cap appended\n",
      "ticker list appended\n",
      "-----------------\n",
      "NWS\n"
     ]
    },
    {
     "name": "stderr",
     "output_type": "stream",
     "text": [
      "\r",
      " 99%|█████████▉| 502/505 [1:31:57<00:20,  6.86s/it]"
     ]
    },
    {
     "name": "stdout",
     "output_type": "stream",
     "text": [
      "info assigned\n",
      "sector assigned\n",
      "mkt cap assigned\n",
      "sector appended\n",
      "mkt cap appended\n",
      "ticker list appended\n",
      "-----------------\n",
      "UAA\n"
     ]
    },
    {
     "name": "stderr",
     "output_type": "stream",
     "text": [
      "\r",
      "100%|█████████▉| 503/505 [1:32:04<00:13,  6.84s/it]"
     ]
    },
    {
     "name": "stdout",
     "output_type": "stream",
     "text": [
      "info assigned\n",
      "sector assigned\n",
      "mkt cap assigned\n",
      "sector appended\n",
      "mkt cap appended\n",
      "ticker list appended\n",
      "-----------------\n",
      "UA\n"
     ]
    },
    {
     "name": "stderr",
     "output_type": "stream",
     "text": [
      "\r",
      "100%|█████████▉| 504/505 [1:32:10<00:06,  6.83s/it]"
     ]
    },
    {
     "name": "stdout",
     "output_type": "stream",
     "text": [
      "info assigned\n",
      "sector assigned\n",
      "mkt cap assigned\n",
      "sector appended\n",
      "mkt cap appended\n",
      "ticker list appended\n",
      "-----------------\n",
      "COTY\n"
     ]
    },
    {
     "name": "stderr",
     "output_type": "stream",
     "text": [
      "100%|██████████| 505/505 [1:32:17<00:00, 10.97s/it]"
     ]
    },
    {
     "name": "stdout",
     "output_type": "stream",
     "text": [
      "info assigned\n",
      "sector assigned\n",
      "mkt cap assigned\n",
      "sector appended\n",
      "mkt cap appended\n",
      "ticker list appended\n"
     ]
    },
    {
     "name": "stderr",
     "output_type": "stream",
     "text": [
      "\n"
     ]
    }
   ],
   "source": [
    "tickers = yf.Tickers(' '.join(stk_list.tolist()))\n",
    "\n",
    "sectors = []\n",
    "market_caps = []\n",
    "probs = []\n",
    "ticker_lst = []\n",
    "for t in tqdm(stk_list):\n",
    "    print(\"-----------------\")\n",
    "    print(t)\n",
    "    try:\n",
    "        info_ = getattr(tickers.tickers, t).info\n",
    "        print(\"info assigned\")\n",
    "        sector = info_['sector']\n",
    "        print(\"sector assigned\")\n",
    "        market_cap = info_['marketCap']\n",
    "        print(\"mkt cap assigned\")\n",
    "        sectors.append(sector)\n",
    "        print(\"sector appended\")\n",
    "        market_caps.append(market_cap)\n",
    "        print(\"mkt cap appended\")\n",
    "        ticker_lst.append(t)\n",
    "        print(\"ticker list appended\")\n",
    "    except (AttributeError, IndexError, ValueError, Exception) as e:\n",
    "        probs.append((t, e))\n",
    "        continue"
   ]
  },
  {
   "cell_type": "code",
   "execution_count": null,
   "metadata": {},
   "outputs": [],
   "source": [
    "info_df = pd.DataFrame({'TICKER': ticker_lst, 'SECTOR': sectors, 'MARKET_CAPS': market_caps})\n",
    "info_df.to_csv(\"info_df.csv\", index=None)"
   ]
  },
  {
   "cell_type": "code",
   "execution_count": null,
   "metadata": {},
   "outputs": [],
   "source": []
  },
  {
   "cell_type": "code",
   "execution_count": null,
   "metadata": {},
   "outputs": [],
   "source": []
  },
  {
   "cell_type": "code",
   "execution_count": null,
   "metadata": {},
   "outputs": [],
   "source": []
  },
  {
   "cell_type": "code",
   "execution_count": null,
   "metadata": {},
   "outputs": [],
   "source": []
  },
  {
   "cell_type": "markdown",
   "metadata": {},
   "source": [
    "# Re-download those tickers that are not downloaded from prev times"
   ]
  },
  {
   "cell_type": "code",
   "execution_count": 17,
   "metadata": {},
   "outputs": [
    {
     "data": {
      "text/plain": [
       "0       AAPL\n",
       "1       MSFT\n",
       "2       AMZN\n",
       "3         FB\n",
       "4      GOOGL\n",
       "       ...  \n",
       "500      HRB\n",
       "501      NWS\n",
       "502      UAA\n",
       "503       UA\n",
       "504     COTY\n",
       "Name: Symbol, Length: 505, dtype: object"
      ]
     },
     "execution_count": 17,
     "metadata": {},
     "output_type": "execute_result"
    }
   ],
   "source": [
    "stk_list"
   ]
  },
  {
   "cell_type": "code",
   "execution_count": 18,
   "metadata": {},
   "outputs": [],
   "source": [
    "downloaded_tickers_df = pd.read_csv(\"info_df.csv\")\n",
    "downloaded_tickers_list = list(downloaded_tickers_df['TICKER'])"
   ]
  },
  {
   "cell_type": "code",
   "execution_count": 23,
   "metadata": {},
   "outputs": [],
   "source": [
    "url = 'https://www.slickcharts.com/sp500'\n",
    "headers = {\"User-Agent\" : 'Mozilla/5.0 (Windows NT 10.0; Win64; x64) AppleWebKit/537.36 (KHTML, like Gecko) Chrome/83.0.4103.116 Safari/537.36'}\n",
    "request = requests.get(url, headers = headers)\n",
    "data = pd.read_html(request.text)[0]\n",
    "stk_list = data.Symbol\n",
    "stk_list = data.Symbol.apply(lambda x: x.replace('.', '-'))\n",
    "all_ticker_list = list(stk_list)"
   ]
  },
  {
   "cell_type": "code",
   "execution_count": 29,
   "metadata": {},
   "outputs": [
    {
     "name": "stdout",
     "output_type": "stream",
     "text": [
      "还未下载完全的股票数量： 118\n"
     ]
    }
   ],
   "source": [
    "print(\"还未下载完全的股票数量：\", len(list(set(all_ticker_list).difference(set(downloaded_tickers_list)))))"
   ]
  },
  {
   "cell_type": "code",
   "execution_count": 32,
   "metadata": {},
   "outputs": [],
   "source": [
    "list_to_be_downloaded = list(set(all_ticker_list).difference(set(downloaded_tickers_list)))"
   ]
  },
  {
   "cell_type": "code",
   "execution_count": 33,
   "metadata": {},
   "outputs": [
    {
     "data": {
      "text/plain": [
       "['PEAK',\n",
       " 'PNR',\n",
       " 'CBRE',\n",
       " 'PPL',\n",
       " 'ANTM',\n",
       " 'ETN',\n",
       " 'BMY',\n",
       " 'MMM',\n",
       " 'MCO',\n",
       " 'NWL',\n",
       " 'CTL',\n",
       " 'DUK',\n",
       " 'XRAY',\n",
       " 'DHR',\n",
       " 'DRE',\n",
       " 'VAR',\n",
       " 'LYV',\n",
       " 'WELL',\n",
       " 'XEL',\n",
       " 'FLS',\n",
       " 'UNH',\n",
       " 'OKE',\n",
       " 'FOX',\n",
       " 'MNST',\n",
       " 'ISRG',\n",
       " 'TAP',\n",
       " 'HON',\n",
       " 'DVN',\n",
       " 'AIV',\n",
       " 'PXD',\n",
       " 'APTV',\n",
       " 'CMCSA',\n",
       " 'WST',\n",
       " 'UAL',\n",
       " 'PHM',\n",
       " 'RL',\n",
       " 'CVX',\n",
       " 'BRK-B',\n",
       " 'LHX',\n",
       " 'CHRW',\n",
       " 'ETR',\n",
       " 'TT',\n",
       " 'FDX',\n",
       " 'TFC',\n",
       " 'FMC',\n",
       " 'MS',\n",
       " 'SEE',\n",
       " 'LH',\n",
       " 'CMG',\n",
       " 'VTR',\n",
       " 'COO',\n",
       " 'TEL',\n",
       " 'YUM',\n",
       " 'HWM',\n",
       " 'TRV',\n",
       " 'SPG',\n",
       " 'ACN',\n",
       " 'ALGN',\n",
       " 'AVB',\n",
       " 'VIAC',\n",
       " 'HFC',\n",
       " 'BF-B',\n",
       " 'STZ',\n",
       " 'STX',\n",
       " 'PNW',\n",
       " 'HST',\n",
       " 'MCK',\n",
       " 'PEG',\n",
       " 'EXPE',\n",
       " 'AIG',\n",
       " 'SPGI',\n",
       " 'MU',\n",
       " 'MRK',\n",
       " 'IT',\n",
       " 'BK',\n",
       " 'TGT',\n",
       " 'VLO',\n",
       " 'TPR',\n",
       " 'CAH',\n",
       " 'RE',\n",
       " 'CCL',\n",
       " 'APH',\n",
       " 'KSU',\n",
       " 'STT',\n",
       " 'VZ',\n",
       " 'NI',\n",
       " 'VNO',\n",
       " 'SJM',\n",
       " 'CRM',\n",
       " 'MSI',\n",
       " 'JPM',\n",
       " 'GD',\n",
       " 'NEE',\n",
       " 'MDLZ',\n",
       " 'DD',\n",
       " 'MTB',\n",
       " 'GRMN',\n",
       " 'WFC',\n",
       " 'ETFC',\n",
       " 'RHI',\n",
       " 'HLT',\n",
       " 'RJF',\n",
       " 'USB',\n",
       " 'TYL',\n",
       " 'PKI',\n",
       " 'PFE',\n",
       " 'ABC',\n",
       " 'OMC',\n",
       " 'STE',\n",
       " 'WM',\n",
       " 'XOM',\n",
       " 'CB',\n",
       " 'NBL',\n",
       " 'F',\n",
       " 'IR',\n",
       " 'C',\n",
       " 'TMUS',\n",
       " 'HES']"
      ]
     },
     "execution_count": 33,
     "metadata": {},
     "output_type": "execute_result"
    }
   ],
   "source": [
    "list_to_be_downloaded"
   ]
  },
  {
   "cell_type": "code",
   "execution_count": 40,
   "metadata": {},
   "outputs": [
    {
     "data": {
      "text/plain": [
       "yfinance.Tickers object <PEAK,PNR,CBRE,PPL,ANTM,ETN,BMY,MMM,MCO,NWL,CTL,DUK,XRAY,DHR,DRE,VAR,LYV,WELL,XEL,FLS,UNH,OKE,FOX,MNST,ISRG,TAP,HON,DVN,AIV,PXD,APTV,CMCSA,WST,UAL,PHM,RL,CVX,BRK-B,LHX,CHRW,ETR,TT,FDX,TFC,FMC,MS,SEE,LH,CMG,VTR,COO,TEL,YUM,HWM,TRV,SPG,ACN,ALGN,AVB,VIAC,HFC,BF-B,STZ,STX,PNW,HST,MCK,PEG,EXPE,AIG,SPGI,MU,MRK,IT,BK,TGT,VLO,TPR,CAH,RE,CCL,APH,KSU,STT,VZ,NI,VNO,SJM,CRM,MSI,JPM,GD,NEE,MDLZ,DD,MTB,GRMN,WFC,ETFC,RHI,HLT,RJF,USB,TYL,PKI,PFE,ABC,OMC,STE,WM,XOM,CB,NBL,F,IR,C,TMUS,HES>"
      ]
     },
     "execution_count": 40,
     "metadata": {},
     "output_type": "execute_result"
    }
   ],
   "source": [
    "tickers"
   ]
  },
  {
   "cell_type": "code",
   "execution_count": 41,
   "metadata": {},
   "outputs": [
    {
     "name": "stderr",
     "output_type": "stream",
     "text": [
      "100%|██████████| 505/505 [00:00<00:00, 3482.40it/s]"
     ]
    },
    {
     "name": "stdout",
     "output_type": "stream",
     "text": [
      "-----------------\n",
      "AAPL\n",
      "-----------------\n",
      "MSFT\n",
      "-----------------\n",
      "AMZN\n",
      "-----------------\n",
      "FB\n",
      "-----------------\n",
      "GOOGL\n",
      "-----------------\n",
      "GOOG\n",
      "-----------------\n",
      "BRK-B\n",
      "-----------------\n",
      "JNJ\n",
      "-----------------\n",
      "V\n",
      "-----------------\n",
      "PG\n",
      "-----------------\n",
      "NVDA\n",
      "-----------------\n",
      "HD\n",
      "-----------------\n",
      "MA\n",
      "-----------------\n",
      "JPM\n",
      "-----------------\n",
      "UNH\n",
      "-----------------\n",
      "VZ\n",
      "-----------------\n",
      "PYPL\n",
      "-----------------\n",
      "DIS\n",
      "-----------------\n",
      "ADBE\n",
      "-----------------\n",
      "MRK\n",
      "-----------------\n",
      "NFLX\n",
      "-----------------\n",
      "PFE\n",
      "-----------------\n",
      "T\n",
      "-----------------\n",
      "INTC\n",
      "-----------------\n",
      "BAC\n",
      "-----------------\n",
      "CMCSA\n",
      "-----------------\n",
      "CRM\n",
      "-----------------\n",
      "PEP\n",
      "-----------------\n",
      "KO\n",
      "-----------------\n",
      "WMT\n",
      "-----------------\n",
      "ABT\n",
      "-----------------\n",
      "CSCO\n",
      "-----------------\n",
      "XOM\n",
      "-----------------\n",
      "TMO\n",
      "-----------------\n",
      "ABBV\n",
      "-----------------\n",
      "CVX\n",
      "-----------------\n",
      "MCD\n",
      "-----------------\n",
      "COST\n",
      "-----------------\n",
      "ACN\n",
      "-----------------\n",
      "AMGN\n",
      "-----------------\n",
      "BMY\n",
      "-----------------\n",
      "NKE\n",
      "-----------------\n",
      "NEE\n",
      "-----------------\n",
      "MDT\n",
      "-----------------\n",
      "AVGO\n",
      "-----------------\n",
      "UNP\n",
      "-----------------\n",
      "LIN\n",
      "-----------------\n",
      "DHR\n",
      "-----------------\n",
      "QCOM\n",
      "-----------------\n",
      "TXN\n",
      "-----------------\n",
      "LLY\n",
      "-----------------\n",
      "LOW\n",
      "-----------------\n",
      "PM\n",
      "-----------------\n",
      "ORCL\n",
      "-----------------\n",
      "HON\n",
      "-----------------\n",
      "UPS\n",
      "-----------------\n",
      "IBM\n",
      "-----------------\n",
      "AMT\n",
      "-----------------\n",
      "C\n",
      "-----------------\n",
      "AMD\n",
      "-----------------\n",
      "LMT\n",
      "-----------------\n",
      "SBUX\n",
      "-----------------\n",
      "MMM\n",
      "-----------------\n",
      "BA\n",
      "-----------------\n",
      "CHTR\n",
      "-----------------\n",
      "WFC\n",
      "-----------------\n",
      "BLK\n",
      "-----------------\n",
      "FIS\n",
      "-----------------\n",
      "RTX\n",
      "-----------------\n",
      "INTU\n",
      "-----------------\n",
      "NOW\n",
      "-----------------\n",
      "SPGI\n",
      "-----------------\n",
      "GILD\n",
      "-----------------\n",
      "CVS\n",
      "-----------------\n",
      "MDLZ\n",
      "-----------------\n",
      "ISRG\n",
      "-----------------\n",
      "MO\n",
      "-----------------\n",
      "TGT\n",
      "-----------------\n",
      "CAT\n",
      "-----------------\n",
      "BKNG\n",
      "-----------------\n",
      "ZTS\n",
      "-----------------\n",
      "BDX\n",
      "-----------------\n",
      "PLD\n",
      "-----------------\n",
      "VRTX\n",
      "-----------------\n",
      "ANTM\n",
      "-----------------\n",
      "EQIX\n",
      "-----------------\n",
      "TMUS\n",
      "-----------------\n",
      "CCI\n",
      "-----------------\n",
      "CL\n",
      "-----------------\n",
      "D\n",
      "-----------------\n",
      "CI\n",
      "-----------------\n",
      "AXP\n",
      "-----------------\n",
      "ATVI\n",
      "-----------------\n",
      "DE\n",
      "-----------------\n",
      "GS\n",
      "-----------------\n",
      "TJX\n",
      "-----------------\n",
      "APD\n",
      "-----------------\n",
      "CME\n",
      "-----------------\n",
      "MS\n",
      "-----------------\n",
      "REGN\n",
      "-----------------\n",
      "ADP\n",
      "-----------------\n",
      "SYK\n",
      "-----------------\n",
      "DUK\n",
      "-----------------\n",
      "AMAT\n",
      "-----------------\n",
      "CSX\n",
      "-----------------\n",
      "MMC\n",
      "-----------------\n",
      "GE\n",
      "-----------------\n",
      "ICE\n",
      "-----------------\n",
      "CB\n",
      "-----------------\n",
      "ITW\n",
      "-----------------\n",
      "BSX\n",
      "-----------------\n",
      "SO\n",
      "-----------------\n",
      "FISV\n",
      "-----------------\n",
      "ADSK\n",
      "-----------------\n",
      "NSC\n",
      "-----------------\n",
      "SHW\n",
      "-----------------\n",
      "PGR\n",
      "-----------------\n",
      "NOC\n",
      "-----------------\n",
      "HUM\n",
      "-----------------\n",
      "KMB\n",
      "-----------------\n",
      "TFC\n",
      "-----------------\n",
      "NEM\n",
      "-----------------\n",
      "GPN\n",
      "-----------------\n",
      "ILMN\n",
      "-----------------\n",
      "FDX\n",
      "-----------------\n",
      "LRCX\n",
      "-----------------\n",
      "DG\n",
      "-----------------\n",
      "USB\n",
      "-----------------\n",
      "MU\n",
      "-----------------\n",
      "EW\n",
      "-----------------\n",
      "ECL\n",
      "-----------------\n",
      "EL\n",
      "-----------------\n",
      "PNC\n",
      "-----------------\n",
      "MCO\n",
      "-----------------\n",
      "BIIB\n",
      "-----------------\n",
      "AON\n",
      "-----------------\n",
      "ROP\n",
      "-----------------\n",
      "ADI\n",
      "-----------------\n",
      "WM\n",
      "-----------------\n",
      "BAX\n",
      "-----------------\n",
      "EMR\n",
      "-----------------\n",
      "COP\n",
      "-----------------\n",
      "DLR\n",
      "-----------------\n",
      "DD\n",
      "-----------------\n",
      "EA\n",
      "-----------------\n",
      "ETN\n",
      "-----------------\n",
      "SCHW\n",
      "-----------------\n",
      "DXCM\n",
      "-----------------\n",
      "AEP\n",
      "-----------------\n",
      "LHX\n",
      "-----------------\n",
      "GIS\n",
      "-----------------\n",
      "EBAY\n",
      "-----------------\n",
      "GM\n",
      "-----------------\n",
      "SRE\n",
      "-----------------\n",
      "CTSH\n",
      "-----------------\n",
      "XEL\n",
      "-----------------\n",
      "EXC\n",
      "-----------------\n",
      "GD\n",
      "-----------------\n",
      "HCA\n",
      "-----------------\n",
      "CNC\n",
      "-----------------\n",
      "ORLY\n",
      "-----------------\n",
      "SBAC\n",
      "-----------------\n",
      "DOW\n",
      "-----------------\n",
      "KLAC\n",
      "-----------------\n",
      "IDXX\n",
      "-----------------\n",
      "SNPS\n",
      "-----------------\n",
      "ROST\n",
      "-----------------\n",
      "CMG\n",
      "-----------------\n",
      "INFO\n",
      "-----------------\n",
      "APH\n",
      "-----------------\n",
      "TWTR\n",
      "-----------------\n",
      "TEL\n",
      "-----------------\n",
      "MNST\n",
      "-----------------\n",
      "CDNS\n",
      "-----------------\n",
      "CMI\n",
      "-----------------\n",
      "TROW\n",
      "-----------------\n",
      "MSCI\n",
      "-----------------\n",
      "PSA\n",
      "-----------------\n",
      "JCI\n",
      "-----------------\n",
      "COF\n",
      "-----------------\n",
      "A\n",
      "-----------------\n",
      "VRSK\n",
      "-----------------\n",
      "MET\n",
      "-----------------\n",
      "STZ\n",
      "-----------------\n",
      "PCAR\n",
      "-----------------\n",
      "BK\n",
      "-----------------\n",
      "SYY\n",
      "-----------------\n",
      "ALL\n",
      "-----------------\n",
      "TRV\n",
      "-----------------\n",
      "WBA\n",
      "-----------------\n",
      "YUM\n",
      "-----------------\n",
      "WEC\n",
      "-----------------\n",
      "KR\n",
      "-----------------\n",
      "ES\n",
      "-----------------\n",
      "TT\n",
      "-----------------\n",
      "PPG\n",
      "-----------------\n",
      "IQV\n",
      "-----------------\n",
      "ZBH\n",
      "-----------------\n",
      "AZO\n",
      "-----------------\n",
      "ANSS\n",
      "-----------------\n",
      "PRU\n",
      "-----------------\n",
      "CLX\n",
      "-----------------\n",
      "FAST\n",
      "-----------------\n",
      "F\n",
      "-----------------\n",
      "KMI\n",
      "-----------------\n",
      "PSX\n",
      "-----------------\n",
      "CTAS\n",
      "-----------------\n",
      "PEG\n",
      "-----------------\n",
      "PH\n",
      "-----------------\n",
      "MCHP\n",
      "-----------------\n",
      "MAR\n",
      "-----------------\n",
      "AFL\n",
      "-----------------\n",
      "SLB\n",
      "-----------------\n",
      "ROK\n",
      "-----------------\n",
      "MSI\n",
      "-----------------\n",
      "HPQ\n",
      "-----------------\n",
      "OTIS\n",
      "-----------------\n",
      "AWK\n",
      "-----------------\n",
      "EOG\n",
      "-----------------\n",
      "WMB\n",
      "-----------------\n",
      "BBY\n",
      "-----------------\n",
      "AIG\n",
      "-----------------\n",
      "RMD\n",
      "-----------------\n",
      "BLL\n",
      "-----------------\n",
      "DHI\n",
      "-----------------\n",
      "GLW\n",
      "-----------------\n",
      "WLTW\n",
      "-----------------\n",
      "XLNX\n",
      "-----------------\n",
      "HLT\n",
      "-----------------\n",
      "CARR\n",
      "-----------------\n",
      "MKC\n",
      "-----------------\n",
      "SWK\n",
      "-----------------\n",
      "ADM\n",
      "-----------------\n",
      "MCK\n",
      "-----------------\n",
      "STT\n",
      "-----------------\n",
      "DLTR\n",
      "-----------------\n",
      "ED\n",
      "-----------------\n",
      "WELL\n",
      "-----------------\n",
      "PAYX\n",
      "-----------------\n",
      "TDG\n",
      "-----------------\n",
      "SWKS\n",
      "-----------------\n",
      "MPC\n",
      "-----------------\n",
      "MTD\n",
      "-----------------\n",
      "CHD\n",
      "-----------------\n",
      "ALXN\n",
      "-----------------\n",
      "AME\n",
      "-----------------\n",
      "DTE\n",
      "-----------------\n",
      "VLO\n",
      "-----------------\n",
      "HSY\n",
      "-----------------\n",
      "CERN\n",
      "-----------------\n",
      "KHC\n",
      "-----------------\n",
      "LEN\n",
      "-----------------\n",
      "APTV\n",
      "-----------------\n",
      "AVB\n",
      "-----------------\n",
      "ARE\n",
      "-----------------\n",
      "WY\n",
      "-----------------\n",
      "O\n",
      "-----------------\n",
      "PPL\n",
      "-----------------\n",
      "CTVA\n",
      "-----------------\n",
      "ALGN\n",
      "-----------------\n",
      "VRSN\n",
      "-----------------\n",
      "SPG\n",
      "-----------------\n",
      "FCX\n",
      "-----------------\n",
      "CPRT\n",
      "-----------------\n",
      "FTV\n",
      "-----------------\n",
      "VFC\n",
      "-----------------\n",
      "FLT\n",
      "-----------------\n",
      "WST\n",
      "-----------------\n",
      "AJG\n",
      "-----------------\n",
      "EIX\n",
      "-----------------\n",
      "EQR\n",
      "-----------------\n",
      "LUV\n",
      "-----------------\n",
      "FRC\n",
      "-----------------\n",
      "ETR\n",
      "-----------------\n",
      "AEE\n",
      "-----------------\n",
      "TTWO\n",
      "-----------------\n",
      "AMP\n",
      "-----------------\n",
      "RSG\n",
      "-----------------\n",
      "EFX\n",
      "-----------------\n",
      "MXIM\n",
      "-----------------\n",
      "ODFL\n",
      "-----------------\n",
      "CAG\n",
      "-----------------\n",
      "TSN\n",
      "-----------------\n",
      "KEYS\n",
      "-----------------\n",
      "MKTX\n",
      "-----------------\n",
      "TSCO\n",
      "-----------------\n",
      "FTNT\n",
      "-----------------\n",
      "AKAM\n",
      "-----------------\n",
      "NTRS\n",
      "-----------------\n",
      "PXD\n",
      "-----------------\n",
      "LYB\n",
      "-----------------\n",
      "KMX\n",
      "-----------------\n",
      "KSU\n",
      "-----------------\n",
      "LH\n",
      "-----------------\n",
      "TFX\n",
      "-----------------\n",
      "DAL\n",
      "-----------------\n",
      "K\n",
      "-----------------\n",
      "AMCR\n",
      "-----------------\n",
      "HOLX\n",
      "-----------------\n",
      "CMS\n",
      "-----------------\n",
      "LVS\n",
      "-----------------\n",
      "INCY\n",
      "-----------------\n",
      "CTXS\n",
      "-----------------\n",
      "VMC\n",
      "-----------------\n",
      "DFS\n",
      "-----------------\n",
      "DPZ\n",
      "-----------------\n",
      "DOV\n",
      "-----------------\n",
      "CDW\n",
      "-----------------\n",
      "CBRE\n",
      "-----------------\n",
      "BR\n",
      "-----------------\n",
      "MAS\n",
      "-----------------\n",
      "DGX\n",
      "-----------------\n",
      "VAR\n",
      "-----------------\n",
      "GWW\n",
      "-----------------\n",
      "QRVO\n",
      "-----------------\n",
      "VTR\n",
      "-----------------\n",
      "FE\n",
      "-----------------\n",
      "ZBRA\n",
      "-----------------\n",
      "PEAK\n",
      "-----------------\n",
      "GRMN\n",
      "-----------------\n",
      "HIG\n",
      "-----------------\n",
      "COO\n",
      "-----------------\n",
      "NDAQ\n",
      "-----------------\n",
      "EXPD\n",
      "-----------------\n",
      "VIAC\n",
      "-----------------\n",
      "CAH\n",
      "-----------------\n",
      "ABC\n",
      "-----------------\n",
      "NVR\n",
      "-----------------\n",
      "FITB\n",
      "-----------------\n",
      "XYL\n",
      "-----------------\n",
      "HRL\n",
      "-----------------\n",
      "IP\n",
      "-----------------\n",
      "HAL\n",
      "-----------------\n",
      "DRE\n",
      "-----------------\n",
      "ESS\n",
      "-----------------\n",
      "FMC\n",
      "-----------------\n",
      "PAYC\n",
      "-----------------\n",
      "MTB\n",
      "-----------------\n",
      "ABMD\n",
      "-----------------\n",
      "NUE\n",
      "-----------------\n",
      "EXR\n",
      "-----------------\n",
      "GPC\n",
      "-----------------\n",
      "SJM\n",
      "-----------------\n",
      "TYL\n",
      "-----------------\n",
      "WAT\n",
      "-----------------\n",
      "SYF\n",
      "-----------------\n",
      "IEX\n",
      "-----------------\n",
      "EXPE\n",
      "-----------------\n",
      "BF-B\n",
      "-----------------\n",
      "MAA\n",
      "-----------------\n",
      "SIVB\n",
      "-----------------\n",
      "MLM\n",
      "-----------------\n",
      "STE\n",
      "-----------------\n",
      "IFF\n",
      "-----------------\n",
      "TIF\n",
      "-----------------\n",
      "LNT\n",
      "-----------------\n",
      "CHRW\n",
      "-----------------\n",
      "PKI\n",
      "-----------------\n",
      "URI\n",
      "-----------------\n",
      "NLOK\n",
      "-----------------\n",
      "BXP\n",
      "-----------------\n",
      "JKHY\n",
      "-----------------\n",
      "ULTA\n",
      "-----------------\n",
      "HES\n",
      "-----------------\n",
      "CE\n",
      "-----------------\n",
      "KEY\n",
      "-----------------\n",
      "ETFC\n",
      "-----------------\n",
      "IR\n",
      "-----------------\n",
      "HPE\n",
      "-----------------\n",
      "LDOS\n",
      "-----------------\n",
      "OXY\n",
      "-----------------\n",
      "JBHT\n",
      "-----------------\n",
      "CINF\n",
      "-----------------\n",
      "ATO\n",
      "-----------------\n",
      "PHM\n",
      "-----------------\n",
      "WAB\n",
      "-----------------\n",
      "FBHS\n",
      "-----------------\n",
      "ANET\n",
      "-----------------\n",
      "AES\n",
      "-----------------\n",
      "TDY\n",
      "-----------------\n",
      "IT\n",
      "-----------------\n",
      "OMC\n",
      "-----------------\n",
      "EVRG\n",
      "-----------------\n",
      "J\n",
      "-----------------\n",
      "PFG\n",
      "-----------------\n",
      "MGM\n",
      "-----------------\n",
      "WHR\n",
      "-----------------\n",
      "RF\n",
      "-----------------\n",
      "OKE\n",
      "-----------------\n",
      "CFG\n",
      "-----------------\n",
      "BIO\n",
      "-----------------\n",
      "CNP\n",
      "-----------------\n",
      "RCL\n",
      "-----------------\n",
      "AAP\n",
      "-----------------\n",
      "DRI\n",
      "-----------------\n",
      "CTL\n",
      "-----------------\n",
      "STX\n",
      "-----------------\n",
      "CXO\n",
      "-----------------\n",
      "BKR\n",
      "-----------------\n",
      "UDR\n",
      "-----------------\n",
      "HAS\n",
      "-----------------\n",
      "CBOE\n",
      "-----------------\n",
      "EMN\n",
      "-----------------\n",
      "WDC\n",
      "-----------------\n",
      "WU\n",
      "-----------------\n",
      "HBAN\n",
      "-----------------\n",
      "LKQ\n",
      "-----------------\n",
      "ALB\n",
      "-----------------\n",
      "XRAY\n",
      "-----------------\n",
      "AVY\n",
      "-----------------\n",
      "HSIC\n",
      "-----------------\n",
      "NTAP\n",
      "-----------------\n",
      "ALLE\n",
      "-----------------\n",
      "RJF\n",
      "-----------------\n",
      "FOXA\n",
      "-----------------\n",
      "PKG\n",
      "-----------------\n",
      "LW\n",
      "-----------------\n",
      "CPB\n",
      "-----------------\n",
      "UAL\n",
      "-----------------\n",
      "WRB\n",
      "-----------------\n",
      "TXT\n",
      "-----------------\n",
      "L\n",
      "-----------------\n",
      "UHS\n",
      "-----------------\n",
      "RE\n",
      "-----------------\n",
      "NRG\n",
      "-----------------\n",
      "DISH\n",
      "-----------------\n",
      "IRM\n",
      "-----------------\n",
      "GL\n",
      "-----------------\n",
      "BWA\n",
      "-----------------\n",
      "NI\n",
      "-----------------\n",
      "PNW\n",
      "-----------------\n",
      "WYNN\n",
      "-----------------\n",
      "MYL\n",
      "-----------------\n",
      "HST\n",
      "-----------------\n",
      "SNA\n",
      "-----------------\n",
      "JNPR\n",
      "-----------------\n",
      "FFIV\n",
      "-----------------\n",
      "COG\n",
      "-----------------\n",
      "DVA\n",
      "-----------------\n",
      "WRK\n",
      "-----------------\n",
      "PNR\n",
      "-----------------\n",
      "ROL\n",
      "-----------------\n",
      "LYV\n",
      "-----------------\n",
      "CCL\n",
      "-----------------\n",
      "AIZ\n",
      "-----------------\n",
      "CF\n",
      "-----------------\n",
      "PWR\n",
      "-----------------\n",
      "LNC\n",
      "-----------------\n",
      "PRGO\n",
      "-----------------\n",
      "TAP\n",
      "-----------------\n",
      "IPG\n",
      "-----------------\n",
      "LB\n",
      "-----------------\n",
      "AOS\n",
      "-----------------\n",
      "REG\n",
      "-----------------\n",
      "HWM\n",
      "-----------------\n",
      "FANG\n",
      "-----------------\n",
      "DISCK\n",
      "-----------------\n",
      "AAL\n",
      "-----------------\n",
      "HII\n",
      "-----------------\n",
      "RHI\n",
      "-----------------\n",
      "MOS\n",
      "-----------------\n",
      "SEE\n",
      "-----------------\n",
      "NWL\n",
      "-----------------\n",
      "BEN\n",
      "-----------------\n",
      "VNO\n",
      "-----------------\n",
      "CMA\n",
      "-----------------\n",
      "HBI\n",
      "-----------------\n",
      "FRT\n",
      "-----------------\n",
      "ZION\n",
      "-----------------\n",
      "NWSA\n",
      "-----------------\n",
      "MHK\n",
      "-----------------\n",
      "APA\n",
      "-----------------\n",
      "IPGP\n",
      "-----------------\n",
      "NLSN\n",
      "-----------------\n",
      "AIV\n",
      "-----------------\n",
      "LEG\n",
      "-----------------\n",
      "NBL\n",
      "-----------------\n",
      "DXC\n",
      "-----------------\n",
      "KIM\n",
      "-----------------\n",
      "PBCT\n",
      "-----------------\n",
      "FLIR\n",
      "-----------------\n",
      "ALK\n",
      "-----------------\n",
      "NOV\n",
      "-----------------\n",
      "MRO\n",
      "-----------------\n",
      "NCLH\n",
      "-----------------\n",
      "FOX\n",
      "-----------------\n",
      "DVN\n",
      "-----------------\n",
      "TPR\n",
      "-----------------\n",
      "SLG\n",
      "-----------------\n",
      "PVH\n",
      "-----------------\n",
      "IVZ\n",
      "-----------------\n",
      "UNM\n",
      "-----------------\n",
      "HFC\n",
      "-----------------\n",
      "FLS\n",
      "-----------------\n",
      "GPS\n",
      "-----------------\n",
      "DISCA\n",
      "-----------------\n",
      "XRX\n",
      "-----------------\n",
      "RL\n",
      "-----------------\n",
      "KSS\n",
      "-----------------\n",
      "FTI\n",
      "-----------------\n",
      "HRB\n",
      "-----------------\n",
      "NWS\n",
      "-----------------\n",
      "UAA\n",
      "-----------------\n",
      "UA\n",
      "-----------------\n",
      "COTY\n"
     ]
    },
    {
     "name": "stderr",
     "output_type": "stream",
     "text": [
      "\n"
     ]
    }
   ],
   "source": [
    "for t in tqdm(stk_list):\n",
    "    print(\"-----------------\")\n",
    "    print(t)"
   ]
  },
  {
   "cell_type": "code",
   "execution_count": 42,
   "metadata": {},
   "outputs": [
    {
     "name": "stderr",
     "output_type": "stream",
     "text": [
      "\r",
      "  0%|          | 0/118 [00:00<?, ?it/s]"
     ]
    },
    {
     "name": "stdout",
     "output_type": "stream",
     "text": [
      "-----------------\n",
      "PEAK\n"
     ]
    },
    {
     "name": "stderr",
     "output_type": "stream",
     "text": [
      "  0%|          | 0/118 [02:19<?, ?it/s]\n"
     ]
    },
    {
     "ename": "KeyboardInterrupt",
     "evalue": "",
     "output_type": "error",
     "traceback": [
      "\u001b[0;31m---------------------------------------------------------------------------\u001b[0m",
      "\u001b[0;31mKeyboardInterrupt\u001b[0m                         Traceback (most recent call last)",
      "\u001b[0;32m<ipython-input-42-5e00010f2b00>\u001b[0m in \u001b[0;36m<module>\u001b[0;34m\u001b[0m\n\u001b[1;32m      9\u001b[0m     \u001b[0mprint\u001b[0m\u001b[0;34m(\u001b[0m\u001b[0mt\u001b[0m\u001b[0;34m)\u001b[0m\u001b[0;34m\u001b[0m\u001b[0;34m\u001b[0m\u001b[0m\n\u001b[1;32m     10\u001b[0m     \u001b[0;32mtry\u001b[0m\u001b[0;34m:\u001b[0m\u001b[0;34m\u001b[0m\u001b[0;34m\u001b[0m\u001b[0m\n\u001b[0;32m---> 11\u001b[0;31m         \u001b[0minfo_\u001b[0m \u001b[0;34m=\u001b[0m \u001b[0mgetattr\u001b[0m\u001b[0;34m(\u001b[0m\u001b[0mtickers\u001b[0m\u001b[0;34m.\u001b[0m\u001b[0mtickers\u001b[0m\u001b[0;34m,\u001b[0m \u001b[0mt\u001b[0m\u001b[0;34m)\u001b[0m\u001b[0;34m.\u001b[0m\u001b[0minfo\u001b[0m\u001b[0;34m\u001b[0m\u001b[0;34m\u001b[0m\u001b[0m\n\u001b[0m\u001b[1;32m     12\u001b[0m         \u001b[0mprint\u001b[0m\u001b[0;34m(\u001b[0m\u001b[0;34m\"info assigned\"\u001b[0m\u001b[0;34m)\u001b[0m\u001b[0;34m\u001b[0m\u001b[0;34m\u001b[0m\u001b[0m\n\u001b[1;32m     13\u001b[0m         \u001b[0msector\u001b[0m \u001b[0;34m=\u001b[0m \u001b[0minfo_\u001b[0m\u001b[0;34m[\u001b[0m\u001b[0;34m'sector'\u001b[0m\u001b[0;34m]\u001b[0m\u001b[0;34m\u001b[0m\u001b[0;34m\u001b[0m\u001b[0m\n",
      "\u001b[0;32m~/anaconda3/envs/py37/lib/python3.7/site-packages/yfinance/ticker.py\u001b[0m in \u001b[0;36minfo\u001b[0;34m(self)\u001b[0m\n\u001b[1;32m    136\u001b[0m     \u001b[0;34m@\u001b[0m\u001b[0mproperty\u001b[0m\u001b[0;34m\u001b[0m\u001b[0;34m\u001b[0m\u001b[0m\n\u001b[1;32m    137\u001b[0m     \u001b[0;32mdef\u001b[0m \u001b[0minfo\u001b[0m\u001b[0;34m(\u001b[0m\u001b[0mself\u001b[0m\u001b[0;34m)\u001b[0m\u001b[0;34m:\u001b[0m\u001b[0;34m\u001b[0m\u001b[0;34m\u001b[0m\u001b[0m\n\u001b[0;32m--> 138\u001b[0;31m         \u001b[0;32mreturn\u001b[0m \u001b[0mself\u001b[0m\u001b[0;34m.\u001b[0m\u001b[0mget_info\u001b[0m\u001b[0;34m(\u001b[0m\u001b[0;34m)\u001b[0m\u001b[0;34m\u001b[0m\u001b[0;34m\u001b[0m\u001b[0m\n\u001b[0m\u001b[1;32m    139\u001b[0m \u001b[0;34m\u001b[0m\u001b[0m\n\u001b[1;32m    140\u001b[0m     \u001b[0;34m@\u001b[0m\u001b[0mproperty\u001b[0m\u001b[0;34m\u001b[0m\u001b[0;34m\u001b[0m\u001b[0m\n",
      "\u001b[0;32m~/anaconda3/envs/py37/lib/python3.7/site-packages/yfinance/base.py\u001b[0m in \u001b[0;36mget_info\u001b[0;34m(self, proxy, as_dict, *args, **kwargs)\u001b[0m\n\u001b[1;32m    413\u001b[0m \u001b[0;34m\u001b[0m\u001b[0m\n\u001b[1;32m    414\u001b[0m     \u001b[0;32mdef\u001b[0m \u001b[0mget_info\u001b[0m\u001b[0;34m(\u001b[0m\u001b[0mself\u001b[0m\u001b[0;34m,\u001b[0m \u001b[0mproxy\u001b[0m\u001b[0;34m=\u001b[0m\u001b[0;32mNone\u001b[0m\u001b[0;34m,\u001b[0m \u001b[0mas_dict\u001b[0m\u001b[0;34m=\u001b[0m\u001b[0;32mFalse\u001b[0m\u001b[0;34m,\u001b[0m \u001b[0;34m*\u001b[0m\u001b[0margs\u001b[0m\u001b[0;34m,\u001b[0m \u001b[0;34m**\u001b[0m\u001b[0mkwargs\u001b[0m\u001b[0;34m)\u001b[0m\u001b[0;34m:\u001b[0m\u001b[0;34m\u001b[0m\u001b[0;34m\u001b[0m\u001b[0m\n\u001b[0;32m--> 415\u001b[0;31m         \u001b[0mself\u001b[0m\u001b[0;34m.\u001b[0m\u001b[0m_get_fundamentals\u001b[0m\u001b[0;34m(\u001b[0m\u001b[0mproxy\u001b[0m\u001b[0;34m)\u001b[0m\u001b[0;34m\u001b[0m\u001b[0;34m\u001b[0m\u001b[0m\n\u001b[0m\u001b[1;32m    416\u001b[0m         \u001b[0mdata\u001b[0m \u001b[0;34m=\u001b[0m \u001b[0mself\u001b[0m\u001b[0;34m.\u001b[0m\u001b[0m_info\u001b[0m\u001b[0;34m\u001b[0m\u001b[0;34m\u001b[0m\u001b[0m\n\u001b[1;32m    417\u001b[0m         \u001b[0;32mif\u001b[0m \u001b[0mas_dict\u001b[0m\u001b[0;34m:\u001b[0m\u001b[0;34m\u001b[0m\u001b[0;34m\u001b[0m\u001b[0m\n",
      "\u001b[0;32m~/anaconda3/envs/py37/lib/python3.7/site-packages/yfinance/base.py\u001b[0m in \u001b[0;36m_get_fundamentals\u001b[0;34m(self, kind, proxy)\u001b[0m\n\u001b[1;32m    282\u001b[0m         \u001b[0;31m# holders\u001b[0m\u001b[0;34m\u001b[0m\u001b[0;34m\u001b[0m\u001b[0;34m\u001b[0m\u001b[0m\n\u001b[1;32m    283\u001b[0m         \u001b[0murl\u001b[0m \u001b[0;34m=\u001b[0m \u001b[0;34m\"{}/{}/holders\"\u001b[0m\u001b[0;34m.\u001b[0m\u001b[0mformat\u001b[0m\u001b[0;34m(\u001b[0m\u001b[0mself\u001b[0m\u001b[0;34m.\u001b[0m\u001b[0m_scrape_url\u001b[0m\u001b[0;34m,\u001b[0m \u001b[0mself\u001b[0m\u001b[0;34m.\u001b[0m\u001b[0mticker\u001b[0m\u001b[0;34m)\u001b[0m\u001b[0;34m\u001b[0m\u001b[0;34m\u001b[0m\u001b[0m\n\u001b[0;32m--> 284\u001b[0;31m         \u001b[0mholders\u001b[0m \u001b[0;34m=\u001b[0m \u001b[0m_pd\u001b[0m\u001b[0;34m.\u001b[0m\u001b[0mread_html\u001b[0m\u001b[0;34m(\u001b[0m\u001b[0murl\u001b[0m\u001b[0;34m)\u001b[0m\u001b[0;34m\u001b[0m\u001b[0;34m\u001b[0m\u001b[0m\n\u001b[0m\u001b[1;32m    285\u001b[0m         \u001b[0mself\u001b[0m\u001b[0;34m.\u001b[0m\u001b[0m_major_holders\u001b[0m \u001b[0;34m=\u001b[0m \u001b[0mholders\u001b[0m\u001b[0;34m[\u001b[0m\u001b[0;36m0\u001b[0m\u001b[0;34m]\u001b[0m\u001b[0;34m\u001b[0m\u001b[0;34m\u001b[0m\u001b[0m\n\u001b[1;32m    286\u001b[0m         \u001b[0mself\u001b[0m\u001b[0;34m.\u001b[0m\u001b[0m_institutional_holders\u001b[0m \u001b[0;34m=\u001b[0m \u001b[0mholders\u001b[0m\u001b[0;34m[\u001b[0m\u001b[0;36m1\u001b[0m\u001b[0;34m]\u001b[0m\u001b[0;34m\u001b[0m\u001b[0;34m\u001b[0m\u001b[0m\n",
      "\u001b[0;32m~/anaconda3/envs/py37/lib/python3.7/site-packages/pandas/util/_decorators.py\u001b[0m in \u001b[0;36mwrapper\u001b[0;34m(*args, **kwargs)\u001b[0m\n\u001b[1;32m    294\u001b[0m                 )\n\u001b[1;32m    295\u001b[0m                 \u001b[0mwarnings\u001b[0m\u001b[0;34m.\u001b[0m\u001b[0mwarn\u001b[0m\u001b[0;34m(\u001b[0m\u001b[0mmsg\u001b[0m\u001b[0;34m,\u001b[0m \u001b[0mFutureWarning\u001b[0m\u001b[0;34m,\u001b[0m \u001b[0mstacklevel\u001b[0m\u001b[0;34m=\u001b[0m\u001b[0mstacklevel\u001b[0m\u001b[0;34m)\u001b[0m\u001b[0;34m\u001b[0m\u001b[0;34m\u001b[0m\u001b[0m\n\u001b[0;32m--> 296\u001b[0;31m             \u001b[0;32mreturn\u001b[0m \u001b[0mfunc\u001b[0m\u001b[0;34m(\u001b[0m\u001b[0;34m*\u001b[0m\u001b[0margs\u001b[0m\u001b[0;34m,\u001b[0m \u001b[0;34m**\u001b[0m\u001b[0mkwargs\u001b[0m\u001b[0;34m)\u001b[0m\u001b[0;34m\u001b[0m\u001b[0;34m\u001b[0m\u001b[0m\n\u001b[0m\u001b[1;32m    297\u001b[0m \u001b[0;34m\u001b[0m\u001b[0m\n\u001b[1;32m    298\u001b[0m         \u001b[0;32mreturn\u001b[0m \u001b[0mwrapper\u001b[0m\u001b[0;34m\u001b[0m\u001b[0;34m\u001b[0m\u001b[0m\n",
      "\u001b[0;32m~/anaconda3/envs/py37/lib/python3.7/site-packages/pandas/io/html.py\u001b[0m in \u001b[0;36mread_html\u001b[0;34m(io, match, flavor, header, index_col, skiprows, attrs, parse_dates, thousands, encoding, decimal, converters, na_values, keep_default_na, displayed_only)\u001b[0m\n\u001b[1;32m   1099\u001b[0m         \u001b[0mna_values\u001b[0m\u001b[0;34m=\u001b[0m\u001b[0mna_values\u001b[0m\u001b[0;34m,\u001b[0m\u001b[0;34m\u001b[0m\u001b[0;34m\u001b[0m\u001b[0m\n\u001b[1;32m   1100\u001b[0m         \u001b[0mkeep_default_na\u001b[0m\u001b[0;34m=\u001b[0m\u001b[0mkeep_default_na\u001b[0m\u001b[0;34m,\u001b[0m\u001b[0;34m\u001b[0m\u001b[0;34m\u001b[0m\u001b[0m\n\u001b[0;32m-> 1101\u001b[0;31m         \u001b[0mdisplayed_only\u001b[0m\u001b[0;34m=\u001b[0m\u001b[0mdisplayed_only\u001b[0m\u001b[0;34m,\u001b[0m\u001b[0;34m\u001b[0m\u001b[0;34m\u001b[0m\u001b[0m\n\u001b[0m\u001b[1;32m   1102\u001b[0m     )\n",
      "\u001b[0;32m~/anaconda3/envs/py37/lib/python3.7/site-packages/pandas/io/html.py\u001b[0m in \u001b[0;36m_parse\u001b[0;34m(flavor, io, match, attrs, encoding, displayed_only, **kwargs)\u001b[0m\n\u001b[1;32m    896\u001b[0m \u001b[0;34m\u001b[0m\u001b[0m\n\u001b[1;32m    897\u001b[0m         \u001b[0;32mtry\u001b[0m\u001b[0;34m:\u001b[0m\u001b[0;34m\u001b[0m\u001b[0;34m\u001b[0m\u001b[0m\n\u001b[0;32m--> 898\u001b[0;31m             \u001b[0mtables\u001b[0m \u001b[0;34m=\u001b[0m \u001b[0mp\u001b[0m\u001b[0;34m.\u001b[0m\u001b[0mparse_tables\u001b[0m\u001b[0;34m(\u001b[0m\u001b[0;34m)\u001b[0m\u001b[0;34m\u001b[0m\u001b[0;34m\u001b[0m\u001b[0m\n\u001b[0m\u001b[1;32m    899\u001b[0m         \u001b[0;32mexcept\u001b[0m \u001b[0mValueError\u001b[0m \u001b[0;32mas\u001b[0m \u001b[0mcaught\u001b[0m\u001b[0;34m:\u001b[0m\u001b[0;34m\u001b[0m\u001b[0;34m\u001b[0m\u001b[0m\n\u001b[1;32m    900\u001b[0m             \u001b[0;31m# if `io` is an io-like object, check if it's seekable\u001b[0m\u001b[0;34m\u001b[0m\u001b[0;34m\u001b[0m\u001b[0;34m\u001b[0m\u001b[0m\n",
      "\u001b[0;32m~/anaconda3/envs/py37/lib/python3.7/site-packages/pandas/io/html.py\u001b[0m in \u001b[0;36mparse_tables\u001b[0;34m(self)\u001b[0m\n\u001b[1;32m    215\u001b[0m         \u001b[0mlist\u001b[0m \u001b[0mof\u001b[0m \u001b[0mparsed\u001b[0m \u001b[0;34m(\u001b[0m\u001b[0mheader\u001b[0m\u001b[0;34m,\u001b[0m \u001b[0mbody\u001b[0m\u001b[0;34m,\u001b[0m \u001b[0mfooter\u001b[0m\u001b[0;34m)\u001b[0m \u001b[0mtuples\u001b[0m \u001b[0;32mfrom\u001b[0m \u001b[0mtables\u001b[0m\u001b[0;34m.\u001b[0m\u001b[0;34m\u001b[0m\u001b[0;34m\u001b[0m\u001b[0m\n\u001b[1;32m    216\u001b[0m         \"\"\"\n\u001b[0;32m--> 217\u001b[0;31m         \u001b[0mtables\u001b[0m \u001b[0;34m=\u001b[0m \u001b[0mself\u001b[0m\u001b[0;34m.\u001b[0m\u001b[0m_parse_tables\u001b[0m\u001b[0;34m(\u001b[0m\u001b[0mself\u001b[0m\u001b[0;34m.\u001b[0m\u001b[0m_build_doc\u001b[0m\u001b[0;34m(\u001b[0m\u001b[0;34m)\u001b[0m\u001b[0;34m,\u001b[0m \u001b[0mself\u001b[0m\u001b[0;34m.\u001b[0m\u001b[0mmatch\u001b[0m\u001b[0;34m,\u001b[0m \u001b[0mself\u001b[0m\u001b[0;34m.\u001b[0m\u001b[0mattrs\u001b[0m\u001b[0;34m)\u001b[0m\u001b[0;34m\u001b[0m\u001b[0;34m\u001b[0m\u001b[0m\n\u001b[0m\u001b[1;32m    218\u001b[0m         \u001b[0;32mreturn\u001b[0m \u001b[0;34m(\u001b[0m\u001b[0mself\u001b[0m\u001b[0;34m.\u001b[0m\u001b[0m_parse_thead_tbody_tfoot\u001b[0m\u001b[0;34m(\u001b[0m\u001b[0mtable\u001b[0m\u001b[0;34m)\u001b[0m \u001b[0;32mfor\u001b[0m \u001b[0mtable\u001b[0m \u001b[0;32min\u001b[0m \u001b[0mtables\u001b[0m\u001b[0;34m)\u001b[0m\u001b[0;34m\u001b[0m\u001b[0;34m\u001b[0m\u001b[0m\n\u001b[1;32m    219\u001b[0m \u001b[0;34m\u001b[0m\u001b[0m\n",
      "\u001b[0;32m~/anaconda3/envs/py37/lib/python3.7/site-packages/pandas/io/html.py\u001b[0m in \u001b[0;36m_build_doc\u001b[0;34m(self)\u001b[0m\n\u001b[1;32m    716\u001b[0m             \u001b[0;32mif\u001b[0m \u001b[0mis_url\u001b[0m\u001b[0;34m(\u001b[0m\u001b[0mself\u001b[0m\u001b[0;34m.\u001b[0m\u001b[0mio\u001b[0m\u001b[0;34m)\u001b[0m\u001b[0;34m:\u001b[0m\u001b[0;34m\u001b[0m\u001b[0;34m\u001b[0m\u001b[0m\n\u001b[1;32m    717\u001b[0m                 \u001b[0;32mwith\u001b[0m \u001b[0murlopen\u001b[0m\u001b[0;34m(\u001b[0m\u001b[0mself\u001b[0m\u001b[0;34m.\u001b[0m\u001b[0mio\u001b[0m\u001b[0;34m)\u001b[0m \u001b[0;32mas\u001b[0m \u001b[0mf\u001b[0m\u001b[0;34m:\u001b[0m\u001b[0;34m\u001b[0m\u001b[0;34m\u001b[0m\u001b[0m\n\u001b[0;32m--> 718\u001b[0;31m                     \u001b[0mr\u001b[0m \u001b[0;34m=\u001b[0m \u001b[0mparse\u001b[0m\u001b[0;34m(\u001b[0m\u001b[0mf\u001b[0m\u001b[0;34m,\u001b[0m \u001b[0mparser\u001b[0m\u001b[0;34m=\u001b[0m\u001b[0mparser\u001b[0m\u001b[0;34m)\u001b[0m\u001b[0;34m\u001b[0m\u001b[0;34m\u001b[0m\u001b[0m\n\u001b[0m\u001b[1;32m    719\u001b[0m             \u001b[0;32melse\u001b[0m\u001b[0;34m:\u001b[0m\u001b[0;34m\u001b[0m\u001b[0;34m\u001b[0m\u001b[0m\n\u001b[1;32m    720\u001b[0m                 \u001b[0;31m# try to parse the input in the simplest way\u001b[0m\u001b[0;34m\u001b[0m\u001b[0;34m\u001b[0m\u001b[0;34m\u001b[0m\u001b[0m\n",
      "\u001b[0;32m~/anaconda3/envs/py37/lib/python3.7/site-packages/lxml/html/__init__.py\u001b[0m in \u001b[0;36mparse\u001b[0;34m(filename_or_url, parser, base_url, **kw)\u001b[0m\n\u001b[1;32m    937\u001b[0m     \u001b[0;32mif\u001b[0m \u001b[0mparser\u001b[0m \u001b[0;32mis\u001b[0m \u001b[0;32mNone\u001b[0m\u001b[0;34m:\u001b[0m\u001b[0;34m\u001b[0m\u001b[0;34m\u001b[0m\u001b[0m\n\u001b[1;32m    938\u001b[0m         \u001b[0mparser\u001b[0m \u001b[0;34m=\u001b[0m \u001b[0mhtml_parser\u001b[0m\u001b[0;34m\u001b[0m\u001b[0;34m\u001b[0m\u001b[0m\n\u001b[0;32m--> 939\u001b[0;31m     \u001b[0;32mreturn\u001b[0m \u001b[0metree\u001b[0m\u001b[0;34m.\u001b[0m\u001b[0mparse\u001b[0m\u001b[0;34m(\u001b[0m\u001b[0mfilename_or_url\u001b[0m\u001b[0;34m,\u001b[0m \u001b[0mparser\u001b[0m\u001b[0;34m,\u001b[0m \u001b[0mbase_url\u001b[0m\u001b[0;34m=\u001b[0m\u001b[0mbase_url\u001b[0m\u001b[0;34m,\u001b[0m \u001b[0;34m**\u001b[0m\u001b[0mkw\u001b[0m\u001b[0;34m)\u001b[0m\u001b[0;34m\u001b[0m\u001b[0;34m\u001b[0m\u001b[0m\n\u001b[0m\u001b[1;32m    940\u001b[0m \u001b[0;34m\u001b[0m\u001b[0m\n\u001b[1;32m    941\u001b[0m \u001b[0;34m\u001b[0m\u001b[0m\n",
      "\u001b[0;32msrc/lxml/etree.pyx\u001b[0m in \u001b[0;36mlxml.etree.parse\u001b[0;34m()\u001b[0m\n",
      "\u001b[0;32msrc/lxml/parser.pxi\u001b[0m in \u001b[0;36mlxml.etree._parseDocument\u001b[0;34m()\u001b[0m\n",
      "\u001b[0;32msrc/lxml/parser.pxi\u001b[0m in \u001b[0;36mlxml.etree._parseFilelikeDocument\u001b[0;34m()\u001b[0m\n",
      "\u001b[0;32msrc/lxml/parser.pxi\u001b[0m in \u001b[0;36mlxml.etree._parseDocFromFilelike\u001b[0;34m()\u001b[0m\n",
      "\u001b[0;32msrc/lxml/parser.pxi\u001b[0m in \u001b[0;36mlxml.etree._BaseParser._parseDocFromFilelike\u001b[0;34m()\u001b[0m\n",
      "\u001b[0;32msrc/lxml/parser.pxi\u001b[0m in \u001b[0;36mlxml.etree._ParserContext._handleParseResultDoc\u001b[0;34m()\u001b[0m\n",
      "\u001b[0;32msrc/lxml/parser.pxi\u001b[0m in \u001b[0;36mlxml.etree._handleParseResult\u001b[0;34m()\u001b[0m\n",
      "\u001b[0;32msrc/lxml/etree.pyx\u001b[0m in \u001b[0;36mlxml.etree._ExceptionContext._raise_if_stored\u001b[0;34m()\u001b[0m\n",
      "\u001b[0;32msrc/lxml/parser.pxi\u001b[0m in \u001b[0;36mlxml.etree._FileReaderContext.copyToBuffer\u001b[0;34m()\u001b[0m\n",
      "\u001b[0;32m~/anaconda3/envs/py37/lib/python3.7/http/client.py\u001b[0m in \u001b[0;36mread\u001b[0;34m(self, amt)\u001b[0m\n\u001b[1;32m    455\u001b[0m             \u001b[0;31m# Amount is given, implement using readinto\u001b[0m\u001b[0;34m\u001b[0m\u001b[0;34m\u001b[0m\u001b[0;34m\u001b[0m\u001b[0m\n\u001b[1;32m    456\u001b[0m             \u001b[0mb\u001b[0m \u001b[0;34m=\u001b[0m \u001b[0mbytearray\u001b[0m\u001b[0;34m(\u001b[0m\u001b[0mamt\u001b[0m\u001b[0;34m)\u001b[0m\u001b[0;34m\u001b[0m\u001b[0;34m\u001b[0m\u001b[0m\n\u001b[0;32m--> 457\u001b[0;31m             \u001b[0mn\u001b[0m \u001b[0;34m=\u001b[0m \u001b[0mself\u001b[0m\u001b[0;34m.\u001b[0m\u001b[0mreadinto\u001b[0m\u001b[0;34m(\u001b[0m\u001b[0mb\u001b[0m\u001b[0;34m)\u001b[0m\u001b[0;34m\u001b[0m\u001b[0;34m\u001b[0m\u001b[0m\n\u001b[0m\u001b[1;32m    458\u001b[0m             \u001b[0;32mreturn\u001b[0m \u001b[0mmemoryview\u001b[0m\u001b[0;34m(\u001b[0m\u001b[0mb\u001b[0m\u001b[0;34m)\u001b[0m\u001b[0;34m[\u001b[0m\u001b[0;34m:\u001b[0m\u001b[0mn\u001b[0m\u001b[0;34m]\u001b[0m\u001b[0;34m.\u001b[0m\u001b[0mtobytes\u001b[0m\u001b[0;34m(\u001b[0m\u001b[0;34m)\u001b[0m\u001b[0;34m\u001b[0m\u001b[0;34m\u001b[0m\u001b[0m\n\u001b[1;32m    459\u001b[0m         \u001b[0;32melse\u001b[0m\u001b[0;34m:\u001b[0m\u001b[0;34m\u001b[0m\u001b[0;34m\u001b[0m\u001b[0m\n",
      "\u001b[0;32m~/anaconda3/envs/py37/lib/python3.7/http/client.py\u001b[0m in \u001b[0;36mreadinto\u001b[0;34m(self, b)\u001b[0m\n\u001b[1;32m    489\u001b[0m \u001b[0;34m\u001b[0m\u001b[0m\n\u001b[1;32m    490\u001b[0m         \u001b[0;32mif\u001b[0m \u001b[0mself\u001b[0m\u001b[0;34m.\u001b[0m\u001b[0mchunked\u001b[0m\u001b[0;34m:\u001b[0m\u001b[0;34m\u001b[0m\u001b[0;34m\u001b[0m\u001b[0m\n\u001b[0;32m--> 491\u001b[0;31m             \u001b[0;32mreturn\u001b[0m \u001b[0mself\u001b[0m\u001b[0;34m.\u001b[0m\u001b[0m_readinto_chunked\u001b[0m\u001b[0;34m(\u001b[0m\u001b[0mb\u001b[0m\u001b[0;34m)\u001b[0m\u001b[0;34m\u001b[0m\u001b[0;34m\u001b[0m\u001b[0m\n\u001b[0m\u001b[1;32m    492\u001b[0m \u001b[0;34m\u001b[0m\u001b[0m\n\u001b[1;32m    493\u001b[0m         \u001b[0;32mif\u001b[0m \u001b[0mself\u001b[0m\u001b[0;34m.\u001b[0m\u001b[0mlength\u001b[0m \u001b[0;32mis\u001b[0m \u001b[0;32mnot\u001b[0m \u001b[0;32mNone\u001b[0m\u001b[0;34m:\u001b[0m\u001b[0;34m\u001b[0m\u001b[0;34m\u001b[0m\u001b[0m\n",
      "\u001b[0;32m~/anaconda3/envs/py37/lib/python3.7/http/client.py\u001b[0m in \u001b[0;36m_readinto_chunked\u001b[0;34m(self, b)\u001b[0m\n\u001b[1;32m    589\u001b[0m \u001b[0;34m\u001b[0m\u001b[0m\n\u001b[1;32m    590\u001b[0m                 \u001b[0;32mif\u001b[0m \u001b[0mlen\u001b[0m\u001b[0;34m(\u001b[0m\u001b[0mmvb\u001b[0m\u001b[0;34m)\u001b[0m \u001b[0;34m<=\u001b[0m \u001b[0mchunk_left\u001b[0m\u001b[0;34m:\u001b[0m\u001b[0;34m\u001b[0m\u001b[0;34m\u001b[0m\u001b[0m\n\u001b[0;32m--> 591\u001b[0;31m                     \u001b[0mn\u001b[0m \u001b[0;34m=\u001b[0m \u001b[0mself\u001b[0m\u001b[0;34m.\u001b[0m\u001b[0m_safe_readinto\u001b[0m\u001b[0;34m(\u001b[0m\u001b[0mmvb\u001b[0m\u001b[0;34m)\u001b[0m\u001b[0;34m\u001b[0m\u001b[0;34m\u001b[0m\u001b[0m\n\u001b[0m\u001b[1;32m    592\u001b[0m                     \u001b[0mself\u001b[0m\u001b[0;34m.\u001b[0m\u001b[0mchunk_left\u001b[0m \u001b[0;34m=\u001b[0m \u001b[0mchunk_left\u001b[0m \u001b[0;34m-\u001b[0m \u001b[0mn\u001b[0m\u001b[0;34m\u001b[0m\u001b[0;34m\u001b[0m\u001b[0m\n\u001b[1;32m    593\u001b[0m                     \u001b[0;32mreturn\u001b[0m \u001b[0mtotal_bytes\u001b[0m \u001b[0;34m+\u001b[0m \u001b[0mn\u001b[0m\u001b[0;34m\u001b[0m\u001b[0;34m\u001b[0m\u001b[0m\n",
      "\u001b[0;32m~/anaconda3/envs/py37/lib/python3.7/http/client.py\u001b[0m in \u001b[0;36m_safe_readinto\u001b[0;34m(self, b)\u001b[0m\n\u001b[1;32m    634\u001b[0m                 \u001b[0mn\u001b[0m \u001b[0;34m=\u001b[0m \u001b[0mself\u001b[0m\u001b[0;34m.\u001b[0m\u001b[0mfp\u001b[0m\u001b[0;34m.\u001b[0m\u001b[0mreadinto\u001b[0m\u001b[0;34m(\u001b[0m\u001b[0mtemp_mvb\u001b[0m\u001b[0;34m)\u001b[0m\u001b[0;34m\u001b[0m\u001b[0;34m\u001b[0m\u001b[0m\n\u001b[1;32m    635\u001b[0m             \u001b[0;32melse\u001b[0m\u001b[0;34m:\u001b[0m\u001b[0;34m\u001b[0m\u001b[0;34m\u001b[0m\u001b[0m\n\u001b[0;32m--> 636\u001b[0;31m                 \u001b[0mn\u001b[0m \u001b[0;34m=\u001b[0m \u001b[0mself\u001b[0m\u001b[0;34m.\u001b[0m\u001b[0mfp\u001b[0m\u001b[0;34m.\u001b[0m\u001b[0mreadinto\u001b[0m\u001b[0;34m(\u001b[0m\u001b[0mmvb\u001b[0m\u001b[0;34m)\u001b[0m\u001b[0;34m\u001b[0m\u001b[0;34m\u001b[0m\u001b[0m\n\u001b[0m\u001b[1;32m    637\u001b[0m             \u001b[0;32mif\u001b[0m \u001b[0;32mnot\u001b[0m \u001b[0mn\u001b[0m\u001b[0;34m:\u001b[0m\u001b[0;34m\u001b[0m\u001b[0;34m\u001b[0m\u001b[0m\n\u001b[1;32m    638\u001b[0m                 \u001b[0;32mraise\u001b[0m \u001b[0mIncompleteRead\u001b[0m\u001b[0;34m(\u001b[0m\u001b[0mbytes\u001b[0m\u001b[0;34m(\u001b[0m\u001b[0mmvb\u001b[0m\u001b[0;34m[\u001b[0m\u001b[0;36m0\u001b[0m\u001b[0;34m:\u001b[0m\u001b[0mtotal_bytes\u001b[0m\u001b[0;34m]\u001b[0m\u001b[0;34m)\u001b[0m\u001b[0;34m,\u001b[0m \u001b[0mlen\u001b[0m\u001b[0;34m(\u001b[0m\u001b[0mb\u001b[0m\u001b[0;34m)\u001b[0m\u001b[0;34m)\u001b[0m\u001b[0;34m\u001b[0m\u001b[0;34m\u001b[0m\u001b[0m\n",
      "\u001b[0;32m~/anaconda3/envs/py37/lib/python3.7/socket.py\u001b[0m in \u001b[0;36mreadinto\u001b[0;34m(self, b)\u001b[0m\n\u001b[1;32m    587\u001b[0m         \u001b[0;32mwhile\u001b[0m \u001b[0;32mTrue\u001b[0m\u001b[0;34m:\u001b[0m\u001b[0;34m\u001b[0m\u001b[0;34m\u001b[0m\u001b[0m\n\u001b[1;32m    588\u001b[0m             \u001b[0;32mtry\u001b[0m\u001b[0;34m:\u001b[0m\u001b[0;34m\u001b[0m\u001b[0;34m\u001b[0m\u001b[0m\n\u001b[0;32m--> 589\u001b[0;31m                 \u001b[0;32mreturn\u001b[0m \u001b[0mself\u001b[0m\u001b[0;34m.\u001b[0m\u001b[0m_sock\u001b[0m\u001b[0;34m.\u001b[0m\u001b[0mrecv_into\u001b[0m\u001b[0;34m(\u001b[0m\u001b[0mb\u001b[0m\u001b[0;34m)\u001b[0m\u001b[0;34m\u001b[0m\u001b[0;34m\u001b[0m\u001b[0m\n\u001b[0m\u001b[1;32m    590\u001b[0m             \u001b[0;32mexcept\u001b[0m \u001b[0mtimeout\u001b[0m\u001b[0;34m:\u001b[0m\u001b[0;34m\u001b[0m\u001b[0;34m\u001b[0m\u001b[0m\n\u001b[1;32m    591\u001b[0m                 \u001b[0mself\u001b[0m\u001b[0;34m.\u001b[0m\u001b[0m_timeout_occurred\u001b[0m \u001b[0;34m=\u001b[0m \u001b[0;32mTrue\u001b[0m\u001b[0;34m\u001b[0m\u001b[0;34m\u001b[0m\u001b[0m\n",
      "\u001b[0;32m~/anaconda3/envs/py37/lib/python3.7/ssl.py\u001b[0m in \u001b[0;36mrecv_into\u001b[0;34m(self, buffer, nbytes, flags)\u001b[0m\n\u001b[1;32m   1069\u001b[0m                   \u001b[0;34m\"non-zero flags not allowed in calls to recv_into() on %s\"\u001b[0m \u001b[0;34m%\u001b[0m\u001b[0;34m\u001b[0m\u001b[0;34m\u001b[0m\u001b[0m\n\u001b[1;32m   1070\u001b[0m                   self.__class__)\n\u001b[0;32m-> 1071\u001b[0;31m             \u001b[0;32mreturn\u001b[0m \u001b[0mself\u001b[0m\u001b[0;34m.\u001b[0m\u001b[0mread\u001b[0m\u001b[0;34m(\u001b[0m\u001b[0mnbytes\u001b[0m\u001b[0;34m,\u001b[0m \u001b[0mbuffer\u001b[0m\u001b[0;34m)\u001b[0m\u001b[0;34m\u001b[0m\u001b[0;34m\u001b[0m\u001b[0m\n\u001b[0m\u001b[1;32m   1072\u001b[0m         \u001b[0;32melse\u001b[0m\u001b[0;34m:\u001b[0m\u001b[0;34m\u001b[0m\u001b[0;34m\u001b[0m\u001b[0m\n\u001b[1;32m   1073\u001b[0m             \u001b[0;32mreturn\u001b[0m \u001b[0msuper\u001b[0m\u001b[0;34m(\u001b[0m\u001b[0;34m)\u001b[0m\u001b[0;34m.\u001b[0m\u001b[0mrecv_into\u001b[0m\u001b[0;34m(\u001b[0m\u001b[0mbuffer\u001b[0m\u001b[0;34m,\u001b[0m \u001b[0mnbytes\u001b[0m\u001b[0;34m,\u001b[0m \u001b[0mflags\u001b[0m\u001b[0;34m)\u001b[0m\u001b[0;34m\u001b[0m\u001b[0;34m\u001b[0m\u001b[0m\n",
      "\u001b[0;32m~/anaconda3/envs/py37/lib/python3.7/ssl.py\u001b[0m in \u001b[0;36mread\u001b[0;34m(self, len, buffer)\u001b[0m\n\u001b[1;32m    927\u001b[0m         \u001b[0;32mtry\u001b[0m\u001b[0;34m:\u001b[0m\u001b[0;34m\u001b[0m\u001b[0;34m\u001b[0m\u001b[0m\n\u001b[1;32m    928\u001b[0m             \u001b[0;32mif\u001b[0m \u001b[0mbuffer\u001b[0m \u001b[0;32mis\u001b[0m \u001b[0;32mnot\u001b[0m \u001b[0;32mNone\u001b[0m\u001b[0;34m:\u001b[0m\u001b[0;34m\u001b[0m\u001b[0;34m\u001b[0m\u001b[0m\n\u001b[0;32m--> 929\u001b[0;31m                 \u001b[0;32mreturn\u001b[0m \u001b[0mself\u001b[0m\u001b[0;34m.\u001b[0m\u001b[0m_sslobj\u001b[0m\u001b[0;34m.\u001b[0m\u001b[0mread\u001b[0m\u001b[0;34m(\u001b[0m\u001b[0mlen\u001b[0m\u001b[0;34m,\u001b[0m \u001b[0mbuffer\u001b[0m\u001b[0;34m)\u001b[0m\u001b[0;34m\u001b[0m\u001b[0;34m\u001b[0m\u001b[0m\n\u001b[0m\u001b[1;32m    930\u001b[0m             \u001b[0;32melse\u001b[0m\u001b[0;34m:\u001b[0m\u001b[0;34m\u001b[0m\u001b[0;34m\u001b[0m\u001b[0m\n\u001b[1;32m    931\u001b[0m                 \u001b[0;32mreturn\u001b[0m \u001b[0mself\u001b[0m\u001b[0;34m.\u001b[0m\u001b[0m_sslobj\u001b[0m\u001b[0;34m.\u001b[0m\u001b[0mread\u001b[0m\u001b[0;34m(\u001b[0m\u001b[0mlen\u001b[0m\u001b[0;34m)\u001b[0m\u001b[0;34m\u001b[0m\u001b[0;34m\u001b[0m\u001b[0m\n",
      "\u001b[0;31mKeyboardInterrupt\u001b[0m: "
     ]
    }
   ],
   "source": [
    "tickers = yf.Tickers(' '.join(list_to_be_downloaded))\n",
    "\n",
    "sectors = []\n",
    "market_caps = []\n",
    "probs = []\n",
    "ticker_lst = []\n",
    "for t in tqdm(list_to_be_downloaded):\n",
    "    print(\"-----------------\")\n",
    "    print(t)\n",
    "    try:\n",
    "        info_ = getattr(tickers.tickers, t).info\n",
    "        print(\"info assigned\")\n",
    "        sector = info_['sector']\n",
    "        print(\"sector assigned\")\n",
    "        market_cap = info_['marketCap']\n",
    "        print(\"mkt cap assigned\")\n",
    "        sectors.append(sector)\n",
    "        print(\"sector appended\")\n",
    "        market_caps.append(market_cap)\n",
    "        print(\"mkt cap appended\")\n",
    "        ticker_lst.append(t)\n",
    "        print(\"ticker list appended\")\n",
    "    except (AttributeError, IndexError, ValueError, Exception) as e:\n",
    "        probs.append((t, e))\n",
    "        continue"
   ]
  },
  {
   "cell_type": "code",
   "execution_count": null,
   "metadata": {},
   "outputs": [],
   "source": [
    "\"/Users/miaoyuesun/Code_Workspace/brad_public_workspace_mac/quant_research/sp500_tickers_updates\""
   ]
  },
  {
   "cell_type": "code",
   "execution_count": null,
   "metadata": {},
   "outputs": [],
   "source": [
    "info_ = getattr(tickers.tickers, 'PEAK').info"
   ]
  },
  {
   "cell_type": "code",
   "execution_count": null,
   "metadata": {},
   "outputs": [],
   "source": []
  },
  {
   "cell_type": "code",
   "execution_count": 15,
   "metadata": {},
   "outputs": [],
   "source": []
  },
  {
   "cell_type": "code",
   "execution_count": 5,
   "metadata": {},
   "outputs": [],
   "source": [
    "dfs = []\n",
    "unique_sectors = info_df['SECTOR'].unique().tolist()\n",
    "for sector in unique_sectors:\n",
    "    sector_df = info_df.loc[info_df['SECTOR'] == sector, :].copy()\n",
    "    sector_df = sector_df.sort_values(by=\"MARKET_CAPS\")[-1:-6:-1]\n",
    "    dfs.append(sector_df)\n",
    "\n",
    "top5_df = pd.concat(dfs)\n",
    "top5_df.to_csv(\"top5_df.csv\", index=None)    "
   ]
  },
  {
   "cell_type": "code",
   "execution_count": 6,
   "metadata": {},
   "outputs": [
    {
     "data": {
      "text/html": [
       "<div>\n",
       "<style scoped>\n",
       "    .dataframe tbody tr th:only-of-type {\n",
       "        vertical-align: middle;\n",
       "    }\n",
       "\n",
       "    .dataframe tbody tr th {\n",
       "        vertical-align: top;\n",
       "    }\n",
       "\n",
       "    .dataframe thead th {\n",
       "        text-align: right;\n",
       "    }\n",
       "</style>\n",
       "<table border=\"1\" class=\"dataframe\">\n",
       "  <thead>\n",
       "    <tr style=\"text-align: right;\">\n",
       "      <th></th>\n",
       "      <th>TICKER</th>\n",
       "      <th>SECTOR</th>\n",
       "      <th>MARKET_CAPS</th>\n",
       "    </tr>\n",
       "  </thead>\n",
       "  <tbody>\n",
       "    <tr>\n",
       "      <th>0</th>\n",
       "      <td>AAPL</td>\n",
       "      <td>Technology</td>\n",
       "      <td>2127040479232</td>\n",
       "    </tr>\n",
       "    <tr>\n",
       "      <th>1</th>\n",
       "      <td>MSFT</td>\n",
       "      <td>Technology</td>\n",
       "      <td>1612060819456</td>\n",
       "    </tr>\n",
       "    <tr>\n",
       "      <th>10</th>\n",
       "      <td>NVDA</td>\n",
       "      <td>Technology</td>\n",
       "      <td>312014110720</td>\n",
       "    </tr>\n",
       "    <tr>\n",
       "      <th>14</th>\n",
       "      <td>ADBE</td>\n",
       "      <td>Technology</td>\n",
       "      <td>226987065344</td>\n",
       "    </tr>\n",
       "    <tr>\n",
       "      <th>18</th>\n",
       "      <td>INTC</td>\n",
       "      <td>Technology</td>\n",
       "      <td>209587830784</td>\n",
       "    </tr>\n",
       "    <tr>\n",
       "      <th>2</th>\n",
       "      <td>AMZN</td>\n",
       "      <td>Consumer Cyclical</td>\n",
       "      <td>1645283377152</td>\n",
       "    </tr>\n",
       "    <tr>\n",
       "      <th>9</th>\n",
       "      <td>HD</td>\n",
       "      <td>Consumer Cyclical</td>\n",
       "      <td>304619552768</td>\n",
       "    </tr>\n",
       "    <tr>\n",
       "      <th>30</th>\n",
       "      <td>NKE</td>\n",
       "      <td>Consumer Cyclical</td>\n",
       "      <td>171197939712</td>\n",
       "    </tr>\n",
       "    <tr>\n",
       "      <th>27</th>\n",
       "      <td>MCD</td>\n",
       "      <td>Consumer Cyclical</td>\n",
       "      <td>157429874688</td>\n",
       "    </tr>\n",
       "    <tr>\n",
       "      <th>38</th>\n",
       "      <td>LOW</td>\n",
       "      <td>Consumer Cyclical</td>\n",
       "      <td>122260324352</td>\n",
       "    </tr>\n",
       "  </tbody>\n",
       "</table>\n",
       "</div>"
      ],
      "text/plain": [
       "   TICKER             SECTOR    MARKET_CAPS\n",
       "0    AAPL         Technology  2127040479232\n",
       "1    MSFT         Technology  1612060819456\n",
       "10   NVDA         Technology   312014110720\n",
       "14   ADBE         Technology   226987065344\n",
       "18   INTC         Technology   209587830784\n",
       "2    AMZN  Consumer Cyclical  1645283377152\n",
       "9      HD  Consumer Cyclical   304619552768\n",
       "30    NKE  Consumer Cyclical   171197939712\n",
       "27    MCD  Consumer Cyclical   157429874688\n",
       "38    LOW  Consumer Cyclical   122260324352"
      ]
     },
     "execution_count": 6,
     "metadata": {},
     "output_type": "execute_result"
    }
   ],
   "source": [
    "top5_df.head(10)"
   ]
  },
  {
   "cell_type": "code",
   "execution_count": 7,
   "metadata": {},
   "outputs": [],
   "source": [
    "top5_tickers = top5_df['TICKER'].tolist()"
   ]
  },
  {
   "cell_type": "code",
   "execution_count": 8,
   "metadata": {},
   "outputs": [
    {
     "name": "stdout",
     "output_type": "stream",
     "text": [
      "[*********************100%***********************]  55 of 55 completed\n",
      "\n",
      "4 Failed downloads:\n",
      "- NFLX: No data found, symbol may be delisted\n",
      "- BLK: No data found, symbol may be delisted\n",
      "- RTX: No data found, symbol may be delisted\n",
      "- PG: No data found, symbol may be delisted\n"
     ]
    }
   ],
   "source": [
    "data = yf.download(tickers = top5_tickers, period = \"3mo\", interval = \"1wk\", # '1d'\n",
    "                   group_by = 'ticker', auto_adjust = True, prepost = False, threads = True, proxy = None)"
   ]
  },
  {
   "cell_type": "code",
   "execution_count": 9,
   "metadata": {},
   "outputs": [],
   "source": [
    "data.to_pickle(\"sector_top5_data.pkl\")"
   ]
  },
  {
   "cell_type": "code",
   "execution_count": 10,
   "metadata": {},
   "outputs": [],
   "source": [
    "data = pd.read_pickle(\"sector_top5_data.pkl\")"
   ]
  },
  {
   "cell_type": "code",
   "execution_count": 11,
   "metadata": {},
   "outputs": [
    {
     "data": {
      "text/html": [
       "<div>\n",
       "<style scoped>\n",
       "    .dataframe tbody tr th:only-of-type {\n",
       "        vertical-align: middle;\n",
       "    }\n",
       "\n",
       "    .dataframe tbody tr th {\n",
       "        vertical-align: top;\n",
       "    }\n",
       "\n",
       "    .dataframe thead tr th {\n",
       "        text-align: left;\n",
       "    }\n",
       "\n",
       "    .dataframe thead tr:last-of-type th {\n",
       "        text-align: right;\n",
       "    }\n",
       "</style>\n",
       "<table border=\"1\" class=\"dataframe\">\n",
       "  <thead>\n",
       "    <tr>\n",
       "      <th></th>\n",
       "      <th colspan=\"5\" halign=\"left\">AEP</th>\n",
       "      <th colspan=\"5\" halign=\"left\">DLR</th>\n",
       "      <th>...</th>\n",
       "      <th colspan=\"5\" halign=\"left\">COST</th>\n",
       "      <th colspan=\"5\" halign=\"left\">HD</th>\n",
       "    </tr>\n",
       "    <tr>\n",
       "      <th></th>\n",
       "      <th>Open</th>\n",
       "      <th>High</th>\n",
       "      <th>Low</th>\n",
       "      <th>Close</th>\n",
       "      <th>Volume</th>\n",
       "      <th>Open</th>\n",
       "      <th>High</th>\n",
       "      <th>Low</th>\n",
       "      <th>Close</th>\n",
       "      <th>Volume</th>\n",
       "      <th>...</th>\n",
       "      <th>Open</th>\n",
       "      <th>High</th>\n",
       "      <th>Low</th>\n",
       "      <th>Close</th>\n",
       "      <th>Volume</th>\n",
       "      <th>Open</th>\n",
       "      <th>High</th>\n",
       "      <th>Low</th>\n",
       "      <th>Close</th>\n",
       "      <th>Volume</th>\n",
       "    </tr>\n",
       "    <tr>\n",
       "      <th>Date</th>\n",
       "      <th></th>\n",
       "      <th></th>\n",
       "      <th></th>\n",
       "      <th></th>\n",
       "      <th></th>\n",
       "      <th></th>\n",
       "      <th></th>\n",
       "      <th></th>\n",
       "      <th></th>\n",
       "      <th></th>\n",
       "      <th></th>\n",
       "      <th></th>\n",
       "      <th></th>\n",
       "      <th></th>\n",
       "      <th></th>\n",
       "      <th></th>\n",
       "      <th></th>\n",
       "      <th></th>\n",
       "      <th></th>\n",
       "      <th></th>\n",
       "      <th></th>\n",
       "    </tr>\n",
       "  </thead>\n",
       "  <tbody>\n",
       "    <tr>\n",
       "      <th>2020-05-18</th>\n",
       "      <td>NaN</td>\n",
       "      <td>NaN</td>\n",
       "      <td>NaN</td>\n",
       "      <td>NaN</td>\n",
       "      <td>NaN</td>\n",
       "      <td>130.737469</td>\n",
       "      <td>134.723856</td>\n",
       "      <td>128.734372</td>\n",
       "      <td>134.674271</td>\n",
       "      <td>3404800.0</td>\n",
       "      <td>...</td>\n",
       "      <td>NaN</td>\n",
       "      <td>NaN</td>\n",
       "      <td>NaN</td>\n",
       "      <td>NaN</td>\n",
       "      <td>NaN</td>\n",
       "      <td>236.209566</td>\n",
       "      <td>240.901551</td>\n",
       "      <td>234.390427</td>\n",
       "      <td>240.444290</td>\n",
       "      <td>7814500.0</td>\n",
       "    </tr>\n",
       "    <tr>\n",
       "      <th>2020-05-21</th>\n",
       "      <td>NaN</td>\n",
       "      <td>NaN</td>\n",
       "      <td>NaN</td>\n",
       "      <td>NaN</td>\n",
       "      <td>NaN</td>\n",
       "      <td>NaN</td>\n",
       "      <td>NaN</td>\n",
       "      <td>NaN</td>\n",
       "      <td>NaN</td>\n",
       "      <td>NaN</td>\n",
       "      <td>...</td>\n",
       "      <td>NaN</td>\n",
       "      <td>NaN</td>\n",
       "      <td>NaN</td>\n",
       "      <td>NaN</td>\n",
       "      <td>NaN</td>\n",
       "      <td>NaN</td>\n",
       "      <td>NaN</td>\n",
       "      <td>NaN</td>\n",
       "      <td>NaN</td>\n",
       "      <td>NaN</td>\n",
       "    </tr>\n",
       "    <tr>\n",
       "      <th>2020-05-25</th>\n",
       "      <td>78.848135</td>\n",
       "      <td>85.146066</td>\n",
       "      <td>78.659690</td>\n",
       "      <td>84.550987</td>\n",
       "      <td>13697200.0</td>\n",
       "      <td>138.254088</td>\n",
       "      <td>144.987315</td>\n",
       "      <td>133.662802</td>\n",
       "      <td>142.359467</td>\n",
       "      <td>8122200.0</td>\n",
       "      <td>...</td>\n",
       "      <td>305.353211</td>\n",
       "      <td>310.332491</td>\n",
       "      <td>298.827239</td>\n",
       "      <td>307.807922</td>\n",
       "      <td>15503500.0</td>\n",
       "      <td>246.677053</td>\n",
       "      <td>250.732838</td>\n",
       "      <td>239.350804</td>\n",
       "      <td>247.005096</td>\n",
       "      <td>19802100.0</td>\n",
       "    </tr>\n",
       "    <tr>\n",
       "      <th>2020-06-01</th>\n",
       "      <td>84.382379</td>\n",
       "      <td>87.238761</td>\n",
       "      <td>82.696313</td>\n",
       "      <td>84.808853</td>\n",
       "      <td>10175400.0</td>\n",
       "      <td>142.746196</td>\n",
       "      <td>143.727922</td>\n",
       "      <td>132.899244</td>\n",
       "      <td>140.098526</td>\n",
       "      <td>11562000.0</td>\n",
       "      <td>...</td>\n",
       "      <td>307.239141</td>\n",
       "      <td>314.673163</td>\n",
       "      <td>304.065974</td>\n",
       "      <td>311.370270</td>\n",
       "      <td>15918000.0</td>\n",
       "      <td>247.929590</td>\n",
       "      <td>254.331367</td>\n",
       "      <td>244.410594</td>\n",
       "      <td>253.386993</td>\n",
       "      <td>23160600.0</td>\n",
       "    </tr>\n",
       "    <tr>\n",
       "      <th>2020-06-08</th>\n",
       "      <td>84.729513</td>\n",
       "      <td>87.397459</td>\n",
       "      <td>79.958955</td>\n",
       "      <td>81.129280</td>\n",
       "      <td>12580400.0</td>\n",
       "      <td>140.237359</td>\n",
       "      <td>142.290056</td>\n",
       "      <td>131.699360</td>\n",
       "      <td>134.862686</td>\n",
       "      <td>11592100.0</td>\n",
       "      <td>...</td>\n",
       "      <td>309.993220</td>\n",
       "      <td>310.621873</td>\n",
       "      <td>295.614145</td>\n",
       "      <td>298.058899</td>\n",
       "      <td>17096100.0</td>\n",
       "      <td>252.490005</td>\n",
       "      <td>259.290009</td>\n",
       "      <td>237.050003</td>\n",
       "      <td>242.449997</td>\n",
       "      <td>22918800.0</td>\n",
       "    </tr>\n",
       "  </tbody>\n",
       "</table>\n",
       "<p>5 rows × 283 columns</p>\n",
       "</div>"
      ],
      "text/plain": [
       "                  AEP                                               \\\n",
       "                 Open       High        Low      Close      Volume   \n",
       "Date                                                                 \n",
       "2020-05-18        NaN        NaN        NaN        NaN         NaN   \n",
       "2020-05-21        NaN        NaN        NaN        NaN         NaN   \n",
       "2020-05-25  78.848135  85.146066  78.659690  84.550987  13697200.0   \n",
       "2020-06-01  84.382379  87.238761  82.696313  84.808853  10175400.0   \n",
       "2020-06-08  84.729513  87.397459  79.958955  81.129280  12580400.0   \n",
       "\n",
       "                   DLR                                                  ...  \\\n",
       "                  Open        High         Low       Close      Volume  ...   \n",
       "Date                                                                    ...   \n",
       "2020-05-18  130.737469  134.723856  128.734372  134.674271   3404800.0  ...   \n",
       "2020-05-21         NaN         NaN         NaN         NaN         NaN  ...   \n",
       "2020-05-25  138.254088  144.987315  133.662802  142.359467   8122200.0  ...   \n",
       "2020-06-01  142.746196  143.727922  132.899244  140.098526  11562000.0  ...   \n",
       "2020-06-08  140.237359  142.290056  131.699360  134.862686  11592100.0  ...   \n",
       "\n",
       "                  COST                                                  \\\n",
       "                  Open        High         Low       Close      Volume   \n",
       "Date                                                                     \n",
       "2020-05-18         NaN         NaN         NaN         NaN         NaN   \n",
       "2020-05-21         NaN         NaN         NaN         NaN         NaN   \n",
       "2020-05-25  305.353211  310.332491  298.827239  307.807922  15503500.0   \n",
       "2020-06-01  307.239141  314.673163  304.065974  311.370270  15918000.0   \n",
       "2020-06-08  309.993220  310.621873  295.614145  298.058899  17096100.0   \n",
       "\n",
       "                    HD                                                  \n",
       "                  Open        High         Low       Close      Volume  \n",
       "Date                                                                    \n",
       "2020-05-18  236.209566  240.901551  234.390427  240.444290   7814500.0  \n",
       "2020-05-21         NaN         NaN         NaN         NaN         NaN  \n",
       "2020-05-25  246.677053  250.732838  239.350804  247.005096  19802100.0  \n",
       "2020-06-01  247.929590  254.331367  244.410594  253.386993  23160600.0  \n",
       "2020-06-08  252.490005  259.290009  237.050003  242.449997  22918800.0  \n",
       "\n",
       "[5 rows x 283 columns]"
      ]
     },
     "execution_count": 11,
     "metadata": {},
     "output_type": "execute_result"
    }
   ],
   "source": [
    "data.head()"
   ]
  },
  {
   "cell_type": "code",
   "execution_count": null,
   "metadata": {},
   "outputs": [],
   "source": []
  }
 ],
 "metadata": {
  "kernelspec": {
   "display_name": "Python 3",
   "language": "python",
   "name": "python3"
  },
  "language_info": {
   "codemirror_mode": {
    "name": "ipython",
    "version": 3
   },
   "file_extension": ".py",
   "mimetype": "text/x-python",
   "name": "python",
   "nbconvert_exporter": "python",
   "pygments_lexer": "ipython3",
   "version": "3.7.7"
  }
 },
 "nbformat": 4,
 "nbformat_minor": 4
}
