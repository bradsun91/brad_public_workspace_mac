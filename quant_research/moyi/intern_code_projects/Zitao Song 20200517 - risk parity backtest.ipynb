{
 "cells": [
  {
   "cell_type": "code",
   "execution_count": 1,
   "metadata": {},
   "outputs": [
    {
     "name": "stderr",
     "output_type": "stream",
     "text": [
      "/Users/miaoyuesun/anaconda3/envs/py36/lib/python3.6/site-packages/pandas_datareader/compat/__init__.py:7: FutureWarning: pandas.util.testing is deprecated. Use the functions in the public API at pandas.testing instead.\n",
      "  from pandas.util.testing import assert_frame_equal\n"
     ]
    }
   ],
   "source": [
    "from __future__ import division\n",
    "import pandas_datareader as web\n",
    "import numpy as np\n",
    "from scipy.optimize import minimize\n",
    "import matplotlib.pyplot as plt"
   ]
  },
  {
   "cell_type": "code",
   "execution_count": 2,
   "metadata": {},
   "outputs": [],
   "source": [
    "def return_daily_data(year):\n",
    "    symbols = ['SPY', 'TLT', 'DBC', 'SHY', 'GLD']\n",
    "    price_data = web.get_data_yahoo(symbols, start=str(year) + '-01-01', end=str(year) + '-12-31')\n",
    "    price_data = price_data['Adj Close']\n",
    "    price_data = price_data.pct_change()[1:]\n",
    "    return price_data"
   ]
  },
  {
   "cell_type": "code",
   "execution_count": 3,
   "metadata": {},
   "outputs": [],
   "source": [
    "data_sample = return_daily_data(2010)"
   ]
  },
  {
   "cell_type": "code",
   "execution_count": null,
   "metadata": {},
   "outputs": [],
   "source": []
  },
  {
   "cell_type": "code",
   "execution_count": null,
   "metadata": {},
   "outputs": [],
   "source": [
    "def cov_matrix(year):\n",
    "    symbols = ['SPY', 'TLT', 'DBC', 'SHY', 'GLD']\n",
    "    price_data = web.get_data_yahoo(symbols, start=str(year)+'-01-01', end=str(year)+'-12-31')\n",
    "    price_data = price_data['Adj Close']\n",
    "    price_data = price_data.pct_change()[1:]\n",
    "    price_data = np.array([price_data['SPY'], price_data['TLT'], price_data['DBC'], price_data['SHY'], price_data['GLD']])\n",
    "    cov_matrix_year = np.cov(price_data)\n",
    "    return cov_matrix_year"
   ]
  },
  {
   "cell_type": "code",
   "execution_count": null,
   "metadata": {},
   "outputs": [],
   "source": [
    "def calculate_portfolio_var(w,V):\n",
    "    w = np.matrix(w)\n",
    "    return (w*V*w.T)[0,0]"
   ]
  },
  {
   "cell_type": "code",
   "execution_count": null,
   "metadata": {},
   "outputs": [],
   "source": [
    "def calculate_risk_contribution(w,V):\n",
    "    w = np.matrix(w)\n",
    "    sigma = np.sqrt(calculate_portfolio_var(w,V))\n",
    "    MRC = V*w.T\n",
    "    RC = np.multiply(MRC,w.T)/sigma\n",
    "    return RC"
   ]
  },
  {
   "cell_type": "code",
   "execution_count": null,
   "metadata": {},
   "outputs": [],
   "source": [
    "def risk_budget_objective(x,pars):\n",
    "    V = pars[0]\n",
    "    x_t = pars[1]\n",
    "    sig_p =  np.sqrt(calculate_portfolio_var(x,V))\n",
    "    risk_target = np.asmatrix(np.multiply(sig_p,x_t))\n",
    "    asset_RC = calculate_risk_contribution(x,V)\n",
    "    J = sum(np.square(asset_RC-risk_target.T))[0,0]\n",
    "    return J"
   ]
  },
  {
   "cell_type": "code",
   "execution_count": null,
   "metadata": {},
   "outputs": [],
   "source": [
    "def total_weight_constraint(x):\n",
    "    return np.sum(x)-1.0"
   ]
  },
  {
   "cell_type": "code",
   "execution_count": null,
   "metadata": {},
   "outputs": [],
   "source": [
    "def long_only_constraint(x):\n",
    "    return x"
   ]
  },
  {
   "cell_type": "code",
   "execution_count": null,
   "metadata": {},
   "outputs": [],
   "source": [
    "def risk_parity_weights(year):\n",
    "    w0 = [1/5]*5\n",
    "    x_t = [1/5]*5\n",
    "    V = cov_matrix(year)\n",
    "    cons = ({'type': 'eq', 'fun': total_weight_constraint},\n",
    "            {'type': 'ineq', 'fun': long_only_constraint})\n",
    "    res= minimize(risk_budget_objective, w0, args=[V,x_t], method='SLSQP',constraints=cons, options={'disp': True, 'ftol':1e-12})\n",
    "    weight = list(res.x)\n",
    "    a = np.asmatrix(res.x)\n",
    "    return weight"
   ]
  },
  {
   "cell_type": "code",
   "execution_count": null,
   "metadata": {},
   "outputs": [],
   "source": [
    "for i in range(2007, 2021):\n",
    "    if i<=2007:\n",
    "        base_fund = 10000\n",
    "    else:\n",
    "        base_fund = total_return[-1]\n",
    "    total_return = ((((risk_parity_weights(i)*return_daily_data(i)).sum(axis=1))+1).cumprod())*base_fund\n",
    "    plt.plot(total_return)\n",
    "    plt.xlabel('Date')\n",
    "    plt.ylabel('Returns')\n",
    "    plt.title('Risk Parity Backtest')\n",
    "    price_data1 = web.get_data_yahoo('SPY', start='2006-02-06', end='2020-05-07')\n",
    "    price_data1 = price_data1['Adj Close']\n",
    "    returns_data1 = price_data1.pct_change()[1:]\n",
    "    cumulative_returns1 = (returns_data1+1).cumprod()\n",
    "    base_fund = 10000\n",
    "    returns1 = (cumulative_returns1 * base_fund)\n",
    "    plt.plot(returns1)"
   ]
  },
  {
   "cell_type": "code",
   "execution_count": null,
   "metadata": {},
   "outputs": [],
   "source": []
  }
 ],
 "metadata": {
  "kernelspec": {
   "display_name": "Python 3",
   "language": "python",
   "name": "python3"
  },
  "language_info": {
   "codemirror_mode": {
    "name": "ipython",
    "version": 3
   },
   "file_extension": ".py",
   "mimetype": "text/x-python",
   "name": "python",
   "nbconvert_exporter": "python",
   "pygments_lexer": "ipython3",
   "version": "3.6.10"
  }
 },
 "nbformat": 4,
 "nbformat_minor": 4
}
