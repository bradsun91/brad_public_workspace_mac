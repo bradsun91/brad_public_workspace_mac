{
 "cells": [
  {
   "cell_type": "markdown",
   "metadata": {},
   "source": [
    "问题一：数据缺失导致可供分析的股票数减少\n",
    "根据逐个数据提取的结果，绝大部分数据缺失的公司数在200个以下（小于5%），但每日指标pe_ttm缺失的公司数将近1000。如果用pe代替，缺失公司数仍在600以上。利息倍数ebit_to_interest缺失的公司数超过1000，若用ebit和interest expense代替，则几乎没有数据缺失，但会增加半小时到一小时的运行时间。以下为数据提取代码："
   ]
  },
  {
   "cell_type": "code",
   "execution_count": 1,
   "metadata": {},
   "outputs": [
    {
     "name": "stderr",
     "output_type": "stream",
     "text": [
      "/Users/miaoyuesun/anaconda3/envs/py36/lib/python3.6/site-packages/pandas_datareader/compat/__init__.py:7: FutureWarning: pandas.util.testing is deprecated. Use the functions in the public API at pandas.testing instead.\n",
      "  from pandas.util.testing import assert_frame_equal\n"
     ]
    }
   ],
   "source": [
    "import time\n",
    "import tushare as ts\n",
    "import datetime\n",
    "from datetime import date\n",
    "from datetime import timedelta \n",
    "import numpy as np\n",
    "import pandas as pd\n",
    "from scipy import stats\n",
    "import numpy_financial as npf\n",
    "import pandas_datareader.data as web\n",
    "\n",
    "ts.set_token('41cbc98ddd6c55a141cf281d0636c4ef25c13ff69e38bc400f3f4ebd')\n",
    "pro = ts.pro_api()"
   ]
  },
  {
   "cell_type": "code",
   "execution_count": 2,
   "metadata": {},
   "outputs": [
    {
     "ename": "NameError",
     "evalue": "name 'tscode' is not defined",
     "output_type": "error",
     "traceback": [
      "\u001b[0;31m---------------------------------------------------------------------------\u001b[0m",
      "\u001b[0;31mNameError\u001b[0m                                 Traceback (most recent call last)",
      "\u001b[0;32m<ipython-input-2-3ebff037ed55>\u001b[0m in \u001b[0;36m<module>\u001b[0;34m\u001b[0m\n\u001b[1;32m      1\u001b[0m \u001b[0;31m# pe_ttm\u001b[0m\u001b[0;34m\u001b[0m\u001b[0;34m\u001b[0m\u001b[0;34m\u001b[0m\u001b[0m\n\u001b[0;32m----> 2\u001b[0;31m \u001b[0mdf_daily\u001b[0m \u001b[0;34m=\u001b[0m \u001b[0mpro\u001b[0m\u001b[0;34m.\u001b[0m\u001b[0mdaily_basic\u001b[0m\u001b[0;34m(\u001b[0m\u001b[0mts_code\u001b[0m\u001b[0;34m=\u001b[0m\u001b[0mtscode\u001b[0m\u001b[0;34m,\u001b[0m \u001b[0mtrade_date\u001b[0m\u001b[0;34m=\u001b[0m\u001b[0mend_date\u001b[0m\u001b[0;34m,\u001b[0m \u001b[0mfields\u001b[0m\u001b[0;34m=\u001b[0m\u001b[0;34m'ts_code,trade_date,pe_ttm'\u001b[0m\u001b[0;34m)\u001b[0m \u001b[0;31m# len = 3153\u001b[0m\u001b[0;34m\u001b[0m\u001b[0;34m\u001b[0m\u001b[0m\n\u001b[0m\u001b[1;32m      3\u001b[0m \u001b[0;31m# pe\u001b[0m\u001b[0;34m\u001b[0m\u001b[0;34m\u001b[0m\u001b[0;34m\u001b[0m\u001b[0m\n\u001b[1;32m      4\u001b[0m \u001b[0mdf_daily\u001b[0m \u001b[0;34m=\u001b[0m \u001b[0mpro\u001b[0m\u001b[0;34m.\u001b[0m\u001b[0mdaily_basic\u001b[0m\u001b[0;34m(\u001b[0m\u001b[0mts_code\u001b[0m\u001b[0;34m=\u001b[0m\u001b[0mtscode\u001b[0m\u001b[0;34m,\u001b[0m \u001b[0mtrade_date\u001b[0m\u001b[0;34m=\u001b[0m\u001b[0mend_date\u001b[0m\u001b[0;34m,\u001b[0m \u001b[0mfields\u001b[0m\u001b[0;34m=\u001b[0m\u001b[0;34m'ts_code,trade_date,pe'\u001b[0m\u001b[0;34m)\u001b[0m \u001b[0;31m# len = 3360\u001b[0m\u001b[0;34m\u001b[0m\u001b[0;34m\u001b[0m\u001b[0m\n\u001b[1;32m      5\u001b[0m \u001b[0;31m# ebit_to_interest\u001b[0m\u001b[0;34m\u001b[0m\u001b[0;34m\u001b[0m\u001b[0;34m\u001b[0m\u001b[0m\n",
      "\u001b[0;31mNameError\u001b[0m: name 'tscode' is not defined"
     ]
    }
   ],
   "source": [
    "# pe_ttm\n",
    "df_daily = pro.daily_basic(ts_code=tscode, trade_date=end_date, fields='ts_code,trade_date,pe_ttm') # len = 3153\n",
    "# pe\n",
    "df_daily = pro.daily_basic(ts_code=tscode, trade_date=end_date, fields='ts_code,trade_date,pe') # len = 3360\n",
    "# ebit_to_interest\n",
    "df_indicator = pro.fina_indicator(ts_code=tscode, period=end_date, fields='ts_code,end_date,ebit_to_interest') # len = 2669\n",
    "# ebit and interest expense\n",
    "df_income = pro.income(ts_code=tscode, period=end_date, fields='ts_code,end_date,ebit,int_exp') # len = 4023"
   ]
  },
  {
   "cell_type": "markdown",
   "metadata": {},
   "source": [
    "同时从各个数据缺失情况来看，报表中的原始数据通常比计算得出的指标数据更完整"
   ]
  },
  {
   "cell_type": "markdown",
   "metadata": {},
   "source": [
    "问题二：部分数据与合理值相差较大\n",
    "自由现金流free_cashflow：以茅台为例，根据大部分网站提供的数据，茅台自由现金流应在300亿到400亿，与Tushare数据相差较远。"
   ]
  },
  {
   "cell_type": "code",
   "execution_count": 23,
   "metadata": {},
   "outputs": [
    {
     "data": {
      "text/html": [
       "<div>\n",
       "<style scoped>\n",
       "    .dataframe tbody tr th:only-of-type {\n",
       "        vertical-align: middle;\n",
       "    }\n",
       "\n",
       "    .dataframe tbody tr th {\n",
       "        vertical-align: top;\n",
       "    }\n",
       "\n",
       "    .dataframe thead th {\n",
       "        text-align: right;\n",
       "    }\n",
       "</style>\n",
       "<table border=\"1\" class=\"dataframe\">\n",
       "  <thead>\n",
       "    <tr style=\"text-align: right;\">\n",
       "      <th></th>\n",
       "      <th>ts_code</th>\n",
       "      <th>end_date</th>\n",
       "      <th>free_cashflow</th>\n",
       "    </tr>\n",
       "  </thead>\n",
       "  <tbody>\n",
       "    <tr>\n",
       "      <th>0</th>\n",
       "      <td>600519.SH</td>\n",
       "      <td>20200630</td>\n",
       "      <td>3.859139e+10</td>\n",
       "    </tr>\n",
       "    <tr>\n",
       "      <th>1</th>\n",
       "      <td>600519.SH</td>\n",
       "      <td>20200331</td>\n",
       "      <td>5.761472e+09</td>\n",
       "    </tr>\n",
       "    <tr>\n",
       "      <th>2</th>\n",
       "      <td>600519.SH</td>\n",
       "      <td>20191231</td>\n",
       "      <td>-7.905213e+10</td>\n",
       "    </tr>\n",
       "    <tr>\n",
       "      <th>3</th>\n",
       "      <td>600519.SH</td>\n",
       "      <td>20190930</td>\n",
       "      <td>1.835904e+10</td>\n",
       "    </tr>\n",
       "    <tr>\n",
       "      <th>4</th>\n",
       "      <td>600519.SH</td>\n",
       "      <td>20190630</td>\n",
       "      <td>2.257577e+10</td>\n",
       "    </tr>\n",
       "    <tr>\n",
       "      <th>...</th>\n",
       "      <td>...</td>\n",
       "      <td>...</td>\n",
       "      <td>...</td>\n",
       "    </tr>\n",
       "    <tr>\n",
       "      <th>71</th>\n",
       "      <td>600519.SH</td>\n",
       "      <td>20021231</td>\n",
       "      <td>-6.203647e+07</td>\n",
       "    </tr>\n",
       "    <tr>\n",
       "      <th>72</th>\n",
       "      <td>600519.SH</td>\n",
       "      <td>20020630</td>\n",
       "      <td>-1.021527e+08</td>\n",
       "    </tr>\n",
       "    <tr>\n",
       "      <th>73</th>\n",
       "      <td>600519.SH</td>\n",
       "      <td>20011231</td>\n",
       "      <td>-1.675967e+09</td>\n",
       "    </tr>\n",
       "    <tr>\n",
       "      <th>74</th>\n",
       "      <td>600519.SH</td>\n",
       "      <td>20010630</td>\n",
       "      <td>NaN</td>\n",
       "    </tr>\n",
       "    <tr>\n",
       "      <th>75</th>\n",
       "      <td>600519.SH</td>\n",
       "      <td>20001231</td>\n",
       "      <td>8.438435e+07</td>\n",
       "    </tr>\n",
       "  </tbody>\n",
       "</table>\n",
       "<p>76 rows × 3 columns</p>\n",
       "</div>"
      ],
      "text/plain": [
       "      ts_code  end_date  free_cashflow\n",
       "0   600519.SH  20200630   3.859139e+10\n",
       "1   600519.SH  20200331   5.761472e+09\n",
       "2   600519.SH  20191231  -7.905213e+10\n",
       "3   600519.SH  20190930   1.835904e+10\n",
       "4   600519.SH  20190630   2.257577e+10\n",
       "..        ...       ...            ...\n",
       "71  600519.SH  20021231  -6.203647e+07\n",
       "72  600519.SH  20020630  -1.021527e+08\n",
       "73  600519.SH  20011231  -1.675967e+09\n",
       "74  600519.SH  20010630            NaN\n",
       "75  600519.SH  20001231   8.438435e+07\n",
       "\n",
       "[76 rows x 3 columns]"
      ]
     },
     "execution_count": 23,
     "metadata": {},
     "output_type": "execute_result"
    }
   ],
   "source": [
    "pro.cashflow(ts_code='600519.SH', fields='ts_code,end_date,free_cashflow')"
   ]
  },
  {
   "cell_type": "markdown",
   "metadata": {},
   "source": [
    "问题三：部分数据名称错误\n",
    "例如，interst_income实际为利息费用（利息收入-利息支出）：\n",
    "df_indicator = pro.fina_indicator(ts_code=tscode, period=end_date, fields='ts_code,end_date,interst_income')"
   ]
  },
  {
   "cell_type": "markdown",
   "metadata": {},
   "source": [
    "疑问：每日指标数据在从list转换为dataframe时（dropna()之前）已经缺失了超过100支股票：\n",
    "daily_data_df = pd.concat(daily_data) // len(daily_data) = 4025, len(daily_data_df) = 3828\n",
    "推测可能这些股票不在日线数据库，所以数据提取时存入list的是NoneType，而不仅仅是部分数据缺失。"
   ]
  },
  {
   "cell_type": "markdown",
   "metadata": {},
   "source": [
    "反馈：1.针对分析结果对原来的模型进行了修改，正在最后一遍运行，明天发给您\n",
    "     2.已经通过tushare QQ群问了相关数据问题，正在等待群主回复"
   ]
  }
 ],
 "metadata": {
  "kernelspec": {
   "display_name": "Python 3",
   "language": "python",
   "name": "python3"
  },
  "language_info": {
   "codemirror_mode": {
    "name": "ipython",
    "version": 3
   },
   "file_extension": ".py",
   "mimetype": "text/x-python",
   "name": "python",
   "nbconvert_exporter": "python",
   "pygments_lexer": "ipython3",
   "version": "3.6.10"
  }
 },
 "nbformat": 4,
 "nbformat_minor": 4
}
