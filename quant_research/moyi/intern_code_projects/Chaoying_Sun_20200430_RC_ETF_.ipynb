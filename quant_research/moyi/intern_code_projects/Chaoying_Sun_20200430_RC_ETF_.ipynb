{
 "cells": [
  {
   "cell_type": "code",
   "execution_count": 0,
   "metadata": {
    "colab": {},
    "colab_type": "code",
    "id": "JAoqZoF9rMzn"
   },
   "outputs": [],
   "source": [
    "import pandas as pd"
   ]
  },
  {
   "cell_type": "code",
   "execution_count": 0,
   "metadata": {
    "colab": {},
    "colab_type": "code",
    "id": "-_J1kA7YOU93"
   },
   "outputs": [],
   "source": [
    "import pandas_datareader as pdr"
   ]
  },
  {
   "cell_type": "code",
   "execution_count": 0,
   "metadata": {
    "colab": {},
    "colab_type": "code",
    "id": "XZHWIWaKOVmj"
   },
   "outputs": [],
   "source": [
    "import datetime "
   ]
  },
  {
   "cell_type": "code",
   "execution_count": 0,
   "metadata": {
    "colab": {},
    "colab_type": "code",
    "id": "x4tJPgSiRRxT"
   },
   "outputs": [],
   "source": [
    "import matplotlib.pyplot as plt"
   ]
  },
  {
   "cell_type": "code",
   "execution_count": 0,
   "metadata": {
    "colab": {},
    "colab_type": "code",
    "id": "HGs2iTnrNWVI"
   },
   "outputs": [],
   "source": [
    "# 导入apple公司股票数据\n",
    "aapl = pdr.get_data_yahoo('AAPL', \n",
    "                          start=datetime.datetime(2006, 10, 1), \n",
    "                          end=datetime.datetime(2012, 1, 1))"
   ]
  },
  {
   "cell_type": "code",
   "execution_count": 15,
   "metadata": {
    "colab": {
     "base_uri": "https://localhost:8080/",
     "height": 450
    },
    "colab_type": "code",
    "id": "pC3whBFqOYPW",
    "outputId": "d8116941-975a-41f1-cc96-159f0c73355a"
   },
   "outputs": [
    {
     "data": {
      "text/html": [
       "<div>\n",
       "<style scoped>\n",
       "    .dataframe tbody tr th:only-of-type {\n",
       "        vertical-align: middle;\n",
       "    }\n",
       "\n",
       "    .dataframe tbody tr th {\n",
       "        vertical-align: top;\n",
       "    }\n",
       "\n",
       "    .dataframe thead th {\n",
       "        text-align: right;\n",
       "    }\n",
       "</style>\n",
       "<table border=\"1\" class=\"dataframe\">\n",
       "  <thead>\n",
       "    <tr style=\"text-align: right;\">\n",
       "      <th></th>\n",
       "      <th>High</th>\n",
       "      <th>Low</th>\n",
       "      <th>Open</th>\n",
       "      <th>Close</th>\n",
       "      <th>Volume</th>\n",
       "      <th>Adj Close</th>\n",
       "    </tr>\n",
       "    <tr>\n",
       "      <th>Date</th>\n",
       "      <th></th>\n",
       "      <th></th>\n",
       "      <th></th>\n",
       "      <th></th>\n",
       "      <th></th>\n",
       "      <th></th>\n",
       "    </tr>\n",
       "  </thead>\n",
       "  <tbody>\n",
       "    <tr>\n",
       "      <th>2006-10-02</th>\n",
       "      <td>10.838572</td>\n",
       "      <td>10.614285</td>\n",
       "      <td>10.728572</td>\n",
       "      <td>10.694285</td>\n",
       "      <td>178159800</td>\n",
       "      <td>9.283074</td>\n",
       "    </tr>\n",
       "    <tr>\n",
       "      <th>2006-10-03</th>\n",
       "      <td>10.707143</td>\n",
       "      <td>10.455714</td>\n",
       "      <td>10.635715</td>\n",
       "      <td>10.582857</td>\n",
       "      <td>197677200</td>\n",
       "      <td>9.186352</td>\n",
       "    </tr>\n",
       "    <tr>\n",
       "      <th>2006-10-04</th>\n",
       "      <td>10.780000</td>\n",
       "      <td>10.451428</td>\n",
       "      <td>10.585714</td>\n",
       "      <td>10.768572</td>\n",
       "      <td>207270700</td>\n",
       "      <td>9.347562</td>\n",
       "    </tr>\n",
       "    <tr>\n",
       "      <th>2006-10-05</th>\n",
       "      <td>10.880000</td>\n",
       "      <td>10.590000</td>\n",
       "      <td>10.647142</td>\n",
       "      <td>10.690000</td>\n",
       "      <td>170970800</td>\n",
       "      <td>9.279355</td>\n",
       "    </tr>\n",
       "    <tr>\n",
       "      <th>2006-10-06</th>\n",
       "      <td>10.720000</td>\n",
       "      <td>10.544286</td>\n",
       "      <td>10.631429</td>\n",
       "      <td>10.602858</td>\n",
       "      <td>116739700</td>\n",
       "      <td>9.203714</td>\n",
       "    </tr>\n",
       "    <tr>\n",
       "      <th>...</th>\n",
       "      <td>...</td>\n",
       "      <td>...</td>\n",
       "      <td>...</td>\n",
       "      <td>...</td>\n",
       "      <td>...</td>\n",
       "      <td>...</td>\n",
       "    </tr>\n",
       "    <tr>\n",
       "      <th>2011-12-23</th>\n",
       "      <td>57.655716</td>\n",
       "      <td>57.070000</td>\n",
       "      <td>57.098572</td>\n",
       "      <td>57.618572</td>\n",
       "      <td>67349800</td>\n",
       "      <td>50.015266</td>\n",
       "    </tr>\n",
       "    <tr>\n",
       "      <th>2011-12-27</th>\n",
       "      <td>58.441429</td>\n",
       "      <td>57.574287</td>\n",
       "      <td>57.585712</td>\n",
       "      <td>58.075714</td>\n",
       "      <td>66269000</td>\n",
       "      <td>50.412094</td>\n",
       "    </tr>\n",
       "    <tr>\n",
       "      <th>2011-12-28</th>\n",
       "      <td>58.321430</td>\n",
       "      <td>57.334286</td>\n",
       "      <td>58.127144</td>\n",
       "      <td>57.520000</td>\n",
       "      <td>57165500</td>\n",
       "      <td>49.929707</td>\n",
       "    </tr>\n",
       "    <tr>\n",
       "      <th>2011-12-29</th>\n",
       "      <td>57.950001</td>\n",
       "      <td>57.215714</td>\n",
       "      <td>57.628571</td>\n",
       "      <td>57.874287</td>\n",
       "      <td>53994500</td>\n",
       "      <td>50.237251</td>\n",
       "    </tr>\n",
       "    <tr>\n",
       "      <th>2011-12-30</th>\n",
       "      <td>58.040001</td>\n",
       "      <td>57.641430</td>\n",
       "      <td>57.644287</td>\n",
       "      <td>57.857143</td>\n",
       "      <td>44915500</td>\n",
       "      <td>50.222366</td>\n",
       "    </tr>\n",
       "  </tbody>\n",
       "</table>\n",
       "<p>1323 rows × 6 columns</p>\n",
       "</div>"
      ],
      "text/plain": [
       "                 High        Low       Open      Close     Volume  Adj Close\n",
       "Date                                                                        \n",
       "2006-10-02  10.838572  10.614285  10.728572  10.694285  178159800   9.283074\n",
       "2006-10-03  10.707143  10.455714  10.635715  10.582857  197677200   9.186352\n",
       "2006-10-04  10.780000  10.451428  10.585714  10.768572  207270700   9.347562\n",
       "2006-10-05  10.880000  10.590000  10.647142  10.690000  170970800   9.279355\n",
       "2006-10-06  10.720000  10.544286  10.631429  10.602858  116739700   9.203714\n",
       "...               ...        ...        ...        ...        ...        ...\n",
       "2011-12-23  57.655716  57.070000  57.098572  57.618572   67349800  50.015266\n",
       "2011-12-27  58.441429  57.574287  57.585712  58.075714   66269000  50.412094\n",
       "2011-12-28  58.321430  57.334286  58.127144  57.520000   57165500  49.929707\n",
       "2011-12-29  57.950001  57.215714  57.628571  57.874287   53994500  50.237251\n",
       "2011-12-30  58.040001  57.641430  57.644287  57.857143   44915500  50.222366\n",
       "\n",
       "[1323 rows x 6 columns]"
      ]
     },
     "execution_count": 15,
     "metadata": {
      "tags": []
     },
     "output_type": "execute_result"
    }
   ],
   "source": [
    "aapl"
   ]
  },
  {
   "cell_type": "code",
   "execution_count": 0,
   "metadata": {
    "colab": {},
    "colab_type": "code",
    "id": "TvvD2WPLOZcG"
   },
   "outputs": [],
   "source": [
    "import numpy as np"
   ]
  },
  {
   "cell_type": "code",
   "execution_count": 0,
   "metadata": {
    "colab": {},
    "colab_type": "code",
    "id": "gZa0maLIOgxa"
   },
   "outputs": [],
   "source": [
    "# 将aapl数据框中`Adj Close`列数据赋值给变量`daily_close`\n",
    "daily_close = aapl[['Adj Close']]"
   ]
  },
  {
   "cell_type": "code",
   "execution_count": 18,
   "metadata": {
    "colab": {
     "base_uri": "https://localhost:8080/",
     "height": 450
    },
    "colab_type": "code",
    "id": "DpEQfppMOkB-",
    "outputId": "92acd541-6eff-4034-ac56-d43c96efe17c"
   },
   "outputs": [
    {
     "data": {
      "text/html": [
       "<div>\n",
       "<style scoped>\n",
       "    .dataframe tbody tr th:only-of-type {\n",
       "        vertical-align: middle;\n",
       "    }\n",
       "\n",
       "    .dataframe tbody tr th {\n",
       "        vertical-align: top;\n",
       "    }\n",
       "\n",
       "    .dataframe thead th {\n",
       "        text-align: right;\n",
       "    }\n",
       "</style>\n",
       "<table border=\"1\" class=\"dataframe\">\n",
       "  <thead>\n",
       "    <tr style=\"text-align: right;\">\n",
       "      <th></th>\n",
       "      <th>Adj Close</th>\n",
       "    </tr>\n",
       "    <tr>\n",
       "      <th>Date</th>\n",
       "      <th></th>\n",
       "    </tr>\n",
       "  </thead>\n",
       "  <tbody>\n",
       "    <tr>\n",
       "      <th>2006-10-02</th>\n",
       "      <td>9.283074</td>\n",
       "    </tr>\n",
       "    <tr>\n",
       "      <th>2006-10-03</th>\n",
       "      <td>9.186352</td>\n",
       "    </tr>\n",
       "    <tr>\n",
       "      <th>2006-10-04</th>\n",
       "      <td>9.347562</td>\n",
       "    </tr>\n",
       "    <tr>\n",
       "      <th>2006-10-05</th>\n",
       "      <td>9.279355</td>\n",
       "    </tr>\n",
       "    <tr>\n",
       "      <th>2006-10-06</th>\n",
       "      <td>9.203714</td>\n",
       "    </tr>\n",
       "    <tr>\n",
       "      <th>...</th>\n",
       "      <td>...</td>\n",
       "    </tr>\n",
       "    <tr>\n",
       "      <th>2011-12-23</th>\n",
       "      <td>50.015266</td>\n",
       "    </tr>\n",
       "    <tr>\n",
       "      <th>2011-12-27</th>\n",
       "      <td>50.412094</td>\n",
       "    </tr>\n",
       "    <tr>\n",
       "      <th>2011-12-28</th>\n",
       "      <td>49.929707</td>\n",
       "    </tr>\n",
       "    <tr>\n",
       "      <th>2011-12-29</th>\n",
       "      <td>50.237251</td>\n",
       "    </tr>\n",
       "    <tr>\n",
       "      <th>2011-12-30</th>\n",
       "      <td>50.222366</td>\n",
       "    </tr>\n",
       "  </tbody>\n",
       "</table>\n",
       "<p>1323 rows × 1 columns</p>\n",
       "</div>"
      ],
      "text/plain": [
       "            Adj Close\n",
       "Date                 \n",
       "2006-10-02   9.283074\n",
       "2006-10-03   9.186352\n",
       "2006-10-04   9.347562\n",
       "2006-10-05   9.279355\n",
       "2006-10-06   9.203714\n",
       "...               ...\n",
       "2011-12-23  50.015266\n",
       "2011-12-27  50.412094\n",
       "2011-12-28  49.929707\n",
       "2011-12-29  50.237251\n",
       "2011-12-30  50.222366\n",
       "\n",
       "[1323 rows x 1 columns]"
      ]
     },
     "execution_count": 18,
     "metadata": {
      "tags": []
     },
     "output_type": "execute_result"
    }
   ],
   "source": [
    "daily_close"
   ]
  },
  {
   "cell_type": "code",
   "execution_count": 0,
   "metadata": {
    "colab": {},
    "colab_type": "code",
    "id": "uAFZuhTnOlVw"
   },
   "outputs": [],
   "source": [
    "# 计算每日收益率\n",
    "daily_pct_change = daily_close.pct_change()"
   ]
  },
  {
   "cell_type": "code",
   "execution_count": 20,
   "metadata": {
    "colab": {
     "base_uri": "https://localhost:8080/",
     "height": 450
    },
    "colab_type": "code",
    "id": "b7DIZXVpOojY",
    "outputId": "d68f64ba-bcfe-49bd-96e1-6f632ea0d347"
   },
   "outputs": [
    {
     "data": {
      "text/html": [
       "<div>\n",
       "<style scoped>\n",
       "    .dataframe tbody tr th:only-of-type {\n",
       "        vertical-align: middle;\n",
       "    }\n",
       "\n",
       "    .dataframe tbody tr th {\n",
       "        vertical-align: top;\n",
       "    }\n",
       "\n",
       "    .dataframe thead th {\n",
       "        text-align: right;\n",
       "    }\n",
       "</style>\n",
       "<table border=\"1\" class=\"dataframe\">\n",
       "  <thead>\n",
       "    <tr style=\"text-align: right;\">\n",
       "      <th></th>\n",
       "      <th>Adj Close</th>\n",
       "    </tr>\n",
       "    <tr>\n",
       "      <th>Date</th>\n",
       "      <th></th>\n",
       "    </tr>\n",
       "  </thead>\n",
       "  <tbody>\n",
       "    <tr>\n",
       "      <th>2006-10-02</th>\n",
       "      <td>NaN</td>\n",
       "    </tr>\n",
       "    <tr>\n",
       "      <th>2006-10-03</th>\n",
       "      <td>-0.010419</td>\n",
       "    </tr>\n",
       "    <tr>\n",
       "      <th>2006-10-04</th>\n",
       "      <td>0.017549</td>\n",
       "    </tr>\n",
       "    <tr>\n",
       "      <th>2006-10-05</th>\n",
       "      <td>-0.007297</td>\n",
       "    </tr>\n",
       "    <tr>\n",
       "      <th>2006-10-06</th>\n",
       "      <td>-0.008152</td>\n",
       "    </tr>\n",
       "    <tr>\n",
       "      <th>...</th>\n",
       "      <td>...</td>\n",
       "    </tr>\n",
       "    <tr>\n",
       "      <th>2011-12-23</th>\n",
       "      <td>0.011993</td>\n",
       "    </tr>\n",
       "    <tr>\n",
       "      <th>2011-12-27</th>\n",
       "      <td>0.007934</td>\n",
       "    </tr>\n",
       "    <tr>\n",
       "      <th>2011-12-28</th>\n",
       "      <td>-0.009569</td>\n",
       "    </tr>\n",
       "    <tr>\n",
       "      <th>2011-12-29</th>\n",
       "      <td>0.006160</td>\n",
       "    </tr>\n",
       "    <tr>\n",
       "      <th>2011-12-30</th>\n",
       "      <td>-0.000296</td>\n",
       "    </tr>\n",
       "  </tbody>\n",
       "</table>\n",
       "<p>1323 rows × 1 columns</p>\n",
       "</div>"
      ],
      "text/plain": [
       "            Adj Close\n",
       "Date                 \n",
       "2006-10-02        NaN\n",
       "2006-10-03  -0.010419\n",
       "2006-10-04   0.017549\n",
       "2006-10-05  -0.007297\n",
       "2006-10-06  -0.008152\n",
       "...               ...\n",
       "2011-12-23   0.011993\n",
       "2011-12-27   0.007934\n",
       "2011-12-28  -0.009569\n",
       "2011-12-29   0.006160\n",
       "2011-12-30  -0.000296\n",
       "\n",
       "[1323 rows x 1 columns]"
      ]
     },
     "execution_count": 20,
     "metadata": {
      "tags": []
     },
     "output_type": "execute_result"
    }
   ],
   "source": [
    "daily_pct_change"
   ]
  },
  {
   "cell_type": "code",
   "execution_count": 0,
   "metadata": {
    "colab": {},
    "colab_type": "code",
    "id": "K9hGG0lWOqBo"
   },
   "outputs": [],
   "source": [
    "# 用0填补缺失值NA\n",
    "daily_pct_change.fillna(0, inplace=True)"
   ]
  },
  {
   "cell_type": "code",
   "execution_count": 22,
   "metadata": {
    "colab": {
     "base_uri": "https://localhost:8080/",
     "height": 450
    },
    "colab_type": "code",
    "id": "6VYXnlsAOshs",
    "outputId": "d2cb21a3-1d50-4d0a-9eda-be8cdb639630"
   },
   "outputs": [
    {
     "data": {
      "text/html": [
       "<div>\n",
       "<style scoped>\n",
       "    .dataframe tbody tr th:only-of-type {\n",
       "        vertical-align: middle;\n",
       "    }\n",
       "\n",
       "    .dataframe tbody tr th {\n",
       "        vertical-align: top;\n",
       "    }\n",
       "\n",
       "    .dataframe thead th {\n",
       "        text-align: right;\n",
       "    }\n",
       "</style>\n",
       "<table border=\"1\" class=\"dataframe\">\n",
       "  <thead>\n",
       "    <tr style=\"text-align: right;\">\n",
       "      <th></th>\n",
       "      <th>Adj Close</th>\n",
       "    </tr>\n",
       "    <tr>\n",
       "      <th>Date</th>\n",
       "      <th></th>\n",
       "    </tr>\n",
       "  </thead>\n",
       "  <tbody>\n",
       "    <tr>\n",
       "      <th>2006-10-02</th>\n",
       "      <td>0.000000</td>\n",
       "    </tr>\n",
       "    <tr>\n",
       "      <th>2006-10-03</th>\n",
       "      <td>-0.010419</td>\n",
       "    </tr>\n",
       "    <tr>\n",
       "      <th>2006-10-04</th>\n",
       "      <td>0.017549</td>\n",
       "    </tr>\n",
       "    <tr>\n",
       "      <th>2006-10-05</th>\n",
       "      <td>-0.007297</td>\n",
       "    </tr>\n",
       "    <tr>\n",
       "      <th>2006-10-06</th>\n",
       "      <td>-0.008152</td>\n",
       "    </tr>\n",
       "    <tr>\n",
       "      <th>...</th>\n",
       "      <td>...</td>\n",
       "    </tr>\n",
       "    <tr>\n",
       "      <th>2011-12-23</th>\n",
       "      <td>0.011993</td>\n",
       "    </tr>\n",
       "    <tr>\n",
       "      <th>2011-12-27</th>\n",
       "      <td>0.007934</td>\n",
       "    </tr>\n",
       "    <tr>\n",
       "      <th>2011-12-28</th>\n",
       "      <td>-0.009569</td>\n",
       "    </tr>\n",
       "    <tr>\n",
       "      <th>2011-12-29</th>\n",
       "      <td>0.006160</td>\n",
       "    </tr>\n",
       "    <tr>\n",
       "      <th>2011-12-30</th>\n",
       "      <td>-0.000296</td>\n",
       "    </tr>\n",
       "  </tbody>\n",
       "</table>\n",
       "<p>1323 rows × 1 columns</p>\n",
       "</div>"
      ],
      "text/plain": [
       "            Adj Close\n",
       "Date                 \n",
       "2006-10-02   0.000000\n",
       "2006-10-03  -0.010419\n",
       "2006-10-04   0.017549\n",
       "2006-10-05  -0.007297\n",
       "2006-10-06  -0.008152\n",
       "...               ...\n",
       "2011-12-23   0.011993\n",
       "2011-12-27   0.007934\n",
       "2011-12-28  -0.009569\n",
       "2011-12-29   0.006160\n",
       "2011-12-30  -0.000296\n",
       "\n",
       "[1323 rows x 1 columns]"
      ]
     },
     "execution_count": 22,
     "metadata": {
      "tags": []
     },
     "output_type": "execute_result"
    }
   ],
   "source": [
    "daily_pct_change\n",
    "# 输出每日收益率的前几行\n",
    "# print(daily_pct_change.head())"
   ]
  },
  {
   "cell_type": "code",
   "execution_count": 23,
   "metadata": {
    "colab": {
     "base_uri": "https://localhost:8080/",
     "height": 136
    },
    "colab_type": "code",
    "id": "uEPb9DVPOu5w",
    "outputId": "077c84ea-272b-4da2-c024-15a6afd28c52"
   },
   "outputs": [
    {
     "name": "stdout",
     "output_type": "stream",
     "text": [
      "            Adj Close\n",
      "Date                 \n",
      "2006-10-02   0.000000\n",
      "2006-10-03  -0.010419\n",
      "2006-10-04   0.017549\n",
      "2006-10-05  -0.007297\n",
      "2006-10-06  -0.008152\n"
     ]
    }
   ],
   "source": []
  },
  {
   "cell_type": "code",
   "execution_count": 0,
   "metadata": {
    "colab": {},
    "colab_type": "code",
    "id": "b0D_ubNhOz_j"
   },
   "outputs": [],
   "source": [
    "# 计算每日对数收益率\n",
    "daily_log_returns = np.log(daily_close.pct_change()+1)"
   ]
  },
  {
   "cell_type": "code",
   "execution_count": 25,
   "metadata": {
    "colab": {
     "base_uri": "https://localhost:8080/",
     "height": 450
    },
    "colab_type": "code",
    "id": "EC2yrWZYO29L",
    "outputId": "0cb5f1bb-e852-46c8-85aa-cac127cfdf03"
   },
   "outputs": [
    {
     "data": {
      "text/html": [
       "<div>\n",
       "<style scoped>\n",
       "    .dataframe tbody tr th:only-of-type {\n",
       "        vertical-align: middle;\n",
       "    }\n",
       "\n",
       "    .dataframe tbody tr th {\n",
       "        vertical-align: top;\n",
       "    }\n",
       "\n",
       "    .dataframe thead th {\n",
       "        text-align: right;\n",
       "    }\n",
       "</style>\n",
       "<table border=\"1\" class=\"dataframe\">\n",
       "  <thead>\n",
       "    <tr style=\"text-align: right;\">\n",
       "      <th></th>\n",
       "      <th>Adj Close</th>\n",
       "    </tr>\n",
       "    <tr>\n",
       "      <th>Date</th>\n",
       "      <th></th>\n",
       "    </tr>\n",
       "  </thead>\n",
       "  <tbody>\n",
       "    <tr>\n",
       "      <th>2006-10-02</th>\n",
       "      <td>NaN</td>\n",
       "    </tr>\n",
       "    <tr>\n",
       "      <th>2006-10-03</th>\n",
       "      <td>-0.010474</td>\n",
       "    </tr>\n",
       "    <tr>\n",
       "      <th>2006-10-04</th>\n",
       "      <td>0.017397</td>\n",
       "    </tr>\n",
       "    <tr>\n",
       "      <th>2006-10-05</th>\n",
       "      <td>-0.007323</td>\n",
       "    </tr>\n",
       "    <tr>\n",
       "      <th>2006-10-06</th>\n",
       "      <td>-0.008185</td>\n",
       "    </tr>\n",
       "    <tr>\n",
       "      <th>...</th>\n",
       "      <td>...</td>\n",
       "    </tr>\n",
       "    <tr>\n",
       "      <th>2011-12-23</th>\n",
       "      <td>0.011922</td>\n",
       "    </tr>\n",
       "    <tr>\n",
       "      <th>2011-12-27</th>\n",
       "      <td>0.007903</td>\n",
       "    </tr>\n",
       "    <tr>\n",
       "      <th>2011-12-28</th>\n",
       "      <td>-0.009615</td>\n",
       "    </tr>\n",
       "    <tr>\n",
       "      <th>2011-12-29</th>\n",
       "      <td>0.006141</td>\n",
       "    </tr>\n",
       "    <tr>\n",
       "      <th>2011-12-30</th>\n",
       "      <td>-0.000296</td>\n",
       "    </tr>\n",
       "  </tbody>\n",
       "</table>\n",
       "<p>1323 rows × 1 columns</p>\n",
       "</div>"
      ],
      "text/plain": [
       "            Adj Close\n",
       "Date                 \n",
       "2006-10-02        NaN\n",
       "2006-10-03  -0.010474\n",
       "2006-10-04   0.017397\n",
       "2006-10-05  -0.007323\n",
       "2006-10-06  -0.008185\n",
       "...               ...\n",
       "2011-12-23   0.011922\n",
       "2011-12-27   0.007903\n",
       "2011-12-28  -0.009615\n",
       "2011-12-29   0.006141\n",
       "2011-12-30  -0.000296\n",
       "\n",
       "[1323 rows x 1 columns]"
      ]
     },
     "execution_count": 25,
     "metadata": {
      "tags": []
     },
     "output_type": "execute_result"
    }
   ],
   "source": [
    "daily_log_returns"
   ]
  },
  {
   "cell_type": "code",
   "execution_count": 26,
   "metadata": {
    "colab": {
     "base_uri": "https://localhost:8080/",
     "height": 136
    },
    "colab_type": "code",
    "id": "ed3chi5WO4JS",
    "outputId": "b899a183-868d-4630-c3f3-fa9980b3d47d"
   },
   "outputs": [
    {
     "name": "stdout",
     "output_type": "stream",
     "text": [
      "            Adj Close\n",
      "Date                 \n",
      "2006-10-02        NaN\n",
      "2006-10-03  -0.010474\n",
      "2006-10-04   0.017397\n",
      "2006-10-05  -0.007323\n",
      "2006-10-06  -0.008185\n"
     ]
    }
   ],
   "source": [
    "# 查看每日对数收益率的前几行\n",
    "print(daily_log_returns.head())\n",
    "\n",
    "# 按月对 `aapl` 数据进行重采样，取每月最后一项\n",
    "monthly = aapl.resample('BM').apply(lambda x: x[-1])\n",
    "\n",
    "# 计算每月的百分比变化，并输出前几行\n",
    "# print(monthly.pct_change().head())"
   ]
  },
  {
   "cell_type": "code",
   "execution_count": 0,
   "metadata": {
    "colab": {},
    "colab_type": "code",
    "id": "t5h_6HgMPPwT"
   },
   "outputs": [],
   "source": [
    "def get(tickers, startdate, enddate):\n",
    "  def data(ticker):\n",
    "    return (pdr.get_data_yahoo(ticker, start=startdate, end=enddate))\n",
    "  datas = map (data, tickers)\n",
    "  return(pd.concat(datas, keys=tickers, names=['Ticker', 'Date']))\n",
    "\n",
    "tickers = ['AAPL', 'MSFT', 'IBM', 'GOOG']\n",
    "all_data = get(tickers, datetime.datetime(2006, 10, 1), datetime.datetime(2012, 1, 1))"
   ]
  },
  {
   "cell_type": "code",
   "execution_count": 31,
   "metadata": {
    "colab": {
     "base_uri": "https://localhost:8080/",
     "height": 170
    },
    "colab_type": "code",
    "id": "R5liElXZPhqP",
    "outputId": "7f9878ae-f55b-468a-f727-f46c7828651a"
   },
   "outputs": [
    {
     "name": "stdout",
     "output_type": "stream",
     "text": [
      "                        High        Low  ...       Volume  Adj Close\n",
      "Ticker Date                              ...                        \n",
      "AAPL   2006-10-02  10.838572  10.614285  ...  178159800.0   9.283074\n",
      "       2006-10-03  10.707143  10.455714  ...  197677200.0   9.186352\n",
      "       2006-10-04  10.780000  10.451428  ...  207270700.0   9.347562\n",
      "       2006-10-05  10.880000  10.590000  ...  170970800.0   9.279355\n",
      "       2006-10-06  10.720000  10.544286  ...  116739700.0   9.203714\n",
      "\n",
      "[5 rows x 6 columns]\n"
     ]
    }
   ],
   "source": [
    "print(all_data.head())"
   ]
  },
  {
   "cell_type": "code",
   "execution_count": 0,
   "metadata": {
    "colab": {},
    "colab_type": "code",
    "id": "0nzfF32fPsn2"
   },
   "outputs": [],
   "source": [
    "# 选取调整的收盘价 \n",
    "adj_close_px = aapl['Adj Close']"
   ]
  },
  {
   "cell_type": "code",
   "execution_count": 35,
   "metadata": {
    "colab": {
     "base_uri": "https://localhost:8080/",
     "height": 238
    },
    "colab_type": "code",
    "id": "Xyqxw79tP5Wv",
    "outputId": "26350110-4643-48ab-fb0a-8346855d88db"
   },
   "outputs": [
    {
     "data": {
      "text/plain": [
       "Date\n",
       "2006-10-02     9.283074\n",
       "2006-10-03     9.186352\n",
       "2006-10-04     9.347562\n",
       "2006-10-05     9.279355\n",
       "2006-10-06     9.203714\n",
       "                ...    \n",
       "2011-12-23    50.015266\n",
       "2011-12-27    50.412094\n",
       "2011-12-28    49.929707\n",
       "2011-12-29    50.237251\n",
       "2011-12-30    50.222366\n",
       "Name: Adj Close, Length: 1323, dtype: float64"
      ]
     },
     "execution_count": 35,
     "metadata": {
      "tags": []
     },
     "output_type": "execute_result"
    }
   ],
   "source": [
    "adj_close_px"
   ]
  },
  {
   "cell_type": "code",
   "execution_count": 0,
   "metadata": {
    "colab": {},
    "colab_type": "code",
    "id": "DpRBtuzYP_7n"
   },
   "outputs": [],
   "source": [
    "# 计算移动均值\n",
    "moving_avg = adj_close_px.rolling(window=252).mean()"
   ]
  },
  {
   "cell_type": "code",
   "execution_count": 39,
   "metadata": {
    "colab": {
     "base_uri": "https://localhost:8080/",
     "height": 238
    },
    "colab_type": "code",
    "id": "Dih73ZvUQA5W",
    "outputId": "4a3b22bf-0ced-4c78-cdab-ce6ce0043a15"
   },
   "outputs": [
    {
     "data": {
      "text/plain": [
       "Date\n",
       "2006-10-02          NaN\n",
       "2006-10-03          NaN\n",
       "2006-10-04          NaN\n",
       "2006-10-05          NaN\n",
       "2006-10-06          NaN\n",
       "                ...    \n",
       "2011-12-23    44.980055\n",
       "2011-12-27    45.019943\n",
       "2011-12-28    45.058006\n",
       "2011-12-29    45.098091\n",
       "2011-12-30    45.138659\n",
       "Name: Adj Close, Length: 1323, dtype: float64"
      ]
     },
     "execution_count": 39,
     "metadata": {
      "tags": []
     },
     "output_type": "execute_result"
    }
   ],
   "source": [
    "moving_avg"
   ]
  },
  {
   "cell_type": "code",
   "execution_count": 40,
   "metadata": {
    "colab": {
     "base_uri": "https://localhost:8080/",
     "height": 221
    },
    "colab_type": "code",
    "id": "zhbhCKF1QjDC",
    "outputId": "00c28e25-4f65-4bc8-cc2d-a3fd22bba666"
   },
   "outputs": [
    {
     "name": "stdout",
     "output_type": "stream",
     "text": [
      "Date\n",
      "2011-12-16    44.804557\n",
      "2011-12-19    44.834082\n",
      "2011-12-20    44.869389\n",
      "2011-12-21    44.904470\n",
      "2011-12-22    44.941352\n",
      "2011-12-23    44.980055\n",
      "2011-12-27    45.019943\n",
      "2011-12-28    45.058006\n",
      "2011-12-29    45.098091\n",
      "2011-12-30    45.138659\n",
      "Name: Adj Close, dtype: float64\n"
     ]
    }
   ],
   "source": [
    "# 查看后十项结果\n",
    "print(moving_avg[-10:])"
   ]
  },
  {
   "cell_type": "code",
   "execution_count": 0,
   "metadata": {
    "colab": {},
    "colab_type": "code",
    "id": "n5cuqjxMQke0"
   },
   "outputs": [],
   "source": [
    "# 短期的移动窗口\n",
    "aapl['257'] = adj_close_px.rolling(window=257).mean()"
   ]
  },
  {
   "cell_type": "code",
   "execution_count": 0,
   "metadata": {
    "colab": {},
    "colab_type": "code",
    "id": "xZlpoKk6Qo7L"
   },
   "outputs": [],
   "source": [
    "# 长期的移动窗口\n",
    "aapl['457'] = adj_close_px.rolling(window=457).mean()"
   ]
  },
  {
   "cell_type": "code",
   "execution_count": 49,
   "metadata": {
    "colab": {
     "base_uri": "https://localhost:8080/",
     "height": 286
    },
    "colab_type": "code",
    "id": "yWJispvvQ_EX",
    "outputId": "ef05f09e-f739-4e26-935d-845057cc9f6f"
   },
   "outputs": [
    {
     "data": {
      "text/plain": [
       "<matplotlib.axes._subplots.AxesSubplot at 0x7f2c88ee0d68>"
      ]
     },
     "execution_count": 49,
     "metadata": {
      "tags": []
     },
     "output_type": "execute_result"
    },
    {
     "data": {
      "image/png": "[encoded data removed]",
      "text/plain": [
       "<Figure size 432x288 with 1 Axes>"
      ]
     },
     "metadata": {
      "needs_background": "light",
      "tags": []
     },
     "output_type": "display_data"
    }
   ],
   "source": [
    "# 绘制调整的收盘价，同时包含短期和长期的移动窗口均值\n",
    "aapl[['Adj Close', '257', '457']].plot()"
   ]
  },
  {
   "cell_type": "code",
   "execution_count": 0,
   "metadata": {
    "colab": {},
    "colab_type": "code",
    "id": "2ewihqYxRG8g"
   },
   "outputs": [],
   "source": [
    "# 显示绘图结果\n",
    "plt.show()"
   ]
  }
 ],
 "metadata": {
  "colab": {
   "collapsed_sections": [],
   "name": "RC_ETF.ipynb",
   "provenance": []
  },
  "kernelspec": {
   "display_name": "Python 3",
   "language": "python",
   "name": "python3"
  },
  "language_info": {
   "codemirror_mode": {
    "name": "ipython",
    "version": 3
   },
   "file_extension": ".py",
   "mimetype": "text/x-python",
   "name": "python",
   "nbconvert_exporter": "python",
   "pygments_lexer": "ipython3",
   "version": "3.6.10"
  }
 },
 "nbformat": 4,
 "nbformat_minor": 1
}
