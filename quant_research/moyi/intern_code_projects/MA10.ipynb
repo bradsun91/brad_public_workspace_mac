{
  "nbformat": 4,
  "nbformat_minor": 0,
  "metadata": {
    "colab": {
      "name": "MA10.ipynb",
      "provenance": [],
      "collapsed_sections": []
    },
    "kernelspec": {
      "name": "python3",
      "display_name": "Python 3"
    }
  },
  "cells": [
    {
      "cell_type": "code",
      "metadata": {
        "id": "KPWWlpGkZBXh",
        "colab_type": "code",
        "colab": {}
      },
      "source": [
        "import pandas as pd"
      ],
      "execution_count": 0,
      "outputs": []
    },
    {
      "cell_type": "code",
      "metadata": {
        "id": "kCq07Pi5ZLKj",
        "colab_type": "code",
        "colab": {}
      },
      "source": [
        "import numpy as np"
      ],
      "execution_count": 0,
      "outputs": []
    },
    {
      "cell_type": "code",
      "metadata": {
        "id": "Oj6XzN-MZoDC",
        "colab_type": "code",
        "colab": {}
      },
      "source": [
        "import datetime as dt"
      ],
      "execution_count": 0,
      "outputs": []
    },
    {
      "cell_type": "code",
      "metadata": {
        "id": "V8aOdMI5ZurK",
        "colab_type": "code",
        "outputId": "d5dd6eb0-42a5-4fcd-85de-450a2486f489",
        "colab": {
          "base_uri": "https://localhost:8080/",
          "height": 377
        }
      },
      "source": [
        "!pip install yfinance"
      ],
      "execution_count": 0,
      "outputs": [
        {
          "output_type": "stream",
          "text": [
            "Collecting yfinance\n",
            "  Downloading https://files.pythonhosted.org/packages/c2/31/8b374a12b90def92a4e27d0fc595fc43635f395984e36a075244d98bd265/yfinance-0.1.54.tar.gz\n",
            "Requirement already satisfied: pandas>=0.24 in /usr/local/lib/python3.6/dist-packages (from yfinance) (0.25.3)\n",
            "Requirement already satisfied: numpy>=1.15 in /usr/local/lib/python3.6/dist-packages (from yfinance) (1.18.1)\n",
            "Requirement already satisfied: requests>=2.20 in /usr/local/lib/python3.6/dist-packages (from yfinance) (2.21.0)\n",
            "Requirement already satisfied: multitasking>=0.0.7 in /usr/local/lib/python3.6/dist-packages (from yfinance) (0.0.9)\n",
            "Requirement already satisfied: pytz>=2017.2 in /usr/local/lib/python3.6/dist-packages (from pandas>=0.24->yfinance) (2018.9)\n",
            "Requirement already satisfied: python-dateutil>=2.6.1 in /usr/local/lib/python3.6/dist-packages (from pandas>=0.24->yfinance) (2.8.1)\n",
            "Requirement already satisfied: idna<2.9,>=2.5 in /usr/local/lib/python3.6/dist-packages (from requests>=2.20->yfinance) (2.8)\n",
            "Requirement already satisfied: certifi>=2017.4.17 in /usr/local/lib/python3.6/dist-packages (from requests>=2.20->yfinance) (2019.11.28)\n",
            "Requirement already satisfied: chardet<3.1.0,>=3.0.2 in /usr/local/lib/python3.6/dist-packages (from requests>=2.20->yfinance) (3.0.4)\n",
            "Requirement already satisfied: urllib3<1.25,>=1.21.1 in /usr/local/lib/python3.6/dist-packages (from requests>=2.20->yfinance) (1.24.3)\n",
            "Requirement already satisfied: six>=1.5 in /usr/local/lib/python3.6/dist-packages (from python-dateutil>=2.6.1->pandas>=0.24->yfinance) (1.12.0)\n",
            "Building wheels for collected packages: yfinance\n",
            "  Building wheel for yfinance (setup.py) ... \u001b[?25l\u001b[?25hdone\n",
            "  Created wheel for yfinance: filename=yfinance-0.1.54-py2.py3-none-any.whl size=22409 sha256=fd918d1d6eadf73549a6fb64ff72806330b013440c334be75568a91b0c58643b\n",
            "  Stored in directory: /root/.cache/pip/wheels/f9/e3/5b/ec24dd2984b12d61e0abf26289746c2436a0e7844f26f2515c\n",
            "Successfully built yfinance\n",
            "Installing collected packages: yfinance\n",
            "Successfully installed yfinance-0.1.54\n"
          ],
          "name": "stdout"
        }
      ]
    },
    {
      "cell_type": "code",
      "metadata": {
        "id": "Yq_39zXGaVgS",
        "colab_type": "code",
        "colab": {}
      },
      "source": [
        "import yfinance as yf"
      ],
      "execution_count": 0,
      "outputs": []
    },
    {
      "cell_type": "code",
      "metadata": {
        "id": "Jg4kIsxeaYDI",
        "colab_type": "code",
        "colab": {}
      },
      "source": [
        "yf.pdr_override()"
      ],
      "execution_count": 0,
      "outputs": []
    },
    {
      "cell_type": "code",
      "metadata": {
        "id": "tBvaU9wraziH",
        "colab_type": "code",
        "outputId": "03d3dd4f-1343-406e-8bac-dc1ccaffb977",
        "colab": {
          "base_uri": "https://localhost:8080/",
          "height": 221
        }
      },
      "source": [
        "!pip install fire"
      ],
      "execution_count": 0,
      "outputs": [
        {
          "output_type": "stream",
          "text": [
            "Collecting fire\n",
            "\u001b[?25l  Downloading https://files.pythonhosted.org/packages/d9/69/faeaae8687f4de0f5973694d02e9d6c3eb827636a009157352d98de1129e/fire-0.2.1.tar.gz (76kB)\n",
            "\r\u001b[K     |████▎                           | 10kB 17.3MB/s eta 0:00:01\r\u001b[K     |████████▋                       | 20kB 1.8MB/s eta 0:00:01\r\u001b[K     |████████████▉                   | 30kB 2.6MB/s eta 0:00:01\r\u001b[K     |█████████████████▏              | 40kB 1.7MB/s eta 0:00:01\r\u001b[K     |█████████████████████▍          | 51kB 2.1MB/s eta 0:00:01\r\u001b[K     |█████████████████████████▊      | 61kB 2.5MB/s eta 0:00:01\r\u001b[K     |██████████████████████████████  | 71kB 2.9MB/s eta 0:00:01\r\u001b[K     |████████████████████████████████| 81kB 2.6MB/s \n",
            "\u001b[?25hRequirement already satisfied: six in /usr/local/lib/python3.6/dist-packages (from fire) (1.12.0)\n",
            "Requirement already satisfied: termcolor in /usr/local/lib/python3.6/dist-packages (from fire) (1.1.0)\n",
            "Building wheels for collected packages: fire\n",
            "  Building wheel for fire (setup.py) ... \u001b[?25l\u001b[?25hdone\n",
            "  Created wheel for fire: filename=fire-0.2.1-py2.py3-none-any.whl size=103528 sha256=95033c1887a012bfc0c87f41f07e46a55cd227cfa7d03140f9ddd820b831a8e3\n",
            "  Stored in directory: /root/.cache/pip/wheels/31/9c/c0/07b6dc7faf1844bb4688f46b569efe6cafaa2179c95db821da\n",
            "Successfully built fire\n",
            "Installing collected packages: fire\n",
            "Successfully installed fire-0.2.1\n"
          ],
          "name": "stdout"
        }
      ]
    },
    {
      "cell_type": "code",
      "metadata": {
        "id": "R5lD-elva6y7",
        "colab_type": "code",
        "colab": {}
      },
      "source": [
        "import fire"
      ],
      "execution_count": 0,
      "outputs": []
    },
    {
      "cell_type": "code",
      "metadata": {
        "id": "FDomGJCXa_DJ",
        "colab_type": "code",
        "colab": {}
      },
      "source": [
        "from pandas_datareader import data as pdr"
      ],
      "execution_count": 0,
      "outputs": []
    },
    {
      "cell_type": "code",
      "metadata": {
        "id": "tOWgvWOWbQdo",
        "colab_type": "code",
        "outputId": "2fd1dcf2-a2ef-468e-cf8e-bef4178e1f30",
        "colab": {
          "base_uri": "https://localhost:8080/",
          "height": 170
        }
      },
      "source": [
        "!pip install fredapi"
      ],
      "execution_count": 0,
      "outputs": [
        {
          "output_type": "stream",
          "text": [
            "Collecting fredapi\n",
            "  Downloading https://files.pythonhosted.org/packages/8e/46/c779a9389b39007ac154c1a66871bdb3a712b149fd5a82fb0b7f5267fe48/fredapi-0.4.2-py3-none-any.whl\n",
            "Requirement already satisfied: pandas in /usr/local/lib/python3.6/dist-packages (from fredapi) (0.25.3)\n",
            "Requirement already satisfied: numpy>=1.13.3 in /usr/local/lib/python3.6/dist-packages (from pandas->fredapi) (1.18.1)\n",
            "Requirement already satisfied: python-dateutil>=2.6.1 in /usr/local/lib/python3.6/dist-packages (from pandas->fredapi) (2.8.1)\n",
            "Requirement already satisfied: pytz>=2017.2 in /usr/local/lib/python3.6/dist-packages (from pandas->fredapi) (2018.9)\n",
            "Requirement already satisfied: six>=1.5 in /usr/local/lib/python3.6/dist-packages (from python-dateutil>=2.6.1->pandas->fredapi) (1.12.0)\n",
            "Installing collected packages: fredapi\n",
            "Successfully installed fredapi-0.4.2\n"
          ],
          "name": "stdout"
        }
      ]
    },
    {
      "cell_type": "code",
      "metadata": {
        "id": "Cft3DO6_bURb",
        "colab_type": "code",
        "colab": {}
      },
      "source": [
        "from fredapi import Fred"
      ],
      "execution_count": 0,
      "outputs": []
    },
    {
      "cell_type": "code",
      "metadata": {
        "id": "tMOoqYKlbYQ8",
        "colab_type": "code",
        "outputId": "16593f78-b6b2-4075-92a6-e80bb5988ec1",
        "colab": {
          "base_uri": "https://localhost:8080/",
          "height": 411
        }
      },
      "source": [
        "!pip install quandl"
      ],
      "execution_count": 0,
      "outputs": [
        {
          "output_type": "stream",
          "text": [
            "Collecting quandl\n",
            "  Downloading https://files.pythonhosted.org/packages/07/ab/8cd479fba8a9b197a43a0d55dd534b066fb8e5a0a04b5c0384cbc5d663aa/Quandl-3.5.0-py2.py3-none-any.whl\n",
            "Requirement already satisfied: six in /usr/local/lib/python3.6/dist-packages (from quandl) (1.12.0)\n",
            "Collecting inflection>=0.3.1\n",
            "  Downloading https://files.pythonhosted.org/packages/d5/35/a6eb45b4e2356fe688b21570864d4aa0d0a880ce387defe9c589112077f8/inflection-0.3.1.tar.gz\n",
            "Requirement already satisfied: python-dateutil in /usr/local/lib/python3.6/dist-packages (from quandl) (2.8.1)\n",
            "Requirement already satisfied: numpy>=1.8 in /usr/local/lib/python3.6/dist-packages (from quandl) (1.18.1)\n",
            "Requirement already satisfied: more-itertools in /usr/local/lib/python3.6/dist-packages (from quandl) (8.2.0)\n",
            "Requirement already satisfied: pandas>=0.14 in /usr/local/lib/python3.6/dist-packages (from quandl) (0.25.3)\n",
            "Requirement already satisfied: requests>=2.7.0 in /usr/local/lib/python3.6/dist-packages (from quandl) (2.21.0)\n",
            "Requirement already satisfied: pytz>=2017.2 in /usr/local/lib/python3.6/dist-packages (from pandas>=0.14->quandl) (2018.9)\n",
            "Requirement already satisfied: idna<2.9,>=2.5 in /usr/local/lib/python3.6/dist-packages (from requests>=2.7.0->quandl) (2.8)\n",
            "Requirement already satisfied: chardet<3.1.0,>=3.0.2 in /usr/local/lib/python3.6/dist-packages (from requests>=2.7.0->quandl) (3.0.4)\n",
            "Requirement already satisfied: urllib3<1.25,>=1.21.1 in /usr/local/lib/python3.6/dist-packages (from requests>=2.7.0->quandl) (1.24.3)\n",
            "Requirement already satisfied: certifi>=2017.4.17 in /usr/local/lib/python3.6/dist-packages (from requests>=2.7.0->quandl) (2019.11.28)\n",
            "Building wheels for collected packages: inflection\n",
            "  Building wheel for inflection (setup.py) ... \u001b[?25l\u001b[?25hdone\n",
            "  Created wheel for inflection: filename=inflection-0.3.1-cp36-none-any.whl size=6077 sha256=3e73db231f0aa91885b80417b0a2c6242130bab47b7a8f8944b85eb1a82218ea\n",
            "  Stored in directory: /root/.cache/pip/wheels/9f/5a/d3/6fc3bf6516d2a3eb7e18f9f28b472110b59325f3f258fe9211\n",
            "Successfully built inflection\n",
            "Installing collected packages: inflection, quandl\n",
            "Successfully installed inflection-0.3.1 quandl-3.5.0\n"
          ],
          "name": "stdout"
        }
      ]
    },
    {
      "cell_type": "code",
      "metadata": {
        "id": "XmZqUIp5bkhx",
        "colab_type": "code",
        "colab": {}
      },
      "source": [
        "import quandl"
      ],
      "execution_count": 0,
      "outputs": []
    },
    {
      "cell_type": "code",
      "metadata": {
        "id": "CNqRCugcbopX",
        "colab_type": "code",
        "colab": {}
      },
      "source": [
        "import csv"
      ],
      "execution_count": 0,
      "outputs": []
    },
    {
      "cell_type": "code",
      "metadata": {
        "id": "9YesdArwi1IN",
        "colab_type": "code",
        "outputId": "8f47257d-e3c7-40cc-9e0f-c28f92ec6b0d",
        "colab": {
          "base_uri": "https://localhost:8080/",
          "height": 34
        }
      },
      "source": [
        "import os\n",
        "!pwd\n",
        "#print(os.getcwd() + \"\\n\")"
      ],
      "execution_count": 0,
      "outputs": [
        {
          "output_type": "stream",
          "text": [
            "/content\n"
          ],
          "name": "stdout"
        }
      ]
    },
    {
      "cell_type": "code",
      "metadata": {
        "id": "yD0KDrHqvSnK",
        "colab_type": "code",
        "outputId": "14d34737-cee9-4e8e-d4d1-7da65a51f37c",
        "colab": {
          "base_uri": "https://localhost:8080/",
          "height": 238
        }
      },
      "source": [
        "from google.colab import drive\n",
        "drive.mount('/content/drive')\n",
        "!ls \"/content/drive/My Drive\"\n",
        "# upload data frame from csv file\n",
        "data = pd.read_csv('/content/drive/My Drive/market_data_2020-03-17.csv')"
      ],
      "execution_count": 0,
      "outputs": [
        {
          "output_type": "stream",
          "text": [
            "Drive already mounted at /content/drive; to attempt to forcibly remount, call drive.mount(\"/content/drive\", force_remount=True).\n",
            "'Colab Notebooks'\n",
            "'Copy of Copy of Ludbrook and Dudley (1998) Why Permutation Tests are Superior to t and F Tests in Biomedical Research.pdf'\n",
            "'Copy of Ludbrook and Dudley (1998) Why Permutation Tests are Superior to t and F Tests in Biomedical Research.pdf'\n",
            "'Getting started.pdf'\n",
            " IMG_7151.JPG\n",
            " IMG_7152.JPG\n",
            " IMG_7153.JPG\n",
            " IMG_7155.JPG\n",
            " market_data_2020-03-12.csv\n",
            " market_data_2020-03-17.csv\n",
            "'Student Ambassador Application.pdf'\n",
            "'求VPN step.gdoc'\n"
          ],
          "name": "stdout"
        }
      ]
    },
    {
      "cell_type": "code",
      "metadata": {
        "id": "BQ7zkl_zfRZV",
        "colab_type": "code",
        "outputId": "a4a9d124-98fe-456f-c0df-3bbf0f3fe47b",
        "colab": {
          "base_uri": "https://localhost:8080/",
          "height": 419
        }
      },
      "source": [
        "data"
      ],
      "execution_count": 0,
      "outputs": [
        {
          "output_type": "execute_result",
          "data": {
            "text/html": [
              "<div>\n",
              "<style scoped>\n",
              "    .dataframe tbody tr th:only-of-type {\n",
              "        vertical-align: middle;\n",
              "    }\n",
              "\n",
              "    .dataframe tbody tr th {\n",
              "        vertical-align: top;\n",
              "    }\n",
              "\n",
              "    .dataframe thead th {\n",
              "        text-align: right;\n",
              "    }\n",
              "</style>\n",
              "<table border=\"1\" class=\"dataframe\">\n",
              "  <thead>\n",
              "    <tr style=\"text-align: right;\">\n",
              "      <th></th>\n",
              "      <th>Date</th>\n",
              "      <th>open</th>\n",
              "      <th>high</th>\n",
              "      <th>low</th>\n",
              "      <th>close</th>\n",
              "      <th>adj_close</th>\n",
              "      <th>volume</th>\n",
              "      <th>ticker</th>\n",
              "    </tr>\n",
              "  </thead>\n",
              "  <tbody>\n",
              "    <tr>\n",
              "      <th>0</th>\n",
              "      <td>1999-11-18</td>\n",
              "      <td>32.546494</td>\n",
              "      <td>35.765381</td>\n",
              "      <td>28.612303</td>\n",
              "      <td>31.473534</td>\n",
              "      <td>27.137552</td>\n",
              "      <td>62546300</td>\n",
              "      <td>A</td>\n",
              "    </tr>\n",
              "    <tr>\n",
              "      <th>1</th>\n",
              "      <td>1999-11-19</td>\n",
              "      <td>30.713520</td>\n",
              "      <td>30.758226</td>\n",
              "      <td>28.478184</td>\n",
              "      <td>28.880543</td>\n",
              "      <td>24.901789</td>\n",
              "      <td>15234100</td>\n",
              "      <td>A</td>\n",
              "    </tr>\n",
              "    <tr>\n",
              "      <th>2</th>\n",
              "      <td>1999-11-22</td>\n",
              "      <td>29.551144</td>\n",
              "      <td>31.473534</td>\n",
              "      <td>28.657009</td>\n",
              "      <td>31.473534</td>\n",
              "      <td>27.137552</td>\n",
              "      <td>6577800</td>\n",
              "      <td>A</td>\n",
              "    </tr>\n",
              "    <tr>\n",
              "      <th>3</th>\n",
              "      <td>1999-11-23</td>\n",
              "      <td>30.400572</td>\n",
              "      <td>31.205294</td>\n",
              "      <td>28.612303</td>\n",
              "      <td>28.612303</td>\n",
              "      <td>24.670504</td>\n",
              "      <td>5975600</td>\n",
              "      <td>A</td>\n",
              "    </tr>\n",
              "    <tr>\n",
              "      <th>4</th>\n",
              "      <td>1999-11-24</td>\n",
              "      <td>28.701717</td>\n",
              "      <td>29.998211</td>\n",
              "      <td>28.612303</td>\n",
              "      <td>29.372318</td>\n",
              "      <td>25.325811</td>\n",
              "      <td>4843200</td>\n",
              "      <td>A</td>\n",
              "    </tr>\n",
              "    <tr>\n",
              "      <th>...</th>\n",
              "      <td>...</td>\n",
              "      <td>...</td>\n",
              "      <td>...</td>\n",
              "      <td>...</td>\n",
              "      <td>...</td>\n",
              "      <td>...</td>\n",
              "      <td>...</td>\n",
              "      <td>...</td>\n",
              "    </tr>\n",
              "    <tr>\n",
              "      <th>24350</th>\n",
              "      <td>2020-03-11</td>\n",
              "      <td>34.849998</td>\n",
              "      <td>35.070000</td>\n",
              "      <td>34.160000</td>\n",
              "      <td>34.520000</td>\n",
              "      <td>34.520000</td>\n",
              "      <td>45296100</td>\n",
              "      <td>T</td>\n",
              "    </tr>\n",
              "    <tr>\n",
              "      <th>24351</th>\n",
              "      <td>2020-03-12</td>\n",
              "      <td>31.860001</td>\n",
              "      <td>33.430000</td>\n",
              "      <td>31.059999</td>\n",
              "      <td>31.330000</td>\n",
              "      <td>31.330000</td>\n",
              "      <td>84215200</td>\n",
              "      <td>T</td>\n",
              "    </tr>\n",
              "    <tr>\n",
              "      <th>24352</th>\n",
              "      <td>2020-03-13</td>\n",
              "      <td>32.919998</td>\n",
              "      <td>34.610001</td>\n",
              "      <td>31.860001</td>\n",
              "      <td>34.470001</td>\n",
              "      <td>34.470001</td>\n",
              "      <td>64688800</td>\n",
              "      <td>T</td>\n",
              "    </tr>\n",
              "    <tr>\n",
              "      <th>24353</th>\n",
              "      <td>2020-03-16</td>\n",
              "      <td>31.000000</td>\n",
              "      <td>33.889999</td>\n",
              "      <td>30.920000</td>\n",
              "      <td>31.809999</td>\n",
              "      <td>31.809999</td>\n",
              "      <td>58748600</td>\n",
              "      <td>T</td>\n",
              "    </tr>\n",
              "    <tr>\n",
              "      <th>24354</th>\n",
              "      <td>2020-03-17</td>\n",
              "      <td>32.119999</td>\n",
              "      <td>34.000000</td>\n",
              "      <td>32.010101</td>\n",
              "      <td>33.935001</td>\n",
              "      <td>33.935001</td>\n",
              "      <td>38047037</td>\n",
              "      <td>T</td>\n",
              "    </tr>\n",
              "  </tbody>\n",
              "</table>\n",
              "<p>24355 rows × 8 columns</p>\n",
              "</div>"
            ],
            "text/plain": [
              "             Date       open       high  ...  adj_close    volume  ticker\n",
              "0      1999-11-18  32.546494  35.765381  ...  27.137552  62546300       A\n",
              "1      1999-11-19  30.713520  30.758226  ...  24.901789  15234100       A\n",
              "2      1999-11-22  29.551144  31.473534  ...  27.137552   6577800       A\n",
              "3      1999-11-23  30.400572  31.205294  ...  24.670504   5975600       A\n",
              "4      1999-11-24  28.701717  29.998211  ...  25.325811   4843200       A\n",
              "...           ...        ...        ...  ...        ...       ...     ...\n",
              "24350  2020-03-11  34.849998  35.070000  ...  34.520000  45296100       T\n",
              "24351  2020-03-12  31.860001  33.430000  ...  31.330000  84215200       T\n",
              "24352  2020-03-13  32.919998  34.610001  ...  34.470001  64688800       T\n",
              "24353  2020-03-16  31.000000  33.889999  ...  31.809999  58748600       T\n",
              "24354  2020-03-17  32.119999  34.000000  ...  33.935001  38047037       T\n",
              "\n",
              "[24355 rows x 8 columns]"
            ]
          },
          "metadata": {
            "tags": []
          },
          "execution_count": 58
        }
      ]
    },
    {
      "cell_type": "code",
      "metadata": {
        "id": "fd56GfYhzxXF",
        "colab_type": "code",
        "outputId": "74ac1bb9-8161-49a7-bca7-3516ef86fa7f",
        "colab": {
          "base_uri": "https://localhost:8080/",
          "height": 674
        }
      },
      "source": [
        "# select the first 5113 rows of the data\n",
        "Data = data.head(5113)\n",
        "print(\"First 5113 rows of the data about ticker A : \")\n",
        "print(Data)\n",
        "ticker = Data.iloc[:,[0,4]]\n",
        "ticker"
      ],
      "execution_count": 0,
      "outputs": [
        {
          "output_type": "stream",
          "text": [
            "First 5113 rows of the data about ticker A : \n",
            "            Date       open       high  ...  adj_close    volume  ticker\n",
            "0     1999-11-18  32.546494  35.765381  ...  27.137552  62546300       A\n",
            "1     1999-11-19  30.713520  30.758226  ...  24.901789  15234100       A\n",
            "2     1999-11-22  29.551144  31.473534  ...  27.137552   6577800       A\n",
            "3     1999-11-23  30.400572  31.205294  ...  24.670504   5975600       A\n",
            "4     1999-11-24  28.701717  29.998211  ...  25.325811   4843200       A\n",
            "...          ...        ...        ...  ...        ...       ...     ...\n",
            "5108  2020-03-11  70.760002  71.730003  ...  68.839996   4985900       A\n",
            "5109  2020-03-12  64.000000  67.139999  ...  63.419998   5055000       A\n",
            "5110  2020-03-13  66.529999  69.510002  ...  69.199997   3261200       A\n",
            "5111  2020-03-16  63.410000  66.620003  ...  64.129997   4742800       A\n",
            "5112  2020-03-17  66.019997  68.260002  ...  67.855003   1731077       A\n",
            "\n",
            "[5113 rows x 8 columns]\n"
          ],
          "name": "stdout"
        },
        {
          "output_type": "execute_result",
          "data": {
            "text/html": [
              "<div>\n",
              "<style scoped>\n",
              "    .dataframe tbody tr th:only-of-type {\n",
              "        vertical-align: middle;\n",
              "    }\n",
              "\n",
              "    .dataframe tbody tr th {\n",
              "        vertical-align: top;\n",
              "    }\n",
              "\n",
              "    .dataframe thead th {\n",
              "        text-align: right;\n",
              "    }\n",
              "</style>\n",
              "<table border=\"1\" class=\"dataframe\">\n",
              "  <thead>\n",
              "    <tr style=\"text-align: right;\">\n",
              "      <th></th>\n",
              "      <th>Date</th>\n",
              "      <th>close</th>\n",
              "    </tr>\n",
              "  </thead>\n",
              "  <tbody>\n",
              "    <tr>\n",
              "      <th>0</th>\n",
              "      <td>1999-11-18</td>\n",
              "      <td>31.473534</td>\n",
              "    </tr>\n",
              "    <tr>\n",
              "      <th>1</th>\n",
              "      <td>1999-11-19</td>\n",
              "      <td>28.880543</td>\n",
              "    </tr>\n",
              "    <tr>\n",
              "      <th>2</th>\n",
              "      <td>1999-11-22</td>\n",
              "      <td>31.473534</td>\n",
              "    </tr>\n",
              "    <tr>\n",
              "      <th>3</th>\n",
              "      <td>1999-11-23</td>\n",
              "      <td>28.612303</td>\n",
              "    </tr>\n",
              "    <tr>\n",
              "      <th>4</th>\n",
              "      <td>1999-11-24</td>\n",
              "      <td>29.372318</td>\n",
              "    </tr>\n",
              "    <tr>\n",
              "      <th>...</th>\n",
              "      <td>...</td>\n",
              "      <td>...</td>\n",
              "    </tr>\n",
              "    <tr>\n",
              "      <th>5108</th>\n",
              "      <td>2020-03-11</td>\n",
              "      <td>68.839996</td>\n",
              "    </tr>\n",
              "    <tr>\n",
              "      <th>5109</th>\n",
              "      <td>2020-03-12</td>\n",
              "      <td>63.419998</td>\n",
              "    </tr>\n",
              "    <tr>\n",
              "      <th>5110</th>\n",
              "      <td>2020-03-13</td>\n",
              "      <td>69.199997</td>\n",
              "    </tr>\n",
              "    <tr>\n",
              "      <th>5111</th>\n",
              "      <td>2020-03-16</td>\n",
              "      <td>64.129997</td>\n",
              "    </tr>\n",
              "    <tr>\n",
              "      <th>5112</th>\n",
              "      <td>2020-03-17</td>\n",
              "      <td>67.855003</td>\n",
              "    </tr>\n",
              "  </tbody>\n",
              "</table>\n",
              "<p>5113 rows × 2 columns</p>\n",
              "</div>"
            ],
            "text/plain": [
              "            Date      close\n",
              "0     1999-11-18  31.473534\n",
              "1     1999-11-19  28.880543\n",
              "2     1999-11-22  31.473534\n",
              "3     1999-11-23  28.612303\n",
              "4     1999-11-24  29.372318\n",
              "...          ...        ...\n",
              "5108  2020-03-11  68.839996\n",
              "5109  2020-03-12  63.419998\n",
              "5110  2020-03-13  69.199997\n",
              "5111  2020-03-16  64.129997\n",
              "5112  2020-03-17  67.855003\n",
              "\n",
              "[5113 rows x 2 columns]"
            ]
          },
          "metadata": {
            "tags": []
          },
          "execution_count": 63
        }
      ]
    },
    {
      "cell_type": "code",
      "metadata": {
        "id": "FtP7xkOGqRAo",
        "colab_type": "code",
        "colab": {}
      },
      "source": [
        "df = pd.DataFrame(ticker)"
      ],
      "execution_count": 0,
      "outputs": []
    },
    {
      "cell_type": "code",
      "metadata": {
        "id": "W-C7k_mqqaG3",
        "colab_type": "code",
        "outputId": "39f76721-e671-4bf8-f5fc-f657bed9551a",
        "colab": {
          "base_uri": "https://localhost:8080/",
          "height": 419
        }
      },
      "source": [
        "df"
      ],
      "execution_count": 0,
      "outputs": [
        {
          "output_type": "execute_result",
          "data": {
            "text/html": [
              "<div>\n",
              "<style scoped>\n",
              "    .dataframe tbody tr th:only-of-type {\n",
              "        vertical-align: middle;\n",
              "    }\n",
              "\n",
              "    .dataframe tbody tr th {\n",
              "        vertical-align: top;\n",
              "    }\n",
              "\n",
              "    .dataframe thead th {\n",
              "        text-align: right;\n",
              "    }\n",
              "</style>\n",
              "<table border=\"1\" class=\"dataframe\">\n",
              "  <thead>\n",
              "    <tr style=\"text-align: right;\">\n",
              "      <th></th>\n",
              "      <th>Date</th>\n",
              "      <th>close</th>\n",
              "    </tr>\n",
              "  </thead>\n",
              "  <tbody>\n",
              "    <tr>\n",
              "      <th>0</th>\n",
              "      <td>1999-11-18</td>\n",
              "      <td>31.473534</td>\n",
              "    </tr>\n",
              "    <tr>\n",
              "      <th>1</th>\n",
              "      <td>1999-11-19</td>\n",
              "      <td>28.880543</td>\n",
              "    </tr>\n",
              "    <tr>\n",
              "      <th>2</th>\n",
              "      <td>1999-11-22</td>\n",
              "      <td>31.473534</td>\n",
              "    </tr>\n",
              "    <tr>\n",
              "      <th>3</th>\n",
              "      <td>1999-11-23</td>\n",
              "      <td>28.612303</td>\n",
              "    </tr>\n",
              "    <tr>\n",
              "      <th>4</th>\n",
              "      <td>1999-11-24</td>\n",
              "      <td>29.372318</td>\n",
              "    </tr>\n",
              "    <tr>\n",
              "      <th>...</th>\n",
              "      <td>...</td>\n",
              "      <td>...</td>\n",
              "    </tr>\n",
              "    <tr>\n",
              "      <th>5108</th>\n",
              "      <td>2020-03-11</td>\n",
              "      <td>68.839996</td>\n",
              "    </tr>\n",
              "    <tr>\n",
              "      <th>5109</th>\n",
              "      <td>2020-03-12</td>\n",
              "      <td>63.419998</td>\n",
              "    </tr>\n",
              "    <tr>\n",
              "      <th>5110</th>\n",
              "      <td>2020-03-13</td>\n",
              "      <td>69.199997</td>\n",
              "    </tr>\n",
              "    <tr>\n",
              "      <th>5111</th>\n",
              "      <td>2020-03-16</td>\n",
              "      <td>64.129997</td>\n",
              "    </tr>\n",
              "    <tr>\n",
              "      <th>5112</th>\n",
              "      <td>2020-03-17</td>\n",
              "      <td>67.855003</td>\n",
              "    </tr>\n",
              "  </tbody>\n",
              "</table>\n",
              "<p>5113 rows × 2 columns</p>\n",
              "</div>"
            ],
            "text/plain": [
              "            Date      close\n",
              "0     1999-11-18  31.473534\n",
              "1     1999-11-19  28.880543\n",
              "2     1999-11-22  31.473534\n",
              "3     1999-11-23  28.612303\n",
              "4     1999-11-24  29.372318\n",
              "...          ...        ...\n",
              "5108  2020-03-11  68.839996\n",
              "5109  2020-03-12  63.419998\n",
              "5110  2020-03-13  69.199997\n",
              "5111  2020-03-16  64.129997\n",
              "5112  2020-03-17  67.855003\n",
              "\n",
              "[5113 rows x 2 columns]"
            ]
          },
          "metadata": {
            "tags": []
          },
          "execution_count": 65
        }
      ]
    },
    {
      "cell_type": "code",
      "metadata": {
        "id": "FDUABQcJqbfk",
        "colab_type": "code",
        "outputId": "fd3dfdeb-7ce9-4820-a461-9658a7f1a718",
        "colab": {
          "base_uri": "https://localhost:8080/",
          "height": 419
        }
      },
      "source": [
        "# calculate the 10-day moving average values of the each day's close price\n",
        "for i in range(0,df.shape[0]-9):\n",
        "  df['MA10'] = df.iloc[:,1].rolling(window=10).mean() # use the panda in-built rolling function \n",
        "\n",
        "df"
      ],
      "execution_count": 0,
      "outputs": [
        {
          "output_type": "execute_result",
          "data": {
            "text/html": [
              "<div>\n",
              "<style scoped>\n",
              "    .dataframe tbody tr th:only-of-type {\n",
              "        vertical-align: middle;\n",
              "    }\n",
              "\n",
              "    .dataframe tbody tr th {\n",
              "        vertical-align: top;\n",
              "    }\n",
              "\n",
              "    .dataframe thead th {\n",
              "        text-align: right;\n",
              "    }\n",
              "</style>\n",
              "<table border=\"1\" class=\"dataframe\">\n",
              "  <thead>\n",
              "    <tr style=\"text-align: right;\">\n",
              "      <th></th>\n",
              "      <th>Date</th>\n",
              "      <th>close</th>\n",
              "      <th>MA10</th>\n",
              "    </tr>\n",
              "  </thead>\n",
              "  <tbody>\n",
              "    <tr>\n",
              "      <th>0</th>\n",
              "      <td>1999-11-18</td>\n",
              "      <td>31.473534</td>\n",
              "      <td>NaN</td>\n",
              "    </tr>\n",
              "    <tr>\n",
              "      <th>1</th>\n",
              "      <td>1999-11-19</td>\n",
              "      <td>28.880543</td>\n",
              "      <td>NaN</td>\n",
              "    </tr>\n",
              "    <tr>\n",
              "      <th>2</th>\n",
              "      <td>1999-11-22</td>\n",
              "      <td>31.473534</td>\n",
              "      <td>NaN</td>\n",
              "    </tr>\n",
              "    <tr>\n",
              "      <th>3</th>\n",
              "      <td>1999-11-23</td>\n",
              "      <td>28.612303</td>\n",
              "      <td>NaN</td>\n",
              "    </tr>\n",
              "    <tr>\n",
              "      <th>4</th>\n",
              "      <td>1999-11-24</td>\n",
              "      <td>29.372318</td>\n",
              "      <td>NaN</td>\n",
              "    </tr>\n",
              "    <tr>\n",
              "      <th>...</th>\n",
              "      <td>...</td>\n",
              "      <td>...</td>\n",
              "      <td>...</td>\n",
              "    </tr>\n",
              "    <tr>\n",
              "      <th>5108</th>\n",
              "      <td>2020-03-11</td>\n",
              "      <td>68.839996</td>\n",
              "      <td>77.266000</td>\n",
              "    </tr>\n",
              "    <tr>\n",
              "      <th>5109</th>\n",
              "      <td>2020-03-12</td>\n",
              "      <td>63.419998</td>\n",
              "      <td>75.864999</td>\n",
              "    </tr>\n",
              "    <tr>\n",
              "      <th>5110</th>\n",
              "      <td>2020-03-13</td>\n",
              "      <td>69.199997</td>\n",
              "      <td>75.077999</td>\n",
              "    </tr>\n",
              "    <tr>\n",
              "      <th>5111</th>\n",
              "      <td>2020-03-16</td>\n",
              "      <td>64.129997</td>\n",
              "      <td>73.293999</td>\n",
              "    </tr>\n",
              "    <tr>\n",
              "      <th>5112</th>\n",
              "      <td>2020-03-17</td>\n",
              "      <td>67.855003</td>\n",
              "      <td>72.047499</td>\n",
              "    </tr>\n",
              "  </tbody>\n",
              "</table>\n",
              "<p>5113 rows × 3 columns</p>\n",
              "</div>"
            ],
            "text/plain": [
              "            Date      close       MA10\n",
              "0     1999-11-18  31.473534        NaN\n",
              "1     1999-11-19  28.880543        NaN\n",
              "2     1999-11-22  31.473534        NaN\n",
              "3     1999-11-23  28.612303        NaN\n",
              "4     1999-11-24  29.372318        NaN\n",
              "...          ...        ...        ...\n",
              "5108  2020-03-11  68.839996  77.266000\n",
              "5109  2020-03-12  63.419998  75.864999\n",
              "5110  2020-03-13  69.199997  75.077999\n",
              "5111  2020-03-16  64.129997  73.293999\n",
              "5112  2020-03-17  67.855003  72.047499\n",
              "\n",
              "[5113 rows x 3 columns]"
            ]
          },
          "metadata": {
            "tags": []
          },
          "execution_count": 66
        }
      ]
    },
    {
      "cell_type": "code",
      "metadata": {
        "id": "7MKTNw1Rtloc",
        "colab_type": "code",
        "outputId": "9590b4dc-90e5-4d60-ce3f-86e8735bab74",
        "colab": {
          "base_uri": "https://localhost:8080/",
          "height": 419
        }
      },
      "source": [
        "df[\"Select\"] = np.nan\n",
        "df"
      ],
      "execution_count": 0,
      "outputs": [
        {
          "output_type": "execute_result",
          "data": {
            "text/html": [
              "<div>\n",
              "<style scoped>\n",
              "    .dataframe tbody tr th:only-of-type {\n",
              "        vertical-align: middle;\n",
              "    }\n",
              "\n",
              "    .dataframe tbody tr th {\n",
              "        vertical-align: top;\n",
              "    }\n",
              "\n",
              "    .dataframe thead th {\n",
              "        text-align: right;\n",
              "    }\n",
              "</style>\n",
              "<table border=\"1\" class=\"dataframe\">\n",
              "  <thead>\n",
              "    <tr style=\"text-align: right;\">\n",
              "      <th></th>\n",
              "      <th>Date</th>\n",
              "      <th>close</th>\n",
              "      <th>MA10</th>\n",
              "      <th>Select</th>\n",
              "    </tr>\n",
              "  </thead>\n",
              "  <tbody>\n",
              "    <tr>\n",
              "      <th>0</th>\n",
              "      <td>1999-11-18</td>\n",
              "      <td>31.473534</td>\n",
              "      <td>NaN</td>\n",
              "      <td>NaN</td>\n",
              "    </tr>\n",
              "    <tr>\n",
              "      <th>1</th>\n",
              "      <td>1999-11-19</td>\n",
              "      <td>28.880543</td>\n",
              "      <td>NaN</td>\n",
              "      <td>NaN</td>\n",
              "    </tr>\n",
              "    <tr>\n",
              "      <th>2</th>\n",
              "      <td>1999-11-22</td>\n",
              "      <td>31.473534</td>\n",
              "      <td>NaN</td>\n",
              "      <td>NaN</td>\n",
              "    </tr>\n",
              "    <tr>\n",
              "      <th>3</th>\n",
              "      <td>1999-11-23</td>\n",
              "      <td>28.612303</td>\n",
              "      <td>NaN</td>\n",
              "      <td>NaN</td>\n",
              "    </tr>\n",
              "    <tr>\n",
              "      <th>4</th>\n",
              "      <td>1999-11-24</td>\n",
              "      <td>29.372318</td>\n",
              "      <td>NaN</td>\n",
              "      <td>NaN</td>\n",
              "    </tr>\n",
              "    <tr>\n",
              "      <th>...</th>\n",
              "      <td>...</td>\n",
              "      <td>...</td>\n",
              "      <td>...</td>\n",
              "      <td>...</td>\n",
              "    </tr>\n",
              "    <tr>\n",
              "      <th>5108</th>\n",
              "      <td>2020-03-11</td>\n",
              "      <td>68.839996</td>\n",
              "      <td>77.266000</td>\n",
              "      <td>NaN</td>\n",
              "    </tr>\n",
              "    <tr>\n",
              "      <th>5109</th>\n",
              "      <td>2020-03-12</td>\n",
              "      <td>63.419998</td>\n",
              "      <td>75.864999</td>\n",
              "      <td>NaN</td>\n",
              "    </tr>\n",
              "    <tr>\n",
              "      <th>5110</th>\n",
              "      <td>2020-03-13</td>\n",
              "      <td>69.199997</td>\n",
              "      <td>75.077999</td>\n",
              "      <td>NaN</td>\n",
              "    </tr>\n",
              "    <tr>\n",
              "      <th>5111</th>\n",
              "      <td>2020-03-16</td>\n",
              "      <td>64.129997</td>\n",
              "      <td>73.293999</td>\n",
              "      <td>NaN</td>\n",
              "    </tr>\n",
              "    <tr>\n",
              "      <th>5112</th>\n",
              "      <td>2020-03-17</td>\n",
              "      <td>67.855003</td>\n",
              "      <td>72.047499</td>\n",
              "      <td>NaN</td>\n",
              "    </tr>\n",
              "  </tbody>\n",
              "</table>\n",
              "<p>5113 rows × 4 columns</p>\n",
              "</div>"
            ],
            "text/plain": [
              "            Date      close       MA10  Select\n",
              "0     1999-11-18  31.473534        NaN     NaN\n",
              "1     1999-11-19  28.880543        NaN     NaN\n",
              "2     1999-11-22  31.473534        NaN     NaN\n",
              "3     1999-11-23  28.612303        NaN     NaN\n",
              "4     1999-11-24  29.372318        NaN     NaN\n",
              "...          ...        ...        ...     ...\n",
              "5108  2020-03-11  68.839996  77.266000     NaN\n",
              "5109  2020-03-12  63.419998  75.864999     NaN\n",
              "5110  2020-03-13  69.199997  75.077999     NaN\n",
              "5111  2020-03-16  64.129997  73.293999     NaN\n",
              "5112  2020-03-17  67.855003  72.047499     NaN\n",
              "\n",
              "[5113 rows x 4 columns]"
            ]
          },
          "metadata": {
            "tags": []
          },
          "execution_count": 67
        }
      ]
    },
    {
      "cell_type": "code",
      "metadata": {
        "id": "syA4PYw_ydLw",
        "colab_type": "code",
        "outputId": "9edcf6c5-ebbe-4a79-decb-02993e1fe827",
        "colab": {
          "base_uri": "https://localhost:8080/",
          "height": 419
        }
      },
      "source": [
        " # compare that day's close price with that day's MA10\n",
        " for row in range(df.shape[0]):\n",
        "   if df.iloc[row]['close'] > df.iloc[row]['MA10']:\n",
        "     df.Select = '1'\n",
        "   else:\n",
        "     df.Select = '0'\n",
        " \n",
        " df"
      ],
      "execution_count": 0,
      "outputs": [
        {
          "output_type": "execute_result",
          "data": {
            "text/html": [
              "<div>\n",
              "<style scoped>\n",
              "    .dataframe tbody tr th:only-of-type {\n",
              "        vertical-align: middle;\n",
              "    }\n",
              "\n",
              "    .dataframe tbody tr th {\n",
              "        vertical-align: top;\n",
              "    }\n",
              "\n",
              "    .dataframe thead th {\n",
              "        text-align: right;\n",
              "    }\n",
              "</style>\n",
              "<table border=\"1\" class=\"dataframe\">\n",
              "  <thead>\n",
              "    <tr style=\"text-align: right;\">\n",
              "      <th></th>\n",
              "      <th>Date</th>\n",
              "      <th>close</th>\n",
              "      <th>MA10</th>\n",
              "      <th>Select</th>\n",
              "    </tr>\n",
              "  </thead>\n",
              "  <tbody>\n",
              "    <tr>\n",
              "      <th>0</th>\n",
              "      <td>1999-11-18</td>\n",
              "      <td>31.473534</td>\n",
              "      <td>NaN</td>\n",
              "      <td>0</td>\n",
              "    </tr>\n",
              "    <tr>\n",
              "      <th>1</th>\n",
              "      <td>1999-11-19</td>\n",
              "      <td>28.880543</td>\n",
              "      <td>NaN</td>\n",
              "      <td>0</td>\n",
              "    </tr>\n",
              "    <tr>\n",
              "      <th>2</th>\n",
              "      <td>1999-11-22</td>\n",
              "      <td>31.473534</td>\n",
              "      <td>NaN</td>\n",
              "      <td>0</td>\n",
              "    </tr>\n",
              "    <tr>\n",
              "      <th>3</th>\n",
              "      <td>1999-11-23</td>\n",
              "      <td>28.612303</td>\n",
              "      <td>NaN</td>\n",
              "      <td>0</td>\n",
              "    </tr>\n",
              "    <tr>\n",
              "      <th>4</th>\n",
              "      <td>1999-11-24</td>\n",
              "      <td>29.372318</td>\n",
              "      <td>NaN</td>\n",
              "      <td>0</td>\n",
              "    </tr>\n",
              "    <tr>\n",
              "      <th>...</th>\n",
              "      <td>...</td>\n",
              "      <td>...</td>\n",
              "      <td>...</td>\n",
              "      <td>...</td>\n",
              "    </tr>\n",
              "    <tr>\n",
              "      <th>5108</th>\n",
              "      <td>2020-03-11</td>\n",
              "      <td>68.839996</td>\n",
              "      <td>77.266000</td>\n",
              "      <td>0</td>\n",
              "    </tr>\n",
              "    <tr>\n",
              "      <th>5109</th>\n",
              "      <td>2020-03-12</td>\n",
              "      <td>63.419998</td>\n",
              "      <td>75.864999</td>\n",
              "      <td>0</td>\n",
              "    </tr>\n",
              "    <tr>\n",
              "      <th>5110</th>\n",
              "      <td>2020-03-13</td>\n",
              "      <td>69.199997</td>\n",
              "      <td>75.077999</td>\n",
              "      <td>0</td>\n",
              "    </tr>\n",
              "    <tr>\n",
              "      <th>5111</th>\n",
              "      <td>2020-03-16</td>\n",
              "      <td>64.129997</td>\n",
              "      <td>73.293999</td>\n",
              "      <td>0</td>\n",
              "    </tr>\n",
              "    <tr>\n",
              "      <th>5112</th>\n",
              "      <td>2020-03-17</td>\n",
              "      <td>67.855003</td>\n",
              "      <td>72.047499</td>\n",
              "      <td>0</td>\n",
              "    </tr>\n",
              "  </tbody>\n",
              "</table>\n",
              "<p>5113 rows × 4 columns</p>\n",
              "</div>"
            ],
            "text/plain": [
              "            Date      close       MA10 Select\n",
              "0     1999-11-18  31.473534        NaN      0\n",
              "1     1999-11-19  28.880543        NaN      0\n",
              "2     1999-11-22  31.473534        NaN      0\n",
              "3     1999-11-23  28.612303        NaN      0\n",
              "4     1999-11-24  29.372318        NaN      0\n",
              "...          ...        ...        ...    ...\n",
              "5108  2020-03-11  68.839996  77.266000      0\n",
              "5109  2020-03-12  63.419998  75.864999      0\n",
              "5110  2020-03-13  69.199997  75.077999      0\n",
              "5111  2020-03-16  64.129997  73.293999      0\n",
              "5112  2020-03-17  67.855003  72.047499      0\n",
              "\n",
              "[5113 rows x 4 columns]"
            ]
          },
          "metadata": {
            "tags": []
          },
          "execution_count": 68
        }
      ]
    },
    {
      "cell_type": "code",
      "metadata": {
        "id": "mZN2_FAn3tFm",
        "colab_type": "code",
        "outputId": "0b9bdc90-7eb7-416c-b2f4-636f2be297b7",
        "colab": {
          "base_uri": "https://localhost:8080/",
          "height": 34
        }
      },
      "source": [
        "# calculate the sum of each value in Select column\n",
        "len(df[df['Select'] == '1'])\n",
        "#print df[df.Select == '1'].shape[0]"
      ],
      "execution_count": 0,
      "outputs": [
        {
          "output_type": "execute_result",
          "data": {
            "text/plain": [
              "0"
            ]
          },
          "metadata": {
            "tags": []
          },
          "execution_count": 70
        }
      ]
    }
  ]
}