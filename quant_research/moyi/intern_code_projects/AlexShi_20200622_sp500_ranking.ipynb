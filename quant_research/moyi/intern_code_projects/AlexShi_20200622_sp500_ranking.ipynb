{
  "nbformat": 4,
  "nbformat_minor": 0,
  "metadata": {
    "colab": {
      "name": "sp500_ranking.ipynb",
      "provenance": [],
      "toc_visible": true
    },
    "kernelspec": {
      "name": "python3",
      "display_name": "Python 3"
    }
  },
  "cells": [
    {
      "cell_type": "markdown",
      "metadata": {
        "id": "2LeXdFdMuJTX",
        "colab_type": "text"
      },
      "source": [
        "# S&P 500 companies and their historical price"
      ]
    },
    {
      "cell_type": "code",
      "metadata": {
        "id": "JWLveuvrClnM",
        "colab_type": "code",
        "colab": {}
      },
      "source": [
        "!pip install yfinance"
      ],
      "execution_count": null,
      "outputs": []
    },
    {
      "cell_type": "code",
      "metadata": {
        "id": "FjVW-d5GA-vf",
        "colab_type": "code",
        "colab": {}
      },
      "source": [
        "import bs4 as bs\n",
        "import requests\n",
        "import yfinance as yf\n",
        "import datetime\n",
        "import pandas as pd\n",
        "import pdb\n",
        "import time\n",
        "import numpy as np\n",
        "\n",
        "\n",
        "def get_company_price():\n",
        "  #set to the most recent quarter\n",
        "  start = datetime.datetime(2020,1,1)\n",
        "  end = datetime.datetime(2020,3,31)\n",
        "  resp = requests.get('http://en.wikipedia.org/wiki/List_of_S%26P_500_companies')\n",
        "  soup = bs.BeautifulSoup(resp.text, 'lxml')\n",
        "  table = soup.find('table', {'class': 'wikitable sortable'})\n",
        "  tickers = []\n",
        "  for row in table.findAll('tr')[1:]:\n",
        "      ticker = row.findAll('td')[0].text.replace('\\n', '').replace('.','-')\n",
        "      tickers.append(ticker)\n",
        "  data = yf.download(tickers, start=start, end=end,group_by='ticker',auto_adjust=False)\n",
        "  return data\n",
        "\n",
        "def get_company_performance():\n",
        "  #set to the most recent quarter\n",
        "  df_OHLC = get_company_price()\n",
        "  col_drop =[i for i in df_OHLC.columns if i[1]!='Close']\n",
        "  df_close = df_OHLC.drop(columns=col_drop)\n",
        "  df_close.columns = [i[0] for i in df_close.columns]\n",
        "  df_close = df_close.fillna(method = 'bfill').fillna(method = 'ffill')\n",
        "  df_close = df_close.transpose()\n",
        "  df_close['performance'] = (df_close[df_close.columns[-1]] - df_close[df_close.columns[0]])/df_close[df_close.columns[0]]\n",
        "  df_performance = df_close.iloc[:,-1:].reset_index()\n",
        "  df_performance.columns =['code','performance']\n",
        "  return df_performance"
      ],
      "execution_count": 3,
      "outputs": []
    },
    {
      "cell_type": "markdown",
      "metadata": {
        "id": "Zu25lLOoXzqr",
        "colab_type": "text"
      },
      "source": [
        "calculate their performance"
      ]
    },
    {
      "cell_type": "code",
      "metadata": {
        "id": "0p2h9V0sNyPf",
        "colab_type": "code",
        "colab": {
          "base_uri": "https://localhost:8080/",
          "height": 221
        },
        "outputId": "921f7169-e3c0-44d3-9919-c9fe0ebc550e"
      },
      "source": [
        "df_performance = get_company_performance()\n",
        "df_performance.head()"
      ],
      "execution_count": null,
      "outputs": [
        {
          "output_type": "stream",
          "text": [
            "[*********************100%***********************]  505 of 505 completed\n"
          ],
          "name": "stdout"
        },
        {
          "output_type": "execute_result",
          "data": {
            "text/html": [
              "<div>\n",
              "<style scoped>\n",
              "    .dataframe tbody tr th:only-of-type {\n",
              "        vertical-align: middle;\n",
              "    }\n",
              "\n",
              "    .dataframe tbody tr th {\n",
              "        vertical-align: top;\n",
              "    }\n",
              "\n",
              "    .dataframe thead th {\n",
              "        text-align: right;\n",
              "    }\n",
              "</style>\n",
              "<table border=\"1\" class=\"dataframe\">\n",
              "  <thead>\n",
              "    <tr style=\"text-align: right;\">\n",
              "      <th></th>\n",
              "      <th>code</th>\n",
              "      <th>performance</th>\n",
              "    </tr>\n",
              "  </thead>\n",
              "  <tbody>\n",
              "    <tr>\n",
              "      <th>0</th>\n",
              "      <td>HBI</td>\n",
              "      <td>-0.446808</td>\n",
              "    </tr>\n",
              "    <tr>\n",
              "      <th>1</th>\n",
              "      <td>DOW</td>\n",
              "      <td>-0.466977</td>\n",
              "    </tr>\n",
              "    <tr>\n",
              "      <th>2</th>\n",
              "      <td>PBCT</td>\n",
              "      <td>-0.313246</td>\n",
              "    </tr>\n",
              "    <tr>\n",
              "      <th>3</th>\n",
              "      <td>HSY</td>\n",
              "      <td>-0.042929</td>\n",
              "    </tr>\n",
              "    <tr>\n",
              "      <th>4</th>\n",
              "      <td>TIF</td>\n",
              "      <td>-0.040045</td>\n",
              "    </tr>\n",
              "  </tbody>\n",
              "</table>\n",
              "</div>"
            ],
            "text/plain": [
              "   code  performance\n",
              "0   HBI    -0.446808\n",
              "1   DOW    -0.466977\n",
              "2  PBCT    -0.313246\n",
              "3   HSY    -0.042929\n",
              "4   TIF    -0.040045"
            ]
          },
          "metadata": {
            "tags": []
          },
          "execution_count": 182
        }
      ]
    },
    {
      "cell_type": "markdown",
      "metadata": {
        "id": "HMtKi8wxufMA",
        "colab_type": "text"
      },
      "source": [
        "# S&P 500 companies and their sector"
      ]
    },
    {
      "cell_type": "code",
      "metadata": {
        "id": "0jsNMDddDFP0",
        "colab_type": "code",
        "colab": {}
      },
      "source": [
        "def get_company_sector():\n",
        "  tickers_sector = []\n",
        "  resp = requests.get('http://en.wikipedia.org/wiki/List_of_S%26P_500_companies')\n",
        "  soup = bs.BeautifulSoup(resp.text, 'lxml')\n",
        "  table = soup.find('table', {'class': 'wikitable sortable'})\n",
        "  for row in table.findAll('tr')[1:]:\n",
        "      ticker1 = row.findAll('td')[0].text.replace('\\n', '').replace('.','-')\n",
        "      sector = row.findAll('td')[3].text\n",
        "      tickers_sector.append((ticker1,sector))\n",
        "  df = pd.DataFrame(tickers_sector)\n",
        "  df.columns = ['code','sector']\n",
        "  return df\n"
      ],
      "execution_count": 4,
      "outputs": []
    },
    {
      "cell_type": "code",
      "metadata": {
        "id": "qXeuOzOG1YcP",
        "colab_type": "code",
        "colab": {
          "base_uri": "https://localhost:8080/",
          "height": 204
        },
        "outputId": "e18fb2f8-9402-49f9-eb82-316b43bbaf1d"
      },
      "source": [
        "df_sector = get_company_sector()\n",
        "df_sector.head()"
      ],
      "execution_count": 34,
      "outputs": [
        {
          "output_type": "execute_result",
          "data": {
            "text/html": [
              "<div>\n",
              "<style scoped>\n",
              "    .dataframe tbody tr th:only-of-type {\n",
              "        vertical-align: middle;\n",
              "    }\n",
              "\n",
              "    .dataframe tbody tr th {\n",
              "        vertical-align: top;\n",
              "    }\n",
              "\n",
              "    .dataframe thead th {\n",
              "        text-align: right;\n",
              "    }\n",
              "</style>\n",
              "<table border=\"1\" class=\"dataframe\">\n",
              "  <thead>\n",
              "    <tr style=\"text-align: right;\">\n",
              "      <th></th>\n",
              "      <th>code</th>\n",
              "      <th>sector</th>\n",
              "    </tr>\n",
              "  </thead>\n",
              "  <tbody>\n",
              "    <tr>\n",
              "      <th>0</th>\n",
              "      <td>MMM</td>\n",
              "      <td>Industrials</td>\n",
              "    </tr>\n",
              "    <tr>\n",
              "      <th>1</th>\n",
              "      <td>ABT</td>\n",
              "      <td>Health Care</td>\n",
              "    </tr>\n",
              "    <tr>\n",
              "      <th>2</th>\n",
              "      <td>ABBV</td>\n",
              "      <td>Health Care</td>\n",
              "    </tr>\n",
              "    <tr>\n",
              "      <th>3</th>\n",
              "      <td>ABMD</td>\n",
              "      <td>Health Care</td>\n",
              "    </tr>\n",
              "    <tr>\n",
              "      <th>4</th>\n",
              "      <td>ACN</td>\n",
              "      <td>Information Technology</td>\n",
              "    </tr>\n",
              "  </tbody>\n",
              "</table>\n",
              "</div>"
            ],
            "text/plain": [
              "   code                  sector\n",
              "0   MMM             Industrials\n",
              "1   ABT             Health Care\n",
              "2  ABBV             Health Care\n",
              "3  ABMD             Health Care\n",
              "4   ACN  Information Technology"
            ]
          },
          "metadata": {
            "tags": []
          },
          "execution_count": 34
        }
      ]
    },
    {
      "cell_type": "markdown",
      "metadata": {
        "id": "8odxAJgmus-w",
        "colab_type": "text"
      },
      "source": [
        "# TOP 5 company in each sector based on market cap"
      ]
    },
    {
      "cell_type": "code",
      "metadata": {
        "id": "lOEccw7WUP4N",
        "colab_type": "code",
        "colab": {}
      },
      "source": [
        "def get_quaterly_market_cap(code):\n",
        "  page = 'https://finance.yahoo.com/quote/'+code+'/key-statistics?p='+code\n",
        "  resp = requests.get(page)\n",
        "  soup = bs.BeautifulSoup(resp.text, 'lxml')\n",
        "  table = soup.find('tbody')\n",
        "  l = []\n",
        "  for i in table.findAll('tr')[0].findAll('td')[1:]:\n",
        "    if i=='N/A':\n",
        "      l.append(np.nan)\n",
        "    else:  \n",
        "      l.append(int(i.text.replace('.','').replace('T','0000000000').replace('B','0000000')))\n",
        "  return l"
      ],
      "execution_count": 192,
      "outputs": []
    },
    {
      "cell_type": "code",
      "metadata": {
        "id": "0dEN2u0cYykH",
        "colab_type": "code",
        "colab": {}
      },
      "source": [
        "def get_top5_by_cap(sector,quater):\n",
        "  #quater represent which quater's data we are looking at,\n",
        "  #It could be 0-5,0 represent current market cap data. 1-5 represent the Nth recent quater's data\n",
        "  #For example, when quater = 2,we are ordering the company based on the second recent qauter market cap\n",
        "  df = get_company_sector()        \n",
        "  df = df[df['sector']==sector]    \n",
        "  df['market_cap'] = df['code'].apply(get_quaterly_market_cap)\n",
        "  df = pd.DataFrame(df.market_cap.values.tolist(), df.code).add_prefix('quater_')\n",
        "  df = df.sort_values(by='quater_'+str(quater), ascending=False)\n",
        "  return df.index[:6]"
      ],
      "execution_count": 175,
      "outputs": []
    },
    {
      "cell_type": "code",
      "metadata": {
        "id": "XBykt9J-e5Q7",
        "colab_type": "code",
        "colab": {
          "base_uri": "https://localhost:8080/",
          "height": 34
        },
        "outputId": "b994548f-1e40-453b-f03e-c8bbba595a7e"
      },
      "source": [
        "get_top5_by_cap('Industrials',0)"
      ],
      "execution_count": null,
      "outputs": [
        {
          "output_type": "execute_result",
          "data": {
            "text/plain": [
              "Index(['UNP', 'BA', 'LMT', 'HON', 'RTX', 'UPS'], dtype='object', name='code')"
            ]
          },
          "metadata": {
            "tags": []
          },
          "execution_count": 209
        }
      ]
    },
    {
      "cell_type": "code",
      "metadata": {
        "id": "kmKD9yf-nwSW",
        "colab_type": "code",
        "colab": {
          "base_uri": "https://localhost:8080/",
          "height": 34
        },
        "outputId": "f31e665a-0985-4986-ae74-fe5e7a49465d"
      },
      "source": [
        "get_top5_by_cap('Consumer Discretionary',0)"
      ],
      "execution_count": null,
      "outputs": [
        {
          "output_type": "execute_result",
          "data": {
            "text/plain": [
              "Index(['AMZN', 'HD', 'NKE', 'MCD', 'LOW', 'SBUX'], dtype='object', name='code')"
            ]
          },
          "metadata": {
            "tags": []
          },
          "execution_count": 214
        }
      ]
    },
    {
      "cell_type": "code",
      "metadata": {
        "id": "x-vKWcqEZrwa",
        "colab_type": "code",
        "colab": {
          "base_uri": "https://localhost:8080/",
          "height": 34
        },
        "outputId": "0ee981ba-9c16-4aad-94c2-a879a222200b"
      },
      "source": [
        "get_top5_by_cap('Information Technology',0)"
      ],
      "execution_count": 179,
      "outputs": [
        {
          "output_type": "execute_result",
          "data": {
            "text/plain": [
              "Index(['AAPL', 'MSFT', 'V', 'MA', 'INTC', 'NVDA'], dtype='object', name='code')"
            ]
          },
          "metadata": {
            "tags": []
          },
          "execution_count": 179
        }
      ]
    },
    {
      "cell_type": "code",
      "metadata": {
        "id": "Lj-A_jxJaWm_",
        "colab_type": "code",
        "colab": {
          "base_uri": "https://localhost:8080/",
          "height": 34
        },
        "outputId": "99e2e2f1-048b-462c-8a1c-4d132fc02baa"
      },
      "source": [
        "get_top5_by_cap('Financials',0)"
      ],
      "execution_count": 180,
      "outputs": [
        {
          "output_type": "execute_result",
          "data": {
            "text/plain": [
              "Index(['BRK-B', 'JPM', 'BAC', 'WFC', 'C', 'AXP'], dtype='object', name='code')"
            ]
          },
          "metadata": {
            "tags": []
          },
          "execution_count": 180
        }
      ]
    },
    {
      "cell_type": "code",
      "metadata": {
        "id": "XJRgzAGOaaeC",
        "colab_type": "code",
        "colab": {
          "base_uri": "https://localhost:8080/",
          "height": 34
        },
        "outputId": "3404872a-91aa-4bb3-a58f-216a066d05ea"
      },
      "source": [
        "get_top5_by_cap('Health Care',0)"
      ],
      "execution_count": 181,
      "outputs": [
        {
          "output_type": "execute_result",
          "data": {
            "text/plain": [
              "Index(['JNJ', 'UNH', 'MRK', 'PFE', 'ABBV', 'ABT'], dtype='object', name='code')"
            ]
          },
          "metadata": {
            "tags": []
          },
          "execution_count": 181
        }
      ]
    },
    {
      "cell_type": "code",
      "metadata": {
        "id": "NTflofnLabIN",
        "colab_type": "code",
        "colab": {
          "base_uri": "https://localhost:8080/",
          "height": 34
        },
        "outputId": "2edb68b3-76ee-494d-a401-6519c456803d"
      },
      "source": [
        "get_top5_by_cap('Consumer Staples',0)"
      ],
      "execution_count": 182,
      "outputs": [
        {
          "output_type": "execute_result",
          "data": {
            "text/plain": [
              "Index(['WMT', 'PG', 'KO', 'PEP', 'COST', 'PM'], dtype='object', name='code')"
            ]
          },
          "metadata": {
            "tags": []
          },
          "execution_count": 182
        }
      ]
    },
    {
      "cell_type": "code",
      "metadata": {
        "id": "ZQlQeOO5abjH",
        "colab_type": "code",
        "colab": {
          "base_uri": "https://localhost:8080/",
          "height": 34
        },
        "outputId": "bb76c1e0-951d-4242-c926-2c1196219669"
      },
      "source": [
        "get_top5_by_cap('Real Estate',0)"
      ],
      "execution_count": 183,
      "outputs": [
        {
          "output_type": "execute_result",
          "data": {
            "text/plain": [
              "Index(['AMT', 'PLD', 'CCI', 'EQIX', 'DLR', 'PSA'], dtype='object', name='code')"
            ]
          },
          "metadata": {
            "tags": []
          },
          "execution_count": 183
        }
      ]
    },
    {
      "cell_type": "code",
      "metadata": {
        "id": "JpZ1NeXcab7D",
        "colab_type": "code",
        "colab": {
          "base_uri": "https://localhost:8080/",
          "height": 34
        },
        "outputId": "9a6acab3-7f44-4d62-cf49-f4f152b28872"
      },
      "source": [
        "get_top5_by_cap('Utilities',0)"
      ],
      "execution_count": 184,
      "outputs": [
        {
          "output_type": "execute_result",
          "data": {
            "text/plain": [
              "Index(['NEE', 'D', 'DUK', 'SO', 'AEP', 'EXC'], dtype='object', name='code')"
            ]
          },
          "metadata": {
            "tags": []
          },
          "execution_count": 184
        }
      ]
    },
    {
      "cell_type": "code",
      "metadata": {
        "id": "oLvENNK0acNV",
        "colab_type": "code",
        "colab": {
          "base_uri": "https://localhost:8080/",
          "height": 34
        },
        "outputId": "8d9a3312-afe6-4d9b-c365-c252b9c7622c"
      },
      "source": [
        "get_top5_by_cap('Materials',0)"
      ],
      "execution_count": 185,
      "outputs": [
        {
          "output_type": "execute_result",
          "data": {
            "text/plain": [
              "Index(['ECL', 'APD', 'DD', 'DOW', 'BLL', 'CTVA'], dtype='object', name='code')"
            ]
          },
          "metadata": {
            "tags": []
          },
          "execution_count": 185
        }
      ]
    },
    {
      "cell_type": "code",
      "metadata": {
        "id": "xe3BKlUVae_A",
        "colab_type": "code",
        "colab": {
          "base_uri": "https://localhost:8080/",
          "height": 34
        },
        "outputId": "66ffec1a-5cfe-4b47-9095-f4c7dde12d48"
      },
      "source": [
        "get_top5_by_cap('Energy',0)"
      ],
      "execution_count": 186,
      "outputs": [
        {
          "output_type": "execute_result",
          "data": {
            "text/plain": [
              "Index(['APA', 'MRO', 'DVN', 'NBL', 'HAL', 'HES'], dtype='object', name='code')"
            ]
          },
          "metadata": {
            "tags": []
          },
          "execution_count": 186
        }
      ]
    },
    {
      "cell_type": "code",
      "metadata": {
        "id": "EQ8sud58afjV",
        "colab_type": "code",
        "colab": {
          "base_uri": "https://localhost:8080/",
          "height": 34
        },
        "outputId": "8a34bf88-b90c-4a56-af8c-3a5a8f5087fa"
      },
      "source": [
        "get_top5_by_cap('Communication Services',0)"
      ],
      "execution_count": 193,
      "outputs": [
        {
          "output_type": "execute_result",
          "data": {
            "text/plain": [
              "Index(['GOOG', 'GOOGL', 'FB', 'T', 'DIS', 'NFLX'], dtype='object', name='code')"
            ]
          },
          "metadata": {
            "tags": []
          },
          "execution_count": 193
        }
      ]
    },
    {
      "cell_type": "markdown",
      "metadata": {
        "id": "eXJNLODlONck",
        "colab_type": "text"
      },
      "source": [
        "# Find most important metrics for each sector and ranking"
      ]
    },
    {
      "cell_type": "code",
      "metadata": {
        "id": "infrF_GAPN4G",
        "colab_type": "code",
        "colab": {}
      },
      "source": [
        "def get_metrics(code,q):\n",
        "  page = 'https://finance.yahoo.com/quote/'+code+'/key-statistics?p='+code\n",
        "  resp = requests.get(page)\n",
        "  soup = bs.BeautifulSoup(resp.text, 'lxml')\n",
        "  table = soup.find('tbody')\n",
        "  l = []\n",
        "  for i in table.findAll('tr')[2:]:\n",
        "    l.append(i.findAll('td')[q+1].text)\n",
        "  return l\n",
        "\n",
        "def get_performance_metrics(df_sub,sector,q):\n",
        "  #df_performance = get_company_performance()\n",
        "  #df_sector = get_company_sector()\n",
        "  #df_sub = pd.merge(df_performance,df_sector,on='code')\n",
        "\n",
        "  df_sub = df_sub[df_sub['sector'] == sector]\n",
        "  df_sub['metrics'] = df_sub['code'].apply(get_metrics,args=(q,))\n",
        "  df_sub[['Trailing P/E','Forward P/E','PEG Ratio','Price/Sales (ttm)','Price/Book (mrq)','Enterprise Value/Revenue','Enterprise Value/EBITDA']]= pd.DataFrame(df_sub.metrics.values.tolist(),df_sub.index)\n",
        "  df_sub.drop(columns=['metrics'],inplace=True)\n",
        "  return df_sub\n",
        "\n",
        "\n",
        "def analyze_df(df):\n",
        "  top20 = df['performance'].quantile(0.8)\n",
        "  buttom20 = df['performance'].quantile(0.2)\n",
        "  t = df[df['performance']>top20]\\\n",
        "      .iloc[:,3:]\\\n",
        "      .replace(['2.50k','-1.09k','N/A','-2.58k','1.08k'],['2500','-1090',np.nan,'-2580','1080'])\\\n",
        "      .astype('float')\\\n",
        "      .mean(axis = 0,skipna = 'True')\n",
        "  b = df[df['performance']<buttom20]\\\n",
        "      .iloc[:,3:]\\\n",
        "      .replace(['2.50k','-1.09k','N/A','-2.58k','1.08k'],['2500','-1090',np.nan,'-2580','1080'])\\\n",
        "      .astype('float')\\\n",
        "      .mean(axis = 0,skipna = 'True')\n",
        "  avg = df.iloc[:,3:]\\\n",
        "      .replace(['2.50k','-1.09k','N/A','-2.58k','1.08k'],['2500','-1090',np.nan,'-2580','1080'])\\\n",
        "      .astype('float')\\\n",
        "      .mean(axis = 0,skipna = 'True')\n",
        "\n",
        "  t = pd.DataFrame(t)\n",
        "  t.columns = ['top_20_percent']\n",
        "  b = pd.DataFrame(b)\n",
        "  b.columns = ['bottom_20_percent']\n",
        "  avg = pd.DataFrame(avg)\n",
        "  avg.columns = ['average']\n",
        "\n",
        "  res = t.join(avg).join(b)\n",
        "  res['top and avg diff'] = (res['top_20_percent']-res['average'])/(res['average'])\n",
        "  res['top and bottom diff'] = (res['top_20_percent']-res['bottom_20_percent'])/(res['bottom_20_percent'])\n",
        "  return res\n",
        "\n",
        "def get_top_5(df,metrics,asc=False):\n",
        "  return df.sort_values(by=metrics, ascending=asc)['code'].head(5).reset_index()['code']\n"
      ],
      "execution_count": 167,
      "outputs": []
    },
    {
      "cell_type": "code",
      "metadata": {
        "id": "OGq4xKDmAYiG",
        "colab_type": "code",
        "colab": {
          "base_uri": "https://localhost:8080/",
          "height": 34
        },
        "outputId": "cf5b26f3-6f5a-4c4e-99e2-9028071148d5"
      },
      "source": [
        "  df_performance = get_company_performance()\n",
        "  df_sector = get_company_sector()\n",
        "  \n",
        "  df_all = pd.merge(df_performance,df_sector,on='code')"
      ],
      "execution_count": 10,
      "outputs": [
        {
          "output_type": "stream",
          "text": [
            "[*********************100%***********************]  505 of 505 completed\n"
          ],
          "name": "stdout"
        }
      ]
    },
    {
      "cell_type": "markdown",
      "metadata": {
        "id": "J6MbtfB8pyDs",
        "colab_type": "text"
      },
      "source": [
        "## Industrials"
      ]
    },
    {
      "cell_type": "code",
      "metadata": {
        "id": "srNLDKMLGgbY",
        "colab_type": "code",
        "colab": {}
      },
      "source": [
        "df = get_performance_metrics(df_all,'Industrials',1)"
      ],
      "execution_count": null,
      "outputs": []
    },
    {
      "cell_type": "code",
      "metadata": {
        "id": "TD6MMRTAVwPi",
        "colab_type": "code",
        "colab": {
          "base_uri": "https://localhost:8080/",
          "height": 85
        },
        "outputId": "90b23c89-16ca-4db1-fd2c-133196b041ac"
      },
      "source": [
        "df.columns"
      ],
      "execution_count": 147,
      "outputs": [
        {
          "output_type": "execute_result",
          "data": {
            "text/plain": [
              "Index(['code', 'performance', 'sector', 'Trailing P/E', 'Forward P/E',\n",
              "       'PEG Ratio', 'Price/Sales (ttm)', 'Price/Book (mrq)',\n",
              "       'Enterprise Value/Revenue', 'Enterprise Value/EBITDA'],\n",
              "      dtype='object')"
            ]
          },
          "metadata": {
            "tags": []
          },
          "execution_count": 147
        }
      ]
    },
    {
      "cell_type": "code",
      "metadata": {
        "id": "IAgvhc7u4_r2",
        "colab_type": "code",
        "colab": {
          "base_uri": "https://localhost:8080/",
          "height": 266
        },
        "outputId": "0296d744-2b55-48ce-bf54-b180efe77567"
      },
      "source": [
        "analyze_df(df)"
      ],
      "execution_count": 124,
      "outputs": [
        {
          "output_type": "execute_result",
          "data": {
            "text/html": [
              "<div>\n",
              "<style scoped>\n",
              "    .dataframe tbody tr th:only-of-type {\n",
              "        vertical-align: middle;\n",
              "    }\n",
              "\n",
              "    .dataframe tbody tr th {\n",
              "        vertical-align: top;\n",
              "    }\n",
              "\n",
              "    .dataframe thead th {\n",
              "        text-align: right;\n",
              "    }\n",
              "</style>\n",
              "<table border=\"1\" class=\"dataframe\">\n",
              "  <thead>\n",
              "    <tr style=\"text-align: right;\">\n",
              "      <th></th>\n",
              "      <th>top_20_percent</th>\n",
              "      <th>average</th>\n",
              "      <th>bottom_20_percent</th>\n",
              "      <th>top and avg diff</th>\n",
              "      <th>top and bottom diff</th>\n",
              "    </tr>\n",
              "  </thead>\n",
              "  <tbody>\n",
              "    <tr>\n",
              "      <th>Trailing P/E</th>\n",
              "      <td>25.217143</td>\n",
              "      <td>24.258235</td>\n",
              "      <td>11.672143</td>\n",
              "      <td>0.039529</td>\n",
              "      <td>1.160455</td>\n",
              "    </tr>\n",
              "    <tr>\n",
              "      <th>Forward P/E</th>\n",
              "      <td>20.554615</td>\n",
              "      <td>15.282857</td>\n",
              "      <td>11.306667</td>\n",
              "      <td>0.344946</td>\n",
              "      <td>0.817920</td>\n",
              "    </tr>\n",
              "    <tr>\n",
              "      <th>PEG Ratio</th>\n",
              "      <td>2.117000</td>\n",
              "      <td>12.649821</td>\n",
              "      <td>68.017778</td>\n",
              "      <td>-0.832646</td>\n",
              "      <td>-0.968876</td>\n",
              "    </tr>\n",
              "    <tr>\n",
              "      <th>Price/Sales (ttm)</th>\n",
              "      <td>3.022667</td>\n",
              "      <td>2.117500</td>\n",
              "      <td>0.954667</td>\n",
              "      <td>0.427470</td>\n",
              "      <td>2.166201</td>\n",
              "    </tr>\n",
              "    <tr>\n",
              "      <th>Price/Book (mrq)</th>\n",
              "      <td>7.206000</td>\n",
              "      <td>5.080882</td>\n",
              "      <td>1.906667</td>\n",
              "      <td>0.418258</td>\n",
              "      <td>2.779371</td>\n",
              "    </tr>\n",
              "    <tr>\n",
              "      <th>Enterprise Value/Revenue</th>\n",
              "      <td>13.132667</td>\n",
              "      <td>10.524861</td>\n",
              "      <td>6.552000</td>\n",
              "      <td>0.247776</td>\n",
              "      <td>1.004375</td>\n",
              "    </tr>\n",
              "    <tr>\n",
              "      <th>Enterprise Value/EBITDA</th>\n",
              "      <td>52.836000</td>\n",
              "      <td>34.394306</td>\n",
              "      <td>13.972667</td>\n",
              "      <td>0.536185</td>\n",
              "      <td>2.781383</td>\n",
              "    </tr>\n",
              "  </tbody>\n",
              "</table>\n",
              "</div>"
            ],
            "text/plain": [
              "                          top_20_percent  ...  top and bottom diff\n",
              "Trailing P/E                   25.217143  ...             1.160455\n",
              "Forward P/E                    20.554615  ...             0.817920\n",
              "PEG Ratio                       2.117000  ...            -0.968876\n",
              "Price/Sales (ttm)               3.022667  ...             2.166201\n",
              "Price/Book (mrq)                7.206000  ...             2.779371\n",
              "Enterprise Value/Revenue       13.132667  ...             1.004375\n",
              "Enterprise Value/EBITDA        52.836000  ...             2.781383\n",
              "\n",
              "[7 rows x 5 columns]"
            ]
          },
          "metadata": {
            "tags": []
          },
          "execution_count": 124
        }
      ]
    },
    {
      "cell_type": "code",
      "metadata": {
        "id": "vnhDGeArUiTq",
        "colab_type": "code",
        "colab": {
          "base_uri": "https://localhost:8080/",
          "height": 119
        },
        "outputId": "be556387-d759-4c72-8ae2-f955a4fcbad7"
      },
      "source": [
        "get_top_5(df,'Enterprise Value/EBITDA')"
      ],
      "execution_count": 152,
      "outputs": [
        {
          "output_type": "execute_result",
          "data": {
            "text/plain": [
              "0      TT\n",
              "1     LUV\n",
              "2      GE\n",
              "3     LHX\n",
              "4    CPRT\n",
              "Name: code, dtype: object"
            ]
          },
          "metadata": {
            "tags": []
          },
          "execution_count": 152
        }
      ]
    },
    {
      "cell_type": "markdown",
      "metadata": {
        "id": "HOQxHXJpqQ2t",
        "colab_type": "text"
      },
      "source": [
        "## IT"
      ]
    },
    {
      "cell_type": "code",
      "metadata": {
        "id": "dKJPPcInpIfy",
        "colab_type": "code",
        "colab": {}
      },
      "source": [
        "df_it = get_performance_metrics(df_all,'Information Technology',1)"
      ],
      "execution_count": null,
      "outputs": []
    },
    {
      "cell_type": "code",
      "metadata": {
        "id": "9ijE_DS144Pq",
        "colab_type": "code",
        "colab": {
          "base_uri": "https://localhost:8080/",
          "height": 266
        },
        "outputId": "93c8dd11-00a3-479e-e314-62bc414c0adc"
      },
      "source": [
        "analyze_df(df_it)"
      ],
      "execution_count": 125,
      "outputs": [
        {
          "output_type": "execute_result",
          "data": {
            "text/html": [
              "<div>\n",
              "<style scoped>\n",
              "    .dataframe tbody tr th:only-of-type {\n",
              "        vertical-align: middle;\n",
              "    }\n",
              "\n",
              "    .dataframe tbody tr th {\n",
              "        vertical-align: top;\n",
              "    }\n",
              "\n",
              "    .dataframe thead th {\n",
              "        text-align: right;\n",
              "    }\n",
              "</style>\n",
              "<table border=\"1\" class=\"dataframe\">\n",
              "  <thead>\n",
              "    <tr style=\"text-align: right;\">\n",
              "      <th></th>\n",
              "      <th>top_20_percent</th>\n",
              "      <th>average</th>\n",
              "      <th>bottom_20_percent</th>\n",
              "      <th>top and avg diff</th>\n",
              "      <th>top and bottom diff</th>\n",
              "    </tr>\n",
              "  </thead>\n",
              "  <tbody>\n",
              "    <tr>\n",
              "      <th>Trailing P/E</th>\n",
              "      <td>47.030000</td>\n",
              "      <td>49.207536</td>\n",
              "      <td>18.420000</td>\n",
              "      <td>-0.044252</td>\n",
              "      <td>1.553203</td>\n",
              "    </tr>\n",
              "    <tr>\n",
              "      <th>Forward P/E</th>\n",
              "      <td>31.333571</td>\n",
              "      <td>20.948873</td>\n",
              "      <td>11.177857</td>\n",
              "      <td>0.495716</td>\n",
              "      <td>1.803182</td>\n",
              "    </tr>\n",
              "    <tr>\n",
              "      <th>PEG Ratio</th>\n",
              "      <td>2.700769</td>\n",
              "      <td>2.102222</td>\n",
              "      <td>1.352000</td>\n",
              "      <td>0.284721</td>\n",
              "      <td>0.997610</td>\n",
              "    </tr>\n",
              "    <tr>\n",
              "      <th>Price/Sales (ttm)</th>\n",
              "      <td>9.341429</td>\n",
              "      <td>5.437324</td>\n",
              "      <td>1.882857</td>\n",
              "      <td>0.718020</td>\n",
              "      <td>3.961305</td>\n",
              "    </tr>\n",
              "    <tr>\n",
              "      <th>Price/Book (mrq)</th>\n",
              "      <td>12.537692</td>\n",
              "      <td>8.104091</td>\n",
              "      <td>5.719286</td>\n",
              "      <td>0.547082</td>\n",
              "      <td>1.192178</td>\n",
              "    </tr>\n",
              "    <tr>\n",
              "      <th>Enterprise Value/Revenue</th>\n",
              "      <td>33.522143</td>\n",
              "      <td>21.420563</td>\n",
              "      <td>9.536429</td>\n",
              "      <td>0.564952</td>\n",
              "      <td>2.515167</td>\n",
              "    </tr>\n",
              "    <tr>\n",
              "      <th>Enterprise Value/EBITDA</th>\n",
              "      <td>124.037857</td>\n",
              "      <td>81.839577</td>\n",
              "      <td>37.170714</td>\n",
              "      <td>0.515622</td>\n",
              "      <td>2.336978</td>\n",
              "    </tr>\n",
              "  </tbody>\n",
              "</table>\n",
              "</div>"
            ],
            "text/plain": [
              "                          top_20_percent  ...  top and bottom diff\n",
              "Trailing P/E                   47.030000  ...             1.553203\n",
              "Forward P/E                    31.333571  ...             1.803182\n",
              "PEG Ratio                       2.700769  ...             0.997610\n",
              "Price/Sales (ttm)               9.341429  ...             3.961305\n",
              "Price/Book (mrq)               12.537692  ...             1.192178\n",
              "Enterprise Value/Revenue       33.522143  ...             2.515167\n",
              "Enterprise Value/EBITDA       124.037857  ...             2.336978\n",
              "\n",
              "[7 rows x 5 columns]"
            ]
          },
          "metadata": {
            "tags": []
          },
          "execution_count": 125
        }
      ]
    },
    {
      "cell_type": "code",
      "metadata": {
        "id": "Q8sB8UiEWKkx",
        "colab_type": "code",
        "colab": {
          "base_uri": "https://localhost:8080/",
          "height": 119
        },
        "outputId": "3f810679-3076-49ae-8771-14ac9e0212c3"
      },
      "source": [
        "get_top_5(df_it,'Price/Sales (ttm)')"
      ],
      "execution_count": 153,
      "outputs": [
        {
          "output_type": "execute_result",
          "data": {
            "text/plain": [
              "0    INTU\n",
              "1    MSFT\n",
              "2    FTNT\n",
              "3     CRM\n",
              "4    CDNS\n",
              "Name: code, dtype: object"
            ]
          },
          "metadata": {
            "tags": []
          },
          "execution_count": 153
        }
      ]
    },
    {
      "cell_type": "markdown",
      "metadata": {
        "id": "d7zi22gYqgyE",
        "colab_type": "text"
      },
      "source": [
        "## Financials"
      ]
    },
    {
      "cell_type": "code",
      "metadata": {
        "id": "NXRjcQoirmfk",
        "colab_type": "code",
        "colab": {}
      },
      "source": [
        "df_f = get_performance_metrics(df_all,'Financials',1)"
      ],
      "execution_count": null,
      "outputs": []
    },
    {
      "cell_type": "code",
      "metadata": {
        "id": "-YsnycUo4uEr",
        "colab_type": "code",
        "colab": {
          "base_uri": "https://localhost:8080/",
          "height": 266
        },
        "outputId": "7d3c755f-f3b4-446e-daed-5ce303a2677b"
      },
      "source": [
        "analyze_df(df_f)"
      ],
      "execution_count": 127,
      "outputs": [
        {
          "output_type": "execute_result",
          "data": {
            "text/html": [
              "<div>\n",
              "<style scoped>\n",
              "    .dataframe tbody tr th:only-of-type {\n",
              "        vertical-align: middle;\n",
              "    }\n",
              "\n",
              "    .dataframe tbody tr th {\n",
              "        vertical-align: top;\n",
              "    }\n",
              "\n",
              "    .dataframe thead th {\n",
              "        text-align: right;\n",
              "    }\n",
              "</style>\n",
              "<table border=\"1\" class=\"dataframe\">\n",
              "  <thead>\n",
              "    <tr style=\"text-align: right;\">\n",
              "      <th></th>\n",
              "      <th>top_20_percent</th>\n",
              "      <th>average</th>\n",
              "      <th>bottom_20_percent</th>\n",
              "      <th>top and avg diff</th>\n",
              "      <th>top and bottom diff</th>\n",
              "    </tr>\n",
              "  </thead>\n",
              "  <tbody>\n",
              "    <tr>\n",
              "      <th>Trailing P/E</th>\n",
              "      <td>26.082308</td>\n",
              "      <td>11.979848</td>\n",
              "      <td>5.013077</td>\n",
              "      <td>1.177182</td>\n",
              "      <td>4.202854</td>\n",
              "    </tr>\n",
              "    <tr>\n",
              "      <th>Forward P/E</th>\n",
              "      <td>22.020769</td>\n",
              "      <td>10.992923</td>\n",
              "      <td>4.531538</td>\n",
              "      <td>1.003177</td>\n",
              "      <td>3.859447</td>\n",
              "    </tr>\n",
              "    <tr>\n",
              "      <th>PEG Ratio</th>\n",
              "      <td>2.276364</td>\n",
              "      <td>1.854222</td>\n",
              "      <td>1.307143</td>\n",
              "      <td>0.227665</td>\n",
              "      <td>0.741480</td>\n",
              "    </tr>\n",
              "    <tr>\n",
              "      <th>Price/Sales (ttm)</th>\n",
              "      <td>7.397692</td>\n",
              "      <td>2.794848</td>\n",
              "      <td>1.001538</td>\n",
              "      <td>1.646903</td>\n",
              "      <td>6.386329</td>\n",
              "    </tr>\n",
              "    <tr>\n",
              "      <th>Price/Book (mrq)</th>\n",
              "      <td>19.589167</td>\n",
              "      <td>4.493846</td>\n",
              "      <td>0.510769</td>\n",
              "      <td>3.359109</td>\n",
              "      <td>37.352284</td>\n",
              "    </tr>\n",
              "    <tr>\n",
              "      <th>Enterprise Value/Revenue</th>\n",
              "      <td>26.036923</td>\n",
              "      <td>7.771389</td>\n",
              "      <td>4.327500</td>\n",
              "      <td>2.350356</td>\n",
              "      <td>5.016620</td>\n",
              "    </tr>\n",
              "    <tr>\n",
              "      <th>Enterprise Value/EBITDA</th>\n",
              "      <td>63.401818</td>\n",
              "      <td>55.689375</td>\n",
              "      <td>57.820000</td>\n",
              "      <td>0.138490</td>\n",
              "      <td>0.096538</td>\n",
              "    </tr>\n",
              "  </tbody>\n",
              "</table>\n",
              "</div>"
            ],
            "text/plain": [
              "                          top_20_percent  ...  top and bottom diff\n",
              "Trailing P/E                   26.082308  ...             4.202854\n",
              "Forward P/E                    22.020769  ...             3.859447\n",
              "PEG Ratio                       2.276364  ...             0.741480\n",
              "Price/Sales (ttm)               7.397692  ...             6.386329\n",
              "Price/Book (mrq)               19.589167  ...            37.352284\n",
              "Enterprise Value/Revenue       26.036923  ...             5.016620\n",
              "Enterprise Value/EBITDA        63.401818  ...             0.096538\n",
              "\n",
              "[7 rows x 5 columns]"
            ]
          },
          "metadata": {
            "tags": []
          },
          "execution_count": 127
        }
      ]
    },
    {
      "cell_type": "code",
      "metadata": {
        "id": "lIAAGhMbW_Gr",
        "colab_type": "code",
        "colab": {
          "base_uri": "https://localhost:8080/",
          "height": 119
        },
        "outputId": "212c5f77-e947-46bb-8603-0a85101f708b"
      },
      "source": [
        "get_top_5(df_f,'Price/Book (mrq)')"
      ],
      "execution_count": 159,
      "outputs": [
        {
          "output_type": "execute_result",
          "data": {
            "text/plain": [
              "0    MSCI\n",
              "1     MCO\n",
              "2     MMC\n",
              "3     PGR\n",
              "4    TROW\n",
              "Name: code, dtype: object"
            ]
          },
          "metadata": {
            "tags": []
          },
          "execution_count": 159
        }
      ]
    },
    {
      "cell_type": "markdown",
      "metadata": {
        "id": "up1qn1G6rtBA",
        "colab_type": "text"
      },
      "source": [
        "## Consumer Discretionary"
      ]
    },
    {
      "cell_type": "code",
      "metadata": {
        "id": "5m3LWuduru85",
        "colab_type": "code",
        "colab": {}
      },
      "source": [
        "df_cd = get_performance_metrics(df_all,'Consumer Discretionary',1)"
      ],
      "execution_count": null,
      "outputs": []
    },
    {
      "cell_type": "code",
      "metadata": {
        "id": "cGHKZBv50d7B",
        "colab_type": "code",
        "colab": {
          "base_uri": "https://localhost:8080/",
          "height": 266
        },
        "outputId": "c109eeb4-9d0d-4a57-e05e-803b6d16bab7"
      },
      "source": [
        "analyze_df(df_cd)"
      ],
      "execution_count": 128,
      "outputs": [
        {
          "output_type": "execute_result",
          "data": {
            "text/html": [
              "<div>\n",
              "<style scoped>\n",
              "    .dataframe tbody tr th:only-of-type {\n",
              "        vertical-align: middle;\n",
              "    }\n",
              "\n",
              "    .dataframe tbody tr th {\n",
              "        vertical-align: top;\n",
              "    }\n",
              "\n",
              "    .dataframe thead th {\n",
              "        text-align: right;\n",
              "    }\n",
              "</style>\n",
              "<table border=\"1\" class=\"dataframe\">\n",
              "  <thead>\n",
              "    <tr style=\"text-align: right;\">\n",
              "      <th></th>\n",
              "      <th>top_20_percent</th>\n",
              "      <th>average</th>\n",
              "      <th>bottom_20_percent</th>\n",
              "      <th>top and avg diff</th>\n",
              "      <th>top and bottom diff</th>\n",
              "    </tr>\n",
              "  </thead>\n",
              "  <tbody>\n",
              "    <tr>\n",
              "      <th>Trailing P/E</th>\n",
              "      <td>27.173077</td>\n",
              "      <td>25.064677</td>\n",
              "      <td>15.126923</td>\n",
              "      <td>0.084118</td>\n",
              "      <td>0.796339</td>\n",
              "    </tr>\n",
              "    <tr>\n",
              "      <th>Forward P/E</th>\n",
              "      <td>24.258462</td>\n",
              "      <td>16.543710</td>\n",
              "      <td>17.249231</td>\n",
              "      <td>0.466325</td>\n",
              "      <td>0.406350</td>\n",
              "    </tr>\n",
              "    <tr>\n",
              "      <th>PEG Ratio</th>\n",
              "      <td>2.331538</td>\n",
              "      <td>1.763889</td>\n",
              "      <td>1.831000</td>\n",
              "      <td>0.321817</td>\n",
              "      <td>0.273369</td>\n",
              "    </tr>\n",
              "    <tr>\n",
              "      <th>Price/Sales (ttm)</th>\n",
              "      <td>2.648462</td>\n",
              "      <td>1.420000</td>\n",
              "      <td>0.547692</td>\n",
              "      <td>0.865114</td>\n",
              "      <td>3.835674</td>\n",
              "    </tr>\n",
              "    <tr>\n",
              "      <th>Price/Book (mrq)</th>\n",
              "      <td>7.583000</td>\n",
              "      <td>5.929630</td>\n",
              "      <td>1.358462</td>\n",
              "      <td>0.278832</td>\n",
              "      <td>4.582050</td>\n",
              "    </tr>\n",
              "    <tr>\n",
              "      <th>Enterprise Value/Revenue</th>\n",
              "      <td>14.180769</td>\n",
              "      <td>9.187302</td>\n",
              "      <td>6.659231</td>\n",
              "      <td>0.543518</td>\n",
              "      <td>1.129491</td>\n",
              "    </tr>\n",
              "    <tr>\n",
              "      <th>Enterprise Value/EBITDA</th>\n",
              "      <td>-28.557692</td>\n",
              "      <td>-29.699841</td>\n",
              "      <td>-39.344615</td>\n",
              "      <td>-0.038456</td>\n",
              "      <td>-0.274165</td>\n",
              "    </tr>\n",
              "  </tbody>\n",
              "</table>\n",
              "</div>"
            ],
            "text/plain": [
              "                          top_20_percent  ...  top and bottom diff\n",
              "Trailing P/E                   27.173077  ...             0.796339\n",
              "Forward P/E                    24.258462  ...             0.406350\n",
              "PEG Ratio                       2.331538  ...             0.273369\n",
              "Price/Sales (ttm)               2.648462  ...             3.835674\n",
              "Price/Book (mrq)                7.583000  ...             4.582050\n",
              "Enterprise Value/Revenue       14.180769  ...             1.129491\n",
              "Enterprise Value/EBITDA       -28.557692  ...            -0.274165\n",
              "\n",
              "[7 rows x 5 columns]"
            ]
          },
          "metadata": {
            "tags": []
          },
          "execution_count": 128
        }
      ]
    },
    {
      "cell_type": "code",
      "metadata": {
        "id": "g4t8rzKgXMcl",
        "colab_type": "code",
        "colab": {
          "base_uri": "https://localhost:8080/",
          "height": 119
        },
        "outputId": "736585b3-5340-43c5-b990-c4945641acf6"
      },
      "source": [
        "get_top_5(df_cd,'Price/Book (mrq)')"
      ],
      "execution_count": 160,
      "outputs": [
        {
          "output_type": "execute_result",
          "data": {
            "text/plain": [
              "0     DPZ\n",
              "1     YUM\n",
              "2    SBUX\n",
              "3     MCD\n",
              "4      LB\n",
              "Name: code, dtype: object"
            ]
          },
          "metadata": {
            "tags": []
          },
          "execution_count": 160
        }
      ]
    },
    {
      "cell_type": "markdown",
      "metadata": {
        "id": "3YiZWpZyqK1a",
        "colab_type": "text"
      },
      "source": [
        "## Health Care"
      ]
    },
    {
      "cell_type": "code",
      "metadata": {
        "id": "s5UdnyPDo9Hh",
        "colab_type": "code",
        "colab": {}
      },
      "source": [
        "df_hc = get_performance_metrics(df_all,'Health Care',1)"
      ],
      "execution_count": null,
      "outputs": []
    },
    {
      "cell_type": "code",
      "metadata": {
        "id": "1iMtbkPy4gSK",
        "colab_type": "code",
        "colab": {
          "base_uri": "https://localhost:8080/",
          "height": 266
        },
        "outputId": "ca1be861-a926-4ddf-e7f3-02ac564f9ecd"
      },
      "source": [
        "analyze_df(df_hc)"
      ],
      "execution_count": 129,
      "outputs": [
        {
          "output_type": "execute_result",
          "data": {
            "text/html": [
              "<div>\n",
              "<style scoped>\n",
              "    .dataframe tbody tr th:only-of-type {\n",
              "        vertical-align: middle;\n",
              "    }\n",
              "\n",
              "    .dataframe tbody tr th {\n",
              "        vertical-align: top;\n",
              "    }\n",
              "\n",
              "    .dataframe thead th {\n",
              "        text-align: right;\n",
              "    }\n",
              "</style>\n",
              "<table border=\"1\" class=\"dataframe\">\n",
              "  <thead>\n",
              "    <tr style=\"text-align: right;\">\n",
              "      <th></th>\n",
              "      <th>top_20_percent</th>\n",
              "      <th>average</th>\n",
              "      <th>bottom_20_percent</th>\n",
              "      <th>top and avg diff</th>\n",
              "      <th>top and bottom diff</th>\n",
              "    </tr>\n",
              "  </thead>\n",
              "  <tbody>\n",
              "    <tr>\n",
              "      <th>Trailing P/E</th>\n",
              "      <td>51.933000</td>\n",
              "      <td>42.049153</td>\n",
              "      <td>75.950833</td>\n",
              "      <td>0.235055</td>\n",
              "      <td>-0.316229</td>\n",
              "    </tr>\n",
              "    <tr>\n",
              "      <th>Forward P/E</th>\n",
              "      <td>29.537500</td>\n",
              "      <td>20.312167</td>\n",
              "      <td>14.440000</td>\n",
              "      <td>0.454178</td>\n",
              "      <td>1.045533</td>\n",
              "    </tr>\n",
              "    <tr>\n",
              "      <th>PEG Ratio</th>\n",
              "      <td>4.490000</td>\n",
              "      <td>3.930926</td>\n",
              "      <td>1.896250</td>\n",
              "      <td>0.142225</td>\n",
              "      <td>1.367831</td>\n",
              "    </tr>\n",
              "    <tr>\n",
              "      <th>Price/Sales (ttm)</th>\n",
              "      <td>5.690833</td>\n",
              "      <td>4.318361</td>\n",
              "      <td>2.531667</td>\n",
              "      <td>0.317823</td>\n",
              "      <td>1.247860</td>\n",
              "    </tr>\n",
              "    <tr>\n",
              "      <th>Price/Book (mrq)</th>\n",
              "      <td>12.235833</td>\n",
              "      <td>8.577414</td>\n",
              "      <td>3.443636</td>\n",
              "      <td>0.426518</td>\n",
              "      <td>2.553172</td>\n",
              "    </tr>\n",
              "    <tr>\n",
              "      <th>Enterprise Value/Revenue</th>\n",
              "      <td>20.466667</td>\n",
              "      <td>18.159836</td>\n",
              "      <td>12.886667</td>\n",
              "      <td>0.127029</td>\n",
              "      <td>0.588205</td>\n",
              "    </tr>\n",
              "    <tr>\n",
              "      <th>Enterprise Value/EBITDA</th>\n",
              "      <td>90.594167</td>\n",
              "      <td>66.471034</td>\n",
              "      <td>32.307273</td>\n",
              "      <td>0.362912</td>\n",
              "      <td>1.804142</td>\n",
              "    </tr>\n",
              "  </tbody>\n",
              "</table>\n",
              "</div>"
            ],
            "text/plain": [
              "                          top_20_percent  ...  top and bottom diff\n",
              "Trailing P/E                   51.933000  ...            -0.316229\n",
              "Forward P/E                    29.537500  ...             1.045533\n",
              "PEG Ratio                       4.490000  ...             1.367831\n",
              "Price/Sales (ttm)               5.690833  ...             1.247860\n",
              "Price/Book (mrq)               12.235833  ...             2.553172\n",
              "Enterprise Value/Revenue       20.466667  ...             0.588205\n",
              "Enterprise Value/EBITDA        90.594167  ...             1.804142\n",
              "\n",
              "[7 rows x 5 columns]"
            ]
          },
          "metadata": {
            "tags": []
          },
          "execution_count": 129
        }
      ]
    },
    {
      "cell_type": "code",
      "metadata": {
        "id": "T5dWVssNXlfv",
        "colab_type": "code",
        "colab": {
          "base_uri": "https://localhost:8080/",
          "height": 119
        },
        "outputId": "8c2ae26f-8649-4ebf-9fb3-55c3fb0c77b4"
      },
      "source": [
        "get_top_5(df_hc,'Price/Book (mrq)')"
      ],
      "execution_count": 161,
      "outputs": [
        {
          "output_type": "execute_result",
          "data": {
            "text/plain": [
              "0     HCA\n",
              "1     WAT\n",
              "2    ABBV\n",
              "3     RMD\n",
              "4      EW\n",
              "Name: code, dtype: object"
            ]
          },
          "metadata": {
            "tags": []
          },
          "execution_count": 161
        }
      ]
    },
    {
      "cell_type": "markdown",
      "metadata": {
        "id": "OXA9MdGnsZai",
        "colab_type": "text"
      },
      "source": [
        "## Consumer Staples"
      ]
    },
    {
      "cell_type": "code",
      "metadata": {
        "id": "O1b-S75usbKU",
        "colab_type": "code",
        "colab": {}
      },
      "source": [
        "df_cs = get_performance_metrics(df_all,'Consumer Staples',1)"
      ],
      "execution_count": null,
      "outputs": []
    },
    {
      "cell_type": "code",
      "metadata": {
        "id": "nlgtcyaF4UbX",
        "colab_type": "code",
        "colab": {
          "base_uri": "https://localhost:8080/",
          "height": 266
        },
        "outputId": "1b69c5b0-f240-450f-94d7-79c06257585c"
      },
      "source": [
        "analyze_df(df_cs)"
      ],
      "execution_count": 130,
      "outputs": [
        {
          "output_type": "execute_result",
          "data": {
            "text/html": [
              "<div>\n",
              "<style scoped>\n",
              "    .dataframe tbody tr th:only-of-type {\n",
              "        vertical-align: middle;\n",
              "    }\n",
              "\n",
              "    .dataframe tbody tr th {\n",
              "        vertical-align: top;\n",
              "    }\n",
              "\n",
              "    .dataframe thead th {\n",
              "        text-align: right;\n",
              "    }\n",
              "</style>\n",
              "<table border=\"1\" class=\"dataframe\">\n",
              "  <thead>\n",
              "    <tr style=\"text-align: right;\">\n",
              "      <th></th>\n",
              "      <th>top_20_percent</th>\n",
              "      <th>average</th>\n",
              "      <th>bottom_20_percent</th>\n",
              "      <th>top and avg diff</th>\n",
              "      <th>top and bottom diff</th>\n",
              "    </tr>\n",
              "  </thead>\n",
              "  <tbody>\n",
              "    <tr>\n",
              "      <th>Trailing P/E</th>\n",
              "      <td>23.168571</td>\n",
              "      <td>24.427419</td>\n",
              "      <td>19.014000</td>\n",
              "      <td>-0.051534</td>\n",
              "      <td>0.218501</td>\n",
              "    </tr>\n",
              "    <tr>\n",
              "      <th>Forward P/E</th>\n",
              "      <td>21.104286</td>\n",
              "      <td>18.429091</td>\n",
              "      <td>11.335714</td>\n",
              "      <td>0.145162</td>\n",
              "      <td>0.861752</td>\n",
              "    </tr>\n",
              "    <tr>\n",
              "      <th>PEG Ratio</th>\n",
              "      <td>7.208571</td>\n",
              "      <td>5.784545</td>\n",
              "      <td>12.582857</td>\n",
              "      <td>0.246178</td>\n",
              "      <td>-0.427112</td>\n",
              "    </tr>\n",
              "    <tr>\n",
              "      <th>Price/Sales (ttm)</th>\n",
              "      <td>2.068571</td>\n",
              "      <td>2.622121</td>\n",
              "      <td>1.334286</td>\n",
              "      <td>-0.211108</td>\n",
              "      <td>0.550321</td>\n",
              "    </tr>\n",
              "    <tr>\n",
              "      <th>Price/Book (mrq)</th>\n",
              "      <td>77.890000</td>\n",
              "      <td>24.190645</td>\n",
              "      <td>12.640000</td>\n",
              "      <td>2.219840</td>\n",
              "      <td>5.162184</td>\n",
              "    </tr>\n",
              "    <tr>\n",
              "      <th>Enterprise Value/Revenue</th>\n",
              "      <td>9.162857</td>\n",
              "      <td>12.906667</td>\n",
              "      <td>8.367143</td>\n",
              "      <td>-0.290068</td>\n",
              "      <td>0.095100</td>\n",
              "    </tr>\n",
              "    <tr>\n",
              "      <th>Enterprise Value/EBITDA</th>\n",
              "      <td>57.448571</td>\n",
              "      <td>61.955455</td>\n",
              "      <td>32.054286</td>\n",
              "      <td>-0.072744</td>\n",
              "      <td>0.792227</td>\n",
              "    </tr>\n",
              "  </tbody>\n",
              "</table>\n",
              "</div>"
            ],
            "text/plain": [
              "                          top_20_percent  ...  top and bottom diff\n",
              "Trailing P/E                   23.168571  ...             0.218501\n",
              "Forward P/E                    21.104286  ...             0.861752\n",
              "PEG Ratio                       7.208571  ...            -0.427112\n",
              "Price/Sales (ttm)               2.068571  ...             0.550321\n",
              "Price/Book (mrq)               77.890000  ...             5.162184\n",
              "Enterprise Value/Revenue        9.162857  ...             0.095100\n",
              "Enterprise Value/EBITDA        57.448571  ...             0.792227\n",
              "\n",
              "[7 rows x 5 columns]"
            ]
          },
          "metadata": {
            "tags": []
          },
          "execution_count": 130
        }
      ]
    },
    {
      "cell_type": "code",
      "metadata": {
        "id": "yS1_UMbvXwQW",
        "colab_type": "code",
        "colab": {
          "base_uri": "https://localhost:8080/",
          "height": 119
        },
        "outputId": "f30c9323-3b81-4f3f-dea4-30b782e5e69e"
      },
      "source": [
        "get_top_5(df_cs,'Price/Book (mrq)')"
      ],
      "execution_count": 163,
      "outputs": [
        {
          "output_type": "execute_result",
          "data": {
            "text/plain": [
              "0     KMB\n",
              "1      PM\n",
              "2     SYY\n",
              "3    COST\n",
              "4       K\n",
              "Name: code, dtype: object"
            ]
          },
          "metadata": {
            "tags": []
          },
          "execution_count": 163
        }
      ]
    },
    {
      "cell_type": "markdown",
      "metadata": {
        "id": "Y4cZ5KXRs8G5",
        "colab_type": "text"
      },
      "source": [
        "## Real Estate"
      ]
    },
    {
      "cell_type": "code",
      "metadata": {
        "id": "ZTSoIoM4s7Q6",
        "colab_type": "code",
        "colab": {}
      },
      "source": [
        "df_re = get_performance_metrics(df_all,'Real Estate',1)"
      ],
      "execution_count": null,
      "outputs": []
    },
    {
      "cell_type": "code",
      "metadata": {
        "id": "GNcnb7aGyL_L",
        "colab_type": "code",
        "colab": {
          "base_uri": "https://localhost:8080/",
          "height": 266
        },
        "outputId": "9f393b46-3e38-43de-fc5d-47f7af06a261"
      },
      "source": [
        "analyze_df(df_re)"
      ],
      "execution_count": 131,
      "outputs": [
        {
          "output_type": "execute_result",
          "data": {
            "text/html": [
              "<div>\n",
              "<style scoped>\n",
              "    .dataframe tbody tr th:only-of-type {\n",
              "        vertical-align: middle;\n",
              "    }\n",
              "\n",
              "    .dataframe tbody tr th {\n",
              "        vertical-align: top;\n",
              "    }\n",
              "\n",
              "    .dataframe thead th {\n",
              "        text-align: right;\n",
              "    }\n",
              "</style>\n",
              "<table border=\"1\" class=\"dataframe\">\n",
              "  <thead>\n",
              "    <tr style=\"text-align: right;\">\n",
              "      <th></th>\n",
              "      <th>top_20_percent</th>\n",
              "      <th>average</th>\n",
              "      <th>bottom_20_percent</th>\n",
              "      <th>top and avg diff</th>\n",
              "      <th>top and bottom diff</th>\n",
              "    </tr>\n",
              "  </thead>\n",
              "  <tbody>\n",
              "    <tr>\n",
              "      <th>Trailing P/E</th>\n",
              "      <td>88.960000</td>\n",
              "      <td>44.636000</td>\n",
              "      <td>11.760000</td>\n",
              "      <td>0.993010</td>\n",
              "      <td>6.564626</td>\n",
              "    </tr>\n",
              "    <tr>\n",
              "      <th>Forward P/E</th>\n",
              "      <td>73.418333</td>\n",
              "      <td>131.151111</td>\n",
              "      <td>27.040000</td>\n",
              "      <td>-0.440200</td>\n",
              "      <td>1.715175</td>\n",
              "    </tr>\n",
              "    <tr>\n",
              "      <th>PEG Ratio</th>\n",
              "      <td>2.512000</td>\n",
              "      <td>7.121818</td>\n",
              "      <td>2.207500</td>\n",
              "      <td>-0.647281</td>\n",
              "      <td>0.137939</td>\n",
              "    </tr>\n",
              "    <tr>\n",
              "      <th>Price/Sales (ttm)</th>\n",
              "      <td>11.571667</td>\n",
              "      <td>7.248387</td>\n",
              "      <td>2.926667</td>\n",
              "      <td>0.596447</td>\n",
              "      <td>2.953872</td>\n",
              "    </tr>\n",
              "    <tr>\n",
              "      <th>Price/Book (mrq)</th>\n",
              "      <td>7.394000</td>\n",
              "      <td>3.290000</td>\n",
              "      <td>1.988333</td>\n",
              "      <td>1.247416</td>\n",
              "      <td>2.718692</td>\n",
              "    </tr>\n",
              "    <tr>\n",
              "      <th>Enterprise Value/Revenue</th>\n",
              "      <td>61.543333</td>\n",
              "      <td>41.841290</td>\n",
              "      <td>26.055000</td>\n",
              "      <td>0.470876</td>\n",
              "      <td>1.362055</td>\n",
              "    </tr>\n",
              "    <tr>\n",
              "      <th>Enterprise Value/EBITDA</th>\n",
              "      <td>168.678333</td>\n",
              "      <td>89.204194</td>\n",
              "      <td>73.441667</td>\n",
              "      <td>0.890924</td>\n",
              "      <td>1.296766</td>\n",
              "    </tr>\n",
              "  </tbody>\n",
              "</table>\n",
              "</div>"
            ],
            "text/plain": [
              "                          top_20_percent  ...  top and bottom diff\n",
              "Trailing P/E                   88.960000  ...             6.564626\n",
              "Forward P/E                    73.418333  ...             1.715175\n",
              "PEG Ratio                       2.512000  ...             0.137939\n",
              "Price/Sales (ttm)              11.571667  ...             2.953872\n",
              "Price/Book (mrq)                7.394000  ...             2.718692\n",
              "Enterprise Value/Revenue       61.543333  ...             1.362055\n",
              "Enterprise Value/EBITDA       168.678333  ...             1.296766\n",
              "\n",
              "[7 rows x 5 columns]"
            ]
          },
          "metadata": {
            "tags": []
          },
          "execution_count": 131
        }
      ]
    },
    {
      "cell_type": "code",
      "metadata": {
        "id": "czgvRda-X8l_",
        "colab_type": "code",
        "colab": {
          "base_uri": "https://localhost:8080/",
          "height": 119
        },
        "outputId": "1395b55b-3240-482f-8803-14903e53101e"
      },
      "source": [
        "get_top_5(df_re,'Trailing P/E')"
      ],
      "execution_count": 164,
      "outputs": [
        {
          "output_type": "execute_result",
          "data": {
            "text/plain": [
              "0     WY\n",
              "1    CCI\n",
              "2    HST\n",
              "3    SPG\n",
              "4    DLR\n",
              "Name: code, dtype: object"
            ]
          },
          "metadata": {
            "tags": []
          },
          "execution_count": 164
        }
      ]
    },
    {
      "cell_type": "markdown",
      "metadata": {
        "id": "Li-scMCqu_C2",
        "colab_type": "text"
      },
      "source": [
        "## Utilities"
      ]
    },
    {
      "cell_type": "code",
      "metadata": {
        "id": "f4fkeJGuu_so",
        "colab_type": "code",
        "colab": {}
      },
      "source": [
        "df_u = get_performance_metrics(df_all,'Utilities',1)"
      ],
      "execution_count": null,
      "outputs": []
    },
    {
      "cell_type": "code",
      "metadata": {
        "id": "oUXFM5pXwff3",
        "colab_type": "code",
        "colab": {
          "base_uri": "https://localhost:8080/",
          "height": 266
        },
        "outputId": "2a83e19a-6d62-4b45-b5c7-b7adf11541da"
      },
      "source": [
        "analyze_df(df_u)"
      ],
      "execution_count": 132,
      "outputs": [
        {
          "output_type": "execute_result",
          "data": {
            "text/html": [
              "<div>\n",
              "<style scoped>\n",
              "    .dataframe tbody tr th:only-of-type {\n",
              "        vertical-align: middle;\n",
              "    }\n",
              "\n",
              "    .dataframe tbody tr th {\n",
              "        vertical-align: top;\n",
              "    }\n",
              "\n",
              "    .dataframe thead th {\n",
              "        text-align: right;\n",
              "    }\n",
              "</style>\n",
              "<table border=\"1\" class=\"dataframe\">\n",
              "  <thead>\n",
              "    <tr style=\"text-align: right;\">\n",
              "      <th></th>\n",
              "      <th>top_20_percent</th>\n",
              "      <th>average</th>\n",
              "      <th>bottom_20_percent</th>\n",
              "      <th>top and avg diff</th>\n",
              "      <th>top and bottom diff</th>\n",
              "    </tr>\n",
              "  </thead>\n",
              "  <tbody>\n",
              "    <tr>\n",
              "      <th>Trailing P/E</th>\n",
              "      <td>27.440000</td>\n",
              "      <td>20.506786</td>\n",
              "      <td>13.670000</td>\n",
              "      <td>0.338094</td>\n",
              "      <td>1.007315</td>\n",
              "    </tr>\n",
              "    <tr>\n",
              "      <th>Forward P/E</th>\n",
              "      <td>24.278333</td>\n",
              "      <td>17.281429</td>\n",
              "      <td>10.471667</td>\n",
              "      <td>0.404880</td>\n",
              "      <td>1.318478</td>\n",
              "    </tr>\n",
              "    <tr>\n",
              "      <th>PEG Ratio</th>\n",
              "      <td>3.185000</td>\n",
              "      <td>3.434815</td>\n",
              "      <td>2.436000</td>\n",
              "      <td>-0.072730</td>\n",
              "      <td>0.307471</td>\n",
              "    </tr>\n",
              "    <tr>\n",
              "      <th>Price/Sales (ttm)</th>\n",
              "      <td>4.038333</td>\n",
              "      <td>2.555000</td>\n",
              "      <td>1.393333</td>\n",
              "      <td>0.580561</td>\n",
              "      <td>1.898325</td>\n",
              "    </tr>\n",
              "    <tr>\n",
              "      <th>Price/Book (mrq)</th>\n",
              "      <td>2.853333</td>\n",
              "      <td>2.143929</td>\n",
              "      <td>2.186667</td>\n",
              "      <td>0.330890</td>\n",
              "      <td>0.304878</td>\n",
              "    </tr>\n",
              "    <tr>\n",
              "      <th>Enterprise Value/Revenue</th>\n",
              "      <td>23.948333</td>\n",
              "      <td>17.594643</td>\n",
              "      <td>11.901667</td>\n",
              "      <td>0.361115</td>\n",
              "      <td>1.012183</td>\n",
              "    </tr>\n",
              "    <tr>\n",
              "      <th>Enterprise Value/EBITDA</th>\n",
              "      <td>56.020000</td>\n",
              "      <td>47.516429</td>\n",
              "      <td>24.145000</td>\n",
              "      <td>0.178961</td>\n",
              "      <td>1.320149</td>\n",
              "    </tr>\n",
              "  </tbody>\n",
              "</table>\n",
              "</div>"
            ],
            "text/plain": [
              "                          top_20_percent  ...  top and bottom diff\n",
              "Trailing P/E                   27.440000  ...             1.007315\n",
              "Forward P/E                    24.278333  ...             1.318478\n",
              "PEG Ratio                       3.185000  ...             0.307471\n",
              "Price/Sales (ttm)               4.038333  ...             1.898325\n",
              "Price/Book (mrq)                2.853333  ...             0.304878\n",
              "Enterprise Value/Revenue       23.948333  ...             1.012183\n",
              "Enterprise Value/EBITDA        56.020000  ...             1.320149\n",
              "\n",
              "[7 rows x 5 columns]"
            ]
          },
          "metadata": {
            "tags": []
          },
          "execution_count": 132
        }
      ]
    },
    {
      "cell_type": "code",
      "metadata": {
        "id": "yJG-3u6uYHTY",
        "colab_type": "code",
        "colab": {
          "base_uri": "https://localhost:8080/",
          "height": 119
        },
        "outputId": "4c702ba6-4b1a-4ff1-bc2d-e7f0d5f88d1a"
      },
      "source": [
        "get_top_5(df_u,'Price/Sales (ttm)')"
      ],
      "execution_count": 165,
      "outputs": [
        {
          "output_type": "execute_result",
          "data": {
            "text/plain": [
              "0    NEE\n",
              "1    AWK\n",
              "2    ATO\n",
              "3    WEC\n",
              "4      D\n",
              "Name: code, dtype: object"
            ]
          },
          "metadata": {
            "tags": []
          },
          "execution_count": 165
        }
      ]
    },
    {
      "cell_type": "markdown",
      "metadata": {
        "id": "C8Cj5Z5i2aWp",
        "colab_type": "text"
      },
      "source": [
        "## Materials"
      ]
    },
    {
      "cell_type": "code",
      "metadata": {
        "id": "LivMRSY32Zwp",
        "colab_type": "code",
        "colab": {}
      },
      "source": [
        "df_m = get_performance_metrics(df_all,'Materials',1)"
      ],
      "execution_count": null,
      "outputs": []
    },
    {
      "cell_type": "code",
      "metadata": {
        "id": "DQITCYza2lBm",
        "colab_type": "code",
        "colab": {
          "base_uri": "https://localhost:8080/",
          "height": 266
        },
        "outputId": "b30dd2ac-c507-4e3e-c150-f924e9426bfe"
      },
      "source": [
        "analyze_df(df_m)"
      ],
      "execution_count": 133,
      "outputs": [
        {
          "output_type": "execute_result",
          "data": {
            "text/html": [
              "<div>\n",
              "<style scoped>\n",
              "    .dataframe tbody tr th:only-of-type {\n",
              "        vertical-align: middle;\n",
              "    }\n",
              "\n",
              "    .dataframe tbody tr th {\n",
              "        vertical-align: top;\n",
              "    }\n",
              "\n",
              "    .dataframe thead th {\n",
              "        text-align: right;\n",
              "    }\n",
              "</style>\n",
              "<table border=\"1\" class=\"dataframe\">\n",
              "  <thead>\n",
              "    <tr style=\"text-align: right;\">\n",
              "      <th></th>\n",
              "      <th>top_20_percent</th>\n",
              "      <th>average</th>\n",
              "      <th>bottom_20_percent</th>\n",
              "      <th>top and avg diff</th>\n",
              "      <th>top and bottom diff</th>\n",
              "    </tr>\n",
              "  </thead>\n",
              "  <tbody>\n",
              "    <tr>\n",
              "      <th>Trailing P/E</th>\n",
              "      <td>26.020000</td>\n",
              "      <td>18.791304</td>\n",
              "      <td>8.685000</td>\n",
              "      <td>0.384683</td>\n",
              "      <td>1.995970</td>\n",
              "    </tr>\n",
              "    <tr>\n",
              "      <th>Forward P/E</th>\n",
              "      <td>21.371667</td>\n",
              "      <td>15.392143</td>\n",
              "      <td>15.863333</td>\n",
              "      <td>0.388479</td>\n",
              "      <td>0.347237</td>\n",
              "    </tr>\n",
              "    <tr>\n",
              "      <th>PEG Ratio</th>\n",
              "      <td>2.300000</td>\n",
              "      <td>2.164286</td>\n",
              "      <td>1.446667</td>\n",
              "      <td>0.062706</td>\n",
              "      <td>0.589862</td>\n",
              "    </tr>\n",
              "    <tr>\n",
              "      <th>Price/Sales (ttm)</th>\n",
              "      <td>3.000000</td>\n",
              "      <td>1.636429</td>\n",
              "      <td>0.775000</td>\n",
              "      <td>0.833261</td>\n",
              "      <td>2.870968</td>\n",
              "    </tr>\n",
              "    <tr>\n",
              "      <th>Price/Book (mrq)</th>\n",
              "      <td>4.953333</td>\n",
              "      <td>2.746296</td>\n",
              "      <td>1.296667</td>\n",
              "      <td>0.803641</td>\n",
              "      <td>2.820051</td>\n",
              "    </tr>\n",
              "    <tr>\n",
              "      <th>Enterprise Value/Revenue</th>\n",
              "      <td>13.968333</td>\n",
              "      <td>8.972143</td>\n",
              "      <td>6.126667</td>\n",
              "      <td>0.556856</td>\n",
              "      <td>1.279924</td>\n",
              "    </tr>\n",
              "    <tr>\n",
              "      <th>Enterprise Value/EBITDA</th>\n",
              "      <td>64.626667</td>\n",
              "      <td>36.357500</td>\n",
              "      <td>-15.251667</td>\n",
              "      <td>0.777533</td>\n",
              "      <td>-5.237351</td>\n",
              "    </tr>\n",
              "  </tbody>\n",
              "</table>\n",
              "</div>"
            ],
            "text/plain": [
              "                          top_20_percent  ...  top and bottom diff\n",
              "Trailing P/E                   26.020000  ...             1.995970\n",
              "Forward P/E                    21.371667  ...             0.347237\n",
              "PEG Ratio                       2.300000  ...             0.589862\n",
              "Price/Sales (ttm)               3.000000  ...             2.870968\n",
              "Price/Book (mrq)                4.953333  ...             2.820051\n",
              "Enterprise Value/Revenue       13.968333  ...             1.279924\n",
              "Enterprise Value/EBITDA        64.626667  ...            -5.237351\n",
              "\n",
              "[7 rows x 5 columns]"
            ]
          },
          "metadata": {
            "tags": []
          },
          "execution_count": 133
        }
      ]
    },
    {
      "cell_type": "code",
      "metadata": {
        "id": "-0_M4hQpYQt1",
        "colab_type": "code",
        "colab": {
          "base_uri": "https://localhost:8080/",
          "height": 119
        },
        "outputId": "679921fb-aad5-4511-d433-a796738089bb"
      },
      "source": [
        "get_top_5(df_m,'Enterprise Value/EBITDA'\t)"
      ],
      "execution_count": 166,
      "outputs": [
        {
          "output_type": "execute_result",
          "data": {
            "text/plain": [
              "0    MLM\n",
              "1    BLL\n",
              "2    VMC\n",
              "3    SHW\n",
              "4    ECL\n",
              "Name: code, dtype: object"
            ]
          },
          "metadata": {
            "tags": []
          },
          "execution_count": 166
        }
      ]
    },
    {
      "cell_type": "markdown",
      "metadata": {
        "id": "YNZqBL8W2umU",
        "colab_type": "text"
      },
      "source": [
        "## Energy"
      ]
    },
    {
      "cell_type": "code",
      "metadata": {
        "id": "rk3YGXIT2pLT",
        "colab_type": "code",
        "colab": {}
      },
      "source": [
        "df_e = get_performance_metrics(df_all,'Energy',1)"
      ],
      "execution_count": null,
      "outputs": []
    },
    {
      "cell_type": "code",
      "metadata": {
        "id": "7nMQo1JS2tqB",
        "colab_type": "code",
        "colab": {
          "base_uri": "https://localhost:8080/",
          "height": 266
        },
        "outputId": "65f40fa3-e00e-40f4-b278-2b9d767da678"
      },
      "source": [
        "analyze_df(df_e)"
      ],
      "execution_count": 134,
      "outputs": [
        {
          "output_type": "execute_result",
          "data": {
            "text/html": [
              "<div>\n",
              "<style scoped>\n",
              "    .dataframe tbody tr th:only-of-type {\n",
              "        vertical-align: middle;\n",
              "    }\n",
              "\n",
              "    .dataframe tbody tr th {\n",
              "        vertical-align: top;\n",
              "    }\n",
              "\n",
              "    .dataframe thead th {\n",
              "        text-align: right;\n",
              "    }\n",
              "</style>\n",
              "<table border=\"1\" class=\"dataframe\">\n",
              "  <thead>\n",
              "    <tr style=\"text-align: right;\">\n",
              "      <th></th>\n",
              "      <th>top_20_percent</th>\n",
              "      <th>average</th>\n",
              "      <th>bottom_20_percent</th>\n",
              "      <th>top and avg diff</th>\n",
              "      <th>top and bottom diff</th>\n",
              "    </tr>\n",
              "  </thead>\n",
              "  <tbody>\n",
              "    <tr>\n",
              "      <th>Trailing P/E</th>\n",
              "      <td>20.666</td>\n",
              "      <td>14.654375</td>\n",
              "      <td>11.700000</td>\n",
              "      <td>0.410227</td>\n",
              "      <td>0.766325</td>\n",
              "    </tr>\n",
              "    <tr>\n",
              "      <th>Forward P/E</th>\n",
              "      <td>24.270</td>\n",
              "      <td>19.529048</td>\n",
              "      <td>43.903333</td>\n",
              "      <td>0.242764</td>\n",
              "      <td>-0.447195</td>\n",
              "    </tr>\n",
              "    <tr>\n",
              "      <th>PEG Ratio</th>\n",
              "      <td>6.156</td>\n",
              "      <td>2.883750</td>\n",
              "      <td>1.710000</td>\n",
              "      <td>1.134720</td>\n",
              "      <td>2.600000</td>\n",
              "    </tr>\n",
              "    <tr>\n",
              "      <th>Price/Sales (ttm)</th>\n",
              "      <td>1.912</td>\n",
              "      <td>0.895769</td>\n",
              "      <td>0.594000</td>\n",
              "      <td>1.134478</td>\n",
              "      <td>2.218855</td>\n",
              "    </tr>\n",
              "    <tr>\n",
              "      <th>Price/Book (mrq)</th>\n",
              "      <td>1.436</td>\n",
              "      <td>0.814615</td>\n",
              "      <td>0.360000</td>\n",
              "      <td>0.762795</td>\n",
              "      <td>2.988889</td>\n",
              "    </tr>\n",
              "    <tr>\n",
              "      <th>Enterprise Value/Revenue</th>\n",
              "      <td>14.158</td>\n",
              "      <td>7.306154</td>\n",
              "      <td>7.256000</td>\n",
              "      <td>0.937818</td>\n",
              "      <td>0.951213</td>\n",
              "    </tr>\n",
              "    <tr>\n",
              "      <th>Enterprise Value/EBITDA</th>\n",
              "      <td>-124.098</td>\n",
              "      <td>20.316154</td>\n",
              "      <td>13.720000</td>\n",
              "      <td>-7.108341</td>\n",
              "      <td>-10.045044</td>\n",
              "    </tr>\n",
              "  </tbody>\n",
              "</table>\n",
              "</div>"
            ],
            "text/plain": [
              "                          top_20_percent  ...  top and bottom diff\n",
              "Trailing P/E                      20.666  ...             0.766325\n",
              "Forward P/E                       24.270  ...            -0.447195\n",
              "PEG Ratio                          6.156  ...             2.600000\n",
              "Price/Sales (ttm)                  1.912  ...             2.218855\n",
              "Price/Book (mrq)                   1.436  ...             2.988889\n",
              "Enterprise Value/Revenue          14.158  ...             0.951213\n",
              "Enterprise Value/EBITDA         -124.098  ...           -10.045044\n",
              "\n",
              "[7 rows x 5 columns]"
            ]
          },
          "metadata": {
            "tags": []
          },
          "execution_count": 134
        }
      ]
    },
    {
      "cell_type": "code",
      "metadata": {
        "id": "oiWgn-dQYiD8",
        "colab_type": "code",
        "colab": {
          "base_uri": "https://localhost:8080/",
          "height": 119
        },
        "outputId": "539ae6a4-7315-4988-87e6-14891553577c"
      },
      "source": [
        "get_top_5(df_e,'Enterprise Value/EBITDA',asc = True)"
      ],
      "execution_count": 172,
      "outputs": [
        {
          "output_type": "execute_result",
          "data": {
            "text/plain": [
              "0    BKR\n",
              "1    FTI\n",
              "2    CXO\n",
              "3    VLO\n",
              "4    PSX\n",
              "Name: code, dtype: object"
            ]
          },
          "metadata": {
            "tags": []
          },
          "execution_count": 172
        }
      ]
    },
    {
      "cell_type": "markdown",
      "metadata": {
        "id": "6lS0ctyF3rnC",
        "colab_type": "text"
      },
      "source": [
        "## Communication Services"
      ]
    },
    {
      "cell_type": "code",
      "metadata": {
        "id": "ZAV4lBfr3tg1",
        "colab_type": "code",
        "colab": {}
      },
      "source": [
        "df_cser = get_performance_metrics(df_all,'Communication Services',1)"
      ],
      "execution_count": null,
      "outputs": []
    },
    {
      "cell_type": "code",
      "metadata": {
        "id": "j1vXY2E84AT1",
        "colab_type": "code",
        "colab": {
          "base_uri": "https://localhost:8080/",
          "height": 266
        },
        "outputId": "23416d16-5f1b-4013-933d-7dc6c2d1a8c8"
      },
      "source": [
        "analyze_df(df_cser)"
      ],
      "execution_count": 135,
      "outputs": [
        {
          "output_type": "execute_result",
          "data": {
            "text/html": [
              "<div>\n",
              "<style scoped>\n",
              "    .dataframe tbody tr th:only-of-type {\n",
              "        vertical-align: middle;\n",
              "    }\n",
              "\n",
              "    .dataframe tbody tr th {\n",
              "        vertical-align: top;\n",
              "    }\n",
              "\n",
              "    .dataframe thead th {\n",
              "        text-align: right;\n",
              "    }\n",
              "</style>\n",
              "<table border=\"1\" class=\"dataframe\">\n",
              "  <thead>\n",
              "    <tr style=\"text-align: right;\">\n",
              "      <th></th>\n",
              "      <th>top_20_percent</th>\n",
              "      <th>average</th>\n",
              "      <th>bottom_20_percent</th>\n",
              "      <th>top and avg diff</th>\n",
              "      <th>top and bottom diff</th>\n",
              "    </tr>\n",
              "  </thead>\n",
              "  <tbody>\n",
              "    <tr>\n",
              "      <th>Trailing P/E</th>\n",
              "      <td>48.186</td>\n",
              "      <td>20.975238</td>\n",
              "      <td>5.473333</td>\n",
              "      <td>1.297280</td>\n",
              "      <td>7.803776</td>\n",
              "    </tr>\n",
              "    <tr>\n",
              "      <th>Forward P/E</th>\n",
              "      <td>32.758</td>\n",
              "      <td>18.212500</td>\n",
              "      <td>12.102000</td>\n",
              "      <td>0.798655</td>\n",
              "      <td>1.706825</td>\n",
              "    </tr>\n",
              "    <tr>\n",
              "      <th>PEG Ratio</th>\n",
              "      <td>1.808</td>\n",
              "      <td>15.693478</td>\n",
              "      <td>1.654000</td>\n",
              "      <td>-0.884793</td>\n",
              "      <td>0.093108</td>\n",
              "    </tr>\n",
              "    <tr>\n",
              "      <th>Price/Sales (ttm)</th>\n",
              "      <td>4.794</td>\n",
              "      <td>2.660000</td>\n",
              "      <td>0.670000</td>\n",
              "      <td>0.802256</td>\n",
              "      <td>6.155224</td>\n",
              "    </tr>\n",
              "    <tr>\n",
              "      <th>Price/Book (mrq)</th>\n",
              "      <td>7.266</td>\n",
              "      <td>3.322400</td>\n",
              "      <td>0.726000</td>\n",
              "      <td>1.186973</td>\n",
              "      <td>9.008264</td>\n",
              "    </tr>\n",
              "    <tr>\n",
              "      <th>Enterprise Value/Revenue</th>\n",
              "      <td>18.490</td>\n",
              "      <td>11.570000</td>\n",
              "      <td>5.132000</td>\n",
              "      <td>0.598099</td>\n",
              "      <td>2.602884</td>\n",
              "    </tr>\n",
              "    <tr>\n",
              "      <th>Enterprise Value/EBITDA</th>\n",
              "      <td>45.788</td>\n",
              "      <td>33.325200</td>\n",
              "      <td>18.664000</td>\n",
              "      <td>0.373975</td>\n",
              "      <td>1.453279</td>\n",
              "    </tr>\n",
              "  </tbody>\n",
              "</table>\n",
              "</div>"
            ],
            "text/plain": [
              "                          top_20_percent  ...  top and bottom diff\n",
              "Trailing P/E                      48.186  ...             7.803776\n",
              "Forward P/E                       32.758  ...             1.706825\n",
              "PEG Ratio                          1.808  ...             0.093108\n",
              "Price/Sales (ttm)                  4.794  ...             6.155224\n",
              "Price/Book (mrq)                   7.266  ...             9.008264\n",
              "Enterprise Value/Revenue          18.490  ...             2.602884\n",
              "Enterprise Value/EBITDA           45.788  ...             1.453279\n",
              "\n",
              "[7 rows x 5 columns]"
            ]
          },
          "metadata": {
            "tags": []
          },
          "execution_count": 135
        }
      ]
    },
    {
      "cell_type": "code",
      "metadata": {
        "id": "dHad27CFY9jR",
        "colab_type": "code",
        "colab": {
          "base_uri": "https://localhost:8080/",
          "height": 119
        },
        "outputId": "70c7761f-91ff-4e26-f9d5-0e4bc65cda0f"
      },
      "source": [
        "get_top_5(df_cser,'Price/Book (mrq)')"
      ],
      "execution_count": 173,
      "outputs": [
        {
          "output_type": "execute_result",
          "data": {
            "text/plain": [
              "0     LYV\n",
              "1    TTWO\n",
              "2      FB\n",
              "3     OMC\n",
              "4      EA\n",
              "Name: code, dtype: object"
            ]
          },
          "metadata": {
            "tags": []
          },
          "execution_count": 173
        }
      ]
    }
  ]
}