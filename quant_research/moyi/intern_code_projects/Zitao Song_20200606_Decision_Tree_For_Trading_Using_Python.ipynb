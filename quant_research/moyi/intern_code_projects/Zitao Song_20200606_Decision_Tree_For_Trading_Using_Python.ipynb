{
 "cells": [
  {
   "cell_type": "code",
   "execution_count": 1,
   "metadata": {},
   "outputs": [
    {
     "data": {
      "text/plain": [
       "(5789, 8)"
      ]
     },
     "execution_count": 1,
     "metadata": {},
     "output_type": "execute_result"
    }
   ],
   "source": [
    "#Preparing The Environment\n",
    "import quandl\n",
    "df = quandl.get(\"CHRIS/CME_ES2\")\n",
    "df.head()\n",
    "df.tail()\n",
    "df.shape"
   ]
  },
  {
   "cell_type": "code",
   "execution_count": 2,
   "metadata": {},
   "outputs": [
    {
     "ename": "ModuleNotFoundError",
     "evalue": "No module named 'talib'",
     "output_type": "error",
     "traceback": [
      "\u001b[0;31m---------------------------------------------------------------------------\u001b[0m",
      "\u001b[0;31mModuleNotFoundError\u001b[0m                       Traceback (most recent call last)",
      "\u001b[0;32m<ipython-input-2-a547c94eeecb>\u001b[0m in \u001b[0;36m<module>\u001b[0;34m\u001b[0m\n\u001b[1;32m      1\u001b[0m \u001b[0;31m#Creating the predictors\u001b[0m\u001b[0;34m\u001b[0m\u001b[0;34m\u001b[0m\u001b[0;34m\u001b[0m\u001b[0m\n\u001b[0;32m----> 2\u001b[0;31m \u001b[0;32mimport\u001b[0m \u001b[0mtalib\u001b[0m \u001b[0;32mas\u001b[0m \u001b[0mta\u001b[0m\u001b[0;34m\u001b[0m\u001b[0;34m\u001b[0m\u001b[0m\n\u001b[0m\u001b[1;32m      3\u001b[0m \u001b[0mdf\u001b[0m\u001b[0;34m[\u001b[0m\u001b[0;34m'EMA10'\u001b[0m\u001b[0;34m]\u001b[0m \u001b[0;34m=\u001b[0m \u001b[0mta\u001b[0m\u001b[0;34m.\u001b[0m\u001b[0mEMA\u001b[0m\u001b[0;34m(\u001b[0m\u001b[0mdf\u001b[0m\u001b[0;34m[\u001b[0m\u001b[0;34m'Settle'\u001b[0m\u001b[0;34m]\u001b[0m\u001b[0;34m.\u001b[0m\u001b[0mvalues\u001b[0m\u001b[0;34m,\u001b[0m \u001b[0mtimeperiod\u001b[0m\u001b[0;34m=\u001b[0m\u001b[0;36m10\u001b[0m\u001b[0;34m)\u001b[0m\u001b[0;34m\u001b[0m\u001b[0;34m\u001b[0m\u001b[0m\n\u001b[1;32m      4\u001b[0m \u001b[0mdf\u001b[0m\u001b[0;34m[\u001b[0m\u001b[0;34m'EMA30'\u001b[0m\u001b[0;34m]\u001b[0m \u001b[0;34m=\u001b[0m \u001b[0mta\u001b[0m\u001b[0;34m.\u001b[0m\u001b[0mEMA\u001b[0m\u001b[0;34m(\u001b[0m\u001b[0mdf\u001b[0m\u001b[0;34m[\u001b[0m\u001b[0;34m'Settle'\u001b[0m\u001b[0;34m]\u001b[0m\u001b[0;34m.\u001b[0m\u001b[0mvalues\u001b[0m\u001b[0;34m,\u001b[0m \u001b[0mtimeperiod\u001b[0m\u001b[0;34m=\u001b[0m\u001b[0;36m30\u001b[0m\u001b[0;34m)\u001b[0m\u001b[0;34m\u001b[0m\u001b[0;34m\u001b[0m\u001b[0m\n\u001b[1;32m      5\u001b[0m \u001b[0mdf\u001b[0m\u001b[0;34m[\u001b[0m\u001b[0;34m'ATR'\u001b[0m\u001b[0;34m]\u001b[0m \u001b[0;34m=\u001b[0m \u001b[0mta\u001b[0m\u001b[0;34m.\u001b[0m\u001b[0mATR\u001b[0m\u001b[0;34m(\u001b[0m\u001b[0mdf\u001b[0m\u001b[0;34m[\u001b[0m\u001b[0;34m'High'\u001b[0m\u001b[0;34m]\u001b[0m\u001b[0;34m.\u001b[0m\u001b[0mvalues\u001b[0m\u001b[0;34m,\u001b[0m \u001b[0mdf\u001b[0m\u001b[0;34m[\u001b[0m\u001b[0;34m'Low'\u001b[0m\u001b[0;34m]\u001b[0m\u001b[0;34m.\u001b[0m\u001b[0mvalues\u001b[0m\u001b[0;34m,\u001b[0m \u001b[0mdf\u001b[0m\u001b[0;34m[\u001b[0m\u001b[0;34m'Settle'\u001b[0m\u001b[0;34m]\u001b[0m\u001b[0;34m.\u001b[0m\u001b[0mvalues\u001b[0m\u001b[0;34m,\u001b[0m \u001b[0mtimeperiod\u001b[0m\u001b[0;34m=\u001b[0m\u001b[0;36m14\u001b[0m\u001b[0;34m)\u001b[0m\u001b[0;34m\u001b[0m\u001b[0;34m\u001b[0m\u001b[0m\n",
      "\u001b[0;31mModuleNotFoundError\u001b[0m: No module named 'talib'"
     ]
    }
   ],
   "source": [
    "#Creating the predictors\n",
    "import talib as ta\n",
    "df['EMA10'] = ta.EMA(df['Settle'].values, timeperiod=10)\n",
    "df['EMA30'] = ta.EMA(df['Settle'].values, timeperiod=30)\n",
    "df['ATR'] = ta.ATR(df['High'].values, df['Low'].values, df['Settle'].values, timeperiod=14)\n",
    "df['ADX'] = ta.ADX(df['High'].values, df['Low'].values, df['Settle'].values, timeperiod=14)\n",
    "df['RSI'] = ta.RSI(df['Settle'].values, timeperiod=14)\n",
    "macd, macdsignal, macdhist = ta.MACD(df['Settle'].values, fastperiod=12, slowperiod=26, signalperiod=9)\n",
    "df['MACD'] = macd\n",
    "df['MACDsignal'] = macdsignal\n",
    "df.tail()"
   ]
  },
  {
   "cell_type": "code",
   "execution_count": 1,
   "metadata": {},
   "outputs": [
    {
     "name": "stdout",
     "output_type": "stream",
     "text": [
      "Collecting talib\n",
      "  Using cached talib-0.1.1.tar.gz (1.3 kB)\n",
      "Building wheels for collected packages: talib\n",
      "  Building wheel for talib (setup.py) ... \u001b[?25lerror\n",
      "\u001b[31m  ERROR: Command errored out with exit status 1:\n",
      "   command: /Users/miaoyuesun/anaconda3/envs/py36/bin/python -u -c 'import sys, setuptools, tokenize; sys.argv[0] = '\"'\"'/private/var/folders/7_/3f3b7cs95t53f839zr3wfhqw0000gn/T/pip-install-45lrit8h/talib/setup.py'\"'\"'; __file__='\"'\"'/private/var/folders/7_/3f3b7cs95t53f839zr3wfhqw0000gn/T/pip-install-45lrit8h/talib/setup.py'\"'\"';f=getattr(tokenize, '\"'\"'open'\"'\"', open)(__file__);code=f.read().replace('\"'\"'\\r\\n'\"'\"', '\"'\"'\\n'\"'\"');f.close();exec(compile(code, __file__, '\"'\"'exec'\"'\"'))' bdist_wheel -d /private/var/folders/7_/3f3b7cs95t53f839zr3wfhqw0000gn/T/pip-wheel-w9q8fdh9\n",
      "       cwd: /private/var/folders/7_/3f3b7cs95t53f839zr3wfhqw0000gn/T/pip-install-45lrit8h/talib/\n",
      "  Complete output (29 lines):\n",
      "  running bdist_wheel\n",
      "  running build\n",
      "  running build_py\n",
      "  creating build\n",
      "  creating build/lib\n",
      "  creating build/lib/talib\n",
      "  copying talib/__init__.py -> build/lib/talib\n",
      "  copying talib/cli.py -> build/lib/talib\n",
      "  installing to build/bdist.macosx-10.9-x86_64/wheel\n",
      "  running install\n",
      "  Traceback (most recent call last):\n",
      "    File \"<string>\", line 1, in <module>\n",
      "    File \"/private/var/folders/7_/3f3b7cs95t53f839zr3wfhqw0000gn/T/pip-install-45lrit8h/talib/setup.py\", line 47, in <module>\n",
      "      'talib = talib.cli:cli',\n",
      "    File \"/Users/miaoyuesun/anaconda3/envs/py36/lib/python3.6/distutils/core.py\", line 148, in setup\n",
      "      dist.run_commands()\n",
      "    File \"/Users/miaoyuesun/anaconda3/envs/py36/lib/python3.6/distutils/dist.py\", line 955, in run_commands\n",
      "      self.run_command(cmd)\n",
      "    File \"/Users/miaoyuesun/anaconda3/envs/py36/lib/python3.6/distutils/dist.py\", line 974, in run_command\n",
      "      cmd_obj.run()\n",
      "    File \"/Users/miaoyuesun/anaconda3/envs/py36/lib/python3.6/site-packages/wheel/bdist_wheel.py\", line 228, in run\n",
      "      self.run_command('install')\n",
      "    File \"/Users/miaoyuesun/anaconda3/envs/py36/lib/python3.6/distutils/cmd.py\", line 313, in run_command\n",
      "      self.distribution.run_command(command)\n",
      "    File \"/Users/miaoyuesun/anaconda3/envs/py36/lib/python3.6/distutils/dist.py\", line 974, in run_command\n",
      "      cmd_obj.run()\n",
      "    File \"/private/var/folders/7_/3f3b7cs95t53f839zr3wfhqw0000gn/T/pip-install-45lrit8h/talib/setup.py\", line 20, in run\n",
      "      raise Exception(\"You probably meant to install and run ta-lib\")\n",
      "  Exception: You probably meant to install and run ta-lib\n",
      "  ----------------------------------------\u001b[0m\n",
      "\u001b[31m  ERROR: Failed building wheel for talib\u001b[0m\n",
      "\u001b[?25h  Running setup.py clean for talib\n",
      "Failed to build talib\n",
      "Installing collected packages: talib\n",
      "    Running setup.py install for talib ... \u001b[?25lerror\n",
      "\u001b[31m    ERROR: Command errored out with exit status 1:\n",
      "     command: /Users/miaoyuesun/anaconda3/envs/py36/bin/python -u -c 'import sys, setuptools, tokenize; sys.argv[0] = '\"'\"'/private/var/folders/7_/3f3b7cs95t53f839zr3wfhqw0000gn/T/pip-install-45lrit8h/talib/setup.py'\"'\"'; __file__='\"'\"'/private/var/folders/7_/3f3b7cs95t53f839zr3wfhqw0000gn/T/pip-install-45lrit8h/talib/setup.py'\"'\"';f=getattr(tokenize, '\"'\"'open'\"'\"', open)(__file__);code=f.read().replace('\"'\"'\\r\\n'\"'\"', '\"'\"'\\n'\"'\"');f.close();exec(compile(code, __file__, '\"'\"'exec'\"'\"'))' install --record /private/var/folders/7_/3f3b7cs95t53f839zr3wfhqw0000gn/T/pip-record-h0yh1ku8/install-record.txt --single-version-externally-managed --compile --install-headers /Users/miaoyuesun/anaconda3/envs/py36/include/python3.6m/talib\n",
      "         cwd: /private/var/folders/7_/3f3b7cs95t53f839zr3wfhqw0000gn/T/pip-install-45lrit8h/talib/\n",
      "    Complete output (14 lines):\n",
      "    running install\n",
      "    Traceback (most recent call last):\n",
      "      File \"<string>\", line 1, in <module>\n",
      "      File \"/private/var/folders/7_/3f3b7cs95t53f839zr3wfhqw0000gn/T/pip-install-45lrit8h/talib/setup.py\", line 47, in <module>\n",
      "        'talib = talib.cli:cli',\n",
      "      File \"/Users/miaoyuesun/anaconda3/envs/py36/lib/python3.6/distutils/core.py\", line 148, in setup\n",
      "        dist.run_commands()\n",
      "      File \"/Users/miaoyuesun/anaconda3/envs/py36/lib/python3.6/distutils/dist.py\", line 955, in run_commands\n",
      "        self.run_command(cmd)\n",
      "      File \"/Users/miaoyuesun/anaconda3/envs/py36/lib/python3.6/distutils/dist.py\", line 974, in run_command\n",
      "        cmd_obj.run()\n",
      "      File \"/private/var/folders/7_/3f3b7cs95t53f839zr3wfhqw0000gn/T/pip-install-45lrit8h/talib/setup.py\", line 20, in run\n",
      "        raise Exception(\"You probably meant to install and run ta-lib\")\n",
      "    Exception: You probably meant to install and run ta-lib\n",
      "    ----------------------------------------\u001b[0m\n",
      "\u001b[31mERROR: Command errored out with exit status 1: /Users/miaoyuesun/anaconda3/envs/py36/bin/python -u -c 'import sys, setuptools, tokenize; sys.argv[0] = '\"'\"'/private/var/folders/7_/3f3b7cs95t53f839zr3wfhqw0000gn/T/pip-install-45lrit8h/talib/setup.py'\"'\"'; __file__='\"'\"'/private/var/folders/7_/3f3b7cs95t53f839zr3wfhqw0000gn/T/pip-install-45lrit8h/talib/setup.py'\"'\"';f=getattr(tokenize, '\"'\"'open'\"'\"', open)(__file__);code=f.read().replace('\"'\"'\\r\\n'\"'\"', '\"'\"'\\n'\"'\"');f.close();exec(compile(code, __file__, '\"'\"'exec'\"'\"'))' install --record /private/var/folders/7_/3f3b7cs95t53f839zr3wfhqw0000gn/T/pip-record-h0yh1ku8/install-record.txt --single-version-externally-managed --compile --install-headers /Users/miaoyuesun/anaconda3/envs/py36/include/python3.6m/talib Check the logs for full command output.\u001b[0m\n",
      "\u001b[?25hNote: you may need to restart the kernel to use updated packages.\n"
     ]
    }
   ],
   "source": [
    "pip install talib"
   ]
  },
  {
   "cell_type": "code",
   "execution_count": null,
   "metadata": {},
   "outputs": [],
   "source": [
    "import numpy as np\n",
    "df['ClgtEMA10'] = np.where(df['Settle'] > df['EMA10'], 1, -1)\n",
    "df['EMA10gtEMA30'] = np.where(df['EMA10'] > df['EMA30'], 1, -1)\n",
    "df['MACDSIGgtMACD'] = np.where(df['MACDsignal'] > df['MACD'], 1, -1)\n",
    "df.tail()"
   ]
  },
  {
   "cell_type": "code",
   "execution_count": null,
   "metadata": {},
   "outputs": [],
   "source": [
    "#Creating the target variables\n",
    "df['Return'] = df['Settle'].pct_change(1).shift(-1)\n",
    "df['target_cls'] = np.where(df.Return > 0, 1, 0)\n",
    "df['target_rgs'] = df['Return']\n",
    "df.tail()"
   ]
  },
  {
   "cell_type": "code",
   "execution_count": null,
   "metadata": {},
   "outputs": [],
   "source": [
    "#Obtaining the data set for decision trees\n",
    "predictors_list = ['ATR', 'ADX','RSI', 'ClgtEMA10', 'EMA10gtEMA30', 'MACDSIGgtMACD']\n",
    "X = df[predictors_list]\n",
    "X.tail()"
   ]
  },
  {
   "cell_type": "code",
   "execution_count": null,
   "metadata": {},
   "outputs": [],
   "source": [
    "y_cls = df.target_cls\n",
    "y_cls.tail()"
   ]
  },
  {
   "cell_type": "code",
   "execution_count": null,
   "metadata": {},
   "outputs": [],
   "source": [
    "y_rgs = df.target_rgs\n",
    "y_rgs.tail()"
   ]
  },
  {
   "cell_type": "code",
   "execution_count": null,
   "metadata": {},
   "outputs": [],
   "source": [
    "#Splitting the data into training and testing data sets\n",
    "from sklearn.model_selection import train_test_split\n",
    "y=y_cls\n",
    "X_cls_train, X_cls_test, y_cls_train, y_cls_test = train_test_split(X, y, test_size=0.3, random_state=432, stratify=y)\n",
    "\n",
    "print (X_cls_train.shape, y_cls_train.shape)\n",
    "print (X_cls_test.shape, y_cls_test.shape)"
   ]
  },
  {
   "cell_type": "code",
   "execution_count": null,
   "metadata": {},
   "outputs": [],
   "source": [
    "train_length = int(len(df)*0.70)\n",
    "X_rgs_train = X[:train_length]\n",
    "X_rgs_test = X[train_length:]\n",
    "y_rgs_train = y_rgs[:train_length]\n",
    "y_rgs_test = y_rgs[train_length:]\n",
    "\n",
    "print (X_rgs_train.shape, y_rgs_train.shape)\n",
    "print (X_rgs_test.shape, y_rgs_test.shape)"
   ]
  },
  {
   "cell_type": "code",
   "execution_count": null,
   "metadata": {},
   "outputs": [],
   "source": [
    "#Decision Trees for Classification\n",
    "from sklearn.tree import DecisionTreeClassifier\n",
    "clf = DecisionTreeClassifier(criterion='gini', max_depth=3, min_samples_leaf=6)\n",
    "clf"
   ]
  },
  {
   "cell_type": "code",
   "execution_count": null,
   "metadata": {
    "scrolled": true
   },
   "outputs": [],
   "source": [
    "import pandas as pd\n",
    "from sklearn.impute import SimpleImputer\n",
    "X_cls_train_drop = pd.DataFrame(SimpleImputer().fit_transform(X_cls_train))\n",
    "clf = clf.fit(X_cls_train_drop, y_cls_train)\n",
    "clf"
   ]
  },
  {
   "cell_type": "code",
   "execution_count": null,
   "metadata": {},
   "outputs": [],
   "source": [
    "#Visualize Decision Trees for Classification\n",
    "from sklearn import tree\n",
    "import graphviz\n",
    "dot_data = tree.export_graphviz(clf, out_file=None,filled=True,feature_names=predictors_list)\n",
    "graphviz.Source(dot_data)"
   ]
  },
  {
   "cell_type": "code",
   "execution_count": null,
   "metadata": {},
   "outputs": [],
   "source": [
    "#Make forecast\n",
    "X_cls_test_imputed = pd.DataFrame(SimpleImputer().fit_transform(X_cls_test))\n",
    "y_cls_pred = clf.predict(X_cls_test_imputed)"
   ]
  },
  {
   "cell_type": "code",
   "execution_count": null,
   "metadata": {},
   "outputs": [],
   "source": [
    "#Performance analysis\n",
    "from sklearn.metrics import classification_report\n",
    "report = classification_report(y_cls_test, y_cls_pred)\n",
    "print(report)"
   ]
  },
  {
   "cell_type": "code",
   "execution_count": null,
   "metadata": {},
   "outputs": [],
   "source": [
    "# Regression tree model\n",
    "from sklearn.tree import DecisionTreeRegressor\n",
    "dtr = DecisionTreeRegressor(min_samples_leaf = 200)"
   ]
  },
  {
   "cell_type": "code",
   "execution_count": null,
   "metadata": {},
   "outputs": [],
   "source": [
    "X_rgs_train_imputed = pd.DataFrame(SimpleImputer().fit_transform(X_rgs_train))\n",
    "dtr.fit(X_rgs_train_imputed, y_rgs_train)\n"
   ]
  },
  {
   "cell_type": "code",
   "execution_count": null,
   "metadata": {},
   "outputs": [],
   "source": [
    "#Visualize the model\n",
    "from sklearn import tree\n",
    "import graphviz\n",
    "dot_data = tree.export_graphviz(dtr,\n",
    "                  out_file=None,\n",
    "                  filled=True,\n",
    "                  feature_names=predictors_list)\n",
    "graphviz.Source(dot_data)"
   ]
  }
 ],
 "metadata": {
  "kernelspec": {
   "display_name": "Python 3",
   "language": "python",
   "name": "python3"
  },
  "language_info": {
   "codemirror_mode": {
    "name": "ipython",
    "version": 3
   },
   "file_extension": ".py",
   "mimetype": "text/x-python",
   "name": "python",
   "nbconvert_exporter": "python",
   "pygments_lexer": "ipython3",
   "version": "3.6.10"
  }
 },
 "nbformat": 4,
 "nbformat_minor": 4
}
