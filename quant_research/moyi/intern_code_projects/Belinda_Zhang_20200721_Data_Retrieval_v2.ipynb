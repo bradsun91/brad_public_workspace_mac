{
 "cells": [
  {
   "cell_type": "code",
   "execution_count": 1,
   "metadata": {},
   "outputs": [
    {
     "name": "stderr",
     "output_type": "stream",
     "text": [
      "ERROR:root:Internal Python error in the inspect module.\n",
      "Below is the traceback from this internal error.\n",
      "\n"
     ]
    },
    {
     "name": "stdout",
     "output_type": "stream",
     "text": [
      "Traceback (most recent call last):\n",
      "  File \"/Users/miaoyuesun/anaconda3/envs/py36/lib/python3.6/site-packages/IPython/core/interactiveshell.py\", line 3319, in run_code\n",
      "    exec(code_obj, self.user_global_ns, self.user_ns)\n",
      "  File \"<ipython-input-1-785dbcaf2983>\", line 10, in <module>\n",
      "    data.append(temp.info[\"previousClose\"])\n",
      "  File \"/Users/miaoyuesun/anaconda3/envs/py36/lib/python3.6/site-packages/yfinance/ticker.py\", line 138, in info\n",
      "    return self.get_info()\n",
      "  File \"/Users/miaoyuesun/anaconda3/envs/py36/lib/python3.6/site-packages/yfinance/base.py\", line 415, in get_info\n",
      "    self._get_fundamentals(proxy)\n",
      "  File \"/Users/miaoyuesun/anaconda3/envs/py36/lib/python3.6/site-packages/yfinance/base.py\", line 284, in _get_fundamentals\n",
      "    holders = _pd.read_html(url)\n",
      "  File \"/Users/miaoyuesun/anaconda3/envs/py36/lib/python3.6/site-packages/pandas/io/html.py\", line 1100, in read_html\n",
      "    displayed_only=displayed_only,\n",
      "  File \"/Users/miaoyuesun/anaconda3/envs/py36/lib/python3.6/site-packages/pandas/io/html.py\", line 895, in _parse\n",
      "    tables = p.parse_tables()\n",
      "  File \"/Users/miaoyuesun/anaconda3/envs/py36/lib/python3.6/site-packages/pandas/io/html.py\", line 213, in parse_tables\n",
      "    tables = self._parse_tables(self._build_doc(), self.match, self.attrs)\n",
      "  File \"/Users/miaoyuesun/anaconda3/envs/py36/lib/python3.6/site-packages/pandas/io/html.py\", line 715, in _build_doc\n",
      "    r = parse(f, parser=parser)\n",
      "  File \"/Users/miaoyuesun/anaconda3/envs/py36/lib/python3.6/site-packages/lxml/html/__init__.py\", line 939, in parse\n",
      "    return etree.parse(filename_or_url, parser, base_url=base_url, **kw)\n",
      "  File \"src/lxml/etree.pyx\", line 3469, in lxml.etree.parse\n",
      "  File \"src/lxml/parser.pxi\", line 1860, in lxml.etree._parseDocument\n",
      "  File \"src/lxml/parser.pxi\", line 1880, in lxml.etree._parseFilelikeDocument\n",
      "  File \"src/lxml/parser.pxi\", line 1775, in lxml.etree._parseDocFromFilelike\n",
      "  File \"src/lxml/parser.pxi\", line 1187, in lxml.etree._BaseParser._parseDocFromFilelike\n",
      "  File \"src/lxml/parser.pxi\", line 601, in lxml.etree._ParserContext._handleParseResultDoc\n",
      "  File \"src/lxml/parser.pxi\", line 707, in lxml.etree._handleParseResult\n",
      "  File \"src/lxml/etree.pyx\", line 318, in lxml.etree._ExceptionContext._raise_if_stored\n",
      "  File \"src/lxml/parser.pxi\", line 370, in lxml.etree._FileReaderContext.copyToBuffer\n",
      "  File \"/Users/miaoyuesun/anaconda3/envs/py36/lib/python3.6/http/client.py\", line 459, in read\n",
      "    n = self.readinto(b)\n",
      "  File \"/Users/miaoyuesun/anaconda3/envs/py36/lib/python3.6/http/client.py\", line 493, in readinto\n",
      "    return self._readinto_chunked(b)\n",
      "  File \"/Users/miaoyuesun/anaconda3/envs/py36/lib/python3.6/http/client.py\", line 593, in _readinto_chunked\n",
      "    n = self._safe_readinto(mvb)\n",
      "  File \"/Users/miaoyuesun/anaconda3/envs/py36/lib/python3.6/http/client.py\", line 638, in _safe_readinto\n",
      "    n = self.fp.readinto(mvb)\n",
      "  File \"/Users/miaoyuesun/anaconda3/envs/py36/lib/python3.6/socket.py\", line 586, in readinto\n",
      "    return self._sock.recv_into(b)\n",
      "  File \"/Users/miaoyuesun/anaconda3/envs/py36/lib/python3.6/ssl.py\", line 1012, in recv_into\n",
      "    return self.read(nbytes, buffer)\n",
      "  File \"/Users/miaoyuesun/anaconda3/envs/py36/lib/python3.6/ssl.py\", line 874, in read\n",
      "    return self._sslobj.read(len, buffer)\n",
      "  File \"/Users/miaoyuesun/anaconda3/envs/py36/lib/python3.6/ssl.py\", line 631, in read\n",
      "    v = self._sslobj.read(len, buffer)\n",
      "KeyboardInterrupt\n",
      "\n",
      "During handling of the above exception, another exception occurred:\n",
      "\n",
      "Traceback (most recent call last):\n",
      "  File \"/Users/miaoyuesun/anaconda3/envs/py36/lib/python3.6/site-packages/IPython/core/interactiveshell.py\", line 2034, in showtraceback\n",
      "    stb = value._render_traceback_()\n",
      "AttributeError: 'KeyboardInterrupt' object has no attribute '_render_traceback_'\n",
      "\n",
      "During handling of the above exception, another exception occurred:\n",
      "\n",
      "Traceback (most recent call last):\n",
      "  File \"/Users/miaoyuesun/anaconda3/envs/py36/lib/python3.6/site-packages/IPython/core/ultratb.py\", line 1151, in get_records\n",
      "    return _fixed_getinnerframes(etb, number_of_lines_of_context, tb_offset)\n",
      "  File \"/Users/miaoyuesun/anaconda3/envs/py36/lib/python3.6/site-packages/IPython/core/ultratb.py\", line 319, in wrapped\n",
      "    return f(*args, **kwargs)\n",
      "  File \"/Users/miaoyuesun/anaconda3/envs/py36/lib/python3.6/site-packages/IPython/core/ultratb.py\", line 353, in _fixed_getinnerframes\n",
      "    records = fix_frame_records_filenames(inspect.getinnerframes(etb, context))\n",
      "  File \"/Users/miaoyuesun/anaconda3/envs/py36/lib/python3.6/inspect.py\", line 1490, in getinnerframes\n",
      "    frameinfo = (tb.tb_frame,) + getframeinfo(tb, context)\n",
      "  File \"/Users/miaoyuesun/anaconda3/envs/py36/lib/python3.6/inspect.py\", line 1448, in getframeinfo\n",
      "    filename = getsourcefile(frame) or getfile(frame)\n",
      "  File \"/Users/miaoyuesun/anaconda3/envs/py36/lib/python3.6/inspect.py\", line 696, in getsourcefile\n",
      "    if getattr(getmodule(object, filename), '__loader__', None) is not None:\n",
      "  File \"/Users/miaoyuesun/anaconda3/envs/py36/lib/python3.6/inspect.py\", line 742, in getmodule\n",
      "    os.path.realpath(f)] = module.__name__\n",
      "  File \"/Users/miaoyuesun/anaconda3/envs/py36/lib/python3.6/posixpath.py\", line 395, in realpath\n",
      "    path, ok = _joinrealpath(filename[:0], filename, {})\n",
      "  File \"/Users/miaoyuesun/anaconda3/envs/py36/lib/python3.6/posixpath.py\", line 429, in _joinrealpath\n",
      "    if not islink(newpath):\n",
      "  File \"/Users/miaoyuesun/anaconda3/envs/py36/lib/python3.6/posixpath.py\", line 171, in islink\n",
      "    st = os.lstat(path)\n",
      "KeyboardInterrupt\n"
     ]
    },
    {
     "ename": "KeyboardInterrupt",
     "evalue": "",
     "output_type": "error",
     "traceback": [
      "\u001b[0;31m---------------------------------------------------------------------------\u001b[0m"
     ]
    }
   ],
   "source": [
    "import yfinance as yf\n",
    "import plotly\n",
    "from plotly.graph_objs import Scatter, Layout\n",
    "\n",
    "\n",
    "Tickers= [\"MSFT\",\"NFLX\",\"DIS\",\"WORK\",\"ZM\",\"WHR\",\"ADP\",\"DADA\",\"ADS\",\"GDAT\"]\n",
    "data=[]\n",
    "for i in range(len(Tickers)):\n",
    "    temp= yf.Ticker(Tickers[i])\n",
    "    data.append(temp.info[\"previousClose\"])\n",
    "plotly.offline.plot({\n",
    "    \"data\":[Scatter (x=Tickers,y=data)],\n",
    "    \"layout\": Layout(title =\"YahooFinance\")\n",
    "    \n",
    "    \n",
    "})\n"
   ]
  },
  {
   "cell_type": "code",
   "execution_count": 44,
   "metadata": {},
   "outputs": [
    {
     "data": {
      "text/plain": [
       "'temp-plot.html'"
      ]
     },
     "execution_count": 44,
     "metadata": {},
     "output_type": "execute_result"
    }
   ],
   "source": [
    "import tushare as ts;\n",
    "import plotly\n",
    "from plotly.graph_objs import Scatter, Layout\n",
    "\n",
    "pro= ts.pro_api(\"e7f3b15a0008846942e8a41853f392f2b50b3a71440021790a9e1eb6\")\n",
    "\n",
    "#print 5 futures\n",
    "df = ts.get_realtime_quotes(['000581','002738','300410','002736','300412']) \n",
    "\n",
    "plotly.offline.plot({\n",
    "    \"data\":[Scatter (x=df['code'],y=df['amount'])],\n",
    "    \"layout\": Layout(title =\"Tushare Futures\")\n",
    "    \n",
    "})\n",
    "\n",
    "\n",
    "#print 5 stocks\n",
    "names =['CU1811.SHF','FB1508.DCE','M1508.DCE','Y1508.DCE','BB1508.DCE']\n",
    "data=[]\n",
    "df = pro.fut_daily(ts_code='BB1508.DCE')\n",
    "data.append(df['pre_close'][0])\n",
    "df = pro.fut_daily(ts_code='CU1811.SHF')\n",
    "data.append(df['pre_close'][0])\n",
    "df = pro.fut_daily(ts_code='FB1508.DCE')\n",
    "data.append(df['pre_close'][0])\n",
    "df = pro.fut_daily(ts_code='M1508.DCE')\n",
    "data.append(df['pre_close'][0])\n",
    "df = pro.fut_daily(ts_code='Y1508.DCE')\n",
    "data.append(df['pre_close'][0])\n",
    "plotly.offline.plot({\n",
    "    \"data\": [Scatter(x=names, y=data)],\n",
    "    \"layout\": Layout(title=\"Tushar Stocks\")\n",
    "})"
   ]
  },
  {
   "cell_type": "code",
   "execution_count": 78,
   "metadata": {},
   "outputs": [
    {
     "name": "stdout",
     "output_type": "stream",
     "text": [
      "1985-01-01    0.64594\n",
      "1985-02-01    0.40435\n",
      "1985-03-01    0.24807\n",
      "1985-04-01    0.35644\n",
      "1985-05-01    0.39609\n",
      "               ...   \n",
      "2020-02-01    0.16742\n",
      "2020-03-01    1.80104\n",
      "2020-04-01    2.28500\n",
      "2020-05-01    1.04465\n",
      "2020-06-01    0.37548\n",
      "Length: 426, dtype: float64\n"
     ]
    }
   ],
   "source": [
    "from fredapi import Fred\n",
    "import plotly\n",
    "from plotly.graph_objs import Scatter, Layout\n",
    "\n",
    "\n",
    "fred = Fred(api_key='0ac8f54ceab67f55a07985a54dea90b2')\n",
    "data = fred.search('Macroeconomic News and Outlook: Other Financial Indicators')\n",
    "\n",
    "data = fred.get_series_latest_release('EMVMACROFININD')\n",
    "\n",
    "plotly.offline.plot({\n",
    "    \"data\": [Scatter(y=data)],\n",
    "    \"layout\": Layout(title=\"FRED\")\n",
    "})\n"
   ]
  },
  {
   "cell_type": "code",
   "execution_count": null,
   "metadata": {},
   "outputs": [],
   "source": []
  }
 ],
 "metadata": {
  "kernelspec": {
   "display_name": "Python 3",
   "language": "python",
   "name": "python3"
  },
  "language_info": {
   "codemirror_mode": {
    "name": "ipython",
    "version": 3
   },
   "file_extension": ".py",
   "mimetype": "text/x-python",
   "name": "python",
   "nbconvert_exporter": "python",
   "pygments_lexer": "ipython3",
   "version": "3.6.10"
  }
 },
 "nbformat": 4,
 "nbformat_minor": 4
}
