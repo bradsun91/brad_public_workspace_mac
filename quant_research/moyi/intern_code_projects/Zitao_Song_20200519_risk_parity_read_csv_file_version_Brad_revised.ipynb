{
 "cells": [
  {
   "cell_type": "code",
   "execution_count": 1,
   "metadata": {},
   "outputs": [],
   "source": [
    "from __future__ import division\n",
    "import numpy as np\n",
    "from scipy.optimize import minimize\n",
    "import matplotlib.pyplot as plt\n",
    "import pandas as pd"
   ]
  },
  {
   "cell_type": "code",
   "execution_count": 2,
   "metadata": {},
   "outputs": [],
   "source": [
    "path = \"/Users/miaoyuesun/Code_Workspace/brad_public_workspace_mac/data/US_database/\"\n",
    "symbols = ['SPY', 'TLT', 'DBC', 'SHY', 'GLD']"
   ]
  },
  {
   "cell_type": "code",
   "execution_count": 3,
   "metadata": {},
   "outputs": [],
   "source": [
    "def return_daily_data(year):\n",
    "    data_list = []\n",
    "    for symbol in symbols:\n",
    "        data = pd.read_csv(path + symbol + '.csv')\n",
    "        data.index = data['Date']\n",
    "        data = data[str(year) + '-01-01':str(year) + '-12-31']\n",
    "        data = data['Adj Close']\n",
    "        data = data.pct_change()[1:]\n",
    "        data_list.append(data)\n",
    "        price_data = pd.DataFrame(data_list)\n",
    "        price_data = price_data.transpose()\n",
    "    return price_data"
   ]
  },
  {
   "cell_type": "code",
   "execution_count": 4,
   "metadata": {},
   "outputs": [],
   "source": [
    "def cov_matrix(year):\n",
    "    data_list = []\n",
    "    for symbol in symbols:\n",
    "        data = pd.read_csv(path + symbol + '.csv')\n",
    "        data.index = data['Date']\n",
    "        data = data[str(year) + '-01-01':str(year) + '-12-31']\n",
    "        data = data['Adj Close']\n",
    "        data = data.pct_change()[1:]\n",
    "        data_list.append(data)\n",
    "        price_data = np.array(data_list)\n",
    "    cov_matrix_year = np.cov(price_data)\n",
    "    return cov_matrix_year"
   ]
  },
  {
   "cell_type": "code",
   "execution_count": 5,
   "metadata": {},
   "outputs": [],
   "source": [
    "def calculate_portfolio_var(w,V):\n",
    "    w = np.matrix(w)\n",
    "    return (w*V*w.T)[0,0]\n",
    "\n",
    "def calculate_risk_contribution(w,V):\n",
    "    w = np.matrix(w)\n",
    "    sigma = np.sqrt(calculate_portfolio_var(w,V))\n",
    "    MRC = V*w.T\n",
    "    RC = np.multiply(MRC,w.T)/sigma\n",
    "    return RC"
   ]
  },
  {
   "cell_type": "code",
   "execution_count": 6,
   "metadata": {},
   "outputs": [],
   "source": [
    "def risk_budget_objective(x,pars):\n",
    "    V = pars[0]\n",
    "    x_t = pars[1]\n",
    "    sig_p =  np.sqrt(calculate_portfolio_var(x,V))\n",
    "    risk_target = np.asmatrix(np.multiply(sig_p,x_t))\n",
    "    asset_RC = calculate_risk_contribution(x,V)\n",
    "    J = sum(np.square(asset_RC-risk_target.T))[0,0]\n",
    "    return J\n",
    "\n",
    "def total_weight_constraint(x):\n",
    "    return np.sum(x)-1.0\n",
    "\n",
    "def long_only_constraint(x):\n",
    "    return x"
   ]
  },
  {
   "cell_type": "code",
   "execution_count": 7,
   "metadata": {},
   "outputs": [],
   "source": [
    "def risk_parity_weights(year):\n",
    "    w0 = [1/5]*5\n",
    "    x_t = [1/5]*5\n",
    "    V = cov_matrix(year)\n",
    "    cons = ({'type': 'eq', 'fun': total_weight_constraint},\n",
    "            {'type': 'ineq', 'fun': long_only_constraint})\n",
    "    res= minimize(risk_budget_objective, w0, args=[V,x_t], method='SLSQP',constraints=cons, options={'disp': True, 'ftol':1e-12})\n",
    "    weight = list(res.x)\n",
    "    a = np.asmatrix(res.x)\n",
    "    return weight"
   ]
  },
  {
   "cell_type": "code",
   "execution_count": 8,
   "metadata": {},
   "outputs": [
    {
     "name": "stdout",
     "output_type": "stream",
     "text": [
      "Optimization terminated successfully.    (Exit mode 0)\n",
      "            Current function value: 1.5026146361984336e-13\n",
      "            Iterations: 55\n",
      "            Function evaluations: 387\n",
      "            Gradient evaluations: 55\n",
      "Optimization terminated successfully.    (Exit mode 0)\n",
      "            Current function value: 2.92007446353977e-13\n",
      "            Iterations: 43\n",
      "            Function evaluations: 303\n",
      "            Gradient evaluations: 43\n",
      "Optimization terminated successfully.    (Exit mode 0)\n",
      "            Current function value: 5.72113782776719e-13\n",
      "            Iterations: 46\n",
      "            Function evaluations: 326\n",
      "            Gradient evaluations: 46\n",
      "Optimization terminated successfully.    (Exit mode 0)\n",
      "            Current function value: 9.736902786542312e-14\n",
      "            Iterations: 43\n",
      "            Function evaluations: 304\n",
      "            Gradient evaluations: 43\n",
      "Optimization terminated successfully.    (Exit mode 0)\n",
      "            Current function value: 2.9665772971570615e-13\n",
      "            Iterations: 49\n",
      "            Function evaluations: 344\n",
      "            Gradient evaluations: 49\n",
      "Optimization terminated successfully.    (Exit mode 0)\n",
      "            Current function value: 2.9948254351094986e-13\n",
      "            Iterations: 53\n",
      "            Function evaluations: 374\n",
      "            Gradient evaluations: 53\n",
      "Optimization terminated successfully.    (Exit mode 0)\n",
      "            Current function value: 4.4888657859940145e-14\n",
      "            Iterations: 54\n",
      "            Function evaluations: 378\n",
      "            Gradient evaluations: 54\n",
      "Optimization terminated successfully.    (Exit mode 0)\n",
      "            Current function value: 1.9331759790779268e-13\n",
      "            Iterations: 55\n",
      "            Function evaluations: 385\n",
      "            Gradient evaluations: 55\n",
      "Optimization terminated successfully.    (Exit mode 0)\n",
      "            Current function value: 1.342573860942943e-13\n",
      "            Iterations: 51\n",
      "            Function evaluations: 357\n",
      "            Gradient evaluations: 51\n",
      "Optimization terminated successfully.    (Exit mode 0)\n",
      "            Current function value: 2.1420000870005844e-14\n",
      "            Iterations: 53\n",
      "            Function evaluations: 371\n",
      "            Gradient evaluations: 53\n",
      "Optimization terminated successfully.    (Exit mode 0)\n",
      "            Current function value: 1.6897383843498835e-07\n",
      "            Iterations: 22\n",
      "            Function evaluations: 154\n",
      "            Gradient evaluations: 22\n",
      "Optimization terminated successfully.    (Exit mode 0)\n",
      "            Current function value: 8.934748322332474e-15\n",
      "            Iterations: 56\n",
      "            Function evaluations: 393\n",
      "            Gradient evaluations: 56\n",
      "Optimization terminated successfully.    (Exit mode 0)\n",
      "            Current function value: 2.455429756982642e-13\n",
      "            Iterations: 53\n",
      "            Function evaluations: 371\n",
      "            Gradient evaluations: 53\n",
      "Optimization terminated successfully.    (Exit mode 0)\n",
      "            Current function value: 4.0012155085206555e-13\n",
      "            Iterations: 59\n",
      "            Function evaluations: 421\n",
      "            Gradient evaluations: 59\n"
     ]
    },
    {
     "data": {
      "text/plain": [
       "<matplotlib.axes._subplots.AxesSubplot at 0x119c4f390>"
      ]
     },
     "execution_count": 8,
     "metadata": {},
     "output_type": "execute_result"
    },
    {
     "data": {
      "image/png": "[encoded data removed]",
      "text/plain": [
       "<Figure size 432x288 with 1 Axes>"
      ]
     },
     "metadata": {
      "needs_background": "light"
     },
     "output_type": "display_data"
    }
   ],
   "source": [
    "for i in range(2007, 2021):\n",
    "    price_data = []\n",
    "    if i<=2007:\n",
    "        base_fund = 10000\n",
    "    else:\n",
    "        base_fund = total_return[-1]\n",
    "    total_return = ((((risk_parity_weights(i)*return_daily_data(i)).sum(axis=1))+1).cumprod())*base_fund\n",
    "    plt.plot(total_return, color='r')\n",
    "plt.xlabel('Date')\n",
    "plt.ylabel('Returns')\n",
    "plt.title('Risk Parity Backtest')\n",
    "\n",
    "price_data1 = pd.read_csv(\"/Users/miaoyuesun/Code_Workspace/brad_public_workspace_mac/data/US_database/SPY.csv\", engine='python')\n",
    "price_data1.index = price_data1['Date']\n",
    "price_data1 = price_data1['2007-01-01':'2020-04-28']\n",
    "price_data1 = price_data1['Adj Close']\n",
    "returns_data1 = price_data1.pct_change()[1:]\n",
    "cumulative_returns1 = (returns_data1+1).cumprod()\n",
    "base_fund = 10000\n",
    "returns1 = (cumulative_returns1 * base_fund)\n",
    "returns1.plot()\n",
    "# plt.plot(returns1)\n",
    "# plt.show()"
   ]
  }
 ],
 "metadata": {
  "kernelspec": {
   "display_name": "Python 3",
   "language": "python",
   "name": "python3"
  },
  "language_info": {
   "codemirror_mode": {
    "name": "ipython",
    "version": 3
   },
   "file_extension": ".py",
   "mimetype": "text/x-python",
   "name": "python",
   "nbconvert_exporter": "python",
   "pygments_lexer": "ipython3",
   "version": "3.6.10"
  }
 },
 "nbformat": 4,
 "nbformat_minor": 4
}
