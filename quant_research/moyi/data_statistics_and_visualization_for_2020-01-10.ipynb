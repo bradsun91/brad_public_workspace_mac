{
 "cells": [
  {
   "cell_type": "code",
   "execution_count": 1,
   "metadata": {
    "scrolled": true
   },
   "outputs": [],
   "source": [
    "import pandas as pd\n",
    "import numpy as np\n",
    "import matplotlib.pyplot as plt"
   ]
  },
  {
   "cell_type": "markdown",
   "metadata": {},
   "source": [
    "# Open sp500 fundamentals files"
   ]
  },
  {
   "cell_type": "code",
   "execution_count": 19,
   "metadata": {
    "scrolled": true
   },
   "outputs": [],
   "source": [
    "# annual statements\n",
    "balance_annual = pd.read_csv('505stocks_annual_balance.csv')\n",
    "cash_annual = pd.read_csv('505stocks_annual_cash.csv')\n",
    "income_annual = pd.read_csv('505stocks_annual_income.csv')\n",
    "\n",
    "# quarterly statements\n",
    "balance_quarter = pd.read_csv('505stocks_quarterly_balance.csv')\n",
    "cash_quarter = pd.read_csv('505stocks_quarterly_cash.csv')\n",
    "income_quarter = pd.read_csv('505stocks_quarterly_income.csv')\n",
    "\n",
    "# key statistics\n",
    "key_stats = pd.read_csv('505stocks_key_statistics.csv')\n",
    "\n",
    "# industry sector \n",
    "industry = pd.read_csv('sp500_tickers_sectors.csv')"
   ]
  },
  {
   "cell_type": "code",
   "execution_count": 20,
   "metadata": {},
   "outputs": [
    {
     "data": {
      "text/html": [
       "<div>\n",
       "<style scoped>\n",
       "    .dataframe tbody tr th:only-of-type {\n",
       "        vertical-align: middle;\n",
       "    }\n",
       "\n",
       "    .dataframe tbody tr th {\n",
       "        vertical-align: top;\n",
       "    }\n",
       "\n",
       "    .dataframe thead th {\n",
       "        text-align: right;\n",
       "    }\n",
       "</style>\n",
       "<table border=\"1\" class=\"dataframe\">\n",
       "  <thead>\n",
       "    <tr style=\"text-align: right;\">\n",
       "      <th></th>\n",
       "      <th>Unnamed: 0</th>\n",
       "      <th>MMM</th>\n",
       "      <th>ABT</th>\n",
       "      <th>ABBV</th>\n",
       "      <th>ABMD</th>\n",
       "      <th>ACN</th>\n",
       "      <th>ATVI</th>\n",
       "      <th>ADBE</th>\n",
       "      <th>AMD</th>\n",
       "      <th>AAP</th>\n",
       "      <th>...</th>\n",
       "      <th>WYNN</th>\n",
       "      <th>XEL</th>\n",
       "      <th>XRX</th>\n",
       "      <th>XLNX</th>\n",
       "      <th>XYL</th>\n",
       "      <th>YUM</th>\n",
       "      <th>ZBRA</th>\n",
       "      <th>ZBH</th>\n",
       "      <th>ZION</th>\n",
       "      <th>ZTS</th>\n",
       "    </tr>\n",
       "  </thead>\n",
       "  <tbody>\n",
       "    <tr>\n",
       "      <th>0</th>\n",
       "      <td>52WeekChange</td>\n",
       "      <td>-0.06404966</td>\n",
       "      <td>0.25130284</td>\n",
       "      <td>0.02278912</td>\n",
       "      <td>-0.4521529</td>\n",
       "      <td>0.4021901</td>\n",
       "      <td>0.15559888</td>\n",
       "      <td>0.4318459</td>\n",
       "      <td>1.4807498</td>\n",
       "      <td>-0.07390809</td>\n",
       "      <td>...</td>\n",
       "      <td>0.2760322</td>\n",
       "      <td>0.2693323</td>\n",
       "      <td>0.6523702</td>\n",
       "      <td>0.12327099</td>\n",
       "      <td>0.16282094</td>\n",
       "      <td>0.12169075</td>\n",
       "      <td>0.5372622</td>\n",
       "      <td>0.4327035</td>\n",
       "      <td>0.17915905</td>\n",
       "      <td>0.5722933</td>\n",
       "    </tr>\n",
       "    <tr>\n",
       "      <th>1</th>\n",
       "      <td>SandP52WeekChange</td>\n",
       "      <td>0.26112986</td>\n",
       "      <td>0.26112986</td>\n",
       "      <td>0.26112986</td>\n",
       "      <td>0.26112986</td>\n",
       "      <td>0.26112986</td>\n",
       "      <td>0.26112986</td>\n",
       "      <td>0.26112986</td>\n",
       "      <td>0.26112986</td>\n",
       "      <td>0.26112986</td>\n",
       "      <td>...</td>\n",
       "      <td>0.26112986</td>\n",
       "      <td>0.26112986</td>\n",
       "      <td>0.26112986</td>\n",
       "      <td>0.26112986</td>\n",
       "      <td>0.26112986</td>\n",
       "      <td>0.26112986</td>\n",
       "      <td>0.26112986</td>\n",
       "      <td>0.26112986</td>\n",
       "      <td>0.26112986</td>\n",
       "      <td>0.26112986</td>\n",
       "    </tr>\n",
       "    <tr>\n",
       "      <th>2</th>\n",
       "      <td>annualHoldingsTurnover</td>\n",
       "      <td>NaN</td>\n",
       "      <td>NaN</td>\n",
       "      <td>NaN</td>\n",
       "      <td>NaN</td>\n",
       "      <td>NaN</td>\n",
       "      <td>NaN</td>\n",
       "      <td>NaN</td>\n",
       "      <td>NaN</td>\n",
       "      <td>NaN</td>\n",
       "      <td>...</td>\n",
       "      <td>NaN</td>\n",
       "      <td>NaN</td>\n",
       "      <td>NaN</td>\n",
       "      <td>NaN</td>\n",
       "      <td>NaN</td>\n",
       "      <td>NaN</td>\n",
       "      <td>NaN</td>\n",
       "      <td>NaN</td>\n",
       "      <td>NaN</td>\n",
       "      <td>NaN</td>\n",
       "    </tr>\n",
       "    <tr>\n",
       "      <th>3</th>\n",
       "      <td>annualReportExpenseRatio</td>\n",
       "      <td>NaN</td>\n",
       "      <td>NaN</td>\n",
       "      <td>NaN</td>\n",
       "      <td>NaN</td>\n",
       "      <td>NaN</td>\n",
       "      <td>NaN</td>\n",
       "      <td>NaN</td>\n",
       "      <td>NaN</td>\n",
       "      <td>NaN</td>\n",
       "      <td>...</td>\n",
       "      <td>NaN</td>\n",
       "      <td>NaN</td>\n",
       "      <td>NaN</td>\n",
       "      <td>NaN</td>\n",
       "      <td>NaN</td>\n",
       "      <td>NaN</td>\n",
       "      <td>NaN</td>\n",
       "      <td>NaN</td>\n",
       "      <td>NaN</td>\n",
       "      <td>NaN</td>\n",
       "    </tr>\n",
       "    <tr>\n",
       "      <th>4</th>\n",
       "      <td>beta</td>\n",
       "      <td>1.101449</td>\n",
       "      <td>1.107416</td>\n",
       "      <td>0.947144</td>\n",
       "      <td>0.274509</td>\n",
       "      <td>1.040068</td>\n",
       "      <td>0.836317</td>\n",
       "      <td>1.105711</td>\n",
       "      <td>3.092924</td>\n",
       "      <td>0.832907</td>\n",
       "      <td>...</td>\n",
       "      <td>2.085251</td>\n",
       "      <td>0.097186</td>\n",
       "      <td>1.794266</td>\n",
       "      <td>1.219948</td>\n",
       "      <td>1.157715</td>\n",
       "      <td>0.335038</td>\n",
       "      <td>1.65177</td>\n",
       "      <td>1.155157</td>\n",
       "      <td>1.577152</td>\n",
       "      <td>0.799658</td>\n",
       "    </tr>\n",
       "    <tr>\n",
       "      <th>5</th>\n",
       "      <td>beta3Year</td>\n",
       "      <td>NaN</td>\n",
       "      <td>NaN</td>\n",
       "      <td>NaN</td>\n",
       "      <td>NaN</td>\n",
       "      <td>NaN</td>\n",
       "      <td>NaN</td>\n",
       "      <td>NaN</td>\n",
       "      <td>NaN</td>\n",
       "      <td>NaN</td>\n",
       "      <td>...</td>\n",
       "      <td>NaN</td>\n",
       "      <td>NaN</td>\n",
       "      <td>NaN</td>\n",
       "      <td>NaN</td>\n",
       "      <td>NaN</td>\n",
       "      <td>NaN</td>\n",
       "      <td>NaN</td>\n",
       "      <td>NaN</td>\n",
       "      <td>NaN</td>\n",
       "      <td>NaN</td>\n",
       "    </tr>\n",
       "    <tr>\n",
       "      <th>6</th>\n",
       "      <td>bookValue</td>\n",
       "      <td>18.611</td>\n",
       "      <td>17.991</td>\n",
       "      <td>-5.563</td>\n",
       "      <td>21.916</td>\n",
       "      <td>23.885</td>\n",
       "      <td>15.928</td>\n",
       "      <td>21.831</td>\n",
       "      <td>1.953</td>\n",
       "      <td>50.17</td>\n",
       "      <td>...</td>\n",
       "      <td>17.96</td>\n",
       "      <td>25.06</td>\n",
       "      <td>22.173</td>\n",
       "      <td>10.721</td>\n",
       "      <td>16.024</td>\n",
       "      <td>-26.723</td>\n",
       "      <td>31.343</td>\n",
       "      <td>58.762</td>\n",
       "      <td>40.752</td>\n",
       "      <td>5.617</td>\n",
       "    </tr>\n",
       "    <tr>\n",
       "      <th>7</th>\n",
       "      <td>category</td>\n",
       "      <td>NaN</td>\n",
       "      <td>NaN</td>\n",
       "      <td>NaN</td>\n",
       "      <td>NaN</td>\n",
       "      <td>NaN</td>\n",
       "      <td>NaN</td>\n",
       "      <td>NaN</td>\n",
       "      <td>NaN</td>\n",
       "      <td>NaN</td>\n",
       "      <td>...</td>\n",
       "      <td>NaN</td>\n",
       "      <td>NaN</td>\n",
       "      <td>NaN</td>\n",
       "      <td>NaN</td>\n",
       "      <td>NaN</td>\n",
       "      <td>NaN</td>\n",
       "      <td>NaN</td>\n",
       "      <td>NaN</td>\n",
       "      <td>NaN</td>\n",
       "      <td>NaN</td>\n",
       "    </tr>\n",
       "    <tr>\n",
       "      <th>8</th>\n",
       "      <td>dateShortInterest</td>\n",
       "      <td>1576195200</td>\n",
       "      <td>1576195200</td>\n",
       "      <td>1576195200</td>\n",
       "      <td>1576195200</td>\n",
       "      <td>1576195200</td>\n",
       "      <td>1576195200</td>\n",
       "      <td>1576195200</td>\n",
       "      <td>1576195200</td>\n",
       "      <td>1576195200</td>\n",
       "      <td>...</td>\n",
       "      <td>1576195200</td>\n",
       "      <td>1576195200</td>\n",
       "      <td>1576195200</td>\n",
       "      <td>1576195200</td>\n",
       "      <td>1576195200</td>\n",
       "      <td>1576195200</td>\n",
       "      <td>1576195200</td>\n",
       "      <td>1576195200</td>\n",
       "      <td>1576195200</td>\n",
       "      <td>1576195200</td>\n",
       "    </tr>\n",
       "    <tr>\n",
       "      <th>9</th>\n",
       "      <td>earningsQuarterlyGrowth</td>\n",
       "      <td>0.026</td>\n",
       "      <td>0.705</td>\n",
       "      <td>-0.314</td>\n",
       "      <td>-0.739</td>\n",
       "      <td>0.065</td>\n",
       "      <td>-0.215</td>\n",
       "      <td>0.256</td>\n",
       "      <td>0.176</td>\n",
       "      <td>0.068</td>\n",
       "      <td>...</td>\n",
       "      <td>NaN</td>\n",
       "      <td>0.073</td>\n",
       "      <td>1.483</td>\n",
       "      <td>0.052</td>\n",
       "      <td>-0.5</td>\n",
       "      <td>-0.438</td>\n",
       "      <td>0.071</td>\n",
       "      <td>1.658</td>\n",
       "      <td>-0.004</td>\n",
       "      <td>0.248</td>\n",
       "    </tr>\n",
       "    <tr>\n",
       "      <th>10</th>\n",
       "      <td>enterpriseToEbitda</td>\n",
       "      <td>14.76</td>\n",
       "      <td>21.778</td>\n",
       "      <td>10.452</td>\n",
       "      <td>29.628</td>\n",
       "      <td>18.072</td>\n",
       "      <td>18.672</td>\n",
       "      <td>42.574</td>\n",
       "      <td>95.452</td>\n",
       "      <td>13.638</td>\n",
       "      <td>...</td>\n",
       "      <td>14.95</td>\n",
       "      <td>14.327</td>\n",
       "      <td>9.037</td>\n",
       "      <td>22.338</td>\n",
       "      <td>17.736</td>\n",
       "      <td>20.976</td>\n",
       "      <td>17.359</td>\n",
       "      <td>16.106</td>\n",
       "      <td>NaN</td>\n",
       "      <td>28.62</td>\n",
       "    </tr>\n",
       "    <tr>\n",
       "      <th>11</th>\n",
       "      <td>enterpriseToRevenue</td>\n",
       "      <td>3.657</td>\n",
       "      <td>5.381</td>\n",
       "      <td>4.917</td>\n",
       "      <td>9.579</td>\n",
       "      <td>2.906</td>\n",
       "      <td>6.333</td>\n",
       "      <td>14.696</td>\n",
       "      <td>8.827</td>\n",
       "      <td>1.354</td>\n",
       "      <td>...</td>\n",
       "      <td>3.458</td>\n",
       "      <td>4.515</td>\n",
       "      <td>1.359</td>\n",
       "      <td>7.343</td>\n",
       "      <td>3.147</td>\n",
       "      <td>7.659</td>\n",
       "      <td>3.488</td>\n",
       "      <td>4.878</td>\n",
       "      <td>4.55</td>\n",
       "      <td>11.243</td>\n",
       "    </tr>\n",
       "    <tr>\n",
       "      <th>12</th>\n",
       "      <td>enterpriseValue</td>\n",
       "      <td>116899176448</td>\n",
       "      <td>168733310976</td>\n",
       "      <td>161600454656</td>\n",
       "      <td>7857860608</td>\n",
       "      <td>127750987776</td>\n",
       "      <td>43599552512</td>\n",
       "      <td>164173611008</td>\n",
       "      <td>53166804992</td>\n",
       "      <td>13139638272</td>\n",
       "      <td>...</td>\n",
       "      <td>22978334720</td>\n",
       "      <td>52424232960</td>\n",
       "      <td>12543983616</td>\n",
       "      <td>24315250688</td>\n",
       "      <td>16565720064</td>\n",
       "      <td>41826504704</td>\n",
       "      <td>15449897984</td>\n",
       "      <td>38672994304</td>\n",
       "      <td>12749935616</td>\n",
       "      <td>69144977408</td>\n",
       "    </tr>\n",
       "    <tr>\n",
       "      <th>13</th>\n",
       "      <td>fiveYearAverageReturn</td>\n",
       "      <td>NaN</td>\n",
       "      <td>NaN</td>\n",
       "      <td>NaN</td>\n",
       "      <td>NaN</td>\n",
       "      <td>NaN</td>\n",
       "      <td>NaN</td>\n",
       "      <td>NaN</td>\n",
       "      <td>NaN</td>\n",
       "      <td>NaN</td>\n",
       "      <td>...</td>\n",
       "      <td>NaN</td>\n",
       "      <td>NaN</td>\n",
       "      <td>NaN</td>\n",
       "      <td>NaN</td>\n",
       "      <td>NaN</td>\n",
       "      <td>NaN</td>\n",
       "      <td>NaN</td>\n",
       "      <td>NaN</td>\n",
       "      <td>NaN</td>\n",
       "      <td>NaN</td>\n",
       "    </tr>\n",
       "    <tr>\n",
       "      <th>14</th>\n",
       "      <td>floatShares</td>\n",
       "      <td>574285838</td>\n",
       "      <td>1755103864</td>\n",
       "      <td>1476735971</td>\n",
       "      <td>44214076</td>\n",
       "      <td>633770219</td>\n",
       "      <td>759355936</td>\n",
       "      <td>480679754</td>\n",
       "      <td>1105141686</td>\n",
       "      <td>68700681</td>\n",
       "      <td>...</td>\n",
       "      <td>96251157</td>\n",
       "      <td>523066638</td>\n",
       "      <td>183684356</td>\n",
       "      <td>250941825</td>\n",
       "      <td>179306333</td>\n",
       "      <td>301817928</td>\n",
       "      <td>53400597</td>\n",
       "      <td>205468393</td>\n",
       "      <td>168044983</td>\n",
       "      <td>475703876</td>\n",
       "    </tr>\n",
       "    <tr>\n",
       "      <th>15</th>\n",
       "      <td>forwardEps</td>\n",
       "      <td>9.61</td>\n",
       "      <td>3.6</td>\n",
       "      <td>9.49</td>\n",
       "      <td>4.91</td>\n",
       "      <td>8.61</td>\n",
       "      <td>2.51</td>\n",
       "      <td>11.61</td>\n",
       "      <td>1.11</td>\n",
       "      <td>9</td>\n",
       "      <td>...</td>\n",
       "      <td>5.93</td>\n",
       "      <td>2.78</td>\n",
       "      <td>3.43</td>\n",
       "      <td>3.62</td>\n",
       "      <td>3.31</td>\n",
       "      <td>4.15</td>\n",
       "      <td>14.05</td>\n",
       "      <td>8.28</td>\n",
       "      <td>4.44</td>\n",
       "      <td>4.02</td>\n",
       "    </tr>\n",
       "    <tr>\n",
       "      <th>16</th>\n",
       "      <td>forwardPE</td>\n",
       "      <td>18.808533</td>\n",
       "      <td>23.911028</td>\n",
       "      <td>9.450474</td>\n",
       "      <td>39.1222</td>\n",
       "      <td>24.167248</td>\n",
       "      <td>23.595617</td>\n",
       "      <td>29.309036</td>\n",
       "      <td>43.64027</td>\n",
       "      <td>16.622223</td>\n",
       "      <td>...</td>\n",
       "      <td>24.166948</td>\n",
       "      <td>22.494604</td>\n",
       "      <td>10.758018</td>\n",
       "      <td>27.646713</td>\n",
       "      <td>24.28701</td>\n",
       "      <td>24.603615</td>\n",
       "      <td>17.60356</td>\n",
       "      <td>18.199276</td>\n",
       "      <td>11.481981</td>\n",
       "      <td>33.751717</td>\n",
       "    </tr>\n",
       "    <tr>\n",
       "      <th>17</th>\n",
       "      <td>fundFamily</td>\n",
       "      <td>NaN</td>\n",
       "      <td>NaN</td>\n",
       "      <td>NaN</td>\n",
       "      <td>NaN</td>\n",
       "      <td>NaN</td>\n",
       "      <td>NaN</td>\n",
       "      <td>NaN</td>\n",
       "      <td>NaN</td>\n",
       "      <td>NaN</td>\n",
       "      <td>...</td>\n",
       "      <td>NaN</td>\n",
       "      <td>NaN</td>\n",
       "      <td>NaN</td>\n",
       "      <td>NaN</td>\n",
       "      <td>NaN</td>\n",
       "      <td>NaN</td>\n",
       "      <td>NaN</td>\n",
       "      <td>NaN</td>\n",
       "      <td>NaN</td>\n",
       "      <td>NaN</td>\n",
       "    </tr>\n",
       "    <tr>\n",
       "      <th>18</th>\n",
       "      <td>fundInceptionDate</td>\n",
       "      <td>-</td>\n",
       "      <td>-</td>\n",
       "      <td>-</td>\n",
       "      <td>-</td>\n",
       "      <td>-</td>\n",
       "      <td>-</td>\n",
       "      <td>-</td>\n",
       "      <td>-</td>\n",
       "      <td>-</td>\n",
       "      <td>...</td>\n",
       "      <td>-</td>\n",
       "      <td>-</td>\n",
       "      <td>-</td>\n",
       "      <td>-</td>\n",
       "      <td>-</td>\n",
       "      <td>-</td>\n",
       "      <td>-</td>\n",
       "      <td>-</td>\n",
       "      <td>-</td>\n",
       "      <td>-</td>\n",
       "    </tr>\n",
       "    <tr>\n",
       "      <th>19</th>\n",
       "      <td>heldPercentInsiders</td>\n",
       "      <td>0.078590006</td>\n",
       "      <td>0.00674</td>\n",
       "      <td>0.00092</td>\n",
       "      <td>0.02037</td>\n",
       "      <td>0.00112</td>\n",
       "      <td>0.01381</td>\n",
       "      <td>0.00274</td>\n",
       "      <td>0.00746</td>\n",
       "      <td>0.00398</td>\n",
       "      <td>...</td>\n",
       "      <td>0.09594</td>\n",
       "      <td>0.00179</td>\n",
       "      <td>0.04245</td>\n",
       "      <td>0.00174</td>\n",
       "      <td>0.00841</td>\n",
       "      <td>0.0016300001</td>\n",
       "      <td>0.009380001</td>\n",
       "      <td>0.0017299999</td>\n",
       "      <td>0.01477</td>\n",
       "      <td>0.00071999995</td>\n",
       "    </tr>\n",
       "    <tr>\n",
       "      <th>20</th>\n",
       "      <td>heldPercentInstitutions</td>\n",
       "      <td>0.11174</td>\n",
       "      <td>0.76105005</td>\n",
       "      <td>0.73682</td>\n",
       "      <td>0.93973</td>\n",
       "      <td>0.74896</td>\n",
       "      <td>0.93013</td>\n",
       "      <td>0.88392997</td>\n",
       "      <td>0.78376</td>\n",
       "      <td>1.08513</td>\n",
       "      <td>...</td>\n",
       "      <td>0.75416</td>\n",
       "      <td>0.77348</td>\n",
       "      <td>0.90174</td>\n",
       "      <td>0.87543</td>\n",
       "      <td>0.92817</td>\n",
       "      <td>0.79176</td>\n",
       "      <td>0.90059996</td>\n",
       "      <td>0.91576</td>\n",
       "      <td>1.0053099</td>\n",
       "      <td>0.94568</td>\n",
       "    </tr>\n",
       "    <tr>\n",
       "      <th>21</th>\n",
       "      <td>lastCapGain</td>\n",
       "      <td>NaN</td>\n",
       "      <td>NaN</td>\n",
       "      <td>NaN</td>\n",
       "      <td>NaN</td>\n",
       "      <td>NaN</td>\n",
       "      <td>NaN</td>\n",
       "      <td>NaN</td>\n",
       "      <td>NaN</td>\n",
       "      <td>NaN</td>\n",
       "      <td>...</td>\n",
       "      <td>NaN</td>\n",
       "      <td>NaN</td>\n",
       "      <td>NaN</td>\n",
       "      <td>NaN</td>\n",
       "      <td>NaN</td>\n",
       "      <td>NaN</td>\n",
       "      <td>NaN</td>\n",
       "      <td>NaN</td>\n",
       "      <td>NaN</td>\n",
       "      <td>NaN</td>\n",
       "    </tr>\n",
       "    <tr>\n",
       "      <th>22</th>\n",
       "      <td>lastDividendValue</td>\n",
       "      <td>NaN</td>\n",
       "      <td>NaN</td>\n",
       "      <td>NaN</td>\n",
       "      <td>NaN</td>\n",
       "      <td>NaN</td>\n",
       "      <td>NaN</td>\n",
       "      <td>NaN</td>\n",
       "      <td>NaN</td>\n",
       "      <td>NaN</td>\n",
       "      <td>...</td>\n",
       "      <td>NaN</td>\n",
       "      <td>NaN</td>\n",
       "      <td>NaN</td>\n",
       "      <td>NaN</td>\n",
       "      <td>NaN</td>\n",
       "      <td>NaN</td>\n",
       "      <td>NaN</td>\n",
       "      <td>NaN</td>\n",
       "      <td>NaN</td>\n",
       "      <td>NaN</td>\n",
       "    </tr>\n",
       "    <tr>\n",
       "      <th>23</th>\n",
       "      <td>lastFiscalYearEnd</td>\n",
       "      <td>1546214400</td>\n",
       "      <td>1546214400</td>\n",
       "      <td>1546214400</td>\n",
       "      <td>1553990400</td>\n",
       "      <td>1567209600</td>\n",
       "      <td>1546214400</td>\n",
       "      <td>1574985600</td>\n",
       "      <td>1546041600</td>\n",
       "      <td>1546041600</td>\n",
       "      <td>...</td>\n",
       "      <td>1546214400</td>\n",
       "      <td>1546214400</td>\n",
       "      <td>1546214400</td>\n",
       "      <td>1553904000</td>\n",
       "      <td>1546214400</td>\n",
       "      <td>1546214400</td>\n",
       "      <td>1546214400</td>\n",
       "      <td>1546214400</td>\n",
       "      <td>1546214400</td>\n",
       "      <td>1546214400</td>\n",
       "    </tr>\n",
       "    <tr>\n",
       "      <th>24</th>\n",
       "      <td>lastSplitDate</td>\n",
       "      <td>2003-09-30</td>\n",
       "      <td>2013-01-02</td>\n",
       "      <td>-</td>\n",
       "      <td>2000-10-02</td>\n",
       "      <td>2011-12-30</td>\n",
       "      <td>2008-09-08</td>\n",
       "      <td>2005-05-24</td>\n",
       "      <td>2000-08-22</td>\n",
       "      <td>2005-09-26</td>\n",
       "      <td>...</td>\n",
       "      <td>-</td>\n",
       "      <td>1998-06-02</td>\n",
       "      <td>2017-06-15</td>\n",
       "      <td>1999-12-28</td>\n",
       "      <td>-</td>\n",
       "      <td>2016-11-01</td>\n",
       "      <td>2004-08-26</td>\n",
       "      <td>-</td>\n",
       "      <td>1997-05-15</td>\n",
       "      <td>-</td>\n",
       "    </tr>\n",
       "    <tr>\n",
       "      <th>25</th>\n",
       "      <td>lastSplitFactor</td>\n",
       "      <td>2:1</td>\n",
       "      <td>10000:4798</td>\n",
       "      <td>NaN</td>\n",
       "      <td>2:1</td>\n",
       "      <td>10:1</td>\n",
       "      <td>2:1</td>\n",
       "      <td>2:1</td>\n",
       "      <td>2:1</td>\n",
       "      <td>3:2</td>\n",
       "      <td>...</td>\n",
       "      <td>NaN</td>\n",
       "      <td>2:1</td>\n",
       "      <td>1:4</td>\n",
       "      <td>2:1</td>\n",
       "      <td>NaN</td>\n",
       "      <td>1391:1000</td>\n",
       "      <td>3:2</td>\n",
       "      <td>NaN</td>\n",
       "      <td>4:1</td>\n",
       "      <td>NaN</td>\n",
       "    </tr>\n",
       "    <tr>\n",
       "      <th>26</th>\n",
       "      <td>legalType</td>\n",
       "      <td>NaN</td>\n",
       "      <td>NaN</td>\n",
       "      <td>NaN</td>\n",
       "      <td>NaN</td>\n",
       "      <td>NaN</td>\n",
       "      <td>NaN</td>\n",
       "      <td>NaN</td>\n",
       "      <td>NaN</td>\n",
       "      <td>NaN</td>\n",
       "      <td>...</td>\n",
       "      <td>NaN</td>\n",
       "      <td>NaN</td>\n",
       "      <td>NaN</td>\n",
       "      <td>NaN</td>\n",
       "      <td>NaN</td>\n",
       "      <td>NaN</td>\n",
       "      <td>NaN</td>\n",
       "      <td>NaN</td>\n",
       "      <td>NaN</td>\n",
       "      <td>NaN</td>\n",
       "    </tr>\n",
       "    <tr>\n",
       "      <th>27</th>\n",
       "      <td>maxAge</td>\n",
       "      <td>1</td>\n",
       "      <td>1</td>\n",
       "      <td>1</td>\n",
       "      <td>1</td>\n",
       "      <td>1</td>\n",
       "      <td>1</td>\n",
       "      <td>1</td>\n",
       "      <td>1</td>\n",
       "      <td>1</td>\n",
       "      <td>...</td>\n",
       "      <td>1</td>\n",
       "      <td>1</td>\n",
       "      <td>1</td>\n",
       "      <td>1</td>\n",
       "      <td>1</td>\n",
       "      <td>1</td>\n",
       "      <td>1</td>\n",
       "      <td>1</td>\n",
       "      <td>1</td>\n",
       "      <td>1</td>\n",
       "    </tr>\n",
       "    <tr>\n",
       "      <th>28</th>\n",
       "      <td>morningStarOverallRating</td>\n",
       "      <td>NaN</td>\n",
       "      <td>NaN</td>\n",
       "      <td>NaN</td>\n",
       "      <td>NaN</td>\n",
       "      <td>NaN</td>\n",
       "      <td>NaN</td>\n",
       "      <td>NaN</td>\n",
       "      <td>NaN</td>\n",
       "      <td>NaN</td>\n",
       "      <td>...</td>\n",
       "      <td>NaN</td>\n",
       "      <td>NaN</td>\n",
       "      <td>NaN</td>\n",
       "      <td>NaN</td>\n",
       "      <td>NaN</td>\n",
       "      <td>NaN</td>\n",
       "      <td>NaN</td>\n",
       "      <td>NaN</td>\n",
       "      <td>NaN</td>\n",
       "      <td>NaN</td>\n",
       "    </tr>\n",
       "    <tr>\n",
       "      <th>29</th>\n",
       "      <td>morningStarRiskRating</td>\n",
       "      <td>NaN</td>\n",
       "      <td>NaN</td>\n",
       "      <td>NaN</td>\n",
       "      <td>NaN</td>\n",
       "      <td>NaN</td>\n",
       "      <td>NaN</td>\n",
       "      <td>NaN</td>\n",
       "      <td>NaN</td>\n",
       "      <td>NaN</td>\n",
       "      <td>...</td>\n",
       "      <td>NaN</td>\n",
       "      <td>NaN</td>\n",
       "      <td>NaN</td>\n",
       "      <td>NaN</td>\n",
       "      <td>NaN</td>\n",
       "      <td>NaN</td>\n",
       "      <td>NaN</td>\n",
       "      <td>NaN</td>\n",
       "      <td>NaN</td>\n",
       "      <td>NaN</td>\n",
       "    </tr>\n",
       "    <tr>\n",
       "      <th>30</th>\n",
       "      <td>mostRecentQuarter</td>\n",
       "      <td>1569801600</td>\n",
       "      <td>1569801600</td>\n",
       "      <td>1569801600</td>\n",
       "      <td>1569801600</td>\n",
       "      <td>1575072000</td>\n",
       "      <td>1569801600</td>\n",
       "      <td>1574985600</td>\n",
       "      <td>1569628800</td>\n",
       "      <td>1570233600</td>\n",
       "      <td>...</td>\n",
       "      <td>1569801600</td>\n",
       "      <td>1569801600</td>\n",
       "      <td>1569801600</td>\n",
       "      <td>1569628800</td>\n",
       "      <td>1569801600</td>\n",
       "      <td>1569801600</td>\n",
       "      <td>1569628800</td>\n",
       "      <td>1569801600</td>\n",
       "      <td>1569801600</td>\n",
       "      <td>1569801600</td>\n",
       "    </tr>\n",
       "    <tr>\n",
       "      <th>31</th>\n",
       "      <td>netIncomeToCommon</td>\n",
       "      <td>4947999744</td>\n",
       "      <td>3272000000</td>\n",
       "      <td>3232000000</td>\n",
       "      <td>220816992</td>\n",
       "      <td>4861360128</td>\n",
       "      <td>1628999936</td>\n",
       "      <td>2951458048</td>\n",
       "      <td>209000000</td>\n",
       "      <td>444431008</td>\n",
       "      <td>...</td>\n",
       "      <td>660793024</td>\n",
       "      <td>1294000000</td>\n",
       "      <td>658000000</td>\n",
       "      <td>952451968</td>\n",
       "      <td>508000000</td>\n",
       "      <td>1140000000</td>\n",
       "      <td>490000000</td>\n",
       "      <td>-90200000</td>\n",
       "      <td>822000000</td>\n",
       "      <td>1460999936</td>\n",
       "    </tr>\n",
       "    <tr>\n",
       "      <th>32</th>\n",
       "      <td>nextFiscalYearEnd</td>\n",
       "      <td>1609372800</td>\n",
       "      <td>1609372800</td>\n",
       "      <td>1609372800</td>\n",
       "      <td>1617148800</td>\n",
       "      <td>1630368000</td>\n",
       "      <td>1609372800</td>\n",
       "      <td>1638144000</td>\n",
       "      <td>1609200000</td>\n",
       "      <td>1609200000</td>\n",
       "      <td>...</td>\n",
       "      <td>1609372800</td>\n",
       "      <td>1609372800</td>\n",
       "      <td>1609372800</td>\n",
       "      <td>1617062400</td>\n",
       "      <td>1609372800</td>\n",
       "      <td>1609372800</td>\n",
       "      <td>1609372800</td>\n",
       "      <td>1609372800</td>\n",
       "      <td>1609372800</td>\n",
       "      <td>1609372800</td>\n",
       "    </tr>\n",
       "    <tr>\n",
       "      <th>33</th>\n",
       "      <td>pegRatio</td>\n",
       "      <td>25.02</td>\n",
       "      <td>2.3</td>\n",
       "      <td>2.75</td>\n",
       "      <td>1.62</td>\n",
       "      <td>2.96</td>\n",
       "      <td>5.09</td>\n",
       "      <td>1.8</td>\n",
       "      <td>2.16</td>\n",
       "      <td>1.26</td>\n",
       "      <td>...</td>\n",
       "      <td>3.09</td>\n",
       "      <td>3.91</td>\n",
       "      <td>1.13</td>\n",
       "      <td>4</td>\n",
       "      <td>2.34</td>\n",
       "      <td>1.91</td>\n",
       "      <td>1.89</td>\n",
       "      <td>3.57</td>\n",
       "      <td>2.2</td>\n",
       "      <td>3.13</td>\n",
       "    </tr>\n",
       "    <tr>\n",
       "      <th>34</th>\n",
       "      <td>priceHint</td>\n",
       "      <td>2</td>\n",
       "      <td>2</td>\n",
       "      <td>2</td>\n",
       "      <td>2</td>\n",
       "      <td>2</td>\n",
       "      <td>2</td>\n",
       "      <td>2</td>\n",
       "      <td>2</td>\n",
       "      <td>2</td>\n",
       "      <td>...</td>\n",
       "      <td>2</td>\n",
       "      <td>2</td>\n",
       "      <td>2</td>\n",
       "      <td>2</td>\n",
       "      <td>2</td>\n",
       "      <td>2</td>\n",
       "      <td>2</td>\n",
       "      <td>2</td>\n",
       "      <td>2</td>\n",
       "      <td>2</td>\n",
       "    </tr>\n",
       "    <tr>\n",
       "      <th>35</th>\n",
       "      <td>priceToBook</td>\n",
       "      <td>9.711998</td>\n",
       "      <td>4.784598</td>\n",
       "      <td>NaN</td>\n",
       "      <td>8.764829</td>\n",
       "      <td>8.711743</td>\n",
       "      <td>3.7182946</td>\n",
       "      <td>15.586913</td>\n",
       "      <td>24.803226</td>\n",
       "      <td>2.9818618</td>\n",
       "      <td>...</td>\n",
       "      <td>7.9793987</td>\n",
       "      <td>2.4954112</td>\n",
       "      <td>1.6641862</td>\n",
       "      <td>9.335053</td>\n",
       "      <td>5.0168495</td>\n",
       "      <td>NaN</td>\n",
       "      <td>7.891076</td>\n",
       "      <td>2.5644124</td>\n",
       "      <td>1.2509816</td>\n",
       "      <td>24.15558</td>\n",
       "    </tr>\n",
       "    <tr>\n",
       "      <th>36</th>\n",
       "      <td>priceToSalesTrailing12Months</td>\n",
       "      <td>NaN</td>\n",
       "      <td>NaN</td>\n",
       "      <td>NaN</td>\n",
       "      <td>NaN</td>\n",
       "      <td>NaN</td>\n",
       "      <td>NaN</td>\n",
       "      <td>NaN</td>\n",
       "      <td>NaN</td>\n",
       "      <td>NaN</td>\n",
       "      <td>...</td>\n",
       "      <td>NaN</td>\n",
       "      <td>NaN</td>\n",
       "      <td>NaN</td>\n",
       "      <td>NaN</td>\n",
       "      <td>NaN</td>\n",
       "      <td>NaN</td>\n",
       "      <td>NaN</td>\n",
       "      <td>NaN</td>\n",
       "      <td>NaN</td>\n",
       "      <td>NaN</td>\n",
       "    </tr>\n",
       "    <tr>\n",
       "      <th>37</th>\n",
       "      <td>profitMargins</td>\n",
       "      <td>0.15477</td>\n",
       "      <td>0.10499</td>\n",
       "      <td>0.099029996</td>\n",
       "      <td>0.26919</td>\n",
       "      <td>0.11056</td>\n",
       "      <td>0.23663001</td>\n",
       "      <td>0.2642</td>\n",
       "      <td>0.0347</td>\n",
       "      <td>0.04581</td>\n",
       "      <td>...</td>\n",
       "      <td>0.09944</td>\n",
       "      <td>0.11145</td>\n",
       "      <td>0.07282</td>\n",
       "      <td>0.28763</td>\n",
       "      <td>0.096499994</td>\n",
       "      <td>0.20875</td>\n",
       "      <td>0.11061</td>\n",
       "      <td>-0.01138</td>\n",
       "      <td>0.30657</td>\n",
       "      <td>0.23756</td>\n",
       "    </tr>\n",
       "    <tr>\n",
       "      <th>38</th>\n",
       "      <td>revenueQuarterlyGrowth</td>\n",
       "      <td>NaN</td>\n",
       "      <td>NaN</td>\n",
       "      <td>NaN</td>\n",
       "      <td>NaN</td>\n",
       "      <td>NaN</td>\n",
       "      <td>NaN</td>\n",
       "      <td>NaN</td>\n",
       "      <td>NaN</td>\n",
       "      <td>NaN</td>\n",
       "      <td>...</td>\n",
       "      <td>NaN</td>\n",
       "      <td>NaN</td>\n",
       "      <td>NaN</td>\n",
       "      <td>NaN</td>\n",
       "      <td>NaN</td>\n",
       "      <td>NaN</td>\n",
       "      <td>NaN</td>\n",
       "      <td>NaN</td>\n",
       "      <td>NaN</td>\n",
       "      <td>NaN</td>\n",
       "    </tr>\n",
       "    <tr>\n",
       "      <th>39</th>\n",
       "      <td>sharesOutstanding</td>\n",
       "      <td>575051008</td>\n",
       "      <td>1768460032</td>\n",
       "      <td>1478819968</td>\n",
       "      <td>45155100</td>\n",
       "      <td>635043968</td>\n",
       "      <td>768259968</td>\n",
       "      <td>482339008</td>\n",
       "      <td>1167069952</td>\n",
       "      <td>69259400</td>\n",
       "      <td>...</td>\n",
       "      <td>107355000</td>\n",
       "      <td>524388000</td>\n",
       "      <td>216188000</td>\n",
       "      <td>251467008</td>\n",
       "      <td>180079008</td>\n",
       "      <td>302462016</td>\n",
       "      <td>53921500</td>\n",
       "      <td>205684000</td>\n",
       "      <td>170464000</td>\n",
       "      <td>476299008</td>\n",
       "    </tr>\n",
       "    <tr>\n",
       "      <th>40</th>\n",
       "      <td>sharesPercentSharesOut</td>\n",
       "      <td>0.0173</td>\n",
       "      <td>0.0109</td>\n",
       "      <td>0.0465</td>\n",
       "      <td>0.078600004</td>\n",
       "      <td>0.0116</td>\n",
       "      <td>0.0352</td>\n",
       "      <td>0.0156</td>\n",
       "      <td>0.084300004</td>\n",
       "      <td>0.036</td>\n",
       "      <td>...</td>\n",
       "      <td>0.0295</td>\n",
       "      <td>0.032899998</td>\n",
       "      <td>0.0341</td>\n",
       "      <td>0.0183</td>\n",
       "      <td>0.026500002</td>\n",
       "      <td>0.0147</td>\n",
       "      <td>0.0234</td>\n",
       "      <td>0.0105</td>\n",
       "      <td>0.1593</td>\n",
       "      <td>0.010299999</td>\n",
       "    </tr>\n",
       "    <tr>\n",
       "      <th>41</th>\n",
       "      <td>sharesShort</td>\n",
       "      <td>9957296</td>\n",
       "      <td>19311486</td>\n",
       "      <td>68826698</td>\n",
       "      <td>3548201</td>\n",
       "      <td>7386622</td>\n",
       "      <td>27054050</td>\n",
       "      <td>7530428</td>\n",
       "      <td>98378133</td>\n",
       "      <td>2491946</td>\n",
       "      <td>...</td>\n",
       "      <td>3168558</td>\n",
       "      <td>17278003</td>\n",
       "      <td>7367281</td>\n",
       "      <td>4613271</td>\n",
       "      <td>4775602</td>\n",
       "      <td>4455813</td>\n",
       "      <td>1259852</td>\n",
       "      <td>2153167</td>\n",
       "      <td>27153750</td>\n",
       "      <td>4913216</td>\n",
       "    </tr>\n",
       "    <tr>\n",
       "      <th>42</th>\n",
       "      <td>sharesShortPreviousMonthDate</td>\n",
       "      <td>2019-11-15</td>\n",
       "      <td>2019-11-15</td>\n",
       "      <td>2019-11-15</td>\n",
       "      <td>2019-11-15</td>\n",
       "      <td>2019-11-15</td>\n",
       "      <td>2019-11-15</td>\n",
       "      <td>2019-11-15</td>\n",
       "      <td>2019-11-15</td>\n",
       "      <td>2019-11-15</td>\n",
       "      <td>...</td>\n",
       "      <td>2019-11-15</td>\n",
       "      <td>2019-11-15</td>\n",
       "      <td>2019-11-15</td>\n",
       "      <td>2019-11-15</td>\n",
       "      <td>2019-11-15</td>\n",
       "      <td>2019-11-15</td>\n",
       "      <td>2019-11-15</td>\n",
       "      <td>2019-11-15</td>\n",
       "      <td>2019-11-15</td>\n",
       "      <td>2019-11-15</td>\n",
       "    </tr>\n",
       "    <tr>\n",
       "      <th>43</th>\n",
       "      <td>sharesShortPriorMonth</td>\n",
       "      <td>9574627</td>\n",
       "      <td>17504693</td>\n",
       "      <td>70925988</td>\n",
       "      <td>3757529</td>\n",
       "      <td>8242441</td>\n",
       "      <td>24649830</td>\n",
       "      <td>7757003</td>\n",
       "      <td>118828624</td>\n",
       "      <td>2802394</td>\n",
       "      <td>...</td>\n",
       "      <td>4581732</td>\n",
       "      <td>17972872</td>\n",
       "      <td>7603157</td>\n",
       "      <td>5570962</td>\n",
       "      <td>5168695</td>\n",
       "      <td>4655858</td>\n",
       "      <td>1187802</td>\n",
       "      <td>1901073</td>\n",
       "      <td>27230209</td>\n",
       "      <td>3475252</td>\n",
       "    </tr>\n",
       "    <tr>\n",
       "      <th>44</th>\n",
       "      <td>shortPercentOfFloat</td>\n",
       "      <td>0.0173</td>\n",
       "      <td>0.0113</td>\n",
       "      <td>0.052800003</td>\n",
       "      <td>0.09020001</td>\n",
       "      <td>0.0116</td>\n",
       "      <td>0.0403</td>\n",
       "      <td>0.0154</td>\n",
       "      <td>0.0915</td>\n",
       "      <td>0.040999997</td>\n",
       "      <td>...</td>\n",
       "      <td>0.0325</td>\n",
       "      <td>0.0336</td>\n",
       "      <td>0.038599998</td>\n",
       "      <td>0.020599999</td>\n",
       "      <td>0.0299</td>\n",
       "      <td>0.0146</td>\n",
       "      <td>0.026500002</td>\n",
       "      <td>0.0105</td>\n",
       "      <td>0.1727</td>\n",
       "      <td>0.010299999</td>\n",
       "    </tr>\n",
       "    <tr>\n",
       "      <th>45</th>\n",
       "      <td>shortRatio</td>\n",
       "      <td>4.1</td>\n",
       "      <td>4.43</td>\n",
       "      <td>9.91</td>\n",
       "      <td>4.4</td>\n",
       "      <td>4.67</td>\n",
       "      <td>4.93</td>\n",
       "      <td>3.4</td>\n",
       "      <td>1.82</td>\n",
       "      <td>2.26</td>\n",
       "      <td>...</td>\n",
       "      <td>1.96</td>\n",
       "      <td>6.11</td>\n",
       "      <td>3.29</td>\n",
       "      <td>1.63</td>\n",
       "      <td>4.97</td>\n",
       "      <td>2.18</td>\n",
       "      <td>3.07</td>\n",
       "      <td>2.73</td>\n",
       "      <td>18.04</td>\n",
       "      <td>2.27</td>\n",
       "    </tr>\n",
       "    <tr>\n",
       "      <th>46</th>\n",
       "      <td>threeYearAverageReturn</td>\n",
       "      <td>NaN</td>\n",
       "      <td>NaN</td>\n",
       "      <td>NaN</td>\n",
       "      <td>NaN</td>\n",
       "      <td>NaN</td>\n",
       "      <td>NaN</td>\n",
       "      <td>NaN</td>\n",
       "      <td>NaN</td>\n",
       "      <td>NaN</td>\n",
       "      <td>...</td>\n",
       "      <td>NaN</td>\n",
       "      <td>NaN</td>\n",
       "      <td>NaN</td>\n",
       "      <td>NaN</td>\n",
       "      <td>NaN</td>\n",
       "      <td>NaN</td>\n",
       "      <td>NaN</td>\n",
       "      <td>NaN</td>\n",
       "      <td>NaN</td>\n",
       "      <td>NaN</td>\n",
       "    </tr>\n",
       "    <tr>\n",
       "      <th>47</th>\n",
       "      <td>totalAssets</td>\n",
       "      <td>NaN</td>\n",
       "      <td>NaN</td>\n",
       "      <td>NaN</td>\n",
       "      <td>NaN</td>\n",
       "      <td>NaN</td>\n",
       "      <td>NaN</td>\n",
       "      <td>NaN</td>\n",
       "      <td>NaN</td>\n",
       "      <td>NaN</td>\n",
       "      <td>...</td>\n",
       "      <td>NaN</td>\n",
       "      <td>NaN</td>\n",
       "      <td>NaN</td>\n",
       "      <td>NaN</td>\n",
       "      <td>NaN</td>\n",
       "      <td>NaN</td>\n",
       "      <td>NaN</td>\n",
       "      <td>NaN</td>\n",
       "      <td>NaN</td>\n",
       "      <td>NaN</td>\n",
       "    </tr>\n",
       "    <tr>\n",
       "      <th>48</th>\n",
       "      <td>trailingEps</td>\n",
       "      <td>8.433</td>\n",
       "      <td>1.84</td>\n",
       "      <td>2.177</td>\n",
       "      <td>4.79</td>\n",
       "      <td>7.495</td>\n",
       "      <td>2.11</td>\n",
       "      <td>6</td>\n",
       "      <td>0.191</td>\n",
       "      <td>6.173</td>\n",
       "      <td>...</td>\n",
       "      <td>6.16</td>\n",
       "      <td>2.503</td>\n",
       "      <td>2.835</td>\n",
       "      <td>3.709</td>\n",
       "      <td>2.8</td>\n",
       "      <td>3.618</td>\n",
       "      <td>8.989</td>\n",
       "      <td>-0.441</td>\n",
       "      <td>4.272</td>\n",
       "      <td>3.02</td>\n",
       "    </tr>\n",
       "    <tr>\n",
       "      <th>49</th>\n",
       "      <td>yield</td>\n",
       "      <td>NaN</td>\n",
       "      <td>NaN</td>\n",
       "      <td>NaN</td>\n",
       "      <td>NaN</td>\n",
       "      <td>NaN</td>\n",
       "      <td>NaN</td>\n",
       "      <td>NaN</td>\n",
       "      <td>NaN</td>\n",
       "      <td>NaN</td>\n",
       "      <td>...</td>\n",
       "      <td>NaN</td>\n",
       "      <td>NaN</td>\n",
       "      <td>NaN</td>\n",
       "      <td>NaN</td>\n",
       "      <td>NaN</td>\n",
       "      <td>NaN</td>\n",
       "      <td>NaN</td>\n",
       "      <td>NaN</td>\n",
       "      <td>NaN</td>\n",
       "      <td>NaN</td>\n",
       "    </tr>\n",
       "    <tr>\n",
       "      <th>50</th>\n",
       "      <td>ytdReturn</td>\n",
       "      <td>NaN</td>\n",
       "      <td>NaN</td>\n",
       "      <td>NaN</td>\n",
       "      <td>NaN</td>\n",
       "      <td>NaN</td>\n",
       "      <td>NaN</td>\n",
       "      <td>NaN</td>\n",
       "      <td>NaN</td>\n",
       "      <td>NaN</td>\n",
       "      <td>...</td>\n",
       "      <td>NaN</td>\n",
       "      <td>NaN</td>\n",
       "      <td>NaN</td>\n",
       "      <td>NaN</td>\n",
       "      <td>NaN</td>\n",
       "      <td>NaN</td>\n",
       "      <td>NaN</td>\n",
       "      <td>NaN</td>\n",
       "      <td>NaN</td>\n",
       "      <td>NaN</td>\n",
       "    </tr>\n",
       "  </tbody>\n",
       "</table>\n",
       "<p>51 rows × 505 columns</p>\n",
       "</div>"
      ],
      "text/plain": [
       "                      Unnamed: 0           MMM           ABT          ABBV  \\\n",
       "0                   52WeekChange   -0.06404966    0.25130284    0.02278912   \n",
       "1              SandP52WeekChange    0.26112986    0.26112986    0.26112986   \n",
       "2         annualHoldingsTurnover           NaN           NaN           NaN   \n",
       "3       annualReportExpenseRatio           NaN           NaN           NaN   \n",
       "4                           beta      1.101449      1.107416      0.947144   \n",
       "5                      beta3Year           NaN           NaN           NaN   \n",
       "6                      bookValue        18.611        17.991        -5.563   \n",
       "7                       category           NaN           NaN           NaN   \n",
       "8              dateShortInterest    1576195200    1576195200    1576195200   \n",
       "9        earningsQuarterlyGrowth         0.026         0.705        -0.314   \n",
       "10            enterpriseToEbitda         14.76        21.778        10.452   \n",
       "11           enterpriseToRevenue         3.657         5.381         4.917   \n",
       "12               enterpriseValue  116899176448  168733310976  161600454656   \n",
       "13         fiveYearAverageReturn           NaN           NaN           NaN   \n",
       "14                   floatShares     574285838    1755103864    1476735971   \n",
       "15                    forwardEps          9.61           3.6          9.49   \n",
       "16                     forwardPE     18.808533     23.911028      9.450474   \n",
       "17                    fundFamily           NaN           NaN           NaN   \n",
       "18             fundInceptionDate             -             -             -   \n",
       "19           heldPercentInsiders   0.078590006       0.00674       0.00092   \n",
       "20       heldPercentInstitutions       0.11174    0.76105005       0.73682   \n",
       "21                   lastCapGain           NaN           NaN           NaN   \n",
       "22             lastDividendValue           NaN           NaN           NaN   \n",
       "23             lastFiscalYearEnd    1546214400    1546214400    1546214400   \n",
       "24                 lastSplitDate    2003-09-30    2013-01-02             -   \n",
       "25               lastSplitFactor           2:1    10000:4798           NaN   \n",
       "26                     legalType           NaN           NaN           NaN   \n",
       "27                        maxAge             1             1             1   \n",
       "28      morningStarOverallRating           NaN           NaN           NaN   \n",
       "29         morningStarRiskRating           NaN           NaN           NaN   \n",
       "30             mostRecentQuarter    1569801600    1569801600    1569801600   \n",
       "31             netIncomeToCommon    4947999744    3272000000    3232000000   \n",
       "32             nextFiscalYearEnd    1609372800    1609372800    1609372800   \n",
       "33                      pegRatio         25.02           2.3          2.75   \n",
       "34                     priceHint             2             2             2   \n",
       "35                   priceToBook      9.711998      4.784598           NaN   \n",
       "36  priceToSalesTrailing12Months           NaN           NaN           NaN   \n",
       "37                 profitMargins       0.15477       0.10499   0.099029996   \n",
       "38        revenueQuarterlyGrowth           NaN           NaN           NaN   \n",
       "39             sharesOutstanding     575051008    1768460032    1478819968   \n",
       "40        sharesPercentSharesOut        0.0173        0.0109        0.0465   \n",
       "41                   sharesShort       9957296      19311486      68826698   \n",
       "42  sharesShortPreviousMonthDate    2019-11-15    2019-11-15    2019-11-15   \n",
       "43         sharesShortPriorMonth       9574627      17504693      70925988   \n",
       "44           shortPercentOfFloat        0.0173        0.0113   0.052800003   \n",
       "45                    shortRatio           4.1          4.43          9.91   \n",
       "46        threeYearAverageReturn           NaN           NaN           NaN   \n",
       "47                   totalAssets           NaN           NaN           NaN   \n",
       "48                   trailingEps         8.433          1.84         2.177   \n",
       "49                         yield           NaN           NaN           NaN   \n",
       "50                     ytdReturn           NaN           NaN           NaN   \n",
       "\n",
       "           ABMD           ACN         ATVI          ADBE          AMD  \\\n",
       "0    -0.4521529     0.4021901   0.15559888     0.4318459    1.4807498   \n",
       "1    0.26112986    0.26112986   0.26112986    0.26112986   0.26112986   \n",
       "2           NaN           NaN          NaN           NaN          NaN   \n",
       "3           NaN           NaN          NaN           NaN          NaN   \n",
       "4      0.274509      1.040068     0.836317      1.105711     3.092924   \n",
       "5           NaN           NaN          NaN           NaN          NaN   \n",
       "6        21.916        23.885       15.928        21.831        1.953   \n",
       "7           NaN           NaN          NaN           NaN          NaN   \n",
       "8    1576195200    1576195200   1576195200    1576195200   1576195200   \n",
       "9        -0.739         0.065       -0.215         0.256        0.176   \n",
       "10       29.628        18.072       18.672        42.574       95.452   \n",
       "11        9.579         2.906        6.333        14.696        8.827   \n",
       "12   7857860608  127750987776  43599552512  164173611008  53166804992   \n",
       "13          NaN           NaN          NaN           NaN          NaN   \n",
       "14     44214076     633770219    759355936     480679754   1105141686   \n",
       "15         4.91          8.61         2.51         11.61         1.11   \n",
       "16      39.1222     24.167248    23.595617     29.309036     43.64027   \n",
       "17          NaN           NaN          NaN           NaN          NaN   \n",
       "18            -             -            -             -            -   \n",
       "19      0.02037       0.00112      0.01381       0.00274      0.00746   \n",
       "20      0.93973       0.74896      0.93013    0.88392997      0.78376   \n",
       "21          NaN           NaN          NaN           NaN          NaN   \n",
       "22          NaN           NaN          NaN           NaN          NaN   \n",
       "23   1553990400    1567209600   1546214400    1574985600   1546041600   \n",
       "24   2000-10-02    2011-12-30   2008-09-08    2005-05-24   2000-08-22   \n",
       "25          2:1          10:1          2:1           2:1          2:1   \n",
       "26          NaN           NaN          NaN           NaN          NaN   \n",
       "27            1             1            1             1            1   \n",
       "28          NaN           NaN          NaN           NaN          NaN   \n",
       "29          NaN           NaN          NaN           NaN          NaN   \n",
       "30   1569801600    1575072000   1569801600    1574985600   1569628800   \n",
       "31    220816992    4861360128   1628999936    2951458048    209000000   \n",
       "32   1617148800    1630368000   1609372800    1638144000   1609200000   \n",
       "33         1.62          2.96         5.09           1.8         2.16   \n",
       "34            2             2            2             2            2   \n",
       "35     8.764829      8.711743    3.7182946     15.586913    24.803226   \n",
       "36          NaN           NaN          NaN           NaN          NaN   \n",
       "37      0.26919       0.11056   0.23663001        0.2642       0.0347   \n",
       "38          NaN           NaN          NaN           NaN          NaN   \n",
       "39     45155100     635043968    768259968     482339008   1167069952   \n",
       "40  0.078600004        0.0116       0.0352        0.0156  0.084300004   \n",
       "41      3548201       7386622     27054050       7530428     98378133   \n",
       "42   2019-11-15    2019-11-15   2019-11-15    2019-11-15   2019-11-15   \n",
       "43      3757529       8242441     24649830       7757003    118828624   \n",
       "44   0.09020001        0.0116       0.0403        0.0154       0.0915   \n",
       "45          4.4          4.67         4.93           3.4         1.82   \n",
       "46          NaN           NaN          NaN           NaN          NaN   \n",
       "47          NaN           NaN          NaN           NaN          NaN   \n",
       "48         4.79         7.495         2.11             6        0.191   \n",
       "49          NaN           NaN          NaN           NaN          NaN   \n",
       "50          NaN           NaN          NaN           NaN          NaN   \n",
       "\n",
       "            AAP  ...         WYNN          XEL          XRX         XLNX  \\\n",
       "0   -0.07390809  ...    0.2760322    0.2693323    0.6523702   0.12327099   \n",
       "1    0.26112986  ...   0.26112986   0.26112986   0.26112986   0.26112986   \n",
       "2           NaN  ...          NaN          NaN          NaN          NaN   \n",
       "3           NaN  ...          NaN          NaN          NaN          NaN   \n",
       "4      0.832907  ...     2.085251     0.097186     1.794266     1.219948   \n",
       "5           NaN  ...          NaN          NaN          NaN          NaN   \n",
       "6         50.17  ...        17.96        25.06       22.173       10.721   \n",
       "7           NaN  ...          NaN          NaN          NaN          NaN   \n",
       "8    1576195200  ...   1576195200   1576195200   1576195200   1576195200   \n",
       "9         0.068  ...          NaN        0.073        1.483        0.052   \n",
       "10       13.638  ...        14.95       14.327        9.037       22.338   \n",
       "11        1.354  ...        3.458        4.515        1.359        7.343   \n",
       "12  13139638272  ...  22978334720  52424232960  12543983616  24315250688   \n",
       "13          NaN  ...          NaN          NaN          NaN          NaN   \n",
       "14     68700681  ...     96251157    523066638    183684356    250941825   \n",
       "15            9  ...         5.93         2.78         3.43         3.62   \n",
       "16    16.622223  ...    24.166948    22.494604    10.758018    27.646713   \n",
       "17          NaN  ...          NaN          NaN          NaN          NaN   \n",
       "18            -  ...            -            -            -            -   \n",
       "19      0.00398  ...      0.09594      0.00179      0.04245      0.00174   \n",
       "20      1.08513  ...      0.75416      0.77348      0.90174      0.87543   \n",
       "21          NaN  ...          NaN          NaN          NaN          NaN   \n",
       "22          NaN  ...          NaN          NaN          NaN          NaN   \n",
       "23   1546041600  ...   1546214400   1546214400   1546214400   1553904000   \n",
       "24   2005-09-26  ...            -   1998-06-02   2017-06-15   1999-12-28   \n",
       "25          3:2  ...          NaN          2:1          1:4          2:1   \n",
       "26          NaN  ...          NaN          NaN          NaN          NaN   \n",
       "27            1  ...            1            1            1            1   \n",
       "28          NaN  ...          NaN          NaN          NaN          NaN   \n",
       "29          NaN  ...          NaN          NaN          NaN          NaN   \n",
       "30   1570233600  ...   1569801600   1569801600   1569801600   1569628800   \n",
       "31    444431008  ...    660793024   1294000000    658000000    952451968   \n",
       "32   1609200000  ...   1609372800   1609372800   1609372800   1617062400   \n",
       "33         1.26  ...         3.09         3.91         1.13            4   \n",
       "34            2  ...            2            2            2            2   \n",
       "35    2.9818618  ...    7.9793987    2.4954112    1.6641862     9.335053   \n",
       "36          NaN  ...          NaN          NaN          NaN          NaN   \n",
       "37      0.04581  ...      0.09944      0.11145      0.07282      0.28763   \n",
       "38          NaN  ...          NaN          NaN          NaN          NaN   \n",
       "39     69259400  ...    107355000    524388000    216188000    251467008   \n",
       "40        0.036  ...       0.0295  0.032899998       0.0341       0.0183   \n",
       "41      2491946  ...      3168558     17278003      7367281      4613271   \n",
       "42   2019-11-15  ...   2019-11-15   2019-11-15   2019-11-15   2019-11-15   \n",
       "43      2802394  ...      4581732     17972872      7603157      5570962   \n",
       "44  0.040999997  ...       0.0325       0.0336  0.038599998  0.020599999   \n",
       "45         2.26  ...         1.96         6.11         3.29         1.63   \n",
       "46          NaN  ...          NaN          NaN          NaN          NaN   \n",
       "47          NaN  ...          NaN          NaN          NaN          NaN   \n",
       "48        6.173  ...         6.16        2.503        2.835        3.709   \n",
       "49          NaN  ...          NaN          NaN          NaN          NaN   \n",
       "50          NaN  ...          NaN          NaN          NaN          NaN   \n",
       "\n",
       "            XYL           YUM         ZBRA           ZBH         ZION  \\\n",
       "0    0.16282094    0.12169075    0.5372622     0.4327035   0.17915905   \n",
       "1    0.26112986    0.26112986   0.26112986    0.26112986   0.26112986   \n",
       "2           NaN           NaN          NaN           NaN          NaN   \n",
       "3           NaN           NaN          NaN           NaN          NaN   \n",
       "4      1.157715      0.335038      1.65177      1.155157     1.577152   \n",
       "5           NaN           NaN          NaN           NaN          NaN   \n",
       "6        16.024       -26.723       31.343        58.762       40.752   \n",
       "7           NaN           NaN          NaN           NaN          NaN   \n",
       "8    1576195200    1576195200   1576195200    1576195200   1576195200   \n",
       "9          -0.5        -0.438        0.071         1.658       -0.004   \n",
       "10       17.736        20.976       17.359        16.106          NaN   \n",
       "11        3.147         7.659        3.488         4.878         4.55   \n",
       "12  16565720064   41826504704  15449897984   38672994304  12749935616   \n",
       "13          NaN           NaN          NaN           NaN          NaN   \n",
       "14    179306333     301817928     53400597     205468393    168044983   \n",
       "15         3.31          4.15        14.05          8.28         4.44   \n",
       "16     24.28701     24.603615     17.60356     18.199276    11.481981   \n",
       "17          NaN           NaN          NaN           NaN          NaN   \n",
       "18            -             -            -             -            -   \n",
       "19      0.00841  0.0016300001  0.009380001  0.0017299999      0.01477   \n",
       "20      0.92817       0.79176   0.90059996       0.91576    1.0053099   \n",
       "21          NaN           NaN          NaN           NaN          NaN   \n",
       "22          NaN           NaN          NaN           NaN          NaN   \n",
       "23   1546214400    1546214400   1546214400    1546214400   1546214400   \n",
       "24            -    2016-11-01   2004-08-26             -   1997-05-15   \n",
       "25          NaN     1391:1000          3:2           NaN          4:1   \n",
       "26          NaN           NaN          NaN           NaN          NaN   \n",
       "27            1             1            1             1            1   \n",
       "28          NaN           NaN          NaN           NaN          NaN   \n",
       "29          NaN           NaN          NaN           NaN          NaN   \n",
       "30   1569801600    1569801600   1569628800    1569801600   1569801600   \n",
       "31    508000000    1140000000    490000000     -90200000    822000000   \n",
       "32   1609372800    1609372800   1609372800    1609372800   1609372800   \n",
       "33         2.34          1.91         1.89          3.57          2.2   \n",
       "34            2             2            2             2            2   \n",
       "35    5.0168495           NaN     7.891076     2.5644124    1.2509816   \n",
       "36          NaN           NaN          NaN           NaN          NaN   \n",
       "37  0.096499994       0.20875      0.11061      -0.01138      0.30657   \n",
       "38          NaN           NaN          NaN           NaN          NaN   \n",
       "39    180079008     302462016     53921500     205684000    170464000   \n",
       "40  0.026500002        0.0147       0.0234        0.0105       0.1593   \n",
       "41      4775602       4455813      1259852       2153167     27153750   \n",
       "42   2019-11-15    2019-11-15   2019-11-15    2019-11-15   2019-11-15   \n",
       "43      5168695       4655858      1187802       1901073     27230209   \n",
       "44       0.0299        0.0146  0.026500002        0.0105       0.1727   \n",
       "45         4.97          2.18         3.07          2.73        18.04   \n",
       "46          NaN           NaN          NaN           NaN          NaN   \n",
       "47          NaN           NaN          NaN           NaN          NaN   \n",
       "48          2.8         3.618        8.989        -0.441        4.272   \n",
       "49          NaN           NaN          NaN           NaN          NaN   \n",
       "50          NaN           NaN          NaN           NaN          NaN   \n",
       "\n",
       "              ZTS  \n",
       "0       0.5722933  \n",
       "1      0.26112986  \n",
       "2             NaN  \n",
       "3             NaN  \n",
       "4        0.799658  \n",
       "5             NaN  \n",
       "6           5.617  \n",
       "7             NaN  \n",
       "8      1576195200  \n",
       "9           0.248  \n",
       "10          28.62  \n",
       "11         11.243  \n",
       "12    69144977408  \n",
       "13            NaN  \n",
       "14      475703876  \n",
       "15           4.02  \n",
       "16      33.751717  \n",
       "17            NaN  \n",
       "18              -  \n",
       "19  0.00071999995  \n",
       "20        0.94568  \n",
       "21            NaN  \n",
       "22            NaN  \n",
       "23     1546214400  \n",
       "24              -  \n",
       "25            NaN  \n",
       "26            NaN  \n",
       "27              1  \n",
       "28            NaN  \n",
       "29            NaN  \n",
       "30     1569801600  \n",
       "31     1460999936  \n",
       "32     1609372800  \n",
       "33           3.13  \n",
       "34              2  \n",
       "35       24.15558  \n",
       "36            NaN  \n",
       "37        0.23756  \n",
       "38            NaN  \n",
       "39      476299008  \n",
       "40    0.010299999  \n",
       "41        4913216  \n",
       "42     2019-11-15  \n",
       "43        3475252  \n",
       "44    0.010299999  \n",
       "45           2.27  \n",
       "46            NaN  \n",
       "47            NaN  \n",
       "48           3.02  \n",
       "49            NaN  \n",
       "50            NaN  \n",
       "\n",
       "[51 rows x 505 columns]"
      ]
     },
     "execution_count": 20,
     "metadata": {},
     "output_type": "execute_result"
    }
   ],
   "source": [
    "key_stats"
   ]
  },
  {
   "cell_type": "code",
   "execution_count": 21,
   "metadata": {
    "scrolled": true
   },
   "outputs": [],
   "source": [
    "# setting key statistics metrics as dataframe indexes\n",
    "key_stats.rename(columns={'Unnamed: 0':'key_statistics'},inplace=True)\n",
    "key_stats.set_index('key_statistics',inplace=True)\n",
    "\n",
    "# drop rows with all nans\n",
    "key_stats.dropna(how='all',axis=0,inplace=True)"
   ]
  },
  {
   "cell_type": "code",
   "execution_count": 22,
   "metadata": {},
   "outputs": [
    {
     "data": {
      "text/html": [
       "<div>\n",
       "<style scoped>\n",
       "    .dataframe tbody tr th:only-of-type {\n",
       "        vertical-align: middle;\n",
       "    }\n",
       "\n",
       "    .dataframe tbody tr th {\n",
       "        vertical-align: top;\n",
       "    }\n",
       "\n",
       "    .dataframe thead th {\n",
       "        text-align: right;\n",
       "    }\n",
       "</style>\n",
       "<table border=\"1\" class=\"dataframe\">\n",
       "  <thead>\n",
       "    <tr style=\"text-align: right;\">\n",
       "      <th></th>\n",
       "      <th>MMM</th>\n",
       "      <th>ABT</th>\n",
       "      <th>ABBV</th>\n",
       "      <th>ABMD</th>\n",
       "      <th>ACN</th>\n",
       "      <th>ATVI</th>\n",
       "      <th>ADBE</th>\n",
       "      <th>AMD</th>\n",
       "      <th>AAP</th>\n",
       "      <th>AES</th>\n",
       "      <th>...</th>\n",
       "      <th>WYNN</th>\n",
       "      <th>XEL</th>\n",
       "      <th>XRX</th>\n",
       "      <th>XLNX</th>\n",
       "      <th>XYL</th>\n",
       "      <th>YUM</th>\n",
       "      <th>ZBRA</th>\n",
       "      <th>ZBH</th>\n",
       "      <th>ZION</th>\n",
       "      <th>ZTS</th>\n",
       "    </tr>\n",
       "    <tr>\n",
       "      <th>key_statistics</th>\n",
       "      <th></th>\n",
       "      <th></th>\n",
       "      <th></th>\n",
       "      <th></th>\n",
       "      <th></th>\n",
       "      <th></th>\n",
       "      <th></th>\n",
       "      <th></th>\n",
       "      <th></th>\n",
       "      <th></th>\n",
       "      <th></th>\n",
       "      <th></th>\n",
       "      <th></th>\n",
       "      <th></th>\n",
       "      <th></th>\n",
       "      <th></th>\n",
       "      <th></th>\n",
       "      <th></th>\n",
       "      <th></th>\n",
       "      <th></th>\n",
       "      <th></th>\n",
       "    </tr>\n",
       "  </thead>\n",
       "  <tbody>\n",
       "    <tr>\n",
       "      <th>52WeekChange</th>\n",
       "      <td>-0.06404966</td>\n",
       "      <td>0.25130284</td>\n",
       "      <td>0.02278912</td>\n",
       "      <td>-0.4521529</td>\n",
       "      <td>0.4021901</td>\n",
       "      <td>0.15559888</td>\n",
       "      <td>0.4318459</td>\n",
       "      <td>1.4807498</td>\n",
       "      <td>-0.07390809</td>\n",
       "      <td>0.3207301</td>\n",
       "      <td>...</td>\n",
       "      <td>0.2760322</td>\n",
       "      <td>0.2693323</td>\n",
       "      <td>0.6523702</td>\n",
       "      <td>0.12327099</td>\n",
       "      <td>0.16282094</td>\n",
       "      <td>0.12169075</td>\n",
       "      <td>0.5372622</td>\n",
       "      <td>0.4327035</td>\n",
       "      <td>0.17915905</td>\n",
       "      <td>0.5722933</td>\n",
       "    </tr>\n",
       "    <tr>\n",
       "      <th>SandP52WeekChange</th>\n",
       "      <td>0.26112986</td>\n",
       "      <td>0.26112986</td>\n",
       "      <td>0.26112986</td>\n",
       "      <td>0.26112986</td>\n",
       "      <td>0.26112986</td>\n",
       "      <td>0.26112986</td>\n",
       "      <td>0.26112986</td>\n",
       "      <td>0.26112986</td>\n",
       "      <td>0.26112986</td>\n",
       "      <td>0.26112986</td>\n",
       "      <td>...</td>\n",
       "      <td>0.26112986</td>\n",
       "      <td>0.26112986</td>\n",
       "      <td>0.26112986</td>\n",
       "      <td>0.26112986</td>\n",
       "      <td>0.26112986</td>\n",
       "      <td>0.26112986</td>\n",
       "      <td>0.26112986</td>\n",
       "      <td>0.26112986</td>\n",
       "      <td>0.26112986</td>\n",
       "      <td>0.26112986</td>\n",
       "    </tr>\n",
       "    <tr>\n",
       "      <th>beta</th>\n",
       "      <td>1.101449</td>\n",
       "      <td>1.107416</td>\n",
       "      <td>0.947144</td>\n",
       "      <td>0.274509</td>\n",
       "      <td>1.040068</td>\n",
       "      <td>0.836317</td>\n",
       "      <td>1.105711</td>\n",
       "      <td>3.092924</td>\n",
       "      <td>0.832907</td>\n",
       "      <td>1.082693</td>\n",
       "      <td>...</td>\n",
       "      <td>2.085251</td>\n",
       "      <td>0.097186</td>\n",
       "      <td>1.794266</td>\n",
       "      <td>1.219948</td>\n",
       "      <td>1.157715</td>\n",
       "      <td>0.335038</td>\n",
       "      <td>1.65177</td>\n",
       "      <td>1.155157</td>\n",
       "      <td>1.577152</td>\n",
       "      <td>0.799658</td>\n",
       "    </tr>\n",
       "    <tr>\n",
       "      <th>bookValue</th>\n",
       "      <td>18.611</td>\n",
       "      <td>17.991</td>\n",
       "      <td>-5.563</td>\n",
       "      <td>21.916</td>\n",
       "      <td>23.885</td>\n",
       "      <td>15.928</td>\n",
       "      <td>21.831</td>\n",
       "      <td>1.953</td>\n",
       "      <td>50.17</td>\n",
       "      <td>4.73</td>\n",
       "      <td>...</td>\n",
       "      <td>17.96</td>\n",
       "      <td>25.06</td>\n",
       "      <td>22.173</td>\n",
       "      <td>10.721</td>\n",
       "      <td>16.024</td>\n",
       "      <td>-26.723</td>\n",
       "      <td>31.343</td>\n",
       "      <td>58.762</td>\n",
       "      <td>40.752</td>\n",
       "      <td>5.617</td>\n",
       "    </tr>\n",
       "    <tr>\n",
       "      <th>dateShortInterest</th>\n",
       "      <td>1576195200</td>\n",
       "      <td>1576195200</td>\n",
       "      <td>1576195200</td>\n",
       "      <td>1576195200</td>\n",
       "      <td>1576195200</td>\n",
       "      <td>1576195200</td>\n",
       "      <td>1576195200</td>\n",
       "      <td>1576195200</td>\n",
       "      <td>1576195200</td>\n",
       "      <td>1576195200</td>\n",
       "      <td>...</td>\n",
       "      <td>1576195200</td>\n",
       "      <td>1576195200</td>\n",
       "      <td>1576195200</td>\n",
       "      <td>1576195200</td>\n",
       "      <td>1576195200</td>\n",
       "      <td>1576195200</td>\n",
       "      <td>1576195200</td>\n",
       "      <td>1576195200</td>\n",
       "      <td>1576195200</td>\n",
       "      <td>1576195200</td>\n",
       "    </tr>\n",
       "  </tbody>\n",
       "</table>\n",
       "<p>5 rows × 504 columns</p>\n",
       "</div>"
      ],
      "text/plain": [
       "                           MMM         ABT        ABBV        ABMD  \\\n",
       "key_statistics                                                       \n",
       "52WeekChange       -0.06404966  0.25130284  0.02278912  -0.4521529   \n",
       "SandP52WeekChange   0.26112986  0.26112986  0.26112986  0.26112986   \n",
       "beta                  1.101449    1.107416    0.947144    0.274509   \n",
       "bookValue               18.611      17.991      -5.563      21.916   \n",
       "dateShortInterest   1576195200  1576195200  1576195200  1576195200   \n",
       "\n",
       "                          ACN        ATVI        ADBE         AMD  \\\n",
       "key_statistics                                                      \n",
       "52WeekChange        0.4021901  0.15559888   0.4318459   1.4807498   \n",
       "SandP52WeekChange  0.26112986  0.26112986  0.26112986  0.26112986   \n",
       "beta                 1.040068    0.836317    1.105711    3.092924   \n",
       "bookValue              23.885      15.928      21.831       1.953   \n",
       "dateShortInterest  1576195200  1576195200  1576195200  1576195200   \n",
       "\n",
       "                           AAP         AES  ...        WYNN         XEL  \\\n",
       "key_statistics                              ...                           \n",
       "52WeekChange       -0.07390809   0.3207301  ...   0.2760322   0.2693323   \n",
       "SandP52WeekChange   0.26112986  0.26112986  ...  0.26112986  0.26112986   \n",
       "beta                  0.832907    1.082693  ...    2.085251    0.097186   \n",
       "bookValue                50.17        4.73  ...       17.96       25.06   \n",
       "dateShortInterest   1576195200  1576195200  ...  1576195200  1576195200   \n",
       "\n",
       "                          XRX        XLNX         XYL         YUM        ZBRA  \\\n",
       "key_statistics                                                                  \n",
       "52WeekChange        0.6523702  0.12327099  0.16282094  0.12169075   0.5372622   \n",
       "SandP52WeekChange  0.26112986  0.26112986  0.26112986  0.26112986  0.26112986   \n",
       "beta                 1.794266    1.219948    1.157715    0.335038     1.65177   \n",
       "bookValue              22.173      10.721      16.024     -26.723      31.343   \n",
       "dateShortInterest  1576195200  1576195200  1576195200  1576195200  1576195200   \n",
       "\n",
       "                          ZBH        ZION         ZTS  \n",
       "key_statistics                                         \n",
       "52WeekChange        0.4327035  0.17915905   0.5722933  \n",
       "SandP52WeekChange  0.26112986  0.26112986  0.26112986  \n",
       "beta                 1.155157    1.577152    0.799658  \n",
       "bookValue              58.762      40.752       5.617  \n",
       "dateShortInterest  1576195200  1576195200  1576195200  \n",
       "\n",
       "[5 rows x 504 columns]"
      ]
     },
     "execution_count": 22,
     "metadata": {},
     "output_type": "execute_result"
    }
   ],
   "source": [
    "key_stats.head()"
   ]
  },
  {
   "cell_type": "code",
   "execution_count": 23,
   "metadata": {
    "scrolled": true
   },
   "outputs": [],
   "source": [
    "# clean up industry dataset\n",
    "industry.set_index('tickers',inplace=True)\n",
    "industry = pd.DataFrame(data={'sectors':[value[0].strip('\\n') for value in industry.values]},index=industry.index)"
   ]
  },
  {
   "cell_type": "code",
   "execution_count": 24,
   "metadata": {},
   "outputs": [
    {
     "data": {
      "text/html": [
       "<div>\n",
       "<style scoped>\n",
       "    .dataframe tbody tr th:only-of-type {\n",
       "        vertical-align: middle;\n",
       "    }\n",
       "\n",
       "    .dataframe tbody tr th {\n",
       "        vertical-align: top;\n",
       "    }\n",
       "\n",
       "    .dataframe thead th {\n",
       "        text-align: right;\n",
       "    }\n",
       "</style>\n",
       "<table border=\"1\" class=\"dataframe\">\n",
       "  <thead>\n",
       "    <tr style=\"text-align: right;\">\n",
       "      <th></th>\n",
       "      <th>sectors</th>\n",
       "    </tr>\n",
       "    <tr>\n",
       "      <th>tickers</th>\n",
       "      <th></th>\n",
       "    </tr>\n",
       "  </thead>\n",
       "  <tbody>\n",
       "    <tr>\n",
       "      <th>BKNG</th>\n",
       "      <td>consumer_discretionary</td>\n",
       "    </tr>\n",
       "    <tr>\n",
       "      <th>COO</th>\n",
       "      <td>health_care</td>\n",
       "    </tr>\n",
       "    <tr>\n",
       "      <th>AAL</th>\n",
       "      <td>industrials</td>\n",
       "    </tr>\n",
       "    <tr>\n",
       "      <th>GD</th>\n",
       "      <td>industrials</td>\n",
       "    </tr>\n",
       "    <tr>\n",
       "      <th>KR</th>\n",
       "      <td>consumer_staples</td>\n",
       "    </tr>\n",
       "    <tr>\n",
       "      <th>...</th>\n",
       "      <td>...</td>\n",
       "    </tr>\n",
       "    <tr>\n",
       "      <th>MSFT</th>\n",
       "      <td>information_technology</td>\n",
       "    </tr>\n",
       "    <tr>\n",
       "      <th>LIN</th>\n",
       "      <td>materials</td>\n",
       "    </tr>\n",
       "    <tr>\n",
       "      <th>DVA</th>\n",
       "      <td>health_care</td>\n",
       "    </tr>\n",
       "    <tr>\n",
       "      <th>STE</th>\n",
       "      <td>health_care</td>\n",
       "    </tr>\n",
       "    <tr>\n",
       "      <th>AIV</th>\n",
       "      <td>real_estate</td>\n",
       "    </tr>\n",
       "  </tbody>\n",
       "</table>\n",
       "<p>505 rows × 1 columns</p>\n",
       "</div>"
      ],
      "text/plain": [
       "                        sectors\n",
       "tickers                        \n",
       "BKNG     consumer_discretionary\n",
       "COO                 health_care\n",
       "AAL                 industrials\n",
       "GD                  industrials\n",
       "KR             consumer_staples\n",
       "...                         ...\n",
       "MSFT     information_technology\n",
       "LIN                   materials\n",
       "DVA                 health_care\n",
       "STE                 health_care\n",
       "AIV                 real_estate\n",
       "\n",
       "[505 rows x 1 columns]"
      ]
     },
     "execution_count": 24,
     "metadata": {},
     "output_type": "execute_result"
    }
   ],
   "source": [
    "industry"
   ]
  },
  {
   "cell_type": "code",
   "execution_count": 25,
   "metadata": {
    "scrolled": true
   },
   "outputs": [],
   "source": [
    "# prepare datasets for industry vs. few statistics\n",
    "categories = ['52WeekChange','beta','bookValue','earningsQuarterlyGrowth','heldPercentInstitutions']\n",
    "statistics = key_stats.loc[categories].fillna(0).T"
   ]
  },
  {
   "cell_type": "code",
   "execution_count": 26,
   "metadata": {
    "scrolled": true
   },
   "outputs": [
    {
     "data": {
      "text/html": [
       "<div>\n",
       "<style scoped>\n",
       "    .dataframe tbody tr th:only-of-type {\n",
       "        vertical-align: middle;\n",
       "    }\n",
       "\n",
       "    .dataframe tbody tr th {\n",
       "        vertical-align: top;\n",
       "    }\n",
       "\n",
       "    .dataframe thead th {\n",
       "        text-align: right;\n",
       "    }\n",
       "</style>\n",
       "<table border=\"1\" class=\"dataframe\">\n",
       "  <thead>\n",
       "    <tr style=\"text-align: right;\">\n",
       "      <th>key_statistics</th>\n",
       "      <th>52WeekChange</th>\n",
       "      <th>beta</th>\n",
       "      <th>bookValue</th>\n",
       "      <th>earningsQuarterlyGrowth</th>\n",
       "      <th>heldPercentInstitutions</th>\n",
       "    </tr>\n",
       "  </thead>\n",
       "  <tbody>\n",
       "    <tr>\n",
       "      <th>MMM</th>\n",
       "      <td>-0.06404966</td>\n",
       "      <td>1.101449</td>\n",
       "      <td>18.611</td>\n",
       "      <td>0.026</td>\n",
       "      <td>0.11174</td>\n",
       "    </tr>\n",
       "    <tr>\n",
       "      <th>ABT</th>\n",
       "      <td>0.25130284</td>\n",
       "      <td>1.107416</td>\n",
       "      <td>17.991</td>\n",
       "      <td>0.705</td>\n",
       "      <td>0.76105005</td>\n",
       "    </tr>\n",
       "    <tr>\n",
       "      <th>ABBV</th>\n",
       "      <td>0.02278912</td>\n",
       "      <td>0.947144</td>\n",
       "      <td>-5.563</td>\n",
       "      <td>-0.314</td>\n",
       "      <td>0.73682</td>\n",
       "    </tr>\n",
       "    <tr>\n",
       "      <th>ABMD</th>\n",
       "      <td>-0.4521529</td>\n",
       "      <td>0.274509</td>\n",
       "      <td>21.916</td>\n",
       "      <td>-0.739</td>\n",
       "      <td>0.93973</td>\n",
       "    </tr>\n",
       "    <tr>\n",
       "      <th>ACN</th>\n",
       "      <td>0.4021901</td>\n",
       "      <td>1.040068</td>\n",
       "      <td>23.885</td>\n",
       "      <td>0.065</td>\n",
       "      <td>0.74896</td>\n",
       "    </tr>\n",
       "    <tr>\n",
       "      <th>...</th>\n",
       "      <td>...</td>\n",
       "      <td>...</td>\n",
       "      <td>...</td>\n",
       "      <td>...</td>\n",
       "      <td>...</td>\n",
       "    </tr>\n",
       "    <tr>\n",
       "      <th>YUM</th>\n",
       "      <td>0.12169075</td>\n",
       "      <td>0.335038</td>\n",
       "      <td>-26.723</td>\n",
       "      <td>-0.438</td>\n",
       "      <td>0.79176</td>\n",
       "    </tr>\n",
       "    <tr>\n",
       "      <th>ZBRA</th>\n",
       "      <td>0.5372622</td>\n",
       "      <td>1.65177</td>\n",
       "      <td>31.343</td>\n",
       "      <td>0.071</td>\n",
       "      <td>0.90059996</td>\n",
       "    </tr>\n",
       "    <tr>\n",
       "      <th>ZBH</th>\n",
       "      <td>0.4327035</td>\n",
       "      <td>1.155157</td>\n",
       "      <td>58.762</td>\n",
       "      <td>1.658</td>\n",
       "      <td>0.91576</td>\n",
       "    </tr>\n",
       "    <tr>\n",
       "      <th>ZION</th>\n",
       "      <td>0.17915905</td>\n",
       "      <td>1.577152</td>\n",
       "      <td>40.752</td>\n",
       "      <td>-0.004</td>\n",
       "      <td>1.0053099</td>\n",
       "    </tr>\n",
       "    <tr>\n",
       "      <th>ZTS</th>\n",
       "      <td>0.5722933</td>\n",
       "      <td>0.799658</td>\n",
       "      <td>5.617</td>\n",
       "      <td>0.248</td>\n",
       "      <td>0.94568</td>\n",
       "    </tr>\n",
       "  </tbody>\n",
       "</table>\n",
       "<p>504 rows × 5 columns</p>\n",
       "</div>"
      ],
      "text/plain": [
       "key_statistics 52WeekChange      beta bookValue earningsQuarterlyGrowth  \\\n",
       "MMM             -0.06404966  1.101449    18.611                   0.026   \n",
       "ABT              0.25130284  1.107416    17.991                   0.705   \n",
       "ABBV             0.02278912  0.947144    -5.563                  -0.314   \n",
       "ABMD             -0.4521529  0.274509    21.916                  -0.739   \n",
       "ACN               0.4021901  1.040068    23.885                   0.065   \n",
       "...                     ...       ...       ...                     ...   \n",
       "YUM              0.12169075  0.335038   -26.723                  -0.438   \n",
       "ZBRA              0.5372622   1.65177    31.343                   0.071   \n",
       "ZBH               0.4327035  1.155157    58.762                   1.658   \n",
       "ZION             0.17915905  1.577152    40.752                  -0.004   \n",
       "ZTS               0.5722933  0.799658     5.617                   0.248   \n",
       "\n",
       "key_statistics heldPercentInstitutions  \n",
       "MMM                            0.11174  \n",
       "ABT                         0.76105005  \n",
       "ABBV                           0.73682  \n",
       "ABMD                           0.93973  \n",
       "ACN                            0.74896  \n",
       "...                                ...  \n",
       "YUM                            0.79176  \n",
       "ZBRA                        0.90059996  \n",
       "ZBH                            0.91576  \n",
       "ZION                         1.0053099  \n",
       "ZTS                            0.94568  \n",
       "\n",
       "[504 rows x 5 columns]"
      ]
     },
     "execution_count": 26,
     "metadata": {},
     "output_type": "execute_result"
    }
   ],
   "source": [
    "statistics"
   ]
  },
  {
   "cell_type": "code",
   "execution_count": 27,
   "metadata": {
    "scrolled": true
   },
   "outputs": [],
   "source": [
    "# convert dtypes to numeric\n",
    "statistics = statistics.astype('float64')"
   ]
  },
  {
   "cell_type": "code",
   "execution_count": 28,
   "metadata": {
    "scrolled": true
   },
   "outputs": [],
   "source": [
    "# merge into one\n",
    "industry_vs_statistics = pd.concat([statistics,industry], axis = 1, sort = False)"
   ]
  },
  {
   "cell_type": "code",
   "execution_count": 29,
   "metadata": {
    "scrolled": true
   },
   "outputs": [
    {
     "data": {
      "text/html": [
       "<div>\n",
       "<style scoped>\n",
       "    .dataframe tbody tr th:only-of-type {\n",
       "        vertical-align: middle;\n",
       "    }\n",
       "\n",
       "    .dataframe tbody tr th {\n",
       "        vertical-align: top;\n",
       "    }\n",
       "\n",
       "    .dataframe thead th {\n",
       "        text-align: right;\n",
       "    }\n",
       "</style>\n",
       "<table border=\"1\" class=\"dataframe\">\n",
       "  <thead>\n",
       "    <tr style=\"text-align: right;\">\n",
       "      <th></th>\n",
       "      <th>52WeekChange</th>\n",
       "      <th>beta</th>\n",
       "      <th>bookValue</th>\n",
       "      <th>earningsQuarterlyGrowth</th>\n",
       "      <th>heldPercentInstitutions</th>\n",
       "      <th>sectors</th>\n",
       "    </tr>\n",
       "  </thead>\n",
       "  <tbody>\n",
       "    <tr>\n",
       "      <th>MMM</th>\n",
       "      <td>-0.064050</td>\n",
       "      <td>1.101449</td>\n",
       "      <td>18.611</td>\n",
       "      <td>0.026</td>\n",
       "      <td>0.11174</td>\n",
       "      <td>industrials</td>\n",
       "    </tr>\n",
       "    <tr>\n",
       "      <th>ABT</th>\n",
       "      <td>0.251303</td>\n",
       "      <td>1.107416</td>\n",
       "      <td>17.991</td>\n",
       "      <td>0.705</td>\n",
       "      <td>0.76105</td>\n",
       "      <td>health_care</td>\n",
       "    </tr>\n",
       "    <tr>\n",
       "      <th>ABBV</th>\n",
       "      <td>0.022789</td>\n",
       "      <td>0.947144</td>\n",
       "      <td>-5.563</td>\n",
       "      <td>-0.314</td>\n",
       "      <td>0.73682</td>\n",
       "      <td>health_care</td>\n",
       "    </tr>\n",
       "    <tr>\n",
       "      <th>ABMD</th>\n",
       "      <td>-0.452153</td>\n",
       "      <td>0.274509</td>\n",
       "      <td>21.916</td>\n",
       "      <td>-0.739</td>\n",
       "      <td>0.93973</td>\n",
       "      <td>health_care</td>\n",
       "    </tr>\n",
       "    <tr>\n",
       "      <th>ACN</th>\n",
       "      <td>0.402190</td>\n",
       "      <td>1.040068</td>\n",
       "      <td>23.885</td>\n",
       "      <td>0.065</td>\n",
       "      <td>0.74896</td>\n",
       "      <td>information_technology</td>\n",
       "    </tr>\n",
       "  </tbody>\n",
       "</table>\n",
       "</div>"
      ],
      "text/plain": [
       "      52WeekChange      beta  bookValue  earningsQuarterlyGrowth  \\\n",
       "MMM      -0.064050  1.101449     18.611                    0.026   \n",
       "ABT       0.251303  1.107416     17.991                    0.705   \n",
       "ABBV      0.022789  0.947144     -5.563                   -0.314   \n",
       "ABMD     -0.452153  0.274509     21.916                   -0.739   \n",
       "ACN       0.402190  1.040068     23.885                    0.065   \n",
       "\n",
       "      heldPercentInstitutions                 sectors  \n",
       "MMM                   0.11174             industrials  \n",
       "ABT                   0.76105             health_care  \n",
       "ABBV                  0.73682             health_care  \n",
       "ABMD                  0.93973             health_care  \n",
       "ACN                   0.74896  information_technology  "
      ]
     },
     "execution_count": 29,
     "metadata": {},
     "output_type": "execute_result"
    }
   ],
   "source": [
    "industry_vs_statistics.head()"
   ]
  },
  {
   "cell_type": "code",
   "execution_count": 30,
   "metadata": {
    "scrolled": true
   },
   "outputs": [
    {
     "data": {
      "text/html": [
       "<div>\n",
       "<style scoped>\n",
       "    .dataframe tbody tr th:only-of-type {\n",
       "        vertical-align: middle;\n",
       "    }\n",
       "\n",
       "    .dataframe tbody tr th {\n",
       "        vertical-align: top;\n",
       "    }\n",
       "\n",
       "    .dataframe thead th {\n",
       "        text-align: right;\n",
       "    }\n",
       "</style>\n",
       "<table border=\"1\" class=\"dataframe\">\n",
       "  <thead>\n",
       "    <tr style=\"text-align: right;\">\n",
       "      <th></th>\n",
       "      <th>52WeekChange</th>\n",
       "      <th>beta</th>\n",
       "      <th>bookValue</th>\n",
       "      <th>earningsQuarterlyGrowth</th>\n",
       "      <th>heldPercentInstitutions</th>\n",
       "    </tr>\n",
       "    <tr>\n",
       "      <th>sectors</th>\n",
       "      <th></th>\n",
       "      <th></th>\n",
       "      <th></th>\n",
       "      <th></th>\n",
       "      <th></th>\n",
       "    </tr>\n",
       "  </thead>\n",
       "  <tbody>\n",
       "    <tr>\n",
       "      <th>communication_services</th>\n",
       "      <td>inf</td>\n",
       "      <td>0.952554</td>\n",
       "      <td>43.213808</td>\n",
       "      <td>0.170038</td>\n",
       "      <td>0.788993</td>\n",
       "    </tr>\n",
       "    <tr>\n",
       "      <th>consumer_discretionary</th>\n",
       "      <td>0.171946</td>\n",
       "      <td>1.017759</td>\n",
       "      <td>30.899703</td>\n",
       "      <td>0.003031</td>\n",
       "      <td>0.861146</td>\n",
       "    </tr>\n",
       "    <tr>\n",
       "      <th>consumer_staples</th>\n",
       "      <td>0.200602</td>\n",
       "      <td>0.553521</td>\n",
       "      <td>18.419031</td>\n",
       "      <td>0.120562</td>\n",
       "      <td>0.749314</td>\n",
       "    </tr>\n",
       "    <tr>\n",
       "      <th>energy</th>\n",
       "      <td>-0.036566</td>\n",
       "      <td>1.398430</td>\n",
       "      <td>34.452071</td>\n",
       "      <td>0.559571</td>\n",
       "      <td>0.803895</td>\n",
       "    </tr>\n",
       "    <tr>\n",
       "      <th>financials</th>\n",
       "      <td>0.263647</td>\n",
       "      <td>1.126037</td>\n",
       "      <td>56.246369</td>\n",
       "      <td>0.014908</td>\n",
       "      <td>0.763641</td>\n",
       "    </tr>\n",
       "    <tr>\n",
       "      <th>health_care</th>\n",
       "      <td>0.214780</td>\n",
       "      <td>0.990567</td>\n",
       "      <td>37.238131</td>\n",
       "      <td>0.244361</td>\n",
       "      <td>0.857062</td>\n",
       "    </tr>\n",
       "    <tr>\n",
       "      <th>industrials</th>\n",
       "      <td>0.272942</td>\n",
       "      <td>1.202630</td>\n",
       "      <td>25.314681</td>\n",
       "      <td>0.026667</td>\n",
       "      <td>0.819050</td>\n",
       "    </tr>\n",
       "    <tr>\n",
       "      <th>information_technology</th>\n",
       "      <td>inf</td>\n",
       "      <td>1.274798</td>\n",
       "      <td>19.772943</td>\n",
       "      <td>0.073443</td>\n",
       "      <td>0.841562</td>\n",
       "    </tr>\n",
       "    <tr>\n",
       "      <th>materials</th>\n",
       "      <td>inf</td>\n",
       "      <td>1.106590</td>\n",
       "      <td>32.436714</td>\n",
       "      <td>0.042214</td>\n",
       "      <td>0.816370</td>\n",
       "    </tr>\n",
       "    <tr>\n",
       "      <th>real_estate</th>\n",
       "      <td>0.179443</td>\n",
       "      <td>0.562521</td>\n",
       "      <td>30.707774</td>\n",
       "      <td>0.378645</td>\n",
       "      <td>0.949535</td>\n",
       "    </tr>\n",
       "    <tr>\n",
       "      <th>utilities</th>\n",
       "      <td>0.196402</td>\n",
       "      <td>0.233741</td>\n",
       "      <td>33.780464</td>\n",
       "      <td>0.187964</td>\n",
       "      <td>0.780777</td>\n",
       "    </tr>\n",
       "  </tbody>\n",
       "</table>\n",
       "</div>"
      ],
      "text/plain": [
       "                        52WeekChange      beta  bookValue  \\\n",
       "sectors                                                     \n",
       "communication_services           inf  0.952554  43.213808   \n",
       "consumer_discretionary      0.171946  1.017759  30.899703   \n",
       "consumer_staples            0.200602  0.553521  18.419031   \n",
       "energy                     -0.036566  1.398430  34.452071   \n",
       "financials                  0.263647  1.126037  56.246369   \n",
       "health_care                 0.214780  0.990567  37.238131   \n",
       "industrials                 0.272942  1.202630  25.314681   \n",
       "information_technology           inf  1.274798  19.772943   \n",
       "materials                        inf  1.106590  32.436714   \n",
       "real_estate                 0.179443  0.562521  30.707774   \n",
       "utilities                   0.196402  0.233741  33.780464   \n",
       "\n",
       "                        earningsQuarterlyGrowth  heldPercentInstitutions  \n",
       "sectors                                                                   \n",
       "communication_services                 0.170038                 0.788993  \n",
       "consumer_discretionary                 0.003031                 0.861146  \n",
       "consumer_staples                       0.120562                 0.749314  \n",
       "energy                                 0.559571                 0.803895  \n",
       "financials                             0.014908                 0.763641  \n",
       "health_care                            0.244361                 0.857062  \n",
       "industrials                            0.026667                 0.819050  \n",
       "information_technology                 0.073443                 0.841562  \n",
       "materials                              0.042214                 0.816370  \n",
       "real_estate                            0.378645                 0.949535  \n",
       "utilities                              0.187964                 0.780777  "
      ]
     },
     "execution_count": 30,
     "metadata": {},
     "output_type": "execute_result"
    }
   ],
   "source": [
    "# average statistics based on industry\n",
    "industry_vs_statistics.groupby('sectors').mean()"
   ]
  },
  {
   "cell_type": "code",
   "execution_count": 31,
   "metadata": {},
   "outputs": [
    {
     "data": {
      "text/html": [
       "<div>\n",
       "<style scoped>\n",
       "    .dataframe tbody tr th:only-of-type {\n",
       "        vertical-align: middle;\n",
       "    }\n",
       "\n",
       "    .dataframe tbody tr th {\n",
       "        vertical-align: top;\n",
       "    }\n",
       "\n",
       "    .dataframe thead th {\n",
       "        text-align: right;\n",
       "    }\n",
       "</style>\n",
       "<table border=\"1\" class=\"dataframe\">\n",
       "  <thead>\n",
       "    <tr style=\"text-align: right;\">\n",
       "      <th></th>\n",
       "      <th>52WeekChange</th>\n",
       "      <th>beta</th>\n",
       "      <th>bookValue</th>\n",
       "      <th>earningsQuarterlyGrowth</th>\n",
       "      <th>heldPercentInstitutions</th>\n",
       "      <th>sectors</th>\n",
       "    </tr>\n",
       "  </thead>\n",
       "  <tbody>\n",
       "    <tr>\n",
       "      <th>CTVA</th>\n",
       "      <td>inf</td>\n",
       "      <td>0.000000</td>\n",
       "      <td>33.425</td>\n",
       "      <td>0.000</td>\n",
       "      <td>0.76820</td>\n",
       "      <td>materials</td>\n",
       "    </tr>\n",
       "    <tr>\n",
       "      <th>DOW</th>\n",
       "      <td>inf</td>\n",
       "      <td>0.000000</td>\n",
       "      <td>23.465</td>\n",
       "      <td>-0.671</td>\n",
       "      <td>0.70017</td>\n",
       "      <td>materials</td>\n",
       "    </tr>\n",
       "    <tr>\n",
       "      <th>FOXA</th>\n",
       "      <td>inf</td>\n",
       "      <td>0.000000</td>\n",
       "      <td>16.628</td>\n",
       "      <td>-0.174</td>\n",
       "      <td>0.99094</td>\n",
       "      <td>communication_services</td>\n",
       "    </tr>\n",
       "    <tr>\n",
       "      <th>FOX</th>\n",
       "      <td>inf</td>\n",
       "      <td>0.000000</td>\n",
       "      <td>16.628</td>\n",
       "      <td>-0.174</td>\n",
       "      <td>0.56887</td>\n",
       "      <td>communication_services</td>\n",
       "    </tr>\n",
       "    <tr>\n",
       "      <th>NLOK</th>\n",
       "      <td>inf</td>\n",
       "      <td>1.118887</td>\n",
       "      <td>0.000</td>\n",
       "      <td>0.000</td>\n",
       "      <td>0.84940</td>\n",
       "      <td>information_technology</td>\n",
       "    </tr>\n",
       "  </tbody>\n",
       "</table>\n",
       "</div>"
      ],
      "text/plain": [
       "      52WeekChange      beta  bookValue  earningsQuarterlyGrowth  \\\n",
       "CTVA           inf  0.000000     33.425                    0.000   \n",
       "DOW            inf  0.000000     23.465                   -0.671   \n",
       "FOXA           inf  0.000000     16.628                   -0.174   \n",
       "FOX            inf  0.000000     16.628                   -0.174   \n",
       "NLOK           inf  1.118887      0.000                    0.000   \n",
       "\n",
       "      heldPercentInstitutions                 sectors  \n",
       "CTVA                  0.76820               materials  \n",
       "DOW                   0.70017               materials  \n",
       "FOXA                  0.99094  communication_services  \n",
       "FOX                   0.56887  communication_services  \n",
       "NLOK                  0.84940  information_technology  "
      ]
     },
     "execution_count": 31,
     "metadata": {},
     "output_type": "execute_result"
    }
   ],
   "source": [
    "# infinity data exist in 52WeekChange\n",
    "industry_vs_statistics[industry_vs_statistics['52WeekChange'] == np.inf]"
   ]
  },
  {
   "cell_type": "code",
   "execution_count": 32,
   "metadata": {},
   "outputs": [
    {
     "data": {
      "text/plain": [
       "0"
      ]
     },
     "execution_count": 32,
     "metadata": {},
     "output_type": "execute_result"
    }
   ],
   "source": [
    "# replace infinity within 52WeekChange to max possible value which is 1\n",
    "industry_vs_statistics['52WeekChange'].replace(np.inf,1,inplace=True)\n",
    "np.sum(industry_vs_statistics['52WeekChange'] == np.inf)"
   ]
  },
  {
   "cell_type": "code",
   "execution_count": 33,
   "metadata": {},
   "outputs": [
    {
     "data": {
      "text/html": [
       "<div>\n",
       "<style scoped>\n",
       "    .dataframe tbody tr th:only-of-type {\n",
       "        vertical-align: middle;\n",
       "    }\n",
       "\n",
       "    .dataframe tbody tr th {\n",
       "        vertical-align: top;\n",
       "    }\n",
       "\n",
       "    .dataframe thead th {\n",
       "        text-align: right;\n",
       "    }\n",
       "</style>\n",
       "<table border=\"1\" class=\"dataframe\">\n",
       "  <thead>\n",
       "    <tr style=\"text-align: right;\">\n",
       "      <th></th>\n",
       "      <th>52WeekChange</th>\n",
       "      <th>beta</th>\n",
       "      <th>bookValue</th>\n",
       "      <th>earningsQuarterlyGrowth</th>\n",
       "      <th>heldPercentInstitutions</th>\n",
       "    </tr>\n",
       "    <tr>\n",
       "      <th>sectors</th>\n",
       "      <th></th>\n",
       "      <th></th>\n",
       "      <th></th>\n",
       "      <th></th>\n",
       "      <th></th>\n",
       "    </tr>\n",
       "  </thead>\n",
       "  <tbody>\n",
       "    <tr>\n",
       "      <th>communication_services</th>\n",
       "      <td>0.255263</td>\n",
       "      <td>0.952554</td>\n",
       "      <td>43.213808</td>\n",
       "      <td>0.170038</td>\n",
       "      <td>0.788993</td>\n",
       "    </tr>\n",
       "    <tr>\n",
       "      <th>consumer_discretionary</th>\n",
       "      <td>0.171946</td>\n",
       "      <td>1.017759</td>\n",
       "      <td>30.899703</td>\n",
       "      <td>0.003031</td>\n",
       "      <td>0.861146</td>\n",
       "    </tr>\n",
       "    <tr>\n",
       "      <th>consumer_staples</th>\n",
       "      <td>0.200602</td>\n",
       "      <td>0.553521</td>\n",
       "      <td>18.419031</td>\n",
       "      <td>0.120562</td>\n",
       "      <td>0.749314</td>\n",
       "    </tr>\n",
       "    <tr>\n",
       "      <th>energy</th>\n",
       "      <td>-0.036566</td>\n",
       "      <td>1.398430</td>\n",
       "      <td>34.452071</td>\n",
       "      <td>0.559571</td>\n",
       "      <td>0.803895</td>\n",
       "    </tr>\n",
       "    <tr>\n",
       "      <th>financials</th>\n",
       "      <td>0.263647</td>\n",
       "      <td>1.126037</td>\n",
       "      <td>56.246369</td>\n",
       "      <td>0.014908</td>\n",
       "      <td>0.763641</td>\n",
       "    </tr>\n",
       "    <tr>\n",
       "      <th>health_care</th>\n",
       "      <td>0.214780</td>\n",
       "      <td>0.990567</td>\n",
       "      <td>37.238131</td>\n",
       "      <td>0.244361</td>\n",
       "      <td>0.857062</td>\n",
       "    </tr>\n",
       "    <tr>\n",
       "      <th>industrials</th>\n",
       "      <td>0.272942</td>\n",
       "      <td>1.202630</td>\n",
       "      <td>25.314681</td>\n",
       "      <td>0.026667</td>\n",
       "      <td>0.819050</td>\n",
       "    </tr>\n",
       "    <tr>\n",
       "      <th>information_technology</th>\n",
       "      <td>0.405575</td>\n",
       "      <td>1.274798</td>\n",
       "      <td>19.772943</td>\n",
       "      <td>0.073443</td>\n",
       "      <td>0.841562</td>\n",
       "    </tr>\n",
       "    <tr>\n",
       "      <th>materials</th>\n",
       "      <td>0.215455</td>\n",
       "      <td>1.106590</td>\n",
       "      <td>32.436714</td>\n",
       "      <td>0.042214</td>\n",
       "      <td>0.816370</td>\n",
       "    </tr>\n",
       "    <tr>\n",
       "      <th>real_estate</th>\n",
       "      <td>0.179443</td>\n",
       "      <td>0.562521</td>\n",
       "      <td>30.707774</td>\n",
       "      <td>0.378645</td>\n",
       "      <td>0.949535</td>\n",
       "    </tr>\n",
       "    <tr>\n",
       "      <th>utilities</th>\n",
       "      <td>0.196402</td>\n",
       "      <td>0.233741</td>\n",
       "      <td>33.780464</td>\n",
       "      <td>0.187964</td>\n",
       "      <td>0.780777</td>\n",
       "    </tr>\n",
       "  </tbody>\n",
       "</table>\n",
       "</div>"
      ],
      "text/plain": [
       "                        52WeekChange      beta  bookValue  \\\n",
       "sectors                                                     \n",
       "communication_services      0.255263  0.952554  43.213808   \n",
       "consumer_discretionary      0.171946  1.017759  30.899703   \n",
       "consumer_staples            0.200602  0.553521  18.419031   \n",
       "energy                     -0.036566  1.398430  34.452071   \n",
       "financials                  0.263647  1.126037  56.246369   \n",
       "health_care                 0.214780  0.990567  37.238131   \n",
       "industrials                 0.272942  1.202630  25.314681   \n",
       "information_technology      0.405575  1.274798  19.772943   \n",
       "materials                   0.215455  1.106590  32.436714   \n",
       "real_estate                 0.179443  0.562521  30.707774   \n",
       "utilities                   0.196402  0.233741  33.780464   \n",
       "\n",
       "                        earningsQuarterlyGrowth  heldPercentInstitutions  \n",
       "sectors                                                                   \n",
       "communication_services                 0.170038                 0.788993  \n",
       "consumer_discretionary                 0.003031                 0.861146  \n",
       "consumer_staples                       0.120562                 0.749314  \n",
       "energy                                 0.559571                 0.803895  \n",
       "financials                             0.014908                 0.763641  \n",
       "health_care                            0.244361                 0.857062  \n",
       "industrials                            0.026667                 0.819050  \n",
       "information_technology                 0.073443                 0.841562  \n",
       "materials                              0.042214                 0.816370  \n",
       "real_estate                            0.378645                 0.949535  \n",
       "utilities                              0.187964                 0.780777  "
      ]
     },
     "execution_count": 33,
     "metadata": {},
     "output_type": "execute_result"
    }
   ],
   "source": [
    "# average statistics based on industry with out infinity data\n",
    "average_statistics_on_sectors = industry_vs_statistics.groupby('sectors').mean()\n",
    "average_statistics_on_sectors"
   ]
  },
  {
   "cell_type": "code",
   "execution_count": 34,
   "metadata": {},
   "outputs": [
    {
     "data": {
      "text/plain": [
       "sectors\n",
       "communication_services    1123.559\n",
       "consumer_discretionary    1977.581\n",
       "consumer_staples           589.409\n",
       "energy                     964.658\n",
       "financials                3656.014\n",
       "health_care               2271.526\n",
       "industrials               1746.713\n",
       "information_technology    1384.106\n",
       "materials                  908.228\n",
       "real_estate                951.941\n",
       "utilities                  945.853\n",
       "Name: bookValue, dtype: float64"
      ]
     },
     "execution_count": 34,
     "metadata": {},
     "output_type": "execute_result"
    }
   ],
   "source": [
    "# total bookValue by sectors\n",
    "total_bookValue_on_sectors = industry_vs_statistics.groupby('sectors').sum().bookValue\n",
    "total_bookValue_on_sectors"
   ]
  },
  {
   "cell_type": "code",
   "execution_count": 39,
   "metadata": {},
   "outputs": [
    {
     "ename": "ImportError",
     "evalue": "No module named 'plotly.express'",
     "output_type": "error",
     "traceback": [
      "\u001b[0;31m---------------------------------------------------------------------------\u001b[0m",
      "\u001b[0;31mImportError\u001b[0m                               Traceback (most recent call last)",
      "\u001b[0;32m<ipython-input-39-86e89bd44552>\u001b[0m in \u001b[0;36m<module>\u001b[0;34m()\u001b[0m\n\u001b[0;32m----> 1\u001b[0;31m \u001b[0;32mimport\u001b[0m \u001b[0mplotly\u001b[0m\u001b[0;34m.\u001b[0m\u001b[0mexpress\u001b[0m \u001b[0;32mas\u001b[0m \u001b[0mpx\u001b[0m\u001b[0;34m\u001b[0m\u001b[0m\n\u001b[0m",
      "\u001b[0;31mImportError\u001b[0m: No module named 'plotly.express'"
     ]
    }
   ],
   "source": [
    "import plotly.express as px"
   ]
  },
  {
   "cell_type": "code",
   "execution_count": null,
   "metadata": {},
   "outputs": [],
   "source": [
    "plo"
   ]
  },
  {
   "cell_type": "code",
   "execution_count": 38,
   "metadata": {},
   "outputs": [
    {
     "ename": "ImportError",
     "evalue": "No module named 'plotly.express'",
     "output_type": "error",
     "traceback": [
      "\u001b[0;31m---------------------------------------------------------------------------\u001b[0m",
      "\u001b[0;31mImportError\u001b[0m                               Traceback (most recent call last)",
      "\u001b[0;32m<ipython-input-38-58b12f784fa6>\u001b[0m in \u001b[0;36m<module>\u001b[0;34m()\u001b[0m\n\u001b[0;32m----> 1\u001b[0;31m \u001b[0;32mimport\u001b[0m \u001b[0mplotly\u001b[0m\u001b[0;34m.\u001b[0m\u001b[0mexpress\u001b[0m \u001b[0;32mas\u001b[0m \u001b[0mpx\u001b[0m\u001b[0;34m\u001b[0m\u001b[0m\n\u001b[0m\u001b[1;32m      2\u001b[0m \u001b[0;32mimport\u001b[0m \u001b[0mmatplotlib\u001b[0m\u001b[0;34m.\u001b[0m\u001b[0mcm\u001b[0m \u001b[0;32mas\u001b[0m \u001b[0mcm\u001b[0m\u001b[0;34m\u001b[0m\u001b[0m\n\u001b[1;32m      3\u001b[0m \u001b[0;32mfrom\u001b[0m \u001b[0mmatplotlib\u001b[0m\u001b[0;34m.\u001b[0m\u001b[0mcolors\u001b[0m \u001b[0;32mimport\u001b[0m \u001b[0mNormalize\u001b[0m\u001b[0;34m\u001b[0m\u001b[0m\n\u001b[1;32m      4\u001b[0m \u001b[0mplt\u001b[0m\u001b[0;34m.\u001b[0m\u001b[0mstyle\u001b[0m\u001b[0;34m.\u001b[0m\u001b[0muse\u001b[0m\u001b[0;34m(\u001b[0m\u001b[0;34m'ggplot'\u001b[0m\u001b[0;34m)\u001b[0m\u001b[0;34m\u001b[0m\u001b[0m\n",
      "\u001b[0;31mImportError\u001b[0m: No module named 'plotly.express'"
     ]
    }
   ],
   "source": [
    "\n",
    "import matplotlib.cm as cm\n",
    "from matplotlib.colors import Normalize\n",
    "plt.style.use('ggplot')"
   ]
  },
  {
   "cell_type": "code",
   "execution_count": null,
   "metadata": {},
   "outputs": [],
   "source": [
    "# draw picture function\n",
    "def bar(columns):\n",
    "    plt.figure(figsize=(8,8))\n",
    "    \n",
    "    # plot\n",
    "    average_statistics_on_sectors[columns].plot(kind='barh', color=['orange', 'lightcoral', 'green', 'blue', 'teal','violet','brown','yellow','lightskyblue','hotpink','chocolate'])\n",
    "    \n",
    "    # change font \n",
    "    plt.rcParams['font.sans-serif'] = 'Helvetica'\n",
    "    \n",
    "    # set style for axes\n",
    "    plt.rcParams['axes.edgecolor']='#333F4B'\n",
    "    plt.rcParams['axes.linewidth']=0.8\n",
    "    plt.rcParams['xtick.color']='#333F4B'\n",
    "    plt.rcParams['ytick.color']='#333F4B'\n",
    "\n",
    "    # title and label\n",
    "    plt.title('average {} on industry sector'.format(column))\n",
    "    plt.xlabel('percentage')\n",
    "    plt.show()\n",
    "    \n",
    "def pie(column, data_type):\n",
    "    if data_type == 'average':\n",
    "        labels=average_statistics_on_sectors.index\n",
    "        fig = px.pie(average_statistics_on_sectors, values=column, names=average_statistics_on_sectors.index , title='Average {} on industry sectors'.format(column))\n",
    "        fig.show()\n",
    "        \n",
    "    if data_type == 'total':\n",
    "        df = total_bookValue_on_sectors\n",
    "        fig = px.pie(df, values=column, names=df.index , title='Total {} on industry sectors'.format(column))\n",
    "        fig.show()"
   ]
  },
  {
   "cell_type": "code",
   "execution_count": 36,
   "metadata": {},
   "outputs": [
    {
     "ename": "NameError",
     "evalue": "name 'pie' is not defined",
     "output_type": "error",
     "traceback": [
      "\u001b[0;31m---------------------------------------------------------------------------\u001b[0m",
      "\u001b[0;31mNameError\u001b[0m                                 Traceback (most recent call last)",
      "\u001b[0;32m<ipython-input-36-dd1bd1e0f0da>\u001b[0m in \u001b[0;36m<module>\u001b[0;34m()\u001b[0m\n\u001b[1;32m      1\u001b[0m \u001b[0;31m# draw pies\u001b[0m\u001b[0;34m\u001b[0m\u001b[0;34m\u001b[0m\u001b[0m\n\u001b[0;32m----> 2\u001b[0;31m \u001b[0mpie\u001b[0m\u001b[0;34m(\u001b[0m\u001b[0mcolumn\u001b[0m \u001b[0;34m=\u001b[0m \u001b[0;34m'52WeekChange'\u001b[0m\u001b[0;34m,\u001b[0m\u001b[0mdata_type\u001b[0m\u001b[0;34m=\u001b[0m\u001b[0;34m'average'\u001b[0m\u001b[0;34m)\u001b[0m\u001b[0;34m\u001b[0m\u001b[0m\n\u001b[0m",
      "\u001b[0;31mNameError\u001b[0m: name 'pie' is not defined"
     ]
    }
   ],
   "source": [
    "# draw pies\n",
    "pie(column = '52WeekChange',data_type='average')"
   ]
  },
  {
   "cell_type": "code",
   "execution_count": 151,
   "metadata": {},
   "outputs": [
    {
     "data": {
      "application/vnd.plotly.v1+json": {
       "config": {
        "plotlyServerURL": "https://plot.ly"
       },
       "data": [
        {
         "domain": {
          "x": [
           0,
           1
          ],
          "y": [
           0,
           1
          ]
         },
         "hoverlabel": {
          "namelength": 0
         },
         "hovertemplate": "label=%{label}<br>heldPercentInstitutions=%{value}",
         "labels": [
          "communication_services",
          "consumer_discretionary",
          "consumer_staples",
          "energy",
          "financials",
          "health_care",
          "industrials",
          "information_technology",
          "materials",
          "real_estate",
          "utilities"
         ],
         "legendgroup": "",
         "name": "",
         "showlegend": true,
         "type": "pie",
         "values": [
          0.7889926903846155,
          0.8611457837500001,
          0.7493137434375001,
          0.8038946439285715,
          0.7636406136923075,
          0.8570616455737706,
          0.8190502904347827,
          0.8415622845714282,
          0.8163700042857142,
          0.9495351516129032,
          0.7807771492857143
         ]
        }
       ],
       "layout": {
        "legend": {
         "tracegroupgap": 0
        },
        "template": {
         "data": {
          "bar": [
           {
            "error_x": {
             "color": "#2a3f5f"
            },
            "error_y": {
             "color": "#2a3f5f"
            },
            "marker": {
             "line": {
              "color": "#E5ECF6",
              "width": 0.5
             }
            },
            "type": "bar"
           }
          ],
          "barpolar": [
           {
            "marker": {
             "line": {
              "color": "#E5ECF6",
              "width": 0.5
             }
            },
            "type": "barpolar"
           }
          ],
          "carpet": [
           {
            "aaxis": {
             "endlinecolor": "#2a3f5f",
             "gridcolor": "white",
             "linecolor": "white",
             "minorgridcolor": "white",
             "startlinecolor": "#2a3f5f"
            },
            "baxis": {
             "endlinecolor": "#2a3f5f",
             "gridcolor": "white",
             "linecolor": "white",
             "minorgridcolor": "white",
             "startlinecolor": "#2a3f5f"
            },
            "type": "carpet"
           }
          ],
          "choropleth": [
           {
            "colorbar": {
             "outlinewidth": 0,
             "ticks": ""
            },
            "type": "choropleth"
           }
          ],
          "contour": [
           {
            "colorbar": {
             "outlinewidth": 0,
             "ticks": ""
            },
            "colorscale": [
             [
              0,
              "#0d0887"
             ],
             [
              0.1111111111111111,
              "#46039f"
             ],
             [
              0.2222222222222222,
              "#7201a8"
             ],
             [
              0.3333333333333333,
              "#9c179e"
             ],
             [
              0.4444444444444444,
              "#bd3786"
             ],
             [
              0.5555555555555556,
              "#d8576b"
             ],
             [
              0.6666666666666666,
              "#ed7953"
             ],
             [
              0.7777777777777778,
              "#fb9f3a"
             ],
             [
              0.8888888888888888,
              "#fdca26"
             ],
             [
              1,
              "#f0f921"
             ]
            ],
            "type": "contour"
           }
          ],
          "contourcarpet": [
           {
            "colorbar": {
             "outlinewidth": 0,
             "ticks": ""
            },
            "type": "contourcarpet"
           }
          ],
          "heatmap": [
           {
            "colorbar": {
             "outlinewidth": 0,
             "ticks": ""
            },
            "colorscale": [
             [
              0,
              "#0d0887"
             ],
             [
              0.1111111111111111,
              "#46039f"
             ],
             [
              0.2222222222222222,
              "#7201a8"
             ],
             [
              0.3333333333333333,
              "#9c179e"
             ],
             [
              0.4444444444444444,
              "#bd3786"
             ],
             [
              0.5555555555555556,
              "#d8576b"
             ],
             [
              0.6666666666666666,
              "#ed7953"
             ],
             [
              0.7777777777777778,
              "#fb9f3a"
             ],
             [
              0.8888888888888888,
              "#fdca26"
             ],
             [
              1,
              "#f0f921"
             ]
            ],
            "type": "heatmap"
           }
          ],
          "heatmapgl": [
           {
            "colorbar": {
             "outlinewidth": 0,
             "ticks": ""
            },
            "colorscale": [
             [
              0,
              "#0d0887"
             ],
             [
              0.1111111111111111,
              "#46039f"
             ],
             [
              0.2222222222222222,
              "#7201a8"
             ],
             [
              0.3333333333333333,
              "#9c179e"
             ],
             [
              0.4444444444444444,
              "#bd3786"
             ],
             [
              0.5555555555555556,
              "#d8576b"
             ],
             [
              0.6666666666666666,
              "#ed7953"
             ],
             [
              0.7777777777777778,
              "#fb9f3a"
             ],
             [
              0.8888888888888888,
              "#fdca26"
             ],
             [
              1,
              "#f0f921"
             ]
            ],
            "type": "heatmapgl"
           }
          ],
          "histogram": [
           {
            "marker": {
             "colorbar": {
              "outlinewidth": 0,
              "ticks": ""
             }
            },
            "type": "histogram"
           }
          ],
          "histogram2d": [
           {
            "colorbar": {
             "outlinewidth": 0,
             "ticks": ""
            },
            "colorscale": [
             [
              0,
              "#0d0887"
             ],
             [
              0.1111111111111111,
              "#46039f"
             ],
             [
              0.2222222222222222,
              "#7201a8"
             ],
             [
              0.3333333333333333,
              "#9c179e"
             ],
             [
              0.4444444444444444,
              "#bd3786"
             ],
             [
              0.5555555555555556,
              "#d8576b"
             ],
             [
              0.6666666666666666,
              "#ed7953"
             ],
             [
              0.7777777777777778,
              "#fb9f3a"
             ],
             [
              0.8888888888888888,
              "#fdca26"
             ],
             [
              1,
              "#f0f921"
             ]
            ],
            "type": "histogram2d"
           }
          ],
          "histogram2dcontour": [
           {
            "colorbar": {
             "outlinewidth": 0,
             "ticks": ""
            },
            "colorscale": [
             [
              0,
              "#0d0887"
             ],
             [
              0.1111111111111111,
              "#46039f"
             ],
             [
              0.2222222222222222,
              "#7201a8"
             ],
             [
              0.3333333333333333,
              "#9c179e"
             ],
             [
              0.4444444444444444,
              "#bd3786"
             ],
             [
              0.5555555555555556,
              "#d8576b"
             ],
             [
              0.6666666666666666,
              "#ed7953"
             ],
             [
              0.7777777777777778,
              "#fb9f3a"
             ],
             [
              0.8888888888888888,
              "#fdca26"
             ],
             [
              1,
              "#f0f921"
             ]
            ],
            "type": "histogram2dcontour"
           }
          ],
          "mesh3d": [
           {
            "colorbar": {
             "outlinewidth": 0,
             "ticks": ""
            },
            "type": "mesh3d"
           }
          ],
          "parcoords": [
           {
            "line": {
             "colorbar": {
              "outlinewidth": 0,
              "ticks": ""
             }
            },
            "type": "parcoords"
           }
          ],
          "pie": [
           {
            "automargin": true,
            "type": "pie"
           }
          ],
          "scatter": [
           {
            "marker": {
             "colorbar": {
              "outlinewidth": 0,
              "ticks": ""
             }
            },
            "type": "scatter"
           }
          ],
          "scatter3d": [
           {
            "line": {
             "colorbar": {
              "outlinewidth": 0,
              "ticks": ""
             }
            },
            "marker": {
             "colorbar": {
              "outlinewidth": 0,
              "ticks": ""
             }
            },
            "type": "scatter3d"
           }
          ],
          "scattercarpet": [
           {
            "marker": {
             "colorbar": {
              "outlinewidth": 0,
              "ticks": ""
             }
            },
            "type": "scattercarpet"
           }
          ],
          "scattergeo": [
           {
            "marker": {
             "colorbar": {
              "outlinewidth": 0,
              "ticks": ""
             }
            },
            "type": "scattergeo"
           }
          ],
          "scattergl": [
           {
            "marker": {
             "colorbar": {
              "outlinewidth": 0,
              "ticks": ""
             }
            },
            "type": "scattergl"
           }
          ],
          "scattermapbox": [
           {
            "marker": {
             "colorbar": {
              "outlinewidth": 0,
              "ticks": ""
             }
            },
            "type": "scattermapbox"
           }
          ],
          "scatterpolar": [
           {
            "marker": {
             "colorbar": {
              "outlinewidth": 0,
              "ticks": ""
             }
            },
            "type": "scatterpolar"
           }
          ],
          "scatterpolargl": [
           {
            "marker": {
             "colorbar": {
              "outlinewidth": 0,
              "ticks": ""
             }
            },
            "type": "scatterpolargl"
           }
          ],
          "scatterternary": [
           {
            "marker": {
             "colorbar": {
              "outlinewidth": 0,
              "ticks": ""
             }
            },
            "type": "scatterternary"
           }
          ],
          "surface": [
           {
            "colorbar": {
             "outlinewidth": 0,
             "ticks": ""
            },
            "colorscale": [
             [
              0,
              "#0d0887"
             ],
             [
              0.1111111111111111,
              "#46039f"
             ],
             [
              0.2222222222222222,
              "#7201a8"
             ],
             [
              0.3333333333333333,
              "#9c179e"
             ],
             [
              0.4444444444444444,
              "#bd3786"
             ],
             [
              0.5555555555555556,
              "#d8576b"
             ],
             [
              0.6666666666666666,
              "#ed7953"
             ],
             [
              0.7777777777777778,
              "#fb9f3a"
             ],
             [
              0.8888888888888888,
              "#fdca26"
             ],
             [
              1,
              "#f0f921"
             ]
            ],
            "type": "surface"
           }
          ],
          "table": [
           {
            "cells": {
             "fill": {
              "color": "#EBF0F8"
             },
             "line": {
              "color": "white"
             }
            },
            "header": {
             "fill": {
              "color": "#C8D4E3"
             },
             "line": {
              "color": "white"
             }
            },
            "type": "table"
           }
          ]
         },
         "layout": {
          "annotationdefaults": {
           "arrowcolor": "#2a3f5f",
           "arrowhead": 0,
           "arrowwidth": 1
          },
          "coloraxis": {
           "colorbar": {
            "outlinewidth": 0,
            "ticks": ""
           }
          },
          "colorscale": {
           "diverging": [
            [
             0,
             "#8e0152"
            ],
            [
             0.1,
             "#c51b7d"
            ],
            [
             0.2,
             "#de77ae"
            ],
            [
             0.3,
             "#f1b6da"
            ],
            [
             0.4,
             "#fde0ef"
            ],
            [
             0.5,
             "#f7f7f7"
            ],
            [
             0.6,
             "#e6f5d0"
            ],
            [
             0.7,
             "#b8e186"
            ],
            [
             0.8,
             "#7fbc41"
            ],
            [
             0.9,
             "#4d9221"
            ],
            [
             1,
             "#276419"
            ]
           ],
           "sequential": [
            [
             0,
             "#0d0887"
            ],
            [
             0.1111111111111111,
             "#46039f"
            ],
            [
             0.2222222222222222,
             "#7201a8"
            ],
            [
             0.3333333333333333,
             "#9c179e"
            ],
            [
             0.4444444444444444,
             "#bd3786"
            ],
            [
             0.5555555555555556,
             "#d8576b"
            ],
            [
             0.6666666666666666,
             "#ed7953"
            ],
            [
             0.7777777777777778,
             "#fb9f3a"
            ],
            [
             0.8888888888888888,
             "#fdca26"
            ],
            [
             1,
             "#f0f921"
            ]
           ],
           "sequentialminus": [
            [
             0,
             "#0d0887"
            ],
            [
             0.1111111111111111,
             "#46039f"
            ],
            [
             0.2222222222222222,
             "#7201a8"
            ],
            [
             0.3333333333333333,
             "#9c179e"
            ],
            [
             0.4444444444444444,
             "#bd3786"
            ],
            [
             0.5555555555555556,
             "#d8576b"
            ],
            [
             0.6666666666666666,
             "#ed7953"
            ],
            [
             0.7777777777777778,
             "#fb9f3a"
            ],
            [
             0.8888888888888888,
             "#fdca26"
            ],
            [
             1,
             "#f0f921"
            ]
           ]
          },
          "colorway": [
           "#636efa",
           "#EF553B",
           "#00cc96",
           "#ab63fa",
           "#FFA15A",
           "#19d3f3",
           "#FF6692",
           "#B6E880",
           "#FF97FF",
           "#FECB52"
          ],
          "font": {
           "color": "#2a3f5f"
          },
          "geo": {
           "bgcolor": "white",
           "lakecolor": "white",
           "landcolor": "#E5ECF6",
           "showlakes": true,
           "showland": true,
           "subunitcolor": "white"
          },
          "hoverlabel": {
           "align": "left"
          },
          "hovermode": "closest",
          "mapbox": {
           "style": "light"
          },
          "paper_bgcolor": "white",
          "plot_bgcolor": "#E5ECF6",
          "polar": {
           "angularaxis": {
            "gridcolor": "white",
            "linecolor": "white",
            "ticks": ""
           },
           "bgcolor": "#E5ECF6",
           "radialaxis": {
            "gridcolor": "white",
            "linecolor": "white",
            "ticks": ""
           }
          },
          "scene": {
           "xaxis": {
            "backgroundcolor": "#E5ECF6",
            "gridcolor": "white",
            "gridwidth": 2,
            "linecolor": "white",
            "showbackground": true,
            "ticks": "",
            "zerolinecolor": "white"
           },
           "yaxis": {
            "backgroundcolor": "#E5ECF6",
            "gridcolor": "white",
            "gridwidth": 2,
            "linecolor": "white",
            "showbackground": true,
            "ticks": "",
            "zerolinecolor": "white"
           },
           "zaxis": {
            "backgroundcolor": "#E5ECF6",
            "gridcolor": "white",
            "gridwidth": 2,
            "linecolor": "white",
            "showbackground": true,
            "ticks": "",
            "zerolinecolor": "white"
           }
          },
          "shapedefaults": {
           "line": {
            "color": "#2a3f5f"
           }
          },
          "ternary": {
           "aaxis": {
            "gridcolor": "white",
            "linecolor": "white",
            "ticks": ""
           },
           "baxis": {
            "gridcolor": "white",
            "linecolor": "white",
            "ticks": ""
           },
           "bgcolor": "#E5ECF6",
           "caxis": {
            "gridcolor": "white",
            "linecolor": "white",
            "ticks": ""
           }
          },
          "title": {
           "x": 0.05
          },
          "xaxis": {
           "automargin": true,
           "gridcolor": "white",
           "linecolor": "white",
           "ticks": "",
           "title": {
            "standoff": 15
           },
           "zerolinecolor": "white",
           "zerolinewidth": 2
          },
          "yaxis": {
           "automargin": true,
           "gridcolor": "white",
           "linecolor": "white",
           "ticks": "",
           "title": {
            "standoff": 15
           },
           "zerolinecolor": "white",
           "zerolinewidth": 2
          }
         }
        },
        "title": {
         "text": "Average heldPercentInstitutions on industry sectors"
        }
       }
      },
      "text/html": [
       "<div>\n",
       "        \n",
       "        \n",
       "            <div id=\"e48d5694-8137-40c4-b8ed-650d456da127\" class=\"plotly-graph-div\" style=\"height:525px; width:100%;\"></div>\n",
       "            <script type=\"text/javascript\">\n",
       "                require([\"plotly\"], function(Plotly) {\n",
       "                    window.PLOTLYENV=window.PLOTLYENV || {};\n",
       "                    \n",
       "                if (document.getElementById(\"e48d5694-8137-40c4-b8ed-650d456da127\")) {\n",
       "                    Plotly.newPlot(\n",
       "                        'e48d5694-8137-40c4-b8ed-650d456da127',\n",
       "                        [{\"domain\": {\"x\": [0.0, 1.0], \"y\": [0.0, 1.0]}, \"hoverlabel\": {\"namelength\": 0}, \"hovertemplate\": \"label=%{label}<br>heldPercentInstitutions=%{value}\", \"labels\": [\"communication_services\", \"consumer_discretionary\", \"consumer_staples\", \"energy\", \"financials\", \"health_care\", \"industrials\", \"information_technology\", \"materials\", \"real_estate\", \"utilities\"], \"legendgroup\": \"\", \"name\": \"\", \"showlegend\": true, \"type\": \"pie\", \"values\": [0.7889926903846155, 0.8611457837500001, 0.7493137434375001, 0.8038946439285715, 0.7636406136923075, 0.8570616455737706, 0.8190502904347827, 0.8415622845714282, 0.8163700042857142, 0.9495351516129032, 0.7807771492857143]}],\n",
       "                        {\"legend\": {\"tracegroupgap\": 0}, \"template\": {\"data\": {\"bar\": [{\"error_x\": {\"color\": \"#2a3f5f\"}, \"error_y\": {\"color\": \"#2a3f5f\"}, \"marker\": {\"line\": {\"color\": \"#E5ECF6\", \"width\": 0.5}}, \"type\": \"bar\"}], \"barpolar\": [{\"marker\": {\"line\": {\"color\": \"#E5ECF6\", \"width\": 0.5}}, \"type\": \"barpolar\"}], \"carpet\": [{\"aaxis\": {\"endlinecolor\": \"#2a3f5f\", \"gridcolor\": \"white\", \"linecolor\": \"white\", \"minorgridcolor\": \"white\", \"startlinecolor\": \"#2a3f5f\"}, \"baxis\": {\"endlinecolor\": \"#2a3f5f\", \"gridcolor\": \"white\", \"linecolor\": \"white\", \"minorgridcolor\": \"white\", \"startlinecolor\": \"#2a3f5f\"}, \"type\": \"carpet\"}], \"choropleth\": [{\"colorbar\": {\"outlinewidth\": 0, \"ticks\": \"\"}, \"type\": \"choropleth\"}], \"contour\": [{\"colorbar\": {\"outlinewidth\": 0, \"ticks\": \"\"}, \"colorscale\": [[0.0, \"#0d0887\"], [0.1111111111111111, \"#46039f\"], [0.2222222222222222, \"#7201a8\"], [0.3333333333333333, \"#9c179e\"], [0.4444444444444444, \"#bd3786\"], [0.5555555555555556, \"#d8576b\"], [0.6666666666666666, \"#ed7953\"], [0.7777777777777778, \"#fb9f3a\"], [0.8888888888888888, \"#fdca26\"], [1.0, \"#f0f921\"]], \"type\": \"contour\"}], \"contourcarpet\": [{\"colorbar\": {\"outlinewidth\": 0, \"ticks\": \"\"}, \"type\": \"contourcarpet\"}], \"heatmap\": [{\"colorbar\": {\"outlinewidth\": 0, \"ticks\": \"\"}, \"colorscale\": [[0.0, \"#0d0887\"], [0.1111111111111111, \"#46039f\"], [0.2222222222222222, \"#7201a8\"], [0.3333333333333333, \"#9c179e\"], [0.4444444444444444, \"#bd3786\"], [0.5555555555555556, \"#d8576b\"], [0.6666666666666666, \"#ed7953\"], [0.7777777777777778, \"#fb9f3a\"], [0.8888888888888888, \"#fdca26\"], [1.0, \"#f0f921\"]], \"type\": \"heatmap\"}], \"heatmapgl\": [{\"colorbar\": {\"outlinewidth\": 0, \"ticks\": \"\"}, \"colorscale\": [[0.0, \"#0d0887\"], [0.1111111111111111, \"#46039f\"], [0.2222222222222222, \"#7201a8\"], [0.3333333333333333, \"#9c179e\"], [0.4444444444444444, \"#bd3786\"], [0.5555555555555556, \"#d8576b\"], [0.6666666666666666, \"#ed7953\"], [0.7777777777777778, \"#fb9f3a\"], [0.8888888888888888, \"#fdca26\"], [1.0, \"#f0f921\"]], \"type\": \"heatmapgl\"}], \"histogram\": [{\"marker\": {\"colorbar\": {\"outlinewidth\": 0, \"ticks\": \"\"}}, \"type\": \"histogram\"}], \"histogram2d\": [{\"colorbar\": {\"outlinewidth\": 0, \"ticks\": \"\"}, \"colorscale\": [[0.0, \"#0d0887\"], [0.1111111111111111, \"#46039f\"], [0.2222222222222222, \"#7201a8\"], [0.3333333333333333, \"#9c179e\"], [0.4444444444444444, \"#bd3786\"], [0.5555555555555556, \"#d8576b\"], [0.6666666666666666, \"#ed7953\"], [0.7777777777777778, \"#fb9f3a\"], [0.8888888888888888, \"#fdca26\"], [1.0, \"#f0f921\"]], \"type\": \"histogram2d\"}], \"histogram2dcontour\": [{\"colorbar\": {\"outlinewidth\": 0, \"ticks\": \"\"}, \"colorscale\": [[0.0, \"#0d0887\"], [0.1111111111111111, \"#46039f\"], [0.2222222222222222, \"#7201a8\"], [0.3333333333333333, \"#9c179e\"], [0.4444444444444444, \"#bd3786\"], [0.5555555555555556, \"#d8576b\"], [0.6666666666666666, \"#ed7953\"], [0.7777777777777778, \"#fb9f3a\"], [0.8888888888888888, \"#fdca26\"], [1.0, \"#f0f921\"]], \"type\": \"histogram2dcontour\"}], \"mesh3d\": [{\"colorbar\": {\"outlinewidth\": 0, \"ticks\": \"\"}, \"type\": \"mesh3d\"}], \"parcoords\": [{\"line\": {\"colorbar\": {\"outlinewidth\": 0, \"ticks\": \"\"}}, \"type\": \"parcoords\"}], \"pie\": [{\"automargin\": true, \"type\": \"pie\"}], \"scatter\": [{\"marker\": {\"colorbar\": {\"outlinewidth\": 0, \"ticks\": \"\"}}, \"type\": \"scatter\"}], \"scatter3d\": [{\"line\": {\"colorbar\": {\"outlinewidth\": 0, \"ticks\": \"\"}}, \"marker\": {\"colorbar\": {\"outlinewidth\": 0, \"ticks\": \"\"}}, \"type\": \"scatter3d\"}], \"scattercarpet\": [{\"marker\": {\"colorbar\": {\"outlinewidth\": 0, \"ticks\": \"\"}}, \"type\": \"scattercarpet\"}], \"scattergeo\": [{\"marker\": {\"colorbar\": {\"outlinewidth\": 0, \"ticks\": \"\"}}, \"type\": \"scattergeo\"}], \"scattergl\": [{\"marker\": {\"colorbar\": {\"outlinewidth\": 0, \"ticks\": \"\"}}, \"type\": \"scattergl\"}], \"scattermapbox\": [{\"marker\": {\"colorbar\": {\"outlinewidth\": 0, \"ticks\": \"\"}}, \"type\": \"scattermapbox\"}], \"scatterpolar\": [{\"marker\": {\"colorbar\": {\"outlinewidth\": 0, \"ticks\": \"\"}}, \"type\": \"scatterpolar\"}], \"scatterpolargl\": [{\"marker\": {\"colorbar\": {\"outlinewidth\": 0, \"ticks\": \"\"}}, \"type\": \"scatterpolargl\"}], \"scatterternary\": [{\"marker\": {\"colorbar\": {\"outlinewidth\": 0, \"ticks\": \"\"}}, \"type\": \"scatterternary\"}], \"surface\": [{\"colorbar\": {\"outlinewidth\": 0, \"ticks\": \"\"}, \"colorscale\": [[0.0, \"#0d0887\"], [0.1111111111111111, \"#46039f\"], [0.2222222222222222, \"#7201a8\"], [0.3333333333333333, \"#9c179e\"], [0.4444444444444444, \"#bd3786\"], [0.5555555555555556, \"#d8576b\"], [0.6666666666666666, \"#ed7953\"], [0.7777777777777778, \"#fb9f3a\"], [0.8888888888888888, \"#fdca26\"], [1.0, \"#f0f921\"]], \"type\": \"surface\"}], \"table\": [{\"cells\": {\"fill\": {\"color\": \"#EBF0F8\"}, \"line\": {\"color\": \"white\"}}, \"header\": {\"fill\": {\"color\": \"#C8D4E3\"}, \"line\": {\"color\": \"white\"}}, \"type\": \"table\"}]}, \"layout\": {\"annotationdefaults\": {\"arrowcolor\": \"#2a3f5f\", \"arrowhead\": 0, \"arrowwidth\": 1}, \"coloraxis\": {\"colorbar\": {\"outlinewidth\": 0, \"ticks\": \"\"}}, \"colorscale\": {\"diverging\": [[0, \"#8e0152\"], [0.1, \"#c51b7d\"], [0.2, \"#de77ae\"], [0.3, \"#f1b6da\"], [0.4, \"#fde0ef\"], [0.5, \"#f7f7f7\"], [0.6, \"#e6f5d0\"], [0.7, \"#b8e186\"], [0.8, \"#7fbc41\"], [0.9, \"#4d9221\"], [1, \"#276419\"]], \"sequential\": [[0.0, \"#0d0887\"], [0.1111111111111111, \"#46039f\"], [0.2222222222222222, \"#7201a8\"], [0.3333333333333333, \"#9c179e\"], [0.4444444444444444, \"#bd3786\"], [0.5555555555555556, \"#d8576b\"], [0.6666666666666666, \"#ed7953\"], [0.7777777777777778, \"#fb9f3a\"], [0.8888888888888888, \"#fdca26\"], [1.0, \"#f0f921\"]], \"sequentialminus\": [[0.0, \"#0d0887\"], [0.1111111111111111, \"#46039f\"], [0.2222222222222222, \"#7201a8\"], [0.3333333333333333, \"#9c179e\"], [0.4444444444444444, \"#bd3786\"], [0.5555555555555556, \"#d8576b\"], [0.6666666666666666, \"#ed7953\"], [0.7777777777777778, \"#fb9f3a\"], [0.8888888888888888, \"#fdca26\"], [1.0, \"#f0f921\"]]}, \"colorway\": [\"#636efa\", \"#EF553B\", \"#00cc96\", \"#ab63fa\", \"#FFA15A\", \"#19d3f3\", \"#FF6692\", \"#B6E880\", \"#FF97FF\", \"#FECB52\"], \"font\": {\"color\": \"#2a3f5f\"}, \"geo\": {\"bgcolor\": \"white\", \"lakecolor\": \"white\", \"landcolor\": \"#E5ECF6\", \"showlakes\": true, \"showland\": true, \"subunitcolor\": \"white\"}, \"hoverlabel\": {\"align\": \"left\"}, \"hovermode\": \"closest\", \"mapbox\": {\"style\": \"light\"}, \"paper_bgcolor\": \"white\", \"plot_bgcolor\": \"#E5ECF6\", \"polar\": {\"angularaxis\": {\"gridcolor\": \"white\", \"linecolor\": \"white\", \"ticks\": \"\"}, \"bgcolor\": \"#E5ECF6\", \"radialaxis\": {\"gridcolor\": \"white\", \"linecolor\": \"white\", \"ticks\": \"\"}}, \"scene\": {\"xaxis\": {\"backgroundcolor\": \"#E5ECF6\", \"gridcolor\": \"white\", \"gridwidth\": 2, \"linecolor\": \"white\", \"showbackground\": true, \"ticks\": \"\", \"zerolinecolor\": \"white\"}, \"yaxis\": {\"backgroundcolor\": \"#E5ECF6\", \"gridcolor\": \"white\", \"gridwidth\": 2, \"linecolor\": \"white\", \"showbackground\": true, \"ticks\": \"\", \"zerolinecolor\": \"white\"}, \"zaxis\": {\"backgroundcolor\": \"#E5ECF6\", \"gridcolor\": \"white\", \"gridwidth\": 2, \"linecolor\": \"white\", \"showbackground\": true, \"ticks\": \"\", \"zerolinecolor\": \"white\"}}, \"shapedefaults\": {\"line\": {\"color\": \"#2a3f5f\"}}, \"ternary\": {\"aaxis\": {\"gridcolor\": \"white\", \"linecolor\": \"white\", \"ticks\": \"\"}, \"baxis\": {\"gridcolor\": \"white\", \"linecolor\": \"white\", \"ticks\": \"\"}, \"bgcolor\": \"#E5ECF6\", \"caxis\": {\"gridcolor\": \"white\", \"linecolor\": \"white\", \"ticks\": \"\"}}, \"title\": {\"x\": 0.05}, \"xaxis\": {\"automargin\": true, \"gridcolor\": \"white\", \"linecolor\": \"white\", \"ticks\": \"\", \"title\": {\"standoff\": 15}, \"zerolinecolor\": \"white\", \"zerolinewidth\": 2}, \"yaxis\": {\"automargin\": true, \"gridcolor\": \"white\", \"linecolor\": \"white\", \"ticks\": \"\", \"title\": {\"standoff\": 15}, \"zerolinecolor\": \"white\", \"zerolinewidth\": 2}}}, \"title\": {\"text\": \"Average heldPercentInstitutions on industry sectors\"}},\n",
       "                        {\"responsive\": true}\n",
       "                    ).then(function(){\n",
       "                            \n",
       "var gd = document.getElementById('e48d5694-8137-40c4-b8ed-650d456da127');\n",
       "var x = new MutationObserver(function (mutations, observer) {{\n",
       "        var display = window.getComputedStyle(gd).display;\n",
       "        if (!display || display === 'none') {{\n",
       "            console.log([gd, 'removed!']);\n",
       "            Plotly.purge(gd);\n",
       "            observer.disconnect();\n",
       "        }}\n",
       "}});\n",
       "\n",
       "// Listen for the removal of the full notebook cells\n",
       "var notebookContainer = gd.closest('#notebook-container');\n",
       "if (notebookContainer) {{\n",
       "    x.observe(notebookContainer, {childList: true});\n",
       "}}\n",
       "\n",
       "// Listen for the clearing of the current output cell\n",
       "var outputEl = gd.closest('.output');\n",
       "if (outputEl) {{\n",
       "    x.observe(outputEl, {childList: true});\n",
       "}}\n",
       "\n",
       "                        })\n",
       "                };\n",
       "                });\n",
       "            </script>\n",
       "        </div>"
      ]
     },
     "metadata": {},
     "output_type": "display_data"
    }
   ],
   "source": [
    "pie(column = 'heldPercentInstitutions', data_type='average')"
   ]
  },
  {
   "cell_type": "code",
   "execution_count": 152,
   "metadata": {},
   "outputs": [
    {
     "data": {
      "application/vnd.plotly.v1+json": {
       "config": {
        "plotlyServerURL": "https://plot.ly"
       },
       "data": [
        {
         "domain": {
          "x": [
           0,
           1
          ],
          "y": [
           0,
           1
          ]
         },
         "hoverlabel": {
          "namelength": 0
         },
         "hovertemplate": "label=%{label}<br>bookValue=%{value}",
         "labels": [
          "communication_services",
          "consumer_discretionary",
          "consumer_staples",
          "energy",
          "financials",
          "health_care",
          "industrials",
          "information_technology",
          "materials",
          "real_estate",
          "utilities"
         ],
         "legendgroup": "",
         "name": "",
         "showlegend": true,
         "type": "pie",
         "values": [
          1123.559,
          1977.5810000000006,
          589.4089999999999,
          964.6580000000001,
          3656.0139999999988,
          2271.5260000000007,
          1746.7130000000002,
          1384.1059999999998,
          908.2280000000002,
          951.9409999999999,
          945.8529999999997
         ]
        }
       ],
       "layout": {
        "legend": {
         "tracegroupgap": 0
        },
        "template": {
         "data": {
          "bar": [
           {
            "error_x": {
             "color": "#2a3f5f"
            },
            "error_y": {
             "color": "#2a3f5f"
            },
            "marker": {
             "line": {
              "color": "#E5ECF6",
              "width": 0.5
             }
            },
            "type": "bar"
           }
          ],
          "barpolar": [
           {
            "marker": {
             "line": {
              "color": "#E5ECF6",
              "width": 0.5
             }
            },
            "type": "barpolar"
           }
          ],
          "carpet": [
           {
            "aaxis": {
             "endlinecolor": "#2a3f5f",
             "gridcolor": "white",
             "linecolor": "white",
             "minorgridcolor": "white",
             "startlinecolor": "#2a3f5f"
            },
            "baxis": {
             "endlinecolor": "#2a3f5f",
             "gridcolor": "white",
             "linecolor": "white",
             "minorgridcolor": "white",
             "startlinecolor": "#2a3f5f"
            },
            "type": "carpet"
           }
          ],
          "choropleth": [
           {
            "colorbar": {
             "outlinewidth": 0,
             "ticks": ""
            },
            "type": "choropleth"
           }
          ],
          "contour": [
           {
            "colorbar": {
             "outlinewidth": 0,
             "ticks": ""
            },
            "colorscale": [
             [
              0,
              "#0d0887"
             ],
             [
              0.1111111111111111,
              "#46039f"
             ],
             [
              0.2222222222222222,
              "#7201a8"
             ],
             [
              0.3333333333333333,
              "#9c179e"
             ],
             [
              0.4444444444444444,
              "#bd3786"
             ],
             [
              0.5555555555555556,
              "#d8576b"
             ],
             [
              0.6666666666666666,
              "#ed7953"
             ],
             [
              0.7777777777777778,
              "#fb9f3a"
             ],
             [
              0.8888888888888888,
              "#fdca26"
             ],
             [
              1,
              "#f0f921"
             ]
            ],
            "type": "contour"
           }
          ],
          "contourcarpet": [
           {
            "colorbar": {
             "outlinewidth": 0,
             "ticks": ""
            },
            "type": "contourcarpet"
           }
          ],
          "heatmap": [
           {
            "colorbar": {
             "outlinewidth": 0,
             "ticks": ""
            },
            "colorscale": [
             [
              0,
              "#0d0887"
             ],
             [
              0.1111111111111111,
              "#46039f"
             ],
             [
              0.2222222222222222,
              "#7201a8"
             ],
             [
              0.3333333333333333,
              "#9c179e"
             ],
             [
              0.4444444444444444,
              "#bd3786"
             ],
             [
              0.5555555555555556,
              "#d8576b"
             ],
             [
              0.6666666666666666,
              "#ed7953"
             ],
             [
              0.7777777777777778,
              "#fb9f3a"
             ],
             [
              0.8888888888888888,
              "#fdca26"
             ],
             [
              1,
              "#f0f921"
             ]
            ],
            "type": "heatmap"
           }
          ],
          "heatmapgl": [
           {
            "colorbar": {
             "outlinewidth": 0,
             "ticks": ""
            },
            "colorscale": [
             [
              0,
              "#0d0887"
             ],
             [
              0.1111111111111111,
              "#46039f"
             ],
             [
              0.2222222222222222,
              "#7201a8"
             ],
             [
              0.3333333333333333,
              "#9c179e"
             ],
             [
              0.4444444444444444,
              "#bd3786"
             ],
             [
              0.5555555555555556,
              "#d8576b"
             ],
             [
              0.6666666666666666,
              "#ed7953"
             ],
             [
              0.7777777777777778,
              "#fb9f3a"
             ],
             [
              0.8888888888888888,
              "#fdca26"
             ],
             [
              1,
              "#f0f921"
             ]
            ],
            "type": "heatmapgl"
           }
          ],
          "histogram": [
           {
            "marker": {
             "colorbar": {
              "outlinewidth": 0,
              "ticks": ""
             }
            },
            "type": "histogram"
           }
          ],
          "histogram2d": [
           {
            "colorbar": {
             "outlinewidth": 0,
             "ticks": ""
            },
            "colorscale": [
             [
              0,
              "#0d0887"
             ],
             [
              0.1111111111111111,
              "#46039f"
             ],
             [
              0.2222222222222222,
              "#7201a8"
             ],
             [
              0.3333333333333333,
              "#9c179e"
             ],
             [
              0.4444444444444444,
              "#bd3786"
             ],
             [
              0.5555555555555556,
              "#d8576b"
             ],
             [
              0.6666666666666666,
              "#ed7953"
             ],
             [
              0.7777777777777778,
              "#fb9f3a"
             ],
             [
              0.8888888888888888,
              "#fdca26"
             ],
             [
              1,
              "#f0f921"
             ]
            ],
            "type": "histogram2d"
           }
          ],
          "histogram2dcontour": [
           {
            "colorbar": {
             "outlinewidth": 0,
             "ticks": ""
            },
            "colorscale": [
             [
              0,
              "#0d0887"
             ],
             [
              0.1111111111111111,
              "#46039f"
             ],
             [
              0.2222222222222222,
              "#7201a8"
             ],
             [
              0.3333333333333333,
              "#9c179e"
             ],
             [
              0.4444444444444444,
              "#bd3786"
             ],
             [
              0.5555555555555556,
              "#d8576b"
             ],
             [
              0.6666666666666666,
              "#ed7953"
             ],
             [
              0.7777777777777778,
              "#fb9f3a"
             ],
             [
              0.8888888888888888,
              "#fdca26"
             ],
             [
              1,
              "#f0f921"
             ]
            ],
            "type": "histogram2dcontour"
           }
          ],
          "mesh3d": [
           {
            "colorbar": {
             "outlinewidth": 0,
             "ticks": ""
            },
            "type": "mesh3d"
           }
          ],
          "parcoords": [
           {
            "line": {
             "colorbar": {
              "outlinewidth": 0,
              "ticks": ""
             }
            },
            "type": "parcoords"
           }
          ],
          "pie": [
           {
            "automargin": true,
            "type": "pie"
           }
          ],
          "scatter": [
           {
            "marker": {
             "colorbar": {
              "outlinewidth": 0,
              "ticks": ""
             }
            },
            "type": "scatter"
           }
          ],
          "scatter3d": [
           {
            "line": {
             "colorbar": {
              "outlinewidth": 0,
              "ticks": ""
             }
            },
            "marker": {
             "colorbar": {
              "outlinewidth": 0,
              "ticks": ""
             }
            },
            "type": "scatter3d"
           }
          ],
          "scattercarpet": [
           {
            "marker": {
             "colorbar": {
              "outlinewidth": 0,
              "ticks": ""
             }
            },
            "type": "scattercarpet"
           }
          ],
          "scattergeo": [
           {
            "marker": {
             "colorbar": {
              "outlinewidth": 0,
              "ticks": ""
             }
            },
            "type": "scattergeo"
           }
          ],
          "scattergl": [
           {
            "marker": {
             "colorbar": {
              "outlinewidth": 0,
              "ticks": ""
             }
            },
            "type": "scattergl"
           }
          ],
          "scattermapbox": [
           {
            "marker": {
             "colorbar": {
              "outlinewidth": 0,
              "ticks": ""
             }
            },
            "type": "scattermapbox"
           }
          ],
          "scatterpolar": [
           {
            "marker": {
             "colorbar": {
              "outlinewidth": 0,
              "ticks": ""
             }
            },
            "type": "scatterpolar"
           }
          ],
          "scatterpolargl": [
           {
            "marker": {
             "colorbar": {
              "outlinewidth": 0,
              "ticks": ""
             }
            },
            "type": "scatterpolargl"
           }
          ],
          "scatterternary": [
           {
            "marker": {
             "colorbar": {
              "outlinewidth": 0,
              "ticks": ""
             }
            },
            "type": "scatterternary"
           }
          ],
          "surface": [
           {
            "colorbar": {
             "outlinewidth": 0,
             "ticks": ""
            },
            "colorscale": [
             [
              0,
              "#0d0887"
             ],
             [
              0.1111111111111111,
              "#46039f"
             ],
             [
              0.2222222222222222,
              "#7201a8"
             ],
             [
              0.3333333333333333,
              "#9c179e"
             ],
             [
              0.4444444444444444,
              "#bd3786"
             ],
             [
              0.5555555555555556,
              "#d8576b"
             ],
             [
              0.6666666666666666,
              "#ed7953"
             ],
             [
              0.7777777777777778,
              "#fb9f3a"
             ],
             [
              0.8888888888888888,
              "#fdca26"
             ],
             [
              1,
              "#f0f921"
             ]
            ],
            "type": "surface"
           }
          ],
          "table": [
           {
            "cells": {
             "fill": {
              "color": "#EBF0F8"
             },
             "line": {
              "color": "white"
             }
            },
            "header": {
             "fill": {
              "color": "#C8D4E3"
             },
             "line": {
              "color": "white"
             }
            },
            "type": "table"
           }
          ]
         },
         "layout": {
          "annotationdefaults": {
           "arrowcolor": "#2a3f5f",
           "arrowhead": 0,
           "arrowwidth": 1
          },
          "coloraxis": {
           "colorbar": {
            "outlinewidth": 0,
            "ticks": ""
           }
          },
          "colorscale": {
           "diverging": [
            [
             0,
             "#8e0152"
            ],
            [
             0.1,
             "#c51b7d"
            ],
            [
             0.2,
             "#de77ae"
            ],
            [
             0.3,
             "#f1b6da"
            ],
            [
             0.4,
             "#fde0ef"
            ],
            [
             0.5,
             "#f7f7f7"
            ],
            [
             0.6,
             "#e6f5d0"
            ],
            [
             0.7,
             "#b8e186"
            ],
            [
             0.8,
             "#7fbc41"
            ],
            [
             0.9,
             "#4d9221"
            ],
            [
             1,
             "#276419"
            ]
           ],
           "sequential": [
            [
             0,
             "#0d0887"
            ],
            [
             0.1111111111111111,
             "#46039f"
            ],
            [
             0.2222222222222222,
             "#7201a8"
            ],
            [
             0.3333333333333333,
             "#9c179e"
            ],
            [
             0.4444444444444444,
             "#bd3786"
            ],
            [
             0.5555555555555556,
             "#d8576b"
            ],
            [
             0.6666666666666666,
             "#ed7953"
            ],
            [
             0.7777777777777778,
             "#fb9f3a"
            ],
            [
             0.8888888888888888,
             "#fdca26"
            ],
            [
             1,
             "#f0f921"
            ]
           ],
           "sequentialminus": [
            [
             0,
             "#0d0887"
            ],
            [
             0.1111111111111111,
             "#46039f"
            ],
            [
             0.2222222222222222,
             "#7201a8"
            ],
            [
             0.3333333333333333,
             "#9c179e"
            ],
            [
             0.4444444444444444,
             "#bd3786"
            ],
            [
             0.5555555555555556,
             "#d8576b"
            ],
            [
             0.6666666666666666,
             "#ed7953"
            ],
            [
             0.7777777777777778,
             "#fb9f3a"
            ],
            [
             0.8888888888888888,
             "#fdca26"
            ],
            [
             1,
             "#f0f921"
            ]
           ]
          },
          "colorway": [
           "#636efa",
           "#EF553B",
           "#00cc96",
           "#ab63fa",
           "#FFA15A",
           "#19d3f3",
           "#FF6692",
           "#B6E880",
           "#FF97FF",
           "#FECB52"
          ],
          "font": {
           "color": "#2a3f5f"
          },
          "geo": {
           "bgcolor": "white",
           "lakecolor": "white",
           "landcolor": "#E5ECF6",
           "showlakes": true,
           "showland": true,
           "subunitcolor": "white"
          },
          "hoverlabel": {
           "align": "left"
          },
          "hovermode": "closest",
          "mapbox": {
           "style": "light"
          },
          "paper_bgcolor": "white",
          "plot_bgcolor": "#E5ECF6",
          "polar": {
           "angularaxis": {
            "gridcolor": "white",
            "linecolor": "white",
            "ticks": ""
           },
           "bgcolor": "#E5ECF6",
           "radialaxis": {
            "gridcolor": "white",
            "linecolor": "white",
            "ticks": ""
           }
          },
          "scene": {
           "xaxis": {
            "backgroundcolor": "#E5ECF6",
            "gridcolor": "white",
            "gridwidth": 2,
            "linecolor": "white",
            "showbackground": true,
            "ticks": "",
            "zerolinecolor": "white"
           },
           "yaxis": {
            "backgroundcolor": "#E5ECF6",
            "gridcolor": "white",
            "gridwidth": 2,
            "linecolor": "white",
            "showbackground": true,
            "ticks": "",
            "zerolinecolor": "white"
           },
           "zaxis": {
            "backgroundcolor": "#E5ECF6",
            "gridcolor": "white",
            "gridwidth": 2,
            "linecolor": "white",
            "showbackground": true,
            "ticks": "",
            "zerolinecolor": "white"
           }
          },
          "shapedefaults": {
           "line": {
            "color": "#2a3f5f"
           }
          },
          "ternary": {
           "aaxis": {
            "gridcolor": "white",
            "linecolor": "white",
            "ticks": ""
           },
           "baxis": {
            "gridcolor": "white",
            "linecolor": "white",
            "ticks": ""
           },
           "bgcolor": "#E5ECF6",
           "caxis": {
            "gridcolor": "white",
            "linecolor": "white",
            "ticks": ""
           }
          },
          "title": {
           "x": 0.05
          },
          "xaxis": {
           "automargin": true,
           "gridcolor": "white",
           "linecolor": "white",
           "ticks": "",
           "title": {
            "standoff": 15
           },
           "zerolinecolor": "white",
           "zerolinewidth": 2
          },
          "yaxis": {
           "automargin": true,
           "gridcolor": "white",
           "linecolor": "white",
           "ticks": "",
           "title": {
            "standoff": 15
           },
           "zerolinecolor": "white",
           "zerolinewidth": 2
          }
         }
        },
        "title": {
         "text": "Total bookValue on industry sectors"
        }
       }
      },
      "text/html": [
       "<div>\n",
       "        \n",
       "        \n",
       "            <div id=\"4f7ca54e-a746-48dd-ac4d-b62b9ddc2155\" class=\"plotly-graph-div\" style=\"height:525px; width:100%;\"></div>\n",
       "            <script type=\"text/javascript\">\n",
       "                require([\"plotly\"], function(Plotly) {\n",
       "                    window.PLOTLYENV=window.PLOTLYENV || {};\n",
       "                    \n",
       "                if (document.getElementById(\"4f7ca54e-a746-48dd-ac4d-b62b9ddc2155\")) {\n",
       "                    Plotly.newPlot(\n",
       "                        '4f7ca54e-a746-48dd-ac4d-b62b9ddc2155',\n",
       "                        [{\"domain\": {\"x\": [0.0, 1.0], \"y\": [0.0, 1.0]}, \"hoverlabel\": {\"namelength\": 0}, \"hovertemplate\": \"label=%{label}<br>bookValue=%{value}\", \"labels\": [\"communication_services\", \"consumer_discretionary\", \"consumer_staples\", \"energy\", \"financials\", \"health_care\", \"industrials\", \"information_technology\", \"materials\", \"real_estate\", \"utilities\"], \"legendgroup\": \"\", \"name\": \"\", \"showlegend\": true, \"type\": \"pie\", \"values\": [1123.559, 1977.5810000000006, 589.4089999999999, 964.6580000000001, 3656.0139999999988, 2271.5260000000007, 1746.7130000000002, 1384.1059999999998, 908.2280000000002, 951.9409999999999, 945.8529999999997]}],\n",
       "                        {\"legend\": {\"tracegroupgap\": 0}, \"template\": {\"data\": {\"bar\": [{\"error_x\": {\"color\": \"#2a3f5f\"}, \"error_y\": {\"color\": \"#2a3f5f\"}, \"marker\": {\"line\": {\"color\": \"#E5ECF6\", \"width\": 0.5}}, \"type\": \"bar\"}], \"barpolar\": [{\"marker\": {\"line\": {\"color\": \"#E5ECF6\", \"width\": 0.5}}, \"type\": \"barpolar\"}], \"carpet\": [{\"aaxis\": {\"endlinecolor\": \"#2a3f5f\", \"gridcolor\": \"white\", \"linecolor\": \"white\", \"minorgridcolor\": \"white\", \"startlinecolor\": \"#2a3f5f\"}, \"baxis\": {\"endlinecolor\": \"#2a3f5f\", \"gridcolor\": \"white\", \"linecolor\": \"white\", \"minorgridcolor\": \"white\", \"startlinecolor\": \"#2a3f5f\"}, \"type\": \"carpet\"}], \"choropleth\": [{\"colorbar\": {\"outlinewidth\": 0, \"ticks\": \"\"}, \"type\": \"choropleth\"}], \"contour\": [{\"colorbar\": {\"outlinewidth\": 0, \"ticks\": \"\"}, \"colorscale\": [[0.0, \"#0d0887\"], [0.1111111111111111, \"#46039f\"], [0.2222222222222222, \"#7201a8\"], [0.3333333333333333, \"#9c179e\"], [0.4444444444444444, \"#bd3786\"], [0.5555555555555556, \"#d8576b\"], [0.6666666666666666, \"#ed7953\"], [0.7777777777777778, \"#fb9f3a\"], [0.8888888888888888, \"#fdca26\"], [1.0, \"#f0f921\"]], \"type\": \"contour\"}], \"contourcarpet\": [{\"colorbar\": {\"outlinewidth\": 0, \"ticks\": \"\"}, \"type\": \"contourcarpet\"}], \"heatmap\": [{\"colorbar\": {\"outlinewidth\": 0, \"ticks\": \"\"}, \"colorscale\": [[0.0, \"#0d0887\"], [0.1111111111111111, \"#46039f\"], [0.2222222222222222, \"#7201a8\"], [0.3333333333333333, \"#9c179e\"], [0.4444444444444444, \"#bd3786\"], [0.5555555555555556, \"#d8576b\"], [0.6666666666666666, \"#ed7953\"], [0.7777777777777778, \"#fb9f3a\"], [0.8888888888888888, \"#fdca26\"], [1.0, \"#f0f921\"]], \"type\": \"heatmap\"}], \"heatmapgl\": [{\"colorbar\": {\"outlinewidth\": 0, \"ticks\": \"\"}, \"colorscale\": [[0.0, \"#0d0887\"], [0.1111111111111111, \"#46039f\"], [0.2222222222222222, \"#7201a8\"], [0.3333333333333333, \"#9c179e\"], [0.4444444444444444, \"#bd3786\"], [0.5555555555555556, \"#d8576b\"], [0.6666666666666666, \"#ed7953\"], [0.7777777777777778, \"#fb9f3a\"], [0.8888888888888888, \"#fdca26\"], [1.0, \"#f0f921\"]], \"type\": \"heatmapgl\"}], \"histogram\": [{\"marker\": {\"colorbar\": {\"outlinewidth\": 0, \"ticks\": \"\"}}, \"type\": \"histogram\"}], \"histogram2d\": [{\"colorbar\": {\"outlinewidth\": 0, \"ticks\": \"\"}, \"colorscale\": [[0.0, \"#0d0887\"], [0.1111111111111111, \"#46039f\"], [0.2222222222222222, \"#7201a8\"], [0.3333333333333333, \"#9c179e\"], [0.4444444444444444, \"#bd3786\"], [0.5555555555555556, \"#d8576b\"], [0.6666666666666666, \"#ed7953\"], [0.7777777777777778, \"#fb9f3a\"], [0.8888888888888888, \"#fdca26\"], [1.0, \"#f0f921\"]], \"type\": \"histogram2d\"}], \"histogram2dcontour\": [{\"colorbar\": {\"outlinewidth\": 0, \"ticks\": \"\"}, \"colorscale\": [[0.0, \"#0d0887\"], [0.1111111111111111, \"#46039f\"], [0.2222222222222222, \"#7201a8\"], [0.3333333333333333, \"#9c179e\"], [0.4444444444444444, \"#bd3786\"], [0.5555555555555556, \"#d8576b\"], [0.6666666666666666, \"#ed7953\"], [0.7777777777777778, \"#fb9f3a\"], [0.8888888888888888, \"#fdca26\"], [1.0, \"#f0f921\"]], \"type\": \"histogram2dcontour\"}], \"mesh3d\": [{\"colorbar\": {\"outlinewidth\": 0, \"ticks\": \"\"}, \"type\": \"mesh3d\"}], \"parcoords\": [{\"line\": {\"colorbar\": {\"outlinewidth\": 0, \"ticks\": \"\"}}, \"type\": \"parcoords\"}], \"pie\": [{\"automargin\": true, \"type\": \"pie\"}], \"scatter\": [{\"marker\": {\"colorbar\": {\"outlinewidth\": 0, \"ticks\": \"\"}}, \"type\": \"scatter\"}], \"scatter3d\": [{\"line\": {\"colorbar\": {\"outlinewidth\": 0, \"ticks\": \"\"}}, \"marker\": {\"colorbar\": {\"outlinewidth\": 0, \"ticks\": \"\"}}, \"type\": \"scatter3d\"}], \"scattercarpet\": [{\"marker\": {\"colorbar\": {\"outlinewidth\": 0, \"ticks\": \"\"}}, \"type\": \"scattercarpet\"}], \"scattergeo\": [{\"marker\": {\"colorbar\": {\"outlinewidth\": 0, \"ticks\": \"\"}}, \"type\": \"scattergeo\"}], \"scattergl\": [{\"marker\": {\"colorbar\": {\"outlinewidth\": 0, \"ticks\": \"\"}}, \"type\": \"scattergl\"}], \"scattermapbox\": [{\"marker\": {\"colorbar\": {\"outlinewidth\": 0, \"ticks\": \"\"}}, \"type\": \"scattermapbox\"}], \"scatterpolar\": [{\"marker\": {\"colorbar\": {\"outlinewidth\": 0, \"ticks\": \"\"}}, \"type\": \"scatterpolar\"}], \"scatterpolargl\": [{\"marker\": {\"colorbar\": {\"outlinewidth\": 0, \"ticks\": \"\"}}, \"type\": \"scatterpolargl\"}], \"scatterternary\": [{\"marker\": {\"colorbar\": {\"outlinewidth\": 0, \"ticks\": \"\"}}, \"type\": \"scatterternary\"}], \"surface\": [{\"colorbar\": {\"outlinewidth\": 0, \"ticks\": \"\"}, \"colorscale\": [[0.0, \"#0d0887\"], [0.1111111111111111, \"#46039f\"], [0.2222222222222222, \"#7201a8\"], [0.3333333333333333, \"#9c179e\"], [0.4444444444444444, \"#bd3786\"], [0.5555555555555556, \"#d8576b\"], [0.6666666666666666, \"#ed7953\"], [0.7777777777777778, \"#fb9f3a\"], [0.8888888888888888, \"#fdca26\"], [1.0, \"#f0f921\"]], \"type\": \"surface\"}], \"table\": [{\"cells\": {\"fill\": {\"color\": \"#EBF0F8\"}, \"line\": {\"color\": \"white\"}}, \"header\": {\"fill\": {\"color\": \"#C8D4E3\"}, \"line\": {\"color\": \"white\"}}, \"type\": \"table\"}]}, \"layout\": {\"annotationdefaults\": {\"arrowcolor\": \"#2a3f5f\", \"arrowhead\": 0, \"arrowwidth\": 1}, \"coloraxis\": {\"colorbar\": {\"outlinewidth\": 0, \"ticks\": \"\"}}, \"colorscale\": {\"diverging\": [[0, \"#8e0152\"], [0.1, \"#c51b7d\"], [0.2, \"#de77ae\"], [0.3, \"#f1b6da\"], [0.4, \"#fde0ef\"], [0.5, \"#f7f7f7\"], [0.6, \"#e6f5d0\"], [0.7, \"#b8e186\"], [0.8, \"#7fbc41\"], [0.9, \"#4d9221\"], [1, \"#276419\"]], \"sequential\": [[0.0, \"#0d0887\"], [0.1111111111111111, \"#46039f\"], [0.2222222222222222, \"#7201a8\"], [0.3333333333333333, \"#9c179e\"], [0.4444444444444444, \"#bd3786\"], [0.5555555555555556, \"#d8576b\"], [0.6666666666666666, \"#ed7953\"], [0.7777777777777778, \"#fb9f3a\"], [0.8888888888888888, \"#fdca26\"], [1.0, \"#f0f921\"]], \"sequentialminus\": [[0.0, \"#0d0887\"], [0.1111111111111111, \"#46039f\"], [0.2222222222222222, \"#7201a8\"], [0.3333333333333333, \"#9c179e\"], [0.4444444444444444, \"#bd3786\"], [0.5555555555555556, \"#d8576b\"], [0.6666666666666666, \"#ed7953\"], [0.7777777777777778, \"#fb9f3a\"], [0.8888888888888888, \"#fdca26\"], [1.0, \"#f0f921\"]]}, \"colorway\": [\"#636efa\", \"#EF553B\", \"#00cc96\", \"#ab63fa\", \"#FFA15A\", \"#19d3f3\", \"#FF6692\", \"#B6E880\", \"#FF97FF\", \"#FECB52\"], \"font\": {\"color\": \"#2a3f5f\"}, \"geo\": {\"bgcolor\": \"white\", \"lakecolor\": \"white\", \"landcolor\": \"#E5ECF6\", \"showlakes\": true, \"showland\": true, \"subunitcolor\": \"white\"}, \"hoverlabel\": {\"align\": \"left\"}, \"hovermode\": \"closest\", \"mapbox\": {\"style\": \"light\"}, \"paper_bgcolor\": \"white\", \"plot_bgcolor\": \"#E5ECF6\", \"polar\": {\"angularaxis\": {\"gridcolor\": \"white\", \"linecolor\": \"white\", \"ticks\": \"\"}, \"bgcolor\": \"#E5ECF6\", \"radialaxis\": {\"gridcolor\": \"white\", \"linecolor\": \"white\", \"ticks\": \"\"}}, \"scene\": {\"xaxis\": {\"backgroundcolor\": \"#E5ECF6\", \"gridcolor\": \"white\", \"gridwidth\": 2, \"linecolor\": \"white\", \"showbackground\": true, \"ticks\": \"\", \"zerolinecolor\": \"white\"}, \"yaxis\": {\"backgroundcolor\": \"#E5ECF6\", \"gridcolor\": \"white\", \"gridwidth\": 2, \"linecolor\": \"white\", \"showbackground\": true, \"ticks\": \"\", \"zerolinecolor\": \"white\"}, \"zaxis\": {\"backgroundcolor\": \"#E5ECF6\", \"gridcolor\": \"white\", \"gridwidth\": 2, \"linecolor\": \"white\", \"showbackground\": true, \"ticks\": \"\", \"zerolinecolor\": \"white\"}}, \"shapedefaults\": {\"line\": {\"color\": \"#2a3f5f\"}}, \"ternary\": {\"aaxis\": {\"gridcolor\": \"white\", \"linecolor\": \"white\", \"ticks\": \"\"}, \"baxis\": {\"gridcolor\": \"white\", \"linecolor\": \"white\", \"ticks\": \"\"}, \"bgcolor\": \"#E5ECF6\", \"caxis\": {\"gridcolor\": \"white\", \"linecolor\": \"white\", \"ticks\": \"\"}}, \"title\": {\"x\": 0.05}, \"xaxis\": {\"automargin\": true, \"gridcolor\": \"white\", \"linecolor\": \"white\", \"ticks\": \"\", \"title\": {\"standoff\": 15}, \"zerolinecolor\": \"white\", \"zerolinewidth\": 2}, \"yaxis\": {\"automargin\": true, \"gridcolor\": \"white\", \"linecolor\": \"white\", \"ticks\": \"\", \"title\": {\"standoff\": 15}, \"zerolinecolor\": \"white\", \"zerolinewidth\": 2}}}, \"title\": {\"text\": \"Total bookValue on industry sectors\"}},\n",
       "                        {\"responsive\": true}\n",
       "                    ).then(function(){\n",
       "                            \n",
       "var gd = document.getElementById('4f7ca54e-a746-48dd-ac4d-b62b9ddc2155');\n",
       "var x = new MutationObserver(function (mutations, observer) {{\n",
       "        var display = window.getComputedStyle(gd).display;\n",
       "        if (!display || display === 'none') {{\n",
       "            console.log([gd, 'removed!']);\n",
       "            Plotly.purge(gd);\n",
       "            observer.disconnect();\n",
       "        }}\n",
       "}});\n",
       "\n",
       "// Listen for the removal of the full notebook cells\n",
       "var notebookContainer = gd.closest('#notebook-container');\n",
       "if (notebookContainer) {{\n",
       "    x.observe(notebookContainer, {childList: true});\n",
       "}}\n",
       "\n",
       "// Listen for the clearing of the current output cell\n",
       "var outputEl = gd.closest('.output');\n",
       "if (outputEl) {{\n",
       "    x.observe(outputEl, {childList: true});\n",
       "}}\n",
       "\n",
       "                        })\n",
       "                };\n",
       "                });\n",
       "            </script>\n",
       "        </div>"
      ]
     },
     "metadata": {},
     "output_type": "display_data"
    }
   ],
   "source": [
    "pie(column = 'bookValue',data_type='total')"
   ]
  },
  {
   "cell_type": "code",
   "execution_count": 153,
   "metadata": {},
   "outputs": [
    {
     "data": {
      "image/png": "[encoded data removed]",
      "text/plain": [
       "<Figure size 576x576 with 1 Axes>"
      ]
     },
     "metadata": {},
     "output_type": "display_data"
    }
   ],
   "source": [
    "bar('52WeekChange')"
   ]
  },
  {
   "cell_type": "code",
   "execution_count": 154,
   "metadata": {},
   "outputs": [
    {
     "data": {
      "image/png": "[encoded data removed]",
      "text/plain": [
       "<Figure size 576x576 with 1 Axes>"
      ]
     },
     "metadata": {},
     "output_type": "display_data"
    }
   ],
   "source": [
    "bar('earningsQuarterlyGrowth')"
   ]
  },
  {
   "cell_type": "code",
   "execution_count": 155,
   "metadata": {},
   "outputs": [
    {
     "data": {
      "image/png": "[encoded data removed]",
      "text/plain": [
       "<Figure size 576x576 with 1 Axes>"
      ]
     },
     "metadata": {},
     "output_type": "display_data"
    }
   ],
   "source": [
    "bar('heldPercentInstitutions')"
   ]
  },
  {
   "cell_type": "code",
   "execution_count": null,
   "metadata": {},
   "outputs": [],
   "source": []
  }
 ],
 "metadata": {
  "kernelspec": {
   "display_name": "Python 3",
   "language": "python",
   "name": "python3"
  },
  "language_info": {
   "codemirror_mode": {
    "name": "ipython",
    "version": 3
   },
   "file_extension": ".py",
   "mimetype": "text/x-python",
   "name": "python",
   "nbconvert_exporter": "python",
   "pygments_lexer": "ipython3",
   "version": "3.5.6"
  }
 },
 "nbformat": 4,
 "nbformat_minor": 2
}
