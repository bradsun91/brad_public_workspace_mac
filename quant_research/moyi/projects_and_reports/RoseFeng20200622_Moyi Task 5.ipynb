{
 "cells": [
  {
   "cell_type": "code",
   "execution_count": 1,
   "metadata": {},
   "outputs": [],
   "source": [
    "# 1. Find tickers of current S&P 500 companies"
   ]
  },
  {
   "cell_type": "code",
   "execution_count": 1,
   "metadata": {},
   "outputs": [],
   "source": [
    "import pandas as pd\n",
    "import numpy as np\n",
    "import os\n",
    "os.getcwd()\n",
    "os.chdir(\"/Users/rosefeng/Desktop\")"
   ]
  },
  {
   "cell_type": "code",
   "execution_count": 2,
   "metadata": {},
   "outputs": [
    {
     "data": {
      "text/html": [
       "<div>\n",
       "<style scoped>\n",
       "    .dataframe tbody tr th:only-of-type {\n",
       "        vertical-align: middle;\n",
       "    }\n",
       "\n",
       "    .dataframe tbody tr th {\n",
       "        vertical-align: top;\n",
       "    }\n",
       "\n",
       "    .dataframe thead th {\n",
       "        text-align: right;\n",
       "    }\n",
       "</style>\n",
       "<table border=\"1\" class=\"dataframe\">\n",
       "  <thead>\n",
       "    <tr style=\"text-align: right;\">\n",
       "      <th></th>\n",
       "      <th>Symbol</th>\n",
       "      <th>Security</th>\n",
       "      <th>SEC filings</th>\n",
       "      <th>GICS Sector</th>\n",
       "      <th>GICS Sub Industry</th>\n",
       "      <th>Headquarters Location</th>\n",
       "      <th>Date first added</th>\n",
       "      <th>CIK</th>\n",
       "      <th>Founded</th>\n",
       "    </tr>\n",
       "  </thead>\n",
       "  <tbody>\n",
       "    <tr>\n",
       "      <th>0</th>\n",
       "      <td>MMM</td>\n",
       "      <td>3M Company</td>\n",
       "      <td>reports</td>\n",
       "      <td>Industrials</td>\n",
       "      <td>Industrial Conglomerates</td>\n",
       "      <td>St. Paul, Minnesota</td>\n",
       "      <td>1976-08-09</td>\n",
       "      <td>66740</td>\n",
       "      <td>1902</td>\n",
       "    </tr>\n",
       "    <tr>\n",
       "      <th>1</th>\n",
       "      <td>ABT</td>\n",
       "      <td>Abbott Laboratories</td>\n",
       "      <td>reports</td>\n",
       "      <td>Health Care</td>\n",
       "      <td>Health Care Equipment</td>\n",
       "      <td>North Chicago, Illinois</td>\n",
       "      <td>1964-03-31</td>\n",
       "      <td>1800</td>\n",
       "      <td>1888</td>\n",
       "    </tr>\n",
       "    <tr>\n",
       "      <th>2</th>\n",
       "      <td>ABBV</td>\n",
       "      <td>AbbVie Inc.</td>\n",
       "      <td>reports</td>\n",
       "      <td>Health Care</td>\n",
       "      <td>Pharmaceuticals</td>\n",
       "      <td>North Chicago, Illinois</td>\n",
       "      <td>2012-12-31</td>\n",
       "      <td>1551152</td>\n",
       "      <td>2013 (1888)</td>\n",
       "    </tr>\n",
       "    <tr>\n",
       "      <th>3</th>\n",
       "      <td>ABMD</td>\n",
       "      <td>ABIOMED Inc</td>\n",
       "      <td>reports</td>\n",
       "      <td>Health Care</td>\n",
       "      <td>Health Care Equipment</td>\n",
       "      <td>Danvers, Massachusetts</td>\n",
       "      <td>2018-05-31</td>\n",
       "      <td>815094</td>\n",
       "      <td>1981</td>\n",
       "    </tr>\n",
       "    <tr>\n",
       "      <th>4</th>\n",
       "      <td>ACN</td>\n",
       "      <td>Accenture plc</td>\n",
       "      <td>reports</td>\n",
       "      <td>Information Technology</td>\n",
       "      <td>IT Consulting &amp; Other Services</td>\n",
       "      <td>Dublin, Ireland</td>\n",
       "      <td>2011-07-06</td>\n",
       "      <td>1467373</td>\n",
       "      <td>1989</td>\n",
       "    </tr>\n",
       "  </tbody>\n",
       "</table>\n",
       "</div>"
      ],
      "text/plain": [
       "  Symbol             Security SEC filings             GICS Sector  \\\n",
       "0    MMM           3M Company     reports             Industrials   \n",
       "1    ABT  Abbott Laboratories     reports             Health Care   \n",
       "2   ABBV          AbbVie Inc.     reports             Health Care   \n",
       "3   ABMD          ABIOMED Inc     reports             Health Care   \n",
       "4    ACN        Accenture plc     reports  Information Technology   \n",
       "\n",
       "                GICS Sub Industry    Headquarters Location Date first added  \\\n",
       "0        Industrial Conglomerates      St. Paul, Minnesota       1976-08-09   \n",
       "1           Health Care Equipment  North Chicago, Illinois       1964-03-31   \n",
       "2                 Pharmaceuticals  North Chicago, Illinois       2012-12-31   \n",
       "3           Health Care Equipment   Danvers, Massachusetts       2018-05-31   \n",
       "4  IT Consulting & Other Services          Dublin, Ireland       2011-07-06   \n",
       "\n",
       "       CIK      Founded  \n",
       "0    66740         1902  \n",
       "1     1800         1888  \n",
       "2  1551152  2013 (1888)  \n",
       "3   815094         1981  \n",
       "4  1467373         1989  "
      ]
     },
     "execution_count": 2,
     "metadata": {},
     "output_type": "execute_result"
    }
   ],
   "source": [
    "data = pd.read_html('https://en.wikipedia.org/wiki/List_of_S%26P_500_companies')\n",
    "df1=data[0]\n",
    "df1.head()"
   ]
  },
  {
   "cell_type": "code",
   "execution_count": 3,
   "metadata": {
    "scrolled": true
   },
   "outputs": [
    {
     "data": {
      "text/html": [
       "<div>\n",
       "<style scoped>\n",
       "    .dataframe tbody tr th:only-of-type {\n",
       "        vertical-align: middle;\n",
       "    }\n",
       "\n",
       "    .dataframe tbody tr th {\n",
       "        vertical-align: top;\n",
       "    }\n",
       "\n",
       "    .dataframe thead th {\n",
       "        text-align: right;\n",
       "    }\n",
       "</style>\n",
       "<table border=\"1\" class=\"dataframe\">\n",
       "  <thead>\n",
       "    <tr style=\"text-align: right;\">\n",
       "      <th></th>\n",
       "      <th>Ticker</th>\n",
       "      <th>Name</th>\n",
       "      <th>Price</th>\n",
       "      <th>Dividend Yield</th>\n",
       "      <th>Market Cap</th>\n",
       "      <th>Forward P/E Ratio</th>\n",
       "      <th>Payout Ratio</th>\n",
       "      <th>Beta</th>\n",
       "    </tr>\n",
       "  </thead>\n",
       "  <tbody>\n",
       "    <tr>\n",
       "      <th>0</th>\n",
       "      <td>DXCM</td>\n",
       "      <td>DexCom, Inc.</td>\n",
       "      <td>362.675</td>\n",
       "      <td>NaN</td>\n",
       "      <td>35551.191000</td>\n",
       "      <td>224.56</td>\n",
       "      <td>NaN</td>\n",
       "      <td>0.766735</td>\n",
       "    </tr>\n",
       "    <tr>\n",
       "      <th>1</th>\n",
       "      <td>WST</td>\n",
       "      <td>West Pharmaceutical Services, Inc.</td>\n",
       "      <td>203.770</td>\n",
       "      <td>0.002960</td>\n",
       "      <td>15667.700314</td>\n",
       "      <td>57.80</td>\n",
       "      <td>0.178703</td>\n",
       "      <td>0.712398</td>\n",
       "    </tr>\n",
       "    <tr>\n",
       "      <th>2</th>\n",
       "      <td>DPZ</td>\n",
       "      <td>Domino's Pizza, Inc.</td>\n",
       "      <td>382.790</td>\n",
       "      <td>0.006959</td>\n",
       "      <td>15348.053900</td>\n",
       "      <td>35.75</td>\n",
       "      <td>0.254969</td>\n",
       "      <td>0.442651</td>\n",
       "    </tr>\n",
       "    <tr>\n",
       "      <th>3</th>\n",
       "      <td>RTX</td>\n",
       "      <td>Raytheon Technologies Corp.</td>\n",
       "      <td>62.850</td>\n",
       "      <td>0.043008</td>\n",
       "      <td>59211.039400</td>\n",
       "      <td>13.09</td>\n",
       "      <td>0.612360</td>\n",
       "      <td>1.250260</td>\n",
       "    </tr>\n",
       "    <tr>\n",
       "      <th>4</th>\n",
       "      <td>OTIS</td>\n",
       "      <td>Otis Worldwide Corp.</td>\n",
       "      <td>56.250</td>\n",
       "      <td>0.003388</td>\n",
       "      <td>25564.653370</td>\n",
       "      <td>NaN</td>\n",
       "      <td>NaN</td>\n",
       "      <td>0.116298</td>\n",
       "    </tr>\n",
       "  </tbody>\n",
       "</table>\n",
       "</div>"
      ],
      "text/plain": [
       "  Ticker                                Name    Price  Dividend Yield  \\\n",
       "0   DXCM                        DexCom, Inc.  362.675             NaN   \n",
       "1    WST  West Pharmaceutical Services, Inc.  203.770        0.002960   \n",
       "2    DPZ                Domino's Pizza, Inc.  382.790        0.006959   \n",
       "3    RTX         Raytheon Technologies Corp.   62.850        0.043008   \n",
       "4   OTIS                Otis Worldwide Corp.   56.250        0.003388   \n",
       "\n",
       "     Market Cap  Forward P/E Ratio  Payout Ratio      Beta  \n",
       "0  35551.191000             224.56           NaN  0.766735  \n",
       "1  15667.700314              57.80      0.178703  0.712398  \n",
       "2  15348.053900              35.75      0.254969  0.442651  \n",
       "3  59211.039400              13.09      0.612360  1.250260  \n",
       "4  25564.653370                NaN           NaN  0.116298  "
      ]
     },
     "execution_count": 3,
     "metadata": {},
     "output_type": "execute_result"
    }
   ],
   "source": [
    "df2 = pd.read_excel('SP_500.xlsx')\n",
    "df2.head()"
   ]
  },
  {
   "cell_type": "code",
   "execution_count": 4,
   "metadata": {},
   "outputs": [],
   "source": [
    "# Merge two tables to show the sector column and the market capitalization colum"
   ]
  },
  {
   "cell_type": "code",
   "execution_count": 5,
   "metadata": {
    "scrolled": true
   },
   "outputs": [
    {
     "data": {
      "text/html": [
       "<div>\n",
       "<style scoped>\n",
       "    .dataframe tbody tr th:only-of-type {\n",
       "        vertical-align: middle;\n",
       "    }\n",
       "\n",
       "    .dataframe tbody tr th {\n",
       "        vertical-align: top;\n",
       "    }\n",
       "\n",
       "    .dataframe thead th {\n",
       "        text-align: right;\n",
       "    }\n",
       "</style>\n",
       "<table border=\"1\" class=\"dataframe\">\n",
       "  <thead>\n",
       "    <tr style=\"text-align: right;\">\n",
       "      <th></th>\n",
       "      <th>Symbol</th>\n",
       "      <th>Security</th>\n",
       "      <th>GICS Sector</th>\n",
       "      <th>Price</th>\n",
       "      <th>Dividend Yield</th>\n",
       "      <th>Market Cap</th>\n",
       "      <th>Forward P/E Ratio</th>\n",
       "      <th>Payout Ratio</th>\n",
       "      <th>Beta</th>\n",
       "    </tr>\n",
       "  </thead>\n",
       "  <tbody>\n",
       "    <tr>\n",
       "      <th>0</th>\n",
       "      <td>MMM</td>\n",
       "      <td>3M Company</td>\n",
       "      <td>Industrials</td>\n",
       "      <td>152.380</td>\n",
       "      <td>0.035326</td>\n",
       "      <td>9.427462e+04</td>\n",
       "      <td>17.68</td>\n",
       "      <td>0.671912</td>\n",
       "      <td>0.891983</td>\n",
       "    </tr>\n",
       "    <tr>\n",
       "      <th>1</th>\n",
       "      <td>ABT</td>\n",
       "      <td>Abbott Laboratories</td>\n",
       "      <td>Health Care</td>\n",
       "      <td>87.780</td>\n",
       "      <td>0.014757</td>\n",
       "      <td>1.630172e+05</td>\n",
       "      <td>43.50</td>\n",
       "      <td>0.673935</td>\n",
       "      <td>0.910047</td>\n",
       "    </tr>\n",
       "    <tr>\n",
       "      <th>2</th>\n",
       "      <td>ABBV</td>\n",
       "      <td>AbbVie Inc.</td>\n",
       "      <td>Health Care</td>\n",
       "      <td>92.260</td>\n",
       "      <td>0.046440</td>\n",
       "      <td>1.707707e+05</td>\n",
       "      <td>16.28</td>\n",
       "      <td>0.793819</td>\n",
       "      <td>0.760971</td>\n",
       "    </tr>\n",
       "    <tr>\n",
       "      <th>3</th>\n",
       "      <td>ABMD</td>\n",
       "      <td>ABIOMED Inc</td>\n",
       "      <td>Health Care</td>\n",
       "      <td>235.445</td>\n",
       "      <td>NaN</td>\n",
       "      <td>1.127746e+04</td>\n",
       "      <td>52.42</td>\n",
       "      <td>NaN</td>\n",
       "      <td>0.629920</td>\n",
       "    </tr>\n",
       "    <tr>\n",
       "      <th>4</th>\n",
       "      <td>ACN</td>\n",
       "      <td>Accenture plc</td>\n",
       "      <td>Information Technology</td>\n",
       "      <td>195.950</td>\n",
       "      <td>0.014611</td>\n",
       "      <td>1.334126e+05</td>\n",
       "      <td>25.11</td>\n",
       "      <td>0.392061</td>\n",
       "      <td>1.078378</td>\n",
       "    </tr>\n",
       "    <tr>\n",
       "      <th>5</th>\n",
       "      <td>ATVI</td>\n",
       "      <td>Activision Blizzard</td>\n",
       "      <td>Communication Services</td>\n",
       "      <td>71.295</td>\n",
       "      <td>0.005012</td>\n",
       "      <td>5.687728e+04</td>\n",
       "      <td>35.00</td>\n",
       "      <td>0.181702</td>\n",
       "      <td>0.662195</td>\n",
       "    </tr>\n",
       "    <tr>\n",
       "      <th>6</th>\n",
       "      <td>ADBE</td>\n",
       "      <td>Adobe Inc.</td>\n",
       "      <td>Information Technology</td>\n",
       "      <td>387.750</td>\n",
       "      <td>NaN</td>\n",
       "      <td>1.960063e+05</td>\n",
       "      <td>58.10</td>\n",
       "      <td>NaN</td>\n",
       "      <td>1.106735</td>\n",
       "    </tr>\n",
       "    <tr>\n",
       "      <th>7</th>\n",
       "      <td>AMD</td>\n",
       "      <td>Advanced Micro Devices Inc</td>\n",
       "      <td>Information Technology</td>\n",
       "      <td>52.820</td>\n",
       "      <td>NaN</td>\n",
       "      <td>6.727315e+04</td>\n",
       "      <td>123.06</td>\n",
       "      <td>NaN</td>\n",
       "      <td>1.250638</td>\n",
       "    </tr>\n",
       "    <tr>\n",
       "      <th>8</th>\n",
       "      <td>AAP</td>\n",
       "      <td>Advance Auto Parts</td>\n",
       "      <td>Consumer Discretionary</td>\n",
       "      <td>133.130</td>\n",
       "      <td>0.003063</td>\n",
       "      <td>9.700426e+03</td>\n",
       "      <td>24.15</td>\n",
       "      <td>0.078014</td>\n",
       "      <td>1.014977</td>\n",
       "    </tr>\n",
       "    <tr>\n",
       "      <th>9</th>\n",
       "      <td>AES</td>\n",
       "      <td>AES Corp</td>\n",
       "      <td>Utilities</td>\n",
       "      <td>12.200</td>\n",
       "      <td>0.042491</td>\n",
       "      <td>8.756838e+03</td>\n",
       "      <td>27.74</td>\n",
       "      <td>1.272397</td>\n",
       "      <td>1.211172</td>\n",
       "    </tr>\n",
       "    <tr>\n",
       "      <th>10</th>\n",
       "      <td>AFL</td>\n",
       "      <td>AFLAC Inc</td>\n",
       "      <td>Financials</td>\n",
       "      <td>35.660</td>\n",
       "      <td>0.027884</td>\n",
       "      <td>2.804739e+04</td>\n",
       "      <td>8.92</td>\n",
       "      <td>0.272745</td>\n",
       "      <td>1.267577</td>\n",
       "    </tr>\n",
       "    <tr>\n",
       "      <th>11</th>\n",
       "      <td>A</td>\n",
       "      <td>Agilent Technologies Inc</td>\n",
       "      <td>Health Care</td>\n",
       "      <td>85.030</td>\n",
       "      <td>0.007661</td>\n",
       "      <td>2.773126e+04</td>\n",
       "      <td>38.61</td>\n",
       "      <td>0.312386</td>\n",
       "      <td>0.942848</td>\n",
       "    </tr>\n",
       "    <tr>\n",
       "      <th>12</th>\n",
       "      <td>APD</td>\n",
       "      <td>Air Products &amp; Chemicals Inc</td>\n",
       "      <td>Materials</td>\n",
       "      <td>233.080</td>\n",
       "      <td>0.019446</td>\n",
       "      <td>5.474112e+04</td>\n",
       "      <td>26.28</td>\n",
       "      <td>0.543546</td>\n",
       "      <td>1.075630</td>\n",
       "    </tr>\n",
       "    <tr>\n",
       "      <th>13</th>\n",
       "      <td>AKAM</td>\n",
       "      <td>Akamai Technologies Inc</td>\n",
       "      <td>Information Technology</td>\n",
       "      <td>100.510</td>\n",
       "      <td>NaN</td>\n",
       "      <td>1.685215e+04</td>\n",
       "      <td>32.99</td>\n",
       "      <td>NaN</td>\n",
       "      <td>0.627345</td>\n",
       "    </tr>\n",
       "    <tr>\n",
       "      <th>14</th>\n",
       "      <td>ALK</td>\n",
       "      <td>Alaska Air Group Inc</td>\n",
       "      <td>Industrials</td>\n",
       "      <td>35.590</td>\n",
       "      <td>0.034354</td>\n",
       "      <td>5.084826e+03</td>\n",
       "      <td>8.25</td>\n",
       "      <td>0.330182</td>\n",
       "      <td>1.452063</td>\n",
       "    </tr>\n",
       "    <tr>\n",
       "      <th>15</th>\n",
       "      <td>ALB</td>\n",
       "      <td>Albemarle Corp</td>\n",
       "      <td>Materials</td>\n",
       "      <td>74.520</td>\n",
       "      <td>0.017738</td>\n",
       "      <td>8.915911e+03</td>\n",
       "      <td>15.59</td>\n",
       "      <td>0.311205</td>\n",
       "      <td>1.215697</td>\n",
       "    </tr>\n",
       "    <tr>\n",
       "      <th>16</th>\n",
       "      <td>ARE</td>\n",
       "      <td>Alexandria Real Estate Equities</td>\n",
       "      <td>Real Estate</td>\n",
       "      <td>152.390</td>\n",
       "      <td>0.025709</td>\n",
       "      <td>1.992871e+04</td>\n",
       "      <td>71.61</td>\n",
       "      <td>1.907805</td>\n",
       "      <td>1.046996</td>\n",
       "    </tr>\n",
       "    <tr>\n",
       "      <th>17</th>\n",
       "      <td>ALXN</td>\n",
       "      <td>Alexion Pharmaceuticals</td>\n",
       "      <td>Health Care</td>\n",
       "      <td>109.710</td>\n",
       "      <td>NaN</td>\n",
       "      <td>2.568880e+04</td>\n",
       "      <td>10.28</td>\n",
       "      <td>NaN</td>\n",
       "      <td>0.760263</td>\n",
       "    </tr>\n",
       "    <tr>\n",
       "      <th>18</th>\n",
       "      <td>ALGN</td>\n",
       "      <td>Align Technology</td>\n",
       "      <td>Health Care</td>\n",
       "      <td>238.275</td>\n",
       "      <td>NaN</td>\n",
       "      <td>2.107383e+04</td>\n",
       "      <td>9.93</td>\n",
       "      <td>NaN</td>\n",
       "      <td>1.418681</td>\n",
       "    </tr>\n",
       "    <tr>\n",
       "      <th>19</th>\n",
       "      <td>ALLE</td>\n",
       "      <td>Allegion</td>\n",
       "      <td>Industrials</td>\n",
       "      <td>101.560</td>\n",
       "      <td>0.010365</td>\n",
       "      <td>1.005385e+04</td>\n",
       "      <td>29.45</td>\n",
       "      <td>0.327660</td>\n",
       "      <td>1.082675</td>\n",
       "    </tr>\n",
       "    <tr>\n",
       "      <th>20</th>\n",
       "      <td>ADS</td>\n",
       "      <td>Alliance Data Systems</td>\n",
       "      <td>Information Technology</td>\n",
       "      <td>47.570</td>\n",
       "      <td>0.044562</td>\n",
       "      <td>2.693307e+03</td>\n",
       "      <td>-6.26</td>\n",
       "      <td>-0.331448</td>\n",
       "      <td>1.664234</td>\n",
       "    </tr>\n",
       "    <tr>\n",
       "      <th>21</th>\n",
       "      <td>LNT</td>\n",
       "      <td>Alliant Energy Corp</td>\n",
       "      <td>Utilities</td>\n",
       "      <td>48.760</td>\n",
       "      <td>0.028490</td>\n",
       "      <td>1.265484e+04</td>\n",
       "      <td>19.46</td>\n",
       "      <td>0.577584</td>\n",
       "      <td>0.859147</td>\n",
       "    </tr>\n",
       "    <tr>\n",
       "      <th>22</th>\n",
       "      <td>ALL</td>\n",
       "      <td>Allstate Corp</td>\n",
       "      <td>Financials</td>\n",
       "      <td>94.790</td>\n",
       "      <td>0.020004</td>\n",
       "      <td>3.203355e+04</td>\n",
       "      <td>7.82</td>\n",
       "      <td>0.168292</td>\n",
       "      <td>1.086823</td>\n",
       "    </tr>\n",
       "    <tr>\n",
       "      <th>23</th>\n",
       "      <td>GOOGL</td>\n",
       "      <td>Alphabet Inc. (Class A)</td>\n",
       "      <td>Communication Services</td>\n",
       "      <td>1401.440</td>\n",
       "      <td>NaN</td>\n",
       "      <td>9.998328e+05</td>\n",
       "      <td>28.05</td>\n",
       "      <td>NaN</td>\n",
       "      <td>0.965786</td>\n",
       "    </tr>\n",
       "    <tr>\n",
       "      <th>24</th>\n",
       "      <td>GOOG</td>\n",
       "      <td>Alphabet Inc. (Class C)</td>\n",
       "      <td>Communication Services</td>\n",
       "      <td>1404.450</td>\n",
       "      <td>NaN</td>\n",
       "      <td>1.000618e+06</td>\n",
       "      <td>28.08</td>\n",
       "      <td>NaN</td>\n",
       "      <td>0.955900</td>\n",
       "    </tr>\n",
       "    <tr>\n",
       "      <th>25</th>\n",
       "      <td>MO</td>\n",
       "      <td>Altria Group Inc</td>\n",
       "      <td>Consumer Staples</td>\n",
       "      <td>39.290</td>\n",
       "      <td>0.079388</td>\n",
       "      <td>7.771703e+04</td>\n",
       "      <td>-83.90</td>\n",
       "      <td>-7.089473</td>\n",
       "      <td>0.725099</td>\n",
       "    </tr>\n",
       "    <tr>\n",
       "      <th>26</th>\n",
       "      <td>AMZN</td>\n",
       "      <td>Amazon.com Inc.</td>\n",
       "      <td>Consumer Discretionary</td>\n",
       "      <td>2556.695</td>\n",
       "      <td>NaN</td>\n",
       "      <td>1.320485e+06</td>\n",
       "      <td>120.01</td>\n",
       "      <td>NaN</td>\n",
       "      <td>0.641642</td>\n",
       "    </tr>\n",
       "    <tr>\n",
       "      <th>27</th>\n",
       "      <td>AMCR</td>\n",
       "      <td>Amcor plc</td>\n",
       "      <td>Materials</td>\n",
       "      <td>9.190</td>\n",
       "      <td>0.047352</td>\n",
       "      <td>1.546100e+04</td>\n",
       "      <td>29.24</td>\n",
       "      <td>1.479478</td>\n",
       "      <td>0.994736</td>\n",
       "    </tr>\n",
       "    <tr>\n",
       "      <th>28</th>\n",
       "      <td>AEE</td>\n",
       "      <td>Ameren Corp</td>\n",
       "      <td>Utilities</td>\n",
       "      <td>71.840</td>\n",
       "      <td>0.025915</td>\n",
       "      <td>1.848226e+04</td>\n",
       "      <td>22.56</td>\n",
       "      <td>0.609335</td>\n",
       "      <td>0.965018</td>\n",
       "    </tr>\n",
       "    <tr>\n",
       "      <th>29</th>\n",
       "      <td>AAL</td>\n",
       "      <td>American Airlines Group</td>\n",
       "      <td>Industrials</td>\n",
       "      <td>14.405</td>\n",
       "      <td>0.023502</td>\n",
       "      <td>7.197673e+03</td>\n",
       "      <td>-7.73</td>\n",
       "      <td>-0.215088</td>\n",
       "      <td>1.365857</td>\n",
       "    </tr>\n",
       "    <tr>\n",
       "      <th>...</th>\n",
       "      <td>...</td>\n",
       "      <td>...</td>\n",
       "      <td>...</td>\n",
       "      <td>...</td>\n",
       "      <td>...</td>\n",
       "      <td>...</td>\n",
       "      <td>...</td>\n",
       "      <td>...</td>\n",
       "      <td>...</td>\n",
       "    </tr>\n",
       "    <tr>\n",
       "      <th>475</th>\n",
       "      <td>VNO</td>\n",
       "      <td>Vornado Realty Trust</td>\n",
       "      <td>Real Estate</td>\n",
       "      <td>38.860</td>\n",
       "      <td>0.108536</td>\n",
       "      <td>8.081788e+03</td>\n",
       "      <td>2.54</td>\n",
       "      <td>0.299816</td>\n",
       "      <td>1.299415</td>\n",
       "    </tr>\n",
       "    <tr>\n",
       "      <th>476</th>\n",
       "      <td>VMC</td>\n",
       "      <td>Vulcan Materials</td>\n",
       "      <td>Materials</td>\n",
       "      <td>109.090</td>\n",
       "      <td>0.010942</td>\n",
       "      <td>1.537161e+04</td>\n",
       "      <td>23.50</td>\n",
       "      <td>0.273565</td>\n",
       "      <td>0.900944</td>\n",
       "    </tr>\n",
       "    <tr>\n",
       "      <th>477</th>\n",
       "      <td>WRB</td>\n",
       "      <td>W. R. Berkley Corporation</td>\n",
       "      <td>Financials</td>\n",
       "      <td>56.050</td>\n",
       "      <td>0.007320</td>\n",
       "      <td>1.074310e+04</td>\n",
       "      <td>21.52</td>\n",
       "      <td>0.168958</td>\n",
       "      <td>1.177579</td>\n",
       "    </tr>\n",
       "    <tr>\n",
       "      <th>478</th>\n",
       "      <td>WAB</td>\n",
       "      <td>Wabtec Corporation</td>\n",
       "      <td>Industrials</td>\n",
       "      <td>60.000</td>\n",
       "      <td>0.007361</td>\n",
       "      <td>1.240875e+04</td>\n",
       "      <td>25.48</td>\n",
       "      <td>0.203830</td>\n",
       "      <td>1.177701</td>\n",
       "    </tr>\n",
       "    <tr>\n",
       "      <th>479</th>\n",
       "      <td>WMT</td>\n",
       "      <td>Walmart</td>\n",
       "      <td>Consumer Staples</td>\n",
       "      <td>120.090</td>\n",
       "      <td>0.017580</td>\n",
       "      <td>3.431191e+05</td>\n",
       "      <td>22.70</td>\n",
       "      <td>0.402540</td>\n",
       "      <td>0.544299</td>\n",
       "    </tr>\n",
       "    <tr>\n",
       "      <th>480</th>\n",
       "      <td>WBA</td>\n",
       "      <td>Walgreens Boots Alliance</td>\n",
       "      <td>Consumer Staples</td>\n",
       "      <td>40.760</td>\n",
       "      <td>0.040933</td>\n",
       "      <td>3.884330e+04</td>\n",
       "      <td>10.45</td>\n",
       "      <td>0.464744</td>\n",
       "      <td>0.836634</td>\n",
       "    </tr>\n",
       "    <tr>\n",
       "      <th>481</th>\n",
       "      <td>DIS</td>\n",
       "      <td>The Walt Disney Company</td>\n",
       "      <td>Communication Services</td>\n",
       "      <td>112.640</td>\n",
       "      <td>0.014405</td>\n",
       "      <td>2.206901e+05</td>\n",
       "      <td>37.76</td>\n",
       "      <td>0.590069</td>\n",
       "      <td>1.078477</td>\n",
       "    </tr>\n",
       "    <tr>\n",
       "      <th>482</th>\n",
       "      <td>WM</td>\n",
       "      <td>Waste Management Inc.</td>\n",
       "      <td>Industrials</td>\n",
       "      <td>103.200</td>\n",
       "      <td>0.019048</td>\n",
       "      <td>4.613999e+04</td>\n",
       "      <td>25.99</td>\n",
       "      <td>0.524546</td>\n",
       "      <td>0.809583</td>\n",
       "    </tr>\n",
       "    <tr>\n",
       "      <th>483</th>\n",
       "      <td>WAT</td>\n",
       "      <td>Waters Corporation</td>\n",
       "      <td>Health Care</td>\n",
       "      <td>181.550</td>\n",
       "      <td>NaN</td>\n",
       "      <td>1.204496e+04</td>\n",
       "      <td>22.18</td>\n",
       "      <td>NaN</td>\n",
       "      <td>0.927593</td>\n",
       "    </tr>\n",
       "    <tr>\n",
       "      <th>484</th>\n",
       "      <td>WEC</td>\n",
       "      <td>WEC Energy Group</td>\n",
       "      <td>Utilities</td>\n",
       "      <td>91.330</td>\n",
       "      <td>0.025638</td>\n",
       "      <td>2.955941e+04</td>\n",
       "      <td>24.68</td>\n",
       "      <td>0.649166</td>\n",
       "      <td>0.825078</td>\n",
       "    </tr>\n",
       "    <tr>\n",
       "      <th>485</th>\n",
       "      <td>WFC</td>\n",
       "      <td>Wells Fargo</td>\n",
       "      <td>Financials</td>\n",
       "      <td>26.790</td>\n",
       "      <td>0.066644</td>\n",
       "      <td>1.218110e+05</td>\n",
       "      <td>9.40</td>\n",
       "      <td>0.694371</td>\n",
       "      <td>1.421748</td>\n",
       "    </tr>\n",
       "    <tr>\n",
       "      <th>486</th>\n",
       "      <td>WELL</td>\n",
       "      <td>Welltower Inc.</td>\n",
       "      <td>Real Estate</td>\n",
       "      <td>51.340</td>\n",
       "      <td>0.062399</td>\n",
       "      <td>2.328280e+04</td>\n",
       "      <td>49.77</td>\n",
       "      <td>3.373401</td>\n",
       "      <td>1.356610</td>\n",
       "    </tr>\n",
       "    <tr>\n",
       "      <th>487</th>\n",
       "      <td>WST</td>\n",
       "      <td>West Pharmaceutical Services</td>\n",
       "      <td>Health Care</td>\n",
       "      <td>203.770</td>\n",
       "      <td>0.002960</td>\n",
       "      <td>1.566770e+04</td>\n",
       "      <td>57.80</td>\n",
       "      <td>0.178703</td>\n",
       "      <td>0.712398</td>\n",
       "    </tr>\n",
       "    <tr>\n",
       "      <th>488</th>\n",
       "      <td>WDC</td>\n",
       "      <td>Western Digital</td>\n",
       "      <td>Information Technology</td>\n",
       "      <td>42.350</td>\n",
       "      <td>0.042689</td>\n",
       "      <td>1.404099e+04</td>\n",
       "      <td>-21.05</td>\n",
       "      <td>-0.993986</td>\n",
       "      <td>1.577958</td>\n",
       "    </tr>\n",
       "    <tr>\n",
       "      <th>489</th>\n",
       "      <td>WU</td>\n",
       "      <td>Western Union Co</td>\n",
       "      <td>Information Technology</td>\n",
       "      <td>22.500</td>\n",
       "      <td>0.034795</td>\n",
       "      <td>9.742558e+03</td>\n",
       "      <td>9.01</td>\n",
       "      <td>0.330264</td>\n",
       "      <td>0.886011</td>\n",
       "    </tr>\n",
       "    <tr>\n",
       "      <th>490</th>\n",
       "      <td>WRK</td>\n",
       "      <td>WestRock</td>\n",
       "      <td>Materials</td>\n",
       "      <td>27.640</td>\n",
       "      <td>0.060566</td>\n",
       "      <td>7.876167e+03</td>\n",
       "      <td>8.39</td>\n",
       "      <td>0.558388</td>\n",
       "      <td>1.453814</td>\n",
       "    </tr>\n",
       "    <tr>\n",
       "      <th>491</th>\n",
       "      <td>WY</td>\n",
       "      <td>Weyerhaeuser</td>\n",
       "      <td>Real Estate</td>\n",
       "      <td>20.670</td>\n",
       "      <td>0.059623</td>\n",
       "      <td>1.702096e+04</td>\n",
       "      <td>42.48</td>\n",
       "      <td>2.794903</td>\n",
       "      <td>1.756830</td>\n",
       "    </tr>\n",
       "    <tr>\n",
       "      <th>492</th>\n",
       "      <td>WHR</td>\n",
       "      <td>Whirlpool Corp.</td>\n",
       "      <td>Consumer Discretionary</td>\n",
       "      <td>122.480</td>\n",
       "      <td>0.035653</td>\n",
       "      <td>8.369018e+03</td>\n",
       "      <td>8.97</td>\n",
       "      <td>0.351669</td>\n",
       "      <td>1.457870</td>\n",
       "    </tr>\n",
       "    <tr>\n",
       "      <th>493</th>\n",
       "      <td>WMB</td>\n",
       "      <td>Williams Cos.</td>\n",
       "      <td>Energy</td>\n",
       "      <td>18.170</td>\n",
       "      <td>0.076465</td>\n",
       "      <td>2.443385e+04</td>\n",
       "      <td>162.67</td>\n",
       "      <td>13.786929</td>\n",
       "      <td>1.234332</td>\n",
       "    </tr>\n",
       "    <tr>\n",
       "      <th>494</th>\n",
       "      <td>WLTW</td>\n",
       "      <td>Willis Towers Watson</td>\n",
       "      <td>Financials</td>\n",
       "      <td>185.800</td>\n",
       "      <td>0.013209</td>\n",
       "      <td>2.563262e+04</td>\n",
       "      <td>22.65</td>\n",
       "      <td>0.320665</td>\n",
       "      <td>0.916150</td>\n",
       "    </tr>\n",
       "    <tr>\n",
       "      <th>495</th>\n",
       "      <td>WYNN</td>\n",
       "      <td>Wynn Resorts Ltd</td>\n",
       "      <td>Consumer Discretionary</td>\n",
       "      <td>89.720</td>\n",
       "      <td>0.040433</td>\n",
       "      <td>1.067138e+04</td>\n",
       "      <td>-24.90</td>\n",
       "      <td>-1.110063</td>\n",
       "      <td>1.606166</td>\n",
       "    </tr>\n",
       "    <tr>\n",
       "      <th>496</th>\n",
       "      <td>XEL</td>\n",
       "      <td>Xcel Energy Inc</td>\n",
       "      <td>Utilities</td>\n",
       "      <td>65.110</td>\n",
       "      <td>0.024578</td>\n",
       "      <td>3.514019e+04</td>\n",
       "      <td>25.10</td>\n",
       "      <td>0.634547</td>\n",
       "      <td>0.890282</td>\n",
       "    </tr>\n",
       "    <tr>\n",
       "      <th>497</th>\n",
       "      <td>XRX</td>\n",
       "      <td>Xerox</td>\n",
       "      <td>Information Technology</td>\n",
       "      <td>16.060</td>\n",
       "      <td>0.056180</td>\n",
       "      <td>3.790243e+03</td>\n",
       "      <td>6.14</td>\n",
       "      <td>0.382248</td>\n",
       "      <td>1.335783</td>\n",
       "    </tr>\n",
       "    <tr>\n",
       "      <th>498</th>\n",
       "      <td>XLNX</td>\n",
       "      <td>Xilinx</td>\n",
       "      <td>Information Technology</td>\n",
       "      <td>89.800</td>\n",
       "      <td>0.015530</td>\n",
       "      <td>2.317324e+04</td>\n",
       "      <td>28.44</td>\n",
       "      <td>0.468978</td>\n",
       "      <td>1.028922</td>\n",
       "    </tr>\n",
       "    <tr>\n",
       "      <th>499</th>\n",
       "      <td>XYL</td>\n",
       "      <td>Xylem Inc.</td>\n",
       "      <td>Industrials</td>\n",
       "      <td>63.800</td>\n",
       "      <td>0.014304</td>\n",
       "      <td>1.232598e+04</td>\n",
       "      <td>31.95</td>\n",
       "      <td>0.490761</td>\n",
       "      <td>1.165764</td>\n",
       "    </tr>\n",
       "    <tr>\n",
       "      <th>500</th>\n",
       "      <td>YUM</td>\n",
       "      <td>Yum! Brands Inc</td>\n",
       "      <td>Consumer Discretionary</td>\n",
       "      <td>90.670</td>\n",
       "      <td>0.018387</td>\n",
       "      <td>2.831977e+04</td>\n",
       "      <td>24.78</td>\n",
       "      <td>0.472846</td>\n",
       "      <td>0.933720</td>\n",
       "    </tr>\n",
       "    <tr>\n",
       "      <th>501</th>\n",
       "      <td>ZBRA</td>\n",
       "      <td>Zebra Technologies</td>\n",
       "      <td>Information Technology</td>\n",
       "      <td>250.510</td>\n",
       "      <td>NaN</td>\n",
       "      <td>1.417970e+04</td>\n",
       "      <td>26.07</td>\n",
       "      <td>NaN</td>\n",
       "      <td>1.166926</td>\n",
       "    </tr>\n",
       "    <tr>\n",
       "      <th>502</th>\n",
       "      <td>ZBH</td>\n",
       "      <td>Zimmer Biomet Holdings</td>\n",
       "      <td>Health Care</td>\n",
       "      <td>121.140</td>\n",
       "      <td>0.007149</td>\n",
       "      <td>2.777144e+04</td>\n",
       "      <td>65.53</td>\n",
       "      <td>0.519340</td>\n",
       "      <td>0.959040</td>\n",
       "    </tr>\n",
       "    <tr>\n",
       "      <th>503</th>\n",
       "      <td>ZION</td>\n",
       "      <td>Zions Bancorp</td>\n",
       "      <td>Financials</td>\n",
       "      <td>33.675</td>\n",
       "      <td>0.035909</td>\n",
       "      <td>6.023567e+03</td>\n",
       "      <td>10.05</td>\n",
       "      <td>0.393936</td>\n",
       "      <td>1.049991</td>\n",
       "    </tr>\n",
       "    <tr>\n",
       "      <th>504</th>\n",
       "      <td>ZTS</td>\n",
       "      <td>Zoetis</td>\n",
       "      <td>Health Care</td>\n",
       "      <td>131.060</td>\n",
       "      <td>0.005203</td>\n",
       "      <td>6.644900e+04</td>\n",
       "      <td>38.82</td>\n",
       "      <td>0.215608</td>\n",
       "      <td>0.954719</td>\n",
       "    </tr>\n",
       "  </tbody>\n",
       "</table>\n",
       "<p>505 rows × 9 columns</p>\n",
       "</div>"
      ],
      "text/plain": [
       "    Symbol                         Security             GICS Sector     Price  \\\n",
       "0      MMM                       3M Company             Industrials   152.380   \n",
       "1      ABT              Abbott Laboratories             Health Care    87.780   \n",
       "2     ABBV                      AbbVie Inc.             Health Care    92.260   \n",
       "3     ABMD                      ABIOMED Inc             Health Care   235.445   \n",
       "4      ACN                    Accenture plc  Information Technology   195.950   \n",
       "5     ATVI              Activision Blizzard  Communication Services    71.295   \n",
       "6     ADBE                       Adobe Inc.  Information Technology   387.750   \n",
       "7      AMD       Advanced Micro Devices Inc  Information Technology    52.820   \n",
       "8      AAP               Advance Auto Parts  Consumer Discretionary   133.130   \n",
       "9      AES                         AES Corp               Utilities    12.200   \n",
       "10     AFL                        AFLAC Inc              Financials    35.660   \n",
       "11       A         Agilent Technologies Inc             Health Care    85.030   \n",
       "12     APD     Air Products & Chemicals Inc               Materials   233.080   \n",
       "13    AKAM          Akamai Technologies Inc  Information Technology   100.510   \n",
       "14     ALK             Alaska Air Group Inc             Industrials    35.590   \n",
       "15     ALB                   Albemarle Corp               Materials    74.520   \n",
       "16     ARE  Alexandria Real Estate Equities             Real Estate   152.390   \n",
       "17    ALXN          Alexion Pharmaceuticals             Health Care   109.710   \n",
       "18    ALGN                 Align Technology             Health Care   238.275   \n",
       "19    ALLE                         Allegion             Industrials   101.560   \n",
       "20     ADS            Alliance Data Systems  Information Technology    47.570   \n",
       "21     LNT              Alliant Energy Corp               Utilities    48.760   \n",
       "22     ALL                    Allstate Corp              Financials    94.790   \n",
       "23   GOOGL          Alphabet Inc. (Class A)  Communication Services  1401.440   \n",
       "24    GOOG          Alphabet Inc. (Class C)  Communication Services  1404.450   \n",
       "25      MO                 Altria Group Inc        Consumer Staples    39.290   \n",
       "26    AMZN                  Amazon.com Inc.  Consumer Discretionary  2556.695   \n",
       "27    AMCR                        Amcor plc               Materials     9.190   \n",
       "28     AEE                      Ameren Corp               Utilities    71.840   \n",
       "29     AAL          American Airlines Group             Industrials    14.405   \n",
       "..     ...                              ...                     ...       ...   \n",
       "475    VNO             Vornado Realty Trust             Real Estate    38.860   \n",
       "476    VMC                 Vulcan Materials               Materials   109.090   \n",
       "477    WRB        W. R. Berkley Corporation              Financials    56.050   \n",
       "478    WAB               Wabtec Corporation             Industrials    60.000   \n",
       "479    WMT                          Walmart        Consumer Staples   120.090   \n",
       "480    WBA         Walgreens Boots Alliance        Consumer Staples    40.760   \n",
       "481    DIS          The Walt Disney Company  Communication Services   112.640   \n",
       "482     WM            Waste Management Inc.             Industrials   103.200   \n",
       "483    WAT               Waters Corporation             Health Care   181.550   \n",
       "484    WEC                 WEC Energy Group               Utilities    91.330   \n",
       "485    WFC                      Wells Fargo              Financials    26.790   \n",
       "486   WELL                   Welltower Inc.             Real Estate    51.340   \n",
       "487    WST     West Pharmaceutical Services             Health Care   203.770   \n",
       "488    WDC                  Western Digital  Information Technology    42.350   \n",
       "489     WU                 Western Union Co  Information Technology    22.500   \n",
       "490    WRK                         WestRock               Materials    27.640   \n",
       "491     WY                     Weyerhaeuser             Real Estate    20.670   \n",
       "492    WHR                  Whirlpool Corp.  Consumer Discretionary   122.480   \n",
       "493    WMB                    Williams Cos.                  Energy    18.170   \n",
       "494   WLTW             Willis Towers Watson              Financials   185.800   \n",
       "495   WYNN                 Wynn Resorts Ltd  Consumer Discretionary    89.720   \n",
       "496    XEL                  Xcel Energy Inc               Utilities    65.110   \n",
       "497    XRX                            Xerox  Information Technology    16.060   \n",
       "498   XLNX                           Xilinx  Information Technology    89.800   \n",
       "499    XYL                       Xylem Inc.             Industrials    63.800   \n",
       "500    YUM                  Yum! Brands Inc  Consumer Discretionary    90.670   \n",
       "501   ZBRA               Zebra Technologies  Information Technology   250.510   \n",
       "502    ZBH           Zimmer Biomet Holdings             Health Care   121.140   \n",
       "503   ZION                    Zions Bancorp              Financials    33.675   \n",
       "504    ZTS                           Zoetis             Health Care   131.060   \n",
       "\n",
       "     Dividend Yield    Market Cap  Forward P/E Ratio  Payout Ratio      Beta  \n",
       "0          0.035326  9.427462e+04              17.68      0.671912  0.891983  \n",
       "1          0.014757  1.630172e+05              43.50      0.673935  0.910047  \n",
       "2          0.046440  1.707707e+05              16.28      0.793819  0.760971  \n",
       "3               NaN  1.127746e+04              52.42           NaN  0.629920  \n",
       "4          0.014611  1.334126e+05              25.11      0.392061  1.078378  \n",
       "5          0.005012  5.687728e+04              35.00      0.181702  0.662195  \n",
       "6               NaN  1.960063e+05              58.10           NaN  1.106735  \n",
       "7               NaN  6.727315e+04             123.06           NaN  1.250638  \n",
       "8          0.003063  9.700426e+03              24.15      0.078014  1.014977  \n",
       "9          0.042491  8.756838e+03              27.74      1.272397  1.211172  \n",
       "10         0.027884  2.804739e+04               8.92      0.272745  1.267577  \n",
       "11         0.007661  2.773126e+04              38.61      0.312386  0.942848  \n",
       "12         0.019446  5.474112e+04              26.28      0.543546  1.075630  \n",
       "13              NaN  1.685215e+04              32.99           NaN  0.627345  \n",
       "14         0.034354  5.084826e+03               8.25      0.330182  1.452063  \n",
       "15         0.017738  8.915911e+03              15.59      0.311205  1.215697  \n",
       "16         0.025709  1.992871e+04              71.61      1.907805  1.046996  \n",
       "17              NaN  2.568880e+04              10.28           NaN  0.760263  \n",
       "18              NaN  2.107383e+04               9.93           NaN  1.418681  \n",
       "19         0.010365  1.005385e+04              29.45      0.327660  1.082675  \n",
       "20         0.044562  2.693307e+03              -6.26     -0.331448  1.664234  \n",
       "21         0.028490  1.265484e+04              19.46      0.577584  0.859147  \n",
       "22         0.020004  3.203355e+04               7.82      0.168292  1.086823  \n",
       "23              NaN  9.998328e+05              28.05           NaN  0.965786  \n",
       "24              NaN  1.000618e+06              28.08           NaN  0.955900  \n",
       "25         0.079388  7.771703e+04             -83.90     -7.089473  0.725099  \n",
       "26              NaN  1.320485e+06             120.01           NaN  0.641642  \n",
       "27         0.047352  1.546100e+04              29.24      1.479478  0.994736  \n",
       "28         0.025915  1.848226e+04              22.56      0.609335  0.965018  \n",
       "29         0.023502  7.197673e+03              -7.73     -0.215088  1.365857  \n",
       "..              ...           ...                ...           ...       ...  \n",
       "475        0.108536  8.081788e+03               2.54      0.299816  1.299415  \n",
       "476        0.010942  1.537161e+04              23.50      0.273565  0.900944  \n",
       "477        0.007320  1.074310e+04              21.52      0.168958  1.177579  \n",
       "478        0.007361  1.240875e+04              25.48      0.203830  1.177701  \n",
       "479        0.017580  3.431191e+05              22.70      0.402540  0.544299  \n",
       "480        0.040933  3.884330e+04              10.45      0.464744  0.836634  \n",
       "481        0.014405  2.206901e+05              37.76      0.590069  1.078477  \n",
       "482        0.019048  4.613999e+04              25.99      0.524546  0.809583  \n",
       "483             NaN  1.204496e+04              22.18           NaN  0.927593  \n",
       "484        0.025638  2.955941e+04              24.68      0.649166  0.825078  \n",
       "485        0.066644  1.218110e+05               9.40      0.694371  1.421748  \n",
       "486        0.062399  2.328280e+04              49.77      3.373401  1.356610  \n",
       "487        0.002960  1.566770e+04              57.80      0.178703  0.712398  \n",
       "488        0.042689  1.404099e+04             -21.05     -0.993986  1.577958  \n",
       "489        0.034795  9.742558e+03               9.01      0.330264  0.886011  \n",
       "490        0.060566  7.876167e+03               8.39      0.558388  1.453814  \n",
       "491        0.059623  1.702096e+04              42.48      2.794903  1.756830  \n",
       "492        0.035653  8.369018e+03               8.97      0.351669  1.457870  \n",
       "493        0.076465  2.443385e+04             162.67     13.786929  1.234332  \n",
       "494        0.013209  2.563262e+04              22.65      0.320665  0.916150  \n",
       "495        0.040433  1.067138e+04             -24.90     -1.110063  1.606166  \n",
       "496        0.024578  3.514019e+04              25.10      0.634547  0.890282  \n",
       "497        0.056180  3.790243e+03               6.14      0.382248  1.335783  \n",
       "498        0.015530  2.317324e+04              28.44      0.468978  1.028922  \n",
       "499        0.014304  1.232598e+04              31.95      0.490761  1.165764  \n",
       "500        0.018387  2.831977e+04              24.78      0.472846  0.933720  \n",
       "501             NaN  1.417970e+04              26.07           NaN  1.166926  \n",
       "502        0.007149  2.777144e+04              65.53      0.519340  0.959040  \n",
       "503        0.035909  6.023567e+03              10.05      0.393936  1.049991  \n",
       "504        0.005203  6.644900e+04              38.82      0.215608  0.954719  \n",
       "\n",
       "[505 rows x 9 columns]"
      ]
     },
     "execution_count": 5,
     "metadata": {},
     "output_type": "execute_result"
    }
   ],
   "source": [
    "df3=pd.merge(df1,df2,left_on='Symbol',right_on='Ticker')\n",
    "table = df3.drop(['SEC filings','GICS Sub Industry','Date first added',\n",
    "                  'Headquarters Location','CIK','Founded','Ticker','Name'],axis=1)\n",
    "table"
   ]
  },
  {
   "cell_type": "code",
   "execution_count": 6,
   "metadata": {},
   "outputs": [
    {
     "name": "stdout",
     "output_type": "stream",
     "text": [
      "0,MMM\n",
      "1,ABT\n",
      "2,ABBV\n",
      "3,ABMD\n",
      "4,ACN\n",
      "5,ATVI\n",
      "6,ADBE\n",
      "7,AMD\n",
      "8,AAP\n",
      "9,AES\n",
      "10,AFL\n",
      "11,A\n",
      "12,APD\n",
      "13,AKAM\n",
      "14,ALK\n",
      "15,ALB\n",
      "16,ARE\n",
      "17,ALXN\n",
      "18,ALGN\n",
      "19,ALLE\n",
      "20,ADS\n",
      "21,LNT\n",
      "22,ALL\n",
      "23,GOOGL\n",
      "24,GOOG\n",
      "25,MO\n",
      "26,AMZN\n",
      "27,AMCR\n",
      "28,AEE\n",
      "29,AAL\n",
      "30,AEP\n",
      "31,AXP\n",
      "32,AIG\n",
      "33,AMT\n",
      "34,AWK\n",
      "35,AMP\n",
      "36,ABC\n",
      "37,AME\n",
      "38,AMGN\n",
      "39,APH\n",
      "40,ADI\n",
      "41,ANSS\n",
      "42,ANTM\n",
      "43,AON\n",
      "44,AOS\n",
      "45,APA\n",
      "46,AIV\n",
      "47,AAPL\n",
      "48,AMAT\n",
      "49,APTV\n",
      "50,ADM\n",
      "51,ANET\n",
      "52,AJG\n",
      "53,AIZ\n",
      "54,T\n",
      "55,ATO\n",
      "56,ADSK\n",
      "57,ADP\n",
      "58,AZO\n",
      "59,AVB\n",
      "60,AVY\n",
      "61,BKR\n",
      "62,BLL\n",
      "63,BAC\n",
      "64,BK\n",
      "65,BAX\n",
      "66,BDX\n",
      "67,BRK.B\n",
      "68,BBY\n",
      "69,BIIB\n",
      "70,BLK\n",
      "71,BA\n",
      "72,BKNG\n",
      "73,BWA\n",
      "74,BXP\n",
      "75,BSX\n",
      "76,BMY\n",
      "77,AVGO\n",
      "78,BR\n",
      "79,BF.B\n",
      "80,CHRW\n",
      "81,COG\n",
      "82,CDNS\n",
      "83,CPB\n",
      "84,COF\n",
      "85,CAH\n",
      "86,KMX\n",
      "87,CCL\n",
      "88,CARR\n",
      "89,CAT\n",
      "90,CBOE\n",
      "91,CBRE\n",
      "92,CDW\n",
      "93,CE\n",
      "94,CNC\n",
      "95,CNP\n",
      "96,CTL\n",
      "97,CERN\n",
      "98,CF\n",
      "99,SCHW\n",
      "100,CHTR\n",
      "101,CVX\n",
      "102,CMG\n",
      "103,CB\n",
      "104,CHD\n",
      "105,CI\n",
      "106,CINF\n",
      "107,CTAS\n",
      "108,CSCO\n",
      "109,C\n",
      "110,CFG\n",
      "111,CTXS\n",
      "112,CLX\n",
      "113,CME\n",
      "114,CMS\n",
      "115,KO\n",
      "116,CTSH\n",
      "117,CL\n",
      "118,CMCSA\n",
      "119,CMA\n",
      "120,CAG\n",
      "121,CXO\n",
      "122,COP\n",
      "123,ED\n",
      "124,STZ\n",
      "125,COO\n",
      "126,CPRT\n",
      "127,GLW\n",
      "128,CTVA\n",
      "129,COST\n",
      "130,COTY\n",
      "131,CCI\n",
      "132,CSX\n",
      "133,CMI\n",
      "134,CVS\n",
      "135,DHI\n",
      "136,DHR\n",
      "137,DRI\n",
      "138,DVA\n",
      "139,DE\n",
      "140,DAL\n",
      "141,XRAY\n",
      "142,DVN\n",
      "143,DXCM\n",
      "144,FANG\n",
      "145,DLR\n",
      "146,DFS\n",
      "147,DISCA\n",
      "148,DISCK\n",
      "149,DISH\n",
      "150,DG\n",
      "151,DLTR\n",
      "152,D\n",
      "153,DPZ\n",
      "154,DOV\n",
      "155,DOW\n",
      "156,DTE\n",
      "157,DUK\n",
      "158,DRE\n",
      "159,DD\n",
      "160,DXC\n",
      "161,ETFC\n",
      "162,EMN\n",
      "163,ETN\n",
      "164,EBAY\n",
      "165,ECL\n",
      "166,EIX\n",
      "167,EW\n",
      "168,EA\n",
      "169,EMR\n",
      "170,ETR\n",
      "171,EOG\n",
      "172,EFX\n",
      "173,EQIX\n",
      "174,EQR\n",
      "175,ESS\n",
      "176,EL\n",
      "177,EVRG\n",
      "178,ES\n",
      "179,RE\n",
      "180,EXC\n",
      "181,EXPE\n",
      "182,EXPD\n",
      "183,EXR\n",
      "184,XOM\n",
      "185,FFIV\n",
      "186,FB\n",
      "187,FAST\n",
      "188,FRT\n",
      "189,FDX\n",
      "190,FIS\n",
      "191,FITB\n",
      "192,FE\n",
      "193,FRC\n",
      "194,FISV\n",
      "195,FLT\n",
      "196,FLIR\n",
      "197,FLS\n",
      "198,FMC\n",
      "199,F\n",
      "200,FTNT\n",
      "201,FTV\n",
      "202,FBHS\n",
      "203,FOXA\n",
      "204,FOX\n",
      "205,BEN\n",
      "206,FCX\n",
      "207,GPS\n",
      "208,GRMN\n",
      "209,IT\n",
      "210,GD\n",
      "211,GE\n",
      "212,GIS\n",
      "213,GM\n",
      "214,GPC\n",
      "215,GILD\n",
      "216,GL\n",
      "217,GPN\n",
      "218,GS\n",
      "219,GWW\n",
      "220,HRB\n",
      "221,HAL\n",
      "222,HBI\n",
      "223,HOG\n",
      "224,HIG\n",
      "225,HAS\n",
      "226,HCA\n",
      "227,PEAK\n",
      "228,HSIC\n",
      "229,HSY\n",
      "230,HES\n",
      "231,HPE\n",
      "232,HLT\n",
      "233,HFC\n",
      "234,HOLX\n",
      "235,HD\n",
      "236,HON\n",
      "237,HRL\n",
      "238,HST\n",
      "239,HWM\n",
      "240,HPQ\n",
      "241,HUM\n",
      "242,HBAN\n",
      "243,HII\n",
      "244,IEX\n",
      "245,IDXX\n",
      "246,INFO\n",
      "247,ITW\n",
      "248,ILMN\n",
      "249,INCY\n",
      "250,IR\n",
      "251,INTC\n",
      "252,ICE\n",
      "253,IBM\n",
      "254,IP\n",
      "255,IPG\n",
      "256,IFF\n",
      "257,INTU\n",
      "258,ISRG\n",
      "259,IVZ\n",
      "260,IPGP\n",
      "261,IQV\n",
      "262,IRM\n",
      "263,JKHY\n",
      "264,J\n",
      "265,JBHT\n",
      "266,SJM\n",
      "267,JNJ\n",
      "268,JCI\n",
      "269,JPM\n",
      "270,JNPR\n",
      "271,KSU\n",
      "272,K\n",
      "273,KEY\n",
      "274,KEYS\n",
      "275,KMB\n",
      "276,KIM\n",
      "277,KMI\n",
      "278,KLAC\n",
      "279,KSS\n",
      "280,KHC\n",
      "281,KR\n",
      "282,LB\n",
      "283,LHX\n",
      "284,LH\n",
      "285,LRCX\n",
      "286,LW\n",
      "287,LVS\n",
      "288,LEG\n",
      "289,LDOS\n",
      "290,LEN\n",
      "291,LLY\n",
      "292,LNC\n",
      "293,LIN\n",
      "294,LYV\n",
      "295,LKQ\n",
      "296,LMT\n",
      "297,L\n",
      "298,LOW\n",
      "299,LYB\n",
      "300,MTB\n",
      "301,MRO\n",
      "302,MPC\n",
      "303,MKTX\n",
      "304,MAR\n",
      "305,MMC\n",
      "306,MLM\n",
      "307,MAS\n",
      "308,MA\n",
      "309,MKC\n",
      "310,MXIM\n",
      "311,MCD\n",
      "312,MCK\n",
      "313,MDT\n",
      "314,MRK\n",
      "315,MET\n",
      "316,MTD\n",
      "317,MGM\n",
      "318,MCHP\n",
      "319,MU\n",
      "320,MSFT\n",
      "321,MAA\n",
      "322,MHK\n",
      "323,TAP\n",
      "324,MDLZ\n",
      "325,MNST\n",
      "326,MCO\n",
      "327,MS\n",
      "328,MOS\n",
      "329,MSI\n",
      "330,MSCI\n",
      "331,MYL\n",
      "332,NDAQ\n",
      "333,NOV\n",
      "334,NTAP\n",
      "335,NFLX\n",
      "336,NWL\n",
      "337,NEM\n",
      "338,NWSA\n",
      "339,NWS\n",
      "340,NEE\n",
      "341,NLSN\n",
      "342,NKE\n",
      "343,NI\n",
      "344,NBL\n",
      "345,JWN\n",
      "346,NSC\n",
      "347,NTRS\n",
      "348,NOC\n",
      "349,NLOK\n",
      "350,NCLH\n",
      "351,NRG\n",
      "352,NUE\n",
      "353,NVDA\n",
      "354,NVR\n",
      "355,ORLY\n",
      "356,OXY\n",
      "357,ODFL\n",
      "358,OMC\n",
      "359,OKE\n",
      "360,ORCL\n",
      "361,OTIS\n",
      "362,PCAR\n",
      "363,PKG\n",
      "364,PH\n",
      "365,PAYX\n",
      "366,PAYC\n",
      "367,PYPL\n",
      "368,PNR\n",
      "369,PBCT\n",
      "370,PEP\n",
      "371,PKI\n",
      "372,PRGO\n",
      "373,PFE\n",
      "374,PM\n",
      "375,PSX\n",
      "376,PNW\n",
      "377,PXD\n",
      "378,PNC\n",
      "379,PPG\n",
      "380,PPL\n",
      "381,PFG\n",
      "382,PG\n",
      "383,PGR\n",
      "384,PLD\n",
      "385,PRU\n",
      "386,PEG\n",
      "387,PSA\n",
      "388,PHM\n",
      "389,PVH\n",
      "390,QRVO\n",
      "391,PWR\n",
      "392,QCOM\n",
      "393,DGX\n",
      "394,RL\n",
      "395,RJF\n",
      "396,RTX\n",
      "397,O\n",
      "398,REG\n",
      "399,REGN\n",
      "400,RF\n",
      "401,RSG\n",
      "402,RMD\n",
      "403,RHI\n",
      "404,ROK\n",
      "405,ROL\n",
      "406,ROP\n",
      "407,ROST\n",
      "408,RCL\n",
      "409,SPGI\n",
      "410,CRM\n",
      "411,SBAC\n",
      "412,SLB\n",
      "413,STX\n",
      "414,SEE\n",
      "415,SRE\n",
      "416,NOW\n",
      "417,SHW\n",
      "418,SPG\n",
      "419,SWKS\n",
      "420,SLG\n",
      "421,SNA\n",
      "422,SO\n",
      "423,LUV\n",
      "424,SWK\n",
      "425,SBUX\n",
      "426,STT\n",
      "427,STE\n",
      "428,SYK\n",
      "429,SIVB\n",
      "430,SYF\n",
      "431,SNPS\n",
      "432,SYY\n",
      "433,TMUS\n",
      "434,TROW\n",
      "435,TTWO\n",
      "436,TPR\n",
      "437,TGT\n",
      "438,TEL\n",
      "439,FTI\n",
      "440,TFX\n",
      "441,TXN\n",
      "442,TXT\n",
      "443,TMO\n",
      "444,TIF\n",
      "445,TJX\n",
      "446,TSCO\n",
      "447,TT\n",
      "448,TDG\n",
      "449,TRV\n",
      "450,TFC\n",
      "451,TWTR\n",
      "452,TSN\n",
      "453,UDR\n",
      "454,ULTA\n",
      "455,USB\n",
      "456,UAA\n",
      "457,UA\n",
      "458,UNP\n",
      "459,UAL\n",
      "460,UNH\n",
      "461,UPS\n",
      "462,URI\n",
      "463,UHS\n",
      "464,UNM\n",
      "465,VFC\n",
      "466,VLO\n",
      "467,VAR\n",
      "468,VTR\n",
      "469,VRSN\n",
      "470,VRSK\n",
      "471,VZ\n",
      "472,VRTX\n",
      "473,VIAC\n",
      "474,V\n",
      "475,VNO\n",
      "476,VMC\n",
      "477,WRB\n",
      "478,WAB\n",
      "479,WMT\n",
      "480,WBA\n",
      "481,DIS\n",
      "482,WM\n",
      "483,WAT\n",
      "484,WEC\n",
      "485,WFC\n",
      "486,WELL\n",
      "487,WST\n",
      "488,WDC\n",
      "489,WU\n",
      "490,WRK\n",
      "491,WY\n",
      "492,WHR\n",
      "493,WMB\n",
      "494,WLTW\n",
      "495,WYNN\n",
      "496,XEL\n",
      "497,XRX\n",
      "498,XLNX\n",
      "499,XYL\n",
      "500,YUM\n",
      "501,ZBRA\n",
      "502,ZBH\n",
      "503,ZION\n",
      "504,ZTS\n",
      "\n"
     ]
    },
    {
     "name": "stderr",
     "output_type": "stream",
     "text": [
      "/Users/rosefeng/anaconda3/lib/python3.7/site-packages/ipykernel_launcher.py:2: FutureWarning: The signature of `Series.to_csv` was aligned to that of `DataFrame.to_csv`, and argument 'header' will change its default value from False to True: please pass an explicit value to suppress this warning.\n",
      "  \n"
     ]
    }
   ],
   "source": [
    "# Find the tickers of S&P 500 companies\n",
    "tickers =table['Symbol'].to_csv()\n",
    "print(tickers)"
   ]
  },
  {
   "cell_type": "code",
   "execution_count": 9,
   "metadata": {},
   "outputs": [],
   "source": [
    "# 2. From the S&P 500 companies, select 5 top companies from \n",
    "# each industry sector, based on companies’ market capitalization"
   ]
  },
  {
   "cell_type": "code",
   "execution_count": 7,
   "metadata": {
    "scrolled": true
   },
   "outputs": [
    {
     "data": {
      "text/html": [
       "<div>\n",
       "<style scoped>\n",
       "    .dataframe tbody tr th:only-of-type {\n",
       "        vertical-align: middle;\n",
       "    }\n",
       "\n",
       "    .dataframe tbody tr th {\n",
       "        vertical-align: top;\n",
       "    }\n",
       "\n",
       "    .dataframe thead th {\n",
       "        text-align: right;\n",
       "    }\n",
       "</style>\n",
       "<table border=\"1\" class=\"dataframe\">\n",
       "  <thead>\n",
       "    <tr style=\"text-align: right;\">\n",
       "      <th></th>\n",
       "      <th>Symbol</th>\n",
       "      <th>Security</th>\n",
       "      <th>GICS Sector</th>\n",
       "      <th>Price</th>\n",
       "      <th>Dividend Yield</th>\n",
       "      <th>Market Cap</th>\n",
       "      <th>Forward P/E Ratio</th>\n",
       "      <th>Payout Ratio</th>\n",
       "      <th>Beta</th>\n",
       "    </tr>\n",
       "    <tr>\n",
       "      <th>Market Cap</th>\n",
       "      <th></th>\n",
       "      <th></th>\n",
       "      <th></th>\n",
       "      <th></th>\n",
       "      <th></th>\n",
       "      <th></th>\n",
       "      <th></th>\n",
       "      <th></th>\n",
       "      <th></th>\n",
       "    </tr>\n",
       "  </thead>\n",
       "  <tbody>\n",
       "    <tr>\n",
       "      <th>94274.62440</th>\n",
       "      <td>MMM</td>\n",
       "      <td>3M Company</td>\n",
       "      <td>Industrials</td>\n",
       "      <td>152.380</td>\n",
       "      <td>0.035326</td>\n",
       "      <td>94274.62440</td>\n",
       "      <td>17.68</td>\n",
       "      <td>0.671912</td>\n",
       "      <td>0.891983</td>\n",
       "    </tr>\n",
       "    <tr>\n",
       "      <th>163017.21600</th>\n",
       "      <td>ABT</td>\n",
       "      <td>Abbott Laboratories</td>\n",
       "      <td>Health Care</td>\n",
       "      <td>87.780</td>\n",
       "      <td>0.014757</td>\n",
       "      <td>163017.21600</td>\n",
       "      <td>43.50</td>\n",
       "      <td>0.673935</td>\n",
       "      <td>0.910047</td>\n",
       "    </tr>\n",
       "    <tr>\n",
       "      <th>170770.74600</th>\n",
       "      <td>ABBV</td>\n",
       "      <td>AbbVie Inc.</td>\n",
       "      <td>Health Care</td>\n",
       "      <td>92.260</td>\n",
       "      <td>0.046440</td>\n",
       "      <td>170770.74600</td>\n",
       "      <td>16.28</td>\n",
       "      <td>0.793819</td>\n",
       "      <td>0.760971</td>\n",
       "    </tr>\n",
       "    <tr>\n",
       "      <th>11277.46345</th>\n",
       "      <td>ABMD</td>\n",
       "      <td>ABIOMED Inc</td>\n",
       "      <td>Health Care</td>\n",
       "      <td>235.445</td>\n",
       "      <td>NaN</td>\n",
       "      <td>11277.46345</td>\n",
       "      <td>52.42</td>\n",
       "      <td>NaN</td>\n",
       "      <td>0.629920</td>\n",
       "    </tr>\n",
       "    <tr>\n",
       "      <th>133412.56461</th>\n",
       "      <td>ACN</td>\n",
       "      <td>Accenture plc</td>\n",
       "      <td>Information Technology</td>\n",
       "      <td>195.950</td>\n",
       "      <td>0.014611</td>\n",
       "      <td>133412.56461</td>\n",
       "      <td>25.11</td>\n",
       "      <td>0.392061</td>\n",
       "      <td>1.078378</td>\n",
       "    </tr>\n",
       "  </tbody>\n",
       "</table>\n",
       "</div>"
      ],
      "text/plain": [
       "             Symbol             Security             GICS Sector    Price  \\\n",
       "Market Cap                                                                  \n",
       "94274.62440     MMM           3M Company             Industrials  152.380   \n",
       "163017.21600    ABT  Abbott Laboratories             Health Care   87.780   \n",
       "170770.74600   ABBV          AbbVie Inc.             Health Care   92.260   \n",
       "11277.46345    ABMD          ABIOMED Inc             Health Care  235.445   \n",
       "133412.56461    ACN        Accenture plc  Information Technology  195.950   \n",
       "\n",
       "              Dividend Yield    Market Cap  Forward P/E Ratio  Payout Ratio  \\\n",
       "Market Cap                                                                    \n",
       "94274.62440         0.035326   94274.62440              17.68      0.671912   \n",
       "163017.21600        0.014757  163017.21600              43.50      0.673935   \n",
       "170770.74600        0.046440  170770.74600              16.28      0.793819   \n",
       "11277.46345              NaN   11277.46345              52.42           NaN   \n",
       "133412.56461        0.014611  133412.56461              25.11      0.392061   \n",
       "\n",
       "                  Beta  \n",
       "Market Cap              \n",
       "94274.62440   0.891983  \n",
       "163017.21600  0.910047  \n",
       "170770.74600  0.760971  \n",
       "11277.46345   0.629920  \n",
       "133412.56461  1.078378  "
      ]
     },
     "execution_count": 7,
     "metadata": {},
     "output_type": "execute_result"
    }
   ],
   "source": [
    "# Set Market Capitalization as the index\n",
    "table.index=table['Market Cap']\n",
    "table.head()"
   ]
  },
  {
   "cell_type": "code",
   "execution_count": 111,
   "metadata": {},
   "outputs": [],
   "source": [
    "# Top 5 companies in the Information Technology Sector\n",
    "IT = table[table['GICS Sector']==\"Information Technology\"]\n",
    "IT5=IT.nlargest(5,'Market Cap')"
   ]
  },
  {
   "cell_type": "code",
   "execution_count": 43,
   "metadata": {
    "scrolled": false
   },
   "outputs": [
    {
     "name": "stdout",
     "output_type": "stream",
     "text": [
      "['AAPL', 'MSFT', 'V', 'MA', 'INTC']\n"
     ]
    }
   ],
   "source": [
    "IT5tickers=IT5['Symbol'].tolist()\n",
    "print(IT5tickers)"
   ]
  },
  {
   "cell_type": "code",
   "execution_count": 110,
   "metadata": {},
   "outputs": [],
   "source": [
    "# Top 5 companies in the Healthcare Sector\n",
    "Health = table[table['GICS Sector']==\"Health Care\"]\n",
    "HC5=Health.nlargest(5,'Market Cap')"
   ]
  },
  {
   "cell_type": "code",
   "execution_count": 107,
   "metadata": {},
   "outputs": [
    {
     "name": "stdout",
     "output_type": "stream",
     "text": [
      "['JNJ', 'UNH', 'MRK', 'PFE', 'ABBV']\n"
     ]
    }
   ],
   "source": [
    "HC5tickers=HC5['Symbol'].tolist()\n",
    "print(HC5tickers)"
   ]
  },
  {
   "cell_type": "code",
   "execution_count": 116,
   "metadata": {},
   "outputs": [],
   "source": [
    "# Top 5 companies in the Financials Sector\n",
    "Financials = table[table['GICS Sector']==\"Financials\"]\n",
    "F5=Financials.nlargest(5,'Market Cap')"
   ]
  },
  {
   "cell_type": "code",
   "execution_count": 117,
   "metadata": {},
   "outputs": [
    {
     "name": "stdout",
     "output_type": "stream",
     "text": [
      "['BRK.B', 'JPM', 'BAC', 'WFC', 'C']\n"
     ]
    }
   ],
   "source": [
    "F5tickers=F5['Symbol'].tolist()\n",
    "print(F5tickers)"
   ]
  },
  {
   "cell_type": "code",
   "execution_count": 13,
   "metadata": {},
   "outputs": [],
   "source": [
    "# Top 5 companies in the Consumer Discretionary Sector\n",
    "Consumer_Discretionary = table[table['GICS Sector']==\"Consumer Discretionary\"]\n",
    "CD5=Consumer_Discretionary.nlargest(5,'Market Cap')"
   ]
  },
  {
   "cell_type": "code",
   "execution_count": 14,
   "metadata": {},
   "outputs": [
    {
     "name": "stdout",
     "output_type": "stream",
     "text": [
      "['AMZN', 'HD', 'NKE', 'MCD', 'LOW']\n"
     ]
    }
   ],
   "source": [
    "CD5tickers=CD5['Symbol'].tolist()\n",
    "print(CD5tickers)"
   ]
  },
  {
   "cell_type": "code",
   "execution_count": 34,
   "metadata": {},
   "outputs": [],
   "source": [
    "# Top 5 companies in the Communication Services Sector\n",
    "Communication_Services = table[table['GICS Sector']==\"Communication Services\"]\n",
    "CS5=Communication_Services.nlargest(5,'Market Cap')"
   ]
  },
  {
   "cell_type": "code",
   "execution_count": 36,
   "metadata": {},
   "outputs": [
    {
     "name": "stdout",
     "output_type": "stream",
     "text": [
      "['GOOG', 'GOOGL', 'FB', 'VZ', 'T']\n"
     ]
    }
   ],
   "source": [
    "CS5tickers=CS5['Symbol'].tolist()\n",
    "print(CS5tickers)"
   ]
  },
  {
   "cell_type": "code",
   "execution_count": 107,
   "metadata": {
    "scrolled": true
   },
   "outputs": [],
   "source": [
    "# Top 5 companies in the Industrials Sector\n",
    "Industrials = table[table['GICS Sector']==\"Industrials\"]\n",
    "I5=Industrials.nlargest(5,'Market Cap')"
   ]
  },
  {
   "cell_type": "code",
   "execution_count": 108,
   "metadata": {},
   "outputs": [
    {
     "name": "stdout",
     "output_type": "stream",
     "text": [
      "['UNP', 'BA', 'LMT', 'HON', 'MMM']\n"
     ]
    }
   ],
   "source": [
    "I5tickers=I5['Symbol'].tolist()\n",
    "print(I5tickers)"
   ]
  },
  {
   "cell_type": "code",
   "execution_count": 11,
   "metadata": {},
   "outputs": [],
   "source": [
    "# Top 5 companies in the Consumer Staples sector\n",
    "Consumer_Staples = table[table['GICS Sector']==\"Consumer Staples\"]\n",
    "C5=Consumer_Staples.nlargest(5,'Market Cap')"
   ]
  },
  {
   "cell_type": "code",
   "execution_count": 13,
   "metadata": {},
   "outputs": [
    {
     "name": "stdout",
     "output_type": "stream",
     "text": [
      "['WMT', 'PG', 'KO', 'PEP', 'COST']\n"
     ]
    }
   ],
   "source": [
    "C5tickers=C5['Symbol'].tolist()\n",
    "print(C5tickers)"
   ]
  },
  {
   "cell_type": "code",
   "execution_count": 28,
   "metadata": {
    "scrolled": true
   },
   "outputs": [],
   "source": [
    "# Top 5 companies in the Energy sector\n",
    "Energy = table[table['GICS Sector']==\"Energy\"]\n",
    "E5=Energy.nlargest(5,'Market Cap')"
   ]
  },
  {
   "cell_type": "code",
   "execution_count": 29,
   "metadata": {},
   "outputs": [
    {
     "name": "stdout",
     "output_type": "stream",
     "text": [
      "['WMT', 'PG', 'KO', 'PEP', 'COST']\n"
     ]
    }
   ],
   "source": [
    "E5tickers=E5['Symbol'].tolist()\n",
    "print(C5tickers)"
   ]
  },
  {
   "cell_type": "code",
   "execution_count": 70,
   "metadata": {
    "scrolled": true
   },
   "outputs": [],
   "source": [
    "# Top 5 companies in the Utilities sector\n",
    "Utilities = table[table['GICS Sector']==\"Utilities\"]\n",
    "U5=Utilities.nlargest(5,'Market Cap')"
   ]
  },
  {
   "cell_type": "code",
   "execution_count": 71,
   "metadata": {},
   "outputs": [
    {
     "name": "stdout",
     "output_type": "stream",
     "text": [
      "['WMT', 'PG', 'KO', 'PEP', 'COST']\n"
     ]
    }
   ],
   "source": [
    "U5tickers=U5['Symbol'].tolist()\n",
    "print(C5tickers)"
   ]
  },
  {
   "cell_type": "code",
   "execution_count": 88,
   "metadata": {},
   "outputs": [],
   "source": [
    "# Top 5 companies in the Real Estate sector\n",
    "Real_Estate = table[table['GICS Sector']==\"Real Estate\"]\n",
    "R5=Real_Estate.nlargest(5,'Market Cap')"
   ]
  },
  {
   "cell_type": "code",
   "execution_count": 90,
   "metadata": {},
   "outputs": [
    {
     "name": "stdout",
     "output_type": "stream",
     "text": [
      "['AMT', 'CCI', 'PLD', 'EQIX', 'SPG']\n"
     ]
    }
   ],
   "source": [
    "R5tickers=R5['Symbol'].tolist()\n",
    "print(R5tickers)"
   ]
  },
  {
   "cell_type": "code",
   "execution_count": 105,
   "metadata": {},
   "outputs": [],
   "source": [
    "# Top 5 companies in the Materials sector\n",
    "Materials = table[table['GICS Sector']==\"Materials\"]\n",
    "M5=Materials.nlargest(5,'Market Cap')"
   ]
  },
  {
   "cell_type": "code",
   "execution_count": 106,
   "metadata": {},
   "outputs": [
    {
     "name": "stdout",
     "output_type": "stream",
     "text": [
      "['LIN', 'ECL', 'APD', 'SHW', 'NEM']\n"
     ]
    }
   ],
   "source": [
    "M5tickers=M5['Symbol'].tolist()\n",
    "print(M5tickers)"
   ]
  },
  {
   "cell_type": "code",
   "execution_count": 22,
   "metadata": {},
   "outputs": [],
   "source": [
    "# 3. Then rank these 5 top companies in their own industry sector\n",
    "# respectively based on their most important financial metrics"
   ]
  },
  {
   "cell_type": "code",
   "execution_count": null,
   "metadata": {},
   "outputs": [],
   "source": [
    "# IT sector: Apple, Microsoft, Visa, Mastercard, and Intel.\t"
   ]
  },
  {
   "cell_type": "code",
   "execution_count": 15,
   "metadata": {},
   "outputs": [],
   "source": [
    "from yahoofinancials import YahooFinancials"
   ]
  },
  {
   "cell_type": "code",
   "execution_count": 102,
   "metadata": {},
   "outputs": [],
   "source": [
    "ticker = IT5tickers\n",
    "yahoo_financials = YahooFinancials(ticker)\n",
    "IT_o_income=yahoo_financials.get_operating_income()\n",
    "IT_ibt=yahoo_financials.get_income_before_tax()"
   ]
  },
  {
   "cell_type": "code",
   "execution_count": 104,
   "metadata": {
    "scrolled": false
   },
   "outputs": [],
   "source": [
    "IT_df1 = pd.DataFrame.from_dict(\n",
    "    data=IT_o_income,columns= ['Operating_Income'],orient='index')\n",
    "IT_df2= pd.DataFrame.from_dict(\n",
    "    data=IT_ibt,columns= ['EBIT'],orient='index')"
   ]
  },
  {
   "cell_type": "code",
   "execution_count": 97,
   "metadata": {
    "scrolled": true
   },
   "outputs": [
    {
     "data": {
      "text/html": [
       "<div>\n",
       "<style scoped>\n",
       "    .dataframe tbody tr th:only-of-type {\n",
       "        vertical-align: middle;\n",
       "    }\n",
       "\n",
       "    .dataframe tbody tr th {\n",
       "        vertical-align: top;\n",
       "    }\n",
       "\n",
       "    .dataframe thead th {\n",
       "        text-align: right;\n",
       "    }\n",
       "</style>\n",
       "<table border=\"1\" class=\"dataframe\">\n",
       "  <thead>\n",
       "    <tr style=\"text-align: right;\">\n",
       "      <th></th>\n",
       "      <th>Operating_Income</th>\n",
       "    </tr>\n",
       "  </thead>\n",
       "  <tbody>\n",
       "    <tr>\n",
       "      <th>AAPL</th>\n",
       "      <td>63930000000</td>\n",
       "    </tr>\n",
       "    <tr>\n",
       "      <th>MSFT</th>\n",
       "      <td>42959000000</td>\n",
       "    </tr>\n",
       "    <tr>\n",
       "      <th>INTC</th>\n",
       "      <td>22428000000</td>\n",
       "    </tr>\n",
       "    <tr>\n",
       "      <th>V</th>\n",
       "      <td>15438000000</td>\n",
       "    </tr>\n",
       "    <tr>\n",
       "      <th>MA</th>\n",
       "      <td>9667000000</td>\n",
       "    </tr>\n",
       "  </tbody>\n",
       "</table>\n",
       "</div>"
      ],
      "text/plain": [
       "      Operating_Income\n",
       "AAPL       63930000000\n",
       "MSFT       42959000000\n",
       "INTC       22428000000\n",
       "V          15438000000\n",
       "MA          9667000000"
      ]
     },
     "execution_count": 97,
     "metadata": {},
     "output_type": "execute_result"
    }
   ],
   "source": [
    "#Ranking based on Operating Income in IT sector\n",
    "IT_df1.sort_values(['Operating_Income'],ascending=False)"
   ]
  },
  {
   "cell_type": "code",
   "execution_count": 105,
   "metadata": {},
   "outputs": [
    {
     "data": {
      "text/html": [
       "<div>\n",
       "<style scoped>\n",
       "    .dataframe tbody tr th:only-of-type {\n",
       "        vertical-align: middle;\n",
       "    }\n",
       "\n",
       "    .dataframe tbody tr th {\n",
       "        vertical-align: top;\n",
       "    }\n",
       "\n",
       "    .dataframe thead th {\n",
       "        text-align: right;\n",
       "    }\n",
       "</style>\n",
       "<table border=\"1\" class=\"dataframe\">\n",
       "  <thead>\n",
       "    <tr style=\"text-align: right;\">\n",
       "      <th></th>\n",
       "      <th>EBIT</th>\n",
       "    </tr>\n",
       "  </thead>\n",
       "  <tbody>\n",
       "    <tr>\n",
       "      <th>AAPL</th>\n",
       "      <td>65737000000</td>\n",
       "    </tr>\n",
       "    <tr>\n",
       "      <th>MSFT</th>\n",
       "      <td>43688000000</td>\n",
       "    </tr>\n",
       "    <tr>\n",
       "      <th>INTC</th>\n",
       "      <td>24058000000</td>\n",
       "    </tr>\n",
       "    <tr>\n",
       "      <th>V</th>\n",
       "      <td>14884000000</td>\n",
       "    </tr>\n",
       "    <tr>\n",
       "      <th>MA</th>\n",
       "      <td>9731000000</td>\n",
       "    </tr>\n",
       "  </tbody>\n",
       "</table>\n",
       "</div>"
      ],
      "text/plain": [
       "             EBIT\n",
       "AAPL  65737000000\n",
       "MSFT  43688000000\n",
       "INTC  24058000000\n",
       "V     14884000000\n",
       "MA     9731000000"
      ]
     },
     "execution_count": 105,
     "metadata": {},
     "output_type": "execute_result"
    }
   ],
   "source": [
    "#Ranking based on Income before tax in IT sector\n",
    "IT_df2.sort_values(['EBIT'],ascending=False)"
   ]
  },
  {
   "cell_type": "code",
   "execution_count": null,
   "metadata": {},
   "outputs": [],
   "source": [
    "#Healthcare Sector: Johnson & Johnson, United Health Group, Merck & Co, Pfizer, and AbbVie. "
   ]
  },
  {
   "cell_type": "code",
   "execution_count": 216,
   "metadata": {},
   "outputs": [],
   "source": [
    "ticker = HC5tickers\n",
    "yahoo_financials = YahooFinancials(ticker)\n",
    "HC_dividend_rate=yahoo_financials.get_dividend_rate()"
   ]
  },
  {
   "cell_type": "code",
   "execution_count": 217,
   "metadata": {
    "scrolled": true
   },
   "outputs": [
    {
     "data": {
      "text/plain": [
       "{'JNJ': 4.04, 'UNH': 5, 'MRK': 2.44, 'PFE': 1.52, 'ABBV': 4.72}"
      ]
     },
     "execution_count": 217,
     "metadata": {},
     "output_type": "execute_result"
    }
   ],
   "source": [
    "HC_dividend_rate"
   ]
  },
  {
   "cell_type": "code",
   "execution_count": 218,
   "metadata": {},
   "outputs": [
    {
     "data": {
      "text/html": [
       "<div>\n",
       "<style scoped>\n",
       "    .dataframe tbody tr th:only-of-type {\n",
       "        vertical-align: middle;\n",
       "    }\n",
       "\n",
       "    .dataframe tbody tr th {\n",
       "        vertical-align: top;\n",
       "    }\n",
       "\n",
       "    .dataframe thead th {\n",
       "        text-align: right;\n",
       "    }\n",
       "</style>\n",
       "<table border=\"1\" class=\"dataframe\">\n",
       "  <thead>\n",
       "    <tr style=\"text-align: right;\">\n",
       "      <th></th>\n",
       "      <th>Dividend_rate</th>\n",
       "    </tr>\n",
       "  </thead>\n",
       "  <tbody>\n",
       "    <tr>\n",
       "      <th>JNJ</th>\n",
       "      <td>4.04</td>\n",
       "    </tr>\n",
       "    <tr>\n",
       "      <th>UNH</th>\n",
       "      <td>5.00</td>\n",
       "    </tr>\n",
       "    <tr>\n",
       "      <th>MRK</th>\n",
       "      <td>2.44</td>\n",
       "    </tr>\n",
       "    <tr>\n",
       "      <th>PFE</th>\n",
       "      <td>1.52</td>\n",
       "    </tr>\n",
       "    <tr>\n",
       "      <th>ABBV</th>\n",
       "      <td>4.72</td>\n",
       "    </tr>\n",
       "  </tbody>\n",
       "</table>\n",
       "</div>"
      ],
      "text/plain": [
       "      Dividend_rate\n",
       "JNJ            4.04\n",
       "UNH            5.00\n",
       "MRK            2.44\n",
       "PFE            1.52\n",
       "ABBV           4.72"
      ]
     },
     "execution_count": 218,
     "metadata": {},
     "output_type": "execute_result"
    }
   ],
   "source": [
    "HC_df = pd.DataFrame.from_dict(\n",
    "    data=HC_dividend_rate,columns=['Dividend_rate'],orient='index')\n",
    "HC_df"
   ]
  },
  {
   "cell_type": "code",
   "execution_count": 140,
   "metadata": {},
   "outputs": [
    {
     "data": {
      "text/html": [
       "<div>\n",
       "<style scoped>\n",
       "    .dataframe tbody tr th:only-of-type {\n",
       "        vertical-align: middle;\n",
       "    }\n",
       "\n",
       "    .dataframe tbody tr th {\n",
       "        vertical-align: top;\n",
       "    }\n",
       "\n",
       "    .dataframe thead th {\n",
       "        text-align: right;\n",
       "    }\n",
       "</style>\n",
       "<table border=\"1\" class=\"dataframe\">\n",
       "  <thead>\n",
       "    <tr style=\"text-align: right;\">\n",
       "      <th></th>\n",
       "      <th>Dividend_rate</th>\n",
       "    </tr>\n",
       "  </thead>\n",
       "  <tbody>\n",
       "    <tr>\n",
       "      <th>UNH</th>\n",
       "      <td>5.00</td>\n",
       "    </tr>\n",
       "    <tr>\n",
       "      <th>ABBV</th>\n",
       "      <td>4.72</td>\n",
       "    </tr>\n",
       "    <tr>\n",
       "      <th>JNJ</th>\n",
       "      <td>4.04</td>\n",
       "    </tr>\n",
       "    <tr>\n",
       "      <th>MRK</th>\n",
       "      <td>2.44</td>\n",
       "    </tr>\n",
       "    <tr>\n",
       "      <th>PFE</th>\n",
       "      <td>1.52</td>\n",
       "    </tr>\n",
       "  </tbody>\n",
       "</table>\n",
       "</div>"
      ],
      "text/plain": [
       "      Dividend_rate\n",
       "UNH            5.00\n",
       "ABBV           4.72\n",
       "JNJ            4.04\n",
       "MRK            2.44\n",
       "PFE            1.52"
      ]
     },
     "execution_count": 140,
     "metadata": {},
     "output_type": "execute_result"
    }
   ],
   "source": [
    "#Ranking based on dividend rate in Healthcare sector\n",
    "HC_df.sort_values(['Dividend_rate'],ascending=False)"
   ]
  },
  {
   "cell_type": "code",
   "execution_count": null,
   "metadata": {},
   "outputs": [],
   "source": [
    "# Web scrapping for other info on Yahoo Finance"
   ]
  },
  {
   "cell_type": "code",
   "execution_count": 54,
   "metadata": {},
   "outputs": [],
   "source": [
    "from datetime import datetime\n",
    "import lxml\n",
    "from lxml import html\n",
    "import requests\n",
    "\n",
    "def get_page(url):\n",
    "    # Set up the request headers that we're going to use, to simulate\n",
    "    # a request by the Chrome browser. Simulating a request from a browser\n",
    "    # is generally good practice when building a scraper\n",
    "    headers = {\n",
    "        'Accept': 'text/html,application/xhtml+xml,application/xml;q=0.9,image/webp,image/apng,*/*;q=0.8,application/signed-exchange;v=b3',\n",
    "        'Accept-Encoding': 'gzip, deflate, br',\n",
    "        'Accept-Language': 'en-US,en;q=0.9',\n",
    "        'Cache-Control': 'max-age=0',\n",
    "        'Pragma': 'no-cache',\n",
    "        'Referrer': 'https://google.com',\n",
    "        'User-Agent': 'Mozilla/5.0 (Windows NT 10.0; Win64; x64) AppleWebKit/537.36 (KHTML, like Gecko) Chrome/77.0.3865.120 Safari/537.36'\n",
    "    }\n",
    "\n",
    "    return requests.get(url, headers=headers)\n",
    "\n",
    "def parse_rows(table_rows):\n",
    "    parsed_rows = []\n",
    "\n",
    "    for table_row in table_rows:\n",
    "        parsed_row = []\n",
    "        el = table_row.xpath(\"./div\")\n",
    "\n",
    "        none_count = 0\n",
    "\n",
    "        for rs in el:\n",
    "            try:\n",
    "                (text,) = rs.xpath('.//span/text()[1]')\n",
    "                parsed_row.append(text)\n",
    "            except ValueError:\n",
    "                parsed_row.append(np.NaN)\n",
    "                none_count += 1\n",
    "\n",
    "        if (none_count < 4):\n",
    "            parsed_rows.append(parsed_row)\n",
    "            \n",
    "    return pd.DataFrame(parsed_rows)\n",
    "\n",
    "def clean_data(df):\n",
    "    df = df.set_index(0) # Set the index to the first column: 'Period Ending'.\n",
    "    df = df.transpose() # Transpose the DataFrame, so that our header contains the account names\n",
    "    \n",
    "    # Rename the \"Breakdown\" column to \"Date\"\n",
    "    cols = list(df.columns)\n",
    "    cols[0] = 'Date'\n",
    "    df = df.set_axis(cols, axis='columns', inplace=False)\n",
    "    \n",
    "    numeric_columns = list(df.columns)[1::] # Take all columns, except the first (which is the 'Date' column)\n",
    "\n",
    "    for column_index in range(1, len(df.columns)): # Take all columns, except the first (which is the 'Date' column)\n",
    "        df.iloc[:,column_index] = df.iloc[:,column_index].str.replace(',', '') # Remove the thousands separator\n",
    "        df.iloc[:,column_index] = df.iloc[:,column_index].astype(np.float64) # Convert the column to float64\n",
    "        \n",
    "    return df\n",
    "\n",
    "def scrape_table(url):\n",
    "    # Fetch the page that we're going to parse\n",
    "    page = get_page(url);\n",
    "\n",
    "    # Parse the page with LXML, so that we can start doing some XPATH queries\n",
    "    # to extract the data that we want\n",
    "    tree = html.fromstring(page.content)\n",
    "\n",
    "    # Fetch all div elements which have class 'D(tbr)'\n",
    "    table_rows = tree.xpath(\"//div[contains(@class, 'D(tbr)')]\")\n",
    "    \n",
    "    # Ensure that some table rows are found; if none are found, then it's possible\n",
    "    # that Yahoo Finance has changed their page layout, or have detected\n",
    "    # that you're scraping the page.\n",
    "    assert len(table_rows) > 0\n",
    "    \n",
    "    df = parse_rows(table_rows)\n",
    "    df = clean_data(df)\n",
    "        \n",
    "    return df"
   ]
  },
  {
   "cell_type": "code",
   "execution_count": 55,
   "metadata": {},
   "outputs": [],
   "source": [
    "def scrape(symbol):\n",
    "    print('Attempting to scrape data for ' + symbol)\n",
    "\n",
    "    df_balance_sheet = scrape_table('https://finance.yahoo.com/quote/' + symbol + '/balance-sheet?p=' + symbol)\n",
    "    df_balance_sheet = df_balance_sheet.set_index('Date')\n",
    "\n",
    "    df_income_statement = scrape_table('https://finance.yahoo.com/quote/' + symbol + '/financials?p=' + symbol)\n",
    "    df_income_statement = df_income_statement.set_index('Date')\n",
    "    \n",
    "    df_cash_flow = scrape_table('https://finance.yahoo.com/quote/' + symbol + '/cash-flow?p=' + symbol)\n",
    "    df_cash_flow = df_cash_flow.set_index('Date')\n",
    "    \n",
    "    df_joined = df_balance_sheet \\\n",
    "        .join(df_income_statement, on='Date', how='outer', rsuffix=' - Income Statement') \\\n",
    "        .join(df_cash_flow, on='Date', how='outer', rsuffix=' - Cash Flow') \\\n",
    "        .dropna(axis=1, how='all') \\\n",
    "        .reset_index()\n",
    "            \n",
    "    df_joined.insert(1, 'Symbol', symbol)\n",
    "    \n",
    "    return df_joined"
   ]
  },
  {
   "cell_type": "code",
   "execution_count": 56,
   "metadata": {},
   "outputs": [],
   "source": [
    "def scrape_multi(symbols):\n",
    "    return pd.concat([scrape(symbol) for symbol in symbols], sort=False)"
   ]
  },
  {
   "cell_type": "code",
   "execution_count": 203,
   "metadata": {
    "scrolled": true
   },
   "outputs": [
    {
     "name": "stdout",
     "output_type": "stream",
     "text": [
      "Attempting to scrape data for JNJ\n",
      "Attempting to scrape data for UNH\n",
      "Attempting to scrape data for MRK\n",
      "Attempting to scrape data for PFE\n",
      "Attempting to scrape data for ABBV\n"
     ]
    }
   ],
   "source": [
    "symbols = HC5tickers\n",
    "df_combined = scrape_multi(symbols)"
   ]
  },
  {
   "cell_type": "code",
   "execution_count": 67,
   "metadata": {},
   "outputs": [],
   "source": [
    "HC5data=pd.DataFrame(data=df_combined)"
   ]
  },
  {
   "cell_type": "code",
   "execution_count": 68,
   "metadata": {
    "scrolled": true
   },
   "outputs": [],
   "source": [
    "HC5_df1=HC5data.groupby(['Symbol']).mean()"
   ]
  },
  {
   "cell_type": "code",
   "execution_count": 69,
   "metadata": {
    "scrolled": false
   },
   "outputs": [
    {
     "data": {
      "text/plain": [
       "Symbol\n",
       "PSX    10792750.0\n",
       "COP    19210250.0\n",
       "CVX    36580250.0\n",
       "KMI    37402250.0\n",
       "XOM    42453500.0\n",
       "Name: Total Debt, dtype: float64"
      ]
     },
     "execution_count": 69,
     "metadata": {},
     "output_type": "execute_result"
    }
   ],
   "source": [
    "# Ranking based on Total Debt in Healthcare Sector\n",
    "HC5_df2=HC5_df1.sort_values(by='Total Debt',ascending=True)\n",
    "HC5_df2['Total Debt']"
   ]
  },
  {
   "cell_type": "code",
   "execution_count": null,
   "metadata": {},
   "outputs": [],
   "source": [
    "#Financials Sector: Berkshire Hathaway, JPMorgan Chase & Co, and Bank of America, Wells Fargo, and Citigroup. "
   ]
  },
  {
   "cell_type": "code",
   "execution_count": 118,
   "metadata": {},
   "outputs": [],
   "source": [
    "ticker = F5tickers\n",
    "yahoo_financials = YahooFinancials(ticker)\n",
    "F5_pe_ratio=yahoo_financials.get_pe_ratio()"
   ]
  },
  {
   "cell_type": "code",
   "execution_count": 119,
   "metadata": {},
   "outputs": [
    {
     "data": {
      "text/html": [
       "<div>\n",
       "<style scoped>\n",
       "    .dataframe tbody tr th:only-of-type {\n",
       "        vertical-align: middle;\n",
       "    }\n",
       "\n",
       "    .dataframe tbody tr th {\n",
       "        vertical-align: top;\n",
       "    }\n",
       "\n",
       "    .dataframe thead th {\n",
       "        text-align: right;\n",
       "    }\n",
       "</style>\n",
       "<table border=\"1\" class=\"dataframe\">\n",
       "  <thead>\n",
       "    <tr style=\"text-align: right;\">\n",
       "      <th></th>\n",
       "      <th>PE Ratio</th>\n",
       "    </tr>\n",
       "  </thead>\n",
       "  <tbody>\n",
       "    <tr>\n",
       "      <th>C</th>\n",
       "      <td>7.284239</td>\n",
       "    </tr>\n",
       "    <tr>\n",
       "      <th>WFC</th>\n",
       "      <td>9.550173</td>\n",
       "    </tr>\n",
       "    <tr>\n",
       "      <th>BAC</th>\n",
       "      <td>10.264228</td>\n",
       "    </tr>\n",
       "    <tr>\n",
       "      <th>JPM</th>\n",
       "      <td>10.992358</td>\n",
       "    </tr>\n",
       "    <tr>\n",
       "      <th>BRK.B</th>\n",
       "      <td>NaN</td>\n",
       "    </tr>\n",
       "  </tbody>\n",
       "</table>\n",
       "</div>"
      ],
      "text/plain": [
       "        PE Ratio\n",
       "C       7.284239\n",
       "WFC     9.550173\n",
       "BAC    10.264228\n",
       "JPM    10.992358\n",
       "BRK.B        NaN"
      ]
     },
     "execution_count": 119,
     "metadata": {},
     "output_type": "execute_result"
    }
   ],
   "source": [
    "#Ranking based on P/E ratios in Financials sector\n",
    "F5_df1 = pd.DataFrame.from_dict(\n",
    "    data=F5_pe_ratio,columns= ['PE Ratio'],orient='index')\n",
    "F5_df1.sort_values(['PE Ratio'],ascending=True)"
   ]
  },
  {
   "cell_type": "code",
   "execution_count": 104,
   "metadata": {},
   "outputs": [],
   "source": [
    "yahoo_financials = YahooFinancials(F5tickers)\n",
    "F5_pb=yahoo_financials.get_key_statistics_data()"
   ]
  },
  {
   "cell_type": "code",
   "execution_count": 244,
   "metadata": {},
   "outputs": [],
   "source": [
    "F5_pb_df1=pd.DataFrame.from_dict(data=F5_pb)\n",
    "F5_pb_df1=F5_pb_df1.transpose()\n",
    "F5_pb_df2=F5_pb_df1.sort_values(['priceToBook'],ascending=False)"
   ]
  },
  {
   "cell_type": "code",
   "execution_count": 246,
   "metadata": {
    "scrolled": true
   },
   "outputs": [
    {
     "data": {
      "text/plain": [
       "JPM       1.34486\n",
       "BAC      0.926857\n",
       "WFC      0.718895\n",
       "C        0.650149\n",
       "BRK.B         NaN\n",
       "Name: priceToBook, dtype: object"
      ]
     },
     "execution_count": 246,
     "metadata": {},
     "output_type": "execute_result"
    }
   ],
   "source": [
    "#Ranking based on Price-to-book ratio in Financials Sector\n",
    "F5_pb_df2['priceToBook']"
   ]
  },
  {
   "cell_type": "code",
   "execution_count": null,
   "metadata": {},
   "outputs": [],
   "source": [
    "# Consumer Discretionary Sector: Amazon, Home Depot, Nike, McDonald, and Lowe’s. "
   ]
  },
  {
   "cell_type": "code",
   "execution_count": 38,
   "metadata": {},
   "outputs": [],
   "source": [
    "yahoo_financials = YahooFinancials(CD5tickers)\n",
    "CD5=yahoo_financials.get_key_statistics_data()"
   ]
  },
  {
   "cell_type": "code",
   "execution_count": 40,
   "metadata": {},
   "outputs": [],
   "source": [
    "CD5_pm_df1=pd.DataFrame.from_dict(data=CD5)\n",
    "CD5_pm_df1=CD5_pm_df1.transpose()\n",
    "CD5_pm_df2=CD5_pm_df1.sort_values(['profitMargins'],ascending=False)"
   ]
  },
  {
   "cell_type": "code",
   "execution_count": 41,
   "metadata": {
    "scrolled": true
   },
   "outputs": [
    {
     "data": {
      "text/plain": [
       "MCD     0.27948\n",
       "NKE     0.10462\n",
       "HD      0.09789\n",
       "LOW     0.06171\n",
       "AMZN    0.03565\n",
       "Name: profitMargins, dtype: object"
      ]
     },
     "execution_count": 41,
     "metadata": {},
     "output_type": "execute_result"
    }
   ],
   "source": [
    "# Ranking based on Profit Margin in Consumer Discretionary Sector\n",
    "CD5_pm_df2['profitMargins']"
   ]
  },
  {
   "cell_type": "code",
   "execution_count": 24,
   "metadata": {},
   "outputs": [],
   "source": [
    "# Yahoo finance does not have revenue growth data, \n",
    "# so total revenue data will be used instead\n",
    "yahoo_financials = YahooFinancials(CD5tickers)\n",
    "CD5_tr=yahoo_financials.get_total_revenue()"
   ]
  },
  {
   "cell_type": "code",
   "execution_count": 30,
   "metadata": {},
   "outputs": [],
   "source": [
    "CD5_tg_df1=pd.DataFrame.from_dict(data=CD5_tr,orient='index',columns=['Total revenue'])"
   ]
  },
  {
   "cell_type": "code",
   "execution_count": 31,
   "metadata": {},
   "outputs": [
    {
     "data": {
      "text/html": [
       "<div>\n",
       "<style scoped>\n",
       "    .dataframe tbody tr th:only-of-type {\n",
       "        vertical-align: middle;\n",
       "    }\n",
       "\n",
       "    .dataframe tbody tr th {\n",
       "        vertical-align: top;\n",
       "    }\n",
       "\n",
       "    .dataframe thead th {\n",
       "        text-align: right;\n",
       "    }\n",
       "</style>\n",
       "<table border=\"1\" class=\"dataframe\">\n",
       "  <thead>\n",
       "    <tr style=\"text-align: right;\">\n",
       "      <th></th>\n",
       "      <th>Total revenue</th>\n",
       "    </tr>\n",
       "  </thead>\n",
       "  <tbody>\n",
       "    <tr>\n",
       "      <th>AMZN</th>\n",
       "      <td>280522000000</td>\n",
       "    </tr>\n",
       "    <tr>\n",
       "      <th>HD</th>\n",
       "      <td>110225000000</td>\n",
       "    </tr>\n",
       "    <tr>\n",
       "      <th>LOW</th>\n",
       "      <td>72148000000</td>\n",
       "    </tr>\n",
       "    <tr>\n",
       "      <th>NKE</th>\n",
       "      <td>39117000000</td>\n",
       "    </tr>\n",
       "    <tr>\n",
       "      <th>MCD</th>\n",
       "      <td>21076500000</td>\n",
       "    </tr>\n",
       "  </tbody>\n",
       "</table>\n",
       "</div>"
      ],
      "text/plain": [
       "      Total revenue\n",
       "AMZN   280522000000\n",
       "HD     110225000000\n",
       "LOW     72148000000\n",
       "NKE     39117000000\n",
       "MCD     21076500000"
      ]
     },
     "execution_count": 31,
     "metadata": {},
     "output_type": "execute_result"
    }
   ],
   "source": [
    "# Ranking based on Total revenue in Consumer Discretionary Sector\n",
    "CD5_tg_df2=CD5_tg_df1.sort_values(['Total revenue'],ascending=False)\n",
    "CD5_tg_df2"
   ]
  },
  {
   "cell_type": "code",
   "execution_count": null,
   "metadata": {},
   "outputs": [],
   "source": [
    "# Communication Services sector: Alphabet (Class C), Alphabet (Class A), Facebook, Verizon, and AT&T. "
   ]
  },
  {
   "cell_type": "code",
   "execution_count": null,
   "metadata": {},
   "outputs": [],
   "source": [
    "# Yahoo Finance does not have data on operating margins, \n",
    "# so a similar measure, profit margin data, is used instead"
   ]
  },
  {
   "cell_type": "code",
   "execution_count": 43,
   "metadata": {
    "scrolled": true
   },
   "outputs": [],
   "source": [
    "yahoo_financials = YahooFinancials(CS5tickers)\n",
    "CS5=yahoo_financials.get_key_statistics_data()"
   ]
  },
  {
   "cell_type": "code",
   "execution_count": 60,
   "metadata": {},
   "outputs": [],
   "source": [
    "CS5_pm_df1=pd.DataFrame.from_dict(data=CS5)\n",
    "CS5_pm_df1=CS5_pm_df1.transpose()\n",
    "CS5_pm_df2=CS5_pm_df1.sort_values(['profitMargins'],ascending=False)"
   ]
  },
  {
   "cell_type": "code",
   "execution_count": 45,
   "metadata": {},
   "outputs": [
    {
     "data": {
      "text/plain": [
       "FB        0.2857\n",
       "GOOG     0.20712\n",
       "GOOGL    0.20712\n",
       "VZ          0.14\n",
       "T        0.08048\n",
       "Name: profitMargins, dtype: object"
      ]
     },
     "execution_count": 45,
     "metadata": {},
     "output_type": "execute_result"
    }
   ],
   "source": [
    "# Ranking based on profit margin in Communication services sector"
   ]
  },
  {
   "cell_type": "code",
   "execution_count": 128,
   "metadata": {},
   "outputs": [],
   "source": [
    "yahoo_financials = YahooFinancials(CS5tickers)\n",
    "CS5_ta=yahoo_financials.get_net_income_from_continuing_ops()"
   ]
  },
  {
   "cell_type": "code",
   "execution_count": 129,
   "metadata": {
    "scrolled": true
   },
   "outputs": [
    {
     "data": {
      "text/html": [
       "<div>\n",
       "<style scoped>\n",
       "    .dataframe tbody tr th:only-of-type {\n",
       "        vertical-align: middle;\n",
       "    }\n",
       "\n",
       "    .dataframe tbody tr th {\n",
       "        vertical-align: top;\n",
       "    }\n",
       "\n",
       "    .dataframe thead th {\n",
       "        text-align: right;\n",
       "    }\n",
       "</style>\n",
       "<table border=\"1\" class=\"dataframe\">\n",
       "  <thead>\n",
       "    <tr style=\"text-align: right;\">\n",
       "      <th></th>\n",
       "      <th>Net Income from operations</th>\n",
       "    </tr>\n",
       "  </thead>\n",
       "  <tbody>\n",
       "    <tr>\n",
       "      <th>GOOG</th>\n",
       "      <td>34343000000</td>\n",
       "    </tr>\n",
       "    <tr>\n",
       "      <th>GOOGL</th>\n",
       "      <td>34343000000</td>\n",
       "    </tr>\n",
       "    <tr>\n",
       "      <th>VZ</th>\n",
       "      <td>19788000000</td>\n",
       "    </tr>\n",
       "    <tr>\n",
       "      <th>FB</th>\n",
       "      <td>18485000000</td>\n",
       "    </tr>\n",
       "    <tr>\n",
       "      <th>T</th>\n",
       "      <td>14975000000</td>\n",
       "    </tr>\n",
       "  </tbody>\n",
       "</table>\n",
       "</div>"
      ],
      "text/plain": [
       "       Net Income from operations\n",
       "GOOG                  34343000000\n",
       "GOOGL                 34343000000\n",
       "VZ                    19788000000\n",
       "FB                    18485000000\n",
       "T                     14975000000"
      ]
     },
     "execution_count": 129,
     "metadata": {},
     "output_type": "execute_result"
    }
   ],
   "source": [
    "# Ranking based on Net Income from continuing operations in Communications Service sector\n",
    "CS5_ni = pd.DataFrame.from_dict(\n",
    "    data=CS5_ta,columns= ['Net Income from operations'],orient='index')\n",
    "CS5_ni.sort_values(['Net Income from operations'],ascending=False)"
   ]
  },
  {
   "cell_type": "code",
   "execution_count": null,
   "metadata": {},
   "outputs": [],
   "source": [
    "# Industrials Sector: Unicon Pacific Group, Boeing, Lockheed Martin, Honeywell, and 3M. "
   ]
  },
  {
   "cell_type": "code",
   "execution_count": null,
   "metadata": {},
   "outputs": [],
   "source": [
    "# The return of net assets data & total asset data is marked as \"null\" on Yahoo Finance"
   ]
  },
  {
   "cell_type": "code",
   "execution_count": null,
   "metadata": {},
   "outputs": [],
   "source": [
    "# Consumer Staples Sector: Walmart, Proctor & Gamble, Coca-Cola, PepsiCo, and Costco. "
   ]
  },
  {
   "cell_type": "code",
   "execution_count": 17,
   "metadata": {},
   "outputs": [],
   "source": [
    "yahoo_financials = YahooFinancials(C5tickers)\n",
    "C5=yahoo_financials.get_total_revenue()"
   ]
  },
  {
   "cell_type": "code",
   "execution_count": 22,
   "metadata": {},
   "outputs": [
    {
     "data": {
      "text/html": [
       "<div>\n",
       "<style scoped>\n",
       "    .dataframe tbody tr th:only-of-type {\n",
       "        vertical-align: middle;\n",
       "    }\n",
       "\n",
       "    .dataframe tbody tr th {\n",
       "        vertical-align: top;\n",
       "    }\n",
       "\n",
       "    .dataframe thead th {\n",
       "        text-align: right;\n",
       "    }\n",
       "</style>\n",
       "<table border=\"1\" class=\"dataframe\">\n",
       "  <thead>\n",
       "    <tr style=\"text-align: right;\">\n",
       "      <th></th>\n",
       "      <th>Total revenue</th>\n",
       "    </tr>\n",
       "  </thead>\n",
       "  <tbody>\n",
       "    <tr>\n",
       "      <th>WMT</th>\n",
       "      <td>523964000000</td>\n",
       "    </tr>\n",
       "    <tr>\n",
       "      <th>COST</th>\n",
       "      <td>152703000000</td>\n",
       "    </tr>\n",
       "    <tr>\n",
       "      <th>PG</th>\n",
       "      <td>67684000000</td>\n",
       "    </tr>\n",
       "    <tr>\n",
       "      <th>PEP</th>\n",
       "      <td>67161000000</td>\n",
       "    </tr>\n",
       "    <tr>\n",
       "      <th>KO</th>\n",
       "      <td>37266000000</td>\n",
       "    </tr>\n",
       "  </tbody>\n",
       "</table>\n",
       "</div>"
      ],
      "text/plain": [
       "      Total revenue\n",
       "WMT    523964000000\n",
       "COST   152703000000\n",
       "PG      67684000000\n",
       "PEP     67161000000\n",
       "KO      37266000000"
      ]
     },
     "execution_count": 22,
     "metadata": {},
     "output_type": "execute_result"
    }
   ],
   "source": [
    "# Ranking based on Total revenue in Consumer Staples sector\n",
    "C5_tr_df = pd.DataFrame.from_dict(\n",
    "    data=C5,columns= ['Total revenue'],orient='index')\n",
    "C5_tr_df.sort_values(['Total revenue'],ascending=False)"
   ]
  },
  {
   "cell_type": "code",
   "execution_count": 24,
   "metadata": {},
   "outputs": [],
   "source": [
    "yahoo_financials = YahooFinancials(C5tickers)\n",
    "C5_pm=yahoo_financials.get_key_statistics_data()"
   ]
  },
  {
   "cell_type": "code",
   "execution_count": 27,
   "metadata": {},
   "outputs": [
    {
     "data": {
      "text/plain": [
       "PEP     0.10621\n",
       "KO      0.26947\n",
       "COST    0.02306\n",
       "PG      0.07088\n",
       "WMT     0.02811\n",
       "Name: profitMargins, dtype: object"
      ]
     },
     "execution_count": 27,
     "metadata": {},
     "output_type": "execute_result"
    }
   ],
   "source": [
    "# Ranking based on Profit margins in Consumer Staples sector\n",
    "C5_pm_df1=pd.DataFrame.from_dict(data=C5_pm)\n",
    "C5_pm_df1=C5_pm_df1.transpose()\n",
    "C5_pm_df2=C5_pm_df1.sort_values(['priceToBook'],ascending=False)\n",
    "C5_pm_df2['profitMargins']"
   ]
  },
  {
   "cell_type": "code",
   "execution_count": null,
   "metadata": {},
   "outputs": [],
   "source": [
    "# Energy Sector: Exxon Mobil, Chevron, ConocoPhillips, Kinder Morgan, and Phillips 66. "
   ]
  },
  {
   "cell_type": "code",
   "execution_count": 36,
   "metadata": {},
   "outputs": [],
   "source": [
    "yahoo_financials = YahooFinancials(E5tickers)\n",
    "E5_ebit=yahoo_financials.get_ebit()"
   ]
  },
  {
   "cell_type": "code",
   "execution_count": 39,
   "metadata": {},
   "outputs": [
    {
     "data": {
      "text/plain": [
       "XOM    11631000000\n",
       "CVX    10478000000\n",
       "COP     7435000000\n",
       "KMI     3857000000\n",
       "PSX     3269000000\n",
       "Name: EBIT, dtype: int64"
      ]
     },
     "execution_count": 39,
     "metadata": {},
     "output_type": "execute_result"
    }
   ],
   "source": [
    "# Ranking based on EBIT in Energy sector\n",
    "E5_ebit1 = pd.DataFrame.from_dict(\n",
    "    data=E5_ebit,columns= ['EBIT'],orient='index')\n",
    "E5_ebit2=E5_ebit1.sort_values(['EBIT'],ascending=False)\n",
    "E5_ebit2['EBIT']"
   ]
  },
  {
   "cell_type": "code",
   "execution_count": 40,
   "metadata": {},
   "outputs": [],
   "source": [
    "yahoo_financials = YahooFinancials(E5tickers)\n",
    "E5_ie=yahoo_financials.get_interest_expense()"
   ]
  },
  {
   "cell_type": "code",
   "execution_count": 41,
   "metadata": {},
   "outputs": [
    {
     "data": {
      "text/plain": [
       "PSX    -458000000\n",
       "COP    -778000000\n",
       "CVX    -798000000\n",
       "XOM    -830000000\n",
       "KMI   -1801000000\n",
       "Name: Interest Expense, dtype: int64"
      ]
     },
     "execution_count": 41,
     "metadata": {},
     "output_type": "execute_result"
    }
   ],
   "source": [
    "E5_ie1 = pd.DataFrame.from_dict(\n",
    "    data=E5_ie,columns= ['Interest Expense'],orient='index')\n",
    "E5_ie2=E5_ie1.sort_values(['Interest Expense'],ascending=False)\n",
    "E5_ie2['Interest Expense']"
   ]
  },
  {
   "cell_type": "code",
   "execution_count": 49,
   "metadata": {},
   "outputs": [],
   "source": [
    "result=E5_ebit2['EBIT']/E5_ie2['Interest Expense']"
   ]
  },
  {
   "cell_type": "code",
   "execution_count": 65,
   "metadata": {
    "scrolled": true
   },
   "outputs": [
    {
     "data": {
      "text/plain": [
       "COP    0.002584\n",
       "PSX    0.003302\n",
       "CVX    0.003491\n",
       "XOM    0.003650\n",
       "KMI    0.009697\n",
       "dtype: float64"
      ]
     },
     "execution_count": 65,
     "metadata": {},
     "output_type": "execute_result"
    }
   ],
   "source": [
    "# Ranking based on EBIT/Interest Expense in Energy Sector\n",
    "result.sort_values(ascending=True)"
   ]
  },
  {
   "cell_type": "code",
   "execution_count": 57,
   "metadata": {
    "scrolled": true
   },
   "outputs": [
    {
     "name": "stdout",
     "output_type": "stream",
     "text": [
      "Attempting to scrape data for XOM\n",
      "Attempting to scrape data for CVX\n",
      "Attempting to scrape data for COP\n",
      "Attempting to scrape data for KMI\n",
      "Attempting to scrape data for PSX\n"
     ]
    }
   ],
   "source": [
    "symbols = E5tickers\n",
    "df_combined = scrape_multi(symbols)"
   ]
  },
  {
   "cell_type": "code",
   "execution_count": 58,
   "metadata": {},
   "outputs": [],
   "source": [
    "E5data=pd.DataFrame(data=df_combined)"
   ]
  },
  {
   "cell_type": "code",
   "execution_count": 59,
   "metadata": {
    "scrolled": true
   },
   "outputs": [],
   "source": [
    "E5_df1=E5data.groupby(['Symbol']).mean()"
   ]
  },
  {
   "cell_type": "code",
   "execution_count": 63,
   "metadata": {
    "scrolled": false
   },
   "outputs": [
    {
     "data": {
      "text/plain": [
       "Symbol\n",
       "PSX    10792750.0\n",
       "COP    19210250.0\n",
       "CVX    36580250.0\n",
       "KMI    37402250.0\n",
       "XOM    42453500.0\n",
       "Name: Total Debt, dtype: float64"
      ]
     },
     "execution_count": 63,
     "metadata": {},
     "output_type": "execute_result"
    }
   ],
   "source": [
    "E5_df2=E5_df1.sort_values(by='Total Debt',ascending=True)\n",
    "E5_df2['Total Debt']"
   ]
  },
  {
   "cell_type": "code",
   "execution_count": 61,
   "metadata": {},
   "outputs": [],
   "source": [
    "result2=result=E5_df2['Total Debt']/E5_ebit2['EBIT']"
   ]
  },
  {
   "cell_type": "code",
   "execution_count": 64,
   "metadata": {},
   "outputs": [
    {
     "data": {
      "text/plain": [
       "COP    0.002584\n",
       "PSX    0.003302\n",
       "CVX    0.003491\n",
       "XOM    0.003650\n",
       "KMI    0.009697\n",
       "dtype: float64"
      ]
     },
     "execution_count": 64,
     "metadata": {},
     "output_type": "execute_result"
    }
   ],
   "source": [
    "# Ranking based on Debt-to-EBIT ratio in Energy sector\n",
    "result2.sort_values(ascending=True)"
   ]
  },
  {
   "cell_type": "code",
   "execution_count": null,
   "metadata": {},
   "outputs": [],
   "source": [
    "#Utilities sector: NextEra Energy, Dominion Energy, Duke Energy, Southern Company, and American Electric Power. "
   ]
  },
  {
   "cell_type": "code",
   "execution_count": 74,
   "metadata": {},
   "outputs": [],
   "source": [
    "ticker = U5tickers\n",
    "yahoo_financials = YahooFinancials(ticker)\n",
    "U5_dividend_yield=yahoo_financials.get_dividend_yield()"
   ]
  },
  {
   "cell_type": "code",
   "execution_count": 86,
   "metadata": {},
   "outputs": [],
   "source": [
    "U5_dy_df1 = pd.DataFrame.from_dict(\n",
    "    data=U5_dividend_yield,columns=['Dividend yield'],orient='index')"
   ]
  },
  {
   "cell_type": "code",
   "execution_count": 87,
   "metadata": {},
   "outputs": [
    {
     "data": {
      "text/html": [
       "<div>\n",
       "<style scoped>\n",
       "    .dataframe tbody tr th:only-of-type {\n",
       "        vertical-align: middle;\n",
       "    }\n",
       "\n",
       "    .dataframe tbody tr th {\n",
       "        vertical-align: top;\n",
       "    }\n",
       "\n",
       "    .dataframe thead th {\n",
       "        text-align: right;\n",
       "    }\n",
       "</style>\n",
       "<table border=\"1\" class=\"dataframe\">\n",
       "  <thead>\n",
       "    <tr style=\"text-align: right;\">\n",
       "      <th></th>\n",
       "      <th>Dividend yield</th>\n",
       "    </tr>\n",
       "  </thead>\n",
       "  <tbody>\n",
       "    <tr>\n",
       "      <th>SO</th>\n",
       "      <td>0.0457</td>\n",
       "    </tr>\n",
       "    <tr>\n",
       "      <th>D</th>\n",
       "      <td>0.0447</td>\n",
       "    </tr>\n",
       "    <tr>\n",
       "      <th>DUK</th>\n",
       "      <td>0.0438</td>\n",
       "    </tr>\n",
       "    <tr>\n",
       "      <th>AEP</th>\n",
       "      <td>0.0340</td>\n",
       "    </tr>\n",
       "    <tr>\n",
       "      <th>NEE</th>\n",
       "      <td>0.0225</td>\n",
       "    </tr>\n",
       "  </tbody>\n",
       "</table>\n",
       "</div>"
      ],
      "text/plain": [
       "     Dividend yield\n",
       "SO           0.0457\n",
       "D            0.0447\n",
       "DUK          0.0438\n",
       "AEP          0.0340\n",
       "NEE          0.0225"
      ]
     },
     "execution_count": 87,
     "metadata": {},
     "output_type": "execute_result"
    }
   ],
   "source": [
    "#Ranking based on dividend yield in Energy sector\n",
    "U5_dy_df1.sort_values(['Dividend yield'],ascending=False)"
   ]
  },
  {
   "cell_type": "code",
   "execution_count": 80,
   "metadata": {},
   "outputs": [],
   "source": [
    "ticker = U5tickers\n",
    "yahoo_financials = YahooFinancials(ticker)\n",
    "U5_pr=yahoo_financials.get_payout_ratio()"
   ]
  },
  {
   "cell_type": "code",
   "execution_count": 83,
   "metadata": {},
   "outputs": [],
   "source": [
    "U5_pr_df2 = pd.DataFrame.from_dict(\n",
    "    data=U5_pr,columns=['Payout ratio'],orient='index')"
   ]
  },
  {
   "cell_type": "code",
   "execution_count": 84,
   "metadata": {},
   "outputs": [
    {
     "data": {
      "text/html": [
       "<div>\n",
       "<style scoped>\n",
       "    .dataframe tbody tr th:only-of-type {\n",
       "        vertical-align: middle;\n",
       "    }\n",
       "\n",
       "    .dataframe tbody tr th {\n",
       "        vertical-align: top;\n",
       "    }\n",
       "\n",
       "    .dataframe thead th {\n",
       "        text-align: right;\n",
       "    }\n",
       "</style>\n",
       "<table border=\"1\" class=\"dataframe\">\n",
       "  <thead>\n",
       "    <tr style=\"text-align: right;\">\n",
       "      <th></th>\n",
       "      <th>Payout ratio</th>\n",
       "    </tr>\n",
       "  </thead>\n",
       "  <tbody>\n",
       "    <tr>\n",
       "      <th>NEE</th>\n",
       "      <td>0.7143</td>\n",
       "    </tr>\n",
       "    <tr>\n",
       "      <th>AEP</th>\n",
       "      <td>0.7366</td>\n",
       "    </tr>\n",
       "    <tr>\n",
       "      <th>DUK</th>\n",
       "      <td>0.7421</td>\n",
       "    </tr>\n",
       "    <tr>\n",
       "      <th>SO</th>\n",
       "      <td>0.7470</td>\n",
       "    </tr>\n",
       "    <tr>\n",
       "      <th>D</th>\n",
       "      <td>1.7255</td>\n",
       "    </tr>\n",
       "  </tbody>\n",
       "</table>\n",
       "</div>"
      ],
      "text/plain": [
       "     Payout ratio\n",
       "NEE        0.7143\n",
       "AEP        0.7366\n",
       "DUK        0.7421\n",
       "SO         0.7470\n",
       "D          1.7255"
      ]
     },
     "execution_count": 84,
     "metadata": {},
     "output_type": "execute_result"
    }
   ],
   "source": [
    "#Ranking based on dividend yield in Energy sector\n",
    "U5_pr_df2.sort_values(['Payout ratio'],ascending=True)"
   ]
  },
  {
   "cell_type": "code",
   "execution_count": null,
   "metadata": {},
   "outputs": [],
   "source": [
    "# Real Estate Sector: American Tower, Crown Castle, Prologis, Equinix, and Simon Property Group. "
   ]
  },
  {
   "cell_type": "code",
   "execution_count": 92,
   "metadata": {},
   "outputs": [],
   "source": [
    "ticker = R5tickers\n",
    "yahoo_financials = YahooFinancials(ticker)\n",
    "R5_oi=yahoo_financials.get_operating_income()"
   ]
  },
  {
   "cell_type": "code",
   "execution_count": 93,
   "metadata": {},
   "outputs": [],
   "source": [
    "R5_oi_df1 = pd.DataFrame.from_dict(\n",
    "    data=U5_pr,columns=['Operating Income'],orient='index')"
   ]
  },
  {
   "cell_type": "code",
   "execution_count": 96,
   "metadata": {
    "scrolled": true
   },
   "outputs": [
    {
     "data": {
      "text/html": [
       "<div>\n",
       "<style scoped>\n",
       "    .dataframe tbody tr th:only-of-type {\n",
       "        vertical-align: middle;\n",
       "    }\n",
       "\n",
       "    .dataframe tbody tr th {\n",
       "        vertical-align: top;\n",
       "    }\n",
       "\n",
       "    .dataframe thead th {\n",
       "        text-align: right;\n",
       "    }\n",
       "</style>\n",
       "<table border=\"1\" class=\"dataframe\">\n",
       "  <thead>\n",
       "    <tr style=\"text-align: right;\">\n",
       "      <th></th>\n",
       "      <th>Operating Income</th>\n",
       "    </tr>\n",
       "  </thead>\n",
       "  <tbody>\n",
       "    <tr>\n",
       "      <th>D</th>\n",
       "      <td>1.7255</td>\n",
       "    </tr>\n",
       "    <tr>\n",
       "      <th>SO</th>\n",
       "      <td>0.7470</td>\n",
       "    </tr>\n",
       "    <tr>\n",
       "      <th>DUK</th>\n",
       "      <td>0.7421</td>\n",
       "    </tr>\n",
       "    <tr>\n",
       "      <th>AEP</th>\n",
       "      <td>0.7366</td>\n",
       "    </tr>\n",
       "    <tr>\n",
       "      <th>NEE</th>\n",
       "      <td>0.7143</td>\n",
       "    </tr>\n",
       "  </tbody>\n",
       "</table>\n",
       "</div>"
      ],
      "text/plain": [
       "     Operating Income\n",
       "D              1.7255\n",
       "SO             0.7470\n",
       "DUK            0.7421\n",
       "AEP            0.7366\n",
       "NEE            0.7143"
      ]
     },
     "execution_count": 96,
     "metadata": {},
     "output_type": "execute_result"
    }
   ],
   "source": [
    "# Ranking based on gross operating income in Real Estate sector\n",
    "R5_oi_df1.sort_values(['Operating Income'],ascending=False)"
   ]
  },
  {
   "cell_type": "code",
   "execution_count": 100,
   "metadata": {
    "scrolled": true
   },
   "outputs": [
    {
     "name": "stdout",
     "output_type": "stream",
     "text": [
      "Attempting to scrape data for AMT\n",
      "Attempting to scrape data for CCI\n",
      "Attempting to scrape data for PLD\n",
      "Attempting to scrape data for EQIX\n",
      "Attempting to scrape data for SPG\n"
     ]
    }
   ],
   "source": [
    "symbols = R5tickers\n",
    "df_combined = scrape_multi(symbols)"
   ]
  },
  {
   "cell_type": "code",
   "execution_count": 101,
   "metadata": {},
   "outputs": [],
   "source": [
    "R5data=pd.DataFrame(data=df_combined)"
   ]
  },
  {
   "cell_type": "code",
   "execution_count": 102,
   "metadata": {
    "scrolled": true
   },
   "outputs": [],
   "source": [
    "R5_df1=R5data.groupby(['Symbol']).mean()"
   ]
  },
  {
   "cell_type": "code",
   "execution_count": 104,
   "metadata": {
    "scrolled": false
   },
   "outputs": [
    {
     "data": {
      "text/plain": [
       "Symbol\n",
       "EQIX    1670476.8\n",
       "PLD     1924011.4\n",
       "CCI     2328890.0\n",
       "AMT     3379520.8\n",
       "SPG     3647380.0\n",
       "Name: Operating Cash Flow, dtype: float64"
      ]
     },
     "execution_count": 104,
     "metadata": {},
     "output_type": "execute_result"
    }
   ],
   "source": [
    "# Ranking based on Operating Cash Flow in Real Estate Sector\n",
    "R5_df2=R5_df1.sort_values(by='Operating Cash Flow',ascending=True)\n",
    "R5_df2['Operating Cash Flow']"
   ]
  },
  {
   "cell_type": "code",
   "execution_count": null,
   "metadata": {},
   "outputs": [],
   "source": [
    "# Materials sector: Linde, Ecolab, Air Products & Chemicals, Sherwin-Williams, and Newmont Corporation. "
   ]
  },
  {
   "cell_type": "code",
   "execution_count": 112,
   "metadata": {},
   "outputs": [],
   "source": [
    "ticker = M5tickers\n",
    "yahoo_financials = YahooFinancials(ticker)\n",
    "M5_pe=yahoo_financials.get_pe_ratio()"
   ]
  },
  {
   "cell_type": "code",
   "execution_count": 114,
   "metadata": {},
   "outputs": [
    {
     "data": {
      "text/html": [
       "<div>\n",
       "<style scoped>\n",
       "    .dataframe tbody tr th:only-of-type {\n",
       "        vertical-align: middle;\n",
       "    }\n",
       "\n",
       "    .dataframe tbody tr th {\n",
       "        vertical-align: top;\n",
       "    }\n",
       "\n",
       "    .dataframe thead th {\n",
       "        text-align: right;\n",
       "    }\n",
       "</style>\n",
       "<table border=\"1\" class=\"dataframe\">\n",
       "  <thead>\n",
       "    <tr style=\"text-align: right;\">\n",
       "      <th></th>\n",
       "      <th>PE Ratio</th>\n",
       "    </tr>\n",
       "  </thead>\n",
       "  <tbody>\n",
       "    <tr>\n",
       "      <th>NEM</th>\n",
       "      <td>12.918746</td>\n",
       "    </tr>\n",
       "    <tr>\n",
       "      <th>APD</th>\n",
       "      <td>26.903130</td>\n",
       "    </tr>\n",
       "    <tr>\n",
       "      <th>SHW</th>\n",
       "      <td>33.717990</td>\n",
       "    </tr>\n",
       "    <tr>\n",
       "      <th>ECL</th>\n",
       "      <td>37.759926</td>\n",
       "    </tr>\n",
       "    <tr>\n",
       "      <th>LIN</th>\n",
       "      <td>48.126300</td>\n",
       "    </tr>\n",
       "  </tbody>\n",
       "</table>\n",
       "</div>"
      ],
      "text/plain": [
       "      PE Ratio\n",
       "NEM  12.918746\n",
       "APD  26.903130\n",
       "SHW  33.717990\n",
       "ECL  37.759926\n",
       "LIN  48.126300"
      ]
     },
     "execution_count": 114,
     "metadata": {},
     "output_type": "execute_result"
    }
   ],
   "source": [
    "#Ranking based on P/E ratios in Materials sector\n",
    "M5_df1 = pd.DataFrame.from_dict(\n",
    "    data=M5_pe,columns= ['PE Ratio'],orient='index')\n",
    "M5_df1.sort_values(['PE Ratio'],ascending=True)"
   ]
  },
  {
   "cell_type": "code",
   "execution_count": 121,
   "metadata": {},
   "outputs": [],
   "source": [
    "ticker = M5tickers\n",
    "yahoo_financials = YahooFinancials(ticker)\n",
    "M5_eps=yahoo_financials.get_earnings_per_share()"
   ]
  },
  {
   "cell_type": "code",
   "execution_count": 122,
   "metadata": {},
   "outputs": [
    {
     "data": {
      "text/html": [
       "<div>\n",
       "<style scoped>\n",
       "    .dataframe tbody tr th:only-of-type {\n",
       "        vertical-align: middle;\n",
       "    }\n",
       "\n",
       "    .dataframe tbody tr th {\n",
       "        vertical-align: top;\n",
       "    }\n",
       "\n",
       "    .dataframe thead th {\n",
       "        text-align: right;\n",
       "    }\n",
       "</style>\n",
       "<table border=\"1\" class=\"dataframe\">\n",
       "  <thead>\n",
       "    <tr style=\"text-align: right;\">\n",
       "      <th></th>\n",
       "      <th>EPS</th>\n",
       "    </tr>\n",
       "  </thead>\n",
       "  <tbody>\n",
       "    <tr>\n",
       "      <th>SHW</th>\n",
       "      <td>17.340002</td>\n",
       "    </tr>\n",
       "    <tr>\n",
       "      <th>APD</th>\n",
       "      <td>8.754000</td>\n",
       "    </tr>\n",
       "    <tr>\n",
       "      <th>ECL</th>\n",
       "      <td>5.290000</td>\n",
       "    </tr>\n",
       "    <tr>\n",
       "      <th>NEM</th>\n",
       "      <td>4.406000</td>\n",
       "    </tr>\n",
       "    <tr>\n",
       "      <th>LIN</th>\n",
       "      <td>4.323000</td>\n",
       "    </tr>\n",
       "  </tbody>\n",
       "</table>\n",
       "</div>"
      ],
      "text/plain": [
       "           EPS\n",
       "SHW  17.340002\n",
       "APD   8.754000\n",
       "ECL   5.290000\n",
       "NEM   4.406000\n",
       "LIN   4.323000"
      ]
     },
     "execution_count": 122,
     "metadata": {},
     "output_type": "execute_result"
    }
   ],
   "source": [
    "#Ranking based on EPS ratios in Materials sector\n",
    "M5_df2 = pd.DataFrame.from_dict(\n",
    "    data=M5_eps,columns= ['EPS'],orient='index')\n",
    "M5_df2.sort_values(['EPS'],ascending=False)"
   ]
  }
 ],
 "metadata": {
  "kernelspec": {
   "display_name": "Python 3",
   "language": "python",
   "name": "python3"
  },
  "language_info": {
   "codemirror_mode": {
    "name": "ipython",
    "version": 3
   },
   "file_extension": ".py",
   "mimetype": "text/x-python",
   "name": "python",
   "nbconvert_exporter": "python",
   "pygments_lexer": "ipython3",
   "version": "3.7.3"
  }
 },
 "nbformat": 4,
 "nbformat_minor": 2
}
