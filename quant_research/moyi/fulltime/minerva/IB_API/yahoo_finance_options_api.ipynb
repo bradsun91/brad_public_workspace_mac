{
 "cells": [
  {
   "cell_type": "code",
   "execution_count": 1,
   "metadata": {},
   "outputs": [],
   "source": [
    "from yahoo_fin import options\n",
    "import pandas as pd"
   ]
  },
  {
   "cell_type": "markdown",
   "metadata": {},
   "source": [
    "Source website:\n",
    "\n",
    "http://theautomatic.net/2019/04/17/how-to-get-options-data-with-python/"
   ]
  },
  {
   "cell_type": "markdown",
   "metadata": {},
   "source": [
    "In a previous post, we talked about how to get real-time stock prices with Python(http://theautomatic.net/2018/07/31/how-to-get-live-stock-prices-with-python/). This post will go through how to download financial options data with Python. We will be using the yahoo_fin package.\n",
    "\n",
    "The yahoo_fin package comes with a module called options. This module allows you to scrape option chains and get option expiration dates. To get started we’ll just import this module from yahoo_fin."
   ]
  },
  {
   "cell_type": "markdown",
   "metadata": {},
   "source": [
    "# How to get options expiration dates"
   ]
  },
  {
   "cell_type": "markdown",
   "metadata": {},
   "source": [
    "Any option contract has an expiration date. To get all of the option expiration dates for a particular stock, we can use the get_expiration_dates method in the options package. This method is equivalent to scraping all of the date selection boxes on the options page for an individual stock (e.g. https://finance.yahoo.com/quote/NFLX/options?p=NFLX)."
   ]
  },
  {
   "cell_type": "code",
   "execution_count": 4,
   "metadata": {},
   "outputs": [],
   "source": [
    "nflx_dates = options.get_expiration_dates(\"nflx\")"
   ]
  },
  {
   "cell_type": "code",
   "execution_count": 3,
   "metadata": {},
   "outputs": [
    {
     "data": {
      "text/plain": [
       "['January 31, 2020',\n",
       " 'February 7, 2020',\n",
       " 'February 14, 2020',\n",
       " 'February 21, 2020',\n",
       " 'February 28, 2020',\n",
       " 'March 6, 2020',\n",
       " 'March 20, 2020',\n",
       " 'April 17, 2020',\n",
       " 'May 15, 2020',\n",
       " 'June 19, 2020',\n",
       " 'September 18, 2020',\n",
       " 'January 15, 2021',\n",
       " 'June 18, 2021',\n",
       " 'January 21, 2022']"
      ]
     },
     "execution_count": 3,
     "metadata": {},
     "output_type": "execute_result"
    }
   ],
   "source": [
    "nflx_dates"
   ]
  },
  {
   "cell_type": "markdown",
   "metadata": {},
   "source": [
    "# How to get the option chain for a single ticker and expiration date?"
   ]
  },
  {
   "cell_type": "markdown",
   "metadata": {},
   "source": [
    "We can call the get_options_data method to get calls and puts data for some ticker. If no date is passed to this method, it will return the options chain information associated with **the earliest upcoming expiration date**."
   ]
  },
  {
   "cell_type": "code",
   "execution_count": 4,
   "metadata": {},
   "outputs": [],
   "source": [
    "chain = options.get_options_chain(\"nflx\")"
   ]
  },
  {
   "cell_type": "markdown",
   "metadata": {},
   "source": [
    "This method returns a dictionary with two elements. The keys of this dictionary are “calls” and “puts”. Each of these refers to the calls / puts tables scraped from Yahoo Finance, respectively."
   ]
  },
  {
   "cell_type": "code",
   "execution_count": 12,
   "metadata": {},
   "outputs": [
    {
     "data": {
      "text/html": [
       "<div>\n",
       "<style scoped>\n",
       "    .dataframe tbody tr th:only-of-type {\n",
       "        vertical-align: middle;\n",
       "    }\n",
       "\n",
       "    .dataframe tbody tr th {\n",
       "        vertical-align: top;\n",
       "    }\n",
       "\n",
       "    .dataframe thead th {\n",
       "        text-align: right;\n",
       "    }\n",
       "</style>\n",
       "<table border=\"1\" class=\"dataframe\">\n",
       "  <thead>\n",
       "    <tr style=\"text-align: right;\">\n",
       "      <th></th>\n",
       "      <th>Contract Name</th>\n",
       "      <th>Last Trade Date</th>\n",
       "      <th>Strike</th>\n",
       "      <th>Last Price</th>\n",
       "      <th>Bid</th>\n",
       "      <th>Ask</th>\n",
       "      <th>Change</th>\n",
       "      <th>% Change</th>\n",
       "      <th>Volume</th>\n",
       "      <th>Open Interest</th>\n",
       "      <th>Implied Volatility</th>\n",
       "    </tr>\n",
       "  </thead>\n",
       "  <tbody>\n",
       "    <tr>\n",
       "      <th>0</th>\n",
       "      <td>NFLX200131C00220000</td>\n",
       "      <td>2019-12-19 2:03PM EST</td>\n",
       "      <td>220.0</td>\n",
       "      <td>112.21</td>\n",
       "      <td>117.75</td>\n",
       "      <td>121.70</td>\n",
       "      <td>0.00</td>\n",
       "      <td>-</td>\n",
       "      <td>-</td>\n",
       "      <td>4</td>\n",
       "      <td>0.00%</td>\n",
       "    </tr>\n",
       "    <tr>\n",
       "      <th>1</th>\n",
       "      <td>NFLX200131C00230000</td>\n",
       "      <td>2019-12-19 2:03PM EST</td>\n",
       "      <td>230.0</td>\n",
       "      <td>102.61</td>\n",
       "      <td>107.80</td>\n",
       "      <td>111.75</td>\n",
       "      <td>0.00</td>\n",
       "      <td>-</td>\n",
       "      <td>-</td>\n",
       "      <td>2</td>\n",
       "      <td>0.00%</td>\n",
       "    </tr>\n",
       "    <tr>\n",
       "      <th>2</th>\n",
       "      <td>NFLX200131C00235000</td>\n",
       "      <td>2020-01-22 12:12PM EST</td>\n",
       "      <td>235.0</td>\n",
       "      <td>96.75</td>\n",
       "      <td>116.10</td>\n",
       "      <td>118.45</td>\n",
       "      <td>0.00</td>\n",
       "      <td>-</td>\n",
       "      <td>1</td>\n",
       "      <td>1</td>\n",
       "      <td>146.68%</td>\n",
       "    </tr>\n",
       "    <tr>\n",
       "      <th>3</th>\n",
       "      <td>NFLX200131C00245000</td>\n",
       "      <td>2019-12-24 9:38AM EST</td>\n",
       "      <td>245.0</td>\n",
       "      <td>89.85</td>\n",
       "      <td>107.15</td>\n",
       "      <td>109.55</td>\n",
       "      <td>0.00</td>\n",
       "      <td>-</td>\n",
       "      <td>4</td>\n",
       "      <td>1</td>\n",
       "      <td>125.78%</td>\n",
       "    </tr>\n",
       "    <tr>\n",
       "      <th>4</th>\n",
       "      <td>NFLX200131C00250000</td>\n",
       "      <td>2020-01-22 11:02AM EST</td>\n",
       "      <td>250.0</td>\n",
       "      <td>80.40</td>\n",
       "      <td>102.60</td>\n",
       "      <td>105.20</td>\n",
       "      <td>0.00</td>\n",
       "      <td>-</td>\n",
       "      <td>-</td>\n",
       "      <td>-</td>\n",
       "      <td>147.27%</td>\n",
       "    </tr>\n",
       "    <tr>\n",
       "      <th>...</th>\n",
       "      <td>...</td>\n",
       "      <td>...</td>\n",
       "      <td>...</td>\n",
       "      <td>...</td>\n",
       "      <td>...</td>\n",
       "      <td>...</td>\n",
       "      <td>...</td>\n",
       "      <td>...</td>\n",
       "      <td>...</td>\n",
       "      <td>...</td>\n",
       "      <td>...</td>\n",
       "    </tr>\n",
       "    <tr>\n",
       "      <th>57</th>\n",
       "      <td>NFLX200131C00400000</td>\n",
       "      <td>2020-01-24 9:50AM EST</td>\n",
       "      <td>400.0</td>\n",
       "      <td>0.50</td>\n",
       "      <td>0.45</td>\n",
       "      <td>0.52</td>\n",
       "      <td>-0.10</td>\n",
       "      <td>-16.67%</td>\n",
       "      <td>258</td>\n",
       "      <td>2605</td>\n",
       "      <td>56.74%</td>\n",
       "    </tr>\n",
       "    <tr>\n",
       "      <th>58</th>\n",
       "      <td>NFLX200131C00405000</td>\n",
       "      <td>2020-01-24 9:44AM EST</td>\n",
       "      <td>405.0</td>\n",
       "      <td>0.56</td>\n",
       "      <td>0.37</td>\n",
       "      <td>0.57</td>\n",
       "      <td>0.24</td>\n",
       "      <td>+75.00%</td>\n",
       "      <td>9</td>\n",
       "      <td>570</td>\n",
       "      <td>60.84%</td>\n",
       "    </tr>\n",
       "    <tr>\n",
       "      <th>59</th>\n",
       "      <td>NFLX200131C00410000</td>\n",
       "      <td>2020-01-24 9:48AM EST</td>\n",
       "      <td>410.0</td>\n",
       "      <td>0.30</td>\n",
       "      <td>0.31</td>\n",
       "      <td>0.41</td>\n",
       "      <td>-0.15</td>\n",
       "      <td>-33.33%</td>\n",
       "      <td>17</td>\n",
       "      <td>785</td>\n",
       "      <td>62.16%</td>\n",
       "    </tr>\n",
       "    <tr>\n",
       "      <th>60</th>\n",
       "      <td>NFLX200131C00415000</td>\n",
       "      <td>2020-01-24 9:47AM EST</td>\n",
       "      <td>415.0</td>\n",
       "      <td>0.26</td>\n",
       "      <td>0.20</td>\n",
       "      <td>0.36</td>\n",
       "      <td>-0.13</td>\n",
       "      <td>-33.33%</td>\n",
       "      <td>11</td>\n",
       "      <td>529</td>\n",
       "      <td>63.57%</td>\n",
       "    </tr>\n",
       "    <tr>\n",
       "      <th>61</th>\n",
       "      <td>NFLX200131C00420000</td>\n",
       "      <td>2020-01-24 9:52AM EST</td>\n",
       "      <td>420.0</td>\n",
       "      <td>0.25</td>\n",
       "      <td>0.20</td>\n",
       "      <td>0.30</td>\n",
       "      <td>-0.08</td>\n",
       "      <td>-24.24%</td>\n",
       "      <td>122</td>\n",
       "      <td>1578</td>\n",
       "      <td>66.31%</td>\n",
       "    </tr>\n",
       "  </tbody>\n",
       "</table>\n",
       "<p>62 rows × 11 columns</p>\n",
       "</div>"
      ],
      "text/plain": [
       "          Contract Name         Last Trade Date  Strike  Last Price     Bid  \\\n",
       "0   NFLX200131C00220000   2019-12-19 2:03PM EST   220.0      112.21  117.75   \n",
       "1   NFLX200131C00230000   2019-12-19 2:03PM EST   230.0      102.61  107.80   \n",
       "2   NFLX200131C00235000  2020-01-22 12:12PM EST   235.0       96.75  116.10   \n",
       "3   NFLX200131C00245000   2019-12-24 9:38AM EST   245.0       89.85  107.15   \n",
       "4   NFLX200131C00250000  2020-01-22 11:02AM EST   250.0       80.40  102.60   \n",
       "..                  ...                     ...     ...         ...     ...   \n",
       "57  NFLX200131C00400000   2020-01-24 9:50AM EST   400.0        0.50    0.45   \n",
       "58  NFLX200131C00405000   2020-01-24 9:44AM EST   405.0        0.56    0.37   \n",
       "59  NFLX200131C00410000   2020-01-24 9:48AM EST   410.0        0.30    0.31   \n",
       "60  NFLX200131C00415000   2020-01-24 9:47AM EST   415.0        0.26    0.20   \n",
       "61  NFLX200131C00420000   2020-01-24 9:52AM EST   420.0        0.25    0.20   \n",
       "\n",
       "       Ask  Change % Change Volume Open Interest Implied Volatility  \n",
       "0   121.70    0.00        -      -             4              0.00%  \n",
       "1   111.75    0.00        -      -             2              0.00%  \n",
       "2   118.45    0.00        -      1             1            146.68%  \n",
       "3   109.55    0.00        -      4             1            125.78%  \n",
       "4   105.20    0.00        -      -             -            147.27%  \n",
       "..     ...     ...      ...    ...           ...                ...  \n",
       "57    0.52   -0.10  -16.67%    258          2605             56.74%  \n",
       "58    0.57    0.24  +75.00%      9           570             60.84%  \n",
       "59    0.41   -0.15  -33.33%     17           785             62.16%  \n",
       "60    0.36   -0.13  -33.33%     11           529             63.57%  \n",
       "61    0.30   -0.08  -24.24%    122          1578             66.31%  \n",
       "\n",
       "[62 rows x 11 columns]"
      ]
     },
     "execution_count": 12,
     "metadata": {},
     "output_type": "execute_result"
    }
   ],
   "source": [
    "chain['calls']"
   ]
  },
  {
   "cell_type": "code",
   "execution_count": 11,
   "metadata": {},
   "outputs": [
    {
     "data": {
      "text/plain": [
       "Last Trade Date\n",
       "2019-12-19 2:03PM EST     2\n",
       "2019-12-24 9:38AM EST     1\n",
       "2019-12-31 9:30AM EST     1\n",
       "2020-01-14 11:55AM EST    1\n",
       "2020-01-15 2:50PM EST     1\n",
       "2020-01-17 11:38AM EST    1\n",
       "2020-01-21 10:28AM EST    1\n",
       "2020-01-22 11:02AM EST    1\n",
       "2020-01-22 12:12PM EST    1\n",
       "2020-01-22 1:50PM EST     1\n",
       "2020-01-22 3:04PM EST     1\n",
       "2020-01-22 3:08PM EST     1\n",
       "2020-01-22 3:22PM EST     2\n",
       "2020-01-22 9:43AM EST     1\n",
       "2020-01-23 10:19AM EST    1\n",
       "2020-01-23 10:37AM EST    1\n",
       "2020-01-23 11:52AM EST    1\n",
       "2020-01-23 12:56PM EST    1\n",
       "2020-01-23 1:32PM EST     1\n",
       "2020-01-23 3:24PM EST     1\n",
       "2020-01-23 3:40PM EST     1\n",
       "2020-01-23 3:47PM EST     1\n",
       "2020-01-23 3:52PM EST     1\n",
       "2020-01-23 3:56PM EST     1\n",
       "2020-01-24 9:33AM EST     1\n",
       "2020-01-24 9:38AM EST     1\n",
       "2020-01-24 9:43AM EST     3\n",
       "2020-01-24 9:44AM EST     5\n",
       "2020-01-24 9:46AM EST     1\n",
       "2020-01-24 9:47AM EST     1\n",
       "2020-01-24 9:48AM EST     3\n",
       "2020-01-24 9:49AM EST     3\n",
       "2020-01-24 9:50AM EST     3\n",
       "2020-01-24 9:51AM EST     9\n",
       "2020-01-24 9:52AM EST     6\n",
       "Name: Strike, dtype: int64"
      ]
     },
     "execution_count": 11,
     "metadata": {},
     "output_type": "execute_result"
    }
   ],
   "source": [
    "chain['calls'].groupby(['Last Trade Date'])['Strike'].count()"
   ]
  },
  {
   "cell_type": "code",
   "execution_count": 14,
   "metadata": {},
   "outputs": [
    {
     "data": {
      "text/html": [
       "<div>\n",
       "<style scoped>\n",
       "    .dataframe tbody tr th:only-of-type {\n",
       "        vertical-align: middle;\n",
       "    }\n",
       "\n",
       "    .dataframe tbody tr th {\n",
       "        vertical-align: top;\n",
       "    }\n",
       "\n",
       "    .dataframe thead th {\n",
       "        text-align: right;\n",
       "    }\n",
       "</style>\n",
       "<table border=\"1\" class=\"dataframe\">\n",
       "  <thead>\n",
       "    <tr style=\"text-align: right;\">\n",
       "      <th></th>\n",
       "      <th>Contract Name</th>\n",
       "      <th>Last Trade Date</th>\n",
       "      <th>Strike</th>\n",
       "      <th>Last Price</th>\n",
       "      <th>Bid</th>\n",
       "      <th>Ask</th>\n",
       "      <th>Change</th>\n",
       "      <th>% Change</th>\n",
       "      <th>Volume</th>\n",
       "      <th>Open Interest</th>\n",
       "      <th>Implied Volatility</th>\n",
       "    </tr>\n",
       "  </thead>\n",
       "  <tbody>\n",
       "    <tr>\n",
       "      <th>0</th>\n",
       "      <td>NFLX200131P00210000</td>\n",
       "      <td>2020-01-23 11:55AM EST</td>\n",
       "      <td>210.0</td>\n",
       "      <td>0.01</td>\n",
       "      <td>0.00</td>\n",
       "      <td>0.02</td>\n",
       "      <td>0.0</td>\n",
       "      <td>-</td>\n",
       "      <td>9</td>\n",
       "      <td>16</td>\n",
       "      <td>128.13%</td>\n",
       "    </tr>\n",
       "    <tr>\n",
       "      <th>1</th>\n",
       "      <td>NFLX200131P00215000</td>\n",
       "      <td>2020-01-22 2:59PM EST</td>\n",
       "      <td>215.0</td>\n",
       "      <td>0.01</td>\n",
       "      <td>0.00</td>\n",
       "      <td>0.11</td>\n",
       "      <td>0.0</td>\n",
       "      <td>-</td>\n",
       "      <td>1</td>\n",
       "      <td>2</td>\n",
       "      <td>143.75%</td>\n",
       "    </tr>\n",
       "    <tr>\n",
       "      <th>2</th>\n",
       "      <td>NFLX200131P00220000</td>\n",
       "      <td>2020-01-21 3:08PM EST</td>\n",
       "      <td>220.0</td>\n",
       "      <td>0.03</td>\n",
       "      <td>0.00</td>\n",
       "      <td>0.02</td>\n",
       "      <td>0.0</td>\n",
       "      <td>-</td>\n",
       "      <td>10</td>\n",
       "      <td>23</td>\n",
       "      <td>118.75%</td>\n",
       "    </tr>\n",
       "    <tr>\n",
       "      <th>3</th>\n",
       "      <td>NFLX200131P00225000</td>\n",
       "      <td>2020-01-23 10:29AM EST</td>\n",
       "      <td>225.0</td>\n",
       "      <td>0.01</td>\n",
       "      <td>0.01</td>\n",
       "      <td>0.02</td>\n",
       "      <td>0.0</td>\n",
       "      <td>-</td>\n",
       "      <td>178</td>\n",
       "      <td>33</td>\n",
       "      <td>116.41%</td>\n",
       "    </tr>\n",
       "    <tr>\n",
       "      <th>4</th>\n",
       "      <td>NFLX200131P00230000</td>\n",
       "      <td>2020-01-21 3:41PM EST</td>\n",
       "      <td>230.0</td>\n",
       "      <td>0.08</td>\n",
       "      <td>0.00</td>\n",
       "      <td>0.11</td>\n",
       "      <td>0.0</td>\n",
       "      <td>-</td>\n",
       "      <td>7</td>\n",
       "      <td>9</td>\n",
       "      <td>125.78%</td>\n",
       "    </tr>\n",
       "  </tbody>\n",
       "</table>\n",
       "</div>"
      ],
      "text/plain": [
       "         Contract Name         Last Trade Date  Strike  Last Price   Bid  \\\n",
       "0  NFLX200131P00210000  2020-01-23 11:55AM EST   210.0        0.01  0.00   \n",
       "1  NFLX200131P00215000   2020-01-22 2:59PM EST   215.0        0.01  0.00   \n",
       "2  NFLX200131P00220000   2020-01-21 3:08PM EST   220.0        0.03  0.00   \n",
       "3  NFLX200131P00225000  2020-01-23 10:29AM EST   225.0        0.01  0.01   \n",
       "4  NFLX200131P00230000   2020-01-21 3:41PM EST   230.0        0.08  0.00   \n",
       "\n",
       "    Ask  Change % Change Volume Open Interest Implied Volatility  \n",
       "0  0.02     0.0        -      9            16            128.13%  \n",
       "1  0.11     0.0        -      1             2            143.75%  \n",
       "2  0.02     0.0        -     10            23            118.75%  \n",
       "3  0.02     0.0        -    178            33            116.41%  \n",
       "4  0.11     0.0        -      7             9            125.78%  "
      ]
     },
     "execution_count": 14,
     "metadata": {},
     "output_type": "execute_result"
    }
   ],
   "source": [
    "chain['puts'].head()"
   ]
  },
  {
   "cell_type": "markdown",
   "metadata": {},
   "source": [
    "To get the data for a specific expiration date, we can just pass whatever date we need to the get_options_chain method. A variety of date formats are supported."
   ]
  },
  {
   "cell_type": "code",
   "execution_count": 2,
   "metadata": {
    "collapsed": true
   },
   "outputs": [
    {
     "ename": "ValueError",
     "evalue": "No tables found",
     "output_type": "error",
     "traceback": [
      "\u001b[0;31m---------------------------------------------------------------------------\u001b[0m",
      "\u001b[0;31mValueError\u001b[0m                                Traceback (most recent call last)",
      "\u001b[0;32m<ipython-input-2-a5706858c02e>\u001b[0m in \u001b[0;36m<module>\u001b[0;34m\u001b[0m\n\u001b[0;32m----> 1\u001b[0;31m \u001b[0moptions\u001b[0m\u001b[0;34m.\u001b[0m\u001b[0mget_options_chain\u001b[0m\u001b[0;34m(\u001b[0m\u001b[0;34m\"nflx\"\u001b[0m\u001b[0;34m,\u001b[0m \u001b[0;34m\"April 26, 2019\"\u001b[0m\u001b[0;34m)\u001b[0m\u001b[0;34m\u001b[0m\u001b[0;34m\u001b[0m\u001b[0m\n\u001b[0m",
      "\u001b[0;32m~/anaconda3/envs/py36/lib/python3.6/site-packages/yahoo_fin/options.py\u001b[0m in \u001b[0;36mget_options_chain\u001b[0;34m(ticker, date)\u001b[0m\n\u001b[1;32m     30\u001b[0m     \u001b[0msite\u001b[0m \u001b[0;34m=\u001b[0m \u001b[0mbuild_options_url\u001b[0m\u001b[0;34m(\u001b[0m\u001b[0mticker\u001b[0m\u001b[0;34m,\u001b[0m \u001b[0mdate\u001b[0m\u001b[0;34m)\u001b[0m\u001b[0;34m\u001b[0m\u001b[0;34m\u001b[0m\u001b[0m\n\u001b[1;32m     31\u001b[0m \u001b[0;34m\u001b[0m\u001b[0m\n\u001b[0;32m---> 32\u001b[0;31m     \u001b[0mtables\u001b[0m \u001b[0;34m=\u001b[0m \u001b[0mpd\u001b[0m\u001b[0;34m.\u001b[0m\u001b[0mread_html\u001b[0m\u001b[0;34m(\u001b[0m\u001b[0msite\u001b[0m\u001b[0;34m)\u001b[0m\u001b[0;34m\u001b[0m\u001b[0;34m\u001b[0m\u001b[0m\n\u001b[0m\u001b[1;32m     33\u001b[0m \u001b[0;34m\u001b[0m\u001b[0m\n\u001b[1;32m     34\u001b[0m \u001b[0;34m\u001b[0m\u001b[0m\n",
      "\u001b[0;32m~/anaconda3/envs/py36/lib/python3.6/site-packages/pandas/io/html.py\u001b[0m in \u001b[0;36mread_html\u001b[0;34m(io, match, flavor, header, index_col, skiprows, attrs, parse_dates, thousands, encoding, decimal, converters, na_values, keep_default_na, displayed_only)\u001b[0m\n\u001b[1;32m   1103\u001b[0m         \u001b[0mna_values\u001b[0m\u001b[0;34m=\u001b[0m\u001b[0mna_values\u001b[0m\u001b[0;34m,\u001b[0m\u001b[0;34m\u001b[0m\u001b[0;34m\u001b[0m\u001b[0m\n\u001b[1;32m   1104\u001b[0m         \u001b[0mkeep_default_na\u001b[0m\u001b[0;34m=\u001b[0m\u001b[0mkeep_default_na\u001b[0m\u001b[0;34m,\u001b[0m\u001b[0;34m\u001b[0m\u001b[0;34m\u001b[0m\u001b[0m\n\u001b[0;32m-> 1105\u001b[0;31m         \u001b[0mdisplayed_only\u001b[0m\u001b[0;34m=\u001b[0m\u001b[0mdisplayed_only\u001b[0m\u001b[0;34m,\u001b[0m\u001b[0;34m\u001b[0m\u001b[0;34m\u001b[0m\u001b[0m\n\u001b[0m\u001b[1;32m   1106\u001b[0m     )\n",
      "\u001b[0;32m~/anaconda3/envs/py36/lib/python3.6/site-packages/pandas/io/html.py\u001b[0m in \u001b[0;36m_parse\u001b[0;34m(flavor, io, match, attrs, encoding, displayed_only, **kwargs)\u001b[0m\n\u001b[1;32m    910\u001b[0m             \u001b[0;32mbreak\u001b[0m\u001b[0;34m\u001b[0m\u001b[0;34m\u001b[0m\u001b[0m\n\u001b[1;32m    911\u001b[0m     \u001b[0;32melse\u001b[0m\u001b[0;34m:\u001b[0m\u001b[0;34m\u001b[0m\u001b[0;34m\u001b[0m\u001b[0m\n\u001b[0;32m--> 912\u001b[0;31m         \u001b[0mraise_with_traceback\u001b[0m\u001b[0;34m(\u001b[0m\u001b[0mretained\u001b[0m\u001b[0;34m)\u001b[0m\u001b[0;34m\u001b[0m\u001b[0;34m\u001b[0m\u001b[0m\n\u001b[0m\u001b[1;32m    913\u001b[0m \u001b[0;34m\u001b[0m\u001b[0m\n\u001b[1;32m    914\u001b[0m     \u001b[0mret\u001b[0m \u001b[0;34m=\u001b[0m \u001b[0;34m[\u001b[0m\u001b[0;34m]\u001b[0m\u001b[0;34m\u001b[0m\u001b[0;34m\u001b[0m\u001b[0m\n",
      "\u001b[0;32m~/anaconda3/envs/py36/lib/python3.6/site-packages/pandas/compat/__init__.py\u001b[0m in \u001b[0;36mraise_with_traceback\u001b[0;34m(exc, traceback)\u001b[0m\n\u001b[1;32m     45\u001b[0m     \u001b[0;32mif\u001b[0m \u001b[0mtraceback\u001b[0m \u001b[0;34m==\u001b[0m \u001b[0mEllipsis\u001b[0m\u001b[0;34m:\u001b[0m\u001b[0;34m\u001b[0m\u001b[0;34m\u001b[0m\u001b[0m\n\u001b[1;32m     46\u001b[0m         \u001b[0m_\u001b[0m\u001b[0;34m,\u001b[0m \u001b[0m_\u001b[0m\u001b[0;34m,\u001b[0m \u001b[0mtraceback\u001b[0m \u001b[0;34m=\u001b[0m \u001b[0msys\u001b[0m\u001b[0;34m.\u001b[0m\u001b[0mexc_info\u001b[0m\u001b[0;34m(\u001b[0m\u001b[0;34m)\u001b[0m\u001b[0;34m\u001b[0m\u001b[0;34m\u001b[0m\u001b[0m\n\u001b[0;32m---> 47\u001b[0;31m     \u001b[0;32mraise\u001b[0m \u001b[0mexc\u001b[0m\u001b[0;34m.\u001b[0m\u001b[0mwith_traceback\u001b[0m\u001b[0;34m(\u001b[0m\u001b[0mtraceback\u001b[0m\u001b[0;34m)\u001b[0m\u001b[0;34m\u001b[0m\u001b[0;34m\u001b[0m\u001b[0m\n\u001b[0m\u001b[1;32m     48\u001b[0m \u001b[0;34m\u001b[0m\u001b[0m\n\u001b[1;32m     49\u001b[0m \u001b[0;34m\u001b[0m\u001b[0m\n",
      "\u001b[0;31mValueError\u001b[0m: No tables found"
     ]
    }
   ],
   "source": [
    "# No historical data that already expired can be provided through yahoo finance\n",
    "options.get_options_chain(\"nflx\", \"April 26, 2019\")\n",
    "options.get_options_chain(\"nflx\", \"05/03/19\")\n",
    "options.get_options_chain(\"nflx\", \"05/10/2020\")"
   ]
  },
  {
   "cell_type": "markdown",
   "metadata": {},
   "source": [
    "If you want to just get the calls or puts information directly, rather than both in a single dictionary, you can use the get_calls and get_puts methods respectively."
   ]
  },
  {
   "cell_type": "code",
   "execution_count": 13,
   "metadata": {},
   "outputs": [],
   "source": [
    "call_chain = options.get_calls(\"nflx\")"
   ]
  },
  {
   "cell_type": "code",
   "execution_count": 15,
   "metadata": {},
   "outputs": [
    {
     "data": {
      "text/html": [
       "<div>\n",
       "<style scoped>\n",
       "    .dataframe tbody tr th:only-of-type {\n",
       "        vertical-align: middle;\n",
       "    }\n",
       "\n",
       "    .dataframe tbody tr th {\n",
       "        vertical-align: top;\n",
       "    }\n",
       "\n",
       "    .dataframe thead th {\n",
       "        text-align: right;\n",
       "    }\n",
       "</style>\n",
       "<table border=\"1\" class=\"dataframe\">\n",
       "  <thead>\n",
       "    <tr style=\"text-align: right;\">\n",
       "      <th></th>\n",
       "      <th>Contract Name</th>\n",
       "      <th>Last Trade Date</th>\n",
       "      <th>Strike</th>\n",
       "      <th>Last Price</th>\n",
       "      <th>Bid</th>\n",
       "      <th>Ask</th>\n",
       "      <th>Change</th>\n",
       "      <th>% Change</th>\n",
       "      <th>Volume</th>\n",
       "      <th>Open Interest</th>\n",
       "      <th>Implied Volatility</th>\n",
       "    </tr>\n",
       "  </thead>\n",
       "  <tbody>\n",
       "    <tr>\n",
       "      <th>0</th>\n",
       "      <td>NFLX200131C00220000</td>\n",
       "      <td>2019-12-19 2:03PM EST</td>\n",
       "      <td>220.0</td>\n",
       "      <td>112.21</td>\n",
       "      <td>117.75</td>\n",
       "      <td>121.70</td>\n",
       "      <td>0.0</td>\n",
       "      <td>-</td>\n",
       "      <td>-</td>\n",
       "      <td>4</td>\n",
       "      <td>0.00%</td>\n",
       "    </tr>\n",
       "    <tr>\n",
       "      <th>1</th>\n",
       "      <td>NFLX200131C00230000</td>\n",
       "      <td>2019-12-19 2:03PM EST</td>\n",
       "      <td>230.0</td>\n",
       "      <td>102.61</td>\n",
       "      <td>107.80</td>\n",
       "      <td>111.75</td>\n",
       "      <td>0.0</td>\n",
       "      <td>-</td>\n",
       "      <td>-</td>\n",
       "      <td>2</td>\n",
       "      <td>0.00%</td>\n",
       "    </tr>\n",
       "    <tr>\n",
       "      <th>2</th>\n",
       "      <td>NFLX200131C00235000</td>\n",
       "      <td>2020-01-22 12:12PM EST</td>\n",
       "      <td>235.0</td>\n",
       "      <td>96.75</td>\n",
       "      <td>116.10</td>\n",
       "      <td>118.45</td>\n",
       "      <td>0.0</td>\n",
       "      <td>-</td>\n",
       "      <td>1</td>\n",
       "      <td>1</td>\n",
       "      <td>146.68%</td>\n",
       "    </tr>\n",
       "    <tr>\n",
       "      <th>3</th>\n",
       "      <td>NFLX200131C00245000</td>\n",
       "      <td>2019-12-24 9:38AM EST</td>\n",
       "      <td>245.0</td>\n",
       "      <td>89.85</td>\n",
       "      <td>107.15</td>\n",
       "      <td>109.55</td>\n",
       "      <td>0.0</td>\n",
       "      <td>-</td>\n",
       "      <td>4</td>\n",
       "      <td>1</td>\n",
       "      <td>125.78%</td>\n",
       "    </tr>\n",
       "    <tr>\n",
       "      <th>4</th>\n",
       "      <td>NFLX200131C00250000</td>\n",
       "      <td>2020-01-22 11:02AM EST</td>\n",
       "      <td>250.0</td>\n",
       "      <td>80.40</td>\n",
       "      <td>102.60</td>\n",
       "      <td>105.20</td>\n",
       "      <td>0.0</td>\n",
       "      <td>-</td>\n",
       "      <td>-</td>\n",
       "      <td>-</td>\n",
       "      <td>147.27%</td>\n",
       "    </tr>\n",
       "  </tbody>\n",
       "</table>\n",
       "</div>"
      ],
      "text/plain": [
       "         Contract Name         Last Trade Date  Strike  Last Price     Bid  \\\n",
       "0  NFLX200131C00220000   2019-12-19 2:03PM EST   220.0      112.21  117.75   \n",
       "1  NFLX200131C00230000   2019-12-19 2:03PM EST   230.0      102.61  107.80   \n",
       "2  NFLX200131C00235000  2020-01-22 12:12PM EST   235.0       96.75  116.10   \n",
       "3  NFLX200131C00245000   2019-12-24 9:38AM EST   245.0       89.85  107.15   \n",
       "4  NFLX200131C00250000  2020-01-22 11:02AM EST   250.0       80.40  102.60   \n",
       "\n",
       "      Ask  Change % Change Volume Open Interest Implied Volatility  \n",
       "0  121.70     0.0        -      -             4              0.00%  \n",
       "1  111.75     0.0        -      -             2              0.00%  \n",
       "2  118.45     0.0        -      1             1            146.68%  \n",
       "3  109.55     0.0        -      4             1            125.78%  \n",
       "4  105.20     0.0        -      -             -            147.27%  "
      ]
     },
     "execution_count": 15,
     "metadata": {},
     "output_type": "execute_result"
    }
   ],
   "source": [
    "call_chain.head()"
   ]
  },
  {
   "cell_type": "code",
   "execution_count": null,
   "metadata": {},
   "outputs": [],
   "source": [
    "options.get_calls(\"nflx\", \"04/26/19\")\n",
    "options.get_puts(\"nflx\")\n",
    "options.get_puts(\"nflx\", \"04/26/19\")"
   ]
  },
  {
   "cell_type": "markdown",
   "metadata": {},
   "source": [
    "# How to get options data for each expiration date\n",
    "\n",
    "Extending the code from above, if we want to get the options data for each expiration date for a given ticker, we can do it like below."
   ]
  },
  {
   "cell_type": "code",
   "execution_count": 2,
   "metadata": {},
   "outputs": [
    {
     "name": "stdout",
     "output_type": "stream",
     "text": [
      "date:  January 31, 2020\n",
      "date:  February 7, 2020\n",
      "date:  February 14, 2020\n",
      "date:  February 21, 2020\n",
      "date:  February 28, 2020\n",
      "date:  March 6, 2020\n",
      "date:  March 20, 2020\n",
      "date:  April 17, 2020\n",
      "date:  May 15, 2020\n",
      "date:  June 19, 2020\n",
      "date:  September 18, 2020\n",
      "date:  January 15, 2021\n",
      "date:  June 18, 2021\n",
      "date:  January 21, 2022\n"
     ]
    }
   ],
   "source": [
    "nflx_dates= options.get_expiration_dates(\"nflx\")\n",
    "\n",
    "info = {}\n",
    "for date in nflx_dates:\n",
    "    print(\"date: \", date)\n",
    "    info[date] = options.get_options_chain(\"nflx\")"
   ]
  },
  {
   "cell_type": "code",
   "execution_count": 18,
   "metadata": {},
   "outputs": [
    {
     "data": {
      "text/plain": [
       "dict_keys(['January 31, 2020', 'February 7, 2020', 'February 14, 2020', 'February 21, 2020', 'February 28, 2020', 'March 6, 2020', 'March 20, 2020', 'April 17, 2020', 'May 15, 2020', 'June 19, 2020', 'September 18, 2020', 'January 15, 2021', 'June 18, 2021', 'January 21, 2022'])"
      ]
     },
     "execution_count": 18,
     "metadata": {},
     "output_type": "execute_result"
    }
   ],
   "source": [
    "info.keys()"
   ]
  },
  {
   "cell_type": "markdown",
   "metadata": {},
   "source": [
    "Now we can view the data for an individual expiration date by using the date as a key:"
   ]
  },
  {
   "cell_type": "code",
   "execution_count": 15,
   "metadata": {},
   "outputs": [],
   "source": [
    "info[\"January 31, 2020\"]['calls'].to_csv(\"nflx_jan31_2020_call_options_data_sample.csv\", index = False)"
   ]
  },
  {
   "cell_type": "code",
   "execution_count": 17,
   "metadata": {},
   "outputs": [],
   "source": [
    "info[\"January 31, 2020\"]['puts'].to_csv(\"nflx_jan31_2020_put_options_data_sample.csv\", index = False)"
   ]
  },
  {
   "cell_type": "code",
   "execution_count": 18,
   "metadata": {},
   "outputs": [],
   "source": [
    "info[\"February 7, 2020\"]['calls'].to_csv(\"nflx_feb7_2020_call_options_data_sample.csv\", index = False)"
   ]
  },
  {
   "cell_type": "code",
   "execution_count": 19,
   "metadata": {},
   "outputs": [],
   "source": [
    "info[\"February 7, 2020\"]['puts'].to_csv(\"nflx_feb7_2020_put_options_data_sample.csv\", index = False)"
   ]
  },
  {
   "cell_type": "markdown",
   "metadata": {},
   "source": [
    "# How to get options data for every stock in the Dow"
   ]
  },
  {
   "cell_type": "markdown",
   "metadata": {},
   "source": [
    "Suppose instead that we want to get the options data for each stock in the Dow. To get the data for the next expiration date for each stock, we just need to call options.get_options_chain for each of the Dow’s tickers. We can obtain those using the stock_info module within yahoo_fin."
   ]
  },
  {
   "cell_type": "code",
   "execution_count": null,
   "metadata": {},
   "outputs": [],
   "source": [
    "from yahoo_fin import stock_info as si\n",
    "\n",
    "dow_tickers = si.tickers_dow()\n",
    "\n",
    "# replace DOW with DWDP in ticker list\n",
    "dow_tickers.remove(\"DOW\")\n",
    "dow_tickers.append(\"DWDP\")\n",
    "\n",
    "# scrape the options data for each Dow ticker\n",
    "dow_data = {}\n",
    "for ticker in dow_tickers:\n",
    "    try:\n",
    "        dow_data[ticker] = options.get_options_chain(ticker)\n",
    "    except Exception:\n",
    "        print(ticker + \" failed\")"
   ]
  },
  {
   "cell_type": "markdown",
   "metadata": {},
   "source": [
    "Now we can refer to any Dow stock’s data by its ticker."
   ]
  },
  {
   "cell_type": "code",
   "execution_count": null,
   "metadata": {},
   "outputs": [],
   "source": [
    "dow_data[\"AAPL\"][\"calls\"]"
   ]
  },
  {
   "cell_type": "code",
   "execution_count": null,
   "metadata": {},
   "outputs": [],
   "source": [
    "dow_data[\"WMT\"][\"calls\"]"
   ]
  }
 ],
 "metadata": {
  "kernelspec": {
   "display_name": "Python 3",
   "language": "python",
   "name": "python3"
  },
  "language_info": {
   "codemirror_mode": {
    "name": "ipython",
    "version": 3
   },
   "file_extension": ".py",
   "mimetype": "text/x-python",
   "name": "python",
   "nbconvert_exporter": "python",
   "pygments_lexer": "ipython3",
   "version": "3.6.10"
  }
 },
 "nbformat": 4,
 "nbformat_minor": 2
}
