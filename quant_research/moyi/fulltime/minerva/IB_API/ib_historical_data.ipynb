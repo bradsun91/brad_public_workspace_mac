{
 "nbformat": 4,
 "nbformat_minor": 2,
 "metadata": {
  "language_info": {
   "name": "python",
   "codemirror_mode": {
    "name": "ipython",
    "version": 3
   },
   "version": "3.7.6-final"
  },
  "orig_nbformat": 2,
  "file_extension": ".py",
  "mimetype": "text/x-python",
  "name": "python",
  "npconvert_exporter": "python",
  "pygments_lexer": "ipython3",
  "version": 3,
  "kernelspec": {
   "name": "python37632bitb6a6102565734a46a59fde2c500e7b8a",
   "display_name": "Python 3.7.6 32-bit"
  }
 },
 "cells": [
  {
   "cell_type": "code",
   "execution_count": 3,
   "metadata": {},
   "outputs": [],
   "source": [
    "#import required packages\n",
    "#使用ib_insync是一个能比较简单的提取数据的包（相比于ib_api自带的功能）\n",
    "import pandas as pd\n",
    "from ib_insync import *\n",
    "util.startLoop()"
   ]
  },
  {
   "cell_type": "code",
   "execution_count": null,
   "metadata": {},
   "outputs": [],
   "source": []
  },
  {
   "cell_type": "code",
   "execution_count": 4,
   "metadata": {},
   "outputs": [
    {
     "data": {
      "text/plain": "<IB connected to 127.0.0.1:7496 clientId=100>"
     },
     "execution_count": 4,
     "metadata": {},
     "output_type": "execute_result"
    }
   ],
   "source": [
    "#establish connection with IB TWS\n",
    "ib = IB()\n",
    "ib.connect('127.0.0.1', 7496, clientId=100)\n",
    " "
   ]
  },
  {
   "cell_type": "code",
   "execution_count": 25,
   "metadata": {},
   "outputs": [
    {
     "data": {
      "text/html": "<div>\n<style scoped>\n    .dataframe tbody tr th:only-of-type {\n        vertical-align: middle;\n    }\n\n    .dataframe tbody tr th {\n        vertical-align: top;\n    }\n\n    .dataframe thead th {\n        text-align: right;\n    }\n</style>\n<table border=\"1\" class=\"dataframe\">\n  <thead>\n    <tr style=\"text-align: right;\">\n      <th></th>\n      <th>date</th>\n      <th>open</th>\n      <th>high</th>\n      <th>low</th>\n      <th>close</th>\n      <th>volume</th>\n      <th>average</th>\n      <th>barCount</th>\n    </tr>\n  </thead>\n  <tbody>\n    <tr>\n      <th>0</th>\n      <td>2019-01-22</td>\n      <td>109.6625</td>\n      <td>109.6970</td>\n      <td>109.1465</td>\n      <td>109.3805</td>\n      <td>-1</td>\n      <td>-1.0</td>\n      <td>-1</td>\n    </tr>\n    <tr>\n      <th>1</th>\n      <td>2019-01-23</td>\n      <td>109.3625</td>\n      <td>109.9995</td>\n      <td>109.3235</td>\n      <td>109.6065</td>\n      <td>-1</td>\n      <td>-1.0</td>\n      <td>-1</td>\n    </tr>\n    <tr>\n      <th>2</th>\n      <td>2019-01-24</td>\n      <td>109.6125</td>\n      <td>109.8010</td>\n      <td>109.4215</td>\n      <td>109.6485</td>\n      <td>-1</td>\n      <td>-1.0</td>\n      <td>-1</td>\n    </tr>\n    <tr>\n      <th>3</th>\n      <td>2019-01-25</td>\n      <td>109.6250</td>\n      <td>109.9515</td>\n      <td>109.4560</td>\n      <td>109.5490</td>\n      <td>-1</td>\n      <td>-1.0</td>\n      <td>-1</td>\n    </tr>\n    <tr>\n      <th>4</th>\n      <td>2019-01-28</td>\n      <td>109.5675</td>\n      <td>109.5675</td>\n      <td>109.1620</td>\n      <td>109.3460</td>\n      <td>-1</td>\n      <td>-1.0</td>\n      <td>-1</td>\n    </tr>\n  </tbody>\n</table>\n</div>",
      "text/plain": "         date      open      high       low     close  volume  average  \\\n0  2019-01-22  109.6625  109.6970  109.1465  109.3805      -1     -1.0   \n1  2019-01-23  109.3625  109.9995  109.3235  109.6065      -1     -1.0   \n2  2019-01-24  109.6125  109.8010  109.4215  109.6485      -1     -1.0   \n3  2019-01-25  109.6250  109.9515  109.4560  109.5490      -1     -1.0   \n4  2019-01-28  109.5675  109.5675  109.1620  109.3460      -1     -1.0   \n\n   barCount  \n0        -1  \n1        -1  \n2        -1  \n3        -1  \n4        -1  "
     },
     "execution_count": 25,
     "metadata": {},
     "output_type": "execute_result"
    }
   ],
   "source": [
    "#因为我们现在使用的是demo mode，所以这里使用汇率作为取数据演示\n",
    "contract = Forex('USDJPY')\n",
    "bars = ib.reqHistoricalData(\n",
    "    contract, endDateTime='', durationStr='1 Y',\n",
    "    barSizeSetting='1 day', whatToShow='MIDPOINT', useRTH=True)\n",
    "\n",
    "# convert to pandas dataframe:\n",
    "df = util.df(bars)\n",
    "df.head()\n"
   ]
  },
  {
   "cell_type": "code",
   "execution_count": 5,
   "metadata": {},
   "outputs": [
    {
     "name": "stderr",
     "output_type": "stream",
     "text": "Error 162, reqId 105: Historical Market Data Service error message:No market data permissions for ISLAND STK, contract: Stock(symbol='PDD', exchange='SMART')\n"
    },
    {
     "ename": "TypeError",
     "evalue": "'NoneType' object is not subscriptable",
     "output_type": "error",
     "traceback": [
      "\u001b[1;31m---------------------------------------------------------------------------\u001b[0m",
      "\u001b[1;31mTypeError\u001b[0m                                 Traceback (most recent call last)",
      "\u001b[1;32m<ipython-input-5-13581c338ac4>\u001b[0m in \u001b[0;36m<module>\u001b[1;34m\u001b[0m\n\u001b[0;32m      7\u001b[0m \u001b[1;31m# convert to pandas dataframe:\u001b[0m\u001b[1;33m\u001b[0m\u001b[1;33m\u001b[0m\u001b[1;33m\u001b[0m\u001b[0m\n\u001b[0;32m      8\u001b[0m \u001b[0mdf\u001b[0m \u001b[1;33m=\u001b[0m \u001b[0mutil\u001b[0m\u001b[1;33m.\u001b[0m\u001b[0mdf\u001b[0m\u001b[1;33m(\u001b[0m\u001b[0mbars\u001b[0m\u001b[1;33m)\u001b[0m\u001b[1;33m\u001b[0m\u001b[1;33m\u001b[0m\u001b[0m\n\u001b[1;32m----> 9\u001b[1;33m \u001b[0mprint\u001b[0m\u001b[1;33m(\u001b[0m\u001b[0mdf\u001b[0m\u001b[1;33m[\u001b[0m\u001b[1;33m[\u001b[0m\u001b[1;34m'date'\u001b[0m\u001b[1;33m,\u001b[0m \u001b[1;34m'open'\u001b[0m\u001b[1;33m,\u001b[0m \u001b[1;34m'high'\u001b[0m\u001b[1;33m,\u001b[0m \u001b[1;34m'low'\u001b[0m\u001b[1;33m,\u001b[0m \u001b[1;34m'close'\u001b[0m\u001b[1;33m]\u001b[0m\u001b[1;33m]\u001b[0m\u001b[1;33m)\u001b[0m\u001b[1;33m\u001b[0m\u001b[1;33m\u001b[0m\u001b[0m\n\u001b[0m",
      "\u001b[1;31mTypeError\u001b[0m: 'NoneType' object is not subscriptable"
     ]
    }
   ],
   "source": [
    "#因为demo mode所以现在会出现报错，使用实盘账户的话，应该可以跑通\n",
    "code = \"PDD\"\n",
    " \n",
    "contract = Stock(code, exchange=\"SMART\")\n",
    "bars = ib.reqHistoricalData(contract, endDateTime='20190314 18:30:00', durationStr='1 D',\n",
    "        barSizeSetting='30 secs', whatToShow='MIDPOINT', useRTH=True)\n",
    " \n",
    "# convert to pandas dataframe:\n",
    "df = util.df(bars)\n",
    "print(df[['date', 'open', 'high', 'low', 'close']])\n"
   ]
  },
  {
   "cell_type": "code",
   "execution_count": 9,
   "metadata": {},
   "outputs": [
    {
     "name": "stdout",
     "output_type": "stream",
     "text": "Trade(contract=Stock(conId=265598, symbol='AAPL', exchange='SMART', primaryExchange='NASDAQ', currency='USD', localSymbol='AAPL', tradingClass='NMS'), order=MarketOrder(orderId=110, clientId=100, action='BUY', totalQuantity=1), orderStatus=OrderStatus(orderId=110, status='PendingSubmit', filled=0, remaining=0, avgFillPrice=0.0, permId=0, parentId=0, lastFillPrice=0.0, clientId=0, whyHeld='', mktCapPrice=0.0, lastLiquidity=0), fills=[], log=[TradeLogEntry(time=datetime.datetime(2020, 1, 21, 17, 7, 20, 809067, tzinfo=datetime.timezone.utc), status='PendingSubmit', message='')])\n[TradeLogEntry(time=datetime.datetime(2020, 1, 21, 17, 7, 20, 809067, tzinfo=datetime.timezone.utc), status='PendingSubmit', message=''), TradeLogEntry(time=datetime.datetime(2020, 1, 21, 17, 7, 21, 96564, tzinfo=datetime.timezone.utc), status='Submitted', message='')]\nTrade(contract=Stock(conId=265598, symbol='AAPL', exchange='SMART', primaryExchange='NASDAQ', currency='USD', localSymbol='AAPL', tradingClass='NMS'), order=LimitOrder(orderId=111, clientId=100, action='BUY', totalQuantity=1, lmtPrice=0.05), orderStatus=OrderStatus(orderId=111, status='PendingSubmit', filled=0, remaining=0, avgFillPrice=0.0, permId=0, parentId=0, lastFillPrice=0.0, clientId=0, whyHeld='', mktCapPrice=0.0, lastLiquidity=0), fills=[], log=[TradeLogEntry(time=datetime.datetime(2020, 1, 21, 17, 7, 21, 817868, tzinfo=datetime.timezone.utc), status='PendingSubmit', message='')])\n"
    },
    {
     "data": {
      "text/plain": "Trade(contract=Stock(conId=265598, symbol='AAPL', exchange='SMART', primaryExchange='NASDAQ', currency='USD', localSymbol='AAPL', tradingClass='NMS'), order=LimitOrder(orderId=111, clientId=100, action='BUY', totalQuantity=1, lmtPrice=0.05), orderStatus=OrderStatus(orderId=111, status='PendingCancel', filled=0, remaining=0, avgFillPrice=0.0, permId=0, parentId=0, lastFillPrice=0.0, clientId=0, whyHeld='', mktCapPrice=0.0, lastLiquidity=0), fills=[], log=[TradeLogEntry(time=datetime.datetime(2020, 1, 21, 17, 7, 21, 817868, tzinfo=datetime.timezone.utc), status='PendingSubmit', message=''), TradeLogEntry(time=datetime.datetime(2020, 1, 21, 17, 7, 21, 818816, tzinfo=datetime.timezone.utc), status='PendingCancel', message='')])"
     },
     "execution_count": 9,
     "metadata": {},
     "output_type": "execute_result"
    }
   ],
   "source": [
    "#这是一个使用ib_sync和ib_api 来实现下单的一个例子\n",
    "contract = Stock('AAPL', 'SMART', 'USD')\n",
    "ib.qualifyContracts(contract)\n",
    " \n",
    "order = MarketOrder('BUY', 1)\n",
    " \n",
    "trade = ib.placeOrder(contract, order)\n",
    " \n",
    "print(trade)\n",
    " \n",
    "ib.sleep(1)\n",
    "print(trade.log)\n",
    " \n",
    "limitOrder = LimitOrder('BUY', 1, 0.05)\n",
    "limitTrade = ib.placeOrder(contract, limitOrder)\n",
    " \n",
    "print(limitTrade)\n",
    " \n",
    "ib.cancelOrder(limitOrder)\n"
   ]
  },
  {
   "cell_type": "code",
   "execution_count": 43,
   "metadata": {},
   "outputs": [
    {
     "data": {
      "text/html": "<div>\n<style scoped>\n    .dataframe tbody tr th:only-of-type {\n        vertical-align: middle;\n    }\n\n    .dataframe tbody tr th {\n        vertical-align: top;\n    }\n\n    .dataframe thead th {\n        text-align: right;\n    }\n</style>\n<table border=\"1\" class=\"dataframe\">\n  <thead>\n    <tr style=\"text-align: right;\">\n      <th></th>\n      <th>exchange</th>\n      <th>underlyingConId</th>\n      <th>tradingClass</th>\n      <th>multiplier</th>\n      <th>expirations</th>\n      <th>strikes</th>\n    </tr>\n  </thead>\n  <tbody>\n    <tr>\n      <th>0</th>\n      <td>SMART</td>\n      <td>416904</td>\n      <td>SPX</td>\n      <td>100</td>\n      <td>[20200220, 20200319, 20200416, 20200514, 20200...</td>\n      <td>[100.0, 200.0, 300.0, 400.0, 500.0, 600.0, 650...</td>\n    </tr>\n    <tr>\n      <th>1</th>\n      <td>CBOE</td>\n      <td>416904</td>\n      <td>SPXW</td>\n      <td>100</td>\n      <td>[20200121, 20200122, 20200124, 20200127, 20200...</td>\n      <td>[800.0, 900.0, 1000.0, 1100.0, 1150.0, 1200.0,...</td>\n    </tr>\n    <tr>\n      <th>2</th>\n      <td>SMART</td>\n      <td>416904</td>\n      <td>SPXW</td>\n      <td>100</td>\n      <td>[20200121, 20200122, 20200124, 20200127, 20200...</td>\n      <td>[800.0, 900.0, 1000.0, 1100.0, 1150.0, 1200.0,...</td>\n    </tr>\n    <tr>\n      <th>3</th>\n      <td>CBOE</td>\n      <td>416904</td>\n      <td>SPX</td>\n      <td>100</td>\n      <td>[20200220, 20200319, 20200416, 20200514, 20200...</td>\n      <td>[100.0, 200.0, 300.0, 400.0, 500.0, 600.0, 650...</td>\n    </tr>\n  </tbody>\n</table>\n</div>",
      "text/plain": "  exchange underlyingConId tradingClass multiplier  \\\n0    SMART          416904          SPX        100   \n1     CBOE          416904         SPXW        100   \n2    SMART          416904         SPXW        100   \n3     CBOE          416904          SPX        100   \n\n                                         expirations  \\\n0  [20200220, 20200319, 20200416, 20200514, 20200...   \n1  [20200121, 20200122, 20200124, 20200127, 20200...   \n2  [20200121, 20200122, 20200124, 20200127, 20200...   \n3  [20200220, 20200319, 20200416, 20200514, 20200...   \n\n                                             strikes  \n0  [100.0, 200.0, 300.0, 400.0, 500.0, 600.0, 650...  \n1  [800.0, 900.0, 1000.0, 1100.0, 1150.0, 1200.0,...  \n2  [800.0, 900.0, 1000.0, 1100.0, 1150.0, 1200.0,...  \n3  [100.0, 200.0, 300.0, 400.0, 500.0, 600.0, 650...  "
     },
     "execution_count": 43,
     "metadata": {},
     "output_type": "execute_result"
    }
   ],
   "source": [
    "#尝试调取option数据\n",
    "spx = Index('SPX')\n",
    "ib.qualifyContracts(spx)\n",
    "chains= ib.reqSecDefOptParams(spx.symbol, '', spx.secType, spx.conId)\n",
    "\n",
    "util.df(chains)"
   ]
  },
  {
   "cell_type": "code",
   "execution_count": 47,
   "metadata": {},
   "outputs": [
    {
     "name": "stderr",
     "output_type": "stream",
     "text": "Error 10168, reqId 234: Requested market data is not subscribed. Delayed market data is not enabled, contract: Index(conId=416904, symbol='SPX', exchange='CBOE', currency='USD', localSymbol='SPX')\n"
    },
    {
     "data": {
      "text/plain": "0"
     },
     "execution_count": 47,
     "metadata": {},
     "output_type": "execute_result"
    }
   ],
   "source": [
    "#由于是demo mode 所以报错了，TWS setup 文件里最后一个链接中有具体的demo\n",
    "[ticker] = ib.reqTickers(spx)\n",
    "ticker\n",
    "spxValue = ticker.marketPrice()\n",
    "spxValue\n",
    "\n",
    "chain = next(c for c in chains if c.tradingClass == 'SPX' and c.exchange == 'SMART')\n",
    "chain\n",
    "strikes = [strike for strike in chain.strikes\n",
    "        if strike % 5 == 0\n",
    "        and spxValue - 20 < strike < spxValue + 20]\n",
    "expirations = sorted(exp for exp in chain.expirations)[:3]\n",
    "rights = ['P', 'C']\n",
    "\n",
    "contracts = [Option('SPX', expiration, strike, right, 'SMART', tradingClass='SPX')\n",
    "        for right in rights\n",
    "        for expiration in expirations\n",
    "        for strike in strikes]\n",
    "\n",
    "contracts = ib.qualifyContracts(*contracts)\n",
    "len(contracts)"
   ]
  },
  {
   "cell_type": "code",
   "execution_count": null,
   "metadata": {},
   "outputs": [],
   "source": []
  }
 ]
}