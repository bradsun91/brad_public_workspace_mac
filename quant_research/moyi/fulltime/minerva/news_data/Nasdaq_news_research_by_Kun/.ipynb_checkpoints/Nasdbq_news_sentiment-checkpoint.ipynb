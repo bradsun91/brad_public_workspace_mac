{
 "cells": [
  {
   "cell_type": "markdown",
   "metadata": {},
   "source": [
    "# Import packages\n",
    "## Installation:\n",
    "pip install textblob\n",
    "python -m textblob.download_corpora"
   ]
  },
  {
   "cell_type": "code",
   "execution_count": 12,
   "metadata": {},
   "outputs": [
    {
     "name": "stdout",
     "output_type": "stream",
     "text": [
      "[nltk_data] Downloading package opinion_lexicon to\n",
      "[nltk_data]     /Users/apple/nltk_data...\n",
      "[nltk_data]   Package opinion_lexicon is already up-to-date!\n"
     ]
    }
   ],
   "source": [
    "import nltk\n",
    "import pandas as pd\n",
    "nltk.download('opinion_lexicon')\n",
    "from nltk.corpus import opinion_lexicon\n",
    "from textblob import TextBlob \n",
    "import re\n",
    "from nltk.corpus import stopwords\n",
    "from nltk.stem.wordnet import WordNetLemmatizer"
   ]
  },
  {
   "cell_type": "markdown",
   "metadata": {},
   "source": [
    "# Import Nasdap_news data "
   ]
  },
  {
   "cell_type": "code",
   "execution_count": 13,
   "metadata": {},
   "outputs": [
    {
     "name": "stdout",
     "output_type": "stream",
     "text": [
      "  Symbol                                              Title  \\\n",
      "0    MMM     Tuesday Sector Laggards: Healthcare  Utilities   \n",
      "1    MMM  Dow Jones News: 3M Announces Layoffs; Apple Ha...   \n",
      "2    MMM                              Dow Movers: MMM  AAPL   \n",
      "3    MMM  Which Of 3M's 26 Business Lines Makes The Most...   \n",
      "4    MMM  How to Build a $100 000 Portfolio -- or an Eve...   \n",
      "\n",
      "               Publish_date  \\\n",
      "0   JAN 28  2020 2:32PM EST   \n",
      "1  JAN 28  2020 12:16PM EST   \n",
      "2  JAN 28  2020 10:22AM EST   \n",
      "3   JAN 28  2020 6:17AM EST   \n",
      "4   JAN 25  2020 9:05AM EST   \n",
      "\n",
      "                                                 Url  \\\n",
      "0  https://www.nasdaq.com/articles/tuesday-sector...   \n",
      "1  https://www.nasdaq.com/articles/dow-jones-news...   \n",
      "2  https://www.nasdaq.com/articles/dow-movers%3A-...   \n",
      "3  https://www.nasdaq.com/articles/which-of-3ms-2...   \n",
      "4  https://www.nasdaq.com/articles/how-to-build-a...   \n",
      "\n",
      "                                                body  \n",
      "0  The worst performing sector as of midday Tuesd...  \n",
      "1  After a miserable Monday for the Dow Jones Ind...  \n",
      "2  In early trading on Tuesday  shares of Apple t...  \n",
      "3  3M (NYSE:MMM) is one of the most diversified i...  \n",
      "4  There's a good chance that the thought of havi...  \n"
     ]
    }
   ],
   "source": [
    "dataset=pd.read_csv('Nasdaq_news.csv')"
   ]
  },
  {
   "cell_type": "code",
   "execution_count": null,
   "metadata": {},
   "outputs": [],
   "source": [
    "print(dataset.head())"
   ]
  },
  {
   "cell_type": "markdown",
   "metadata": {},
   "source": [
    "# Text preprocessing\n",
    "## Removal of punctuations"
   ]
  },
  {
   "cell_type": "code",
   "execution_count": null,
   "metadata": {},
   "outputs": [],
   "source": [
    "def form_sentence(text):\n",
    "    text_blob = TextBlob(text)\n",
    "    return ' '.join(text_blob.words)\n",
    "\n",
    "dataset['body']=dataset['body'].apply(form_sentence)"
   ]
  },
  {
   "cell_type": "markdown",
   "metadata": {},
   "source": [
    "# Text preprocessing\n",
    "## Removal of commonly used words (stopwords)"
   ]
  },
  {
   "cell_type": "code",
   "execution_count": null,
   "metadata": {},
   "outputs": [],
   "source": [
    "def no_user_alpha(text):\n",
    "    text_list = [ele for ele in text.split() if ele != 'user']\n",
    "    clean_tokens = [t for t in text_list if re.match(r'[^\\W\\d]*$', t)]\n",
    "    clean_s = ' '.join(clean_tokens)\n",
    "    clean_mess = [word for word in clean_s.split() if word.lower() not in stopwords.words('english')]\n",
    "    return clean_mess\n",
    "\n",
    "dataset['body']=dataset['body'].apply(no_user_alpha)"
   ]
  },
  {
   "cell_type": "markdown",
   "metadata": {},
   "source": [
    "# Text preprocessing\n",
    "## Normalization of words"
   ]
  },
  {
   "cell_type": "code",
   "execution_count": null,
   "metadata": {},
   "outputs": [],
   "source": [
    "def normalization(text_list):\n",
    "        lem = WordNetLemmatizer()\n",
    "        normalized_text_list = []\n",
    "        for word in text_list:\n",
    "            normalized_text = lem.lemmatize(word,'v')\n",
    "            normalized_text_list.append(normalized_text)\n",
    "        return normalized_text_list\n",
    "    \n",
    "dataset['body']=dataset['body'].apply(normalization)"
   ]
  },
  {
   "cell_type": "markdown",
   "metadata": {},
   "source": [
    "# Generate a list of positive words and a list of negative words"
   ]
  },
  {
   "cell_type": "code",
   "execution_count": null,
   "metadata": {},
   "outputs": [],
   "source": [
    "pos_list=set(opinion_lexicon.positive())\n",
    "neg_list=set(opinion_lexicon.negative())"
   ]
  },
  {
   "cell_type": "markdown",
   "metadata": {},
   "source": [
    "# Rule-based Approach \n",
    "## Define a function to calculate the sentiment and apply it to every body text"
   ]
  },
  {
   "cell_type": "code",
   "execution_count": null,
   "metadata": {},
   "outputs": [],
   "source": [
    "def sentiment(sentence):\n",
    "  senti=0\n",
    "  words = [word.lower() for word in sentence]\n",
    "  for word in words:\n",
    "    if word in pos_list:\n",
    "      senti += 1\n",
    "    elif word in neg_list:\n",
    "      senti -= 1\n",
    "  return senti\n",
    "\n",
    "#apply 'sentiment' function to every document\n",
    "dataset['sentiment']=dataset['body'].apply(sentiment)"
   ]
  },
  {
   "cell_type": "markdown",
   "metadata": {},
   "source": [
    "# Sentiment scores"
   ]
  },
  {
   "cell_type": "code",
   "execution_count": null,
   "metadata": {},
   "outputs": [],
   "source": [
    "print(dataset['sentiment'])"
   ]
  },
  {
   "cell_type": "code",
   "execution_count": null,
   "metadata": {},
   "outputs": [],
   "source": []
  }
 ],
 "metadata": {
  "kernelspec": {
   "display_name": "Python 3",
   "language": "python",
   "name": "python3"
  },
  "language_info": {
   "codemirror_mode": {
    "name": "ipython",
    "version": 3
   },
   "file_extension": ".py",
   "mimetype": "text/x-python",
   "name": "python",
   "nbconvert_exporter": "python",
   "pygments_lexer": "ipython3",
   "version": "3.6.10"
  }
 },
 "nbformat": 4,
 "nbformat_minor": 2
}
