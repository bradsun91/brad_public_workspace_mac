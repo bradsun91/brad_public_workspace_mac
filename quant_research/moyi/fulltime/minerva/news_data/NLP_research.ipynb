{
 "cells": [
  {
   "cell_type": "code",
   "execution_count": 1,
   "metadata": {},
   "outputs": [],
   "source": [
    "import pandas as pd, numpy as np"
   ]
  },
  {
   "cell_type": "code",
   "execution_count": 2,
   "metadata": {},
   "outputs": [],
   "source": [
    "news = pd.read_csv(\"Nasdaq_news.csv\")"
   ]
  },
  {
   "cell_type": "code",
   "execution_count": 5,
   "metadata": {},
   "outputs": [
    {
     "data": {
      "text/plain": [
       "\"Looking today at week-over-week shares outstanding changes among the universe of ETFs covered at ETF Channel, one standout is the Vanguard Industrials ETF (Symbol: VIS) where we have detected an approximate $74.5 million dollar outflow -- that's a 2.0% decrease week over week (from 23,937,243 to 23,462,243). Among the largest underlying components of VIS, in trading today 3M Co (Symbol: MMM) is down about 0.1%, Lockheed Martin Corp (Symbol: LMT) is up about 0.7%, and General Electric Co (Symbol: GE) is higher by about 3%. For a complete list of holdings, visit the VIS Holdings page » The chart below shows the one year price performance of VIS, versus its 200 day moving average:\\nLooking at the chart above, VIS's low point in its 52 week range is $128.877 per share, with $160 as the 52 week high point — that compares with a last trade of $157.01. Comparing the most recent share price to the 200 day moving average can also be a useful technical analysis technique -- learn more about the 200 day moving average ».\\nExchange traded funds (ETFs) trade just like stocks, but instead of ''shares'' investors are actually buying and selling ''units''. These ''units'' can be traded back and forth just like stocks, but can also be created or destroyed to accommodate investor demand. Each week we monitor the week-over-week change in shares outstanding data, to keep a lookout for those ETFs experiencing notable inflows (many new units created) or outflows (many old units destroyed). Creation of new units will mean the underlying holdings of the ETF need to be purchased, while destruction of units involves selling underlying holdings, so large flows can also impact the individual components held within ETFs.\\nClick here to find out which 9 other ETFs experienced notable outflows »\\nThe views and opinions expressed herein are the views and opinions of the author and do not necessarily reflect those of Nasdaq, Inc.\""
      ]
     },
     "execution_count": 5,
     "metadata": {},
     "output_type": "execute_result"
    }
   ],
   "source": [
    "news['body'].values[0]"
   ]
  }
 ],
 "metadata": {
  "kernelspec": {
   "display_name": "Python 3",
   "language": "python",
   "name": "python3"
  },
  "language_info": {
   "codemirror_mode": {
    "name": "ipython",
    "version": 3
   },
   "file_extension": ".py",
   "mimetype": "text/x-python",
   "name": "python",
   "nbconvert_exporter": "python",
   "pygments_lexer": "ipython3",
   "version": "3.6.10"
  }
 },
 "nbformat": 4,
 "nbformat_minor": 2
}
