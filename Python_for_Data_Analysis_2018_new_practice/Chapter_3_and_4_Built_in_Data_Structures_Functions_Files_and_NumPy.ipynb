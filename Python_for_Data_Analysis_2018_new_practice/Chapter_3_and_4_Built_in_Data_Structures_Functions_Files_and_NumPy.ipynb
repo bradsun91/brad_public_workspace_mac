{
 "cells": [
  {
   "cell_type": "code",
   "execution_count": 1,
   "metadata": {},
   "outputs": [
    {
     "name": "stdout",
     "output_type": "stream",
     "text": [
      "(0, 0)\n",
      "(1, 0)\n",
      "(1, 1)\n",
      "(2, 0)\n",
      "(2, 1)\n",
      "(2, 2)\n",
      "(3, 0)\n",
      "(3, 1)\n",
      "(3, 2)\n",
      "(3, 3)\n"
     ]
    }
   ],
   "source": [
    "for i in range(4):\n",
    "    for j in range(4):\n",
    "        if j > i:\n",
    "            break\n",
    "        print ((i, j))\n",
    "        \n",
    "# Comments"
   ]
  },
  {
   "cell_type": "code",
   "execution_count": 4,
   "metadata": {},
   "outputs": [
    {
     "name": "stdout",
     "output_type": "stream",
     "text": [
      "0\n",
      "1\n",
      "2\n",
      "3\n"
     ]
    }
   ],
   "source": [
    "for i in range(4):\n",
    "    print (i)"
   ]
  },
  {
   "cell_type": "code",
   "execution_count": 7,
   "metadata": {},
   "outputs": [
    {
     "name": "stdout",
     "output_type": "stream",
     "text": [
      "total: 256\n",
      "x: 128\n",
      "total: 384\n",
      "x: 64\n",
      "total: 448\n",
      "x: 32\n",
      "total: 480\n",
      "x: 16\n",
      "total: 496\n",
      "x: 8\n",
      "total: 504\n",
      "x: 4\n"
     ]
    }
   ],
   "source": [
    "x = 256\n",
    "total = 0\n",
    "while x>0:\n",
    "    if total > 500:\n",
    "        break\n",
    "    total += x\n",
    "    x = x//2\n",
    "    print (\"total:\", total)\n",
    "    print (\"x:\", x)"
   ]
  },
  {
   "cell_type": "markdown",
   "metadata": {},
   "source": [
    "## Compare \"append\" and \"extend\" "
   ]
  },
  {
   "cell_type": "code",
   "execution_count": 23,
   "metadata": {},
   "outputs": [],
   "source": [
    "all_data = [['Joheeeen', 'Emeeeeily', 'Michael', \n",
    "             'Mary', 'Steven'],\n",
    "            ['Maria', 'Emily', 'Javier', \n",
    "             'Natalia', 'Pilar']]\n",
    "names_of_interest = []\n",
    "\n",
    "for names in all_data:\n",
    "    enough_es = [name for name in names if name.count('e')>2]\n",
    "    names_of_interest.append(enough_es)"
   ]
  },
  {
   "cell_type": "code",
   "execution_count": 25,
   "metadata": {},
   "outputs": [
    {
     "data": {
      "text/plain": [
       "[['Joheeeen', 'Emeeeeily'], []]"
      ]
     },
     "execution_count": 25,
     "metadata": {},
     "output_type": "execute_result"
    }
   ],
   "source": [
    "names_of_interest"
   ]
  },
  {
   "cell_type": "code",
   "execution_count": 27,
   "metadata": {},
   "outputs": [],
   "source": [
    "all_data = [['Joheeeen', 'Emeeeeily', 'Michael', \n",
    "             'Mary', 'Steven'],\n",
    "            ['Maria', 'Emily', 'Javier', \n",
    "             'Natalia', 'Pilar']]\n",
    "names_of_interest = []\n",
    "\n",
    "for names in all_data:\n",
    "    enough_es = [name for name in names if name.count('e')>2]\n",
    "    names_of_interest.extend(enough_es)"
   ]
  },
  {
   "cell_type": "code",
   "execution_count": 28,
   "metadata": {},
   "outputs": [
    {
     "data": {
      "text/plain": [
       "['Joheeeen', 'Emeeeeily']"
      ]
     },
     "execution_count": 28,
     "metadata": {},
     "output_type": "execute_result"
    }
   ],
   "source": [
    "# As we can see, the main difference between \n",
    "names_of_interest"
   ]
  },
  {
   "cell_type": "markdown",
   "metadata": {},
   "source": [
    "## Handle errors and exceptions gracefully"
   ]
  },
  {
   "cell_type": "code",
   "execution_count": 43,
   "metadata": {},
   "outputs": [],
   "source": [
    "# Convert this x into float, so if x is the number related string then \n",
    "# we can do it, but if it's pure word-related strings then no.\n",
    "def attempt_float_value(x):\n",
    "    try:\n",
    "        return float(x)\n",
    "#         print (\"This is a float: \", x)\n",
    "    except ValueError:\n",
    "        print (\"I am suppressing the ValueError, but still gotta say that This is not a float! \")\n",
    "        return x"
   ]
  },
  {
   "cell_type": "code",
   "execution_count": 44,
   "metadata": {},
   "outputs": [
    {
     "data": {
      "text/plain": [
       "1.6"
      ]
     },
     "execution_count": 44,
     "metadata": {},
     "output_type": "execute_result"
    }
   ],
   "source": [
    "attempt_float_value(1.6)"
   ]
  },
  {
   "cell_type": "code",
   "execution_count": 45,
   "metadata": {},
   "outputs": [
    {
     "name": "stdout",
     "output_type": "stream",
     "text": [
      "I am suppressing the ValueError, but still gotta say that This is not a float! \n"
     ]
    },
    {
     "data": {
      "text/plain": [
       "'test'"
      ]
     },
     "execution_count": 45,
     "metadata": {},
     "output_type": "execute_result"
    }
   ],
   "source": [
    "# This is a ValueError:\n",
    "attempt_float_value(\"test\")"
   ]
  },
  {
   "cell_type": "code",
   "execution_count": 61,
   "metadata": {},
   "outputs": [],
   "source": [
    "def attempt_float_type_and_value(x):\n",
    "    try:\n",
    "        return float(x)\n",
    "    except (TypeError, ValueError):\n",
    "        print (\"I am suppressing the error, but still gotta say that This is not a float! \", x)\n",
    "        return x"
   ]
  },
  {
   "cell_type": "code",
   "execution_count": 52,
   "metadata": {},
   "outputs": [
    {
     "name": "stdout",
     "output_type": "stream",
     "text": [
      "I am suppressing the error, but still gotta say that This is not a float!  test\n"
     ]
    },
    {
     "data": {
      "text/plain": [
       "'test'"
      ]
     },
     "execution_count": 52,
     "metadata": {},
     "output_type": "execute_result"
    }
   ],
   "source": [
    "attempt_float_type_and_value(\"test\")"
   ]
  },
  {
   "cell_type": "code",
   "execution_count": 53,
   "metadata": {},
   "outputs": [
    {
     "name": "stdout",
     "output_type": "stream",
     "text": [
      "I am suppressing the error, but still gotta say that This is not a float!  ['1']\n"
     ]
    },
    {
     "data": {
      "text/plain": [
       "['1']"
      ]
     },
     "execution_count": 53,
     "metadata": {},
     "output_type": "execute_result"
    }
   ],
   "source": [
    "attempt_float_type_and_value(['1'])"
   ]
  },
  {
   "cell_type": "markdown",
   "metadata": {},
   "source": [
    "### Use of finally"
   ]
  },
  {
   "cell_type": "code",
   "execution_count": 59,
   "metadata": {},
   "outputs": [
    {
     "name": "stdout",
     "output_type": "stream",
     "text": [
      "Still execute\n"
     ]
    },
    {
     "ename": "ValueError",
     "evalue": "could not convert string to float: 'Still execute'",
     "output_type": "error",
     "traceback": [
      "\u001b[0;31m---------------------------------------------------------------------------\u001b[0m",
      "\u001b[0;31mValueError\u001b[0m                                Traceback (most recent call last)",
      "\u001b[0;32m<ipython-input-59-fa5078e93033>\u001b[0m in \u001b[0;36m<module>\u001b[0;34m()\u001b[0m\n\u001b[1;32m      3\u001b[0m \u001b[0mx\u001b[0m \u001b[0;34m=\u001b[0m \u001b[0;34m\"Still execute\"\u001b[0m\u001b[0;34m\u001b[0m\u001b[0m\n\u001b[1;32m      4\u001b[0m \u001b[0;32mtry\u001b[0m\u001b[0;34m:\u001b[0m\u001b[0;34m\u001b[0m\u001b[0m\n\u001b[0;32m----> 5\u001b[0;31m     \u001b[0mfloat\u001b[0m\u001b[0;34m(\u001b[0m\u001b[0mx\u001b[0m\u001b[0;34m)\u001b[0m\u001b[0;34m\u001b[0m\u001b[0m\n\u001b[0m\u001b[1;32m      6\u001b[0m \u001b[0;32mfinally\u001b[0m\u001b[0;34m:\u001b[0m\u001b[0;34m\u001b[0m\u001b[0m\n\u001b[1;32m      7\u001b[0m     \u001b[0mprint\u001b[0m \u001b[0;34m(\u001b[0m\u001b[0mx\u001b[0m\u001b[0;34m)\u001b[0m\u001b[0;34m\u001b[0m\u001b[0m\n",
      "\u001b[0;31mValueError\u001b[0m: could not convert string to float: 'Still execute'"
     ]
    }
   ],
   "source": [
    "# Let's execute whether the try gets blocked or not\n",
    "\n",
    "x = \"Still execute\"\n",
    "try:\n",
    "    float(x)\n",
    "finally:\n",
    "    print (x)"
   ]
  },
  {
   "cell_type": "code",
   "execution_count": 74,
   "metadata": {},
   "outputs": [
    {
     "name": "stdout",
     "output_type": "stream",
     "text": [
      "Error! Cannot convert\n"
     ]
    }
   ],
   "source": [
    "# Original standard version will look like this:\n",
    "\n",
    "x = \"Test words\"\n",
    "\n",
    "# 1. Normally will want to execute this,\n",
    "try:\n",
    "    float(x)\n",
    "# 2. If the error happens, what will this block of code do:\n",
    "except:\n",
    "    print (\"Error! Cannot convert\")\n",
    "# 3. \n",
    "else:\n",
    "    print (\"No error! The converted float is: \", x)"
   ]
  },
  {
   "cell_type": "code",
   "execution_count": 67,
   "metadata": {},
   "outputs": [
    {
     "name": "stdout",
     "output_type": "stream",
     "text": [
      "内容写入文件成功\n"
     ]
    }
   ],
   "source": [
    "try:\n",
    "    fh = open(\"testfile\", \"w\")\n",
    "    fh.write(\"这是一个测试文件，用于测试异常!!\")\n",
    "except IOError:\n",
    "    print(\"Error: 没有找到文件或读取文件失败\")\n",
    "else:\n",
    "    print(\"内容写入文件成功\")\n",
    "    fh.close()"
   ]
  },
  {
   "cell_type": "code",
   "execution_count": 79,
   "metadata": {},
   "outputs": [
    {
     "name": "stdout",
     "output_type": "stream",
     "text": [
      "Testing - Using magic run to run code.\n"
     ]
    }
   ],
   "source": [
    "# We can diretly run the py code using the %run magic function.\n",
    "%run /Users/miaoyuesun/Code_Workspace/brad_public_workspace_mac/alphalens/alphalens/10_20_testing_run_code.py"
   ]
  },
  {
   "cell_type": "markdown",
   "metadata": {},
   "source": [
    "## Files and the Operating System"
   ]
  },
  {
   "cell_type": "code",
   "execution_count": 89,
   "metadata": {},
   "outputs": [],
   "source": [
    "path = \"/Users/miaoyuesun/Code_Workspace/brad_public_workspace_mac/alphalens/alphalens/10_20_testing_run_code.txt\""
   ]
  },
  {
   "cell_type": "markdown",
   "metadata": {},
   "source": [
    "### Method 1 of opening files: use \"open\""
   ]
  },
  {
   "cell_type": "code",
   "execution_count": 90,
   "metadata": {},
   "outputs": [],
   "source": [
    "f = open(path)"
   ]
  },
  {
   "cell_type": "code",
   "execution_count": 91,
   "metadata": {},
   "outputs": [
    {
     "name": "stdout",
     "output_type": "stream",
     "text": [
      "<_io.TextIOWrapper name='/Users/miaoyuesun/Code_Workspace/brad_public_workspace_mac/alphalens/alphalens/10_20_testing_run_code.txt' mode='r' encoding='UTF-8'>\n"
     ]
    }
   ],
   "source": [
    "print (f)"
   ]
  },
  {
   "cell_type": "code",
   "execution_count": 92,
   "metadata": {},
   "outputs": [
    {
     "name": "stdout",
     "output_type": "stream",
     "text": [
      "Testing - Using magic run to run code.\n",
      "\n",
      "“Test line 2”\n",
      "\n",
      "“Test line 3”\n",
      "\n",
      "“Test line 4”\n",
      "\n",
      "“Test line 5”\n"
     ]
    }
   ],
   "source": [
    "for line in f:\n",
    "    print(line)"
   ]
  },
  {
   "cell_type": "code",
   "execution_count": 93,
   "metadata": {},
   "outputs": [],
   "source": [
    "# If we use 'open' function to open the file, then we will need to \n",
    "# close it explicitly.\n",
    "f.close()"
   ]
  },
  {
   "cell_type": "markdown",
   "metadata": {},
   "source": [
    "### Method 2 of opening files: use \"with\""
   ]
  },
  {
   "cell_type": "code",
   "execution_count": 94,
   "metadata": {},
   "outputs": [],
   "source": [
    "# This diff is that with will automatically close the file without using\n",
    "# f.close\n",
    "with open(path) as f:\n",
    "    lines = [x.rstrip() for x in f]"
   ]
  },
  {
   "cell_type": "code",
   "execution_count": 95,
   "metadata": {},
   "outputs": [
    {
     "data": {
      "text/plain": [
       "['Testing - Using magic run to run code.',\n",
       " '“Test line 2”',\n",
       " '“Test line 3”',\n",
       " '“Test line 4”',\n",
       " '“Test line 5”']"
      ]
     },
     "execution_count": 95,
     "metadata": {},
     "output_type": "execute_result"
    }
   ],
   "source": [
    "lines"
   ]
  },
  {
   "cell_type": "markdown",
   "metadata": {},
   "source": [
    "### Write text to a file"
   ]
  },
  {
   "cell_type": "code",
   "execution_count": 96,
   "metadata": {},
   "outputs": [],
   "source": [
    "with open('tmp.txt', 'w') as handle:\n",
    "    handle.writelines(x for x in open(path) if len(x) > 1)"
   ]
  },
  {
   "cell_type": "code",
   "execution_count": 98,
   "metadata": {},
   "outputs": [
    {
     "name": "stdout",
     "output_type": "stream",
     "text": [
      "39\n",
      "14\n",
      "14\n",
      "14\n",
      "13\n"
     ]
    }
   ],
   "source": [
    "with open('tmp.txt', 'w') as handle:\n",
    "    # Here x means all words in each row as the \n",
    "    # iteration goes\n",
    "    handle.writelines(x for x in open(path))\n",
    "    for x in open(path):\n",
    "        print (len(x))"
   ]
  },
  {
   "cell_type": "code",
   "execution_count": 100,
   "metadata": {},
   "outputs": [],
   "source": [
    "# This code shows where there's a new line, \n",
    "# indicated by \\n\n",
    "with open('tmp.txt') as f:\n",
    "    lines = f.readlines()"
   ]
  },
  {
   "cell_type": "code",
   "execution_count": 101,
   "metadata": {},
   "outputs": [
    {
     "data": {
      "text/plain": [
       "['Testing - Using magic run to run code.\\n',\n",
       " '“Test line 2”\\n',\n",
       " '“Test line 3”\\n',\n",
       " '“Test line 4”\\n',\n",
       " '“Test line 5”']"
      ]
     },
     "execution_count": 101,
     "metadata": {},
     "output_type": "execute_result"
    }
   ],
   "source": [
    "lines"
   ]
  },
  {
   "cell_type": "code",
   "execution_count": 104,
   "metadata": {},
   "outputs": [
    {
     "data": {
      "text/plain": [
       "b'Testing - Using magic run to run code.\\n\\xe2\\x80\\x9cTest line 2\\xe2\\x80\\x9d\\n\\xe2\\x80\\x9cTest line 3\\xe2\\x80\\x9d\\n\\xe2\\x80\\x9cTest line 4\\xe2\\x80\\x9d\\n\\xe2\\x80\\x9cTest line 5\\xe2\\x80\\x9d'"
      ]
     },
     "execution_count": 104,
     "metadata": {},
     "output_type": "execute_result"
    }
   ],
   "source": [
    "with open(\"tmp.txt\", 'rb') as f:\n",
    "    data = f.read()\n",
    "data"
   ]
  },
  {
   "cell_type": "code",
   "execution_count": 105,
   "metadata": {},
   "outputs": [
    {
     "data": {
      "text/plain": [
       "'Testing - Using magic run to run code.\\n“Test line 2”\\n“Test line 3”\\n“Test line 4”\\n“Test line 5”'"
      ]
     },
     "execution_count": 105,
     "metadata": {},
     "output_type": "execute_result"
    }
   ],
   "source": [
    "# Decode the bytes to the string object\n",
    "data.decode(\"utf8\")"
   ]
  },
  {
   "cell_type": "markdown",
   "metadata": {},
   "source": [
    "# Chapter 4. NumPy Basics: Arrays and Vectorized Computation"
   ]
  },
  {
   "cell_type": "code",
   "execution_count": 106,
   "metadata": {},
   "outputs": [],
   "source": [
    "import numpy as np"
   ]
  },
  {
   "cell_type": "code",
   "execution_count": 107,
   "metadata": {},
   "outputs": [],
   "source": [
    "my_arr = np.arange(1000000)\n",
    "my_list = list(range(1000000))"
   ]
  },
  {
   "cell_type": "code",
   "execution_count": 108,
   "metadata": {},
   "outputs": [
    {
     "name": "stdout",
     "output_type": "stream",
     "text": [
      "CPU times: user 13.3 ms, sys: 6.55 ms, total: 19.8 ms\n",
      "Wall time: 19.3 ms\n"
     ]
    }
   ],
   "source": [
    "%time for _ in range(10): my_arr2 = my_arr*2"
   ]
  },
  {
   "cell_type": "code",
   "execution_count": 109,
   "metadata": {},
   "outputs": [
    {
     "name": "stdout",
     "output_type": "stream",
     "text": [
      "CPU times: user 579 ms, sys: 175 ms, total: 754 ms\n",
      "Wall time: 796 ms\n"
     ]
    }
   ],
   "source": [
    "%time for _ in range(10): my_list2 = [x*2 for x in my_list]"
   ]
  },
  {
   "cell_type": "code",
   "execution_count": 116,
   "metadata": {},
   "outputs": [
    {
     "name": "stdout",
     "output_type": "stream",
     "text": [
      "CPU times: user 3.43 ms, sys: 3.92 ms, total: 7.35 ms\n",
      "Wall time: 6.01 ms\n"
     ]
    }
   ],
   "source": [
    "%time my_arr2 = my_arr*2"
   ]
  },
  {
   "cell_type": "code",
   "execution_count": 126,
   "metadata": {},
   "outputs": [
    {
     "name": "stdout",
     "output_type": "stream",
     "text": [
      "CPU times: user 73.9 ms, sys: 21.4 ms, total: 95.3 ms\n",
      "Wall time: 98.4 ms\n"
     ]
    }
   ],
   "source": [
    "%time my_list2 = [x*2 for x in my_list]"
   ]
  },
  {
   "cell_type": "code",
   "execution_count": 122,
   "metadata": {},
   "outputs": [
    {
     "data": {
      "text/plain": [
       "3.877551020408163"
      ]
     },
     "execution_count": 122,
     "metadata": {},
     "output_type": "execute_result"
    }
   ],
   "source": [
    "13.3/3.43"
   ]
  },
  {
   "cell_type": "code",
   "execution_count": 118,
   "metadata": {},
   "outputs": [
    {
     "data": {
      "text/plain": [
       "8.07531380753138"
      ]
     },
     "execution_count": 118,
     "metadata": {},
     "output_type": "execute_result"
    }
   ],
   "source": [
    "579/71.7"
   ]
  },
  {
   "cell_type": "code",
   "execution_count": 129,
   "metadata": {},
   "outputs": [
    {
     "data": {
      "text/plain": [
       "array([[-0.09217723, -0.59648267],\n",
       "       [ 1.01098495,  1.33522311]])"
      ]
     },
     "execution_count": 129,
     "metadata": {},
     "output_type": "execute_result"
    }
   ],
   "source": [
    "np.random.randn(2, 2)"
   ]
  },
  {
   "cell_type": "code",
   "execution_count": 132,
   "metadata": {},
   "outputs": [
    {
     "data": {
      "text/plain": [
       "array([0., 0., 0., 0., 0., 0., 0., 0., 0., 0., 0., 0., 0., 0., 0., 0., 0.,\n",
       "       0., 0., 0.])"
      ]
     },
     "execution_count": 132,
     "metadata": {},
     "output_type": "execute_result"
    }
   ],
   "source": [
    "np.zeros(20)"
   ]
  },
  {
   "cell_type": "code",
   "execution_count": 138,
   "metadata": {},
   "outputs": [
    {
     "data": {
      "text/plain": [
       "array([[1., 1., 1., 1., 1., 1., 1., 1., 1., 1.],\n",
       "       [1., 1., 1., 1., 1., 1., 1., 1., 1., 1.],\n",
       "       [1., 1., 1., 1., 1., 1., 1., 1., 1., 1.],\n",
       "       [1., 1., 1., 1., 1., 1., 1., 1., 1., 1.],\n",
       "       [1., 1., 1., 1., 1., 1., 1., 1., 1., 1.],\n",
       "       [1., 1., 1., 1., 1., 1., 1., 1., 1., 1.],\n",
       "       [1., 1., 1., 1., 1., 1., 1., 1., 1., 1.],\n",
       "       [1., 1., 1., 1., 1., 1., 1., 1., 1., 1.],\n",
       "       [1., 1., 1., 1., 1., 1., 1., 1., 1., 1.],\n",
       "       [1., 1., 1., 1., 1., 1., 1., 1., 1., 1.]])"
      ]
     },
     "execution_count": 138,
     "metadata": {},
     "output_type": "execute_result"
    }
   ],
   "source": [
    "np.ones((10, 10))"
   ]
  },
  {
   "cell_type": "code",
   "execution_count": 137,
   "metadata": {},
   "outputs": [
    {
     "data": {
      "text/plain": [
       "array([[0., 0., 0., 0.],\n",
       "       [0., 0., 0., 0.]])"
      ]
     },
     "execution_count": 137,
     "metadata": {},
     "output_type": "execute_result"
    }
   ],
   "source": [
    "np.empty((2, 4))"
   ]
  },
  {
   "cell_type": "code",
   "execution_count": 142,
   "metadata": {},
   "outputs": [
    {
     "data": {
      "text/plain": [
       "array([3, 4])"
      ]
     },
     "execution_count": 142,
     "metadata": {},
     "output_type": "execute_result"
    }
   ],
   "source": [
    "np.array([1, 2, 3, 4, 5, 6, 7])[2:4]"
   ]
  },
  {
   "cell_type": "code",
   "execution_count": 146,
   "metadata": {},
   "outputs": [],
   "source": [
    "arr3d = np.array([[1, 2, 3], [4, 5, 6], [7, 8, 9], [10, 11, 12]])"
   ]
  },
  {
   "cell_type": "code",
   "execution_count": 147,
   "metadata": {},
   "outputs": [
    {
     "data": {
      "text/plain": [
       "array([[ 1,  2,  3],\n",
       "       [ 4,  5,  6],\n",
       "       [ 7,  8,  9],\n",
       "       [10, 11, 12]])"
      ]
     },
     "execution_count": 147,
     "metadata": {},
     "output_type": "execute_result"
    }
   ],
   "source": [
    "arr3d"
   ]
  },
  {
   "cell_type": "code",
   "execution_count": 149,
   "metadata": {},
   "outputs": [
    {
     "data": {
      "text/plain": [
       "array([7, 8, 9])"
      ]
     },
     "execution_count": 149,
     "metadata": {},
     "output_type": "execute_result"
    }
   ],
   "source": [
    "arr3d[2]"
   ]
  },
  {
   "cell_type": "code",
   "execution_count": 154,
   "metadata": {},
   "outputs": [
    {
     "data": {
      "text/plain": [
       "array([[1],\n",
       "       [4]])"
      ]
     },
     "execution_count": 154,
     "metadata": {},
     "output_type": "execute_result"
    }
   ],
   "source": [
    "# first value refers to selecting rows and the second refers to \n",
    "# selecting columns\n",
    "arr3d[:2, :1]"
   ]
  },
  {
   "cell_type": "code",
   "execution_count": 155,
   "metadata": {},
   "outputs": [
    {
     "data": {
      "text/plain": [
       "array([3, 6])"
      ]
     },
     "execution_count": 155,
     "metadata": {},
     "output_type": "execute_result"
    }
   ],
   "source": [
    "arr3d[:2, 2]"
   ]
  },
  {
   "cell_type": "code",
   "execution_count": 159,
   "metadata": {},
   "outputs": [
    {
     "data": {
      "text/plain": [
       "array([[ 1.21694012,  0.57479784,  0.07060286,  0.57393318],\n",
       "       [ 0.95418246,  0.77073896,  1.43101082,  0.56017313],\n",
       "       [ 0.21066738, -0.91947351,  0.06198756,  2.35496408],\n",
       "       [-0.85070432,  0.02172719,  0.0589713 ,  0.13382033],\n",
       "       [ 0.47530998, -1.09819024, -2.24252713,  0.02405242],\n",
       "       [ 1.46737285,  1.85402562, -0.60638484, -0.22627746],\n",
       "       [ 0.1712065 ,  0.11148537, -1.6042796 , -0.0283572 ]])"
      ]
     },
     "execution_count": 159,
     "metadata": {},
     "output_type": "execute_result"
    }
   ],
   "source": [
    "# Create a multi-dimentional array:\n",
    "\n",
    "m_data = np.random.randn(7, 4)\n",
    "m_data"
   ]
  },
  {
   "cell_type": "code",
   "execution_count": 161,
   "metadata": {},
   "outputs": [
    {
     "data": {
      "text/plain": [
       "array([1.21694012, 0.57479784, 0.07060286, 0.57393318, 0.95418246,\n",
       "       0.77073896, 1.43101082, 0.56017313, 0.21066738, 0.06198756,\n",
       "       2.35496408, 0.02172719, 0.0589713 , 0.13382033, 0.47530998,\n",
       "       0.02405242, 1.46737285, 1.85402562, 0.1712065 , 0.11148537])"
      ]
     },
     "execution_count": 161,
     "metadata": {},
     "output_type": "execute_result"
    }
   ],
   "source": [
    "m_data[m_data>0]"
   ]
  },
  {
   "cell_type": "markdown",
   "metadata": {},
   "source": [
    "## Boolean Indexing"
   ]
  },
  {
   "cell_type": "code",
   "execution_count": 162,
   "metadata": {},
   "outputs": [],
   "source": [
    "# two sections: 1) names as the indx, 2) data as a data table:\n",
    "names = np.array(['Bob', 'David', 'Sam', 'Bob', 'Brad', 'Alex', 'Didi'])\n",
    "data = np.random.randn(7, 4)"
   ]
  },
  {
   "cell_type": "code",
   "execution_count": 168,
   "metadata": {},
   "outputs": [
    {
     "data": {
      "text/plain": [
       "array([[ 0.51245053,  2.76100925, -1.23129644,  0.73819075],\n",
       "       [-0.04404519,  0.42951225, -1.13312067,  1.16052578],\n",
       "       [-0.4713193 , -0.8715318 , -1.59554301, -0.58488128],\n",
       "       [-0.23584391, -0.98656705, -2.02465576,  0.51022542],\n",
       "       [ 0.08873099,  1.03644061,  0.09528215, -0.08756088],\n",
       "       [-1.25582286,  2.22429286, -0.72921691, -0.17527491],\n",
       "       [ 0.62993713, -1.01837436,  1.25279697,  0.13918534]])"
      ]
     },
     "execution_count": 168,
     "metadata": {},
     "output_type": "execute_result"
    }
   ],
   "source": [
    "data"
   ]
  },
  {
   "cell_type": "code",
   "execution_count": 166,
   "metadata": {},
   "outputs": [
    {
     "data": {
      "text/plain": [
       "array([ True, False, False,  True, False, False, False])"
      ]
     },
     "execution_count": 166,
     "metadata": {},
     "output_type": "execute_result"
    }
   ],
   "source": [
    "# Create boolean values\n",
    "names == 'Bob'"
   ]
  },
  {
   "cell_type": "code",
   "execution_count": 170,
   "metadata": {},
   "outputs": [
    {
     "data": {
      "text/plain": [
       "array([[ 0.51245053,  2.76100925, -1.23129644,  0.73819075],\n",
       "       [-0.23584391, -0.98656705, -2.02465576,  0.51022542]])"
      ]
     },
     "execution_count": 170,
     "metadata": {},
     "output_type": "execute_result"
    }
   ],
   "source": [
    "# Only the first and the second row will be selected\n",
    "data[names == 'Bob']"
   ]
  },
  {
   "cell_type": "code",
   "execution_count": 171,
   "metadata": {},
   "outputs": [
    {
     "data": {
      "text/plain": [
       "array([-1.23129644, -0.04404519, -1.13312067, -0.4713193 , -0.8715318 ,\n",
       "       -1.59554301, -0.58488128, -0.23584391, -0.98656705, -2.02465576,\n",
       "       -0.08756088, -1.25582286, -0.72921691, -0.17527491, -1.01837436])"
      ]
     },
     "execution_count": 171,
     "metadata": {},
     "output_type": "execute_result"
    }
   ],
   "source": [
    "data[data <0]"
   ]
  },
  {
   "cell_type": "markdown",
   "metadata": {},
   "source": [
    "### Fancy Indexing"
   ]
  },
  {
   "cell_type": "code",
   "execution_count": 172,
   "metadata": {},
   "outputs": [],
   "source": [
    "arr = np.empty((8, 4))"
   ]
  },
  {
   "cell_type": "code",
   "execution_count": 173,
   "metadata": {},
   "outputs": [
    {
     "data": {
      "text/plain": [
       "array([[-0.00000000e+000, -0.00000000e+000,  1.28457068e-322,\n",
       "         0.00000000e+000],\n",
       "       [ 0.00000000e+000,  0.00000000e+000,  0.00000000e+000,\n",
       "         0.00000000e+000],\n",
       "       [ 0.00000000e+000,  0.00000000e+000,  0.00000000e+000,\n",
       "         0.00000000e+000],\n",
       "       [ 0.00000000e+000,  0.00000000e+000,  0.00000000e+000,\n",
       "         1.24062239e+224],\n",
       "       [-0.00000000e+000, -0.00000000e+000,  8.89318163e-323,\n",
       "         0.00000000e+000],\n",
       "       [ 0.00000000e+000,  0.00000000e+000,  0.00000000e+000,\n",
       "         0.00000000e+000],\n",
       "       [ 0.00000000e+000,  0.00000000e+000,  0.00000000e+000,\n",
       "         0.00000000e+000],\n",
       "       [ 0.00000000e+000,  0.00000000e+000,  0.00000000e+000,\n",
       "        -0.00000000e+000]])"
      ]
     },
     "execution_count": 173,
     "metadata": {},
     "output_type": "execute_result"
    }
   ],
   "source": [
    "arr"
   ]
  },
  {
   "cell_type": "code",
   "execution_count": 177,
   "metadata": {},
   "outputs": [],
   "source": [
    "for i in range(8):\n",
    "    arr[i] = i"
   ]
  },
  {
   "cell_type": "code",
   "execution_count": 178,
   "metadata": {},
   "outputs": [
    {
     "data": {
      "text/plain": [
       "array([[0., 0., 0., 0.],\n",
       "       [1., 1., 1., 1.],\n",
       "       [2., 2., 2., 2.],\n",
       "       [3., 3., 3., 3.],\n",
       "       [4., 4., 4., 4.],\n",
       "       [5., 5., 5., 5.],\n",
       "       [6., 6., 6., 6.],\n",
       "       [7., 7., 7., 7.]])"
      ]
     },
     "execution_count": 178,
     "metadata": {},
     "output_type": "execute_result"
    }
   ],
   "source": [
    "arr"
   ]
  },
  {
   "cell_type": "code",
   "execution_count": 179,
   "metadata": {},
   "outputs": [
    {
     "data": {
      "text/plain": [
       "array([[4., 4., 4., 4.],\n",
       "       [3., 3., 3., 3.],\n",
       "       [0., 0., 0., 0.],\n",
       "       [6., 6., 6., 6.]])"
      ]
     },
     "execution_count": 179,
     "metadata": {},
     "output_type": "execute_result"
    }
   ],
   "source": [
    "# Use double brackets to indicate the order of the selected rows.\n",
    "arr[[4, 3, 0, 6]]"
   ]
  },
  {
   "cell_type": "code",
   "execution_count": 184,
   "metadata": {},
   "outputs": [],
   "source": [
    "num_order = np.arange(30)"
   ]
  },
  {
   "cell_type": "code",
   "execution_count": 185,
   "metadata": {},
   "outputs": [
    {
     "data": {
      "text/plain": [
       "array([[ 0,  1,  2,  3,  4,  5],\n",
       "       [ 6,  7,  8,  9, 10, 11],\n",
       "       [12, 13, 14, 15, 16, 17],\n",
       "       [18, 19, 20, 21, 22, 23],\n",
       "       [24, 25, 26, 27, 28, 29]])"
      ]
     },
     "execution_count": 185,
     "metadata": {},
     "output_type": "execute_result"
    }
   ],
   "source": [
    "num_order.reshape((5, 6))"
   ]
  },
  {
   "cell_type": "markdown",
   "metadata": {},
   "source": [
    "### Matrix Calculation"
   ]
  },
  {
   "cell_type": "code",
   "execution_count": 188,
   "metadata": {},
   "outputs": [],
   "source": [
    "np.dot?"
   ]
  },
  {
   "cell_type": "code",
   "execution_count": 217,
   "metadata": {},
   "outputs": [],
   "source": [
    "arr_1 = np.array([[1, 2, 3], [4, 5, 6]])\n",
    "arr_2 = np.array([[7, 8, 9], [10, 11, 12]])"
   ]
  },
  {
   "cell_type": "code",
   "execution_count": 218,
   "metadata": {},
   "outputs": [
    {
     "data": {
      "text/plain": [
       "array([[ 7, 10],\n",
       "       [ 8, 11],\n",
       "       [ 9, 12]])"
      ]
     },
     "execution_count": 218,
     "metadata": {},
     "output_type": "execute_result"
    }
   ],
   "source": [
    "arr_2.T"
   ]
  },
  {
   "cell_type": "code",
   "execution_count": 219,
   "metadata": {},
   "outputs": [
    {
     "data": {
      "text/plain": [
       "array([[1, 2, 3],\n",
       "       [4, 5, 6]])"
      ]
     },
     "execution_count": 219,
     "metadata": {},
     "output_type": "execute_result"
    }
   ],
   "source": [
    "arr_1"
   ]
  },
  {
   "cell_type": "code",
   "execution_count": 227,
   "metadata": {},
   "outputs": [
    {
     "data": {
      "text/plain": [
       "array([[47, 64, 81],\n",
       "       [52, 71, 90],\n",
       "       [57, 78, 99]])"
      ]
     },
     "execution_count": 227,
     "metadata": {},
     "output_type": "execute_result"
    }
   ],
   "source": [
    "np.dot(arr_2.T, arr_1)"
   ]
  },
  {
   "cell_type": "code",
   "execution_count": 216,
   "metadata": {},
   "outputs": [
    {
     "data": {
      "text/plain": [
       "[[47, 64], [52, 71]]"
      ]
     },
     "execution_count": 216,
     "metadata": {},
     "output_type": "execute_result"
    }
   ],
   "source": [
    "[[7*1+10*4,7*2+10*5],\n",
    " [8*1+11*4,8*2+11*5]]"
   ]
  },
  {
   "cell_type": "code",
   "execution_count": 221,
   "metadata": {},
   "outputs": [
    {
     "data": {
      "text/plain": [
       "[[47, 64, 81], [52, 71, 90], [57, 78, 99]]"
      ]
     },
     "execution_count": 221,
     "metadata": {},
     "output_type": "execute_result"
    }
   ],
   "source": [
    "[[7*1+10*4, 7*2+10*5, 7*3+10*6], \n",
    " [8*1+11*4, 8*2+11*5, 8*3+11*6],\n",
    " [9*1+12*4, 9*2+12*5, 9*3+12*6]]"
   ]
  },
  {
   "cell_type": "markdown",
   "metadata": {},
   "source": [
    "### Application of the Matrix in Finance: Covariance\n",
    "\n",
    "https://www.youtube.com/watch?v=-08Z-R9kKns"
   ]
  },
  {
   "cell_type": "code",
   "execution_count": 222,
   "metadata": {},
   "outputs": [],
   "source": [
    "# cov = DCD\n",
    "\n",
    "stdev = [[0.2, 0, 0],\n",
    "         [0, 0.1, 0],\n",
    "         [0, 0, 0.15]]\n",
    "\n",
    "corr  = [[1, 0.8, 0.5],\n",
    "         [0.8, 1, 0.3],\n",
    "         [0.5, 0.3, 1]]"
   ]
  },
  {
   "cell_type": "code",
   "execution_count": 224,
   "metadata": {},
   "outputs": [],
   "source": [
    "sc_1 = np.dot(stdev, corr)"
   ]
  },
  {
   "cell_type": "code",
   "execution_count": 225,
   "metadata": {},
   "outputs": [
    {
     "data": {
      "text/plain": [
       "array([[0.04  , 0.016 , 0.015 ],\n",
       "       [0.016 , 0.01  , 0.0045],\n",
       "       [0.015 , 0.0045, 0.0225]])"
      ]
     },
     "execution_count": 225,
     "metadata": {},
     "output_type": "execute_result"
    }
   ],
   "source": [
    "# This is the correct answer presented in the video:\n",
    "np.dot(sc_1, stdev)"
   ]
  },
  {
   "cell_type": "code",
   "execution_count": 231,
   "metadata": {},
   "outputs": [
    {
     "data": {
      "text/plain": [
       "array([[0.        , 0.        , 0.        , 0.        ],\n",
       "       [1.        , 1.        , 1.        , 1.        ],\n",
       "       [1.41421356, 1.41421356, 1.41421356, 1.41421356],\n",
       "       [1.73205081, 1.73205081, 1.73205081, 1.73205081],\n",
       "       [2.        , 2.        , 2.        , 2.        ],\n",
       "       [2.23606798, 2.23606798, 2.23606798, 2.23606798],\n",
       "       [2.44948974, 2.44948974, 2.44948974, 2.44948974],\n",
       "       [2.64575131, 2.64575131, 2.64575131, 2.64575131]])"
      ]
     },
     "execution_count": 231,
     "metadata": {},
     "output_type": "execute_result"
    }
   ],
   "source": [
    "np.sqrt(arr, arr)"
   ]
  },
  {
   "cell_type": "code",
   "execution_count": 233,
   "metadata": {},
   "outputs": [
    {
     "data": {
      "text/plain": [
       "array([[0.        , 0.        , 0.        , 0.        ],\n",
       "       [1.        , 1.        , 1.        , 1.        ],\n",
       "       [1.41421356, 1.41421356, 1.41421356, 1.41421356],\n",
       "       [1.73205081, 1.73205081, 1.73205081, 1.73205081],\n",
       "       [2.        , 2.        , 2.        , 2.        ],\n",
       "       [2.23606798, 2.23606798, 2.23606798, 2.23606798],\n",
       "       [2.44948974, 2.44948974, 2.44948974, 2.44948974],\n",
       "       [2.64575131, 2.64575131, 2.64575131, 2.64575131]])"
      ]
     },
     "execution_count": 233,
     "metadata": {},
     "output_type": "execute_result"
    }
   ],
   "source": [
    "# The function of in-place implementation from the previous code:\n",
    "arr"
   ]
  },
  {
   "cell_type": "markdown",
   "metadata": {},
   "source": [
    "## Array-Oriented Programming with Arrays"
   ]
  },
  {
   "cell_type": "code",
   "execution_count": 237,
   "metadata": {},
   "outputs": [],
   "source": [
    "points = np.arange(-5, 5, 0.01) # 1000 equally spaced points"
   ]
  },
  {
   "cell_type": "code",
   "execution_count": 241,
   "metadata": {},
   "outputs": [
    {
     "data": {
      "text/plain": [
       "[array([[-5.  , -4.99, -4.98, ...,  4.97,  4.98,  4.99],\n",
       "        [-5.  , -4.99, -4.98, ...,  4.97,  4.98,  4.99],\n",
       "        [-5.  , -4.99, -4.98, ...,  4.97,  4.98,  4.99],\n",
       "        ...,\n",
       "        [-5.  , -4.99, -4.98, ...,  4.97,  4.98,  4.99],\n",
       "        [-5.  , -4.99, -4.98, ...,  4.97,  4.98,  4.99],\n",
       "        [-5.  , -4.99, -4.98, ...,  4.97,  4.98,  4.99]]),\n",
       " array([[-5.  , -5.  , -5.  , ..., -5.  , -5.  , -5.  ],\n",
       "        [-4.99, -4.99, -4.99, ..., -4.99, -4.99, -4.99],\n",
       "        [-4.98, -4.98, -4.98, ..., -4.98, -4.98, -4.98],\n",
       "        ...,\n",
       "        [ 4.97,  4.97,  4.97, ...,  4.97,  4.97,  4.97],\n",
       "        [ 4.98,  4.98,  4.98, ...,  4.98,  4.98,  4.98],\n",
       "        [ 4.99,  4.99,  4.99, ...,  4.99,  4.99,  4.99]])]"
      ]
     },
     "execution_count": 241,
     "metadata": {},
     "output_type": "execute_result"
    }
   ],
   "source": [
    "np.meshgrid(points, points)"
   ]
  },
  {
   "cell_type": "code",
   "execution_count": 240,
   "metadata": {},
   "outputs": [
    {
     "data": {
      "text/plain": [
       "2"
      ]
     },
     "execution_count": 240,
     "metadata": {},
     "output_type": "execute_result"
    }
   ],
   "source": [
    "# So we can see there are two arrays as the results\n",
    "len(np.meshgrid(points, points))"
   ]
  },
  {
   "cell_type": "code",
   "execution_count": 242,
   "metadata": {},
   "outputs": [],
   "source": [
    "xs, ys = np.meshgrid(points, points)"
   ]
  },
  {
   "cell_type": "code",
   "execution_count": 243,
   "metadata": {},
   "outputs": [
    {
     "data": {
      "text/plain": [
       "array([[-5.  , -5.  , -5.  , ..., -5.  , -5.  , -5.  ],\n",
       "       [-4.99, -4.99, -4.99, ..., -4.99, -4.99, -4.99],\n",
       "       [-4.98, -4.98, -4.98, ..., -4.98, -4.98, -4.98],\n",
       "       ...,\n",
       "       [ 4.97,  4.97,  4.97, ...,  4.97,  4.97,  4.97],\n",
       "       [ 4.98,  4.98,  4.98, ...,  4.98,  4.98,  4.98],\n",
       "       [ 4.99,  4.99,  4.99, ...,  4.99,  4.99,  4.99]])"
      ]
     },
     "execution_count": 243,
     "metadata": {},
     "output_type": "execute_result"
    }
   ],
   "source": [
    "ys"
   ]
  },
  {
   "cell_type": "code",
   "execution_count": 244,
   "metadata": {},
   "outputs": [
    {
     "data": {
      "text/plain": [
       "array([[-5.  , -4.99, -4.98, ...,  4.97,  4.98,  4.99],\n",
       "       [-5.  , -4.99, -4.98, ...,  4.97,  4.98,  4.99],\n",
       "       [-5.  , -4.99, -4.98, ...,  4.97,  4.98,  4.99],\n",
       "       ...,\n",
       "       [-5.  , -4.99, -4.98, ...,  4.97,  4.98,  4.99],\n",
       "       [-5.  , -4.99, -4.98, ...,  4.97,  4.98,  4.99],\n",
       "       [-5.  , -4.99, -4.98, ...,  4.97,  4.98,  4.99]])"
      ]
     },
     "execution_count": 244,
     "metadata": {},
     "output_type": "execute_result"
    }
   ],
   "source": [
    "xs"
   ]
  },
  {
   "cell_type": "code",
   "execution_count": 245,
   "metadata": {},
   "outputs": [
    {
     "data": {
      "text/plain": [
       "array([[7.07106781, 7.06400028, 7.05693985, ..., 7.04988652, 7.05693985,\n",
       "        7.06400028],\n",
       "       [7.06400028, 7.05692568, 7.04985815, ..., 7.04279774, 7.04985815,\n",
       "        7.05692568],\n",
       "       [7.05693985, 7.04985815, 7.04278354, ..., 7.03571603, 7.04278354,\n",
       "        7.04985815],\n",
       "       ...,\n",
       "       [7.04988652, 7.04279774, 7.03571603, ..., 7.0286414 , 7.03571603,\n",
       "        7.04279774],\n",
       "       [7.05693985, 7.04985815, 7.04278354, ..., 7.03571603, 7.04278354,\n",
       "        7.04985815],\n",
       "       [7.06400028, 7.05692568, 7.04985815, ..., 7.04279774, 7.04985815,\n",
       "        7.05692568]])"
      ]
     },
     "execution_count": 245,
     "metadata": {},
     "output_type": "execute_result"
    }
   ],
   "source": [
    "z = np.sqrt(xs**2 + ys**2)\n",
    "z"
   ]
  },
  {
   "cell_type": "code",
   "execution_count": 252,
   "metadata": {},
   "outputs": [],
   "source": [
    "import matplotlib.pyplot as plt\n",
    "import seaborn as sns\n",
    "\n",
    "%matplotlib inline"
   ]
  },
  {
   "cell_type": "code",
   "execution_count": 266,
   "metadata": {},
   "outputs": [
    {
     "data": {
      "text/plain": [
       "<matplotlib.colorbar.Colorbar at 0x1c1bdc0978>"
      ]
     },
     "execution_count": 266,
     "metadata": {},
     "output_type": "execute_result"
    },
    {
     "data": {
      "image/png": "[encoded data removed]",
      "text/plain": [
       "<Figure size 432x288 with 2 Axes>"
      ]
     },
     "metadata": {
      "needs_background": "light"
     },
     "output_type": "display_data"
    }
   ],
   "source": [
    "plt.imshow(z, cmap=plt.cm.gray); plt.colorbar()"
   ]
  },
  {
   "cell_type": "markdown",
   "metadata": {},
   "source": [
    "## Usage of np.where"
   ]
  },
  {
   "cell_type": "code",
   "execution_count": 268,
   "metadata": {},
   "outputs": [],
   "source": [
    "xarr = np.array([1.1, 1.2, 1.3, 1.4, 1.5])\n",
    "yarr = np.array([2.1, 2.2, 2.3, 2.4, 2.5])\n",
    "cond = np.array([True, False, True, True, False])"
   ]
  },
  {
   "cell_type": "code",
   "execution_count": null,
   "metadata": {},
   "outputs": [],
   "source": []
  },
  {
   "cell_type": "code",
   "execution_count": 269,
   "metadata": {},
   "outputs": [],
   "source": [
    "result = [(x if c else y)\n",
    "         for x, y, c in zip(xarr, yarr, cond)]"
   ]
  },
  {
   "cell_type": "code",
   "execution_count": 270,
   "metadata": {
    "scrolled": true
   },
   "outputs": [
    {
     "data": {
      "text/plain": [
       "[1.1, 2.2, 1.3, 1.4, 2.5]"
      ]
     },
     "execution_count": 270,
     "metadata": {},
     "output_type": "execute_result"
    }
   ],
   "source": [
    "result"
   ]
  },
  {
   "cell_type": "code",
   "execution_count": 273,
   "metadata": {},
   "outputs": [
    {
     "name": "stdout",
     "output_type": "stream",
     "text": [
      "1.1\n",
      "2.1\n",
      "True\n",
      "1.2\n",
      "2.2\n",
      "False\n",
      "1.3\n",
      "2.3\n",
      "True\n",
      "1.4\n",
      "2.4\n",
      "True\n",
      "1.5\n",
      "2.5\n",
      "False\n"
     ]
    }
   ],
   "source": [
    "for x, y, c in zip(xarr, yarr, cond):\n",
    "    print (x)\n",
    "    print (y)\n",
    "    print (c)"
   ]
  },
  {
   "cell_type": "code",
   "execution_count": 274,
   "metadata": {},
   "outputs": [],
   "source": [
    "# Here in order for us to match the three arrays, we must use \n",
    "# at an array of booleans\n",
    "result = np.where(cond, xarr, yarr)"
   ]
  },
  {
   "cell_type": "code",
   "execution_count": 275,
   "metadata": {},
   "outputs": [
    {
     "data": {
      "text/plain": [
       "array([1.1, 2.2, 1.3, 1.4, 2.5])"
      ]
     },
     "execution_count": 275,
     "metadata": {},
     "output_type": "execute_result"
    }
   ],
   "source": [
    "result"
   ]
  },
  {
   "cell_type": "code",
   "execution_count": 276,
   "metadata": {},
   "outputs": [
    {
     "data": {
      "text/plain": [
       "array([[ 0.50544696, -0.13559696,  0.1734224 ,  0.45654582],\n",
       "       [ 1.2308844 ,  1.70499042, -1.52448944,  0.79389414],\n",
       "       [ 0.38005154, -0.50287979, -0.54034439,  1.89944921],\n",
       "       [-0.33326494,  0.60092171, -0.55555117, -1.77230869]])"
      ]
     },
     "execution_count": 276,
     "metadata": {},
     "output_type": "execute_result"
    }
   ],
   "source": [
    "arr_ = np.random.randn(4, 4)\n",
    "arr_"
   ]
  },
  {
   "cell_type": "code",
   "execution_count": 278,
   "metadata": {},
   "outputs": [
    {
     "data": {
      "text/plain": [
       "array([[ True, False,  True,  True],\n",
       "       [ True,  True, False,  True],\n",
       "       [ True, False, False,  True],\n",
       "       [False,  True, False, False]])"
      ]
     },
     "execution_count": 278,
     "metadata": {},
     "output_type": "execute_result"
    }
   ],
   "source": [
    "arr_ > 0"
   ]
  },
  {
   "cell_type": "code",
   "execution_count": 280,
   "metadata": {},
   "outputs": [
    {
     "data": {
      "text/plain": [
       "array([[ 2, -2,  2,  2],\n",
       "       [ 2,  2, -2,  2],\n",
       "       [ 2, -2, -2,  2],\n",
       "       [-2,  2, -2, -2]])"
      ]
     },
     "execution_count": 280,
     "metadata": {},
     "output_type": "execute_result"
    }
   ],
   "source": [
    "# If the value is > 0, then x, esle y:\n",
    "np.where(arr_>0, 2, -2)"
   ]
  },
  {
   "cell_type": "code",
   "execution_count": 282,
   "metadata": {},
   "outputs": [
    {
     "data": {
      "text/plain": [
       "array([[ 2.        , -0.13559696,  2.        ,  2.        ],\n",
       "       [ 2.        ,  2.        , -1.52448944,  2.        ],\n",
       "       [ 2.        , -0.50287979, -0.54034439,  2.        ],\n",
       "       [-0.33326494,  2.        , -0.55555117, -1.77230869]])"
      ]
     },
     "execution_count": 282,
     "metadata": {},
     "output_type": "execute_result"
    }
   ],
   "source": [
    "np.where(arr_>0, 2, arr_)"
   ]
  },
  {
   "cell_type": "code",
   "execution_count": 283,
   "metadata": {},
   "outputs": [
    {
     "data": {
      "text/plain": [
       "9"
      ]
     },
     "execution_count": 283,
     "metadata": {},
     "output_type": "execute_result"
    }
   ],
   "source": [
    "(arr_>0).sum()"
   ]
  },
  {
   "cell_type": "markdown",
   "metadata": {},
   "source": [
    "## Linear Algebra"
   ]
  },
  {
   "cell_type": "code",
   "execution_count": 284,
   "metadata": {},
   "outputs": [],
   "source": [
    "from numpy.linalg import inv, qr"
   ]
  },
  {
   "cell_type": "code",
   "execution_count": 285,
   "metadata": {},
   "outputs": [],
   "source": [
    "X = np.random.randn(5, 5)"
   ]
  },
  {
   "cell_type": "code",
   "execution_count": 286,
   "metadata": {},
   "outputs": [
    {
     "data": {
      "text/plain": [
       "array([[-0.93673786,  0.15186857,  0.03866973,  0.19559798, -0.83083208],\n",
       "       [ 1.13781117,  0.6885768 ,  0.82423704, -0.55771499,  1.35575666],\n",
       "       [ 1.30132263, -1.29194986,  0.51545922, -3.25912472, -0.15589514],\n",
       "       [-0.77913641,  1.56294505,  1.86537475, -1.05204647, -0.30598511],\n",
       "       [ 1.52234783,  1.25737992,  0.60048948,  1.28209601,  1.48271745]])"
      ]
     },
     "execution_count": 286,
     "metadata": {},
     "output_type": "execute_result"
    }
   ],
   "source": [
    "X"
   ]
  },
  {
   "cell_type": "code",
   "execution_count": 287,
   "metadata": {},
   "outputs": [],
   "source": [
    "mat = X.T.dot(X)"
   ]
  },
  {
   "cell_type": "code",
   "execution_count": 288,
   "metadata": {},
   "outputs": [
    {
     "data": {
      "text/plain": [
       "array([[ 6.79012914, -0.34361206,  1.03315392, -2.28748735,  4.6136129 ],\n",
       "       [-0.34361206,  6.19013802,  3.5779974 ,  3.82409227,  2.39487526],\n",
       "       [ 1.03315392,  3.5779974 ,  4.78677082, -3.32464728,  1.32455854],\n",
       "       [-2.28748735,  3.82409227, -3.32464728, 13.72177048,  1.81234351],\n",
       "       [ 4.6136129 ,  2.39487526,  1.32455854,  1.81234351,  4.84473929]])"
      ]
     },
     "execution_count": 288,
     "metadata": {},
     "output_type": "execute_result"
    }
   ],
   "source": [
    "mat"
   ]
  },
  {
   "cell_type": "code",
   "execution_count": 289,
   "metadata": {},
   "outputs": [
    {
     "data": {
      "text/plain": [
       "array([[  161.15909047,   764.37957751,  -805.78233601,  -357.99954903,\n",
       "         -177.09835552],\n",
       "       [  764.37957751,  3665.6619356 , -3867.81182778, -1720.48590908,\n",
       "         -838.86864555],\n",
       "       [ -805.78233601, -3867.81182778,  4081.73076871,  1815.77816581,\n",
       "          884.09081319],\n",
       "       [ -357.99954903, -1720.48590908,  1815.77816581,   807.9460684 ,\n",
       "          392.72292391],\n",
       "       [ -177.09835552,  -838.86864555,   884.09081319,   392.72292391,\n",
       "          194.90628579]])"
      ]
     },
     "execution_count": 289,
     "metadata": {},
     "output_type": "execute_result"
    }
   ],
   "source": [
    "inv(mat)"
   ]
  },
  {
   "cell_type": "code",
   "execution_count": 291,
   "metadata": {},
   "outputs": [],
   "source": [
    "inv?"
   ]
  },
  {
   "cell_type": "markdown",
   "metadata": {},
   "source": [
    "## Random Walk"
   ]
  },
  {
   "cell_type": "code",
   "execution_count": 292,
   "metadata": {},
   "outputs": [],
   "source": [
    "import random"
   ]
  },
  {
   "cell_type": "code",
   "execution_count": 320,
   "metadata": {},
   "outputs": [
    {
     "name": "stdout",
     "output_type": "stream",
     "text": [
      "0\n",
      "False, The value is: 0 , Signal: -1\n"
     ]
    }
   ],
   "source": [
    "x = random.randint(0, 1)\n",
    "if x:\n",
    "    print (\"True,\", \"The value is:\",x, \", Signal:\", 1)\n",
    "else:\n",
    "    print (x)\n",
    "    print (\"False,\", \"The value is:\",x, \", Signal:\", -1)"
   ]
  },
  {
   "cell_type": "code",
   "execution_count": 359,
   "metadata": {},
   "outputs": [
    {
     "data": {
      "text/plain": [
       "<matplotlib.axes._subplots.AxesSubplot at 0x1c263f5198>"
      ]
     },
     "execution_count": 359,
     "metadata": {},
     "output_type": "execute_result"
    },
    {
     "data": {
      "image/png": "[encoded data removed]",
      "text/plain": [
       "<Figure size 1152x576 with 1 Axes>"
      ]
     },
     "metadata": {
      "needs_background": "light"
     },
     "output_type": "display_data"
    }
   ],
   "source": [
    "# The textbook actually uses random.randint(0, 1) to randomly\n",
    "# generate 0 and 1, so I'd like to dig deeper into what it looks like: \n",
    "\n",
    "# Well I created one version my own:\n",
    "init = 100\n",
    "list_ = []\n",
    "for i in range(1000):\n",
    "    x = random.randint(-1, 1)\n",
    "    x = init + x\n",
    "    init = x\n",
    "    list_.append(x)\n",
    "    \n",
    "pd.Series(list_).plot(figsize = (16, 8))"
   ]
  },
  {
   "cell_type": "code",
   "execution_count": 360,
   "metadata": {},
   "outputs": [],
   "source": [
    "# Textbook version:\n",
    "\n",
    "position = 0\n",
    "walk = [position]\n",
    "steps = 1000\n",
    "for i in range(steps):\n",
    "    step = 1 if random.randint(0, 1) else -1\n",
    "    position += step\n",
    "    walk.append(position)"
   ]
  },
  {
   "cell_type": "code",
   "execution_count": 366,
   "metadata": {},
   "outputs": [
    {
     "data": {
      "text/plain": [
       "<matplotlib.axes._subplots.AxesSubplot at 0x1c263e0940>"
      ]
     },
     "execution_count": 366,
     "metadata": {},
     "output_type": "execute_result"
    },
    {
     "data": {
      "image/png": "[encoded data removed]",
      "text/plain": [
       "<Figure size 1296x720 with 1 Axes>"
      ]
     },
     "metadata": {
      "needs_background": "light"
     },
     "output_type": "display_data"
    }
   ],
   "source": [
    "pd.Series(walk).plot(figsize = (18, 10))"
   ]
  },
  {
   "cell_type": "code",
   "execution_count": 381,
   "metadata": {},
   "outputs": [],
   "source": [
    "nstep = 1000\n",
    "draws = np.random.randint(0, 2, size=nstep)"
   ]
  },
  {
   "cell_type": "code",
   "execution_count": 382,
   "metadata": {},
   "outputs": [
    {
     "data": {
      "text/plain": [
       "<matplotlib.axes._subplots.AxesSubplot at 0x1c26eebe10>"
      ]
     },
     "execution_count": 382,
     "metadata": {},
     "output_type": "execute_result"
    },
    {
     "data": {
      "image/png": "[encoded data removed]",
      "text/plain": [
       "<Figure size 432x288 with 1 Axes>"
      ]
     },
     "metadata": {
      "needs_background": "light"
     },
     "output_type": "display_data"
    }
   ],
   "source": [
    "pd.Series(draws).plot()"
   ]
  },
  {
   "cell_type": "code",
   "execution_count": 383,
   "metadata": {},
   "outputs": [],
   "source": [
    "steps = np.where(draws > 0, 1, -1)"
   ]
  },
  {
   "cell_type": "code",
   "execution_count": 384,
   "metadata": {},
   "outputs": [
    {
     "data": {
      "text/plain": [
       "<matplotlib.axes._subplots.AxesSubplot at 0x1c27024898>"
      ]
     },
     "execution_count": 384,
     "metadata": {},
     "output_type": "execute_result"
    },
    {
     "data": {
      "image/png": "[encoded data removed]",
      "text/plain": [
       "<Figure size 432x288 with 1 Axes>"
      ]
     },
     "metadata": {
      "needs_background": "light"
     },
     "output_type": "display_data"
    }
   ],
   "source": [
    "pd.Series(steps).cumsum().plot()"
   ]
  },
  {
   "cell_type": "code",
   "execution_count": 388,
   "metadata": {},
   "outputs": [],
   "source": [
    "walk = np.array(walk)"
   ]
  },
  {
   "cell_type": "code",
   "execution_count": 396,
   "metadata": {},
   "outputs": [
    {
     "data": {
      "text/plain": [
       "array([[0, 1, 1, 0, 0, 1, 1, 0, 0, 1],\n",
       "       [0, 0, 1, 0, 0, 1, 1, 0, 1, 0],\n",
       "       [0, 0, 1, 1, 0, 1, 0, 0, 1, 0],\n",
       "       [1, 0, 1, 0, 1, 1, 0, 1, 0, 0],\n",
       "       [1, 1, 1, 1, 0, 0, 0, 0, 0, 0],\n",
       "       [1, 1, 0, 1, 1, 0, 0, 0, 1, 1],\n",
       "       [1, 0, 0, 1, 1, 1, 0, 0, 1, 1],\n",
       "       [1, 1, 1, 0, 0, 0, 0, 0, 1, 0],\n",
       "       [0, 1, 1, 1, 1, 0, 1, 0, 1, 0],\n",
       "       [0, 1, 0, 1, 0, 0, 0, 1, 1, 0],\n",
       "       [0, 0, 0, 1, 0, 0, 1, 0, 0, 1],\n",
       "       [1, 0, 1, 1, 1, 0, 0, 0, 1, 1],\n",
       "       [0, 1, 0, 0, 0, 1, 0, 1, 1, 1],\n",
       "       [1, 0, 1, 1, 0, 1, 0, 1, 1, 0],\n",
       "       [0, 1, 1, 1, 1, 1, 1, 1, 1, 1],\n",
       "       [1, 0, 1, 1, 0, 0, 1, 1, 0, 1],\n",
       "       [0, 1, 1, 0, 0, 0, 0, 0, 0, 0],\n",
       "       [0, 1, 0, 1, 1, 1, 1, 1, 1, 1],\n",
       "       [0, 0, 0, 0, 1, 0, 0, 1, 1, 0],\n",
       "       [0, 0, 0, 1, 0, 0, 0, 0, 0, 1]])"
      ]
     },
     "execution_count": 396,
     "metadata": {},
     "output_type": "execute_result"
    }
   ],
   "source": [
    "np.random.randint(0, 2, size = (20, 10))"
   ]
  },
  {
   "cell_type": "code",
   "execution_count": 442,
   "metadata": {},
   "outputs": [],
   "source": [
    "nwalks = 50\n",
    "nsteps = 10\n",
    "draws = np.random.randint(0, 2, size = (nwalks, nsteps))"
   ]
  },
  {
   "cell_type": "code",
   "execution_count": 443,
   "metadata": {},
   "outputs": [
    {
     "data": {
      "text/plain": [
       "(50, 10)"
      ]
     },
     "execution_count": 443,
     "metadata": {},
     "output_type": "execute_result"
    }
   ],
   "source": [
    "draws.shape"
   ]
  },
  {
   "cell_type": "code",
   "execution_count": 444,
   "metadata": {},
   "outputs": [],
   "source": [
    "steps = np.where(draws>0, 1, -1)"
   ]
  },
  {
   "cell_type": "code",
   "execution_count": 445,
   "metadata": {
    "collapsed": true
   },
   "outputs": [
    {
     "data": {
      "text/plain": [
       "array([[ 1,  1,  1,  1, -1,  1, -1,  1,  1,  1],\n",
       "       [ 1, -1, -1, -1,  1,  1,  1, -1,  1,  1],\n",
       "       [ 1,  1,  1,  1, -1, -1, -1, -1,  1, -1],\n",
       "       [-1,  1, -1,  1,  1,  1,  1,  1,  1, -1],\n",
       "       [-1,  1,  1,  1,  1,  1, -1,  1, -1, -1],\n",
       "       [ 1,  1, -1, -1,  1,  1, -1,  1, -1,  1],\n",
       "       [ 1, -1,  1, -1,  1,  1, -1, -1, -1, -1],\n",
       "       [ 1,  1,  1,  1, -1, -1,  1,  1, -1,  1],\n",
       "       [ 1,  1, -1,  1,  1,  1,  1,  1,  1, -1],\n",
       "       [-1, -1,  1,  1, -1,  1,  1,  1, -1,  1],\n",
       "       [ 1,  1, -1, -1,  1,  1, -1,  1,  1, -1],\n",
       "       [ 1, -1,  1,  1, -1, -1,  1,  1,  1, -1],\n",
       "       [-1, -1, -1,  1,  1,  1, -1, -1, -1,  1],\n",
       "       [-1, -1, -1,  1,  1,  1, -1, -1,  1,  1],\n",
       "       [-1,  1,  1,  1,  1, -1, -1,  1, -1, -1],\n",
       "       [ 1, -1,  1,  1,  1,  1, -1,  1, -1,  1],\n",
       "       [ 1,  1, -1, -1, -1,  1,  1,  1,  1,  1],\n",
       "       [ 1,  1,  1, -1,  1,  1, -1,  1, -1, -1],\n",
       "       [ 1,  1, -1,  1,  1,  1, -1, -1, -1,  1],\n",
       "       [-1, -1, -1, -1,  1,  1, -1,  1, -1, -1],\n",
       "       [-1,  1, -1,  1,  1, -1, -1,  1,  1,  1],\n",
       "       [ 1,  1,  1, -1, -1,  1, -1,  1,  1,  1],\n",
       "       [-1, -1,  1,  1, -1, -1, -1,  1, -1, -1],\n",
       "       [ 1,  1,  1, -1, -1,  1,  1, -1, -1,  1],\n",
       "       [ 1, -1,  1, -1,  1,  1, -1, -1, -1, -1],\n",
       "       [-1,  1,  1,  1,  1,  1, -1,  1,  1,  1],\n",
       "       [-1,  1, -1, -1,  1, -1, -1, -1, -1,  1],\n",
       "       [ 1,  1, -1, -1,  1, -1,  1,  1, -1, -1],\n",
       "       [ 1, -1, -1, -1, -1, -1, -1,  1,  1,  1],\n",
       "       [-1,  1,  1,  1,  1, -1, -1, -1,  1,  1],\n",
       "       [-1,  1, -1, -1,  1,  1,  1, -1, -1,  1],\n",
       "       [-1, -1,  1,  1,  1, -1, -1, -1, -1, -1],\n",
       "       [-1,  1,  1, -1,  1,  1,  1, -1,  1, -1],\n",
       "       [ 1, -1,  1,  1,  1, -1, -1, -1,  1,  1],\n",
       "       [ 1, -1,  1,  1,  1,  1, -1,  1,  1, -1],\n",
       "       [-1,  1,  1,  1, -1, -1, -1,  1,  1, -1],\n",
       "       [ 1, -1, -1, -1,  1, -1, -1,  1,  1, -1],\n",
       "       [ 1, -1,  1, -1, -1, -1,  1, -1, -1, -1],\n",
       "       [ 1, -1,  1, -1, -1, -1,  1,  1, -1,  1],\n",
       "       [ 1, -1, -1, -1,  1,  1,  1,  1,  1,  1],\n",
       "       [ 1,  1, -1,  1,  1, -1,  1,  1,  1,  1],\n",
       "       [ 1,  1,  1, -1,  1,  1, -1,  1, -1, -1],\n",
       "       [-1,  1, -1, -1,  1,  1, -1, -1, -1, -1],\n",
       "       [-1,  1, -1,  1, -1, -1, -1,  1,  1, -1],\n",
       "       [ 1,  1, -1, -1,  1,  1, -1, -1, -1,  1],\n",
       "       [-1, -1, -1,  1,  1, -1,  1,  1, -1,  1],\n",
       "       [ 1, -1,  1,  1,  1, -1, -1, -1, -1, -1],\n",
       "       [-1, -1, -1,  1,  1, -1,  1,  1,  1, -1],\n",
       "       [-1,  1, -1,  1, -1, -1,  1, -1,  1, -1],\n",
       "       [-1,  1,  1, -1, -1,  1,  1, -1,  1, -1]])"
      ]
     },
     "execution_count": 445,
     "metadata": {},
     "output_type": "execute_result"
    }
   ],
   "source": [
    "steps"
   ]
  },
  {
   "cell_type": "code",
   "execution_count": 446,
   "metadata": {},
   "outputs": [],
   "source": [
    "walks = steps.cumsum(1)"
   ]
  },
  {
   "cell_type": "code",
   "execution_count": 447,
   "metadata": {
    "collapsed": true
   },
   "outputs": [
    {
     "data": {
      "text/plain": [
       "array([[ 1,  2,  3,  4,  3,  4,  3,  4,  5,  6],\n",
       "       [ 1,  0, -1, -2, -1,  0,  1,  0,  1,  2],\n",
       "       [ 1,  2,  3,  4,  3,  2,  1,  0,  1,  0],\n",
       "       [-1,  0, -1,  0,  1,  2,  3,  4,  5,  4],\n",
       "       [-1,  0,  1,  2,  3,  4,  3,  4,  3,  2],\n",
       "       [ 1,  2,  1,  0,  1,  2,  1,  2,  1,  2],\n",
       "       [ 1,  0,  1,  0,  1,  2,  1,  0, -1, -2],\n",
       "       [ 1,  2,  3,  4,  3,  2,  3,  4,  3,  4],\n",
       "       [ 1,  2,  1,  2,  3,  4,  5,  6,  7,  6],\n",
       "       [-1, -2, -1,  0, -1,  0,  1,  2,  1,  2],\n",
       "       [ 1,  2,  1,  0,  1,  2,  1,  2,  3,  2],\n",
       "       [ 1,  0,  1,  2,  1,  0,  1,  2,  3,  2],\n",
       "       [-1, -2, -3, -2, -1,  0, -1, -2, -3, -2],\n",
       "       [-1, -2, -3, -2, -1,  0, -1, -2, -1,  0],\n",
       "       [-1,  0,  1,  2,  3,  2,  1,  2,  1,  0],\n",
       "       [ 1,  0,  1,  2,  3,  4,  3,  4,  3,  4],\n",
       "       [ 1,  2,  1,  0, -1,  0,  1,  2,  3,  4],\n",
       "       [ 1,  2,  3,  2,  3,  4,  3,  4,  3,  2],\n",
       "       [ 1,  2,  1,  2,  3,  4,  3,  2,  1,  2],\n",
       "       [-1, -2, -3, -4, -3, -2, -3, -2, -3, -4],\n",
       "       [-1,  0, -1,  0,  1,  0, -1,  0,  1,  2],\n",
       "       [ 1,  2,  3,  2,  1,  2,  1,  2,  3,  4],\n",
       "       [-1, -2, -1,  0, -1, -2, -3, -2, -3, -4],\n",
       "       [ 1,  2,  3,  2,  1,  2,  3,  2,  1,  2],\n",
       "       [ 1,  0,  1,  0,  1,  2,  1,  0, -1, -2],\n",
       "       [-1,  0,  1,  2,  3,  4,  3,  4,  5,  6],\n",
       "       [-1,  0, -1, -2, -1, -2, -3, -4, -5, -4],\n",
       "       [ 1,  2,  1,  0,  1,  0,  1,  2,  1,  0],\n",
       "       [ 1,  0, -1, -2, -3, -4, -5, -4, -3, -2],\n",
       "       [-1,  0,  1,  2,  3,  2,  1,  0,  1,  2],\n",
       "       [-1,  0, -1, -2, -1,  0,  1,  0, -1,  0],\n",
       "       [-1, -2, -1,  0,  1,  0, -1, -2, -3, -4],\n",
       "       [-1,  0,  1,  0,  1,  2,  3,  2,  3,  2],\n",
       "       [ 1,  0,  1,  2,  3,  2,  1,  0,  1,  2],\n",
       "       [ 1,  0,  1,  2,  3,  4,  3,  4,  5,  4],\n",
       "       [-1,  0,  1,  2,  1,  0, -1,  0,  1,  0],\n",
       "       [ 1,  0, -1, -2, -1, -2, -3, -2, -1, -2],\n",
       "       [ 1,  0,  1,  0, -1, -2, -1, -2, -3, -4],\n",
       "       [ 1,  0,  1,  0, -1, -2, -1,  0, -1,  0],\n",
       "       [ 1,  0, -1, -2, -1,  0,  1,  2,  3,  4],\n",
       "       [ 1,  2,  1,  2,  3,  2,  3,  4,  5,  6],\n",
       "       [ 1,  2,  3,  2,  3,  4,  3,  4,  3,  2],\n",
       "       [-1,  0, -1, -2, -1,  0, -1, -2, -3, -4],\n",
       "       [-1,  0, -1,  0, -1, -2, -3, -2, -1, -2],\n",
       "       [ 1,  2,  1,  0,  1,  2,  1,  0, -1,  0],\n",
       "       [-1, -2, -3, -2, -1, -2, -1,  0, -1,  0],\n",
       "       [ 1,  0,  1,  2,  3,  2,  1,  0, -1, -2],\n",
       "       [-1, -2, -3, -2, -1, -2, -1,  0,  1,  0],\n",
       "       [-1,  0, -1,  0, -1, -2, -1, -2, -1, -2],\n",
       "       [-1,  0,  1,  0, -1,  0,  1,  0,  1,  0]])"
      ]
     },
     "execution_count": 447,
     "metadata": {},
     "output_type": "execute_result"
    }
   ],
   "source": [
    "walks"
   ]
  },
  {
   "cell_type": "code",
   "execution_count": 431,
   "metadata": {
    "collapsed": true
   },
   "outputs": [
    {
     "data": {
      "text/plain": [
       "array([  1,   2,   1,   2,   1,   0,   1,   0,   1,   2,   1,   0,   1,\n",
       "         2,   3,   2,   1,   2,   3,   2,   1,   0,   1,   0,   1,   0,\n",
       "        -1,   0,  -1,   0,  -1,   0,  -1,   0,  -1,  -2,  -3,  -2,  -3,\n",
       "        -2,  -3,  -2,  -1,  -2,  -3,  -2,  -1,  -2,  -1,  -2,  -1,   0,\n",
       "         1,   0,  -1,  -2,  -3,  -4,  -3,  -4,  -5,  -4,  -5,  -4,  -3,\n",
       "        -2,  -1,  -2,  -1,  -2,  -1,  -2,  -1,  -2,  -1,  -2,  -3,  -2,\n",
       "        -1,  -2,  -3,  -4,  -5,  -6,  -5,  -6,  -7,  -6,  -5,  -6,  -5,\n",
       "        -6,  -7,  -6,  -5,  -6,  -7,  -6,  -7,  -8,  -9, -10,  -9,  -8,\n",
       "        -9, -10,  -9,  -8,  -7,  -8,  -9, -10, -11, -10, -11, -12, -13,\n",
       "       -12, -13, -14, -13, -14, -13, -12, -13, -12, -11, -10,  -9, -10,\n",
       "        -9,  -8,  -7,  -6,  -5,  -6,  -5,  -6,  -7,  -6,  -7,  -8,  -7,\n",
       "        -6,  -5,  -6,  -7,  -8,  -9,  -8,  -9, -10,  -9,  -8,  -9, -10,\n",
       "        -9,  -8,  -9, -10,  -9, -10,  -9,  -8,  -9, -10,  -9, -10,  -9,\n",
       "        -8,  -7,  -8,  -9, -10, -11, -10, -11, -10,  -9,  -8,  -9,  -8,\n",
       "        -7,  -8,  -9,  -8,  -9, -10,  -9,  -8,  -7,  -8,  -7,  -8,  -9,\n",
       "       -10,  -9,  -8,  -7,  -8,  -7,  -8,  -7,  -6,  -7,  -6,  -7,  -6,\n",
       "        -5,  -6,  -7,  -8,  -9,  -8,  -9,  -8,  -7,  -8,  -7,  -6,  -5,\n",
       "        -6,  -5,  -4,  -5,  -6,  -7,  -6,  -7,  -8,  -7,  -6,  -7,  -8,\n",
       "        -9,  -8,  -7,  -8,  -7,  -8,  -7,  -6,  -5,  -6,  -7,  -6,  -5,\n",
       "        -4,  -3,  -4,  -3,  -2,  -3,  -2,  -3,  -4,  -3,  -4,  -5,  -4,\n",
       "        -3,  -4,  -3,  -2,  -1,   0,  -1,   0,   1,   2,   1,   0,   1,\n",
       "         0,   1,   0,  -1,   0,   1,   0,   1,   0,  -1,  -2,  -3,  -2,\n",
       "        -3,  -2,  -3,  -2,  -1,   0,   1,   2,   1,   2,   1,   0,  -1,\n",
       "        -2,  -3,  -4,  -5,  -4,  -3,  -2,  -1,   0,  -1,   0,   1,   0,\n",
       "        -1,  -2,  -3,  -2,  -1,  -2,  -1,   0,   1,   2,   1,   0,   1,\n",
       "         2,   3,   4,   3,   2,   3,   2,   3,   2,   3,   2,   1,   2,\n",
       "         1,   0,   1,   2,   3,   2,   3,   2,   1,   0,   1,   2,   3,\n",
       "         2,   1,   2,   3,   2,   3,   4,   5,   4,   5,   4,   5,   4,\n",
       "         5,   6,   5,   4,   5,   4,   5,   4,   3,   2,   1,   0,   1,\n",
       "         0,  -1,  -2,  -3,  -4,  -5,  -6,  -7,  -8,  -7,  -8,  -9,  -8,\n",
       "        -9,  -8,  -7,  -6,  -7,  -8,  -9, -10, -11, -10, -11, -12, -11,\n",
       "       -10, -11, -10,  -9, -10, -11, -10, -11, -12, -13, -14, -15, -14,\n",
       "       -15, -16, -17, -16, -15, -14, -13, -14, -15, -14, -15, -14, -13,\n",
       "       -12, -11, -12, -13, -14, -15, -16, -17, -16, -15, -16, -15, -14,\n",
       "       -15, -14, -13, -12, -11, -12, -11, -10, -11, -12, -11, -10,  -9,\n",
       "        -8,  -9, -10, -11, -10,  -9, -10,  -9,  -8,  -7,  -8,  -9, -10,\n",
       "       -11, -12, -13, -14, -15, -14, -15, -16, -15, -14, -13, -14, -13,\n",
       "       -14, -15, -16, -17, -18, -19, -18, -17, -16, -17, -18, -17, -16,\n",
       "       -15, -16, -15, -14, -13, -12, -13, -12, -13, -12, -13, -12, -11,\n",
       "       -12, -11, -12, -13, -12, -11, -10,  -9,  -8,  -7,  -8,  -9, -10,\n",
       "       -11, -10,  -9,  -8,  -7,  -8,  -9, -10, -11, -12, -13, -14, -15,\n",
       "       -14, -13, -14, -13, -14, -15, -16, -17, -16, -15, -16, -15, -14,\n",
       "       -13, -14, -13, -14, -13, -14, -15, -16, -15, -14, -13, -12, -11,\n",
       "       -12, -13, -12, -11, -10,  -9, -10,  -9,  -8,  -7,  -6,  -7,  -6,\n",
       "        -7,  -8,  -7,  -8,  -7,  -6,  -7,  -8,  -9,  -8,  -9, -10,  -9,\n",
       "       -10,  -9, -10, -11, -10,  -9, -10, -11, -12, -13, -14, -15, -16,\n",
       "       -17, -18, -17, -18, -19, -20, -21, -20, -19, -20, -21, -22, -23,\n",
       "       -22, -23, -22, -23, -24, -25, -24, -23, -22, -21, -20, -21, -22,\n",
       "       -21, -22, -23, -22, -23, -24, -25, -26, -25, -24, -23, -22, -23,\n",
       "       -22, -21, -22, -21, -20, -19, -18, -17, -18, -19, -18, -17, -18,\n",
       "       -17, -18, -19, -18, -17, -18, -19, -18, -17, -18, -19, -18, -17,\n",
       "       -16, -17, -16, -15, -16, -17, -18, -17, -18, -19, -20, -19, -18,\n",
       "       -19, -18, -17, -16, -17, -18, -19, -18, -17, -16, -15, -16, -15,\n",
       "       -16, -15, -14, -15, -16, -15, -16, -15, -14, -15, -16, -17, -18,\n",
       "       -17, -18, -17, -16, -17, -16, -15, -14, -15, -14, -13, -12, -11,\n",
       "       -10, -11, -10,  -9,  -8,  -7,  -8,  -7,  -6,  -5,  -4,  -5,  -4,\n",
       "        -3,  -4,  -3,  -2,  -1,   0,  -1,  -2,  -1,  -2,  -1,   0,   1,\n",
       "         0,   1,   0,   1,   2,   3,   4,   5,   6,   5,   6,   5,   6,\n",
       "         7,   6,   5,   4,   5,   6,   5,   4,   5,   4,   5,   4,   3,\n",
       "         2,   1,   0,  -1,  -2,  -3,  -4,  -5,  -6,  -5,  -6,  -5,  -4,\n",
       "        -3,  -4,  -3,  -4,  -3,  -4,  -3,  -4,  -3,  -4,  -5,  -6,  -7,\n",
       "        -6,  -7,  -6,  -7,  -6,  -5,  -6,  -5,  -6,  -5,  -4,  -3,  -4,\n",
       "        -5,  -4,  -5,  -6,  -7,  -6,  -5,  -6,  -5,  -6,  -7,  -6,  -7,\n",
       "        -8,  -7,  -6,  -5,  -6,  -7,  -8,  -9,  -8,  -7,  -8,  -7,  -8,\n",
       "        -7,  -6,  -7,  -6,  -7,  -8,  -7,  -8,  -9, -10,  -9, -10, -11,\n",
       "       -10, -11, -10,  -9, -10,  -9,  -8,  -7,  -6,  -5,  -6,  -7,  -8,\n",
       "        -7,  -6,  -7,  -6,  -7,  -6,  -5,  -4,  -5,  -4,  -5,  -4,  -5,\n",
       "        -4,  -3,  -4,  -3,  -4,  -3,  -2,  -1,  -2,  -3,  -4,  -5,  -6,\n",
       "        -5,  -4,  -5,  -4,  -3,  -2,  -1,  -2,  -3,  -2,  -3,  -2,  -1,\n",
       "        -2,  -1,  -2,  -1,   0,  -1,   0,   1,   2,   1,   0,   1,   0,\n",
       "        -1,  -2,  -3,  -2,  -1,  -2,  -1,   0,  -1,   0,  -1,   0,  -1,\n",
       "         0,   1,   2,   1,   0,  -1,  -2,  -1,   0,  -1,  -2,  -1,  -2,\n",
       "        -3,  -4,  -5,  -6,  -7,  -6,  -7,  -8,  -7,  -8,  -7,  -6,  -5,\n",
       "        -6,  -5,  -4,  -5,  -4,  -3,  -2,  -1,  -2,  -1,  -2,  -3,  -2,\n",
       "        -3,  -4,  -3,  -2,  -1,   0,  -1,   0,  -1,  -2,  -3,  -2,  -3,\n",
       "        -4,  -5,  -4,  -3,  -2,  -3,  -4,  -5,  -6,  -7,  -6,  -5,  -6,\n",
       "        -7,  -6,  -7,  -6,  -5,  -6,  -7,  -6,  -5,  -4,  -3,  -2])"
      ]
     },
     "execution_count": 431,
     "metadata": {},
     "output_type": "execute_result"
    }
   ],
   "source": [
    "walks[0, :]"
   ]
  },
  {
   "cell_type": "code",
   "execution_count": 448,
   "metadata": {},
   "outputs": [],
   "source": [
    "# Introduce a statistical term called \"first crossing\": \n",
    "# i.e. at which step the number crosses some certain threshold, e.g. \n",
    "# in this case, 30(I personally used 3 and 10 and 50 cuz everything\n",
    "# will be much clearer after I reduced the numbers).\n",
    "\n",
    "hits3 = (np.abs(walks) >=3).any(1)"
   ]
  },
  {
   "cell_type": "code",
   "execution_count": 451,
   "metadata": {},
   "outputs": [
    {
     "data": {
      "text/plain": [
       "array([ True, False,  True,  True,  True, False, False,  True,  True,\n",
       "       False,  True,  True,  True,  True,  True,  True,  True,  True,\n",
       "        True,  True, False,  True,  True,  True, False,  True,  True,\n",
       "       False,  True,  True, False,  True,  True,  True,  True, False,\n",
       "        True,  True, False,  True,  True,  True,  True,  True, False,\n",
       "        True,  True,  True, False, False])"
      ]
     },
     "execution_count": 451,
     "metadata": {},
     "output_type": "execute_result"
    }
   ],
   "source": [
    "# How many (or which, specifically) columns have values that reached 30:\n",
    "hits3"
   ]
  },
  {
   "cell_type": "code",
   "execution_count": 452,
   "metadata": {},
   "outputs": [
    {
     "data": {
      "text/plain": [
       "37"
      ]
     },
     "execution_count": 452,
     "metadata": {},
     "output_type": "execute_result"
    }
   ],
   "source": [
    "hits3.sum()"
   ]
  },
  {
   "cell_type": "markdown",
   "metadata": {},
   "source": [
    "### Function of argmax()"
   ]
  },
  {
   "cell_type": "code",
   "execution_count": 455,
   "metadata": {},
   "outputs": [],
   "source": [
    "crossing_times = (np.abs(walks[hits3]) >=3).argmax(1)"
   ]
  },
  {
   "cell_type": "code",
   "execution_count": 458,
   "metadata": {},
   "outputs": [
    {
     "data": {
      "text/plain": [
       "array([[False, False,  True,  True,  True,  True,  True,  True,  True,\n",
       "         True],\n",
       "       [False, False,  True,  True,  True, False, False, False, False,\n",
       "        False],\n",
       "       [False, False, False, False, False, False,  True,  True,  True,\n",
       "         True],\n",
       "       [False, False, False, False,  True,  True,  True,  True,  True,\n",
       "        False],\n",
       "       [False, False,  True,  True,  True, False,  True,  True,  True,\n",
       "         True],\n",
       "       [False, False, False, False,  True,  True,  True,  True,  True,\n",
       "         True],\n",
       "       [False, False, False, False, False, False, False, False,  True,\n",
       "        False],\n",
       "       [False, False, False, False, False, False, False, False,  True,\n",
       "        False],\n",
       "       [False, False,  True, False, False, False, False, False,  True,\n",
       "        False],\n",
       "       [False, False,  True, False, False, False, False, False, False,\n",
       "        False],\n",
       "       [False, False, False, False,  True, False, False, False, False,\n",
       "        False],\n",
       "       [False, False, False, False,  True,  True,  True,  True,  True,\n",
       "         True],\n",
       "       [False, False, False, False, False, False, False, False,  True,\n",
       "         True],\n",
       "       [False, False,  True, False,  True,  True,  True,  True,  True,\n",
       "        False],\n",
       "       [False, False, False, False,  True,  True,  True, False, False,\n",
       "        False],\n",
       "       [False, False,  True,  True,  True, False,  True, False,  True,\n",
       "         True],\n",
       "       [False, False,  True, False, False, False, False, False,  True,\n",
       "         True],\n",
       "       [False, False, False, False, False, False,  True, False,  True,\n",
       "         True],\n",
       "       [False, False,  True, False, False, False,  True, False, False,\n",
       "        False],\n",
       "       [False, False, False, False,  True,  True,  True,  True,  True,\n",
       "         True],\n",
       "       [False, False, False, False, False, False,  True,  True,  True,\n",
       "         True],\n",
       "       [False, False, False, False,  True,  True,  True,  True,  True,\n",
       "        False],\n",
       "       [False, False, False, False,  True, False, False, False, False,\n",
       "        False],\n",
       "       [False, False, False, False, False, False, False, False,  True,\n",
       "         True],\n",
       "       [False, False, False, False, False, False,  True, False,  True,\n",
       "        False],\n",
       "       [False, False, False, False,  True, False, False, False, False,\n",
       "        False],\n",
       "       [False, False, False, False,  True,  True,  True,  True,  True,\n",
       "         True],\n",
       "       [False, False, False, False, False, False,  True, False, False,\n",
       "        False],\n",
       "       [False, False, False, False, False, False, False, False,  True,\n",
       "         True],\n",
       "       [False, False, False, False, False, False, False, False,  True,\n",
       "         True],\n",
       "       [False, False, False, False,  True, False,  True,  True,  True,\n",
       "         True],\n",
       "       [False, False,  True, False,  True,  True,  True,  True,  True,\n",
       "        False],\n",
       "       [False, False, False, False, False, False, False, False,  True,\n",
       "         True],\n",
       "       [False, False, False, False, False, False,  True, False, False,\n",
       "        False],\n",
       "       [False, False,  True, False, False, False, False, False, False,\n",
       "        False],\n",
       "       [False, False, False, False,  True, False, False, False, False,\n",
       "        False],\n",
       "       [False, False,  True, False, False, False, False, False, False,\n",
       "        False]])"
      ]
     },
     "execution_count": 458,
     "metadata": {},
     "output_type": "execute_result"
    }
   ],
   "source": [
    "np.abs(walks[hits3]) >=3"
   ]
  },
  {
   "cell_type": "code",
   "execution_count": 461,
   "metadata": {},
   "outputs": [
    {
     "data": {
      "text/plain": [
       "(37, 10)"
      ]
     },
     "execution_count": 461,
     "metadata": {},
     "output_type": "execute_result"
    }
   ],
   "source": [
    "(np.abs(walks[hits3]) >=3).shape"
   ]
  },
  {
   "cell_type": "code",
   "execution_count": 456,
   "metadata": {},
   "outputs": [
    {
     "data": {
      "text/plain": [
       "array([2, 2, 6, 4, 2, 4, 8, 8, 2, 2, 4, 4, 8, 2, 4, 2, 2, 6, 2, 4, 6, 4,\n",
       "       4, 8, 6, 4, 4, 6, 8, 8, 4, 2, 8, 6, 2, 4, 2])"
      ]
     },
     "execution_count": 456,
     "metadata": {},
     "output_type": "execute_result"
    }
   ],
   "source": [
    "# These numbers show at which number in each row the change of \n",
    "# boolean happens for the first time, meaning first cross \n",
    "# for the first time.\n",
    "\n",
    "crossing_times"
   ]
  },
  {
   "cell_type": "code",
   "execution_count": 460,
   "metadata": {},
   "outputs": [
    {
     "data": {
      "text/plain": [
       "37"
      ]
     },
     "execution_count": 460,
     "metadata": {},
     "output_type": "execute_result"
    }
   ],
   "source": [
    "len(crossing_times)"
   ]
  },
  {
   "cell_type": "code",
   "execution_count": 459,
   "metadata": {},
   "outputs": [
    {
     "data": {
      "text/plain": [
       "4.4324324324324325"
      ]
     },
     "execution_count": 459,
     "metadata": {},
     "output_type": "execute_result"
    }
   ],
   "source": [
    "crossing_times.mean()"
   ]
  },
  {
   "cell_type": "code",
   "execution_count": 462,
   "metadata": {},
   "outputs": [],
   "source": [
    "np.random.normal?"
   ]
  },
  {
   "cell_type": "code",
   "execution_count": null,
   "metadata": {},
   "outputs": [],
   "source": []
  }
 ],
 "metadata": {
  "kernelspec": {
   "display_name": "Python 3",
   "language": "python",
   "name": "python3"
  },
  "language_info": {
   "codemirror_mode": {
    "name": "ipython",
    "version": 3
   },
   "file_extension": ".py",
   "mimetype": "text/x-python",
   "name": "python",
   "nbconvert_exporter": "python",
   "pygments_lexer": "ipython3",
   "version": "3.7.0"
  }
 },
 "nbformat": 4,
 "nbformat_minor": 2
}
