{
 "cells": [
  {
   "cell_type": "markdown",
   "metadata": {},
   "source": [
    "Time series data is an important form of structured data in many different fields, such\n",
    "as finance, economics, ecology, neuroscience, or physics. Anything that is observed or\n",
    "measured at many points in time forms a time series. Many time series are fixed frequency,\n",
    "which is to say that data points occur at regular intervals according to some\n",
    "rule, such as every 15 seconds, every 5 minutes, or once per month. Time series can\n",
    "also be irregular without a fixed unit or time or offset between units. How you mark\n",
    "and refer to time series data depends on the application and you may have one of the\n",
    "following:\n",
    "\n",
    "• Timestamps, specific instants in time\n",
    "\n",
    "• Fixed periods, such as the month January 2007 or the full year 2010\n",
    "\n",
    "• Intervals of time, indicated by a start and end timestamp. Periods can be thought\n",
    "of as special cases of intervals\n",
    "\n",
    "• Experiment or elapsed time; each timestamp is a measure of time relative to a\n",
    "particular start time. For example, the diameter of a cookie baking each second\n",
    "since being placed in the oven"
   ]
  },
  {
   "cell_type": "markdown",
   "metadata": {},
   "source": [
    "In this chapter, I am mainly concerned with time series in the first 3 categories, though\n",
    "many of the techniques can be applied to experimental time series where the index may\n",
    "be an integer or floating point number indicating elapsed time from the start of the\n",
    "experiment. The simplest and most widely used kind of time series are those indexed\n",
    "by timestamp.\n",
    "\n",
    "pandas provides a standard set of time series tools and data algorithms. With this, you\n",
    "can efficiently work with very large time series and easily slice and dice, aggregate, and\n",
    "resample irregular and fixed frequency time series. As you might guess, many of these\n",
    "tools are especially useful for financial and economics applications, but you could certainly\n",
    "use them to analyze server log data, too."
   ]
  },
  {
   "cell_type": "markdown",
   "metadata": {},
   "source": [
    "Some of the features and code, in particular period logic, presented in\n",
    "this chapter were derived from the now defunct scikits.timeseries library.\n",
    "\n",
    "P289- P328"
   ]
  },
  {
   "cell_type": "markdown",
   "metadata": {},
   "source": [
    "## Date and Time Data Types and Tools"
   ]
  },
  {
   "cell_type": "markdown",
   "metadata": {},
   "source": [
    "The Python standard library includes data types for date and time data, as well as\n",
    "calendar-related functionality. The datetime, time, and calendar modules are the main\n",
    "places to start. The datetime.datetime type, or simply datetime, is widely used:"
   ]
  },
  {
   "cell_type": "code",
   "execution_count": 20,
   "metadata": {
    "collapsed": false
   },
   "outputs": [],
   "source": [
    "from datetime import datetime\n",
    "import numpy as np\n",
    "import pandas as pd\n",
    "from pandas import Series, DataFrame\n",
    "import matplotlib.pyplot as plt\n",
    "import seaborn\n",
    "%matplotlib inline"
   ]
  },
  {
   "cell_type": "code",
   "execution_count": 5,
   "metadata": {
    "collapsed": false
   },
   "outputs": [],
   "source": [
    "now = datetime.now()"
   ]
  },
  {
   "cell_type": "code",
   "execution_count": 6,
   "metadata": {
    "collapsed": false
   },
   "outputs": [
    {
     "data": {
      "text/plain": [
       "datetime.datetime(2017, 1, 12, 19, 42, 8, 850942)"
      ]
     },
     "execution_count": 6,
     "metadata": {},
     "output_type": "execute_result"
    }
   ],
   "source": [
    "now"
   ]
  },
  {
   "cell_type": "code",
   "execution_count": 8,
   "metadata": {
    "collapsed": false
   },
   "outputs": [
    {
     "data": {
      "text/plain": [
       "(2017, 1, 12)"
      ]
     },
     "execution_count": 8,
     "metadata": {},
     "output_type": "execute_result"
    }
   ],
   "source": [
    "now.year, now.month, now.day"
   ]
  },
  {
   "cell_type": "markdown",
   "metadata": {},
   "source": [
    "datetime stores both the date and time down to the microsecond. datetime.time\n",
    "delta represents the temporal difference between two datetime objects:"
   ]
  },
  {
   "cell_type": "code",
   "execution_count": 11,
   "metadata": {
    "collapsed": false
   },
   "outputs": [
    {
     "data": {
      "text/plain": [
       "datetime.timedelta(926, 56700)"
      ]
     },
     "execution_count": 11,
     "metadata": {},
     "output_type": "execute_result"
    }
   ],
   "source": [
    "delta = datetime(2011, 1, 7) - datetime(2008, 6, 24, 8, 15)\n",
    "delta"
   ]
  },
  {
   "cell_type": "code",
   "execution_count": 12,
   "metadata": {
    "collapsed": false
   },
   "outputs": [
    {
     "data": {
      "text/plain": [
       "926"
      ]
     },
     "execution_count": 12,
     "metadata": {},
     "output_type": "execute_result"
    }
   ],
   "source": [
    "delta.days"
   ]
  },
  {
   "cell_type": "code",
   "execution_count": 13,
   "metadata": {
    "collapsed": false
   },
   "outputs": [
    {
     "data": {
      "text/plain": [
       "56700"
      ]
     },
     "execution_count": 13,
     "metadata": {},
     "output_type": "execute_result"
    }
   ],
   "source": [
    "delta.seconds"
   ]
  },
  {
   "cell_type": "markdown",
   "metadata": {},
   "source": [
    "You can add (or subtract) a timedelta or multiple thereof to a datetime object to yield\n",
    "a new shifted object:"
   ]
  },
  {
   "cell_type": "code",
   "execution_count": 14,
   "metadata": {
    "collapsed": true
   },
   "outputs": [],
   "source": [
    "from datetime import timedelta"
   ]
  },
  {
   "cell_type": "code",
   "execution_count": 15,
   "metadata": {
    "collapsed": true
   },
   "outputs": [],
   "source": [
    "start = datetime(2011,1,7)"
   ]
  },
  {
   "cell_type": "code",
   "execution_count": 16,
   "metadata": {
    "collapsed": false
   },
   "outputs": [
    {
     "data": {
      "text/plain": [
       "datetime.datetime(2011, 1, 19, 0, 0)"
      ]
     },
     "execution_count": 16,
     "metadata": {},
     "output_type": "execute_result"
    }
   ],
   "source": [
    "start + timedelta(12)"
   ]
  },
  {
   "cell_type": "code",
   "execution_count": 18,
   "metadata": {
    "collapsed": false
   },
   "outputs": [
    {
     "data": {
      "text/plain": [
       "datetime.timedelta(12)"
      ]
     },
     "execution_count": 18,
     "metadata": {},
     "output_type": "execute_result"
    }
   ],
   "source": [
    "timedelta(12)"
   ]
  },
  {
   "cell_type": "code",
   "execution_count": 17,
   "metadata": {
    "collapsed": false
   },
   "outputs": [
    {
     "data": {
      "text/plain": [
       "datetime.datetime(2010, 12, 14, 0, 0)"
      ]
     },
     "execution_count": 17,
     "metadata": {},
     "output_type": "execute_result"
    }
   ],
   "source": [
    "start - 2*timedelta(12)"
   ]
  },
  {
   "cell_type": "markdown",
   "metadata": {},
   "source": [
    "The data types in the datetime module are summarized in Table 10-1. While this chapter\n",
    "is mainly concerned with the data types in pandas and higher level time series manipulation,\n",
    "you will undoubtedly encounter the datetime-based types in many other\n",
    "places in Python the wild."
   ]
  },
  {
   "cell_type": "markdown",
   "metadata": {},
   "source": [
    "Table 10-1. Types in datetime module"
   ]
  },
  {
   "cell_type": "markdown",
   "metadata": {},
   "source": [
    "Type Description\n",
    "\n",
    "date: Store calendar date (year, month, day) using the Gregorian calendar.\n",
    "\n",
    "time: Store time of day as hours, minutes, seconds, and microseconds\n",
    "\n",
    "datetime: Stores both date and time\n",
    "\n",
    "timedelta: Represents the difference between two datetime values (as days, seconds, and microseconds)"
   ]
  },
  {
   "cell_type": "markdown",
   "metadata": {},
   "source": [
    "### Converting between string and datetime"
   ]
  },
  {
   "cell_type": "markdown",
   "metadata": {},
   "source": [
    "datetime objects and pandas Timestamp objects, which I’ll introduce later, can be formatted\n",
    "as strings using str or the strftime method, passing a format specification:"
   ]
  },
  {
   "cell_type": "code",
   "execution_count": 20,
   "metadata": {
    "collapsed": true
   },
   "outputs": [],
   "source": [
    "stamp = datetime(2011, 1, 3)"
   ]
  },
  {
   "cell_type": "code",
   "execution_count": 21,
   "metadata": {
    "collapsed": false
   },
   "outputs": [
    {
     "data": {
      "text/plain": [
       "'2011-01-03 00:00:00'"
      ]
     },
     "execution_count": 21,
     "metadata": {},
     "output_type": "execute_result"
    }
   ],
   "source": [
    "str(stamp)"
   ]
  },
  {
   "cell_type": "code",
   "execution_count": 22,
   "metadata": {
    "collapsed": false
   },
   "outputs": [
    {
     "data": {
      "text/plain": [
       "'2011-01-03'"
      ]
     },
     "execution_count": 22,
     "metadata": {},
     "output_type": "execute_result"
    }
   ],
   "source": [
    "stamp.strftime('%Y-%m-%d')"
   ]
  },
  {
   "cell_type": "markdown",
   "metadata": {},
   "source": [
    "See Table 10-2 for a complete list of the format codes. These same format codes can be\n",
    "used to convert strings to dates using datetime.strptime:"
   ]
  },
  {
   "cell_type": "code",
   "execution_count": 23,
   "metadata": {
    "collapsed": true
   },
   "outputs": [],
   "source": [
    "value = '2011-01-03'"
   ]
  },
  {
   "cell_type": "code",
   "execution_count": 25,
   "metadata": {
    "collapsed": false
   },
   "outputs": [
    {
     "data": {
      "text/plain": [
       "datetime.datetime(2011, 1, 3, 0, 0)"
      ]
     },
     "execution_count": 25,
     "metadata": {},
     "output_type": "execute_result"
    }
   ],
   "source": [
    "datetime.strptime(value, '%Y-%m-%d')"
   ]
  },
  {
   "cell_type": "code",
   "execution_count": 28,
   "metadata": {
    "collapsed": true
   },
   "outputs": [],
   "source": [
    "datestrs = ['7/6/2011', '8/6/2011']"
   ]
  },
  {
   "cell_type": "code",
   "execution_count": 29,
   "metadata": {
    "collapsed": false
   },
   "outputs": [
    {
     "data": {
      "text/plain": [
       "[datetime.datetime(2011, 7, 6, 0, 0), datetime.datetime(2011, 8, 6, 0, 0)]"
      ]
     },
     "execution_count": 29,
     "metadata": {},
     "output_type": "execute_result"
    }
   ],
   "source": [
    "[datetime.strptime(x, '%m/%d/%Y') for x in datestrs]"
   ]
  },
  {
   "cell_type": "markdown",
   "metadata": {},
   "source": [
    "datetime.strptime is the best way to parse a date with a known format. However, it\n",
    "can be a bit annoying to have to write a format spec each time, especially for common\n",
    "date formats. In this case, you can use the parser.parse method in the third party\n",
    "dateutil package:"
   ]
  },
  {
   "cell_type": "code",
   "execution_count": 30,
   "metadata": {
    "collapsed": true
   },
   "outputs": [],
   "source": [
    "from dateutil.parser import parse"
   ]
  },
  {
   "cell_type": "code",
   "execution_count": 31,
   "metadata": {
    "collapsed": false
   },
   "outputs": [
    {
     "data": {
      "text/plain": [
       "datetime.datetime(2011, 1, 3, 0, 0)"
      ]
     },
     "execution_count": 31,
     "metadata": {},
     "output_type": "execute_result"
    }
   ],
   "source": [
    "parse('2011-01-03')"
   ]
  },
  {
   "cell_type": "markdown",
   "metadata": {},
   "source": [
    "dateutil is capable of parsing almost any human-intelligible date representation:"
   ]
  },
  {
   "cell_type": "code",
   "execution_count": 32,
   "metadata": {
    "collapsed": false
   },
   "outputs": [
    {
     "data": {
      "text/plain": [
       "datetime.datetime(1997, 1, 31, 22, 45)"
      ]
     },
     "execution_count": 32,
     "metadata": {},
     "output_type": "execute_result"
    }
   ],
   "source": [
    "parse('Jan 31, 1997 10:45 PM')"
   ]
  },
  {
   "cell_type": "markdown",
   "metadata": {},
   "source": [
    "In international locales, day appearing before month is very common, so you can pass\n",
    "dayfirst=True to indicate this:"
   ]
  },
  {
   "cell_type": "code",
   "execution_count": 33,
   "metadata": {
    "collapsed": false
   },
   "outputs": [
    {
     "data": {
      "text/plain": [
       "datetime.datetime(2011, 12, 6, 0, 0)"
      ]
     },
     "execution_count": 33,
     "metadata": {},
     "output_type": "execute_result"
    }
   ],
   "source": [
    "parse('6/12/2011', dayfirst=True)"
   ]
  },
  {
   "cell_type": "markdown",
   "metadata": {},
   "source": [
    "pandas is generally oriented toward working with arrays of dates, whether used as an\n",
    "axis index or a column in a DataFrame. The to_datetime method parses many different\n",
    "kinds of date representations. Standard date formats like ISO8601 can be parsed very\n",
    "quickly."
   ]
  },
  {
   "cell_type": "code",
   "execution_count": 37,
   "metadata": {
    "collapsed": false
   },
   "outputs": [
    {
     "data": {
      "text/plain": [
       "['7/6/2011', '8/6/2011']"
      ]
     },
     "execution_count": 37,
     "metadata": {},
     "output_type": "execute_result"
    }
   ],
   "source": [
    "datestrs"
   ]
  },
  {
   "cell_type": "code",
   "execution_count": 38,
   "metadata": {
    "collapsed": false
   },
   "outputs": [
    {
     "data": {
      "text/plain": [
       "DatetimeIndex(['2011-07-06', '2011-08-06'], dtype='datetime64[ns]', freq=None)"
      ]
     },
     "execution_count": 38,
     "metadata": {},
     "output_type": "execute_result"
    }
   ],
   "source": [
    "pd.to_datetime(datestrs)"
   ]
  },
  {
   "cell_type": "markdown",
   "metadata": {},
   "source": [
    "It also handles values that should be considered missing (None, empty string, etc.):"
   ]
  },
  {
   "cell_type": "code",
   "execution_count": 39,
   "metadata": {
    "collapsed": true
   },
   "outputs": [],
   "source": [
    "idx = pd.to_datetime(datestrs + [None])"
   ]
  },
  {
   "cell_type": "code",
   "execution_count": 40,
   "metadata": {
    "collapsed": false
   },
   "outputs": [
    {
     "data": {
      "text/plain": [
       "DatetimeIndex(['2011-07-06', '2011-08-06', 'NaT'], dtype='datetime64[ns]', freq=None)"
      ]
     },
     "execution_count": 40,
     "metadata": {},
     "output_type": "execute_result"
    }
   ],
   "source": [
    "idx"
   ]
  },
  {
   "cell_type": "code",
   "execution_count": 41,
   "metadata": {
    "collapsed": false
   },
   "outputs": [
    {
     "data": {
      "text/plain": [
       "NaT"
      ]
     },
     "execution_count": 41,
     "metadata": {},
     "output_type": "execute_result"
    }
   ],
   "source": [
    "idx[2]"
   ]
  },
  {
   "cell_type": "code",
   "execution_count": 42,
   "metadata": {
    "collapsed": false
   },
   "outputs": [
    {
     "data": {
      "text/plain": [
       "array([False, False,  True], dtype=bool)"
      ]
     },
     "execution_count": 42,
     "metadata": {},
     "output_type": "execute_result"
    }
   ],
   "source": [
    "pd.isnull(idx)"
   ]
  },
  {
   "cell_type": "markdown",
   "metadata": {},
   "source": [
    "NaT (Not a Time) is pandas’s NA value for timestamp data."
   ]
  },
  {
   "cell_type": "markdown",
   "metadata": {},
   "source": [
    "dateutil.parser is a useful, but not perfect tool. Notably, it will recognize\n",
    "some strings as dates that you might prefer that it didn’t, like\n",
    "'42' will be parsed as the year 2042 with today’s calendar date."
   ]
  },
  {
   "cell_type": "markdown",
   "metadata": {},
   "source": [
    "Table 10-2. Datetime format specification (ISO C89 compatible)"
   ]
  },
  {
   "cell_type": "markdown",
   "metadata": {},
   "source": [
    "Type Description\n",
    "\n",
    "%Y: 4-digit year\n",
    "\n",
    "%y: 2-digit year\n",
    "\n",
    "%m: 2-digit month [01, 12]\n",
    "\n",
    "%d: 2-digit day [01, 31]\n",
    "\n",
    "%H: Hour (24-hour clock) [00, 23]\n",
    "\n",
    "%I: Hour (12-hour clock) [01, 12]\n",
    "\n",
    "%M: 2-digit minute [00, 59]\n",
    "\n",
    "%S: Second [00, 61] (seconds 60, 61 account for leap seconds)\n",
    "\n",
    "%w: Weekday as integer [0 (Sunday), 6]\n",
    "\n",
    "%U: Week number of the year [00, 53]. Sunday is considered the first day of the week, and days before the first\n",
    "Sunday of the year are “week 0”.\n",
    "\n",
    "%W: Week number of the year [00, 53]. Monday is considered the first day of the week, and days before the first\n",
    "Monday of the year are “week 0”.\n",
    "\n",
    "%z: UTC time zone offset as +HHMM or -HHMM, empty if time zone naive\n",
    "\n",
    "%F: Shortcut for %Y-%m-%d, for example 2012-4-18\n",
    "\n",
    "%D: Shortcut for %m/%d/%y, for example 04/18/12"
   ]
  },
  {
   "cell_type": "code",
   "execution_count": 49,
   "metadata": {
    "collapsed": true
   },
   "outputs": [],
   "source": [
    "# Example of generating a 2-digit year\n",
    "stamp = datetime(2011, 1, 3)"
   ]
  },
  {
   "cell_type": "code",
   "execution_count": 50,
   "metadata": {
    "collapsed": false
   },
   "outputs": [
    {
     "data": {
      "text/plain": [
       "'2011-01-03 00:00:00'"
      ]
     },
     "execution_count": 50,
     "metadata": {},
     "output_type": "execute_result"
    }
   ],
   "source": [
    "str(stamp)"
   ]
  },
  {
   "cell_type": "code",
   "execution_count": 52,
   "metadata": {
    "collapsed": false
   },
   "outputs": [
    {
     "data": {
      "text/plain": [
       "'11-01-03'"
      ]
     },
     "execution_count": 52,
     "metadata": {},
     "output_type": "execute_result"
    }
   ],
   "source": [
    "stamp.strftime('%y-%m-%d')"
   ]
  },
  {
   "cell_type": "markdown",
   "metadata": {},
   "source": [
    "datetime objects also have a number of locale-specific formatting options for systems\n",
    "in other countries or languages. For example, the abbreviated month names will be\n",
    "different on German or French systems compared with English systems."
   ]
  },
  {
   "cell_type": "markdown",
   "metadata": {},
   "source": [
    "Table 10-3. Locale-specific date formatting"
   ]
  },
  {
   "cell_type": "markdown",
   "metadata": {},
   "source": [
    "Type Description\n",
    "\n",
    "%a: Abbreviated weekday name\n",
    "\n",
    "%A: Full weekday name\n",
    "\n",
    "%b: Abbreviated month name\n",
    "\n",
    "%B: Full month name\n",
    "\n",
    "%c: Full date and time, for example ‘Tue 01 May 2012 04:20:57 PM’\n",
    "\n",
    "%p: Locale equivalent of AM or PM\n",
    "\n",
    "%x: Locale-appropriate formatted date; e.g. in US May 1, 2012 yields ’05/01/2012’\n",
    "\n",
    "%X: Locale-appropriate time, e.g. ’04:24:12 PM’"
   ]
  },
  {
   "cell_type": "markdown",
   "metadata": {},
   "source": [
    "## Time Series Basics"
   ]
  },
  {
   "cell_type": "markdown",
   "metadata": {},
   "source": [
    "The most basic kind of time series object in pandas is a Series indexed by timestamps,\n",
    "which is often represented external to pandas as Python strings or datetime objects:"
   ]
  },
  {
   "cell_type": "code",
   "execution_count": 53,
   "metadata": {
    "collapsed": true
   },
   "outputs": [],
   "source": [
    "from datetime import datetime"
   ]
  },
  {
   "cell_type": "code",
   "execution_count": 54,
   "metadata": {
    "collapsed": true
   },
   "outputs": [],
   "source": [
    "dates = [datetime(2011, 1, 2), datetime(2011, 1, 5), datetime(2011, 1, 7),\n",
    ".....: datetime(2011, 1, 8), datetime(2011, 1, 10), datetime(2011, 1, 12)]"
   ]
  },
  {
   "cell_type": "code",
   "execution_count": 60,
   "metadata": {
    "collapsed": false
   },
   "outputs": [
    {
     "data": {
      "text/plain": [
       "2011-01-02    0.923437\n",
       "2011-01-05    0.474001\n",
       "2011-01-07    0.226610\n",
       "2011-01-08    0.824089\n",
       "2011-01-10   -0.132255\n",
       "2011-01-12    0.632994\n",
       "dtype: float64"
      ]
     },
     "execution_count": 60,
     "metadata": {},
     "output_type": "execute_result"
    }
   ],
   "source": [
    "ts = Series(np.random.randn(6), index = dates)\n",
    "ts"
   ]
  },
  {
   "cell_type": "markdown",
   "metadata": {},
   "source": [
    "Under the hood, these datetime objects have been put in a DatetimeIndex, and the\n",
    "variable ts is now of type TimeSeries:"
   ]
  },
  {
   "cell_type": "code",
   "execution_count": 61,
   "metadata": {
    "collapsed": false
   },
   "outputs": [
    {
     "data": {
      "text/plain": [
       "pandas.core.series.Series"
      ]
     },
     "execution_count": 61,
     "metadata": {},
     "output_type": "execute_result"
    }
   ],
   "source": [
    "type(ts)"
   ]
  },
  {
   "cell_type": "code",
   "execution_count": 62,
   "metadata": {
    "collapsed": false
   },
   "outputs": [
    {
     "data": {
      "text/plain": [
       "DatetimeIndex(['2011-01-02', '2011-01-05', '2011-01-07', '2011-01-08',\n",
       "               '2011-01-10', '2011-01-12'],\n",
       "              dtype='datetime64[ns]', freq=None)"
      ]
     },
     "execution_count": 62,
     "metadata": {},
     "output_type": "execute_result"
    }
   ],
   "source": [
    "ts.index"
   ]
  },
  {
   "cell_type": "markdown",
   "metadata": {},
   "source": [
    "It’s not necessary to use the TimeSeries constructor explicitly; when\n",
    "creating a Series with a DatetimeIndex, pandas knows that the object is\n",
    "a time series."
   ]
  },
  {
   "cell_type": "markdown",
   "metadata": {},
   "source": [
    "Like other Series, arithmetic operations between differently-indexed time series automatically\n",
    "align on the dates:"
   ]
  },
  {
   "cell_type": "code",
   "execution_count": 64,
   "metadata": {
    "collapsed": false
   },
   "outputs": [
    {
     "data": {
      "text/plain": [
       "2011-01-02    0.923437\n",
       "2011-01-07    0.226610\n",
       "2011-01-10   -0.132255\n",
       "dtype: float64"
      ]
     },
     "execution_count": 64,
     "metadata": {},
     "output_type": "execute_result"
    }
   ],
   "source": [
    "ts[::2]"
   ]
  },
  {
   "cell_type": "code",
   "execution_count": 63,
   "metadata": {
    "collapsed": false
   },
   "outputs": [
    {
     "data": {
      "text/plain": [
       "2011-01-02    1.846874\n",
       "2011-01-05         NaN\n",
       "2011-01-07    0.453219\n",
       "2011-01-08         NaN\n",
       "2011-01-10   -0.264510\n",
       "2011-01-12         NaN\n",
       "dtype: float64"
      ]
     },
     "execution_count": 63,
     "metadata": {},
     "output_type": "execute_result"
    }
   ],
   "source": [
    "ts + ts[::2]"
   ]
  },
  {
   "cell_type": "markdown",
   "metadata": {},
   "source": [
    "pandas stores timestamps using NumPy’s datetime64 data type at the nanosecond resolution:"
   ]
  },
  {
   "cell_type": "code",
   "execution_count": 65,
   "metadata": {
    "collapsed": false
   },
   "outputs": [
    {
     "data": {
      "text/plain": [
       "dtype('<M8[ns]')"
      ]
     },
     "execution_count": 65,
     "metadata": {},
     "output_type": "execute_result"
    }
   ],
   "source": [
    "ts.index.dtype"
   ]
  },
  {
   "cell_type": "markdown",
   "metadata": {},
   "source": [
    "Scalar values from a DatetimeIndex are pandas Timestamp objects"
   ]
  },
  {
   "cell_type": "code",
   "execution_count": 66,
   "metadata": {
    "collapsed": true
   },
   "outputs": [],
   "source": [
    "stamp = ts.index[0]"
   ]
  },
  {
   "cell_type": "code",
   "execution_count": 68,
   "metadata": {
    "collapsed": false
   },
   "outputs": [
    {
     "data": {
      "text/plain": [
       "Timestamp('2011-01-02 00:00:00')"
      ]
     },
     "execution_count": 68,
     "metadata": {},
     "output_type": "execute_result"
    }
   ],
   "source": [
    "stamp"
   ]
  },
  {
   "cell_type": "markdown",
   "metadata": {},
   "source": [
    "A Timestamp can be substituted anywhere you would use a datetime object. Additionally,\n",
    "it can store frequency information (if any) and understands how to do time zone\n",
    "conversions and other kinds of manipulations. More on both of these things later."
   ]
  },
  {
   "cell_type": "markdown",
   "metadata": {},
   "source": [
    "### Indexing, selection, subsetting"
   ]
  },
  {
   "cell_type": "markdown",
   "metadata": {},
   "source": [
    "TimeSeries is a subclass of Series and thus behaves in the same way with regard to\n",
    "indexing and selecting data based on label:"
   ]
  },
  {
   "cell_type": "code",
   "execution_count": 69,
   "metadata": {
    "collapsed": true
   },
   "outputs": [],
   "source": [
    "stamp = ts.index"
   ]
  },
  {
   "cell_type": "code",
   "execution_count": 71,
   "metadata": {
    "collapsed": false
   },
   "outputs": [
    {
     "data": {
      "text/plain": [
       "2011-01-02    0.923437\n",
       "2011-01-05    0.474001\n",
       "2011-01-07    0.226610\n",
       "2011-01-08    0.824089\n",
       "2011-01-10   -0.132255\n",
       "2011-01-12    0.632994\n",
       "dtype: float64"
      ]
     },
     "execution_count": 71,
     "metadata": {},
     "output_type": "execute_result"
    }
   ],
   "source": [
    "ts[stamp]"
   ]
  },
  {
   "cell_type": "markdown",
   "metadata": {},
   "source": [
    "As a convenience, you can also pass a string that is interpretable as a date:"
   ]
  },
  {
   "cell_type": "code",
   "execution_count": 72,
   "metadata": {
    "collapsed": false
   },
   "outputs": [
    {
     "data": {
      "text/plain": [
       "-0.13225491545646165"
      ]
     },
     "execution_count": 72,
     "metadata": {},
     "output_type": "execute_result"
    }
   ],
   "source": [
    "ts['1/10/2011']"
   ]
  },
  {
   "cell_type": "code",
   "execution_count": 73,
   "metadata": {
    "collapsed": false
   },
   "outputs": [
    {
     "data": {
      "text/plain": [
       "-0.13225491545646165"
      ]
     },
     "execution_count": 73,
     "metadata": {},
     "output_type": "execute_result"
    }
   ],
   "source": [
    "ts['20110110']"
   ]
  },
  {
   "cell_type": "markdown",
   "metadata": {},
   "source": [
    "For longer time series, a year or only a year and month can be passed to easily select\n",
    "slices of data:"
   ]
  },
  {
   "cell_type": "code",
   "execution_count": 76,
   "metadata": {
    "collapsed": false
   },
   "outputs": [
    {
     "data": {
      "text/plain": [
       "2000-01-01    0.132865\n",
       "2000-01-02    0.394314\n",
       "2000-01-03   -0.685205\n",
       "2000-01-04   -0.582814\n",
       "2000-01-05   -0.064707\n",
       "2000-01-06   -0.392521\n",
       "2000-01-07    1.393014\n",
       "2000-01-08    1.291827\n",
       "2000-01-09    0.725728\n",
       "2000-01-10   -0.265656\n",
       "Freq: D, dtype: float64"
      ]
     },
     "execution_count": 76,
     "metadata": {},
     "output_type": "execute_result"
    }
   ],
   "source": [
    "longer_ts = Series(np.random.randn(1000), \n",
    "                  index = pd.date_range('1/1/2000', periods = 1000))\n",
    "longer_ts.head(10)"
   ]
  },
  {
   "cell_type": "code",
   "execution_count": 77,
   "metadata": {
    "collapsed": true
   },
   "outputs": [
    {
     "data": {
      "text/plain": [
       "2001-01-01    0.638445\n",
       "2001-01-02    1.934640\n",
       "2001-01-03   -0.572862\n",
       "2001-01-04    0.511643\n",
       "2001-01-05   -1.516728\n",
       "2001-01-06   -0.830399\n",
       "2001-01-07   -0.344631\n",
       "2001-01-08    0.291257\n",
       "2001-01-09   -0.159754\n",
       "2001-01-10   -1.851366\n",
       "2001-01-11    0.159446\n",
       "2001-01-12   -1.693896\n",
       "2001-01-13    0.478961\n",
       "2001-01-14   -0.137754\n",
       "2001-01-15    0.256136\n",
       "2001-01-16    0.850095\n",
       "2001-01-17   -2.510238\n",
       "2001-01-18   -0.493417\n",
       "2001-01-19   -0.965332\n",
       "2001-01-20   -0.563483\n",
       "2001-01-21    0.695361\n",
       "2001-01-22    1.780890\n",
       "2001-01-23   -1.339745\n",
       "2001-01-24   -1.104232\n",
       "2001-01-25    0.599809\n",
       "2001-01-26   -0.230441\n",
       "2001-01-27   -0.811873\n",
       "2001-01-28    0.429720\n",
       "2001-01-29   -0.520538\n",
       "2001-01-30   -0.147246\n",
       "                ...   \n",
       "2001-12-02   -0.302542\n",
       "2001-12-03    0.121866\n",
       "2001-12-04    0.016964\n",
       "2001-12-05   -1.207581\n",
       "2001-12-06   -0.732196\n",
       "2001-12-07    0.255518\n",
       "2001-12-08    0.256500\n",
       "2001-12-09    0.825763\n",
       "2001-12-10    1.953532\n",
       "2001-12-11   -0.718444\n",
       "2001-12-12   -0.219647\n",
       "2001-12-13   -0.038779\n",
       "2001-12-14    1.126226\n",
       "2001-12-15   -0.946549\n",
       "2001-12-16    1.270150\n",
       "2001-12-17   -2.432815\n",
       "2001-12-18   -0.753707\n",
       "2001-12-19    0.678772\n",
       "2001-12-20   -0.553042\n",
       "2001-12-21    0.037468\n",
       "2001-12-22   -0.399723\n",
       "2001-12-23    2.883188\n",
       "2001-12-24    2.223035\n",
       "2001-12-25   -0.052438\n",
       "2001-12-26    1.876092\n",
       "2001-12-27    0.175889\n",
       "2001-12-28   -1.756938\n",
       "2001-12-29   -1.925194\n",
       "2001-12-30   -1.509137\n",
       "2001-12-31   -0.875266\n",
       "Freq: D, dtype: float64"
      ]
     },
     "execution_count": 77,
     "metadata": {},
     "output_type": "execute_result"
    }
   ],
   "source": [
    "#Choose all numbers to dates in the year 2001\n",
    "longer_ts['2001']"
   ]
  },
  {
   "cell_type": "code",
   "execution_count": 78,
   "metadata": {
    "collapsed": true
   },
   "outputs": [
    {
     "data": {
      "text/plain": [
       "2001-05-01    2.618729\n",
       "2001-05-02    1.747648\n",
       "2001-05-03   -0.500273\n",
       "2001-05-04   -0.941737\n",
       "2001-05-05    0.029868\n",
       "2001-05-06   -0.631344\n",
       "2001-05-07   -0.547651\n",
       "2001-05-08   -1.014060\n",
       "2001-05-09    0.627584\n",
       "2001-05-10    0.295239\n",
       "2001-05-11   -0.351543\n",
       "2001-05-12    1.090425\n",
       "2001-05-13    0.775449\n",
       "2001-05-14   -0.235731\n",
       "2001-05-15    0.194324\n",
       "2001-05-16   -0.773727\n",
       "2001-05-17   -0.409329\n",
       "2001-05-18   -0.018026\n",
       "2001-05-19    1.281624\n",
       "2001-05-20   -0.225870\n",
       "2001-05-21   -0.337876\n",
       "2001-05-22    1.590695\n",
       "2001-05-23    0.824304\n",
       "2001-05-24    1.395930\n",
       "2001-05-25   -0.523966\n",
       "2001-05-26    0.352357\n",
       "2001-05-27   -0.757426\n",
       "2001-05-28   -0.258973\n",
       "2001-05-29    1.755837\n",
       "2001-05-30    0.443906\n",
       "2001-05-31    1.584896\n",
       "Freq: D, dtype: float64"
      ]
     },
     "execution_count": 78,
     "metadata": {},
     "output_type": "execute_result"
    }
   ],
   "source": [
    "longer_ts['2001-05']"
   ]
  },
  {
   "cell_type": "markdown",
   "metadata": {},
   "source": [
    "Slicing with dates works just like with a regular Series:"
   ]
  },
  {
   "cell_type": "code",
   "execution_count": 81,
   "metadata": {
    "collapsed": false
   },
   "outputs": [
    {
     "data": {
      "text/plain": [
       "2011-01-02    0.923437\n",
       "2011-01-05    0.474001\n",
       "2011-01-07    0.226610\n",
       "2011-01-08    0.824089\n",
       "2011-01-10   -0.132255\n",
       "2011-01-12    0.632994\n",
       "dtype: float64"
      ]
     },
     "execution_count": 81,
     "metadata": {},
     "output_type": "execute_result"
    }
   ],
   "source": [
    "ts"
   ]
  },
  {
   "cell_type": "code",
   "execution_count": 79,
   "metadata": {
    "collapsed": false
   },
   "outputs": [
    {
     "data": {
      "text/plain": [
       "2011-01-07    0.226610\n",
       "2011-01-08    0.824089\n",
       "2011-01-10   -0.132255\n",
       "2011-01-12    0.632994\n",
       "dtype: float64"
      ]
     },
     "execution_count": 79,
     "metadata": {},
     "output_type": "execute_result"
    }
   ],
   "source": [
    "ts[datetime(2011, 1, 7):]"
   ]
  },
  {
   "cell_type": "markdown",
   "metadata": {},
   "source": [
    "Because most time series data is ordered chronologically, you can slice with timestamps\n",
    "not contained in a time series to perform a range query:"
   ]
  },
  {
   "cell_type": "code",
   "execution_count": 82,
   "metadata": {
    "collapsed": false
   },
   "outputs": [
    {
     "data": {
      "text/plain": [
       "2011-01-02    0.923437\n",
       "2011-01-05    0.474001\n",
       "2011-01-07    0.226610\n",
       "2011-01-08    0.824089\n",
       "2011-01-10   -0.132255\n",
       "2011-01-12    0.632994\n",
       "dtype: float64"
      ]
     },
     "execution_count": 82,
     "metadata": {},
     "output_type": "execute_result"
    }
   ],
   "source": [
    "ts"
   ]
  },
  {
   "cell_type": "code",
   "execution_count": 83,
   "metadata": {
    "collapsed": false
   },
   "outputs": [
    {
     "data": {
      "text/plain": [
       "2011-01-07    0.226610\n",
       "2011-01-08    0.824089\n",
       "2011-01-10   -0.132255\n",
       "dtype: float64"
      ]
     },
     "execution_count": 83,
     "metadata": {},
     "output_type": "execute_result"
    }
   ],
   "source": [
    "ts['1/6/2011':'1/11/2011']"
   ]
  },
  {
   "cell_type": "markdown",
   "metadata": {},
   "source": [
    "As before you can pass either a string date, datetime, or Timestamp. Remember that\n",
    "slicing in this manner produces views on the source time series just like slicing NumPy\n",
    "arrays. There is an equivalent instance method truncate which slices a TimeSeries between\n",
    "two dates:"
   ]
  },
  {
   "cell_type": "code",
   "execution_count": 84,
   "metadata": {
    "collapsed": false
   },
   "outputs": [
    {
     "data": {
      "text/plain": [
       "2011-01-02    0.923437\n",
       "2011-01-05    0.474001\n",
       "2011-01-07    0.226610\n",
       "2011-01-08    0.824089\n",
       "dtype: float64"
      ]
     },
     "execution_count": 84,
     "metadata": {},
     "output_type": "execute_result"
    }
   ],
   "source": [
    "# Before this date actually\n",
    "ts.truncate(after='1/9/2011')"
   ]
  },
  {
   "cell_type": "markdown",
   "metadata": {},
   "source": [
    "All of the above holds true for DataFrame as well, indexing on its rows:"
   ]
  },
  {
   "cell_type": "code",
   "execution_count": 86,
   "metadata": {
    "collapsed": true
   },
   "outputs": [
    {
     "data": {
      "text/plain": [
       "DatetimeIndex(['2000-01-05', '2000-01-12', '2000-01-19', '2000-01-26',\n",
       "               '2000-02-02', '2000-02-09', '2000-02-16', '2000-02-23',\n",
       "               '2000-03-01', '2000-03-08', '2000-03-15', '2000-03-22',\n",
       "               '2000-03-29', '2000-04-05', '2000-04-12', '2000-04-19',\n",
       "               '2000-04-26', '2000-05-03', '2000-05-10', '2000-05-17',\n",
       "               '2000-05-24', '2000-05-31', '2000-06-07', '2000-06-14',\n",
       "               '2000-06-21', '2000-06-28', '2000-07-05', '2000-07-12',\n",
       "               '2000-07-19', '2000-07-26', '2000-08-02', '2000-08-09',\n",
       "               '2000-08-16', '2000-08-23', '2000-08-30', '2000-09-06',\n",
       "               '2000-09-13', '2000-09-20', '2000-09-27', '2000-10-04',\n",
       "               '2000-10-11', '2000-10-18', '2000-10-25', '2000-11-01',\n",
       "               '2000-11-08', '2000-11-15', '2000-11-22', '2000-11-29',\n",
       "               '2000-12-06', '2000-12-13', '2000-12-20', '2000-12-27',\n",
       "               '2001-01-03', '2001-01-10', '2001-01-17', '2001-01-24',\n",
       "               '2001-01-31', '2001-02-07', '2001-02-14', '2001-02-21',\n",
       "               '2001-02-28', '2001-03-07', '2001-03-14', '2001-03-21',\n",
       "               '2001-03-28', '2001-04-04', '2001-04-11', '2001-04-18',\n",
       "               '2001-04-25', '2001-05-02', '2001-05-09', '2001-05-16',\n",
       "               '2001-05-23', '2001-05-30', '2001-06-06', '2001-06-13',\n",
       "               '2001-06-20', '2001-06-27', '2001-07-04', '2001-07-11',\n",
       "               '2001-07-18', '2001-07-25', '2001-08-01', '2001-08-08',\n",
       "               '2001-08-15', '2001-08-22', '2001-08-29', '2001-09-05',\n",
       "               '2001-09-12', '2001-09-19', '2001-09-26', '2001-10-03',\n",
       "               '2001-10-10', '2001-10-17', '2001-10-24', '2001-10-31',\n",
       "               '2001-11-07', '2001-11-14', '2001-11-21', '2001-11-28'],\n",
       "              dtype='datetime64[ns]', freq='W-WED')"
      ]
     },
     "execution_count": 86,
     "metadata": {},
     "output_type": "execute_result"
    }
   ],
   "source": [
    "# Every seven days\n",
    "dates = pd.date_range('1/1/2000', periods=100, freq='W-WED')\n",
    "dates"
   ]
  },
  {
   "cell_type": "code",
   "execution_count": 89,
   "metadata": {
    "collapsed": false
   },
   "outputs": [],
   "source": [
    "long_df = DataFrame(np.random.randn(100, 4),\n",
    ".....: index=dates,\n",
    ".....: columns=['Colorado', 'Texas', 'New York', 'Ohio'])"
   ]
  },
  {
   "cell_type": "code",
   "execution_count": 90,
   "metadata": {
    "collapsed": false
   },
   "outputs": [
    {
     "data": {
      "text/html": [
       "<div>\n",
       "<table border=\"1\" class=\"dataframe\">\n",
       "  <thead>\n",
       "    <tr style=\"text-align: right;\">\n",
       "      <th></th>\n",
       "      <th>Colorado</th>\n",
       "      <th>Texas</th>\n",
       "      <th>New York</th>\n",
       "      <th>Ohio</th>\n",
       "    </tr>\n",
       "  </thead>\n",
       "  <tbody>\n",
       "    <tr>\n",
       "      <th>2001-05-02</th>\n",
       "      <td>-1.509494</td>\n",
       "      <td>2.282483</td>\n",
       "      <td>1.229341</td>\n",
       "      <td>0.793993</td>\n",
       "    </tr>\n",
       "    <tr>\n",
       "      <th>2001-05-09</th>\n",
       "      <td>-1.146223</td>\n",
       "      <td>0.089323</td>\n",
       "      <td>-0.362079</td>\n",
       "      <td>-0.957875</td>\n",
       "    </tr>\n",
       "    <tr>\n",
       "      <th>2001-05-16</th>\n",
       "      <td>-2.475993</td>\n",
       "      <td>0.237415</td>\n",
       "      <td>0.031070</td>\n",
       "      <td>1.665273</td>\n",
       "    </tr>\n",
       "    <tr>\n",
       "      <th>2001-05-23</th>\n",
       "      <td>-1.219987</td>\n",
       "      <td>-0.843230</td>\n",
       "      <td>0.465478</td>\n",
       "      <td>-1.219235</td>\n",
       "    </tr>\n",
       "    <tr>\n",
       "      <th>2001-05-30</th>\n",
       "      <td>0.074156</td>\n",
       "      <td>1.064290</td>\n",
       "      <td>-0.197306</td>\n",
       "      <td>0.218026</td>\n",
       "    </tr>\n",
       "  </tbody>\n",
       "</table>\n",
       "</div>"
      ],
      "text/plain": [
       "            Colorado     Texas  New York      Ohio\n",
       "2001-05-02 -1.509494  2.282483  1.229341  0.793993\n",
       "2001-05-09 -1.146223  0.089323 -0.362079 -0.957875\n",
       "2001-05-16 -2.475993  0.237415  0.031070  1.665273\n",
       "2001-05-23 -1.219987 -0.843230  0.465478 -1.219235\n",
       "2001-05-30  0.074156  1.064290 -0.197306  0.218026"
      ]
     },
     "execution_count": 90,
     "metadata": {},
     "output_type": "execute_result"
    }
   ],
   "source": [
    "long_df.ix['5-2001']"
   ]
  },
  {
   "cell_type": "markdown",
   "metadata": {},
   "source": [
    "### Time Series with Duplicate Indices"
   ]
  },
  {
   "cell_type": "markdown",
   "metadata": {},
   "source": [
    "In some applications, there may be multiple data observations falling on a particular\n",
    "timestamp. Here is an example:"
   ]
  },
  {
   "cell_type": "code",
   "execution_count": 92,
   "metadata": {
    "collapsed": false
   },
   "outputs": [
    {
     "data": {
      "text/plain": [
       "DatetimeIndex(['2000-01-01', '2000-01-02', '2000-01-02', '2000-01-02',\n",
       "               '2000-01-03'],\n",
       "              dtype='datetime64[ns]', freq=None)"
      ]
     },
     "execution_count": 92,
     "metadata": {},
     "output_type": "execute_result"
    }
   ],
   "source": [
    "dates = pd.DatetimeIndex(['1/1/2000', '1/2/2000', '1/2/2000', '1/2/2000',\n",
    ".....: '1/3/2000'])\n",
    "dates"
   ]
  },
  {
   "cell_type": "code",
   "execution_count": 93,
   "metadata": {
    "collapsed": true
   },
   "outputs": [],
   "source": [
    "dup_ts = Series(np.arange(5), index=dates)"
   ]
  },
  {
   "cell_type": "code",
   "execution_count": 94,
   "metadata": {
    "collapsed": false
   },
   "outputs": [
    {
     "data": {
      "text/plain": [
       "2000-01-01    0\n",
       "2000-01-02    1\n",
       "2000-01-02    2\n",
       "2000-01-02    3\n",
       "2000-01-03    4\n",
       "dtype: int32"
      ]
     },
     "execution_count": 94,
     "metadata": {},
     "output_type": "execute_result"
    }
   ],
   "source": [
    "dup_ts"
   ]
  },
  {
   "cell_type": "markdown",
   "metadata": {},
   "source": [
    "We can tell that the index is not unique by checking its is_unique property:"
   ]
  },
  {
   "cell_type": "code",
   "execution_count": 95,
   "metadata": {
    "collapsed": false
   },
   "outputs": [
    {
     "data": {
      "text/plain": [
       "False"
      ]
     },
     "execution_count": 95,
     "metadata": {},
     "output_type": "execute_result"
    }
   ],
   "source": [
    "dup_ts.index.is_unique"
   ]
  },
  {
   "cell_type": "markdown",
   "metadata": {},
   "source": [
    "Indexing into this time series will now either produce scalar values or slices depending\n",
    "on whether a timestamp is duplicated:"
   ]
  },
  {
   "cell_type": "code",
   "execution_count": 96,
   "metadata": {
    "collapsed": false
   },
   "outputs": [
    {
     "data": {
      "text/plain": [
       "4"
      ]
     },
     "execution_count": 96,
     "metadata": {},
     "output_type": "execute_result"
    }
   ],
   "source": [
    "dup_ts['1/3/2000'] # not duplicated"
   ]
  },
  {
   "cell_type": "code",
   "execution_count": 97,
   "metadata": {
    "collapsed": false
   },
   "outputs": [
    {
     "data": {
      "text/plain": [
       "2000-01-02    1\n",
       "2000-01-02    2\n",
       "2000-01-02    3\n",
       "dtype: int32"
      ]
     },
     "execution_count": 97,
     "metadata": {},
     "output_type": "execute_result"
    }
   ],
   "source": [
    "dup_ts['1/2/2000'] # duplicated"
   ]
  },
  {
   "cell_type": "markdown",
   "metadata": {},
   "source": [
    "Suppose you wanted to aggregate the data having non-unique timestamps. One way\n",
    "to do this is to use groupby and pass level=0 (the only level of indexing!):"
   ]
  },
  {
   "cell_type": "code",
   "execution_count": 100,
   "metadata": {
    "collapsed": false
   },
   "outputs": [
    {
     "data": {
      "text/plain": [
       "2000-01-01    0\n",
       "2000-01-02    2\n",
       "2000-01-03    4\n",
       "dtype: int32"
      ]
     },
     "execution_count": 100,
     "metadata": {},
     "output_type": "execute_result"
    }
   ],
   "source": [
    "grouped = dup_ts.groupby(level=0)\n",
    "grouped.mean()"
   ]
  },
  {
   "cell_type": "code",
   "execution_count": 101,
   "metadata": {
    "collapsed": false
   },
   "outputs": [
    {
     "data": {
      "text/plain": [
       "2000-01-01    1\n",
       "2000-01-02    3\n",
       "2000-01-03    1\n",
       "dtype: int64"
      ]
     },
     "execution_count": 101,
     "metadata": {},
     "output_type": "execute_result"
    }
   ],
   "source": [
    "grouped.count()"
   ]
  },
  {
   "cell_type": "markdown",
   "metadata": {},
   "source": [
    "## Date Ranges, Frequencies, and Shifting"
   ]
  },
  {
   "cell_type": "markdown",
   "metadata": {},
   "source": [
    "Generic time series in pandas are assumed to be irregular; that is, they have no fixed\n",
    "frequency. For many applications this is sufficient. However, it’s often desirable to work\n",
    "relative to a fixed frequency, such as daily, monthly, or every 15 minutes, even if that\n",
    "means introducing missing values into a time series. Fortunately pandas has a full suite\n",
    "of standard time series frequencies and tools for resampling, inferring frequencies, and\n",
    "generating fixed frequency date ranges. For example, in the example time series, converting\n",
    "it to be fixed daily frequency can be accomplished by calling resample:"
   ]
  },
  {
   "cell_type": "code",
   "execution_count": 102,
   "metadata": {
    "collapsed": false
   },
   "outputs": [
    {
     "data": {
      "text/plain": [
       "2011-01-02    0.923437\n",
       "2011-01-05    0.474001\n",
       "2011-01-07    0.226610\n",
       "2011-01-08    0.824089\n",
       "2011-01-10   -0.132255\n",
       "2011-01-12    0.632994\n",
       "dtype: float64"
      ]
     },
     "execution_count": 102,
     "metadata": {},
     "output_type": "execute_result"
    }
   ],
   "source": [
    "ts"
   ]
  },
  {
   "cell_type": "code",
   "execution_count": 103,
   "metadata": {
    "collapsed": false
   },
   "outputs": [
    {
     "data": {
      "text/plain": [
       "DatetimeIndexResampler [freq=<Day>, axis=0, closed=left, label=left, convention=start, base=0]"
      ]
     },
     "execution_count": 103,
     "metadata": {},
     "output_type": "execute_result"
    }
   ],
   "source": [
    "ts.resample('D')"
   ]
  },
  {
   "cell_type": "markdown",
   "metadata": {},
   "source": [
    "Conversion between frequencies or resampling is a big enough topic to have its own\n",
    "section later. Here I’ll show you how to use the base frequencies and multiples thereof."
   ]
  },
  {
   "cell_type": "markdown",
   "metadata": {},
   "source": [
    "### Generating data ranges"
   ]
  },
  {
   "cell_type": "markdown",
   "metadata": {},
   "source": [
    "While I used it previously without explanation, you may have guessed that pan\n",
    "das.date_range is responsible for generating a DatetimeIndex with an indicated length\n",
    "according to a particular frequency:"
   ]
  },
  {
   "cell_type": "code",
   "execution_count": 105,
   "metadata": {
    "collapsed": false
   },
   "outputs": [
    {
     "data": {
      "text/plain": [
       "DatetimeIndex(['2012-04-01', '2012-04-02', '2012-04-03', '2012-04-04',\n",
       "               '2012-04-05', '2012-04-06', '2012-04-07', '2012-04-08',\n",
       "               '2012-04-09', '2012-04-10', '2012-04-11', '2012-04-12',\n",
       "               '2012-04-13', '2012-04-14', '2012-04-15', '2012-04-16',\n",
       "               '2012-04-17', '2012-04-18', '2012-04-19', '2012-04-20',\n",
       "               '2012-04-21', '2012-04-22', '2012-04-23', '2012-04-24',\n",
       "               '2012-04-25', '2012-04-26', '2012-04-27', '2012-04-28',\n",
       "               '2012-04-29', '2012-04-30', '2012-05-01', '2012-05-02',\n",
       "               '2012-05-03', '2012-05-04', '2012-05-05', '2012-05-06',\n",
       "               '2012-05-07', '2012-05-08', '2012-05-09', '2012-05-10',\n",
       "               '2012-05-11', '2012-05-12', '2012-05-13', '2012-05-14',\n",
       "               '2012-05-15', '2012-05-16', '2012-05-17', '2012-05-18',\n",
       "               '2012-05-19', '2012-05-20', '2012-05-21', '2012-05-22',\n",
       "               '2012-05-23', '2012-05-24', '2012-05-25', '2012-05-26',\n",
       "               '2012-05-27', '2012-05-28', '2012-05-29', '2012-05-30',\n",
       "               '2012-05-31', '2012-06-01'],\n",
       "              dtype='datetime64[ns]', freq='D')"
      ]
     },
     "execution_count": 105,
     "metadata": {},
     "output_type": "execute_result"
    }
   ],
   "source": [
    "index = pd.date_range('4/1/2012', '6/1/2012')\n",
    "index"
   ]
  },
  {
   "cell_type": "code",
   "execution_count": 106,
   "metadata": {
    "collapsed": false
   },
   "outputs": [
    {
     "data": {
      "text/plain": [
       "62"
      ]
     },
     "execution_count": 106,
     "metadata": {},
     "output_type": "execute_result"
    }
   ],
   "source": [
    "len(index)"
   ]
  },
  {
   "cell_type": "markdown",
   "metadata": {},
   "source": [
    "By default, date_range generates daily timestamps. If you pass only a start or end date,\n",
    "you must pass a number of periods to generate:"
   ]
  },
  {
   "cell_type": "code",
   "execution_count": 107,
   "metadata": {
    "collapsed": false
   },
   "outputs": [
    {
     "data": {
      "text/plain": [
       "DatetimeIndex(['2012-04-01', '2012-04-02', '2012-04-03', '2012-04-04',\n",
       "               '2012-04-05', '2012-04-06', '2012-04-07', '2012-04-08',\n",
       "               '2012-04-09', '2012-04-10', '2012-04-11', '2012-04-12',\n",
       "               '2012-04-13', '2012-04-14', '2012-04-15', '2012-04-16',\n",
       "               '2012-04-17', '2012-04-18', '2012-04-19', '2012-04-20'],\n",
       "              dtype='datetime64[ns]', freq='D')"
      ]
     },
     "execution_count": 107,
     "metadata": {},
     "output_type": "execute_result"
    }
   ],
   "source": [
    "pd.date_range(start='4/1/2012', periods=20)"
   ]
  },
  {
   "cell_type": "code",
   "execution_count": 108,
   "metadata": {
    "collapsed": false
   },
   "outputs": [
    {
     "data": {
      "text/plain": [
       "DatetimeIndex(['2012-05-13', '2012-05-14', '2012-05-15', '2012-05-16',\n",
       "               '2012-05-17', '2012-05-18', '2012-05-19', '2012-05-20',\n",
       "               '2012-05-21', '2012-05-22', '2012-05-23', '2012-05-24',\n",
       "               '2012-05-25', '2012-05-26', '2012-05-27', '2012-05-28',\n",
       "               '2012-05-29', '2012-05-30', '2012-05-31', '2012-06-01'],\n",
       "              dtype='datetime64[ns]', freq='D')"
      ]
     },
     "execution_count": 108,
     "metadata": {},
     "output_type": "execute_result"
    }
   ],
   "source": [
    "pd.date_range(end='6/1/2012', periods=20)"
   ]
  },
  {
   "cell_type": "markdown",
   "metadata": {},
   "source": [
    "The start and end dates define strict boundaries for the generated date index. For example,\n",
    "if you wanted a date index containing the last business day of each month, you\n",
    "would pass the 'BM' frequency (business end of month) and only dates falling on or\n",
    "inside the date interval will be included:"
   ]
  },
  {
   "cell_type": "code",
   "execution_count": 109,
   "metadata": {
    "collapsed": false
   },
   "outputs": [
    {
     "data": {
      "text/plain": [
       "DatetimeIndex(['2000-01-31', '2000-02-29', '2000-03-31', '2000-04-28',\n",
       "               '2000-05-31', '2000-06-30', '2000-07-31', '2000-08-31',\n",
       "               '2000-09-29', '2000-10-31', '2000-11-30'],\n",
       "              dtype='datetime64[ns]', freq='BM')"
      ]
     },
     "execution_count": 109,
     "metadata": {},
     "output_type": "execute_result"
    }
   ],
   "source": [
    "#Very useful skill\n",
    "pd.date_range('1/1/2000', '12/1/2000', freq='BM')"
   ]
  },
  {
   "cell_type": "markdown",
   "metadata": {},
   "source": [
    "date_range by default preserves the time (if any) of the start or end timestamp:"
   ]
  },
  {
   "cell_type": "code",
   "execution_count": 110,
   "metadata": {
    "collapsed": false
   },
   "outputs": [
    {
     "data": {
      "text/plain": [
       "DatetimeIndex(['2012-05-02 12:56:31', '2012-05-03 12:56:31',\n",
       "               '2012-05-04 12:56:31', '2012-05-05 12:56:31',\n",
       "               '2012-05-06 12:56:31'],\n",
       "              dtype='datetime64[ns]', freq='D')"
      ]
     },
     "execution_count": 110,
     "metadata": {},
     "output_type": "execute_result"
    }
   ],
   "source": [
    "pd.date_range('5/2/2012 12:56:31', periods=5)"
   ]
  },
  {
   "cell_type": "markdown",
   "metadata": {},
   "source": [
    "Sometimes you will have start or end dates with time information but want to generate\n",
    "a set of timestamps normalized to midnight as a convention. To do this, there is a\n",
    "normalize option:"
   ]
  },
  {
   "cell_type": "code",
   "execution_count": 111,
   "metadata": {
    "collapsed": false
   },
   "outputs": [
    {
     "data": {
      "text/plain": [
       "DatetimeIndex(['2012-05-02', '2012-05-03', '2012-05-04', '2012-05-05',\n",
       "               '2012-05-06'],\n",
       "              dtype='datetime64[ns]', freq='D')"
      ]
     },
     "execution_count": 111,
     "metadata": {},
     "output_type": "execute_result"
    }
   ],
   "source": [
    "pd.date_range('5/2/2012 12:56:31', periods=5, normalize=True)"
   ]
  },
  {
   "cell_type": "markdown",
   "metadata": {},
   "source": [
    "### Frequencies and Data Offsets"
   ]
  },
  {
   "cell_type": "markdown",
   "metadata": {},
   "source": [
    "Frequencies in pandas are composed of a base frequency and a multiplier. Base frequencies\n",
    "are typically referred to by a string alias, like 'M' for monthly or 'H' for hourly.\n",
    "For each base frequency, there is an object defined generally referred to as a date offset.\n",
    "For example, hourly frequency can be represented with the Hour class:"
   ]
  },
  {
   "cell_type": "code",
   "execution_count": 112,
   "metadata": {
    "collapsed": true
   },
   "outputs": [],
   "source": [
    "from pandas.tseries.offsets import Hour, Minute"
   ]
  },
  {
   "cell_type": "code",
   "execution_count": 115,
   "metadata": {
    "collapsed": false
   },
   "outputs": [
    {
     "data": {
      "text/plain": [
       "<Hour>"
      ]
     },
     "execution_count": 115,
     "metadata": {},
     "output_type": "execute_result"
    }
   ],
   "source": [
    "hour= Hour()\n",
    "hour"
   ]
  },
  {
   "cell_type": "markdown",
   "metadata": {},
   "source": [
    "You can define a multiple of an offset by passing an integer:"
   ]
  },
  {
   "cell_type": "code",
   "execution_count": 118,
   "metadata": {
    "collapsed": false
   },
   "outputs": [
    {
     "data": {
      "text/plain": [
       "<4 * Hours>"
      ]
     },
     "execution_count": 118,
     "metadata": {},
     "output_type": "execute_result"
    }
   ],
   "source": [
    "four_hours = Hour(4)\n",
    "four_hours"
   ]
  },
  {
   "cell_type": "markdown",
   "metadata": {},
   "source": [
    "In most applications, you would never need to explicitly create one of these objects,\n",
    "instead using a string alias like 'H' or '4H'. Putting an integer before the base frequency\n",
    "creates a multiple:"
   ]
  },
  {
   "cell_type": "code",
   "execution_count": 119,
   "metadata": {
    "collapsed": false
   },
   "outputs": [
    {
     "data": {
      "text/plain": [
       "DatetimeIndex(['2000-01-01 00:00:00', '2000-01-01 04:00:00',\n",
       "               '2000-01-01 08:00:00', '2000-01-01 12:00:00',\n",
       "               '2000-01-01 16:00:00', '2000-01-01 20:00:00',\n",
       "               '2000-01-02 00:00:00', '2000-01-02 04:00:00',\n",
       "               '2000-01-02 08:00:00', '2000-01-02 12:00:00',\n",
       "               '2000-01-02 16:00:00', '2000-01-02 20:00:00',\n",
       "               '2000-01-03 00:00:00', '2000-01-03 04:00:00',\n",
       "               '2000-01-03 08:00:00', '2000-01-03 12:00:00',\n",
       "               '2000-01-03 16:00:00', '2000-01-03 20:00:00'],\n",
       "              dtype='datetime64[ns]', freq='4H')"
      ]
     },
     "execution_count": 119,
     "metadata": {},
     "output_type": "execute_result"
    }
   ],
   "source": [
    "# Very useful skill\n",
    "pd.date_range('1/1/2000', '1/3/2000 23:59', freq='4h')"
   ]
  },
  {
   "cell_type": "markdown",
   "metadata": {},
   "source": [
    "Many offsets can be combined together by addition:"
   ]
  },
  {
   "cell_type": "code",
   "execution_count": 120,
   "metadata": {
    "collapsed": false
   },
   "outputs": [
    {
     "data": {
      "text/plain": [
       "<150 * Minutes>"
      ]
     },
     "execution_count": 120,
     "metadata": {},
     "output_type": "execute_result"
    }
   ],
   "source": [
    "# Very useful skill\n",
    "Hour(2) + Minute(30)"
   ]
  },
  {
   "cell_type": "markdown",
   "metadata": {},
   "source": [
    "Similarly, you can pass frequency strings like '2h30min' which will effectively be parsed\n",
    "to the same expression:"
   ]
  },
  {
   "cell_type": "code",
   "execution_count": 121,
   "metadata": {
    "collapsed": false
   },
   "outputs": [
    {
     "data": {
      "text/plain": [
       "DatetimeIndex(['2000-01-01 00:00:00', '2000-01-01 01:30:00',\n",
       "               '2000-01-01 03:00:00', '2000-01-01 04:30:00',\n",
       "               '2000-01-01 06:00:00', '2000-01-01 07:30:00',\n",
       "               '2000-01-01 09:00:00', '2000-01-01 10:30:00',\n",
       "               '2000-01-01 12:00:00', '2000-01-01 13:30:00'],\n",
       "              dtype='datetime64[ns]', freq='90T')"
      ]
     },
     "execution_count": 121,
     "metadata": {},
     "output_type": "execute_result"
    }
   ],
   "source": [
    "pd.date_range('1/1/2000', periods=10, freq='1h30min')"
   ]
  },
  {
   "cell_type": "markdown",
   "metadata": {},
   "source": [
    "Some frequencies describe points in time that are not evenly spaced. For example,\n",
    "'M' (calendar month end) and 'BM' (last business/weekday of month) depend on the\n",
    "number of days in a month and, in the latter case, whether the month ends on a weekend\n",
    "or not. For lack of a better term, I call these anchored offsets."
   ]
  },
  {
   "cell_type": "markdown",
   "metadata": {},
   "source": [
    "See Table 10-4 for a listing of frequency codes and date offset classes available in pandas."
   ]
  },
  {
   "cell_type": "markdown",
   "metadata": {},
   "source": [
    "Users can define their own custom frequency classes to provide date\n",
    "logic not available in pandas, though the full details of that are outside\n",
    "the scope of this book."
   ]
  },
  {
   "cell_type": "markdown",
   "metadata": {},
   "source": [
    "Table 10-4. Base Time Series Frequencies"
   ]
  },
  {
   "cell_type": "markdown",
   "metadata": {},
   "source": [
    "Alias Offset Type Description\n",
    "\n",
    "D Day Calendar daily\n",
    "\n",
    "B BusinessDay Business daily\n",
    "\n",
    "\n",
    "H Hour Hourly\n",
    "\n",
    "T or min Minute Minutely\n",
    "\n",
    "S Second Secondly\n",
    "\n",
    "L or ms Milli Millisecond (1/1000th of 1 second)\n",
    "\n",
    "U Micro Microsecond (1/1000000th of 1 second)\n",
    "\n",
    "M MonthEnd Last calendar day of month\n",
    "\n",
    "BM BusinessMonthEnd Last business day (weekday) of month\n",
    "\n",
    "MS MonthBegin First calendar day of month\n",
    "\n",
    "BMS BusinessMonthBegin First weekday of month\n",
    "\n",
    "W-MON, W-TUE, ... Week Weekly on given day of week: MON, TUE, WED, THU, FRI, SAT,\n",
    "or SUN.\n",
    "\n",
    "WOM-1MON, WOM-2MON, ... WeekOfMonth Generate weekly dates in the first, second, third, or fourth week\n",
    "of the month. For example, WOM-3FRI for the 3rd Friday of\n",
    "each month.\n",
    "\n",
    "Q-JAN, Q-FEB, ... QuarterEnd Quarterly dates anchored on last calendar day of each month,\n",
    "for year ending in indicated month: JAN, FEB, MAR, APR, MAY,JUN, JUL, AUG, SEP, OCT, NOV, or DEC.\n",
    "\n",
    "BQ-JAN, BQ-FEB, ... BusinessQuarterEnd Quarterly dates anchored on last weekday day of each month,\n",
    "for year ending in indicated month\n",
    "\n",
    "QS-JAN, QS-FEB, ... QuarterBegin Quarterly dates anchored on first calendar day of each month,\n",
    "for year ending in indicated month\n",
    "\n",
    "BQS-JAN, BQS-FEB, ... BusinessQuarterBegin Quarterly dates anchored on first weekday day of each month,\n",
    "for year ending in indicated month\n",
    "\n",
    "A-JAN, A-FEB, ... YearEnd Annual dates anchored on last calendar day of given month:\n",
    "JAN, FEB, MAR, APR, MAY, JUN, JUL, AUG, SEP, OCT, NOV, or DEC.\n",
    "\n",
    "BA-JAN, BA-FEB, ... BusinessYearEnd Annual dates anchored on last weekday of given month\n",
    "\n",
    "AS-JAN, AS-FEB, ... YearBegin Annual dates anchored on first day of given month\n",
    "\n",
    "BAS-JAN, BAS-FEB, ... BusinessYearBegin Annual dates anchored on first weekday of given month"
   ]
  },
  {
   "cell_type": "markdown",
   "metadata": {},
   "source": [
    "#### Week of month dates"
   ]
  },
  {
   "cell_type": "markdown",
   "metadata": {},
   "source": [
    "One useful frequency class is “week of month”, starting with WOM. This enables you to\n",
    "get dates like the third Friday of each month:"
   ]
  },
  {
   "cell_type": "code",
   "execution_count": 125,
   "metadata": {
    "collapsed": false
   },
   "outputs": [
    {
     "data": {
      "text/plain": [
       "[Timestamp('2012-01-20 00:00:00', freq='WOM-3FRI'),\n",
       " Timestamp('2012-02-17 00:00:00', freq='WOM-3FRI'),\n",
       " Timestamp('2012-03-16 00:00:00', freq='WOM-3FRI'),\n",
       " Timestamp('2012-04-20 00:00:00', freq='WOM-3FRI'),\n",
       " Timestamp('2012-05-18 00:00:00', freq='WOM-3FRI'),\n",
       " Timestamp('2012-06-15 00:00:00', freq='WOM-3FRI'),\n",
       " Timestamp('2012-07-20 00:00:00', freq='WOM-3FRI'),\n",
       " Timestamp('2012-08-17 00:00:00', freq='WOM-3FRI')]"
      ]
     },
     "execution_count": 125,
     "metadata": {},
     "output_type": "execute_result"
    }
   ],
   "source": [
    "# Very useful skill: Traders of US equity options will recognize these dates as the standard dates of monthly expiry.\n",
    "rng = pd.date_range('1/1/2012', '9/1/2012', freq='WOM-3FRI')\n",
    "list(rng)"
   ]
  },
  {
   "cell_type": "markdown",
   "metadata": {},
   "source": [
    "### Shifting (Leading and lagging) Data"
   ]
  },
  {
   "cell_type": "markdown",
   "metadata": {},
   "source": [
    "“Shifting” refers to moving data backward and forward through time. Both Series and\n",
    "DataFrame have a shift method for doing naive shifts forward or backward, leaving\n",
    "the index unmodified:"
   ]
  },
  {
   "cell_type": "code",
   "execution_count": 127,
   "metadata": {
    "collapsed": false
   },
   "outputs": [
    {
     "data": {
      "text/plain": [
       "2000-01-31   -2.006680\n",
       "2000-02-29    0.020000\n",
       "2000-03-31    0.614761\n",
       "2000-04-30   -0.177307\n",
       "Freq: M, dtype: float64"
      ]
     },
     "execution_count": 127,
     "metadata": {},
     "output_type": "execute_result"
    }
   ],
   "source": [
    "ts = Series(np.random.randn(4),\n",
    ".....: index=pd.date_range('1/1/2000', periods=4, freq='M'))\n",
    "ts"
   ]
  },
  {
   "cell_type": "code",
   "execution_count": 128,
   "metadata": {
    "collapsed": false
   },
   "outputs": [
    {
     "data": {
      "text/plain": [
       "2000-01-31        NaN\n",
       "2000-02-29        NaN\n",
       "2000-03-31   -2.00668\n",
       "2000-04-30    0.02000\n",
       "Freq: M, dtype: float64"
      ]
     },
     "execution_count": 128,
     "metadata": {},
     "output_type": "execute_result"
    }
   ],
   "source": [
    "ts.shift(2)"
   ]
  },
  {
   "cell_type": "code",
   "execution_count": 129,
   "metadata": {
    "collapsed": false
   },
   "outputs": [
    {
     "data": {
      "text/plain": [
       "2000-01-31    0.614761\n",
       "2000-02-29   -0.177307\n",
       "2000-03-31         NaN\n",
       "2000-04-30         NaN\n",
       "Freq: M, dtype: float64"
      ]
     },
     "execution_count": 129,
     "metadata": {},
     "output_type": "execute_result"
    }
   ],
   "source": [
    "ts.shift(-2)"
   ]
  },
  {
   "cell_type": "markdown",
   "metadata": {},
   "source": [
    "A common use of shift is computing percent changes in a time series or multiple time\n",
    "series as DataFrame columns. This is expressed as"
   ]
  },
  {
   "cell_type": "code",
   "execution_count": 131,
   "metadata": {
    "collapsed": false
   },
   "outputs": [
    {
     "data": {
      "text/plain": [
       "2000-01-31          NaN\n",
       "2000-02-29    -1.009967\n",
       "2000-03-31    29.737658\n",
       "2000-04-30    -1.288416\n",
       "Freq: M, dtype: float64"
      ]
     },
     "execution_count": 131,
     "metadata": {},
     "output_type": "execute_result"
    }
   ],
   "source": [
    "# (Today's return/Yesterday's Return) - 1\n",
    "ts / ts.shift(1) - 1"
   ]
  },
  {
   "cell_type": "markdown",
   "metadata": {},
   "source": [
    "Because naive shifts leave the index unmodified, some data is discarded. Thus if the\n",
    "frequency is known, it can be passed to shift to advance the timestamps instead of\n",
    "simply the data:"
   ]
  },
  {
   "cell_type": "code",
   "execution_count": 133,
   "metadata": {
    "collapsed": false
   },
   "outputs": [
    {
     "data": {
      "text/plain": [
       "2000-01-31   -2.006680\n",
       "2000-02-29    0.020000\n",
       "2000-03-31    0.614761\n",
       "2000-04-30   -0.177307\n",
       "Freq: M, dtype: float64"
      ]
     },
     "execution_count": 133,
     "metadata": {},
     "output_type": "execute_result"
    }
   ],
   "source": [
    "ts"
   ]
  },
  {
   "cell_type": "code",
   "execution_count": 132,
   "metadata": {
    "collapsed": false
   },
   "outputs": [
    {
     "data": {
      "text/plain": [
       "2000-03-31   -2.006680\n",
       "2000-04-30    0.020000\n",
       "2000-05-31    0.614761\n",
       "2000-06-30   -0.177307\n",
       "Freq: M, dtype: float64"
      ]
     },
     "execution_count": 132,
     "metadata": {},
     "output_type": "execute_result"
    }
   ],
   "source": [
    "ts.shift(2, freq='M')"
   ]
  },
  {
   "cell_type": "markdown",
   "metadata": {},
   "source": [
    "Other frequencies can be passed, too, giving you a lot of flexibility in how to lead and\n",
    "lag the data:"
   ]
  },
  {
   "cell_type": "code",
   "execution_count": 136,
   "metadata": {
    "collapsed": false
   },
   "outputs": [
    {
     "data": {
      "text/plain": [
       "2000-01-31   -2.006680\n",
       "2000-02-29    0.020000\n",
       "2000-03-31    0.614761\n",
       "2000-04-30   -0.177307\n",
       "Freq: M, dtype: float64"
      ]
     },
     "execution_count": 136,
     "metadata": {},
     "output_type": "execute_result"
    }
   ],
   "source": [
    "ts"
   ]
  },
  {
   "cell_type": "code",
   "execution_count": 134,
   "metadata": {
    "collapsed": false
   },
   "outputs": [
    {
     "data": {
      "text/plain": [
       "2000-02-03   -2.006680\n",
       "2000-03-03    0.020000\n",
       "2000-04-03    0.614761\n",
       "2000-05-03   -0.177307\n",
       "dtype: float64"
      ]
     },
     "execution_count": 134,
     "metadata": {},
     "output_type": "execute_result"
    }
   ],
   "source": [
    "# All data goes down 3 days\n",
    "ts.shift(3, freq='D')"
   ]
  },
  {
   "cell_type": "code",
   "execution_count": 135,
   "metadata": {
    "collapsed": false
   },
   "outputs": [
    {
     "data": {
      "text/plain": [
       "2000-02-03   -2.006680\n",
       "2000-03-03    0.020000\n",
       "2000-04-03    0.614761\n",
       "2000-05-03   -0.177307\n",
       "dtype: float64"
      ]
     },
     "execution_count": 135,
     "metadata": {},
     "output_type": "execute_result"
    }
   ],
   "source": [
    "# All data goes down 1 3-day frequency, being the same as the above.\n",
    "ts.shift(1, freq='3D')"
   ]
  },
  {
   "cell_type": "code",
   "execution_count": 137,
   "metadata": {
    "collapsed": false
   },
   "outputs": [
    {
     "data": {
      "text/plain": [
       "2000-01-31 01:30:00   -2.006680\n",
       "2000-02-29 01:30:00    0.020000\n",
       "2000-03-31 01:30:00    0.614761\n",
       "2000-04-30 01:30:00   -0.177307\n",
       "Freq: M, dtype: float64"
      ]
     },
     "execution_count": 137,
     "metadata": {},
     "output_type": "execute_result"
    }
   ],
   "source": [
    "ts.shift(1, freq='90T')"
   ]
  },
  {
   "cell_type": "markdown",
   "metadata": {},
   "source": [
    "#### Shifting dates with offsets"
   ]
  },
  {
   "cell_type": "markdown",
   "metadata": {},
   "source": [
    "The pandas date offsets can also be used with datetime or Timestamp objects:"
   ]
  },
  {
   "cell_type": "code",
   "execution_count": 138,
   "metadata": {
    "collapsed": true
   },
   "outputs": [],
   "source": [
    "from pandas.tseries.offsets import Day, MonthEnd"
   ]
  },
  {
   "cell_type": "code",
   "execution_count": 139,
   "metadata": {
    "collapsed": true
   },
   "outputs": [],
   "source": [
    "now = datetime(2011, 11, 17)"
   ]
  },
  {
   "cell_type": "code",
   "execution_count": 140,
   "metadata": {
    "collapsed": false
   },
   "outputs": [
    {
     "data": {
      "text/plain": [
       "Timestamp('2011-11-20 00:00:00')"
      ]
     },
     "execution_count": 140,
     "metadata": {},
     "output_type": "execute_result"
    }
   ],
   "source": [
    "now + 3*Day()"
   ]
  },
  {
   "cell_type": "markdown",
   "metadata": {},
   "source": [
    "If you add an anchored offset like MonthEnd, the first increment will roll forward a date\n",
    "to the next date according to the frequency rule:"
   ]
  },
  {
   "cell_type": "code",
   "execution_count": 145,
   "metadata": {
    "collapsed": false
   },
   "outputs": [
    {
     "data": {
      "text/plain": [
       "Timestamp('2011-11-30 00:00:00')"
      ]
     },
     "execution_count": 145,
     "metadata": {},
     "output_type": "execute_result"
    }
   ],
   "source": [
    "now + MonthEnd(1)"
   ]
  },
  {
   "cell_type": "code",
   "execution_count": 142,
   "metadata": {
    "collapsed": false
   },
   "outputs": [
    {
     "data": {
      "text/plain": [
       "Timestamp('2011-12-31 00:00:00')"
      ]
     },
     "execution_count": 142,
     "metadata": {},
     "output_type": "execute_result"
    }
   ],
   "source": [
    "now + MonthEnd(2)"
   ]
  },
  {
   "cell_type": "markdown",
   "metadata": {},
   "source": [
    "Anchored offsets can explicitly “roll” dates forward or backward using their rollfor\n",
    "ward and rollback methods, respectively:"
   ]
  },
  {
   "cell_type": "code",
   "execution_count": 146,
   "metadata": {
    "collapsed": true
   },
   "outputs": [],
   "source": [
    "offset = MonthEnd()"
   ]
  },
  {
   "cell_type": "code",
   "execution_count": 147,
   "metadata": {
    "collapsed": false
   },
   "outputs": [
    {
     "data": {
      "text/plain": [
       "Timestamp('2011-11-30 00:00:00')"
      ]
     },
     "execution_count": 147,
     "metadata": {},
     "output_type": "execute_result"
    }
   ],
   "source": [
    "#Roll forward to now\n",
    "offset.rollforward(now)"
   ]
  },
  {
   "cell_type": "code",
   "execution_count": 148,
   "metadata": {
    "collapsed": false
   },
   "outputs": [
    {
     "data": {
      "text/plain": [
       "Timestamp('2011-10-31 00:00:00')"
      ]
     },
     "execution_count": 148,
     "metadata": {},
     "output_type": "execute_result"
    }
   ],
   "source": [
    "# Roll back to the last month end from now.\n",
    "offset.rollback(now)"
   ]
  },
  {
   "cell_type": "markdown",
   "metadata": {},
   "source": [
    "A clever use of date offsets is to use these methods with groupby:"
   ]
  },
  {
   "cell_type": "code",
   "execution_count": 151,
   "metadata": {
    "collapsed": false
   },
   "outputs": [
    {
     "data": {
      "text/plain": [
       "2000-01-15   -0.028220\n",
       "2000-01-19   -1.702195\n",
       "2000-01-23    1.032273\n",
       "2000-01-27   -0.793712\n",
       "2000-01-31   -0.257134\n",
       "2000-02-04    0.767650\n",
       "2000-02-08   -0.645312\n",
       "2000-02-12    0.181378\n",
       "2000-02-16   -1.556924\n",
       "2000-02-20    0.909798\n",
       "2000-02-24   -0.569367\n",
       "2000-02-28   -1.024533\n",
       "2000-03-03    0.670528\n",
       "2000-03-07   -0.335158\n",
       "2000-03-11    1.463189\n",
       "2000-03-15   -0.207984\n",
       "2000-03-19    0.278764\n",
       "2000-03-23    0.207668\n",
       "2000-03-27    1.744857\n",
       "2000-03-31    0.388685\n",
       "Freq: 4D, dtype: float64"
      ]
     },
     "execution_count": 151,
     "metadata": {},
     "output_type": "execute_result"
    }
   ],
   "source": [
    "ts = Series(np.random.randn(20),\n",
    ".....: index=pd.date_range('1/15/2000', periods=20, freq='4d'))\n",
    "ts"
   ]
  },
  {
   "cell_type": "code",
   "execution_count": 150,
   "metadata": {
    "collapsed": false
   },
   "outputs": [
    {
     "data": {
      "text/plain": [
       "2000-01-31    0.091945\n",
       "2000-02-29   -0.435849\n",
       "2000-03-31    0.230168\n",
       "dtype: float64"
      ]
     },
     "execution_count": 150,
     "metadata": {},
     "output_type": "execute_result"
    }
   ],
   "source": [
    "ts.groupby(offset.rollforward).mean()"
   ]
  },
  {
   "cell_type": "markdown",
   "metadata": {},
   "source": [
    "Of course, an easier and faster way to do this is using resample (much more on this later):"
   ]
  },
  {
   "cell_type": "code",
   "execution_count": 152,
   "metadata": {
    "collapsed": false
   },
   "outputs": [
    {
     "name": "stderr",
     "output_type": "stream",
     "text": [
      "C:\\Users\\Brad Sun\\Anaconda3\\lib\\site-packages\\ipykernel\\__main__.py:1: FutureWarning: how in .resample() is deprecated\n",
      "the new syntax is .resample(...).mean()\n",
      "  if __name__ == '__main__':\n"
     ]
    },
    {
     "data": {
      "text/plain": [
       "2000-01-31   -0.349798\n",
       "2000-02-29   -0.276759\n",
       "2000-03-31    0.526319\n",
       "Freq: M, dtype: float64"
      ]
     },
     "execution_count": 152,
     "metadata": {},
     "output_type": "execute_result"
    }
   ],
   "source": [
    "ts.resample('M', how='mean')"
   ]
  },
  {
   "cell_type": "markdown",
   "metadata": {},
   "source": [
    "## Time Zone Handling"
   ]
  },
  {
   "cell_type": "markdown",
   "metadata": {},
   "source": [
    "Working with time zones is generally considered one of the most unpleasant parts of\n",
    "time series manipulation. In particular, daylight savings time (DST) transitions are a\n",
    "common source of complication. As such, many time series users choose to work with\n",
    "time series in coordinated universal time or UTC, which is the successor to Greenwich\n",
    "Mean Time and is the current international standard. Time zones are expressed as\n",
    "offsets from UTC; for example, New York is four hours behind UTC during daylight\n",
    "savings time and 5 hours the rest of the year.\n",
    "\n",
    "In Python, time zone information comes from the 3rd party pytz library, which exposes\n",
    "the Olson database, a compilation of world time zone information. This is especially\n",
    "important for historical data because the DST transition dates (and even UTC offsets)\n",
    "have been changed numerous times depending on the whims of local governments. In\n",
    "the United States,the DST transition times have been changed many times since 1900!\n",
    "\n",
    "For detailed information about pytz library, you’ll need to look at that library’s documentation.\n",
    "As far as this book is concerned, pandas wraps pytz’s functionality so you\n",
    "can ignore its API outside of the time zone names. Time zone names can be found\n",
    "interactively and in the docs:"
   ]
  },
  {
   "cell_type": "code",
   "execution_count": 153,
   "metadata": {
    "collapsed": true
   },
   "outputs": [],
   "source": [
    "import pytz"
   ]
  },
  {
   "cell_type": "code",
   "execution_count": 154,
   "metadata": {
    "collapsed": false
   },
   "outputs": [
    {
     "data": {
      "text/plain": [
       "['US/Eastern', 'US/Hawaii', 'US/Mountain', 'US/Pacific', 'UTC']"
      ]
     },
     "execution_count": 154,
     "metadata": {},
     "output_type": "execute_result"
    }
   ],
   "source": [
    "pytz.common_timezones[-5:]"
   ]
  },
  {
   "cell_type": "markdown",
   "metadata": {},
   "source": [
    "To get a time zone object from pytz, use pytz.timezone:"
   ]
  },
  {
   "cell_type": "code",
   "execution_count": 156,
   "metadata": {
    "collapsed": false
   },
   "outputs": [
    {
     "data": {
      "text/plain": [
       "<DstTzInfo 'US/Eastern' LMT-1 day, 19:04:00 STD>"
      ]
     },
     "execution_count": 156,
     "metadata": {},
     "output_type": "execute_result"
    }
   ],
   "source": [
    "tz = pytz.timezone('US/Eastern')\n",
    "tz"
   ]
  },
  {
   "cell_type": "markdown",
   "metadata": {},
   "source": [
    "Methods in pandas will accept either time zone names or these objects. I recommend\n",
    "just using the names."
   ]
  },
  {
   "cell_type": "markdown",
   "metadata": {},
   "source": [
    "### Localization and Conversion"
   ]
  },
  {
   "cell_type": "markdown",
   "metadata": {},
   "source": [
    "By default, time series in pandas are time zone naive. Consider the following time series:"
   ]
  },
  {
   "cell_type": "code",
   "execution_count": 157,
   "metadata": {
    "collapsed": true
   },
   "outputs": [],
   "source": [
    "rng = pd.date_range('3/9/2012 9:30', periods=6, freq='D')\n",
    "ts = Series(np.random.randn(len(rng)), index=rng)"
   ]
  },
  {
   "cell_type": "markdown",
   "metadata": {},
   "source": [
    "The index’s tz field is None:"
   ]
  },
  {
   "cell_type": "code",
   "execution_count": 159,
   "metadata": {
    "collapsed": false
   },
   "outputs": [
    {
     "name": "stdout",
     "output_type": "stream",
     "text": [
      "None\n"
     ]
    }
   ],
   "source": [
    "print(ts.index.tz)"
   ]
  },
  {
   "cell_type": "markdown",
   "metadata": {},
   "source": [
    "Date ranges can be generated with a time zone set:"
   ]
  },
  {
   "cell_type": "code",
   "execution_count": 160,
   "metadata": {
    "collapsed": false
   },
   "outputs": [
    {
     "data": {
      "text/plain": [
       "DatetimeIndex(['2012-03-09 09:30:00+00:00', '2012-03-10 09:30:00+00:00',\n",
       "               '2012-03-11 09:30:00+00:00', '2012-03-12 09:30:00+00:00',\n",
       "               '2012-03-13 09:30:00+00:00', '2012-03-14 09:30:00+00:00',\n",
       "               '2012-03-15 09:30:00+00:00', '2012-03-16 09:30:00+00:00',\n",
       "               '2012-03-17 09:30:00+00:00', '2012-03-18 09:30:00+00:00'],\n",
       "              dtype='datetime64[ns, UTC]', freq='D')"
      ]
     },
     "execution_count": 160,
     "metadata": {},
     "output_type": "execute_result"
    }
   ],
   "source": [
    "pd.date_range('3/9/2012 9:30', periods=10, freq='D', tz='UTC')"
   ]
  },
  {
   "cell_type": "markdown",
   "metadata": {},
   "source": [
    "Conversion from naive to localized is handled by the tz_localize method:"
   ]
  },
  {
   "cell_type": "code",
   "execution_count": 164,
   "metadata": {
    "collapsed": false
   },
   "outputs": [
    {
     "data": {
      "text/plain": [
       "2012-03-09 09:30:00    1.270189\n",
       "2012-03-10 09:30:00    1.988710\n",
       "2012-03-11 09:30:00   -1.727052\n",
       "2012-03-12 09:30:00   -0.474385\n",
       "2012-03-13 09:30:00    0.283216\n",
       "2012-03-14 09:30:00    0.564283\n",
       "Freq: D, dtype: float64"
      ]
     },
     "execution_count": 164,
     "metadata": {},
     "output_type": "execute_result"
    }
   ],
   "source": [
    "ts"
   ]
  },
  {
   "cell_type": "code",
   "execution_count": 161,
   "metadata": {
    "collapsed": true
   },
   "outputs": [],
   "source": [
    "ts_utc = ts.tz_localize('UTC')"
   ]
  },
  {
   "cell_type": "code",
   "execution_count": 162,
   "metadata": {
    "collapsed": false
   },
   "outputs": [
    {
     "data": {
      "text/plain": [
       "2012-03-09 09:30:00+00:00    1.270189\n",
       "2012-03-10 09:30:00+00:00    1.988710\n",
       "2012-03-11 09:30:00+00:00   -1.727052\n",
       "2012-03-12 09:30:00+00:00   -0.474385\n",
       "2012-03-13 09:30:00+00:00    0.283216\n",
       "2012-03-14 09:30:00+00:00    0.564283\n",
       "Freq: D, dtype: float64"
      ]
     },
     "execution_count": 162,
     "metadata": {},
     "output_type": "execute_result"
    }
   ],
   "source": [
    "ts_utc"
   ]
  },
  {
   "cell_type": "code",
   "execution_count": 163,
   "metadata": {
    "collapsed": false
   },
   "outputs": [
    {
     "data": {
      "text/plain": [
       "DatetimeIndex(['2012-03-09 09:30:00+00:00', '2012-03-10 09:30:00+00:00',\n",
       "               '2012-03-11 09:30:00+00:00', '2012-03-12 09:30:00+00:00',\n",
       "               '2012-03-13 09:30:00+00:00', '2012-03-14 09:30:00+00:00'],\n",
       "              dtype='datetime64[ns, UTC]', freq='D')"
      ]
     },
     "execution_count": 163,
     "metadata": {},
     "output_type": "execute_result"
    }
   ],
   "source": [
    "ts_utc.index"
   ]
  },
  {
   "cell_type": "markdown",
   "metadata": {},
   "source": [
    "Once a time series has been localized to a particular time zone, it can be converted to\n",
    "another time zone using tz_convert:"
   ]
  },
  {
   "cell_type": "code",
   "execution_count": 165,
   "metadata": {
    "collapsed": false
   },
   "outputs": [
    {
     "data": {
      "text/plain": [
       "2012-03-09 04:30:00-05:00    1.270189\n",
       "2012-03-10 04:30:00-05:00    1.988710\n",
       "2012-03-11 05:30:00-04:00   -1.727052\n",
       "2012-03-12 05:30:00-04:00   -0.474385\n",
       "2012-03-13 05:30:00-04:00    0.283216\n",
       "2012-03-14 05:30:00-04:00    0.564283\n",
       "Freq: D, dtype: float64"
      ]
     },
     "execution_count": 165,
     "metadata": {},
     "output_type": "execute_result"
    }
   ],
   "source": [
    "# Very useful\n",
    "ts_utc.tz_convert('US/Eastern')"
   ]
  },
  {
   "cell_type": "markdown",
   "metadata": {},
   "source": [
    "In the case of the above time series, which straddles a DST transition in the US/Eastern\n",
    "time zone, we could localize to EST and convert to, say, UTC or Berlin time:"
   ]
  },
  {
   "cell_type": "code",
   "execution_count": 166,
   "metadata": {
    "collapsed": true
   },
   "outputs": [],
   "source": [
    "ts_eastern = ts.tz_localize('US/Eastern')"
   ]
  },
  {
   "cell_type": "code",
   "execution_count": 167,
   "metadata": {
    "collapsed": false
   },
   "outputs": [
    {
     "data": {
      "text/plain": [
       "2012-03-09 14:30:00+00:00    1.270189\n",
       "2012-03-10 14:30:00+00:00    1.988710\n",
       "2012-03-11 13:30:00+00:00   -1.727052\n",
       "2012-03-12 13:30:00+00:00   -0.474385\n",
       "2012-03-13 13:30:00+00:00    0.283216\n",
       "2012-03-14 13:30:00+00:00    0.564283\n",
       "Freq: D, dtype: float64"
      ]
     },
     "execution_count": 167,
     "metadata": {},
     "output_type": "execute_result"
    }
   ],
   "source": [
    "# Second example would be to covert to the european tz.\n",
    "ts_eastern.tz_convert('UTC')"
   ]
  },
  {
   "cell_type": "code",
   "execution_count": 168,
   "metadata": {
    "collapsed": false
   },
   "outputs": [
    {
     "data": {
      "text/plain": [
       "2012-03-09 15:30:00+01:00    1.270189\n",
       "2012-03-10 15:30:00+01:00    1.988710\n",
       "2012-03-11 14:30:00+01:00   -1.727052\n",
       "2012-03-12 14:30:00+01:00   -0.474385\n",
       "2012-03-13 14:30:00+01:00    0.283216\n",
       "2012-03-14 14:30:00+01:00    0.564283\n",
       "Freq: D, dtype: float64"
      ]
     },
     "execution_count": 168,
     "metadata": {},
     "output_type": "execute_result"
    }
   ],
   "source": [
    "ts_eastern.tz_convert('Europe/Berlin')"
   ]
  },
  {
   "cell_type": "markdown",
   "metadata": {},
   "source": [
    "tz_localize and tz_convert are also instance methods on DatetimeIndex:"
   ]
  },
  {
   "cell_type": "code",
   "execution_count": 169,
   "metadata": {
    "collapsed": false
   },
   "outputs": [
    {
     "data": {
      "text/plain": [
       "DatetimeIndex(['2012-03-09 09:30:00+08:00', '2012-03-10 09:30:00+08:00',\n",
       "               '2012-03-11 09:30:00+08:00', '2012-03-12 09:30:00+08:00',\n",
       "               '2012-03-13 09:30:00+08:00', '2012-03-14 09:30:00+08:00'],\n",
       "              dtype='datetime64[ns, Asia/Shanghai]', freq='D')"
      ]
     },
     "execution_count": 169,
     "metadata": {},
     "output_type": "execute_result"
    }
   ],
   "source": [
    "ts.index.tz_localize('Asia/Shanghai')"
   ]
  },
  {
   "cell_type": "markdown",
   "metadata": {},
   "source": [
    "### Operations with time zone - aware Timestamp Objects"
   ]
  },
  {
   "cell_type": "markdown",
   "metadata": {},
   "source": [
    "Similar to time series and date ranges, individual Timestamp objects similarly can be\n",
    "localized from naive to time zone-aware and converted from one time zone to another:"
   ]
  },
  {
   "cell_type": "code",
   "execution_count": 170,
   "metadata": {
    "collapsed": true
   },
   "outputs": [],
   "source": [
    "stamp = pd.Timestamp('2011-03-12 04:00')"
   ]
  },
  {
   "cell_type": "code",
   "execution_count": 171,
   "metadata": {
    "collapsed": true
   },
   "outputs": [],
   "source": [
    "stamp_utc = stamp.tz_localize('utc')"
   ]
  },
  {
   "cell_type": "code",
   "execution_count": 172,
   "metadata": {
    "collapsed": false
   },
   "outputs": [
    {
     "data": {
      "text/plain": [
       "Timestamp('2011-03-11 23:00:00-0500', tz='US/Eastern')"
      ]
     },
     "execution_count": 172,
     "metadata": {},
     "output_type": "execute_result"
    }
   ],
   "source": [
    "stamp_utc.tz_convert('US/Eastern')"
   ]
  },
  {
   "cell_type": "markdown",
   "metadata": {},
   "source": [
    "You can also pass a time zone when creating the Timestamp:"
   ]
  },
  {
   "cell_type": "code",
   "execution_count": 173,
   "metadata": {
    "collapsed": true
   },
   "outputs": [],
   "source": [
    "stamp_moscow = pd.Timestamp('2011-03-12 04:00', tz='Europe/Moscow')"
   ]
  },
  {
   "cell_type": "code",
   "execution_count": 174,
   "metadata": {
    "collapsed": false
   },
   "outputs": [
    {
     "data": {
      "text/plain": [
       "Timestamp('2011-03-12 04:00:00+0300', tz='Europe/Moscow')"
      ]
     },
     "execution_count": 174,
     "metadata": {},
     "output_type": "execute_result"
    }
   ],
   "source": [
    "stamp_moscow"
   ]
  },
  {
   "cell_type": "markdown",
   "metadata": {},
   "source": [
    "Time zone-aware Timestamp objects internally store a UTC timestamp value as nanoseconds\n",
    "since the UNIX epoch (January 1, 1970); this UTC value is invariant between\n",
    "time zone conversions:"
   ]
  },
  {
   "cell_type": "code",
   "execution_count": 175,
   "metadata": {
    "collapsed": false
   },
   "outputs": [
    {
     "data": {
      "text/plain": [
       "1299902400000000000"
      ]
     },
     "execution_count": 175,
     "metadata": {},
     "output_type": "execute_result"
    }
   ],
   "source": [
    "stamp_utc.value"
   ]
  },
  {
   "cell_type": "code",
   "execution_count": 176,
   "metadata": {
    "collapsed": false
   },
   "outputs": [
    {
     "data": {
      "text/plain": [
       "1299902400000000000"
      ]
     },
     "execution_count": 176,
     "metadata": {},
     "output_type": "execute_result"
    }
   ],
   "source": [
    "stamp_utc.tz_convert('US/Eastern').value"
   ]
  },
  {
   "cell_type": "markdown",
   "metadata": {},
   "source": [
    "When performing time arithmetic using pandas’s DateOffset objects, daylight savings\n",
    "time transitions are respected where possible:"
   ]
  },
  {
   "cell_type": "code",
   "execution_count": 177,
   "metadata": {
    "collapsed": true
   },
   "outputs": [],
   "source": [
    "# 30 minutes before DST transition\n",
    "from pandas.tseries.offsets import Hour"
   ]
  },
  {
   "cell_type": "code",
   "execution_count": 179,
   "metadata": {
    "collapsed": false
   },
   "outputs": [
    {
     "data": {
      "text/plain": [
       "Timestamp('2012-03-12 01:30:00-0400', tz='US/Eastern')"
      ]
     },
     "execution_count": 179,
     "metadata": {},
     "output_type": "execute_result"
    }
   ],
   "source": [
    "stamp = pd.Timestamp('2012-03-12 01:30', tz='US/Eastern')\n",
    "stamp"
   ]
  },
  {
   "cell_type": "code",
   "execution_count": 181,
   "metadata": {
    "collapsed": false
   },
   "outputs": [
    {
     "data": {
      "text/plain": [
       "Timestamp('2012-03-12 03:30:00-0400', tz='US/Eastern')"
      ]
     },
     "execution_count": 181,
     "metadata": {},
     "output_type": "execute_result"
    }
   ],
   "source": [
    "stamp + Hour(2)"
   ]
  },
  {
   "cell_type": "code",
   "execution_count": 182,
   "metadata": {
    "collapsed": true
   },
   "outputs": [],
   "source": [
    "# 90 minutes before DST transition\n",
    "stamp = pd.Timestamp('2012-11-04 00:30', tz='US/Eastern')"
   ]
  },
  {
   "cell_type": "code",
   "execution_count": 183,
   "metadata": {
    "collapsed": false
   },
   "outputs": [
    {
     "data": {
      "text/plain": [
       "Timestamp('2012-11-04 00:30:00-0400', tz='US/Eastern')"
      ]
     },
     "execution_count": 183,
     "metadata": {},
     "output_type": "execute_result"
    }
   ],
   "source": [
    "stamp"
   ]
  },
  {
   "cell_type": "code",
   "execution_count": 189,
   "metadata": {
    "collapsed": false
   },
   "outputs": [
    {
     "data": {
      "text/plain": [
       "Timestamp('2012-11-04 05:30:00-0500', tz='US/Eastern')"
      ]
     },
     "execution_count": 189,
     "metadata": {},
     "output_type": "execute_result"
    }
   ],
   "source": [
    "# Question: What does this \"2\" mean?\n",
    "stamp + 2 * Hour(3)"
   ]
  },
  {
   "cell_type": "markdown",
   "metadata": {},
   "source": [
    "### Operations between different time zones"
   ]
  },
  {
   "cell_type": "markdown",
   "metadata": {},
   "source": [
    "If two time series with different time zones are combined, the result will be UTC. Since\n",
    "the timestamps are stored under the hood in UTC, this is a straightforward operation\n",
    "and requires no conversion to happen:"
   ]
  },
  {
   "cell_type": "code",
   "execution_count": 194,
   "metadata": {
    "collapsed": false
   },
   "outputs": [
    {
     "data": {
      "text/plain": [
       "DatetimeIndex(['2012-03-07 09:30:00', '2012-03-08 09:30:00',\n",
       "               '2012-03-09 09:30:00', '2012-03-12 09:30:00',\n",
       "               '2012-03-13 09:30:00', '2012-03-14 09:30:00',\n",
       "               '2012-03-15 09:30:00', '2012-03-16 09:30:00',\n",
       "               '2012-03-19 09:30:00', '2012-03-20 09:30:00'],\n",
       "              dtype='datetime64[ns]', freq='B')"
      ]
     },
     "execution_count": 194,
     "metadata": {},
     "output_type": "execute_result"
    }
   ],
   "source": [
    "rng = pd.date_range('3/7/2012 9:30', periods=10, freq='B')\n",
    "rng"
   ]
  },
  {
   "cell_type": "code",
   "execution_count": 195,
   "metadata": {
    "collapsed": true
   },
   "outputs": [],
   "source": [
    "ts = Series(np.random.randn(len(rng)), index=rng)"
   ]
  },
  {
   "cell_type": "code",
   "execution_count": 196,
   "metadata": {
    "collapsed": false
   },
   "outputs": [
    {
     "data": {
      "text/plain": [
       "2012-03-07 09:30:00    1.066559\n",
       "2012-03-08 09:30:00   -0.787197\n",
       "2012-03-09 09:30:00    0.196791\n",
       "2012-03-12 09:30:00   -0.036353\n",
       "2012-03-13 09:30:00   -0.083855\n",
       "2012-03-14 09:30:00   -1.210146\n",
       "2012-03-15 09:30:00    0.377144\n",
       "2012-03-16 09:30:00   -0.427262\n",
       "2012-03-19 09:30:00    1.568447\n",
       "2012-03-20 09:30:00    2.738727\n",
       "Freq: B, dtype: float64"
      ]
     },
     "execution_count": 196,
     "metadata": {},
     "output_type": "execute_result"
    }
   ],
   "source": [
    "ts"
   ]
  },
  {
   "cell_type": "code",
   "execution_count": 198,
   "metadata": {
    "collapsed": false
   },
   "outputs": [
    {
     "data": {
      "text/plain": [
       "2012-03-07 09:30:00+00:00    1.066559\n",
       "2012-03-08 09:30:00+00:00   -0.787197\n",
       "2012-03-09 09:30:00+00:00    0.196791\n",
       "2012-03-12 09:30:00+00:00   -0.036353\n",
       "2012-03-13 09:30:00+00:00   -0.083855\n",
       "2012-03-14 09:30:00+00:00   -1.210146\n",
       "2012-03-15 09:30:00+00:00    0.377144\n",
       "Freq: B, dtype: float64"
      ]
     },
     "execution_count": 198,
     "metadata": {},
     "output_type": "execute_result"
    }
   ],
   "source": [
    "ts1 = ts[:7].tz_localize('Europe/London')\n",
    "ts1"
   ]
  },
  {
   "cell_type": "code",
   "execution_count": 200,
   "metadata": {
    "collapsed": false
   },
   "outputs": [
    {
     "data": {
      "text/plain": [
       "2012-03-09 09:30:00+00:00    0.196791\n",
       "2012-03-12 09:30:00+00:00   -0.036353\n",
       "2012-03-13 09:30:00+00:00   -0.083855\n",
       "2012-03-14 09:30:00+00:00   -1.210146\n",
       "2012-03-15 09:30:00+00:00    0.377144\n",
       "Freq: B, dtype: float64"
      ]
     },
     "execution_count": 200,
     "metadata": {},
     "output_type": "execute_result"
    }
   ],
   "source": [
    "ts1[2:]"
   ]
  },
  {
   "cell_type": "code",
   "execution_count": 199,
   "metadata": {
    "collapsed": true
   },
   "outputs": [],
   "source": [
    "ts2 = ts1[2:].tz_convert('Europe/Moscow')"
   ]
  },
  {
   "cell_type": "code",
   "execution_count": 202,
   "metadata": {
    "collapsed": false
   },
   "outputs": [
    {
     "data": {
      "text/plain": [
       "2012-03-07 09:30:00+00:00         NaN\n",
       "2012-03-08 09:30:00+00:00         NaN\n",
       "2012-03-09 09:30:00+00:00    0.393582\n",
       "2012-03-12 09:30:00+00:00   -0.072707\n",
       "2012-03-13 09:30:00+00:00   -0.167711\n",
       "2012-03-14 09:30:00+00:00   -2.420293\n",
       "2012-03-15 09:30:00+00:00    0.754287\n",
       "Freq: B, dtype: float64"
      ]
     },
     "execution_count": 202,
     "metadata": {},
     "output_type": "execute_result"
    }
   ],
   "source": [
    "result = ts1+ts2\n",
    "result"
   ]
  },
  {
   "cell_type": "code",
   "execution_count": 203,
   "metadata": {
    "collapsed": false
   },
   "outputs": [
    {
     "data": {
      "text/plain": [
       "DatetimeIndex(['2012-03-07 09:30:00+00:00', '2012-03-08 09:30:00+00:00',\n",
       "               '2012-03-09 09:30:00+00:00', '2012-03-12 09:30:00+00:00',\n",
       "               '2012-03-13 09:30:00+00:00', '2012-03-14 09:30:00+00:00',\n",
       "               '2012-03-15 09:30:00+00:00'],\n",
       "              dtype='datetime64[ns, UTC]', freq='B')"
      ]
     },
     "execution_count": 203,
     "metadata": {},
     "output_type": "execute_result"
    }
   ],
   "source": [
    "result.index"
   ]
  },
  {
   "cell_type": "markdown",
   "metadata": {},
   "source": [
    "## Periods and Period Arithmetic"
   ]
  },
  {
   "cell_type": "markdown",
   "metadata": {},
   "source": [
    "Periods represent time spans, like days, months, quarters, or years. The Period class\n",
    "represents this data type, requiring a string or integer and a frequency from the above\n",
    "table:"
   ]
  },
  {
   "cell_type": "code",
   "execution_count": 204,
   "metadata": {
    "collapsed": true
   },
   "outputs": [],
   "source": [
    "p = pd.Period(2007, freq='A-DEC')"
   ]
  },
  {
   "cell_type": "code",
   "execution_count": 205,
   "metadata": {
    "collapsed": false
   },
   "outputs": [
    {
     "data": {
      "text/plain": [
       "Period('2007', 'A-DEC')"
      ]
     },
     "execution_count": 205,
     "metadata": {},
     "output_type": "execute_result"
    }
   ],
   "source": [
    "p"
   ]
  },
  {
   "cell_type": "markdown",
   "metadata": {},
   "source": [
    "In this case, the Period object represents the full timespan from January 1, 2007 to\n",
    "December 31, 2007, inclusive. Conveniently, adding and subtracting integers from periods\n",
    "has the effect of shifting by their frequency:"
   ]
  },
  {
   "cell_type": "code",
   "execution_count": 206,
   "metadata": {
    "collapsed": false
   },
   "outputs": [
    {
     "data": {
      "text/plain": [
       "Period('2012', 'A-DEC')"
      ]
     },
     "execution_count": 206,
     "metadata": {},
     "output_type": "execute_result"
    }
   ],
   "source": [
    "p+5"
   ]
  },
  {
   "cell_type": "code",
   "execution_count": 207,
   "metadata": {
    "collapsed": false
   },
   "outputs": [
    {
     "data": {
      "text/plain": [
       "Period('2005', 'A-DEC')"
      ]
     },
     "execution_count": 207,
     "metadata": {},
     "output_type": "execute_result"
    }
   ],
   "source": [
    "p-2"
   ]
  },
  {
   "cell_type": "markdown",
   "metadata": {},
   "source": [
    "If two periods have the same frequency, their difference is the number of units between\n",
    "them:"
   ]
  },
  {
   "cell_type": "code",
   "execution_count": 208,
   "metadata": {
    "collapsed": false
   },
   "outputs": [
    {
     "data": {
      "text/plain": [
       "7"
      ]
     },
     "execution_count": 208,
     "metadata": {},
     "output_type": "execute_result"
    }
   ],
   "source": [
    "pd.Period('2014', freq='A-DEC') - p"
   ]
  },
  {
   "cell_type": "markdown",
   "metadata": {},
   "source": [
    "Regular ranges of periods can be constructed using the period_range function:"
   ]
  },
  {
   "cell_type": "code",
   "execution_count": 210,
   "metadata": {
    "collapsed": false
   },
   "outputs": [
    {
     "data": {
      "text/plain": [
       "PeriodIndex(['2000-01', '2000-02', '2000-03', '2000-04', '2000-05', '2000-06'], dtype='period[M]', freq='M')"
      ]
     },
     "execution_count": 210,
     "metadata": {},
     "output_type": "execute_result"
    }
   ],
   "source": [
    "rng = pd.period_range('1/1/2000', '6/30/2000', freq='M')\n",
    "rng"
   ]
  },
  {
   "cell_type": "markdown",
   "metadata": {},
   "source": [
    "The PeriodIndex class stores a sequence of periods and can serve as an axis index in\n",
    "any pandas data structure:"
   ]
  },
  {
   "cell_type": "code",
   "execution_count": 211,
   "metadata": {
    "collapsed": false
   },
   "outputs": [
    {
     "data": {
      "text/plain": [
       "2000-01   -0.301895\n",
       "2000-02   -0.531845\n",
       "2000-03    2.095707\n",
       "2000-04    2.888766\n",
       "2000-05   -0.683950\n",
       "2000-06    0.674421\n",
       "Freq: M, dtype: float64"
      ]
     },
     "execution_count": 211,
     "metadata": {},
     "output_type": "execute_result"
    }
   ],
   "source": [
    "Series(np.random.randn(6), index=rng)"
   ]
  },
  {
   "cell_type": "markdown",
   "metadata": {},
   "source": [
    "If you have an array of strings, you can also appeal to the PeriodIndex class itself:"
   ]
  },
  {
   "cell_type": "code",
   "execution_count": 212,
   "metadata": {
    "collapsed": true
   },
   "outputs": [],
   "source": [
    "values = ['2001Q3', '2002Q2', '2003Q1']"
   ]
  },
  {
   "cell_type": "code",
   "execution_count": 214,
   "metadata": {
    "collapsed": false
   },
   "outputs": [
    {
     "data": {
      "text/plain": [
       "PeriodIndex(['2001Q3', '2002Q2', '2003Q1'], dtype='period[Q-DEC]', freq='Q-DEC')"
      ]
     },
     "execution_count": 214,
     "metadata": {},
     "output_type": "execute_result"
    }
   ],
   "source": [
    "index = pd.PeriodIndex(values, freq = 'Q-DEC')\n",
    "index"
   ]
  },
  {
   "cell_type": "markdown",
   "metadata": {},
   "source": [
    "### Period frequency conversion"
   ]
  },
  {
   "cell_type": "markdown",
   "metadata": {},
   "source": [
    "Periods and PeriodIndex objects can be converted to another frequency using their\n",
    "asfreq method. As an example, suppose we had an annual period and wanted to convert\n",
    "it into a monthly period either at the start or end of the year. This is fairly straightforward:"
   ]
  },
  {
   "cell_type": "code",
   "execution_count": 215,
   "metadata": {
    "collapsed": true
   },
   "outputs": [],
   "source": [
    "p = pd.Period('2007', freq='A-DEC')"
   ]
  },
  {
   "cell_type": "code",
   "execution_count": 216,
   "metadata": {
    "collapsed": false
   },
   "outputs": [
    {
     "data": {
      "text/plain": [
       "Period('2007-01', 'M')"
      ]
     },
     "execution_count": 216,
     "metadata": {},
     "output_type": "execute_result"
    }
   ],
   "source": [
    "p.asfreq('M', how = 'start')"
   ]
  },
  {
   "cell_type": "code",
   "execution_count": 217,
   "metadata": {
    "collapsed": false
   },
   "outputs": [
    {
     "data": {
      "text/plain": [
       "Period('2007-12', 'M')"
      ]
     },
     "execution_count": 217,
     "metadata": {},
     "output_type": "execute_result"
    }
   ],
   "source": [
    "p.asfreq('M', how='end')"
   ]
  },
  {
   "cell_type": "markdown",
   "metadata": {},
   "source": [
    "You can think of Period('2007', 'A-DEC') as being a cursor pointing to a span of time,\n",
    "subdivided by monthly periods. See Figure 10-1 for an illustration of this. For a fiscal\n",
    "year ending on a month other than December, the monthly subperiods belonging are\n",
    "different:"
   ]
  },
  {
   "cell_type": "code",
   "execution_count": 219,
   "metadata": {
    "collapsed": false
   },
   "outputs": [
    {
     "data": {
      "text/plain": [
       "Period('2007', 'A-JUN')"
      ]
     },
     "execution_count": 219,
     "metadata": {},
     "output_type": "execute_result"
    }
   ],
   "source": [
    "p = pd.Period('2007', freq='A-JUN')\n",
    "p"
   ]
  },
  {
   "cell_type": "code",
   "execution_count": 220,
   "metadata": {
    "collapsed": false
   },
   "outputs": [
    {
     "data": {
      "text/plain": [
       "Period('2006-07', 'M')"
      ]
     },
     "execution_count": 220,
     "metadata": {},
     "output_type": "execute_result"
    }
   ],
   "source": [
    "p.asfreq('M', 'start')"
   ]
  },
  {
   "cell_type": "code",
   "execution_count": 221,
   "metadata": {
    "collapsed": false
   },
   "outputs": [
    {
     "data": {
      "text/plain": [
       "Period('2007-06', 'M')"
      ]
     },
     "execution_count": 221,
     "metadata": {},
     "output_type": "execute_result"
    }
   ],
   "source": [
    "p.asfreq('M', 'end')"
   ]
  },
  {
   "cell_type": "markdown",
   "metadata": {},
   "source": [
    "When converting from high to low frequency, the superperiod will be determined depending\n",
    "on where the subperiod “belongs”. For example, in A-JUN frequency, the month\n",
    "Aug-2007 is actually part of the 2008 period:"
   ]
  },
  {
   "cell_type": "code",
   "execution_count": 222,
   "metadata": {
    "collapsed": true
   },
   "outputs": [],
   "source": [
    "p = pd.Period('2007-08', 'M')"
   ]
  },
  {
   "cell_type": "code",
   "execution_count": 223,
   "metadata": {
    "collapsed": false
   },
   "outputs": [
    {
     "data": {
      "text/plain": [
       "Period('2008', 'A-JUN')"
      ]
     },
     "execution_count": 223,
     "metadata": {},
     "output_type": "execute_result"
    }
   ],
   "source": [
    "p.asfreq('A-JUN')"
   ]
  },
  {
   "cell_type": "markdown",
   "metadata": {},
   "source": [
    "Whole PeriodIndex objects or TimeSeries can be similarly converted with the same\n",
    "semantics:"
   ]
  },
  {
   "cell_type": "code",
   "execution_count": 226,
   "metadata": {
    "collapsed": false
   },
   "outputs": [
    {
     "data": {
      "text/plain": [
       "PeriodIndex(['2006', '2007', '2008', '2009'], dtype='period[A-DEC]', freq='A-DEC')"
      ]
     },
     "execution_count": 226,
     "metadata": {},
     "output_type": "execute_result"
    }
   ],
   "source": [
    "rng = pd.period_range('2006', '2009', freq='A-DEC')\n",
    "rng"
   ]
  },
  {
   "cell_type": "code",
   "execution_count": 227,
   "metadata": {
    "collapsed": false
   },
   "outputs": [
    {
     "data": {
      "text/plain": [
       "2006    1.768987\n",
       "2007    1.431497\n",
       "2008   -0.086457\n",
       "2009    1.471002\n",
       "Freq: A-DEC, dtype: float64"
      ]
     },
     "execution_count": 227,
     "metadata": {},
     "output_type": "execute_result"
    }
   ],
   "source": [
    "ts = Series(np.random.randn(len(rng)), index=rng)\n",
    "ts"
   ]
  },
  {
   "cell_type": "code",
   "execution_count": 228,
   "metadata": {
    "collapsed": false
   },
   "outputs": [
    {
     "data": {
      "text/plain": [
       "2006-01    1.768987\n",
       "2007-01    1.431497\n",
       "2008-01   -0.086457\n",
       "2009-01    1.471002\n",
       "Freq: M, dtype: float64"
      ]
     },
     "execution_count": 228,
     "metadata": {},
     "output_type": "execute_result"
    }
   ],
   "source": [
    "ts.asfreq('M', how='start')"
   ]
  },
  {
   "cell_type": "code",
   "execution_count": 229,
   "metadata": {
    "collapsed": false
   },
   "outputs": [
    {
     "data": {
      "text/plain": [
       "2006-12-29    1.768987\n",
       "2007-12-31    1.431497\n",
       "2008-12-31   -0.086457\n",
       "2009-12-31    1.471002\n",
       "Freq: B, dtype: float64"
      ]
     },
     "execution_count": 229,
     "metadata": {},
     "output_type": "execute_result"
    }
   ],
   "source": [
    "ts.asfreq('B', how='end')"
   ]
  },
  {
   "cell_type": "markdown",
   "metadata": {},
   "source": [
    "### Quarterly Period Frequencies"
   ]
  },
  {
   "cell_type": "markdown",
   "metadata": {},
   "source": [
    "Quarterly data is standard in accounting, finance, and other fields. Much quarterly data\n",
    "is reported relative to a fiscal year end, typically the last calendar or business day of one\n",
    "of the 12 months of the year. As such, the period 2012Q4 has a different meaning depending\n",
    "on fiscal year end. pandas supports all 12 possible quarterly frequencies as QJAN\n",
    "through Q-DEC:"
   ]
  },
  {
   "cell_type": "code",
   "execution_count": 230,
   "metadata": {
    "collapsed": true
   },
   "outputs": [],
   "source": [
    "p = pd.Period('2012Q4', freq='Q-JAN')"
   ]
  },
  {
   "cell_type": "code",
   "execution_count": 231,
   "metadata": {
    "collapsed": false
   },
   "outputs": [
    {
     "data": {
      "text/plain": [
       "Period('2012Q4', 'Q-JAN')"
      ]
     },
     "execution_count": 231,
     "metadata": {},
     "output_type": "execute_result"
    }
   ],
   "source": [
    "p"
   ]
  },
  {
   "cell_type": "markdown",
   "metadata": {},
   "source": [
    "In the case of fiscal year ending in January, 2012Q4 runs from November through January,\n",
    "which you can check by converting to daily frequency. See Figure 10-2 for an\n",
    "illustration:"
   ]
  },
  {
   "cell_type": "code",
   "execution_count": 232,
   "metadata": {
    "collapsed": false
   },
   "outputs": [
    {
     "data": {
      "text/plain": [
       "Period('2011-11-01', 'D')"
      ]
     },
     "execution_count": 232,
     "metadata": {},
     "output_type": "execute_result"
    }
   ],
   "source": [
    "p.asfreq('D', 'start')"
   ]
  },
  {
   "cell_type": "code",
   "execution_count": 233,
   "metadata": {
    "collapsed": false
   },
   "outputs": [
    {
     "data": {
      "text/plain": [
       "Period('2012-01-31', 'D')"
      ]
     },
     "execution_count": 233,
     "metadata": {},
     "output_type": "execute_result"
    }
   ],
   "source": [
    "p.asfreq('D', 'end')"
   ]
  },
  {
   "cell_type": "markdown",
   "metadata": {},
   "source": [
    "Thus, it’s possible to do period arithmetic very easily; for example, to get the timestamp\n",
    "at 4PM on the 2nd to last business day of the quarter, you could do:"
   ]
  },
  {
   "cell_type": "code",
   "execution_count": 239,
   "metadata": {
    "collapsed": true
   },
   "outputs": [],
   "source": [
    "# Very useful\n",
    "p4pm = (p.asfreq('B', 'e') - 1).asfreq('T', 's') + 16 * 60"
   ]
  },
  {
   "cell_type": "code",
   "execution_count": 240,
   "metadata": {
    "collapsed": false
   },
   "outputs": [
    {
     "data": {
      "text/plain": [
       "Period('2012-01-30 16:00', 'T')"
      ]
     },
     "execution_count": 240,
     "metadata": {},
     "output_type": "execute_result"
    }
   ],
   "source": [
    "p4pm"
   ]
  },
  {
   "cell_type": "code",
   "execution_count": 236,
   "metadata": {
    "collapsed": false
   },
   "outputs": [
    {
     "data": {
      "text/plain": [
       "Timestamp('2012-01-30 16:00:00')"
      ]
     },
     "execution_count": 236,
     "metadata": {},
     "output_type": "execute_result"
    }
   ],
   "source": [
    "p4pm.to_timestamp()"
   ]
  },
  {
   "cell_type": "markdown",
   "metadata": {},
   "source": [
    "Generating quarterly ranges works as you would expect using period_range. Arithmetic\n",
    "is identical, too:"
   ]
  },
  {
   "cell_type": "code",
   "execution_count": 241,
   "metadata": {
    "collapsed": true
   },
   "outputs": [],
   "source": [
    "rng = pd.period_range('2011Q3', '2012Q4', freq='Q-JAN')"
   ]
  },
  {
   "cell_type": "code",
   "execution_count": 243,
   "metadata": {
    "collapsed": true
   },
   "outputs": [],
   "source": [
    "ts = Series(np.arange(len(rng)), index=rng)"
   ]
  },
  {
   "cell_type": "code",
   "execution_count": 244,
   "metadata": {
    "collapsed": false
   },
   "outputs": [
    {
     "data": {
      "text/plain": [
       "2011Q3    0\n",
       "2011Q4    1\n",
       "2012Q1    2\n",
       "2012Q2    3\n",
       "2012Q3    4\n",
       "2012Q4    5\n",
       "Freq: Q-JAN, dtype: int32"
      ]
     },
     "execution_count": 244,
     "metadata": {},
     "output_type": "execute_result"
    }
   ],
   "source": [
    "ts"
   ]
  },
  {
   "cell_type": "code",
   "execution_count": 248,
   "metadata": {
    "collapsed": false
   },
   "outputs": [
    {
     "data": {
      "text/plain": [
       "PeriodIndex(['2010-10-28 16:00', '2011-01-28 16:00', '2011-04-28 16:00',\n",
       "             '2011-07-28 16:00', '2011-10-28 16:00', '2012-01-30 16:00'],\n",
       "            dtype='period[T]', freq='T')"
      ]
     },
     "execution_count": 248,
     "metadata": {},
     "output_type": "execute_result"
    }
   ],
   "source": [
    "new_rng = (rng.asfreq('B', 'e') - 1).asfreq('T', 's') + 16 * 60\n",
    "new_rng"
   ]
  },
  {
   "cell_type": "code",
   "execution_count": 249,
   "metadata": {
    "collapsed": false
   },
   "outputs": [
    {
     "data": {
      "text/plain": [
       "DatetimeIndex(['2010-10-28 16:00:00', '2011-01-28 16:00:00',\n",
       "               '2011-04-28 16:00:00', '2011-07-28 16:00:00',\n",
       "               '2011-10-28 16:00:00', '2012-01-30 16:00:00'],\n",
       "              dtype='datetime64[ns]', freq=None)"
      ]
     },
     "execution_count": 249,
     "metadata": {},
     "output_type": "execute_result"
    }
   ],
   "source": [
    "ts.index = new_rng.to_timestamp()\n",
    "ts.index"
   ]
  },
  {
   "cell_type": "code",
   "execution_count": 247,
   "metadata": {
    "collapsed": false
   },
   "outputs": [
    {
     "data": {
      "text/plain": [
       "2010-10-28 16:00:00    0\n",
       "2011-01-28 16:00:00    1\n",
       "2011-04-28 16:00:00    2\n",
       "2011-07-28 16:00:00    3\n",
       "2011-10-28 16:00:00    4\n",
       "2012-01-30 16:00:00    5\n",
       "dtype: int32"
      ]
     },
     "execution_count": 247,
     "metadata": {},
     "output_type": "execute_result"
    }
   ],
   "source": [
    "ts"
   ]
  },
  {
   "cell_type": "markdown",
   "metadata": {},
   "source": [
    "### Converting Timestamps to periods (and Back)"
   ]
  },
  {
   "cell_type": "markdown",
   "metadata": {},
   "source": [
    "Series and DataFrame objects indexed by timestamps can be converted to periods using\n",
    "the to_period method:"
   ]
  },
  {
   "cell_type": "code",
   "execution_count": 258,
   "metadata": {
    "collapsed": false
   },
   "outputs": [
    {
     "data": {
      "text/plain": [
       "DatetimeIndex(['2000-01-31', '2000-02-29', '2000-03-31'], dtype='datetime64[ns]', freq='M')"
      ]
     },
     "execution_count": 258,
     "metadata": {},
     "output_type": "execute_result"
    }
   ],
   "source": [
    "rng = pd.date_range('1/1/2000', periods=3, freq='M')\n",
    "rng"
   ]
  },
  {
   "cell_type": "code",
   "execution_count": 259,
   "metadata": {
    "collapsed": false
   },
   "outputs": [
    {
     "data": {
      "text/plain": [
       "2000-01-31   -1.198998\n",
       "2000-02-29   -1.617821\n",
       "2000-03-31   -0.627809\n",
       "Freq: M, dtype: float64"
      ]
     },
     "execution_count": 259,
     "metadata": {},
     "output_type": "execute_result"
    }
   ],
   "source": [
    "ts = Series(np.random.randn(3), index=rng)\n",
    "ts"
   ]
  },
  {
   "cell_type": "code",
   "execution_count": 260,
   "metadata": {
    "collapsed": true
   },
   "outputs": [],
   "source": [
    "pts = ts.to_period()"
   ]
  },
  {
   "cell_type": "code",
   "execution_count": 261,
   "metadata": {
    "collapsed": false
   },
   "outputs": [
    {
     "data": {
      "text/plain": [
       "2000-01   -1.198998\n",
       "2000-02   -1.617821\n",
       "2000-03   -0.627809\n",
       "Freq: M, dtype: float64"
      ]
     },
     "execution_count": 261,
     "metadata": {},
     "output_type": "execute_result"
    }
   ],
   "source": [
    "pts"
   ]
  },
  {
   "cell_type": "markdown",
   "metadata": {},
   "source": [
    "Since periods always refer to non-overlapping timespans, a timestamp can only belong\n",
    "to a single period for a given frequency. While the frequency of the new PeriodIndex is\n",
    "inferred from the timestamps by default, you can specify any frequency you want. There\n",
    "is also no problem with having duplicate periods in the result:"
   ]
  },
  {
   "cell_type": "code",
   "execution_count": 266,
   "metadata": {
    "collapsed": false
   },
   "outputs": [
    {
     "data": {
      "text/plain": [
       "DatetimeIndex(['2000-01-29', '2000-01-30', '2000-01-31', '2000-02-01',\n",
       "               '2000-02-02', '2000-02-03'],\n",
       "              dtype='datetime64[ns]', freq='D')"
      ]
     },
     "execution_count": 266,
     "metadata": {},
     "output_type": "execute_result"
    }
   ],
   "source": [
    "rng = pd.date_range('1/29/2000', periods=6, freq='D')\n",
    "rng"
   ]
  },
  {
   "cell_type": "code",
   "execution_count": 265,
   "metadata": {
    "collapsed": false
   },
   "outputs": [
    {
     "data": {
      "text/plain": [
       "2000-01-29   -1.090377\n",
       "2000-01-30   -0.314862\n",
       "2000-01-31   -1.963381\n",
       "2000-02-01    0.933420\n",
       "2000-02-02    0.253550\n",
       "2000-02-03   -1.650299\n",
       "Freq: D, dtype: float64"
      ]
     },
     "execution_count": 265,
     "metadata": {},
     "output_type": "execute_result"
    }
   ],
   "source": [
    "ts2 = Series(np.random.randn(6), index=rng)\n",
    "ts2"
   ]
  },
  {
   "cell_type": "markdown",
   "metadata": {},
   "source": [
    "To convert back to timestamps, use to_timestamp:"
   ]
  },
  {
   "cell_type": "code",
   "execution_count": 268,
   "metadata": {
    "collapsed": false
   },
   "outputs": [
    {
     "data": {
      "text/plain": [
       "2000-01   -1.198998\n",
       "2000-02   -1.617821\n",
       "2000-03   -0.627809\n",
       "Freq: M, dtype: float64"
      ]
     },
     "execution_count": 268,
     "metadata": {},
     "output_type": "execute_result"
    }
   ],
   "source": [
    "pts = ts.to_period()\n",
    "pts"
   ]
  },
  {
   "cell_type": "code",
   "execution_count": 269,
   "metadata": {
    "collapsed": false
   },
   "outputs": [
    {
     "data": {
      "text/plain": [
       "2000-01-31   -1.198998\n",
       "2000-02-29   -1.617821\n",
       "2000-03-31   -0.627809\n",
       "Freq: M, dtype: float64"
      ]
     },
     "execution_count": 269,
     "metadata": {},
     "output_type": "execute_result"
    }
   ],
   "source": [
    "pts.to_timestamp(how='end')"
   ]
  },
  {
   "cell_type": "markdown",
   "metadata": {},
   "source": [
    "### Creating a PeriodIndex from Arrays"
   ]
  },
  {
   "cell_type": "markdown",
   "metadata": {},
   "source": [
    "Fixed frequency data sets are sometimes stored with timespan information spread\n",
    "across multiple columns. For example, in this macroeconomic data set, the year and\n",
    "quarter are in different columns:"
   ]
  },
  {
   "cell_type": "code",
   "execution_count": 271,
   "metadata": {
    "collapsed": true
   },
   "outputs": [],
   "source": [
    "data = pd.read_csv('macrodata.csv')"
   ]
  },
  {
   "cell_type": "code",
   "execution_count": 273,
   "metadata": {
    "collapsed": false
   },
   "outputs": [
    {
     "data": {
      "text/html": [
       "<div>\n",
       "<table border=\"1\" class=\"dataframe\">\n",
       "  <thead>\n",
       "    <tr style=\"text-align: right;\">\n",
       "      <th></th>\n",
       "      <th>year</th>\n",
       "      <th>quarter</th>\n",
       "      <th>realgdp</th>\n",
       "      <th>realcons</th>\n",
       "      <th>realinv</th>\n",
       "      <th>realgovt</th>\n",
       "      <th>realdpi</th>\n",
       "      <th>cpi</th>\n",
       "      <th>m1</th>\n",
       "      <th>tbilrate</th>\n",
       "      <th>unemp</th>\n",
       "      <th>pop</th>\n",
       "      <th>infl</th>\n",
       "      <th>realint</th>\n",
       "    </tr>\n",
       "  </thead>\n",
       "  <tbody>\n",
       "    <tr>\n",
       "      <th>0</th>\n",
       "      <td>1959.0</td>\n",
       "      <td>1.0</td>\n",
       "      <td>2710.349</td>\n",
       "      <td>1707.4</td>\n",
       "      <td>286.898</td>\n",
       "      <td>470.045</td>\n",
       "      <td>1886.9</td>\n",
       "      <td>28.98</td>\n",
       "      <td>139.7</td>\n",
       "      <td>2.82</td>\n",
       "      <td>5.8</td>\n",
       "      <td>177.146</td>\n",
       "      <td>0.00</td>\n",
       "      <td>0.00</td>\n",
       "    </tr>\n",
       "    <tr>\n",
       "      <th>1</th>\n",
       "      <td>1959.0</td>\n",
       "      <td>2.0</td>\n",
       "      <td>2778.801</td>\n",
       "      <td>1733.7</td>\n",
       "      <td>310.859</td>\n",
       "      <td>481.301</td>\n",
       "      <td>1919.7</td>\n",
       "      <td>29.15</td>\n",
       "      <td>141.7</td>\n",
       "      <td>3.08</td>\n",
       "      <td>5.1</td>\n",
       "      <td>177.830</td>\n",
       "      <td>2.34</td>\n",
       "      <td>0.74</td>\n",
       "    </tr>\n",
       "    <tr>\n",
       "      <th>2</th>\n",
       "      <td>1959.0</td>\n",
       "      <td>3.0</td>\n",
       "      <td>2775.488</td>\n",
       "      <td>1751.8</td>\n",
       "      <td>289.226</td>\n",
       "      <td>491.260</td>\n",
       "      <td>1916.4</td>\n",
       "      <td>29.35</td>\n",
       "      <td>140.5</td>\n",
       "      <td>3.82</td>\n",
       "      <td>5.3</td>\n",
       "      <td>178.657</td>\n",
       "      <td>2.74</td>\n",
       "      <td>1.09</td>\n",
       "    </tr>\n",
       "    <tr>\n",
       "      <th>3</th>\n",
       "      <td>1959.0</td>\n",
       "      <td>4.0</td>\n",
       "      <td>2785.204</td>\n",
       "      <td>1753.7</td>\n",
       "      <td>299.356</td>\n",
       "      <td>484.052</td>\n",
       "      <td>1931.3</td>\n",
       "      <td>29.37</td>\n",
       "      <td>140.0</td>\n",
       "      <td>4.33</td>\n",
       "      <td>5.6</td>\n",
       "      <td>179.386</td>\n",
       "      <td>0.27</td>\n",
       "      <td>4.06</td>\n",
       "    </tr>\n",
       "    <tr>\n",
       "      <th>4</th>\n",
       "      <td>1960.0</td>\n",
       "      <td>1.0</td>\n",
       "      <td>2847.699</td>\n",
       "      <td>1770.5</td>\n",
       "      <td>331.722</td>\n",
       "      <td>462.199</td>\n",
       "      <td>1955.5</td>\n",
       "      <td>29.54</td>\n",
       "      <td>139.6</td>\n",
       "      <td>3.50</td>\n",
       "      <td>5.2</td>\n",
       "      <td>180.007</td>\n",
       "      <td>2.31</td>\n",
       "      <td>1.19</td>\n",
       "    </tr>\n",
       "    <tr>\n",
       "      <th>5</th>\n",
       "      <td>1960.0</td>\n",
       "      <td>2.0</td>\n",
       "      <td>2834.390</td>\n",
       "      <td>1792.9</td>\n",
       "      <td>298.152</td>\n",
       "      <td>460.400</td>\n",
       "      <td>1966.1</td>\n",
       "      <td>29.55</td>\n",
       "      <td>140.2</td>\n",
       "      <td>2.68</td>\n",
       "      <td>5.2</td>\n",
       "      <td>180.671</td>\n",
       "      <td>0.14</td>\n",
       "      <td>2.55</td>\n",
       "    </tr>\n",
       "    <tr>\n",
       "      <th>6</th>\n",
       "      <td>1960.0</td>\n",
       "      <td>3.0</td>\n",
       "      <td>2839.022</td>\n",
       "      <td>1785.8</td>\n",
       "      <td>296.375</td>\n",
       "      <td>474.676</td>\n",
       "      <td>1967.8</td>\n",
       "      <td>29.75</td>\n",
       "      <td>140.9</td>\n",
       "      <td>2.36</td>\n",
       "      <td>5.6</td>\n",
       "      <td>181.528</td>\n",
       "      <td>2.70</td>\n",
       "      <td>-0.34</td>\n",
       "    </tr>\n",
       "    <tr>\n",
       "      <th>7</th>\n",
       "      <td>1960.0</td>\n",
       "      <td>4.0</td>\n",
       "      <td>2802.616</td>\n",
       "      <td>1788.2</td>\n",
       "      <td>259.764</td>\n",
       "      <td>476.434</td>\n",
       "      <td>1966.6</td>\n",
       "      <td>29.84</td>\n",
       "      <td>141.1</td>\n",
       "      <td>2.29</td>\n",
       "      <td>6.3</td>\n",
       "      <td>182.287</td>\n",
       "      <td>1.21</td>\n",
       "      <td>1.08</td>\n",
       "    </tr>\n",
       "    <tr>\n",
       "      <th>8</th>\n",
       "      <td>1961.0</td>\n",
       "      <td>1.0</td>\n",
       "      <td>2819.264</td>\n",
       "      <td>1787.7</td>\n",
       "      <td>266.405</td>\n",
       "      <td>475.854</td>\n",
       "      <td>1984.5</td>\n",
       "      <td>29.81</td>\n",
       "      <td>142.1</td>\n",
       "      <td>2.37</td>\n",
       "      <td>6.8</td>\n",
       "      <td>182.992</td>\n",
       "      <td>-0.40</td>\n",
       "      <td>2.77</td>\n",
       "    </tr>\n",
       "    <tr>\n",
       "      <th>9</th>\n",
       "      <td>1961.0</td>\n",
       "      <td>2.0</td>\n",
       "      <td>2872.005</td>\n",
       "      <td>1814.3</td>\n",
       "      <td>286.246</td>\n",
       "      <td>480.328</td>\n",
       "      <td>2014.4</td>\n",
       "      <td>29.92</td>\n",
       "      <td>142.9</td>\n",
       "      <td>2.29</td>\n",
       "      <td>7.0</td>\n",
       "      <td>183.691</td>\n",
       "      <td>1.47</td>\n",
       "      <td>0.81</td>\n",
       "    </tr>\n",
       "  </tbody>\n",
       "</table>\n",
       "</div>"
      ],
      "text/plain": [
       "     year  quarter   realgdp  realcons  realinv  realgovt  realdpi    cpi  \\\n",
       "0  1959.0      1.0  2710.349    1707.4  286.898   470.045   1886.9  28.98   \n",
       "1  1959.0      2.0  2778.801    1733.7  310.859   481.301   1919.7  29.15   \n",
       "2  1959.0      3.0  2775.488    1751.8  289.226   491.260   1916.4  29.35   \n",
       "3  1959.0      4.0  2785.204    1753.7  299.356   484.052   1931.3  29.37   \n",
       "4  1960.0      1.0  2847.699    1770.5  331.722   462.199   1955.5  29.54   \n",
       "5  1960.0      2.0  2834.390    1792.9  298.152   460.400   1966.1  29.55   \n",
       "6  1960.0      3.0  2839.022    1785.8  296.375   474.676   1967.8  29.75   \n",
       "7  1960.0      4.0  2802.616    1788.2  259.764   476.434   1966.6  29.84   \n",
       "8  1961.0      1.0  2819.264    1787.7  266.405   475.854   1984.5  29.81   \n",
       "9  1961.0      2.0  2872.005    1814.3  286.246   480.328   2014.4  29.92   \n",
       "\n",
       "      m1  tbilrate  unemp      pop  infl  realint  \n",
       "0  139.7      2.82    5.8  177.146  0.00     0.00  \n",
       "1  141.7      3.08    5.1  177.830  2.34     0.74  \n",
       "2  140.5      3.82    5.3  178.657  2.74     1.09  \n",
       "3  140.0      4.33    5.6  179.386  0.27     4.06  \n",
       "4  139.6      3.50    5.2  180.007  2.31     1.19  \n",
       "5  140.2      2.68    5.2  180.671  0.14     2.55  \n",
       "6  140.9      2.36    5.6  181.528  2.70    -0.34  \n",
       "7  141.1      2.29    6.3  182.287  1.21     1.08  \n",
       "8  142.1      2.37    6.8  182.992 -0.40     2.77  \n",
       "9  142.9      2.29    7.0  183.691  1.47     0.81  "
      ]
     },
     "execution_count": 273,
     "metadata": {},
     "output_type": "execute_result"
    }
   ],
   "source": [
    "data.head(10)"
   ]
  },
  {
   "cell_type": "markdown",
   "metadata": {},
   "source": [
    "By passing these arrays to PeriodIndex with a frequency, they can be combined to form\n",
    "an index for the DataFrame:"
   ]
  },
  {
   "cell_type": "code",
   "execution_count": 274,
   "metadata": {
    "collapsed": true
   },
   "outputs": [],
   "source": [
    "index = pd.PeriodIndex(year=data.year, quarter=data.quarter, freq='Q-DEC')"
   ]
  },
  {
   "cell_type": "code",
   "execution_count": 275,
   "metadata": {
    "collapsed": false
   },
   "outputs": [
    {
     "data": {
      "text/plain": [
       "PeriodIndex(['1959Q1', '1959Q2', '1959Q3', '1959Q4', '1960Q1', '1960Q2',\n",
       "             '1960Q3', '1960Q4', '1961Q1', '1961Q2',\n",
       "             ...\n",
       "             '2007Q2', '2007Q3', '2007Q4', '2008Q1', '2008Q2', '2008Q3',\n",
       "             '2008Q4', '2009Q1', '2009Q2', '2009Q3'],\n",
       "            dtype='period[Q-DEC]', length=203, freq='Q-DEC')"
      ]
     },
     "execution_count": 275,
     "metadata": {},
     "output_type": "execute_result"
    }
   ],
   "source": [
    "index"
   ]
  },
  {
   "cell_type": "code",
   "execution_count": 276,
   "metadata": {
    "collapsed": true
   },
   "outputs": [],
   "source": [
    "data.index = index"
   ]
  },
  {
   "cell_type": "code",
   "execution_count": 277,
   "metadata": {
    "collapsed": true
   },
   "outputs": [
    {
     "data": {
      "text/plain": [
       "1959Q1    0.00\n",
       "1959Q2    2.34\n",
       "1959Q3    2.74\n",
       "1959Q4    0.27\n",
       "1960Q1    2.31\n",
       "1960Q2    0.14\n",
       "1960Q3    2.70\n",
       "1960Q4    1.21\n",
       "1961Q1   -0.40\n",
       "1961Q2    1.47\n",
       "1961Q3    0.80\n",
       "1961Q4    0.80\n",
       "1962Q1    2.26\n",
       "1962Q2    0.13\n",
       "1962Q3    2.11\n",
       "1962Q4    0.79\n",
       "1963Q1    0.53\n",
       "1963Q2    2.75\n",
       "1963Q3    0.78\n",
       "1963Q4    2.46\n",
       "1964Q1    0.13\n",
       "1964Q2    0.90\n",
       "1964Q3    1.29\n",
       "1964Q4    2.05\n",
       "1965Q1    1.28\n",
       "1965Q2    2.54\n",
       "1965Q3    0.89\n",
       "1965Q4    2.90\n",
       "1966Q1    4.99\n",
       "1966Q2    2.10\n",
       "          ... \n",
       "2002Q2    1.56\n",
       "2002Q3    2.66\n",
       "2002Q4    3.08\n",
       "2003Q1    1.31\n",
       "2003Q2    1.09\n",
       "2003Q3    2.60\n",
       "2003Q4    3.02\n",
       "2004Q1    2.35\n",
       "2004Q2    3.61\n",
       "2004Q3    3.58\n",
       "2004Q4    2.09\n",
       "2005Q1    4.15\n",
       "2005Q2    1.85\n",
       "2005Q3    9.14\n",
       "2005Q4    0.40\n",
       "2006Q1    2.60\n",
       "2006Q2    3.97\n",
       "2006Q3   -1.58\n",
       "2006Q4    3.30\n",
       "2007Q1    4.58\n",
       "2007Q2    2.75\n",
       "2007Q3    3.45\n",
       "2007Q4    6.38\n",
       "2008Q1    2.82\n",
       "2008Q2    8.53\n",
       "2008Q3   -3.16\n",
       "2008Q4   -8.79\n",
       "2009Q1    0.94\n",
       "2009Q2    3.37\n",
       "2009Q3    3.56\n",
       "Freq: Q-DEC, Name: infl, dtype: float64"
      ]
     },
     "execution_count": 277,
     "metadata": {},
     "output_type": "execute_result"
    }
   ],
   "source": [
    "data.infl"
   ]
  },
  {
   "cell_type": "code",
   "execution_count": 278,
   "metadata": {
    "collapsed": true
   },
   "outputs": [
    {
     "data": {
      "text/plain": [
       "1959Q1    0.00\n",
       "1959Q2    2.34\n",
       "1959Q3    2.74\n",
       "1959Q4    0.27\n",
       "1960Q1    2.31\n",
       "1960Q2    0.14\n",
       "1960Q3    2.70\n",
       "1960Q4    1.21\n",
       "1961Q1   -0.40\n",
       "1961Q2    1.47\n",
       "1961Q3    0.80\n",
       "1961Q4    0.80\n",
       "1962Q1    2.26\n",
       "1962Q2    0.13\n",
       "1962Q3    2.11\n",
       "1962Q4    0.79\n",
       "1963Q1    0.53\n",
       "1963Q2    2.75\n",
       "1963Q3    0.78\n",
       "1963Q4    2.46\n",
       "1964Q1    0.13\n",
       "1964Q2    0.90\n",
       "1964Q3    1.29\n",
       "1964Q4    2.05\n",
       "1965Q1    1.28\n",
       "1965Q2    2.54\n",
       "1965Q3    0.89\n",
       "1965Q4    2.90\n",
       "1966Q1    4.99\n",
       "1966Q2    2.10\n",
       "          ... \n",
       "2002Q2    1.56\n",
       "2002Q3    2.66\n",
       "2002Q4    3.08\n",
       "2003Q1    1.31\n",
       "2003Q2    1.09\n",
       "2003Q3    2.60\n",
       "2003Q4    3.02\n",
       "2004Q1    2.35\n",
       "2004Q2    3.61\n",
       "2004Q3    3.58\n",
       "2004Q4    2.09\n",
       "2005Q1    4.15\n",
       "2005Q2    1.85\n",
       "2005Q3    9.14\n",
       "2005Q4    0.40\n",
       "2006Q1    2.60\n",
       "2006Q2    3.97\n",
       "2006Q3   -1.58\n",
       "2006Q4    3.30\n",
       "2007Q1    4.58\n",
       "2007Q2    2.75\n",
       "2007Q3    3.45\n",
       "2007Q4    6.38\n",
       "2008Q1    2.82\n",
       "2008Q2    8.53\n",
       "2008Q3   -3.16\n",
       "2008Q4   -8.79\n",
       "2009Q1    0.94\n",
       "2009Q2    3.37\n",
       "2009Q3    3.56\n",
       "Freq: Q-DEC, Name: infl, dtype: float64"
      ]
     },
     "execution_count": 278,
     "metadata": {},
     "output_type": "execute_result"
    }
   ],
   "source": [
    "# Same as above\n",
    "data['infl']"
   ]
  },
  {
   "cell_type": "markdown",
   "metadata": {},
   "source": [
    "## Resampling and Frequency Coversion"
   ]
  },
  {
   "cell_type": "markdown",
   "metadata": {},
   "source": [
    "Resampling refers to the process of converting a time series from one frequency to\n",
    "another. Aggregating higher frequency data to lower frequency is called downsampling,\n",
    "while converting lower frequency to higher frequency is called upsampling. Not all resampling falls into either of these categories; for example, converting W-WED (weekly\n",
    "on Wednesday) to W-FRI is neither upsampling nor downstampling.\n",
    "\n",
    "pandas objects are equipped with a resample method, which is the workhorse function\n",
    "for all frequency conversion:"
   ]
  },
  {
   "cell_type": "code",
   "execution_count": 283,
   "metadata": {
    "collapsed": true
   },
   "outputs": [
    {
     "data": {
      "text/plain": [
       "DatetimeIndex(['2000-01-01', '2000-01-02', '2000-01-03', '2000-01-04',\n",
       "               '2000-01-05', '2000-01-06', '2000-01-07', '2000-01-08',\n",
       "               '2000-01-09', '2000-01-10', '2000-01-11', '2000-01-12',\n",
       "               '2000-01-13', '2000-01-14', '2000-01-15', '2000-01-16',\n",
       "               '2000-01-17', '2000-01-18', '2000-01-19', '2000-01-20',\n",
       "               '2000-01-21', '2000-01-22', '2000-01-23', '2000-01-24',\n",
       "               '2000-01-25', '2000-01-26', '2000-01-27', '2000-01-28',\n",
       "               '2000-01-29', '2000-01-30', '2000-01-31', '2000-02-01',\n",
       "               '2000-02-02', '2000-02-03', '2000-02-04', '2000-02-05',\n",
       "               '2000-02-06', '2000-02-07', '2000-02-08', '2000-02-09',\n",
       "               '2000-02-10', '2000-02-11', '2000-02-12', '2000-02-13',\n",
       "               '2000-02-14', '2000-02-15', '2000-02-16', '2000-02-17',\n",
       "               '2000-02-18', '2000-02-19', '2000-02-20', '2000-02-21',\n",
       "               '2000-02-22', '2000-02-23', '2000-02-24', '2000-02-25',\n",
       "               '2000-02-26', '2000-02-27', '2000-02-28', '2000-02-29',\n",
       "               '2000-03-01', '2000-03-02', '2000-03-03', '2000-03-04',\n",
       "               '2000-03-05', '2000-03-06', '2000-03-07', '2000-03-08',\n",
       "               '2000-03-09', '2000-03-10', '2000-03-11', '2000-03-12',\n",
       "               '2000-03-13', '2000-03-14', '2000-03-15', '2000-03-16',\n",
       "               '2000-03-17', '2000-03-18', '2000-03-19', '2000-03-20',\n",
       "               '2000-03-21', '2000-03-22', '2000-03-23', '2000-03-24',\n",
       "               '2000-03-25', '2000-03-26', '2000-03-27', '2000-03-28',\n",
       "               '2000-03-29', '2000-03-30', '2000-03-31', '2000-04-01',\n",
       "               '2000-04-02', '2000-04-03', '2000-04-04', '2000-04-05',\n",
       "               '2000-04-06', '2000-04-07', '2000-04-08', '2000-04-09'],\n",
       "              dtype='datetime64[ns]', freq='D')"
      ]
     },
     "execution_count": 283,
     "metadata": {},
     "output_type": "execute_result"
    }
   ],
   "source": [
    "rng = pd.date_range('1/1/2000', periods=100, freq='D')\n",
    "rng"
   ]
  },
  {
   "cell_type": "code",
   "execution_count": 284,
   "metadata": {
    "collapsed": true
   },
   "outputs": [
    {
     "data": {
      "text/plain": [
       "2000-01-01   -0.677852\n",
       "2000-01-02   -0.691674\n",
       "2000-01-03    0.047044\n",
       "2000-01-04    0.988639\n",
       "2000-01-05   -0.013338\n",
       "2000-01-06    0.070896\n",
       "2000-01-07   -0.057103\n",
       "2000-01-08    0.035795\n",
       "2000-01-09    0.494264\n",
       "2000-01-10   -2.347026\n",
       "2000-01-11   -1.057712\n",
       "2000-01-12   -0.949716\n",
       "2000-01-13    0.492647\n",
       "2000-01-14    1.028945\n",
       "2000-01-15    0.223012\n",
       "2000-01-16    1.576183\n",
       "2000-01-17   -0.450411\n",
       "2000-01-18   -1.336055\n",
       "2000-01-19   -0.286218\n",
       "2000-01-20   -0.564066\n",
       "2000-01-21   -0.563822\n",
       "2000-01-22   -1.197078\n",
       "2000-01-23    0.793143\n",
       "2000-01-24    1.199039\n",
       "2000-01-25   -0.912300\n",
       "2000-01-26    1.272716\n",
       "2000-01-27   -1.100312\n",
       "2000-01-28    0.065878\n",
       "2000-01-29    1.242350\n",
       "2000-01-30    0.080729\n",
       "                ...   \n",
       "2000-03-11    0.632884\n",
       "2000-03-12    1.295608\n",
       "2000-03-13    1.204399\n",
       "2000-03-14   -0.924934\n",
       "2000-03-15    0.669079\n",
       "2000-03-16   -0.850812\n",
       "2000-03-17    0.725074\n",
       "2000-03-18   -0.367640\n",
       "2000-03-19   -0.550043\n",
       "2000-03-20   -0.784099\n",
       "2000-03-21    0.185555\n",
       "2000-03-22   -0.535758\n",
       "2000-03-23    0.786028\n",
       "2000-03-24    1.724054\n",
       "2000-03-25   -0.422506\n",
       "2000-03-26   -0.065468\n",
       "2000-03-27    0.996376\n",
       "2000-03-28   -0.558858\n",
       "2000-03-29   -0.707576\n",
       "2000-03-30   -0.772516\n",
       "2000-03-31    0.717949\n",
       "2000-04-01   -0.014792\n",
       "2000-04-02   -0.907209\n",
       "2000-04-03   -1.092912\n",
       "2000-04-04    0.272478\n",
       "2000-04-05   -0.234741\n",
       "2000-04-06    1.959486\n",
       "2000-04-07    0.037649\n",
       "2000-04-08    0.511420\n",
       "2000-04-09   -0.078009\n",
       "Freq: D, dtype: float64"
      ]
     },
     "execution_count": 284,
     "metadata": {},
     "output_type": "execute_result"
    }
   ],
   "source": [
    "ts = Series(np.random.randn(len(rng)), index=rng)\n",
    "ts"
   ]
  },
  {
   "cell_type": "code",
   "execution_count": 282,
   "metadata": {
    "collapsed": false
   },
   "outputs": [
    {
     "name": "stderr",
     "output_type": "stream",
     "text": [
      "C:\\Users\\Brad Sun\\Anaconda3\\lib\\site-packages\\ipykernel\\__main__.py:1: FutureWarning: how in .resample() is deprecated\n",
      "the new syntax is .resample(...).mean()\n",
      "  if __name__ == '__main__':\n"
     ]
    },
    {
     "data": {
      "text/plain": [
       "2000-01-31   -0.111619\n",
       "2000-02-29    0.166287\n",
       "2000-03-31   -0.041846\n",
       "2000-04-30    0.006183\n",
       "Freq: M, dtype: float64"
      ]
     },
     "execution_count": 282,
     "metadata": {},
     "output_type": "execute_result"
    }
   ],
   "source": [
    "ts.resample('M', how = 'mean')"
   ]
  },
  {
   "cell_type": "code",
   "execution_count": 285,
   "metadata": {
    "collapsed": false
   },
   "outputs": [
    {
     "name": "stderr",
     "output_type": "stream",
     "text": [
      "C:\\Users\\Brad Sun\\Anaconda3\\lib\\site-packages\\ipykernel\\__main__.py:1: FutureWarning: how in .resample() is deprecated\n",
      "the new syntax is .resample(...).mean()\n",
      "  if __name__ == '__main__':\n"
     ]
    },
    {
     "data": {
      "text/plain": [
       "2000-01   -0.047543\n",
       "2000-02    0.024517\n",
       "2000-03    0.103100\n",
       "2000-04    0.050374\n",
       "Freq: M, dtype: float64"
      ]
     },
     "execution_count": 285,
     "metadata": {},
     "output_type": "execute_result"
    }
   ],
   "source": [
    "# kind = \"period\" seems to indicate that the dates generated here only fall into months instead of showing days like above. \n",
    "ts.resample('M', how='mean', kind='period')"
   ]
  },
  {
   "cell_type": "markdown",
   "metadata": {},
   "source": [
    "resample is a flexible and high-performance method that can be used to process very\n",
    "large time series. I’ll illustrate its semantics and use through a series of examples."
   ]
  },
  {
   "cell_type": "markdown",
   "metadata": {},
   "source": [
    "Table 10-5. Resample method arguments"
   ]
  },
  {
   "cell_type": "markdown",
   "metadata": {},
   "source": [
    "Argument Description\n",
    "\n",
    "freq String or DateOffset indicating desired resampled frequency, e.g. ‘M', ’5min', or Sec\n",
    "ond(15)\n",
    "\n",
    "how='mean' Function name or array function producing aggregated value, for example 'mean',\n",
    "'ohlc', np.max. Defaults to 'mean'. Other common values: 'first', 'last',\n",
    "'median', 'ohlc', 'max', 'min'.\n",
    "\n",
    "axis=0 Axis to resample on, default axis=0\n",
    "\n",
    "fill_method=None How to interpolate when upsampling, as in 'ffill' or 'bfill'. By default does no\n",
    "interpolation.\n",
    "\n",
    "closed='right' In downsampling, which end of each interval is closed (inclusive), 'right' or\n",
    "'left'. Defaults to 'right'\n",
    "\n",
    "label='right' In downsampling, how to label the aggregated result, with the 'right' or 'left'\n",
    "bin edge. For example, the 9:30 to 9:35 5-minute interval could be labeled 9:30 or\n",
    "9:35. Defaults to 'right' (or 9:35, in this example).\n",
    "\n",
    "loffset=None Time adjustment to the bin labels, such as '-1s' / Second(-1) to shift the aggregate\n",
    "labels one second earlier\n",
    "\n",
    "limit=None When forward or backward filling, the maximum number of periods to fill\n",
    "\n",
    "kind=None Aggregate to periods ('period') or timestamps ('timestamp'); defaults to kind of\n",
    "index the time series has\n",
    "\n",
    "convention=None When resampling periods, the convention ('start' or 'end') for converting the low\n",
    "frequency period to high frequency. Defaults to 'end'"
   ]
  },
  {
   "cell_type": "markdown",
   "metadata": {},
   "source": [
    "### Downsampling"
   ]
  },
  {
   "cell_type": "markdown",
   "metadata": {},
   "source": [
    "Aggregating data to a regular, lower frequency is a pretty normal time series task. The\n",
    "data you’re aggregating doesn’t need to be fixed frequently; the desired frequency defines\n",
    "bin edges that are used to slice the time series into pieces to aggregate. For example,\n",
    "to convert to monthly, 'M' or 'BM', the data need to be chopped up into one month\n",
    "intervals. Each interval is said to be half-open; a data point can only belong to one\n",
    "interval, and the union of the intervals must make up the whole time frame. There are\n",
    "a couple things to think about when using resample to downsample data:"
   ]
  },
  {
   "cell_type": "markdown",
   "metadata": {},
   "source": [
    "• Which side of each interval is closed\n",
    "\n",
    "• How to label each aggregated bin, either with the start of the interval or the end"
   ]
  },
  {
   "cell_type": "markdown",
   "metadata": {},
   "source": [
    "To illustrate, let’s look at some one-minute data:"
   ]
  },
  {
   "cell_type": "code",
   "execution_count": 340,
   "metadata": {
    "collapsed": false
   },
   "outputs": [
    {
     "data": {
      "text/plain": [
       "DatetimeIndex(['2000-01-01 00:00:00', '2000-01-01 00:01:00',\n",
       "               '2000-01-01 00:02:00', '2000-01-01 00:03:00',\n",
       "               '2000-01-01 00:04:00', '2000-01-01 00:05:00',\n",
       "               '2000-01-01 00:06:00', '2000-01-01 00:07:00',\n",
       "               '2000-01-01 00:08:00', '2000-01-01 00:09:00',\n",
       "               '2000-01-01 00:10:00', '2000-01-01 00:11:00'],\n",
       "              dtype='datetime64[ns]', freq='T')"
      ]
     },
     "execution_count": 340,
     "metadata": {},
     "output_type": "execute_result"
    }
   ],
   "source": [
    "rng = pd.date_range('1/1/2000', periods=12, freq='T')\n",
    "rng"
   ]
  },
  {
   "cell_type": "code",
   "execution_count": 341,
   "metadata": {
    "collapsed": false
   },
   "outputs": [
    {
     "data": {
      "text/plain": [
       "2000-01-01 00:00:00     0\n",
       "2000-01-01 00:01:00     1\n",
       "2000-01-01 00:02:00     2\n",
       "2000-01-01 00:03:00     3\n",
       "2000-01-01 00:04:00     4\n",
       "2000-01-01 00:05:00     5\n",
       "2000-01-01 00:06:00     6\n",
       "2000-01-01 00:07:00     7\n",
       "2000-01-01 00:08:00     8\n",
       "2000-01-01 00:09:00     9\n",
       "2000-01-01 00:10:00    10\n",
       "2000-01-01 00:11:00    11\n",
       "Freq: T, dtype: int32"
      ]
     },
     "execution_count": 341,
     "metadata": {},
     "output_type": "execute_result"
    }
   ],
   "source": [
    "ts = Series(np.arange(12), index=rng)\n",
    "ts"
   ]
  },
  {
   "cell_type": "markdown",
   "metadata": {},
   "source": [
    "Suppose you wanted to aggregate this data into five-minute chunks or bars by taking\n",
    "the sum of each group:"
   ]
  },
  {
   "cell_type": "code",
   "execution_count": 355,
   "metadata": {
    "collapsed": false
   },
   "outputs": [
    {
     "data": {
      "text/plain": [
       "2000-01-01 00:00:00     0\n",
       "2000-01-01 00:05:00    15\n",
       "2000-01-01 00:10:00    40\n",
       "2000-01-01 00:15:00    11\n",
       "Freq: 5T, dtype: int32"
      ]
     },
     "execution_count": 355,
     "metadata": {},
     "output_type": "execute_result"
    }
   ],
   "source": [
    "# Question: Different result from the textbook, need to add closed and label = right to \n",
    "# be the same as the one in the textbook\n",
    "ts1 = ts.resample('5min', closed = 'right', label = 'right').sum()\n",
    "ts1"
   ]
  },
  {
   "cell_type": "markdown",
   "metadata": {},
   "source": [
    "The frequency you pass defines bin edges in five-minute increments. By default, the\n",
    "right bin edge is inclusive, so the 00:05 value is included in the 00:00 to 00:05 interval.\n",
    "1 Passing closed='left' changes the interval to be closed on the left:"
   ]
  },
  {
   "cell_type": "code",
   "execution_count": 351,
   "metadata": {
    "collapsed": false
   },
   "outputs": [
    {
     "data": {
      "text/plain": [
       "2000-01-01 00:00:00    10\n",
       "2000-01-01 00:05:00    35\n",
       "2000-01-01 00:10:00    21\n",
       "Freq: 5T, dtype: int32"
      ]
     },
     "execution_count": 351,
     "metadata": {},
     "output_type": "execute_result"
    }
   ],
   "source": [
    "ts.resample('5min', closed='left').sum()"
   ]
  },
  {
   "cell_type": "markdown",
   "metadata": {},
   "source": [
    "As you can see, the resulting time series is labeled by the timestamps from the right side\n",
    "of each bin. By passing label='left' you can label them with the left bin edge:"
   ]
  },
  {
   "cell_type": "code",
   "execution_count": 352,
   "metadata": {
    "collapsed": false
   },
   "outputs": [
    {
     "data": {
      "text/plain": [
       "2000-01-01 00:00:00    10\n",
       "2000-01-01 00:05:00    35\n",
       "2000-01-01 00:10:00    21\n",
       "Freq: 5T, dtype: int32"
      ]
     },
     "execution_count": 352,
     "metadata": {},
     "output_type": "execute_result"
    }
   ],
   "source": [
    "#Question: No Change, there's a bug in the textbook\n",
    "ts.resample('5min',closed='left', label='left').sum()"
   ]
  },
  {
   "cell_type": "markdown",
   "metadata": {},
   "source": [
    "See Figure 10-3 for an illustration of minutely data being resampled to five-minute.\n",
    "(In the textbook Page 315)"
   ]
  },
  {
   "cell_type": "markdown",
   "metadata": {},
   "source": [
    "Lastly, you might want to shift the result index by some amount, say subtracting one\n",
    "second from the right edge to make it more clear which interval the timestamp refers\n",
    "to. To do this, pass a string or date offset to loffset:"
   ]
  },
  {
   "cell_type": "code",
   "execution_count": 356,
   "metadata": {
    "collapsed": false
   },
   "outputs": [
    {
     "data": {
      "text/plain": [
       "1999-12-31 23:59:59     0\n",
       "2000-01-01 00:04:59    15\n",
       "2000-01-01 00:09:59    40\n",
       "2000-01-01 00:14:59    11\n",
       "Freq: 5T, dtype: int32"
      ]
     },
     "execution_count": 356,
     "metadata": {},
     "output_type": "execute_result"
    }
   ],
   "source": [
    "# gotta use ts1 to generate the same result as shown in the textbook because of its bug in ther previous version of python\n",
    "ts1.resample('5min', loffset='-1s').sum()"
   ]
  },
  {
   "cell_type": "markdown",
   "metadata": {},
   "source": [
    "#### Open-High-Low-Close (OHLC) resampling"
   ]
  },
  {
   "cell_type": "markdown",
   "metadata": {},
   "source": [
    "This also could have been accomplished by calling the shift method on the result\n",
    "without the loffset."
   ]
  },
  {
   "cell_type": "markdown",
   "metadata": {},
   "source": [
    "In finance, an ubiquitous way to aggregate a time series is to compute four values for\n",
    "each bucket: the first (open), last (close), maximum (high), and minimal (low) values.\n",
    "By passing how='ohlc' you will obtain a DataFrame having columns containing these\n",
    "four aggregates, which are efficiently computed in a single sweep of the data:"
   ]
  },
  {
   "cell_type": "code",
   "execution_count": 358,
   "metadata": {
    "collapsed": false
   },
   "outputs": [
    {
     "data": {
      "text/plain": [
       "2000-01-01 00:00:00     0\n",
       "2000-01-01 00:01:00     1\n",
       "2000-01-01 00:02:00     2\n",
       "2000-01-01 00:03:00     3\n",
       "2000-01-01 00:04:00     4\n",
       "2000-01-01 00:05:00     5\n",
       "2000-01-01 00:06:00     6\n",
       "2000-01-01 00:07:00     7\n",
       "2000-01-01 00:08:00     8\n",
       "2000-01-01 00:09:00     9\n",
       "2000-01-01 00:10:00    10\n",
       "2000-01-01 00:11:00    11\n",
       "Freq: T, dtype: int32"
      ]
     },
     "execution_count": 358,
     "metadata": {},
     "output_type": "execute_result"
    }
   ],
   "source": [
    "ts"
   ]
  },
  {
   "cell_type": "code",
   "execution_count": 360,
   "metadata": {
    "collapsed": false
   },
   "outputs": [
    {
     "data": {
      "text/html": [
       "<div>\n",
       "<table border=\"1\" class=\"dataframe\">\n",
       "  <thead>\n",
       "    <tr style=\"text-align: right;\">\n",
       "      <th></th>\n",
       "      <th>open</th>\n",
       "      <th>high</th>\n",
       "      <th>low</th>\n",
       "      <th>close</th>\n",
       "    </tr>\n",
       "  </thead>\n",
       "  <tbody>\n",
       "    <tr>\n",
       "      <th>2000-01-01 00:00:00</th>\n",
       "      <td>0</td>\n",
       "      <td>4</td>\n",
       "      <td>0</td>\n",
       "      <td>4</td>\n",
       "    </tr>\n",
       "    <tr>\n",
       "      <th>2000-01-01 00:05:00</th>\n",
       "      <td>5</td>\n",
       "      <td>9</td>\n",
       "      <td>5</td>\n",
       "      <td>9</td>\n",
       "    </tr>\n",
       "    <tr>\n",
       "      <th>2000-01-01 00:10:00</th>\n",
       "      <td>10</td>\n",
       "      <td>11</td>\n",
       "      <td>10</td>\n",
       "      <td>11</td>\n",
       "    </tr>\n",
       "  </tbody>\n",
       "</table>\n",
       "</div>"
      ],
      "text/plain": [
       "                     open  high  low  close\n",
       "2000-01-01 00:00:00     0     4    0      4\n",
       "2000-01-01 00:05:00     5     9    5      9\n",
       "2000-01-01 00:10:00    10    11   10     11"
      ]
     },
     "execution_count": 360,
     "metadata": {},
     "output_type": "execute_result"
    }
   ],
   "source": [
    "ts.resample('5min').ohlc()"
   ]
  },
  {
   "cell_type": "markdown",
   "metadata": {},
   "source": [
    "#### Resampling with GroupBy"
   ]
  },
  {
   "cell_type": "markdown",
   "metadata": {},
   "source": [
    "An alternate way to downsample is to use pandas’s groupby functionality. For example,\n",
    "you can group by month or weekday by passing a function that accesses those fields\n",
    "on the time series’s index:"
   ]
  },
  {
   "cell_type": "code",
   "execution_count": 364,
   "metadata": {
    "collapsed": false
   },
   "outputs": [
    {
     "data": {
      "text/plain": [
       "DatetimeIndex(['2000-01-01', '2000-01-02', '2000-01-03', '2000-01-04',\n",
       "               '2000-01-05', '2000-01-06', '2000-01-07', '2000-01-08',\n",
       "               '2000-01-09', '2000-01-10', '2000-01-11', '2000-01-12',\n",
       "               '2000-01-13', '2000-01-14', '2000-01-15', '2000-01-16',\n",
       "               '2000-01-17', '2000-01-18', '2000-01-19', '2000-01-20',\n",
       "               '2000-01-21', '2000-01-22', '2000-01-23', '2000-01-24',\n",
       "               '2000-01-25', '2000-01-26', '2000-01-27', '2000-01-28',\n",
       "               '2000-01-29', '2000-01-30', '2000-01-31', '2000-02-01',\n",
       "               '2000-02-02', '2000-02-03', '2000-02-04', '2000-02-05',\n",
       "               '2000-02-06', '2000-02-07', '2000-02-08', '2000-02-09',\n",
       "               '2000-02-10', '2000-02-11', '2000-02-12', '2000-02-13',\n",
       "               '2000-02-14', '2000-02-15', '2000-02-16', '2000-02-17',\n",
       "               '2000-02-18', '2000-02-19', '2000-02-20', '2000-02-21',\n",
       "               '2000-02-22', '2000-02-23', '2000-02-24', '2000-02-25',\n",
       "               '2000-02-26', '2000-02-27', '2000-02-28', '2000-02-29',\n",
       "               '2000-03-01', '2000-03-02', '2000-03-03', '2000-03-04',\n",
       "               '2000-03-05', '2000-03-06', '2000-03-07', '2000-03-08',\n",
       "               '2000-03-09', '2000-03-10', '2000-03-11', '2000-03-12',\n",
       "               '2000-03-13', '2000-03-14', '2000-03-15', '2000-03-16',\n",
       "               '2000-03-17', '2000-03-18', '2000-03-19', '2000-03-20',\n",
       "               '2000-03-21', '2000-03-22', '2000-03-23', '2000-03-24',\n",
       "               '2000-03-25', '2000-03-26', '2000-03-27', '2000-03-28',\n",
       "               '2000-03-29', '2000-03-30', '2000-03-31', '2000-04-01',\n",
       "               '2000-04-02', '2000-04-03', '2000-04-04', '2000-04-05',\n",
       "               '2000-04-06', '2000-04-07', '2000-04-08', '2000-04-09'],\n",
       "              dtype='datetime64[ns]', freq='D')"
      ]
     },
     "execution_count": 364,
     "metadata": {},
     "output_type": "execute_result"
    }
   ],
   "source": [
    "rng = pd.date_range('1/1/2000', periods=100, freq='D')\n",
    "rng"
   ]
  },
  {
   "cell_type": "code",
   "execution_count": 362,
   "metadata": {
    "collapsed": true
   },
   "outputs": [],
   "source": [
    "ts = Series(np.arange(100), index=rng)"
   ]
  },
  {
   "cell_type": "code",
   "execution_count": 363,
   "metadata": {
    "collapsed": false
   },
   "outputs": [
    {
     "data": {
      "text/plain": [
       "1    15\n",
       "2    45\n",
       "3    75\n",
       "4    95\n",
       "dtype: int32"
      ]
     },
     "execution_count": 363,
     "metadata": {},
     "output_type": "execute_result"
    }
   ],
   "source": [
    "ts.groupby(lambda x: x.month).mean()"
   ]
  },
  {
   "cell_type": "code",
   "execution_count": 365,
   "metadata": {
    "collapsed": false
   },
   "outputs": [
    {
     "data": {
      "text/plain": [
       "0    47.5\n",
       "1    48.5\n",
       "2    49.5\n",
       "3    50.5\n",
       "4    51.5\n",
       "5    49.0\n",
       "6    50.0\n",
       "dtype: float64"
      ]
     },
     "execution_count": 365,
     "metadata": {},
     "output_type": "execute_result"
    }
   ],
   "source": [
    "ts.groupby(lambda x: x.weekday).mean()"
   ]
  },
  {
   "cell_type": "markdown",
   "metadata": {},
   "source": [
    "### Upsampling and Interpolation"
   ]
  },
  {
   "cell_type": "markdown",
   "metadata": {},
   "source": [
    "When converting from a low frequency to a higher frequency, no aggregation is needed.\n",
    "Let’s consider a DataFrame with some weekly data:"
   ]
  },
  {
   "cell_type": "code",
   "execution_count": 382,
   "metadata": {
    "collapsed": false
   },
   "outputs": [
    {
     "data": {
      "text/html": [
       "<div>\n",
       "<table border=\"1\" class=\"dataframe\">\n",
       "  <thead>\n",
       "    <tr style=\"text-align: right;\">\n",
       "      <th></th>\n",
       "      <th>Colorado</th>\n",
       "      <th>Texas</th>\n",
       "      <th>New York</th>\n",
       "      <th>Ohio</th>\n",
       "    </tr>\n",
       "  </thead>\n",
       "  <tbody>\n",
       "    <tr>\n",
       "      <th>2000-01-05</th>\n",
       "      <td>-0.146055</td>\n",
       "      <td>-0.531190</td>\n",
       "      <td>-0.357775</td>\n",
       "      <td>-1.822506</td>\n",
       "    </tr>\n",
       "    <tr>\n",
       "      <th>2000-01-12</th>\n",
       "      <td>-0.034315</td>\n",
       "      <td>1.024125</td>\n",
       "      <td>-0.833550</td>\n",
       "      <td>0.682359</td>\n",
       "    </tr>\n",
       "  </tbody>\n",
       "</table>\n",
       "</div>"
      ],
      "text/plain": [
       "            Colorado     Texas  New York      Ohio\n",
       "2000-01-05 -0.146055 -0.531190 -0.357775 -1.822506\n",
       "2000-01-12 -0.034315  1.024125 -0.833550  0.682359"
      ]
     },
     "execution_count": 382,
     "metadata": {},
     "output_type": "execute_result"
    }
   ],
   "source": [
    "frame = DataFrame(np.random.randn(2, 4),\n",
    ".....: index=pd.date_range('1/1/2000', periods=2, freq='W-WED'),\n",
    ".....: columns=['Colorado', 'Texas', 'New York', 'Ohio'])\n",
    "frame[:5]"
   ]
  },
  {
   "cell_type": "markdown",
   "metadata": {},
   "source": [
    "When resampling this to daily frequency, by default missing values are introduced:"
   ]
  },
  {
   "cell_type": "code",
   "execution_count": 383,
   "metadata": {
    "collapsed": true
   },
   "outputs": [],
   "source": [
    "df_daily = frame.resample('D')"
   ]
  },
  {
   "cell_type": "code",
   "execution_count": 384,
   "metadata": {
    "collapsed": false
   },
   "outputs": [
    {
     "data": {
      "text/plain": [
       "DatetimeIndexResampler [freq=<Day>, axis=0, closed=left, label=left, convention=start, base=0]"
      ]
     },
     "execution_count": 384,
     "metadata": {},
     "output_type": "execute_result"
    }
   ],
   "source": [
    "df_daily"
   ]
  },
  {
   "cell_type": "markdown",
   "metadata": {},
   "source": [
    "Suppose you wanted to fill forward each weekly value on the non-Wednesdays. The\n",
    "same filling or interpolation methods available in the fillna and reindex methods are\n",
    "available for resampling:"
   ]
  },
  {
   "cell_type": "code",
   "execution_count": 385,
   "metadata": {
    "collapsed": false
   },
   "outputs": [
    {
     "data": {
      "text/html": [
       "<div>\n",
       "<table border=\"1\" class=\"dataframe\">\n",
       "  <thead>\n",
       "    <tr style=\"text-align: right;\">\n",
       "      <th></th>\n",
       "      <th>Colorado</th>\n",
       "      <th>Texas</th>\n",
       "      <th>New York</th>\n",
       "      <th>Ohio</th>\n",
       "    </tr>\n",
       "  </thead>\n",
       "  <tbody>\n",
       "    <tr>\n",
       "      <th>2000-01-05</th>\n",
       "      <td>-0.146055</td>\n",
       "      <td>-0.531190</td>\n",
       "      <td>-0.357775</td>\n",
       "      <td>-1.822506</td>\n",
       "    </tr>\n",
       "    <tr>\n",
       "      <th>2000-01-06</th>\n",
       "      <td>-0.146055</td>\n",
       "      <td>-0.531190</td>\n",
       "      <td>-0.357775</td>\n",
       "      <td>-1.822506</td>\n",
       "    </tr>\n",
       "    <tr>\n",
       "      <th>2000-01-07</th>\n",
       "      <td>-0.146055</td>\n",
       "      <td>-0.531190</td>\n",
       "      <td>-0.357775</td>\n",
       "      <td>-1.822506</td>\n",
       "    </tr>\n",
       "    <tr>\n",
       "      <th>2000-01-08</th>\n",
       "      <td>-0.146055</td>\n",
       "      <td>-0.531190</td>\n",
       "      <td>-0.357775</td>\n",
       "      <td>-1.822506</td>\n",
       "    </tr>\n",
       "    <tr>\n",
       "      <th>2000-01-09</th>\n",
       "      <td>-0.146055</td>\n",
       "      <td>-0.531190</td>\n",
       "      <td>-0.357775</td>\n",
       "      <td>-1.822506</td>\n",
       "    </tr>\n",
       "    <tr>\n",
       "      <th>2000-01-10</th>\n",
       "      <td>-0.146055</td>\n",
       "      <td>-0.531190</td>\n",
       "      <td>-0.357775</td>\n",
       "      <td>-1.822506</td>\n",
       "    </tr>\n",
       "    <tr>\n",
       "      <th>2000-01-11</th>\n",
       "      <td>-0.146055</td>\n",
       "      <td>-0.531190</td>\n",
       "      <td>-0.357775</td>\n",
       "      <td>-1.822506</td>\n",
       "    </tr>\n",
       "    <tr>\n",
       "      <th>2000-01-12</th>\n",
       "      <td>-0.034315</td>\n",
       "      <td>1.024125</td>\n",
       "      <td>-0.833550</td>\n",
       "      <td>0.682359</td>\n",
       "    </tr>\n",
       "  </tbody>\n",
       "</table>\n",
       "</div>"
      ],
      "text/plain": [
       "            Colorado     Texas  New York      Ohio\n",
       "2000-01-05 -0.146055 -0.531190 -0.357775 -1.822506\n",
       "2000-01-06 -0.146055 -0.531190 -0.357775 -1.822506\n",
       "2000-01-07 -0.146055 -0.531190 -0.357775 -1.822506\n",
       "2000-01-08 -0.146055 -0.531190 -0.357775 -1.822506\n",
       "2000-01-09 -0.146055 -0.531190 -0.357775 -1.822506\n",
       "2000-01-10 -0.146055 -0.531190 -0.357775 -1.822506\n",
       "2000-01-11 -0.146055 -0.531190 -0.357775 -1.822506\n",
       "2000-01-12 -0.034315  1.024125 -0.833550  0.682359"
      ]
     },
     "execution_count": 385,
     "metadata": {},
     "output_type": "execute_result"
    }
   ],
   "source": [
    "frame.resample('D').ffill()"
   ]
  },
  {
   "cell_type": "markdown",
   "metadata": {},
   "source": [
    "You can similarly choose to only fill a certain number of periods forward to limit how\n",
    "far to continue using an observed value:"
   ]
  },
  {
   "cell_type": "code",
   "execution_count": 386,
   "metadata": {
    "collapsed": false
   },
   "outputs": [
    {
     "data": {
      "text/html": [
       "<div>\n",
       "<table border=\"1\" class=\"dataframe\">\n",
       "  <thead>\n",
       "    <tr style=\"text-align: right;\">\n",
       "      <th></th>\n",
       "      <th>Colorado</th>\n",
       "      <th>Texas</th>\n",
       "      <th>New York</th>\n",
       "      <th>Ohio</th>\n",
       "    </tr>\n",
       "  </thead>\n",
       "  <tbody>\n",
       "    <tr>\n",
       "      <th>2000-01-05</th>\n",
       "      <td>-0.146055</td>\n",
       "      <td>-0.531190</td>\n",
       "      <td>-0.357775</td>\n",
       "      <td>-1.822506</td>\n",
       "    </tr>\n",
       "    <tr>\n",
       "      <th>2000-01-06</th>\n",
       "      <td>-0.146055</td>\n",
       "      <td>-0.531190</td>\n",
       "      <td>-0.357775</td>\n",
       "      <td>-1.822506</td>\n",
       "    </tr>\n",
       "    <tr>\n",
       "      <th>2000-01-07</th>\n",
       "      <td>-0.146055</td>\n",
       "      <td>-0.531190</td>\n",
       "      <td>-0.357775</td>\n",
       "      <td>-1.822506</td>\n",
       "    </tr>\n",
       "    <tr>\n",
       "      <th>2000-01-08</th>\n",
       "      <td>-0.146055</td>\n",
       "      <td>-0.531190</td>\n",
       "      <td>-0.357775</td>\n",
       "      <td>-1.822506</td>\n",
       "    </tr>\n",
       "    <tr>\n",
       "      <th>2000-01-09</th>\n",
       "      <td>-0.146055</td>\n",
       "      <td>-0.531190</td>\n",
       "      <td>-0.357775</td>\n",
       "      <td>-1.822506</td>\n",
       "    </tr>\n",
       "    <tr>\n",
       "      <th>2000-01-10</th>\n",
       "      <td>-0.146055</td>\n",
       "      <td>-0.531190</td>\n",
       "      <td>-0.357775</td>\n",
       "      <td>-1.822506</td>\n",
       "    </tr>\n",
       "    <tr>\n",
       "      <th>2000-01-11</th>\n",
       "      <td>-0.146055</td>\n",
       "      <td>-0.531190</td>\n",
       "      <td>-0.357775</td>\n",
       "      <td>-1.822506</td>\n",
       "    </tr>\n",
       "    <tr>\n",
       "      <th>2000-01-12</th>\n",
       "      <td>-0.034315</td>\n",
       "      <td>1.024125</td>\n",
       "      <td>-0.833550</td>\n",
       "      <td>0.682359</td>\n",
       "    </tr>\n",
       "  </tbody>\n",
       "</table>\n",
       "</div>"
      ],
      "text/plain": [
       "            Colorado     Texas  New York      Ohio\n",
       "2000-01-05 -0.146055 -0.531190 -0.357775 -1.822506\n",
       "2000-01-06 -0.146055 -0.531190 -0.357775 -1.822506\n",
       "2000-01-07 -0.146055 -0.531190 -0.357775 -1.822506\n",
       "2000-01-08 -0.146055 -0.531190 -0.357775 -1.822506\n",
       "2000-01-09 -0.146055 -0.531190 -0.357775 -1.822506\n",
       "2000-01-10 -0.146055 -0.531190 -0.357775 -1.822506\n",
       "2000-01-11 -0.146055 -0.531190 -0.357775 -1.822506\n",
       "2000-01-12 -0.034315  1.024125 -0.833550  0.682359"
      ]
     },
     "execution_count": 386,
     "metadata": {},
     "output_type": "execute_result"
    }
   ],
   "source": [
    "#Question: Doesn't work\n",
    "frame.resample('D', limit=2).ffill()"
   ]
  },
  {
   "cell_type": "markdown",
   "metadata": {},
   "source": [
    "Notably, the new date index need not overlap with the old one at all:"
   ]
  },
  {
   "cell_type": "code",
   "execution_count": 387,
   "metadata": {
    "collapsed": false
   },
   "outputs": [
    {
     "data": {
      "text/html": [
       "<div>\n",
       "<table border=\"1\" class=\"dataframe\">\n",
       "  <thead>\n",
       "    <tr style=\"text-align: right;\">\n",
       "      <th></th>\n",
       "      <th>Colorado</th>\n",
       "      <th>Texas</th>\n",
       "      <th>New York</th>\n",
       "      <th>Ohio</th>\n",
       "    </tr>\n",
       "  </thead>\n",
       "  <tbody>\n",
       "    <tr>\n",
       "      <th>2000-01-06</th>\n",
       "      <td>-0.146055</td>\n",
       "      <td>-0.531190</td>\n",
       "      <td>-0.357775</td>\n",
       "      <td>-1.822506</td>\n",
       "    </tr>\n",
       "    <tr>\n",
       "      <th>2000-01-13</th>\n",
       "      <td>-0.034315</td>\n",
       "      <td>1.024125</td>\n",
       "      <td>-0.833550</td>\n",
       "      <td>0.682359</td>\n",
       "    </tr>\n",
       "  </tbody>\n",
       "</table>\n",
       "</div>"
      ],
      "text/plain": [
       "            Colorado     Texas  New York      Ohio\n",
       "2000-01-06 -0.146055 -0.531190 -0.357775 -1.822506\n",
       "2000-01-13 -0.034315  1.024125 -0.833550  0.682359"
      ]
     },
     "execution_count": 387,
     "metadata": {},
     "output_type": "execute_result"
    }
   ],
   "source": [
    "frame.resample('W-THU').ffill()"
   ]
  },
  {
   "cell_type": "markdown",
   "metadata": {},
   "source": [
    "### Resampling with Periods"
   ]
  },
  {
   "cell_type": "markdown",
   "metadata": {
    "collapsed": true
   },
   "source": [
    "Resampling data indexed by periods is reasonably straightforward and works as you\n",
    "would hope:"
   ]
  },
  {
   "cell_type": "code",
   "execution_count": 2,
   "metadata": {
    "collapsed": true
   },
   "outputs": [],
   "source": [
    "frame = DataFrame(np.random.randn(24, 4),\n",
    ".....: index=pd.period_range('1-2000', '12-2001', freq='M'),\n",
    ".....: columns=['Colorado', 'Texas', 'New York', 'Ohio'])"
   ]
  },
  {
   "cell_type": "code",
   "execution_count": 3,
   "metadata": {
    "collapsed": false
   },
   "outputs": [
    {
     "data": {
      "text/html": [
       "<div>\n",
       "<table border=\"1\" class=\"dataframe\">\n",
       "  <thead>\n",
       "    <tr style=\"text-align: right;\">\n",
       "      <th></th>\n",
       "      <th>Colorado</th>\n",
       "      <th>Texas</th>\n",
       "      <th>New York</th>\n",
       "      <th>Ohio</th>\n",
       "    </tr>\n",
       "  </thead>\n",
       "  <tbody>\n",
       "    <tr>\n",
       "      <th>2000-01</th>\n",
       "      <td>0.891622</td>\n",
       "      <td>0.435333</td>\n",
       "      <td>1.003307</td>\n",
       "      <td>0.293846</td>\n",
       "    </tr>\n",
       "    <tr>\n",
       "      <th>2000-02</th>\n",
       "      <td>-0.914073</td>\n",
       "      <td>0.679478</td>\n",
       "      <td>-0.661843</td>\n",
       "      <td>-0.520042</td>\n",
       "    </tr>\n",
       "    <tr>\n",
       "      <th>2000-03</th>\n",
       "      <td>0.343282</td>\n",
       "      <td>1.305368</td>\n",
       "      <td>0.432285</td>\n",
       "      <td>-0.037203</td>\n",
       "    </tr>\n",
       "    <tr>\n",
       "      <th>2000-04</th>\n",
       "      <td>-0.808322</td>\n",
       "      <td>-0.097392</td>\n",
       "      <td>-0.374672</td>\n",
       "      <td>-0.529306</td>\n",
       "    </tr>\n",
       "    <tr>\n",
       "      <th>2000-05</th>\n",
       "      <td>0.687834</td>\n",
       "      <td>0.710283</td>\n",
       "      <td>0.131265</td>\n",
       "      <td>3.361811</td>\n",
       "    </tr>\n",
       "  </tbody>\n",
       "</table>\n",
       "</div>"
      ],
      "text/plain": [
       "         Colorado     Texas  New York      Ohio\n",
       "2000-01  0.891622  0.435333  1.003307  0.293846\n",
       "2000-02 -0.914073  0.679478 -0.661843 -0.520042\n",
       "2000-03  0.343282  1.305368  0.432285 -0.037203\n",
       "2000-04 -0.808322 -0.097392 -0.374672 -0.529306\n",
       "2000-05  0.687834  0.710283  0.131265  3.361811"
      ]
     },
     "execution_count": 3,
     "metadata": {},
     "output_type": "execute_result"
    }
   ],
   "source": [
    "frame[:5]"
   ]
  },
  {
   "cell_type": "code",
   "execution_count": 5,
   "metadata": {
    "collapsed": false
   },
   "outputs": [
    {
     "name": "stderr",
     "output_type": "stream",
     "text": [
      "C:\\Users\\Brad Sun\\Anaconda3\\lib\\site-packages\\ipykernel\\__main__.py:1: FutureWarning: how in .resample() is deprecated\n",
      "the new syntax is .resample(...).mean()\n",
      "  if __name__ == '__main__':\n"
     ]
    },
    {
     "data": {
      "text/html": [
       "<div>\n",
       "<table border=\"1\" class=\"dataframe\">\n",
       "  <thead>\n",
       "    <tr style=\"text-align: right;\">\n",
       "      <th></th>\n",
       "      <th>Colorado</th>\n",
       "      <th>Texas</th>\n",
       "      <th>New York</th>\n",
       "      <th>Ohio</th>\n",
       "    </tr>\n",
       "  </thead>\n",
       "  <tbody>\n",
       "    <tr>\n",
       "      <th>2000</th>\n",
       "      <td>-0.087386</td>\n",
       "      <td>0.073727</td>\n",
       "      <td>-0.219207</td>\n",
       "      <td>-0.237547</td>\n",
       "    </tr>\n",
       "    <tr>\n",
       "      <th>2001</th>\n",
       "      <td>0.204296</td>\n",
       "      <td>0.221484</td>\n",
       "      <td>0.323141</td>\n",
       "      <td>0.237712</td>\n",
       "    </tr>\n",
       "  </tbody>\n",
       "</table>\n",
       "</div>"
      ],
      "text/plain": [
       "      Colorado     Texas  New York      Ohio\n",
       "2000 -0.087386  0.073727 -0.219207 -0.237547\n",
       "2001  0.204296  0.221484  0.323141  0.237712"
      ]
     },
     "execution_count": 5,
     "metadata": {},
     "output_type": "execute_result"
    }
   ],
   "source": [
    "annual_frame = frame.resample('A-DEC', how='mean')\n",
    "annual_frame"
   ]
  },
  {
   "cell_type": "markdown",
   "metadata": {},
   "source": [
    "Upsampling is more nuanced as you must make a decision about which end of the\n",
    "timespan in the new frequency to place the values before resampling, just like the\n",
    "asfreq method. The convention argument defaults to 'end' but can also be 'start':"
   ]
  },
  {
   "cell_type": "code",
   "execution_count": 6,
   "metadata": {
    "collapsed": false
   },
   "outputs": [
    {
     "name": "stderr",
     "output_type": "stream",
     "text": [
      "C:\\Users\\Brad Sun\\Anaconda3\\lib\\site-packages\\ipykernel\\__main__.py:2: FutureWarning: fill_method is deprecated to .resample()\n",
      "the new syntax is .resample(...).ffill()\n",
      "  from ipykernel import kernelapp as app\n"
     ]
    },
    {
     "data": {
      "text/html": [
       "<div>\n",
       "<table border=\"1\" class=\"dataframe\">\n",
       "  <thead>\n",
       "    <tr style=\"text-align: right;\">\n",
       "      <th></th>\n",
       "      <th>Colorado</th>\n",
       "      <th>Texas</th>\n",
       "      <th>New York</th>\n",
       "      <th>Ohio</th>\n",
       "    </tr>\n",
       "  </thead>\n",
       "  <tbody>\n",
       "    <tr>\n",
       "      <th>2000Q1</th>\n",
       "      <td>-0.087386</td>\n",
       "      <td>0.073727</td>\n",
       "      <td>-0.219207</td>\n",
       "      <td>-0.237547</td>\n",
       "    </tr>\n",
       "    <tr>\n",
       "      <th>2000Q2</th>\n",
       "      <td>-0.087386</td>\n",
       "      <td>0.073727</td>\n",
       "      <td>-0.219207</td>\n",
       "      <td>-0.237547</td>\n",
       "    </tr>\n",
       "    <tr>\n",
       "      <th>2000Q3</th>\n",
       "      <td>-0.087386</td>\n",
       "      <td>0.073727</td>\n",
       "      <td>-0.219207</td>\n",
       "      <td>-0.237547</td>\n",
       "    </tr>\n",
       "    <tr>\n",
       "      <th>2000Q4</th>\n",
       "      <td>-0.087386</td>\n",
       "      <td>0.073727</td>\n",
       "      <td>-0.219207</td>\n",
       "      <td>-0.237547</td>\n",
       "    </tr>\n",
       "    <tr>\n",
       "      <th>2001Q1</th>\n",
       "      <td>0.204296</td>\n",
       "      <td>0.221484</td>\n",
       "      <td>0.323141</td>\n",
       "      <td>0.237712</td>\n",
       "    </tr>\n",
       "    <tr>\n",
       "      <th>2001Q2</th>\n",
       "      <td>0.204296</td>\n",
       "      <td>0.221484</td>\n",
       "      <td>0.323141</td>\n",
       "      <td>0.237712</td>\n",
       "    </tr>\n",
       "    <tr>\n",
       "      <th>2001Q3</th>\n",
       "      <td>0.204296</td>\n",
       "      <td>0.221484</td>\n",
       "      <td>0.323141</td>\n",
       "      <td>0.237712</td>\n",
       "    </tr>\n",
       "    <tr>\n",
       "      <th>2001Q4</th>\n",
       "      <td>0.204296</td>\n",
       "      <td>0.221484</td>\n",
       "      <td>0.323141</td>\n",
       "      <td>0.237712</td>\n",
       "    </tr>\n",
       "  </tbody>\n",
       "</table>\n",
       "</div>"
      ],
      "text/plain": [
       "        Colorado     Texas  New York      Ohio\n",
       "2000Q1 -0.087386  0.073727 -0.219207 -0.237547\n",
       "2000Q2 -0.087386  0.073727 -0.219207 -0.237547\n",
       "2000Q3 -0.087386  0.073727 -0.219207 -0.237547\n",
       "2000Q4 -0.087386  0.073727 -0.219207 -0.237547\n",
       "2001Q1  0.204296  0.221484  0.323141  0.237712\n",
       "2001Q2  0.204296  0.221484  0.323141  0.237712\n",
       "2001Q3  0.204296  0.221484  0.323141  0.237712\n",
       "2001Q4  0.204296  0.221484  0.323141  0.237712"
      ]
     },
     "execution_count": 6,
     "metadata": {},
     "output_type": "execute_result"
    }
   ],
   "source": [
    "# Q-DEC: Quarterly, year ending in December\n",
    "In [536]: annual_frame.resample('Q-DEC', fill_method='ffill')"
   ]
  },
  {
   "cell_type": "code",
   "execution_count": 7,
   "metadata": {
    "collapsed": false
   },
   "outputs": [
    {
     "name": "stderr",
     "output_type": "stream",
     "text": [
      "C:\\Users\\Brad Sun\\Anaconda3\\lib\\site-packages\\ipykernel\\__main__.py:1: FutureWarning: fill_method is deprecated to .resample()\n",
      "the new syntax is .resample(...).ffill()\n",
      "  if __name__ == '__main__':\n"
     ]
    },
    {
     "data": {
      "text/html": [
       "<div>\n",
       "<table border=\"1\" class=\"dataframe\">\n",
       "  <thead>\n",
       "    <tr style=\"text-align: right;\">\n",
       "      <th></th>\n",
       "      <th>Colorado</th>\n",
       "      <th>Texas</th>\n",
       "      <th>New York</th>\n",
       "      <th>Ohio</th>\n",
       "    </tr>\n",
       "  </thead>\n",
       "  <tbody>\n",
       "    <tr>\n",
       "      <th>2000Q1</th>\n",
       "      <td>-0.087386</td>\n",
       "      <td>0.073727</td>\n",
       "      <td>-0.219207</td>\n",
       "      <td>-0.237547</td>\n",
       "    </tr>\n",
       "    <tr>\n",
       "      <th>2000Q2</th>\n",
       "      <td>-0.087386</td>\n",
       "      <td>0.073727</td>\n",
       "      <td>-0.219207</td>\n",
       "      <td>-0.237547</td>\n",
       "    </tr>\n",
       "    <tr>\n",
       "      <th>2000Q3</th>\n",
       "      <td>-0.087386</td>\n",
       "      <td>0.073727</td>\n",
       "      <td>-0.219207</td>\n",
       "      <td>-0.237547</td>\n",
       "    </tr>\n",
       "    <tr>\n",
       "      <th>2000Q4</th>\n",
       "      <td>-0.087386</td>\n",
       "      <td>0.073727</td>\n",
       "      <td>-0.219207</td>\n",
       "      <td>-0.237547</td>\n",
       "    </tr>\n",
       "    <tr>\n",
       "      <th>2001Q1</th>\n",
       "      <td>0.204296</td>\n",
       "      <td>0.221484</td>\n",
       "      <td>0.323141</td>\n",
       "      <td>0.237712</td>\n",
       "    </tr>\n",
       "    <tr>\n",
       "      <th>2001Q2</th>\n",
       "      <td>0.204296</td>\n",
       "      <td>0.221484</td>\n",
       "      <td>0.323141</td>\n",
       "      <td>0.237712</td>\n",
       "    </tr>\n",
       "    <tr>\n",
       "      <th>2001Q3</th>\n",
       "      <td>0.204296</td>\n",
       "      <td>0.221484</td>\n",
       "      <td>0.323141</td>\n",
       "      <td>0.237712</td>\n",
       "    </tr>\n",
       "    <tr>\n",
       "      <th>2001Q4</th>\n",
       "      <td>0.204296</td>\n",
       "      <td>0.221484</td>\n",
       "      <td>0.323141</td>\n",
       "      <td>0.237712</td>\n",
       "    </tr>\n",
       "  </tbody>\n",
       "</table>\n",
       "</div>"
      ],
      "text/plain": [
       "        Colorado     Texas  New York      Ohio\n",
       "2000Q1 -0.087386  0.073727 -0.219207 -0.237547\n",
       "2000Q2 -0.087386  0.073727 -0.219207 -0.237547\n",
       "2000Q3 -0.087386  0.073727 -0.219207 -0.237547\n",
       "2000Q4 -0.087386  0.073727 -0.219207 -0.237547\n",
       "2001Q1  0.204296  0.221484  0.323141  0.237712\n",
       "2001Q2  0.204296  0.221484  0.323141  0.237712\n",
       "2001Q3  0.204296  0.221484  0.323141  0.237712\n",
       "2001Q4  0.204296  0.221484  0.323141  0.237712"
      ]
     },
     "execution_count": 7,
     "metadata": {},
     "output_type": "execute_result"
    }
   ],
   "source": [
    "annual_frame.resample('Q-DEC', fill_method='ffill', convention='start')"
   ]
  },
  {
   "cell_type": "markdown",
   "metadata": {},
   "source": [
    "Since periods refer to timespans, the rules about upsampling and downsampling are\n",
    "more rigid:\n",
    "    \n",
    "• In downsampling, the target frequency must be a subperiod of the source frequency.\n",
    "\n",
    "• In upsampling, the target frequency must be a superperiod of the source frequency."
   ]
  },
  {
   "cell_type": "markdown",
   "metadata": {},
   "source": [
    "If these rules are not satisfied, an exception will be raised. This mainly affects the quarterly,\n",
    "annual, and weekly frequencies; for example, the timespans defined by Q-MAR only\n",
    "line up with A-MAR, A-JUN, A-SEP, and A-DEC:"
   ]
  },
  {
   "cell_type": "code",
   "execution_count": 8,
   "metadata": {
    "collapsed": false
   },
   "outputs": [
    {
     "name": "stderr",
     "output_type": "stream",
     "text": [
      "C:\\Users\\Brad Sun\\Anaconda3\\lib\\site-packages\\ipykernel\\__main__.py:1: FutureWarning: fill_method is deprecated to .resample()\n",
      "the new syntax is .resample(...).ffill()\n",
      "  if __name__ == '__main__':\n"
     ]
    },
    {
     "data": {
      "text/html": [
       "<div>\n",
       "<table border=\"1\" class=\"dataframe\">\n",
       "  <thead>\n",
       "    <tr style=\"text-align: right;\">\n",
       "      <th></th>\n",
       "      <th>Colorado</th>\n",
       "      <th>Texas</th>\n",
       "      <th>New York</th>\n",
       "      <th>Ohio</th>\n",
       "    </tr>\n",
       "  </thead>\n",
       "  <tbody>\n",
       "    <tr>\n",
       "      <th>2000Q4</th>\n",
       "      <td>-0.087386</td>\n",
       "      <td>0.073727</td>\n",
       "      <td>-0.219207</td>\n",
       "      <td>-0.237547</td>\n",
       "    </tr>\n",
       "    <tr>\n",
       "      <th>2001Q1</th>\n",
       "      <td>-0.087386</td>\n",
       "      <td>0.073727</td>\n",
       "      <td>-0.219207</td>\n",
       "      <td>-0.237547</td>\n",
       "    </tr>\n",
       "    <tr>\n",
       "      <th>2001Q2</th>\n",
       "      <td>-0.087386</td>\n",
       "      <td>0.073727</td>\n",
       "      <td>-0.219207</td>\n",
       "      <td>-0.237547</td>\n",
       "    </tr>\n",
       "    <tr>\n",
       "      <th>2001Q3</th>\n",
       "      <td>-0.087386</td>\n",
       "      <td>0.073727</td>\n",
       "      <td>-0.219207</td>\n",
       "      <td>-0.237547</td>\n",
       "    </tr>\n",
       "    <tr>\n",
       "      <th>2001Q4</th>\n",
       "      <td>0.204296</td>\n",
       "      <td>0.221484</td>\n",
       "      <td>0.323141</td>\n",
       "      <td>0.237712</td>\n",
       "    </tr>\n",
       "    <tr>\n",
       "      <th>2002Q1</th>\n",
       "      <td>0.204296</td>\n",
       "      <td>0.221484</td>\n",
       "      <td>0.323141</td>\n",
       "      <td>0.237712</td>\n",
       "    </tr>\n",
       "    <tr>\n",
       "      <th>2002Q2</th>\n",
       "      <td>0.204296</td>\n",
       "      <td>0.221484</td>\n",
       "      <td>0.323141</td>\n",
       "      <td>0.237712</td>\n",
       "    </tr>\n",
       "    <tr>\n",
       "      <th>2002Q3</th>\n",
       "      <td>0.204296</td>\n",
       "      <td>0.221484</td>\n",
       "      <td>0.323141</td>\n",
       "      <td>0.237712</td>\n",
       "    </tr>\n",
       "  </tbody>\n",
       "</table>\n",
       "</div>"
      ],
      "text/plain": [
       "        Colorado     Texas  New York      Ohio\n",
       "2000Q4 -0.087386  0.073727 -0.219207 -0.237547\n",
       "2001Q1 -0.087386  0.073727 -0.219207 -0.237547\n",
       "2001Q2 -0.087386  0.073727 -0.219207 -0.237547\n",
       "2001Q3 -0.087386  0.073727 -0.219207 -0.237547\n",
       "2001Q4  0.204296  0.221484  0.323141  0.237712\n",
       "2002Q1  0.204296  0.221484  0.323141  0.237712\n",
       "2002Q2  0.204296  0.221484  0.323141  0.237712\n",
       "2002Q3  0.204296  0.221484  0.323141  0.237712"
      ]
     },
     "execution_count": 8,
     "metadata": {},
     "output_type": "execute_result"
    }
   ],
   "source": [
    "annual_frame.resample('Q-MAR', fill_method='ffill')"
   ]
  },
  {
   "cell_type": "markdown",
   "metadata": {},
   "source": [
    "## Time Series Plotting"
   ]
  },
  {
   "cell_type": "markdown",
   "metadata": {
    "collapsed": true
   },
   "source": [
    "Plots with pandas time series have improved date formatting compared with matplotlib\n",
    "out of the box. As an example, I downloaded some stock price data on a few common\n",
    "US stock from Yahoo! Finance:"
   ]
  },
  {
   "cell_type": "code",
   "execution_count": 10,
   "metadata": {
    "collapsed": false
   },
   "outputs": [],
   "source": [
    "close_px_all = pd.read_csv('stock_px.csv', parse_dates=True, index_col=0)"
   ]
  },
  {
   "cell_type": "code",
   "execution_count": 14,
   "metadata": {
    "collapsed": true
   },
   "outputs": [],
   "source": [
    "close_px = close_px_all[['AAPL', 'MSFT', 'XOM']]"
   ]
  },
  {
   "cell_type": "code",
   "execution_count": 15,
   "metadata": {
    "collapsed": false
   },
   "outputs": [],
   "source": [
    "close_px = close_px.resample('B').ffill()"
   ]
  },
  {
   "cell_type": "code",
   "execution_count": 16,
   "metadata": {
    "collapsed": true
   },
   "outputs": [
    {
     "data": {
      "text/html": [
       "<div>\n",
       "<table border=\"1\" class=\"dataframe\">\n",
       "  <thead>\n",
       "    <tr style=\"text-align: right;\">\n",
       "      <th></th>\n",
       "      <th>AAPL</th>\n",
       "      <th>MSFT</th>\n",
       "      <th>XOM</th>\n",
       "    </tr>\n",
       "  </thead>\n",
       "  <tbody>\n",
       "    <tr>\n",
       "      <th>1990-02-01</th>\n",
       "      <td>7.86</td>\n",
       "      <td>0.51</td>\n",
       "      <td>6.12</td>\n",
       "    </tr>\n",
       "    <tr>\n",
       "      <th>1990-02-02</th>\n",
       "      <td>8.00</td>\n",
       "      <td>0.51</td>\n",
       "      <td>6.24</td>\n",
       "    </tr>\n",
       "    <tr>\n",
       "      <th>1990-02-05</th>\n",
       "      <td>8.18</td>\n",
       "      <td>0.51</td>\n",
       "      <td>6.25</td>\n",
       "    </tr>\n",
       "    <tr>\n",
       "      <th>1990-02-06</th>\n",
       "      <td>8.12</td>\n",
       "      <td>0.51</td>\n",
       "      <td>6.23</td>\n",
       "    </tr>\n",
       "    <tr>\n",
       "      <th>1990-02-07</th>\n",
       "      <td>7.77</td>\n",
       "      <td>0.51</td>\n",
       "      <td>6.33</td>\n",
       "    </tr>\n",
       "    <tr>\n",
       "      <th>1990-02-08</th>\n",
       "      <td>7.71</td>\n",
       "      <td>0.51</td>\n",
       "      <td>6.35</td>\n",
       "    </tr>\n",
       "    <tr>\n",
       "      <th>1990-02-09</th>\n",
       "      <td>8.00</td>\n",
       "      <td>0.52</td>\n",
       "      <td>6.37</td>\n",
       "    </tr>\n",
       "    <tr>\n",
       "      <th>1990-02-12</th>\n",
       "      <td>7.94</td>\n",
       "      <td>0.52</td>\n",
       "      <td>6.22</td>\n",
       "    </tr>\n",
       "    <tr>\n",
       "      <th>1990-02-13</th>\n",
       "      <td>8.06</td>\n",
       "      <td>0.52</td>\n",
       "      <td>6.23</td>\n",
       "    </tr>\n",
       "    <tr>\n",
       "      <th>1990-02-14</th>\n",
       "      <td>8.00</td>\n",
       "      <td>0.52</td>\n",
       "      <td>6.20</td>\n",
       "    </tr>\n",
       "    <tr>\n",
       "      <th>1990-02-15</th>\n",
       "      <td>8.00</td>\n",
       "      <td>0.53</td>\n",
       "      <td>6.40</td>\n",
       "    </tr>\n",
       "    <tr>\n",
       "      <th>1990-02-16</th>\n",
       "      <td>7.91</td>\n",
       "      <td>0.53</td>\n",
       "      <td>6.33</td>\n",
       "    </tr>\n",
       "    <tr>\n",
       "      <th>1990-02-19</th>\n",
       "      <td>7.91</td>\n",
       "      <td>0.53</td>\n",
       "      <td>6.33</td>\n",
       "    </tr>\n",
       "    <tr>\n",
       "      <th>1990-02-20</th>\n",
       "      <td>7.85</td>\n",
       "      <td>0.55</td>\n",
       "      <td>6.25</td>\n",
       "    </tr>\n",
       "    <tr>\n",
       "      <th>1990-02-21</th>\n",
       "      <td>7.97</td>\n",
       "      <td>0.52</td>\n",
       "      <td>6.28</td>\n",
       "    </tr>\n",
       "    <tr>\n",
       "      <th>1990-02-22</th>\n",
       "      <td>7.73</td>\n",
       "      <td>0.53</td>\n",
       "      <td>6.22</td>\n",
       "    </tr>\n",
       "    <tr>\n",
       "      <th>1990-02-23</th>\n",
       "      <td>7.79</td>\n",
       "      <td>0.53</td>\n",
       "      <td>6.22</td>\n",
       "    </tr>\n",
       "    <tr>\n",
       "      <th>1990-02-26</th>\n",
       "      <td>7.97</td>\n",
       "      <td>0.54</td>\n",
       "      <td>6.37</td>\n",
       "    </tr>\n",
       "    <tr>\n",
       "      <th>1990-02-27</th>\n",
       "      <td>7.85</td>\n",
       "      <td>0.53</td>\n",
       "      <td>6.38</td>\n",
       "    </tr>\n",
       "    <tr>\n",
       "      <th>1990-02-28</th>\n",
       "      <td>7.97</td>\n",
       "      <td>0.54</td>\n",
       "      <td>6.20</td>\n",
       "    </tr>\n",
       "    <tr>\n",
       "      <th>1990-03-01</th>\n",
       "      <td>8.03</td>\n",
       "      <td>0.55</td>\n",
       "      <td>6.13</td>\n",
       "    </tr>\n",
       "    <tr>\n",
       "      <th>1990-03-02</th>\n",
       "      <td>7.91</td>\n",
       "      <td>0.57</td>\n",
       "      <td>6.17</td>\n",
       "    </tr>\n",
       "    <tr>\n",
       "      <th>1990-03-05</th>\n",
       "      <td>8.08</td>\n",
       "      <td>0.57</td>\n",
       "      <td>6.10</td>\n",
       "    </tr>\n",
       "    <tr>\n",
       "      <th>1990-03-06</th>\n",
       "      <td>8.26</td>\n",
       "      <td>0.57</td>\n",
       "      <td>6.22</td>\n",
       "    </tr>\n",
       "    <tr>\n",
       "      <th>1990-03-07</th>\n",
       "      <td>8.29</td>\n",
       "      <td>0.56</td>\n",
       "      <td>6.13</td>\n",
       "    </tr>\n",
       "    <tr>\n",
       "      <th>1990-03-08</th>\n",
       "      <td>8.61</td>\n",
       "      <td>0.58</td>\n",
       "      <td>6.17</td>\n",
       "    </tr>\n",
       "    <tr>\n",
       "      <th>1990-03-09</th>\n",
       "      <td>8.64</td>\n",
       "      <td>0.58</td>\n",
       "      <td>6.12</td>\n",
       "    </tr>\n",
       "    <tr>\n",
       "      <th>1990-03-12</th>\n",
       "      <td>8.58</td>\n",
       "      <td>0.59</td>\n",
       "      <td>6.13</td>\n",
       "    </tr>\n",
       "    <tr>\n",
       "      <th>1990-03-13</th>\n",
       "      <td>8.64</td>\n",
       "      <td>0.58</td>\n",
       "      <td>6.02</td>\n",
       "    </tr>\n",
       "    <tr>\n",
       "      <th>1990-03-14</th>\n",
       "      <td>8.67</td>\n",
       "      <td>0.59</td>\n",
       "      <td>6.13</td>\n",
       "    </tr>\n",
       "    <tr>\n",
       "      <th>...</th>\n",
       "      <td>...</td>\n",
       "      <td>...</td>\n",
       "      <td>...</td>\n",
       "    </tr>\n",
       "    <tr>\n",
       "      <th>2011-09-05</th>\n",
       "      <td>374.05</td>\n",
       "      <td>25.80</td>\n",
       "      <td>72.14</td>\n",
       "    </tr>\n",
       "    <tr>\n",
       "      <th>2011-09-06</th>\n",
       "      <td>379.74</td>\n",
       "      <td>25.51</td>\n",
       "      <td>71.15</td>\n",
       "    </tr>\n",
       "    <tr>\n",
       "      <th>2011-09-07</th>\n",
       "      <td>383.93</td>\n",
       "      <td>26.00</td>\n",
       "      <td>73.65</td>\n",
       "    </tr>\n",
       "    <tr>\n",
       "      <th>2011-09-08</th>\n",
       "      <td>384.14</td>\n",
       "      <td>26.22</td>\n",
       "      <td>72.82</td>\n",
       "    </tr>\n",
       "    <tr>\n",
       "      <th>2011-09-09</th>\n",
       "      <td>377.48</td>\n",
       "      <td>25.74</td>\n",
       "      <td>71.01</td>\n",
       "    </tr>\n",
       "    <tr>\n",
       "      <th>2011-09-12</th>\n",
       "      <td>379.94</td>\n",
       "      <td>25.89</td>\n",
       "      <td>71.84</td>\n",
       "    </tr>\n",
       "    <tr>\n",
       "      <th>2011-09-13</th>\n",
       "      <td>384.62</td>\n",
       "      <td>26.04</td>\n",
       "      <td>71.65</td>\n",
       "    </tr>\n",
       "    <tr>\n",
       "      <th>2011-09-14</th>\n",
       "      <td>389.30</td>\n",
       "      <td>26.50</td>\n",
       "      <td>72.64</td>\n",
       "    </tr>\n",
       "    <tr>\n",
       "      <th>2011-09-15</th>\n",
       "      <td>392.96</td>\n",
       "      <td>26.99</td>\n",
       "      <td>74.01</td>\n",
       "    </tr>\n",
       "    <tr>\n",
       "      <th>2011-09-16</th>\n",
       "      <td>400.50</td>\n",
       "      <td>27.12</td>\n",
       "      <td>74.55</td>\n",
       "    </tr>\n",
       "    <tr>\n",
       "      <th>2011-09-19</th>\n",
       "      <td>411.63</td>\n",
       "      <td>27.21</td>\n",
       "      <td>73.70</td>\n",
       "    </tr>\n",
       "    <tr>\n",
       "      <th>2011-09-20</th>\n",
       "      <td>413.45</td>\n",
       "      <td>26.98</td>\n",
       "      <td>74.01</td>\n",
       "    </tr>\n",
       "    <tr>\n",
       "      <th>2011-09-21</th>\n",
       "      <td>412.14</td>\n",
       "      <td>25.99</td>\n",
       "      <td>71.97</td>\n",
       "    </tr>\n",
       "    <tr>\n",
       "      <th>2011-09-22</th>\n",
       "      <td>401.82</td>\n",
       "      <td>25.06</td>\n",
       "      <td>69.24</td>\n",
       "    </tr>\n",
       "    <tr>\n",
       "      <th>2011-09-23</th>\n",
       "      <td>404.30</td>\n",
       "      <td>25.06</td>\n",
       "      <td>69.31</td>\n",
       "    </tr>\n",
       "    <tr>\n",
       "      <th>2011-09-26</th>\n",
       "      <td>403.17</td>\n",
       "      <td>25.44</td>\n",
       "      <td>71.72</td>\n",
       "    </tr>\n",
       "    <tr>\n",
       "      <th>2011-09-27</th>\n",
       "      <td>399.26</td>\n",
       "      <td>25.67</td>\n",
       "      <td>72.91</td>\n",
       "    </tr>\n",
       "    <tr>\n",
       "      <th>2011-09-28</th>\n",
       "      <td>397.01</td>\n",
       "      <td>25.58</td>\n",
       "      <td>72.07</td>\n",
       "    </tr>\n",
       "    <tr>\n",
       "      <th>2011-09-29</th>\n",
       "      <td>390.57</td>\n",
       "      <td>25.45</td>\n",
       "      <td>73.88</td>\n",
       "    </tr>\n",
       "    <tr>\n",
       "      <th>2011-09-30</th>\n",
       "      <td>381.32</td>\n",
       "      <td>24.89</td>\n",
       "      <td>72.63</td>\n",
       "    </tr>\n",
       "    <tr>\n",
       "      <th>2011-10-03</th>\n",
       "      <td>374.60</td>\n",
       "      <td>24.53</td>\n",
       "      <td>71.15</td>\n",
       "    </tr>\n",
       "    <tr>\n",
       "      <th>2011-10-04</th>\n",
       "      <td>372.50</td>\n",
       "      <td>25.34</td>\n",
       "      <td>72.83</td>\n",
       "    </tr>\n",
       "    <tr>\n",
       "      <th>2011-10-05</th>\n",
       "      <td>378.25</td>\n",
       "      <td>25.89</td>\n",
       "      <td>73.95</td>\n",
       "    </tr>\n",
       "    <tr>\n",
       "      <th>2011-10-06</th>\n",
       "      <td>377.37</td>\n",
       "      <td>26.34</td>\n",
       "      <td>73.89</td>\n",
       "    </tr>\n",
       "    <tr>\n",
       "      <th>2011-10-07</th>\n",
       "      <td>369.80</td>\n",
       "      <td>26.25</td>\n",
       "      <td>73.56</td>\n",
       "    </tr>\n",
       "    <tr>\n",
       "      <th>2011-10-10</th>\n",
       "      <td>388.81</td>\n",
       "      <td>26.94</td>\n",
       "      <td>76.28</td>\n",
       "    </tr>\n",
       "    <tr>\n",
       "      <th>2011-10-11</th>\n",
       "      <td>400.29</td>\n",
       "      <td>27.00</td>\n",
       "      <td>76.27</td>\n",
       "    </tr>\n",
       "    <tr>\n",
       "      <th>2011-10-12</th>\n",
       "      <td>402.19</td>\n",
       "      <td>26.96</td>\n",
       "      <td>77.16</td>\n",
       "    </tr>\n",
       "    <tr>\n",
       "      <th>2011-10-13</th>\n",
       "      <td>408.43</td>\n",
       "      <td>27.18</td>\n",
       "      <td>76.37</td>\n",
       "    </tr>\n",
       "    <tr>\n",
       "      <th>2011-10-14</th>\n",
       "      <td>422.00</td>\n",
       "      <td>27.27</td>\n",
       "      <td>78.11</td>\n",
       "    </tr>\n",
       "  </tbody>\n",
       "</table>\n",
       "<p>5662 rows × 3 columns</p>\n",
       "</div>"
      ],
      "text/plain": [
       "              AAPL   MSFT    XOM\n",
       "1990-02-01    7.86   0.51   6.12\n",
       "1990-02-02    8.00   0.51   6.24\n",
       "1990-02-05    8.18   0.51   6.25\n",
       "1990-02-06    8.12   0.51   6.23\n",
       "1990-02-07    7.77   0.51   6.33\n",
       "1990-02-08    7.71   0.51   6.35\n",
       "1990-02-09    8.00   0.52   6.37\n",
       "1990-02-12    7.94   0.52   6.22\n",
       "1990-02-13    8.06   0.52   6.23\n",
       "1990-02-14    8.00   0.52   6.20\n",
       "1990-02-15    8.00   0.53   6.40\n",
       "1990-02-16    7.91   0.53   6.33\n",
       "1990-02-19    7.91   0.53   6.33\n",
       "1990-02-20    7.85   0.55   6.25\n",
       "1990-02-21    7.97   0.52   6.28\n",
       "1990-02-22    7.73   0.53   6.22\n",
       "1990-02-23    7.79   0.53   6.22\n",
       "1990-02-26    7.97   0.54   6.37\n",
       "1990-02-27    7.85   0.53   6.38\n",
       "1990-02-28    7.97   0.54   6.20\n",
       "1990-03-01    8.03   0.55   6.13\n",
       "1990-03-02    7.91   0.57   6.17\n",
       "1990-03-05    8.08   0.57   6.10\n",
       "1990-03-06    8.26   0.57   6.22\n",
       "1990-03-07    8.29   0.56   6.13\n",
       "1990-03-08    8.61   0.58   6.17\n",
       "1990-03-09    8.64   0.58   6.12\n",
       "1990-03-12    8.58   0.59   6.13\n",
       "1990-03-13    8.64   0.58   6.02\n",
       "1990-03-14    8.67   0.59   6.13\n",
       "...            ...    ...    ...\n",
       "2011-09-05  374.05  25.80  72.14\n",
       "2011-09-06  379.74  25.51  71.15\n",
       "2011-09-07  383.93  26.00  73.65\n",
       "2011-09-08  384.14  26.22  72.82\n",
       "2011-09-09  377.48  25.74  71.01\n",
       "2011-09-12  379.94  25.89  71.84\n",
       "2011-09-13  384.62  26.04  71.65\n",
       "2011-09-14  389.30  26.50  72.64\n",
       "2011-09-15  392.96  26.99  74.01\n",
       "2011-09-16  400.50  27.12  74.55\n",
       "2011-09-19  411.63  27.21  73.70\n",
       "2011-09-20  413.45  26.98  74.01\n",
       "2011-09-21  412.14  25.99  71.97\n",
       "2011-09-22  401.82  25.06  69.24\n",
       "2011-09-23  404.30  25.06  69.31\n",
       "2011-09-26  403.17  25.44  71.72\n",
       "2011-09-27  399.26  25.67  72.91\n",
       "2011-09-28  397.01  25.58  72.07\n",
       "2011-09-29  390.57  25.45  73.88\n",
       "2011-09-30  381.32  24.89  72.63\n",
       "2011-10-03  374.60  24.53  71.15\n",
       "2011-10-04  372.50  25.34  72.83\n",
       "2011-10-05  378.25  25.89  73.95\n",
       "2011-10-06  377.37  26.34  73.89\n",
       "2011-10-07  369.80  26.25  73.56\n",
       "2011-10-10  388.81  26.94  76.28\n",
       "2011-10-11  400.29  27.00  76.27\n",
       "2011-10-12  402.19  26.96  77.16\n",
       "2011-10-13  408.43  27.18  76.37\n",
       "2011-10-14  422.00  27.27  78.11\n",
       "\n",
       "[5662 rows x 3 columns]"
      ]
     },
     "execution_count": 16,
     "metadata": {},
     "output_type": "execute_result"
    }
   ],
   "source": [
    "close_px"
   ]
  },
  {
   "cell_type": "markdown",
   "metadata": {},
   "source": [
    "Calling plot on one of the columns grenerates a simple plot, seen in Figure 10-4."
   ]
  },
  {
   "cell_type": "code",
   "execution_count": 21,
   "metadata": {
    "collapsed": false
   },
   "outputs": [
    {
     "data": {
      "text/plain": [
       "<matplotlib.axes._subplots.AxesSubplot at 0xbc63b38>"
      ]
     },
     "execution_count": 21,
     "metadata": {},
     "output_type": "execute_result"
    },
    {
     "data": {
      "image/png": "[encoded data removed]",
      "text/plain": [
       "<matplotlib.figure.Figure at 0xa37bcc0>"
      ]
     },
     "metadata": {},
     "output_type": "display_data"
    }
   ],
   "source": [
    "close_px['AAPL'].plot()"
   ]
  },
  {
   "cell_type": "markdown",
   "metadata": {},
   "source": [
    "When called on a DataFrame, as you would expect, all of the time series are drawn on\n",
    "a single subplot with a legend indicating which is which. I’ll plot only the year 2009\n",
    "data so you can see how both months and years are formatted on the X axis; see\n",
    "Figure 10-5.\n"
   ]
  },
  {
   "cell_type": "code",
   "execution_count": 22,
   "metadata": {
    "collapsed": false
   },
   "outputs": [
    {
     "data": {
      "text/plain": [
       "<matplotlib.axes._subplots.AxesSubplot at 0xbdd9dd8>"
      ]
     },
     "execution_count": 22,
     "metadata": {},
     "output_type": "execute_result"
    },
    {
     "data": {
      "image/png": "[encoded data removed]",
      "text/plain": [
       "<matplotlib.figure.Figure at 0xbd41278>"
      ]
     },
     "metadata": {},
     "output_type": "display_data"
    }
   ],
   "source": [
    "close_px.ix['2009'].plot()"
   ]
  },
  {
   "cell_type": "markdown",
   "metadata": {},
   "source": [
    "Quarterly frequency data is also more nicely formatted with quarterly markers, something\n",
    "that would be quite a bit more work to do by hand. See Figure 10-7."
   ]
  },
  {
   "cell_type": "code",
   "execution_count": 23,
   "metadata": {
    "collapsed": true
   },
   "outputs": [],
   "source": [
    "aapl_q = close_px['AAPL'].resample('Q-DEC').ffill()"
   ]
  },
  {
   "cell_type": "code",
   "execution_count": 24,
   "metadata": {
    "collapsed": false
   },
   "outputs": [
    {
     "data": {
      "text/plain": [
       "<matplotlib.axes._subplots.AxesSubplot at 0x9bb5e80>"
      ]
     },
     "execution_count": 24,
     "metadata": {},
     "output_type": "execute_result"
    },
    {
     "data": {
      "image/png": "[encoded data removed]",
      "text/plain": [
       "<matplotlib.figure.Figure at 0x139f400>"
      ]
     },
     "metadata": {},
     "output_type": "display_data"
    }
   ],
   "source": [
    "aapl_q.ix['2009':].plot()"
   ]
  },
  {
   "cell_type": "markdown",
   "metadata": {},
   "source": [
    "A last feature of time series plotting in pandas is that by right-clicking and dragging to\n",
    "zoom in and out, the dates will be dynamically expanded or contracted and reformatting\n",
    "depending on the timespan contained in the plot view. This is of course only true\n",
    "when using matplotlib in interactive mode."
   ]
  },
  {
   "cell_type": "markdown",
   "metadata": {},
   "source": [
    "## Moving Window Functions"
   ]
  },
  {
   "cell_type": "markdown",
   "metadata": {
    "collapsed": true
   },
   "source": [
    "A common class of array transformations intended for time series operations are statistics\n",
    "and other functions evaluated over a sliding window or with exponentially de-caying weights. I call these moving window functions, even though it includes functions\n",
    "without a fixed-length window like exponentially-weighted moving average. Like other\n",
    "statistical functions, these also automatically exclude missing data.\n",
    "\n",
    "rolling_mean is one of the simplest such functions. It takes a TimeSeries or DataFrame\n",
    "along with a window (expressed as a number of periods):"
   ]
  },
  {
   "cell_type": "code",
   "execution_count": 31,
   "metadata": {
    "collapsed": false
   },
   "outputs": [
    {
     "data": {
      "image/png": "[encoded data removed]",
      "text/plain": [
       "<matplotlib.figure.Figure at 0xa44f320>"
      ]
     },
     "metadata": {},
     "output_type": "display_data"
    }
   ],
   "source": [
    "close_px.AAPL.plot()\n",
    "close_px.AAPL.rolling(window = 250).mean().plot(figsize = (18,4));"
   ]
  },
  {
   "cell_type": "code",
   "execution_count": 48,
   "metadata": {
    "collapsed": false
   },
   "outputs": [
    {
     "data": {
      "text/plain": [
       "1990-02-01         NaN\n",
       "1990-02-02         NaN\n",
       "1990-02-05         NaN\n",
       "1990-02-06         NaN\n",
       "1990-02-07         NaN\n",
       "1990-02-08         NaN\n",
       "1990-02-09         NaN\n",
       "1990-02-12         NaN\n",
       "1990-02-13         NaN\n",
       "1990-02-14    0.148189\n",
       "1990-02-15    0.141003\n",
       "1990-02-16    0.135454\n",
       "1990-02-19    0.130502\n",
       "1990-02-20    0.128690\n",
       "1990-02-21    0.124108\n",
       "1990-02-22    0.132122\n",
       "1990-02-23    0.132875\n",
       "1990-02-26    0.129263\n",
       "1990-02-27    0.127010\n",
       "1990-02-28    0.123990\n",
       "Freq: B, Name: AAPL, dtype: float64"
      ]
     },
     "execution_count": 48,
     "metadata": {},
     "output_type": "execute_result"
    }
   ],
   "source": [
    "aapl_std250 = close_px.AAPL.rolling(window = 250, min_periods=10).std()\n",
    "aapl_std250.head(20)"
   ]
  },
  {
   "cell_type": "code",
   "execution_count": 44,
   "metadata": {
    "collapsed": false
   },
   "outputs": [
    {
     "data": {
      "image/png": "[encoded data removed]",
      "text/plain": [
       "<matplotlib.figure.Figure at 0xa564438>"
      ]
     },
     "metadata": {},
     "output_type": "display_data"
    }
   ],
   "source": [
    "aapl_std250.plot(figsize = (18,4));"
   ]
  },
  {
   "cell_type": "markdown",
   "metadata": {},
   "source": [
    "To compute an expanding window mean, you can see that an expanding window is just\n",
    "a special case where the window is the length of the time series, but only one or more\n",
    "periods is required to compute a value:"
   ]
  },
  {
   "cell_type": "code",
   "execution_count": 46,
   "metadata": {
    "collapsed": true
   },
   "outputs": [],
   "source": [
    "# Define expanding mean in terms of rolling_mean\n",
    "expanding_mean = lambda x: rolling_mean(x, len(x), min_periods = 1)"
   ]
  },
  {
   "cell_type": "markdown",
   "metadata": {},
   "source": [
    "Calling rolling_mean and friends on a DataFrame applies the transformation to each\n",
    "column (see Figure 10-10):"
   ]
  },
  {
   "cell_type": "code",
   "execution_count": 53,
   "metadata": {
    "collapsed": false
   },
   "outputs": [
    {
     "data": {
      "text/plain": [
       "<matplotlib.axes._subplots.AxesSubplot at 0xef54208>"
      ]
     },
     "execution_count": 53,
     "metadata": {},
     "output_type": "execute_result"
    },
    {
     "name": "stderr",
     "output_type": "stream",
     "text": [
      "C:\\Users\\Brad Sun\\Anaconda3\\lib\\site-packages\\matplotlib\\scale.py:101: RuntimeWarning: invalid value encountered in less_equal\n",
      "  a[a <= 0.0] = 1e-300\n"
     ]
    },
    {
     "data": {
      "image/png": "[encoded data removed]",
      "text/plain": [
       "<matplotlib.figure.Figure at 0xef5bb70>"
      ]
     },
     "metadata": {},
     "output_type": "display_data"
    }
   ],
   "source": [
    "close_px.rolling(window = 100).mean().plot(logy=True)"
   ]
  },
  {
   "cell_type": "markdown",
   "metadata": {},
   "source": [
    "See Table 10-6 for a listing of related functions in pandas.\n",
    "\n",
    "Table 10-6. Moving window and exponentially-weighted functions"
   ]
  },
  {
   "cell_type": "markdown",
   "metadata": {},
   "source": [
    "Function Description\n",
    "\n",
    "rolling_count Returns number of non-NA observations in each trailing window.\n",
    "\n",
    "rolling_sum Moving window sum.\n",
    "\n",
    "rolling_mean Moving window mean.\n",
    "\n",
    "rolling_median Moving window median.\n",
    "\n",
    "rolling_var, rolling_std Moving window variance and standard deviation, respectively. Uses n - 1 denominator.\n",
    "\n",
    "rolling_skew, rolling_kurt Moving window skewness (3rd moment) and kurtosis (4th moment), respectively.\n",
    "\n",
    "rolling_min, rolling_max Moving window minimum and maximum.\n",
    "\n",
    "rolling_quantile Moving window score at percentile/sample quantile.\n",
    "\n",
    "rolling_corr, rolling_cov Moving window correlation and covariance.\n",
    "\n",
    "rolling_apply Apply generic array function over a moving window.\n",
    "\n",
    "ewma Exponentially-weighted moving average.\n",
    "\n",
    "ewmvar, ewmstd Exponentially-weighted moving variance and standard deviation.\n",
    "\n",
    "ewmcorr, ewmcov Exponentially-weighted moving correlation and covariance."
   ]
  },
  {
   "cell_type": "markdown",
   "metadata": {},
   "source": [
    "bottleneck, a Python library by Keith Goodman, provides an alternate\n",
    "implementation of NaN-friendly moving window functions and may be\n",
    "worth looking at depending on your application."
   ]
  },
  {
   "cell_type": "markdown",
   "metadata": {},
   "source": [
    "### Exponentially-weighted functions"
   ]
  },
  {
   "cell_type": "markdown",
   "metadata": {
    "collapsed": true
   },
   "source": [
    "An alternative to using a static window size with equally-weighted observations is to\n",
    "specify a constant decay factor to give more weight to more recent observations. In\n",
    "mathematical terms, if mat is the moving average result at time t and x is the time series\n",
    "in question, each value in the result is computed as mat = a * mat - 1 + (a - 1) * x_t, where\n",
    "a is the decay factor. There are a couple of ways to specify the decay factor, a popular\n",
    "one is using a span, which makes the result comparable to a simple moving window\n",
    "function with window size equal to the span.\n",
    "Since an exponentially-weighted statistic places more weight on more recent observations,\n",
    "it “adapts” faster to changes compared with the equal-weighted version. Here’s\n",
    "an example comparing a 60-day moving average of Apple’s stock price with an EW\n",
    "moving average with span=60 (see Figure 10-11):"
   ]
  },
  {
   "cell_type": "markdown",
   "metadata": {
    "collapsed": true
   },
   "source": [
    "Since an exponentially-weighted statistic places more weight on more recent observations,\n",
    "it “adapts” faster to changes compared with the equal-weighted version. Here’s\n",
    "an example comparing a 60-day moving average of Apple’s stock price with an EW\n",
    "moving average with span=60 (see Figure 10-11):"
   ]
  },
  {
   "cell_type": "code",
   "execution_count": 56,
   "metadata": {
    "collapsed": false
   },
   "outputs": [
    {
     "name": "stderr",
     "output_type": "stream",
     "text": [
      "C:\\Users\\Brad Sun\\Anaconda3\\lib\\site-packages\\ipykernel\\__main__.py:4: FutureWarning: pd.rolling_mean is deprecated for Series and will be removed in a future version, replace with \n",
      "\tSeries.rolling(min_periods=50,center=False,window=60).mean()\n",
      "C:\\Users\\Brad Sun\\Anaconda3\\lib\\site-packages\\ipykernel\\__main__.py:5: FutureWarning: pd.ewm_mean is deprecated for Series and will be removed in a future version, replace with \n",
      "\tSeries.ewm(ignore_na=False,min_periods=0,span=60,adjust=True).mean()\n"
     ]
    },
    {
     "data": {
      "text/plain": [
       "<matplotlib.text.Text at 0xf2ebe48>"
      ]
     },
     "execution_count": 56,
     "metadata": {},
     "output_type": "execute_result"
    },
    {
     "data": {
      "image/png": "[encoded data removed]",
      "text/plain": [
       "<matplotlib.figure.Figure at 0xf269d30>"
      ]
     },
     "metadata": {},
     "output_type": "display_data"
    }
   ],
   "source": [
    "fig, axes = plt.subplots(nrows=2, ncols=1, sharex=True, sharey=True,\n",
    "figsize=(12, 7))\n",
    "aapl_px = close_px.AAPL['2005':'2009']\n",
    "ma60 = pd.rolling_mean(aapl_px, 60, min_periods=50)\n",
    "ewma60 = pd.ewma(aapl_px, span=60)\n",
    "aapl_px.plot(style='k-', ax=axes[0])\n",
    "ma60.plot(style='k--', ax=axes[0])\n",
    "aapl_px.plot(style='k-', ax=axes[1])\n",
    "ewma60.plot(style='k--', ax=axes[1])\n",
    "axes[0].set_title('Simple MA')\n",
    "axes[1].set_title('Exponentially-weighted MA')"
   ]
  },
  {
   "cell_type": "markdown",
   "metadata": {},
   "source": [
    "### Binary Moving Window Functions"
   ]
  },
  {
   "cell_type": "markdown",
   "metadata": {
    "collapsed": true
   },
   "source": [
    "Some statistical operators, like correlation and covariance, need to operate on two time\n",
    "series. As an example, financial analysts are often interested in a stock’s correlation to\n",
    "a benchmark index like the S&P 500. We can compute that by computing the percent\n",
    "changes and using rolling_corr (see Figure 10-12):"
   ]
  },
  {
   "cell_type": "code",
   "execution_count": 59,
   "metadata": {
    "collapsed": false
   },
   "outputs": [],
   "source": [
    "spx_rets = close_px.AAPL / close_px.AAPL.shift(1) - 1"
   ]
  },
  {
   "cell_type": "code",
   "execution_count": 62,
   "metadata": {
    "collapsed": true
   },
   "outputs": [],
   "source": [
    "returns = close_px.pct_change()"
   ]
  },
  {
   "cell_type": "code",
   "execution_count": 65,
   "metadata": {
    "collapsed": false
   },
   "outputs": [
    {
     "name": "stderr",
     "output_type": "stream",
     "text": [
      "C:\\Users\\Brad Sun\\Anaconda3\\lib\\site-packages\\ipykernel\\__main__.py:1: FutureWarning: pd.rolling_corr is deprecated for Series and will be removed in a future version, replace with \n",
      "\tSeries.rolling(min_periods=100,window=125).corr(other=<Series>)\n",
      "  if __name__ == '__main__':\n"
     ]
    }
   ],
   "source": [
    "corr = pd.rolling_corr(returns.MSFT, spx_rets, 125, min_periods=100)"
   ]
  },
  {
   "cell_type": "code",
   "execution_count": 68,
   "metadata": {
    "collapsed": false
   },
   "outputs": [
    {
     "data": {
      "image/png": "[encoded data removed]",
      "text/plain": [
       "<matplotlib.figure.Figure at 0xf2eb4e0>"
      ]
     },
     "metadata": {},
     "output_type": "display_data"
    }
   ],
   "source": [
    "corr.plot(figsize = (16,8));"
   ]
  },
  {
   "cell_type": "markdown",
   "metadata": {
    "collapsed": true
   },
   "source": [
    "Suppose you wanted to compute the correlation of the S&P 500 index with many stocks\n",
    "at once. Writing a loop and creating a new DataFrame would be easy but maybe get\n",
    "repetitive, so if you pass a TimeSeries and a DataFrame, a function like rolling_corr\n",
    "will compute the correlation of the TimeSeries (spx_rets in this case) with each column\n",
    "in the DataFrame. See Figure 10-13 for the plot of the result:"
   ]
  },
  {
   "cell_type": "code",
   "execution_count": 69,
   "metadata": {
    "collapsed": false
   },
   "outputs": [
    {
     "name": "stderr",
     "output_type": "stream",
     "text": [
      "C:\\Users\\Brad Sun\\Anaconda3\\lib\\site-packages\\ipykernel\\__main__.py:1: FutureWarning: pd.rolling_corr is deprecated for DataFrame and will be removed in a future version, replace with \n",
      "\tDataFrame.rolling(min_periods=100,window=125).corr(other=<Series>)\n",
      "  if __name__ == '__main__':\n"
     ]
    }
   ],
   "source": [
    "corr = pd.rolling_corr(returns, spx_rets, 125, min_periods=100)"
   ]
  },
  {
   "cell_type": "code",
   "execution_count": 70,
   "metadata": {
    "collapsed": false
   },
   "outputs": [
    {
     "data": {
      "text/plain": [
       "<matplotlib.axes._subplots.AxesSubplot at 0xf3c24a8>"
      ]
     },
     "execution_count": 70,
     "metadata": {},
     "output_type": "execute_result"
    },
    {
     "data": {
      "image/png": "[encoded data removed]",
      "text/plain": [
       "<matplotlib.figure.Figure at 0xf07d8d0>"
      ]
     },
     "metadata": {},
     "output_type": "display_data"
    }
   ],
   "source": [
    "corr.plot()"
   ]
  },
  {
   "cell_type": "markdown",
   "metadata": {},
   "source": [
    "### User-Defined Moving Window Functions"
   ]
  },
  {
   "cell_type": "markdown",
   "metadata": {
    "collapsed": true
   },
   "source": [
    "The rolling_apply function provides a means to apply an array function of your own\n",
    "devising over a moving window. The only requirement is that the function produce a\n",
    "single value (a reduction) from each piece of the array. For example, while we can\n",
    "compute sample quantiles using rolling_quantile, we might be interested in the percentile\n",
    "rank of a particular value over the sample. The scipy.stats.percentile of\n",
    "score function does just this:"
   ]
  },
  {
   "cell_type": "code",
   "execution_count": 71,
   "metadata": {
    "collapsed": true
   },
   "outputs": [],
   "source": [
    "from scipy.stats import percentileofscore"
   ]
  },
  {
   "cell_type": "code",
   "execution_count": 85,
   "metadata": {
    "collapsed": true
   },
   "outputs": [],
   "source": [
    "score_at_2percent = lambda x: percentileofscore(x, 0.03)"
   ]
  },
  {
   "cell_type": "code",
   "execution_count": 86,
   "metadata": {
    "collapsed": false
   },
   "outputs": [
    {
     "name": "stderr",
     "output_type": "stream",
     "text": [
      "C:\\Users\\Brad Sun\\Anaconda3\\lib\\site-packages\\ipykernel\\__main__.py:1: FutureWarning: pd.rolling_apply is deprecated for Series and will be removed in a future version, replace with \n",
      "\tSeries.rolling(center=False,window=250).apply(func=<function>,kwargs=<dict>,args=<tuple>)\n",
      "  if __name__ == '__main__':\n"
     ]
    }
   ],
   "source": [
    "result = pd.rolling_apply(returns.AAPL, 250, score_at_2percent)"
   ]
  },
  {
   "cell_type": "code",
   "execution_count": 87,
   "metadata": {
    "collapsed": false
   },
   "outputs": [
    {
     "data": {
      "image/png": "[encoded data removed]",
      "text/plain": [
       "<matplotlib.figure.Figure at 0x1025eb00>"
      ]
     },
     "metadata": {},
     "output_type": "display_data"
    }
   ],
   "source": [
    "result.plot();"
   ]
  },
  {
   "cell_type": "markdown",
   "metadata": {},
   "source": [
    "## Performance and Memory Usage Notes"
   ]
  },
  {
   "cell_type": "markdown",
   "metadata": {
    "collapsed": true
   },
   "source": [
    "Timestamps and periods are represented as 64-bit integers using NumPy’s date\n",
    "time64 dtype. This means that for each data point, there is an associated 8 bytes of\n",
    "memory per timestamp. Thus, a time series with 1 million float64 data points has a\n",
    "memory footprint of approximately 16 megabytes. Since pandas makes every effort to\n",
    "share indexes among time series, creating views on existing time series do not cause\n",
    "any more memory to be used. Additionally, indexes for lower frequencies (daily and\n",
    "up) are stored in a central cache, so that any fixed-frequency index is a view on the date\n",
    "cache. Thus, if you have a large collection of low-frequency time series, the memory\n",
    "footprint of the indexes will not be as significant."
   ]
  },
  {
   "cell_type": "markdown",
   "metadata": {
    "collapsed": true
   },
   "source": [
    "Performance-wise, pandas has been highly optimized for data alignment operations\n",
    "(the behind-the-scenes work of differently indexed ts1 + ts2) and resampling. Here is\n",
    "an example of aggregating 10MM data points to OHLC:"
   ]
  },
  {
   "cell_type": "code",
   "execution_count": 88,
   "metadata": {
    "collapsed": true
   },
   "outputs": [],
   "source": [
    "rng = pd.date_range('1/1/2000', periods=10000000, freq='10ms')"
   ]
  },
  {
   "cell_type": "code",
   "execution_count": 89,
   "metadata": {
    "collapsed": true
   },
   "outputs": [],
   "source": [
    "ts = Series(np.random.randn(len(rng)), index=rng)"
   ]
  },
  {
   "cell_type": "code",
   "execution_count": 90,
   "metadata": {
    "collapsed": false
   },
   "outputs": [
    {
     "data": {
      "text/plain": [
       "2000-01-01 00:00:00.000    1.470021\n",
       "2000-01-01 00:00:00.010    1.036322\n",
       "2000-01-01 00:00:00.020   -1.290436\n",
       "2000-01-01 00:00:00.030    2.775656\n",
       "2000-01-01 00:00:00.040   -0.272012\n",
       "2000-01-01 00:00:00.050    1.982004\n",
       "2000-01-01 00:00:00.060   -0.244457\n",
       "2000-01-01 00:00:00.070    2.896060\n",
       "2000-01-01 00:00:00.080   -1.451036\n",
       "2000-01-01 00:00:00.090    0.456416\n",
       "2000-01-01 00:00:00.100   -0.433699\n",
       "2000-01-01 00:00:00.110   -0.820681\n",
       "2000-01-01 00:00:00.120    1.061537\n",
       "2000-01-01 00:00:00.130   -2.144890\n",
       "2000-01-01 00:00:00.140    0.475654\n",
       "2000-01-01 00:00:00.150    0.407978\n",
       "2000-01-01 00:00:00.160   -0.461174\n",
       "2000-01-01 00:00:00.170   -0.369313\n",
       "2000-01-01 00:00:00.180    1.175311\n",
       "2000-01-01 00:00:00.190   -0.866185\n",
       "2000-01-01 00:00:00.200   -0.109659\n",
       "2000-01-01 00:00:00.210    0.222640\n",
       "2000-01-01 00:00:00.220    0.249193\n",
       "2000-01-01 00:00:00.230   -1.564050\n",
       "2000-01-01 00:00:00.240   -0.698271\n",
       "2000-01-01 00:00:00.250    0.375592\n",
       "2000-01-01 00:00:00.260    1.990767\n",
       "2000-01-01 00:00:00.270   -1.210754\n",
       "2000-01-01 00:00:00.280    0.032278\n",
       "2000-01-01 00:00:00.290   -1.509802\n",
       "                             ...   \n",
       "2000-01-02 03:46:39.700    0.121681\n",
       "2000-01-02 03:46:39.710   -0.328547\n",
       "2000-01-02 03:46:39.720   -0.172134\n",
       "2000-01-02 03:46:39.730   -0.205761\n",
       "2000-01-02 03:46:39.740    0.573225\n",
       "2000-01-02 03:46:39.750   -2.110905\n",
       "2000-01-02 03:46:39.760    0.134519\n",
       "2000-01-02 03:46:39.770   -0.212563\n",
       "2000-01-02 03:46:39.780    1.404352\n",
       "2000-01-02 03:46:39.790   -1.477786\n",
       "2000-01-02 03:46:39.800    0.188592\n",
       "2000-01-02 03:46:39.810    0.926244\n",
       "2000-01-02 03:46:39.820    0.867424\n",
       "2000-01-02 03:46:39.830   -0.345465\n",
       "2000-01-02 03:46:39.840   -1.414250\n",
       "2000-01-02 03:46:39.850    2.306222\n",
       "2000-01-02 03:46:39.860    0.550005\n",
       "2000-01-02 03:46:39.870   -1.163096\n",
       "2000-01-02 03:46:39.880    0.828648\n",
       "2000-01-02 03:46:39.890   -2.354571\n",
       "2000-01-02 03:46:39.900    0.139621\n",
       "2000-01-02 03:46:39.910   -0.441278\n",
       "2000-01-02 03:46:39.920    0.897172\n",
       "2000-01-02 03:46:39.930   -0.254534\n",
       "2000-01-02 03:46:39.940    1.792549\n",
       "2000-01-02 03:46:39.950    1.231006\n",
       "2000-01-02 03:46:39.960   -1.254863\n",
       "2000-01-02 03:46:39.970    0.514472\n",
       "2000-01-02 03:46:39.980    1.784158\n",
       "2000-01-02 03:46:39.990    0.557773\n",
       "Freq: 10L, dtype: float64"
      ]
     },
     "execution_count": 90,
     "metadata": {},
     "output_type": "execute_result"
    }
   ],
   "source": [
    "ts"
   ]
  },
  {
   "cell_type": "code",
   "execution_count": 91,
   "metadata": {
    "collapsed": false,
    "scrolled": true
   },
   "outputs": [
    {
     "name": "stderr",
     "output_type": "stream",
     "text": [
      "C:\\Users\\Brad Sun\\Anaconda3\\lib\\site-packages\\ipykernel\\__main__.py:1: FutureWarning: how in .resample() is deprecated\n",
      "the new syntax is .resample(...).ohlc()\n",
      "  if __name__ == '__main__':\n"
     ]
    },
    {
     "data": {
      "text/html": [
       "<div>\n",
       "<table border=\"1\" class=\"dataframe\">\n",
       "  <thead>\n",
       "    <tr style=\"text-align: right;\">\n",
       "      <th></th>\n",
       "      <th>open</th>\n",
       "      <th>high</th>\n",
       "      <th>low</th>\n",
       "      <th>close</th>\n",
       "    </tr>\n",
       "  </thead>\n",
       "  <tbody>\n",
       "    <tr>\n",
       "      <th>2000-01-01 00:00:00</th>\n",
       "      <td>1.470021</td>\n",
       "      <td>4.329241</td>\n",
       "      <td>-4.646885</td>\n",
       "      <td>2.530352</td>\n",
       "    </tr>\n",
       "    <tr>\n",
       "      <th>2000-01-01 00:15:00</th>\n",
       "      <td>0.103544</td>\n",
       "      <td>4.119295</td>\n",
       "      <td>-4.401476</td>\n",
       "      <td>0.060178</td>\n",
       "    </tr>\n",
       "    <tr>\n",
       "      <th>2000-01-01 00:30:00</th>\n",
       "      <td>-0.330937</td>\n",
       "      <td>4.578298</td>\n",
       "      <td>-4.478336</td>\n",
       "      <td>1.477486</td>\n",
       "    </tr>\n",
       "    <tr>\n",
       "      <th>2000-01-01 00:45:00</th>\n",
       "      <td>-1.706492</td>\n",
       "      <td>4.169188</td>\n",
       "      <td>-4.288725</td>\n",
       "      <td>0.523674</td>\n",
       "    </tr>\n",
       "    <tr>\n",
       "      <th>2000-01-01 01:00:00</th>\n",
       "      <td>-1.505131</td>\n",
       "      <td>4.580700</td>\n",
       "      <td>-4.200038</td>\n",
       "      <td>0.308712</td>\n",
       "    </tr>\n",
       "    <tr>\n",
       "      <th>2000-01-01 01:15:00</th>\n",
       "      <td>-0.673935</td>\n",
       "      <td>4.532027</td>\n",
       "      <td>-4.098431</td>\n",
       "      <td>-0.665713</td>\n",
       "    </tr>\n",
       "    <tr>\n",
       "      <th>2000-01-01 01:30:00</th>\n",
       "      <td>-0.179967</td>\n",
       "      <td>4.546558</td>\n",
       "      <td>-4.382987</td>\n",
       "      <td>-0.782121</td>\n",
       "    </tr>\n",
       "    <tr>\n",
       "      <th>2000-01-01 01:45:00</th>\n",
       "      <td>1.024510</td>\n",
       "      <td>4.198820</td>\n",
       "      <td>-4.319923</td>\n",
       "      <td>-0.519575</td>\n",
       "    </tr>\n",
       "    <tr>\n",
       "      <th>2000-01-01 02:00:00</th>\n",
       "      <td>1.082743</td>\n",
       "      <td>4.200368</td>\n",
       "      <td>-3.938216</td>\n",
       "      <td>-0.459394</td>\n",
       "    </tr>\n",
       "    <tr>\n",
       "      <th>2000-01-01 02:15:00</th>\n",
       "      <td>-0.489962</td>\n",
       "      <td>4.385090</td>\n",
       "      <td>-4.155148</td>\n",
       "      <td>-0.054038</td>\n",
       "    </tr>\n",
       "    <tr>\n",
       "      <th>2000-01-01 02:30:00</th>\n",
       "      <td>-0.574656</td>\n",
       "      <td>4.614017</td>\n",
       "      <td>-4.446064</td>\n",
       "      <td>-0.067925</td>\n",
       "    </tr>\n",
       "    <tr>\n",
       "      <th>2000-01-01 02:45:00</th>\n",
       "      <td>-0.527346</td>\n",
       "      <td>4.254320</td>\n",
       "      <td>-4.121239</td>\n",
       "      <td>-0.665828</td>\n",
       "    </tr>\n",
       "    <tr>\n",
       "      <th>2000-01-01 03:00:00</th>\n",
       "      <td>-1.252021</td>\n",
       "      <td>4.270621</td>\n",
       "      <td>-4.242655</td>\n",
       "      <td>-0.501673</td>\n",
       "    </tr>\n",
       "    <tr>\n",
       "      <th>2000-01-01 03:15:00</th>\n",
       "      <td>0.802194</td>\n",
       "      <td>4.140230</td>\n",
       "      <td>-4.649248</td>\n",
       "      <td>0.814609</td>\n",
       "    </tr>\n",
       "    <tr>\n",
       "      <th>2000-01-01 03:30:00</th>\n",
       "      <td>-1.136268</td>\n",
       "      <td>3.934244</td>\n",
       "      <td>-4.854268</td>\n",
       "      <td>0.960162</td>\n",
       "    </tr>\n",
       "    <tr>\n",
       "      <th>2000-01-01 03:45:00</th>\n",
       "      <td>0.346979</td>\n",
       "      <td>4.360100</td>\n",
       "      <td>-4.145438</td>\n",
       "      <td>-1.028023</td>\n",
       "    </tr>\n",
       "    <tr>\n",
       "      <th>2000-01-01 04:00:00</th>\n",
       "      <td>-0.309816</td>\n",
       "      <td>4.281679</td>\n",
       "      <td>-4.370419</td>\n",
       "      <td>-0.753521</td>\n",
       "    </tr>\n",
       "    <tr>\n",
       "      <th>2000-01-01 04:15:00</th>\n",
       "      <td>0.364674</td>\n",
       "      <td>4.434787</td>\n",
       "      <td>-4.726979</td>\n",
       "      <td>-0.506513</td>\n",
       "    </tr>\n",
       "    <tr>\n",
       "      <th>2000-01-01 04:30:00</th>\n",
       "      <td>1.279748</td>\n",
       "      <td>4.436128</td>\n",
       "      <td>-4.682765</td>\n",
       "      <td>-0.848252</td>\n",
       "    </tr>\n",
       "    <tr>\n",
       "      <th>2000-01-01 04:45:00</th>\n",
       "      <td>-0.733568</td>\n",
       "      <td>4.640882</td>\n",
       "      <td>-4.491423</td>\n",
       "      <td>-1.794437</td>\n",
       "    </tr>\n",
       "    <tr>\n",
       "      <th>2000-01-01 05:00:00</th>\n",
       "      <td>-0.103889</td>\n",
       "      <td>4.147082</td>\n",
       "      <td>-4.057174</td>\n",
       "      <td>1.765096</td>\n",
       "    </tr>\n",
       "    <tr>\n",
       "      <th>2000-01-01 05:15:00</th>\n",
       "      <td>0.857557</td>\n",
       "      <td>4.621458</td>\n",
       "      <td>-4.351029</td>\n",
       "      <td>0.628522</td>\n",
       "    </tr>\n",
       "    <tr>\n",
       "      <th>2000-01-01 05:30:00</th>\n",
       "      <td>0.566362</td>\n",
       "      <td>4.490012</td>\n",
       "      <td>-4.390436</td>\n",
       "      <td>-0.705583</td>\n",
       "    </tr>\n",
       "    <tr>\n",
       "      <th>2000-01-01 05:45:00</th>\n",
       "      <td>-0.381822</td>\n",
       "      <td>4.591435</td>\n",
       "      <td>-4.147722</td>\n",
       "      <td>-0.798802</td>\n",
       "    </tr>\n",
       "    <tr>\n",
       "      <th>2000-01-01 06:00:00</th>\n",
       "      <td>0.311097</td>\n",
       "      <td>4.425035</td>\n",
       "      <td>-4.233702</td>\n",
       "      <td>-1.208885</td>\n",
       "    </tr>\n",
       "    <tr>\n",
       "      <th>2000-01-01 06:15:00</th>\n",
       "      <td>-1.632723</td>\n",
       "      <td>4.680984</td>\n",
       "      <td>-4.979939</td>\n",
       "      <td>-1.405020</td>\n",
       "    </tr>\n",
       "    <tr>\n",
       "      <th>2000-01-01 06:30:00</th>\n",
       "      <td>-0.964935</td>\n",
       "      <td>4.268101</td>\n",
       "      <td>-4.038069</td>\n",
       "      <td>-0.673449</td>\n",
       "    </tr>\n",
       "    <tr>\n",
       "      <th>2000-01-01 06:45:00</th>\n",
       "      <td>-1.838804</td>\n",
       "      <td>4.107617</td>\n",
       "      <td>-4.101163</td>\n",
       "      <td>-1.254228</td>\n",
       "    </tr>\n",
       "    <tr>\n",
       "      <th>2000-01-01 07:00:00</th>\n",
       "      <td>0.040357</td>\n",
       "      <td>4.303779</td>\n",
       "      <td>-4.387520</td>\n",
       "      <td>0.300248</td>\n",
       "    </tr>\n",
       "    <tr>\n",
       "      <th>2000-01-01 07:15:00</th>\n",
       "      <td>-0.713097</td>\n",
       "      <td>4.175524</td>\n",
       "      <td>-4.255353</td>\n",
       "      <td>-0.016198</td>\n",
       "    </tr>\n",
       "    <tr>\n",
       "      <th>...</th>\n",
       "      <td>...</td>\n",
       "      <td>...</td>\n",
       "      <td>...</td>\n",
       "      <td>...</td>\n",
       "    </tr>\n",
       "    <tr>\n",
       "      <th>2000-01-01 20:30:00</th>\n",
       "      <td>1.338228</td>\n",
       "      <td>4.108449</td>\n",
       "      <td>-3.926469</td>\n",
       "      <td>0.653228</td>\n",
       "    </tr>\n",
       "    <tr>\n",
       "      <th>2000-01-01 20:45:00</th>\n",
       "      <td>-0.587156</td>\n",
       "      <td>4.873349</td>\n",
       "      <td>-4.184712</td>\n",
       "      <td>-0.409955</td>\n",
       "    </tr>\n",
       "    <tr>\n",
       "      <th>2000-01-01 21:00:00</th>\n",
       "      <td>-0.961833</td>\n",
       "      <td>5.055232</td>\n",
       "      <td>-4.385586</td>\n",
       "      <td>0.595961</td>\n",
       "    </tr>\n",
       "    <tr>\n",
       "      <th>2000-01-01 21:15:00</th>\n",
       "      <td>-1.996175</td>\n",
       "      <td>4.553992</td>\n",
       "      <td>-4.335731</td>\n",
       "      <td>-0.024372</td>\n",
       "    </tr>\n",
       "    <tr>\n",
       "      <th>2000-01-01 21:30:00</th>\n",
       "      <td>-1.285787</td>\n",
       "      <td>4.185370</td>\n",
       "      <td>-4.422670</td>\n",
       "      <td>0.249975</td>\n",
       "    </tr>\n",
       "    <tr>\n",
       "      <th>2000-01-01 21:45:00</th>\n",
       "      <td>0.086247</td>\n",
       "      <td>4.580525</td>\n",
       "      <td>-3.910144</td>\n",
       "      <td>-1.213360</td>\n",
       "    </tr>\n",
       "    <tr>\n",
       "      <th>2000-01-01 22:00:00</th>\n",
       "      <td>-0.680236</td>\n",
       "      <td>4.556645</td>\n",
       "      <td>-4.074738</td>\n",
       "      <td>0.097125</td>\n",
       "    </tr>\n",
       "    <tr>\n",
       "      <th>2000-01-01 22:15:00</th>\n",
       "      <td>-0.077140</td>\n",
       "      <td>4.306037</td>\n",
       "      <td>-4.721350</td>\n",
       "      <td>-0.897087</td>\n",
       "    </tr>\n",
       "    <tr>\n",
       "      <th>2000-01-01 22:30:00</th>\n",
       "      <td>-1.652124</td>\n",
       "      <td>4.494702</td>\n",
       "      <td>-4.459795</td>\n",
       "      <td>1.246865</td>\n",
       "    </tr>\n",
       "    <tr>\n",
       "      <th>2000-01-01 22:45:00</th>\n",
       "      <td>0.907866</td>\n",
       "      <td>4.312240</td>\n",
       "      <td>-4.321506</td>\n",
       "      <td>-1.093736</td>\n",
       "    </tr>\n",
       "    <tr>\n",
       "      <th>2000-01-01 23:00:00</th>\n",
       "      <td>-1.436933</td>\n",
       "      <td>4.476824</td>\n",
       "      <td>-4.269024</td>\n",
       "      <td>2.351400</td>\n",
       "    </tr>\n",
       "    <tr>\n",
       "      <th>2000-01-01 23:15:00</th>\n",
       "      <td>0.314934</td>\n",
       "      <td>4.289898</td>\n",
       "      <td>-3.729065</td>\n",
       "      <td>-0.297992</td>\n",
       "    </tr>\n",
       "    <tr>\n",
       "      <th>2000-01-01 23:30:00</th>\n",
       "      <td>-0.044899</td>\n",
       "      <td>4.413851</td>\n",
       "      <td>-4.514463</td>\n",
       "      <td>0.192402</td>\n",
       "    </tr>\n",
       "    <tr>\n",
       "      <th>2000-01-01 23:45:00</th>\n",
       "      <td>0.579942</td>\n",
       "      <td>4.350100</td>\n",
       "      <td>-4.147768</td>\n",
       "      <td>-0.025862</td>\n",
       "    </tr>\n",
       "    <tr>\n",
       "      <th>2000-01-02 00:00:00</th>\n",
       "      <td>0.008795</td>\n",
       "      <td>4.343917</td>\n",
       "      <td>-4.147332</td>\n",
       "      <td>3.451300</td>\n",
       "    </tr>\n",
       "    <tr>\n",
       "      <th>2000-01-02 00:15:00</th>\n",
       "      <td>-0.527464</td>\n",
       "      <td>4.578553</td>\n",
       "      <td>-4.080869</td>\n",
       "      <td>-0.827183</td>\n",
       "    </tr>\n",
       "    <tr>\n",
       "      <th>2000-01-02 00:30:00</th>\n",
       "      <td>1.239631</td>\n",
       "      <td>5.099014</td>\n",
       "      <td>-3.880963</td>\n",
       "      <td>-1.090263</td>\n",
       "    </tr>\n",
       "    <tr>\n",
       "      <th>2000-01-02 00:45:00</th>\n",
       "      <td>1.453829</td>\n",
       "      <td>4.200602</td>\n",
       "      <td>-5.199916</td>\n",
       "      <td>0.374463</td>\n",
       "    </tr>\n",
       "    <tr>\n",
       "      <th>2000-01-02 01:00:00</th>\n",
       "      <td>0.210918</td>\n",
       "      <td>4.138175</td>\n",
       "      <td>-4.060331</td>\n",
       "      <td>0.163422</td>\n",
       "    </tr>\n",
       "    <tr>\n",
       "      <th>2000-01-02 01:15:00</th>\n",
       "      <td>1.836457</td>\n",
       "      <td>5.186860</td>\n",
       "      <td>-3.934824</td>\n",
       "      <td>0.820103</td>\n",
       "    </tr>\n",
       "    <tr>\n",
       "      <th>2000-01-02 01:30:00</th>\n",
       "      <td>-0.684377</td>\n",
       "      <td>4.471116</td>\n",
       "      <td>-4.112592</td>\n",
       "      <td>0.139393</td>\n",
       "    </tr>\n",
       "    <tr>\n",
       "      <th>2000-01-02 01:45:00</th>\n",
       "      <td>0.973776</td>\n",
       "      <td>4.409740</td>\n",
       "      <td>-4.151232</td>\n",
       "      <td>-1.094236</td>\n",
       "    </tr>\n",
       "    <tr>\n",
       "      <th>2000-01-02 02:00:00</th>\n",
       "      <td>-0.723596</td>\n",
       "      <td>4.447947</td>\n",
       "      <td>-4.149531</td>\n",
       "      <td>1.929936</td>\n",
       "    </tr>\n",
       "    <tr>\n",
       "      <th>2000-01-02 02:15:00</th>\n",
       "      <td>-0.707623</td>\n",
       "      <td>4.343749</td>\n",
       "      <td>-4.475634</td>\n",
       "      <td>0.890551</td>\n",
       "    </tr>\n",
       "    <tr>\n",
       "      <th>2000-01-02 02:30:00</th>\n",
       "      <td>-0.184042</td>\n",
       "      <td>3.929599</td>\n",
       "      <td>-4.139310</td>\n",
       "      <td>1.884467</td>\n",
       "    </tr>\n",
       "    <tr>\n",
       "      <th>2000-01-02 02:45:00</th>\n",
       "      <td>-0.133785</td>\n",
       "      <td>4.568547</td>\n",
       "      <td>-4.277338</td>\n",
       "      <td>1.832852</td>\n",
       "    </tr>\n",
       "    <tr>\n",
       "      <th>2000-01-02 03:00:00</th>\n",
       "      <td>0.856212</td>\n",
       "      <td>3.984205</td>\n",
       "      <td>-4.382996</td>\n",
       "      <td>-1.120250</td>\n",
       "    </tr>\n",
       "    <tr>\n",
       "      <th>2000-01-02 03:15:00</th>\n",
       "      <td>-0.411631</td>\n",
       "      <td>4.696780</td>\n",
       "      <td>-5.181353</td>\n",
       "      <td>0.811110</td>\n",
       "    </tr>\n",
       "    <tr>\n",
       "      <th>2000-01-02 03:30:00</th>\n",
       "      <td>-0.353006</td>\n",
       "      <td>4.960604</td>\n",
       "      <td>-4.158886</td>\n",
       "      <td>1.945342</td>\n",
       "    </tr>\n",
       "    <tr>\n",
       "      <th>2000-01-02 03:45:00</th>\n",
       "      <td>-1.187884</td>\n",
       "      <td>3.798825</td>\n",
       "      <td>-3.709507</td>\n",
       "      <td>0.557773</td>\n",
       "    </tr>\n",
       "  </tbody>\n",
       "</table>\n",
       "<p>112 rows × 4 columns</p>\n",
       "</div>"
      ],
      "text/plain": [
       "                         open      high       low     close\n",
       "2000-01-01 00:00:00  1.470021  4.329241 -4.646885  2.530352\n",
       "2000-01-01 00:15:00  0.103544  4.119295 -4.401476  0.060178\n",
       "2000-01-01 00:30:00 -0.330937  4.578298 -4.478336  1.477486\n",
       "2000-01-01 00:45:00 -1.706492  4.169188 -4.288725  0.523674\n",
       "2000-01-01 01:00:00 -1.505131  4.580700 -4.200038  0.308712\n",
       "2000-01-01 01:15:00 -0.673935  4.532027 -4.098431 -0.665713\n",
       "2000-01-01 01:30:00 -0.179967  4.546558 -4.382987 -0.782121\n",
       "2000-01-01 01:45:00  1.024510  4.198820 -4.319923 -0.519575\n",
       "2000-01-01 02:00:00  1.082743  4.200368 -3.938216 -0.459394\n",
       "2000-01-01 02:15:00 -0.489962  4.385090 -4.155148 -0.054038\n",
       "2000-01-01 02:30:00 -0.574656  4.614017 -4.446064 -0.067925\n",
       "2000-01-01 02:45:00 -0.527346  4.254320 -4.121239 -0.665828\n",
       "2000-01-01 03:00:00 -1.252021  4.270621 -4.242655 -0.501673\n",
       "2000-01-01 03:15:00  0.802194  4.140230 -4.649248  0.814609\n",
       "2000-01-01 03:30:00 -1.136268  3.934244 -4.854268  0.960162\n",
       "2000-01-01 03:45:00  0.346979  4.360100 -4.145438 -1.028023\n",
       "2000-01-01 04:00:00 -0.309816  4.281679 -4.370419 -0.753521\n",
       "2000-01-01 04:15:00  0.364674  4.434787 -4.726979 -0.506513\n",
       "2000-01-01 04:30:00  1.279748  4.436128 -4.682765 -0.848252\n",
       "2000-01-01 04:45:00 -0.733568  4.640882 -4.491423 -1.794437\n",
       "2000-01-01 05:00:00 -0.103889  4.147082 -4.057174  1.765096\n",
       "2000-01-01 05:15:00  0.857557  4.621458 -4.351029  0.628522\n",
       "2000-01-01 05:30:00  0.566362  4.490012 -4.390436 -0.705583\n",
       "2000-01-01 05:45:00 -0.381822  4.591435 -4.147722 -0.798802\n",
       "2000-01-01 06:00:00  0.311097  4.425035 -4.233702 -1.208885\n",
       "2000-01-01 06:15:00 -1.632723  4.680984 -4.979939 -1.405020\n",
       "2000-01-01 06:30:00 -0.964935  4.268101 -4.038069 -0.673449\n",
       "2000-01-01 06:45:00 -1.838804  4.107617 -4.101163 -1.254228\n",
       "2000-01-01 07:00:00  0.040357  4.303779 -4.387520  0.300248\n",
       "2000-01-01 07:15:00 -0.713097  4.175524 -4.255353 -0.016198\n",
       "...                       ...       ...       ...       ...\n",
       "2000-01-01 20:30:00  1.338228  4.108449 -3.926469  0.653228\n",
       "2000-01-01 20:45:00 -0.587156  4.873349 -4.184712 -0.409955\n",
       "2000-01-01 21:00:00 -0.961833  5.055232 -4.385586  0.595961\n",
       "2000-01-01 21:15:00 -1.996175  4.553992 -4.335731 -0.024372\n",
       "2000-01-01 21:30:00 -1.285787  4.185370 -4.422670  0.249975\n",
       "2000-01-01 21:45:00  0.086247  4.580525 -3.910144 -1.213360\n",
       "2000-01-01 22:00:00 -0.680236  4.556645 -4.074738  0.097125\n",
       "2000-01-01 22:15:00 -0.077140  4.306037 -4.721350 -0.897087\n",
       "2000-01-01 22:30:00 -1.652124  4.494702 -4.459795  1.246865\n",
       "2000-01-01 22:45:00  0.907866  4.312240 -4.321506 -1.093736\n",
       "2000-01-01 23:00:00 -1.436933  4.476824 -4.269024  2.351400\n",
       "2000-01-01 23:15:00  0.314934  4.289898 -3.729065 -0.297992\n",
       "2000-01-01 23:30:00 -0.044899  4.413851 -4.514463  0.192402\n",
       "2000-01-01 23:45:00  0.579942  4.350100 -4.147768 -0.025862\n",
       "2000-01-02 00:00:00  0.008795  4.343917 -4.147332  3.451300\n",
       "2000-01-02 00:15:00 -0.527464  4.578553 -4.080869 -0.827183\n",
       "2000-01-02 00:30:00  1.239631  5.099014 -3.880963 -1.090263\n",
       "2000-01-02 00:45:00  1.453829  4.200602 -5.199916  0.374463\n",
       "2000-01-02 01:00:00  0.210918  4.138175 -4.060331  0.163422\n",
       "2000-01-02 01:15:00  1.836457  5.186860 -3.934824  0.820103\n",
       "2000-01-02 01:30:00 -0.684377  4.471116 -4.112592  0.139393\n",
       "2000-01-02 01:45:00  0.973776  4.409740 -4.151232 -1.094236\n",
       "2000-01-02 02:00:00 -0.723596  4.447947 -4.149531  1.929936\n",
       "2000-01-02 02:15:00 -0.707623  4.343749 -4.475634  0.890551\n",
       "2000-01-02 02:30:00 -0.184042  3.929599 -4.139310  1.884467\n",
       "2000-01-02 02:45:00 -0.133785  4.568547 -4.277338  1.832852\n",
       "2000-01-02 03:00:00  0.856212  3.984205 -4.382996 -1.120250\n",
       "2000-01-02 03:15:00 -0.411631  4.696780 -5.181353  0.811110\n",
       "2000-01-02 03:30:00 -0.353006  4.960604 -4.158886  1.945342\n",
       "2000-01-02 03:45:00 -1.187884  3.798825 -3.709507  0.557773\n",
       "\n",
       "[112 rows x 4 columns]"
      ]
     },
     "execution_count": 91,
     "metadata": {},
     "output_type": "execute_result"
    }
   ],
   "source": [
    "ts.resample('15min', how='ohlc')"
   ]
  },
  {
   "cell_type": "code",
   "execution_count": 92,
   "metadata": {
    "collapsed": false
   },
   "outputs": [
    {
     "name": "stderr",
     "output_type": "stream",
     "text": [
      "C:\\Users\\Brad Sun\\Anaconda3\\lib\\site-packages\\ipykernel\\__main__.py:257: FutureWarning: how in .resample() is deprecated\n",
      "the new syntax is .resample(...).ohlc()\n"
     ]
    },
    {
     "name": "stdout",
     "output_type": "stream",
     "text": [
      "10 loops, best of 3: 146 ms per loop\n"
     ]
    }
   ],
   "source": [
    "%timeit ts.resample('15min', how='ohlc')"
   ]
  },
  {
   "cell_type": "markdown",
   "metadata": {
    "collapsed": true
   },
   "source": [
    "The runtime may depend slightly on the relative size of the aggregated result; higher\n",
    "frequency aggregates unsurprisingly take longer to compute:"
   ]
  },
  {
   "cell_type": "code",
   "execution_count": null,
   "metadata": {
    "collapsed": true
   },
   "outputs": [],
   "source": [
    "# Don't run it when unnecessary unless you want your notebook to crash...\n",
    "rng = pd.date_range('1/1/2000', periods=10000000, freq='1s')"
   ]
  },
  {
   "cell_type": "code",
   "execution_count": null,
   "metadata": {
    "collapsed": true
   },
   "outputs": [],
   "source": [
    "ts = Series(np.random.randn(len(rng)), index=rng)"
   ]
  },
  {
   "cell_type": "code",
   "execution_count": null,
   "metadata": {
    "collapsed": true
   },
   "outputs": [],
   "source": [
    "%timeit ts.resample('15s', how='ohlc')"
   ]
  },
  {
   "cell_type": "markdown",
   "metadata": {
    "collapsed": true
   },
   "source": [
    "It’s possible that by the time you read this, the performance of these algorithms may\n",
    "be even further improved. As an example, there are currently no optimizations for\n",
    "conversions between regular frequencies, but that would be fairly straightforward to do."
   ]
  }
 ],
 "metadata": {
  "anaconda-cloud": {},
  "hide_input": false,
  "kernelspec": {
   "display_name": "Python [conda root]",
   "language": "python",
   "name": "conda-root-py"
  },
  "language_info": {
   "codemirror_mode": {
    "name": "ipython",
    "version": 3
   },
   "file_extension": ".py",
   "mimetype": "text/x-python",
   "name": "python",
   "nbconvert_exporter": "python",
   "pygments_lexer": "ipython3",
   "version": "3.4.5"
  },
  "nav_menu": {},
  "toc": {
   "navigate_menu": true,
   "number_sections": true,
   "sideBar": true,
   "threshold": 6,
   "toc_cell": false,
   "toc_section_display": "block",
   "toc_window_display": true
  }
 },
 "nbformat": 4,
 "nbformat_minor": 0
}
