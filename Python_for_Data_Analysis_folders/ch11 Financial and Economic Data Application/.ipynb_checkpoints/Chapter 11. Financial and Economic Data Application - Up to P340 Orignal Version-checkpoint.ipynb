{
 "cells": [
  {
   "cell_type": "markdown",
   "metadata": {},
   "source": [
    "The use of Python in the financial industry has been increasing rapidly since 2005, led\n",
    "largely by the maturation of libraries (like NumPy and pandas) and the availability of\n",
    "skilled Python programmers. Institutions have found that Python is well-suited both\n",
    "as an interactive analysis environment as well as enabling robust systems to be developed\n",
    "often in a fraction of the time it would have taken in Java or C++. Python is also\n",
    "an ideal glue layer; it is easy to build Python interfaces to legacy libraries built in C or\n",
    "C++."
   ]
  },
  {
   "cell_type": "markdown",
   "metadata": {},
   "source": [
    "While the field of financial analysis is broad enough to fill an entire book, I hope to\n",
    "show you how the tools in this book can be applied to a number of specific problems\n",
    "in finance. As with other research and analysis domains, too much programming effort\n",
    "is often spent wrangling data rather than solving the core modeling and research problems.\n",
    "I personally got started building pandas in 2008 while grappling with inadequate\n",
    "data tools."
   ]
  },
  {
   "cell_type": "markdown",
   "metadata": {},
   "source": [
    "In these examples, I’ll use the term cross-section to refer to data at a fixed point in time.\n",
    "For example, the closing prices of all the stocks in the S&P 500 index on a particular\n",
    "date form a cross-section. Cross-sectional data at multiple points in time over multiple\n",
    "data items (for example, prices together with volume) form a panel. Panel data can\n",
    "either be represented as a hierarchically-indexed DataFrame or using the three-dimensional\n",
    "Panel pandas object."
   ]
  },
  {
   "cell_type": "markdown",
   "metadata": {},
   "source": [
    "P 329 - P 352"
   ]
  },
  {
   "cell_type": "markdown",
   "metadata": {},
   "source": [
    "## Data Munging Topics "
   ]
  },
  {
   "cell_type": "markdown",
   "metadata": {},
   "source": [
    "Many helpful data munging tools for financial applications are spread across the earlier\n",
    "chapters. Here I’ll highlight a number of topics as they relate to this problem domain."
   ]
  },
  {
   "cell_type": "markdown",
   "metadata": {},
   "source": [
    "### Time Series and Cross-Section Alignment"
   ]
  },
  {
   "cell_type": "markdown",
   "metadata": {},
   "source": [
    "One of the most time-consuming issues in working with financial data is the so-called\n",
    "data alignment problem. Two related time series may have indexes that don’t line up\n",
    "perfectly, or two DataFrame objects might have columns or row labels that don’t match.\n",
    "Users of MATLAB, R, and other matrix-programming languages often invest significant\n",
    "effort in wrangling data into perfectly aligned forms. In my experience, having to align\n",
    "data by hand (and worse, having to verify that data is aligned) is a far too rigid and\n",
    "tedious way to work. It is also rife with potential for bugs due to combining misaligned\n",
    "data."
   ]
  },
  {
   "cell_type": "markdown",
   "metadata": {},
   "source": [
    "pandas take an alternate approach by automatically aligning data in arithmetic operations.\n",
    "In practice, this grants immense freedom and enhances your productivity. As an\n",
    "example, let’s consider a couple of DataFrames containing time series of stock prices\n",
    "and volume:"
   ]
  },
  {
   "cell_type": "code",
   "execution_count": 2,
   "metadata": {
    "collapsed": false
   },
   "outputs": [],
   "source": [
    "import pandas as pd\n",
    "import numpy as np\n",
    "from datetime import datetime\n",
    "from pandas import Series, DataFrame\n",
    "import pandas_datareader.data as wb"
   ]
  },
  {
   "cell_type": "code",
   "execution_count": 2,
   "metadata": {
    "collapsed": true
   },
   "outputs": [],
   "source": [
    "aapl = wb.DataReader('aapl', data_source = 'yahoo', start = datetime(2014,8,24), end = datetime(2014,9,24))\n",
    "msft = wb.DataReader('msft', data_source = 'yahoo', start = datetime(2014,8,24), end = datetime(2014,9,30))"
   ]
  },
  {
   "cell_type": "code",
   "execution_count": 3,
   "metadata": {
    "collapsed": false
   },
   "outputs": [],
   "source": [
    "data = pd.DataFrame({'aaplprice':aapl['Adj Close'], 'aaplvolume':aapl['Volume'],\n",
    "                    'msftprice':msft['Adj Close'], 'msftvolume':msft['Volume']})"
   ]
  },
  {
   "cell_type": "code",
   "execution_count": 4,
   "metadata": {
    "collapsed": true
   },
   "outputs": [
    {
     "data": {
      "text/html": [
       "<div>\n",
       "<table border=\"1\" class=\"dataframe\">\n",
       "  <thead>\n",
       "    <tr style=\"text-align: right;\">\n",
       "      <th></th>\n",
       "      <th>aaplprice</th>\n",
       "      <th>aaplvolume</th>\n",
       "      <th>msftprice</th>\n",
       "      <th>msftvolume</th>\n",
       "    </tr>\n",
       "    <tr>\n",
       "      <th>Date</th>\n",
       "      <th></th>\n",
       "      <th></th>\n",
       "      <th></th>\n",
       "      <th></th>\n",
       "    </tr>\n",
       "  </thead>\n",
       "  <tbody>\n",
       "    <tr>\n",
       "      <th>2014-08-25</th>\n",
       "      <td>97.244255</td>\n",
       "      <td>40270000.0</td>\n",
       "      <td>42.530246</td>\n",
       "      <td>16910000</td>\n",
       "    </tr>\n",
       "    <tr>\n",
       "      <th>2014-08-26</th>\n",
       "      <td>96.621752</td>\n",
       "      <td>33152000.0</td>\n",
       "      <td>42.379597</td>\n",
       "      <td>14873100</td>\n",
       "    </tr>\n",
       "    <tr>\n",
       "      <th>2014-08-27</th>\n",
       "      <td>97.809291</td>\n",
       "      <td>52369000.0</td>\n",
       "      <td>42.247779</td>\n",
       "      <td>21287900</td>\n",
       "    </tr>\n",
       "    <tr>\n",
       "      <th>2014-08-28</th>\n",
       "      <td>97.924217</td>\n",
       "      <td>68460000.0</td>\n",
       "      <td>42.257196</td>\n",
       "      <td>17657600</td>\n",
       "    </tr>\n",
       "    <tr>\n",
       "      <th>2014-08-29</th>\n",
       "      <td>98.163640</td>\n",
       "      <td>44595000.0</td>\n",
       "      <td>42.775053</td>\n",
       "      <td>21607600</td>\n",
       "    </tr>\n",
       "    <tr>\n",
       "      <th>2014-09-02</th>\n",
       "      <td>98.929799</td>\n",
       "      <td>53564000.0</td>\n",
       "      <td>42.454923</td>\n",
       "      <td>22976800</td>\n",
       "    </tr>\n",
       "    <tr>\n",
       "      <th>2014-09-03</th>\n",
       "      <td>94.754252</td>\n",
       "      <td>125421000.0</td>\n",
       "      <td>42.332519</td>\n",
       "      <td>33684500</td>\n",
       "    </tr>\n",
       "    <tr>\n",
       "      <th>2014-09-04</th>\n",
       "      <td>93.968943</td>\n",
       "      <td>85718000.0</td>\n",
       "      <td>42.614986</td>\n",
       "      <td>26475500</td>\n",
       "    </tr>\n",
       "    <tr>\n",
       "      <th>2014-09-05</th>\n",
       "      <td>94.782982</td>\n",
       "      <td>58457000.0</td>\n",
       "      <td>43.227002</td>\n",
       "      <td>36939400</td>\n",
       "    </tr>\n",
       "    <tr>\n",
       "      <th>2014-09-08</th>\n",
       "      <td>94.198788</td>\n",
       "      <td>46356700.0</td>\n",
       "      <td>43.754276</td>\n",
       "      <td>45736700</td>\n",
       "    </tr>\n",
       "    <tr>\n",
       "      <th>2014-09-09</th>\n",
       "      <td>93.844438</td>\n",
       "      <td>189846300.0</td>\n",
       "      <td>44.027326</td>\n",
       "      <td>40302400</td>\n",
       "    </tr>\n",
       "    <tr>\n",
       "      <th>2014-09-10</th>\n",
       "      <td>96.727099</td>\n",
       "      <td>100869600.0</td>\n",
       "      <td>44.102652</td>\n",
       "      <td>27302400</td>\n",
       "    </tr>\n",
       "    <tr>\n",
       "      <th>2014-09-11</th>\n",
       "      <td>97.138908</td>\n",
       "      <td>62353100.0</td>\n",
       "      <td>44.253302</td>\n",
       "      <td>29216400</td>\n",
       "    </tr>\n",
       "    <tr>\n",
       "      <th>2014-09-12</th>\n",
       "      <td>97.359181</td>\n",
       "      <td>62626100.0</td>\n",
       "      <td>43.970835</td>\n",
       "      <td>38244700</td>\n",
       "    </tr>\n",
       "    <tr>\n",
       "      <th>2014-09-15</th>\n",
       "      <td>97.330444</td>\n",
       "      <td>61316500.0</td>\n",
       "      <td>43.537718</td>\n",
       "      <td>37667600</td>\n",
       "    </tr>\n",
       "    <tr>\n",
       "      <th>2014-09-16</th>\n",
       "      <td>96.593023</td>\n",
       "      <td>66908100.0</td>\n",
       "      <td>44.027326</td>\n",
       "      <td>27910600</td>\n",
       "    </tr>\n",
       "    <tr>\n",
       "      <th>2014-09-17</th>\n",
       "      <td>97.282564</td>\n",
       "      <td>60926500.0</td>\n",
       "      <td>43.801354</td>\n",
       "      <td>38311900</td>\n",
       "    </tr>\n",
       "    <tr>\n",
       "      <th>2014-09-18</th>\n",
       "      <td>97.483679</td>\n",
       "      <td>37299400.0</td>\n",
       "      <td>43.952003</td>\n",
       "      <td>35556600</td>\n",
       "    </tr>\n",
       "    <tr>\n",
       "      <th>2014-09-19</th>\n",
       "      <td>96.688791</td>\n",
       "      <td>70902400.0</td>\n",
       "      <td>44.742913</td>\n",
       "      <td>202522400</td>\n",
       "    </tr>\n",
       "    <tr>\n",
       "      <th>2014-09-22</th>\n",
       "      <td>96.784559</td>\n",
       "      <td>52788400.0</td>\n",
       "      <td>44.309797</td>\n",
       "      <td>38686100</td>\n",
       "    </tr>\n",
       "    <tr>\n",
       "      <th>2014-09-23</th>\n",
       "      <td>98.297717</td>\n",
       "      <td>63402200.0</td>\n",
       "      <td>43.839017</td>\n",
       "      <td>33430300</td>\n",
       "    </tr>\n",
       "    <tr>\n",
       "      <th>2014-09-24</th>\n",
       "      <td>97.445370</td>\n",
       "      <td>60171800.0</td>\n",
       "      <td>44.328628</td>\n",
       "      <td>26582700</td>\n",
       "    </tr>\n",
       "    <tr>\n",
       "      <th>2014-09-25</th>\n",
       "      <td>NaN</td>\n",
       "      <td>NaN</td>\n",
       "      <td>43.349405</td>\n",
       "      <td>33077400</td>\n",
       "    </tr>\n",
       "    <tr>\n",
       "      <th>2014-09-26</th>\n",
       "      <td>NaN</td>\n",
       "      <td>NaN</td>\n",
       "      <td>43.697781</td>\n",
       "      <td>27078800</td>\n",
       "    </tr>\n",
       "    <tr>\n",
       "      <th>2014-09-29</th>\n",
       "      <td>NaN</td>\n",
       "      <td>NaN</td>\n",
       "      <td>43.726027</td>\n",
       "      <td>26091000</td>\n",
       "    </tr>\n",
       "    <tr>\n",
       "      <th>2014-09-30</th>\n",
       "      <td>NaN</td>\n",
       "      <td>NaN</td>\n",
       "      <td>43.650704</td>\n",
       "      <td>33033100</td>\n",
       "    </tr>\n",
       "  </tbody>\n",
       "</table>\n",
       "</div>"
      ],
      "text/plain": [
       "            aaplprice   aaplvolume  msftprice  msftvolume\n",
       "Date                                                     \n",
       "2014-08-25  97.244255   40270000.0  42.530246    16910000\n",
       "2014-08-26  96.621752   33152000.0  42.379597    14873100\n",
       "2014-08-27  97.809291   52369000.0  42.247779    21287900\n",
       "2014-08-28  97.924217   68460000.0  42.257196    17657600\n",
       "2014-08-29  98.163640   44595000.0  42.775053    21607600\n",
       "2014-09-02  98.929799   53564000.0  42.454923    22976800\n",
       "2014-09-03  94.754252  125421000.0  42.332519    33684500\n",
       "2014-09-04  93.968943   85718000.0  42.614986    26475500\n",
       "2014-09-05  94.782982   58457000.0  43.227002    36939400\n",
       "2014-09-08  94.198788   46356700.0  43.754276    45736700\n",
       "2014-09-09  93.844438  189846300.0  44.027326    40302400\n",
       "2014-09-10  96.727099  100869600.0  44.102652    27302400\n",
       "2014-09-11  97.138908   62353100.0  44.253302    29216400\n",
       "2014-09-12  97.359181   62626100.0  43.970835    38244700\n",
       "2014-09-15  97.330444   61316500.0  43.537718    37667600\n",
       "2014-09-16  96.593023   66908100.0  44.027326    27910600\n",
       "2014-09-17  97.282564   60926500.0  43.801354    38311900\n",
       "2014-09-18  97.483679   37299400.0  43.952003    35556600\n",
       "2014-09-19  96.688791   70902400.0  44.742913   202522400\n",
       "2014-09-22  96.784559   52788400.0  44.309797    38686100\n",
       "2014-09-23  98.297717   63402200.0  43.839017    33430300\n",
       "2014-09-24  97.445370   60171800.0  44.328628    26582700\n",
       "2014-09-25        NaN          NaN  43.349405    33077400\n",
       "2014-09-26        NaN          NaN  43.697781    27078800\n",
       "2014-09-29        NaN          NaN  43.726027    26091000\n",
       "2014-09-30        NaN          NaN  43.650704    33033100"
      ]
     },
     "execution_count": 4,
     "metadata": {},
     "output_type": "execute_result"
    }
   ],
   "source": [
    "data"
   ]
  },
  {
   "cell_type": "code",
   "execution_count": 5,
   "metadata": {
    "collapsed": true
   },
   "outputs": [],
   "source": [
    "ap = aapl['Adj Close']\n",
    "av = aapl['Volume']\n",
    "mp = msft['Adj Close']\n",
    "mv = msft['Volume']"
   ]
  },
  {
   "cell_type": "markdown",
   "metadata": {},
   "source": [
    "Suppose you wanted to compute a volume-weighted average price using all available\n",
    "data (and making the simplifying assumption that the volume data is a subset of the\n",
    "price data). Since pandas aligns the data automatically in arithmetic and excludes\n",
    "missing data in functions like sum, we can express this concisely as:"
   ]
  },
  {
   "cell_type": "code",
   "execution_count": 6,
   "metadata": {
    "collapsed": true
   },
   "outputs": [],
   "source": [
    "# tv stands for total traded value\n",
    "tv = av*ap"
   ]
  },
  {
   "cell_type": "code",
   "execution_count": 7,
   "metadata": {
    "collapsed": false
   },
   "outputs": [
    {
     "data": {
      "text/plain": [
       "96.30948029619815"
      ]
     },
     "execution_count": 7,
     "metadata": {},
     "output_type": "execute_result"
    }
   ],
   "source": [
    "# VWAP stands for volume weighted average price\n",
    "vwap = (tv).sum()/av.sum()\n",
    "vwap"
   ]
  },
  {
   "cell_type": "markdown",
   "metadata": {},
   "source": [
    "Since SPX wasn’t found in volume, you can choose to explicitly discard that at any point.\n",
    "Should you wish to align by hand, you can use DataFrame’s align method, which\n",
    "returns a tuple of reindexed versions of the two objects:"
   ]
  },
  {
   "cell_type": "code",
   "execution_count": 8,
   "metadata": {
    "collapsed": true
   },
   "outputs": [
    {
     "data": {
      "text/plain": [
       "(Date\n",
       " 2014-08-25    42.530246\n",
       " 2014-08-26    42.379597\n",
       " 2014-08-27    42.247779\n",
       " 2014-08-28    42.257196\n",
       " 2014-08-29    42.775053\n",
       " 2014-09-02    42.454923\n",
       " 2014-09-03    42.332519\n",
       " 2014-09-04    42.614986\n",
       " 2014-09-05    43.227002\n",
       " 2014-09-08    43.754276\n",
       " 2014-09-09    44.027326\n",
       " 2014-09-10    44.102652\n",
       " 2014-09-11    44.253302\n",
       " 2014-09-12    43.970835\n",
       " 2014-09-15    43.537718\n",
       " 2014-09-16    44.027326\n",
       " 2014-09-17    43.801354\n",
       " 2014-09-18    43.952003\n",
       " 2014-09-19    44.742913\n",
       " 2014-09-22    44.309797\n",
       " 2014-09-23    43.839017\n",
       " 2014-09-24    44.328628\n",
       " Name: Adj Close, dtype: float64, Date\n",
       " 2014-08-25    97.244255\n",
       " 2014-08-26    96.621752\n",
       " 2014-08-27    97.809291\n",
       " 2014-08-28    97.924217\n",
       " 2014-08-29    98.163640\n",
       " 2014-09-02    98.929799\n",
       " 2014-09-03    94.754252\n",
       " 2014-09-04    93.968943\n",
       " 2014-09-05    94.782982\n",
       " 2014-09-08    94.198788\n",
       " 2014-09-09    93.844438\n",
       " 2014-09-10    96.727099\n",
       " 2014-09-11    97.138908\n",
       " 2014-09-12    97.359181\n",
       " 2014-09-15    97.330444\n",
       " 2014-09-16    96.593023\n",
       " 2014-09-17    97.282564\n",
       " 2014-09-18    97.483679\n",
       " 2014-09-19    96.688791\n",
       " 2014-09-22    96.784559\n",
       " 2014-09-23    98.297717\n",
       " 2014-09-24    97.445370\n",
       " Name: Adj Close, dtype: float64)"
      ]
     },
     "execution_count": 8,
     "metadata": {},
     "output_type": "execute_result"
    }
   ],
   "source": [
    "#Take the smaller dataframe as the joined result.\n",
    "mp.align(ap, join = 'inner')"
   ]
  },
  {
   "cell_type": "markdown",
   "metadata": {},
   "source": [
    "Another indispensable feature is constructing a DataFrame from a collection of potentially\n",
    "differently indexed Series:"
   ]
  },
  {
   "cell_type": "code",
   "execution_count": 9,
   "metadata": {
    "collapsed": false
   },
   "outputs": [],
   "source": [
    "s1 = Series(range(3), index = ['a','b','c'])\n",
    "s2 = Series(range(4), index = ['a','b','c','e'])\n",
    "s3 = Series(range(3), index = ['f','a','c'])"
   ]
  },
  {
   "cell_type": "code",
   "execution_count": 10,
   "metadata": {
    "collapsed": false
   },
   "outputs": [
    {
     "data": {
      "text/html": [
       "<div>\n",
       "<table border=\"1\" class=\"dataframe\">\n",
       "  <thead>\n",
       "    <tr style=\"text-align: right;\">\n",
       "      <th></th>\n",
       "      <th>one</th>\n",
       "      <th>three</th>\n",
       "      <th>two</th>\n",
       "    </tr>\n",
       "  </thead>\n",
       "  <tbody>\n",
       "    <tr>\n",
       "      <th>a</th>\n",
       "      <td>0.0</td>\n",
       "      <td>1.0</td>\n",
       "      <td>0.0</td>\n",
       "    </tr>\n",
       "    <tr>\n",
       "      <th>b</th>\n",
       "      <td>1.0</td>\n",
       "      <td>NaN</td>\n",
       "      <td>1.0</td>\n",
       "    </tr>\n",
       "    <tr>\n",
       "      <th>c</th>\n",
       "      <td>2.0</td>\n",
       "      <td>2.0</td>\n",
       "      <td>2.0</td>\n",
       "    </tr>\n",
       "    <tr>\n",
       "      <th>e</th>\n",
       "      <td>NaN</td>\n",
       "      <td>NaN</td>\n",
       "      <td>3.0</td>\n",
       "    </tr>\n",
       "    <tr>\n",
       "      <th>f</th>\n",
       "      <td>NaN</td>\n",
       "      <td>0.0</td>\n",
       "      <td>NaN</td>\n",
       "    </tr>\n",
       "  </tbody>\n",
       "</table>\n",
       "</div>"
      ],
      "text/plain": [
       "   one  three  two\n",
       "a  0.0    1.0  0.0\n",
       "b  1.0    NaN  1.0\n",
       "c  2.0    2.0  2.0\n",
       "e  NaN    NaN  3.0\n",
       "f  NaN    0.0  NaN"
      ]
     },
     "execution_count": 10,
     "metadata": {},
     "output_type": "execute_result"
    }
   ],
   "source": [
    "DataFrame({'one':s1, 'two':s2, 'three':s3})"
   ]
  },
  {
   "cell_type": "markdown",
   "metadata": {},
   "source": [
    "As you have seen earlier, you can of course specify explicitly the index of the result,\n",
    "discarding the rest of the data:"
   ]
  },
  {
   "cell_type": "code",
   "execution_count": 11,
   "metadata": {
    "collapsed": false
   },
   "outputs": [
    {
     "data": {
      "text/html": [
       "<div>\n",
       "<table border=\"1\" class=\"dataframe\">\n",
       "  <thead>\n",
       "    <tr style=\"text-align: right;\">\n",
       "      <th></th>\n",
       "      <th>one</th>\n",
       "      <th>three</th>\n",
       "      <th>two</th>\n",
       "    </tr>\n",
       "  </thead>\n",
       "  <tbody>\n",
       "    <tr>\n",
       "      <th>f</th>\n",
       "      <td>NaN</td>\n",
       "      <td>0.0</td>\n",
       "      <td>NaN</td>\n",
       "    </tr>\n",
       "    <tr>\n",
       "      <th>a</th>\n",
       "      <td>0.0</td>\n",
       "      <td>1.0</td>\n",
       "      <td>0.0</td>\n",
       "    </tr>\n",
       "    <tr>\n",
       "      <th>c</th>\n",
       "      <td>2.0</td>\n",
       "      <td>2.0</td>\n",
       "      <td>2.0</td>\n",
       "    </tr>\n",
       "    <tr>\n",
       "      <th>e</th>\n",
       "      <td>NaN</td>\n",
       "      <td>NaN</td>\n",
       "      <td>3.0</td>\n",
       "    </tr>\n",
       "  </tbody>\n",
       "</table>\n",
       "</div>"
      ],
      "text/plain": [
       "   one  three  two\n",
       "f  NaN    0.0  NaN\n",
       "a  0.0    1.0  0.0\n",
       "c  2.0    2.0  2.0\n",
       "e  NaN    NaN  3.0"
      ]
     },
     "execution_count": 11,
     "metadata": {},
     "output_type": "execute_result"
    }
   ],
   "source": [
    "DataFrame({'one':s1, 'two':s2, 'three': s3}, index = list('face'))"
   ]
  },
  {
   "cell_type": "markdown",
   "metadata": {},
   "source": [
    "### Operations with Time Series of Different Frequencies"
   ]
  },
  {
   "cell_type": "markdown",
   "metadata": {},
   "source": [
    "Economic time series are often of annual, quarterly, monthly, daily, or some other more\n",
    "specialized frequency. Some are completely irregular; for example, earnings revisions\n",
    "for a stock may arrive at any time. The two main tools for frequency conversion and\n",
    "realignment are the resample and reindex methods. resample converts data to a fixed\n",
    "frequency while reindex conforms data to a new index. Both support optional interpolation\n",
    "(such as forward filling) logic."
   ]
  },
  {
   "cell_type": "markdown",
   "metadata": {},
   "source": [
    "Let’s consider a small weekly time series:"
   ]
  },
  {
   "cell_type": "code",
   "execution_count": 9,
   "metadata": {
    "collapsed": false
   },
   "outputs": [
    {
     "data": {
      "text/plain": [
       "2012-06-13    0.537037\n",
       "2012-06-20   -0.987647\n",
       "2012-06-27    0.378315\n",
       "Freq: W-WED, dtype: float64"
      ]
     },
     "execution_count": 9,
     "metadata": {},
     "output_type": "execute_result"
    }
   ],
   "source": [
    "ts1 = Series(np.random.randn(3),\n",
    "            index = pd.date_range('2012-6-13',  periods = 3, freq = 'W-WED'))\n",
    "ts1"
   ]
  },
  {
   "cell_type": "markdown",
   "metadata": {},
   "source": [
    "If you resample this to business daily (Monday-Friday) frequency, you get holes on the\n",
    "days where there is no data:"
   ]
  },
  {
   "cell_type": "code",
   "execution_count": 12,
   "metadata": {
    "collapsed": false
   },
   "outputs": [
    {
     "data": {
      "text/plain": [
       "DatetimeIndexResampler [freq=<Week: weekday=6>, axis=0, closed=right, label=right, convention=start, base=0]"
      ]
     },
     "execution_count": 12,
     "metadata": {},
     "output_type": "execute_result"
    }
   ],
   "source": [
    "ts1.resample('W')\n"
   ]
  },
  {
   "cell_type": "code",
   "execution_count": 13,
   "metadata": {
    "collapsed": false
   },
   "outputs": [
    {
     "data": {
      "text/plain": [
       "2012-06-17    0.537037\n",
       "2012-06-24   -0.987647\n",
       "2012-07-01    0.378315\n",
       "Freq: W-SUN, dtype: float64"
      ]
     },
     "execution_count": 13,
     "metadata": {},
     "output_type": "execute_result"
    }
   ],
   "source": [
    "ts1.resample('W').mean()"
   ]
  },
  {
   "cell_type": "markdown",
   "metadata": {},
   "source": [
    "Of course, using 'ffill' as the fill_method forward fills values in those gaps. This is\n",
    "a common practice with lower frequency data as you compute a time series of values\n",
    "on each timestamp having the latest valid or “as of” value:"
   ]
  },
  {
   "cell_type": "code",
   "execution_count": 63,
   "metadata": {
    "collapsed": false
   },
   "outputs": [
    {
     "data": {
      "text/plain": [
       "2012-06-13   -0.002335\n",
       "2012-06-14   -0.002335\n",
       "2012-06-15   -0.002335\n",
       "2012-06-18   -0.002335\n",
       "2012-06-19   -0.002335\n",
       "2012-06-20   -1.919834\n",
       "2012-06-21   -1.919834\n",
       "2012-06-22   -1.919834\n",
       "2012-06-25   -1.919834\n",
       "2012-06-26   -1.919834\n",
       "2012-06-27    1.082485\n",
       "Freq: B, dtype: float64"
      ]
     },
     "execution_count": 63,
     "metadata": {},
     "output_type": "execute_result"
    }
   ],
   "source": [
    "#Python 3.x is using the ...resample.ffill() instead of writing ffill() inside the bracket\n",
    "ts1.resample('B').ffill()"
   ]
  },
  {
   "cell_type": "markdown",
   "metadata": {},
   "source": [
    "In practice, upsampling lower frequency data to a higher, regular frequency is a fine\n",
    "solution, but in the more general irregular time series case it may be a poor fit. Consider\n",
    "an irregularly sampled time series from the same general time period:"
   ]
  },
  {
   "cell_type": "code",
   "execution_count": 64,
   "metadata": {
    "collapsed": true
   },
   "outputs": [],
   "source": [
    "dates = pd.DatetimeIndex(['2012-6-12', '2012-6-17', '2012-6-18',\n",
    "                            '2012-6-21', '2012-6-22', '2012-6-29'])"
   ]
  },
  {
   "cell_type": "code",
   "execution_count": 65,
   "metadata": {
    "collapsed": false
   },
   "outputs": [
    {
     "data": {
      "text/plain": [
       "2012-06-12    0.451320\n",
       "2012-06-17    0.161623\n",
       "2012-06-18   -0.305288\n",
       "2012-06-21    0.685645\n",
       "2012-06-22   -0.733803\n",
       "2012-06-29    0.532185\n",
       "dtype: float64"
      ]
     },
     "execution_count": 65,
     "metadata": {},
     "output_type": "execute_result"
    }
   ],
   "source": [
    "ts2 = Series(np.random.randn(6), index = dates)\n",
    "ts2"
   ]
  },
  {
   "cell_type": "markdown",
   "metadata": {},
   "source": [
    "If you wanted to add the “as of” values in ts1 (forward filling) to ts2. One option would\n",
    "be to resample both to a regular frequency then add, but if you want to maintain the\n",
    "date index in ts2, using reindex is a more precise solution:"
   ]
  },
  {
   "cell_type": "code",
   "execution_count": 71,
   "metadata": {
    "collapsed": false
   },
   "outputs": [
    {
     "data": {
      "text/plain": [
       "2012-06-13   -0.002335\n",
       "2012-06-20   -1.919834\n",
       "2012-06-27    1.082485\n",
       "Freq: W-WED, dtype: float64"
      ]
     },
     "execution_count": 71,
     "metadata": {},
     "output_type": "execute_result"
    }
   ],
   "source": [
    "ts1"
   ]
  },
  {
   "cell_type": "code",
   "execution_count": 72,
   "metadata": {
    "collapsed": false
   },
   "outputs": [
    {
     "data": {
      "text/plain": [
       "2012-06-12    0.451320\n",
       "2012-06-17    0.161623\n",
       "2012-06-18   -0.305288\n",
       "2012-06-21    0.685645\n",
       "2012-06-22   -0.733803\n",
       "2012-06-29    0.532185\n",
       "dtype: float64"
      ]
     },
     "execution_count": 72,
     "metadata": {},
     "output_type": "execute_result"
    }
   ],
   "source": [
    "ts2"
   ]
  },
  {
   "cell_type": "code",
   "execution_count": 73,
   "metadata": {
    "collapsed": false
   },
   "outputs": [
    {
     "data": {
      "text/plain": [
       "2012-06-12         NaN\n",
       "2012-06-17   -0.002335\n",
       "2012-06-18   -0.002335\n",
       "2012-06-21   -1.919834\n",
       "2012-06-22   -1.919834\n",
       "2012-06-29    1.082485\n",
       "dtype: float64"
      ]
     },
     "execution_count": 73,
     "metadata": {},
     "output_type": "execute_result"
    }
   ],
   "source": [
    "# Use ts1's value to fill with ts2's index, so this includes forward filling function, using method = 'ffill'\n",
    "ts1.reindex(ts2.index, method = 'ffill')"
   ]
  },
  {
   "cell_type": "code",
   "execution_count": 74,
   "metadata": {
    "collapsed": false
   },
   "outputs": [
    {
     "data": {
      "text/plain": [
       "2012-06-12         NaN\n",
       "2012-06-17    0.159287\n",
       "2012-06-18   -0.307623\n",
       "2012-06-21   -1.234189\n",
       "2012-06-22   -2.653637\n",
       "2012-06-29    1.614670\n",
       "dtype: float64"
      ]
     },
     "execution_count": 74,
     "metadata": {},
     "output_type": "execute_result"
    }
   ],
   "source": [
    "# Try combine two columns together\n",
    "ts2+ts1.reindex(ts2.index, method = 'ffill')"
   ]
  },
  {
   "cell_type": "markdown",
   "metadata": {},
   "source": [
    "#### Using Periods Instead of Timestamps "
   ]
  },
  {
   "cell_type": "markdown",
   "metadata": {},
   "source": [
    "Periods (representing time spans) provide an alternate means of working with different\n",
    "frequency time series, especially financial or economic series with annual or quarterly\n",
    "frequency having a particular reporting convention. For example, a company might\n",
    "announce its quarterly earnings with fiscal year ending in June, thus having Q-JUN frequency.\n",
    "Consider a pair of macroeconomic time series related to GDP and inflation:"
   ]
  },
  {
   "cell_type": "code",
   "execution_count": 3,
   "metadata": {
    "collapsed": false
   },
   "outputs": [],
   "source": [
    "gdp = Series([1.78, 1.94, 2.08, 2.01, 2.15, 2.31, 2.46],\n",
    "             index = pd.period_range('1984Q2', periods = 7, freq = 'Q-SEP'))\n",
    "infl = Series([0.025, 0.045, 0.037, 0.04],\n",
    "             index = pd.period_range('1982', periods = 4, freq = 'A-DEC'))"
   ]
  },
  {
   "cell_type": "code",
   "execution_count": 4,
   "metadata": {
    "collapsed": false
   },
   "outputs": [
    {
     "data": {
      "text/plain": [
       "1984Q2    1.78\n",
       "1984Q3    1.94\n",
       "1984Q4    2.08\n",
       "1985Q1    2.01\n",
       "1985Q2    2.15\n",
       "1985Q3    2.31\n",
       "1985Q4    2.46\n",
       "Freq: Q-SEP, dtype: float64"
      ]
     },
     "execution_count": 4,
     "metadata": {},
     "output_type": "execute_result"
    }
   ],
   "source": [
    "gdp"
   ]
  },
  {
   "cell_type": "code",
   "execution_count": 5,
   "metadata": {
    "collapsed": true
   },
   "outputs": [],
   "source": [
    "gdp = Series([1.78, 1.94, 2.08, 2.01, 2.15, 2.31, 2.46],\n",
    "             index = pd.period_range('1984Q2', periods = 7, freq = 'Q-SEP'))"
   ]
  },
  {
   "cell_type": "code",
   "execution_count": 6,
   "metadata": {
    "collapsed": false
   },
   "outputs": [
    {
     "data": {
      "text/plain": [
       "1982    0.025\n",
       "1983    0.045\n",
       "1984    0.037\n",
       "1985    0.040\n",
       "Freq: A-DEC, dtype: float64"
      ]
     },
     "execution_count": 6,
     "metadata": {},
     "output_type": "execute_result"
    }
   ],
   "source": [
    "infl"
   ]
  },
  {
   "cell_type": "markdown",
   "metadata": {},
   "source": [
    "Unlike time series with timestamps, operations between different-frequency time series\n",
    "indexed by periods are not possible without explicit conversions. In this case, if we\n",
    "know that infl values were observed at the end of each year, we can then convert to\n",
    "Q-SEP to get the right periods in that frequency:"
   ]
  },
  {
   "cell_type": "code",
   "execution_count": 100,
   "metadata": {
    "collapsed": true
   },
   "outputs": [],
   "source": [
    "infl_q = infl.asfreq('Q-SEP', how = 'end')"
   ]
  },
  {
   "cell_type": "code",
   "execution_count": 101,
   "metadata": {
    "collapsed": false
   },
   "outputs": [
    {
     "data": {
      "text/plain": [
       "1983Q1    0.025\n",
       "1984Q1    0.045\n",
       "1985Q1    0.037\n",
       "1986Q1    0.040\n",
       "Freq: Q-SEP, dtype: float64"
      ]
     },
     "execution_count": 101,
     "metadata": {},
     "output_type": "execute_result"
    }
   ],
   "source": [
    "infl_q"
   ]
  },
  {
   "cell_type": "markdown",
   "metadata": {},
   "source": [
    "That time series can then be reindexed with forward-filling to match gdp:"
   ]
  },
  {
   "cell_type": "code",
   "execution_count": 104,
   "metadata": {
    "collapsed": false
   },
   "outputs": [
    {
     "data": {
      "text/plain": [
       "1984Q2    0.045\n",
       "1984Q3    0.045\n",
       "1984Q4    0.045\n",
       "1985Q1    0.037\n",
       "1985Q2    0.037\n",
       "1985Q3    0.037\n",
       "1985Q4    0.037\n",
       "Freq: Q-SEP, dtype: float64"
      ]
     },
     "execution_count": 104,
     "metadata": {},
     "output_type": "execute_result"
    }
   ],
   "source": [
    "infl_q.reindex(gdp.index, method = 'ffill')"
   ]
  },
  {
   "cell_type": "markdown",
   "metadata": {},
   "source": [
    "### Time of Day and \"as of\" Data Selection"
   ]
  },
  {
   "cell_type": "markdown",
   "metadata": {},
   "source": [
    "Suppose you have a long time series containing intraday market data and you want to\n",
    "extract the prices at a particular time of day on each day of the data. What if the data\n",
    "are irregular such that observations do not fall exactly on the desired time? In practice\n",
    "this task can make for error-prone data munging if you are not careful. Here is an\n",
    "example for illustration purposes:"
   ]
  },
  {
   "cell_type": "code",
   "execution_count": 123,
   "metadata": {
    "collapsed": false
   },
   "outputs": [
    {
     "data": {
      "text/plain": [
       "DatetimeIndex(['2012-06-01 09:30:00', '2012-06-01 09:31:00',\n",
       "               '2012-06-01 09:32:00', '2012-06-01 09:33:00',\n",
       "               '2012-06-01 09:34:00', '2012-06-01 09:35:00',\n",
       "               '2012-06-01 09:36:00', '2012-06-01 09:37:00',\n",
       "               '2012-06-01 09:38:00', '2012-06-01 09:39:00',\n",
       "               ...\n",
       "               '2012-06-01 15:50:00', '2012-06-01 15:51:00',\n",
       "               '2012-06-01 15:52:00', '2012-06-01 15:53:00',\n",
       "               '2012-06-01 15:54:00', '2012-06-01 15:55:00',\n",
       "               '2012-06-01 15:56:00', '2012-06-01 15:57:00',\n",
       "               '2012-06-01 15:58:00', '2012-06-01 15:59:00'],\n",
       "              dtype='datetime64[ns]', length=390, freq='T')"
      ]
     },
     "execution_count": 123,
     "metadata": {},
     "output_type": "execute_result"
    }
   ],
   "source": [
    "# Make an intraday date range and time series\n",
    "rng = pd.date_range('2012-06-01 09:30', '2012-06-01 15:59', freq='T')\n",
    "rng"
   ]
  },
  {
   "cell_type": "code",
   "execution_count": 124,
   "metadata": {
    "collapsed": false
   },
   "outputs": [
    {
     "data": {
      "text/plain": [
       "DatetimeIndex(['2012-06-01 09:30:00', '2012-06-01 09:31:00',\n",
       "               '2012-06-01 09:32:00', '2012-06-01 09:33:00',\n",
       "               '2012-06-01 09:34:00', '2012-06-01 09:35:00',\n",
       "               '2012-06-01 09:36:00', '2012-06-01 09:37:00',\n",
       "               '2012-06-01 09:38:00', '2012-06-01 09:39:00',\n",
       "               ...\n",
       "               '2012-06-06 15:50:00', '2012-06-06 15:51:00',\n",
       "               '2012-06-06 15:52:00', '2012-06-06 15:53:00',\n",
       "               '2012-06-06 15:54:00', '2012-06-06 15:55:00',\n",
       "               '2012-06-06 15:56:00', '2012-06-06 15:57:00',\n",
       "               '2012-06-06 15:58:00', '2012-06-06 15:59:00'],\n",
       "              dtype='datetime64[ns]', length=1560, freq=None)"
      ]
     },
     "execution_count": 124,
     "metadata": {},
     "output_type": "execute_result"
    }
   ],
   "source": [
    "# Make a 5-day series of 9:30-15:59 values\n",
    "rng = rng.append([rng + pd.offsets.BDay(i) for i in range(1, 4)])\n",
    "rng"
   ]
  },
  {
   "cell_type": "code",
   "execution_count": 133,
   "metadata": {
    "collapsed": false
   },
   "outputs": [
    {
     "data": {
      "text/plain": [
       "2012-06-01 09:30:00       0\n",
       "2012-06-01 09:31:00       1\n",
       "2012-06-01 09:32:00       2\n",
       "2012-06-01 09:33:00       3\n",
       "2012-06-01 09:34:00       4\n",
       "2012-06-01 09:35:00       5\n",
       "2012-06-01 09:36:00       6\n",
       "2012-06-01 09:37:00       7\n",
       "2012-06-01 09:38:00       8\n",
       "2012-06-01 09:39:00       9\n",
       "2012-06-01 09:40:00      10\n",
       "2012-06-01 09:41:00      11\n",
       "2012-06-01 09:42:00      12\n",
       "2012-06-01 09:43:00      13\n",
       "2012-06-01 09:44:00      14\n",
       "2012-06-01 09:45:00      15\n",
       "2012-06-01 09:46:00      16\n",
       "2012-06-01 09:47:00      17\n",
       "2012-06-01 09:48:00      18\n",
       "2012-06-01 09:49:00      19\n",
       "2012-06-01 09:50:00      20\n",
       "2012-06-01 09:51:00      21\n",
       "2012-06-01 09:52:00      22\n",
       "2012-06-01 09:53:00      23\n",
       "2012-06-01 09:54:00      24\n",
       "2012-06-01 09:55:00      25\n",
       "2012-06-01 09:56:00      26\n",
       "2012-06-01 09:57:00      27\n",
       "2012-06-01 09:58:00      28\n",
       "2012-06-01 09:59:00      29\n",
       "                       ... \n",
       "2012-06-06 15:30:00    1530\n",
       "2012-06-06 15:31:00    1531\n",
       "2012-06-06 15:32:00    1532\n",
       "2012-06-06 15:33:00    1533\n",
       "2012-06-06 15:34:00    1534\n",
       "2012-06-06 15:35:00    1535\n",
       "2012-06-06 15:36:00    1536\n",
       "2012-06-06 15:37:00    1537\n",
       "2012-06-06 15:38:00    1538\n",
       "2012-06-06 15:39:00    1539\n",
       "2012-06-06 15:40:00    1540\n",
       "2012-06-06 15:41:00    1541\n",
       "2012-06-06 15:42:00    1542\n",
       "2012-06-06 15:43:00    1543\n",
       "2012-06-06 15:44:00    1544\n",
       "2012-06-06 15:45:00    1545\n",
       "2012-06-06 15:46:00    1546\n",
       "2012-06-06 15:47:00    1547\n",
       "2012-06-06 15:48:00    1548\n",
       "2012-06-06 15:49:00    1549\n",
       "2012-06-06 15:50:00    1550\n",
       "2012-06-06 15:51:00    1551\n",
       "2012-06-06 15:52:00    1552\n",
       "2012-06-06 15:53:00    1553\n",
       "2012-06-06 15:54:00    1554\n",
       "2012-06-06 15:55:00    1555\n",
       "2012-06-06 15:56:00    1556\n",
       "2012-06-06 15:57:00    1557\n",
       "2012-06-06 15:58:00    1558\n",
       "2012-06-06 15:59:00    1559\n",
       "dtype: int32"
      ]
     },
     "execution_count": 133,
     "metadata": {},
     "output_type": "execute_result"
    }
   ],
   "source": [
    "ts = Series(np.arange(len(rng), dtype = int), index = rng)\n",
    "ts"
   ]
  },
  {
   "cell_type": "code",
   "execution_count": 134,
   "metadata": {
    "collapsed": false
   },
   "outputs": [
    {
     "data": {
      "text/plain": [
       "1560"
      ]
     },
     "execution_count": 134,
     "metadata": {},
     "output_type": "execute_result"
    }
   ],
   "source": [
    "len(ts)"
   ]
  },
  {
   "cell_type": "markdown",
   "metadata": {},
   "source": [
    "Indexing with a Python datetime.time object will extract values at those times:"
   ]
  },
  {
   "cell_type": "code",
   "execution_count": 135,
   "metadata": {
    "collapsed": true
   },
   "outputs": [],
   "source": [
    "from datetime import time"
   ]
  },
  {
   "cell_type": "code",
   "execution_count": 136,
   "metadata": {
    "collapsed": false
   },
   "outputs": [
    {
     "data": {
      "text/plain": [
       "2012-06-01 10:00:00      30\n",
       "2012-06-04 10:00:00     420\n",
       "2012-06-05 10:00:00     810\n",
       "2012-06-06 10:00:00    1200\n",
       "dtype: int32"
      ]
     },
     "execution_count": 136,
     "metadata": {},
     "output_type": "execute_result"
    }
   ],
   "source": [
    "ts[time(10,0)]"
   ]
  },
  {
   "cell_type": "code",
   "execution_count": 128,
   "metadata": {
    "collapsed": true
   },
   "outputs": [],
   "source": [
    "time?\n",
    "#time([hour[, minute[, second[, microsecond[, tzinfo]]]]])"
   ]
  },
  {
   "cell_type": "markdown",
   "metadata": {},
   "source": [
    "Under the hood, this uses an instance method at_time (available on individual time\n",
    "series and DataFrame objects alike):"
   ]
  },
  {
   "cell_type": "code",
   "execution_count": 137,
   "metadata": {
    "collapsed": false
   },
   "outputs": [
    {
     "data": {
      "text/plain": [
       "2012-06-01 10:00:00      30\n",
       "2012-06-04 10:00:00     420\n",
       "2012-06-05 10:00:00     810\n",
       "2012-06-06 10:00:00    1200\n",
       "dtype: int32"
      ]
     },
     "execution_count": 137,
     "metadata": {},
     "output_type": "execute_result"
    }
   ],
   "source": [
    "ts.at_time(time(10,0))"
   ]
  },
  {
   "cell_type": "markdown",
   "metadata": {},
   "source": [
    "You can select values between two times using the related between_time method:"
   ]
  },
  {
   "cell_type": "code",
   "execution_count": 139,
   "metadata": {
    "collapsed": false
   },
   "outputs": [
    {
     "data": {
      "text/plain": [
       "2012-06-01 10:00:00      30\n",
       "2012-06-01 10:01:00      31\n",
       "2012-06-01 10:02:00      32\n",
       "2012-06-04 10:00:00     420\n",
       "2012-06-04 10:01:00     421\n",
       "2012-06-04 10:02:00     422\n",
       "2012-06-05 10:00:00     810\n",
       "2012-06-05 10:01:00     811\n",
       "2012-06-05 10:02:00     812\n",
       "2012-06-06 10:00:00    1200\n",
       "2012-06-06 10:01:00    1201\n",
       "2012-06-06 10:02:00    1202\n",
       "dtype: int32"
      ]
     },
     "execution_count": 139,
     "metadata": {},
     "output_type": "execute_result"
    }
   ],
   "source": [
    "ts.between_time(time(10,0), time(10,2))"
   ]
  },
  {
   "cell_type": "markdown",
   "metadata": {},
   "source": [
    "As mentioned above, it might be the case that no data actually fall exactly at a time like\n",
    "10 AM, but you might want to know the last known value at 10 AM:"
   ]
  },
  {
   "cell_type": "code",
   "execution_count": 153,
   "metadata": {
    "collapsed": false,
    "scrolled": true
   },
   "outputs": [
    {
     "data": {
      "text/plain": [
       "array([   0,    1,    3,    4,    7,    9,   10,   12,   13,   15,   16,\n",
       "         21,   22,   25,   28,   29,   30,   32,   33,   34,   35,   38,\n",
       "         39,   40,   42,   46,   48,   49,   50,   53,   56,   57,   58,\n",
       "         59,   61,   65,   66,   67,   74,   75,   76,   78,   80,   82,\n",
       "         84,   85,   88,   89,   90,   92,   93,   94,   95,   98,  100,\n",
       "        103,  105,  107,  109,  110,  112,  113,  116,  117,  121,  123,\n",
       "        129,  130,  134,  137,  139,  141,  142,  144,  145,  146,  150,\n",
       "        152,  153,  154,  155,  157,  162,  163,  164,  166,  169,  170,\n",
       "        172,  175,  176,  177,  179,  180,  181,  184,  185,  186,  189,\n",
       "        190,  192,  194,  195,  197,  199,  201,  202,  203,  204,  205,\n",
       "        206,  207,  209,  210,  215,  217,  218,  220,  221,  222,  223,\n",
       "        225,  227,  228,  231,  232,  235,  236,  237,  243,  246,  248,\n",
       "        250,  251,  253,  254,  255,  258,  259,  260,  263,  269,  277,\n",
       "        279,  280,  282,  285,  286,  288,  289,  292,  293,  296,  297,\n",
       "        298,  303,  304,  306,  307,  310,  311,  313,  314,  316,  318,\n",
       "        321,  323,  324,  326,  327,  330,  333,  334,  336,  337,  339,\n",
       "        340,  342,  343,  344,  345,  346,  347,  350,  351,  358,  359,\n",
       "        360,  361,  362,  364,  365,  366,  367,  369,  371,  372,  373,\n",
       "        374,  375,  376,  377,  381,  382,  384,  385,  391,  393,  394,\n",
       "        397,  399,  400,  402,  403,  405,  406,  409,  410,  412,  414,\n",
       "        416,  417,  419,  420,  422,  425,  426,  430,  432,  433,  437,\n",
       "        438,  440,  441,  443,  444,  445,  446,  447,  450,  451,  452,\n",
       "        453,  455,  456,  458,  460,  461,  464,  471,  473,  474,  475,\n",
       "        476,  479,  482,  483,  484,  486,  487,  489,  492,  494,  496,\n",
       "        497,  500,  501,  503,  505,  507,  508,  511,  513,  515,  517,\n",
       "        519,  521,  522,  524,  526,  527,  530,  532,  533,  535,  538,\n",
       "        539,  540,  541,  542,  543,  544,  545,  547,  549,  550,  551,\n",
       "        554,  556,  557,  558,  561,  562,  563,  566,  567,  572,  574,\n",
       "        575,  578,  581,  587,  588,  589,  590,  592,  593,  603,  607,\n",
       "        608,  609,  610,  611,  614,  616,  617,  618,  619,  621,  623,\n",
       "        624,  625,  626,  627,  632,  633,  634,  638,  642,  643,  644,\n",
       "        645,  647,  650,  652,  653,  657,  660,  663,  665,  666,  669,\n",
       "        670,  672,  675,  676,  678,  680,  683,  684,  689,  690,  692,\n",
       "        697,  699,  702,  703,  705,  706,  707,  708,  710,  712,  714,\n",
       "        716,  718,  719,  720,  721,  723,  725,  726,  728,  729,  732,\n",
       "        733,  734,  735,  736,  737,  738,  739,  740,  741,  742,  743,\n",
       "        747,  748,  749,  750,  751,  752,  754,  757,  759,  760,  763,\n",
       "        764,  765,  766,  767,  768,  769,  770,  771,  772,  773,  776,\n",
       "        777,  779,  780,  781,  783,  784,  785,  788,  793,  794,  795,\n",
       "        797,  798,  799,  800,  801,  804,  805,  809,  810,  811,  812,\n",
       "        814,  817,  818,  819,  820,  821,  823,  824,  825,  826,  827,\n",
       "        828,  829,  830,  831,  833,  834,  836,  837,  838,  842,  843,\n",
       "        844,  846,  850,  851,  852,  855,  856,  857,  858,  861,  865,\n",
       "        866,  867,  869,  870,  871,  872,  874,  875,  876,  878,  879,\n",
       "        880,  881,  882,  884,  886,  891,  892,  895,  896,  898,  899,\n",
       "        900,  902,  903,  905,  906,  908,  911,  914,  915,  917,  918,\n",
       "        922,  923,  924,  926,  929,  930,  932,  933,  934,  940,  941,\n",
       "        947,  949,  954,  955,  956,  961,  964,  965,  966,  968,  969,\n",
       "        970,  975,  977,  978,  979,  980,  981,  983,  986,  990,  992,\n",
       "        995,  996,  997,  998, 1001, 1002, 1004, 1005, 1006, 1007, 1008,\n",
       "       1009, 1010, 1011, 1013, 1015, 1017, 1021, 1022, 1023, 1024, 1027,\n",
       "       1028, 1031, 1033, 1034, 1035, 1040, 1041, 1045, 1047, 1049, 1050,\n",
       "       1052, 1053, 1054, 1055, 1057, 1059, 1060, 1064, 1065, 1066, 1067,\n",
       "       1068, 1069, 1070, 1071, 1072, 1074, 1076, 1077, 1084, 1085, 1087,\n",
       "       1089, 1091, 1092, 1093, 1094, 1096, 1099, 1100, 1103, 1105, 1106,\n",
       "       1107, 1108, 1109, 1111, 1113, 1114, 1115, 1118, 1120, 1122, 1125,\n",
       "       1126, 1128, 1129, 1130, 1131, 1135, 1136, 1139, 1140, 1143, 1144,\n",
       "       1145, 1146, 1147, 1148, 1149, 1150, 1151, 1154, 1155, 1157, 1158,\n",
       "       1162, 1163, 1165, 1166, 1168, 1169, 1171, 1172, 1174, 1175, 1176,\n",
       "       1177, 1180, 1183, 1184, 1185, 1186, 1187, 1188, 1189, 1190, 1192,\n",
       "       1197, 1199, 1202, 1206, 1207, 1210, 1211, 1212, 1213, 1214, 1215,\n",
       "       1216, 1217, 1218, 1221, 1222, 1224, 1225, 1229, 1231, 1232, 1233,\n",
       "       1234, 1237, 1243, 1247, 1248, 1249, 1250, 1254, 1255, 1260, 1261,\n",
       "       1264, 1265, 1267, 1268, 1269, 1270, 1272, 1274, 1276, 1279, 1280,\n",
       "       1282, 1283, 1284, 1287, 1289, 1291, 1293, 1294, 1295, 1296, 1297,\n",
       "       1300, 1303, 1305, 1306, 1307, 1308, 1309, 1311, 1312, 1315, 1322,\n",
       "       1325, 1326, 1327, 1330, 1331, 1332, 1333, 1334, 1335, 1337, 1341,\n",
       "       1345, 1347, 1348, 1349, 1355, 1356, 1357, 1358, 1359, 1360, 1362,\n",
       "       1363, 1364, 1366, 1368, 1370, 1372, 1374, 1375, 1377, 1378, 1379,\n",
       "       1382, 1383, 1385, 1388, 1389, 1391, 1392, 1393, 1394, 1395, 1396,\n",
       "       1397, 1400, 1402, 1404, 1407, 1408, 1409, 1410, 1414, 1416, 1417,\n",
       "       1418, 1419, 1422, 1423, 1427, 1428, 1431, 1432, 1436, 1437, 1438,\n",
       "       1439, 1441, 1442, 1443, 1444, 1445, 1446, 1447, 1449, 1450, 1451,\n",
       "       1452, 1453, 1454, 1458, 1462, 1466, 1468, 1469, 1474, 1477, 1484,\n",
       "       1488, 1489, 1493, 1495, 1496, 1498, 1499, 1500, 1501, 1502, 1503,\n",
       "       1504, 1505, 1506, 1507, 1508, 1509, 1511, 1514, 1516, 1517, 1518,\n",
       "       1519, 1521, 1522, 1523, 1530, 1531, 1532, 1535, 1536, 1538, 1539,\n",
       "       1540, 1543, 1545, 1546, 1547, 1548, 1550, 1551, 1553, 1554, 1556,\n",
       "       1557, 1558])"
      ]
     },
     "execution_count": 153,
     "metadata": {},
     "output_type": "execute_result"
    }
   ],
   "source": [
    "# Set most of the time series randomly to NA\n",
    "indexer = np.sort(np.random.permutation(len(ts))[700:])\n",
    "indexer"
   ]
  },
  {
   "cell_type": "code",
   "execution_count": 151,
   "metadata": {
    "collapsed": false
   },
   "outputs": [],
   "source": [
    "np.random.permutation?"
   ]
  },
  {
   "cell_type": "code",
   "execution_count": 174,
   "metadata": {
    "collapsed": false
   },
   "outputs": [
    {
     "data": {
      "text/plain": [
       "array([1410,  524, 1372,  754, 1280,  424, 1106, 1231,  634,   21, 1559,\n",
       "        563, 1497, 1515,  571,  505,  782, 1010, 1209, 1482,  707,   57,\n",
       "        584,  222,  425,   36,  949,  143,  473,  696, 1235,   63,  777,\n",
       "       1448,  353,  593,   15,  814,  654,  520, 1359,  517,  334, 1070,\n",
       "       1454, 1099,  960, 1177, 1318, 1267,   30,  818,  465,  678,  173,\n",
       "        254, 1542,  680, 1345,   54,  117, 1187, 1539,  733,  900,  337,\n",
       "        101,  865,   69,  794,  281,  251,    8,  302,  364, 1346,  137,\n",
       "       1451,  773,  797,  289, 1037,  706, 1376,  103, 1527,  371, 1015,\n",
       "        414,   97,  253, 1411,  332,  726,  320,  566,  262, 1130,  544,\n",
       "          2, 1550])"
      ]
     },
     "execution_count": 174,
     "metadata": {},
     "output_type": "execute_result"
    }
   ],
   "source": [
    "# Let's explore how change of the number [700:] affects the whole array.\n",
    "indexer1 = np.random.permutation(len(ts))[1459:]\n",
    "indexer1"
   ]
  },
  {
   "cell_type": "code",
   "execution_count": 175,
   "metadata": {
    "collapsed": false
   },
   "outputs": [
    {
     "data": {
      "text/plain": [
       "101"
      ]
     },
     "execution_count": 175,
     "metadata": {},
     "output_type": "execute_result"
    }
   ],
   "source": [
    "len(indexer1)"
   ]
  },
  {
   "cell_type": "code",
   "execution_count": 178,
   "metadata": {
    "collapsed": true
   },
   "outputs": [
    {
     "data": {
      "text/plain": [
       "2012-06-01 09:30:00       0\n",
       "2012-06-01 09:31:00       1\n",
       "2012-06-01 09:32:00       2\n",
       "2012-06-01 09:33:00       3\n",
       "2012-06-01 09:34:00       4\n",
       "2012-06-01 09:35:00       5\n",
       "2012-06-01 09:36:00       6\n",
       "2012-06-01 09:37:00       7\n",
       "2012-06-01 09:38:00       8\n",
       "2012-06-01 09:39:00       9\n",
       "2012-06-01 09:40:00      10\n",
       "2012-06-01 09:41:00      11\n",
       "2012-06-01 09:42:00      12\n",
       "2012-06-01 09:43:00      13\n",
       "2012-06-01 09:44:00      14\n",
       "2012-06-01 09:45:00      15\n",
       "2012-06-01 09:46:00      16\n",
       "2012-06-01 09:47:00      17\n",
       "2012-06-01 09:48:00      18\n",
       "2012-06-01 09:49:00      19\n",
       "2012-06-01 09:50:00      20\n",
       "2012-06-01 09:51:00      21\n",
       "2012-06-01 09:52:00      22\n",
       "2012-06-01 09:53:00      23\n",
       "2012-06-01 09:54:00      24\n",
       "2012-06-01 09:55:00      25\n",
       "2012-06-01 09:56:00      26\n",
       "2012-06-01 09:57:00      27\n",
       "2012-06-01 09:58:00      28\n",
       "2012-06-01 09:59:00      29\n",
       "                       ... \n",
       "2012-06-06 15:30:00    1530\n",
       "2012-06-06 15:31:00    1531\n",
       "2012-06-06 15:32:00    1532\n",
       "2012-06-06 15:33:00    1533\n",
       "2012-06-06 15:34:00    1534\n",
       "2012-06-06 15:35:00    1535\n",
       "2012-06-06 15:36:00    1536\n",
       "2012-06-06 15:37:00    1537\n",
       "2012-06-06 15:38:00    1538\n",
       "2012-06-06 15:39:00    1539\n",
       "2012-06-06 15:40:00    1540\n",
       "2012-06-06 15:41:00    1541\n",
       "2012-06-06 15:42:00    1542\n",
       "2012-06-06 15:43:00    1543\n",
       "2012-06-06 15:44:00    1544\n",
       "2012-06-06 15:45:00    1545\n",
       "2012-06-06 15:46:00    1546\n",
       "2012-06-06 15:47:00    1547\n",
       "2012-06-06 15:48:00    1548\n",
       "2012-06-06 15:49:00    1549\n",
       "2012-06-06 15:50:00    1550\n",
       "2012-06-06 15:51:00    1551\n",
       "2012-06-06 15:52:00    1552\n",
       "2012-06-06 15:53:00    1553\n",
       "2012-06-06 15:54:00    1554\n",
       "2012-06-06 15:55:00    1555\n",
       "2012-06-06 15:56:00    1556\n",
       "2012-06-06 15:57:00    1557\n",
       "2012-06-06 15:58:00    1558\n",
       "2012-06-06 15:59:00    1559\n",
       "dtype: int32"
      ]
     },
     "execution_count": 178,
     "metadata": {},
     "output_type": "execute_result"
    }
   ],
   "source": [
    "# Go back to the textbook\n",
    "irr_ts = ts.copy()\n",
    "irr_ts"
   ]
  },
  {
   "cell_type": "code",
   "execution_count": 181,
   "metadata": {
    "collapsed": true
   },
   "outputs": [
    {
     "data": {
      "text/plain": [
       "2012-06-01 09:50:00      20.0\n",
       "2012-06-01 09:51:00       NaN\n",
       "2012-06-01 09:52:00       NaN\n",
       "2012-06-01 09:53:00      23.0\n",
       "2012-06-01 09:54:00      24.0\n",
       "2012-06-01 09:55:00       NaN\n",
       "2012-06-01 09:56:00      26.0\n",
       "2012-06-01 09:57:00      27.0\n",
       "2012-06-01 09:58:00       NaN\n",
       "2012-06-01 09:59:00       NaN\n",
       "2012-06-01 10:00:00       NaN\n",
       "2012-06-01 10:01:00      31.0\n",
       "2012-06-01 10:02:00       NaN\n",
       "2012-06-01 10:03:00       NaN\n",
       "2012-06-01 10:04:00       NaN\n",
       "2012-06-01 10:05:00       NaN\n",
       "2012-06-01 10:06:00      36.0\n",
       "2012-06-01 10:07:00      37.0\n",
       "2012-06-01 10:08:00       NaN\n",
       "2012-06-01 10:09:00       NaN\n",
       "2012-06-01 10:10:00       NaN\n",
       "2012-06-01 10:11:00      41.0\n",
       "2012-06-01 10:12:00       NaN\n",
       "2012-06-01 10:13:00      43.0\n",
       "2012-06-01 10:14:00      44.0\n",
       "2012-06-01 10:15:00      45.0\n",
       "2012-06-01 10:16:00       NaN\n",
       "2012-06-01 10:17:00      47.0\n",
       "2012-06-01 10:18:00       NaN\n",
       "2012-06-01 10:19:00       NaN\n",
       "                        ...  \n",
       "2012-06-06 15:30:00       NaN\n",
       "2012-06-06 15:31:00       NaN\n",
       "2012-06-06 15:32:00       NaN\n",
       "2012-06-06 15:33:00    1533.0\n",
       "2012-06-06 15:34:00    1534.0\n",
       "2012-06-06 15:35:00       NaN\n",
       "2012-06-06 15:36:00       NaN\n",
       "2012-06-06 15:37:00    1537.0\n",
       "2012-06-06 15:38:00       NaN\n",
       "2012-06-06 15:39:00       NaN\n",
       "2012-06-06 15:40:00       NaN\n",
       "2012-06-06 15:41:00    1541.0\n",
       "2012-06-06 15:42:00    1542.0\n",
       "2012-06-06 15:43:00       NaN\n",
       "2012-06-06 15:44:00    1544.0\n",
       "2012-06-06 15:45:00       NaN\n",
       "2012-06-06 15:46:00       NaN\n",
       "2012-06-06 15:47:00       NaN\n",
       "2012-06-06 15:48:00       NaN\n",
       "2012-06-06 15:49:00    1549.0\n",
       "2012-06-06 15:50:00       NaN\n",
       "2012-06-06 15:51:00       NaN\n",
       "2012-06-06 15:52:00    1552.0\n",
       "2012-06-06 15:53:00       NaN\n",
       "2012-06-06 15:54:00       NaN\n",
       "2012-06-06 15:55:00    1555.0\n",
       "2012-06-06 15:56:00       NaN\n",
       "2012-06-06 15:57:00       NaN\n",
       "2012-06-06 15:58:00       NaN\n",
       "2012-06-06 15:59:00    1559.0\n",
       "dtype: float64"
      ]
     },
     "execution_count": 181,
     "metadata": {},
     "output_type": "execute_result"
    }
   ],
   "source": [
    "irr_ts[indexer] = np.nan\n",
    "#take a look at the result, time being from 2012-06-01 09:50 to the recent in the dataset\n",
    "irr_ts['2012-06-01 09:50':]"
   ]
  },
  {
   "cell_type": "markdown",
   "metadata": {},
   "source": [
    "By passing an array of timestamps to the asof method, you will obtain an array of the\n",
    "last valid (non-NA) values at or before each timestamp. So we construct a date range\n",
    "at 10 AM for each day and pass that to asof:"
   ]
  },
  {
   "cell_type": "code",
   "execution_count": 201,
   "metadata": {
    "collapsed": false
   },
   "outputs": [
    {
     "data": {
      "text/plain": [
       "DatetimeIndex(['2012-06-01 10:00:00', '2012-06-04 10:00:00',\n",
       "               '2012-06-05 10:00:00', '2012-06-06 10:00:00'],\n",
       "              dtype='datetime64[ns]', freq='B')"
      ]
     },
     "execution_count": 201,
     "metadata": {},
     "output_type": "execute_result"
    }
   ],
   "source": [
    "selection = pd.date_range('2012-06-01 10:00', periods=4, freq='B')\n",
    "selection"
   ]
  },
  {
   "cell_type": "code",
   "execution_count": 202,
   "metadata": {
    "collapsed": false
   },
   "outputs": [
    {
     "data": {
      "text/plain": [
       "2012-06-01 10:00:00      27.0\n",
       "2012-06-04 10:00:00     418.0\n",
       "2012-06-05 10:00:00     808.0\n",
       "2012-06-06 10:00:00    1200.0\n",
       "Freq: B, dtype: float64"
      ]
     },
     "execution_count": 202,
     "metadata": {},
     "output_type": "execute_result"
    }
   ],
   "source": [
    "irr_ts.asof(selection)"
   ]
  },
  {
   "cell_type": "markdown",
   "metadata": {},
   "source": [
    "### Splicing Together Data Sources"
   ]
  },
  {
   "cell_type": "markdown",
   "metadata": {},
   "source": [
    "In Chapter 7, I described a number of strategies for merging together two related data\n",
    "sets. In a financial or economic context, there are a few widely occurring use cases:\n",
    "\n",
    "• Switching from one data source (a time series or collection of time series) to another\n",
    "at a specific point in time\n",
    "\n",
    "• “Patching” missing values in a time series at the beginning, middle, or end using\n",
    "another time series\n",
    "\n",
    "• Completely replacing the data for a subset of symbols (countries, asset tickers, and\n",
    "so on)"
   ]
  },
  {
   "cell_type": "markdown",
   "metadata": {},
   "source": [
    "In the first case, switching from one set of time series to another at a specific instant, it\n",
    "is a matter of splicing together two TimeSeries or DataFrame objects using pandas.con\n",
    "cat:"
   ]
  },
  {
   "cell_type": "code",
   "execution_count": 210,
   "metadata": {
    "collapsed": false
   },
   "outputs": [
    {
     "data": {
      "text/html": [
       "<div>\n",
       "<table border=\"1\" class=\"dataframe\">\n",
       "  <thead>\n",
       "    <tr style=\"text-align: right;\">\n",
       "      <th></th>\n",
       "      <th>a</th>\n",
       "      <th>b</th>\n",
       "      <th>c</th>\n",
       "    </tr>\n",
       "  </thead>\n",
       "  <tbody>\n",
       "    <tr>\n",
       "      <th>2012-06-12</th>\n",
       "      <td>1.0</td>\n",
       "      <td>1.0</td>\n",
       "      <td>1.0</td>\n",
       "    </tr>\n",
       "    <tr>\n",
       "      <th>2012-06-13</th>\n",
       "      <td>1.0</td>\n",
       "      <td>1.0</td>\n",
       "      <td>1.0</td>\n",
       "    </tr>\n",
       "    <tr>\n",
       "      <th>2012-06-14</th>\n",
       "      <td>1.0</td>\n",
       "      <td>1.0</td>\n",
       "      <td>1.0</td>\n",
       "    </tr>\n",
       "    <tr>\n",
       "      <th>2012-06-15</th>\n",
       "      <td>1.0</td>\n",
       "      <td>1.0</td>\n",
       "      <td>1.0</td>\n",
       "    </tr>\n",
       "    <tr>\n",
       "      <th>2012-06-16</th>\n",
       "      <td>1.0</td>\n",
       "      <td>1.0</td>\n",
       "      <td>1.0</td>\n",
       "    </tr>\n",
       "    <tr>\n",
       "      <th>2012-06-17</th>\n",
       "      <td>1.0</td>\n",
       "      <td>1.0</td>\n",
       "      <td>1.0</td>\n",
       "    </tr>\n",
       "  </tbody>\n",
       "</table>\n",
       "</div>"
      ],
      "text/plain": [
       "              a    b    c\n",
       "2012-06-12  1.0  1.0  1.0\n",
       "2012-06-13  1.0  1.0  1.0\n",
       "2012-06-14  1.0  1.0  1.0\n",
       "2012-06-15  1.0  1.0  1.0\n",
       "2012-06-16  1.0  1.0  1.0\n",
       "2012-06-17  1.0  1.0  1.0"
      ]
     },
     "execution_count": 210,
     "metadata": {},
     "output_type": "execute_result"
    }
   ],
   "source": [
    "data1 = DataFrame(np.ones((6,3), dtype = float),\n",
    "                 columns = ['a', 'b', 'c'],\n",
    "                 index = pd.date_range('6/12/2012', periods = 6))\n",
    "\n",
    "data1"
   ]
  },
  {
   "cell_type": "code",
   "execution_count": 211,
   "metadata": {
    "collapsed": true
   },
   "outputs": [],
   "source": [
    "np.ones?\n",
    "# Return a new array of given shape and type, filled with ones."
   ]
  },
  {
   "cell_type": "code",
   "execution_count": 214,
   "metadata": {
    "collapsed": false
   },
   "outputs": [
    {
     "data": {
      "text/html": [
       "<div>\n",
       "<table border=\"1\" class=\"dataframe\">\n",
       "  <thead>\n",
       "    <tr style=\"text-align: right;\">\n",
       "      <th></th>\n",
       "      <th>a</th>\n",
       "      <th>b</th>\n",
       "      <th>c</th>\n",
       "    </tr>\n",
       "  </thead>\n",
       "  <tbody>\n",
       "    <tr>\n",
       "      <th>2012-06-13</th>\n",
       "      <td>2.0</td>\n",
       "      <td>2.0</td>\n",
       "      <td>2.0</td>\n",
       "    </tr>\n",
       "    <tr>\n",
       "      <th>2012-06-14</th>\n",
       "      <td>2.0</td>\n",
       "      <td>2.0</td>\n",
       "      <td>2.0</td>\n",
       "    </tr>\n",
       "    <tr>\n",
       "      <th>2012-06-15</th>\n",
       "      <td>2.0</td>\n",
       "      <td>2.0</td>\n",
       "      <td>2.0</td>\n",
       "    </tr>\n",
       "    <tr>\n",
       "      <th>2012-06-16</th>\n",
       "      <td>2.0</td>\n",
       "      <td>2.0</td>\n",
       "      <td>2.0</td>\n",
       "    </tr>\n",
       "    <tr>\n",
       "      <th>2012-06-17</th>\n",
       "      <td>2.0</td>\n",
       "      <td>2.0</td>\n",
       "      <td>2.0</td>\n",
       "    </tr>\n",
       "    <tr>\n",
       "      <th>2012-06-18</th>\n",
       "      <td>2.0</td>\n",
       "      <td>2.0</td>\n",
       "      <td>2.0</td>\n",
       "    </tr>\n",
       "  </tbody>\n",
       "</table>\n",
       "</div>"
      ],
      "text/plain": [
       "              a    b    c\n",
       "2012-06-13  2.0  2.0  2.0\n",
       "2012-06-14  2.0  2.0  2.0\n",
       "2012-06-15  2.0  2.0  2.0\n",
       "2012-06-16  2.0  2.0  2.0\n",
       "2012-06-17  2.0  2.0  2.0\n",
       "2012-06-18  2.0  2.0  2.0"
      ]
     },
     "execution_count": 214,
     "metadata": {},
     "output_type": "execute_result"
    }
   ],
   "source": [
    "data2 = DataFrame(np.ones((6,3), dtype = float)*2,\n",
    "                  columns = ['a','b','c'],\n",
    "                  index = pd.date_range('6/13/2012', periods=6))\n",
    "data2"
   ]
  },
  {
   "cell_type": "code",
   "execution_count": 215,
   "metadata": {
    "collapsed": false
   },
   "outputs": [
    {
     "data": {
      "text/html": [
       "<div>\n",
       "<table border=\"1\" class=\"dataframe\">\n",
       "  <thead>\n",
       "    <tr style=\"text-align: right;\">\n",
       "      <th></th>\n",
       "      <th>a</th>\n",
       "      <th>b</th>\n",
       "      <th>c</th>\n",
       "    </tr>\n",
       "  </thead>\n",
       "  <tbody>\n",
       "    <tr>\n",
       "      <th>2012-06-12</th>\n",
       "      <td>1.0</td>\n",
       "      <td>1.0</td>\n",
       "      <td>1.0</td>\n",
       "    </tr>\n",
       "    <tr>\n",
       "      <th>2012-06-13</th>\n",
       "      <td>1.0</td>\n",
       "      <td>1.0</td>\n",
       "      <td>1.0</td>\n",
       "    </tr>\n",
       "    <tr>\n",
       "      <th>2012-06-14</th>\n",
       "      <td>1.0</td>\n",
       "      <td>1.0</td>\n",
       "      <td>1.0</td>\n",
       "    </tr>\n",
       "    <tr>\n",
       "      <th>2012-06-15</th>\n",
       "      <td>2.0</td>\n",
       "      <td>2.0</td>\n",
       "      <td>2.0</td>\n",
       "    </tr>\n",
       "    <tr>\n",
       "      <th>2012-06-16</th>\n",
       "      <td>2.0</td>\n",
       "      <td>2.0</td>\n",
       "      <td>2.0</td>\n",
       "    </tr>\n",
       "    <tr>\n",
       "      <th>2012-06-17</th>\n",
       "      <td>2.0</td>\n",
       "      <td>2.0</td>\n",
       "      <td>2.0</td>\n",
       "    </tr>\n",
       "    <tr>\n",
       "      <th>2012-06-18</th>\n",
       "      <td>2.0</td>\n",
       "      <td>2.0</td>\n",
       "      <td>2.0</td>\n",
       "    </tr>\n",
       "  </tbody>\n",
       "</table>\n",
       "</div>"
      ],
      "text/plain": [
       "              a    b    c\n",
       "2012-06-12  1.0  1.0  1.0\n",
       "2012-06-13  1.0  1.0  1.0\n",
       "2012-06-14  1.0  1.0  1.0\n",
       "2012-06-15  2.0  2.0  2.0\n",
       "2012-06-16  2.0  2.0  2.0\n",
       "2012-06-17  2.0  2.0  2.0\n",
       "2012-06-18  2.0  2.0  2.0"
      ]
     },
     "execution_count": 215,
     "metadata": {},
     "output_type": "execute_result"
    }
   ],
   "source": [
    "spliced = pd.concat([data1.ix[:'2012-06-14'], data2.ix['2012-06-15':]])\n",
    "spliced"
   ]
  },
  {
   "cell_type": "markdown",
   "metadata": {},
   "source": [
    "Suppose in a similar example that data1 was missing a time series present in data2:"
   ]
  },
  {
   "cell_type": "code",
   "execution_count": 217,
   "metadata": {
    "collapsed": false
   },
   "outputs": [
    {
     "data": {
      "text/html": [
       "<div>\n",
       "<table border=\"1\" class=\"dataframe\">\n",
       "  <thead>\n",
       "    <tr style=\"text-align: right;\">\n",
       "      <th></th>\n",
       "      <th>a</th>\n",
       "      <th>b</th>\n",
       "      <th>c</th>\n",
       "      <th>d</th>\n",
       "    </tr>\n",
       "  </thead>\n",
       "  <tbody>\n",
       "    <tr>\n",
       "      <th>2012-06-13</th>\n",
       "      <td>2.0</td>\n",
       "      <td>2.0</td>\n",
       "      <td>2.0</td>\n",
       "      <td>2.0</td>\n",
       "    </tr>\n",
       "    <tr>\n",
       "      <th>2012-06-14</th>\n",
       "      <td>2.0</td>\n",
       "      <td>2.0</td>\n",
       "      <td>2.0</td>\n",
       "      <td>2.0</td>\n",
       "    </tr>\n",
       "    <tr>\n",
       "      <th>2012-06-15</th>\n",
       "      <td>2.0</td>\n",
       "      <td>2.0</td>\n",
       "      <td>2.0</td>\n",
       "      <td>2.0</td>\n",
       "    </tr>\n",
       "    <tr>\n",
       "      <th>2012-06-16</th>\n",
       "      <td>2.0</td>\n",
       "      <td>2.0</td>\n",
       "      <td>2.0</td>\n",
       "      <td>2.0</td>\n",
       "    </tr>\n",
       "    <tr>\n",
       "      <th>2012-06-17</th>\n",
       "      <td>2.0</td>\n",
       "      <td>2.0</td>\n",
       "      <td>2.0</td>\n",
       "      <td>2.0</td>\n",
       "    </tr>\n",
       "    <tr>\n",
       "      <th>2012-06-18</th>\n",
       "      <td>2.0</td>\n",
       "      <td>2.0</td>\n",
       "      <td>2.0</td>\n",
       "      <td>2.0</td>\n",
       "    </tr>\n",
       "  </tbody>\n",
       "</table>\n",
       "</div>"
      ],
      "text/plain": [
       "              a    b    c    d\n",
       "2012-06-13  2.0  2.0  2.0  2.0\n",
       "2012-06-14  2.0  2.0  2.0  2.0\n",
       "2012-06-15  2.0  2.0  2.0  2.0\n",
       "2012-06-16  2.0  2.0  2.0  2.0\n",
       "2012-06-17  2.0  2.0  2.0  2.0\n",
       "2012-06-18  2.0  2.0  2.0  2.0"
      ]
     },
     "execution_count": 217,
     "metadata": {},
     "output_type": "execute_result"
    }
   ],
   "source": [
    "data2 = DataFrame(np.ones((6,4), dtype = float)*2,\n",
    "                 columns = ['a','b','c','d'],\n",
    "                 index = pd.date_range('6/13/2012', periods = 6))\n",
    "data2"
   ]
  },
  {
   "cell_type": "code",
   "execution_count": 218,
   "metadata": {
    "collapsed": false
   },
   "outputs": [
    {
     "data": {
      "text/html": [
       "<div>\n",
       "<table border=\"1\" class=\"dataframe\">\n",
       "  <thead>\n",
       "    <tr style=\"text-align: right;\">\n",
       "      <th></th>\n",
       "      <th>a</th>\n",
       "      <th>b</th>\n",
       "      <th>c</th>\n",
       "      <th>d</th>\n",
       "    </tr>\n",
       "  </thead>\n",
       "  <tbody>\n",
       "    <tr>\n",
       "      <th>2012-06-12</th>\n",
       "      <td>1.0</td>\n",
       "      <td>1.0</td>\n",
       "      <td>1.0</td>\n",
       "      <td>NaN</td>\n",
       "    </tr>\n",
       "    <tr>\n",
       "      <th>2012-06-13</th>\n",
       "      <td>1.0</td>\n",
       "      <td>1.0</td>\n",
       "      <td>1.0</td>\n",
       "      <td>NaN</td>\n",
       "    </tr>\n",
       "    <tr>\n",
       "      <th>2012-06-14</th>\n",
       "      <td>1.0</td>\n",
       "      <td>1.0</td>\n",
       "      <td>1.0</td>\n",
       "      <td>NaN</td>\n",
       "    </tr>\n",
       "    <tr>\n",
       "      <th>2012-06-15</th>\n",
       "      <td>2.0</td>\n",
       "      <td>2.0</td>\n",
       "      <td>2.0</td>\n",
       "      <td>2.0</td>\n",
       "    </tr>\n",
       "    <tr>\n",
       "      <th>2012-06-16</th>\n",
       "      <td>2.0</td>\n",
       "      <td>2.0</td>\n",
       "      <td>2.0</td>\n",
       "      <td>2.0</td>\n",
       "    </tr>\n",
       "    <tr>\n",
       "      <th>2012-06-17</th>\n",
       "      <td>2.0</td>\n",
       "      <td>2.0</td>\n",
       "      <td>2.0</td>\n",
       "      <td>2.0</td>\n",
       "    </tr>\n",
       "    <tr>\n",
       "      <th>2012-06-18</th>\n",
       "      <td>2.0</td>\n",
       "      <td>2.0</td>\n",
       "      <td>2.0</td>\n",
       "      <td>2.0</td>\n",
       "    </tr>\n",
       "  </tbody>\n",
       "</table>\n",
       "</div>"
      ],
      "text/plain": [
       "              a    b    c    d\n",
       "2012-06-12  1.0  1.0  1.0  NaN\n",
       "2012-06-13  1.0  1.0  1.0  NaN\n",
       "2012-06-14  1.0  1.0  1.0  NaN\n",
       "2012-06-15  2.0  2.0  2.0  2.0\n",
       "2012-06-16  2.0  2.0  2.0  2.0\n",
       "2012-06-17  2.0  2.0  2.0  2.0\n",
       "2012-06-18  2.0  2.0  2.0  2.0"
      ]
     },
     "execution_count": 218,
     "metadata": {},
     "output_type": "execute_result"
    }
   ],
   "source": [
    "spliced = pd.concat([data1.ix[:'2012-06-14'], data2.ix['2012-06-15':]])\n",
    "spliced"
   ]
  },
  {
   "cell_type": "markdown",
   "metadata": {},
   "source": [
    "Using combine_first, you can bring in data from before the splice point to extend the\n",
    "history for 'd' item:"
   ]
  },
  {
   "cell_type": "code",
   "execution_count": 221,
   "metadata": {
    "collapsed": false
   },
   "outputs": [
    {
     "data": {
      "text/html": [
       "<div>\n",
       "<table border=\"1\" class=\"dataframe\">\n",
       "  <thead>\n",
       "    <tr style=\"text-align: right;\">\n",
       "      <th></th>\n",
       "      <th>a</th>\n",
       "      <th>b</th>\n",
       "      <th>c</th>\n",
       "      <th>d</th>\n",
       "    </tr>\n",
       "  </thead>\n",
       "  <tbody>\n",
       "    <tr>\n",
       "      <th>2012-06-12</th>\n",
       "      <td>1.0</td>\n",
       "      <td>1.0</td>\n",
       "      <td>1.0</td>\n",
       "      <td>NaN</td>\n",
       "    </tr>\n",
       "    <tr>\n",
       "      <th>2012-06-13</th>\n",
       "      <td>1.0</td>\n",
       "      <td>1.0</td>\n",
       "      <td>1.0</td>\n",
       "      <td>2.0</td>\n",
       "    </tr>\n",
       "    <tr>\n",
       "      <th>2012-06-14</th>\n",
       "      <td>1.0</td>\n",
       "      <td>1.0</td>\n",
       "      <td>1.0</td>\n",
       "      <td>2.0</td>\n",
       "    </tr>\n",
       "    <tr>\n",
       "      <th>2012-06-15</th>\n",
       "      <td>2.0</td>\n",
       "      <td>2.0</td>\n",
       "      <td>2.0</td>\n",
       "      <td>2.0</td>\n",
       "    </tr>\n",
       "    <tr>\n",
       "      <th>2012-06-16</th>\n",
       "      <td>2.0</td>\n",
       "      <td>2.0</td>\n",
       "      <td>2.0</td>\n",
       "      <td>2.0</td>\n",
       "    </tr>\n",
       "    <tr>\n",
       "      <th>2012-06-17</th>\n",
       "      <td>2.0</td>\n",
       "      <td>2.0</td>\n",
       "      <td>2.0</td>\n",
       "      <td>2.0</td>\n",
       "    </tr>\n",
       "    <tr>\n",
       "      <th>2012-06-18</th>\n",
       "      <td>2.0</td>\n",
       "      <td>2.0</td>\n",
       "      <td>2.0</td>\n",
       "      <td>2.0</td>\n",
       "    </tr>\n",
       "  </tbody>\n",
       "</table>\n",
       "</div>"
      ],
      "text/plain": [
       "              a    b    c    d\n",
       "2012-06-12  1.0  1.0  1.0  NaN\n",
       "2012-06-13  1.0  1.0  1.0  2.0\n",
       "2012-06-14  1.0  1.0  1.0  2.0\n",
       "2012-06-15  2.0  2.0  2.0  2.0\n",
       "2012-06-16  2.0  2.0  2.0  2.0\n",
       "2012-06-17  2.0  2.0  2.0  2.0\n",
       "2012-06-18  2.0  2.0  2.0  2.0"
      ]
     },
     "execution_count": 221,
     "metadata": {},
     "output_type": "execute_result"
    }
   ],
   "source": [
    "# Use data2's values to fill in the d column, however, Since data2 does not have any values for 2012-06-12, \n",
    "# no values are filled on that day.\n",
    "spliced_filled = spliced.combine_first(data2)\n",
    "spliced_filled"
   ]
  },
  {
   "cell_type": "markdown",
   "metadata": {},
   "source": [
    "DataFrame has a related method update for performing in-place updates. You have to pass overwrite=False to make it only fill the holes:"
   ]
  },
  {
   "cell_type": "code",
   "execution_count": 222,
   "metadata": {
    "collapsed": false
   },
   "outputs": [
    {
     "data": {
      "text/html": [
       "<div>\n",
       "<table border=\"1\" class=\"dataframe\">\n",
       "  <thead>\n",
       "    <tr style=\"text-align: right;\">\n",
       "      <th></th>\n",
       "      <th>a</th>\n",
       "      <th>b</th>\n",
       "      <th>c</th>\n",
       "      <th>d</th>\n",
       "    </tr>\n",
       "  </thead>\n",
       "  <tbody>\n",
       "    <tr>\n",
       "      <th>2012-06-12</th>\n",
       "      <td>1.0</td>\n",
       "      <td>1.0</td>\n",
       "      <td>1.0</td>\n",
       "      <td>NaN</td>\n",
       "    </tr>\n",
       "    <tr>\n",
       "      <th>2012-06-13</th>\n",
       "      <td>1.0</td>\n",
       "      <td>1.0</td>\n",
       "      <td>1.0</td>\n",
       "      <td>2.0</td>\n",
       "    </tr>\n",
       "    <tr>\n",
       "      <th>2012-06-14</th>\n",
       "      <td>1.0</td>\n",
       "      <td>1.0</td>\n",
       "      <td>1.0</td>\n",
       "      <td>2.0</td>\n",
       "    </tr>\n",
       "    <tr>\n",
       "      <th>2012-06-15</th>\n",
       "      <td>2.0</td>\n",
       "      <td>2.0</td>\n",
       "      <td>2.0</td>\n",
       "      <td>2.0</td>\n",
       "    </tr>\n",
       "    <tr>\n",
       "      <th>2012-06-16</th>\n",
       "      <td>2.0</td>\n",
       "      <td>2.0</td>\n",
       "      <td>2.0</td>\n",
       "      <td>2.0</td>\n",
       "    </tr>\n",
       "    <tr>\n",
       "      <th>2012-06-17</th>\n",
       "      <td>2.0</td>\n",
       "      <td>2.0</td>\n",
       "      <td>2.0</td>\n",
       "      <td>2.0</td>\n",
       "    </tr>\n",
       "    <tr>\n",
       "      <th>2012-06-18</th>\n",
       "      <td>2.0</td>\n",
       "      <td>2.0</td>\n",
       "      <td>2.0</td>\n",
       "      <td>2.0</td>\n",
       "    </tr>\n",
       "  </tbody>\n",
       "</table>\n",
       "</div>"
      ],
      "text/plain": [
       "              a    b    c    d\n",
       "2012-06-12  1.0  1.0  1.0  NaN\n",
       "2012-06-13  1.0  1.0  1.0  2.0\n",
       "2012-06-14  1.0  1.0  1.0  2.0\n",
       "2012-06-15  2.0  2.0  2.0  2.0\n",
       "2012-06-16  2.0  2.0  2.0  2.0\n",
       "2012-06-17  2.0  2.0  2.0  2.0\n",
       "2012-06-18  2.0  2.0  2.0  2.0"
      ]
     },
     "execution_count": 222,
     "metadata": {},
     "output_type": "execute_result"
    }
   ],
   "source": [
    "spliced.update(data2, overwrite = False)\n",
    "spliced"
   ]
  },
  {
   "cell_type": "markdown",
   "metadata": {},
   "source": [
    "To replace the data for a subset of symbols, you can use any of the above techniques,\n",
    "but sometimes it’s simpler to just set the columns directly with DataFrame indexing:"
   ]
  },
  {
   "cell_type": "code",
   "execution_count": 225,
   "metadata": {
    "collapsed": false
   },
   "outputs": [
    {
     "data": {
      "text/html": [
       "<div>\n",
       "<table border=\"1\" class=\"dataframe\">\n",
       "  <thead>\n",
       "    <tr style=\"text-align: right;\">\n",
       "      <th></th>\n",
       "      <th>a</th>\n",
       "      <th>b</th>\n",
       "      <th>c</th>\n",
       "    </tr>\n",
       "  </thead>\n",
       "  <tbody>\n",
       "    <tr>\n",
       "      <th>2012-06-12</th>\n",
       "      <td>1.0</td>\n",
       "      <td>1.0</td>\n",
       "      <td>1.0</td>\n",
       "    </tr>\n",
       "    <tr>\n",
       "      <th>2012-06-13</th>\n",
       "      <td>1.0</td>\n",
       "      <td>1.0</td>\n",
       "      <td>1.0</td>\n",
       "    </tr>\n",
       "    <tr>\n",
       "      <th>2012-06-14</th>\n",
       "      <td>1.0</td>\n",
       "      <td>1.0</td>\n",
       "      <td>1.0</td>\n",
       "    </tr>\n",
       "    <tr>\n",
       "      <th>2012-06-15</th>\n",
       "      <td>1.0</td>\n",
       "      <td>1.0</td>\n",
       "      <td>1.0</td>\n",
       "    </tr>\n",
       "    <tr>\n",
       "      <th>2012-06-16</th>\n",
       "      <td>1.0</td>\n",
       "      <td>1.0</td>\n",
       "      <td>1.0</td>\n",
       "    </tr>\n",
       "    <tr>\n",
       "      <th>2012-06-17</th>\n",
       "      <td>1.0</td>\n",
       "      <td>1.0</td>\n",
       "      <td>1.0</td>\n",
       "    </tr>\n",
       "  </tbody>\n",
       "</table>\n",
       "</div>"
      ],
      "text/plain": [
       "              a    b    c\n",
       "2012-06-12  1.0  1.0  1.0\n",
       "2012-06-13  1.0  1.0  1.0\n",
       "2012-06-14  1.0  1.0  1.0\n",
       "2012-06-15  1.0  1.0  1.0\n",
       "2012-06-16  1.0  1.0  1.0\n",
       "2012-06-17  1.0  1.0  1.0"
      ]
     },
     "execution_count": 225,
     "metadata": {},
     "output_type": "execute_result"
    }
   ],
   "source": [
    "# Take a look at data1 first\n",
    "data1"
   ]
  },
  {
   "cell_type": "code",
   "execution_count": 224,
   "metadata": {
    "collapsed": true
   },
   "outputs": [],
   "source": [
    "cp_spliced = spliced.copy()"
   ]
  },
  {
   "cell_type": "code",
   "execution_count": 228,
   "metadata": {
    "collapsed": false
   },
   "outputs": [],
   "source": [
    "cp_spliced[['a','c']] = data1[['a','c']]"
   ]
  },
  {
   "cell_type": "code",
   "execution_count": 229,
   "metadata": {
    "collapsed": false
   },
   "outputs": [
    {
     "data": {
      "text/html": [
       "<div>\n",
       "<table border=\"1\" class=\"dataframe\">\n",
       "  <thead>\n",
       "    <tr style=\"text-align: right;\">\n",
       "      <th></th>\n",
       "      <th>a</th>\n",
       "      <th>b</th>\n",
       "      <th>c</th>\n",
       "      <th>d</th>\n",
       "    </tr>\n",
       "  </thead>\n",
       "  <tbody>\n",
       "    <tr>\n",
       "      <th>2012-06-12</th>\n",
       "      <td>1.0</td>\n",
       "      <td>1.0</td>\n",
       "      <td>1.0</td>\n",
       "      <td>NaN</td>\n",
       "    </tr>\n",
       "    <tr>\n",
       "      <th>2012-06-13</th>\n",
       "      <td>1.0</td>\n",
       "      <td>1.0</td>\n",
       "      <td>1.0</td>\n",
       "      <td>2.0</td>\n",
       "    </tr>\n",
       "    <tr>\n",
       "      <th>2012-06-14</th>\n",
       "      <td>1.0</td>\n",
       "      <td>1.0</td>\n",
       "      <td>1.0</td>\n",
       "      <td>2.0</td>\n",
       "    </tr>\n",
       "    <tr>\n",
       "      <th>2012-06-15</th>\n",
       "      <td>1.0</td>\n",
       "      <td>2.0</td>\n",
       "      <td>1.0</td>\n",
       "      <td>2.0</td>\n",
       "    </tr>\n",
       "    <tr>\n",
       "      <th>2012-06-16</th>\n",
       "      <td>1.0</td>\n",
       "      <td>2.0</td>\n",
       "      <td>1.0</td>\n",
       "      <td>2.0</td>\n",
       "    </tr>\n",
       "    <tr>\n",
       "      <th>2012-06-17</th>\n",
       "      <td>1.0</td>\n",
       "      <td>2.0</td>\n",
       "      <td>1.0</td>\n",
       "      <td>2.0</td>\n",
       "    </tr>\n",
       "    <tr>\n",
       "      <th>2012-06-18</th>\n",
       "      <td>NaN</td>\n",
       "      <td>2.0</td>\n",
       "      <td>NaN</td>\n",
       "      <td>2.0</td>\n",
       "    </tr>\n",
       "  </tbody>\n",
       "</table>\n",
       "</div>"
      ],
      "text/plain": [
       "              a    b    c    d\n",
       "2012-06-12  1.0  1.0  1.0  NaN\n",
       "2012-06-13  1.0  1.0  1.0  2.0\n",
       "2012-06-14  1.0  1.0  1.0  2.0\n",
       "2012-06-15  1.0  2.0  1.0  2.0\n",
       "2012-06-16  1.0  2.0  1.0  2.0\n",
       "2012-06-17  1.0  2.0  1.0  2.0\n",
       "2012-06-18  NaN  2.0  NaN  2.0"
      ]
     },
     "execution_count": 229,
     "metadata": {},
     "output_type": "execute_result"
    }
   ],
   "source": [
    "cp_spliced"
   ]
  },
  {
   "cell_type": "markdown",
   "metadata": {},
   "source": [
    "### Return Indexes and Cumulative Returns"
   ]
  },
  {
   "cell_type": "markdown",
   "metadata": {},
   "source": [
    "In a financial context, returns usually refer to percent changes in the price of an asset.\n",
    "Let’s consider price data for Apple in 2011 and 2012:"
   ]
  },
  {
   "cell_type": "code",
   "execution_count": 238,
   "metadata": {
    "collapsed": false
   },
   "outputs": [],
   "source": [
    "#Remember you need to put pandas_datareader.data insstead of pandas_datareader alone to call web data from yahoo finance!\n",
    "import pandas_datareader.data as wb\n",
    "from datetime import datetime"
   ]
  },
  {
   "cell_type": "code",
   "execution_count": 243,
   "metadata": {
    "collapsed": false
   },
   "outputs": [],
   "source": [
    "price = wb.DataReader('aapl', data_source = 'yahoo', start = datetime(2016,1,1))['Adj Close']"
   ]
  },
  {
   "cell_type": "code",
   "execution_count": 258,
   "metadata": {
    "collapsed": false
   },
   "outputs": [
    {
     "data": {
      "text/plain": [
       "Date\n",
       "2016-12-23    116.519997\n",
       "2016-12-27    117.260002\n",
       "2016-12-28    116.760002\n",
       "2016-12-29    116.730003\n",
       "2016-12-30    115.820000\n",
       "Name: Adj Close, dtype: float64"
      ]
     },
     "execution_count": 258,
     "metadata": {},
     "output_type": "execute_result"
    }
   ],
   "source": [
    "price[-5:]"
   ]
  },
  {
   "cell_type": "markdown",
   "metadata": {},
   "source": [
    "For Apple, which has no dividends, computing the cumulative percent return between\n",
    "two points in time requires computing only the percent change in the price:"
   ]
  },
  {
   "cell_type": "code",
   "execution_count": 254,
   "metadata": {
    "collapsed": false
   },
   "outputs": [
    {
     "data": {
      "text/plain": [
       "111.945245"
      ]
     },
     "execution_count": 254,
     "metadata": {},
     "output_type": "execute_result"
    }
   ],
   "source": [
    "price['2016-10-3']"
   ]
  },
  {
   "cell_type": "code",
   "execution_count": 256,
   "metadata": {
    "collapsed": true
   },
   "outputs": [
    {
     "ename": "KeyError",
     "evalue": "'2016-10-2'",
     "output_type": "error",
     "traceback": [
      "\u001b[0;31m---------------------------------------------------------------------------\u001b[0m",
      "\u001b[0;31mTypeError\u001b[0m                                 Traceback (most recent call last)",
      "\u001b[0;32mC:\\Users\\Brad Sun\\Anaconda3\\lib\\site-packages\\pandas\\indexes\\base.py\u001b[0m in \u001b[0;36mget_value\u001b[0;34m(self, series, key)\u001b[0m\n\u001b[1;32m   2144\u001b[0m             \u001b[1;32mtry\u001b[0m\u001b[1;33m:\u001b[0m\u001b[1;33m\u001b[0m\u001b[0m\n\u001b[0;32m-> 2145\u001b[0;31m                 \u001b[1;32mreturn\u001b[0m \u001b[0mtslib\u001b[0m\u001b[1;33m.\u001b[0m\u001b[0mget_value_box\u001b[0m\u001b[1;33m(\u001b[0m\u001b[0ms\u001b[0m\u001b[1;33m,\u001b[0m \u001b[0mkey\u001b[0m\u001b[1;33m)\u001b[0m\u001b[1;33m\u001b[0m\u001b[0m\n\u001b[0m\u001b[1;32m   2146\u001b[0m             \u001b[1;32mexcept\u001b[0m \u001b[0mIndexError\u001b[0m\u001b[1;33m:\u001b[0m\u001b[1;33m\u001b[0m\u001b[0m\n",
      "\u001b[0;32mpandas\\tslib.pyx\u001b[0m in \u001b[0;36mpandas.tslib.get_value_box (pandas\\tslib.c:17368)\u001b[0;34m()\u001b[0m\n",
      "\u001b[0;32mpandas\\tslib.pyx\u001b[0m in \u001b[0;36mpandas.tslib.get_value_box (pandas\\tslib.c:17042)\u001b[0;34m()\u001b[0m\n",
      "\u001b[0;31mTypeError\u001b[0m: 'str' object cannot be interpreted as an integer",
      "\nDuring handling of the above exception, another exception occurred:\n",
      "\u001b[0;31mKeyError\u001b[0m                                  Traceback (most recent call last)",
      "\u001b[0;32mC:\\Users\\Brad Sun\\Anaconda3\\lib\\site-packages\\pandas\\tseries\\index.py\u001b[0m in \u001b[0;36mget_value\u001b[0;34m(self, series, key)\u001b[0m\n\u001b[1;32m   1360\u001b[0m         \u001b[1;32mtry\u001b[0m\u001b[1;33m:\u001b[0m\u001b[1;33m\u001b[0m\u001b[0m\n\u001b[0;32m-> 1361\u001b[0;31m             return _maybe_box(self, Index.get_value(self, series, key),\n\u001b[0m\u001b[1;32m   1362\u001b[0m                               series, key)\n",
      "\u001b[0;32mC:\\Users\\Brad Sun\\Anaconda3\\lib\\site-packages\\pandas\\indexes\\base.py\u001b[0m in \u001b[0;36mget_value\u001b[0;34m(self, series, key)\u001b[0m\n\u001b[1;32m   2152\u001b[0m                 \u001b[1;32melse\u001b[0m\u001b[1;33m:\u001b[0m\u001b[1;33m\u001b[0m\u001b[0m\n\u001b[0;32m-> 2153\u001b[0;31m                     \u001b[1;32mraise\u001b[0m \u001b[0me1\u001b[0m\u001b[1;33m\u001b[0m\u001b[0m\n\u001b[0m\u001b[1;32m   2154\u001b[0m             \u001b[1;32mexcept\u001b[0m \u001b[0mException\u001b[0m\u001b[1;33m:\u001b[0m  \u001b[1;31m# pragma: no cover\u001b[0m\u001b[1;33m\u001b[0m\u001b[0m\n",
      "\u001b[0;32mC:\\Users\\Brad Sun\\Anaconda3\\lib\\site-packages\\pandas\\indexes\\base.py\u001b[0m in \u001b[0;36mget_value\u001b[0;34m(self, series, key)\u001b[0m\n\u001b[1;32m   2138\u001b[0m             return self._engine.get_value(s, k,\n\u001b[0;32m-> 2139\u001b[0;31m                                           tz=getattr(series.dtype, 'tz', None))\n\u001b[0m\u001b[1;32m   2140\u001b[0m         \u001b[1;32mexcept\u001b[0m \u001b[0mKeyError\u001b[0m \u001b[1;32mas\u001b[0m \u001b[0me1\u001b[0m\u001b[1;33m:\u001b[0m\u001b[1;33m\u001b[0m\u001b[0m\n",
      "\u001b[0;32mpandas\\index.pyx\u001b[0m in \u001b[0;36mpandas.index.IndexEngine.get_value (pandas\\index.c:3338)\u001b[0;34m()\u001b[0m\n",
      "\u001b[0;32mpandas\\index.pyx\u001b[0m in \u001b[0;36mpandas.index.IndexEngine.get_value (pandas\\index.c:3041)\u001b[0;34m()\u001b[0m\n",
      "\u001b[0;32mpandas\\index.pyx\u001b[0m in \u001b[0;36mpandas.index.DatetimeEngine.get_loc (pandas\\index.c:11147)\u001b[0;34m()\u001b[0m\n",
      "\u001b[0;32mpandas\\index.pyx\u001b[0m in \u001b[0;36mpandas.index.DatetimeEngine._date_check_type (pandas\\index.c:11311)\u001b[0;34m()\u001b[0m\n",
      "\u001b[0;31mKeyError\u001b[0m: '2016-10-2'",
      "\nDuring handling of the above exception, another exception occurred:\n",
      "\u001b[0;31mKeyError\u001b[0m                                  Traceback (most recent call last)",
      "\u001b[0;32mpandas\\index.pyx\u001b[0m in \u001b[0;36mpandas.index.DatetimeEngine.get_loc (pandas\\index.c:10929)\u001b[0;34m()\u001b[0m\n",
      "\u001b[0;32mpandas\\src\\hashtable_class_helper.pxi\u001b[0m in \u001b[0;36mpandas.hashtable.Int64HashTable.get_item (pandas\\hashtable.c:8141)\u001b[0;34m()\u001b[0m\n",
      "\u001b[0;32mpandas\\src\\hashtable_class_helper.pxi\u001b[0m in \u001b[0;36mpandas.hashtable.Int64HashTable.get_item (pandas\\hashtable.c:8085)\u001b[0;34m()\u001b[0m\n",
      "\u001b[0;31mKeyError\u001b[0m: 1475366400000000000",
      "\nDuring handling of the above exception, another exception occurred:\n",
      "\u001b[0;31mKeyError\u001b[0m                                  Traceback (most recent call last)",
      "\u001b[0;32mC:\\Users\\Brad Sun\\Anaconda3\\lib\\site-packages\\pandas\\tseries\\index.py\u001b[0m in \u001b[0;36mget_value\u001b[0;34m(self, series, key)\u001b[0m\n\u001b[1;32m   1370\u001b[0m             \u001b[1;32mtry\u001b[0m\u001b[1;33m:\u001b[0m\u001b[1;33m\u001b[0m\u001b[0m\n\u001b[0;32m-> 1371\u001b[0;31m                 \u001b[1;32mreturn\u001b[0m \u001b[0mself\u001b[0m\u001b[1;33m.\u001b[0m\u001b[0mget_value_maybe_box\u001b[0m\u001b[1;33m(\u001b[0m\u001b[0mseries\u001b[0m\u001b[1;33m,\u001b[0m \u001b[0mkey\u001b[0m\u001b[1;33m)\u001b[0m\u001b[1;33m\u001b[0m\u001b[0m\n\u001b[0m\u001b[1;32m   1372\u001b[0m             \u001b[1;32mexcept\u001b[0m \u001b[1;33m(\u001b[0m\u001b[0mTypeError\u001b[0m\u001b[1;33m,\u001b[0m \u001b[0mValueError\u001b[0m\u001b[1;33m,\u001b[0m \u001b[0mKeyError\u001b[0m\u001b[1;33m)\u001b[0m\u001b[1;33m:\u001b[0m\u001b[1;33m\u001b[0m\u001b[0m\n",
      "\u001b[0;32mC:\\Users\\Brad Sun\\Anaconda3\\lib\\site-packages\\pandas\\tseries\\index.py\u001b[0m in \u001b[0;36mget_value_maybe_box\u001b[0;34m(self, series, key)\u001b[0m\n\u001b[1;32m   1381\u001b[0m         values = self._engine.get_value(_values_from_object(series),\n\u001b[0;32m-> 1382\u001b[0;31m                                         key, tz=self.tz)\n\u001b[0m\u001b[1;32m   1383\u001b[0m         \u001b[1;32mreturn\u001b[0m \u001b[0m_maybe_box\u001b[0m\u001b[1;33m(\u001b[0m\u001b[0mself\u001b[0m\u001b[1;33m,\u001b[0m \u001b[0mvalues\u001b[0m\u001b[1;33m,\u001b[0m \u001b[0mseries\u001b[0m\u001b[1;33m,\u001b[0m \u001b[0mkey\u001b[0m\u001b[1;33m)\u001b[0m\u001b[1;33m\u001b[0m\u001b[0m\n",
      "\u001b[0;32mpandas\\index.pyx\u001b[0m in \u001b[0;36mpandas.index.IndexEngine.get_value (pandas\\index.c:3338)\u001b[0;34m()\u001b[0m\n",
      "\u001b[0;32mpandas\\index.pyx\u001b[0m in \u001b[0;36mpandas.index.IndexEngine.get_value (pandas\\index.c:3041)\u001b[0;34m()\u001b[0m\n",
      "\u001b[0;32mpandas\\index.pyx\u001b[0m in \u001b[0;36mpandas.index.DatetimeEngine.get_loc (pandas\\index.c:10996)\u001b[0;34m()\u001b[0m\n",
      "\u001b[0;31mKeyError\u001b[0m: Timestamp('2016-10-02 00:00:00')",
      "\nDuring handling of the above exception, another exception occurred:\n",
      "\u001b[0;31mKeyError\u001b[0m                                  Traceback (most recent call last)",
      "\u001b[0;32m<ipython-input-256-0016515484cd>\u001b[0m in \u001b[0;36m<module>\u001b[0;34m()\u001b[0m\n\u001b[0;32m----> 1\u001b[0;31m \u001b[0mprice\u001b[0m\u001b[1;33m[\u001b[0m\u001b[1;34m'2016-10-2'\u001b[0m\u001b[1;33m]\u001b[0m\u001b[1;33m\u001b[0m\u001b[0m\n\u001b[0m",
      "\u001b[0;32mC:\\Users\\Brad Sun\\Anaconda3\\lib\\site-packages\\pandas\\core\\series.py\u001b[0m in \u001b[0;36m__getitem__\u001b[0;34m(self, key)\u001b[0m\n\u001b[1;32m    599\u001b[0m         \u001b[0mkey\u001b[0m \u001b[1;33m=\u001b[0m \u001b[0mcom\u001b[0m\u001b[1;33m.\u001b[0m\u001b[0m_apply_if_callable\u001b[0m\u001b[1;33m(\u001b[0m\u001b[0mkey\u001b[0m\u001b[1;33m,\u001b[0m \u001b[0mself\u001b[0m\u001b[1;33m)\u001b[0m\u001b[1;33m\u001b[0m\u001b[0m\n\u001b[1;32m    600\u001b[0m         \u001b[1;32mtry\u001b[0m\u001b[1;33m:\u001b[0m\u001b[1;33m\u001b[0m\u001b[0m\n\u001b[0;32m--> 601\u001b[0;31m             \u001b[0mresult\u001b[0m \u001b[1;33m=\u001b[0m \u001b[0mself\u001b[0m\u001b[1;33m.\u001b[0m\u001b[0mindex\u001b[0m\u001b[1;33m.\u001b[0m\u001b[0mget_value\u001b[0m\u001b[1;33m(\u001b[0m\u001b[0mself\u001b[0m\u001b[1;33m,\u001b[0m \u001b[0mkey\u001b[0m\u001b[1;33m)\u001b[0m\u001b[1;33m\u001b[0m\u001b[0m\n\u001b[0m\u001b[1;32m    602\u001b[0m \u001b[1;33m\u001b[0m\u001b[0m\n\u001b[1;32m    603\u001b[0m             \u001b[1;32mif\u001b[0m \u001b[1;32mnot\u001b[0m \u001b[0mis_scalar\u001b[0m\u001b[1;33m(\u001b[0m\u001b[0mresult\u001b[0m\u001b[1;33m)\u001b[0m\u001b[1;33m:\u001b[0m\u001b[1;33m\u001b[0m\u001b[0m\n",
      "\u001b[0;32mC:\\Users\\Brad Sun\\Anaconda3\\lib\\site-packages\\pandas\\tseries\\index.py\u001b[0m in \u001b[0;36mget_value\u001b[0;34m(self, series, key)\u001b[0m\n\u001b[1;32m   1371\u001b[0m                 \u001b[1;32mreturn\u001b[0m \u001b[0mself\u001b[0m\u001b[1;33m.\u001b[0m\u001b[0mget_value_maybe_box\u001b[0m\u001b[1;33m(\u001b[0m\u001b[0mseries\u001b[0m\u001b[1;33m,\u001b[0m \u001b[0mkey\u001b[0m\u001b[1;33m)\u001b[0m\u001b[1;33m\u001b[0m\u001b[0m\n\u001b[1;32m   1372\u001b[0m             \u001b[1;32mexcept\u001b[0m \u001b[1;33m(\u001b[0m\u001b[0mTypeError\u001b[0m\u001b[1;33m,\u001b[0m \u001b[0mValueError\u001b[0m\u001b[1;33m,\u001b[0m \u001b[0mKeyError\u001b[0m\u001b[1;33m)\u001b[0m\u001b[1;33m:\u001b[0m\u001b[1;33m\u001b[0m\u001b[0m\n\u001b[0;32m-> 1373\u001b[0;31m                 \u001b[1;32mraise\u001b[0m \u001b[0mKeyError\u001b[0m\u001b[1;33m(\u001b[0m\u001b[0mkey\u001b[0m\u001b[1;33m)\u001b[0m\u001b[1;33m\u001b[0m\u001b[0m\n\u001b[0m\u001b[1;32m   1374\u001b[0m \u001b[1;33m\u001b[0m\u001b[0m\n\u001b[1;32m   1375\u001b[0m     \u001b[1;32mdef\u001b[0m \u001b[0mget_value_maybe_box\u001b[0m\u001b[1;33m(\u001b[0m\u001b[0mself\u001b[0m\u001b[1;33m,\u001b[0m \u001b[0mseries\u001b[0m\u001b[1;33m,\u001b[0m \u001b[0mkey\u001b[0m\u001b[1;33m)\u001b[0m\u001b[1;33m:\u001b[0m\u001b[1;33m\u001b[0m\u001b[0m\n",
      "\u001b[0;31mKeyError\u001b[0m: '2016-10-2'"
     ]
    }
   ],
   "source": [
    "# It doesn't have data of 10-2 because that was a weeknd.\n",
    "price['2016-10-2']"
   ]
  },
  {
   "cell_type": "code",
   "execution_count": 259,
   "metadata": {
    "collapsed": false
   },
   "outputs": [
    {
     "data": {
      "text/plain": [
       "112.472544"
      ]
     },
     "execution_count": 259,
     "metadata": {},
     "output_type": "execute_result"
    }
   ],
   "source": [
    "price['2016-9-30']"
   ]
  },
  {
   "cell_type": "code",
   "execution_count": 261,
   "metadata": {
    "collapsed": false
   },
   "outputs": [
    {
     "data": {
      "text/plain": [
       "-0.0046882464043846994"
      ]
     },
     "execution_count": 261,
     "metadata": {},
     "output_type": "execute_result"
    }
   ],
   "source": [
    "price['2016-10-3']/price['2016-9-30']-1"
   ]
  },
  {
   "cell_type": "markdown",
   "metadata": {},
   "source": [
    "For other stocks with dividend payouts, computing how much money you make from\n",
    "holding a stock can be more complicated. The adjusted close values used here have\n",
    "been adjusted for splits and dividends, however. In all cases, it’s quite common to derive\n",
    "a return index, which is a time series indicating the value of a unit investment (one\n",
    "dollar, say). Many assumptions can underlie the return index; for example, some will\n",
    "choose to reinvest profit and others not. In the case of Apple, we can compute a simple\n",
    "return index using cumprod:"
   ]
  },
  {
   "cell_type": "code",
   "execution_count": 265,
   "metadata": {
    "collapsed": false
   },
   "outputs": [],
   "source": [
    "returns = price.pct_change()"
   ]
  },
  {
   "cell_type": "code",
   "execution_count": 278,
   "metadata": {
    "collapsed": false
   },
   "outputs": [
    {
     "data": {
      "image/png": "[encoded data removed]",
      "text/plain": [
       "<matplotlib.figure.Figure at 0xbb684a8>"
      ]
     },
     "metadata": {},
     "output_type": "display_data"
    }
   ],
   "source": [
    "# Use this chance to pratice the learnt plotting skills\n",
    "\n",
    "import matplotlib.pyplot as plt\n",
    "%matplotlib inline\n",
    "import seaborn\n",
    "ret_index = (1+returns).cumprod()\n",
    "ret_index.plot()\n",
    "ret_index.plot().legend(['AAPL'], loc = 'best');"
   ]
  },
  {
   "cell_type": "code",
   "execution_count": 280,
   "metadata": {
    "collapsed": false
   },
   "outputs": [
    {
     "data": {
      "text/plain": [
       "Date\n",
       "2016-01-04    1.000000\n",
       "2016-01-05    0.974941\n",
       "2016-01-06    0.955861\n",
       "2016-01-07    0.915520\n",
       "2016-01-08    0.920361\n",
       "2016-01-11    0.935263\n",
       "2016-01-12    0.948837\n",
       "2016-01-13    0.924442\n",
       "2016-01-14    0.944661\n",
       "2016-01-15    0.921974\n",
       "2016-01-19    0.917513\n",
       "2016-01-20    0.918747\n",
       "2016-01-21    0.914096\n",
       "2016-01-22    0.962696\n",
       "2016-01-25    0.943901\n",
       "2016-01-26    0.949122\n",
       "2016-01-27    0.886758\n",
       "2016-01-28    0.893118\n",
       "2016-01-29    0.923968\n",
       "2016-02-01    0.915330\n",
       "2016-02-02    0.896820\n",
       "2016-02-03    0.914570\n",
       "2016-02-04    0.921919\n",
       "2016-02-05    0.897296\n",
       "2016-02-08    0.906745\n",
       "2016-02-09    0.906554\n",
       "2016-02-10    0.899682\n",
       "2016-02-11    0.894242\n",
       "2016-02-12    0.897010\n",
       "2016-02-16    0.922301\n",
       "                ...   \n",
       "2016-11-17    1.066885\n",
       "2016-11-18    1.067952\n",
       "2016-11-21    1.084157\n",
       "2016-11-22    1.084836\n",
       "2016-11-23    1.079305\n",
       "2016-11-25    1.084739\n",
       "2016-11-28    1.082604\n",
       "2016-11-29    1.081537\n",
       "2016-11-30    1.072416\n",
       "2016-12-01    1.062421\n",
       "2016-12-02    1.066400\n",
       "2016-12-05    1.058734\n",
       "2016-12-06    1.066885\n",
       "2016-12-07    1.077364\n",
       "2016-12-08    1.087941\n",
       "2016-12-09    1.105698\n",
       "2016-12-12    1.099391\n",
       "2016-12-13    1.117730\n",
       "2016-12-14    1.117730\n",
       "2016-12-15    1.123843\n",
       "2016-12-16    1.125299\n",
       "2016-12-19    1.131800\n",
       "2016-12-20    1.134808\n",
       "2016-12-21    1.135876\n",
       "2016-12-22    1.128404\n",
       "2016-12-23    1.130636\n",
       "2016-12-27    1.137816\n",
       "2016-12-28    1.132965\n",
       "2016-12-29    1.132673\n",
       "2016-12-30    1.123843\n",
       "Name: Adj Close, dtype: float64"
      ]
     },
     "execution_count": 280,
     "metadata": {},
     "output_type": "execute_result"
    }
   ],
   "source": [
    "ret_index[0] = 1 # Set first value to 1\n",
    "ret_index"
   ]
  },
  {
   "cell_type": "markdown",
   "metadata": {},
   "source": [
    "With a return index in hand, computing cumulative returns at a particular resolution\n",
    "is simple:"
   ]
  },
  {
   "cell_type": "code",
   "execution_count": 283,
   "metadata": {
    "collapsed": false
   },
   "outputs": [
    {
     "name": "stderr",
     "output_type": "stream",
     "text": [
      "C:\\Users\\Brad Sun\\Anaconda3\\lib\\site-packages\\ipykernel\\__main__.py:1: FutureWarning: how in .resample() is deprecated\n",
      "the new syntax is .resample(...).last()\n",
      "  if __name__ == '__main__':\n"
     ]
    }
   ],
   "source": [
    "m_returns = ret_index.resample('BM', how = 'last').pct_change()"
   ]
  },
  {
   "cell_type": "code",
   "execution_count": 284,
   "metadata": {
    "collapsed": false
   },
   "outputs": [
    {
     "data": {
      "text/plain": [
       "Date\n",
       "2016-01-29         NaN\n",
       "2016-02-29   -0.001287\n",
       "2016-03-31    0.127211\n",
       "2016-04-29   -0.139921\n",
       "2016-05-31    0.071773\n",
       "2016-06-30   -0.042660\n",
       "2016-07-29    0.090063\n",
       "2016-08-31    0.023652\n",
       "2016-09-30    0.065504\n",
       "2016-10-31    0.004334\n",
       "2016-11-30   -0.021601\n",
       "2016-12-30    0.047955\n",
       "Freq: BM, Name: Adj Close, dtype: float64"
      ]
     },
     "execution_count": 284,
     "metadata": {},
     "output_type": "execute_result"
    }
   ],
   "source": [
    "m_returns['2016']"
   ]
  },
  {
   "cell_type": "markdown",
   "metadata": {},
   "source": [
    "Of course, in this simple case (no dividends or other adjustments to take into account)\n",
    "these could have been computed from the daily percent changed by resampling with\n",
    "aggregation (here, to periods):"
   ]
  },
  {
   "cell_type": "code",
   "execution_count": 285,
   "metadata": {
    "collapsed": false
   },
   "outputs": [
    {
     "name": "stderr",
     "output_type": "stream",
     "text": [
      "C:\\Users\\Brad Sun\\Anaconda3\\lib\\site-packages\\ipykernel\\__main__.py:1: FutureWarning: how in .resample() is deprecated\n",
      "the new syntax is .resample(...).prod()\n",
      "  if __name__ == '__main__':\n"
     ]
    }
   ],
   "source": [
    "m_rets = (1+returns).resample('M', how = 'prod', kind = 'period')-1"
   ]
  },
  {
   "cell_type": "code",
   "execution_count": 286,
   "metadata": {
    "collapsed": false
   },
   "outputs": [
    {
     "data": {
      "text/plain": [
       "Date\n",
       "2016-01   -0.076032\n",
       "2016-02   -0.001287\n",
       "2016-03    0.127211\n",
       "2016-04   -0.139921\n",
       "2016-05    0.071773\n",
       "2016-06   -0.042660\n",
       "2016-07    0.090063\n",
       "2016-08    0.023652\n",
       "2016-09    0.065504\n",
       "2016-10    0.004334\n",
       "2016-11   -0.021601\n",
       "2016-12    0.047955\n",
       "Freq: M, Name: Adj Close, dtype: float64"
      ]
     },
     "execution_count": 286,
     "metadata": {},
     "output_type": "execute_result"
    }
   ],
   "source": [
    "m_rets['2016']"
   ]
  },
  {
   "cell_type": "markdown",
   "metadata": {},
   "source": [
    "If you had dividend dates and percentages, including them in the total return per day\n",
    "would look like:"
   ]
  },
  {
   "cell_type": "code",
   "execution_count": 287,
   "metadata": {
    "collapsed": true
   },
   "outputs": [
    {
     "ename": "NameError",
     "evalue": "name 'dividend_dates' is not defined",
     "output_type": "error",
     "traceback": [
      "\u001b[0;31m---------------------------------------------------------------------------\u001b[0m",
      "\u001b[0;31mNameError\u001b[0m                                 Traceback (most recent call last)",
      "\u001b[0;32m<ipython-input-287-2136d75d50a0>\u001b[0m in \u001b[0;36m<module>\u001b[0;34m()\u001b[0m\n\u001b[0;32m----> 1\u001b[0;31m \u001b[0mreturns\u001b[0m\u001b[1;33m[\u001b[0m\u001b[0mdividend_dates\u001b[0m\u001b[1;33m]\u001b[0m \u001b[1;33m+=\u001b[0m \u001b[0mdividend_pcts\u001b[0m\u001b[1;33m\u001b[0m\u001b[0m\n\u001b[0m",
      "\u001b[0;31mNameError\u001b[0m: name 'dividend_dates' is not defined"
     ]
    }
   ],
   "source": [
    "returns[dividend_dates] += dividend_pcts"
   ]
  },
  {
   "cell_type": "markdown",
   "metadata": {},
   "source": [
    "## Group Transforms and Analysis - P340"
   ]
  },
  {
   "cell_type": "markdown",
   "metadata": {},
   "source": [
    "In Chapter 9, you learned the basics of computing group statistics and applying your\n",
    "own transformations to groups in a dataset.\n",
    "\n",
    "Let’s consider a collection of hypothetical stock portfolios. I first randomly generate a\n",
    "broad universe of 2000 tickers:"
   ]
  },
  {
   "cell_type": "code",
   "execution_count": 1,
   "metadata": {
    "collapsed": true
   },
   "outputs": [],
   "source": [
    "import random; random.seed(0)\n",
    "import string"
   ]
  },
  {
   "cell_type": "code",
   "execution_count": 19,
   "metadata": {
    "collapsed": false
   },
   "outputs": [],
   "source": [
    "# In python 3, the xrange() in python 2 has been renamed to range()\n",
    "N = 1000\n",
    "def rands(n):\n",
    "    choices = string.ascii_uppercase\n",
    "    return ''.join([random.choice(choices) for _ in range(n)])\n",
    "tickers = np.array([rands(5) for _ in range(N)])"
   ]
  },
  {
   "cell_type": "markdown",
   "metadata": {},
   "source": [
    "I then create a DataFrame containing 3 columns representing hypothetical, but random\n",
    "portfolios for a subset of tickers:"
   ]
  },
  {
   "cell_type": "code",
   "execution_count": 20,
   "metadata": {
    "collapsed": false
   },
   "outputs": [],
   "source": [
    "M = 500\n",
    "df = DataFrame({'Momentum': np.random.randn(M)/200+0.03,\n",
    "              'Value': np.random.randn(M)/200+0.08,\n",
    "              'ShortInterest': np.random.randn(M)/200-0.02},\n",
    "              index = tickers[:M])"
   ]
  },
  {
   "cell_type": "markdown",
   "metadata": {},
   "source": [
    "Next, let’s create a random industry classification for the tickers. To keep things simple,\n",
    "I’ll just keep it to 2 industries, storing the mapping in a Series:"
   ]
  },
  {
   "cell_type": "code",
   "execution_count": 21,
   "metadata": {
    "collapsed": false
   },
   "outputs": [],
   "source": [
    "ind_names = np.array(['FINANCIAL', 'TECH'])\n",
    "sampler = np.random.randint(0, len(ind_names), N)\n",
    "industries = Series(ind_names[sampler], index = tickers,\n",
    "                             name = 'industry')"
   ]
  },
  {
   "cell_type": "markdown",
   "metadata": {},
   "source": [
    "Now we can group by industries and carry out group aggregation and transformations:"
   ]
  },
  {
   "cell_type": "code",
   "execution_count": 22,
   "metadata": {
    "collapsed": false
   },
   "outputs": [
    {
     "data": {
      "text/html": [
       "<div>\n",
       "<table border=\"1\" class=\"dataframe\">\n",
       "  <thead>\n",
       "    <tr style=\"text-align: right;\">\n",
       "      <th></th>\n",
       "      <th>Momentum</th>\n",
       "      <th>ShortInterest</th>\n",
       "      <th>Value</th>\n",
       "    </tr>\n",
       "    <tr>\n",
       "      <th>industry</th>\n",
       "      <th></th>\n",
       "      <th></th>\n",
       "      <th></th>\n",
       "    </tr>\n",
       "  </thead>\n",
       "  <tbody>\n",
       "    <tr>\n",
       "      <th>FINANCIAL</th>\n",
       "      <td>0.030087</td>\n",
       "      <td>-0.020485</td>\n",
       "      <td>0.080022</td>\n",
       "    </tr>\n",
       "    <tr>\n",
       "      <th>TECH</th>\n",
       "      <td>0.028895</td>\n",
       "      <td>-0.019495</td>\n",
       "      <td>0.079145</td>\n",
       "    </tr>\n",
       "  </tbody>\n",
       "</table>\n",
       "</div>"
      ],
      "text/plain": [
       "           Momentum  ShortInterest     Value\n",
       "industry                                    \n",
       "FINANCIAL  0.030087      -0.020485  0.080022\n",
       "TECH       0.028895      -0.019495  0.079145"
      ]
     },
     "execution_count": 22,
     "metadata": {},
     "output_type": "execute_result"
    }
   ],
   "source": [
    "by_industry = df.groupby(industries)\n",
    "by_industry.mean()"
   ]
  },
  {
   "cell_type": "code",
   "execution_count": 9,
   "metadata": {
    "collapsed": false
   },
   "outputs": [
    {
     "data": {
      "text/html": [
       "<div>\n",
       "<table border=\"1\" class=\"dataframe\">\n",
       "  <thead>\n",
       "    <tr style=\"text-align: right;\">\n",
       "      <th></th>\n",
       "      <th></th>\n",
       "      <th>Momentum</th>\n",
       "      <th>ShortInterest</th>\n",
       "      <th>Value</th>\n",
       "    </tr>\n",
       "    <tr>\n",
       "      <th>industry</th>\n",
       "      <th></th>\n",
       "      <th></th>\n",
       "      <th></th>\n",
       "      <th></th>\n",
       "    </tr>\n",
       "  </thead>\n",
       "  <tbody>\n",
       "    <tr>\n",
       "      <th rowspan=\"8\" valign=\"top\">FINANCIAL</th>\n",
       "      <th>count</th>\n",
       "      <td>261.000000</td>\n",
       "      <td>261.000000</td>\n",
       "      <td>261.000000</td>\n",
       "    </tr>\n",
       "    <tr>\n",
       "      <th>mean</th>\n",
       "      <td>0.029837</td>\n",
       "      <td>-0.020050</td>\n",
       "      <td>0.080343</td>\n",
       "    </tr>\n",
       "    <tr>\n",
       "      <th>std</th>\n",
       "      <td>0.004875</td>\n",
       "      <td>0.005196</td>\n",
       "      <td>0.004886</td>\n",
       "    </tr>\n",
       "    <tr>\n",
       "      <th>min</th>\n",
       "      <td>0.015933</td>\n",
       "      <td>-0.034071</td>\n",
       "      <td>0.066425</td>\n",
       "    </tr>\n",
       "    <tr>\n",
       "      <th>25%</th>\n",
       "      <td>0.026512</td>\n",
       "      <td>-0.023198</td>\n",
       "      <td>0.077414</td>\n",
       "    </tr>\n",
       "    <tr>\n",
       "      <th>50%</th>\n",
       "      <td>0.029642</td>\n",
       "      <td>-0.020146</td>\n",
       "      <td>0.080521</td>\n",
       "    </tr>\n",
       "    <tr>\n",
       "      <th>75%</th>\n",
       "      <td>0.033153</td>\n",
       "      <td>-0.016477</td>\n",
       "      <td>0.083440</td>\n",
       "    </tr>\n",
       "    <tr>\n",
       "      <th>max</th>\n",
       "      <td>0.043874</td>\n",
       "      <td>-0.007035</td>\n",
       "      <td>0.093309</td>\n",
       "    </tr>\n",
       "    <tr>\n",
       "      <th rowspan=\"8\" valign=\"top\">TECH</th>\n",
       "      <th>count</th>\n",
       "      <td>239.000000</td>\n",
       "      <td>239.000000</td>\n",
       "      <td>239.000000</td>\n",
       "    </tr>\n",
       "    <tr>\n",
       "      <th>mean</th>\n",
       "      <td>0.029996</td>\n",
       "      <td>-0.020005</td>\n",
       "      <td>0.079811</td>\n",
       "    </tr>\n",
       "    <tr>\n",
       "      <th>std</th>\n",
       "      <td>0.005274</td>\n",
       "      <td>0.005299</td>\n",
       "      <td>0.005036</td>\n",
       "    </tr>\n",
       "    <tr>\n",
       "      <th>min</th>\n",
       "      <td>0.016673</td>\n",
       "      <td>-0.035620</td>\n",
       "      <td>0.067494</td>\n",
       "    </tr>\n",
       "    <tr>\n",
       "      <th>25%</th>\n",
       "      <td>0.026642</td>\n",
       "      <td>-0.023465</td>\n",
       "      <td>0.076702</td>\n",
       "    </tr>\n",
       "    <tr>\n",
       "      <th>50%</th>\n",
       "      <td>0.029692</td>\n",
       "      <td>-0.020424</td>\n",
       "      <td>0.079654</td>\n",
       "    </tr>\n",
       "    <tr>\n",
       "      <th>75%</th>\n",
       "      <td>0.033698</td>\n",
       "      <td>-0.016583</td>\n",
       "      <td>0.083279</td>\n",
       "    </tr>\n",
       "    <tr>\n",
       "      <th>max</th>\n",
       "      <td>0.044293</td>\n",
       "      <td>-0.004935</td>\n",
       "      <td>0.095639</td>\n",
       "    </tr>\n",
       "  </tbody>\n",
       "</table>\n",
       "</div>"
      ],
      "text/plain": [
       "                   Momentum  ShortInterest       Value\n",
       "industry                                              \n",
       "FINANCIAL count  261.000000     261.000000  261.000000\n",
       "          mean     0.029837      -0.020050    0.080343\n",
       "          std      0.004875       0.005196    0.004886\n",
       "          min      0.015933      -0.034071    0.066425\n",
       "          25%      0.026512      -0.023198    0.077414\n",
       "          50%      0.029642      -0.020146    0.080521\n",
       "          75%      0.033153      -0.016477    0.083440\n",
       "          max      0.043874      -0.007035    0.093309\n",
       "TECH      count  239.000000     239.000000  239.000000\n",
       "          mean     0.029996      -0.020005    0.079811\n",
       "          std      0.005274       0.005299    0.005036\n",
       "          min      0.016673      -0.035620    0.067494\n",
       "          25%      0.026642      -0.023465    0.076702\n",
       "          50%      0.029692      -0.020424    0.079654\n",
       "          75%      0.033698      -0.016583    0.083279\n",
       "          max      0.044293      -0.004935    0.095639"
      ]
     },
     "execution_count": 9,
     "metadata": {},
     "output_type": "execute_result"
    }
   ],
   "source": [
    "by_industry.describe()"
   ]
  },
  {
   "cell_type": "markdown",
   "metadata": {},
   "source": [
    "By defining transformation functions, it’s easy to transform these portfolios by industry.\n",
    "For example, standardizing within industry is widely used in equity portfolio construction:"
   ]
  },
  {
   "cell_type": "code",
   "execution_count": 10,
   "metadata": {
    "collapsed": true
   },
   "outputs": [],
   "source": [
    "# Within-Industry Standardize\n",
    "def zscore(group):\n",
    "    return (group - group.mean()) / group.std()\n",
    "df_stand = by_industry.apply(zscore)"
   ]
  },
  {
   "cell_type": "markdown",
   "metadata": {},
   "source": [
    "You can verify that each industry has mean 0 and standard deviation 1:"
   ]
  },
  {
   "cell_type": "code",
   "execution_count": 11,
   "metadata": {
    "collapsed": false
   },
   "outputs": [
    {
     "data": {
      "text/html": [
       "<div>\n",
       "<table border=\"1\" class=\"dataframe\">\n",
       "  <thead>\n",
       "    <tr>\n",
       "      <th></th>\n",
       "      <th colspan=\"2\" halign=\"left\">Momentum</th>\n",
       "      <th colspan=\"2\" halign=\"left\">ShortInterest</th>\n",
       "      <th colspan=\"2\" halign=\"left\">Value</th>\n",
       "    </tr>\n",
       "    <tr>\n",
       "      <th></th>\n",
       "      <th>mean</th>\n",
       "      <th>std</th>\n",
       "      <th>mean</th>\n",
       "      <th>std</th>\n",
       "      <th>mean</th>\n",
       "      <th>std</th>\n",
       "    </tr>\n",
       "    <tr>\n",
       "      <th>industry</th>\n",
       "      <th></th>\n",
       "      <th></th>\n",
       "      <th></th>\n",
       "      <th></th>\n",
       "      <th></th>\n",
       "      <th></th>\n",
       "    </tr>\n",
       "  </thead>\n",
       "  <tbody>\n",
       "    <tr>\n",
       "      <th>FINANCIAL</th>\n",
       "      <td>3.206460e-15</td>\n",
       "      <td>1.0</td>\n",
       "      <td>-5.618324e-15</td>\n",
       "      <td>1.0</td>\n",
       "      <td>-8.393137e-15</td>\n",
       "      <td>1.0</td>\n",
       "    </tr>\n",
       "    <tr>\n",
       "      <th>TECH</th>\n",
       "      <td>1.996645e-15</td>\n",
       "      <td>1.0</td>\n",
       "      <td>4.227209e-17</td>\n",
       "      <td>1.0</td>\n",
       "      <td>-1.544696e-14</td>\n",
       "      <td>1.0</td>\n",
       "    </tr>\n",
       "  </tbody>\n",
       "</table>\n",
       "</div>"
      ],
      "text/plain": [
       "               Momentum      ShortInterest              Value     \n",
       "                   mean  std          mean  std          mean  std\n",
       "industry                                                          \n",
       "FINANCIAL  3.206460e-15  1.0 -5.618324e-15  1.0 -8.393137e-15  1.0\n",
       "TECH       1.996645e-15  1.0  4.227209e-17  1.0 -1.544696e-14  1.0"
      ]
     },
     "execution_count": 11,
     "metadata": {},
     "output_type": "execute_result"
    }
   ],
   "source": [
    "# As can be noticed here there is little inaccuracy included. Those means are not exactly 0.\n",
    "df_stand.groupby(industries).agg(['mean', 'std'])"
   ]
  },
  {
   "cell_type": "markdown",
   "metadata": {},
   "source": [
    "Other, built-in kinds of transformations, like rank, can be used more concisely:"
   ]
  },
  {
   "cell_type": "code",
   "execution_count": 12,
   "metadata": {
    "collapsed": true
   },
   "outputs": [],
   "source": [
    "# Within-industry rank descending\n",
    "ind_rank = by_industry.rank(ascending=False)"
   ]
  },
  {
   "cell_type": "code",
   "execution_count": 13,
   "metadata": {
    "collapsed": false
   },
   "outputs": [
    {
     "data": {
      "text/html": [
       "<div>\n",
       "<table border=\"1\" class=\"dataframe\">\n",
       "  <thead>\n",
       "    <tr>\n",
       "      <th></th>\n",
       "      <th colspan=\"2\" halign=\"left\">Momentum</th>\n",
       "      <th colspan=\"2\" halign=\"left\">ShortInterest</th>\n",
       "      <th colspan=\"2\" halign=\"left\">Value</th>\n",
       "    </tr>\n",
       "    <tr>\n",
       "      <th></th>\n",
       "      <th>min</th>\n",
       "      <th>max</th>\n",
       "      <th>min</th>\n",
       "      <th>max</th>\n",
       "      <th>min</th>\n",
       "      <th>max</th>\n",
       "    </tr>\n",
       "    <tr>\n",
       "      <th>industry</th>\n",
       "      <th></th>\n",
       "      <th></th>\n",
       "      <th></th>\n",
       "      <th></th>\n",
       "      <th></th>\n",
       "      <th></th>\n",
       "    </tr>\n",
       "  </thead>\n",
       "  <tbody>\n",
       "    <tr>\n",
       "      <th>FINANCIAL</th>\n",
       "      <td>1.0</td>\n",
       "      <td>261.0</td>\n",
       "      <td>1.0</td>\n",
       "      <td>261.0</td>\n",
       "      <td>1.0</td>\n",
       "      <td>261.0</td>\n",
       "    </tr>\n",
       "    <tr>\n",
       "      <th>TECH</th>\n",
       "      <td>1.0</td>\n",
       "      <td>239.0</td>\n",
       "      <td>1.0</td>\n",
       "      <td>239.0</td>\n",
       "      <td>1.0</td>\n",
       "      <td>239.0</td>\n",
       "    </tr>\n",
       "  </tbody>\n",
       "</table>\n",
       "</div>"
      ],
      "text/plain": [
       "          Momentum        ShortInterest        Value       \n",
       "               min    max           min    max   min    max\n",
       "industry                                                   \n",
       "FINANCIAL      1.0  261.0           1.0  261.0   1.0  261.0\n",
       "TECH           1.0  239.0           1.0  239.0   1.0  239.0"
      ]
     },
     "execution_count": 13,
     "metadata": {},
     "output_type": "execute_result"
    }
   ],
   "source": [
    "ind_rank.groupby(industries).agg(['min', 'max'])"
   ]
  },
  {
   "cell_type": "markdown",
   "metadata": {},
   "source": [
    "In quantitative equity, “rank and standardize” is a common sequence of transforms.\n",
    "You could do this by chaining together rank and zscore like so:"
   ]
  },
  {
   "cell_type": "code",
   "execution_count": 14,
   "metadata": {
    "collapsed": false
   },
   "outputs": [
    {
     "data": {
      "text/html": [
       "<div>\n",
       "<table border=\"1\" class=\"dataframe\">\n",
       "  <thead>\n",
       "    <tr style=\"text-align: right;\">\n",
       "      <th></th>\n",
       "      <th>Momentum</th>\n",
       "      <th>ShortInterest</th>\n",
       "      <th>Value</th>\n",
       "    </tr>\n",
       "  </thead>\n",
       "  <tbody>\n",
       "    <tr>\n",
       "      <th>MYNBI</th>\n",
       "      <td>1.457177</td>\n",
       "      <td>1.708872</td>\n",
       "      <td>-0.397412</td>\n",
       "    </tr>\n",
       "    <tr>\n",
       "      <th>QPMZJ</th>\n",
       "      <td>1.489784</td>\n",
       "      <td>-0.173567</td>\n",
       "      <td>1.518712</td>\n",
       "    </tr>\n",
       "    <tr>\n",
       "      <th>PLSGQ</th>\n",
       "      <td>1.041402</td>\n",
       "      <td>-0.694268</td>\n",
       "      <td>0.520701</td>\n",
       "    </tr>\n",
       "    <tr>\n",
       "      <th>EJEYD</th>\n",
       "      <td>-1.536660</td>\n",
       "      <td>-0.172212</td>\n",
       "      <td>-0.755083</td>\n",
       "    </tr>\n",
       "    <tr>\n",
       "      <th>TZIRW</th>\n",
       "      <td>0.940542</td>\n",
       "      <td>0.437153</td>\n",
       "      <td>-1.549907</td>\n",
       "    </tr>\n",
       "    <tr>\n",
       "      <th>ZTEJD</th>\n",
       "      <td>1.229433</td>\n",
       "      <td>-1.605495</td>\n",
       "      <td>0.506237</td>\n",
       "    </tr>\n",
       "    <tr>\n",
       "      <th>XCVKP</th>\n",
       "      <td>1.359609</td>\n",
       "      <td>-0.433918</td>\n",
       "      <td>0.057856</td>\n",
       "    </tr>\n",
       "    <tr>\n",
       "      <th>RDLNK</th>\n",
       "      <td>-1.243897</td>\n",
       "      <td>-0.911227</td>\n",
       "      <td>0.332670</td>\n",
       "    </tr>\n",
       "    <tr>\n",
       "      <th>TUGRP</th>\n",
       "      <td>-0.649106</td>\n",
       "      <td>-1.152495</td>\n",
       "      <td>0.940542</td>\n",
       "    </tr>\n",
       "    <tr>\n",
       "      <th>OQIBZ</th>\n",
       "      <td>-0.039741</td>\n",
       "      <td>-0.821318</td>\n",
       "      <td>-0.198706</td>\n",
       "    </tr>\n",
       "    <tr>\n",
       "      <th>RACXM</th>\n",
       "      <td>0.874306</td>\n",
       "      <td>-1.708872</td>\n",
       "      <td>0.861059</td>\n",
       "    </tr>\n",
       "    <tr>\n",
       "      <th>WZVUA</th>\n",
       "      <td>-0.874306</td>\n",
       "      <td>-0.953789</td>\n",
       "      <td>0.900801</td>\n",
       "    </tr>\n",
       "    <tr>\n",
       "      <th>TPKHX</th>\n",
       "      <td>-0.621949</td>\n",
       "      <td>0.347134</td>\n",
       "      <td>-1.186042</td>\n",
       "    </tr>\n",
       "    <tr>\n",
       "      <th>KWCGS</th>\n",
       "      <td>-1.364448</td>\n",
       "      <td>1.205483</td>\n",
       "      <td>-0.066235</td>\n",
       "    </tr>\n",
       "    <tr>\n",
       "      <th>HHZEZ</th>\n",
       "      <td>0.607485</td>\n",
       "      <td>0.708732</td>\n",
       "      <td>-0.014464</td>\n",
       "    </tr>\n",
       "    <tr>\n",
       "      <th>ROCCK</th>\n",
       "      <td>-0.410659</td>\n",
       "      <td>0.251694</td>\n",
       "      <td>1.298213</td>\n",
       "    </tr>\n",
       "    <tr>\n",
       "      <th>QPDJR</th>\n",
       "      <td>-0.927295</td>\n",
       "      <td>0.344424</td>\n",
       "      <td>1.496919</td>\n",
       "    </tr>\n",
       "    <tr>\n",
       "      <th>JWDRK</th>\n",
       "      <td>1.417464</td>\n",
       "      <td>-0.014464</td>\n",
       "      <td>-1.619959</td>\n",
       "    </tr>\n",
       "    <tr>\n",
       "      <th>RGZTR</th>\n",
       "      <td>1.020024</td>\n",
       "      <td>1.682377</td>\n",
       "      <td>-1.178989</td>\n",
       "    </tr>\n",
       "    <tr>\n",
       "      <th>SJOCT</th>\n",
       "      <td>-0.251694</td>\n",
       "      <td>0.847812</td>\n",
       "      <td>1.152495</td>\n",
       "    </tr>\n",
       "    <tr>\n",
       "      <th>ZMKSH</th>\n",
       "      <td>-1.046518</td>\n",
       "      <td>-1.549907</td>\n",
       "      <td>-1.059765</td>\n",
       "    </tr>\n",
       "    <tr>\n",
       "      <th>JFGFB</th>\n",
       "      <td>0.092729</td>\n",
       "      <td>0.158965</td>\n",
       "      <td>-0.357671</td>\n",
       "    </tr>\n",
       "    <tr>\n",
       "      <th>TVIPC</th>\n",
       "      <td>-0.867835</td>\n",
       "      <td>-1.417464</td>\n",
       "      <td>0.216959</td>\n",
       "    </tr>\n",
       "    <tr>\n",
       "      <th>CVYEE</th>\n",
       "      <td>1.589648</td>\n",
       "      <td>0.357671</td>\n",
       "      <td>0.264941</td>\n",
       "    </tr>\n",
       "    <tr>\n",
       "      <th>BCWRV</th>\n",
       "      <td>0.688847</td>\n",
       "      <td>0.331177</td>\n",
       "      <td>-1.510166</td>\n",
       "    </tr>\n",
       "    <tr>\n",
       "      <th>MWQIQ</th>\n",
       "      <td>1.112754</td>\n",
       "      <td>-0.847812</td>\n",
       "      <td>-0.039741</td>\n",
       "    </tr>\n",
       "    <tr>\n",
       "      <th>ZHGVS</th>\n",
       "      <td>-0.101247</td>\n",
       "      <td>-0.723196</td>\n",
       "      <td>-1.417464</td>\n",
       "    </tr>\n",
       "    <tr>\n",
       "      <th>NSIOP</th>\n",
       "      <td>1.518712</td>\n",
       "      <td>-0.028928</td>\n",
       "      <td>-1.287289</td>\n",
       "    </tr>\n",
       "    <tr>\n",
       "      <th>VUWZL</th>\n",
       "      <td>-1.330681</td>\n",
       "      <td>-1.243897</td>\n",
       "      <td>0.202495</td>\n",
       "    </tr>\n",
       "    <tr>\n",
       "      <th>CKTDP</th>\n",
       "      <td>-0.741836</td>\n",
       "      <td>-1.642636</td>\n",
       "      <td>1.205483</td>\n",
       "    </tr>\n",
       "    <tr>\n",
       "      <th>...</th>\n",
       "      <td>...</td>\n",
       "      <td>...</td>\n",
       "      <td>...</td>\n",
       "    </tr>\n",
       "    <tr>\n",
       "      <th>CCPMS</th>\n",
       "      <td>-1.374073</td>\n",
       "      <td>1.186042</td>\n",
       "      <td>-1.576567</td>\n",
       "    </tr>\n",
       "    <tr>\n",
       "      <th>NRCIP</th>\n",
       "      <td>0.289278</td>\n",
       "      <td>-1.533176</td>\n",
       "      <td>-1.721207</td>\n",
       "    </tr>\n",
       "    <tr>\n",
       "      <th>HDJEL</th>\n",
       "      <td>-0.887553</td>\n",
       "      <td>0.516636</td>\n",
       "      <td>0.304683</td>\n",
       "    </tr>\n",
       "    <tr>\n",
       "      <th>ZDEVB</th>\n",
       "      <td>0.225200</td>\n",
       "      <td>0.476894</td>\n",
       "      <td>0.794824</td>\n",
       "    </tr>\n",
       "    <tr>\n",
       "      <th>VESRG</th>\n",
       "      <td>0.940155</td>\n",
       "      <td>0.390526</td>\n",
       "      <td>-1.706743</td>\n",
       "    </tr>\n",
       "    <tr>\n",
       "      <th>ABMRW</th>\n",
       "      <td>-1.186042</td>\n",
       "      <td>-0.983547</td>\n",
       "      <td>-1.547640</td>\n",
       "    </tr>\n",
       "    <tr>\n",
       "      <th>YTPWW</th>\n",
       "      <td>0.847812</td>\n",
       "      <td>-1.443930</td>\n",
       "      <td>-0.516636</td>\n",
       "    </tr>\n",
       "    <tr>\n",
       "      <th>DPRLY</th>\n",
       "      <td>0.768330</td>\n",
       "      <td>-0.450400</td>\n",
       "      <td>0.278188</td>\n",
       "    </tr>\n",
       "    <tr>\n",
       "      <th>KDVAH</th>\n",
       "      <td>-0.448382</td>\n",
       "      <td>1.591031</td>\n",
       "      <td>-1.591031</td>\n",
       "    </tr>\n",
       "    <tr>\n",
       "      <th>HPJIH</th>\n",
       "      <td>-0.072320</td>\n",
       "      <td>0.766588</td>\n",
       "      <td>1.562104</td>\n",
       "    </tr>\n",
       "    <tr>\n",
       "      <th>APLQK</th>\n",
       "      <td>1.171578</td>\n",
       "      <td>0.086784</td>\n",
       "      <td>-1.157114</td>\n",
       "    </tr>\n",
       "    <tr>\n",
       "      <th>CCJSN</th>\n",
       "      <td>-1.460856</td>\n",
       "      <td>1.388536</td>\n",
       "      <td>1.128186</td>\n",
       "    </tr>\n",
       "    <tr>\n",
       "      <th>HXLMY</th>\n",
       "      <td>-1.562104</td>\n",
       "      <td>1.518712</td>\n",
       "      <td>1.316217</td>\n",
       "    </tr>\n",
       "    <tr>\n",
       "      <th>EHJGX</th>\n",
       "      <td>0.216959</td>\n",
       "      <td>1.171578</td>\n",
       "      <td>1.345145</td>\n",
       "    </tr>\n",
       "    <tr>\n",
       "      <th>YPVZL</th>\n",
       "      <td>-0.535165</td>\n",
       "      <td>-0.101247</td>\n",
       "      <td>-1.041402</td>\n",
       "    </tr>\n",
       "    <tr>\n",
       "      <th>JMTEY</th>\n",
       "      <td>0.331177</td>\n",
       "      <td>-1.351201</td>\n",
       "      <td>-0.861059</td>\n",
       "    </tr>\n",
       "    <tr>\n",
       "      <th>DMLQP</th>\n",
       "      <td>0.384165</td>\n",
       "      <td>0.967036</td>\n",
       "      <td>-1.046518</td>\n",
       "    </tr>\n",
       "    <tr>\n",
       "      <th>HUWLU</th>\n",
       "      <td>1.070330</td>\n",
       "      <td>-0.708732</td>\n",
       "      <td>-0.853371</td>\n",
       "    </tr>\n",
       "    <tr>\n",
       "      <th>LNILM</th>\n",
       "      <td>-0.052988</td>\n",
       "      <td>1.549907</td>\n",
       "      <td>-1.337954</td>\n",
       "    </tr>\n",
       "    <tr>\n",
       "      <th>YYWJD</th>\n",
       "      <td>0.636413</td>\n",
       "      <td>1.099258</td>\n",
       "      <td>0.896763</td>\n",
       "    </tr>\n",
       "    <tr>\n",
       "      <th>PJDOE</th>\n",
       "      <td>0.198706</td>\n",
       "      <td>0.900801</td>\n",
       "      <td>0.476894</td>\n",
       "    </tr>\n",
       "    <tr>\n",
       "      <th>LHXFK</th>\n",
       "      <td>0.882299</td>\n",
       "      <td>1.301753</td>\n",
       "      <td>0.636413</td>\n",
       "    </tr>\n",
       "    <tr>\n",
       "      <th>PHDVM</th>\n",
       "      <td>0.317930</td>\n",
       "      <td>0.450400</td>\n",
       "      <td>-1.390942</td>\n",
       "    </tr>\n",
       "    <tr>\n",
       "      <th>MOQOS</th>\n",
       "      <td>-1.390942</td>\n",
       "      <td>-0.384165</td>\n",
       "      <td>1.192236</td>\n",
       "    </tr>\n",
       "    <tr>\n",
       "      <th>THVMQ</th>\n",
       "      <td>-0.013247</td>\n",
       "      <td>-1.563154</td>\n",
       "      <td>1.404189</td>\n",
       "    </tr>\n",
       "    <tr>\n",
       "      <th>JPHKQ</th>\n",
       "      <td>0.993530</td>\n",
       "      <td>1.086259</td>\n",
       "      <td>0.543130</td>\n",
       "    </tr>\n",
       "    <tr>\n",
       "      <th>VACPK</th>\n",
       "      <td>-1.214969</td>\n",
       "      <td>-0.766588</td>\n",
       "      <td>-1.301753</td>\n",
       "    </tr>\n",
       "    <tr>\n",
       "      <th>MHNBS</th>\n",
       "      <td>1.576401</td>\n",
       "      <td>1.655883</td>\n",
       "      <td>0.132471</td>\n",
       "    </tr>\n",
       "    <tr>\n",
       "      <th>YBNCI</th>\n",
       "      <td>-1.533176</td>\n",
       "      <td>-1.547640</td>\n",
       "      <td>0.578557</td>\n",
       "    </tr>\n",
       "    <tr>\n",
       "      <th>GXKFD</th>\n",
       "      <td>0.130175</td>\n",
       "      <td>-0.752124</td>\n",
       "      <td>-0.925691</td>\n",
       "    </tr>\n",
       "  </tbody>\n",
       "</table>\n",
       "<p>500 rows × 3 columns</p>\n",
       "</div>"
      ],
      "text/plain": [
       "       Momentum  ShortInterest     Value\n",
       "MYNBI  1.457177       1.708872 -0.397412\n",
       "QPMZJ  1.489784      -0.173567  1.518712\n",
       "PLSGQ  1.041402      -0.694268  0.520701\n",
       "EJEYD -1.536660      -0.172212 -0.755083\n",
       "TZIRW  0.940542       0.437153 -1.549907\n",
       "ZTEJD  1.229433      -1.605495  0.506237\n",
       "XCVKP  1.359609      -0.433918  0.057856\n",
       "RDLNK -1.243897      -0.911227  0.332670\n",
       "TUGRP -0.649106      -1.152495  0.940542\n",
       "OQIBZ -0.039741      -0.821318 -0.198706\n",
       "RACXM  0.874306      -1.708872  0.861059\n",
       "WZVUA -0.874306      -0.953789  0.900801\n",
       "TPKHX -0.621949       0.347134 -1.186042\n",
       "KWCGS -1.364448       1.205483 -0.066235\n",
       "HHZEZ  0.607485       0.708732 -0.014464\n",
       "ROCCK -0.410659       0.251694  1.298213\n",
       "QPDJR -0.927295       0.344424  1.496919\n",
       "JWDRK  1.417464      -0.014464 -1.619959\n",
       "RGZTR  1.020024       1.682377 -1.178989\n",
       "SJOCT -0.251694       0.847812  1.152495\n",
       "ZMKSH -1.046518      -1.549907 -1.059765\n",
       "JFGFB  0.092729       0.158965 -0.357671\n",
       "TVIPC -0.867835      -1.417464  0.216959\n",
       "CVYEE  1.589648       0.357671  0.264941\n",
       "BCWRV  0.688847       0.331177 -1.510166\n",
       "MWQIQ  1.112754      -0.847812 -0.039741\n",
       "ZHGVS -0.101247      -0.723196 -1.417464\n",
       "NSIOP  1.518712      -0.028928 -1.287289\n",
       "VUWZL -1.330681      -1.243897  0.202495\n",
       "CKTDP -0.741836      -1.642636  1.205483\n",
       "...         ...            ...       ...\n",
       "CCPMS -1.374073       1.186042 -1.576567\n",
       "NRCIP  0.289278      -1.533176 -1.721207\n",
       "HDJEL -0.887553       0.516636  0.304683\n",
       "ZDEVB  0.225200       0.476894  0.794824\n",
       "VESRG  0.940155       0.390526 -1.706743\n",
       "ABMRW -1.186042      -0.983547 -1.547640\n",
       "YTPWW  0.847812      -1.443930 -0.516636\n",
       "DPRLY  0.768330      -0.450400  0.278188\n",
       "KDVAH -0.448382       1.591031 -1.591031\n",
       "HPJIH -0.072320       0.766588  1.562104\n",
       "APLQK  1.171578       0.086784 -1.157114\n",
       "CCJSN -1.460856       1.388536  1.128186\n",
       "HXLMY -1.562104       1.518712  1.316217\n",
       "EHJGX  0.216959       1.171578  1.345145\n",
       "YPVZL -0.535165      -0.101247 -1.041402\n",
       "JMTEY  0.331177      -1.351201 -0.861059\n",
       "DMLQP  0.384165       0.967036 -1.046518\n",
       "HUWLU  1.070330      -0.708732 -0.853371\n",
       "LNILM -0.052988       1.549907 -1.337954\n",
       "YYWJD  0.636413       1.099258  0.896763\n",
       "PJDOE  0.198706       0.900801  0.476894\n",
       "LHXFK  0.882299       1.301753  0.636413\n",
       "PHDVM  0.317930       0.450400 -1.390942\n",
       "MOQOS -1.390942      -0.384165  1.192236\n",
       "THVMQ -0.013247      -1.563154  1.404189\n",
       "JPHKQ  0.993530       1.086259  0.543130\n",
       "VACPK -1.214969      -0.766588 -1.301753\n",
       "MHNBS  1.576401       1.655883  0.132471\n",
       "YBNCI -1.533176      -1.547640  0.578557\n",
       "GXKFD  0.130175      -0.752124 -0.925691\n",
       "\n",
       "[500 rows x 3 columns]"
      ]
     },
     "execution_count": 14,
     "metadata": {},
     "output_type": "execute_result"
    }
   ],
   "source": [
    "# Industry rank and standardize\n",
    "by_industry.apply(lambda x: zscore(x.rank()))"
   ]
  },
  {
   "cell_type": "markdown",
   "metadata": {},
   "source": [
    "### Group Factor Exposures"
   ]
  },
  {
   "cell_type": "markdown",
   "metadata": {
    "collapsed": true
   },
   "source": [
    "Factor analysis is a technique in quantitative portfolio management. Portfolio holdings\n",
    "and performance (profit and loss) are decomposed using one or more factors (risk factors\n",
    "are one example) represented as a portfolio of weights. For example, a stock price’s\n",
    "co-movement with a benchmark (like S&P 500 index) is known as its beta, a common\n",
    "risk factor. Let’s consider a contrived example of a portfolio constructed from 3 randomly-\n",
    "generated factors (usually called the factor loadings) and some weights:"
   ]
  },
  {
   "cell_type": "code",
   "execution_count": 4,
   "metadata": {
    "collapsed": true
   },
   "outputs": [
    {
     "data": {
      "text/plain": [
       "(array([  6.63217099e-01,   4.03263793e-01,   5.12059668e-02,\n",
       "          1.02175648e-01,   3.28585167e-01,   3.77834351e-02,\n",
       "          6.09814099e-01,   8.78562611e-01,   2.38841135e-01,\n",
       "          3.54427155e-01,   7.06234254e-01,   3.10144477e-02,\n",
       "          1.27893263e-01,   2.69234402e-01,   9.98965125e-01,\n",
       "          8.26209452e-01,   4.74602088e-01,   1.38268372e-01,\n",
       "          6.47720134e-01,   2.08491458e-01,   6.22088945e-01,\n",
       "          8.77051049e-01,   4.79544908e-01,   1.69522860e-01,\n",
       "          7.11242294e-01,   9.69407618e-01,   2.56530157e-01,\n",
       "          8.48151454e-01,   5.90594376e-01,   4.99202226e-01,\n",
       "          9.39697314e-01,   4.41834409e-01,   2.28312403e-01,\n",
       "          5.14264179e-01,   4.75566466e-02,   9.62771591e-01,\n",
       "          4.97992770e-01,   8.17438045e-01,   3.14057224e-01,\n",
       "          4.48064014e-01,   2.68426278e-01,   6.24825049e-01,\n",
       "          3.13028883e-01,   8.55244523e-02,   6.46443554e-01,\n",
       "          1.41648376e-01,   9.03815674e-01,   7.29480261e-01,\n",
       "          7.38783625e-01,   6.34148691e-01,   1.91242992e-01,\n",
       "          9.68688352e-01,   2.14647330e-02,   7.88907929e-01,\n",
       "          6.14022417e-01,   3.28850817e-01,   7.89453956e-01,\n",
       "          1.67174931e-01,   3.20601199e-02,   5.05570409e-01,\n",
       "          6.30674497e-01,   9.80021271e-01,   5.61832816e-02,\n",
       "          3.79408615e-01,   3.68181523e-01,   8.33615651e-01,\n",
       "          2.97120806e-01,   2.79595119e-01,   5.26461150e-01,\n",
       "          3.39015257e-01,   6.26711275e-01,   8.05054342e-01,\n",
       "          1.38619900e-01,   8.66811334e-01,   5.83818964e-01,\n",
       "          9.06330752e-02,   5.22905117e-02,   8.47761859e-01,\n",
       "          8.60838098e-01,   5.73725473e-01,   4.62184541e-01,\n",
       "          1.90661889e-01,   2.71497068e-01,   6.74487573e-01,\n",
       "          7.58585051e-01,   7.33504175e-01,   1.36095942e-01,\n",
       "          5.95901037e-01,   9.73318636e-01,   2.90503103e-01,\n",
       "          3.28957043e-01,   8.63359751e-01,   5.74017917e-01,\n",
       "          9.61585084e-01,   3.32774655e-02,   8.26475327e-01,\n",
       "          1.34231707e-01,   5.51387787e-01,   7.84437211e-01,\n",
       "          2.07579726e-01,   8.54208566e-01,   8.58835324e-01,\n",
       "          6.76728416e-01,   6.58037465e-01,   5.12124744e-01,\n",
       "          3.11793102e-02,   7.92016404e-01,   2.15849466e-01,\n",
       "          1.99145831e-01,   5.20180275e-01,   5.96440674e-01,\n",
       "          2.84650575e-03,   6.89944332e-01,   9.47428173e-01,\n",
       "          8.68589425e-01,   3.86877832e-01,   2.87059542e-01,\n",
       "          1.55334437e-02,   7.67313770e-01,   4.02179681e-01,\n",
       "          8.99112327e-01,   5.90490863e-01,   6.72487788e-01,\n",
       "          9.64671471e-01,   9.21499744e-01,   1.75616331e-01,\n",
       "          9.72978867e-01,   6.46374255e-01,   2.54529462e-01,\n",
       "          8.13461233e-01,   6.42949087e-02,   6.57793551e-01,\n",
       "          1.39388637e-01,   8.47991830e-01,   4.86675916e-01,\n",
       "          6.53894726e-01,   3.31511553e-01,   6.34720896e-01,\n",
       "          2.47745733e-01,   6.63377801e-01,   9.51603252e-01,\n",
       "          1.43322690e-01,   6.05984818e-01,   2.43518090e-01,\n",
       "          8.71409454e-01,   9.46693372e-01,   5.68383084e-03,\n",
       "          1.98736499e-01,   8.78066730e-01,   4.24492972e-01,\n",
       "          9.02903785e-02,   8.00139283e-01,   8.48513385e-01,\n",
       "          2.86656427e-01,   2.95724742e-01,   6.79119805e-01,\n",
       "          6.59283506e-01,   8.06109345e-01,   4.51456867e-01,\n",
       "          1.14695691e-01,   6.98467421e-01,   1.94719902e-01,\n",
       "          3.91681743e-01,   5.23296747e-01,   9.95105271e-01,\n",
       "          6.46102398e-01,   4.59363183e-01,   2.36523750e-02,\n",
       "          9.10928178e-01,   8.38620968e-01,   1.99808586e-01,\n",
       "          7.46009776e-01,   9.69361914e-01,   7.26246775e-01,\n",
       "          4.33984499e-01,   5.23902929e-01,   1.13134446e-01,\n",
       "          4.61265007e-01,   2.33263358e-01,   4.74516962e-01,\n",
       "          9.00600920e-01,   5.73095437e-01,   2.65107692e-01,\n",
       "          7.91254587e-01,   2.94057697e-01,   2.51215066e-01,\n",
       "          8.05399418e-01,   8.52582853e-01,   9.37875656e-01,\n",
       "          5.27558742e-01,   2.55778759e-01,   7.15207320e-01,\n",
       "          9.80486081e-01,   5.95721291e-01,   7.66062575e-01,\n",
       "          5.43294966e-01,   1.28598590e-01,   2.35032295e-01,\n",
       "          3.05872624e-01,   2.34447749e-01,   3.43936637e-01,\n",
       "          4.81465218e-03,   8.80823869e-01,   6.47754703e-01,\n",
       "          7.08821145e-01,   3.51253398e-01,   8.81337381e-01,\n",
       "          6.04030190e-01,   7.47794375e-01,   8.13921357e-01,\n",
       "          8.79581975e-01,   1.51716252e-01,   1.99328842e-01,\n",
       "          9.90291134e-01,   4.41840570e-01,   8.08885034e-01,\n",
       "          5.82554024e-01,   7.85606046e-01,   9.07231822e-01,\n",
       "          4.65337396e-01,   4.22557438e-01,   4.99531174e-01,\n",
       "          1.36388464e-01,   5.41697654e-01,   2.03891568e-01,\n",
       "          7.14312217e-01,   8.70313465e-01,   8.93214285e-01,\n",
       "          4.87669357e-01,   2.89864844e-02,   4.98245536e-01,\n",
       "          4.04365981e-01,   8.28789136e-02,   8.03117373e-01,\n",
       "          8.89036815e-01,   3.93786510e-01,   8.75917184e-01,\n",
       "          2.29270085e-01,   8.11024231e-01,   8.28316495e-01,\n",
       "          6.59106880e-02,   3.29835482e-01,   3.16734242e-01,\n",
       "          8.30848623e-01,   1.95507972e-01,   6.69984239e-01,\n",
       "          7.68875041e-01,   1.63213160e-01,   9.96416822e-01,\n",
       "          1.30797103e-01,   2.58998646e-01,   8.13449724e-01,\n",
       "          9.32275419e-01,   6.44322925e-01,   5.26469951e-01,\n",
       "          7.60395409e-01,   3.77161597e-01,   2.67760089e-01,\n",
       "          4.04482536e-01,   9.36331704e-01,   8.32347564e-01,\n",
       "          8.12297374e-01,   8.17467840e-01,   4.02543313e-02,\n",
       "          2.64128460e-01,   5.77220574e-01,   7.07022566e-01,\n",
       "          2.78491535e-01,   2.04457084e-01,   5.73840369e-01,\n",
       "          1.62198454e-01,   1.68973987e-01,   1.16469885e-01,\n",
       "          1.71931502e-01,   2.93504783e-01,   4.96750202e-01,\n",
       "          3.74660272e-01,   8.70100671e-01,   2.36916264e-01,\n",
       "          3.20839438e-01,   1.38476389e-01,   7.22919812e-01,\n",
       "          1.78786860e-02,   6.31178525e-01,   4.09145425e-01,\n",
       "          3.45097606e-01,   1.00720350e-01,   2.57138928e-01,\n",
       "          3.55637160e-01,   9.75404513e-01,   2.95906421e-01,\n",
       "          1.43491131e-01,   6.35113327e-01,   8.35544532e-01,\n",
       "          9.79998730e-02,   6.30437028e-01,   3.12766981e-01,\n",
       "          6.18292656e-01,   9.35529516e-01,   4.51567795e-01,\n",
       "          1.10468308e-01,   1.89237376e-01,   2.30198937e-01,\n",
       "          4.94748244e-01,   4.14465080e-01,   8.91121678e-01,\n",
       "          6.22973110e-01,   6.75432599e-01,   4.89178787e-01,\n",
       "          3.53844001e-01,   6.23969780e-01,   3.74834568e-01,\n",
       "          7.62594336e-01,   8.87411776e-01,   7.09926918e-01,\n",
       "          8.23975156e-02,   7.59816130e-01,   2.93387863e-01,\n",
       "          2.86982037e-01,   8.19434967e-01,   5.87925845e-01,\n",
       "          4.31196212e-01,   4.27521735e-01,   8.31752421e-01,\n",
       "          8.71845853e-01,   2.38195831e-01,   8.17118368e-01,\n",
       "          6.69354559e-01,   6.79782001e-01,   4.65389803e-01,\n",
       "          7.64303693e-01,   6.49713696e-01,   5.57171755e-01,\n",
       "          8.39752217e-01,   7.42789470e-02,   3.43315253e-01,\n",
       "          9.00112919e-01,   3.09924318e-01,   1.18017023e-01,\n",
       "          6.61561042e-01,   2.99067622e-01,   6.85721791e-01,\n",
       "          8.38450638e-01,   4.02138115e-01,   5.07790977e-01,\n",
       "          9.36625000e-01,   7.26954624e-01,   5.44528435e-01,\n",
       "          2.60420399e-01,   7.08619266e-01,   8.17461805e-01,\n",
       "          9.10656769e-01,   7.22597024e-01,   4.86063513e-01,\n",
       "          6.06270836e-01,   1.90730175e-01,   4.45998489e-01,\n",
       "          6.73737514e-01,   3.17874844e-01,   6.91183171e-01,\n",
       "          1.12393996e-01,   7.02550381e-01,   2.74512775e-02,\n",
       "          1.35647539e-01,   6.87325363e-01,   9.51296463e-01,\n",
       "          2.95063714e-01,   4.75167331e-01,   4.98028660e-01,\n",
       "          4.51692300e-01,   9.05096914e-01,   4.82432400e-01,\n",
       "          3.13935978e-01,   2.91265449e-01,   8.77144319e-01,\n",
       "          2.56433494e-01,   5.95396357e-01,   5.01283366e-01,\n",
       "          3.88192201e-01,   6.29463226e-01,   6.61076527e-01,\n",
       "          9.81765382e-01,   9.47877268e-01,   5.68763111e-01,\n",
       "          5.00496998e-01,   5.74988555e-01,   5.27326483e-01,\n",
       "          5.61319065e-01,   7.73691844e-01,   4.90671782e-01,\n",
       "          4.19436856e-01,   6.53755001e-02,   1.33893405e-01,\n",
       "          2.71600111e-01,   2.28132177e-02,   9.93357663e-02,\n",
       "          7.07694744e-01,   9.46749285e-01,   4.09708820e-01,\n",
       "          5.74766270e-01,   2.03897905e-01,   9.42968186e-01,\n",
       "          1.22785662e-01,   9.62042657e-01,   5.46557212e-01,\n",
       "          1.23728051e-01,   7.07706125e-01,   6.90098578e-01,\n",
       "          8.32018600e-01,   6.26107718e-01,   5.16322066e-02,\n",
       "          5.70608750e-01,   1.35017810e-02,   5.65697850e-01,\n",
       "          8.96649779e-01,   2.72980319e-01,   9.14185228e-01,\n",
       "          9.83718880e-01,   7.13028705e-01,   4.26180533e-01,\n",
       "          6.82562299e-01,   8.20590629e-01,   1.37986532e-01,\n",
       "          4.18641929e-02,   8.33201478e-01,   1.54082958e-01,\n",
       "          2.91325055e-02,   3.57534332e-01,   1.27107604e-01,\n",
       "          8.58977067e-01,   5.18365428e-01,   7.42018920e-01,\n",
       "          2.48730243e-01,   9.99163155e-01,   5.19954469e-01,\n",
       "          2.80642407e-01,   4.47159047e-01,   5.64009648e-01,\n",
       "          5.23454687e-03,   2.51334169e-01,   8.26211090e-01,\n",
       "          2.02889178e-02,   7.14484194e-01,   3.14514514e-01,\n",
       "          2.08305253e-01,   2.97281322e-01,   5.27573776e-03,\n",
       "          4.97638364e-02,   4.37887266e-01,   2.64955908e-01,\n",
       "          8.97474570e-01,   3.90216200e-01,   8.85941535e-01,\n",
       "          5.51981037e-01,   5.66933690e-01,   4.37966614e-01,\n",
       "          3.12227590e-01,   5.17708541e-01,   7.72837786e-01,\n",
       "          1.50279443e-01,   2.29076963e-01,   6.52336657e-01,\n",
       "          7.90713150e-01,   7.07292326e-01,   4.24924732e-01,\n",
       "          2.35615001e-02,   3.80254287e-01,   6.76592281e-01,\n",
       "          4.20778745e-01,   9.28532068e-01,   8.29818146e-02,\n",
       "          5.52109198e-02,   8.08957424e-01,   9.38144921e-01,\n",
       "          7.61856934e-01,   6.84041391e-01,   3.46381958e-01,\n",
       "          7.11899694e-01,   5.29869099e-01,   6.61900680e-01,\n",
       "          9.83537537e-01,   1.86798572e-01,   6.66735811e-01,\n",
       "          4.97857266e-01,   8.95006182e-01,   6.58073071e-01,\n",
       "          7.52804696e-01,   1.25072164e-01,   6.75355544e-01,\n",
       "          2.17832756e-01,   6.03526551e-01,   9.49797291e-01,\n",
       "          5.65780097e-01,   8.57254767e-01,   7.19356419e-01,\n",
       "          7.35233752e-01,   6.66746753e-01,   3.40039528e-01,\n",
       "          4.63310443e-01,   4.73252535e-02,   2.50041892e-01,\n",
       "          8.26760575e-02,   3.52501999e-01,   6.67246337e-01,\n",
       "          2.59102220e-01,   4.21051641e-01,   6.24021693e-01,\n",
       "          5.46935550e-01,   6.18761507e-01,   3.49869500e-01,\n",
       "          2.02360948e-01,   3.69439430e-01,   9.40551538e-01,\n",
       "          7.94401570e-01,   8.45714000e-01,   3.70614829e-01,\n",
       "          2.31532839e-01,   6.21080498e-01,   1.14741056e-02,\n",
       "          8.72214653e-01,   2.54950877e-01,   7.34913486e-01,\n",
       "          7.58094298e-01,   7.33858234e-01,   4.48287508e-01,\n",
       "          2.38528337e-01,   9.11228201e-01,   4.35192190e-01,\n",
       "          6.00953426e-01,   6.93467393e-03,   8.89059894e-01,\n",
       "          2.03957796e-01,   7.67754252e-01,   3.79349113e-01,\n",
       "          3.84794025e-01,   4.37165782e-01,   2.37554690e-01,\n",
       "          4.65500654e-01,   7.14954627e-01,   7.76302346e-01,\n",
       "          1.70196488e-01,   9.19623628e-01,   4.10764726e-01,\n",
       "          2.63944902e-01,   5.51770965e-01,   8.38166394e-01,\n",
       "          2.69973733e-01,   5.73088726e-01,   9.55303396e-01,\n",
       "          3.11921750e-02,   1.00706277e-01,   7.27226098e-01,\n",
       "          3.76915306e-01,   2.30287605e-01,   2.08071511e-01,\n",
       "          4.05803635e-01,   8.72855800e-01,   4.42955506e-01,\n",
       "          4.70940420e-01,   3.86161940e-01,   4.92529122e-01,\n",
       "          2.53955009e-01,   8.23894405e-01,   4.12978687e-01,\n",
       "          9.98978914e-02,   4.00585135e-01,   9.19196733e-01,\n",
       "          8.75867612e-01,   7.71374860e-01,   3.41490878e-01,\n",
       "          1.64838605e-01,   9.34204727e-02,   6.25109245e-01,\n",
       "          1.99149671e-01,   8.76735290e-01,   1.70976021e-01,\n",
       "          8.62767452e-01,   5.97146982e-02,   6.08302516e-01,\n",
       "          8.78368669e-01,   4.52700954e-02,   3.85687481e-01,\n",
       "          9.83898159e-01,   1.50275992e-01,   9.57555514e-02,\n",
       "          2.86379189e-01,   9.07311185e-01,   3.12361317e-01,\n",
       "          4.03548360e-01,   7.92910300e-01,   7.00325129e-01,\n",
       "          1.07298601e-01,   9.48667556e-02,   7.95847103e-02,\n",
       "          5.60677060e-01,   9.01632416e-01,   6.01790954e-01,\n",
       "          6.27862130e-01,   3.39400704e-01,   4.86099235e-01,\n",
       "          5.06470111e-01,   2.89990641e-01,   1.22962964e-01,\n",
       "          6.36224706e-01,   9.92994484e-01,   2.10938869e-01,\n",
       "          5.28975939e-01,   8.78525661e-01,   5.55154139e-01,\n",
       "          9.44888050e-01,   8.79327142e-02,   3.09627839e-01,\n",
       "          6.64740643e-02,   6.78352679e-01,   6.95212625e-01,\n",
       "          6.74521118e-01,   8.40623617e-01,   6.97012223e-01,\n",
       "          2.01359947e-01,   7.46716452e-01,   8.88170094e-01,\n",
       "          1.05873967e-01,   8.33585145e-01,   9.99517283e-01,\n",
       "          1.57539863e-01,   6.81666398e-02,   4.53209454e-01,\n",
       "          6.78424998e-01,   6.86946987e-01,   9.22480140e-01,\n",
       "          4.76785588e-01,   4.58024463e-02,   7.04089292e-01,\n",
       "          6.75918866e-01,   7.37174797e-01,   7.98730709e-01,\n",
       "          7.89992466e-01,   8.51587338e-01,   9.98077059e-01,\n",
       "          2.54091355e-01,   8.03100535e-01,   1.78956039e-02,\n",
       "          1.37626451e-01,   6.81687100e-01,   3.76951521e-01,\n",
       "          3.17141779e-01,   5.84921694e-01,   6.88398353e-02,\n",
       "          2.69097750e-01,   8.14920362e-01,   2.44486118e-02,\n",
       "          6.03350101e-01,   9.33024345e-01,   9.83701649e-01,\n",
       "          8.21467061e-02,   3.90520680e-01,   3.89940339e-01,\n",
       "          3.44769678e-01,   6.23145817e-01,   8.89830926e-02,\n",
       "          5.00908503e-01,   8.73052603e-01,   8.23422803e-01,\n",
       "          9.49124670e-01,   5.70389416e-01,   4.38426747e-01,\n",
       "          1.48862523e-01,   4.20543145e-01,   1.46601362e-01,\n",
       "          2.85759810e-01,   1.35247439e-01,   8.93294324e-01,\n",
       "          2.09415827e-01,   8.56882486e-01,   3.52122729e-01,\n",
       "          1.23589889e-01,   6.79232329e-01,   4.48465446e-01,\n",
       "          9.03552435e-01,   7.15933007e-01,   5.44999293e-03,\n",
       "          9.08127420e-01,   8.51572119e-01,   8.49101282e-01,\n",
       "          8.21596433e-01,   9.01641523e-01,   9.19191547e-01,\n",
       "          9.42694574e-01,   1.13907973e-01,   9.07775023e-01,\n",
       "          3.44750681e-01,   5.38248304e-01,   1.51004924e-01,\n",
       "          8.60160532e-01,   2.01306896e-01,   5.55751160e-01,\n",
       "          1.18068272e-01,   2.43346870e-02,   4.11169254e-01,\n",
       "          6.68226284e-01,   3.18497402e-01,   7.99101681e-01,\n",
       "          9.09571159e-01,   6.17525482e-01,   2.32268852e-01,\n",
       "          4.21867853e-01,   2.70994246e-01,   6.20646949e-01,\n",
       "          8.44753795e-01,   2.55909120e-01,   3.90326440e-01,\n",
       "          5.89022858e-01,   5.52069581e-01,   7.78288519e-01,\n",
       "          5.48265144e-01,   4.76221009e-01,   6.26773947e-01,\n",
       "          2.12736579e-01,   2.39016821e-01,   9.81295382e-01,\n",
       "          7.59497088e-01,   6.96186402e-01,   3.26046828e-01,\n",
       "          1.40450567e-01,   4.82374352e-01,   7.36177970e-01,\n",
       "          1.39001782e-03,   4.14489895e-01,   1.79165702e-01,\n",
       "          4.22835798e-01,   5.37343655e-01,   5.85033369e-01,\n",
       "          1.35149695e-01,   6.67868146e-01,   4.14622151e-01,\n",
       "          3.22502845e-01,   7.63001932e-01,   2.39613375e-01,\n",
       "          2.41765876e-01,   6.29467097e-01,   5.61928139e-01,\n",
       "          6.74420250e-01,   6.83046707e-01,   2.22506587e-01,\n",
       "          5.85529120e-01,   8.12088579e-01,   9.28218889e-01,\n",
       "          4.46268917e-02,   6.73185056e-01,   7.34423105e-02,\n",
       "          2.80737575e-01,   4.18454481e-01,   5.21256639e-02,\n",
       "          7.07011270e-01,   7.02644014e-01,   8.20612763e-01,\n",
       "          3.52352805e-01,   3.85787544e-01,   9.50394892e-01,\n",
       "          8.88263433e-01,   7.84991124e-01,   8.54197500e-01,\n",
       "          5.48189896e-01,   5.60567140e-01,   7.04953467e-01,\n",
       "          3.59320418e-02,   9.91001933e-01,   8.57370424e-01,\n",
       "          4.97430145e-01,   8.08328032e-01,   8.35202110e-01,\n",
       "          9.28031289e-01,   1.04343616e-02,   5.55675843e-01,\n",
       "          4.84442947e-01,   2.07020454e-02,   5.63958781e-01,\n",
       "          1.14762899e-01,   9.26626037e-01,   8.58174419e-01,\n",
       "          8.04013666e-01,   2.81796527e-01,   4.39008427e-01,\n",
       "          4.95684767e-01,   1.45375840e-01,   3.39105557e-01,\n",
       "          2.90125296e-01,   5.55177553e-01,   6.29244941e-02,\n",
       "          9.50573974e-01,   6.19538121e-01,   9.97202205e-02,\n",
       "          7.28999227e-01,   6.52665800e-01,   7.77516645e-01,\n",
       "          2.33791163e-01,   4.53397786e-01,   9.70926171e-01,\n",
       "          4.61558949e-02,   7.38158541e-01,   5.08815780e-01,\n",
       "          2.02176156e-01,   1.95944952e-01,   1.05905221e-02,\n",
       "          7.83791368e-01,   4.27086866e-01,   6.20972414e-02,\n",
       "          9.97805671e-01,   6.18876958e-01,   9.72394660e-01,\n",
       "          8.03436168e-01,   6.56692413e-01,   5.96180319e-01,\n",
       "          9.50979623e-01,   6.29654534e-02,   5.26265802e-01,\n",
       "          6.85798182e-01,   5.40865245e-01,   2.67642670e-01,\n",
       "          7.20553771e-01,   3.04465160e-01,   1.58349467e-01,\n",
       "          1.41761383e-01,   1.37482384e-01,   3.21152972e-01,\n",
       "          4.57406530e-01,   5.48920569e-01,   1.00825192e-01,\n",
       "          8.17899543e-01,   2.88747292e-01,   1.22743135e-01,\n",
       "          1.44123499e-02,   2.15932702e-01,   2.12301020e-01,\n",
       "          5.07609936e-01,   2.55268008e-01,   7.57115690e-01,\n",
       "          1.69008450e-02,   7.07338675e-01,   9.29524681e-01,\n",
       "          4.69816282e-01,   9.88593298e-01,   9.51818524e-01,\n",
       "          8.48025034e-01,   8.03786109e-01,   4.02710619e-01,\n",
       "          8.62383951e-01,   6.68350950e-01,   3.07706325e-01,\n",
       "          3.97629706e-01,   8.53820231e-01,   3.03954582e-01,\n",
       "          7.35006239e-01,   6.88454490e-02,   6.34890766e-01,\n",
       "          7.40144993e-01,   2.72358499e-01,   2.71532519e-01,\n",
       "          8.33810770e-01,   4.28493624e-01,   2.48915424e-01,\n",
       "          9.27664732e-01,   6.71755235e-01,   1.49535960e-01,\n",
       "          2.45724923e-01,   7.50887646e-01,   4.51164703e-03,\n",
       "          7.17005482e-02,   4.25099841e-01,   9.94273458e-01,\n",
       "          1.17717541e-02,   3.58774349e-01,   4.08676876e-01,\n",
       "          8.30415119e-01,   6.19221131e-01,   1.16888378e-01,\n",
       "          3.71427559e-01,   1.75699341e-01,   4.28089685e-01,\n",
       "          5.62131462e-01,   4.07101737e-01,   9.26908545e-01,\n",
       "          9.01527721e-01,   6.54272369e-01,   8.85609667e-01,\n",
       "          5.04642531e-01,   3.36037639e-02,   3.92845254e-01,\n",
       "          4.34871793e-04,   4.58857431e-01,   8.73253606e-01,\n",
       "          9.47629296e-01,   2.35354173e-01,   7.99199475e-01,\n",
       "          2.66843667e-01,   9.84636427e-01,   8.56815737e-01,\n",
       "          2.86282040e-01,   6.56397586e-01,   3.24164666e-01,\n",
       "          8.81417326e-01,   7.94401527e-01,   7.31091997e-01,\n",
       "          3.98976130e-01,   1.55218156e-02,   4.74077632e-01,\n",
       "          8.85063755e-01,   4.08428443e-01,   6.28480131e-01,\n",
       "          8.95868242e-01,   5.73945083e-01,   9.02812553e-01,\n",
       "          4.17236851e-01,   3.53923614e-01,   5.88871099e-01,\n",
       "          5.61780424e-01,   2.26700895e-01,   2.24791931e-01,\n",
       "          2.13597941e-01,   1.30441320e-01,   7.43121272e-01,\n",
       "          4.00732830e-01,   3.85318292e-01,   8.87336464e-01,\n",
       "          1.87286169e-01,   9.76090058e-02,   6.98709021e-01,\n",
       "          6.05601517e-01,   8.66745268e-01,   2.35692245e-01,\n",
       "          4.37759721e-01,   6.38037672e-01,   9.87569709e-01,\n",
       "          1.65694753e-01,   2.40800645e-01,   7.42780565e-01,\n",
       "          9.81516641e-01,   2.15203255e-01,   7.28572386e-02,\n",
       "          6.71321231e-01,   9.85029836e-01,   2.64786922e-01,\n",
       "          1.70026632e-02,   3.81133242e-01,   8.28250225e-01,\n",
       "          9.72204186e-01,   5.36050576e-01,   5.40785364e-01,\n",
       "          5.00161941e-01,   1.44446501e-02,   4.97821350e-01,\n",
       "          7.59144238e-01,   2.79738871e-01,   5.75132655e-01,\n",
       "          5.53692978e-02,   8.91636902e-01,   6.22392589e-01,\n",
       "          6.72393169e-01,   7.04136579e-01,   4.49830734e-01,\n",
       "          2.46555649e-01,   1.54287912e-01,   6.28806376e-01,\n",
       "          5.01365268e-01,   8.20697378e-01,   8.74703039e-01,\n",
       "          2.10350757e-01,   8.94713627e-02,   1.18507836e-01,\n",
       "          8.41110512e-01,   5.39962834e-01,   9.02092542e-01,\n",
       "          7.28795710e-01,   3.76693681e-01,   3.18538748e-01,\n",
       "          1.06493101e-02,   3.43612041e-01,   9.11533431e-02,\n",
       "          8.45848818e-01,   4.92881055e-01,   1.33992363e-01,\n",
       "          8.59781598e-01,   4.15935787e-01,   8.97015302e-01,\n",
       "          2.15196910e-01,   5.93635291e-02,   6.03532524e-01,\n",
       "          4.19620060e-01,   1.31973504e-01,   3.72811192e-01,\n",
       "          2.76573988e-01,   4.48804786e-01,   2.63657670e-01,\n",
       "          5.57262747e-01,   9.77146967e-01,   6.53338235e-01,\n",
       "          4.50003380e-01,   9.29851083e-01,   7.35672839e-01,\n",
       "          4.71339242e-02]),\n",
       " array([  5.64308935e-01,   3.29742621e-01,   5.67152755e-01,\n",
       "          3.56237859e-01,   5.70980389e-01,   9.42715199e-01,\n",
       "          6.95714071e-02,   2.64698845e-01,   2.02420712e-01,\n",
       "          7.26532152e-01,   9.28854812e-01,   4.58911667e-01,\n",
       "          7.66404648e-01,   7.24923327e-01,   9.40247018e-01,\n",
       "          3.78561243e-01,   2.91211995e-01,   1.85374270e-01,\n",
       "          5.68789116e-01,   8.80134500e-01,   5.02767133e-02,\n",
       "          1.28675132e-01,   2.50505261e-01,   5.61999671e-01,\n",
       "          1.25002921e-01,   3.07069950e-01,   6.30705242e-01,\n",
       "          8.16383179e-02,   1.97772329e-01,   5.30595510e-01,\n",
       "          6.79144555e-01,   9.19449060e-01,   6.54068209e-01,\n",
       "          7.36332553e-01,   3.32161515e-01,   4.49485495e-01,\n",
       "          1.50262453e-01,   5.79613402e-01,   1.72780720e-01,\n",
       "          8.92353226e-01,   8.97508691e-01,   2.77969946e-01,\n",
       "          4.01969227e-01,   6.30805906e-01,   6.92061150e-01,\n",
       "          7.81758487e-01,   2.25954667e-01,   6.21428896e-01,\n",
       "          3.40384750e-01,   4.22697725e-01,   2.55844117e-01,\n",
       "          2.85577317e-01,   1.25453275e-01,   5.31290962e-01,\n",
       "          4.41632860e-01,   4.47099499e-01,   9.66957020e-01,\n",
       "          2.58697294e-01,   6.90401378e-01,   7.91506453e-01,\n",
       "          3.43311954e-02,   3.96729368e-01,   5.27733848e-01,\n",
       "          4.78756290e-01,   2.45119142e-01,   4.97002649e-01,\n",
       "          2.94341398e-01,   4.56557296e-01,   4.83393275e-01,\n",
       "          1.57192048e-01,   4.43390822e-01,   7.40657451e-01,\n",
       "          2.12776526e-01,   3.99130362e-02,   5.71266791e-01,\n",
       "          9.15370246e-01,   2.31313868e-01,   5.26975017e-01,\n",
       "          6.13207714e-01,   6.59370463e-01,   5.18471540e-01,\n",
       "          9.12574865e-01,   1.21749513e-01,   6.30100977e-01,\n",
       "          3.03852277e-01,   9.26581546e-02,   4.25435683e-01,\n",
       "          6.51145065e-01,   5.60038093e-01,   7.22830471e-01,\n",
       "          5.74036212e-01,   7.65337415e-01,   5.71395028e-01,\n",
       "          5.56057291e-01,   8.18711570e-01,   5.16328240e-01,\n",
       "          6.42221964e-01,   3.81849516e-01,   2.92593079e-01,\n",
       "          9.71531329e-02,   9.53239648e-01,   2.79145750e-01,\n",
       "          8.32219210e-01,   4.23414667e-01,   5.23729215e-01,\n",
       "          1.97576283e-01,   3.73898305e-01,   8.86057839e-01,\n",
       "          6.61601796e-01,   9.85011943e-02,   2.85423182e-01,\n",
       "          2.63389167e-01,   5.32152573e-02,   8.39535386e-01,\n",
       "          8.74016625e-01,   9.53574844e-02,   6.20725023e-01,\n",
       "          3.72402487e-01,   8.75599234e-01,   9.99018725e-01,\n",
       "          8.89661857e-01,   5.70729076e-01,   2.33213793e-01,\n",
       "          7.98613029e-01,   6.12342589e-01,   6.41385022e-01,\n",
       "          2.19039971e-01,   8.74880014e-01,   6.26899481e-01,\n",
       "          8.13784040e-01,   6.55431546e-01,   3.96757513e-01,\n",
       "          7.40212008e-01,   5.02593781e-01,   4.29694372e-01,\n",
       "          7.92079317e-01,   7.18733504e-01,   3.94741910e-01,\n",
       "          8.35923499e-01,   5.82447073e-01,   2.75497038e-01,\n",
       "          9.41458357e-01,   1.87510557e-01,   3.56449786e-01,\n",
       "          5.27028650e-01,   9.20344060e-01,   3.64828044e-01,\n",
       "          3.46404975e-01,   9.56295983e-01,   4.33302994e-01,\n",
       "          5.37194040e-01,   4.91636840e-01,   2.98300588e-01,\n",
       "          8.01094613e-01,   9.49707111e-01,   5.63352693e-01,\n",
       "          3.89606535e-01,   2.52519704e-01,   8.19990653e-01,\n",
       "          7.36398164e-01,   3.75539817e-01,   9.26050779e-01,\n",
       "          9.30412004e-01,   5.39514033e-01,   7.97767218e-01,\n",
       "          2.06984240e-01,   8.66578388e-01,   7.49061851e-01,\n",
       "          6.64416587e-01,   6.87126205e-01,   4.83966851e-01,\n",
       "          2.84297390e-01,   7.65453611e-01,   5.94370888e-02,\n",
       "          3.63941836e-01,   3.90870505e-01,   9.28217538e-02,\n",
       "          8.45219876e-01,   7.55500489e-01,   1.55685377e-01,\n",
       "          5.37869206e-01,   4.95092083e-01,   4.78726496e-01,\n",
       "          1.85092390e-01,   7.19813882e-01,   3.77102200e-01,\n",
       "          8.44269194e-01,   3.42478153e-01,   9.49915878e-01,\n",
       "          3.60219684e-01,   8.19435318e-01,   5.03880886e-01,\n",
       "          6.87060309e-01,   1.95399178e-01,   2.39120943e-01,\n",
       "          2.29196532e-02,   3.84971333e-01,   3.50598296e-01,\n",
       "          8.67783370e-01,   2.33171606e-01,   6.77060938e-01,\n",
       "          6.82045813e-01,   2.38690985e-01,   3.71610317e-01,\n",
       "          4.42965190e-02,   7.53932716e-01,   1.61449091e-01,\n",
       "          7.72673095e-02,   9.86039124e-02,   5.44115018e-01,\n",
       "          9.15346286e-01,   9.36942232e-01,   1.30084251e-01,\n",
       "          3.93669357e-01,   2.38888020e-01,   5.82190510e-01,\n",
       "          3.46633207e-02,   5.97553863e-01,   4.21544780e-01,\n",
       "          9.60377838e-01,   5.35959791e-01,   7.85670088e-01,\n",
       "          8.30415558e-01,   7.20422699e-01,   7.72359169e-01,\n",
       "          4.72160643e-01,   6.56866654e-01,   2.15900843e-01,\n",
       "          1.99952156e-01,   7.15234690e-01,   2.84823989e-01,\n",
       "          7.00212588e-01,   7.73468880e-01,   8.88755194e-02,\n",
       "          1.23392195e-01,   3.09232440e-01,   6.74497706e-01,\n",
       "          8.52377706e-01,   8.78972958e-01,   9.47610635e-01,\n",
       "          2.26186766e-01,   6.99679781e-02,   5.50902207e-01,\n",
       "          1.76717147e-01,   2.14100821e-01,   6.99212342e-01,\n",
       "          4.43958301e-02,   1.26153570e-02,   5.40592106e-01,\n",
       "          6.69980038e-01,   4.28456617e-01,   7.51833516e-01,\n",
       "          9.76256495e-01,   8.15522547e-01,   2.53625853e-01,\n",
       "          7.13193678e-01,   7.92359802e-01,   4.23523862e-01,\n",
       "          4.38389047e-01,   5.66825072e-01,   1.04084450e-01,\n",
       "          6.58795536e-01,   8.75736589e-01,   7.21648680e-02,\n",
       "          5.94081181e-01,   1.34098344e-01,   6.22437286e-01,\n",
       "          9.50654671e-01,   3.19012011e-01,   3.66511442e-01,\n",
       "          9.81612176e-01,   6.99341165e-01,   9.66273569e-01,\n",
       "          8.08556303e-01,   1.77697133e-01,   5.50009397e-01,\n",
       "          8.77920719e-01,   4.21529839e-01,   6.32192826e-01,\n",
       "          8.76144796e-01,   9.06739361e-01,   1.53005139e-01,\n",
       "          5.67001505e-02,   5.02953678e-01,   9.91361594e-01,\n",
       "          7.28574018e-01,   3.26674953e-01,   5.22278190e-01,\n",
       "          4.57621511e-01,   9.51342549e-01,   8.60607588e-01,\n",
       "          5.39831528e-01,   1.48585794e-01,   2.10747508e-01,\n",
       "          3.95977057e-01,   6.48689296e-01,   7.68961439e-05,\n",
       "          4.36870134e-01,   4.00141277e-01,   9.29003863e-01,\n",
       "          7.94159161e-02,   2.72620313e-01,   3.73104750e-01,\n",
       "          4.33043071e-02,   9.37847640e-01,   2.64295969e-01,\n",
       "          7.21793891e-01,   6.22609010e-01,   8.16714344e-01,\n",
       "          3.41967435e-01,   5.08103230e-02,   4.64352181e-01,\n",
       "          4.11043033e-01,   9.21102121e-01,   6.58349236e-01,\n",
       "          2.90719235e-01,   9.64805566e-01,   2.61906827e-01,\n",
       "          4.59529267e-01,   7.17366133e-01,   3.91194323e-01,\n",
       "          8.42866115e-01,   5.97762663e-01,   7.23632096e-01,\n",
       "          7.61405065e-01,   9.04524766e-01,   1.24871484e-01,\n",
       "          6.30701576e-01,   2.53131048e-01,   3.59349129e-01,\n",
       "          3.05572522e-02,   2.29511381e-01,   3.94326653e-01,\n",
       "          1.20694853e-01,   4.76777530e-01,   4.72585325e-01,\n",
       "          4.56268298e-01,   1.15066460e-01,   8.84630606e-01,\n",
       "          3.38376315e-01,   2.48726294e-01,   1.79767500e-01,\n",
       "          6.02801415e-01,   9.88842892e-01,   1.19210760e-01,\n",
       "          8.85071727e-03,   8.72730901e-01,   7.23645977e-01,\n",
       "          9.14921821e-01,   6.55377596e-01,   9.53801545e-02,\n",
       "          1.67803312e-01,   1.05729487e-01,   6.17076467e-01,\n",
       "          6.72818426e-01,   9.19271641e-01,   3.23314837e-01,\n",
       "          8.18705801e-01,   8.55638725e-01,   8.30754193e-01,\n",
       "          3.80642679e-01,   8.42499122e-01,   5.09884149e-01,\n",
       "          8.59028057e-01,   2.46749536e-01,   1.34460445e-01,\n",
       "          6.41167812e-02,   7.77883433e-01,   1.96275103e-02,\n",
       "          5.39657068e-01,   1.35237733e-01,   4.64143496e-01,\n",
       "          5.94138995e-01,   1.11448155e-01,   7.87104285e-01,\n",
       "          9.39045766e-01,   3.13503490e-01,   9.40929681e-01,\n",
       "          8.32682172e-01,   2.94426716e-01,   6.51126729e-01,\n",
       "          4.54853014e-02,   1.49167656e-01,   5.32503820e-02,\n",
       "          2.76001423e-01,   3.40085829e-01,   1.67021606e-01,\n",
       "          4.39709923e-01,   2.16750128e-02,   9.86235419e-01,\n",
       "          4.00944723e-01,   9.03305395e-01,   4.32752100e-01,\n",
       "          4.30535536e-01,   9.23713468e-02,   8.71862294e-01,\n",
       "          7.07449198e-01,   7.43722853e-02,   1.72948576e-01,\n",
       "          5.98223059e-01,   9.25147449e-02,   3.82435242e-01,\n",
       "          6.37709478e-02,   5.72863741e-01,   4.43219705e-01,\n",
       "          7.94942677e-01,   2.36186180e-01,   1.67643474e-01,\n",
       "          1.94387859e-01,   1.64186792e-01,   2.00545382e-01,\n",
       "          1.62672478e-01,   2.22732434e-01,   9.91361784e-02,\n",
       "          3.84280641e-01,   3.86527509e-01,   6.27809957e-01,\n",
       "          1.85038799e-01,   6.08240803e-01,   6.55408732e-01,\n",
       "          4.24527200e-01,   4.22728044e-01,   3.02840033e-03,\n",
       "          1.77083937e-01,   4.78357712e-01,   9.14036798e-01,\n",
       "          7.94785135e-01,   8.15042705e-01,   9.48988194e-01,\n",
       "          7.23442687e-01,   3.45570416e-01,   8.41817569e-01,\n",
       "          8.61061913e-01,   8.05464799e-01,   6.57983907e-02,\n",
       "          3.18081392e-01,   6.48648047e-01,   4.68486024e-01,\n",
       "          5.60378743e-01,   8.76382232e-01,   8.41830153e-02,\n",
       "          6.47830363e-01,   6.16317993e-02,   7.52829442e-02,\n",
       "          6.15850660e-01,   6.41753836e-02,   1.84844840e-01,\n",
       "          8.72988010e-01,   4.10917882e-01,   2.66897512e-01,\n",
       "          2.12727948e-01,   7.21838614e-01,   2.07585355e-01,\n",
       "          9.98605865e-01,   8.60439410e-02,   2.11944878e-01,\n",
       "          7.97131857e-01,   2.56344916e-01,   5.21537732e-01,\n",
       "          1.17145252e-01,   3.40071693e-01,   9.91863306e-01,\n",
       "          3.96528087e-01,   6.45050721e-01,   4.01703490e-01,\n",
       "          5.38651594e-01,   3.43077283e-01,   3.49247042e-01,\n",
       "          3.46716983e-01,   4.15531928e-01,   5.92670404e-01,\n",
       "          4.92526704e-01,   1.97474124e-01,   4.14049345e-01,\n",
       "          6.64730412e-01,   4.20735356e-01,   5.04793763e-01,\n",
       "          2.49378905e-01,   3.14202563e-01,   8.94389581e-01,\n",
       "          8.61608113e-01,   6.71738618e-01,   8.80084240e-01,\n",
       "          8.85124104e-01,   1.87488917e-01,   1.22322811e-01,\n",
       "          4.12447595e-01,   4.80895860e-01,   8.94959080e-01,\n",
       "          1.11565645e-01,   8.48372547e-01,   6.52141383e-02,\n",
       "          9.48816163e-01,   2.21007175e-01,   4.07377921e-02,\n",
       "          8.66750954e-01,   8.43366215e-01,   4.84406401e-01,\n",
       "          2.30448381e-01,   1.87979530e-01,   2.37309217e-01,\n",
       "          9.95727184e-01,   9.48986543e-01,   4.16960580e-01,\n",
       "          7.86939311e-02,   1.52099139e-01,   7.81929518e-01,\n",
       "          6.36768350e-01,   3.43300411e-01,   7.23675536e-01,\n",
       "          8.04266605e-01,   2.22732415e-01,   3.31083018e-02,\n",
       "          3.47466275e-01,   4.85718986e-01,   8.94928713e-01,\n",
       "          7.76022116e-01,   7.77086588e-01,   5.27610532e-01,\n",
       "          7.28871162e-01,   8.46268894e-01,   4.99906935e-01,\n",
       "          1.78462547e-01,   5.65288847e-01,   9.38532223e-01,\n",
       "          9.57285595e-01,   5.03269046e-01,   6.83157060e-01,\n",
       "          7.24645210e-01,   4.48899136e-02,   6.52284622e-02,\n",
       "          7.97253618e-01,   3.64876500e-01,   6.23766883e-01,\n",
       "          7.26454163e-01,   2.07169863e-01,   5.07910344e-01,\n",
       "          6.94813374e-01,   2.48088803e-01,   4.61885367e-01,\n",
       "          5.30146686e-02,   2.32192039e-01,   2.68657260e-01,\n",
       "          2.41554640e-01,   8.69659267e-01,   4.43843708e-01,\n",
       "          6.20240633e-01,   6.93809936e-01,   1.67805563e-01,\n",
       "          5.91527396e-01,   9.64966069e-01,   5.58913943e-01,\n",
       "          4.34590901e-01,   4.39702375e-01,   9.26139781e-01,\n",
       "          5.39155367e-01,   5.72030393e-01,   6.97315074e-01,\n",
       "          2.32222760e-01,   1.51106020e-01,   9.26679507e-01,\n",
       "          6.72447385e-02,   8.92402836e-01,   2.04407944e-01,\n",
       "          7.02706818e-01,   2.18136618e-01,   2.53581190e-01,\n",
       "          8.03347923e-01,   3.12583557e-01,   4.36948796e-01,\n",
       "          8.82652011e-01,   2.35365539e-01,   4.69108386e-01,\n",
       "          2.13926347e-01,   8.47279507e-01,   5.63971330e-01,\n",
       "          2.94228902e-01,   2.53698806e-01,   6.33263768e-01,\n",
       "          3.62665030e-01,   2.41900031e-01,   3.39153146e-01,\n",
       "          8.34777407e-01,   9.67554210e-01,   6.98256267e-01,\n",
       "          9.49412048e-01,   3.15573951e-01,   1.95164647e-01,\n",
       "          4.71895119e-02,   8.08730839e-01,   3.12825362e-01,\n",
       "          3.90031253e-01,   7.88563772e-01,   4.50781963e-01,\n",
       "          1.41018275e-01,   7.32016602e-01,   1.44641116e-01,\n",
       "          9.70415479e-01,   2.51883292e-01,   7.81466731e-02,\n",
       "          6.65569772e-01,   3.67465628e-01,   9.31760027e-01,\n",
       "          8.15699378e-01,   8.86835601e-01,   5.69268115e-01,\n",
       "          4.50609551e-01,   3.82467203e-01,   6.20354933e-01,\n",
       "          9.76950932e-01,   5.37040738e-02,   1.65562050e-01,\n",
       "          2.48016067e-01,   2.83363656e-01,   7.32881112e-01,\n",
       "          5.67002690e-01,   6.59115768e-01,   2.98954456e-01,\n",
       "          3.31827616e-02,   1.66063361e-02,   2.74386877e-01,\n",
       "          1.11486505e-01,   3.81538500e-01,   6.53157428e-01,\n",
       "          9.20889772e-01,   6.31143421e-01,   8.86969741e-01,\n",
       "          3.93743624e-01,   9.31389016e-01,   6.01713580e-01,\n",
       "          8.15177553e-01,   3.77973939e-01,   4.63500659e-01,\n",
       "          2.81805783e-01,   2.15910750e-01,   8.76348221e-02,\n",
       "          9.12894509e-01,   2.83590445e-01,   9.58130818e-01,\n",
       "          9.45234980e-01,   5.69192439e-02,   3.42497709e-01,\n",
       "          6.38397282e-01,   9.68536621e-01,   3.42770349e-01,\n",
       "          4.72027240e-01,   7.44607876e-01,   3.17101200e-01,\n",
       "          1.09858349e-01,   9.13671949e-01,   1.16577566e-01,\n",
       "          2.57574659e-01,   2.51132592e-01,   1.09415163e-01,\n",
       "          7.66928046e-01,   7.90465416e-01,   9.25858136e-01,\n",
       "          2.19641729e-01,   6.82343612e-01,   4.43514195e-02,\n",
       "          7.16451463e-01,   6.34457003e-01,   3.92033946e-01,\n",
       "          3.61448500e-01,   1.16683529e-01,   8.72584266e-01,\n",
       "          1.94957334e-01,   3.62541013e-01,   3.44438332e-01,\n",
       "          3.53963715e-01,   1.97011644e-01,   4.54602852e-02,\n",
       "          2.76365958e-01,   6.88572281e-01,   2.31310254e-01,\n",
       "          5.22837361e-01,   5.09707913e-01,   5.11810824e-01,\n",
       "          1.68911729e-01,   8.23157142e-01,   6.79826460e-01,\n",
       "          4.01262944e-01,   6.89540548e-01,   1.41128588e-01,\n",
       "          5.00394017e-04,   3.48071222e-01,   1.74500411e-01,\n",
       "          4.45116611e-01,   3.80964207e-01,   4.34100246e-02,\n",
       "          7.30165645e-01,   7.19205722e-01,   3.44986489e-01,\n",
       "          6.37726861e-01,   8.93235439e-01,   1.91143467e-01,\n",
       "          1.89390232e-01,   4.28813134e-01,   7.98961180e-01,\n",
       "          8.77331329e-01,   3.70599700e-01,   1.36482946e-02,\n",
       "          8.56937757e-01,   5.97229704e-01,   6.08018276e-01,\n",
       "          8.65106461e-01,   7.70698346e-01,   3.40838352e-01,\n",
       "          3.89712792e-01,   1.96069230e-01,   3.11936764e-01,\n",
       "          3.18984380e-01,   7.61623204e-01,   2.39620806e-02,\n",
       "          5.85511667e-01,   8.23053779e-01,   8.03231958e-01,\n",
       "          1.97667679e-01,   4.93767218e-01,   6.48332931e-01,\n",
       "          7.04954637e-01,   5.14419299e-01,   4.12330633e-02,\n",
       "          1.60765200e-02,   9.26847715e-01,   9.30488907e-01,\n",
       "          9.10948392e-01,   1.53858124e-02,   6.84817561e-01,\n",
       "          6.58439578e-01,   4.64290846e-01,   4.92864757e-01,\n",
       "          4.84180162e-01,   6.13449339e-01,   2.71506192e-01,\n",
       "          6.18438937e-01,   3.09753419e-01,   2.41943070e-01,\n",
       "          1.52800413e-01,   7.24598682e-01,   4.78311947e-01,\n",
       "          6.92178944e-01,   2.84486593e-01,   5.80830884e-01,\n",
       "          9.76991942e-01,   4.85186676e-01,   7.17859467e-01,\n",
       "          3.19617575e-01,   2.43257170e-01,   7.17938054e-01,\n",
       "          5.53888318e-01,   7.94107690e-01,   8.60472892e-01,\n",
       "          3.53782761e-01,   5.22591873e-01,   5.42810938e-01,\n",
       "          5.50848528e-02,   7.78434392e-01,   2.50550674e-02,\n",
       "          4.45414582e-01,   5.10297606e-01,   8.23324994e-01,\n",
       "          6.13047250e-01,   4.95463805e-01,   5.16692237e-02,\n",
       "          8.04622225e-01,   6.83283949e-01,   7.06618667e-01,\n",
       "          1.22238377e-01,   6.54309418e-01,   8.54745756e-01,\n",
       "          7.56894444e-01,   3.03688109e-02,   7.19382159e-01,\n",
       "          6.21959670e-01,   2.97338444e-01,   7.14385102e-01,\n",
       "          3.47272684e-02,   1.81882572e-04,   9.83814129e-01,\n",
       "          7.02056852e-01,   3.28657415e-01,   7.51478715e-01,\n",
       "          8.98579972e-01,   7.81467985e-01,   8.21053847e-01,\n",
       "          3.94571978e-02,   8.96496648e-01,   1.60512119e-01,\n",
       "          6.29680804e-02,   1.88540020e-01,   1.32712820e-01,\n",
       "          1.31026786e-01,   9.35605346e-01,   7.46160078e-01,\n",
       "          5.46175585e-01,   9.92932091e-01,   7.08823107e-01,\n",
       "          7.67804693e-01,   4.17921398e-01,   9.28696941e-01,\n",
       "          1.75864846e-01,   8.52220128e-01,   7.16446917e-01,\n",
       "          5.25486582e-01,   8.21020703e-01,   7.03085990e-01,\n",
       "          8.67106983e-01,   3.56415423e-01,   4.19037088e-01,\n",
       "          8.87482824e-01,   1.88903576e-01,   2.18994529e-01,\n",
       "          5.97609664e-01,   9.59795850e-01,   5.33335386e-01,\n",
       "          5.22977208e-01,   4.20780852e-01,   4.35272300e-01,\n",
       "          3.89147668e-01,   2.58835301e-01,   4.76757407e-01,\n",
       "          8.06983784e-01,   1.36347512e-02,   9.16490402e-01,\n",
       "          7.88828106e-01,   9.70950456e-01,   7.93950870e-01,\n",
       "          9.99331220e-01,   2.47979265e-01,   8.28972332e-01,\n",
       "          3.26660286e-01,   3.44913284e-01,   1.93407488e-01,\n",
       "          1.09471548e-01,   8.48977854e-01,   2.25619790e-01,\n",
       "          7.68849962e-01,   6.38121573e-01,   8.26346695e-01,\n",
       "          2.89276818e-01,   9.62197182e-01,   9.68586453e-02,\n",
       "          4.06499646e-01,   8.89610827e-01,   5.56961226e-01,\n",
       "          8.51295802e-01,   5.97695912e-01,   5.11805451e-01,\n",
       "          9.10881021e-01,   3.06098615e-01,   7.30066926e-01,\n",
       "          5.44721614e-01,   6.87857563e-01,   6.70959831e-01,\n",
       "          1.06228434e-02,   2.11333567e-01,   5.68504406e-01,\n",
       "          6.69361083e-01,   1.93675995e-01,   8.50625794e-01,\n",
       "          8.97298180e-01,   7.27282750e-01,   1.31668664e-01,\n",
       "          3.25861474e-01,   9.89084740e-01,   9.20321228e-01,\n",
       "          8.76852450e-01,   2.75822328e-01,   8.36006074e-01,\n",
       "          3.57086893e-01,   9.76259329e-01,   2.76213718e-01,\n",
       "          6.87973748e-01,   5.21597711e-01,   4.01398929e-02,\n",
       "          8.44794839e-01,   4.90579903e-01,   8.27654578e-01,\n",
       "          6.49006239e-01,   5.80597419e-01,   2.19055178e-01,\n",
       "          1.06403745e-01,   6.01140070e-01,   8.64961734e-01,\n",
       "          7.88358125e-01,   9.32924873e-01,   4.74874408e-01,\n",
       "          5.07316953e-01,   5.25180052e-01,   1.83932590e-01,\n",
       "          9.88704067e-01,   8.30479233e-01,   8.85614587e-01,\n",
       "          4.98381666e-01,   4.71578622e-01,   5.96443993e-01,\n",
       "          2.77803809e-01,   7.57685784e-01,   4.18454186e-02,\n",
       "          9.56375575e-01,   6.71552444e-01,   4.16375190e-01,\n",
       "          9.02972393e-01,   6.75949108e-01,   3.83520782e-01,\n",
       "          7.51881627e-01,   9.55733242e-01,   3.89877466e-01,\n",
       "          5.90463530e-01,   3.46485224e-01,   7.05414407e-01,\n",
       "          1.63134765e-01,   5.21854441e-01,   1.38948474e-01,\n",
       "          2.92052331e-02,   3.86581667e-01,   2.36114346e-04,\n",
       "          8.93900818e-01,   4.72473344e-01,   3.62473607e-01,\n",
       "          6.85663328e-01,   8.58912595e-01,   4.88796284e-01,\n",
       "          5.51510900e-01,   8.18135979e-01,   8.98371535e-01,\n",
       "          9.16211813e-01,   3.37700270e-01,   4.49755623e-01,\n",
       "          5.33765543e-01,   7.29004560e-01,   2.73669811e-01,\n",
       "          7.69272840e-01,   4.38770941e-01,   4.71266204e-01,\n",
       "          1.63025980e-01,   5.85267501e-01,   9.00076124e-01,\n",
       "          1.96873180e-01,   4.34397774e-01,   7.52794791e-01,\n",
       "          8.55406232e-01,   8.62271554e-01,   6.80296679e-01,\n",
       "          6.40023264e-01,   1.22805183e-01,   9.81632041e-01,\n",
       "          4.62641393e-01,   9.77395475e-02,   2.52981824e-01,\n",
       "          2.30694602e-01,   7.63887830e-02,   3.85783022e-01,\n",
       "          2.21078161e-01,   4.74168790e-01,   2.36495631e-01,\n",
       "          6.16984869e-01,   5.17696465e-01,   7.59630976e-01,\n",
       "          9.39561644e-02,   4.46559888e-01,   9.87692878e-01,\n",
       "          4.37261924e-01,   9.39541441e-01,   7.49623752e-01,\n",
       "          9.21447675e-01,   1.58139624e-01,   8.00025096e-02,\n",
       "          8.48505720e-01,   3.15514866e-01,   3.82618818e-01,\n",
       "          1.64769426e-01,   4.01598717e-01,   2.12989043e-01,\n",
       "          3.38826108e-02,   1.03818704e-01,   5.07415345e-01,\n",
       "          4.95426453e-01,   1.31660181e-01,   4.12482668e-01,\n",
       "          9.00475157e-01,   7.85410575e-01,   1.60292465e-01,\n",
       "          2.42006130e-01,   4.18346096e-01,   4.08052179e-03,\n",
       "          7.69377421e-01,   6.63312504e-01,   7.92454620e-01,\n",
       "          8.60588919e-02,   4.59167444e-01,   3.99913591e-01,\n",
       "          8.74914085e-01,   9.08416268e-01,   4.83055928e-01,\n",
       "          9.48404655e-01,   5.05397411e-01,   7.26115363e-02,\n",
       "          4.27549592e-01]),\n",
       " array([  6.18928423e-01,   9.70485438e-02,   1.45231342e-01,\n",
       "          5.37603567e-01,   4.33320528e-01,   4.73714466e-01,\n",
       "          2.39233128e-01,   6.03587253e-01,   7.74043816e-01,\n",
       "          5.36179799e-01,   4.00273336e-01,   3.22592712e-02,\n",
       "          8.17579989e-01,   2.53323285e-01,   9.84035870e-01,\n",
       "          7.64496349e-02,   1.33504208e-01,   4.46808317e-01,\n",
       "          2.84693675e-01,   9.77552250e-01,   8.67799305e-01,\n",
       "          1.93019195e-01,   1.52871056e-01,   6.64668595e-02,\n",
       "          5.94996061e-01,   7.57947196e-01,   7.51964930e-01,\n",
       "          2.63447684e-01,   8.16883780e-01,   9.25055298e-01,\n",
       "          7.91643706e-01,   6.37123144e-01,   3.78747413e-01,\n",
       "          1.37262785e-01,   1.53224819e-01,   5.04327409e-01,\n",
       "          6.30822181e-01,   3.09481326e-01,   8.85876339e-01,\n",
       "          8.23619773e-01,   8.22677638e-01,   3.03268188e-01,\n",
       "          5.41371299e-02,   6.35027810e-01,   7.94674336e-01,\n",
       "          5.76562959e-01,   1.35416687e-01,   2.59249747e-01,\n",
       "          4.08563093e-01,   3.87818964e-01,   9.19141242e-01,\n",
       "          7.01995041e-01,   9.42380695e-01,   8.86354942e-01,\n",
       "          2.21854101e-01,   1.01324522e-01,   6.18848410e-02,\n",
       "          7.82724372e-01,   7.27864043e-01,   8.44034608e-01,\n",
       "          4.48090146e-01,   2.88184205e-01,   2.31591212e-01,\n",
       "          7.94948859e-01,   8.79899682e-01,   9.83515773e-01,\n",
       "          3.48967866e-01,   3.19272831e-01,   8.17695242e-01,\n",
       "          7.19844797e-02,   9.47924157e-01,   4.39996618e-01,\n",
       "          5.79323027e-01,   5.59391317e-01,   9.37536091e-01,\n",
       "          2.31038450e-01,   7.05709218e-01,   6.24002939e-01,\n",
       "          6.83874654e-02,   2.94387005e-01,   8.45841472e-01,\n",
       "          7.28566523e-01,   6.40884729e-01,   6.22026804e-02,\n",
       "          4.99245135e-01,   1.75020404e-01,   2.39742799e-01,\n",
       "          8.65486985e-01,   2.14531522e-02,   2.66897773e-01,\n",
       "          8.28437227e-01,   6.31565811e-01,   5.62196806e-01,\n",
       "          2.89814911e-01,   9.22148684e-01,   7.78062396e-01,\n",
       "          2.65030832e-01,   2.05652829e-01,   1.27998451e-01,\n",
       "          9.95606052e-01,   8.57353882e-01,   4.26597025e-01,\n",
       "          3.65031120e-01,   2.77695211e-01,   2.76347514e-01,\n",
       "          6.72376743e-01,   1.21764020e-01,   1.00152999e-01,\n",
       "          4.86601362e-01,   5.54285271e-01,   6.41826433e-01,\n",
       "          6.79983667e-01,   7.12893803e-01,   7.39105951e-01,\n",
       "          8.62100087e-01,   6.32383792e-01,   7.32902976e-01,\n",
       "          8.35673836e-01,   8.76212336e-01,   8.51600544e-01,\n",
       "          1.25649277e-01,   5.91189982e-01,   9.75106134e-01,\n",
       "          9.89986983e-01,   9.29687459e-01,   6.44227558e-01,\n",
       "          2.58540203e-02,   5.44968062e-01,   2.97299248e-01,\n",
       "          9.22254478e-01,   8.49146592e-01,   3.64486809e-01,\n",
       "          8.51219077e-01,   8.02327225e-01,   9.08872207e-01,\n",
       "          7.04704986e-01,   4.87061801e-01,   5.25352157e-01,\n",
       "          9.76834174e-01,   3.85078053e-01,   9.08192788e-02,\n",
       "          2.46660667e-01,   7.49947081e-01,   2.57782357e-01,\n",
       "          3.72094891e-01,   5.53665987e-01,   3.07490738e-01,\n",
       "          9.95091515e-01,   2.69220791e-01,   3.14282691e-01,\n",
       "          4.44562849e-01,   1.36741525e-01,   1.21706370e-02,\n",
       "          2.43315907e-01,   8.80370011e-01,   4.16063355e-01,\n",
       "          2.53947929e-01,   5.48747070e-01,   5.03941981e-01,\n",
       "          5.92983504e-01,   3.24076452e-01,   4.29553387e-01,\n",
       "          1.97825341e-01,   3.52330018e-01,   4.37504620e-01,\n",
       "          4.75839776e-01,   9.00250584e-01,   5.78655015e-01,\n",
       "          4.91064092e-01,   5.74824618e-01,   4.68883666e-01,\n",
       "          1.59558371e-01,   6.48294134e-01,   7.71398509e-01,\n",
       "          5.91343186e-02,   2.84232588e-01,   9.20852874e-01,\n",
       "          2.23663153e-01,   2.09867137e-01,   5.57974977e-01,\n",
       "          1.89276317e-01,   3.17187500e-01,   7.38804601e-02,\n",
       "          6.19975913e-01,   7.88011380e-01,   1.54085146e-01,\n",
       "          6.69704283e-01,   5.56988226e-01,   9.61088669e-02,\n",
       "          6.18481410e-01,   3.91319183e-01,   7.75006531e-01,\n",
       "          4.10084728e-01,   5.23607399e-01,   1.80228564e-01,\n",
       "          6.31468078e-01,   5.88654430e-01,   2.08131590e-01,\n",
       "          5.01730437e-01,   8.25162011e-01,   9.40446141e-01,\n",
       "          5.39255543e-01,   2.58231715e-01,   7.74538206e-02,\n",
       "          1.23496435e-01,   3.12460897e-01,   3.95066924e-01,\n",
       "          7.32665955e-01,   8.18335405e-01,   2.30430638e-01,\n",
       "          4.52911906e-02,   6.88198166e-01,   8.03030210e-01,\n",
       "          1.06703106e-01,   5.97907089e-01,   4.10166784e-01,\n",
       "          7.83841715e-01,   8.66229332e-01,   7.82883752e-01,\n",
       "          3.31843390e-01,   9.50588639e-01,   6.60270096e-01,\n",
       "          2.01158457e-01,   9.31351542e-01,   6.78655751e-01,\n",
       "          8.77654500e-01,   8.52889289e-01,   6.41551127e-01,\n",
       "          4.94588810e-01,   5.97832461e-01,   5.15715312e-01,\n",
       "          2.03516021e-01,   1.30112027e-01,   1.06235756e-01,\n",
       "          4.36467256e-01,   5.05356191e-01,   8.28148765e-02,\n",
       "          1.25713390e-01,   7.45823901e-01,   4.78602480e-01,\n",
       "          7.41446301e-01,   4.04152538e-01,   1.93796601e-01,\n",
       "          6.99549649e-02,   4.46481567e-03,   3.45917307e-02,\n",
       "          8.63763005e-01,   5.47276819e-01,   2.34395337e-01,\n",
       "          4.69887797e-01,   5.12963168e-01,   8.04814436e-01,\n",
       "          5.64952341e-01,   4.73959077e-01,   7.00898462e-01,\n",
       "          1.52397232e-01,   1.92645005e-02,   3.34695944e-02,\n",
       "          5.76484739e-01,   4.27022766e-01,   9.70981780e-01,\n",
       "          6.21076476e-01,   7.19111691e-01,   5.75927999e-01,\n",
       "          7.37219129e-01,   2.68516314e-01,   3.20450246e-01,\n",
       "          2.25743533e-01,   5.58889872e-01,   9.15881829e-02,\n",
       "          7.82390996e-01,   2.53723274e-01,   5.92372571e-01,\n",
       "          9.83743512e-01,   8.32321680e-01,   1.62976223e-01,\n",
       "          5.94674351e-01,   6.87882249e-01,   2.77830511e-01,\n",
       "          8.82905253e-01,   5.12526304e-01,   5.23079130e-01,\n",
       "          3.48961864e-01,   7.52903728e-01,   6.85881371e-01,\n",
       "          5.99137741e-01,   1.51016151e-01,   3.88446069e-01,\n",
       "          5.74973795e-01,   4.59051388e-01,   1.15386023e-01,\n",
       "          4.96552937e-02,   9.58915085e-01,   1.54555490e-01,\n",
       "          5.04374493e-01,   8.14850995e-01,   4.35082312e-01,\n",
       "          5.18767749e-02,   3.68124826e-01,   3.30778248e-01,\n",
       "          4.14885797e-01,   5.89355004e-01,   1.85250322e-02,\n",
       "          1.56279003e-01,   1.16871298e-01,   1.67521689e-01,\n",
       "          2.71799381e-01,   4.71226451e-01,   4.60078378e-02,\n",
       "          1.19559343e-01,   2.09546681e-01,   9.39094682e-01,\n",
       "          7.32447752e-01,   7.07809265e-01,   9.84416587e-01,\n",
       "          5.54851963e-01,   3.65171588e-01,   3.08507256e-01,\n",
       "          7.95512201e-01,   8.50103405e-02,   1.28362979e-01,\n",
       "          5.58457325e-01,   8.37817589e-01,   5.75946953e-01,\n",
       "          2.82058694e-01,   7.94863087e-01,   7.60621658e-01,\n",
       "          4.89703120e-01,   5.51662398e-01,   4.02502447e-01,\n",
       "          5.84383293e-01,   4.48420282e-01,   3.62200693e-01,\n",
       "          4.55238114e-02,   9.58780463e-01,   6.20993789e-01,\n",
       "          5.17889090e-01,   4.54635980e-01,   4.09680646e-03,\n",
       "          1.65816727e-01,   3.55081708e-01,   9.25444837e-01,\n",
       "          4.94668223e-01,   7.78713142e-01,   1.14680364e-01,\n",
       "          9.93036602e-01,   6.77919327e-01,   2.87230267e-01,\n",
       "          9.09149639e-01,   8.38024061e-01,   3.56661610e-01,\n",
       "          8.11084662e-01,   7.06810245e-01,   4.57602314e-01,\n",
       "          4.50277818e-01,   1.67557313e-01,   8.95511647e-01,\n",
       "          4.84023492e-02,   5.56723146e-01,   9.93662512e-01,\n",
       "          1.87493785e-01,   1.96389494e-01,   4.02155597e-01,\n",
       "          6.33266519e-01,   3.94720294e-01,   1.54920794e-01,\n",
       "          8.29919028e-01,   1.88025866e-01,   8.33608267e-01,\n",
       "          2.97059702e-01,   8.74522785e-01,   2.47849847e-01,\n",
       "          3.17657187e-02,   7.49146727e-02,   9.89088273e-02,\n",
       "          3.51320071e-01,   3.07832876e-01,   1.18499592e-01,\n",
       "          2.41658174e-01,   3.53165170e-01,   3.87003782e-01,\n",
       "          6.90204221e-01,   4.73107896e-01,   4.70494313e-01,\n",
       "          1.01449536e-01,   3.48405475e-01,   5.69316423e-01,\n",
       "          3.73183886e-01,   2.11934360e-01,   5.87306456e-01,\n",
       "          5.57969086e-02,   3.55863495e-01,   7.01510998e-01,\n",
       "          7.87229844e-01,   6.67892839e-01,   9.73569102e-01,\n",
       "          1.06625294e-01,   8.01861339e-01,   4.03461746e-01,\n",
       "          1.74077464e-01,   2.41783871e-01,   5.81896212e-01,\n",
       "          7.30798546e-01,   1.15792399e-01,   7.97880517e-01,\n",
       "          6.63780608e-02,   7.03859831e-01,   2.97004468e-01,\n",
       "          8.66874090e-01,   8.24830172e-01,   6.85734543e-01,\n",
       "          9.81518920e-01,   2.70278272e-01,   1.15602702e-02,\n",
       "          8.77431528e-01,   2.37468475e-01,   1.66645806e-01,\n",
       "          1.59786278e-02,   8.28765925e-01,   7.63634421e-01,\n",
       "          6.81199204e-02,   6.25457430e-01,   2.44635289e-01,\n",
       "          7.42654163e-03,   8.15710835e-01,   2.07478513e-01,\n",
       "          7.64721030e-01,   3.97525052e-01,   4.35135580e-01,\n",
       "          9.76902760e-01,   7.03377101e-01,   6.65391805e-01,\n",
       "          2.99475893e-01,   2.65537352e-01,   3.36642204e-01,\n",
       "          5.78761856e-01,   2.82523892e-01,   4.10688545e-02,\n",
       "          8.54968593e-01,   6.73681186e-01,   1.93697910e-01,\n",
       "          9.89927372e-01,   9.36795982e-01,   7.56784285e-01,\n",
       "          3.90173729e-01,   6.31767380e-01,   9.28240618e-01,\n",
       "          5.97629757e-01,   7.97871180e-01,   8.87698280e-01,\n",
       "          4.29274388e-01,   4.74828796e-02,   9.58352443e-01,\n",
       "          6.89607573e-01,   9.10667290e-01,   4.08028168e-01,\n",
       "          4.67104510e-02,   9.36523206e-01,   6.80778029e-01,\n",
       "          9.33600920e-01,   1.51069885e-01,   6.28223993e-01,\n",
       "          9.77241857e-01,   7.80261172e-02,   8.62034199e-01,\n",
       "          5.96140228e-02,   1.12174315e-01,   6.45542821e-01,\n",
       "          1.49853912e-01,   5.50852888e-01,   7.11949622e-01,\n",
       "          5.84656025e-01,   4.19033662e-01,   6.09924748e-02,\n",
       "          5.85716108e-01,   3.40609657e-01,   1.41170668e-01,\n",
       "          7.36661134e-01,   3.42356821e-02,   1.20791054e-01,\n",
       "          2.16805918e-01,   9.33614627e-01,   3.41605790e-01,\n",
       "          3.46332484e-02,   1.39455436e-02,   5.91908684e-01,\n",
       "          2.04927291e-01,   3.50953972e-01,   8.48796802e-01,\n",
       "          2.60250243e-01,   3.37157544e-01,   4.14342648e-01,\n",
       "          9.23364592e-01,   1.34300763e-01,   7.26325890e-01,\n",
       "          8.34478227e-01,   8.45660368e-01,   2.64487979e-01,\n",
       "          7.08753027e-01,   4.02343761e-01,   6.36511181e-01,\n",
       "          8.92439004e-02,   6.43340109e-01,   3.61766137e-01,\n",
       "          4.86295964e-01,   2.61091996e-01,   5.60607385e-02,\n",
       "          4.11763064e-02,   5.60515242e-01,   2.28738324e-01,\n",
       "          6.29995275e-01,   8.75595771e-01,   6.03150501e-01,\n",
       "          5.16580004e-01,   9.90726227e-03,   5.81935740e-01,\n",
       "          2.86319740e-01,   2.10153285e-01,   1.47356176e-01,\n",
       "          9.62380422e-01,   6.28675453e-01,   7.46785715e-01,\n",
       "          6.73427750e-02,   3.96049731e-01,   6.10818667e-01,\n",
       "          7.23371600e-01,   9.89819205e-01,   8.43082229e-02,\n",
       "          3.20408583e-01,   8.80849938e-01,   6.90497332e-01,\n",
       "          4.43454877e-01,   5.26706066e-01,   4.35210154e-01,\n",
       "          9.43602858e-01,   7.83604516e-01,   8.10467741e-01,\n",
       "          2.91081375e-01,   1.27029788e-01,   1.91613650e-01,\n",
       "          9.80162037e-01,   5.55986121e-01,   1.02336688e-01,\n",
       "          4.76415893e-01,   2.45199497e-01,   8.48237371e-01,\n",
       "          5.08750326e-01,   1.23551739e-01,   5.56953512e-01,\n",
       "          1.24972623e-01,   5.58512394e-01,   8.70036898e-01,\n",
       "          6.94736138e-01,   8.99352778e-01,   2.40953590e-01,\n",
       "          1.37215183e-02,   1.72148784e-01,   9.57759645e-01,\n",
       "          3.73074593e-01,   4.82470927e-01,   9.55068189e-01,\n",
       "          5.16333634e-01,   9.43732061e-01,   7.27856781e-01,\n",
       "          8.51924085e-01,   6.32003339e-01,   5.42918988e-01,\n",
       "          7.79490982e-01,   4.58720447e-01,   7.50422955e-01,\n",
       "          8.08027865e-01,   7.12852156e-01,   8.79122100e-01,\n",
       "          6.60373703e-01,   5.82656835e-01,   2.08531857e-03,\n",
       "          6.03215762e-01,   8.86017142e-02,   7.26413089e-01,\n",
       "          9.17937096e-01,   9.14023349e-01,   7.83560486e-01,\n",
       "          9.58362330e-01,   6.18612544e-01,   1.02477359e-01,\n",
       "          7.18425151e-01,   7.27938119e-01,   8.32818554e-01,\n",
       "          1.43803435e-01,   1.85418985e-01,   1.06275230e-01,\n",
       "          4.43491670e-01,   8.98042693e-01,   1.12484068e-01,\n",
       "          8.77217985e-01,   2.81435463e-01,   5.78223909e-01,\n",
       "          5.54511385e-02,   3.91279455e-01,   3.23096758e-01,\n",
       "          7.32836192e-02,   3.27924560e-01,   2.16745068e-01,\n",
       "          2.05225623e-01,   4.93801769e-01,   5.46330483e-01,\n",
       "          5.79277159e-01,   4.23178016e-01,   8.47081397e-01,\n",
       "          3.98126382e-01,   5.94056233e-01,   3.16806472e-01,\n",
       "          1.00087573e-01,   4.35402483e-02,   7.24051282e-01,\n",
       "          1.15926937e-01,   2.91181100e-01,   5.72966925e-01,\n",
       "          6.68980298e-01,   8.22969276e-01,   1.98012483e-01,\n",
       "          7.91266979e-01,   9.58781590e-01,   9.22130709e-02,\n",
       "          2.07292893e-01,   9.22871687e-01,   3.15651670e-01,\n",
       "          8.51461560e-01,   8.93112174e-01,   8.98408866e-01,\n",
       "          4.35172611e-02,   1.84184247e-01,   2.42816554e-01,\n",
       "          4.78806231e-01,   1.93178500e-01,   7.89589965e-01,\n",
       "          5.99573877e-01,   5.45661391e-01,   2.54240553e-01,\n",
       "          8.25894043e-01,   6.51515245e-01,   4.42739486e-01,\n",
       "          9.99987622e-02,   1.48401041e-01,   7.40210454e-01,\n",
       "          2.78805776e-01,   6.43058431e-01,   1.01036567e-02,\n",
       "          7.07471680e-01,   6.87376914e-02,   7.52968085e-01,\n",
       "          6.17418381e-01,   7.81572667e-01,   8.63545978e-01,\n",
       "          3.57518620e-01,   3.22943311e-01,   7.42385352e-01,\n",
       "          9.43370130e-01,   4.99928207e-01,   6.55904921e-01,\n",
       "          7.51727766e-01,   1.00682730e-01,   5.45875674e-01,\n",
       "          1.00512187e-01,   8.19677841e-01,   3.47082888e-01,\n",
       "          6.62693529e-01,   3.90888716e-01,   2.20260612e-01,\n",
       "          7.27286989e-01,   2.20920330e-01,   3.34264178e-01,\n",
       "          4.18331045e-01,   1.99733280e-01,   5.05130639e-01,\n",
       "          3.45615413e-01,   7.94180346e-01,   4.97431357e-01,\n",
       "          2.43245124e-01,   5.67739777e-01,   8.46033330e-01,\n",
       "          5.01033559e-01,   4.94113767e-01,   5.14116085e-01,\n",
       "          3.41993270e-01,   9.65339705e-01,   4.90951104e-01,\n",
       "          5.98711820e-01,   1.98861501e-01,   8.90544429e-01,\n",
       "          8.42394200e-02,   1.42024864e-01,   1.91184568e-01,\n",
       "          9.74358253e-01,   7.60581774e-01,   4.63752039e-01,\n",
       "          2.25793771e-01,   3.02909652e-01,   5.57370625e-01,\n",
       "          6.45709163e-01,   5.38465903e-01,   7.49619392e-01,\n",
       "          5.50352649e-01,   4.10508039e-01,   9.52050970e-01,\n",
       "          9.40948965e-01,   9.40344392e-01,   9.64161718e-01,\n",
       "          4.71014582e-01,   6.20044276e-01,   8.38503783e-01,\n",
       "          2.12723967e-01,   5.23110108e-01,   5.88760368e-01,\n",
       "          4.81969498e-01,   6.81819663e-01,   7.89564973e-01,\n",
       "          8.25002708e-01,   2.95205954e-01,   7.00162287e-01,\n",
       "          2.37190272e-02,   1.43474182e-01,   4.22404479e-01,\n",
       "          9.12449497e-01,   1.65805575e-01,   8.18645237e-01,\n",
       "          7.69080604e-01,   5.85327171e-01,   2.47468811e-01,\n",
       "          3.96815315e-01,   3.24418897e-01,   6.85622694e-01,\n",
       "          6.06516828e-01,   7.23276372e-01,   9.22275124e-01,\n",
       "          6.03236612e-01,   8.62566388e-01,   3.33027843e-01,\n",
       "          5.79443314e-01,   2.25412319e-01,   5.88161418e-01,\n",
       "          6.85129835e-01,   9.38337490e-01,   8.52944017e-01,\n",
       "          7.40141435e-01,   4.82395235e-01,   2.08027154e-01,\n",
       "          9.32089979e-01,   4.28553979e-01,   3.73157489e-01,\n",
       "          8.37591477e-01,   5.60352058e-01,   6.96453949e-01,\n",
       "          5.46053449e-01,   1.09884970e-01,   6.50946598e-01,\n",
       "          1.02174644e-01,   5.19329992e-01,   5.33022250e-02,\n",
       "          6.81944258e-01,   3.31385564e-01,   1.77841079e-01,\n",
       "          9.23897400e-01,   1.77510334e-01,   7.88535902e-01,\n",
       "          8.43880887e-01,   9.83266925e-01,   3.40579739e-01,\n",
       "          2.84427052e-01,   7.73009277e-01,   6.38967409e-01,\n",
       "          2.76688890e-01,   2.55268946e-01,   8.76599530e-01,\n",
       "          3.74912465e-01,   3.54751962e-01,   1.75508481e-01,\n",
       "          8.33866807e-01,   9.37921535e-01,   8.98434024e-01,\n",
       "          5.59646932e-01,   9.62323791e-01,   1.62092474e-01,\n",
       "          4.51260773e-01,   3.47211691e-01,   2.30671317e-02,\n",
       "          5.56374010e-01,   1.85023162e-01,   2.39977504e-01,\n",
       "          7.23397380e-01,   9.79782041e-01,   4.00699714e-01,\n",
       "          8.06114000e-02,   6.74955031e-01,   8.40798535e-01,\n",
       "          6.80323495e-01,   2.54650966e-01,   5.01516345e-01,\n",
       "          5.18416855e-01,   9.06169820e-01,   4.58721533e-01,\n",
       "          2.09772881e-01,   9.34551446e-02,   3.70864749e-01,\n",
       "          2.04185707e-01,   4.00500789e-01,   5.58854294e-01,\n",
       "          6.36747549e-01,   5.56200287e-01,   2.58943838e-01,\n",
       "          3.57829446e-01,   6.80468138e-02,   2.12535292e-01,\n",
       "          3.24163329e-01,   7.75324936e-01,   1.30979334e-01,\n",
       "          6.58473187e-01,   8.29566426e-01,   9.85002582e-01,\n",
       "          9.86144601e-01,   1.20999525e-01,   8.02399613e-01,\n",
       "          4.67678724e-01,   2.03446954e-01,   4.04024580e-01,\n",
       "          5.46798734e-01,   9.18502919e-01,   6.18581039e-01,\n",
       "          6.44312542e-01,   4.56296919e-01,   7.42739079e-01,\n",
       "          8.87106761e-01,   3.09156173e-01,   9.26125231e-01,\n",
       "          8.70616893e-01,   5.95177930e-01,   9.84322530e-01,\n",
       "          6.13084665e-01,   7.11608066e-01,   3.04571955e-01,\n",
       "          4.70446692e-01,   1.42296609e-01,   8.39137609e-01,\n",
       "          7.82678592e-01,   2.77529245e-02,   9.64371645e-01,\n",
       "          5.02350293e-01,   9.81339645e-01,   4.75169211e-01,\n",
       "          5.51923493e-01,   8.55751326e-01,   4.21755649e-01,\n",
       "          2.14552319e-02,   4.77801962e-01,   3.36238072e-01,\n",
       "          1.13876462e-01,   4.50179989e-01,   9.33437373e-01,\n",
       "          9.04134620e-01,   8.62931014e-01,   1.65201937e-01,\n",
       "          3.04640996e-01,   7.00373859e-01,   1.76366688e-01,\n",
       "          8.33787895e-01,   8.82509643e-01,   1.24490083e-02,\n",
       "          2.22471640e-01,   9.78236323e-01,   5.07519741e-01,\n",
       "          9.97226352e-01,   3.67409292e-02,   5.80053086e-02,\n",
       "          6.10600402e-02,   9.14654379e-01,   2.66553785e-01,\n",
       "          8.48131650e-01,   7.50439292e-01,   9.15302544e-01,\n",
       "          4.85666932e-01,   2.29860954e-01,   8.84697328e-01,\n",
       "          5.25163170e-01,   2.80976095e-01,   1.28070797e-01,\n",
       "          3.84650266e-01,   2.32259385e-01,   1.29948168e-01,\n",
       "          3.28964867e-01,   6.32564577e-01,   7.94358296e-02,\n",
       "          7.87664772e-01,   7.40178366e-01,   3.35361943e-01,\n",
       "          9.41364087e-01,   9.27481991e-01,   7.78271200e-02,\n",
       "          2.17070619e-01,   9.49361562e-01,   5.01566382e-01,\n",
       "          7.70290653e-02,   1.04731023e-01,   5.36184659e-01,\n",
       "          2.60187159e-01,   6.02956859e-01,   9.82034508e-01,\n",
       "          4.22410177e-01,   1.94174852e-01,   6.00681237e-04,\n",
       "          5.08116094e-01,   2.57469061e-01,   1.03924573e-01,\n",
       "          7.04080241e-01,   5.46396448e-01,   6.18265883e-01,\n",
       "          5.76002162e-01,   8.50170780e-03,   7.51761863e-01,\n",
       "          7.65148952e-02,   1.97423869e-01,   4.16238620e-01,\n",
       "          4.49696448e-01,   1.60657080e-01,   9.39202608e-01,\n",
       "          1.29825126e-03,   2.87318986e-01,   8.25143138e-01,\n",
       "          1.63342041e-01,   1.60053669e-01,   7.73918890e-01,\n",
       "          4.98657599e-01,   5.84355241e-01,   4.34391003e-01,\n",
       "          8.10468591e-01,   8.39575956e-01,   3.94478187e-01,\n",
       "          7.34998615e-01,   9.19930241e-01,   4.23067494e-01,\n",
       "          4.33055967e-01,   9.16686188e-01,   6.17871120e-01,\n",
       "          3.06825060e-01,   4.13532698e-01,   6.16751568e-01,\n",
       "          6.01932454e-01,   8.13298125e-01,   4.81610105e-01,\n",
       "          5.33879248e-01,   7.46106587e-01,   9.90380809e-01,\n",
       "          6.04464185e-01,   3.14576900e-01,   1.88679016e-01,\n",
       "          2.06776079e-01,   2.06534418e-02,   1.98229034e-01,\n",
       "          5.51312427e-01,   6.52182474e-01,   3.03937001e-01,\n",
       "          1.35811763e-01,   1.32817837e-01,   7.97268474e-01,\n",
       "          2.24497113e-01,   1.83730991e-01,   1.85908415e-01,\n",
       "          3.64611290e-01,   6.93627763e-01,   8.48504933e-01,\n",
       "          7.00866658e-01,   3.42366716e-01,   5.76072218e-01,\n",
       "          7.71070191e-01,   6.85873790e-01,   7.61722057e-01,\n",
       "          5.19388869e-01,   5.09091932e-03,   3.11207156e-01,\n",
       "          2.67956469e-01,   9.21727256e-02,   7.40371239e-01,\n",
       "          6.57716431e-01,   9.33724224e-01,   2.20667520e-02,\n",
       "          8.18870494e-01,   4.63383055e-01,   9.09699746e-01,\n",
       "          2.46402635e-01,   3.54317431e-01,   8.58481292e-01,\n",
       "          2.18530445e-01,   2.54187864e-02,   8.00468680e-01,\n",
       "          3.52423186e-01,   4.39069814e-01,   8.71870239e-01,\n",
       "          1.23450424e-01,   4.75707579e-01,   6.09618062e-01,\n",
       "          7.69984229e-03]))"
      ]
     },
     "execution_count": 4,
     "metadata": {},
     "output_type": "execute_result"
    }
   ],
   "source": [
    "from numpy.random import rand\n",
    "fac1, fac2, fac3 = np.random.rand(3,1000)\n",
    "fac1, fac2, fac3"
   ]
  },
  {
   "cell_type": "code",
   "execution_count": 5,
   "metadata": {
    "collapsed": false
   },
   "outputs": [
    {
     "ename": "NameError",
     "evalue": "name 'tickers' is not defined",
     "output_type": "error",
     "traceback": [
      "\u001b[0;31m---------------------------------------------------------------------------\u001b[0m",
      "\u001b[0;31mNameError\u001b[0m                                 Traceback (most recent call last)",
      "\u001b[0;32m<ipython-input-5-3413a08c375e>\u001b[0m in \u001b[0;36m<module>\u001b[0;34m()\u001b[0m\n\u001b[1;32m      1\u001b[0m \u001b[1;31m# N = 1000\u001b[0m\u001b[1;33m\u001b[0m\u001b[1;33m\u001b[0m\u001b[0m\n\u001b[0;32m----> 2\u001b[0;31m \u001b[0mticker_subset\u001b[0m \u001b[1;33m=\u001b[0m \u001b[0mtickers\u001b[0m\u001b[1;33m.\u001b[0m\u001b[0mtake\u001b[0m\u001b[1;33m(\u001b[0m\u001b[0mnp\u001b[0m\u001b[1;33m.\u001b[0m\u001b[0mrandom\u001b[0m\u001b[1;33m.\u001b[0m\u001b[0mpermutation\u001b[0m\u001b[1;33m(\u001b[0m\u001b[0mN\u001b[0m\u001b[1;33m)\u001b[0m\u001b[1;33m[\u001b[0m\u001b[1;33m:\u001b[0m\u001b[1;36m1000\u001b[0m\u001b[1;33m]\u001b[0m\u001b[1;33m)\u001b[0m\u001b[1;33m\u001b[0m\u001b[0m\n\u001b[0m\u001b[1;32m      3\u001b[0m \u001b[1;33m\u001b[0m\u001b[0m\n\u001b[1;32m      4\u001b[0m \u001b[1;31m# Weighted sum of factors plus noise\u001b[0m\u001b[1;33m\u001b[0m\u001b[1;33m\u001b[0m\u001b[0m\n\u001b[1;32m      5\u001b[0m port = Series(0.7 * fac1 - 1.2 * fac2 + 0.3 * fac3 + rand(1000),\n",
      "\u001b[0;31mNameError\u001b[0m: name 'tickers' is not defined"
     ]
    }
   ],
   "source": [
    "# N = 1000\n",
    "ticker_subset = tickers.take(np.random.permutation(N)[:1000])\n",
    "\n",
    "# Weighted sum of factors plus noise\n",
    "port = Series(0.7 * fac1 - 1.2 * fac2 + 0.3 * fac3 + rand(1000),\n",
    "            index=ticker_subset)\n",
    "factors = DataFrame({'f1': fac1, 'f2': fac2, 'f3': fac3},\n",
    "            index=ticker_subset)"
   ]
  },
  {
   "cell_type": "code",
   "execution_count": 6,
   "metadata": {
    "collapsed": false
   },
   "outputs": [
    {
     "ename": "NameError",
     "evalue": "name 'ticker_subset' is not defined",
     "output_type": "error",
     "traceback": [
      "\u001b[0;31m---------------------------------------------------------------------------\u001b[0m",
      "\u001b[0;31mNameError\u001b[0m                                 Traceback (most recent call last)",
      "\u001b[0;32m<ipython-input-6-84ba67584914>\u001b[0m in \u001b[0;36m<module>\u001b[0;34m()\u001b[0m\n\u001b[1;32m      1\u001b[0m \u001b[1;31m#Take a look at what is what\u001b[0m\u001b[1;33m\u001b[0m\u001b[1;33m\u001b[0m\u001b[0m\n\u001b[0;32m----> 2\u001b[0;31m \u001b[0mticker_subset\u001b[0m\u001b[1;33m\u001b[0m\u001b[0m\n\u001b[0m",
      "\u001b[0;31mNameError\u001b[0m: name 'ticker_subset' is not defined"
     ]
    }
   ],
   "source": [
    "#Take a look at what is what\n",
    "ticker_subset"
   ]
  },
  {
   "cell_type": "code",
   "execution_count": 35,
   "metadata": {
    "collapsed": true
   },
   "outputs": [
    {
     "data": {
      "text/plain": [
       "IVDLC    0.333255\n",
       "YZQQF    0.417635\n",
       "WNRJP   -0.208926\n",
       "BERKW    1.206563\n",
       "QJDNX   -0.564075\n",
       "ZQYSV   -0.447694\n",
       "PQTNH   -0.017633\n",
       "JSICX    0.527007\n",
       "QLXMR    0.614312\n",
       "USCJN   -0.179009\n",
       "MNWKD    0.373825\n",
       "HZSTB    1.122789\n",
       "QDREK    0.240345\n",
       "HLKVU   -0.235614\n",
       "CGMKI   -0.458793\n",
       "EUVTW    0.043129\n",
       "RWQFY    1.024595\n",
       "DCKNR   -0.031147\n",
       "UAYRP    0.631263\n",
       "UWMPK    0.522135\n",
       "PRJLP    0.722728\n",
       "KVBCG   -0.021142\n",
       "PRCSG    0.088914\n",
       "UAGFW    0.508223\n",
       "INBWI    0.254302\n",
       "SFYLE    0.820445\n",
       "VCZCV    0.951262\n",
       "CXDYW    0.597947\n",
       "XIELZ    0.050033\n",
       "ZUBGF    0.901971\n",
       "           ...   \n",
       "CFSFK    0.751840\n",
       "ZPGHC   -0.259180\n",
       "EKKCI    0.432015\n",
       "QHIAQ    0.259688\n",
       "STESW   -0.418880\n",
       "JWJTI    1.196486\n",
       "BYGBP    0.830683\n",
       "KYYKP    0.048298\n",
       "HANJT    0.881137\n",
       "EIKND    0.862411\n",
       "FLQWP    1.149276\n",
       "AMDIG    0.643994\n",
       "IQPJO   -0.515169\n",
       "GPCKH    0.589572\n",
       "XTXMG    0.224578\n",
       "DXDVA    0.111311\n",
       "TDJEM    0.865844\n",
       "RHWLV    0.434405\n",
       "DNKUH   -0.343262\n",
       "ESDXY    0.633218\n",
       "XLDSL   -0.246555\n",
       "JJHFV   -0.130161\n",
       "BBLFD    0.841259\n",
       "YPJUJ    0.428770\n",
       "BQVGR    0.419357\n",
       "OHYYS    1.040229\n",
       "BVPSB    0.524701\n",
       "TPOGW   -0.784756\n",
       "JCKZW   -0.123436\n",
       "KFIGD    0.115471\n",
       "dtype: float64"
      ]
     },
     "execution_count": 35,
     "metadata": {},
     "output_type": "execute_result"
    }
   ],
   "source": [
    "port"
   ]
  },
  {
   "cell_type": "code",
   "execution_count": 36,
   "metadata": {
    "collapsed": true
   },
   "outputs": [
    {
     "data": {
      "text/html": [
       "<div>\n",
       "<table border=\"1\" class=\"dataframe\">\n",
       "  <thead>\n",
       "    <tr style=\"text-align: right;\">\n",
       "      <th></th>\n",
       "      <th>f1</th>\n",
       "      <th>f2</th>\n",
       "      <th>f3</th>\n",
       "    </tr>\n",
       "  </thead>\n",
       "  <tbody>\n",
       "    <tr>\n",
       "      <th>IVDLC</th>\n",
       "      <td>0.693717</td>\n",
       "      <td>0.434743</td>\n",
       "      <td>0.090772</td>\n",
       "    </tr>\n",
       "    <tr>\n",
       "      <th>YZQQF</th>\n",
       "      <td>0.963948</td>\n",
       "      <td>0.445519</td>\n",
       "      <td>0.679572</td>\n",
       "    </tr>\n",
       "    <tr>\n",
       "      <th>WNRJP</th>\n",
       "      <td>0.443490</td>\n",
       "      <td>0.866259</td>\n",
       "      <td>0.397596</td>\n",
       "    </tr>\n",
       "    <tr>\n",
       "      <th>BERKW</th>\n",
       "      <td>0.771003</td>\n",
       "      <td>0.176971</td>\n",
       "      <td>0.785395</td>\n",
       "    </tr>\n",
       "    <tr>\n",
       "      <th>QJDNX</th>\n",
       "      <td>0.701195</td>\n",
       "      <td>0.944323</td>\n",
       "      <td>0.182889</td>\n",
       "    </tr>\n",
       "    <tr>\n",
       "      <th>ZQYSV</th>\n",
       "      <td>0.062242</td>\n",
       "      <td>0.689633</td>\n",
       "      <td>0.324275</td>\n",
       "    </tr>\n",
       "    <tr>\n",
       "      <th>PQTNH</th>\n",
       "      <td>0.003968</td>\n",
       "      <td>0.636087</td>\n",
       "      <td>0.193623</td>\n",
       "    </tr>\n",
       "    <tr>\n",
       "      <th>JSICX</th>\n",
       "      <td>0.438825</td>\n",
       "      <td>0.617890</td>\n",
       "      <td>0.905173</td>\n",
       "    </tr>\n",
       "    <tr>\n",
       "      <th>QLXMR</th>\n",
       "      <td>0.169558</td>\n",
       "      <td>0.331312</td>\n",
       "      <td>0.666697</td>\n",
       "    </tr>\n",
       "    <tr>\n",
       "      <th>USCJN</th>\n",
       "      <td>0.727293</td>\n",
       "      <td>0.685951</td>\n",
       "      <td>0.044708</td>\n",
       "    </tr>\n",
       "    <tr>\n",
       "      <th>MNWKD</th>\n",
       "      <td>0.503648</td>\n",
       "      <td>0.513373</td>\n",
       "      <td>0.186790</td>\n",
       "    </tr>\n",
       "    <tr>\n",
       "      <th>HZSTB</th>\n",
       "      <td>0.988769</td>\n",
       "      <td>0.252028</td>\n",
       "      <td>0.615846</td>\n",
       "    </tr>\n",
       "    <tr>\n",
       "      <th>QDREK</th>\n",
       "      <td>0.486947</td>\n",
       "      <td>0.706181</td>\n",
       "      <td>0.335931</td>\n",
       "    </tr>\n",
       "    <tr>\n",
       "      <th>HLKVU</th>\n",
       "      <td>0.761856</td>\n",
       "      <td>0.978505</td>\n",
       "      <td>0.512084</td>\n",
       "    </tr>\n",
       "    <tr>\n",
       "      <th>CGMKI</th>\n",
       "      <td>0.137543</td>\n",
       "      <td>0.723719</td>\n",
       "      <td>0.926029</td>\n",
       "    </tr>\n",
       "    <tr>\n",
       "      <th>EUVTW</th>\n",
       "      <td>0.917036</td>\n",
       "      <td>0.784808</td>\n",
       "      <td>0.824577</td>\n",
       "    </tr>\n",
       "    <tr>\n",
       "      <th>RWQFY</th>\n",
       "      <td>0.067206</td>\n",
       "      <td>0.065954</td>\n",
       "      <td>0.975462</td>\n",
       "    </tr>\n",
       "    <tr>\n",
       "      <th>DCKNR</th>\n",
       "      <td>0.214238</td>\n",
       "      <td>0.918928</td>\n",
       "      <td>0.858828</td>\n",
       "    </tr>\n",
       "    <tr>\n",
       "      <th>UAYRP</th>\n",
       "      <td>0.856293</td>\n",
       "      <td>0.724409</td>\n",
       "      <td>0.492808</td>\n",
       "    </tr>\n",
       "    <tr>\n",
       "      <th>UWMPK</th>\n",
       "      <td>0.530596</td>\n",
       "      <td>0.125533</td>\n",
       "      <td>0.542421</td>\n",
       "    </tr>\n",
       "    <tr>\n",
       "      <th>PRJLP</th>\n",
       "      <td>0.401097</td>\n",
       "      <td>0.370214</td>\n",
       "      <td>0.856822</td>\n",
       "    </tr>\n",
       "    <tr>\n",
       "      <th>KVBCG</th>\n",
       "      <td>0.707034</td>\n",
       "      <td>0.739665</td>\n",
       "      <td>0.897893</td>\n",
       "    </tr>\n",
       "    <tr>\n",
       "      <th>PRCSG</th>\n",
       "      <td>0.369692</td>\n",
       "      <td>0.270796</td>\n",
       "      <td>0.044016</td>\n",
       "    </tr>\n",
       "    <tr>\n",
       "      <th>UAGFW</th>\n",
       "      <td>0.580876</td>\n",
       "      <td>0.069562</td>\n",
       "      <td>0.545583</td>\n",
       "    </tr>\n",
       "    <tr>\n",
       "      <th>INBWI</th>\n",
       "      <td>0.071706</td>\n",
       "      <td>0.442665</td>\n",
       "      <td>0.381714</td>\n",
       "    </tr>\n",
       "    <tr>\n",
       "      <th>SFYLE</th>\n",
       "      <td>0.690248</td>\n",
       "      <td>0.532404</td>\n",
       "      <td>0.765468</td>\n",
       "    </tr>\n",
       "    <tr>\n",
       "      <th>VCZCV</th>\n",
       "      <td>0.713949</td>\n",
       "      <td>0.311636</td>\n",
       "      <td>0.940036</td>\n",
       "    </tr>\n",
       "    <tr>\n",
       "      <th>CXDYW</th>\n",
       "      <td>0.723487</td>\n",
       "      <td>0.371965</td>\n",
       "      <td>0.209908</td>\n",
       "    </tr>\n",
       "    <tr>\n",
       "      <th>XIELZ</th>\n",
       "      <td>0.912733</td>\n",
       "      <td>0.820298</td>\n",
       "      <td>0.535049</td>\n",
       "    </tr>\n",
       "    <tr>\n",
       "      <th>ZUBGF</th>\n",
       "      <td>0.918403</td>\n",
       "      <td>0.460782</td>\n",
       "      <td>0.225999</td>\n",
       "    </tr>\n",
       "    <tr>\n",
       "      <th>...</th>\n",
       "      <td>...</td>\n",
       "      <td>...</td>\n",
       "      <td>...</td>\n",
       "    </tr>\n",
       "    <tr>\n",
       "      <th>CFSFK</th>\n",
       "      <td>0.474279</td>\n",
       "      <td>0.309591</td>\n",
       "      <td>0.342988</td>\n",
       "    </tr>\n",
       "    <tr>\n",
       "      <th>ZPGHC</th>\n",
       "      <td>0.376403</td>\n",
       "      <td>0.697300</td>\n",
       "      <td>0.995236</td>\n",
       "    </tr>\n",
       "    <tr>\n",
       "      <th>EKKCI</th>\n",
       "      <td>0.810871</td>\n",
       "      <td>0.672171</td>\n",
       "      <td>0.931300</td>\n",
       "    </tr>\n",
       "    <tr>\n",
       "      <th>QHIAQ</th>\n",
       "      <td>0.152662</td>\n",
       "      <td>0.100738</td>\n",
       "      <td>0.728190</td>\n",
       "    </tr>\n",
       "    <tr>\n",
       "      <th>STESW</th>\n",
       "      <td>0.397334</td>\n",
       "      <td>0.716832</td>\n",
       "      <td>0.353235</td>\n",
       "    </tr>\n",
       "    <tr>\n",
       "      <th>JWJTI</th>\n",
       "      <td>0.965420</td>\n",
       "      <td>0.134836</td>\n",
       "      <td>0.790056</td>\n",
       "    </tr>\n",
       "    <tr>\n",
       "      <th>BYGBP</th>\n",
       "      <td>0.572270</td>\n",
       "      <td>0.354002</td>\n",
       "      <td>0.453522</td>\n",
       "    </tr>\n",
       "    <tr>\n",
       "      <th>KYYKP</th>\n",
       "      <td>0.351419</td>\n",
       "      <td>0.472935</td>\n",
       "      <td>0.742435</td>\n",
       "    </tr>\n",
       "    <tr>\n",
       "      <th>HANJT</th>\n",
       "      <td>0.113127</td>\n",
       "      <td>0.208081</td>\n",
       "      <td>0.663740</td>\n",
       "    </tr>\n",
       "    <tr>\n",
       "      <th>EIKND</th>\n",
       "      <td>0.584416</td>\n",
       "      <td>0.371015</td>\n",
       "      <td>0.288268</td>\n",
       "    </tr>\n",
       "    <tr>\n",
       "      <th>FLQWP</th>\n",
       "      <td>0.513314</td>\n",
       "      <td>0.042124</td>\n",
       "      <td>0.070918</td>\n",
       "    </tr>\n",
       "    <tr>\n",
       "      <th>AMDIG</th>\n",
       "      <td>0.866937</td>\n",
       "      <td>0.110121</td>\n",
       "      <td>0.123759</td>\n",
       "    </tr>\n",
       "    <tr>\n",
       "      <th>IQPJO</th>\n",
       "      <td>0.251770</td>\n",
       "      <td>0.731183</td>\n",
       "      <td>0.394986</td>\n",
       "    </tr>\n",
       "    <tr>\n",
       "      <th>GPCKH</th>\n",
       "      <td>0.854850</td>\n",
       "      <td>0.754822</td>\n",
       "      <td>0.959383</td>\n",
       "    </tr>\n",
       "    <tr>\n",
       "      <th>XTXMG</th>\n",
       "      <td>0.554508</td>\n",
       "      <td>0.828912</td>\n",
       "      <td>0.983670</td>\n",
       "    </tr>\n",
       "    <tr>\n",
       "      <th>DXDVA</th>\n",
       "      <td>0.300553</td>\n",
       "      <td>0.350596</td>\n",
       "      <td>0.153106</td>\n",
       "    </tr>\n",
       "    <tr>\n",
       "      <th>TDJEM</th>\n",
       "      <td>0.901216</td>\n",
       "      <td>0.186300</td>\n",
       "      <td>0.487656</td>\n",
       "    </tr>\n",
       "    <tr>\n",
       "      <th>RHWLV</th>\n",
       "      <td>0.554121</td>\n",
       "      <td>0.224476</td>\n",
       "      <td>0.809813</td>\n",
       "    </tr>\n",
       "    <tr>\n",
       "      <th>DNKUH</th>\n",
       "      <td>0.239042</td>\n",
       "      <td>0.873237</td>\n",
       "      <td>0.440707</td>\n",
       "    </tr>\n",
       "    <tr>\n",
       "      <th>ESDXY</th>\n",
       "      <td>0.607673</td>\n",
       "      <td>0.591177</td>\n",
       "      <td>0.875590</td>\n",
       "    </tr>\n",
       "    <tr>\n",
       "      <th>XLDSL</th>\n",
       "      <td>0.149879</td>\n",
       "      <td>0.536145</td>\n",
       "      <td>0.426522</td>\n",
       "    </tr>\n",
       "    <tr>\n",
       "      <th>JJHFV</th>\n",
       "      <td>0.569084</td>\n",
       "      <td>0.824654</td>\n",
       "      <td>0.962184</td>\n",
       "    </tr>\n",
       "    <tr>\n",
       "      <th>BBLFD</th>\n",
       "      <td>0.452510</td>\n",
       "      <td>0.042593</td>\n",
       "      <td>0.451400</td>\n",
       "    </tr>\n",
       "    <tr>\n",
       "      <th>YPJUJ</th>\n",
       "      <td>0.664753</td>\n",
       "      <td>0.509992</td>\n",
       "      <td>0.429213</td>\n",
       "    </tr>\n",
       "    <tr>\n",
       "      <th>BQVGR</th>\n",
       "      <td>0.724047</td>\n",
       "      <td>0.761575</td>\n",
       "      <td>0.340002</td>\n",
       "    </tr>\n",
       "    <tr>\n",
       "      <th>OHYYS</th>\n",
       "      <td>0.682808</td>\n",
       "      <td>0.112688</td>\n",
       "      <td>0.562751</td>\n",
       "    </tr>\n",
       "    <tr>\n",
       "      <th>BVPSB</th>\n",
       "      <td>0.236910</td>\n",
       "      <td>0.516318</td>\n",
       "      <td>0.546053</td>\n",
       "    </tr>\n",
       "    <tr>\n",
       "      <th>TPOGW</th>\n",
       "      <td>0.333553</td>\n",
       "      <td>0.962882</td>\n",
       "      <td>0.397209</td>\n",
       "    </tr>\n",
       "    <tr>\n",
       "      <th>JCKZW</th>\n",
       "      <td>0.454375</td>\n",
       "      <td>0.980522</td>\n",
       "      <td>0.277500</td>\n",
       "    </tr>\n",
       "    <tr>\n",
       "      <th>KFIGD</th>\n",
       "      <td>0.350337</td>\n",
       "      <td>0.701970</td>\n",
       "      <td>0.821250</td>\n",
       "    </tr>\n",
       "  </tbody>\n",
       "</table>\n",
       "<p>1000 rows × 3 columns</p>\n",
       "</div>"
      ],
      "text/plain": [
       "             f1        f2        f3\n",
       "IVDLC  0.693717  0.434743  0.090772\n",
       "YZQQF  0.963948  0.445519  0.679572\n",
       "WNRJP  0.443490  0.866259  0.397596\n",
       "BERKW  0.771003  0.176971  0.785395\n",
       "QJDNX  0.701195  0.944323  0.182889\n",
       "ZQYSV  0.062242  0.689633  0.324275\n",
       "PQTNH  0.003968  0.636087  0.193623\n",
       "JSICX  0.438825  0.617890  0.905173\n",
       "QLXMR  0.169558  0.331312  0.666697\n",
       "USCJN  0.727293  0.685951  0.044708\n",
       "MNWKD  0.503648  0.513373  0.186790\n",
       "HZSTB  0.988769  0.252028  0.615846\n",
       "QDREK  0.486947  0.706181  0.335931\n",
       "HLKVU  0.761856  0.978505  0.512084\n",
       "CGMKI  0.137543  0.723719  0.926029\n",
       "EUVTW  0.917036  0.784808  0.824577\n",
       "RWQFY  0.067206  0.065954  0.975462\n",
       "DCKNR  0.214238  0.918928  0.858828\n",
       "UAYRP  0.856293  0.724409  0.492808\n",
       "UWMPK  0.530596  0.125533  0.542421\n",
       "PRJLP  0.401097  0.370214  0.856822\n",
       "KVBCG  0.707034  0.739665  0.897893\n",
       "PRCSG  0.369692  0.270796  0.044016\n",
       "UAGFW  0.580876  0.069562  0.545583\n",
       "INBWI  0.071706  0.442665  0.381714\n",
       "SFYLE  0.690248  0.532404  0.765468\n",
       "VCZCV  0.713949  0.311636  0.940036\n",
       "CXDYW  0.723487  0.371965  0.209908\n",
       "XIELZ  0.912733  0.820298  0.535049\n",
       "ZUBGF  0.918403  0.460782  0.225999\n",
       "...         ...       ...       ...\n",
       "CFSFK  0.474279  0.309591  0.342988\n",
       "ZPGHC  0.376403  0.697300  0.995236\n",
       "EKKCI  0.810871  0.672171  0.931300\n",
       "QHIAQ  0.152662  0.100738  0.728190\n",
       "STESW  0.397334  0.716832  0.353235\n",
       "JWJTI  0.965420  0.134836  0.790056\n",
       "BYGBP  0.572270  0.354002  0.453522\n",
       "KYYKP  0.351419  0.472935  0.742435\n",
       "HANJT  0.113127  0.208081  0.663740\n",
       "EIKND  0.584416  0.371015  0.288268\n",
       "FLQWP  0.513314  0.042124  0.070918\n",
       "AMDIG  0.866937  0.110121  0.123759\n",
       "IQPJO  0.251770  0.731183  0.394986\n",
       "GPCKH  0.854850  0.754822  0.959383\n",
       "XTXMG  0.554508  0.828912  0.983670\n",
       "DXDVA  0.300553  0.350596  0.153106\n",
       "TDJEM  0.901216  0.186300  0.487656\n",
       "RHWLV  0.554121  0.224476  0.809813\n",
       "DNKUH  0.239042  0.873237  0.440707\n",
       "ESDXY  0.607673  0.591177  0.875590\n",
       "XLDSL  0.149879  0.536145  0.426522\n",
       "JJHFV  0.569084  0.824654  0.962184\n",
       "BBLFD  0.452510  0.042593  0.451400\n",
       "YPJUJ  0.664753  0.509992  0.429213\n",
       "BQVGR  0.724047  0.761575  0.340002\n",
       "OHYYS  0.682808  0.112688  0.562751\n",
       "BVPSB  0.236910  0.516318  0.546053\n",
       "TPOGW  0.333553  0.962882  0.397209\n",
       "JCKZW  0.454375  0.980522  0.277500\n",
       "KFIGD  0.350337  0.701970  0.821250\n",
       "\n",
       "[1000 rows x 3 columns]"
      ]
     },
     "execution_count": 36,
     "metadata": {},
     "output_type": "execute_result"
    }
   ],
   "source": [
    "factors"
   ]
  },
  {
   "cell_type": "markdown",
   "metadata": {},
   "source": [
    "Vector correlations between each factor and the portfolio may not indicate too much:"
   ]
  },
  {
   "cell_type": "code",
   "execution_count": 37,
   "metadata": {
    "collapsed": false
   },
   "outputs": [
    {
     "data": {
      "text/plain": [
       "f1    0.393602\n",
       "f2   -0.696525\n",
       "f3    0.163246\n",
       "dtype: float64"
      ]
     },
     "execution_count": 37,
     "metadata": {},
     "output_type": "execute_result"
    }
   ],
   "source": [
    "factors.corrwith(port)"
   ]
  },
  {
   "cell_type": "markdown",
   "metadata": {},
   "source": [
    "The standard way to compute the factor exposures is by least squares regression; using\n",
    "pandas.ols with factors as the explanatory variables we can compute exposures over\n",
    "the entire set of tickers:"
   ]
  },
  {
   "cell_type": "code",
   "execution_count": 38,
   "metadata": {
    "collapsed": false,
    "scrolled": true
   },
   "outputs": [
    {
     "name": "stderr",
     "output_type": "stream",
     "text": [
      "C:\\Users\\Brad Sun\\Anaconda3\\lib\\site-packages\\IPython\\core\\interactiveshell.py:2881: FutureWarning: The pandas.stats.ols module is deprecated and will be removed in a future version. We refer to external packages like statsmodels, see some examples here: http://www.statsmodels.org/stable/regression.html\n",
      "  exec(code_obj, self.user_global_ns, self.user_ns)\n"
     ]
    },
    {
     "data": {
      "text/plain": [
       "f1           0.723370\n",
       "f2          -1.213368\n",
       "f3           0.287926\n",
       "intercept    0.517561\n",
       "dtype: float64"
      ]
     },
     "execution_count": 38,
     "metadata": {},
     "output_type": "execute_result"
    }
   ],
   "source": [
    "pd.ols(y=port, x=factors).beta"
   ]
  },
  {
   "cell_type": "code",
   "execution_count": 49,
   "metadata": {
    "collapsed": false
   },
   "outputs": [
    {
     "name": "stdout",
     "output_type": "stream",
     "text": [
      "                            OLS Regression Results                            \n",
      "==============================================================================\n",
      "Dep. Variable:                      y   R-squared:                       0.674\n",
      "Model:                            OLS   Adj. R-squared:                  0.673\n",
      "Method:                 Least Squares   F-statistic:                     685.0\n",
      "Date:                Tue, 17 Jan 2017   Prob (F-statistic):          1.55e-241\n",
      "Time:                        09:54:06   Log-Likelihood:                -185.24\n",
      "No. Observations:                1000   AIC:                             378.5\n",
      "Df Residuals:                     996   BIC:                             398.1\n",
      "Df Model:                           3                                         \n",
      "Covariance Type:            nonrobust                                         \n",
      "==============================================================================\n",
      "                 coef    std err          t      P>|t|      [95.0% Conf. Int.]\n",
      "------------------------------------------------------------------------------\n",
      "const          0.5176      0.030     17.471      0.000         0.459     0.576\n",
      "f1             0.7234      0.032     22.464      0.000         0.660     0.787\n",
      "f2            -1.2134      0.031    -38.598      0.000        -1.275    -1.152\n",
      "f3             0.2879      0.032      8.994      0.000         0.225     0.351\n",
      "==============================================================================\n",
      "Omnibus:                      647.948   Durbin-Watson:                   1.980\n",
      "Prob(Omnibus):                  0.000   Jarque-Bera (JB):               59.260\n",
      "Skew:                          -0.073   Prob(JB):                     1.35e-13\n",
      "Kurtosis:                       1.816   Cond. No.                         6.29\n",
      "==============================================================================\n",
      "\n",
      "Warnings:\n",
      "[1] Standard Errors assume that the covariance matrix of the errors is correctly specified.\n"
     ]
    }
   ],
   "source": [
    "# Use the updated new version of code to generate the same result as above.\n",
    "import statsmodels.api as sm\n",
    "\n",
    "X = sm.add_constant(factors)\n",
    "y = port\n",
    "\n",
    "mod1 = sm.OLS(y, X)\n",
    "res1 = mod1.fit()\n",
    "print(res1.summary())"
   ]
  },
  {
   "cell_type": "code",
   "execution_count": 51,
   "metadata": {
    "collapsed": false
   },
   "outputs": [
    {
     "data": {
      "text/plain": [
       "const    0.517561\n",
       "f1       0.723370\n",
       "f2      -1.213368\n",
       "f3       0.287926\n",
       "dtype: float64"
      ]
     },
     "execution_count": 51,
     "metadata": {},
     "output_type": "execute_result"
    }
   ],
   "source": [
    "res1.params"
   ]
  },
  {
   "cell_type": "markdown",
   "metadata": {},
   "source": [
    "As you can see, the original factor weights can nearly be recovered since there was not\n",
    "too much additional random noise added to the portfolio. Using groupby you can compute\n",
    "exposures industry by industry. To do so, write a function like so:"
   ]
  },
  {
   "cell_type": "code",
   "execution_count": 2,
   "metadata": {
    "collapsed": true
   },
   "outputs": [],
   "source": [
    "def beta_exposure(chunk, factors = None):\n",
    "    return pd.ols(y=chunk, x=factors).beta"
   ]
  },
  {
   "cell_type": "markdown",
   "metadata": {
    "collapsed": true
   },
   "source": [
    "Then, group by industries and apply that function, passing the DataFrame of factor\n",
    "loadings:"
   ]
  },
  {
   "cell_type": "code",
   "execution_count": null,
   "metadata": {
    "collapsed": true
   },
   "outputs": [],
   "source": [
    "by_ind = port.groupby(industries)"
   ]
  },
  {
   "cell_type": "code",
   "execution_count": null,
   "metadata": {
    "collapsed": true
   },
   "outputs": [],
   "source": [
    "exposures = by_ind.apply(beta_exposure, factors = factors)"
   ]
  },
  {
   "cell_type": "code",
   "execution_count": null,
   "metadata": {
    "collapsed": true
   },
   "outputs": [],
   "source": [
    "exposures.unstack()"
   ]
  },
  {
   "cell_type": "markdown",
   "metadata": {},
   "source": [
    "### Decile and Quartile Analysis"
   ]
  },
  {
   "cell_type": "markdown",
   "metadata": {
    "collapsed": true
   },
   "source": [
    "Analyzing data based on sample quantiles is another important tool for financial analysts.\n",
    "For example, the performance of a stock portfolio could be broken down into\n",
    "quartiles (four equal-sized chunks) based on each stock’s price-to-earnings. Using pan\n",
    "das.qcut combined with groupby makes quantile analysis reasonably straightforward."
   ]
  },
  {
   "cell_type": "markdown",
   "metadata": {
    "collapsed": true
   },
   "source": [
    "As an example, let’s consider a simple trend following or momentum strategy trading\n",
    "the S&P 500 index via the SPY exchange-traded fund. You can download the price\n",
    "history from Yahoo! Finance:"
   ]
  },
  {
   "cell_type": "code",
   "execution_count": 1,
   "metadata": {
    "collapsed": true
   },
   "outputs": [],
   "source": [
    "import pandas as pd\n",
    "import numpy as np\n",
    "import pandas_datareader.data as wb\n",
    "from datetime import datetime\n",
    "import matplotlib.pyplot as plt\n",
    "import seaborn\n",
    "%matplotlib inline"
   ]
  },
  {
   "cell_type": "code",
   "execution_count": 5,
   "metadata": {
    "collapsed": true
   },
   "outputs": [],
   "source": [
    "data = wb.DataReader('spy', data_source = 'yahoo', start = datetime(2006,1,1))"
   ]
  },
  {
   "cell_type": "code",
   "execution_count": 6,
   "metadata": {
    "collapsed": false,
    "scrolled": true
   },
   "outputs": [
    {
     "data": {
      "text/html": [
       "<div>\n",
       "<table border=\"1\" class=\"dataframe\">\n",
       "  <thead>\n",
       "    <tr style=\"text-align: right;\">\n",
       "      <th></th>\n",
       "      <th>Open</th>\n",
       "      <th>High</th>\n",
       "      <th>Low</th>\n",
       "      <th>Close</th>\n",
       "      <th>Volume</th>\n",
       "      <th>Adj Close</th>\n",
       "    </tr>\n",
       "    <tr>\n",
       "      <th>Date</th>\n",
       "      <th></th>\n",
       "      <th></th>\n",
       "      <th></th>\n",
       "      <th></th>\n",
       "      <th></th>\n",
       "      <th></th>\n",
       "    </tr>\n",
       "  </thead>\n",
       "  <tbody>\n",
       "    <tr>\n",
       "      <th>2006-01-03</th>\n",
       "      <td>125.190002</td>\n",
       "      <td>127.000000</td>\n",
       "      <td>124.389999</td>\n",
       "      <td>126.699997</td>\n",
       "      <td>73256700</td>\n",
       "      <td>101.027353</td>\n",
       "    </tr>\n",
       "    <tr>\n",
       "      <th>2006-01-04</th>\n",
       "      <td>126.860001</td>\n",
       "      <td>127.489998</td>\n",
       "      <td>126.699997</td>\n",
       "      <td>127.300003</td>\n",
       "      <td>51899600</td>\n",
       "      <td>101.505782</td>\n",
       "    </tr>\n",
       "    <tr>\n",
       "      <th>2006-01-05</th>\n",
       "      <td>127.150002</td>\n",
       "      <td>127.589996</td>\n",
       "      <td>126.879997</td>\n",
       "      <td>127.379997</td>\n",
       "      <td>47307500</td>\n",
       "      <td>101.569568</td>\n",
       "    </tr>\n",
       "    <tr>\n",
       "      <th>2006-01-06</th>\n",
       "      <td>128.020004</td>\n",
       "      <td>128.580002</td>\n",
       "      <td>127.360001</td>\n",
       "      <td>128.440002</td>\n",
       "      <td>62885900</td>\n",
       "      <td>102.414789</td>\n",
       "    </tr>\n",
       "    <tr>\n",
       "      <th>2006-01-09</th>\n",
       "      <td>128.419998</td>\n",
       "      <td>129.059998</td>\n",
       "      <td>128.380005</td>\n",
       "      <td>128.770004</td>\n",
       "      <td>43527400</td>\n",
       "      <td>102.677924</td>\n",
       "    </tr>\n",
       "    <tr>\n",
       "      <th>2006-01-10</th>\n",
       "      <td>128.389999</td>\n",
       "      <td>128.979996</td>\n",
       "      <td>128.259995</td>\n",
       "      <td>128.899994</td>\n",
       "      <td>44960800</td>\n",
       "      <td>102.781574</td>\n",
       "    </tr>\n",
       "    <tr>\n",
       "      <th>2006-01-11</th>\n",
       "      <td>129.020004</td>\n",
       "      <td>129.440002</td>\n",
       "      <td>128.729996</td>\n",
       "      <td>129.309998</td>\n",
       "      <td>49598900</td>\n",
       "      <td>103.108501</td>\n",
       "    </tr>\n",
       "    <tr>\n",
       "      <th>2006-01-12</th>\n",
       "      <td>129.080002</td>\n",
       "      <td>129.279999</td>\n",
       "      <td>128.440002</td>\n",
       "      <td>128.800003</td>\n",
       "      <td>40509200</td>\n",
       "      <td>102.701844</td>\n",
       "    </tr>\n",
       "    <tr>\n",
       "      <th>2006-01-13</th>\n",
       "      <td>128.570007</td>\n",
       "      <td>128.899994</td>\n",
       "      <td>128.199997</td>\n",
       "      <td>128.679993</td>\n",
       "      <td>44856700</td>\n",
       "      <td>102.606151</td>\n",
       "    </tr>\n",
       "    <tr>\n",
       "      <th>2006-01-17</th>\n",
       "      <td>128.199997</td>\n",
       "      <td>128.419998</td>\n",
       "      <td>127.809998</td>\n",
       "      <td>128.330002</td>\n",
       "      <td>52066600</td>\n",
       "      <td>102.327077</td>\n",
       "    </tr>\n",
       "    <tr>\n",
       "      <th>2006-01-18</th>\n",
       "      <td>127.580002</td>\n",
       "      <td>128.899994</td>\n",
       "      <td>127.160004</td>\n",
       "      <td>127.820000</td>\n",
       "      <td>75067600</td>\n",
       "      <td>101.920414</td>\n",
       "    </tr>\n",
       "    <tr>\n",
       "      <th>2006-01-19</th>\n",
       "      <td>128.130005</td>\n",
       "      <td>128.770004</td>\n",
       "      <td>127.809998</td>\n",
       "      <td>128.309998</td>\n",
       "      <td>81530400</td>\n",
       "      <td>102.311126</td>\n",
       "    </tr>\n",
       "    <tr>\n",
       "      <th>2006-01-20</th>\n",
       "      <td>128.279999</td>\n",
       "      <td>128.309998</td>\n",
       "      <td>125.970001</td>\n",
       "      <td>125.970001</td>\n",
       "      <td>114957800</td>\n",
       "      <td>100.445273</td>\n",
       "    </tr>\n",
       "    <tr>\n",
       "      <th>2006-01-23</th>\n",
       "      <td>126.209999</td>\n",
       "      <td>126.820000</td>\n",
       "      <td>126.129997</td>\n",
       "      <td>126.419998</td>\n",
       "      <td>67017400</td>\n",
       "      <td>100.804089</td>\n",
       "    </tr>\n",
       "    <tr>\n",
       "      <th>2006-01-24</th>\n",
       "      <td>126.629997</td>\n",
       "      <td>127.150002</td>\n",
       "      <td>126.419998</td>\n",
       "      <td>126.550003</td>\n",
       "      <td>53008800</td>\n",
       "      <td>100.907751</td>\n",
       "    </tr>\n",
       "    <tr>\n",
       "      <th>2006-01-25</th>\n",
       "      <td>127.040001</td>\n",
       "      <td>127.180000</td>\n",
       "      <td>125.839996</td>\n",
       "      <td>126.660004</td>\n",
       "      <td>87747700</td>\n",
       "      <td>100.995463</td>\n",
       "    </tr>\n",
       "    <tr>\n",
       "      <th>2006-01-26</th>\n",
       "      <td>127.250000</td>\n",
       "      <td>127.669998</td>\n",
       "      <td>126.760002</td>\n",
       "      <td>127.360001</td>\n",
       "      <td>71294000</td>\n",
       "      <td>101.553623</td>\n",
       "    </tr>\n",
       "    <tr>\n",
       "      <th>2006-01-27</th>\n",
       "      <td>127.660004</td>\n",
       "      <td>128.660004</td>\n",
       "      <td>127.449997</td>\n",
       "      <td>128.539993</td>\n",
       "      <td>65771200</td>\n",
       "      <td>102.494519</td>\n",
       "    </tr>\n",
       "    <tr>\n",
       "      <th>2006-01-30</th>\n",
       "      <td>128.440002</td>\n",
       "      <td>128.809998</td>\n",
       "      <td>128.350006</td>\n",
       "      <td>128.440002</td>\n",
       "      <td>33709600</td>\n",
       "      <td>102.414789</td>\n",
       "    </tr>\n",
       "    <tr>\n",
       "      <th>2006-01-31</th>\n",
       "      <td>128.320007</td>\n",
       "      <td>128.539993</td>\n",
       "      <td>127.489998</td>\n",
       "      <td>127.500000</td>\n",
       "      <td>72937000</td>\n",
       "      <td>101.665255</td>\n",
       "    </tr>\n",
       "    <tr>\n",
       "      <th>2006-02-01</th>\n",
       "      <td>127.820000</td>\n",
       "      <td>128.429993</td>\n",
       "      <td>127.720001</td>\n",
       "      <td>128.389999</td>\n",
       "      <td>63561000</td>\n",
       "      <td>102.374918</td>\n",
       "    </tr>\n",
       "    <tr>\n",
       "      <th>2006-02-02</th>\n",
       "      <td>128.100006</td>\n",
       "      <td>128.139999</td>\n",
       "      <td>126.800003</td>\n",
       "      <td>126.900002</td>\n",
       "      <td>83626900</td>\n",
       "      <td>101.186831</td>\n",
       "    </tr>\n",
       "    <tr>\n",
       "      <th>2006-02-03</th>\n",
       "      <td>126.580002</td>\n",
       "      <td>128.389999</td>\n",
       "      <td>126.139999</td>\n",
       "      <td>126.269997</td>\n",
       "      <td>86040400</td>\n",
       "      <td>100.684481</td>\n",
       "    </tr>\n",
       "    <tr>\n",
       "      <th>2006-02-06</th>\n",
       "      <td>126.440002</td>\n",
       "      <td>126.800003</td>\n",
       "      <td>126.169998</td>\n",
       "      <td>126.599998</td>\n",
       "      <td>45511900</td>\n",
       "      <td>100.947616</td>\n",
       "    </tr>\n",
       "    <tr>\n",
       "      <th>2006-02-07</th>\n",
       "      <td>126.379997</td>\n",
       "      <td>126.660004</td>\n",
       "      <td>125.400002</td>\n",
       "      <td>125.480003</td>\n",
       "      <td>71208100</td>\n",
       "      <td>100.054561</td>\n",
       "    </tr>\n",
       "    <tr>\n",
       "      <th>2006-02-08</th>\n",
       "      <td>125.849998</td>\n",
       "      <td>128.100006</td>\n",
       "      <td>125.599998</td>\n",
       "      <td>126.620003</td>\n",
       "      <td>59422200</td>\n",
       "      <td>100.963567</td>\n",
       "    </tr>\n",
       "    <tr>\n",
       "      <th>2006-02-09</th>\n",
       "      <td>126.919998</td>\n",
       "      <td>127.599998</td>\n",
       "      <td>126.370003</td>\n",
       "      <td>126.410004</td>\n",
       "      <td>62023300</td>\n",
       "      <td>100.796119</td>\n",
       "    </tr>\n",
       "    <tr>\n",
       "      <th>2006-02-10</th>\n",
       "      <td>126.430000</td>\n",
       "      <td>127.129997</td>\n",
       "      <td>125.449997</td>\n",
       "      <td>126.639999</td>\n",
       "      <td>64508700</td>\n",
       "      <td>100.979512</td>\n",
       "    </tr>\n",
       "    <tr>\n",
       "      <th>2006-02-13</th>\n",
       "      <td>126.599998</td>\n",
       "      <td>126.790001</td>\n",
       "      <td>125.949997</td>\n",
       "      <td>126.410004</td>\n",
       "      <td>52308700</td>\n",
       "      <td>100.796119</td>\n",
       "    </tr>\n",
       "    <tr>\n",
       "      <th>2006-02-14</th>\n",
       "      <td>126.459999</td>\n",
       "      <td>128.029999</td>\n",
       "      <td>126.209999</td>\n",
       "      <td>127.750000</td>\n",
       "      <td>90964400</td>\n",
       "      <td>101.864598</td>\n",
       "    </tr>\n",
       "    <tr>\n",
       "      <th>...</th>\n",
       "      <td>...</td>\n",
       "      <td>...</td>\n",
       "      <td>...</td>\n",
       "      <td>...</td>\n",
       "      <td>...</td>\n",
       "      <td>...</td>\n",
       "    </tr>\n",
       "    <tr>\n",
       "      <th>2016-11-23</th>\n",
       "      <td>219.979996</td>\n",
       "      <td>220.759995</td>\n",
       "      <td>219.750000</td>\n",
       "      <td>220.699997</td>\n",
       "      <td>56620200</td>\n",
       "      <td>219.406793</td>\n",
       "    </tr>\n",
       "    <tr>\n",
       "      <th>2016-11-25</th>\n",
       "      <td>221.100006</td>\n",
       "      <td>221.559998</td>\n",
       "      <td>221.009995</td>\n",
       "      <td>221.520004</td>\n",
       "      <td>37872300</td>\n",
       "      <td>220.221996</td>\n",
       "    </tr>\n",
       "    <tr>\n",
       "      <th>2016-11-28</th>\n",
       "      <td>221.160004</td>\n",
       "      <td>221.479996</td>\n",
       "      <td>220.360001</td>\n",
       "      <td>220.479996</td>\n",
       "      <td>76572500</td>\n",
       "      <td>219.188081</td>\n",
       "    </tr>\n",
       "    <tr>\n",
       "      <th>2016-11-29</th>\n",
       "      <td>220.520004</td>\n",
       "      <td>221.440002</td>\n",
       "      <td>220.169998</td>\n",
       "      <td>220.910004</td>\n",
       "      <td>69886700</td>\n",
       "      <td>219.615570</td>\n",
       "    </tr>\n",
       "    <tr>\n",
       "      <th>2016-11-30</th>\n",
       "      <td>221.630005</td>\n",
       "      <td>221.820007</td>\n",
       "      <td>220.309998</td>\n",
       "      <td>220.380005</td>\n",
       "      <td>113291800</td>\n",
       "      <td>219.088676</td>\n",
       "    </tr>\n",
       "    <tr>\n",
       "      <th>2016-12-01</th>\n",
       "      <td>220.729996</td>\n",
       "      <td>220.729996</td>\n",
       "      <td>219.149994</td>\n",
       "      <td>219.570007</td>\n",
       "      <td>79040500</td>\n",
       "      <td>218.283425</td>\n",
       "    </tr>\n",
       "    <tr>\n",
       "      <th>2016-12-02</th>\n",
       "      <td>219.669998</td>\n",
       "      <td>220.250000</td>\n",
       "      <td>219.259995</td>\n",
       "      <td>219.679993</td>\n",
       "      <td>74840300</td>\n",
       "      <td>218.392766</td>\n",
       "    </tr>\n",
       "    <tr>\n",
       "      <th>2016-12-05</th>\n",
       "      <td>220.649994</td>\n",
       "      <td>221.399994</td>\n",
       "      <td>220.419998</td>\n",
       "      <td>221.000000</td>\n",
       "      <td>67837800</td>\n",
       "      <td>219.705039</td>\n",
       "    </tr>\n",
       "    <tr>\n",
       "      <th>2016-12-06</th>\n",
       "      <td>221.220001</td>\n",
       "      <td>221.740005</td>\n",
       "      <td>220.660004</td>\n",
       "      <td>221.699997</td>\n",
       "      <td>59877400</td>\n",
       "      <td>220.400934</td>\n",
       "    </tr>\n",
       "    <tr>\n",
       "      <th>2016-12-07</th>\n",
       "      <td>221.520004</td>\n",
       "      <td>224.669998</td>\n",
       "      <td>221.380005</td>\n",
       "      <td>224.600006</td>\n",
       "      <td>110738100</td>\n",
       "      <td>223.283950</td>\n",
       "    </tr>\n",
       "    <tr>\n",
       "      <th>2016-12-08</th>\n",
       "      <td>224.570007</td>\n",
       "      <td>225.699997</td>\n",
       "      <td>224.259995</td>\n",
       "      <td>225.149994</td>\n",
       "      <td>99714400</td>\n",
       "      <td>223.830715</td>\n",
       "    </tr>\n",
       "    <tr>\n",
       "      <th>2016-12-09</th>\n",
       "      <td>225.410004</td>\n",
       "      <td>226.529999</td>\n",
       "      <td>225.369995</td>\n",
       "      <td>226.509995</td>\n",
       "      <td>88005800</td>\n",
       "      <td>225.182747</td>\n",
       "    </tr>\n",
       "    <tr>\n",
       "      <th>2016-12-12</th>\n",
       "      <td>226.399994</td>\n",
       "      <td>226.960007</td>\n",
       "      <td>225.759995</td>\n",
       "      <td>226.250000</td>\n",
       "      <td>102016100</td>\n",
       "      <td>224.924276</td>\n",
       "    </tr>\n",
       "    <tr>\n",
       "      <th>2016-12-13</th>\n",
       "      <td>227.020004</td>\n",
       "      <td>228.339996</td>\n",
       "      <td>227.000000</td>\n",
       "      <td>227.759995</td>\n",
       "      <td>110477500</td>\n",
       "      <td>226.425423</td>\n",
       "    </tr>\n",
       "    <tr>\n",
       "      <th>2016-12-14</th>\n",
       "      <td>227.410004</td>\n",
       "      <td>228.229996</td>\n",
       "      <td>225.369995</td>\n",
       "      <td>225.880005</td>\n",
       "      <td>142501800</td>\n",
       "      <td>224.556449</td>\n",
       "    </tr>\n",
       "    <tr>\n",
       "      <th>2016-12-15</th>\n",
       "      <td>226.160004</td>\n",
       "      <td>227.809998</td>\n",
       "      <td>225.889999</td>\n",
       "      <td>226.809998</td>\n",
       "      <td>124972600</td>\n",
       "      <td>225.480992</td>\n",
       "    </tr>\n",
       "    <tr>\n",
       "      <th>2016-12-16</th>\n",
       "      <td>226.009995</td>\n",
       "      <td>226.080002</td>\n",
       "      <td>224.669998</td>\n",
       "      <td>225.039993</td>\n",
       "      <td>156420200</td>\n",
       "      <td>225.039993</td>\n",
       "    </tr>\n",
       "    <tr>\n",
       "      <th>2016-12-19</th>\n",
       "      <td>225.250000</td>\n",
       "      <td>226.020004</td>\n",
       "      <td>225.080002</td>\n",
       "      <td>225.529999</td>\n",
       "      <td>90341100</td>\n",
       "      <td>225.529999</td>\n",
       "    </tr>\n",
       "    <tr>\n",
       "      <th>2016-12-20</th>\n",
       "      <td>226.149994</td>\n",
       "      <td>226.570007</td>\n",
       "      <td>225.880005</td>\n",
       "      <td>226.399994</td>\n",
       "      <td>89838800</td>\n",
       "      <td>226.399994</td>\n",
       "    </tr>\n",
       "    <tr>\n",
       "      <th>2016-12-21</th>\n",
       "      <td>226.250000</td>\n",
       "      <td>226.449997</td>\n",
       "      <td>225.770004</td>\n",
       "      <td>225.770004</td>\n",
       "      <td>67909000</td>\n",
       "      <td>225.770004</td>\n",
       "    </tr>\n",
       "    <tr>\n",
       "      <th>2016-12-22</th>\n",
       "      <td>225.600006</td>\n",
       "      <td>225.740005</td>\n",
       "      <td>224.919998</td>\n",
       "      <td>225.380005</td>\n",
       "      <td>56219100</td>\n",
       "      <td>225.380005</td>\n",
       "    </tr>\n",
       "    <tr>\n",
       "      <th>2016-12-23</th>\n",
       "      <td>225.429993</td>\n",
       "      <td>225.720001</td>\n",
       "      <td>225.210007</td>\n",
       "      <td>225.710007</td>\n",
       "      <td>36251400</td>\n",
       "      <td>225.710007</td>\n",
       "    </tr>\n",
       "    <tr>\n",
       "      <th>2016-12-27</th>\n",
       "      <td>226.020004</td>\n",
       "      <td>226.729996</td>\n",
       "      <td>226.000000</td>\n",
       "      <td>226.270004</td>\n",
       "      <td>41054400</td>\n",
       "      <td>226.270004</td>\n",
       "    </tr>\n",
       "    <tr>\n",
       "      <th>2016-12-28</th>\n",
       "      <td>226.570007</td>\n",
       "      <td>226.589996</td>\n",
       "      <td>224.270004</td>\n",
       "      <td>224.399994</td>\n",
       "      <td>59776300</td>\n",
       "      <td>224.399994</td>\n",
       "    </tr>\n",
       "    <tr>\n",
       "      <th>2016-12-29</th>\n",
       "      <td>224.479996</td>\n",
       "      <td>224.889999</td>\n",
       "      <td>223.839996</td>\n",
       "      <td>224.350006</td>\n",
       "      <td>47719500</td>\n",
       "      <td>224.350006</td>\n",
       "    </tr>\n",
       "    <tr>\n",
       "      <th>2016-12-30</th>\n",
       "      <td>224.729996</td>\n",
       "      <td>224.830002</td>\n",
       "      <td>222.729996</td>\n",
       "      <td>223.529999</td>\n",
       "      <td>101301800</td>\n",
       "      <td>223.529999</td>\n",
       "    </tr>\n",
       "    <tr>\n",
       "      <th>2017-01-03</th>\n",
       "      <td>225.039993</td>\n",
       "      <td>225.830002</td>\n",
       "      <td>223.880005</td>\n",
       "      <td>225.240005</td>\n",
       "      <td>89895000</td>\n",
       "      <td>225.240005</td>\n",
       "    </tr>\n",
       "    <tr>\n",
       "      <th>2017-01-04</th>\n",
       "      <td>225.240005</td>\n",
       "      <td>226.750000</td>\n",
       "      <td>225.240005</td>\n",
       "      <td>226.580002</td>\n",
       "      <td>75801800</td>\n",
       "      <td>226.580002</td>\n",
       "    </tr>\n",
       "    <tr>\n",
       "      <th>2017-01-05</th>\n",
       "      <td>226.270004</td>\n",
       "      <td>226.580002</td>\n",
       "      <td>225.479996</td>\n",
       "      <td>226.399994</td>\n",
       "      <td>77145900</td>\n",
       "      <td>226.399994</td>\n",
       "    </tr>\n",
       "    <tr>\n",
       "      <th>2017-01-06</th>\n",
       "      <td>226.529999</td>\n",
       "      <td>227.750000</td>\n",
       "      <td>225.899994</td>\n",
       "      <td>227.210007</td>\n",
       "      <td>69536300</td>\n",
       "      <td>227.210007</td>\n",
       "    </tr>\n",
       "  </tbody>\n",
       "</table>\n",
       "<p>2773 rows × 6 columns</p>\n",
       "</div>"
      ],
      "text/plain": [
       "                  Open        High         Low       Close     Volume  \\\n",
       "Date                                                                    \n",
       "2006-01-03  125.190002  127.000000  124.389999  126.699997   73256700   \n",
       "2006-01-04  126.860001  127.489998  126.699997  127.300003   51899600   \n",
       "2006-01-05  127.150002  127.589996  126.879997  127.379997   47307500   \n",
       "2006-01-06  128.020004  128.580002  127.360001  128.440002   62885900   \n",
       "2006-01-09  128.419998  129.059998  128.380005  128.770004   43527400   \n",
       "2006-01-10  128.389999  128.979996  128.259995  128.899994   44960800   \n",
       "2006-01-11  129.020004  129.440002  128.729996  129.309998   49598900   \n",
       "2006-01-12  129.080002  129.279999  128.440002  128.800003   40509200   \n",
       "2006-01-13  128.570007  128.899994  128.199997  128.679993   44856700   \n",
       "2006-01-17  128.199997  128.419998  127.809998  128.330002   52066600   \n",
       "2006-01-18  127.580002  128.899994  127.160004  127.820000   75067600   \n",
       "2006-01-19  128.130005  128.770004  127.809998  128.309998   81530400   \n",
       "2006-01-20  128.279999  128.309998  125.970001  125.970001  114957800   \n",
       "2006-01-23  126.209999  126.820000  126.129997  126.419998   67017400   \n",
       "2006-01-24  126.629997  127.150002  126.419998  126.550003   53008800   \n",
       "2006-01-25  127.040001  127.180000  125.839996  126.660004   87747700   \n",
       "2006-01-26  127.250000  127.669998  126.760002  127.360001   71294000   \n",
       "2006-01-27  127.660004  128.660004  127.449997  128.539993   65771200   \n",
       "2006-01-30  128.440002  128.809998  128.350006  128.440002   33709600   \n",
       "2006-01-31  128.320007  128.539993  127.489998  127.500000   72937000   \n",
       "2006-02-01  127.820000  128.429993  127.720001  128.389999   63561000   \n",
       "2006-02-02  128.100006  128.139999  126.800003  126.900002   83626900   \n",
       "2006-02-03  126.580002  128.389999  126.139999  126.269997   86040400   \n",
       "2006-02-06  126.440002  126.800003  126.169998  126.599998   45511900   \n",
       "2006-02-07  126.379997  126.660004  125.400002  125.480003   71208100   \n",
       "2006-02-08  125.849998  128.100006  125.599998  126.620003   59422200   \n",
       "2006-02-09  126.919998  127.599998  126.370003  126.410004   62023300   \n",
       "2006-02-10  126.430000  127.129997  125.449997  126.639999   64508700   \n",
       "2006-02-13  126.599998  126.790001  125.949997  126.410004   52308700   \n",
       "2006-02-14  126.459999  128.029999  126.209999  127.750000   90964400   \n",
       "...                ...         ...         ...         ...        ...   \n",
       "2016-11-23  219.979996  220.759995  219.750000  220.699997   56620200   \n",
       "2016-11-25  221.100006  221.559998  221.009995  221.520004   37872300   \n",
       "2016-11-28  221.160004  221.479996  220.360001  220.479996   76572500   \n",
       "2016-11-29  220.520004  221.440002  220.169998  220.910004   69886700   \n",
       "2016-11-30  221.630005  221.820007  220.309998  220.380005  113291800   \n",
       "2016-12-01  220.729996  220.729996  219.149994  219.570007   79040500   \n",
       "2016-12-02  219.669998  220.250000  219.259995  219.679993   74840300   \n",
       "2016-12-05  220.649994  221.399994  220.419998  221.000000   67837800   \n",
       "2016-12-06  221.220001  221.740005  220.660004  221.699997   59877400   \n",
       "2016-12-07  221.520004  224.669998  221.380005  224.600006  110738100   \n",
       "2016-12-08  224.570007  225.699997  224.259995  225.149994   99714400   \n",
       "2016-12-09  225.410004  226.529999  225.369995  226.509995   88005800   \n",
       "2016-12-12  226.399994  226.960007  225.759995  226.250000  102016100   \n",
       "2016-12-13  227.020004  228.339996  227.000000  227.759995  110477500   \n",
       "2016-12-14  227.410004  228.229996  225.369995  225.880005  142501800   \n",
       "2016-12-15  226.160004  227.809998  225.889999  226.809998  124972600   \n",
       "2016-12-16  226.009995  226.080002  224.669998  225.039993  156420200   \n",
       "2016-12-19  225.250000  226.020004  225.080002  225.529999   90341100   \n",
       "2016-12-20  226.149994  226.570007  225.880005  226.399994   89838800   \n",
       "2016-12-21  226.250000  226.449997  225.770004  225.770004   67909000   \n",
       "2016-12-22  225.600006  225.740005  224.919998  225.380005   56219100   \n",
       "2016-12-23  225.429993  225.720001  225.210007  225.710007   36251400   \n",
       "2016-12-27  226.020004  226.729996  226.000000  226.270004   41054400   \n",
       "2016-12-28  226.570007  226.589996  224.270004  224.399994   59776300   \n",
       "2016-12-29  224.479996  224.889999  223.839996  224.350006   47719500   \n",
       "2016-12-30  224.729996  224.830002  222.729996  223.529999  101301800   \n",
       "2017-01-03  225.039993  225.830002  223.880005  225.240005   89895000   \n",
       "2017-01-04  225.240005  226.750000  225.240005  226.580002   75801800   \n",
       "2017-01-05  226.270004  226.580002  225.479996  226.399994   77145900   \n",
       "2017-01-06  226.529999  227.750000  225.899994  227.210007   69536300   \n",
       "\n",
       "             Adj Close  \n",
       "Date                    \n",
       "2006-01-03  101.027353  \n",
       "2006-01-04  101.505782  \n",
       "2006-01-05  101.569568  \n",
       "2006-01-06  102.414789  \n",
       "2006-01-09  102.677924  \n",
       "2006-01-10  102.781574  \n",
       "2006-01-11  103.108501  \n",
       "2006-01-12  102.701844  \n",
       "2006-01-13  102.606151  \n",
       "2006-01-17  102.327077  \n",
       "2006-01-18  101.920414  \n",
       "2006-01-19  102.311126  \n",
       "2006-01-20  100.445273  \n",
       "2006-01-23  100.804089  \n",
       "2006-01-24  100.907751  \n",
       "2006-01-25  100.995463  \n",
       "2006-01-26  101.553623  \n",
       "2006-01-27  102.494519  \n",
       "2006-01-30  102.414789  \n",
       "2006-01-31  101.665255  \n",
       "2006-02-01  102.374918  \n",
       "2006-02-02  101.186831  \n",
       "2006-02-03  100.684481  \n",
       "2006-02-06  100.947616  \n",
       "2006-02-07  100.054561  \n",
       "2006-02-08  100.963567  \n",
       "2006-02-09  100.796119  \n",
       "2006-02-10  100.979512  \n",
       "2006-02-13  100.796119  \n",
       "2006-02-14  101.864598  \n",
       "...                ...  \n",
       "2016-11-23  219.406793  \n",
       "2016-11-25  220.221996  \n",
       "2016-11-28  219.188081  \n",
       "2016-11-29  219.615570  \n",
       "2016-11-30  219.088676  \n",
       "2016-12-01  218.283425  \n",
       "2016-12-02  218.392766  \n",
       "2016-12-05  219.705039  \n",
       "2016-12-06  220.400934  \n",
       "2016-12-07  223.283950  \n",
       "2016-12-08  223.830715  \n",
       "2016-12-09  225.182747  \n",
       "2016-12-12  224.924276  \n",
       "2016-12-13  226.425423  \n",
       "2016-12-14  224.556449  \n",
       "2016-12-15  225.480992  \n",
       "2016-12-16  225.039993  \n",
       "2016-12-19  225.529999  \n",
       "2016-12-20  226.399994  \n",
       "2016-12-21  225.770004  \n",
       "2016-12-22  225.380005  \n",
       "2016-12-23  225.710007  \n",
       "2016-12-27  226.270004  \n",
       "2016-12-28  224.399994  \n",
       "2016-12-29  224.350006  \n",
       "2016-12-30  223.529999  \n",
       "2017-01-03  225.240005  \n",
       "2017-01-04  226.580002  \n",
       "2017-01-05  226.399994  \n",
       "2017-01-06  227.210007  \n",
       "\n",
       "[2773 rows x 6 columns]"
      ]
     },
     "execution_count": 6,
     "metadata": {},
     "output_type": "execute_result"
    }
   ],
   "source": [
    "data"
   ]
  },
  {
   "cell_type": "markdown",
   "metadata": {},
   "source": [
    "Now, we’ll compute daily returns and a function for transforming the returns into a\n",
    "trend signal formed from a lagged moving sum:"
   ]
  },
  {
   "cell_type": "code",
   "execution_count": 24,
   "metadata": {
    "collapsed": false
   },
   "outputs": [],
   "source": [
    "px = data['Adj Close']\n",
    "returns = px.pct_change()"
   ]
  },
  {
   "cell_type": "code",
   "execution_count": 25,
   "metadata": {
    "collapsed": true
   },
   "outputs": [],
   "source": [
    "def to_index(rets):\n",
    "    index = (1 + rets).cumprod() #index is accumulated returns \n",
    "    first_loc = max(index.notnull().argmax() - 1, 0) # first_loc is any value that is larger than 1\n",
    "    index.values[first_loc] = 1 # set the index with the same value as first_loc as 1 \n",
    "    return index # record this time's accumulated return i.e. 'index'\n",
    "def trend_signal(rets, lookback, lag): \n",
    "    signal = pd.rolling_sum(rets, lookback, min_periods=lookback - 5) # set the signal as the past 5 days of \n",
    "    return signal.shift(lag)"
   ]
  },
  {
   "cell_type": "code",
   "execution_count": 30,
   "metadata": {
    "collapsed": false
   },
   "outputs": [
    {
     "data": {
      "text/plain": [
       "<matplotlib.axes._subplots.AxesSubplot at 0xb60be48>"
      ]
     },
     "execution_count": 30,
     "metadata": {},
     "output_type": "execute_result"
    },
    {
     "data": {
      "image/png": "[encoded data removed]",
      "text/plain": [
       "<matplotlib.figure.Figure at 0xb60d278>"
      ]
     },
     "metadata": {},
     "output_type": "display_data"
    }
   ],
   "source": [
    "index = (1 + returns).cumprod()\n",
    "index.plot()"
   ]
  },
  {
   "cell_type": "code",
   "execution_count": 37,
   "metadata": {
    "collapsed": false
   },
   "outputs": [
    {
     "ename": "ValueError",
     "evalue": "Cannot add integral value to Timestamp without freq.",
     "output_type": "error",
     "traceback": [
      "\u001b[0;31m---------------------------------------------------------------------------\u001b[0m",
      "\u001b[0;31mValueError\u001b[0m                                Traceback (most recent call last)",
      "\u001b[0;32m<ipython-input-37-f0a07505264b>\u001b[0m in \u001b[0;36m<module>\u001b[0;34m()\u001b[0m\n\u001b[1;32m      2\u001b[0m \u001b[1;31m# Docstring:\u001b[0m\u001b[1;33m\u001b[0m\u001b[1;33m\u001b[0m\u001b[0m\n\u001b[1;32m      3\u001b[0m \u001b[1;31m# Returns the indices of the maximum values along an axis.\u001b[0m\u001b[1;33m\u001b[0m\u001b[1;33m\u001b[0m\u001b[0m\n\u001b[0;32m----> 4\u001b[0;31m \u001b[0mmax\u001b[0m\u001b[1;33m(\u001b[0m\u001b[0mindex\u001b[0m\u001b[1;33m.\u001b[0m\u001b[0mnotnull\u001b[0m\u001b[1;33m(\u001b[0m\u001b[1;33m)\u001b[0m\u001b[1;33m.\u001b[0m\u001b[0margmax\u001b[0m\u001b[1;33m(\u001b[0m\u001b[1;33m)\u001b[0m \u001b[1;33m-\u001b[0m \u001b[1;36m1\u001b[0m\u001b[1;33m,\u001b[0m \u001b[1;36m0\u001b[0m\u001b[1;33m)\u001b[0m\u001b[1;33m\u001b[0m\u001b[0m\n\u001b[0m",
      "\u001b[0;32mpandas\\tslib.pyx\u001b[0m in \u001b[0;36mpandas.tslib._Timestamp.__sub__ (pandas\\tslib.c:21208)\u001b[0;34m()\u001b[0m\n",
      "\u001b[0;32mpandas\\tslib.pyx\u001b[0m in \u001b[0;36mpandas.tslib._Timestamp.__add__ (pandas\\tslib.c:20644)\u001b[0;34m()\u001b[0m\n",
      "\u001b[0;31mValueError\u001b[0m: Cannot add integral value to Timestamp without freq."
     ]
    }
   ],
   "source": [
    "# Signature: np.argmax(a, axis=None, out=None)\n",
    "# Docstring:\n",
    "# Returns the indices of the maximum values along an axis.\n",
    "first_loc = max(index.notnull().argmax() - 1, 0)"
   ]
  },
  {
   "cell_type": "code",
   "execution_count": 45,
   "metadata": {
    "collapsed": false
   },
   "outputs": [
    {
     "name": "stdout",
     "output_type": "stream",
     "text": [
      "1\n",
      "1\n",
      "2\n"
     ]
    }
   ],
   "source": [
    " def fib(n): # write Fibonacci series up to n \n",
    "        \n",
    "        a, b = 0, 1 \n",
    "        while b < n: \n",
    "            print (b), \n",
    "            a, b = b, a+b\n",
    "fib(3)"
   ]
  },
  {
   "cell_type": "code",
   "execution_count": 50,
   "metadata": {
    "collapsed": false
   },
   "outputs": [
    {
     "name": "stdout",
     "output_type": "stream",
     "text": [
      "1\n",
      "1\n",
      "2\n",
      "3\n",
      "5\n",
      "8\n",
      "13\n",
      "21\n",
      "34\n",
      "55\n",
      "89\n"
     ]
    }
   ],
   "source": [
    " def fib2(n): \n",
    "        result = [] \n",
    "        a, b = 0, 1 \n",
    "        while b < n: \n",
    "            result.append(b) \n",
    "            a, b = b, a+b \n",
    "        return result\n",
    "f100 = fib(100)"
   ]
  },
  {
   "cell_type": "code",
   "execution_count": 36,
   "metadata": {
    "collapsed": false
   },
   "outputs": [],
   "source": [
    "np.argmax?"
   ]
  },
  {
   "cell_type": "markdown",
   "metadata": {},
   "source": [
    "Using this function, we can (naively) create and test a trading strategy that trades this\n",
    "momentum signal every Friday:"
   ]
  },
  {
   "cell_type": "code",
   "execution_count": 21,
   "metadata": {
    "collapsed": false
   },
   "outputs": [
    {
     "name": "stderr",
     "output_type": "stream",
     "text": [
      "C:\\Users\\Brad Sun\\Anaconda3\\lib\\site-packages\\ipykernel\\__main__.py:7: FutureWarning: pd.rolling_sum is deprecated for Series and will be removed in a future version, replace with \n",
      "\tSeries.rolling(window=100,min_periods=95,center=False).sum()\n"
     ]
    }
   ],
   "source": [
    "signal = trend_signal(returns, 100, 3)"
   ]
  },
  {
   "cell_type": "code",
   "execution_count": 22,
   "metadata": {
    "collapsed": false
   },
   "outputs": [
    {
     "data": {
      "text/plain": [
       "Date\n",
       "2006-01-03         NaN\n",
       "2006-01-04         NaN\n",
       "2006-01-05         NaN\n",
       "2006-01-06         NaN\n",
       "2006-01-09         NaN\n",
       "2006-01-10         NaN\n",
       "2006-01-11         NaN\n",
       "2006-01-12         NaN\n",
       "2006-01-13         NaN\n",
       "2006-01-17         NaN\n",
       "2006-01-18         NaN\n",
       "2006-01-19         NaN\n",
       "2006-01-20         NaN\n",
       "2006-01-23         NaN\n",
       "2006-01-24         NaN\n",
       "2006-01-25         NaN\n",
       "2006-01-26         NaN\n",
       "2006-01-27         NaN\n",
       "2006-01-30         NaN\n",
       "2006-01-31         NaN\n",
       "2006-02-01         NaN\n",
       "2006-02-02         NaN\n",
       "2006-02-03         NaN\n",
       "2006-02-06         NaN\n",
       "2006-02-07         NaN\n",
       "2006-02-08         NaN\n",
       "2006-02-09         NaN\n",
       "2006-02-10         NaN\n",
       "2006-02-13         NaN\n",
       "2006-02-14         NaN\n",
       "                ...   \n",
       "2016-11-23    0.062621\n",
       "2016-11-25    0.056527\n",
       "2016-11-28    0.056379\n",
       "2016-11-29    0.064117\n",
       "2016-11-30    0.061834\n",
       "2016-12-01    0.057759\n",
       "2016-12-02    0.044819\n",
       "2016-12-05    0.038893\n",
       "2016-12-06    0.027954\n",
       "2016-12-07    0.028595\n",
       "2016-12-08    0.029020\n",
       "2016-12-09    0.033529\n",
       "2016-12-12    0.043923\n",
       "2016-12-13    0.047388\n",
       "2016-12-14    0.049266\n",
       "2016-12-15    0.051895\n",
       "2016-12-16    0.054084\n",
       "2016-12-19    0.048546\n",
       "2016-12-20    0.052201\n",
       "2016-12-21    0.051306\n",
       "2016-12-22    0.052329\n",
       "2016-12-23    0.054572\n",
       "2016-12-27    0.052619\n",
       "2016-12-28    0.057298\n",
       "2016-12-29    0.055840\n",
       "2016-12-30    0.057257\n",
       "2017-01-03    0.040814\n",
       "2017-01-04    0.041187\n",
       "2017-01-05    0.036935\n",
       "2017-01-06    0.047060\n",
       "Name: Adj Close, dtype: float64"
      ]
     },
     "execution_count": 22,
     "metadata": {},
     "output_type": "execute_result"
    }
   ],
   "source": [
    "signal"
   ]
  },
  {
   "cell_type": "code",
   "execution_count": 20,
   "metadata": {
    "collapsed": false
   },
   "outputs": [
    {
     "name": "stderr",
     "output_type": "stream",
     "text": [
      "C:\\Users\\Brad Sun\\Anaconda3\\lib\\site-packages\\ipykernel\\__main__.py:7: FutureWarning: pd.rolling_sum is deprecated for Series and will be removed in a future version, replace with \n",
      "\tSeries.rolling(window=100,min_periods=95,center=False).sum()\n",
      "C:\\Users\\Brad Sun\\Anaconda3\\lib\\site-packages\\ipykernel\\__main__.py:3: FutureWarning: \n",
      ".resample() is now a deferred operation\n",
      "You called resample(...) on this deferred object which materialized it into a series\n",
      "by implicitly taking the mean.  Use .resample(...).mean() instead\n",
      "  app.launch_new_instance()\n",
      "C:\\Users\\Brad Sun\\Anaconda3\\lib\\site-packages\\ipykernel\\__main__.py:3: FutureWarning: fill_method is deprecated to .resample()\n",
      "the new syntax is .resample(...).ffill()\n",
      "  app.launch_new_instance()\n"
     ]
    },
    {
     "ename": "ValueError",
     "evalue": "Cannot add integral value to Timestamp without freq.",
     "output_type": "error",
     "traceback": [
      "\u001b[0;31m---------------------------------------------------------------------------\u001b[0m",
      "\u001b[0;31mValueError\u001b[0m                                Traceback (most recent call last)",
      "\u001b[0;32m<ipython-input-20-34b8a5e5ee5e>\u001b[0m in \u001b[0;36m<module>\u001b[0;34m()\u001b[0m\n\u001b[1;32m      3\u001b[0m \u001b[0mtrade_friday\u001b[0m \u001b[1;33m=\u001b[0m \u001b[0msignal\u001b[0m\u001b[1;33m.\u001b[0m\u001b[0mresample\u001b[0m\u001b[1;33m(\u001b[0m\u001b[1;34m'W-FRI'\u001b[0m\u001b[1;33m)\u001b[0m\u001b[1;33m.\u001b[0m\u001b[0mresample\u001b[0m\u001b[1;33m(\u001b[0m\u001b[1;34m'B'\u001b[0m\u001b[1;33m,\u001b[0m \u001b[0mfill_method\u001b[0m\u001b[1;33m=\u001b[0m\u001b[1;34m'ffill'\u001b[0m\u001b[1;33m)\u001b[0m\u001b[1;33m\u001b[0m\u001b[0m\n\u001b[1;32m      4\u001b[0m \u001b[0mtrade_rets\u001b[0m \u001b[1;33m=\u001b[0m \u001b[0mtrade_friday\u001b[0m\u001b[1;33m.\u001b[0m\u001b[0mshift\u001b[0m\u001b[1;33m(\u001b[0m\u001b[1;36m1\u001b[0m\u001b[1;33m)\u001b[0m \u001b[1;33m*\u001b[0m \u001b[0mreturns\u001b[0m\u001b[1;33m\u001b[0m\u001b[0m\n\u001b[0;32m----> 5\u001b[0;31m \u001b[0mto_index\u001b[0m\u001b[1;33m(\u001b[0m\u001b[0mtrade_rets\u001b[0m\u001b[1;33m)\u001b[0m\u001b[1;33m.\u001b[0m\u001b[0mplot\u001b[0m\u001b[1;33m(\u001b[0m\u001b[1;33m)\u001b[0m\u001b[1;33m\u001b[0m\u001b[0m\n\u001b[0m\u001b[1;32m      6\u001b[0m \u001b[0mfreq\u001b[0m\u001b[1;33m=\u001b[0m\u001b[1;34m'5T'\u001b[0m\u001b[1;33m\u001b[0m\u001b[0m\n\u001b[1;32m      7\u001b[0m \u001b[1;33m\u001b[0m\u001b[0m\n",
      "\u001b[0;32m<ipython-input-8-96eb4dd17806>\u001b[0m in \u001b[0;36mto_index\u001b[0;34m(rets)\u001b[0m\n\u001b[1;32m      1\u001b[0m \u001b[1;32mdef\u001b[0m \u001b[0mto_index\u001b[0m\u001b[1;33m(\u001b[0m\u001b[0mrets\u001b[0m\u001b[1;33m)\u001b[0m\u001b[1;33m:\u001b[0m\u001b[1;33m\u001b[0m\u001b[0m\n\u001b[1;32m      2\u001b[0m     \u001b[0mindex\u001b[0m \u001b[1;33m=\u001b[0m \u001b[1;33m(\u001b[0m\u001b[1;36m1\u001b[0m \u001b[1;33m+\u001b[0m \u001b[0mrets\u001b[0m\u001b[1;33m)\u001b[0m\u001b[1;33m.\u001b[0m\u001b[0mcumprod\u001b[0m\u001b[1;33m(\u001b[0m\u001b[1;33m)\u001b[0m\u001b[1;33m\u001b[0m\u001b[0m\n\u001b[0;32m----> 3\u001b[0;31m     \u001b[0mfirst_loc\u001b[0m \u001b[1;33m=\u001b[0m \u001b[0mmax\u001b[0m\u001b[1;33m(\u001b[0m\u001b[0mindex\u001b[0m\u001b[1;33m.\u001b[0m\u001b[0mnotnull\u001b[0m\u001b[1;33m(\u001b[0m\u001b[1;33m)\u001b[0m\u001b[1;33m.\u001b[0m\u001b[0margmax\u001b[0m\u001b[1;33m(\u001b[0m\u001b[1;33m)\u001b[0m \u001b[1;33m-\u001b[0m \u001b[1;36m1\u001b[0m\u001b[1;33m,\u001b[0m \u001b[1;36m0\u001b[0m\u001b[1;33m)\u001b[0m\u001b[1;33m\u001b[0m\u001b[0m\n\u001b[0m\u001b[1;32m      4\u001b[0m     \u001b[0mindex\u001b[0m\u001b[1;33m.\u001b[0m\u001b[0mvalues\u001b[0m\u001b[1;33m[\u001b[0m\u001b[0mfirst_loc\u001b[0m\u001b[1;33m]\u001b[0m \u001b[1;33m=\u001b[0m \u001b[1;36m1\u001b[0m\u001b[1;33m\u001b[0m\u001b[0m\n\u001b[1;32m      5\u001b[0m     \u001b[1;32mreturn\u001b[0m \u001b[0mindex\u001b[0m\u001b[1;33m\u001b[0m\u001b[0m\n",
      "\u001b[0;32mpandas\\tslib.pyx\u001b[0m in \u001b[0;36mpandas.tslib._Timestamp.__sub__ (pandas\\tslib.c:21208)\u001b[0;34m()\u001b[0m\n",
      "\u001b[0;32mpandas\\tslib.pyx\u001b[0m in \u001b[0;36mpandas.tslib._Timestamp.__add__ (pandas\\tslib.c:20644)\u001b[0;34m()\u001b[0m\n",
      "\u001b[0;31mValueError\u001b[0m: Cannot add integral value to Timestamp without freq."
     ]
    }
   ],
   "source": [
    "#trend_signal(rets, lookback, lag)\n",
    "signal = trend_signal(returns, 100, 3)\n",
    "trade_friday = signal.resample('W-FRI').resample('B', fill_method='ffill')\n",
    "trade_rets = trade_friday.shift(1) * returns\n",
    "to_index(trade_rets).plot()\n",
    "freq='5T'\n",
    "\n",
    "\n",
    "time_index = pd.date_range(start=datetime(2013, 1, 1, 3),\n",
    "                       end=datetime(2013, 1, 2, 2, 59),\n",
    "                       freq='5T')\n",
    "grid_columns = [u'in_brd', u'in_alt', u'out_brd', u'out_alt']  \n",
    "grid_proto = pd.DataFrame(index=time_index, columns=grid_columns)"
   ]
  },
  {
   "cell_type": "code",
   "execution_count": 18,
   "metadata": {
    "collapsed": false
   },
   "outputs": [],
   "source": [
    "trend_signal?"
   ]
  },
  {
   "cell_type": "code",
   "execution_count": 12,
   "metadata": {
    "collapsed": false
   },
   "outputs": [
    {
     "name": "stderr",
     "output_type": "stream",
     "text": [
      "C:\\Users\\Brad Sun\\Anaconda3\\lib\\site-packages\\ipykernel\\__main__.py:1: FutureWarning: \n",
      ".resample() is now a deferred operation\n",
      "You called resample(...) on this deferred object which materialized it into a series\n",
      "by implicitly taking the mean.  Use .resample(...).mean() instead\n",
      "  if __name__ == '__main__':\n",
      "C:\\Users\\Brad Sun\\Anaconda3\\lib\\site-packages\\ipykernel\\__main__.py:1: FutureWarning: fill_method is deprecated to .resample()\n",
      "the new syntax is .resample(...).ffill()\n",
      "  if __name__ == '__main__':\n"
     ]
    }
   ],
   "source": []
  },
  {
   "cell_type": "code",
   "execution_count": 13,
   "metadata": {
    "collapsed": false
   },
   "outputs": [],
   "source": []
  },
  {
   "cell_type": "markdown",
   "metadata": {},
   "source": [
    "We can then convert the strategy returns to a return index and plot them (see Figure\n",
    "11-1):"
   ]
  },
  {
   "cell_type": "code",
   "execution_count": 14,
   "metadata": {
    "collapsed": false
   },
   "outputs": [
    {
     "ename": "ValueError",
     "evalue": "Cannot add integral value to Timestamp without freq.",
     "output_type": "error",
     "traceback": [
      "\u001b[0;31m---------------------------------------------------------------------------\u001b[0m",
      "\u001b[0;31mValueError\u001b[0m                                Traceback (most recent call last)",
      "\u001b[0;32m<ipython-input-14-d7a37e094783>\u001b[0m in \u001b[0;36m<module>\u001b[0;34m()\u001b[0m\n\u001b[0;32m----> 1\u001b[0;31m \u001b[0mto_index\u001b[0m\u001b[1;33m(\u001b[0m\u001b[0mtrade_rets\u001b[0m\u001b[1;33m)\u001b[0m\u001b[1;33m.\u001b[0m\u001b[0mplot\u001b[0m\u001b[1;33m(\u001b[0m\u001b[1;33m)\u001b[0m\u001b[1;33m\u001b[0m\u001b[0m\n\u001b[0m",
      "\u001b[0;32m<ipython-input-8-96eb4dd17806>\u001b[0m in \u001b[0;36mto_index\u001b[0;34m(rets)\u001b[0m\n\u001b[1;32m      1\u001b[0m \u001b[1;32mdef\u001b[0m \u001b[0mto_index\u001b[0m\u001b[1;33m(\u001b[0m\u001b[0mrets\u001b[0m\u001b[1;33m)\u001b[0m\u001b[1;33m:\u001b[0m\u001b[1;33m\u001b[0m\u001b[0m\n\u001b[1;32m      2\u001b[0m     \u001b[0mindex\u001b[0m \u001b[1;33m=\u001b[0m \u001b[1;33m(\u001b[0m\u001b[1;36m1\u001b[0m \u001b[1;33m+\u001b[0m \u001b[0mrets\u001b[0m\u001b[1;33m)\u001b[0m\u001b[1;33m.\u001b[0m\u001b[0mcumprod\u001b[0m\u001b[1;33m(\u001b[0m\u001b[1;33m)\u001b[0m\u001b[1;33m\u001b[0m\u001b[0m\n\u001b[0;32m----> 3\u001b[0;31m     \u001b[0mfirst_loc\u001b[0m \u001b[1;33m=\u001b[0m \u001b[0mmax\u001b[0m\u001b[1;33m(\u001b[0m\u001b[0mindex\u001b[0m\u001b[1;33m.\u001b[0m\u001b[0mnotnull\u001b[0m\u001b[1;33m(\u001b[0m\u001b[1;33m)\u001b[0m\u001b[1;33m.\u001b[0m\u001b[0margmax\u001b[0m\u001b[1;33m(\u001b[0m\u001b[1;33m)\u001b[0m \u001b[1;33m-\u001b[0m \u001b[1;36m1\u001b[0m\u001b[1;33m,\u001b[0m \u001b[1;36m0\u001b[0m\u001b[1;33m)\u001b[0m\u001b[1;33m\u001b[0m\u001b[0m\n\u001b[0m\u001b[1;32m      4\u001b[0m     \u001b[0mindex\u001b[0m\u001b[1;33m.\u001b[0m\u001b[0mvalues\u001b[0m\u001b[1;33m[\u001b[0m\u001b[0mfirst_loc\u001b[0m\u001b[1;33m]\u001b[0m \u001b[1;33m=\u001b[0m \u001b[1;36m1\u001b[0m\u001b[1;33m\u001b[0m\u001b[0m\n\u001b[1;32m      5\u001b[0m     \u001b[1;32mreturn\u001b[0m \u001b[0mindex\u001b[0m\u001b[1;33m\u001b[0m\u001b[0m\n",
      "\u001b[0;32mpandas\\tslib.pyx\u001b[0m in \u001b[0;36mpandas.tslib._Timestamp.__sub__ (pandas\\tslib.c:21208)\u001b[0;34m()\u001b[0m\n",
      "\u001b[0;32mpandas\\tslib.pyx\u001b[0m in \u001b[0;36mpandas.tslib._Timestamp.__add__ (pandas\\tslib.c:20644)\u001b[0;34m()\u001b[0m\n",
      "\u001b[0;31mValueError\u001b[0m: Cannot add integral value to Timestamp without freq."
     ]
    }
   ],
   "source": []
  },
  {
   "cell_type": "markdown",
   "metadata": {},
   "source": [
    "## More Example Applications"
   ]
  },
  {
   "cell_type": "code",
   "execution_count": null,
   "metadata": {
    "collapsed": true
   },
   "outputs": [],
   "source": []
  },
  {
   "cell_type": "markdown",
   "metadata": {},
   "source": [
    "### Signal Frontier Analysis"
   ]
  },
  {
   "cell_type": "code",
   "execution_count": null,
   "metadata": {
    "collapsed": true
   },
   "outputs": [],
   "source": []
  },
  {
   "cell_type": "code",
   "execution_count": null,
   "metadata": {
    "collapsed": true
   },
   "outputs": [],
   "source": []
  },
  {
   "cell_type": "code",
   "execution_count": null,
   "metadata": {
    "collapsed": true
   },
   "outputs": [],
   "source": []
  },
  {
   "cell_type": "markdown",
   "metadata": {},
   "source": [
    "### Future Contract Rolling"
   ]
  },
  {
   "cell_type": "code",
   "execution_count": null,
   "metadata": {
    "collapsed": true
   },
   "outputs": [],
   "source": []
  },
  {
   "cell_type": "code",
   "execution_count": null,
   "metadata": {
    "collapsed": true
   },
   "outputs": [],
   "source": []
  },
  {
   "cell_type": "code",
   "execution_count": null,
   "metadata": {
    "collapsed": true
   },
   "outputs": [],
   "source": []
  },
  {
   "cell_type": "markdown",
   "metadata": {},
   "source": [
    "### Rolling Correlation and Linear Regression"
   ]
  },
  {
   "cell_type": "code",
   "execution_count": null,
   "metadata": {
    "collapsed": true
   },
   "outputs": [],
   "source": []
  },
  {
   "cell_type": "code",
   "execution_count": null,
   "metadata": {
    "collapsed": true
   },
   "outputs": [],
   "source": []
  },
  {
   "cell_type": "code",
   "execution_count": null,
   "metadata": {
    "collapsed": true
   },
   "outputs": [],
   "source": []
  },
  {
   "cell_type": "code",
   "execution_count": null,
   "metadata": {
    "collapsed": true
   },
   "outputs": [],
   "source": []
  }
 ],
 "metadata": {
  "anaconda-cloud": {},
  "hide_input": false,
  "kernelspec": {
   "display_name": "Python [conda root]",
   "language": "python",
   "name": "conda-root-py"
  },
  "language_info": {
   "codemirror_mode": {
    "name": "ipython",
    "version": 3
   },
   "file_extension": ".py",
   "mimetype": "text/x-python",
   "name": "python",
   "nbconvert_exporter": "python",
   "pygments_lexer": "ipython3",
   "version": "3.4.5"
  },
  "nav_menu": {},
  "toc": {
   "navigate_menu": true,
   "number_sections": true,
   "sideBar": true,
   "threshold": 6,
   "toc_cell": false,
   "toc_section_display": "block",
   "toc_window_display": true
  }
 },
 "nbformat": 4,
 "nbformat_minor": 0
}
