{
 "cells": [
  {
   "cell_type": "code",
   "execution_count": 3,
   "metadata": {},
   "outputs": [],
   "source": [
    "import numpy as np, pandas as pd\n",
    "import matplotlib.pyplot as plt\n",
    "from matplotlib import style\n",
    "style.use(\"ggplot\")\n",
    "\n",
    "%matplotlib inline"
   ]
  },
  {
   "cell_type": "markdown",
   "metadata": {},
   "source": [
    "# 1. Call Yahoo Finance API"
   ]
  },
  {
   "cell_type": "code",
   "execution_count": 4,
   "metadata": {},
   "outputs": [],
   "source": [
    "import fix_yahoo_finance as yf\n",
    "\n",
    "def get_yahoo_data(symbol_list, start_str, end_str):\n",
    "    \"\"\"\n",
    "    Documentation: start/end_str is of the format of, e.g. \"2017-09-15\"\n",
    "    \"\"\"\n",
    "    import_ = yf.download(symbol_list, start = start_str, end = end_str)\n",
    "    df = import_.to_frame().unstack()\n",
    "    return df"
   ]
  },
  {
   "cell_type": "code",
   "execution_count": 6,
   "metadata": {
    "collapsed": true
   },
   "outputs": [
    {
     "name": "stdout",
     "output_type": "stream",
     "text": [
      "[*********************100%***********************]  4 of 4 downloaded\n"
     ]
    },
    {
     "ename": "AttributeError",
     "evalue": "'DataFrame' object has no attribute 'to_frame'",
     "output_type": "error",
     "traceback": [
      "\u001b[0;31m---------------------------------------------------------------------------\u001b[0m",
      "\u001b[0;31mAttributeError\u001b[0m                            Traceback (most recent call last)",
      "\u001b[0;32m<ipython-input-6-ac3e03374881>\u001b[0m in \u001b[0;36m<module>\u001b[0;34m()\u001b[0m\n\u001b[0;32m----> 1\u001b[0;31m \u001b[0mtest_list\u001b[0m \u001b[0;34m=\u001b[0m \u001b[0mget_yahoo_data\u001b[0m\u001b[0;34m(\u001b[0m\u001b[0;34m[\u001b[0m\u001b[0;34m'ABB'\u001b[0m\u001b[0;34m,\u001b[0m \u001b[0;34m'CMCSA'\u001b[0m\u001b[0;34m,\u001b[0m \u001b[0;34m'CS'\u001b[0m\u001b[0;34m,\u001b[0m \u001b[0;34m'HAL'\u001b[0m\u001b[0;34m]\u001b[0m\u001b[0;34m,\u001b[0m \u001b[0;34m'2010-01-01'\u001b[0m\u001b[0;34m,\u001b[0m \u001b[0;34m'2019-03-21'\u001b[0m\u001b[0;34m)\u001b[0m\u001b[0;34m\u001b[0m\u001b[0m\n\u001b[0m",
      "\u001b[0;32m<ipython-input-4-3c1e8215d6d5>\u001b[0m in \u001b[0;36mget_yahoo_data\u001b[0;34m(symbol_list, start_str, end_str)\u001b[0m\n\u001b[1;32m      6\u001b[0m     \"\"\"\n\u001b[1;32m      7\u001b[0m     \u001b[0mimport_\u001b[0m \u001b[0;34m=\u001b[0m \u001b[0myf\u001b[0m\u001b[0;34m.\u001b[0m\u001b[0mdownload\u001b[0m\u001b[0;34m(\u001b[0m\u001b[0msymbol_list\u001b[0m\u001b[0;34m,\u001b[0m \u001b[0mstart\u001b[0m \u001b[0;34m=\u001b[0m \u001b[0mstart_str\u001b[0m\u001b[0;34m,\u001b[0m \u001b[0mend\u001b[0m \u001b[0;34m=\u001b[0m \u001b[0mend_str\u001b[0m\u001b[0;34m)\u001b[0m\u001b[0;34m\u001b[0m\u001b[0m\n\u001b[0;32m----> 8\u001b[0;31m     \u001b[0mdf\u001b[0m \u001b[0;34m=\u001b[0m \u001b[0mimport_\u001b[0m\u001b[0;34m.\u001b[0m\u001b[0mto_frame\u001b[0m\u001b[0;34m(\u001b[0m\u001b[0;34m)\u001b[0m\u001b[0;34m.\u001b[0m\u001b[0munstack\u001b[0m\u001b[0;34m(\u001b[0m\u001b[0;34m)\u001b[0m\u001b[0;34m\u001b[0m\u001b[0m\n\u001b[0m\u001b[1;32m      9\u001b[0m     \u001b[0;32mreturn\u001b[0m \u001b[0mdf\u001b[0m\u001b[0;34m\u001b[0m\u001b[0m\n",
      "\u001b[0;32m~/anaconda3/lib/python3.5/site-packages/pandas/core/generic.py\u001b[0m in \u001b[0;36m__getattr__\u001b[0;34m(self, name)\u001b[0m\n\u001b[1;32m   3612\u001b[0m             \u001b[0;32mif\u001b[0m \u001b[0mname\u001b[0m \u001b[0;32min\u001b[0m \u001b[0mself\u001b[0m\u001b[0;34m.\u001b[0m\u001b[0m_info_axis\u001b[0m\u001b[0;34m:\u001b[0m\u001b[0;34m\u001b[0m\u001b[0m\n\u001b[1;32m   3613\u001b[0m                 \u001b[0;32mreturn\u001b[0m \u001b[0mself\u001b[0m\u001b[0;34m[\u001b[0m\u001b[0mname\u001b[0m\u001b[0;34m]\u001b[0m\u001b[0;34m\u001b[0m\u001b[0m\n\u001b[0;32m-> 3614\u001b[0;31m             \u001b[0;32mreturn\u001b[0m \u001b[0mobject\u001b[0m\u001b[0;34m.\u001b[0m\u001b[0m__getattribute__\u001b[0m\u001b[0;34m(\u001b[0m\u001b[0mself\u001b[0m\u001b[0;34m,\u001b[0m \u001b[0mname\u001b[0m\u001b[0;34m)\u001b[0m\u001b[0;34m\u001b[0m\u001b[0m\n\u001b[0m\u001b[1;32m   3615\u001b[0m \u001b[0;34m\u001b[0m\u001b[0m\n\u001b[1;32m   3616\u001b[0m     \u001b[0;32mdef\u001b[0m \u001b[0m__setattr__\u001b[0m\u001b[0;34m(\u001b[0m\u001b[0mself\u001b[0m\u001b[0;34m,\u001b[0m \u001b[0mname\u001b[0m\u001b[0;34m,\u001b[0m \u001b[0mvalue\u001b[0m\u001b[0;34m)\u001b[0m\u001b[0;34m:\u001b[0m\u001b[0;34m\u001b[0m\u001b[0m\n",
      "\u001b[0;31mAttributeError\u001b[0m: 'DataFrame' object has no attribute 'to_frame'"
     ]
    }
   ],
   "source": [
    "test_list = get_yahoo_data(['ABB', 'CMCSA', 'CS', 'HAL'], '2010-01-01', '2019-03-21')"
   ]
  },
  {
   "cell_type": "code",
   "execution_count": 7,
   "metadata": {},
   "outputs": [
    {
     "name": "stdout",
     "output_type": "stream",
     "text": [
      "[*********************100%***********************]  4 of 4 downloaded\n"
     ]
    }
   ],
   "source": [
    "import_ = yf.download(['ABB', 'CMCSA', 'CS', 'HAL'], start = '2010-01-01', end = '2019-03-21')"
   ]
  },
  {
   "cell_type": "code",
   "execution_count": 29,
   "metadata": {},
   "outputs": [
    {
     "data": {
      "text/html": [
       "<div>\n",
       "<style scoped>\n",
       "    .dataframe tbody tr th:only-of-type {\n",
       "        vertical-align: middle;\n",
       "    }\n",
       "\n",
       "    .dataframe tbody tr th {\n",
       "        vertical-align: top;\n",
       "    }\n",
       "\n",
       "    .dataframe thead tr th {\n",
       "        text-align: left;\n",
       "    }\n",
       "\n",
       "    .dataframe thead tr:last-of-type th {\n",
       "        text-align: right;\n",
       "    }\n",
       "</style>\n",
       "<table border=\"1\" class=\"dataframe\">\n",
       "  <thead>\n",
       "    <tr>\n",
       "      <th></th>\n",
       "      <th colspan=\"4\" halign=\"left\">Open</th>\n",
       "      <th colspan=\"4\" halign=\"left\">High</th>\n",
       "      <th colspan=\"2\" halign=\"left\">Low</th>\n",
       "      <th>...</th>\n",
       "      <th colspan=\"2\" halign=\"left\">Close</th>\n",
       "      <th colspan=\"4\" halign=\"left\">Adj Close</th>\n",
       "      <th colspan=\"4\" halign=\"left\">Volume</th>\n",
       "    </tr>\n",
       "    <tr>\n",
       "      <th></th>\n",
       "      <th>ABB</th>\n",
       "      <th>CMCSA</th>\n",
       "      <th>CS</th>\n",
       "      <th>HAL</th>\n",
       "      <th>ABB</th>\n",
       "      <th>CMCSA</th>\n",
       "      <th>CS</th>\n",
       "      <th>HAL</th>\n",
       "      <th>ABB</th>\n",
       "      <th>CMCSA</th>\n",
       "      <th>...</th>\n",
       "      <th>CS</th>\n",
       "      <th>HAL</th>\n",
       "      <th>ABB</th>\n",
       "      <th>CMCSA</th>\n",
       "      <th>CS</th>\n",
       "      <th>HAL</th>\n",
       "      <th>ABB</th>\n",
       "      <th>CMCSA</th>\n",
       "      <th>CS</th>\n",
       "      <th>HAL</th>\n",
       "    </tr>\n",
       "    <tr>\n",
       "      <th>Date</th>\n",
       "      <th></th>\n",
       "      <th></th>\n",
       "      <th></th>\n",
       "      <th></th>\n",
       "      <th></th>\n",
       "      <th></th>\n",
       "      <th></th>\n",
       "      <th></th>\n",
       "      <th></th>\n",
       "      <th></th>\n",
       "      <th></th>\n",
       "      <th></th>\n",
       "      <th></th>\n",
       "      <th></th>\n",
       "      <th></th>\n",
       "      <th></th>\n",
       "      <th></th>\n",
       "      <th></th>\n",
       "      <th></th>\n",
       "      <th></th>\n",
       "      <th></th>\n",
       "    </tr>\n",
       "  </thead>\n",
       "  <tbody>\n",
       "    <tr>\n",
       "      <th>2009-12-31</th>\n",
       "      <td>19.290001</td>\n",
       "      <td>8.530</td>\n",
       "      <td>48.408203</td>\n",
       "      <td>30.309999</td>\n",
       "      <td>19.420000</td>\n",
       "      <td>8.575</td>\n",
       "      <td>48.730469</td>\n",
       "      <td>30.52</td>\n",
       "      <td>19.100000</td>\n",
       "      <td>8.430</td>\n",
       "      <td>...</td>\n",
       "      <td>48.007813</td>\n",
       "      <td>30.09</td>\n",
       "      <td>14.166453</td>\n",
       "      <td>6.216340</td>\n",
       "      <td>34.214092</td>\n",
       "      <td>26.293697</td>\n",
       "      <td>1518000</td>\n",
       "      <td>16245600</td>\n",
       "      <td>203900</td>\n",
       "      <td>7678700</td>\n",
       "    </tr>\n",
       "    <tr>\n",
       "      <th>2010-01-04</th>\n",
       "      <td>19.590000</td>\n",
       "      <td>8.375</td>\n",
       "      <td>49.902344</td>\n",
       "      <td>30.719999</td>\n",
       "      <td>19.709999</td>\n",
       "      <td>8.565</td>\n",
       "      <td>51.035156</td>\n",
       "      <td>31.34</td>\n",
       "      <td>19.510000</td>\n",
       "      <td>8.375</td>\n",
       "      <td>...</td>\n",
       "      <td>50.771484</td>\n",
       "      <td>31.25</td>\n",
       "      <td>14.566971</td>\n",
       "      <td>6.327832</td>\n",
       "      <td>36.183693</td>\n",
       "      <td>27.307341</td>\n",
       "      <td>1847200</td>\n",
       "      <td>27146800</td>\n",
       "      <td>734200</td>\n",
       "      <td>11571600</td>\n",
       "    </tr>\n",
       "    <tr>\n",
       "      <th>2010-01-05</th>\n",
       "      <td>19.600000</td>\n",
       "      <td>8.465</td>\n",
       "      <td>51.250000</td>\n",
       "      <td>31.280001</td>\n",
       "      <td>19.799999</td>\n",
       "      <td>8.490</td>\n",
       "      <td>51.318359</td>\n",
       "      <td>31.83</td>\n",
       "      <td>19.540001</td>\n",
       "      <td>8.275</td>\n",
       "      <td>...</td>\n",
       "      <td>51.191406</td>\n",
       "      <td>31.65</td>\n",
       "      <td>14.663393</td>\n",
       "      <td>6.242068</td>\n",
       "      <td>36.482964</td>\n",
       "      <td>27.656870</td>\n",
       "      <td>2881700</td>\n",
       "      <td>35493000</td>\n",
       "      <td>447700</td>\n",
       "      <td>18989700</td>\n",
       "    </tr>\n",
       "  </tbody>\n",
       "</table>\n",
       "<p>3 rows × 24 columns</p>\n",
       "</div>"
      ],
      "text/plain": [
       "                 Open                                    High         \\\n",
       "                  ABB  CMCSA         CS        HAL        ABB  CMCSA   \n",
       "Date                                                                   \n",
       "2009-12-31  19.290001  8.530  48.408203  30.309999  19.420000  8.575   \n",
       "2010-01-04  19.590000  8.375  49.902344  30.719999  19.709999  8.565   \n",
       "2010-01-05  19.600000  8.465  51.250000  31.280001  19.799999  8.490   \n",
       "\n",
       "                                    Low           ...         Close         \\\n",
       "                   CS    HAL        ABB  CMCSA    ...            CS    HAL   \n",
       "Date                                              ...                        \n",
       "2009-12-31  48.730469  30.52  19.100000  8.430    ...     48.007813  30.09   \n",
       "2010-01-04  51.035156  31.34  19.510000  8.375    ...     50.771484  31.25   \n",
       "2010-01-05  51.318359  31.83  19.540001  8.275    ...     51.191406  31.65   \n",
       "\n",
       "            Adj Close                                   Volume            \\\n",
       "                  ABB     CMCSA         CS        HAL      ABB     CMCSA   \n",
       "Date                                                                       \n",
       "2009-12-31  14.166453  6.216340  34.214092  26.293697  1518000  16245600   \n",
       "2010-01-04  14.566971  6.327832  36.183693  27.307341  1847200  27146800   \n",
       "2010-01-05  14.663393  6.242068  36.482964  27.656870  2881700  35493000   \n",
       "\n",
       "                              \n",
       "                CS       HAL  \n",
       "Date                          \n",
       "2009-12-31  203900   7678700  \n",
       "2010-01-04  734200  11571600  \n",
       "2010-01-05  447700  18989700  \n",
       "\n",
       "[3 rows x 24 columns]"
      ]
     },
     "execution_count": 29,
     "metadata": {},
     "output_type": "execute_result"
    }
   ],
   "source": [
    "import_.head(3)"
   ]
  },
  {
   "cell_type": "markdown",
   "metadata": {},
   "source": [
    "# 2. Plot Correlation Heatmaps"
   ]
  },
  {
   "cell_type": "markdown",
   "metadata": {},
   "source": [
    "## 2.1 Process data"
   ]
  },
  {
   "cell_type": "code",
   "execution_count": 18,
   "metadata": {},
   "outputs": [],
   "source": [
    "stacked = import_.stack().reset_index()"
   ]
  },
  {
   "cell_type": "code",
   "execution_count": 20,
   "metadata": {},
   "outputs": [
    {
     "data": {
      "text/plain": [
       "Index(['Date', 'level_1', 'Adj Close', 'Close', 'High', 'Low', 'Open',\n",
       "       'Volume'],\n",
       "      dtype='object')"
      ]
     },
     "execution_count": 20,
     "metadata": {},
     "output_type": "execute_result"
    }
   ],
   "source": [
    "stacked.columns"
   ]
  },
  {
   "cell_type": "code",
   "execution_count": 23,
   "metadata": {},
   "outputs": [],
   "source": [
    "stacked.columns = ['date', 'tickers', 'close', 'close2', 'high', 'low', 'open','volume']"
   ]
  },
  {
   "cell_type": "code",
   "execution_count": 25,
   "metadata": {},
   "outputs": [],
   "source": [
    "stacked_ = stacked[['date', 'tickers', 'open', 'high', 'low', 'close', 'volume']]"
   ]
  },
  {
   "cell_type": "code",
   "execution_count": 28,
   "metadata": {},
   "outputs": [],
   "source": [
    "stacked_open = stacked_[['date', 'tickers', 'open']]"
   ]
  },
  {
   "cell_type": "code",
   "execution_count": 31,
   "metadata": {},
   "outputs": [],
   "source": [
    "pd.pivot_table?"
   ]
  },
  {
   "cell_type": "code",
   "execution_count": 33,
   "metadata": {},
   "outputs": [],
   "source": [
    "stacked_open_pvt = pd.pivot_table(stacked_open, values = 'open', index = 'date', columns = 'tickers')"
   ]
  },
  {
   "cell_type": "code",
   "execution_count": 35,
   "metadata": {},
   "outputs": [],
   "source": [
    "stacked_open_pvt_pctchg = stacked_open_pvt.pct_change()"
   ]
  },
  {
   "cell_type": "markdown",
   "metadata": {},
   "source": [
    "## 2.2 Generate correlation matrix and plot heatmaps"
   ]
  },
  {
   "cell_type": "code",
   "execution_count": 37,
   "metadata": {},
   "outputs": [
    {
     "data": {
      "text/html": [
       "<div>\n",
       "<style scoped>\n",
       "    .dataframe tbody tr th:only-of-type {\n",
       "        vertical-align: middle;\n",
       "    }\n",
       "\n",
       "    .dataframe tbody tr th {\n",
       "        vertical-align: top;\n",
       "    }\n",
       "\n",
       "    .dataframe thead th {\n",
       "        text-align: right;\n",
       "    }\n",
       "</style>\n",
       "<table border=\"1\" class=\"dataframe\">\n",
       "  <thead>\n",
       "    <tr style=\"text-align: right;\">\n",
       "      <th>tickers</th>\n",
       "      <th>ABB</th>\n",
       "      <th>CMCSA</th>\n",
       "      <th>CS</th>\n",
       "      <th>HAL</th>\n",
       "    </tr>\n",
       "    <tr>\n",
       "      <th>tickers</th>\n",
       "      <th></th>\n",
       "      <th></th>\n",
       "      <th></th>\n",
       "      <th></th>\n",
       "    </tr>\n",
       "  </thead>\n",
       "  <tbody>\n",
       "    <tr>\n",
       "      <th>ABB</th>\n",
       "      <td>1.000000</td>\n",
       "      <td>0.416404</td>\n",
       "      <td>0.609883</td>\n",
       "      <td>0.482867</td>\n",
       "    </tr>\n",
       "    <tr>\n",
       "      <th>CMCSA</th>\n",
       "      <td>0.416404</td>\n",
       "      <td>1.000000</td>\n",
       "      <td>0.385370</td>\n",
       "      <td>0.354558</td>\n",
       "    </tr>\n",
       "    <tr>\n",
       "      <th>CS</th>\n",
       "      <td>0.609883</td>\n",
       "      <td>0.385370</td>\n",
       "      <td>1.000000</td>\n",
       "      <td>0.414827</td>\n",
       "    </tr>\n",
       "    <tr>\n",
       "      <th>HAL</th>\n",
       "      <td>0.482867</td>\n",
       "      <td>0.354558</td>\n",
       "      <td>0.414827</td>\n",
       "      <td>1.000000</td>\n",
       "    </tr>\n",
       "  </tbody>\n",
       "</table>\n",
       "</div>"
      ],
      "text/plain": [
       "tickers       ABB     CMCSA        CS       HAL\n",
       "tickers                                        \n",
       "ABB      1.000000  0.416404  0.609883  0.482867\n",
       "CMCSA    0.416404  1.000000  0.385370  0.354558\n",
       "CS       0.609883  0.385370  1.000000  0.414827\n",
       "HAL      0.482867  0.354558  0.414827  1.000000"
      ]
     },
     "execution_count": 37,
     "metadata": {},
     "output_type": "execute_result"
    }
   ],
   "source": [
    "stacked_open_pvt_pctchg.corr()"
   ]
  },
  {
   "cell_type": "code",
   "execution_count": null,
   "metadata": {},
   "outputs": [],
   "source": []
  }
 ],
 "metadata": {
  "kernelspec": {
   "display_name": "Python 3",
   "language": "python",
   "name": "python3"
  },
  "language_info": {
   "codemirror_mode": {
    "name": "ipython",
    "version": 3
   },
   "file_extension": ".py",
   "mimetype": "text/x-python",
   "name": "python",
   "nbconvert_exporter": "python",
   "pygments_lexer": "ipython3",
   "version": "3.5.6"
  }
 },
 "nbformat": 4,
 "nbformat_minor": 2
}
