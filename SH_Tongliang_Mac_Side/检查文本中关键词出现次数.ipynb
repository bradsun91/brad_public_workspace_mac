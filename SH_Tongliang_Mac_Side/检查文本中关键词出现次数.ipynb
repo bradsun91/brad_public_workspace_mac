{
 "cells": [
  {
   "cell_type": "code",
   "execution_count": 2,
   "metadata": {},
   "outputs": [],
   "source": [
    "import pandas as pd"
   ]
  },
  {
   "cell_type": "code",
   "execution_count": 5,
   "metadata": {},
   "outputs": [],
   "source": [
    "def keywordMatch(kw,txt):\n",
    "    count = 0\n",
    "    offset = txt.find(kw)\n",
    "    print(offset)\n",
    "    while offset != -1:\n",
    "        count += 1\n",
    "        txt = txt[offset + len(kw)]\n",
    "        offset = txt.find(kw)\n",
    "    return count"
   ]
  },
  {
   "cell_type": "code",
   "execution_count": 9,
   "metadata": {},
   "outputs": [],
   "source": [
    "kw = \"\"\"KDJ\"\"\"\n",
    "txt = \"\"\"KDJ指标的一般股市指标分析标准\n",
    "\n",
    "随机指标KDJ主要是通过K、D和J这三条曲线的所构成的图形关系来进行股市指标分析的超买超卖，走势背离及K线、D线和J线相互交叉突破等现象，从而预测股价中、短期及长期趋势，也可用于期货指标分析。KDJ是市场上绝大多数投资者熟知的股票技术指标分析工具，但具体运用时，投资者可能会发现KDJ的分析结果和实际走势存在着特别大的差别，有时还会得出相反的结论，这其中原因主要是绝大多数投资者只知道KDJ的一般股票技术指标分析原理和方法，而对KDJ分析指标的一些内涵和特定的分析技巧知之甚少。本节在介绍股市分析中市场上流行的KDJ的一般研判技巧和分析方法上，重点挖掘KDJ指标的内在规律，详细分析KDJ的一些特殊研判功能。\n",
    "\n",
    "股票常用技术指标KDJ指标是三条曲线，在应用时KDJ指标的一般研判标准主要是从KDJ三个参数的取值、KDJ曲线的形态、KDJ曲线的交叉、KDJ曲线的背离和K线、D线、J线的运行状态以及KDJ曲线同股价曲线的配合等六个方面来考虑。\n",
    "\n",
    "一、股票技术指标大全之KDJ的取值\n",
    "\n",
    "1、取值范围\n",
    "\n",
    "股票常用技术指标KDJ指标中，K值和D值的取值范围都是0—100，而J值的取值范围可以超过100和低于0，但在分析软件上KDJ的研判范围都是0—100。通常就敏感性而言，J值最强，K值次之，D值最慢，而就安全性而言，J值最差，K值次之，D值最稳。\n",
    "\n",
    "2、超买超卖信号\n",
    "\n",
    "根据股市技术指标KDJ的取值，可将其划分为几个区域，即超买区、超卖区和徘徊区。按一般划分标准，K、D、J这三值在20以下为超卖区，是买入信号；K、D、J这三值在80以上为超买区，是卖出信号；K、D、J这三值在20—80之间为徘徊区，宜观望。\n",
    "\n",
    "3、多空力量对比\n",
    "\n",
    "股市技术指标一般而言，当K、D、J三值在50附近时，表示多空双方力量均衡；当K、D、J三值都大于50时，表示多方力量占优；当K、D、J三值都小于50时，表示空方力量占优。\n",
    "\n",
    "二、股票技术指标大全之KDJ曲线的形态\n",
    "\n",
    "外汇技术指标KDJ指标的研判还可以从KDJ曲线的形态来分析。当KDJ指标曲线图形形成头肩顶底形态、双重顶底形态（即M头、W底）及三重顶底等形态时，也可以按照形态理论的研判方法加以分析。KDJ曲线出现的各种形态是判断行情走势、决定买卖时机的一种分析方法。另外，外汇技术指标KDJ指标曲线还可以划趋势线、压力线和支撑线等。\n",
    "\n",
    "1、当期货技术指标KDJ曲线在50上方的高位时，如果KDJ曲线的走势形成M头或三重顶等顶部反转形态，可能预示着股价由强势转为弱势，股价即将大跌，应及时卖出股票。如果股价的曲线也出现同样形态则更可确认，其跌幅可以用M头或三重顶等形态理论来研判。\n",
    "\n",
    "2、当期货技术指标KDJ曲线在50下方的低位时，如果KDJ曲线的走势出现W底或三重底等底部反转形态，可能预示着股价由弱势转为强势，股价即将反弹向上，可以逢低少量吸纳股票。如果股价曲线也出现同样形态更可确认，其涨幅可以用W底或三重底形态理论来研判。\n",
    "\n",
    "KDJ曲线的期货指标分析形态中M头和三重顶形态的准确性要大于W底和三重底。\n",
    "\n",
    "上一篇：   沪指大盘指数的修正公式，沪指3000点大涨大跌股市大盘暴跌原因\n",
    "下一篇：   沪深300etf指数代码成分股怎么选？沪深300指数基金\"\"\""
   ]
  },
  {
   "cell_type": "code",
   "execution_count": 10,
   "metadata": {},
   "outputs": [
    {
     "data": {
      "text/plain": [
       "0"
      ]
     },
     "execution_count": 10,
     "metadata": {},
     "output_type": "execute_result"
    }
   ],
   "source": [
    "txt.find(kw)"
   ]
  },
  {
   "cell_type": "code",
   "execution_count": 11,
   "metadata": {},
   "outputs": [
    {
     "name": "stdout",
     "output_type": "stream",
     "text": [
      "0\n"
     ]
    },
    {
     "data": {
      "text/plain": [
       "1"
      ]
     },
     "execution_count": 11,
     "metadata": {},
     "output_type": "execute_result"
    }
   ],
   "source": [
    "keywordMatch(kw,txt)"
   ]
  }
 ],
 "metadata": {
  "kernelspec": {
   "display_name": "Python 3",
   "language": "python",
   "name": "python3"
  },
  "language_info": {
   "codemirror_mode": {
    "name": "ipython",
    "version": 3
   },
   "file_extension": ".py",
   "mimetype": "text/x-python",
   "name": "python",
   "nbconvert_exporter": "python",
   "pygments_lexer": "ipython3",
   "version": "3.5.6"
  }
 },
 "nbformat": 4,
 "nbformat_minor": 2
}
